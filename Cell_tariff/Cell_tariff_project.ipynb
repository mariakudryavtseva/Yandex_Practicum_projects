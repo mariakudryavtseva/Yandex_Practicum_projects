{
 "cells": [
  {
   "cell_type": "markdown",
   "metadata": {
    "toc": true
   },
   "source": [
    "<h1>Содержание<span class=\"tocSkip\"></span></h1>\n",
    "<div class=\"toc\"><ul class=\"toc-item\"><li><span><a href=\"#Обзор-данных\" data-toc-modified-id=\"Обзор-данных-1\"><span class=\"toc-item-num\">1&nbsp;&nbsp;</span>Обзор данных</a></span></li><li><span><a href=\"#Предобработка-данных\" data-toc-modified-id=\"Предобработка-данных-2\"><span class=\"toc-item-num\">2&nbsp;&nbsp;</span>Предобработка данных</a></span><ul class=\"toc-item\"><li><span><a href=\"#Приведение-типов-данных\" data-toc-modified-id=\"Приведение-типов-данных-2.1\"><span class=\"toc-item-num\">2.1&nbsp;&nbsp;</span>Приведение типов данных</a></span></li><li><span><a href=\"#Удаление-дублирующихся-данных\" data-toc-modified-id=\"Удаление-дублирующихся-данных-2.2\"><span class=\"toc-item-num\">2.2&nbsp;&nbsp;</span>Удаление дублирующихся данных</a></span></li><li><span><a href=\"#Поиск-выбивающихся-значений\" data-toc-modified-id=\"Поиск-выбивающихся-значений-2.3\"><span class=\"toc-item-num\">2.3&nbsp;&nbsp;</span>Поиск выбивающихся значений</a></span></li><li><span><a href=\"#Подсчет-дополнительных-значений-для-каждого-пользователя\" data-toc-modified-id=\"Подсчет-дополнительных-значений-для-каждого-пользователя-2.4\"><span class=\"toc-item-num\">2.4&nbsp;&nbsp;</span>Подсчет дополнительных значений для каждого пользователя</a></span><ul class=\"toc-item\"><li><span><a href=\"#Количество-сделанных-звонков-и-израсходованных-минут-разговора-по-месяцам\" data-toc-modified-id=\"Количество-сделанных-звонков-и-израсходованных-минут-разговора-по-месяцам-2.4.1\"><span class=\"toc-item-num\">2.4.1&nbsp;&nbsp;</span>Количество сделанных звонков и израсходованных минут разговора по месяцам</a></span></li><li><span><a href=\"#Количество-отправленных-сообщений-по-месяцам\" data-toc-modified-id=\"Количество-отправленных-сообщений-по-месяцам-2.4.2\"><span class=\"toc-item-num\">2.4.2&nbsp;&nbsp;</span>Количество отправленных сообщений по месяцам</a></span></li><li><span><a href=\"#Объем-израсходованного-интернет-трафика-по-месяцам\" data-toc-modified-id=\"Объем-израсходованного-интернет-трафика-по-месяцам-2.4.3\"><span class=\"toc-item-num\">2.4.3&nbsp;&nbsp;</span>Объем израсходованного интернет-трафика по месяцам</a></span></li><li><span><a href=\"#Помесячная-выручка-с-каждого-пользователя\" data-toc-modified-id=\"Помесячная-выручка-с-каждого-пользователя-2.4.4\"><span class=\"toc-item-num\">2.4.4&nbsp;&nbsp;</span>Помесячная выручка с каждого пользователя</a></span></li></ul></li></ul></li><li><span><a href=\"#Исследовательский-анализ-данных\" data-toc-modified-id=\"Исследовательский-анализ-данных-3\"><span class=\"toc-item-num\">3&nbsp;&nbsp;</span>Исследовательский анализ данных</a></span><ul class=\"toc-item\"><li><span><a href=\"#Гистограммы-распределений\" data-toc-modified-id=\"Гистограммы-распределений-3.1\"><span class=\"toc-item-num\">3.1&nbsp;&nbsp;</span>Гистограммы распределений</a></span></li><li><span><a href=\"#Подсчет-среднего-значения,-дисперсии-и-стандартного-отклонения\" data-toc-modified-id=\"Подсчет-среднего-значения,-дисперсии-и-стандартного-отклонения-3.2\"><span class=\"toc-item-num\">3.2&nbsp;&nbsp;</span>Подсчет среднего значения, дисперсии и стандартного отклонения</a></span></li></ul></li><li><span><a href=\"#Проверка-гипотез\" data-toc-modified-id=\"Проверка-гипотез-4\"><span class=\"toc-item-num\">4&nbsp;&nbsp;</span>Проверка гипотез</a></span><ul class=\"toc-item\"><li><span><a href=\"#Гипотеза-№-1\" data-toc-modified-id=\"Гипотеза-№-1-4.1\"><span class=\"toc-item-num\">4.1&nbsp;&nbsp;</span>Гипотеза № 1</a></span></li><li><span><a href=\"#Гипотеза-№-2\" data-toc-modified-id=\"Гипотеза-№-2-4.2\"><span class=\"toc-item-num\">4.2&nbsp;&nbsp;</span>Гипотеза № 2</a></span></li></ul></li><li><span><a href=\"#Общий-вывод\" data-toc-modified-id=\"Общий-вывод-5\"><span class=\"toc-item-num\">5&nbsp;&nbsp;</span>Общий вывод</a></span></li></ul></div>"
   ]
  },
  {
   "cell_type": "markdown",
   "metadata": {},
   "source": [
    "# Определение перспективного тарифа для телеком-компании"
   ]
  },
  {
   "cell_type": "markdown",
   "metadata": {},
   "source": [
    "***Тариф «Смарт»***\n",
    "1. Ежемесячная плата: 550 рублей\n",
    "2. Включено 500 минут разговора, 50 сообщений и 15 Гб интернет-трафика\n",
    "3. Стоимость услуг сверх тарифного пакета: 1. минута разговора: 3 рубля («Мегалайн» всегда округляет вверх значения минут и мегабайтов. Если пользователь проговорил всего 1 секунду, в тарифе засчитывается целая минута); 2. сообщение: 3 рубля; 3. 1 Гб интернет-трафика: 200 рублей.\n",
    "\n",
    "***Тариф «Ультра»***\n",
    "1. Ежемесячная плата: 1950 рублей\n",
    "2. Включено 3000 минут разговора, 1000 сообщений и 30 Гб интернет-трафика\n",
    "3. Стоимость услуг сверх тарифного пакета: 1. минута разговора: 1 рубль; 2. сообщение: 1 рубль; 3. 1 Гб интернет-трафика: 150 рублей.\n",
    "\n",
    "Оператор всегда округляет секунды до минут, а мегабайты — до гигабайт. Для веб-трафика отдельные сессии не считаются. Вместо этого общая сумма за месяц округляется в бо́льшую сторону."
   ]
  },
  {
   "cell_type": "markdown",
   "metadata": {},
   "source": [
    "## Обзор данных"
   ]
  },
  {
   "cell_type": "markdown",
   "metadata": {},
   "source": [
    "Импортируем необходимые для работы библиотеки."
   ]
  },
  {
   "cell_type": "code",
   "execution_count": 1,
   "metadata": {},
   "outputs": [],
   "source": [
    "import pandas as pd\n",
    "import seaborn as sns\n",
    "import numpy as np\n",
    "import math\n",
    "from matplotlib import pyplot as plt\n",
    "from scipy import stats as st"
   ]
  },
  {
   "cell_type": "markdown",
   "metadata": {},
   "source": [
    "Откроем файлы с данными и изучим общую информацию."
   ]
  },
  {
   "cell_type": "code",
   "execution_count": 2,
   "metadata": {},
   "outputs": [],
   "source": [
    "# загружаем данные из файлов\n",
    "calls, internet, messages, tariffs, users = (\n",
    "    pd.read_csv('/datasets/calls.csv'),\n",
    "    pd.read_csv('/datasets/internet.csv'),\n",
    "    pd.read_csv('/datasets/messages.csv'),\n",
    "    pd.read_csv('/datasets/tariffs.csv'),\n",
    "    pd.read_csv('/datasets/users.csv')\n",
    ")"
   ]
  },
  {
   "cell_type": "code",
   "execution_count": 3,
   "metadata": {},
   "outputs": [
    {
     "data": {
      "text/html": [
       "<div>\n",
       "<style scoped>\n",
       "    .dataframe tbody tr th:only-of-type {\n",
       "        vertical-align: middle;\n",
       "    }\n",
       "\n",
       "    .dataframe tbody tr th {\n",
       "        vertical-align: top;\n",
       "    }\n",
       "\n",
       "    .dataframe thead th {\n",
       "        text-align: right;\n",
       "    }\n",
       "</style>\n",
       "<table border=\"1\" class=\"dataframe\">\n",
       "  <thead>\n",
       "    <tr style=\"text-align: right;\">\n",
       "      <th></th>\n",
       "      <th>id</th>\n",
       "      <th>call_date</th>\n",
       "      <th>duration</th>\n",
       "      <th>user_id</th>\n",
       "    </tr>\n",
       "  </thead>\n",
       "  <tbody>\n",
       "    <tr>\n",
       "      <td>42910</td>\n",
       "      <td>1107_153</td>\n",
       "      <td>2018-12-12</td>\n",
       "      <td>3.82</td>\n",
       "      <td>1107</td>\n",
       "    </tr>\n",
       "    <tr>\n",
       "      <td>88559</td>\n",
       "      <td>1222_297</td>\n",
       "      <td>2018-12-29</td>\n",
       "      <td>7.31</td>\n",
       "      <td>1222</td>\n",
       "    </tr>\n",
       "    <tr>\n",
       "      <td>134799</td>\n",
       "      <td>1344_616</td>\n",
       "      <td>2018-12-01</td>\n",
       "      <td>6.66</td>\n",
       "      <td>1344</td>\n",
       "    </tr>\n",
       "    <tr>\n",
       "      <td>90430</td>\n",
       "      <td>1225_690</td>\n",
       "      <td>2018-05-08</td>\n",
       "      <td>0.00</td>\n",
       "      <td>1225</td>\n",
       "    </tr>\n",
       "    <tr>\n",
       "      <td>155198</td>\n",
       "      <td>1384_24</td>\n",
       "      <td>2018-06-30</td>\n",
       "      <td>0.72</td>\n",
       "      <td>1384</td>\n",
       "    </tr>\n",
       "  </tbody>\n",
       "</table>\n",
       "</div>"
      ],
      "text/plain": [
       "              id   call_date  duration  user_id\n",
       "42910   1107_153  2018-12-12      3.82     1107\n",
       "88559   1222_297  2018-12-29      7.31     1222\n",
       "134799  1344_616  2018-12-01      6.66     1344\n",
       "90430   1225_690  2018-05-08      0.00     1225\n",
       "155198   1384_24  2018-06-30      0.72     1384"
      ]
     },
     "metadata": {},
     "output_type": "display_data"
    },
    {
     "name": "stdout",
     "output_type": "stream",
     "text": [
      "<class 'pandas.core.frame.DataFrame'>\n",
      "RangeIndex: 202607 entries, 0 to 202606\n",
      "Data columns (total 4 columns):\n",
      "id           202607 non-null object\n",
      "call_date    202607 non-null object\n",
      "duration     202607 non-null float64\n",
      "user_id      202607 non-null int64\n",
      "dtypes: float64(1), int64(1), object(2)\n",
      "memory usage: 6.2+ MB\n"
     ]
    },
    {
     "data": {
      "text/html": [
       "<div>\n",
       "<style scoped>\n",
       "    .dataframe tbody tr th:only-of-type {\n",
       "        vertical-align: middle;\n",
       "    }\n",
       "\n",
       "    .dataframe tbody tr th {\n",
       "        vertical-align: top;\n",
       "    }\n",
       "\n",
       "    .dataframe thead th {\n",
       "        text-align: right;\n",
       "    }\n",
       "</style>\n",
       "<table border=\"1\" class=\"dataframe\">\n",
       "  <thead>\n",
       "    <tr style=\"text-align: right;\">\n",
       "      <th></th>\n",
       "      <th>Unnamed: 0</th>\n",
       "      <th>id</th>\n",
       "      <th>mb_used</th>\n",
       "      <th>session_date</th>\n",
       "      <th>user_id</th>\n",
       "    </tr>\n",
       "  </thead>\n",
       "  <tbody>\n",
       "    <tr>\n",
       "      <td>60307</td>\n",
       "      <td>60307</td>\n",
       "      <td>1204_392</td>\n",
       "      <td>48.11</td>\n",
       "      <td>2018-11-21</td>\n",
       "      <td>1204</td>\n",
       "    </tr>\n",
       "    <tr>\n",
       "      <td>78043</td>\n",
       "      <td>78043</td>\n",
       "      <td>1263_114</td>\n",
       "      <td>242.31</td>\n",
       "      <td>2018-08-23</td>\n",
       "      <td>1263</td>\n",
       "    </tr>\n",
       "    <tr>\n",
       "      <td>143249</td>\n",
       "      <td>143249</td>\n",
       "      <td>1479_324</td>\n",
       "      <td>0.00</td>\n",
       "      <td>2018-08-15</td>\n",
       "      <td>1479</td>\n",
       "    </tr>\n",
       "    <tr>\n",
       "      <td>5673</td>\n",
       "      <td>5673</td>\n",
       "      <td>1017_113</td>\n",
       "      <td>302.42</td>\n",
       "      <td>2018-12-08</td>\n",
       "      <td>1017</td>\n",
       "    </tr>\n",
       "    <tr>\n",
       "      <td>126091</td>\n",
       "      <td>126091</td>\n",
       "      <td>1423_548</td>\n",
       "      <td>693.34</td>\n",
       "      <td>2018-12-01</td>\n",
       "      <td>1423</td>\n",
       "    </tr>\n",
       "  </tbody>\n",
       "</table>\n",
       "</div>"
      ],
      "text/plain": [
       "        Unnamed: 0        id  mb_used session_date  user_id\n",
       "60307        60307  1204_392    48.11   2018-11-21     1204\n",
       "78043        78043  1263_114   242.31   2018-08-23     1263\n",
       "143249      143249  1479_324     0.00   2018-08-15     1479\n",
       "5673          5673  1017_113   302.42   2018-12-08     1017\n",
       "126091      126091  1423_548   693.34   2018-12-01     1423"
      ]
     },
     "metadata": {},
     "output_type": "display_data"
    },
    {
     "name": "stdout",
     "output_type": "stream",
     "text": [
      "<class 'pandas.core.frame.DataFrame'>\n",
      "RangeIndex: 149396 entries, 0 to 149395\n",
      "Data columns (total 5 columns):\n",
      "Unnamed: 0      149396 non-null int64\n",
      "id              149396 non-null object\n",
      "mb_used         149396 non-null float64\n",
      "session_date    149396 non-null object\n",
      "user_id         149396 non-null int64\n",
      "dtypes: float64(1), int64(2), object(2)\n",
      "memory usage: 5.7+ MB\n"
     ]
    },
    {
     "data": {
      "text/html": [
       "<div>\n",
       "<style scoped>\n",
       "    .dataframe tbody tr th:only-of-type {\n",
       "        vertical-align: middle;\n",
       "    }\n",
       "\n",
       "    .dataframe tbody tr th {\n",
       "        vertical-align: top;\n",
       "    }\n",
       "\n",
       "    .dataframe thead th {\n",
       "        text-align: right;\n",
       "    }\n",
       "</style>\n",
       "<table border=\"1\" class=\"dataframe\">\n",
       "  <thead>\n",
       "    <tr style=\"text-align: right;\">\n",
       "      <th></th>\n",
       "      <th>id</th>\n",
       "      <th>message_date</th>\n",
       "      <th>user_id</th>\n",
       "    </tr>\n",
       "  </thead>\n",
       "  <tbody>\n",
       "    <tr>\n",
       "      <td>31854</td>\n",
       "      <td>1142_373</td>\n",
       "      <td>2018-06-07</td>\n",
       "      <td>1142</td>\n",
       "    </tr>\n",
       "    <tr>\n",
       "      <td>101225</td>\n",
       "      <td>1414_169</td>\n",
       "      <td>2018-11-22</td>\n",
       "      <td>1414</td>\n",
       "    </tr>\n",
       "    <tr>\n",
       "      <td>28807</td>\n",
       "      <td>1124_270</td>\n",
       "      <td>2018-12-01</td>\n",
       "      <td>1124</td>\n",
       "    </tr>\n",
       "    <tr>\n",
       "      <td>8731</td>\n",
       "      <td>1034_68</td>\n",
       "      <td>2018-10-26</td>\n",
       "      <td>1034</td>\n",
       "    </tr>\n",
       "    <tr>\n",
       "      <td>10581</td>\n",
       "      <td>1045_160</td>\n",
       "      <td>2018-10-03</td>\n",
       "      <td>1045</td>\n",
       "    </tr>\n",
       "  </tbody>\n",
       "</table>\n",
       "</div>"
      ],
      "text/plain": [
       "              id message_date  user_id\n",
       "31854   1142_373   2018-06-07     1142\n",
       "101225  1414_169   2018-11-22     1414\n",
       "28807   1124_270   2018-12-01     1124\n",
       "8731     1034_68   2018-10-26     1034\n",
       "10581   1045_160   2018-10-03     1045"
      ]
     },
     "metadata": {},
     "output_type": "display_data"
    },
    {
     "name": "stdout",
     "output_type": "stream",
     "text": [
      "<class 'pandas.core.frame.DataFrame'>\n",
      "RangeIndex: 123036 entries, 0 to 123035\n",
      "Data columns (total 3 columns):\n",
      "id              123036 non-null object\n",
      "message_date    123036 non-null object\n",
      "user_id         123036 non-null int64\n",
      "dtypes: int64(1), object(2)\n",
      "memory usage: 2.8+ MB\n"
     ]
    },
    {
     "data": {
      "text/html": [
       "<div>\n",
       "<style scoped>\n",
       "    .dataframe tbody tr th:only-of-type {\n",
       "        vertical-align: middle;\n",
       "    }\n",
       "\n",
       "    .dataframe tbody tr th {\n",
       "        vertical-align: top;\n",
       "    }\n",
       "\n",
       "    .dataframe thead th {\n",
       "        text-align: right;\n",
       "    }\n",
       "</style>\n",
       "<table border=\"1\" class=\"dataframe\">\n",
       "  <thead>\n",
       "    <tr style=\"text-align: right;\">\n",
       "      <th></th>\n",
       "      <th>user_id</th>\n",
       "      <th>age</th>\n",
       "      <th>churn_date</th>\n",
       "      <th>city</th>\n",
       "      <th>first_name</th>\n",
       "      <th>last_name</th>\n",
       "      <th>reg_date</th>\n",
       "      <th>tariff</th>\n",
       "    </tr>\n",
       "  </thead>\n",
       "  <tbody>\n",
       "    <tr>\n",
       "      <td>396</td>\n",
       "      <td>1396</td>\n",
       "      <td>23</td>\n",
       "      <td>NaN</td>\n",
       "      <td>Пенза</td>\n",
       "      <td>Эльга</td>\n",
       "      <td>Савельева</td>\n",
       "      <td>2018-01-12</td>\n",
       "      <td>ultra</td>\n",
       "    </tr>\n",
       "    <tr>\n",
       "      <td>9</td>\n",
       "      <td>1009</td>\n",
       "      <td>24</td>\n",
       "      <td>NaN</td>\n",
       "      <td>Пермь</td>\n",
       "      <td>Василиса</td>\n",
       "      <td>Блинова</td>\n",
       "      <td>2018-03-22</td>\n",
       "      <td>smart</td>\n",
       "    </tr>\n",
       "    <tr>\n",
       "      <td>37</td>\n",
       "      <td>1037</td>\n",
       "      <td>73</td>\n",
       "      <td>NaN</td>\n",
       "      <td>Череповец</td>\n",
       "      <td>Изольда</td>\n",
       "      <td>Архипова</td>\n",
       "      <td>2018-10-13</td>\n",
       "      <td>smart</td>\n",
       "    </tr>\n",
       "    <tr>\n",
       "      <td>226</td>\n",
       "      <td>1226</td>\n",
       "      <td>19</td>\n",
       "      <td>NaN</td>\n",
       "      <td>Новосибирск</td>\n",
       "      <td>Альбин</td>\n",
       "      <td>Бобылёв</td>\n",
       "      <td>2018-06-01</td>\n",
       "      <td>ultra</td>\n",
       "    </tr>\n",
       "    <tr>\n",
       "      <td>290</td>\n",
       "      <td>1290</td>\n",
       "      <td>68</td>\n",
       "      <td>NaN</td>\n",
       "      <td>Нижний Новгород</td>\n",
       "      <td>Арсений</td>\n",
       "      <td>Безруков</td>\n",
       "      <td>2018-05-11</td>\n",
       "      <td>smart</td>\n",
       "    </tr>\n",
       "  </tbody>\n",
       "</table>\n",
       "</div>"
      ],
      "text/plain": [
       "     user_id  age churn_date             city first_name  last_name  \\\n",
       "396     1396   23        NaN            Пенза      Эльга  Савельева   \n",
       "9       1009   24        NaN            Пермь   Василиса    Блинова   \n",
       "37      1037   73        NaN        Череповец    Изольда   Архипова   \n",
       "226     1226   19        NaN      Новосибирск     Альбин    Бобылёв   \n",
       "290     1290   68        NaN  Нижний Новгород    Арсений   Безруков   \n",
       "\n",
       "       reg_date tariff  \n",
       "396  2018-01-12  ultra  \n",
       "9    2018-03-22  smart  \n",
       "37   2018-10-13  smart  \n",
       "226  2018-06-01  ultra  \n",
       "290  2018-05-11  smart  "
      ]
     },
     "metadata": {},
     "output_type": "display_data"
    },
    {
     "name": "stdout",
     "output_type": "stream",
     "text": [
      "<class 'pandas.core.frame.DataFrame'>\n",
      "RangeIndex: 500 entries, 0 to 499\n",
      "Data columns (total 8 columns):\n",
      "user_id       500 non-null int64\n",
      "age           500 non-null int64\n",
      "churn_date    38 non-null object\n",
      "city          500 non-null object\n",
      "first_name    500 non-null object\n",
      "last_name     500 non-null object\n",
      "reg_date      500 non-null object\n",
      "tariff        500 non-null object\n",
      "dtypes: int64(2), object(6)\n",
      "memory usage: 31.4+ KB\n"
     ]
    },
    {
     "data": {
      "text/html": [
       "<div>\n",
       "<style scoped>\n",
       "    .dataframe tbody tr th:only-of-type {\n",
       "        vertical-align: middle;\n",
       "    }\n",
       "\n",
       "    .dataframe tbody tr th {\n",
       "        vertical-align: top;\n",
       "    }\n",
       "\n",
       "    .dataframe thead th {\n",
       "        text-align: right;\n",
       "    }\n",
       "</style>\n",
       "<table border=\"1\" class=\"dataframe\">\n",
       "  <thead>\n",
       "    <tr style=\"text-align: right;\">\n",
       "      <th></th>\n",
       "      <th>messages_included</th>\n",
       "      <th>mb_per_month_included</th>\n",
       "      <th>minutes_included</th>\n",
       "      <th>rub_monthly_fee</th>\n",
       "      <th>rub_per_gb</th>\n",
       "      <th>rub_per_message</th>\n",
       "      <th>rub_per_minute</th>\n",
       "      <th>tariff_name</th>\n",
       "    </tr>\n",
       "  </thead>\n",
       "  <tbody>\n",
       "    <tr>\n",
       "      <td>0</td>\n",
       "      <td>50</td>\n",
       "      <td>15360</td>\n",
       "      <td>500</td>\n",
       "      <td>550</td>\n",
       "      <td>200</td>\n",
       "      <td>3</td>\n",
       "      <td>3</td>\n",
       "      <td>smart</td>\n",
       "    </tr>\n",
       "    <tr>\n",
       "      <td>1</td>\n",
       "      <td>1000</td>\n",
       "      <td>30720</td>\n",
       "      <td>3000</td>\n",
       "      <td>1950</td>\n",
       "      <td>150</td>\n",
       "      <td>1</td>\n",
       "      <td>1</td>\n",
       "      <td>ultra</td>\n",
       "    </tr>\n",
       "  </tbody>\n",
       "</table>\n",
       "</div>"
      ],
      "text/plain": [
       "   messages_included  mb_per_month_included  minutes_included  \\\n",
       "0                 50                  15360               500   \n",
       "1               1000                  30720              3000   \n",
       "\n",
       "   rub_monthly_fee  rub_per_gb  rub_per_message  rub_per_minute tariff_name  \n",
       "0              550         200                3               3       smart  \n",
       "1             1950         150                1               1       ultra  "
      ]
     },
     "metadata": {},
     "output_type": "display_data"
    },
    {
     "name": "stdout",
     "output_type": "stream",
     "text": [
      "<class 'pandas.core.frame.DataFrame'>\n",
      "RangeIndex: 2 entries, 0 to 1\n",
      "Data columns (total 8 columns):\n",
      "messages_included        2 non-null int64\n",
      "mb_per_month_included    2 non-null int64\n",
      "minutes_included         2 non-null int64\n",
      "rub_monthly_fee          2 non-null int64\n",
      "rub_per_gb               2 non-null int64\n",
      "rub_per_message          2 non-null int64\n",
      "rub_per_minute           2 non-null int64\n",
      "tariff_name              2 non-null object\n",
      "dtypes: int64(7), object(1)\n",
      "memory usage: 256.0+ bytes\n"
     ]
    }
   ],
   "source": [
    "# получение 5 случайных строк полученных таблиц\n",
    "# и информации о них\n",
    "for table in [calls, internet, messages, users]:\n",
    "    display(table.sample(5))\n",
    "    table.info()\n",
    "    \n",
    "display(tariffs)\n",
    "tariffs.info()"
   ]
  },
  {
   "cell_type": "markdown",
   "metadata": {},
   "source": [
    "Согласно документации к данным таблица `users` (информация о пользователях) содержит:\n",
    "* `user_id` — уникальный идентификатор пользователя\n",
    "* `first_name` — имя пользователя\n",
    "* `last_name` — фамилия пользователя\n",
    "* `age` — возраст пользователя (годы)\n",
    "* `reg_date` — дата подключения тарифа (день, месяц, год)\n",
    "* `churn_date` — дата прекращения пользования тарифом (если значение пропущено, то тариф ещё действовал на момент выгрузки данных)\n",
    "* `city` — город проживания пользователя\n",
    "* `tarif` — название тарифного плана"
   ]
  },
  {
   "cell_type": "markdown",
   "metadata": {},
   "source": [
    "Таблица `calls` (информация о звонках):\n",
    "* `id` — уникальный номер звонка\n",
    "* `call_date` — дата звонка\n",
    "* `duration` — длительность звонка в минутах\n",
    "* `user_id` — идентификатор пользователя, сделавшего звонок\n",
    "\n",
    "\n",
    "Таблица `messages` (информация о сообщениях):\n",
    "* `id` — уникальный номер сообщения\n",
    "* `message_date` — дата сообщения\n",
    "* `user_id` — идентификатор пользователя, отправившего сообщение\n",
    "\n",
    "\n",
    "Таблица `internet` (информация об интернет-сессиях):\n",
    "* `id` — уникальный номер сессии\n",
    "* `mb_used` — объём потраченного за сессию интернет-трафика (в мегабайтах)\n",
    "* `session_date` — дата интернет-сессии\n",
    "* `user_id` — идентификатор пользователя\n",
    "\n",
    "\n",
    "Таблица `tariffs` (информация о тарифах):\n",
    "* `tariff_name` — название тарифа\n",
    "* `rub_monthly_fee` — ежемесячная абонентская плата в рублях\n",
    "* `minutes_included` — количество минут разговора в месяц, включённых в абонентскую плату\n",
    "* `messages_included` — количество сообщений в месяц, включённых в абонентскую плату\n",
    "* `mb_per_month_included` — объём интернет-трафика, включённого в абонентскую плату (в мегабайтах)\n",
    "* `rub_per_minute` — стоимость минуты разговора сверх тарифного пакета (например, если в тарифе 100 минут разговора в месяц, то со 101 минуты будет взиматься плата)\n",
    "* `rub_per_message` — стоимость отправки сообщения сверх тарифного пакета\n",
    "* `rub_per_gb` — стоимость дополнительного гигабайта интернет-трафика сверх тарифного пакета (1 гигабайт = 1024 мегабайта)"
   ]
  },
  {
   "cell_type": "markdown",
   "metadata": {},
   "source": [
    "Пропущенных значений в таблицах нет (учитываем, что в столбце `churn_date` пропущенные значения означают, что тариф еще действует), но замечаем в датасете `internet` столбец `Unnamed: 0`, дублирующий столбец с индексами. Кроме того, столбцы `reg_data`, `churn_date`, `call_date`, `message_date`, `session_date`, содержащие даты, имеют формат данных `object`, что не позволит работать со значениями столбцов как с датами. Также значения в столбцах `duration` датасета `calls` не учитывают условия, что оператор округляет секунды до минут."
   ]
  },
  {
   "cell_type": "markdown",
   "metadata": {},
   "source": [
    "***Вывод***\n",
    "\n",
    "В процессе обзора полученных данных о 500 пользователях оператора связи \"Мегалайн\" (персональные данные, наименование тарифа, количество совершенных звонков и отправленных сообщений, сведения о сессиях в сети Интернет), было обнаружено, что в таблицах есть нарушение формата значений в столбцах, содержащих даты. Кроме того, в одной из таблиц был замечен дублирующийся столбец. Также мы определили, что значения длительности звонков пользователей не округлены до целых минут бо́льшую сторону в соответствии с условиями оператора. Теперь нам необходимо устранить все недочеты в данных для их более эффективного использования в нашем исследовании."
   ]
  },
  {
   "cell_type": "markdown",
   "metadata": {},
   "source": [
    "## Предобработка данных"
   ]
  },
  {
   "cell_type": "markdown",
   "metadata": {},
   "source": [
    "### Приведение типов данных"
   ]
  },
  {
   "cell_type": "markdown",
   "metadata": {},
   "source": [
    "Приведем значения столбцов наших датасетов, содержащих даты, к формату данных `datetime64`."
   ]
  },
  {
   "cell_type": "code",
   "execution_count": 4,
   "metadata": {},
   "outputs": [
    {
     "name": "stdout",
     "output_type": "stream",
     "text": [
      "<class 'pandas.core.frame.DataFrame'>\n",
      "RangeIndex: 500 entries, 0 to 499\n",
      "Data columns (total 8 columns):\n",
      "user_id       500 non-null int64\n",
      "age           500 non-null int64\n",
      "churn_date    38 non-null datetime64[ns]\n",
      "city          500 non-null object\n",
      "first_name    500 non-null object\n",
      "last_name     500 non-null object\n",
      "reg_date      500 non-null datetime64[ns]\n",
      "tariff        500 non-null object\n",
      "dtypes: datetime64[ns](2), int64(2), object(4)\n",
      "memory usage: 31.4+ KB\n",
      "***\n",
      "<class 'pandas.core.frame.DataFrame'>\n",
      "RangeIndex: 202607 entries, 0 to 202606\n",
      "Data columns (total 4 columns):\n",
      "id           202607 non-null object\n",
      "call_date    202607 non-null datetime64[ns]\n",
      "duration     202607 non-null float64\n",
      "user_id      202607 non-null int64\n",
      "dtypes: datetime64[ns](1), float64(1), int64(1), object(1)\n",
      "memory usage: 6.2+ MB\n",
      "***\n",
      "<class 'pandas.core.frame.DataFrame'>\n",
      "RangeIndex: 123036 entries, 0 to 123035\n",
      "Data columns (total 3 columns):\n",
      "id              123036 non-null object\n",
      "message_date    123036 non-null datetime64[ns]\n",
      "user_id         123036 non-null int64\n",
      "dtypes: datetime64[ns](1), int64(1), object(1)\n",
      "memory usage: 2.8+ MB\n",
      "***\n",
      "<class 'pandas.core.frame.DataFrame'>\n",
      "RangeIndex: 149396 entries, 0 to 149395\n",
      "Data columns (total 5 columns):\n",
      "Unnamed: 0      149396 non-null int64\n",
      "id              149396 non-null object\n",
      "mb_used         149396 non-null float64\n",
      "session_date    149396 non-null datetime64[ns]\n",
      "user_id         149396 non-null int64\n",
      "dtypes: datetime64[ns](1), float64(1), int64(2), object(1)\n",
      "memory usage: 5.7+ MB\n",
      "***\n"
     ]
    }
   ],
   "source": [
    "users['reg_date'] = pd.to_datetime(users['reg_date'])\n",
    "users['churn_date'] = pd.to_datetime(users['churn_date'])\n",
    "calls['call_date'] = pd.to_datetime(calls['call_date'])\n",
    "messages['message_date'] = pd.to_datetime(messages['message_date'])\n",
    "internet['session_date'] = pd.to_datetime(internet['session_date'])\n",
    "\n",
    "# получение информации о таблицах\n",
    "for table in [users, calls, messages, internet]:\n",
    "    table.info()\n",
    "    print('***')"
   ]
  },
  {
   "cell_type": "markdown",
   "metadata": {},
   "source": [
    "Округлим значения столбца `duration` датасета `calls` до минут в бо́льшую сторону и приведем их к формату данных `int64`."
   ]
  },
  {
   "cell_type": "code",
   "execution_count": 5,
   "metadata": {},
   "outputs": [],
   "source": [
    "calls['duration'] = calls['duration'].apply(np.ceil).astype('int64')"
   ]
  },
  {
   "cell_type": "code",
   "execution_count": 6,
   "metadata": {},
   "outputs": [
    {
     "name": "stdout",
     "output_type": "stream",
     "text": [
      "<class 'pandas.core.frame.DataFrame'>\n",
      "RangeIndex: 202607 entries, 0 to 202606\n",
      "Data columns (total 4 columns):\n",
      "id           202607 non-null object\n",
      "call_date    202607 non-null datetime64[ns]\n",
      "duration     202607 non-null int64\n",
      "user_id      202607 non-null int64\n",
      "dtypes: datetime64[ns](1), int64(2), object(1)\n",
      "memory usage: 6.2+ MB\n"
     ]
    }
   ],
   "source": [
    "# проверка изменений в таблице\n",
    "calls.info()"
   ]
  },
  {
   "cell_type": "markdown",
   "metadata": {},
   "source": [
    "### Удаление дублирующихся данных"
   ]
  },
  {
   "cell_type": "markdown",
   "metadata": {},
   "source": [
    "Удалим столбец, дублирующий индексы, из датасета `internet`."
   ]
  },
  {
   "cell_type": "code",
   "execution_count": 7,
   "metadata": {},
   "outputs": [
    {
     "name": "stdout",
     "output_type": "stream",
     "text": [
      "<class 'pandas.core.frame.DataFrame'>\n",
      "RangeIndex: 149396 entries, 0 to 149395\n",
      "Data columns (total 4 columns):\n",
      "id              149396 non-null object\n",
      "mb_used         149396 non-null float64\n",
      "session_date    149396 non-null datetime64[ns]\n",
      "user_id         149396 non-null int64\n",
      "dtypes: datetime64[ns](1), float64(1), int64(1), object(1)\n",
      "memory usage: 4.6+ MB\n"
     ]
    }
   ],
   "source": [
    "internet = internet.drop('Unnamed: 0', 1)\n",
    "# проверка изменений в таблице\n",
    "internet.info()"
   ]
  },
  {
   "cell_type": "markdown",
   "metadata": {},
   "source": [
    "### Поиск выбивающихся значений"
   ]
  },
  {
   "cell_type": "markdown",
   "metadata": {},
   "source": [
    "Проверим числовые данные в таблицах `internet` и `calls` на наличие аномалий и выбивающихся значений."
   ]
  },
  {
   "cell_type": "code",
   "execution_count": 8,
   "metadata": {},
   "outputs": [
    {
     "data": {
      "text/plain": [
       "count    149396.000000\n",
       "mean        370.192426\n",
       "std         278.300951\n",
       "min           0.000000\n",
       "25%         138.187500\n",
       "50%         348.015000\n",
       "75%         559.552500\n",
       "max        1724.830000\n",
       "Name: mb_used, dtype: float64"
      ]
     },
     "execution_count": 8,
     "metadata": {},
     "output_type": "execute_result"
    }
   ],
   "source": [
    "# числовое описание данных для столбца mb_used\n",
    "internet['mb_used'].describe()"
   ]
  },
  {
   "cell_type": "markdown",
   "metadata": {},
   "source": [
    "Определим нормальные значения и выбросы для столбца `mb_used`, построив диаграмму размаха."
   ]
  },
  {
   "cell_type": "code",
   "execution_count": 9,
   "metadata": {},
   "outputs": [
    {
     "data": {
      "image/png": "[encoded data removed]",
      "text/plain": [
       "<Figure size 576x576 with 1 Axes>"
      ]
     },
     "metadata": {
      "needs_background": "light"
     },
     "output_type": "display_data"
    }
   ],
   "source": [
    "# построение диаграммы размаха для значений mb_used\n",
    "internet.boxplot(column='mb_used', grid=True, figsize=(8,8));"
   ]
  },
  {
   "cell_type": "markdown",
   "metadata": {},
   "source": [
    "Здесь мы видим, что средняя сессия пользователя составляла ~300 MB, а основное количество значений лежит до 560 MB. Замечаем также, что часть сессий превышает 1 Gb и максимальная сессия пользователя составила ~ 1700 MB."
   ]
  },
  {
   "cell_type": "code",
   "execution_count": 10,
   "metadata": {},
   "outputs": [
    {
     "data": {
      "text/plain": [
       "count    202607.000000\n",
       "mean          7.158198\n",
       "std           5.959173\n",
       "min           0.000000\n",
       "25%           2.000000\n",
       "50%           6.000000\n",
       "75%          11.000000\n",
       "max          38.000000\n",
       "Name: duration, dtype: float64"
      ]
     },
     "execution_count": 10,
     "metadata": {},
     "output_type": "execute_result"
    }
   ],
   "source": [
    "# числовое описание данных для столбца duration\n",
    "calls['duration'].describe()"
   ]
  },
  {
   "cell_type": "markdown",
   "metadata": {},
   "source": [
    "Построим диаграмму размаха для значений столбца `duration` датасета `calls`."
   ]
  },
  {
   "cell_type": "code",
   "execution_count": 11,
   "metadata": {},
   "outputs": [
    {
     "data": {
      "image/png": "[encoded data removed]",
      "text/plain": [
       "<Figure size 576x576 with 1 Axes>"
      ]
     },
     "metadata": {
      "needs_background": "light"
     },
     "output_type": "display_data"
    }
   ],
   "source": [
    "# построение диаграммы размаха для значений duration\n",
    "calls.boxplot(column='duration', grid=True, figsize=(8,8));"
   ]
  },
  {
   "cell_type": "markdown",
   "metadata": {},
   "source": [
    "По полученным данным можно сделать вывод, что средняя продолжительность разговора пользователя составляла ~ 7 минут, а основная масса звонков не была длиннее 11 минут. Некоторые звонки длились более 25 минут и максимальная длительность составила  ~ 38 минут."
   ]
  },
  {
   "cell_type": "markdown",
   "metadata": {},
   "source": [
    "Таким образом, интернет-сессии и разговоры с выявленными нами объемом и продолжительностью имеют место быть в реальной жизни, поэтому оставим выбивающиеся значения без изменений на данном этапе."
   ]
  },
  {
   "cell_type": "markdown",
   "metadata": {},
   "source": [
    "### Подсчет дополнительных значений для каждого пользователя"
   ]
  },
  {
   "cell_type": "markdown",
   "metadata": {},
   "source": [
    "#### Количество сделанных звонков и израсходованных минут разговора по месяцам"
   ]
  },
  {
   "cell_type": "markdown",
   "metadata": {},
   "source": [
    "Рассчитаем количество сделанных звонков и израсходованных минут разговора для каждого пользователя по месяцам 2018 года. Для начала выделим месяц каждого звонка для каждого абонента."
   ]
  },
  {
   "cell_type": "code",
   "execution_count": 12,
   "metadata": {},
   "outputs": [
    {
     "data": {
      "text/html": [
       "<div>\n",
       "<style scoped>\n",
       "    .dataframe tbody tr th:only-of-type {\n",
       "        vertical-align: middle;\n",
       "    }\n",
       "\n",
       "    .dataframe tbody tr th {\n",
       "        vertical-align: top;\n",
       "    }\n",
       "\n",
       "    .dataframe thead th {\n",
       "        text-align: right;\n",
       "    }\n",
       "</style>\n",
       "<table border=\"1\" class=\"dataframe\">\n",
       "  <thead>\n",
       "    <tr style=\"text-align: right;\">\n",
       "      <th></th>\n",
       "      <th>id</th>\n",
       "      <th>call_date</th>\n",
       "      <th>duration</th>\n",
       "      <th>user_id</th>\n",
       "      <th>month</th>\n",
       "    </tr>\n",
       "  </thead>\n",
       "  <tbody>\n",
       "    <tr>\n",
       "      <td>0</td>\n",
       "      <td>1000_0</td>\n",
       "      <td>2018-07-25</td>\n",
       "      <td>0</td>\n",
       "      <td>1000</td>\n",
       "      <td>July</td>\n",
       "    </tr>\n",
       "    <tr>\n",
       "      <td>1</td>\n",
       "      <td>1000_1</td>\n",
       "      <td>2018-08-17</td>\n",
       "      <td>0</td>\n",
       "      <td>1000</td>\n",
       "      <td>August</td>\n",
       "    </tr>\n",
       "    <tr>\n",
       "      <td>2</td>\n",
       "      <td>1000_2</td>\n",
       "      <td>2018-06-11</td>\n",
       "      <td>3</td>\n",
       "      <td>1000</td>\n",
       "      <td>June</td>\n",
       "    </tr>\n",
       "    <tr>\n",
       "      <td>3</td>\n",
       "      <td>1000_3</td>\n",
       "      <td>2018-09-21</td>\n",
       "      <td>14</td>\n",
       "      <td>1000</td>\n",
       "      <td>September</td>\n",
       "    </tr>\n",
       "    <tr>\n",
       "      <td>4</td>\n",
       "      <td>1000_4</td>\n",
       "      <td>2018-12-15</td>\n",
       "      <td>6</td>\n",
       "      <td>1000</td>\n",
       "      <td>December</td>\n",
       "    </tr>\n",
       "    <tr>\n",
       "      <td>5</td>\n",
       "      <td>1000_5</td>\n",
       "      <td>2018-11-02</td>\n",
       "      <td>0</td>\n",
       "      <td>1000</td>\n",
       "      <td>November</td>\n",
       "    </tr>\n",
       "    <tr>\n",
       "      <td>6</td>\n",
       "      <td>1000_6</td>\n",
       "      <td>2018-10-18</td>\n",
       "      <td>0</td>\n",
       "      <td>1000</td>\n",
       "      <td>October</td>\n",
       "    </tr>\n",
       "    <tr>\n",
       "      <td>7</td>\n",
       "      <td>1000_7</td>\n",
       "      <td>2018-08-22</td>\n",
       "      <td>19</td>\n",
       "      <td>1000</td>\n",
       "      <td>August</td>\n",
       "    </tr>\n",
       "    <tr>\n",
       "      <td>8</td>\n",
       "      <td>1000_8</td>\n",
       "      <td>2018-09-15</td>\n",
       "      <td>19</td>\n",
       "      <td>1000</td>\n",
       "      <td>September</td>\n",
       "    </tr>\n",
       "    <tr>\n",
       "      <td>9</td>\n",
       "      <td>1000_9</td>\n",
       "      <td>2018-08-15</td>\n",
       "      <td>0</td>\n",
       "      <td>1000</td>\n",
       "      <td>August</td>\n",
       "    </tr>\n",
       "  </tbody>\n",
       "</table>\n",
       "</div>"
      ],
      "text/plain": [
       "       id  call_date  duration  user_id      month\n",
       "0  1000_0 2018-07-25         0     1000       July\n",
       "1  1000_1 2018-08-17         0     1000     August\n",
       "2  1000_2 2018-06-11         3     1000       June\n",
       "3  1000_3 2018-09-21        14     1000  September\n",
       "4  1000_4 2018-12-15         6     1000   December\n",
       "5  1000_5 2018-11-02         0     1000   November\n",
       "6  1000_6 2018-10-18         0     1000    October\n",
       "7  1000_7 2018-08-22        19     1000     August\n",
       "8  1000_8 2018-09-15        19     1000  September\n",
       "9  1000_9 2018-08-15         0     1000     August"
      ]
     },
     "execution_count": 12,
     "metadata": {},
     "output_type": "execute_result"
    }
   ],
   "source": [
    "# выделение месяца звонка в столбец month\n",
    "calls['month'] = calls['call_date'].dt.month_name()\n",
    "calls.head(10)"
   ]
  },
  {
   "cell_type": "markdown",
   "metadata": {},
   "source": [
    "Теперь объединим датасет `users`, содержащий информацию о пользователях с датасетом `calls` по столбцу `user_id`."
   ]
  },
  {
   "cell_type": "code",
   "execution_count": 13,
   "metadata": {},
   "outputs": [
    {
     "name": "stdout",
     "output_type": "stream",
     "text": [
      "<class 'pandas.core.frame.DataFrame'>\n",
      "Int64Index: 202615 entries, 0 to 499\n",
      "Data columns (total 12 columns):\n",
      "user_id       202615 non-null int64\n",
      "age           202615 non-null int64\n",
      "churn_date    9921 non-null datetime64[ns]\n",
      "city          202615 non-null object\n",
      "first_name    202615 non-null object\n",
      "last_name     202615 non-null object\n",
      "reg_date      202615 non-null datetime64[ns]\n",
      "tariff        202615 non-null object\n",
      "id            202607 non-null object\n",
      "call_date     202607 non-null datetime64[ns]\n",
      "duration      202607 non-null float64\n",
      "month         202607 non-null object\n",
      "dtypes: datetime64[ns](3), float64(1), int64(2), object(6)\n",
      "memory usage: 20.1+ MB\n"
     ]
    }
   ],
   "source": [
    "# объединение датасетов по столбцу user_id\n",
    "user_call = users.join(calls.set_index('user_id'), on='user_id', how='outer')\n",
    "# получение информации о полученном датасете\n",
    "user_call.info()"
   ]
  },
  {
   "cell_type": "markdown",
   "metadata": {},
   "source": [
    "Здесь можно заметить, что у некоторых пользователей отсутствует информация о звонках. Проверим полученный датасет на пропущенные значения."
   ]
  },
  {
   "cell_type": "code",
   "execution_count": 14,
   "metadata": {},
   "outputs": [
    {
     "data": {
      "text/html": [
       "<div>\n",
       "<style scoped>\n",
       "    .dataframe tbody tr th:only-of-type {\n",
       "        vertical-align: middle;\n",
       "    }\n",
       "\n",
       "    .dataframe tbody tr th {\n",
       "        vertical-align: top;\n",
       "    }\n",
       "\n",
       "    .dataframe thead th {\n",
       "        text-align: right;\n",
       "    }\n",
       "</style>\n",
       "<table border=\"1\" class=\"dataframe\">\n",
       "  <thead>\n",
       "    <tr style=\"text-align: right;\">\n",
       "      <th></th>\n",
       "      <th>user_id</th>\n",
       "      <th>age</th>\n",
       "      <th>churn_date</th>\n",
       "      <th>city</th>\n",
       "      <th>first_name</th>\n",
       "      <th>last_name</th>\n",
       "      <th>reg_date</th>\n",
       "      <th>tariff</th>\n",
       "      <th>id</th>\n",
       "      <th>call_date</th>\n",
       "      <th>duration</th>\n",
       "      <th>month</th>\n",
       "    </tr>\n",
       "  </thead>\n",
       "  <tbody>\n",
       "    <tr>\n",
       "      <td>91</td>\n",
       "      <td>1091</td>\n",
       "      <td>36</td>\n",
       "      <td>NaT</td>\n",
       "      <td>Набережные Челны</td>\n",
       "      <td>Вера</td>\n",
       "      <td>Суслова</td>\n",
       "      <td>2018-05-08</td>\n",
       "      <td>ultra</td>\n",
       "      <td>NaN</td>\n",
       "      <td>NaT</td>\n",
       "      <td>NaN</td>\n",
       "      <td>NaN</td>\n",
       "    </tr>\n",
       "    <tr>\n",
       "      <td>106</td>\n",
       "      <td>1106</td>\n",
       "      <td>67</td>\n",
       "      <td>NaT</td>\n",
       "      <td>Калуга</td>\n",
       "      <td>Исаак</td>\n",
       "      <td>Костин</td>\n",
       "      <td>2018-04-26</td>\n",
       "      <td>ultra</td>\n",
       "      <td>NaN</td>\n",
       "      <td>NaT</td>\n",
       "      <td>NaN</td>\n",
       "      <td>NaN</td>\n",
       "    </tr>\n",
       "    <tr>\n",
       "      <td>128</td>\n",
       "      <td>1128</td>\n",
       "      <td>51</td>\n",
       "      <td>2018-12-23</td>\n",
       "      <td>Волжский</td>\n",
       "      <td>Ксения</td>\n",
       "      <td>Агаева</td>\n",
       "      <td>2018-12-15</td>\n",
       "      <td>ultra</td>\n",
       "      <td>NaN</td>\n",
       "      <td>NaT</td>\n",
       "      <td>NaN</td>\n",
       "      <td>NaN</td>\n",
       "    </tr>\n",
       "    <tr>\n",
       "      <td>231</td>\n",
       "      <td>1231</td>\n",
       "      <td>63</td>\n",
       "      <td>NaT</td>\n",
       "      <td>Чебоксары</td>\n",
       "      <td>Касьян</td>\n",
       "      <td>Авдюков</td>\n",
       "      <td>2018-05-23</td>\n",
       "      <td>ultra</td>\n",
       "      <td>NaN</td>\n",
       "      <td>NaT</td>\n",
       "      <td>NaN</td>\n",
       "      <td>NaN</td>\n",
       "    </tr>\n",
       "    <tr>\n",
       "      <td>328</td>\n",
       "      <td>1328</td>\n",
       "      <td>44</td>\n",
       "      <td>NaT</td>\n",
       "      <td>Мурманск</td>\n",
       "      <td>Рауль</td>\n",
       "      <td>Аркадьев</td>\n",
       "      <td>2018-10-16</td>\n",
       "      <td>ultra</td>\n",
       "      <td>NaN</td>\n",
       "      <td>NaT</td>\n",
       "      <td>NaN</td>\n",
       "      <td>NaN</td>\n",
       "    </tr>\n",
       "    <tr>\n",
       "      <td>371</td>\n",
       "      <td>1371</td>\n",
       "      <td>50</td>\n",
       "      <td>2018-12-30</td>\n",
       "      <td>Омск</td>\n",
       "      <td>Ириней</td>\n",
       "      <td>Трофимов</td>\n",
       "      <td>2018-12-25</td>\n",
       "      <td>smart</td>\n",
       "      <td>NaN</td>\n",
       "      <td>NaT</td>\n",
       "      <td>NaN</td>\n",
       "      <td>NaN</td>\n",
       "    </tr>\n",
       "    <tr>\n",
       "      <td>473</td>\n",
       "      <td>1473</td>\n",
       "      <td>18</td>\n",
       "      <td>NaT</td>\n",
       "      <td>Красноярск</td>\n",
       "      <td>Николай</td>\n",
       "      <td>Лебедев</td>\n",
       "      <td>2018-08-05</td>\n",
       "      <td>ultra</td>\n",
       "      <td>NaN</td>\n",
       "      <td>NaT</td>\n",
       "      <td>NaN</td>\n",
       "      <td>NaN</td>\n",
       "    </tr>\n",
       "    <tr>\n",
       "      <td>489</td>\n",
       "      <td>1489</td>\n",
       "      <td>35</td>\n",
       "      <td>NaT</td>\n",
       "      <td>Санкт-Петербург</td>\n",
       "      <td>Павел</td>\n",
       "      <td>Гончаров</td>\n",
       "      <td>2018-08-15</td>\n",
       "      <td>smart</td>\n",
       "      <td>NaN</td>\n",
       "      <td>NaT</td>\n",
       "      <td>NaN</td>\n",
       "      <td>NaN</td>\n",
       "    </tr>\n",
       "  </tbody>\n",
       "</table>\n",
       "</div>"
      ],
      "text/plain": [
       "     user_id  age churn_date              city first_name last_name  \\\n",
       "91      1091   36        NaT  Набережные Челны       Вера   Суслова   \n",
       "106     1106   67        NaT            Калуга      Исаак    Костин   \n",
       "128     1128   51 2018-12-23          Волжский     Ксения    Агаева   \n",
       "231     1231   63        NaT         Чебоксары     Касьян   Авдюков   \n",
       "328     1328   44        NaT          Мурманск      Рауль  Аркадьев   \n",
       "371     1371   50 2018-12-30              Омск     Ириней  Трофимов   \n",
       "473     1473   18        NaT        Красноярск    Николай   Лебедев   \n",
       "489     1489   35        NaT   Санкт-Петербург      Павел  Гончаров   \n",
       "\n",
       "      reg_date tariff   id call_date  duration month  \n",
       "91  2018-05-08  ultra  NaN       NaT       NaN   NaN  \n",
       "106 2018-04-26  ultra  NaN       NaT       NaN   NaN  \n",
       "128 2018-12-15  ultra  NaN       NaT       NaN   NaN  \n",
       "231 2018-05-23  ultra  NaN       NaT       NaN   NaN  \n",
       "328 2018-10-16  ultra  NaN       NaT       NaN   NaN  \n",
       "371 2018-12-25  smart  NaN       NaT       NaN   NaN  \n",
       "473 2018-08-05  ultra  NaN       NaT       NaN   NaN  \n",
       "489 2018-08-15  smart  NaN       NaT       NaN   NaN  "
      ]
     },
     "metadata": {},
     "output_type": "display_data"
    }
   ],
   "source": [
    "# определение и вывод записей с пропущенными значениями о звонках\n",
    "user_call_isna = user_call.query(\"duration.isnull()\")\n",
    "display(user_call_isna)"
   ]
  },
  {
   "cell_type": "markdown",
   "metadata": {},
   "source": [
    "Были найдены 8 записей с отсутствующей информацией о звонках пользователей. Оставим эти данные и вернемся к ним позднее."
   ]
  },
  {
   "cell_type": "markdown",
   "metadata": {},
   "source": [
    "Теперь мы можем рассчитать количество сделанных звонков и израсходованных минут разговора для каждого пользователя по месяцам."
   ]
  },
  {
   "cell_type": "code",
   "execution_count": 15,
   "metadata": {},
   "outputs": [
    {
     "data": {
      "text/html": [
       "<div>\n",
       "<style scoped>\n",
       "    .dataframe tbody tr th:only-of-type {\n",
       "        vertical-align: middle;\n",
       "    }\n",
       "\n",
       "    .dataframe tbody tr th {\n",
       "        vertical-align: top;\n",
       "    }\n",
       "\n",
       "    .dataframe thead th {\n",
       "        text-align: right;\n",
       "    }\n",
       "</style>\n",
       "<table border=\"1\" class=\"dataframe\">\n",
       "  <thead>\n",
       "    <tr style=\"text-align: right;\">\n",
       "      <th></th>\n",
       "      <th></th>\n",
       "      <th>calls_count</th>\n",
       "      <th>sum_duration</th>\n",
       "    </tr>\n",
       "    <tr>\n",
       "      <th>user_id</th>\n",
       "      <th>month</th>\n",
       "      <th></th>\n",
       "      <th></th>\n",
       "    </tr>\n",
       "  </thead>\n",
       "  <tbody>\n",
       "    <tr>\n",
       "      <td rowspan=\"8\" valign=\"top\">1000</td>\n",
       "      <td>August</td>\n",
       "      <td>52</td>\n",
       "      <td>408.0</td>\n",
       "    </tr>\n",
       "    <tr>\n",
       "      <td>December</td>\n",
       "      <td>46</td>\n",
       "      <td>333.0</td>\n",
       "    </tr>\n",
       "    <tr>\n",
       "      <td>July</td>\n",
       "      <td>47</td>\n",
       "      <td>340.0</td>\n",
       "    </tr>\n",
       "    <tr>\n",
       "      <td>June</td>\n",
       "      <td>43</td>\n",
       "      <td>172.0</td>\n",
       "    </tr>\n",
       "    <tr>\n",
       "      <td>May</td>\n",
       "      <td>22</td>\n",
       "      <td>159.0</td>\n",
       "    </tr>\n",
       "    <tr>\n",
       "      <td>November</td>\n",
       "      <td>43</td>\n",
       "      <td>338.0</td>\n",
       "    </tr>\n",
       "    <tr>\n",
       "      <td>October</td>\n",
       "      <td>57</td>\n",
       "      <td>350.0</td>\n",
       "    </tr>\n",
       "    <tr>\n",
       "      <td>September</td>\n",
       "      <td>58</td>\n",
       "      <td>466.0</td>\n",
       "    </tr>\n",
       "    <tr>\n",
       "      <td rowspan=\"2\" valign=\"top\">1001</td>\n",
       "      <td>December</td>\n",
       "      <td>63</td>\n",
       "      <td>414.0</td>\n",
       "    </tr>\n",
       "    <tr>\n",
       "      <td>November</td>\n",
       "      <td>59</td>\n",
       "      <td>430.0</td>\n",
       "    </tr>\n",
       "  </tbody>\n",
       "</table>\n",
       "</div>"
      ],
      "text/plain": [
       "                   calls_count  sum_duration\n",
       "user_id month                               \n",
       "1000    August              52         408.0\n",
       "        December            46         333.0\n",
       "        July                47         340.0\n",
       "        June                43         172.0\n",
       "        May                 22         159.0\n",
       "        November            43         338.0\n",
       "        October             57         350.0\n",
       "        September           58         466.0\n",
       "1001    December            63         414.0\n",
       "        November            59         430.0"
      ]
     },
     "execution_count": 15,
     "metadata": {},
     "output_type": "execute_result"
    }
   ],
   "source": [
    "# группируем данные по user_id и month,\n",
    "# вычисляем число звонков и их продолжительность\n",
    "user_call = user_call.groupby(['user_id', 'month']).agg({\n",
    "                'id': 'count', \n",
    "                'duration': 'sum'}).rename(columns={'id': 'calls_count', 'duration': 'sum_duration'})\n",
    "user_call.head(10)"
   ]
  },
  {
   "cell_type": "markdown",
   "metadata": {},
   "source": [
    "#### Количество отправленных сообщений по месяцам"
   ]
  },
  {
   "cell_type": "markdown",
   "metadata": {},
   "source": [
    "Здесь рассчитаем количество отправленных сообщений для каждого пользователя по месяцам. Аналогично выделим месяц каждого сообщения для каждого абонента."
   ]
  },
  {
   "cell_type": "code",
   "execution_count": 16,
   "metadata": {},
   "outputs": [
    {
     "data": {
      "text/html": [
       "<div>\n",
       "<style scoped>\n",
       "    .dataframe tbody tr th:only-of-type {\n",
       "        vertical-align: middle;\n",
       "    }\n",
       "\n",
       "    .dataframe tbody tr th {\n",
       "        vertical-align: top;\n",
       "    }\n",
       "\n",
       "    .dataframe thead th {\n",
       "        text-align: right;\n",
       "    }\n",
       "</style>\n",
       "<table border=\"1\" class=\"dataframe\">\n",
       "  <thead>\n",
       "    <tr style=\"text-align: right;\">\n",
       "      <th></th>\n",
       "      <th>id</th>\n",
       "      <th>message_date</th>\n",
       "      <th>user_id</th>\n",
       "      <th>month</th>\n",
       "    </tr>\n",
       "  </thead>\n",
       "  <tbody>\n",
       "    <tr>\n",
       "      <td>0</td>\n",
       "      <td>1000_0</td>\n",
       "      <td>2018-06-27</td>\n",
       "      <td>1000</td>\n",
       "      <td>June</td>\n",
       "    </tr>\n",
       "    <tr>\n",
       "      <td>1</td>\n",
       "      <td>1000_1</td>\n",
       "      <td>2018-10-08</td>\n",
       "      <td>1000</td>\n",
       "      <td>October</td>\n",
       "    </tr>\n",
       "    <tr>\n",
       "      <td>2</td>\n",
       "      <td>1000_2</td>\n",
       "      <td>2018-08-04</td>\n",
       "      <td>1000</td>\n",
       "      <td>August</td>\n",
       "    </tr>\n",
       "    <tr>\n",
       "      <td>3</td>\n",
       "      <td>1000_3</td>\n",
       "      <td>2018-06-16</td>\n",
       "      <td>1000</td>\n",
       "      <td>June</td>\n",
       "    </tr>\n",
       "    <tr>\n",
       "      <td>4</td>\n",
       "      <td>1000_4</td>\n",
       "      <td>2018-12-05</td>\n",
       "      <td>1000</td>\n",
       "      <td>December</td>\n",
       "    </tr>\n",
       "    <tr>\n",
       "      <td>5</td>\n",
       "      <td>1000_5</td>\n",
       "      <td>2018-06-20</td>\n",
       "      <td>1000</td>\n",
       "      <td>June</td>\n",
       "    </tr>\n",
       "    <tr>\n",
       "      <td>6</td>\n",
       "      <td>1000_6</td>\n",
       "      <td>2018-11-19</td>\n",
       "      <td>1000</td>\n",
       "      <td>November</td>\n",
       "    </tr>\n",
       "    <tr>\n",
       "      <td>7</td>\n",
       "      <td>1000_7</td>\n",
       "      <td>2018-10-29</td>\n",
       "      <td>1000</td>\n",
       "      <td>October</td>\n",
       "    </tr>\n",
       "    <tr>\n",
       "      <td>8</td>\n",
       "      <td>1000_8</td>\n",
       "      <td>2018-06-25</td>\n",
       "      <td>1000</td>\n",
       "      <td>June</td>\n",
       "    </tr>\n",
       "    <tr>\n",
       "      <td>9</td>\n",
       "      <td>1000_9</td>\n",
       "      <td>2018-12-18</td>\n",
       "      <td>1000</td>\n",
       "      <td>December</td>\n",
       "    </tr>\n",
       "  </tbody>\n",
       "</table>\n",
       "</div>"
      ],
      "text/plain": [
       "       id message_date  user_id     month\n",
       "0  1000_0   2018-06-27     1000      June\n",
       "1  1000_1   2018-10-08     1000   October\n",
       "2  1000_2   2018-08-04     1000    August\n",
       "3  1000_3   2018-06-16     1000      June\n",
       "4  1000_4   2018-12-05     1000  December\n",
       "5  1000_5   2018-06-20     1000      June\n",
       "6  1000_6   2018-11-19     1000  November\n",
       "7  1000_7   2018-10-29     1000   October\n",
       "8  1000_8   2018-06-25     1000      June\n",
       "9  1000_9   2018-12-18     1000  December"
      ]
     },
     "execution_count": 16,
     "metadata": {},
     "output_type": "execute_result"
    }
   ],
   "source": [
    "# выделение месяца сообщения в столбец month\n",
    "messages['month'] = messages['message_date'].dt.month_name()\n",
    "messages.head(10)"
   ]
  },
  {
   "cell_type": "markdown",
   "metadata": {},
   "source": [
    "Объединим датасет `users`, содержащий информацию о пользователях с датасетом `messages` по столбцу `user_id`."
   ]
  },
  {
   "cell_type": "code",
   "execution_count": 17,
   "metadata": {},
   "outputs": [
    {
     "name": "stdout",
     "output_type": "stream",
     "text": [
      "<class 'pandas.core.frame.DataFrame'>\n",
      "Int64Index: 123110 entries, 0 to 499\n",
      "Data columns (total 11 columns):\n",
      "user_id         123110 non-null int64\n",
      "age             123110 non-null int64\n",
      "churn_date      5348 non-null datetime64[ns]\n",
      "city            123110 non-null object\n",
      "first_name      123110 non-null object\n",
      "last_name       123110 non-null object\n",
      "reg_date        123110 non-null datetime64[ns]\n",
      "tariff          123110 non-null object\n",
      "id              123036 non-null object\n",
      "message_date    123036 non-null datetime64[ns]\n",
      "month           123036 non-null object\n",
      "dtypes: datetime64[ns](3), int64(2), object(6)\n",
      "memory usage: 11.3+ MB\n"
     ]
    }
   ],
   "source": [
    "# объединение датасетов по столбцу user_id\n",
    "user_message = users.join(messages.set_index('user_id'), on='user_id', how='outer')\n",
    "# получение информации о полученном датасете\n",
    "user_message.info()"
   ]
  },
  {
   "cell_type": "markdown",
   "metadata": {},
   "source": [
    "Опять замечаем, что у некоторых пользователей отсутствует информация о сообщениях. Проверим полученный датасет на пропущенные значения."
   ]
  },
  {
   "cell_type": "code",
   "execution_count": 18,
   "metadata": {},
   "outputs": [
    {
     "data": {
      "text/html": [
       "<div>\n",
       "<style scoped>\n",
       "    .dataframe tbody tr th:only-of-type {\n",
       "        vertical-align: middle;\n",
       "    }\n",
       "\n",
       "    .dataframe tbody tr th {\n",
       "        vertical-align: top;\n",
       "    }\n",
       "\n",
       "    .dataframe thead th {\n",
       "        text-align: right;\n",
       "    }\n",
       "</style>\n",
       "<table border=\"1\" class=\"dataframe\">\n",
       "  <thead>\n",
       "    <tr style=\"text-align: right;\">\n",
       "      <th></th>\n",
       "      <th>user_id</th>\n",
       "      <th>age</th>\n",
       "      <th>churn_date</th>\n",
       "      <th>city</th>\n",
       "      <th>first_name</th>\n",
       "      <th>last_name</th>\n",
       "      <th>reg_date</th>\n",
       "      <th>tariff</th>\n",
       "      <th>id</th>\n",
       "      <th>message_date</th>\n",
       "      <th>month</th>\n",
       "    </tr>\n",
       "  </thead>\n",
       "  <tbody>\n",
       "    <tr>\n",
       "      <td>1</td>\n",
       "      <td>1001</td>\n",
       "      <td>41</td>\n",
       "      <td>NaT</td>\n",
       "      <td>Москва</td>\n",
       "      <td>Иван</td>\n",
       "      <td>Ежов</td>\n",
       "      <td>2018-11-01</td>\n",
       "      <td>smart</td>\n",
       "      <td>NaN</td>\n",
       "      <td>NaT</td>\n",
       "      <td>NaN</td>\n",
       "    </tr>\n",
       "    <tr>\n",
       "      <td>6</td>\n",
       "      <td>1006</td>\n",
       "      <td>21</td>\n",
       "      <td>NaT</td>\n",
       "      <td>Ульяновск</td>\n",
       "      <td>Леонид</td>\n",
       "      <td>Ермолаев</td>\n",
       "      <td>2018-02-26</td>\n",
       "      <td>smart</td>\n",
       "      <td>NaN</td>\n",
       "      <td>NaT</td>\n",
       "      <td>NaN</td>\n",
       "    </tr>\n",
       "    <tr>\n",
       "      <td>10</td>\n",
       "      <td>1010</td>\n",
       "      <td>26</td>\n",
       "      <td>NaT</td>\n",
       "      <td>Тюмень</td>\n",
       "      <td>Эдуард</td>\n",
       "      <td>Кононов</td>\n",
       "      <td>2018-08-05</td>\n",
       "      <td>smart</td>\n",
       "      <td>NaN</td>\n",
       "      <td>NaT</td>\n",
       "      <td>NaN</td>\n",
       "    </tr>\n",
       "    <tr>\n",
       "      <td>17</td>\n",
       "      <td>1017</td>\n",
       "      <td>73</td>\n",
       "      <td>NaT</td>\n",
       "      <td>Краснодар</td>\n",
       "      <td>Мария</td>\n",
       "      <td>Аленникова</td>\n",
       "      <td>2018-05-22</td>\n",
       "      <td>smart</td>\n",
       "      <td>NaN</td>\n",
       "      <td>NaT</td>\n",
       "      <td>NaN</td>\n",
       "    </tr>\n",
       "    <tr>\n",
       "      <td>24</td>\n",
       "      <td>1024</td>\n",
       "      <td>73</td>\n",
       "      <td>NaT</td>\n",
       "      <td>Санкт-Петербург</td>\n",
       "      <td>Иулиан</td>\n",
       "      <td>Антипов</td>\n",
       "      <td>2018-10-31</td>\n",
       "      <td>ultra</td>\n",
       "      <td>NaN</td>\n",
       "      <td>NaT</td>\n",
       "      <td>NaN</td>\n",
       "    </tr>\n",
       "  </tbody>\n",
       "</table>\n",
       "</div>"
      ],
      "text/plain": [
       "    user_id  age churn_date             city first_name   last_name  \\\n",
       "1      1001   41        NaT           Москва       Иван        Ежов   \n",
       "6      1006   21        NaT        Ульяновск     Леонид    Ермолаев   \n",
       "10     1010   26        NaT           Тюмень     Эдуард     Кононов   \n",
       "17     1017   73        NaT        Краснодар      Мария  Аленникова   \n",
       "24     1024   73        NaT  Санкт-Петербург     Иулиан     Антипов   \n",
       "\n",
       "     reg_date tariff   id message_date month  \n",
       "1  2018-11-01  smart  NaN          NaT   NaN  \n",
       "6  2018-02-26  smart  NaN          NaT   NaN  \n",
       "10 2018-08-05  smart  NaN          NaT   NaN  \n",
       "17 2018-05-22  smart  NaN          NaT   NaN  \n",
       "24 2018-10-31  ultra  NaN          NaT   NaN  "
      ]
     },
     "execution_count": 18,
     "metadata": {},
     "output_type": "execute_result"
    }
   ],
   "source": [
    "# определение и вывод записей с пропущенными значениями о сообщениях\n",
    "user_message_isna = user_message.query(\"id.isnull()\")\n",
    "user_message_isna.head()"
   ]
  },
  {
   "cell_type": "code",
   "execution_count": 19,
   "metadata": {},
   "outputs": [
    {
     "name": "stdout",
     "output_type": "stream",
     "text": [
      "<class 'pandas.core.frame.DataFrame'>\n",
      "Int64Index: 74 entries, 1 to 494\n",
      "Data columns (total 11 columns):\n",
      "user_id         74 non-null int64\n",
      "age             74 non-null int64\n",
      "churn_date      9 non-null datetime64[ns]\n",
      "city            74 non-null object\n",
      "first_name      74 non-null object\n",
      "last_name       74 non-null object\n",
      "reg_date        74 non-null datetime64[ns]\n",
      "tariff          74 non-null object\n",
      "id              0 non-null object\n",
      "message_date    0 non-null datetime64[ns]\n",
      "month           0 non-null object\n",
      "dtypes: datetime64[ns](3), int64(2), object(6)\n",
      "memory usage: 6.9+ KB\n"
     ]
    }
   ],
   "source": [
    "# получение информации о датасете\n",
    "user_message_isna.info()"
   ]
  },
  {
   "cell_type": "markdown",
   "metadata": {},
   "source": [
    "Мы нашли 74 записи с пропущенными данными о сообщениях. Также оставим эти записи и вернемся к ним ниже."
   ]
  },
  {
   "cell_type": "markdown",
   "metadata": {},
   "source": [
    "Теперь мы можем рассчитать количество отправленных сообщений каждого пользователя по месяцам."
   ]
  },
  {
   "cell_type": "code",
   "execution_count": 20,
   "metadata": {},
   "outputs": [
    {
     "data": {
      "text/html": [
       "<div>\n",
       "<style scoped>\n",
       "    .dataframe tbody tr th:only-of-type {\n",
       "        vertical-align: middle;\n",
       "    }\n",
       "\n",
       "    .dataframe tbody tr th {\n",
       "        vertical-align: top;\n",
       "    }\n",
       "\n",
       "    .dataframe thead th {\n",
       "        text-align: right;\n",
       "    }\n",
       "</style>\n",
       "<table border=\"1\" class=\"dataframe\">\n",
       "  <thead>\n",
       "    <tr style=\"text-align: right;\">\n",
       "      <th></th>\n",
       "      <th></th>\n",
       "      <th>messages_count</th>\n",
       "    </tr>\n",
       "    <tr>\n",
       "      <th>user_id</th>\n",
       "      <th>month</th>\n",
       "      <th></th>\n",
       "    </tr>\n",
       "  </thead>\n",
       "  <tbody>\n",
       "    <tr>\n",
       "      <td rowspan=\"8\" valign=\"top\">1000</td>\n",
       "      <td>August</td>\n",
       "      <td>81</td>\n",
       "    </tr>\n",
       "    <tr>\n",
       "      <td>December</td>\n",
       "      <td>70</td>\n",
       "    </tr>\n",
       "    <tr>\n",
       "      <td>July</td>\n",
       "      <td>75</td>\n",
       "    </tr>\n",
       "    <tr>\n",
       "      <td>June</td>\n",
       "      <td>60</td>\n",
       "    </tr>\n",
       "    <tr>\n",
       "      <td>May</td>\n",
       "      <td>22</td>\n",
       "    </tr>\n",
       "    <tr>\n",
       "      <td>November</td>\n",
       "      <td>58</td>\n",
       "    </tr>\n",
       "    <tr>\n",
       "      <td>October</td>\n",
       "      <td>73</td>\n",
       "    </tr>\n",
       "    <tr>\n",
       "      <td>September</td>\n",
       "      <td>57</td>\n",
       "    </tr>\n",
       "    <tr>\n",
       "      <td rowspan=\"2\" valign=\"top\">1002</td>\n",
       "      <td>August</td>\n",
       "      <td>13</td>\n",
       "    </tr>\n",
       "    <tr>\n",
       "      <td>December</td>\n",
       "      <td>12</td>\n",
       "    </tr>\n",
       "  </tbody>\n",
       "</table>\n",
       "</div>"
      ],
      "text/plain": [
       "                   messages_count\n",
       "user_id month                    \n",
       "1000    August                 81\n",
       "        December               70\n",
       "        July                   75\n",
       "        June                   60\n",
       "        May                    22\n",
       "        November               58\n",
       "        October                73\n",
       "        September              57\n",
       "1002    August                 13\n",
       "        December               12"
      ]
     },
     "execution_count": 20,
     "metadata": {},
     "output_type": "execute_result"
    }
   ],
   "source": [
    "# группируем данные по user_id и month,\n",
    "# вычисляем общее число сообщений\n",
    "user_message = user_message.groupby(['user_id', 'month']).agg({\n",
    "                'id': 'count'}).rename(columns={'id': 'messages_count'})\n",
    "user_message.head(10)"
   ]
  },
  {
   "cell_type": "markdown",
   "metadata": {},
   "source": [
    "#### Объем израсходованного интернет-трафика по месяцам"
   ]
  },
  {
   "cell_type": "markdown",
   "metadata": {},
   "source": [
    "Теперь рассчитаем объем израсходованного интернет-трафика для каждого пользователя по месяцам. Аналогично выделим месяц каждой сессии для абонентов."
   ]
  },
  {
   "cell_type": "code",
   "execution_count": 21,
   "metadata": {},
   "outputs": [
    {
     "data": {
      "text/html": [
       "<div>\n",
       "<style scoped>\n",
       "    .dataframe tbody tr th:only-of-type {\n",
       "        vertical-align: middle;\n",
       "    }\n",
       "\n",
       "    .dataframe tbody tr th {\n",
       "        vertical-align: top;\n",
       "    }\n",
       "\n",
       "    .dataframe thead th {\n",
       "        text-align: right;\n",
       "    }\n",
       "</style>\n",
       "<table border=\"1\" class=\"dataframe\">\n",
       "  <thead>\n",
       "    <tr style=\"text-align: right;\">\n",
       "      <th></th>\n",
       "      <th>id</th>\n",
       "      <th>mb_used</th>\n",
       "      <th>session_date</th>\n",
       "      <th>user_id</th>\n",
       "      <th>month</th>\n",
       "    </tr>\n",
       "  </thead>\n",
       "  <tbody>\n",
       "    <tr>\n",
       "      <td>0</td>\n",
       "      <td>1000_0</td>\n",
       "      <td>112.95</td>\n",
       "      <td>2018-11-25</td>\n",
       "      <td>1000</td>\n",
       "      <td>November</td>\n",
       "    </tr>\n",
       "    <tr>\n",
       "      <td>1</td>\n",
       "      <td>1000_1</td>\n",
       "      <td>1052.81</td>\n",
       "      <td>2018-09-07</td>\n",
       "      <td>1000</td>\n",
       "      <td>September</td>\n",
       "    </tr>\n",
       "    <tr>\n",
       "      <td>2</td>\n",
       "      <td>1000_2</td>\n",
       "      <td>1197.26</td>\n",
       "      <td>2018-06-25</td>\n",
       "      <td>1000</td>\n",
       "      <td>June</td>\n",
       "    </tr>\n",
       "    <tr>\n",
       "      <td>3</td>\n",
       "      <td>1000_3</td>\n",
       "      <td>550.27</td>\n",
       "      <td>2018-08-22</td>\n",
       "      <td>1000</td>\n",
       "      <td>August</td>\n",
       "    </tr>\n",
       "    <tr>\n",
       "      <td>4</td>\n",
       "      <td>1000_4</td>\n",
       "      <td>302.56</td>\n",
       "      <td>2018-09-24</td>\n",
       "      <td>1000</td>\n",
       "      <td>September</td>\n",
       "    </tr>\n",
       "    <tr>\n",
       "      <td>5</td>\n",
       "      <td>1000_5</td>\n",
       "      <td>399.97</td>\n",
       "      <td>2018-10-02</td>\n",
       "      <td>1000</td>\n",
       "      <td>October</td>\n",
       "    </tr>\n",
       "    <tr>\n",
       "      <td>6</td>\n",
       "      <td>1000_6</td>\n",
       "      <td>540.08</td>\n",
       "      <td>2018-09-07</td>\n",
       "      <td>1000</td>\n",
       "      <td>September</td>\n",
       "    </tr>\n",
       "    <tr>\n",
       "      <td>7</td>\n",
       "      <td>1000_7</td>\n",
       "      <td>415.70</td>\n",
       "      <td>2018-07-11</td>\n",
       "      <td>1000</td>\n",
       "      <td>July</td>\n",
       "    </tr>\n",
       "    <tr>\n",
       "      <td>8</td>\n",
       "      <td>1000_8</td>\n",
       "      <td>505.40</td>\n",
       "      <td>2018-10-08</td>\n",
       "      <td>1000</td>\n",
       "      <td>October</td>\n",
       "    </tr>\n",
       "    <tr>\n",
       "      <td>9</td>\n",
       "      <td>1000_9</td>\n",
       "      <td>345.54</td>\n",
       "      <td>2018-09-03</td>\n",
       "      <td>1000</td>\n",
       "      <td>September</td>\n",
       "    </tr>\n",
       "  </tbody>\n",
       "</table>\n",
       "</div>"
      ],
      "text/plain": [
       "       id  mb_used session_date  user_id      month\n",
       "0  1000_0   112.95   2018-11-25     1000   November\n",
       "1  1000_1  1052.81   2018-09-07     1000  September\n",
       "2  1000_2  1197.26   2018-06-25     1000       June\n",
       "3  1000_3   550.27   2018-08-22     1000     August\n",
       "4  1000_4   302.56   2018-09-24     1000  September\n",
       "5  1000_5   399.97   2018-10-02     1000    October\n",
       "6  1000_6   540.08   2018-09-07     1000  September\n",
       "7  1000_7   415.70   2018-07-11     1000       July\n",
       "8  1000_8   505.40   2018-10-08     1000    October\n",
       "9  1000_9   345.54   2018-09-03     1000  September"
      ]
     },
     "execution_count": 21,
     "metadata": {},
     "output_type": "execute_result"
    }
   ],
   "source": [
    "# выделение месяца сессии в столбец month\n",
    "internet['month'] = internet['session_date'].dt.month_name()\n",
    "internet.head(10)"
   ]
  },
  {
   "cell_type": "markdown",
   "metadata": {},
   "source": [
    "Объединим датасет `users`, содержащий информацию о пользователях с датасетом `internet` по столбцу `user_id`."
   ]
  },
  {
   "cell_type": "code",
   "execution_count": 22,
   "metadata": {},
   "outputs": [
    {
     "name": "stdout",
     "output_type": "stream",
     "text": [
      "<class 'pandas.core.frame.DataFrame'>\n",
      "Int64Index: 149399 entries, 0 to 499\n",
      "Data columns (total 12 columns):\n",
      "user_id         149399 non-null int64\n",
      "age             149399 non-null int64\n",
      "churn_date      7750 non-null datetime64[ns]\n",
      "city            149399 non-null object\n",
      "first_name      149399 non-null object\n",
      "last_name       149399 non-null object\n",
      "reg_date        149399 non-null datetime64[ns]\n",
      "tariff          149399 non-null object\n",
      "id              149396 non-null object\n",
      "mb_used         149396 non-null float64\n",
      "session_date    149396 non-null datetime64[ns]\n",
      "month           149396 non-null object\n",
      "dtypes: datetime64[ns](3), float64(1), int64(2), object(6)\n",
      "memory usage: 14.8+ MB\n"
     ]
    }
   ],
   "source": [
    "# объединение датасетов по столбцу user_id\n",
    "user_session = users.join(internet.set_index('user_id'), on='user_id', how='outer')\n",
    "# получение информации о полученном датасете\n",
    "user_session.info()"
   ]
  },
  {
   "cell_type": "markdown",
   "metadata": {},
   "source": [
    "И здесь проверим полученный датасет на пропущенные значения."
   ]
  },
  {
   "cell_type": "code",
   "execution_count": 23,
   "metadata": {},
   "outputs": [
    {
     "data": {
      "text/html": [
       "<div>\n",
       "<style scoped>\n",
       "    .dataframe tbody tr th:only-of-type {\n",
       "        vertical-align: middle;\n",
       "    }\n",
       "\n",
       "    .dataframe tbody tr th {\n",
       "        vertical-align: top;\n",
       "    }\n",
       "\n",
       "    .dataframe thead th {\n",
       "        text-align: right;\n",
       "    }\n",
       "</style>\n",
       "<table border=\"1\" class=\"dataframe\">\n",
       "  <thead>\n",
       "    <tr style=\"text-align: right;\">\n",
       "      <th></th>\n",
       "      <th>user_id</th>\n",
       "      <th>age</th>\n",
       "      <th>churn_date</th>\n",
       "      <th>city</th>\n",
       "      <th>first_name</th>\n",
       "      <th>last_name</th>\n",
       "      <th>reg_date</th>\n",
       "      <th>tariff</th>\n",
       "      <th>id</th>\n",
       "      <th>mb_used</th>\n",
       "      <th>session_date</th>\n",
       "      <th>month</th>\n",
       "    </tr>\n",
       "  </thead>\n",
       "  <tbody>\n",
       "    <tr>\n",
       "      <td>128</td>\n",
       "      <td>1128</td>\n",
       "      <td>51</td>\n",
       "      <td>2018-12-23</td>\n",
       "      <td>Волжский</td>\n",
       "      <td>Ксения</td>\n",
       "      <td>Агаева</td>\n",
       "      <td>2018-12-15</td>\n",
       "      <td>ultra</td>\n",
       "      <td>NaN</td>\n",
       "      <td>NaN</td>\n",
       "      <td>NaT</td>\n",
       "      <td>NaN</td>\n",
       "    </tr>\n",
       "    <tr>\n",
       "      <td>273</td>\n",
       "      <td>1273</td>\n",
       "      <td>46</td>\n",
       "      <td>NaT</td>\n",
       "      <td>Курган</td>\n",
       "      <td>Рэм</td>\n",
       "      <td>Корнилов</td>\n",
       "      <td>2018-05-15</td>\n",
       "      <td>ultra</td>\n",
       "      <td>NaN</td>\n",
       "      <td>NaN</td>\n",
       "      <td>NaT</td>\n",
       "      <td>NaN</td>\n",
       "    </tr>\n",
       "    <tr>\n",
       "      <td>371</td>\n",
       "      <td>1371</td>\n",
       "      <td>50</td>\n",
       "      <td>2018-12-30</td>\n",
       "      <td>Омск</td>\n",
       "      <td>Ириней</td>\n",
       "      <td>Трофимов</td>\n",
       "      <td>2018-12-25</td>\n",
       "      <td>smart</td>\n",
       "      <td>NaN</td>\n",
       "      <td>NaN</td>\n",
       "      <td>NaT</td>\n",
       "      <td>NaN</td>\n",
       "    </tr>\n",
       "  </tbody>\n",
       "</table>\n",
       "</div>"
      ],
      "text/plain": [
       "     user_id  age churn_date      city first_name last_name   reg_date tariff  \\\n",
       "128     1128   51 2018-12-23  Волжский     Ксения    Агаева 2018-12-15  ultra   \n",
       "273     1273   46        NaT    Курган        Рэм  Корнилов 2018-05-15  ultra   \n",
       "371     1371   50 2018-12-30      Омск     Ириней  Трофимов 2018-12-25  smart   \n",
       "\n",
       "      id  mb_used session_date month  \n",
       "128  NaN      NaN          NaT   NaN  \n",
       "273  NaN      NaN          NaT   NaN  \n",
       "371  NaN      NaN          NaT   NaN  "
      ]
     },
     "metadata": {},
     "output_type": "display_data"
    }
   ],
   "source": [
    "# определение и вывод записей с пропущенными значениями о сессиях\n",
    "user_session_isna = user_session.query(\"id.isnull()\")\n",
    "display(user_session_isna)"
   ]
  },
  {
   "cell_type": "markdown",
   "metadata": {},
   "source": [
    "Найденные значения учтем и вернемся к ним так же позже."
   ]
  },
  {
   "cell_type": "markdown",
   "metadata": {},
   "source": [
    "Рассчитаем объем израсходованного интернет-трафика для каждого пользователя по месяцам. "
   ]
  },
  {
   "cell_type": "code",
   "execution_count": 24,
   "metadata": {},
   "outputs": [
    {
     "data": {
      "text/html": [
       "<div>\n",
       "<style scoped>\n",
       "    .dataframe tbody tr th:only-of-type {\n",
       "        vertical-align: middle;\n",
       "    }\n",
       "\n",
       "    .dataframe tbody tr th {\n",
       "        vertical-align: top;\n",
       "    }\n",
       "\n",
       "    .dataframe thead th {\n",
       "        text-align: right;\n",
       "    }\n",
       "</style>\n",
       "<table border=\"1\" class=\"dataframe\">\n",
       "  <thead>\n",
       "    <tr style=\"text-align: right;\">\n",
       "      <th></th>\n",
       "      <th></th>\n",
       "      <th>mb_sum</th>\n",
       "    </tr>\n",
       "    <tr>\n",
       "      <th>user_id</th>\n",
       "      <th>month</th>\n",
       "      <th></th>\n",
       "    </tr>\n",
       "  </thead>\n",
       "  <tbody>\n",
       "    <tr>\n",
       "      <td rowspan=\"8\" valign=\"top\">1000</td>\n",
       "      <td>August</td>\n",
       "      <td>14055.93</td>\n",
       "    </tr>\n",
       "    <tr>\n",
       "      <td>December</td>\n",
       "      <td>9817.61</td>\n",
       "    </tr>\n",
       "    <tr>\n",
       "      <td>July</td>\n",
       "      <td>14003.64</td>\n",
       "    </tr>\n",
       "    <tr>\n",
       "      <td>June</td>\n",
       "      <td>23233.77</td>\n",
       "    </tr>\n",
       "    <tr>\n",
       "      <td>May</td>\n",
       "      <td>2253.49</td>\n",
       "    </tr>\n",
       "    <tr>\n",
       "      <td>November</td>\n",
       "      <td>14756.47</td>\n",
       "    </tr>\n",
       "    <tr>\n",
       "      <td>October</td>\n",
       "      <td>14702.49</td>\n",
       "    </tr>\n",
       "    <tr>\n",
       "      <td>September</td>\n",
       "      <td>14568.91</td>\n",
       "    </tr>\n",
       "    <tr>\n",
       "      <td rowspan=\"2\" valign=\"top\">1001</td>\n",
       "      <td>December</td>\n",
       "      <td>14036.66</td>\n",
       "    </tr>\n",
       "    <tr>\n",
       "      <td>November</td>\n",
       "      <td>18429.34</td>\n",
       "    </tr>\n",
       "  </tbody>\n",
       "</table>\n",
       "</div>"
      ],
      "text/plain": [
       "                     mb_sum\n",
       "user_id month              \n",
       "1000    August     14055.93\n",
       "        December    9817.61\n",
       "        July       14003.64\n",
       "        June       23233.77\n",
       "        May         2253.49\n",
       "        November   14756.47\n",
       "        October    14702.49\n",
       "        September  14568.91\n",
       "1001    December   14036.66\n",
       "        November   18429.34"
      ]
     },
     "execution_count": 24,
     "metadata": {},
     "output_type": "execute_result"
    }
   ],
   "source": [
    "# группируем данные по user_id и month,\n",
    "# вычисляем общий объем сессий в Mb\n",
    "user_session = user_session.groupby(['user_id', 'month']).agg({\n",
    "                'mb_used': 'sum'}).rename(columns={'mb_used': 'mb_sum'})\n",
    "user_session.head(10)"
   ]
  },
  {
   "cell_type": "markdown",
   "metadata": {},
   "source": [
    "Поскольку по условию оператора для веб-трафика отдельные сессии не считаются, а вместо этого общая сумма за месяц округляется в бо́льшую сторону, округлим полученные значения объема сессий пользователей и преобразуем их в гигабайты."
   ]
  },
  {
   "cell_type": "code",
   "execution_count": 25,
   "metadata": {},
   "outputs": [
    {
     "data": {
      "text/html": [
       "<div>\n",
       "<style scoped>\n",
       "    .dataframe tbody tr th:only-of-type {\n",
       "        vertical-align: middle;\n",
       "    }\n",
       "\n",
       "    .dataframe tbody tr th {\n",
       "        vertical-align: top;\n",
       "    }\n",
       "\n",
       "    .dataframe thead th {\n",
       "        text-align: right;\n",
       "    }\n",
       "</style>\n",
       "<table border=\"1\" class=\"dataframe\">\n",
       "  <thead>\n",
       "    <tr style=\"text-align: right;\">\n",
       "      <th></th>\n",
       "      <th></th>\n",
       "      <th>gb_sum</th>\n",
       "    </tr>\n",
       "    <tr>\n",
       "      <th>user_id</th>\n",
       "      <th>month</th>\n",
       "      <th></th>\n",
       "    </tr>\n",
       "  </thead>\n",
       "  <tbody>\n",
       "    <tr>\n",
       "      <td rowspan=\"8\" valign=\"top\">1000</td>\n",
       "      <td>August</td>\n",
       "      <td>14.0</td>\n",
       "    </tr>\n",
       "    <tr>\n",
       "      <td>December</td>\n",
       "      <td>10.0</td>\n",
       "    </tr>\n",
       "    <tr>\n",
       "      <td>July</td>\n",
       "      <td>14.0</td>\n",
       "    </tr>\n",
       "    <tr>\n",
       "      <td>June</td>\n",
       "      <td>23.0</td>\n",
       "    </tr>\n",
       "    <tr>\n",
       "      <td>May</td>\n",
       "      <td>3.0</td>\n",
       "    </tr>\n",
       "    <tr>\n",
       "      <td>November</td>\n",
       "      <td>15.0</td>\n",
       "    </tr>\n",
       "    <tr>\n",
       "      <td>October</td>\n",
       "      <td>15.0</td>\n",
       "    </tr>\n",
       "    <tr>\n",
       "      <td>September</td>\n",
       "      <td>15.0</td>\n",
       "    </tr>\n",
       "    <tr>\n",
       "      <td rowspan=\"2\" valign=\"top\">1001</td>\n",
       "      <td>December</td>\n",
       "      <td>14.0</td>\n",
       "    </tr>\n",
       "    <tr>\n",
       "      <td>November</td>\n",
       "      <td>18.0</td>\n",
       "    </tr>\n",
       "  </tbody>\n",
       "</table>\n",
       "</div>"
      ],
      "text/plain": [
       "                   gb_sum\n",
       "user_id month            \n",
       "1000    August       14.0\n",
       "        December     10.0\n",
       "        July         14.0\n",
       "        June         23.0\n",
       "        May           3.0\n",
       "        November     15.0\n",
       "        October      15.0\n",
       "        September    15.0\n",
       "1001    December     14.0\n",
       "        November     18.0"
      ]
     },
     "execution_count": 25,
     "metadata": {},
     "output_type": "execute_result"
    }
   ],
   "source": [
    "# округление значений в бо́льшую сторону и преобразование в Gb\n",
    "user_session['mb_sum'] = user_session['mb_sum'].apply(lambda x: np.ceil(x/1024))\n",
    "# переименование столбца \n",
    "user_session = user_session.rename(columns={'mb_sum': 'gb_sum'})\n",
    "user_session.head(10)"
   ]
  },
  {
   "cell_type": "markdown",
   "metadata": {},
   "source": [
    "#### Помесячная выручка с каждого пользователя \n",
    "\n",
    "Рассчитаем помесячную выручку с каждого пользователя, согласно его тарифу. Для этого учтем суммарное количество звонков, сообщений и интернет-трафика пользователя, стоимость тарифного плана и дополнительных минут, сообщений и интернет-сессий."
   ]
  },
  {
   "cell_type": "code",
   "execution_count": 26,
   "metadata": {},
   "outputs": [
    {
     "data": {
      "text/html": [
       "<div>\n",
       "<style scoped>\n",
       "    .dataframe tbody tr th:only-of-type {\n",
       "        vertical-align: middle;\n",
       "    }\n",
       "\n",
       "    .dataframe tbody tr th {\n",
       "        vertical-align: top;\n",
       "    }\n",
       "\n",
       "    .dataframe thead th {\n",
       "        text-align: right;\n",
       "    }\n",
       "</style>\n",
       "<table border=\"1\" class=\"dataframe\">\n",
       "  <thead>\n",
       "    <tr style=\"text-align: right;\">\n",
       "      <th></th>\n",
       "      <th>messages_included</th>\n",
       "      <th>mb_per_month_included</th>\n",
       "      <th>minutes_included</th>\n",
       "      <th>rub_monthly_fee</th>\n",
       "      <th>rub_per_gb</th>\n",
       "      <th>rub_per_message</th>\n",
       "      <th>rub_per_minute</th>\n",
       "      <th>tariff_name</th>\n",
       "    </tr>\n",
       "  </thead>\n",
       "  <tbody>\n",
       "    <tr>\n",
       "      <td>0</td>\n",
       "      <td>50</td>\n",
       "      <td>15360</td>\n",
       "      <td>500</td>\n",
       "      <td>550</td>\n",
       "      <td>200</td>\n",
       "      <td>3</td>\n",
       "      <td>3</td>\n",
       "      <td>smart</td>\n",
       "    </tr>\n",
       "    <tr>\n",
       "      <td>1</td>\n",
       "      <td>1000</td>\n",
       "      <td>30720</td>\n",
       "      <td>3000</td>\n",
       "      <td>1950</td>\n",
       "      <td>150</td>\n",
       "      <td>1</td>\n",
       "      <td>1</td>\n",
       "      <td>ultra</td>\n",
       "    </tr>\n",
       "  </tbody>\n",
       "</table>\n",
       "</div>"
      ],
      "text/plain": [
       "   messages_included  mb_per_month_included  minutes_included  \\\n",
       "0                 50                  15360               500   \n",
       "1               1000                  30720              3000   \n",
       "\n",
       "   rub_monthly_fee  rub_per_gb  rub_per_message  rub_per_minute tariff_name  \n",
       "0              550         200                3               3       smart  \n",
       "1             1950         150                1               1       ultra  "
      ]
     },
     "metadata": {},
     "output_type": "display_data"
    }
   ],
   "source": [
    "# вывод датасета с информацией о тарифах\n",
    "display(tariffs)"
   ]
  },
  {
   "cell_type": "markdown",
   "metadata": {},
   "source": [
    "Поскольку выше мы преобразовали значения общего объема сессий пользователей в гигабайты, то произведем данное преобразование и со значением объёмов интернет-трафика, включённого в абонентскую плату тарифов датасета `tariffs`."
   ]
  },
  {
   "cell_type": "code",
   "execution_count": 27,
   "metadata": {},
   "outputs": [
    {
     "data": {
      "text/html": [
       "<div>\n",
       "<style scoped>\n",
       "    .dataframe tbody tr th:only-of-type {\n",
       "        vertical-align: middle;\n",
       "    }\n",
       "\n",
       "    .dataframe tbody tr th {\n",
       "        vertical-align: top;\n",
       "    }\n",
       "\n",
       "    .dataframe thead th {\n",
       "        text-align: right;\n",
       "    }\n",
       "</style>\n",
       "<table border=\"1\" class=\"dataframe\">\n",
       "  <thead>\n",
       "    <tr style=\"text-align: right;\">\n",
       "      <th></th>\n",
       "      <th>messages_included</th>\n",
       "      <th>gb_per_month_included</th>\n",
       "      <th>minutes_included</th>\n",
       "      <th>rub_monthly_fee</th>\n",
       "      <th>rub_per_gb</th>\n",
       "      <th>rub_per_message</th>\n",
       "      <th>rub_per_minute</th>\n",
       "      <th>tariff</th>\n",
       "    </tr>\n",
       "  </thead>\n",
       "  <tbody>\n",
       "    <tr>\n",
       "      <td>0</td>\n",
       "      <td>50</td>\n",
       "      <td>15.0</td>\n",
       "      <td>500</td>\n",
       "      <td>550</td>\n",
       "      <td>200</td>\n",
       "      <td>3</td>\n",
       "      <td>3</td>\n",
       "      <td>smart</td>\n",
       "    </tr>\n",
       "    <tr>\n",
       "      <td>1</td>\n",
       "      <td>1000</td>\n",
       "      <td>30.0</td>\n",
       "      <td>3000</td>\n",
       "      <td>1950</td>\n",
       "      <td>150</td>\n",
       "      <td>1</td>\n",
       "      <td>1</td>\n",
       "      <td>ultra</td>\n",
       "    </tr>\n",
       "  </tbody>\n",
       "</table>\n",
       "</div>"
      ],
      "text/plain": [
       "   messages_included  gb_per_month_included  minutes_included  \\\n",
       "0                 50                   15.0               500   \n",
       "1               1000                   30.0              3000   \n",
       "\n",
       "   rub_monthly_fee  rub_per_gb  rub_per_message  rub_per_minute tariff  \n",
       "0              550         200                3               3  smart  \n",
       "1             1950         150                1               1  ultra  "
      ]
     },
     "metadata": {},
     "output_type": "display_data"
    }
   ],
   "source": [
    "# преобразование mb_per_month_included в Gb\n",
    "tariffs['mb_per_month_included'] = tariffs['mb_per_month_included'].apply(lambda x: np.ceil(x/1024))\n",
    "# переименование столбца\n",
    "tariffs = tariffs.rename(columns={'mb_per_month_included': \n",
    "                                  'gb_per_month_included', 'tariff_name': 'tariff'})\n",
    "display(tariffs)"
   ]
  },
  {
   "cell_type": "markdown",
   "metadata": {},
   "source": [
    "Теперь объединим таблицы `user_call` и `user_message`, полученные выше для подсчета общего числа звонков, их продолжительности и числа сообщений пользователей по месяцам."
   ]
  },
  {
   "cell_type": "code",
   "execution_count": 28,
   "metadata": {},
   "outputs": [
    {
     "data": {
      "text/html": [
       "<div>\n",
       "<style scoped>\n",
       "    .dataframe tbody tr th:only-of-type {\n",
       "        vertical-align: middle;\n",
       "    }\n",
       "\n",
       "    .dataframe tbody tr th {\n",
       "        vertical-align: top;\n",
       "    }\n",
       "\n",
       "    .dataframe thead th {\n",
       "        text-align: right;\n",
       "    }\n",
       "</style>\n",
       "<table border=\"1\" class=\"dataframe\">\n",
       "  <thead>\n",
       "    <tr style=\"text-align: right;\">\n",
       "      <th></th>\n",
       "      <th></th>\n",
       "      <th>calls_count</th>\n",
       "      <th>sum_duration</th>\n",
       "      <th>messages_count</th>\n",
       "      <th>gb_sum</th>\n",
       "    </tr>\n",
       "    <tr>\n",
       "      <th>user_id</th>\n",
       "      <th>month</th>\n",
       "      <th></th>\n",
       "      <th></th>\n",
       "      <th></th>\n",
       "      <th></th>\n",
       "    </tr>\n",
       "  </thead>\n",
       "  <tbody>\n",
       "    <tr>\n",
       "      <td rowspan=\"8\" valign=\"top\">1000</td>\n",
       "      <td>August</td>\n",
       "      <td>52.0</td>\n",
       "      <td>408.0</td>\n",
       "      <td>81.0</td>\n",
       "      <td>14.0</td>\n",
       "    </tr>\n",
       "    <tr>\n",
       "      <td>December</td>\n",
       "      <td>46.0</td>\n",
       "      <td>333.0</td>\n",
       "      <td>70.0</td>\n",
       "      <td>10.0</td>\n",
       "    </tr>\n",
       "    <tr>\n",
       "      <td>July</td>\n",
       "      <td>47.0</td>\n",
       "      <td>340.0</td>\n",
       "      <td>75.0</td>\n",
       "      <td>14.0</td>\n",
       "    </tr>\n",
       "    <tr>\n",
       "      <td>June</td>\n",
       "      <td>43.0</td>\n",
       "      <td>172.0</td>\n",
       "      <td>60.0</td>\n",
       "      <td>23.0</td>\n",
       "    </tr>\n",
       "    <tr>\n",
       "      <td>May</td>\n",
       "      <td>22.0</td>\n",
       "      <td>159.0</td>\n",
       "      <td>22.0</td>\n",
       "      <td>3.0</td>\n",
       "    </tr>\n",
       "    <tr>\n",
       "      <td>November</td>\n",
       "      <td>43.0</td>\n",
       "      <td>338.0</td>\n",
       "      <td>58.0</td>\n",
       "      <td>15.0</td>\n",
       "    </tr>\n",
       "    <tr>\n",
       "      <td>October</td>\n",
       "      <td>57.0</td>\n",
       "      <td>350.0</td>\n",
       "      <td>73.0</td>\n",
       "      <td>15.0</td>\n",
       "    </tr>\n",
       "    <tr>\n",
       "      <td>September</td>\n",
       "      <td>58.0</td>\n",
       "      <td>466.0</td>\n",
       "      <td>57.0</td>\n",
       "      <td>15.0</td>\n",
       "    </tr>\n",
       "    <tr>\n",
       "      <td rowspan=\"2\" valign=\"top\">1001</td>\n",
       "      <td>December</td>\n",
       "      <td>63.0</td>\n",
       "      <td>414.0</td>\n",
       "      <td>NaN</td>\n",
       "      <td>14.0</td>\n",
       "    </tr>\n",
       "    <tr>\n",
       "      <td>November</td>\n",
       "      <td>59.0</td>\n",
       "      <td>430.0</td>\n",
       "      <td>NaN</td>\n",
       "      <td>18.0</td>\n",
       "    </tr>\n",
       "  </tbody>\n",
       "</table>\n",
       "</div>"
      ],
      "text/plain": [
       "                   calls_count  sum_duration  messages_count  gb_sum\n",
       "user_id month                                                       \n",
       "1000    August            52.0         408.0            81.0    14.0\n",
       "        December          46.0         333.0            70.0    10.0\n",
       "        July              47.0         340.0            75.0    14.0\n",
       "        June              43.0         172.0            60.0    23.0\n",
       "        May               22.0         159.0            22.0     3.0\n",
       "        November          43.0         338.0            58.0    15.0\n",
       "        October           57.0         350.0            73.0    15.0\n",
       "        September         58.0         466.0            57.0    15.0\n",
       "1001    December          63.0         414.0             NaN    14.0\n",
       "        November          59.0         430.0             NaN    18.0"
      ]
     },
     "execution_count": 28,
     "metadata": {},
     "output_type": "execute_result"
    }
   ],
   "source": [
    "# объединение датасетов по столбцу user_id и month\n",
    "user_total = user_call.join(user_message, on=['user_id', 'month'], how='outer')\n",
    "user_total = user_total.join(user_session, on=['user_id', 'month'], how='outer')\n",
    "user_total.head(10)"
   ]
  },
  {
   "cell_type": "markdown",
   "metadata": {},
   "source": [
    "Полученную таблицу `user_total` объединим с датасетом `users`, чтобы определить тариф для каждого пользователя."
   ]
  },
  {
   "cell_type": "code",
   "execution_count": 29,
   "metadata": {
    "scrolled": false
   },
   "outputs": [
    {
     "data": {
      "text/html": [
       "<div>\n",
       "<style scoped>\n",
       "    .dataframe tbody tr th:only-of-type {\n",
       "        vertical-align: middle;\n",
       "    }\n",
       "\n",
       "    .dataframe tbody tr th {\n",
       "        vertical-align: top;\n",
       "    }\n",
       "\n",
       "    .dataframe thead th {\n",
       "        text-align: right;\n",
       "    }\n",
       "</style>\n",
       "<table border=\"1\" class=\"dataframe\">\n",
       "  <thead>\n",
       "    <tr style=\"text-align: right;\">\n",
       "      <th></th>\n",
       "      <th>user_id</th>\n",
       "      <th>month</th>\n",
       "      <th>calls_count</th>\n",
       "      <th>sum_duration</th>\n",
       "      <th>messages_count</th>\n",
       "      <th>gb_sum</th>\n",
       "      <th>age</th>\n",
       "      <th>churn_date</th>\n",
       "      <th>city</th>\n",
       "      <th>first_name</th>\n",
       "      <th>last_name</th>\n",
       "      <th>reg_date</th>\n",
       "      <th>tariff</th>\n",
       "    </tr>\n",
       "  </thead>\n",
       "  <tbody>\n",
       "    <tr>\n",
       "      <td>0.0</td>\n",
       "      <td>1000</td>\n",
       "      <td>August</td>\n",
       "      <td>52.0</td>\n",
       "      <td>408.0</td>\n",
       "      <td>81.0</td>\n",
       "      <td>14.0</td>\n",
       "      <td>52</td>\n",
       "      <td>NaT</td>\n",
       "      <td>Краснодар</td>\n",
       "      <td>Рафаил</td>\n",
       "      <td>Верещагин</td>\n",
       "      <td>2018-05-25</td>\n",
       "      <td>ultra</td>\n",
       "    </tr>\n",
       "    <tr>\n",
       "      <td>1.0</td>\n",
       "      <td>1000</td>\n",
       "      <td>December</td>\n",
       "      <td>46.0</td>\n",
       "      <td>333.0</td>\n",
       "      <td>70.0</td>\n",
       "      <td>10.0</td>\n",
       "      <td>52</td>\n",
       "      <td>NaT</td>\n",
       "      <td>Краснодар</td>\n",
       "      <td>Рафаил</td>\n",
       "      <td>Верещагин</td>\n",
       "      <td>2018-05-25</td>\n",
       "      <td>ultra</td>\n",
       "    </tr>\n",
       "    <tr>\n",
       "      <td>2.0</td>\n",
       "      <td>1000</td>\n",
       "      <td>July</td>\n",
       "      <td>47.0</td>\n",
       "      <td>340.0</td>\n",
       "      <td>75.0</td>\n",
       "      <td>14.0</td>\n",
       "      <td>52</td>\n",
       "      <td>NaT</td>\n",
       "      <td>Краснодар</td>\n",
       "      <td>Рафаил</td>\n",
       "      <td>Верещагин</td>\n",
       "      <td>2018-05-25</td>\n",
       "      <td>ultra</td>\n",
       "    </tr>\n",
       "    <tr>\n",
       "      <td>3.0</td>\n",
       "      <td>1000</td>\n",
       "      <td>June</td>\n",
       "      <td>43.0</td>\n",
       "      <td>172.0</td>\n",
       "      <td>60.0</td>\n",
       "      <td>23.0</td>\n",
       "      <td>52</td>\n",
       "      <td>NaT</td>\n",
       "      <td>Краснодар</td>\n",
       "      <td>Рафаил</td>\n",
       "      <td>Верещагин</td>\n",
       "      <td>2018-05-25</td>\n",
       "      <td>ultra</td>\n",
       "    </tr>\n",
       "    <tr>\n",
       "      <td>4.0</td>\n",
       "      <td>1000</td>\n",
       "      <td>May</td>\n",
       "      <td>22.0</td>\n",
       "      <td>159.0</td>\n",
       "      <td>22.0</td>\n",
       "      <td>3.0</td>\n",
       "      <td>52</td>\n",
       "      <td>NaT</td>\n",
       "      <td>Краснодар</td>\n",
       "      <td>Рафаил</td>\n",
       "      <td>Верещагин</td>\n",
       "      <td>2018-05-25</td>\n",
       "      <td>ultra</td>\n",
       "    </tr>\n",
       "  </tbody>\n",
       "</table>\n",
       "</div>"
      ],
      "text/plain": [
       "     user_id     month  calls_count  sum_duration  messages_count  gb_sum  \\\n",
       "0.0     1000    August         52.0         408.0            81.0    14.0   \n",
       "1.0     1000  December         46.0         333.0            70.0    10.0   \n",
       "2.0     1000      July         47.0         340.0            75.0    14.0   \n",
       "3.0     1000      June         43.0         172.0            60.0    23.0   \n",
       "4.0     1000       May         22.0         159.0            22.0     3.0   \n",
       "\n",
       "     age churn_date       city first_name  last_name   reg_date tariff  \n",
       "0.0   52        NaT  Краснодар     Рафаил  Верещагин 2018-05-25  ultra  \n",
       "1.0   52        NaT  Краснодар     Рафаил  Верещагин 2018-05-25  ultra  \n",
       "2.0   52        NaT  Краснодар     Рафаил  Верещагин 2018-05-25  ultra  \n",
       "3.0   52        NaT  Краснодар     Рафаил  Верещагин 2018-05-25  ultra  \n",
       "4.0   52        NaT  Краснодар     Рафаил  Верещагин 2018-05-25  ultra  "
      ]
     },
     "execution_count": 29,
     "metadata": {},
     "output_type": "execute_result"
    }
   ],
   "source": [
    "# объединение датасетов по столбцу user_id,\n",
    "# выделение user_id в отдельный столбец\n",
    "user_with_tariff = user_total.reset_index().join(users.set_index('user_id'), on=['user_id'], how='outer')\n",
    "user_with_tariff.head()"
   ]
  },
  {
   "cell_type": "markdown",
   "metadata": {},
   "source": [
    "Дополним полученный датасет `user_with_tariff` характеристиками каждого тарифа из датасета `tariffs` для дальнейших расчетов."
   ]
  },
  {
   "cell_type": "code",
   "execution_count": 30,
   "metadata": {},
   "outputs": [
    {
     "data": {
      "text/html": [
       "<div>\n",
       "<style scoped>\n",
       "    .dataframe tbody tr th:only-of-type {\n",
       "        vertical-align: middle;\n",
       "    }\n",
       "\n",
       "    .dataframe tbody tr th {\n",
       "        vertical-align: top;\n",
       "    }\n",
       "\n",
       "    .dataframe thead th {\n",
       "        text-align: right;\n",
       "    }\n",
       "</style>\n",
       "<table border=\"1\" class=\"dataframe\">\n",
       "  <thead>\n",
       "    <tr style=\"text-align: right;\">\n",
       "      <th></th>\n",
       "      <th>user_id</th>\n",
       "      <th>month</th>\n",
       "      <th>calls_count</th>\n",
       "      <th>sum_duration</th>\n",
       "      <th>messages_count</th>\n",
       "      <th>gb_sum</th>\n",
       "      <th>age</th>\n",
       "      <th>churn_date</th>\n",
       "      <th>city</th>\n",
       "      <th>first_name</th>\n",
       "      <th>last_name</th>\n",
       "      <th>reg_date</th>\n",
       "      <th>tariff</th>\n",
       "      <th>messages_included</th>\n",
       "      <th>gb_per_month_included</th>\n",
       "      <th>minutes_included</th>\n",
       "      <th>rub_monthly_fee</th>\n",
       "      <th>rub_per_gb</th>\n",
       "      <th>rub_per_message</th>\n",
       "      <th>rub_per_minute</th>\n",
       "    </tr>\n",
       "  </thead>\n",
       "  <tbody>\n",
       "    <tr>\n",
       "      <td>0</td>\n",
       "      <td>1000</td>\n",
       "      <td>August</td>\n",
       "      <td>52.0</td>\n",
       "      <td>408.0</td>\n",
       "      <td>81.0</td>\n",
       "      <td>14.0</td>\n",
       "      <td>52</td>\n",
       "      <td>NaT</td>\n",
       "      <td>Краснодар</td>\n",
       "      <td>Рафаил</td>\n",
       "      <td>Верещагин</td>\n",
       "      <td>2018-05-25</td>\n",
       "      <td>ultra</td>\n",
       "      <td>1000</td>\n",
       "      <td>30.0</td>\n",
       "      <td>3000</td>\n",
       "      <td>1950</td>\n",
       "      <td>150</td>\n",
       "      <td>1</td>\n",
       "      <td>1</td>\n",
       "    </tr>\n",
       "    <tr>\n",
       "      <td>1</td>\n",
       "      <td>1000</td>\n",
       "      <td>December</td>\n",
       "      <td>46.0</td>\n",
       "      <td>333.0</td>\n",
       "      <td>70.0</td>\n",
       "      <td>10.0</td>\n",
       "      <td>52</td>\n",
       "      <td>NaT</td>\n",
       "      <td>Краснодар</td>\n",
       "      <td>Рафаил</td>\n",
       "      <td>Верещагин</td>\n",
       "      <td>2018-05-25</td>\n",
       "      <td>ultra</td>\n",
       "      <td>1000</td>\n",
       "      <td>30.0</td>\n",
       "      <td>3000</td>\n",
       "      <td>1950</td>\n",
       "      <td>150</td>\n",
       "      <td>1</td>\n",
       "      <td>1</td>\n",
       "    </tr>\n",
       "    <tr>\n",
       "      <td>2</td>\n",
       "      <td>1000</td>\n",
       "      <td>July</td>\n",
       "      <td>47.0</td>\n",
       "      <td>340.0</td>\n",
       "      <td>75.0</td>\n",
       "      <td>14.0</td>\n",
       "      <td>52</td>\n",
       "      <td>NaT</td>\n",
       "      <td>Краснодар</td>\n",
       "      <td>Рафаил</td>\n",
       "      <td>Верещагин</td>\n",
       "      <td>2018-05-25</td>\n",
       "      <td>ultra</td>\n",
       "      <td>1000</td>\n",
       "      <td>30.0</td>\n",
       "      <td>3000</td>\n",
       "      <td>1950</td>\n",
       "      <td>150</td>\n",
       "      <td>1</td>\n",
       "      <td>1</td>\n",
       "    </tr>\n",
       "    <tr>\n",
       "      <td>3</td>\n",
       "      <td>1000</td>\n",
       "      <td>June</td>\n",
       "      <td>43.0</td>\n",
       "      <td>172.0</td>\n",
       "      <td>60.0</td>\n",
       "      <td>23.0</td>\n",
       "      <td>52</td>\n",
       "      <td>NaT</td>\n",
       "      <td>Краснодар</td>\n",
       "      <td>Рафаил</td>\n",
       "      <td>Верещагин</td>\n",
       "      <td>2018-05-25</td>\n",
       "      <td>ultra</td>\n",
       "      <td>1000</td>\n",
       "      <td>30.0</td>\n",
       "      <td>3000</td>\n",
       "      <td>1950</td>\n",
       "      <td>150</td>\n",
       "      <td>1</td>\n",
       "      <td>1</td>\n",
       "    </tr>\n",
       "    <tr>\n",
       "      <td>4</td>\n",
       "      <td>1000</td>\n",
       "      <td>May</td>\n",
       "      <td>22.0</td>\n",
       "      <td>159.0</td>\n",
       "      <td>22.0</td>\n",
       "      <td>3.0</td>\n",
       "      <td>52</td>\n",
       "      <td>NaT</td>\n",
       "      <td>Краснодар</td>\n",
       "      <td>Рафаил</td>\n",
       "      <td>Верещагин</td>\n",
       "      <td>2018-05-25</td>\n",
       "      <td>ultra</td>\n",
       "      <td>1000</td>\n",
       "      <td>30.0</td>\n",
       "      <td>3000</td>\n",
       "      <td>1950</td>\n",
       "      <td>150</td>\n",
       "      <td>1</td>\n",
       "      <td>1</td>\n",
       "    </tr>\n",
       "  </tbody>\n",
       "</table>\n",
       "</div>"
      ],
      "text/plain": [
       "   user_id     month  calls_count  sum_duration  messages_count  gb_sum  age  \\\n",
       "0     1000    August         52.0         408.0            81.0    14.0   52   \n",
       "1     1000  December         46.0         333.0            70.0    10.0   52   \n",
       "2     1000      July         47.0         340.0            75.0    14.0   52   \n",
       "3     1000      June         43.0         172.0            60.0    23.0   52   \n",
       "4     1000       May         22.0         159.0            22.0     3.0   52   \n",
       "\n",
       "  churn_date       city first_name  last_name   reg_date tariff  \\\n",
       "0        NaT  Краснодар     Рафаил  Верещагин 2018-05-25  ultra   \n",
       "1        NaT  Краснодар     Рафаил  Верещагин 2018-05-25  ultra   \n",
       "2        NaT  Краснодар     Рафаил  Верещагин 2018-05-25  ultra   \n",
       "3        NaT  Краснодар     Рафаил  Верещагин 2018-05-25  ultra   \n",
       "4        NaT  Краснодар     Рафаил  Верещагин 2018-05-25  ultra   \n",
       "\n",
       "   messages_included  gb_per_month_included  minutes_included  \\\n",
       "0               1000                   30.0              3000   \n",
       "1               1000                   30.0              3000   \n",
       "2               1000                   30.0              3000   \n",
       "3               1000                   30.0              3000   \n",
       "4               1000                   30.0              3000   \n",
       "\n",
       "   rub_monthly_fee  rub_per_gb  rub_per_message  rub_per_minute  \n",
       "0             1950         150                1               1  \n",
       "1             1950         150                1               1  \n",
       "2             1950         150                1               1  \n",
       "3             1950         150                1               1  \n",
       "4             1950         150                1               1  "
      ]
     },
     "execution_count": 30,
     "metadata": {},
     "output_type": "execute_result"
    }
   ],
   "source": [
    "# объединение датасетов по столбцу tariffs\n",
    "users_info = user_with_tariff.merge(tariffs, on='tariff', how='left')\n",
    "users_info.head()"
   ]
  },
  {
   "cell_type": "markdown",
   "metadata": {},
   "source": [
    "Итоговой таблицы `users_info` нам достаточно для того, чтобы произвести необходимые расчеты. Но мы помним, что в датасетах, содержащих данные о звонках, сообщениях и интернет-сессиях мы обнаружили пропущенные значения. Это говорит о том, что пользователи не использовали данный вид связи в какой-то из месяцев, но в какой именно мы определить не можем. Поэтому заменим такие пропущенные значения на ноль, что позволит нам использовать строки итогового датасета при расчете помесячной выручки с каждого пользователя."
   ]
  },
  {
   "cell_type": "code",
   "execution_count": 31,
   "metadata": {},
   "outputs": [
    {
     "name": "stdout",
     "output_type": "stream",
     "text": [
      "<class 'pandas.core.frame.DataFrame'>\n",
      "Int64Index: 3216 entries, 0 to 3215\n",
      "Data columns (total 20 columns):\n",
      "user_id                  3216 non-null int64\n",
      "month                    3214 non-null object\n",
      "calls_count              3216 non-null float64\n",
      "sum_duration             3216 non-null float64\n",
      "messages_count           3216 non-null float64\n",
      "gb_sum                   3216 non-null float64\n",
      "age                      3216 non-null int64\n",
      "churn_date               189 non-null datetime64[ns]\n",
      "city                     3216 non-null object\n",
      "first_name               3216 non-null object\n",
      "last_name                3216 non-null object\n",
      "reg_date                 3216 non-null datetime64[ns]\n",
      "tariff                   3216 non-null object\n",
      "messages_included        3216 non-null int64\n",
      "gb_per_month_included    3216 non-null float64\n",
      "minutes_included         3216 non-null int64\n",
      "rub_monthly_fee          3216 non-null int64\n",
      "rub_per_gb               3216 non-null int64\n",
      "rub_per_message          3216 non-null int64\n",
      "rub_per_minute           3216 non-null int64\n",
      "dtypes: datetime64[ns](2), float64(5), int64(8), object(5)\n",
      "memory usage: 527.6+ KB\n"
     ]
    }
   ],
   "source": [
    "# заменяем NaN на ноль в указанных столбцах датасета\n",
    "for i in ['calls_count', 'sum_duration', 'messages_count', 'gb_sum']:\n",
    "    users_info[i] = users_info[i].fillna(0)\n",
    "users_info.info()"
   ]
  },
  {
   "cell_type": "markdown",
   "metadata": {},
   "source": [
    "Избавившись от пропущенных значений мы можем приступить к расчету помесячной выручки с каждого клиента оператора связи."
   ]
  },
  {
   "cell_type": "code",
   "execution_count": 32,
   "metadata": {},
   "outputs": [
    {
     "data": {
      "text/html": [
       "<div>\n",
       "<style scoped>\n",
       "    .dataframe tbody tr th:only-of-type {\n",
       "        vertical-align: middle;\n",
       "    }\n",
       "\n",
       "    .dataframe tbody tr th {\n",
       "        vertical-align: top;\n",
       "    }\n",
       "\n",
       "    .dataframe thead th {\n",
       "        text-align: right;\n",
       "    }\n",
       "</style>\n",
       "<table border=\"1\" class=\"dataframe\">\n",
       "  <thead>\n",
       "    <tr style=\"text-align: right;\">\n",
       "      <th></th>\n",
       "      <th>user_id</th>\n",
       "      <th>month</th>\n",
       "      <th>calls_count</th>\n",
       "      <th>sum_duration</th>\n",
       "      <th>messages_count</th>\n",
       "      <th>gb_sum</th>\n",
       "      <th>age</th>\n",
       "      <th>churn_date</th>\n",
       "      <th>city</th>\n",
       "      <th>first_name</th>\n",
       "      <th>...</th>\n",
       "      <th>reg_date</th>\n",
       "      <th>tariff</th>\n",
       "      <th>messages_included</th>\n",
       "      <th>gb_per_month_included</th>\n",
       "      <th>minutes_included</th>\n",
       "      <th>rub_monthly_fee</th>\n",
       "      <th>rub_per_gb</th>\n",
       "      <th>rub_per_message</th>\n",
       "      <th>rub_per_minute</th>\n",
       "      <th>month_revenue</th>\n",
       "    </tr>\n",
       "  </thead>\n",
       "  <tbody>\n",
       "    <tr>\n",
       "      <td>2521</td>\n",
       "      <td>1396</td>\n",
       "      <td>June</td>\n",
       "      <td>65.0</td>\n",
       "      <td>443.0</td>\n",
       "      <td>75.0</td>\n",
       "      <td>12.0</td>\n",
       "      <td>23</td>\n",
       "      <td>NaT</td>\n",
       "      <td>Пенза</td>\n",
       "      <td>Эльга</td>\n",
       "      <td>...</td>\n",
       "      <td>2018-01-12</td>\n",
       "      <td>ultra</td>\n",
       "      <td>1000</td>\n",
       "      <td>30.0</td>\n",
       "      <td>3000</td>\n",
       "      <td>1950</td>\n",
       "      <td>150</td>\n",
       "      <td>1</td>\n",
       "      <td>1</td>\n",
       "      <td>1950.0</td>\n",
       "    </tr>\n",
       "    <tr>\n",
       "      <td>1862</td>\n",
       "      <td>1298</td>\n",
       "      <td>August</td>\n",
       "      <td>77.0</td>\n",
       "      <td>494.0</td>\n",
       "      <td>33.0</td>\n",
       "      <td>21.0</td>\n",
       "      <td>29</td>\n",
       "      <td>NaT</td>\n",
       "      <td>Новосибирск</td>\n",
       "      <td>Надежда</td>\n",
       "      <td>...</td>\n",
       "      <td>2018-07-26</td>\n",
       "      <td>smart</td>\n",
       "      <td>50</td>\n",
       "      <td>15.0</td>\n",
       "      <td>500</td>\n",
       "      <td>550</td>\n",
       "      <td>200</td>\n",
       "      <td>3</td>\n",
       "      <td>3</td>\n",
       "      <td>1750.0</td>\n",
       "    </tr>\n",
       "    <tr>\n",
       "      <td>2856</td>\n",
       "      <td>1451</td>\n",
       "      <td>September</td>\n",
       "      <td>122.0</td>\n",
       "      <td>843.0</td>\n",
       "      <td>56.0</td>\n",
       "      <td>10.0</td>\n",
       "      <td>58</td>\n",
       "      <td>NaT</td>\n",
       "      <td>Набережные Челны</td>\n",
       "      <td>Виктория</td>\n",
       "      <td>...</td>\n",
       "      <td>2018-08-27</td>\n",
       "      <td>smart</td>\n",
       "      <td>50</td>\n",
       "      <td>15.0</td>\n",
       "      <td>500</td>\n",
       "      <td>550</td>\n",
       "      <td>200</td>\n",
       "      <td>3</td>\n",
       "      <td>3</td>\n",
       "      <td>1597.0</td>\n",
       "    </tr>\n",
       "    <tr>\n",
       "      <td>371</td>\n",
       "      <td>1058</td>\n",
       "      <td>November</td>\n",
       "      <td>101.0</td>\n",
       "      <td>720.0</td>\n",
       "      <td>27.0</td>\n",
       "      <td>20.0</td>\n",
       "      <td>66</td>\n",
       "      <td>NaT</td>\n",
       "      <td>Вологда</td>\n",
       "      <td>Лукий</td>\n",
       "      <td>...</td>\n",
       "      <td>2018-10-07</td>\n",
       "      <td>smart</td>\n",
       "      <td>50</td>\n",
       "      <td>15.0</td>\n",
       "      <td>500</td>\n",
       "      <td>550</td>\n",
       "      <td>200</td>\n",
       "      <td>3</td>\n",
       "      <td>3</td>\n",
       "      <td>2210.0</td>\n",
       "    </tr>\n",
       "    <tr>\n",
       "      <td>1140</td>\n",
       "      <td>1180</td>\n",
       "      <td>August</td>\n",
       "      <td>16.0</td>\n",
       "      <td>112.0</td>\n",
       "      <td>10.0</td>\n",
       "      <td>33.0</td>\n",
       "      <td>27</td>\n",
       "      <td>NaT</td>\n",
       "      <td>Москва</td>\n",
       "      <td>Лев</td>\n",
       "      <td>...</td>\n",
       "      <td>2018-02-02</td>\n",
       "      <td>ultra</td>\n",
       "      <td>1000</td>\n",
       "      <td>30.0</td>\n",
       "      <td>3000</td>\n",
       "      <td>1950</td>\n",
       "      <td>150</td>\n",
       "      <td>1</td>\n",
       "      <td>1</td>\n",
       "      <td>2400.0</td>\n",
       "    </tr>\n",
       "  </tbody>\n",
       "</table>\n",
       "<p>5 rows × 21 columns</p>\n",
       "</div>"
      ],
      "text/plain": [
       "      user_id      month  calls_count  sum_duration  messages_count  gb_sum  \\\n",
       "2521     1396       June         65.0         443.0            75.0    12.0   \n",
       "1862     1298     August         77.0         494.0            33.0    21.0   \n",
       "2856     1451  September        122.0         843.0            56.0    10.0   \n",
       "371      1058   November        101.0         720.0            27.0    20.0   \n",
       "1140     1180     August         16.0         112.0            10.0    33.0   \n",
       "\n",
       "      age churn_date              city first_name  ...   reg_date tariff  \\\n",
       "2521   23        NaT             Пенза      Эльга  ... 2018-01-12  ultra   \n",
       "1862   29        NaT       Новосибирск    Надежда  ... 2018-07-26  smart   \n",
       "2856   58        NaT  Набережные Челны   Виктория  ... 2018-08-27  smart   \n",
       "371    66        NaT           Вологда      Лукий  ... 2018-10-07  smart   \n",
       "1140   27        NaT            Москва        Лев  ... 2018-02-02  ultra   \n",
       "\n",
       "     messages_included  gb_per_month_included  minutes_included  \\\n",
       "2521              1000                   30.0              3000   \n",
       "1862                50                   15.0               500   \n",
       "2856                50                   15.0               500   \n",
       "371                 50                   15.0               500   \n",
       "1140              1000                   30.0              3000   \n",
       "\n",
       "      rub_monthly_fee  rub_per_gb  rub_per_message  rub_per_minute  \\\n",
       "2521             1950         150                1               1   \n",
       "1862              550         200                3               3   \n",
       "2856              550         200                3               3   \n",
       "371               550         200                3               3   \n",
       "1140             1950         150                1               1   \n",
       "\n",
       "      month_revenue  \n",
       "2521         1950.0  \n",
       "1862         1750.0  \n",
       "2856         1597.0  \n",
       "371          2210.0  \n",
       "1140         2400.0  \n",
       "\n",
       "[5 rows x 21 columns]"
      ]
     },
     "execution_count": 32,
     "metadata": {},
     "output_type": "execute_result"
    }
   ],
   "source": [
    "# добавляем столбец с выручкой для каждого пользователя,\n",
    "# вычитаем бесплатный лимит из суммарного количества звонков, сообщений \n",
    "# и интернет-трафика, остаток умножаем на значение из тарифного плана, \n",
    "# прибавляем абонентскую плату, соответствующую тарифному плану\n",
    "users_info['month_revenue'] = (\n",
    "      (users_info['sum_duration'] - users_info['minutes_included']).clip(lower = 0) * \\\n",
    "       users_info['rub_per_minute'] + (((users_info['messages_count'] - \\\n",
    "       users_info['messages_included'])).clip(lower = 0) * users_info['rub_per_message']) + \\\n",
    "       (((users_info['gb_sum'] - users_info['gb_per_month_included'])).clip(lower = 0) * \\\n",
    "        users_info['rub_per_gb']) + users_info['rub_monthly_fee'])\n",
    "# удаляем строки пользователей с NaN в month\n",
    "users_info = users_info.dropna(subset=['month'])\n",
    "users_info.sample(5)"
   ]
  },
  {
   "cell_type": "markdown",
   "metadata": {},
   "source": [
    "***Вывод***\n",
    "\n",
    "Мы произвели предобработку данных в полученных таблицах. Так, значения столбцов датасетов, содержащих даты, были приведены к нужному формату данных. Также мы удалили дублирующийся столбец в одной из таблиц и попытались поискать выбивающиеся значения в датасетах с данными о звонках и интернет-сессиях. Основной задачей стал подсчет количества сделанных звонков и израсходованных минут, отправленных сообщений и объема израсходованного интернет-трафика для каждого пользователя. Исходя из полученных данных нам удалось определить значения помесячной выручки с каждого клиента оператора связи с учетом его тарифа."
   ]
  },
  {
   "cell_type": "markdown",
   "metadata": {},
   "source": [
    "## Исследовательский анализ данных"
   ]
  },
  {
   "cell_type": "markdown",
   "metadata": {},
   "source": [
    "На основе полученной выборки с полной информацией о пользователях оператора связи мы можем оценить их поведение в зависимости от тарифа."
   ]
  },
  {
   "cell_type": "markdown",
   "metadata": {},
   "source": [
    "### Гистограммы распределений"
   ]
  },
  {
   "cell_type": "markdown",
   "metadata": {},
   "source": [
    "Разделим пользователей тарифов \"Смарт\" и \"Ультра\" по отдельным датасетам."
   ]
  },
  {
   "cell_type": "code",
   "execution_count": 33,
   "metadata": {},
   "outputs": [
    {
     "data": {
      "text/html": [
       "<div>\n",
       "<style scoped>\n",
       "    .dataframe tbody tr th:only-of-type {\n",
       "        vertical-align: middle;\n",
       "    }\n",
       "\n",
       "    .dataframe tbody tr th {\n",
       "        vertical-align: top;\n",
       "    }\n",
       "\n",
       "    .dataframe thead th {\n",
       "        text-align: right;\n",
       "    }\n",
       "</style>\n",
       "<table border=\"1\" class=\"dataframe\">\n",
       "  <thead>\n",
       "    <tr style=\"text-align: right;\">\n",
       "      <th></th>\n",
       "      <th>user_id</th>\n",
       "      <th>month</th>\n",
       "      <th>calls_count</th>\n",
       "      <th>sum_duration</th>\n",
       "      <th>messages_count</th>\n",
       "      <th>gb_sum</th>\n",
       "      <th>age</th>\n",
       "      <th>churn_date</th>\n",
       "      <th>city</th>\n",
       "      <th>first_name</th>\n",
       "      <th>...</th>\n",
       "      <th>reg_date</th>\n",
       "      <th>tariff</th>\n",
       "      <th>messages_included</th>\n",
       "      <th>gb_per_month_included</th>\n",
       "      <th>minutes_included</th>\n",
       "      <th>rub_monthly_fee</th>\n",
       "      <th>rub_per_gb</th>\n",
       "      <th>rub_per_message</th>\n",
       "      <th>rub_per_minute</th>\n",
       "      <th>month_revenue</th>\n",
       "    </tr>\n",
       "  </thead>\n",
       "  <tbody>\n",
       "    <tr>\n",
       "      <td>8</td>\n",
       "      <td>1001</td>\n",
       "      <td>December</td>\n",
       "      <td>63.0</td>\n",
       "      <td>414.0</td>\n",
       "      <td>0.0</td>\n",
       "      <td>14.0</td>\n",
       "      <td>41</td>\n",
       "      <td>NaT</td>\n",
       "      <td>Москва</td>\n",
       "      <td>Иван</td>\n",
       "      <td>...</td>\n",
       "      <td>2018-11-01</td>\n",
       "      <td>smart</td>\n",
       "      <td>50</td>\n",
       "      <td>15.0</td>\n",
       "      <td>500</td>\n",
       "      <td>550</td>\n",
       "      <td>200</td>\n",
       "      <td>3</td>\n",
       "      <td>3</td>\n",
       "      <td>550.0</td>\n",
       "    </tr>\n",
       "    <tr>\n",
       "      <td>9</td>\n",
       "      <td>1001</td>\n",
       "      <td>November</td>\n",
       "      <td>59.0</td>\n",
       "      <td>430.0</td>\n",
       "      <td>0.0</td>\n",
       "      <td>18.0</td>\n",
       "      <td>41</td>\n",
       "      <td>NaT</td>\n",
       "      <td>Москва</td>\n",
       "      <td>Иван</td>\n",
       "      <td>...</td>\n",
       "      <td>2018-11-01</td>\n",
       "      <td>smart</td>\n",
       "      <td>50</td>\n",
       "      <td>15.0</td>\n",
       "      <td>500</td>\n",
       "      <td>550</td>\n",
       "      <td>200</td>\n",
       "      <td>3</td>\n",
       "      <td>3</td>\n",
       "      <td>1150.0</td>\n",
       "    </tr>\n",
       "    <tr>\n",
       "      <td>10</td>\n",
       "      <td>1002</td>\n",
       "      <td>August</td>\n",
       "      <td>42.0</td>\n",
       "      <td>289.0</td>\n",
       "      <td>13.0</td>\n",
       "      <td>20.0</td>\n",
       "      <td>59</td>\n",
       "      <td>NaT</td>\n",
       "      <td>Стерлитамак</td>\n",
       "      <td>Евгений</td>\n",
       "      <td>...</td>\n",
       "      <td>2018-06-17</td>\n",
       "      <td>smart</td>\n",
       "      <td>50</td>\n",
       "      <td>15.0</td>\n",
       "      <td>500</td>\n",
       "      <td>550</td>\n",
       "      <td>200</td>\n",
       "      <td>3</td>\n",
       "      <td>3</td>\n",
       "      <td>1550.0</td>\n",
       "    </tr>\n",
       "    <tr>\n",
       "      <td>11</td>\n",
       "      <td>1002</td>\n",
       "      <td>December</td>\n",
       "      <td>33.0</td>\n",
       "      <td>236.0</td>\n",
       "      <td>12.0</td>\n",
       "      <td>18.0</td>\n",
       "      <td>59</td>\n",
       "      <td>NaT</td>\n",
       "      <td>Стерлитамак</td>\n",
       "      <td>Евгений</td>\n",
       "      <td>...</td>\n",
       "      <td>2018-06-17</td>\n",
       "      <td>smart</td>\n",
       "      <td>50</td>\n",
       "      <td>15.0</td>\n",
       "      <td>500</td>\n",
       "      <td>550</td>\n",
       "      <td>200</td>\n",
       "      <td>3</td>\n",
       "      <td>3</td>\n",
       "      <td>1150.0</td>\n",
       "    </tr>\n",
       "    <tr>\n",
       "      <td>12</td>\n",
       "      <td>1002</td>\n",
       "      <td>July</td>\n",
       "      <td>26.0</td>\n",
       "      <td>214.0</td>\n",
       "      <td>11.0</td>\n",
       "      <td>18.0</td>\n",
       "      <td>59</td>\n",
       "      <td>NaT</td>\n",
       "      <td>Стерлитамак</td>\n",
       "      <td>Евгений</td>\n",
       "      <td>...</td>\n",
       "      <td>2018-06-17</td>\n",
       "      <td>smart</td>\n",
       "      <td>50</td>\n",
       "      <td>15.0</td>\n",
       "      <td>500</td>\n",
       "      <td>550</td>\n",
       "      <td>200</td>\n",
       "      <td>3</td>\n",
       "      <td>3</td>\n",
       "      <td>1150.0</td>\n",
       "    </tr>\n",
       "  </tbody>\n",
       "</table>\n",
       "<p>5 rows × 21 columns</p>\n",
       "</div>"
      ],
      "text/plain": [
       "    user_id     month  calls_count  sum_duration  messages_count  gb_sum  age  \\\n",
       "8      1001  December         63.0         414.0             0.0    14.0   41   \n",
       "9      1001  November         59.0         430.0             0.0    18.0   41   \n",
       "10     1002    August         42.0         289.0            13.0    20.0   59   \n",
       "11     1002  December         33.0         236.0            12.0    18.0   59   \n",
       "12     1002      July         26.0         214.0            11.0    18.0   59   \n",
       "\n",
       "   churn_date         city first_name  ...   reg_date tariff  \\\n",
       "8         NaT       Москва       Иван  ... 2018-11-01  smart   \n",
       "9         NaT       Москва       Иван  ... 2018-11-01  smart   \n",
       "10        NaT  Стерлитамак    Евгений  ... 2018-06-17  smart   \n",
       "11        NaT  Стерлитамак    Евгений  ... 2018-06-17  smart   \n",
       "12        NaT  Стерлитамак    Евгений  ... 2018-06-17  smart   \n",
       "\n",
       "   messages_included  gb_per_month_included  minutes_included  \\\n",
       "8                 50                   15.0               500   \n",
       "9                 50                   15.0               500   \n",
       "10                50                   15.0               500   \n",
       "11                50                   15.0               500   \n",
       "12                50                   15.0               500   \n",
       "\n",
       "    rub_monthly_fee  rub_per_gb  rub_per_message  rub_per_minute  \\\n",
       "8               550         200                3               3   \n",
       "9               550         200                3               3   \n",
       "10              550         200                3               3   \n",
       "11              550         200                3               3   \n",
       "12              550         200                3               3   \n",
       "\n",
       "    month_revenue  \n",
       "8           550.0  \n",
       "9          1150.0  \n",
       "10         1550.0  \n",
       "11         1150.0  \n",
       "12         1150.0  \n",
       "\n",
       "[5 rows x 21 columns]"
      ]
     },
     "execution_count": 33,
     "metadata": {},
     "output_type": "execute_result"
    }
   ],
   "source": [
    "# записываем в датасет только строки с тарифом smart\n",
    "users_smart = users_info.query(\"tariff == 'smart'\")\n",
    "users_smart.head()"
   ]
  },
  {
   "cell_type": "code",
   "execution_count": 34,
   "metadata": {},
   "outputs": [
    {
     "data": {
      "text/html": [
       "<div>\n",
       "<style scoped>\n",
       "    .dataframe tbody tr th:only-of-type {\n",
       "        vertical-align: middle;\n",
       "    }\n",
       "\n",
       "    .dataframe tbody tr th {\n",
       "        vertical-align: top;\n",
       "    }\n",
       "\n",
       "    .dataframe thead th {\n",
       "        text-align: right;\n",
       "    }\n",
       "</style>\n",
       "<table border=\"1\" class=\"dataframe\">\n",
       "  <thead>\n",
       "    <tr style=\"text-align: right;\">\n",
       "      <th></th>\n",
       "      <th>user_id</th>\n",
       "      <th>month</th>\n",
       "      <th>calls_count</th>\n",
       "      <th>sum_duration</th>\n",
       "      <th>messages_count</th>\n",
       "      <th>gb_sum</th>\n",
       "      <th>age</th>\n",
       "      <th>churn_date</th>\n",
       "      <th>city</th>\n",
       "      <th>first_name</th>\n",
       "      <th>...</th>\n",
       "      <th>reg_date</th>\n",
       "      <th>tariff</th>\n",
       "      <th>messages_included</th>\n",
       "      <th>gb_per_month_included</th>\n",
       "      <th>minutes_included</th>\n",
       "      <th>rub_monthly_fee</th>\n",
       "      <th>rub_per_gb</th>\n",
       "      <th>rub_per_message</th>\n",
       "      <th>rub_per_minute</th>\n",
       "      <th>month_revenue</th>\n",
       "    </tr>\n",
       "  </thead>\n",
       "  <tbody>\n",
       "    <tr>\n",
       "      <td>0</td>\n",
       "      <td>1000</td>\n",
       "      <td>August</td>\n",
       "      <td>52.0</td>\n",
       "      <td>408.0</td>\n",
       "      <td>81.0</td>\n",
       "      <td>14.0</td>\n",
       "      <td>52</td>\n",
       "      <td>NaT</td>\n",
       "      <td>Краснодар</td>\n",
       "      <td>Рафаил</td>\n",
       "      <td>...</td>\n",
       "      <td>2018-05-25</td>\n",
       "      <td>ultra</td>\n",
       "      <td>1000</td>\n",
       "      <td>30.0</td>\n",
       "      <td>3000</td>\n",
       "      <td>1950</td>\n",
       "      <td>150</td>\n",
       "      <td>1</td>\n",
       "      <td>1</td>\n",
       "      <td>1950.0</td>\n",
       "    </tr>\n",
       "    <tr>\n",
       "      <td>1</td>\n",
       "      <td>1000</td>\n",
       "      <td>December</td>\n",
       "      <td>46.0</td>\n",
       "      <td>333.0</td>\n",
       "      <td>70.0</td>\n",
       "      <td>10.0</td>\n",
       "      <td>52</td>\n",
       "      <td>NaT</td>\n",
       "      <td>Краснодар</td>\n",
       "      <td>Рафаил</td>\n",
       "      <td>...</td>\n",
       "      <td>2018-05-25</td>\n",
       "      <td>ultra</td>\n",
       "      <td>1000</td>\n",
       "      <td>30.0</td>\n",
       "      <td>3000</td>\n",
       "      <td>1950</td>\n",
       "      <td>150</td>\n",
       "      <td>1</td>\n",
       "      <td>1</td>\n",
       "      <td>1950.0</td>\n",
       "    </tr>\n",
       "    <tr>\n",
       "      <td>2</td>\n",
       "      <td>1000</td>\n",
       "      <td>July</td>\n",
       "      <td>47.0</td>\n",
       "      <td>340.0</td>\n",
       "      <td>75.0</td>\n",
       "      <td>14.0</td>\n",
       "      <td>52</td>\n",
       "      <td>NaT</td>\n",
       "      <td>Краснодар</td>\n",
       "      <td>Рафаил</td>\n",
       "      <td>...</td>\n",
       "      <td>2018-05-25</td>\n",
       "      <td>ultra</td>\n",
       "      <td>1000</td>\n",
       "      <td>30.0</td>\n",
       "      <td>3000</td>\n",
       "      <td>1950</td>\n",
       "      <td>150</td>\n",
       "      <td>1</td>\n",
       "      <td>1</td>\n",
       "      <td>1950.0</td>\n",
       "    </tr>\n",
       "    <tr>\n",
       "      <td>3</td>\n",
       "      <td>1000</td>\n",
       "      <td>June</td>\n",
       "      <td>43.0</td>\n",
       "      <td>172.0</td>\n",
       "      <td>60.0</td>\n",
       "      <td>23.0</td>\n",
       "      <td>52</td>\n",
       "      <td>NaT</td>\n",
       "      <td>Краснодар</td>\n",
       "      <td>Рафаил</td>\n",
       "      <td>...</td>\n",
       "      <td>2018-05-25</td>\n",
       "      <td>ultra</td>\n",
       "      <td>1000</td>\n",
       "      <td>30.0</td>\n",
       "      <td>3000</td>\n",
       "      <td>1950</td>\n",
       "      <td>150</td>\n",
       "      <td>1</td>\n",
       "      <td>1</td>\n",
       "      <td>1950.0</td>\n",
       "    </tr>\n",
       "    <tr>\n",
       "      <td>4</td>\n",
       "      <td>1000</td>\n",
       "      <td>May</td>\n",
       "      <td>22.0</td>\n",
       "      <td>159.0</td>\n",
       "      <td>22.0</td>\n",
       "      <td>3.0</td>\n",
       "      <td>52</td>\n",
       "      <td>NaT</td>\n",
       "      <td>Краснодар</td>\n",
       "      <td>Рафаил</td>\n",
       "      <td>...</td>\n",
       "      <td>2018-05-25</td>\n",
       "      <td>ultra</td>\n",
       "      <td>1000</td>\n",
       "      <td>30.0</td>\n",
       "      <td>3000</td>\n",
       "      <td>1950</td>\n",
       "      <td>150</td>\n",
       "      <td>1</td>\n",
       "      <td>1</td>\n",
       "      <td>1950.0</td>\n",
       "    </tr>\n",
       "  </tbody>\n",
       "</table>\n",
       "<p>5 rows × 21 columns</p>\n",
       "</div>"
      ],
      "text/plain": [
       "   user_id     month  calls_count  sum_duration  messages_count  gb_sum  age  \\\n",
       "0     1000    August         52.0         408.0            81.0    14.0   52   \n",
       "1     1000  December         46.0         333.0            70.0    10.0   52   \n",
       "2     1000      July         47.0         340.0            75.0    14.0   52   \n",
       "3     1000      June         43.0         172.0            60.0    23.0   52   \n",
       "4     1000       May         22.0         159.0            22.0     3.0   52   \n",
       "\n",
       "  churn_date       city first_name  ...   reg_date tariff messages_included  \\\n",
       "0        NaT  Краснодар     Рафаил  ... 2018-05-25  ultra              1000   \n",
       "1        NaT  Краснодар     Рафаил  ... 2018-05-25  ultra              1000   \n",
       "2        NaT  Краснодар     Рафаил  ... 2018-05-25  ultra              1000   \n",
       "3        NaT  Краснодар     Рафаил  ... 2018-05-25  ultra              1000   \n",
       "4        NaT  Краснодар     Рафаил  ... 2018-05-25  ultra              1000   \n",
       "\n",
       "   gb_per_month_included  minutes_included  rub_monthly_fee  rub_per_gb  \\\n",
       "0                   30.0              3000             1950         150   \n",
       "1                   30.0              3000             1950         150   \n",
       "2                   30.0              3000             1950         150   \n",
       "3                   30.0              3000             1950         150   \n",
       "4                   30.0              3000             1950         150   \n",
       "\n",
       "   rub_per_message  rub_per_minute  month_revenue  \n",
       "0                1               1         1950.0  \n",
       "1                1               1         1950.0  \n",
       "2                1               1         1950.0  \n",
       "3                1               1         1950.0  \n",
       "4                1               1         1950.0  \n",
       "\n",
       "[5 rows x 21 columns]"
      ]
     },
     "execution_count": 34,
     "metadata": {},
     "output_type": "execute_result"
    }
   ],
   "source": [
    "# записываем в датасет только строки с тарифом ultra\n",
    "users_ultra = users_info.query(\"tariff == 'ultra'\")\n",
    "users_ultra.head()"
   ]
  },
  {
   "cell_type": "markdown",
   "metadata": {},
   "source": [
    "Построим гистограммы распределений для продолжительности звонка, количества сообщений и объема использованного трафика для каждого из тарифов."
   ]
  },
  {
   "cell_type": "code",
   "execution_count": 35,
   "metadata": {},
   "outputs": [
    {
     "data": {
      "image/png": "[encoded data removed]",
      "text/plain": [
       "<Figure size 432x288 with 1 Axes>"
      ]
     },
     "metadata": {
      "needs_background": "light"
     },
     "output_type": "display_data"
    }
   ],
   "source": [
    "# построение гистограммы с данными из sum_duration (Smart)\n",
    "ax = users_smart['sum_duration'].hist(bins=10)\n",
    "# параметры для осей X, Y и title\n",
    "ax.set(title='Гистограмма продолжительности звонка для тарифа \"Smart\"', xlabel='Мин.', ylabel='Количество')\n",
    "ax;"
   ]
  },
  {
   "cell_type": "code",
   "execution_count": 36,
   "metadata": {},
   "outputs": [
    {
     "data": {
      "image/png": "[encoded data removed]",
      "text/plain": [
       "<Figure size 432x288 with 1 Axes>"
      ]
     },
     "metadata": {
      "needs_background": "light"
     },
     "output_type": "display_data"
    }
   ],
   "source": [
    "# построение гистограммы с данными из sum_duration (Ultra)\n",
    "ax = users_ultra['sum_duration'].hist(bins=10)\n",
    "# параметры для осей X, Y и title\n",
    "ax.set(title='Гистограмма продолжительности звонка для тарифа \"Ultra\"', xlabel='Мин.', ylabel='Количество')\n",
    "ax;"
   ]
  },
  {
   "cell_type": "code",
   "execution_count": 37,
   "metadata": {},
   "outputs": [
    {
     "data": {
      "image/png": "[encoded data removed]",
      "text/plain": [
       "<Figure size 1152x360 with 2 Axes>"
      ]
     },
     "metadata": {
      "needs_background": "light"
     },
     "output_type": "display_data"
    }
   ],
   "source": [
    "fig, axes = plt.subplots(1, 2, figsize=(16, 5))\n",
    "\n",
    "sns.distplot(users_smart['sum_duration'], kde=False, ax=axes[0])\n",
    "sns.distplot(users_ultra['sum_duration'], kde=False, ax=axes[0])\n",
    "fig.legend(labels=['Smart','Ultra'])\n",
    "\n",
    "sns.boxplot(data=[users_smart['sum_duration'], users_ultra['sum_duration']], ax=axes[1])\n",
    "\n",
    "plt;"
   ]
  },
  {
   "cell_type": "markdown",
   "metadata": {},
   "source": [
    "Здесь мы можем сказать, что пользователи тарифа \"Смарт\" используют в основном от 300 до 570 минут в месяц, а пользователи тарифа \"Ультра\" - от 500 до 700 минут."
   ]
  },
  {
   "cell_type": "code",
   "execution_count": 38,
   "metadata": {},
   "outputs": [
    {
     "data": {
      "image/png": "[encoded data removed]",
      "text/plain": [
       "<Figure size 432x288 with 1 Axes>"
      ]
     },
     "metadata": {
      "needs_background": "light"
     },
     "output_type": "display_data"
    }
   ],
   "source": [
    "# построение гистограммы с данными из messages_count (Smart)\n",
    "ax = users_smart['messages_count'].hist(bins=10)\n",
    "# параметры для осей X, Y и title\n",
    "ax.set(title='Гистограмма количества сообщений для тарифа \"Smart\"', xlabel='Шт.', ylabel='Количество')\n",
    "ax;"
   ]
  },
  {
   "cell_type": "code",
   "execution_count": 39,
   "metadata": {},
   "outputs": [
    {
     "data": {
      "image/png": "[encoded data removed]",
      "text/plain": [
       "<Figure size 432x288 with 1 Axes>"
      ]
     },
     "metadata": {
      "needs_background": "light"
     },
     "output_type": "display_data"
    }
   ],
   "source": [
    "# построение гистограммы с данными из messages_count (Ultra)\n",
    "ax = users_ultra['messages_count'].hist(bins=10)\n",
    "# параметры для осей X, Y и title\n",
    "ax.set(title='Гистограмма количества сообщений для тарифа \"Ultra\"', xlabel='Шт.', ylabel='Количество')\n",
    "ax;"
   ]
  },
  {
   "cell_type": "code",
   "execution_count": 40,
   "metadata": {},
   "outputs": [
    {
     "data": {
      "image/png": "[encoded data removed]",
      "text/plain": [
       "<Figure size 1152x360 with 2 Axes>"
      ]
     },
     "metadata": {
      "needs_background": "light"
     },
     "output_type": "display_data"
    }
   ],
   "source": [
    "fig, axes = plt.subplots(1, 2, figsize=(16, 5))\n",
    "\n",
    "sns.distplot(users_smart['messages_count'], kde=False, ax=axes[0])\n",
    "sns.distplot(users_ultra['messages_count'], kde=False, ax=axes[0])\n",
    "fig.legend(labels=['Smart','Ultra'])\n",
    "\n",
    "sns.boxplot(data=[users_smart['messages_count'], users_ultra['messages_count']], ax=axes[1])\n",
    "\n",
    "plt;"
   ]
  },
  {
   "cell_type": "markdown",
   "metadata": {},
   "source": [
    "Основная масса пользователей тарифа \"Смарт\" отправляют до 30 сообщений в месяц , а пользователи тарифа \"Ультра\" - до 50 сообщений."
   ]
  },
  {
   "cell_type": "code",
   "execution_count": 41,
   "metadata": {},
   "outputs": [
    {
     "data": {
      "image/png": "[encoded data removed]",
      "text/plain": [
       "<Figure size 432x288 with 1 Axes>"
      ]
     },
     "metadata": {
      "needs_background": "light"
     },
     "output_type": "display_data"
    }
   ],
   "source": [
    "# построение гистограммы с данными из gb_sum (Smart)\n",
    "ax = users_smart['gb_sum'].hist(bins=10)\n",
    "# параметры для осей X, Y и title\n",
    "ax.set(title='Гистограмма объема использованного трафика для тарифа \"Smart\"', xlabel='Gb', ylabel='Количество')\n",
    "ax;"
   ]
  },
  {
   "cell_type": "code",
   "execution_count": 42,
   "metadata": {},
   "outputs": [
    {
     "data": {
      "image/png": "[encoded data removed]",
      "text/plain": [
       "<Figure size 432x288 with 1 Axes>"
      ]
     },
     "metadata": {
      "needs_background": "light"
     },
     "output_type": "display_data"
    }
   ],
   "source": [
    "# построение гистограммы с данными из gb_sum (Ultra)\n",
    "ax = users_ultra['gb_sum'].hist(bins=10)\n",
    "# параметры для осей X, Y и title\n",
    "ax.set(title='Гистограмма объема использованного трафика для тарифа \"Ultra\"', xlabel='Gb', ylabel='Количество')\n",
    "ax;"
   ]
  },
  {
   "cell_type": "code",
   "execution_count": 43,
   "metadata": {},
   "outputs": [
    {
     "data": {
      "image/png": "[encoded data removed]",
      "text/plain": [
       "<Figure size 1152x360 with 2 Axes>"
      ]
     },
     "metadata": {
      "needs_background": "light"
     },
     "output_type": "display_data"
    }
   ],
   "source": [
    "fig, axes = plt.subplots(1, 2, figsize=(16, 5))\n",
    "\n",
    "sns.distplot(users_smart['gb_sum'], kde=False, ax=axes[0])\n",
    "sns.distplot(users_ultra['gb_sum'], kde=False, ax=axes[0])\n",
    "fig.legend(labels=['Smart','Ultra'])\n",
    "\n",
    "sns.boxplot(data=[users_smart['gb_sum'], users_ultra['gb_sum']], ax=axes[1])\n",
    "\n",
    "plt;"
   ]
  },
  {
   "cell_type": "markdown",
   "metadata": {},
   "source": [
    "Большинству пользователей тарифа \"Смарт\" необходимо от 12 до 22 гигабайт интернет-трафика в месяц, а пользователям тарифа \"Ультра\" - от 15 до 30 гигабайт."
   ]
  },
  {
   "cell_type": "markdown",
   "metadata": {},
   "source": [
    "### Подсчет среднего значения, дисперсии и стандартного отклонения"
   ]
  },
  {
   "cell_type": "markdown",
   "metadata": {},
   "source": [
    "Рассчитаем необходимые нам параметры для пользователей более точно. Также используем улучшенную метрику разброса - дисперсию (средний квадрат расстояния между значениями датасета и средним) и далее стандратное отклонение (квадратный корень из дисперсии). Кроме того, рассчитав среднее значение и стандартное отклонение значений выборки, мы можем воспользоваться \"правилом трех сигм\" и определить интервал, куда наверняка попадут практически все значения каждой из изучаемых нами переменных."
   ]
  },
  {
   "cell_type": "code",
   "execution_count": 44,
   "metadata": {},
   "outputs": [],
   "source": [
    "# функция для расчета среднего, дисперсии, стандартного\n",
    "# отклонения и интервала значений для столбца\n",
    "def count_data(df, column, tariff):\n",
    "    mean = df[column].mean() # среднее значение\n",
    "    variance = np.var(df[column]) # дисперсия\n",
    "    standart_diviation = np.std(df[column]) # стандартное отклонение\n",
    "    bottom_line = round(mean - 3 * standart_diviation) # рассчитываем нижнюю границу интервала\n",
    "    top_line = round(mean + 3 * standart_diviation) # рассчитываем верхнюю границу интервала\n",
    "    interval = bottom_line, top_line # интервал значений\n",
    "    return [tariff, column, mean, variance, standart_diviation, interval]"
   ]
  },
  {
   "cell_type": "markdown",
   "metadata": {},
   "source": [
    "Результаты работы функции `count_data` для каждого из тарифов разместим в одном датасете для удобства оценки."
   ]
  },
  {
   "cell_type": "code",
   "execution_count": 45,
   "metadata": {},
   "outputs": [
    {
     "data": {
      "text/html": [
       "<div>\n",
       "<style scoped>\n",
       "    .dataframe tbody tr th:only-of-type {\n",
       "        vertical-align: middle;\n",
       "    }\n",
       "\n",
       "    .dataframe tbody tr th {\n",
       "        vertical-align: top;\n",
       "    }\n",
       "\n",
       "    .dataframe thead th {\n",
       "        text-align: right;\n",
       "    }\n",
       "</style>\n",
       "<table border=\"1\" class=\"dataframe\">\n",
       "  <thead>\n",
       "    <tr style=\"text-align: right;\">\n",
       "      <th></th>\n",
       "      <th>tariff</th>\n",
       "      <th>value</th>\n",
       "      <th>mean</th>\n",
       "      <th>variance</th>\n",
       "      <th>standart_diviation</th>\n",
       "      <th>interval</th>\n",
       "    </tr>\n",
       "  </thead>\n",
       "  <tbody>\n",
       "    <tr>\n",
       "      <td>0</td>\n",
       "      <td>smart</td>\n",
       "      <td>sum_duration</td>\n",
       "      <td>417.934948</td>\n",
       "      <td>36203.066652</td>\n",
       "      <td>190.271035</td>\n",
       "      <td>(-153, 989)</td>\n",
       "    </tr>\n",
       "    <tr>\n",
       "      <td>1</td>\n",
       "      <td>ultra</td>\n",
       "      <td>sum_duration</td>\n",
       "      <td>526.623350</td>\n",
       "      <td>100771.223617</td>\n",
       "      <td>317.444836</td>\n",
       "      <td>(-426, 1479)</td>\n",
       "    </tr>\n",
       "    <tr>\n",
       "      <td>2</td>\n",
       "      <td>smart</td>\n",
       "      <td>messages_count</td>\n",
       "      <td>33.384029</td>\n",
       "      <td>796.455483</td>\n",
       "      <td>28.221543</td>\n",
       "      <td>(-51, 118)</td>\n",
       "    </tr>\n",
       "    <tr>\n",
       "      <td>3</td>\n",
       "      <td>ultra</td>\n",
       "      <td>messages_count</td>\n",
       "      <td>49.363452</td>\n",
       "      <td>2282.946075</td>\n",
       "      <td>47.780185</td>\n",
       "      <td>(-94, 193)</td>\n",
       "    </tr>\n",
       "    <tr>\n",
       "      <td>4</td>\n",
       "      <td>smart</td>\n",
       "      <td>gb_sum</td>\n",
       "      <td>16.328847</td>\n",
       "      <td>33.013887</td>\n",
       "      <td>5.745771</td>\n",
       "      <td>(-1, 34)</td>\n",
       "    </tr>\n",
       "    <tr>\n",
       "      <td>5</td>\n",
       "      <td>ultra</td>\n",
       "      <td>gb_sum</td>\n",
       "      <td>19.494416</td>\n",
       "      <td>96.993116</td>\n",
       "      <td>9.848508</td>\n",
       "      <td>(-10, 49)</td>\n",
       "    </tr>\n",
       "  </tbody>\n",
       "</table>\n",
       "</div>"
      ],
      "text/plain": [
       "  tariff           value        mean       variance  standart_diviation  \\\n",
       "0  smart    sum_duration  417.934948   36203.066652          190.271035   \n",
       "1  ultra    sum_duration  526.623350  100771.223617          317.444836   \n",
       "2  smart  messages_count   33.384029     796.455483           28.221543   \n",
       "3  ultra  messages_count   49.363452    2282.946075           47.780185   \n",
       "4  smart          gb_sum   16.328847      33.013887            5.745771   \n",
       "5  ultra          gb_sum   19.494416      96.993116            9.848508   \n",
       "\n",
       "       interval  \n",
       "0   (-153, 989)  \n",
       "1  (-426, 1479)  \n",
       "2    (-51, 118)  \n",
       "3    (-94, 193)  \n",
       "4      (-1, 34)  \n",
       "5     (-10, 49)  "
      ]
     },
     "execution_count": 45,
     "metadata": {},
     "output_type": "execute_result"
    }
   ],
   "source": [
    "# определяем названия столбцов нового датасета\n",
    "columns = ('tariff', 'value', 'mean', 'variance', 'standart_diviation', 'interval')\n",
    "# создание датасета и его заполнение результатами работы \n",
    "# функции count_data для каждого тарифа\n",
    "table_result = pd.DataFrame(columns = columns)\n",
    "for column in ['sum_duration', 'messages_count', 'gb_sum']:\n",
    "    table_result.loc[len(table_result)] = count_data(users_smart, column, 'smart')\n",
    "    table_result.loc[len(table_result)] = count_data(users_ultra, column, 'ultra')\n",
    "table_result"
   ]
  },
  {
   "cell_type": "markdown",
   "metadata": {},
   "source": [
    "Итоговая таблица позволяет увидеть разницу в поведении пользователей разных тарифов, а также оценить как разбросаны значения и в каком интервале они лежат. Потребление продуктов связи выше у пользователей тарифа \"Ультра\", они более активны. \n",
    "\n",
    "\n",
    "Оценив гистограммы, полученные данные среднего, стандартного отклонения и интервала, можно сказать, что основная часть пользователей тарифа \"Смарт\" в целом укладываются в бесплатный лимит по минутам разговора (до 500 минут), по числу отправленных сообщений (до 50 шт), но зачастую превышают лимит тарифа по интернет-трафику (до 15 Гб). За дополнительный трафик они платят отдельно по 150 руб. за 1 Гб.\n",
    "\n",
    "\n",
    "Пользователи тарифа \"Ультра\" укладываются в лимит минут разговора (до 3000 минут), лимит отправленных сообщений (до 1000 шт) и основная часть клиентов не превышает лимит интернет-трафика (до 30 Гб). Но тем не менее некоторая часть пользователей тарифа \"Ультра\" превышает лимит и доплачивает за дополнительный интернет-трафик 200 руб. за 1 Гб. В итоге превышение пользователями обоих тарифов лимита интернет-трафика приносит оператору связи на 150 руб и 200 руб дополнительно за каждый 1 Гб трафика с каждого пользователя, превысившего лимит."
   ]
  },
  {
   "cell_type": "markdown",
   "metadata": {},
   "source": [
    "***Вывод***\n",
    "\n",
    "В рамках исследования поведения пользователей тарифов \"Смарт\" и \"Ультра\" мы вычислили средние значения, дисперсию, стандартное отклонение и интервал значений для продолжительности звонков, количества сообщений и объема использованного интернет-трафика. Использовав полученные данные и построив также гистограммы распределений изучаемых величин, мы выяснили, что в целом пользователи обоих тарифов укладываются в обозначенный бесплатный лимит по минутам разговора и количеству сообщений, но превышают лимит на интернет-трафик. С каждого пользователя, превысившего лимит, оператор связи имеет дополнительный доход."
   ]
  },
  {
   "cell_type": "markdown",
   "metadata": {},
   "source": [
    "## Проверка гипотез"
   ]
  },
  {
   "cell_type": "markdown",
   "metadata": {},
   "source": [
    "### Гипотеза № 1"
   ]
  },
  {
   "cell_type": "markdown",
   "metadata": {},
   "source": [
    "Нам нужно проверить гипотезу, что средняя выручка пользователей тарифов «Ультра» и «Смарт» различаются."
   ]
  },
  {
   "cell_type": "markdown",
   "metadata": {},
   "source": [
    "Оценим распределение помесячной выручки с пользователей каждого из тарифов."
   ]
  },
  {
   "cell_type": "code",
   "execution_count": 46,
   "metadata": {},
   "outputs": [
    {
     "data": {
      "image/png": "[encoded data removed]",
      "text/plain": [
       "<Figure size 432x288 with 1 Axes>"
      ]
     },
     "metadata": {
      "needs_background": "light"
     },
     "output_type": "display_data"
    }
   ],
   "source": [
    "# построение гистограммы с данными из month_revenue (Smart)\n",
    "ax = users_smart['month_revenue'].hist(bins=10)\n",
    "# параметры для осей X, Y и title\n",
    "ax.set(title='Гистограмма помесячной выручки с пользователей тарифа \"Smart\"', xlabel='Руб.', ylabel='Количество')\n",
    "ax;"
   ]
  },
  {
   "cell_type": "code",
   "execution_count": 47,
   "metadata": {},
   "outputs": [
    {
     "data": {
      "image/png": "[encoded data removed]",
      "text/plain": [
       "<Figure size 432x288 with 1 Axes>"
      ]
     },
     "metadata": {
      "needs_background": "light"
     },
     "output_type": "display_data"
    }
   ],
   "source": [
    "# построение гистограммы с данными из month_revenue (Ultra)\n",
    "ax = users_ultra['month_revenue'].hist(bins=10)\n",
    "# параметры для осей X, Y и title\n",
    "ax.set(title='Гистограмма помесячной выручки с пользователей тарифа \"Ultra\"', xlabel='Руб.', ylabel='Количество')\n",
    "ax;"
   ]
  },
  {
   "cell_type": "markdown",
   "metadata": {},
   "source": [
    "Здесь мы видим, что выручка с пользователей тарифа \"Смарт\" в основном лежит в интервале от 550 руб. до 1500 руб, а выручка с пользователей тарифа \"Ультра\" - от 1950 руб. до 2250 руб."
   ]
  },
  {
   "cell_type": "markdown",
   "metadata": {},
   "source": [
    "Попробуем теперь определить различаются ли средние выручки с пользователей в зависимости от тарифа."
   ]
  },
  {
   "cell_type": "markdown",
   "metadata": {},
   "source": [
    "***Сформулируем нулевую гипотезу (H0):*** \"Средняя выручка пользователей тарифа \"Ультра\" равна средней выручке пользователей тарифа \"Смарт\".\n",
    "\n",
    "***Сформулируем альтернативную гипотезу (H1):*** \"Средняя выручка пользователей тарифа \"Ультра\" не равна средней выручке пользователей тарифа \"Смарт\". Отметим, что это двусторонняя гипотеза - есть возможное отклонение и в большую, и в меньшую стороны."
   ]
  },
  {
   "cell_type": "markdown",
   "metadata": {},
   "source": [
    "Для проверки гипотезы используем статистический тест с использованием t-распределения (`t-test`). Решение отвергать ли нулевую гипотезу, будем принимать по уровень значимости (`p-value`). `P-value` - вероятность получить наблюдаемый или еще более далекий от предполагаемого результат при условии, что нулевая гипотеза верна. Также зададим пороговое значение `alpha` как 5%. Если `p-value` окажется меньше него - мы отвегнем гипотезу."
   ]
  },
  {
   "cell_type": "markdown",
   "metadata": {},
   "source": [
    "Поскольку мы проверяем гипотезу о равенстве среднего двух генеральных совокупностей, то используем для этого специальный метод Python `scipy.stats.ttest_ind (array1, array2,equal_var)`."
   ]
  },
  {
   "cell_type": "code",
   "execution_count": 48,
   "metadata": {},
   "outputs": [
    {
     "name": "stdout",
     "output_type": "stream",
     "text": [
      "p-значение:  1.4229814360764067e-160\n",
      "Отвергаем нулевую гипотезу\n"
     ]
    }
   ],
   "source": [
    "alpha = .05 # критический уровень статистической значимости\n",
    "\n",
    "results = st.ttest_ind(\n",
    "    users_smart['month_revenue'], \n",
    "    users_ultra['month_revenue'])\n",
    "\n",
    "print('p-значение: ', results.pvalue)\n",
    "\n",
    "if results.pvalue < alpha:\n",
    "    print(\"Отвергаем нулевую гипотезу\")\n",
    "else:\n",
    "    print(\"Не получилось отвергнуть нулевую гипотезу\") "
   ]
  },
  {
   "cell_type": "markdown",
   "metadata": {},
   "source": [
    "В результате работы метода мы отвергли нулевую гипотезу, что значит, что альтернативная гипотеза верна: средняя выручка пользователей тарифа \"Ультра\" не равна средней выручке пользователей тарифа \"Смарт\"."
   ]
  },
  {
   "cell_type": "markdown",
   "metadata": {},
   "source": [
    "Дополнительно вычислим среднюю выручку по каждому из тарифов, используя метод `mean`:"
   ]
  },
  {
   "cell_type": "code",
   "execution_count": 49,
   "metadata": {},
   "outputs": [
    {
     "data": {
      "text/plain": [
       "1289.9735307312696"
      ]
     },
     "execution_count": 49,
     "metadata": {},
     "output_type": "execute_result"
    }
   ],
   "source": [
    "users_smart['month_revenue'].mean()"
   ]
  },
  {
   "cell_type": "code",
   "execution_count": 50,
   "metadata": {},
   "outputs": [
    {
     "data": {
      "text/plain": [
       "2070.1522842639592"
      ]
     },
     "execution_count": 50,
     "metadata": {},
     "output_type": "execute_result"
    }
   ],
   "source": [
    "users_ultra['month_revenue'].mean()"
   ]
  },
  {
   "cell_type": "markdown",
   "metadata": {},
   "source": [
    "Здесь можно отметить, что средняя выручка с пользователей тарифа \"Ультра\" больше, чем с пользователей тарифа \"Смарт\"."
   ]
  },
  {
   "cell_type": "markdown",
   "metadata": {},
   "source": [
    "### Гипотеза № 2"
   ]
  },
  {
   "cell_type": "markdown",
   "metadata": {},
   "source": [
    "Нам нужно проверить гипотезу, что средняя выручка пользователей из Москвы отличается от выручки пользователей из других регионов."
   ]
  },
  {
   "cell_type": "code",
   "execution_count": 51,
   "metadata": {},
   "outputs": [
    {
     "data": {
      "text/html": [
       "<div>\n",
       "<style scoped>\n",
       "    .dataframe tbody tr th:only-of-type {\n",
       "        vertical-align: middle;\n",
       "    }\n",
       "\n",
       "    .dataframe tbody tr th {\n",
       "        vertical-align: top;\n",
       "    }\n",
       "\n",
       "    .dataframe thead th {\n",
       "        text-align: right;\n",
       "    }\n",
       "</style>\n",
       "<table border=\"1\" class=\"dataframe\">\n",
       "  <thead>\n",
       "    <tr style=\"text-align: right;\">\n",
       "      <th></th>\n",
       "      <th>user_id</th>\n",
       "      <th>month</th>\n",
       "      <th>calls_count</th>\n",
       "      <th>sum_duration</th>\n",
       "      <th>messages_count</th>\n",
       "      <th>gb_sum</th>\n",
       "      <th>age</th>\n",
       "      <th>churn_date</th>\n",
       "      <th>city</th>\n",
       "      <th>first_name</th>\n",
       "      <th>...</th>\n",
       "      <th>reg_date</th>\n",
       "      <th>tariff</th>\n",
       "      <th>messages_included</th>\n",
       "      <th>gb_per_month_included</th>\n",
       "      <th>minutes_included</th>\n",
       "      <th>rub_monthly_fee</th>\n",
       "      <th>rub_per_gb</th>\n",
       "      <th>rub_per_message</th>\n",
       "      <th>rub_per_minute</th>\n",
       "      <th>month_revenue</th>\n",
       "    </tr>\n",
       "  </thead>\n",
       "  <tbody>\n",
       "    <tr>\n",
       "      <td>8</td>\n",
       "      <td>1001</td>\n",
       "      <td>December</td>\n",
       "      <td>63.0</td>\n",
       "      <td>414.0</td>\n",
       "      <td>0.0</td>\n",
       "      <td>14.0</td>\n",
       "      <td>41</td>\n",
       "      <td>NaT</td>\n",
       "      <td>Москва</td>\n",
       "      <td>Иван</td>\n",
       "      <td>...</td>\n",
       "      <td>2018-11-01</td>\n",
       "      <td>smart</td>\n",
       "      <td>50</td>\n",
       "      <td>15.0</td>\n",
       "      <td>500</td>\n",
       "      <td>550</td>\n",
       "      <td>200</td>\n",
       "      <td>3</td>\n",
       "      <td>3</td>\n",
       "      <td>550.0</td>\n",
       "    </tr>\n",
       "    <tr>\n",
       "      <td>9</td>\n",
       "      <td>1001</td>\n",
       "      <td>November</td>\n",
       "      <td>59.0</td>\n",
       "      <td>430.0</td>\n",
       "      <td>0.0</td>\n",
       "      <td>18.0</td>\n",
       "      <td>41</td>\n",
       "      <td>NaT</td>\n",
       "      <td>Москва</td>\n",
       "      <td>Иван</td>\n",
       "      <td>...</td>\n",
       "      <td>2018-11-01</td>\n",
       "      <td>smart</td>\n",
       "      <td>50</td>\n",
       "      <td>15.0</td>\n",
       "      <td>500</td>\n",
       "      <td>550</td>\n",
       "      <td>200</td>\n",
       "      <td>3</td>\n",
       "      <td>3</td>\n",
       "      <td>1150.0</td>\n",
       "    </tr>\n",
       "    <tr>\n",
       "      <td>17</td>\n",
       "      <td>1003</td>\n",
       "      <td>August</td>\n",
       "      <td>55.0</td>\n",
       "      <td>380.0</td>\n",
       "      <td>37.0</td>\n",
       "      <td>9.0</td>\n",
       "      <td>23</td>\n",
       "      <td>NaT</td>\n",
       "      <td>Москва</td>\n",
       "      <td>Белла</td>\n",
       "      <td>...</td>\n",
       "      <td>2018-08-17</td>\n",
       "      <td>ultra</td>\n",
       "      <td>1000</td>\n",
       "      <td>30.0</td>\n",
       "      <td>3000</td>\n",
       "      <td>1950</td>\n",
       "      <td>150</td>\n",
       "      <td>1</td>\n",
       "      <td>1</td>\n",
       "      <td>1950.0</td>\n",
       "    </tr>\n",
       "    <tr>\n",
       "      <td>18</td>\n",
       "      <td>1003</td>\n",
       "      <td>December</td>\n",
       "      <td>108.0</td>\n",
       "      <td>802.0</td>\n",
       "      <td>75.0</td>\n",
       "      <td>10.0</td>\n",
       "      <td>23</td>\n",
       "      <td>NaT</td>\n",
       "      <td>Москва</td>\n",
       "      <td>Белла</td>\n",
       "      <td>...</td>\n",
       "      <td>2018-08-17</td>\n",
       "      <td>ultra</td>\n",
       "      <td>1000</td>\n",
       "      <td>30.0</td>\n",
       "      <td>3000</td>\n",
       "      <td>1950</td>\n",
       "      <td>150</td>\n",
       "      <td>1</td>\n",
       "      <td>1</td>\n",
       "      <td>1950.0</td>\n",
       "    </tr>\n",
       "    <tr>\n",
       "      <td>19</td>\n",
       "      <td>1003</td>\n",
       "      <td>November</td>\n",
       "      <td>115.0</td>\n",
       "      <td>824.0</td>\n",
       "      <td>94.0</td>\n",
       "      <td>12.0</td>\n",
       "      <td>23</td>\n",
       "      <td>NaT</td>\n",
       "      <td>Москва</td>\n",
       "      <td>Белла</td>\n",
       "      <td>...</td>\n",
       "      <td>2018-08-17</td>\n",
       "      <td>ultra</td>\n",
       "      <td>1000</td>\n",
       "      <td>30.0</td>\n",
       "      <td>3000</td>\n",
       "      <td>1950</td>\n",
       "      <td>150</td>\n",
       "      <td>1</td>\n",
       "      <td>1</td>\n",
       "      <td>1950.0</td>\n",
       "    </tr>\n",
       "  </tbody>\n",
       "</table>\n",
       "<p>5 rows × 21 columns</p>\n",
       "</div>"
      ],
      "text/plain": [
       "    user_id     month  calls_count  sum_duration  messages_count  gb_sum  age  \\\n",
       "8      1001  December         63.0         414.0             0.0    14.0   41   \n",
       "9      1001  November         59.0         430.0             0.0    18.0   41   \n",
       "17     1003    August         55.0         380.0            37.0     9.0   23   \n",
       "18     1003  December        108.0         802.0            75.0    10.0   23   \n",
       "19     1003  November        115.0         824.0            94.0    12.0   23   \n",
       "\n",
       "   churn_date    city first_name  ...   reg_date tariff messages_included  \\\n",
       "8         NaT  Москва       Иван  ... 2018-11-01  smart                50   \n",
       "9         NaT  Москва       Иван  ... 2018-11-01  smart                50   \n",
       "17        NaT  Москва      Белла  ... 2018-08-17  ultra              1000   \n",
       "18        NaT  Москва      Белла  ... 2018-08-17  ultra              1000   \n",
       "19        NaT  Москва      Белла  ... 2018-08-17  ultra              1000   \n",
       "\n",
       "    gb_per_month_included  minutes_included  rub_monthly_fee  rub_per_gb  \\\n",
       "8                    15.0               500              550         200   \n",
       "9                    15.0               500              550         200   \n",
       "17                   30.0              3000             1950         150   \n",
       "18                   30.0              3000             1950         150   \n",
       "19                   30.0              3000             1950         150   \n",
       "\n",
       "    rub_per_message  rub_per_minute  month_revenue  \n",
       "8                 3               3          550.0  \n",
       "9                 3               3         1150.0  \n",
       "17                1               1         1950.0  \n",
       "18                1               1         1950.0  \n",
       "19                1               1         1950.0  \n",
       "\n",
       "[5 rows x 21 columns]"
      ]
     },
     "execution_count": 51,
     "metadata": {},
     "output_type": "execute_result"
    }
   ],
   "source": [
    "# выделим пользователей из Москвы в отдельный датасет\n",
    "users_moscow = users_info.query(\"city == 'Москва'\")\n",
    "users_moscow.head()"
   ]
  },
  {
   "cell_type": "code",
   "execution_count": 52,
   "metadata": {},
   "outputs": [
    {
     "data": {
      "text/plain": [
       "1546.7135842880523"
      ]
     },
     "execution_count": 52,
     "metadata": {},
     "output_type": "execute_result"
    }
   ],
   "source": [
    "# расчет средней выручки с пользователей из Москвы\n",
    "users_moscow['month_revenue'].mean()"
   ]
  },
  {
   "cell_type": "code",
   "execution_count": 53,
   "metadata": {},
   "outputs": [
    {
     "data": {
      "text/html": [
       "<div>\n",
       "<style scoped>\n",
       "    .dataframe tbody tr th:only-of-type {\n",
       "        vertical-align: middle;\n",
       "    }\n",
       "\n",
       "    .dataframe tbody tr th {\n",
       "        vertical-align: top;\n",
       "    }\n",
       "\n",
       "    .dataframe thead th {\n",
       "        text-align: right;\n",
       "    }\n",
       "</style>\n",
       "<table border=\"1\" class=\"dataframe\">\n",
       "  <thead>\n",
       "    <tr style=\"text-align: right;\">\n",
       "      <th></th>\n",
       "      <th>user_id</th>\n",
       "      <th>month</th>\n",
       "      <th>calls_count</th>\n",
       "      <th>sum_duration</th>\n",
       "      <th>messages_count</th>\n",
       "      <th>gb_sum</th>\n",
       "      <th>age</th>\n",
       "      <th>churn_date</th>\n",
       "      <th>city</th>\n",
       "      <th>first_name</th>\n",
       "      <th>...</th>\n",
       "      <th>reg_date</th>\n",
       "      <th>tariff</th>\n",
       "      <th>messages_included</th>\n",
       "      <th>gb_per_month_included</th>\n",
       "      <th>minutes_included</th>\n",
       "      <th>rub_monthly_fee</th>\n",
       "      <th>rub_per_gb</th>\n",
       "      <th>rub_per_message</th>\n",
       "      <th>rub_per_minute</th>\n",
       "      <th>month_revenue</th>\n",
       "    </tr>\n",
       "  </thead>\n",
       "  <tbody>\n",
       "    <tr>\n",
       "      <td>0</td>\n",
       "      <td>1000</td>\n",
       "      <td>August</td>\n",
       "      <td>52.0</td>\n",
       "      <td>408.0</td>\n",
       "      <td>81.0</td>\n",
       "      <td>14.0</td>\n",
       "      <td>52</td>\n",
       "      <td>NaT</td>\n",
       "      <td>Краснодар</td>\n",
       "      <td>Рафаил</td>\n",
       "      <td>...</td>\n",
       "      <td>2018-05-25</td>\n",
       "      <td>ultra</td>\n",
       "      <td>1000</td>\n",
       "      <td>30.0</td>\n",
       "      <td>3000</td>\n",
       "      <td>1950</td>\n",
       "      <td>150</td>\n",
       "      <td>1</td>\n",
       "      <td>1</td>\n",
       "      <td>1950.0</td>\n",
       "    </tr>\n",
       "    <tr>\n",
       "      <td>1</td>\n",
       "      <td>1000</td>\n",
       "      <td>December</td>\n",
       "      <td>46.0</td>\n",
       "      <td>333.0</td>\n",
       "      <td>70.0</td>\n",
       "      <td>10.0</td>\n",
       "      <td>52</td>\n",
       "      <td>NaT</td>\n",
       "      <td>Краснодар</td>\n",
       "      <td>Рафаил</td>\n",
       "      <td>...</td>\n",
       "      <td>2018-05-25</td>\n",
       "      <td>ultra</td>\n",
       "      <td>1000</td>\n",
       "      <td>30.0</td>\n",
       "      <td>3000</td>\n",
       "      <td>1950</td>\n",
       "      <td>150</td>\n",
       "      <td>1</td>\n",
       "      <td>1</td>\n",
       "      <td>1950.0</td>\n",
       "    </tr>\n",
       "    <tr>\n",
       "      <td>2</td>\n",
       "      <td>1000</td>\n",
       "      <td>July</td>\n",
       "      <td>47.0</td>\n",
       "      <td>340.0</td>\n",
       "      <td>75.0</td>\n",
       "      <td>14.0</td>\n",
       "      <td>52</td>\n",
       "      <td>NaT</td>\n",
       "      <td>Краснодар</td>\n",
       "      <td>Рафаил</td>\n",
       "      <td>...</td>\n",
       "      <td>2018-05-25</td>\n",
       "      <td>ultra</td>\n",
       "      <td>1000</td>\n",
       "      <td>30.0</td>\n",
       "      <td>3000</td>\n",
       "      <td>1950</td>\n",
       "      <td>150</td>\n",
       "      <td>1</td>\n",
       "      <td>1</td>\n",
       "      <td>1950.0</td>\n",
       "    </tr>\n",
       "    <tr>\n",
       "      <td>3</td>\n",
       "      <td>1000</td>\n",
       "      <td>June</td>\n",
       "      <td>43.0</td>\n",
       "      <td>172.0</td>\n",
       "      <td>60.0</td>\n",
       "      <td>23.0</td>\n",
       "      <td>52</td>\n",
       "      <td>NaT</td>\n",
       "      <td>Краснодар</td>\n",
       "      <td>Рафаил</td>\n",
       "      <td>...</td>\n",
       "      <td>2018-05-25</td>\n",
       "      <td>ultra</td>\n",
       "      <td>1000</td>\n",
       "      <td>30.0</td>\n",
       "      <td>3000</td>\n",
       "      <td>1950</td>\n",
       "      <td>150</td>\n",
       "      <td>1</td>\n",
       "      <td>1</td>\n",
       "      <td>1950.0</td>\n",
       "    </tr>\n",
       "    <tr>\n",
       "      <td>4</td>\n",
       "      <td>1000</td>\n",
       "      <td>May</td>\n",
       "      <td>22.0</td>\n",
       "      <td>159.0</td>\n",
       "      <td>22.0</td>\n",
       "      <td>3.0</td>\n",
       "      <td>52</td>\n",
       "      <td>NaT</td>\n",
       "      <td>Краснодар</td>\n",
       "      <td>Рафаил</td>\n",
       "      <td>...</td>\n",
       "      <td>2018-05-25</td>\n",
       "      <td>ultra</td>\n",
       "      <td>1000</td>\n",
       "      <td>30.0</td>\n",
       "      <td>3000</td>\n",
       "      <td>1950</td>\n",
       "      <td>150</td>\n",
       "      <td>1</td>\n",
       "      <td>1</td>\n",
       "      <td>1950.0</td>\n",
       "    </tr>\n",
       "  </tbody>\n",
       "</table>\n",
       "<p>5 rows × 21 columns</p>\n",
       "</div>"
      ],
      "text/plain": [
       "   user_id     month  calls_count  sum_duration  messages_count  gb_sum  age  \\\n",
       "0     1000    August         52.0         408.0            81.0    14.0   52   \n",
       "1     1000  December         46.0         333.0            70.0    10.0   52   \n",
       "2     1000      July         47.0         340.0            75.0    14.0   52   \n",
       "3     1000      June         43.0         172.0            60.0    23.0   52   \n",
       "4     1000       May         22.0         159.0            22.0     3.0   52   \n",
       "\n",
       "  churn_date       city first_name  ...   reg_date tariff messages_included  \\\n",
       "0        NaT  Краснодар     Рафаил  ... 2018-05-25  ultra              1000   \n",
       "1        NaT  Краснодар     Рафаил  ... 2018-05-25  ultra              1000   \n",
       "2        NaT  Краснодар     Рафаил  ... 2018-05-25  ultra              1000   \n",
       "3        NaT  Краснодар     Рафаил  ... 2018-05-25  ultra              1000   \n",
       "4        NaT  Краснодар     Рафаил  ... 2018-05-25  ultra              1000   \n",
       "\n",
       "   gb_per_month_included  minutes_included  rub_monthly_fee  rub_per_gb  \\\n",
       "0                   30.0              3000             1950         150   \n",
       "1                   30.0              3000             1950         150   \n",
       "2                   30.0              3000             1950         150   \n",
       "3                   30.0              3000             1950         150   \n",
       "4                   30.0              3000             1950         150   \n",
       "\n",
       "   rub_per_message  rub_per_minute  month_revenue  \n",
       "0                1               1         1950.0  \n",
       "1                1               1         1950.0  \n",
       "2                1               1         1950.0  \n",
       "3                1               1         1950.0  \n",
       "4                1               1         1950.0  \n",
       "\n",
       "[5 rows x 21 columns]"
      ]
     },
     "execution_count": 53,
     "metadata": {},
     "output_type": "execute_result"
    }
   ],
   "source": [
    "# выделим пользователей из регионов в отдельный датасет\n",
    "users_not_moscow = users_info.query(\"city != 'Москва'\")\n",
    "users_not_moscow.head()"
   ]
  },
  {
   "cell_type": "code",
   "execution_count": 54,
   "metadata": {},
   "outputs": [
    {
     "data": {
      "text/plain": [
       "1524.9362274298885"
      ]
     },
     "execution_count": 54,
     "metadata": {},
     "output_type": "execute_result"
    }
   ],
   "source": [
    "# расчет средней выручки с пользователей из регионов\n",
    "users_not_moscow['month_revenue'].mean()"
   ]
  },
  {
   "cell_type": "code",
   "execution_count": 55,
   "metadata": {},
   "outputs": [
    {
     "data": {
      "image/png": "[encoded data removed]",
      "text/plain": [
       "<Figure size 432x288 with 1 Axes>"
      ]
     },
     "metadata": {
      "needs_background": "light"
     },
     "output_type": "display_data"
    }
   ],
   "source": [
    "# построение гистограммы с данными из month_revenue для Москвы\n",
    "ax = users_moscow['month_revenue'].hist(bins=10)\n",
    "# параметры для осей X, Y и title\n",
    "ax.set(title='Гистограмма помесячной выручки с пользователей из г. Москва', xlabel='Руб.', ylabel='Количество')\n",
    "ax;"
   ]
  },
  {
   "cell_type": "code",
   "execution_count": 56,
   "metadata": {},
   "outputs": [
    {
     "data": {
      "image/png": "[encoded data removed]",
      "text/plain": [
       "<Figure size 432x288 with 1 Axes>"
      ]
     },
     "metadata": {
      "needs_background": "light"
     },
     "output_type": "display_data"
    }
   ],
   "source": [
    "# построение гистограммы с данными из month_revenue для регионов\n",
    "ax = users_not_moscow['month_revenue'].hist(bins=10)\n",
    "# параметры для осей X, Y и title\n",
    "ax.set(title='Гистограмма помесячной выручки с пользователей из регионов', xlabel='Руб.', ylabel='Количество')\n",
    "ax;"
   ]
  },
  {
   "cell_type": "markdown",
   "metadata": {},
   "source": [
    "Гистограммы распределения выручки с пользователей из г. Москва и из регионов очень похожи. Нельзя сказать наверняка, что выручка где-то ярко выраженно преобладает. Обратимся к проверке гипотез."
   ]
  },
  {
   "cell_type": "markdown",
   "metadata": {},
   "source": [
    "***Сформулируем нулевую гипотезу (H0):*** \"Средняя выручка пользователей из Москвы не отличается от выручки пользователей из других регионов\".\n",
    "\n",
    "***Сформулируем альтернативную гипотезу (H1):*** \"Средняя выручка пользователей из Москвы отличается от выручки пользователей из других регионов\". Это двусторонняя гипотеза - есть возможное отклонение и в большую, и в меньшую стороны."
   ]
  },
  {
   "cell_type": "markdown",
   "metadata": {},
   "source": [
    "Также как и выше для проверки гипотезы используем статистический тест с использованием t-распределения (t-test) и специальный метод Python `scipy.stats.ttest_ind (array1, array2, equal_var)`. Пороговое значение alpha зададим как 5%."
   ]
  },
  {
   "cell_type": "code",
   "execution_count": 57,
   "metadata": {},
   "outputs": [
    {
     "name": "stdout",
     "output_type": "stream",
     "text": [
      "p-значение:  0.5440152911670224\n",
      "Не получилось отвергнуть нулевую гипотезу\n"
     ]
    }
   ],
   "source": [
    "alpha = .05 # критический уровень статистической значимости\n",
    "\n",
    "results = st.ttest_ind(\n",
    "    users_moscow['month_revenue'], \n",
    "    users_not_moscow['month_revenue'])\n",
    "\n",
    "print('p-значение: ', results.pvalue)\n",
    "\n",
    "if results.pvalue < alpha:\n",
    "    print(\"Отвергаем нулевую гипотезу\")\n",
    "else:\n",
    "    print(\"Не получилось отвергнуть нулевую гипотезу\") "
   ]
  },
  {
   "cell_type": "markdown",
   "metadata": {},
   "source": [
    "В данном случае не получилось отвергнуть нулевую гипотезу, значит верно, что средняя выручка пользователей из Москвы не отличается от выручки пользователей из других регионов."
   ]
  },
  {
   "cell_type": "markdown",
   "metadata": {},
   "source": [
    "***Вывод***\n",
    "\n",
    "Проверив гипотезы, используя статистический тест с использованием t-распределения (`t-test`) и метод Python `scipy.stats.ttest_ind (array1, array2, equal_var)`, мы выяснили, что средняя выручка пользователей тарифа \"Ультра\" не равна средней выручке пользователей тарифа \"Смарт\" и что средняя выручка пользователей из Москвы не отличается от выручки пользователей из других регионов. Также мы  отметили, что средняя выручка с пользователей тарифа \"Ультра\" больше, чем с пользователей тарифа \"Смарт\"."
   ]
  },
  {
   "cell_type": "markdown",
   "metadata": {},
   "source": [
    "## Общий вывод"
   ]
  },
  {
   "cell_type": "markdown",
   "metadata": {},
   "source": [
    "Мы провели аналитическое исследование для определения перспективного тарифа для телеком-компании \"Мегалайн\" с целью узнать какой тариф приносит больше денег. Используя полученные данные, мы вычислили количество сделанных звонков и израсходованных минут, отправленных сообщений и объем израсходованного интернет-трафика по месяцам для каждого пользователя тарифов \"Смарт\"(бюджетный) и \"Ультра\"(более дорогой). В ходе работы мы выяснили помесячную выручку с каждого клиента и на основе этих данных описали поведение пользователей обоих тарифов. В результате мы отметили, что \n",
    "\n",
    "- основная часть пользователей тарифа \"Смарт\" в целом укладываются в бесплатный лимит по минутам разговора (до 500 минут), по числу отправленных сообщений (до 50 шт), но зачастую превышают лимит тарифа по интернет-трафику (до 15 Гб);\n",
    "- пользователи тарифа \"Ультра\" укладываются в лимит минут разговора (до 3000 минут), лимит отправленных сообщений (до 1000 шт) и основная часть клиентов не превышает лимит интернет-трафика (до 30 Гб). Но тем не менее некоторая часть пользователей тарифа \"Ультра\" превышает лимит и доплачивает за дополнительный интернет-трафик.\n",
    "\n",
    "Превышение пользователями обоих тарифов лимита интернет-трафика приносит оператору связи на 150 руб./200 руб. (\"Смарт\"/\"Ультра\") дополнительно за каждый 1 Гб трафика с каждого пользователя, превысившего лимит.\n",
    "\n",
    "Так же в нашу задачу входила проверка двух гипотез: \n",
    "- средняя выручка пользователей тарифа \"Ультра\" равна средней выручке пользователей тарифа \"Смарт\";\n",
    "- средняя выручка пользователей из Москвы не отличается от выручки пользователей из других регионов.\n",
    "\n",
    "Используя статистический тест с использованием t-распределения (`t-test`) и специальный метод Python `scipy.stats.ttest_ind (array1, array2,equal_var)`, мы выяснили, что средняя выручка пользователей тарифа \"Ультра\" не равна средней выручке пользователей тарифа \"Смарт\" и что средняя выручка пользователей из Москвы не отличается от выручки пользователей из других регионов (составляет ~ 1500 руб.). В ходе решения задач мы определили, что средняя выручка с пользователей тарифа \"Ультра\" больше, чем с пользователей тарифа \"Смарт\"."
   ]
  }
 ],
 "metadata": {
  "ExecuteTimeLog": [
   {
    "duration": 112,
    "start_time": "2022-02-02T11:58:21.556Z"
   },
   {
    "duration": 1244,
    "start_time": "2022-02-02T12:06:27.800Z"
   },
   {
    "duration": 680,
    "start_time": "2022-02-02T12:06:32.416Z"
   },
   {
    "duration": 2049,
    "start_time": "2022-02-02T12:06:36.065Z"
   },
   {
    "duration": 4,
    "start_time": "2022-02-02T12:07:39.824Z"
   },
   {
    "duration": 1594,
    "start_time": "2022-02-02T12:07:58.468Z"
   },
   {
    "duration": 116,
    "start_time": "2022-02-02T12:10:15.973Z"
   },
   {
    "duration": 135,
    "start_time": "2022-02-02T12:10:47.964Z"
   },
   {
    "duration": 4,
    "start_time": "2022-02-02T15:16:05.720Z"
   },
   {
    "duration": 524,
    "start_time": "2022-02-02T15:16:07.727Z"
   },
   {
    "duration": 159,
    "start_time": "2022-02-02T15:26:38.222Z"
   },
   {
    "duration": 137,
    "start_time": "2022-02-02T15:27:17.870Z"
   },
   {
    "duration": 173,
    "start_time": "2022-02-02T15:27:38.723Z"
   },
   {
    "duration": 418,
    "start_time": "2022-02-02T17:06:09.814Z"
   },
   {
    "duration": 215,
    "start_time": "2022-02-02T17:06:19.783Z"
   },
   {
    "duration": 201,
    "start_time": "2022-02-02T17:08:08.664Z"
   },
   {
    "duration": 237,
    "start_time": "2022-02-02T17:08:16.737Z"
   },
   {
    "duration": 254,
    "start_time": "2022-02-03T16:19:32.360Z"
   },
   {
    "duration": 1000,
    "start_time": "2022-02-03T16:19:42.366Z"
   },
   {
    "duration": 438,
    "start_time": "2022-02-03T16:19:43.369Z"
   },
   {
    "duration": 119,
    "start_time": "2022-02-03T16:19:43.809Z"
   },
   {
    "duration": 518,
    "start_time": "2022-02-03T16:19:43.930Z"
   },
   {
    "duration": 372,
    "start_time": "2022-02-03T16:19:54.988Z"
   },
   {
    "duration": 133,
    "start_time": "2022-02-03T16:20:19.866Z"
   },
   {
    "duration": 352,
    "start_time": "2022-02-03T16:20:29.586Z"
   },
   {
    "duration": 130,
    "start_time": "2022-02-03T16:20:35.420Z"
   },
   {
    "duration": 136,
    "start_time": "2022-02-03T16:20:47.955Z"
   },
   {
    "duration": 133,
    "start_time": "2022-02-03T16:20:55.072Z"
   },
   {
    "duration": 130,
    "start_time": "2022-02-03T16:21:26.029Z"
   },
   {
    "duration": 154,
    "start_time": "2022-02-03T16:21:42.967Z"
   },
   {
    "duration": 127,
    "start_time": "2022-02-03T16:21:48.234Z"
   },
   {
    "duration": 248,
    "start_time": "2022-02-03T16:44:05.849Z"
   },
   {
    "duration": 181,
    "start_time": "2022-02-03T16:44:36.739Z"
   },
   {
    "duration": 302,
    "start_time": "2022-02-03T16:48:58.230Z"
   },
   {
    "duration": 523,
    "start_time": "2022-02-03T16:49:51.416Z"
   },
   {
    "duration": 353,
    "start_time": "2022-02-03T16:52:19.733Z"
   },
   {
    "duration": 317,
    "start_time": "2022-02-03T16:52:39.838Z"
   },
   {
    "duration": 291,
    "start_time": "2022-02-03T16:52:59.428Z"
   },
   {
    "duration": 1001,
    "start_time": "2022-02-03T16:53:16.068Z"
   },
   {
    "duration": 463,
    "start_time": "2022-02-03T16:53:17.072Z"
   },
   {
    "duration": 108,
    "start_time": "2022-02-03T16:53:17.537Z"
   },
   {
    "duration": 372,
    "start_time": "2022-02-03T16:53:17.648Z"
   },
   {
    "duration": 913,
    "start_time": "2022-02-03T16:53:32.655Z"
   },
   {
    "duration": 449,
    "start_time": "2022-02-03T16:53:33.570Z"
   },
   {
    "duration": 113,
    "start_time": "2022-02-03T16:53:34.021Z"
   },
   {
    "duration": 422,
    "start_time": "2022-02-03T16:53:34.136Z"
   },
   {
    "duration": 1003,
    "start_time": "2022-02-03T16:54:59.604Z"
   },
   {
    "duration": 502,
    "start_time": "2022-02-03T16:55:00.609Z"
   },
   {
    "duration": 137,
    "start_time": "2022-02-03T16:55:01.113Z"
   },
   {
    "duration": 747,
    "start_time": "2022-02-03T16:55:01.253Z"
   },
   {
    "duration": 929,
    "start_time": "2022-02-03T16:55:17.730Z"
   },
   {
    "duration": 452,
    "start_time": "2022-02-03T16:55:18.661Z"
   },
   {
    "duration": 122,
    "start_time": "2022-02-03T16:55:19.116Z"
   },
   {
    "duration": 431,
    "start_time": "2022-02-03T16:55:19.240Z"
   },
   {
    "duration": 981,
    "start_time": "2022-02-03T16:55:54.582Z"
   },
   {
    "duration": 463,
    "start_time": "2022-02-03T16:55:55.566Z"
   },
   {
    "duration": 110,
    "start_time": "2022-02-03T16:55:56.032Z"
   },
   {
    "duration": 373,
    "start_time": "2022-02-03T16:55:56.144Z"
   },
   {
    "duration": 17,
    "start_time": "2022-02-03T16:55:56.520Z"
   },
   {
    "duration": 298,
    "start_time": "2022-02-03T16:56:13.925Z"
   },
   {
    "duration": 979,
    "start_time": "2022-02-03T16:56:32.682Z"
   },
   {
    "duration": 472,
    "start_time": "2022-02-03T16:56:33.664Z"
   },
   {
    "duration": 117,
    "start_time": "2022-02-03T16:56:34.139Z"
   },
   {
    "duration": 387,
    "start_time": "2022-02-03T16:56:34.258Z"
   },
   {
    "duration": 77,
    "start_time": "2022-02-03T16:56:34.647Z"
   },
   {
    "duration": 989,
    "start_time": "2022-02-03T17:08:14.320Z"
   },
   {
    "duration": 469,
    "start_time": "2022-02-03T17:08:15.311Z"
   },
   {
    "duration": 108,
    "start_time": "2022-02-03T17:08:15.782Z"
   },
   {
    "duration": 240,
    "start_time": "2022-02-03T17:08:15.907Z"
   },
   {
    "duration": 2,
    "start_time": "2022-02-03T17:08:16.149Z"
   },
   {
    "duration": 1018,
    "start_time": "2022-02-03T17:09:40.338Z"
   },
   {
    "duration": 458,
    "start_time": "2022-02-03T17:09:41.358Z"
   },
   {
    "duration": 117,
    "start_time": "2022-02-03T17:09:41.818Z"
   },
   {
    "duration": 262,
    "start_time": "2022-02-03T17:09:41.937Z"
   },
   {
    "duration": 7,
    "start_time": "2022-02-03T17:09:42.202Z"
   },
   {
    "duration": 993,
    "start_time": "2022-02-03T17:10:58.370Z"
   },
   {
    "duration": 452,
    "start_time": "2022-02-03T17:10:59.366Z"
   },
   {
    "duration": 113,
    "start_time": "2022-02-03T17:10:59.821Z"
   },
   {
    "duration": 273,
    "start_time": "2022-02-03T17:10:59.936Z"
   },
   {
    "duration": 2,
    "start_time": "2022-02-03T17:11:00.211Z"
   },
   {
    "duration": 1051,
    "start_time": "2022-02-03T17:11:25.708Z"
   },
   {
    "duration": 466,
    "start_time": "2022-02-03T17:11:26.761Z"
   },
   {
    "duration": 111,
    "start_time": "2022-02-03T17:11:27.230Z"
   },
   {
    "duration": 259,
    "start_time": "2022-02-03T17:11:27.343Z"
   },
   {
    "duration": 2,
    "start_time": "2022-02-03T17:11:27.607Z"
   },
   {
    "duration": 969,
    "start_time": "2022-02-03T17:13:51.399Z"
   },
   {
    "duration": 448,
    "start_time": "2022-02-03T17:13:52.370Z"
   },
   {
    "duration": 115,
    "start_time": "2022-02-03T17:13:52.820Z"
   },
   {
    "duration": 257,
    "start_time": "2022-02-03T17:13:52.937Z"
   },
   {
    "duration": 2,
    "start_time": "2022-02-03T17:13:53.196Z"
   },
   {
    "duration": 986,
    "start_time": "2022-02-03T17:14:50.616Z"
   },
   {
    "duration": 454,
    "start_time": "2022-02-03T17:14:51.604Z"
   },
   {
    "duration": 105,
    "start_time": "2022-02-03T17:14:52.060Z"
   },
   {
    "duration": 233,
    "start_time": "2022-02-03T17:14:52.167Z"
   },
   {
    "duration": 7,
    "start_time": "2022-02-03T17:14:52.401Z"
   },
   {
    "duration": 994,
    "start_time": "2022-02-03T17:16:22.778Z"
   },
   {
    "duration": 451,
    "start_time": "2022-02-03T17:16:23.774Z"
   },
   {
    "duration": 103,
    "start_time": "2022-02-03T17:16:24.228Z"
   },
   {
    "duration": 227,
    "start_time": "2022-02-03T17:16:24.333Z"
   },
   {
    "duration": 2,
    "start_time": "2022-02-03T17:16:24.562Z"
   },
   {
    "duration": 946,
    "start_time": "2022-02-03T17:17:02.715Z"
   },
   {
    "duration": 448,
    "start_time": "2022-02-03T17:17:03.664Z"
   },
   {
    "duration": 123,
    "start_time": "2022-02-03T17:17:04.115Z"
   },
   {
    "duration": 1106,
    "start_time": "2022-02-03T17:20:47.067Z"
   },
   {
    "duration": 459,
    "start_time": "2022-02-03T17:20:48.175Z"
   },
   {
    "duration": 109,
    "start_time": "2022-02-03T17:20:48.637Z"
   },
   {
    "duration": 503,
    "start_time": "2022-02-03T17:20:48.748Z"
   },
   {
    "duration": -182,
    "start_time": "2022-02-03T17:20:49.435Z"
   },
   {
    "duration": 1124,
    "start_time": "2022-02-03T17:27:18.983Z"
   },
   {
    "duration": 470,
    "start_time": "2022-02-03T17:27:20.109Z"
   },
   {
    "duration": 153,
    "start_time": "2022-02-03T17:27:20.582Z"
   },
   {
    "duration": 47,
    "start_time": "2022-02-03T17:27:20.737Z"
   },
   {
    "duration": 22,
    "start_time": "2022-02-03T17:27:20.786Z"
   },
   {
    "duration": 1336,
    "start_time": "2022-02-03T17:30:28.518Z"
   },
   {
    "duration": 452,
    "start_time": "2022-02-03T17:30:29.856Z"
   },
   {
    "duration": 121,
    "start_time": "2022-02-03T17:30:30.311Z"
   },
   {
    "duration": 223,
    "start_time": "2022-02-03T17:30:30.434Z"
   },
   {
    "duration": 3,
    "start_time": "2022-02-03T17:30:30.659Z"
   },
   {
    "duration": 9,
    "start_time": "2022-02-03T19:36:19.705Z"
   },
   {
    "duration": 60,
    "start_time": "2022-02-03T19:36:30.125Z"
   },
   {
    "duration": 31,
    "start_time": "2022-02-03T19:41:44.379Z"
   },
   {
    "duration": 615,
    "start_time": "2022-02-03T19:42:22.313Z"
   },
   {
    "duration": 1128,
    "start_time": "2022-02-03T19:42:47.880Z"
   },
   {
    "duration": 440,
    "start_time": "2022-02-03T19:42:49.010Z"
   },
   {
    "duration": 106,
    "start_time": "2022-02-03T19:42:49.454Z"
   },
   {
    "duration": 58,
    "start_time": "2022-02-03T19:42:49.561Z"
   },
   {
    "duration": 202,
    "start_time": "2022-02-03T19:42:49.621Z"
   },
   {
    "duration": 2,
    "start_time": "2022-02-03T19:42:49.825Z"
   },
   {
    "duration": 33,
    "start_time": "2022-02-03T19:44:09.543Z"
   },
   {
    "duration": 35,
    "start_time": "2022-02-03T19:45:34.163Z"
   },
   {
    "duration": 34,
    "start_time": "2022-02-03T19:45:37.760Z"
   },
   {
    "duration": 33,
    "start_time": "2022-02-03T19:47:34.320Z"
   },
   {
    "duration": 119,
    "start_time": "2022-02-03T19:51:31.303Z"
   },
   {
    "duration": 129,
    "start_time": "2022-02-03T19:51:47.107Z"
   },
   {
    "duration": 424,
    "start_time": "2022-02-03T19:53:48.112Z"
   },
   {
    "duration": 339,
    "start_time": "2022-02-03T19:54:14.967Z"
   },
   {
    "duration": 51,
    "start_time": "2022-02-03T19:54:21.220Z"
   },
   {
    "duration": 6,
    "start_time": "2022-02-03T20:00:20.557Z"
   },
   {
    "duration": 1234,
    "start_time": "2022-02-03T20:00:34.785Z"
   },
   {
    "duration": 474,
    "start_time": "2022-02-03T20:00:36.021Z"
   },
   {
    "duration": 128,
    "start_time": "2022-02-03T20:00:36.498Z"
   },
   {
    "duration": 138,
    "start_time": "2022-02-03T20:00:36.629Z"
   },
   {
    "duration": 3,
    "start_time": "2022-02-03T20:00:36.769Z"
   },
   {
    "duration": 7,
    "start_time": "2022-02-03T20:00:36.774Z"
   },
   {
    "duration": 55,
    "start_time": "2022-02-03T20:00:36.783Z"
   },
   {
    "duration": 30,
    "start_time": "2022-02-03T20:00:36.840Z"
   },
   {
    "duration": 10,
    "start_time": "2022-02-03T20:01:01.523Z"
   },
   {
    "duration": 6,
    "start_time": "2022-02-03T20:01:35.287Z"
   },
   {
    "duration": 10,
    "start_time": "2022-02-03T20:01:37.970Z"
   },
   {
    "duration": 293,
    "start_time": "2022-02-03T20:05:08.651Z"
   },
   {
    "duration": 283,
    "start_time": "2022-02-03T20:05:31.872Z"
   },
   {
    "duration": 1065,
    "start_time": "2022-02-03T20:06:24.949Z"
   },
   {
    "duration": 433,
    "start_time": "2022-02-03T20:06:26.016Z"
   },
   {
    "duration": 100,
    "start_time": "2022-02-03T20:06:26.454Z"
   },
   {
    "duration": 125,
    "start_time": "2022-02-03T20:06:26.556Z"
   },
   {
    "duration": 23,
    "start_time": "2022-02-03T20:06:26.684Z"
   },
   {
    "duration": 296,
    "start_time": "2022-02-03T20:06:26.709Z"
   },
   {
    "duration": -50,
    "start_time": "2022-02-03T20:06:27.058Z"
   },
   {
    "duration": -53,
    "start_time": "2022-02-03T20:06:27.062Z"
   },
   {
    "duration": -52,
    "start_time": "2022-02-03T20:06:27.063Z"
   },
   {
    "duration": -53,
    "start_time": "2022-02-03T20:06:27.065Z"
   },
   {
    "duration": 233,
    "start_time": "2022-02-03T20:06:52.833Z"
   },
   {
    "duration": 60,
    "start_time": "2022-02-03T20:10:33.415Z"
   },
   {
    "duration": 14,
    "start_time": "2022-02-03T20:10:38.314Z"
   },
   {
    "duration": 1190,
    "start_time": "2022-02-03T20:11:06.540Z"
   },
   {
    "duration": 475,
    "start_time": "2022-02-03T20:11:07.732Z"
   },
   {
    "duration": 136,
    "start_time": "2022-02-03T20:11:08.210Z"
   },
   {
    "duration": 138,
    "start_time": "2022-02-03T20:11:08.349Z"
   },
   {
    "duration": 20,
    "start_time": "2022-02-03T20:11:08.489Z"
   },
   {
    "duration": 57,
    "start_time": "2022-02-03T20:11:08.511Z"
   },
   {
    "duration": 10,
    "start_time": "2022-02-03T20:11:08.570Z"
   },
   {
    "duration": 3,
    "start_time": "2022-02-03T20:11:08.607Z"
   },
   {
    "duration": 43,
    "start_time": "2022-02-03T20:11:08.613Z"
   },
   {
    "duration": 53,
    "start_time": "2022-02-03T20:11:08.658Z"
   },
   {
    "duration": 5,
    "start_time": "2022-02-03T20:13:41.198Z"
   },
   {
    "duration": 9,
    "start_time": "2022-02-03T20:13:43.530Z"
   },
   {
    "duration": 6,
    "start_time": "2022-02-03T21:03:22.056Z"
   },
   {
    "duration": 9,
    "start_time": "2022-02-03T21:03:24.956Z"
   },
   {
    "duration": 19,
    "start_time": "2022-02-03T21:03:31.841Z"
   },
   {
    "duration": 9,
    "start_time": "2022-02-03T21:03:46.293Z"
   },
   {
    "duration": 17,
    "start_time": "2022-02-03T21:03:51.393Z"
   },
   {
    "duration": 17,
    "start_time": "2022-02-03T21:04:12.330Z"
   },
   {
    "duration": 1003,
    "start_time": "2022-02-04T10:39:33.282Z"
   },
   {
    "duration": 374,
    "start_time": "2022-02-04T10:39:34.287Z"
   },
   {
    "duration": 90,
    "start_time": "2022-02-04T10:39:34.664Z"
   },
   {
    "duration": 110,
    "start_time": "2022-02-04T10:39:34.756Z"
   },
   {
    "duration": 8,
    "start_time": "2022-02-04T10:39:34.867Z"
   },
   {
    "duration": 6,
    "start_time": "2022-02-04T10:39:34.876Z"
   },
   {
    "duration": 7,
    "start_time": "2022-02-04T10:39:34.884Z"
   },
   {
    "duration": 34,
    "start_time": "2022-02-04T10:39:34.893Z"
   },
   {
    "duration": 15,
    "start_time": "2022-02-04T10:39:34.929Z"
   },
   {
    "duration": 24,
    "start_time": "2022-02-04T10:39:34.946Z"
   },
   {
    "duration": 47,
    "start_time": "2022-02-04T10:39:34.971Z"
   },
   {
    "duration": 12,
    "start_time": "2022-02-04T10:43:49.556Z"
   },
   {
    "duration": 13,
    "start_time": "2022-02-04T10:44:42.275Z"
   },
   {
    "duration": 194,
    "start_time": "2022-02-04T10:50:54.112Z"
   },
   {
    "duration": 13,
    "start_time": "2022-02-04T10:51:10.359Z"
   },
   {
    "duration": 183,
    "start_time": "2022-02-04T10:51:22.126Z"
   },
   {
    "duration": 184,
    "start_time": "2022-02-04T10:51:51.166Z"
   },
   {
    "duration": 4,
    "start_time": "2022-02-06T19:29:28.148Z"
   },
   {
    "duration": 378,
    "start_time": "2022-02-06T19:30:03.211Z"
   },
   {
    "duration": 1291,
    "start_time": "2022-02-06T19:30:08.351Z"
   },
   {
    "duration": 521,
    "start_time": "2022-02-06T19:30:09.646Z"
   },
   {
    "duration": 141,
    "start_time": "2022-02-06T19:30:10.170Z"
   },
   {
    "duration": 178,
    "start_time": "2022-02-06T19:30:10.314Z"
   },
   {
    "duration": 8,
    "start_time": "2022-02-06T19:30:10.495Z"
   },
   {
    "duration": 52,
    "start_time": "2022-02-06T19:30:10.506Z"
   },
   {
    "duration": 22,
    "start_time": "2022-02-06T19:30:10.561Z"
   },
   {
    "duration": 25,
    "start_time": "2022-02-06T19:30:10.586Z"
   },
   {
    "duration": 316,
    "start_time": "2022-02-06T19:30:10.614Z"
   },
   {
    "duration": 27,
    "start_time": "2022-02-06T19:30:10.933Z"
   },
   {
    "duration": 306,
    "start_time": "2022-02-06T19:30:10.962Z"
   },
   {
    "duration": 13,
    "start_time": "2022-02-06T19:30:11.270Z"
   },
   {
    "duration": 13,
    "start_time": "2022-02-06T19:30:49.414Z"
   },
   {
    "duration": 12,
    "start_time": "2022-02-06T19:31:04.117Z"
   },
   {
    "duration": 189,
    "start_time": "2022-02-06T19:36:13.315Z"
   },
   {
    "duration": 462,
    "start_time": "2022-02-06T19:39:50.434Z"
   },
   {
    "duration": 31,
    "start_time": "2022-02-06T19:40:20.283Z"
   },
   {
    "duration": 34,
    "start_time": "2022-02-06T19:40:50.589Z"
   },
   {
    "duration": 13,
    "start_time": "2022-02-06T19:41:08.717Z"
   },
   {
    "duration": 15,
    "start_time": "2022-02-06T19:42:32.317Z"
   },
   {
    "duration": 16,
    "start_time": "2022-02-06T19:42:44.110Z"
   },
   {
    "duration": 16,
    "start_time": "2022-02-06T19:42:51.602Z"
   },
   {
    "duration": 19,
    "start_time": "2022-02-06T19:43:19.310Z"
   },
   {
    "duration": 15,
    "start_time": "2022-02-06T19:47:08.733Z"
   },
   {
    "duration": 10,
    "start_time": "2022-02-06T19:48:06.792Z"
   },
   {
    "duration": 1259,
    "start_time": "2022-02-06T19:48:19.640Z"
   },
   {
    "duration": 503,
    "start_time": "2022-02-06T19:48:20.901Z"
   },
   {
    "duration": 143,
    "start_time": "2022-02-06T19:48:21.408Z"
   },
   {
    "duration": 148,
    "start_time": "2022-02-06T19:48:21.554Z"
   },
   {
    "duration": 6,
    "start_time": "2022-02-06T19:48:21.704Z"
   },
   {
    "duration": 45,
    "start_time": "2022-02-06T19:48:21.712Z"
   },
   {
    "duration": 20,
    "start_time": "2022-02-06T19:48:21.760Z"
   },
   {
    "duration": 16,
    "start_time": "2022-02-06T19:48:21.783Z"
   },
   {
    "duration": 306,
    "start_time": "2022-02-06T19:48:21.803Z"
   },
   {
    "duration": 16,
    "start_time": "2022-02-06T19:48:22.112Z"
   },
   {
    "duration": 323,
    "start_time": "2022-02-06T19:48:22.131Z"
   },
   {
    "duration": 14,
    "start_time": "2022-02-06T19:48:22.456Z"
   },
   {
    "duration": 195,
    "start_time": "2022-02-06T19:48:22.472Z"
   },
   {
    "duration": 19,
    "start_time": "2022-02-06T19:48:22.670Z"
   },
   {
    "duration": 150,
    "start_time": "2022-02-06T19:48:22.692Z"
   },
   {
    "duration": 1275,
    "start_time": "2022-02-06T19:48:47.343Z"
   },
   {
    "duration": 587,
    "start_time": "2022-02-06T19:48:48.620Z"
   },
   {
    "duration": 140,
    "start_time": "2022-02-06T19:48:49.210Z"
   },
   {
    "duration": 170,
    "start_time": "2022-02-06T19:48:49.353Z"
   },
   {
    "duration": 21,
    "start_time": "2022-02-06T19:48:49.527Z"
   },
   {
    "duration": 23,
    "start_time": "2022-02-06T19:48:49.551Z"
   },
   {
    "duration": 23,
    "start_time": "2022-02-06T19:48:49.577Z"
   },
   {
    "duration": 50,
    "start_time": "2022-02-06T19:48:49.603Z"
   },
   {
    "duration": 305,
    "start_time": "2022-02-06T19:48:49.656Z"
   },
   {
    "duration": 16,
    "start_time": "2022-02-06T19:48:49.963Z"
   },
   {
    "duration": 309,
    "start_time": "2022-02-06T19:48:49.981Z"
   },
   {
    "duration": 12,
    "start_time": "2022-02-06T19:48:50.292Z"
   },
   {
    "duration": 205,
    "start_time": "2022-02-06T19:48:50.306Z"
   },
   {
    "duration": 18,
    "start_time": "2022-02-06T19:48:50.514Z"
   },
   {
    "duration": 52,
    "start_time": "2022-02-06T19:48:50.535Z"
   },
   {
    "duration": 1286,
    "start_time": "2022-02-06T19:53:33.930Z"
   },
   {
    "duration": 503,
    "start_time": "2022-02-06T19:53:35.218Z"
   },
   {
    "duration": 139,
    "start_time": "2022-02-06T19:53:35.724Z"
   },
   {
    "duration": 151,
    "start_time": "2022-02-06T19:53:35.866Z"
   },
   {
    "duration": 6,
    "start_time": "2022-02-06T19:53:36.020Z"
   },
   {
    "duration": 39,
    "start_time": "2022-02-06T19:53:36.028Z"
   },
   {
    "duration": 21,
    "start_time": "2022-02-06T19:53:36.070Z"
   },
   {
    "duration": 17,
    "start_time": "2022-02-06T19:53:36.096Z"
   },
   {
    "duration": 305,
    "start_time": "2022-02-06T19:53:36.149Z"
   },
   {
    "duration": 17,
    "start_time": "2022-02-06T19:53:36.456Z"
   },
   {
    "duration": 307,
    "start_time": "2022-02-06T19:53:36.476Z"
   },
   {
    "duration": 13,
    "start_time": "2022-02-06T19:53:36.786Z"
   },
   {
    "duration": 54,
    "start_time": "2022-02-06T19:53:36.801Z"
   },
   {
    "duration": 14,
    "start_time": "2022-02-06T19:53:36.858Z"
   },
   {
    "duration": 218,
    "start_time": "2022-02-06T19:53:36.875Z"
   },
   {
    "duration": 22,
    "start_time": "2022-02-06T19:53:37.096Z"
   },
   {
    "duration": 48,
    "start_time": "2022-02-06T19:53:37.121Z"
   },
   {
    "duration": 1294,
    "start_time": "2022-02-06T19:55:24.374Z"
   },
   {
    "duration": 522,
    "start_time": "2022-02-06T19:55:25.671Z"
   },
   {
    "duration": 128,
    "start_time": "2022-02-06T19:55:26.197Z"
   },
   {
    "duration": 140,
    "start_time": "2022-02-06T19:55:26.350Z"
   },
   {
    "duration": 6,
    "start_time": "2022-02-06T19:55:26.492Z"
   },
   {
    "duration": 48,
    "start_time": "2022-02-06T19:55:26.501Z"
   },
   {
    "duration": 21,
    "start_time": "2022-02-06T19:55:26.552Z"
   },
   {
    "duration": 17,
    "start_time": "2022-02-06T19:55:26.577Z"
   },
   {
    "duration": 324,
    "start_time": "2022-02-06T19:55:26.597Z"
   },
   {
    "duration": 28,
    "start_time": "2022-02-06T19:55:26.924Z"
   },
   {
    "duration": 317,
    "start_time": "2022-02-06T19:55:26.955Z"
   },
   {
    "duration": 13,
    "start_time": "2022-02-06T19:55:27.276Z"
   },
   {
    "duration": 61,
    "start_time": "2022-02-06T19:55:27.292Z"
   },
   {
    "duration": 13,
    "start_time": "2022-02-06T19:55:27.355Z"
   },
   {
    "duration": 206,
    "start_time": "2022-02-06T19:55:27.370Z"
   },
   {
    "duration": 20,
    "start_time": "2022-02-06T19:55:27.578Z"
   },
   {
    "duration": 59,
    "start_time": "2022-02-06T19:55:27.601Z"
   },
   {
    "duration": 22,
    "start_time": "2022-02-06T19:57:36.677Z"
   },
   {
    "duration": 8237,
    "start_time": "2022-02-06T19:58:55.159Z"
   },
   {
    "duration": 6065,
    "start_time": "2022-02-06T19:59:15.408Z"
   },
   {
    "duration": 308,
    "start_time": "2022-02-06T19:59:35.630Z"
   },
   {
    "duration": 11,
    "start_time": "2022-02-06T19:59:43.413Z"
   },
   {
    "duration": 1241,
    "start_time": "2022-02-06T19:59:53.376Z"
   },
   {
    "duration": 503,
    "start_time": "2022-02-06T19:59:54.620Z"
   },
   {
    "duration": 147,
    "start_time": "2022-02-06T19:59:55.127Z"
   },
   {
    "duration": 155,
    "start_time": "2022-02-06T19:59:55.278Z"
   },
   {
    "duration": 15,
    "start_time": "2022-02-06T19:59:55.436Z"
   },
   {
    "duration": 24,
    "start_time": "2022-02-06T19:59:55.453Z"
   },
   {
    "duration": 22,
    "start_time": "2022-02-06T19:59:55.479Z"
   },
   {
    "duration": 54,
    "start_time": "2022-02-06T19:59:55.504Z"
   },
   {
    "duration": 297,
    "start_time": "2022-02-06T19:59:55.563Z"
   },
   {
    "duration": 15,
    "start_time": "2022-02-06T19:59:55.863Z"
   },
   {
    "duration": 299,
    "start_time": "2022-02-06T19:59:55.881Z"
   },
   {
    "duration": 12,
    "start_time": "2022-02-06T19:59:56.182Z"
   },
   {
    "duration": 52,
    "start_time": "2022-02-06T19:59:56.196Z"
   },
   {
    "duration": 13,
    "start_time": "2022-02-06T19:59:56.251Z"
   },
   {
    "duration": 13,
    "start_time": "2022-02-06T19:59:56.267Z"
   },
   {
    "duration": 209,
    "start_time": "2022-02-06T19:59:56.282Z"
   },
   {
    "duration": 19,
    "start_time": "2022-02-06T19:59:56.494Z"
   },
   {
    "duration": 64,
    "start_time": "2022-02-06T19:59:56.516Z"
   },
   {
    "duration": 1334,
    "start_time": "2022-02-06T20:08:01.289Z"
   },
   {
    "duration": 510,
    "start_time": "2022-02-06T20:08:02.626Z"
   },
   {
    "duration": 134,
    "start_time": "2022-02-06T20:08:03.143Z"
   },
   {
    "duration": 161,
    "start_time": "2022-02-06T20:08:03.280Z"
   },
   {
    "duration": 7,
    "start_time": "2022-02-06T20:08:03.447Z"
   },
   {
    "duration": 26,
    "start_time": "2022-02-06T20:08:03.456Z"
   },
   {
    "duration": 22,
    "start_time": "2022-02-06T20:08:03.486Z"
   },
   {
    "duration": 48,
    "start_time": "2022-02-06T20:08:03.512Z"
   },
   {
    "duration": 294,
    "start_time": "2022-02-06T20:08:03.563Z"
   },
   {
    "duration": 21,
    "start_time": "2022-02-06T20:08:03.860Z"
   },
   {
    "duration": 474,
    "start_time": "2022-02-06T20:08:03.883Z"
   },
   {
    "duration": 12,
    "start_time": "2022-02-06T20:08:04.360Z"
   },
   {
    "duration": 10,
    "start_time": "2022-02-06T20:08:04.374Z"
   },
   {
    "duration": 14,
    "start_time": "2022-02-06T20:08:04.386Z"
   },
   {
    "duration": 261,
    "start_time": "2022-02-06T20:08:04.402Z"
   },
   {
    "duration": 20,
    "start_time": "2022-02-06T20:08:04.665Z"
   },
   {
    "duration": 69,
    "start_time": "2022-02-06T20:08:04.688Z"
   },
   {
    "duration": 1260,
    "start_time": "2022-02-06T20:08:57.431Z"
   },
   {
    "duration": 507,
    "start_time": "2022-02-06T20:08:58.694Z"
   },
   {
    "duration": 145,
    "start_time": "2022-02-06T20:08:59.205Z"
   },
   {
    "duration": 152,
    "start_time": "2022-02-06T20:08:59.353Z"
   },
   {
    "duration": 6,
    "start_time": "2022-02-06T20:08:59.508Z"
   },
   {
    "duration": 45,
    "start_time": "2022-02-06T20:08:59.516Z"
   },
   {
    "duration": 24,
    "start_time": "2022-02-06T20:08:59.563Z"
   },
   {
    "duration": 19,
    "start_time": "2022-02-06T20:08:59.590Z"
   },
   {
    "duration": 323,
    "start_time": "2022-02-06T20:08:59.614Z"
   },
   {
    "duration": 22,
    "start_time": "2022-02-06T20:08:59.940Z"
   },
   {
    "duration": 309,
    "start_time": "2022-02-06T20:08:59.965Z"
   },
   {
    "duration": 12,
    "start_time": "2022-02-06T20:09:00.277Z"
   },
   {
    "duration": 22,
    "start_time": "2022-02-06T20:09:00.291Z"
   },
   {
    "duration": 25,
    "start_time": "2022-02-06T20:09:00.316Z"
   },
   {
    "duration": 249,
    "start_time": "2022-02-06T20:09:00.348Z"
   },
   {
    "duration": 19,
    "start_time": "2022-02-06T20:09:00.600Z"
   },
   {
    "duration": 73,
    "start_time": "2022-02-06T20:09:00.621Z"
   },
   {
    "duration": 1307,
    "start_time": "2022-02-06T20:10:12.928Z"
   },
   {
    "duration": 507,
    "start_time": "2022-02-06T20:10:14.238Z"
   },
   {
    "duration": 147,
    "start_time": "2022-02-06T20:10:14.748Z"
   },
   {
    "duration": 172,
    "start_time": "2022-02-06T20:10:14.898Z"
   },
   {
    "duration": 6,
    "start_time": "2022-02-06T20:10:15.073Z"
   },
   {
    "duration": 42,
    "start_time": "2022-02-06T20:10:15.081Z"
   },
   {
    "duration": 43,
    "start_time": "2022-02-06T20:10:15.126Z"
   },
   {
    "duration": 16,
    "start_time": "2022-02-06T20:10:15.173Z"
   },
   {
    "duration": 311,
    "start_time": "2022-02-06T20:10:15.192Z"
   },
   {
    "duration": 16,
    "start_time": "2022-02-06T20:10:15.505Z"
   },
   {
    "duration": 289,
    "start_time": "2022-02-06T20:10:15.524Z"
   },
   {
    "duration": 11,
    "start_time": "2022-02-06T20:10:15.815Z"
   },
   {
    "duration": 103,
    "start_time": "2022-02-06T20:10:15.829Z"
   },
   {
    "duration": 23,
    "start_time": "2022-02-06T20:10:15.935Z"
   },
   {
    "duration": 270,
    "start_time": "2022-02-06T20:10:15.960Z"
   },
   {
    "duration": 26,
    "start_time": "2022-02-06T20:10:16.232Z"
   },
   {
    "duration": 65,
    "start_time": "2022-02-06T20:10:16.261Z"
   },
   {
    "duration": 21,
    "start_time": "2022-02-06T20:12:54.864Z"
   },
   {
    "duration": 1230,
    "start_time": "2022-02-06T20:13:08.285Z"
   },
   {
    "duration": 502,
    "start_time": "2022-02-06T20:13:09.518Z"
   },
   {
    "duration": 141,
    "start_time": "2022-02-06T20:13:10.023Z"
   },
   {
    "duration": 154,
    "start_time": "2022-02-06T20:13:10.167Z"
   },
   {
    "duration": 6,
    "start_time": "2022-02-06T20:13:10.324Z"
   },
   {
    "duration": 39,
    "start_time": "2022-02-06T20:13:10.332Z"
   },
   {
    "duration": 21,
    "start_time": "2022-02-06T20:13:10.373Z"
   },
   {
    "duration": 16,
    "start_time": "2022-02-06T20:13:10.397Z"
   },
   {
    "duration": 320,
    "start_time": "2022-02-06T20:13:10.416Z"
   },
   {
    "duration": 23,
    "start_time": "2022-02-06T20:13:10.739Z"
   },
   {
    "duration": 294,
    "start_time": "2022-02-06T20:13:10.765Z"
   },
   {
    "duration": 13,
    "start_time": "2022-02-06T20:13:11.062Z"
   },
   {
    "duration": 117,
    "start_time": "2022-02-06T20:13:11.077Z"
   },
   {
    "duration": 13,
    "start_time": "2022-02-06T20:13:11.197Z"
   },
   {
    "duration": 268,
    "start_time": "2022-02-06T20:13:11.213Z"
   },
   {
    "duration": 21,
    "start_time": "2022-02-06T20:13:11.483Z"
   },
   {
    "duration": 86,
    "start_time": "2022-02-06T20:13:11.507Z"
   },
   {
    "duration": 94,
    "start_time": "2022-02-06T20:18:16.469Z"
   },
   {
    "duration": 1269,
    "start_time": "2022-02-06T20:20:42.121Z"
   },
   {
    "duration": 506,
    "start_time": "2022-02-06T20:20:43.393Z"
   },
   {
    "duration": 124,
    "start_time": "2022-02-06T20:20:43.903Z"
   },
   {
    "duration": 157,
    "start_time": "2022-02-06T20:20:44.049Z"
   },
   {
    "duration": 7,
    "start_time": "2022-02-06T20:20:44.209Z"
   },
   {
    "duration": 45,
    "start_time": "2022-02-06T20:20:44.218Z"
   },
   {
    "duration": 22,
    "start_time": "2022-02-06T20:20:44.266Z"
   },
   {
    "duration": 20,
    "start_time": "2022-02-06T20:20:44.291Z"
   },
   {
    "duration": 327,
    "start_time": "2022-02-06T20:20:44.315Z"
   },
   {
    "duration": 22,
    "start_time": "2022-02-06T20:20:44.649Z"
   },
   {
    "duration": 329,
    "start_time": "2022-02-06T20:20:44.674Z"
   },
   {
    "duration": 13,
    "start_time": "2022-02-06T20:20:45.005Z"
   },
   {
    "duration": 107,
    "start_time": "2022-02-06T20:20:45.020Z"
   },
   {
    "duration": 25,
    "start_time": "2022-02-06T20:20:45.130Z"
   },
   {
    "duration": 261,
    "start_time": "2022-02-06T20:20:45.157Z"
   },
   {
    "duration": 18,
    "start_time": "2022-02-06T20:20:45.420Z"
   },
   {
    "duration": 56,
    "start_time": "2022-02-06T20:20:45.449Z"
   },
   {
    "duration": 71,
    "start_time": "2022-02-06T20:20:45.508Z"
   },
   {
    "duration": 141,
    "start_time": "2022-02-06T20:20:45.582Z"
   },
   {
    "duration": 373,
    "start_time": "2022-02-06T20:20:45.725Z"
   },
   {
    "duration": 70,
    "start_time": "2022-02-06T20:21:00.099Z"
   },
   {
    "duration": 65,
    "start_time": "2022-02-06T20:21:06.458Z"
   },
   {
    "duration": 1312,
    "start_time": "2022-02-06T20:22:12.194Z"
   },
   {
    "duration": 540,
    "start_time": "2022-02-06T20:22:13.509Z"
   },
   {
    "duration": 157,
    "start_time": "2022-02-06T20:22:14.052Z"
   },
   {
    "duration": 175,
    "start_time": "2022-02-06T20:22:14.213Z"
   },
   {
    "duration": 7,
    "start_time": "2022-02-06T20:22:14.392Z"
   },
   {
    "duration": 55,
    "start_time": "2022-02-06T20:22:14.402Z"
   },
   {
    "duration": 24,
    "start_time": "2022-02-06T20:22:14.459Z"
   },
   {
    "duration": 18,
    "start_time": "2022-02-06T20:22:14.488Z"
   },
   {
    "duration": 354,
    "start_time": "2022-02-06T20:22:14.509Z"
   },
   {
    "duration": 17,
    "start_time": "2022-02-06T20:22:14.866Z"
   },
   {
    "duration": 345,
    "start_time": "2022-02-06T20:22:14.886Z"
   },
   {
    "duration": 20,
    "start_time": "2022-02-06T20:22:15.234Z"
   },
   {
    "duration": 104,
    "start_time": "2022-02-06T20:22:15.256Z"
   },
   {
    "duration": 13,
    "start_time": "2022-02-06T20:22:15.363Z"
   },
   {
    "duration": 288,
    "start_time": "2022-02-06T20:22:15.378Z"
   },
   {
    "duration": 18,
    "start_time": "2022-02-06T20:22:15.669Z"
   },
   {
    "duration": 91,
    "start_time": "2022-02-06T20:22:15.690Z"
   },
   {
    "duration": 69,
    "start_time": "2022-02-06T20:22:15.784Z"
   },
   {
    "duration": 141,
    "start_time": "2022-02-06T20:22:15.855Z"
   },
   {
    "duration": 50,
    "start_time": "2022-02-06T20:22:15.998Z"
   },
   {
    "duration": 1345,
    "start_time": "2022-02-06T20:23:03.449Z"
   },
   {
    "duration": 509,
    "start_time": "2022-02-06T20:23:04.797Z"
   },
   {
    "duration": 143,
    "start_time": "2022-02-06T20:23:05.310Z"
   },
   {
    "duration": 149,
    "start_time": "2022-02-06T20:23:05.456Z"
   },
   {
    "duration": 6,
    "start_time": "2022-02-06T20:23:05.608Z"
   },
   {
    "duration": 46,
    "start_time": "2022-02-06T20:23:05.617Z"
   },
   {
    "duration": 23,
    "start_time": "2022-02-06T20:23:05.665Z"
   },
   {
    "duration": 18,
    "start_time": "2022-02-06T20:23:05.691Z"
   },
   {
    "duration": 323,
    "start_time": "2022-02-06T20:23:05.712Z"
   },
   {
    "duration": 23,
    "start_time": "2022-02-06T20:23:06.038Z"
   },
   {
    "duration": 312,
    "start_time": "2022-02-06T20:23:06.064Z"
   },
   {
    "duration": 12,
    "start_time": "2022-02-06T20:23:06.378Z"
   },
   {
    "duration": 109,
    "start_time": "2022-02-06T20:23:06.392Z"
   },
   {
    "duration": 16,
    "start_time": "2022-02-06T20:23:06.504Z"
   },
   {
    "duration": 279,
    "start_time": "2022-02-06T20:23:06.523Z"
   },
   {
    "duration": 19,
    "start_time": "2022-02-06T20:23:06.805Z"
   },
   {
    "duration": 81,
    "start_time": "2022-02-06T20:23:06.826Z"
   },
   {
    "duration": 64,
    "start_time": "2022-02-06T20:23:06.910Z"
   },
   {
    "duration": 155,
    "start_time": "2022-02-06T20:23:06.977Z"
   },
   {
    "duration": 733,
    "start_time": "2022-02-06T20:23:07.135Z"
   },
   {
    "duration": 6125,
    "start_time": "2022-02-06T20:23:21.785Z"
   },
   {
    "duration": 7210,
    "start_time": "2022-02-06T20:23:58.564Z"
   },
   {
    "duration": 6521,
    "start_time": "2022-02-06T20:24:07.349Z"
   },
   {
    "duration": 1419,
    "start_time": "2022-02-06T20:24:36.367Z"
   },
   {
    "duration": 516,
    "start_time": "2022-02-06T20:24:37.789Z"
   },
   {
    "duration": 145,
    "start_time": "2022-02-06T20:24:38.308Z"
   },
   {
    "duration": 155,
    "start_time": "2022-02-06T20:24:38.456Z"
   },
   {
    "duration": 7,
    "start_time": "2022-02-06T20:24:38.614Z"
   },
   {
    "duration": 57,
    "start_time": "2022-02-06T20:24:38.624Z"
   },
   {
    "duration": 25,
    "start_time": "2022-02-06T20:24:38.684Z"
   },
   {
    "duration": 41,
    "start_time": "2022-02-06T20:24:38.712Z"
   },
   {
    "duration": 311,
    "start_time": "2022-02-06T20:24:38.757Z"
   },
   {
    "duration": 17,
    "start_time": "2022-02-06T20:24:39.072Z"
   },
   {
    "duration": 309,
    "start_time": "2022-02-06T20:24:39.092Z"
   },
   {
    "duration": 12,
    "start_time": "2022-02-06T20:24:39.403Z"
   },
   {
    "duration": 111,
    "start_time": "2022-02-06T20:24:39.417Z"
   },
   {
    "duration": 21,
    "start_time": "2022-02-06T20:24:39.530Z"
   },
   {
    "duration": 269,
    "start_time": "2022-02-06T20:24:39.553Z"
   },
   {
    "duration": 28,
    "start_time": "2022-02-06T20:24:39.824Z"
   },
   {
    "duration": 67,
    "start_time": "2022-02-06T20:24:39.855Z"
   },
   {
    "duration": 68,
    "start_time": "2022-02-06T20:24:39.924Z"
   },
   {
    "duration": 153,
    "start_time": "2022-02-06T20:24:39.995Z"
   },
   {
    "duration": 43,
    "start_time": "2022-02-06T20:24:40.151Z"
   },
   {
    "duration": 356,
    "start_time": "2022-02-06T20:24:49.623Z"
   },
   {
    "duration": 1356,
    "start_time": "2022-02-06T20:25:03.234Z"
   },
   {
    "duration": 513,
    "start_time": "2022-02-06T20:25:04.593Z"
   },
   {
    "duration": 139,
    "start_time": "2022-02-06T20:25:05.110Z"
   },
   {
    "duration": 151,
    "start_time": "2022-02-06T20:25:05.253Z"
   },
   {
    "duration": 6,
    "start_time": "2022-02-06T20:25:05.407Z"
   },
   {
    "duration": 45,
    "start_time": "2022-02-06T20:25:05.415Z"
   },
   {
    "duration": 22,
    "start_time": "2022-02-06T20:25:05.462Z"
   },
   {
    "duration": 17,
    "start_time": "2022-02-06T20:25:05.486Z"
   },
   {
    "duration": 324,
    "start_time": "2022-02-06T20:25:05.507Z"
   },
   {
    "duration": 25,
    "start_time": "2022-02-06T20:25:05.834Z"
   },
   {
    "duration": 302,
    "start_time": "2022-02-06T20:25:05.862Z"
   },
   {
    "duration": 12,
    "start_time": "2022-02-06T20:25:06.167Z"
   },
   {
    "duration": 104,
    "start_time": "2022-02-06T20:25:06.181Z"
   },
   {
    "duration": 13,
    "start_time": "2022-02-06T20:25:06.288Z"
   },
   {
    "duration": 295,
    "start_time": "2022-02-06T20:25:06.304Z"
   },
   {
    "duration": 23,
    "start_time": "2022-02-06T20:25:06.601Z"
   },
   {
    "duration": 80,
    "start_time": "2022-02-06T20:25:06.626Z"
   },
   {
    "duration": 68,
    "start_time": "2022-02-06T20:25:06.708Z"
   },
   {
    "duration": 153,
    "start_time": "2022-02-06T20:25:06.779Z"
   },
   {
    "duration": 620,
    "start_time": "2022-02-06T20:25:06.934Z"
   },
   {
    "duration": 43,
    "start_time": "2022-02-06T20:25:38.168Z"
   },
   {
    "duration": 69,
    "start_time": "2022-02-06T20:29:50.656Z"
   },
   {
    "duration": 158,
    "start_time": "2022-02-06T20:29:52.299Z"
   },
   {
    "duration": 48,
    "start_time": "2022-02-06T20:30:03.219Z"
   },
   {
    "duration": 18,
    "start_time": "2022-02-06T20:31:49.889Z"
   },
   {
    "duration": 17,
    "start_time": "2022-02-06T20:34:28.918Z"
   },
   {
    "duration": 18,
    "start_time": "2022-02-06T20:40:45.737Z"
   },
   {
    "duration": 1855,
    "start_time": "2022-02-06T20:40:55.384Z"
   },
   {
    "duration": 615,
    "start_time": "2022-02-06T20:40:57.243Z"
   },
   {
    "duration": 149,
    "start_time": "2022-02-06T20:40:57.863Z"
   },
   {
    "duration": 176,
    "start_time": "2022-02-06T20:40:58.015Z"
   },
   {
    "duration": 6,
    "start_time": "2022-02-06T20:40:58.193Z"
   },
   {
    "duration": 48,
    "start_time": "2022-02-06T20:40:58.202Z"
   },
   {
    "duration": 22,
    "start_time": "2022-02-06T20:40:58.253Z"
   },
   {
    "duration": 19,
    "start_time": "2022-02-06T20:40:58.278Z"
   },
   {
    "duration": 348,
    "start_time": "2022-02-06T20:40:58.302Z"
   },
   {
    "duration": 17,
    "start_time": "2022-02-06T20:40:58.653Z"
   },
   {
    "duration": 329,
    "start_time": "2022-02-06T20:40:58.672Z"
   },
   {
    "duration": 12,
    "start_time": "2022-02-06T20:40:59.004Z"
   },
   {
    "duration": 108,
    "start_time": "2022-02-06T20:40:59.019Z"
   },
   {
    "duration": 21,
    "start_time": "2022-02-06T20:40:59.129Z"
   },
   {
    "duration": 275,
    "start_time": "2022-02-06T20:40:59.153Z"
   },
   {
    "duration": 29,
    "start_time": "2022-02-06T20:40:59.430Z"
   },
   {
    "duration": 115,
    "start_time": "2022-02-06T20:40:59.461Z"
   },
   {
    "duration": 96,
    "start_time": "2022-02-06T20:40:59.579Z"
   },
   {
    "duration": 198,
    "start_time": "2022-02-06T20:40:59.678Z"
   },
   {
    "duration": 85,
    "start_time": "2022-02-06T20:40:59.879Z"
   },
   {
    "duration": 108,
    "start_time": "2022-02-06T20:40:59.967Z"
   },
   {
    "duration": 229,
    "start_time": "2022-02-06T20:41:00.079Z"
   },
   {
    "duration": 80,
    "start_time": "2022-02-06T20:41:00.312Z"
   },
   {
    "duration": 28,
    "start_time": "2022-02-06T20:41:00.396Z"
   },
   {
    "duration": 1224,
    "start_time": "2022-02-07T10:44:52.092Z"
   },
   {
    "duration": 436,
    "start_time": "2022-02-07T10:44:53.318Z"
   },
   {
    "duration": 100,
    "start_time": "2022-02-07T10:44:53.757Z"
   },
   {
    "duration": 123,
    "start_time": "2022-02-07T10:44:53.859Z"
   },
   {
    "duration": 5,
    "start_time": "2022-02-07T10:44:53.983Z"
   },
   {
    "duration": 37,
    "start_time": "2022-02-07T10:44:53.990Z"
   },
   {
    "duration": 17,
    "start_time": "2022-02-07T10:44:54.029Z"
   },
   {
    "duration": 14,
    "start_time": "2022-02-07T10:44:54.049Z"
   },
   {
    "duration": 228,
    "start_time": "2022-02-07T10:44:54.065Z"
   },
   {
    "duration": 23,
    "start_time": "2022-02-07T10:44:54.296Z"
   },
   {
    "duration": 199,
    "start_time": "2022-02-07T10:44:54.321Z"
   },
   {
    "duration": 9,
    "start_time": "2022-02-07T10:44:54.521Z"
   },
   {
    "duration": 67,
    "start_time": "2022-02-07T10:44:54.532Z"
   },
   {
    "duration": 23,
    "start_time": "2022-02-07T10:44:54.601Z"
   },
   {
    "duration": 249,
    "start_time": "2022-02-07T10:44:54.626Z"
   },
   {
    "duration": 19,
    "start_time": "2022-02-07T10:44:54.877Z"
   },
   {
    "duration": 92,
    "start_time": "2022-02-07T10:44:54.898Z"
   },
   {
    "duration": 59,
    "start_time": "2022-02-07T10:44:54.992Z"
   },
   {
    "duration": 119,
    "start_time": "2022-02-07T10:44:55.053Z"
   },
   {
    "duration": 48,
    "start_time": "2022-02-07T10:44:55.174Z"
   },
   {
    "duration": 54,
    "start_time": "2022-02-07T10:44:55.224Z"
   },
   {
    "duration": 140,
    "start_time": "2022-02-07T10:44:55.280Z"
   },
   {
    "duration": 37,
    "start_time": "2022-02-07T10:44:55.424Z"
   },
   {
    "duration": 14,
    "start_time": "2022-02-07T10:44:55.463Z"
   },
   {
    "duration": 2120,
    "start_time": "2022-02-07T10:49:14.590Z"
   },
   {
    "duration": 596,
    "start_time": "2022-02-07T10:49:16.712Z"
   },
   {
    "duration": 164,
    "start_time": "2022-02-07T10:49:17.311Z"
   },
   {
    "duration": 187,
    "start_time": "2022-02-07T10:49:17.477Z"
   },
   {
    "duration": 6,
    "start_time": "2022-02-07T10:49:17.666Z"
   },
   {
    "duration": 57,
    "start_time": "2022-02-07T10:49:17.674Z"
   },
   {
    "duration": 36,
    "start_time": "2022-02-07T10:49:17.733Z"
   },
   {
    "duration": 53,
    "start_time": "2022-02-07T10:49:17.773Z"
   },
   {
    "duration": 196,
    "start_time": "2022-02-07T10:49:17.829Z"
   },
   {
    "duration": 16,
    "start_time": "2022-02-07T10:49:18.027Z"
   },
   {
    "duration": 205,
    "start_time": "2022-02-07T10:49:18.045Z"
   },
   {
    "duration": 76,
    "start_time": "2022-02-07T10:49:18.252Z"
   },
   {
    "duration": 11,
    "start_time": "2022-02-07T10:49:18.330Z"
   },
   {
    "duration": 217,
    "start_time": "2022-02-07T10:49:18.343Z"
   },
   {
    "duration": 14,
    "start_time": "2022-02-07T10:49:18.562Z"
   },
   {
    "duration": 62,
    "start_time": "2022-02-07T10:49:18.578Z"
   },
   {
    "duration": 41,
    "start_time": "2022-02-07T10:49:18.641Z"
   },
   {
    "duration": 125,
    "start_time": "2022-02-07T10:49:18.685Z"
   },
   {
    "duration": 40,
    "start_time": "2022-02-07T10:49:18.812Z"
   },
   {
    "duration": 70,
    "start_time": "2022-02-07T10:49:18.854Z"
   },
   {
    "duration": 132,
    "start_time": "2022-02-07T10:49:18.926Z"
   },
   {
    "duration": 37,
    "start_time": "2022-02-07T10:49:19.060Z"
   },
   {
    "duration": 25,
    "start_time": "2022-02-07T10:49:19.100Z"
   },
   {
    "duration": 80,
    "start_time": "2022-02-07T10:50:13.045Z"
   },
   {
    "duration": 14,
    "start_time": "2022-02-07T10:50:35.442Z"
   },
   {
    "duration": 1248,
    "start_time": "2022-02-07T10:50:46.770Z"
   },
   {
    "duration": 443,
    "start_time": "2022-02-07T10:50:48.020Z"
   },
   {
    "duration": 101,
    "start_time": "2022-02-07T10:50:48.466Z"
   },
   {
    "duration": 121,
    "start_time": "2022-02-07T10:50:48.569Z"
   },
   {
    "duration": 5,
    "start_time": "2022-02-07T10:50:48.692Z"
   },
   {
    "duration": 35,
    "start_time": "2022-02-07T10:50:48.699Z"
   },
   {
    "duration": 17,
    "start_time": "2022-02-07T10:50:48.736Z"
   },
   {
    "duration": 15,
    "start_time": "2022-02-07T10:50:48.756Z"
   },
   {
    "duration": 221,
    "start_time": "2022-02-07T10:50:48.773Z"
   },
   {
    "duration": 23,
    "start_time": "2022-02-07T10:50:48.996Z"
   },
   {
    "duration": 192,
    "start_time": "2022-02-07T10:50:49.021Z"
   },
   {
    "duration": 65,
    "start_time": "2022-02-07T10:50:49.217Z"
   },
   {
    "duration": 9,
    "start_time": "2022-02-07T10:50:49.284Z"
   },
   {
    "duration": 264,
    "start_time": "2022-02-07T10:50:49.295Z"
   },
   {
    "duration": 19,
    "start_time": "2022-02-07T10:50:49.561Z"
   },
   {
    "duration": 78,
    "start_time": "2022-02-07T10:50:49.582Z"
   },
   {
    "duration": 42,
    "start_time": "2022-02-07T10:50:49.662Z"
   },
   {
    "duration": 124,
    "start_time": "2022-02-07T10:50:49.705Z"
   },
   {
    "duration": 33,
    "start_time": "2022-02-07T10:50:49.831Z"
   },
   {
    "duration": 61,
    "start_time": "2022-02-07T10:50:49.866Z"
   },
   {
    "duration": 144,
    "start_time": "2022-02-07T10:50:49.929Z"
   },
   {
    "duration": 53,
    "start_time": "2022-02-07T10:50:50.075Z"
   },
   {
    "duration": 14,
    "start_time": "2022-02-07T10:50:50.131Z"
   },
   {
    "duration": 14,
    "start_time": "2022-02-07T10:51:14.159Z"
   },
   {
    "duration": 1230,
    "start_time": "2022-02-07T10:51:20.763Z"
   },
   {
    "duration": 422,
    "start_time": "2022-02-07T10:51:21.995Z"
   },
   {
    "duration": 115,
    "start_time": "2022-02-07T10:51:22.420Z"
   },
   {
    "duration": 125,
    "start_time": "2022-02-07T10:51:22.537Z"
   },
   {
    "duration": 5,
    "start_time": "2022-02-07T10:51:22.664Z"
   },
   {
    "duration": 26,
    "start_time": "2022-02-07T10:51:22.670Z"
   },
   {
    "duration": 30,
    "start_time": "2022-02-07T10:51:22.698Z"
   },
   {
    "duration": 17,
    "start_time": "2022-02-07T10:51:22.732Z"
   },
   {
    "duration": 222,
    "start_time": "2022-02-07T10:51:22.752Z"
   },
   {
    "duration": 16,
    "start_time": "2022-02-07T10:51:22.976Z"
   },
   {
    "duration": 224,
    "start_time": "2022-02-07T10:51:22.994Z"
   },
   {
    "duration": 65,
    "start_time": "2022-02-07T10:51:23.220Z"
   },
   {
    "duration": 11,
    "start_time": "2022-02-07T10:51:23.287Z"
   },
   {
    "duration": 204,
    "start_time": "2022-02-07T10:51:23.319Z"
   },
   {
    "duration": 15,
    "start_time": "2022-02-07T10:51:23.525Z"
   },
   {
    "duration": 52,
    "start_time": "2022-02-07T10:51:23.542Z"
   },
   {
    "duration": 66,
    "start_time": "2022-02-07T10:51:23.597Z"
   },
   {
    "duration": 116,
    "start_time": "2022-02-07T10:51:23.664Z"
   },
   {
    "duration": 44,
    "start_time": "2022-02-07T10:51:23.782Z"
   },
   {
    "duration": 69,
    "start_time": "2022-02-07T10:51:23.828Z"
   },
   {
    "duration": 171,
    "start_time": "2022-02-07T10:51:23.899Z"
   },
   {
    "duration": 46,
    "start_time": "2022-02-07T10:51:24.072Z"
   },
   {
    "duration": 20,
    "start_time": "2022-02-07T10:51:24.122Z"
   },
   {
    "duration": 1047,
    "start_time": "2022-02-07T10:52:07.472Z"
   },
   {
    "duration": 469,
    "start_time": "2022-02-07T10:52:08.521Z"
   },
   {
    "duration": 127,
    "start_time": "2022-02-07T10:52:08.993Z"
   },
   {
    "duration": 115,
    "start_time": "2022-02-07T10:52:09.122Z"
   },
   {
    "duration": 5,
    "start_time": "2022-02-07T10:52:09.239Z"
   },
   {
    "duration": 26,
    "start_time": "2022-02-07T10:52:09.245Z"
   },
   {
    "duration": 18,
    "start_time": "2022-02-07T10:52:09.274Z"
   },
   {
    "duration": 15,
    "start_time": "2022-02-07T10:52:09.319Z"
   },
   {
    "duration": 217,
    "start_time": "2022-02-07T10:52:09.338Z"
   },
   {
    "duration": 14,
    "start_time": "2022-02-07T10:52:09.557Z"
   },
   {
    "duration": 215,
    "start_time": "2022-02-07T10:52:09.573Z"
   },
   {
    "duration": 74,
    "start_time": "2022-02-07T10:52:09.791Z"
   },
   {
    "duration": 11,
    "start_time": "2022-02-07T10:52:09.867Z"
   },
   {
    "duration": 224,
    "start_time": "2022-02-07T10:52:09.880Z"
   },
   {
    "duration": 22,
    "start_time": "2022-02-07T10:52:10.105Z"
   },
   {
    "duration": 77,
    "start_time": "2022-02-07T10:52:10.128Z"
   },
   {
    "duration": 72,
    "start_time": "2022-02-07T10:52:10.207Z"
   },
   {
    "duration": 113,
    "start_time": "2022-02-07T10:52:10.281Z"
   },
   {
    "duration": 44,
    "start_time": "2022-02-07T10:52:10.396Z"
   },
   {
    "duration": 48,
    "start_time": "2022-02-07T10:52:10.442Z"
   },
   {
    "duration": 149,
    "start_time": "2022-02-07T10:52:10.492Z"
   },
   {
    "duration": 39,
    "start_time": "2022-02-07T10:52:10.643Z"
   },
   {
    "duration": 37,
    "start_time": "2022-02-07T10:52:10.685Z"
   },
   {
    "duration": 13,
    "start_time": "2022-02-07T10:53:05.837Z"
   },
   {
    "duration": 1070,
    "start_time": "2022-02-07T10:53:22.948Z"
   },
   {
    "duration": 421,
    "start_time": "2022-02-07T10:53:24.020Z"
   },
   {
    "duration": 98,
    "start_time": "2022-02-07T10:53:24.443Z"
   },
   {
    "duration": 117,
    "start_time": "2022-02-07T10:53:24.543Z"
   },
   {
    "duration": 5,
    "start_time": "2022-02-07T10:53:24.662Z"
   },
   {
    "duration": 24,
    "start_time": "2022-02-07T10:53:24.669Z"
   },
   {
    "duration": 34,
    "start_time": "2022-02-07T10:53:24.695Z"
   },
   {
    "duration": 14,
    "start_time": "2022-02-07T10:53:24.732Z"
   },
   {
    "duration": 216,
    "start_time": "2022-02-07T10:53:24.748Z"
   },
   {
    "duration": 14,
    "start_time": "2022-02-07T10:53:24.965Z"
   },
   {
    "duration": 204,
    "start_time": "2022-02-07T10:53:24.981Z"
   },
   {
    "duration": 73,
    "start_time": "2022-02-07T10:53:25.187Z"
   },
   {
    "duration": 10,
    "start_time": "2022-02-07T10:53:25.262Z"
   },
   {
    "duration": 216,
    "start_time": "2022-02-07T10:53:25.274Z"
   },
   {
    "duration": 26,
    "start_time": "2022-02-07T10:53:25.492Z"
   },
   {
    "duration": 50,
    "start_time": "2022-02-07T10:53:25.520Z"
   },
   {
    "duration": 56,
    "start_time": "2022-02-07T10:53:25.572Z"
   },
   {
    "duration": 118,
    "start_time": "2022-02-07T10:53:25.630Z"
   },
   {
    "duration": 41,
    "start_time": "2022-02-07T10:53:25.750Z"
   },
   {
    "duration": 64,
    "start_time": "2022-02-07T10:53:25.793Z"
   },
   {
    "duration": 137,
    "start_time": "2022-02-07T10:53:25.860Z"
   },
   {
    "duration": 41,
    "start_time": "2022-02-07T10:53:25.999Z"
   },
   {
    "duration": 15,
    "start_time": "2022-02-07T10:53:26.043Z"
   },
   {
    "duration": 5610,
    "start_time": "2022-02-07T10:53:38.496Z"
   },
   {
    "duration": 1126,
    "start_time": "2022-02-07T10:53:47.195Z"
   },
   {
    "duration": 433,
    "start_time": "2022-02-07T10:53:48.323Z"
   },
   {
    "duration": 101,
    "start_time": "2022-02-07T10:53:48.758Z"
   },
   {
    "duration": 121,
    "start_time": "2022-02-07T10:53:48.861Z"
   },
   {
    "duration": 5,
    "start_time": "2022-02-07T10:53:48.984Z"
   },
   {
    "duration": 34,
    "start_time": "2022-02-07T10:53:48.990Z"
   },
   {
    "duration": 18,
    "start_time": "2022-02-07T10:53:49.025Z"
   },
   {
    "duration": 24,
    "start_time": "2022-02-07T10:53:49.044Z"
   },
   {
    "duration": 222,
    "start_time": "2022-02-07T10:53:49.070Z"
   },
   {
    "duration": 14,
    "start_time": "2022-02-07T10:53:49.294Z"
   },
   {
    "duration": 209,
    "start_time": "2022-02-07T10:53:49.310Z"
   },
   {
    "duration": 63,
    "start_time": "2022-02-07T10:53:49.521Z"
   },
   {
    "duration": 10,
    "start_time": "2022-02-07T10:53:49.586Z"
   },
   {
    "duration": 231,
    "start_time": "2022-02-07T10:53:49.597Z"
   },
   {
    "duration": 13,
    "start_time": "2022-02-07T10:53:49.830Z"
   },
   {
    "duration": 57,
    "start_time": "2022-02-07T10:53:49.845Z"
   },
   {
    "duration": 38,
    "start_time": "2022-02-07T10:53:49.903Z"
   },
   {
    "duration": 145,
    "start_time": "2022-02-07T10:53:49.944Z"
   },
   {
    "duration": 75,
    "start_time": "2022-02-07T10:53:50.091Z"
   },
   {
    "duration": 48,
    "start_time": "2022-02-07T10:53:50.219Z"
   },
   {
    "duration": 182,
    "start_time": "2022-02-07T10:53:50.269Z"
   },
   {
    "duration": 38,
    "start_time": "2022-02-07T10:53:50.453Z"
   },
   {
    "duration": 29,
    "start_time": "2022-02-07T10:53:50.493Z"
   },
   {
    "duration": 328,
    "start_time": "2022-02-07T10:55:16.731Z"
   },
   {
    "duration": 9,
    "start_time": "2022-02-07T10:55:51.235Z"
   },
   {
    "duration": 8,
    "start_time": "2022-02-07T10:55:58.437Z"
   },
   {
    "duration": 9,
    "start_time": "2022-02-07T10:56:38.852Z"
   },
   {
    "duration": 6,
    "start_time": "2022-02-07T10:58:36.834Z"
   },
   {
    "duration": 3473,
    "start_time": "2022-02-07T10:58:45.666Z"
   },
   {
    "duration": 1086,
    "start_time": "2022-02-07T10:58:58.429Z"
   },
   {
    "duration": 432,
    "start_time": "2022-02-07T10:58:59.517Z"
   },
   {
    "duration": 124,
    "start_time": "2022-02-07T10:58:59.952Z"
   },
   {
    "duration": 114,
    "start_time": "2022-02-07T10:59:00.079Z"
   },
   {
    "duration": 5,
    "start_time": "2022-02-07T10:59:00.195Z"
   },
   {
    "duration": 52,
    "start_time": "2022-02-07T10:59:00.202Z"
   },
   {
    "duration": 19,
    "start_time": "2022-02-07T10:59:00.256Z"
   },
   {
    "duration": 33,
    "start_time": "2022-02-07T10:59:00.277Z"
   },
   {
    "duration": 191,
    "start_time": "2022-02-07T10:59:00.313Z"
   },
   {
    "duration": 20,
    "start_time": "2022-02-07T10:59:00.506Z"
   },
   {
    "duration": 205,
    "start_time": "2022-02-07T10:59:00.527Z"
   },
   {
    "duration": 66,
    "start_time": "2022-02-07T10:59:00.734Z"
   },
   {
    "duration": 23,
    "start_time": "2022-02-07T10:59:00.802Z"
   },
   {
    "duration": 233,
    "start_time": "2022-02-07T10:59:00.827Z"
   },
   {
    "duration": 15,
    "start_time": "2022-02-07T10:59:01.062Z"
   },
   {
    "duration": 67,
    "start_time": "2022-02-07T10:59:01.079Z"
   },
   {
    "duration": 44,
    "start_time": "2022-02-07T10:59:01.148Z"
   },
   {
    "duration": 134,
    "start_time": "2022-02-07T10:59:01.194Z"
   },
   {
    "duration": 35,
    "start_time": "2022-02-07T10:59:01.330Z"
   },
   {
    "duration": 62,
    "start_time": "2022-02-07T10:59:01.366Z"
   },
   {
    "duration": 134,
    "start_time": "2022-02-07T10:59:01.430Z"
   },
   {
    "duration": 36,
    "start_time": "2022-02-07T10:59:01.566Z"
   },
   {
    "duration": 27,
    "start_time": "2022-02-07T10:59:01.604Z"
   },
   {
    "duration": 29,
    "start_time": "2022-02-07T10:59:01.632Z"
   },
   {
    "duration": 15,
    "start_time": "2022-02-07T10:59:01.663Z"
   },
   {
    "duration": 1116,
    "start_time": "2022-02-07T10:59:33.036Z"
   },
   {
    "duration": 546,
    "start_time": "2022-02-07T10:59:34.154Z"
   },
   {
    "duration": 97,
    "start_time": "2022-02-07T10:59:34.702Z"
   },
   {
    "duration": 118,
    "start_time": "2022-02-07T10:59:34.818Z"
   },
   {
    "duration": 4,
    "start_time": "2022-02-07T10:59:34.938Z"
   },
   {
    "duration": 34,
    "start_time": "2022-02-07T10:59:34.944Z"
   },
   {
    "duration": 17,
    "start_time": "2022-02-07T10:59:34.980Z"
   },
   {
    "duration": 31,
    "start_time": "2022-02-07T10:59:35.001Z"
   },
   {
    "duration": 207,
    "start_time": "2022-02-07T10:59:35.034Z"
   },
   {
    "duration": 18,
    "start_time": "2022-02-07T10:59:35.244Z"
   },
   {
    "duration": 231,
    "start_time": "2022-02-07T10:59:35.264Z"
   },
   {
    "duration": 69,
    "start_time": "2022-02-07T10:59:35.497Z"
   },
   {
    "duration": 10,
    "start_time": "2022-02-07T10:59:35.568Z"
   },
   {
    "duration": 223,
    "start_time": "2022-02-07T10:59:35.580Z"
   },
   {
    "duration": 20,
    "start_time": "2022-02-07T10:59:35.805Z"
   },
   {
    "duration": 53,
    "start_time": "2022-02-07T10:59:35.827Z"
   },
   {
    "duration": 47,
    "start_time": "2022-02-07T10:59:35.881Z"
   },
   {
    "duration": 118,
    "start_time": "2022-02-07T10:59:35.930Z"
   },
   {
    "duration": 35,
    "start_time": "2022-02-07T10:59:36.050Z"
   },
   {
    "duration": 58,
    "start_time": "2022-02-07T10:59:36.087Z"
   },
   {
    "duration": 128,
    "start_time": "2022-02-07T10:59:36.147Z"
   },
   {
    "duration": 45,
    "start_time": "2022-02-07T10:59:36.277Z"
   },
   {
    "duration": 13,
    "start_time": "2022-02-07T10:59:36.326Z"
   },
   {
    "duration": 8,
    "start_time": "2022-02-07T10:59:36.341Z"
   },
   {
    "duration": 11,
    "start_time": "2022-02-07T10:59:36.351Z"
   },
   {
    "duration": 1062,
    "start_time": "2022-02-07T11:00:17.666Z"
   },
   {
    "duration": 448,
    "start_time": "2022-02-07T11:00:18.731Z"
   },
   {
    "duration": 104,
    "start_time": "2022-02-07T11:00:19.182Z"
   },
   {
    "duration": 133,
    "start_time": "2022-02-07T11:00:19.288Z"
   },
   {
    "duration": 6,
    "start_time": "2022-02-07T11:00:19.424Z"
   },
   {
    "duration": 61,
    "start_time": "2022-02-07T11:00:19.432Z"
   },
   {
    "duration": 20,
    "start_time": "2022-02-07T11:00:19.496Z"
   },
   {
    "duration": 25,
    "start_time": "2022-02-07T11:00:19.518Z"
   },
   {
    "duration": 205,
    "start_time": "2022-02-07T11:00:19.546Z"
   },
   {
    "duration": 13,
    "start_time": "2022-02-07T11:00:19.753Z"
   },
   {
    "duration": 202,
    "start_time": "2022-02-07T11:00:19.768Z"
   },
   {
    "duration": 81,
    "start_time": "2022-02-07T11:00:19.972Z"
   },
   {
    "duration": 21,
    "start_time": "2022-02-07T11:00:20.055Z"
   },
   {
    "duration": 245,
    "start_time": "2022-02-07T11:00:20.078Z"
   },
   {
    "duration": 18,
    "start_time": "2022-02-07T11:00:20.325Z"
   },
   {
    "duration": 113,
    "start_time": "2022-02-07T11:00:20.345Z"
   },
   {
    "duration": 63,
    "start_time": "2022-02-07T11:00:20.460Z"
   },
   {
    "duration": 164,
    "start_time": "2022-02-07T11:00:20.525Z"
   },
   {
    "duration": 61,
    "start_time": "2022-02-07T11:00:20.692Z"
   },
   {
    "duration": 78,
    "start_time": "2022-02-07T11:00:20.755Z"
   },
   {
    "duration": 190,
    "start_time": "2022-02-07T11:00:20.835Z"
   },
   {
    "duration": 54,
    "start_time": "2022-02-07T11:00:21.027Z"
   },
   {
    "duration": 37,
    "start_time": "2022-02-07T11:00:21.083Z"
   },
   {
    "duration": 13,
    "start_time": "2022-02-07T11:00:21.122Z"
   },
   {
    "duration": 15,
    "start_time": "2022-02-07T11:00:21.137Z"
   },
   {
    "duration": 1134,
    "start_time": "2022-02-07T11:00:38.989Z"
   },
   {
    "duration": 448,
    "start_time": "2022-02-07T11:00:40.125Z"
   },
   {
    "duration": 100,
    "start_time": "2022-02-07T11:00:40.576Z"
   },
   {
    "duration": 130,
    "start_time": "2022-02-07T11:00:40.678Z"
   },
   {
    "duration": 7,
    "start_time": "2022-02-07T11:00:40.819Z"
   },
   {
    "duration": 27,
    "start_time": "2022-02-07T11:00:40.827Z"
   },
   {
    "duration": 18,
    "start_time": "2022-02-07T11:00:40.855Z"
   },
   {
    "duration": 38,
    "start_time": "2022-02-07T11:00:40.875Z"
   },
   {
    "duration": 206,
    "start_time": "2022-02-07T11:00:40.916Z"
   },
   {
    "duration": 14,
    "start_time": "2022-02-07T11:00:41.124Z"
   },
   {
    "duration": 206,
    "start_time": "2022-02-07T11:00:41.139Z"
   },
   {
    "duration": 75,
    "start_time": "2022-02-07T11:00:41.346Z"
   },
   {
    "duration": 10,
    "start_time": "2022-02-07T11:00:41.423Z"
   },
   {
    "duration": 222,
    "start_time": "2022-02-07T11:00:41.435Z"
   },
   {
    "duration": 14,
    "start_time": "2022-02-07T11:00:41.659Z"
   },
   {
    "duration": 70,
    "start_time": "2022-02-07T11:00:41.675Z"
   },
   {
    "duration": 48,
    "start_time": "2022-02-07T11:00:41.747Z"
   },
   {
    "duration": 130,
    "start_time": "2022-02-07T11:00:41.797Z"
   },
   {
    "duration": 35,
    "start_time": "2022-02-07T11:00:41.928Z"
   },
   {
    "duration": 60,
    "start_time": "2022-02-07T11:00:41.965Z"
   },
   {
    "duration": 140,
    "start_time": "2022-02-07T11:00:42.027Z"
   },
   {
    "duration": 37,
    "start_time": "2022-02-07T11:00:42.169Z"
   },
   {
    "duration": 14,
    "start_time": "2022-02-07T11:00:42.217Z"
   },
   {
    "duration": 17,
    "start_time": "2022-02-07T11:00:42.234Z"
   },
   {
    "duration": 17,
    "start_time": "2022-02-07T11:00:42.253Z"
   },
   {
    "duration": 1094,
    "start_time": "2022-02-07T11:02:13.024Z"
   },
   {
    "duration": 432,
    "start_time": "2022-02-07T11:02:14.120Z"
   },
   {
    "duration": 105,
    "start_time": "2022-02-07T11:02:14.554Z"
   },
   {
    "duration": 128,
    "start_time": "2022-02-07T11:02:14.661Z"
   },
   {
    "duration": 6,
    "start_time": "2022-02-07T11:02:14.792Z"
   },
   {
    "duration": 35,
    "start_time": "2022-02-07T11:02:14.800Z"
   },
   {
    "duration": 19,
    "start_time": "2022-02-07T11:02:14.838Z"
   },
   {
    "duration": 16,
    "start_time": "2022-02-07T11:02:14.861Z"
   },
   {
    "duration": 240,
    "start_time": "2022-02-07T11:02:14.880Z"
   },
   {
    "duration": 15,
    "start_time": "2022-02-07T11:02:15.121Z"
   },
   {
    "duration": 213,
    "start_time": "2022-02-07T11:02:15.138Z"
   },
   {
    "duration": 72,
    "start_time": "2022-02-07T11:02:15.352Z"
   },
   {
    "duration": 9,
    "start_time": "2022-02-07T11:02:15.426Z"
   },
   {
    "duration": 218,
    "start_time": "2022-02-07T11:02:15.437Z"
   },
   {
    "duration": 14,
    "start_time": "2022-02-07T11:02:15.657Z"
   },
   {
    "duration": 67,
    "start_time": "2022-02-07T11:02:15.674Z"
   },
   {
    "duration": 40,
    "start_time": "2022-02-07T11:02:15.743Z"
   },
   {
    "duration": 124,
    "start_time": "2022-02-07T11:02:15.785Z"
   },
   {
    "duration": 40,
    "start_time": "2022-02-07T11:02:15.911Z"
   },
   {
    "duration": 47,
    "start_time": "2022-02-07T11:02:15.952Z"
   },
   {
    "duration": 148,
    "start_time": "2022-02-07T11:02:16.002Z"
   },
   {
    "duration": 38,
    "start_time": "2022-02-07T11:02:16.151Z"
   },
   {
    "duration": 28,
    "start_time": "2022-02-07T11:02:16.192Z"
   },
   {
    "duration": 8,
    "start_time": "2022-02-07T11:02:16.222Z"
   },
   {
    "duration": 15,
    "start_time": "2022-02-07T11:02:16.232Z"
   },
   {
    "duration": 1095,
    "start_time": "2022-02-07T11:03:12.731Z"
   },
   {
    "duration": 454,
    "start_time": "2022-02-07T11:03:13.828Z"
   },
   {
    "duration": 98,
    "start_time": "2022-02-07T11:03:14.285Z"
   },
   {
    "duration": 125,
    "start_time": "2022-02-07T11:03:14.385Z"
   },
   {
    "duration": 10,
    "start_time": "2022-02-07T11:03:14.512Z"
   },
   {
    "duration": 24,
    "start_time": "2022-02-07T11:03:14.523Z"
   },
   {
    "duration": 18,
    "start_time": "2022-02-07T11:03:14.549Z"
   },
   {
    "duration": 15,
    "start_time": "2022-02-07T11:03:14.570Z"
   },
   {
    "duration": 233,
    "start_time": "2022-02-07T11:03:14.587Z"
   },
   {
    "duration": 14,
    "start_time": "2022-02-07T11:03:14.822Z"
   },
   {
    "duration": 210,
    "start_time": "2022-02-07T11:03:14.838Z"
   },
   {
    "duration": 82,
    "start_time": "2022-02-07T11:03:15.050Z"
   },
   {
    "duration": 9,
    "start_time": "2022-02-07T11:03:15.134Z"
   },
   {
    "duration": 228,
    "start_time": "2022-02-07T11:03:15.145Z"
   },
   {
    "duration": 18,
    "start_time": "2022-02-07T11:03:15.375Z"
   },
   {
    "duration": 66,
    "start_time": "2022-02-07T11:03:15.395Z"
   },
   {
    "duration": 56,
    "start_time": "2022-02-07T11:03:15.463Z"
   },
   {
    "duration": 121,
    "start_time": "2022-02-07T11:03:15.521Z"
   },
   {
    "duration": 36,
    "start_time": "2022-02-07T11:03:15.644Z"
   },
   {
    "duration": 58,
    "start_time": "2022-02-07T11:03:15.682Z"
   },
   {
    "duration": 140,
    "start_time": "2022-02-07T11:03:15.742Z"
   },
   {
    "duration": 46,
    "start_time": "2022-02-07T11:03:15.884Z"
   },
   {
    "duration": 14,
    "start_time": "2022-02-07T11:03:15.933Z"
   },
   {
    "duration": 16,
    "start_time": "2022-02-07T11:03:15.949Z"
   },
   {
    "duration": 14,
    "start_time": "2022-02-07T11:03:15.967Z"
   },
   {
    "duration": 1058,
    "start_time": "2022-02-07T11:23:08.177Z"
   },
   {
    "duration": 444,
    "start_time": "2022-02-07T11:23:09.237Z"
   },
   {
    "duration": 99,
    "start_time": "2022-02-07T11:23:09.684Z"
   },
   {
    "duration": 120,
    "start_time": "2022-02-07T11:23:09.786Z"
   },
   {
    "duration": 14,
    "start_time": "2022-02-07T11:23:09.908Z"
   },
   {
    "duration": 27,
    "start_time": "2022-02-07T11:23:09.924Z"
   },
   {
    "duration": 18,
    "start_time": "2022-02-07T11:23:09.953Z"
   },
   {
    "duration": 15,
    "start_time": "2022-02-07T11:23:09.975Z"
   },
   {
    "duration": 275,
    "start_time": "2022-02-07T11:23:09.992Z"
   },
   {
    "duration": 14,
    "start_time": "2022-02-07T11:23:10.270Z"
   },
   {
    "duration": 213,
    "start_time": "2022-02-07T11:23:10.286Z"
   },
   {
    "duration": 73,
    "start_time": "2022-02-07T11:23:10.500Z"
   },
   {
    "duration": 10,
    "start_time": "2022-02-07T11:23:10.575Z"
   },
   {
    "duration": 406,
    "start_time": "2022-02-07T11:23:10.619Z"
   },
   {
    "duration": 14,
    "start_time": "2022-02-07T11:23:11.027Z"
   },
   {
    "duration": 76,
    "start_time": "2022-02-07T11:23:11.043Z"
   },
   {
    "duration": -65,
    "start_time": "2022-02-07T11:23:11.187Z"
   },
   {
    "duration": -66,
    "start_time": "2022-02-07T11:23:11.189Z"
   },
   {
    "duration": -66,
    "start_time": "2022-02-07T11:23:11.190Z"
   },
   {
    "duration": -67,
    "start_time": "2022-02-07T11:23:11.192Z"
   },
   {
    "duration": -67,
    "start_time": "2022-02-07T11:23:11.194Z"
   },
   {
    "duration": -68,
    "start_time": "2022-02-07T11:23:11.196Z"
   },
   {
    "duration": -69,
    "start_time": "2022-02-07T11:23:11.198Z"
   },
   {
    "duration": -70,
    "start_time": "2022-02-07T11:23:11.200Z"
   },
   {
    "duration": -70,
    "start_time": "2022-02-07T11:23:11.201Z"
   },
   {
    "duration": -102,
    "start_time": "2022-02-07T11:23:11.234Z"
   },
   {
    "duration": 1041,
    "start_time": "2022-02-07T11:23:25.871Z"
   },
   {
    "duration": 422,
    "start_time": "2022-02-07T11:23:26.914Z"
   },
   {
    "duration": 93,
    "start_time": "2022-02-07T11:23:27.338Z"
   },
   {
    "duration": 118,
    "start_time": "2022-02-07T11:23:27.433Z"
   },
   {
    "duration": 5,
    "start_time": "2022-02-07T11:23:27.553Z"
   },
   {
    "duration": 26,
    "start_time": "2022-02-07T11:23:27.559Z"
   },
   {
    "duration": 33,
    "start_time": "2022-02-07T11:23:27.586Z"
   },
   {
    "duration": 13,
    "start_time": "2022-02-07T11:23:27.622Z"
   },
   {
    "duration": 200,
    "start_time": "2022-02-07T11:23:27.637Z"
   },
   {
    "duration": 14,
    "start_time": "2022-02-07T11:23:27.839Z"
   },
   {
    "duration": 213,
    "start_time": "2022-02-07T11:23:27.855Z"
   },
   {
    "duration": 71,
    "start_time": "2022-02-07T11:23:28.070Z"
   },
   {
    "duration": 43,
    "start_time": "2022-02-07T11:23:28.143Z"
   },
   {
    "duration": 237,
    "start_time": "2022-02-07T11:23:28.188Z"
   },
   {
    "duration": 13,
    "start_time": "2022-02-07T11:23:28.427Z"
   },
   {
    "duration": 61,
    "start_time": "2022-02-07T11:23:28.441Z"
   },
   {
    "duration": 41,
    "start_time": "2022-02-07T11:23:28.504Z"
   },
   {
    "duration": 209,
    "start_time": "2022-02-07T11:23:28.547Z"
   },
   {
    "duration": 82,
    "start_time": "2022-02-07T11:23:28.758Z"
   },
   {
    "duration": 95,
    "start_time": "2022-02-07T11:23:28.841Z"
   },
   {
    "duration": 183,
    "start_time": "2022-02-07T11:23:28.938Z"
   },
   {
    "duration": 37,
    "start_time": "2022-02-07T11:23:29.123Z"
   },
   {
    "duration": 13,
    "start_time": "2022-02-07T11:23:29.163Z"
   },
   {
    "duration": 35,
    "start_time": "2022-02-07T11:23:29.178Z"
   },
   {
    "duration": 50,
    "start_time": "2022-02-07T11:23:29.215Z"
   },
   {
    "duration": 94,
    "start_time": "2022-02-07T11:23:29.267Z"
   },
   {
    "duration": 1088,
    "start_time": "2022-02-07T12:54:47.428Z"
   },
   {
    "duration": 457,
    "start_time": "2022-02-07T12:54:48.519Z"
   },
   {
    "duration": 341,
    "start_time": "2022-02-07T12:54:48.979Z"
   },
   {
    "duration": 156,
    "start_time": "2022-02-07T12:54:49.322Z"
   },
   {
    "duration": 5,
    "start_time": "2022-02-07T12:54:49.480Z"
   },
   {
    "duration": 41,
    "start_time": "2022-02-07T12:54:49.487Z"
   },
   {
    "duration": 17,
    "start_time": "2022-02-07T12:54:49.530Z"
   },
   {
    "duration": 14,
    "start_time": "2022-02-07T12:54:49.549Z"
   },
   {
    "duration": 209,
    "start_time": "2022-02-07T12:54:49.565Z"
   },
   {
    "duration": 14,
    "start_time": "2022-02-07T12:54:49.775Z"
   },
   {
    "duration": 196,
    "start_time": "2022-02-07T12:54:49.791Z"
   },
   {
    "duration": 71,
    "start_time": "2022-02-07T12:54:49.989Z"
   },
   {
    "duration": 10,
    "start_time": "2022-02-07T12:54:50.063Z"
   },
   {
    "duration": 226,
    "start_time": "2022-02-07T12:54:50.074Z"
   },
   {
    "duration": 20,
    "start_time": "2022-02-07T12:54:50.302Z"
   },
   {
    "duration": 49,
    "start_time": "2022-02-07T12:54:50.324Z"
   },
   {
    "duration": 58,
    "start_time": "2022-02-07T12:54:50.375Z"
   },
   {
    "duration": 122,
    "start_time": "2022-02-07T12:54:50.435Z"
   },
   {
    "duration": 36,
    "start_time": "2022-02-07T12:54:50.559Z"
   },
   {
    "duration": 61,
    "start_time": "2022-02-07T12:54:50.598Z"
   },
   {
    "duration": 139,
    "start_time": "2022-02-07T12:54:50.660Z"
   },
   {
    "duration": 46,
    "start_time": "2022-02-07T12:54:50.801Z"
   },
   {
    "duration": 14,
    "start_time": "2022-02-07T12:54:50.850Z"
   },
   {
    "duration": 13,
    "start_time": "2022-02-07T12:54:50.865Z"
   },
   {
    "duration": 16,
    "start_time": "2022-02-07T12:54:50.880Z"
   },
   {
    "duration": 22,
    "start_time": "2022-02-07T12:54:50.898Z"
   },
   {
    "duration": 70,
    "start_time": "2022-02-07T12:56:55.890Z"
   },
   {
    "duration": 307,
    "start_time": "2022-02-07T12:57:06.501Z"
   },
   {
    "duration": 203,
    "start_time": "2022-02-07T12:59:33.307Z"
   },
   {
    "duration": 1871,
    "start_time": "2022-02-07T12:59:59.266Z"
   },
   {
    "duration": 480,
    "start_time": "2022-02-07T13:00:01.139Z"
   },
   {
    "duration": 124,
    "start_time": "2022-02-07T13:00:01.622Z"
   },
   {
    "duration": 193,
    "start_time": "2022-02-07T13:00:01.748Z"
   },
   {
    "duration": 17,
    "start_time": "2022-02-07T13:00:01.943Z"
   },
   {
    "duration": 48,
    "start_time": "2022-02-07T13:00:01.962Z"
   },
   {
    "duration": 249,
    "start_time": "2022-02-07T13:00:02.013Z"
   },
   {
    "duration": 50,
    "start_time": "2022-02-07T13:00:02.265Z"
   },
   {
    "duration": 244,
    "start_time": "2022-02-07T13:00:02.318Z"
   },
   {
    "duration": 15,
    "start_time": "2022-02-07T13:00:02.564Z"
   },
   {
    "duration": 214,
    "start_time": "2022-02-07T13:00:02.581Z"
   },
   {
    "duration": 75,
    "start_time": "2022-02-07T13:00:02.797Z"
   },
   {
    "duration": 22,
    "start_time": "2022-02-07T13:00:02.874Z"
   },
   {
    "duration": 245,
    "start_time": "2022-02-07T13:00:02.898Z"
   },
   {
    "duration": 14,
    "start_time": "2022-02-07T13:00:03.145Z"
   },
   {
    "duration": 69,
    "start_time": "2022-02-07T13:00:03.161Z"
   },
   {
    "duration": 43,
    "start_time": "2022-02-07T13:00:03.232Z"
   },
   {
    "duration": 128,
    "start_time": "2022-02-07T13:00:03.277Z"
   },
   {
    "duration": 41,
    "start_time": "2022-02-07T13:00:03.407Z"
   },
   {
    "duration": 48,
    "start_time": "2022-02-07T13:00:03.450Z"
   },
   {
    "duration": 145,
    "start_time": "2022-02-07T13:00:03.500Z"
   },
   {
    "duration": 49,
    "start_time": "2022-02-07T13:00:03.647Z"
   },
   {
    "duration": 33,
    "start_time": "2022-02-07T13:00:03.699Z"
   },
   {
    "duration": 16,
    "start_time": "2022-02-07T13:00:03.734Z"
   },
   {
    "duration": 24,
    "start_time": "2022-02-07T13:00:03.753Z"
   },
   {
    "duration": 318,
    "start_time": "2022-02-07T13:00:03.779Z"
   },
   {
    "duration": 212,
    "start_time": "2022-02-07T13:00:52.341Z"
   },
   {
    "duration": 23,
    "start_time": "2022-02-07T13:01:21.749Z"
   },
   {
    "duration": 1116,
    "start_time": "2022-02-07T13:02:44.510Z"
   },
   {
    "duration": 439,
    "start_time": "2022-02-07T13:02:45.628Z"
   },
   {
    "duration": 102,
    "start_time": "2022-02-07T13:02:46.070Z"
   },
   {
    "duration": 130,
    "start_time": "2022-02-07T13:02:46.174Z"
   },
   {
    "duration": 13,
    "start_time": "2022-02-07T13:02:46.306Z"
   },
   {
    "duration": 21,
    "start_time": "2022-02-07T13:02:46.321Z"
   },
   {
    "duration": 18,
    "start_time": "2022-02-07T13:02:46.343Z"
   },
   {
    "duration": 13,
    "start_time": "2022-02-07T13:02:46.364Z"
   },
   {
    "duration": 226,
    "start_time": "2022-02-07T13:02:46.379Z"
   },
   {
    "duration": 18,
    "start_time": "2022-02-07T13:02:46.607Z"
   },
   {
    "duration": 202,
    "start_time": "2022-02-07T13:02:46.627Z"
   },
   {
    "duration": 66,
    "start_time": "2022-02-07T13:02:46.830Z"
   },
   {
    "duration": 23,
    "start_time": "2022-02-07T13:02:46.898Z"
   },
   {
    "duration": 213,
    "start_time": "2022-02-07T13:02:46.924Z"
   },
   {
    "duration": 13,
    "start_time": "2022-02-07T13:02:47.140Z"
   },
   {
    "duration": 64,
    "start_time": "2022-02-07T13:02:47.155Z"
   },
   {
    "duration": 41,
    "start_time": "2022-02-07T13:02:47.222Z"
   },
   {
    "duration": 123,
    "start_time": "2022-02-07T13:02:47.265Z"
   },
   {
    "duration": 47,
    "start_time": "2022-02-07T13:02:47.391Z"
   },
   {
    "duration": 48,
    "start_time": "2022-02-07T13:02:47.440Z"
   },
   {
    "duration": 140,
    "start_time": "2022-02-07T13:02:47.490Z"
   },
   {
    "duration": 35,
    "start_time": "2022-02-07T13:02:47.632Z"
   },
   {
    "duration": 14,
    "start_time": "2022-02-07T13:02:47.670Z"
   },
   {
    "duration": 9,
    "start_time": "2022-02-07T13:02:47.686Z"
   },
   {
    "duration": 10,
    "start_time": "2022-02-07T13:02:47.718Z"
   },
   {
    "duration": 22,
    "start_time": "2022-02-07T13:02:47.730Z"
   },
   {
    "duration": 1307,
    "start_time": "2022-02-07T13:03:53.109Z"
   },
   {
    "duration": 434,
    "start_time": "2022-02-07T13:03:54.418Z"
   },
   {
    "duration": 100,
    "start_time": "2022-02-07T13:03:54.854Z"
   },
   {
    "duration": 117,
    "start_time": "2022-02-07T13:03:54.956Z"
   },
   {
    "duration": 5,
    "start_time": "2022-02-07T13:03:55.075Z"
   },
   {
    "duration": 24,
    "start_time": "2022-02-07T13:03:55.081Z"
   },
   {
    "duration": 18,
    "start_time": "2022-02-07T13:03:55.118Z"
   },
   {
    "duration": 21,
    "start_time": "2022-02-07T13:03:55.139Z"
   },
   {
    "duration": 277,
    "start_time": "2022-02-07T13:03:55.163Z"
   },
   {
    "duration": 14,
    "start_time": "2022-02-07T13:03:55.442Z"
   },
   {
    "duration": 397,
    "start_time": "2022-02-07T13:03:55.458Z"
   },
   {
    "duration": 79,
    "start_time": "2022-02-07T13:03:55.856Z"
   },
   {
    "duration": 12,
    "start_time": "2022-02-07T13:03:55.936Z"
   },
   {
    "duration": 336,
    "start_time": "2022-02-07T13:03:55.950Z"
   },
   {
    "duration": 14,
    "start_time": "2022-02-07T13:03:56.288Z"
   },
   {
    "duration": 76,
    "start_time": "2022-02-07T13:03:56.304Z"
   },
   {
    "duration": 8,
    "start_time": "2022-02-07T13:03:56.382Z"
   },
   {
    "duration": 60,
    "start_time": "2022-02-07T13:03:56.392Z"
   },
   {
    "duration": 119,
    "start_time": "2022-02-07T13:03:56.454Z"
   },
   {
    "duration": 43,
    "start_time": "2022-02-07T13:03:56.575Z"
   },
   {
    "duration": 51,
    "start_time": "2022-02-07T13:03:56.621Z"
   },
   {
    "duration": 148,
    "start_time": "2022-02-07T13:03:56.674Z"
   },
   {
    "duration": 38,
    "start_time": "2022-02-07T13:03:56.825Z"
   },
   {
    "duration": 15,
    "start_time": "2022-02-07T13:03:56.865Z"
   },
   {
    "duration": 36,
    "start_time": "2022-02-07T13:03:56.882Z"
   },
   {
    "duration": 11,
    "start_time": "2022-02-07T13:03:56.921Z"
   },
   {
    "duration": 25,
    "start_time": "2022-02-07T13:03:56.935Z"
   },
   {
    "duration": 1099,
    "start_time": "2022-02-07T13:04:44.626Z"
   },
   {
    "duration": 442,
    "start_time": "2022-02-07T13:04:45.728Z"
   },
   {
    "duration": 96,
    "start_time": "2022-02-07T13:04:46.173Z"
   },
   {
    "duration": 116,
    "start_time": "2022-02-07T13:04:46.271Z"
   },
   {
    "duration": 4,
    "start_time": "2022-02-07T13:04:46.389Z"
   },
   {
    "duration": 40,
    "start_time": "2022-02-07T13:04:46.395Z"
   },
   {
    "duration": 19,
    "start_time": "2022-02-07T13:04:46.437Z"
   },
   {
    "duration": 15,
    "start_time": "2022-02-07T13:04:46.459Z"
   },
   {
    "duration": 202,
    "start_time": "2022-02-07T13:04:46.477Z"
   },
   {
    "duration": 14,
    "start_time": "2022-02-07T13:04:46.682Z"
   },
   {
    "duration": 194,
    "start_time": "2022-02-07T13:04:46.697Z"
   },
   {
    "duration": 74,
    "start_time": "2022-02-07T13:04:46.893Z"
   },
   {
    "duration": 11,
    "start_time": "2022-02-07T13:04:46.969Z"
   },
   {
    "duration": 214,
    "start_time": "2022-02-07T13:04:46.981Z"
   },
   {
    "duration": 22,
    "start_time": "2022-02-07T13:04:47.196Z"
   },
   {
    "duration": 45,
    "start_time": "2022-02-07T13:04:47.220Z"
   },
   {
    "duration": 7,
    "start_time": "2022-02-07T13:04:47.266Z"
   },
   {
    "duration": 62,
    "start_time": "2022-02-07T13:04:47.275Z"
   },
   {
    "duration": 105,
    "start_time": "2022-02-07T13:04:47.339Z"
   },
   {
    "duration": 32,
    "start_time": "2022-02-07T13:04:47.445Z"
   },
   {
    "duration": 63,
    "start_time": "2022-02-07T13:04:47.478Z"
   },
   {
    "duration": 129,
    "start_time": "2022-02-07T13:04:47.543Z"
   },
   {
    "duration": 33,
    "start_time": "2022-02-07T13:04:47.675Z"
   },
   {
    "duration": 14,
    "start_time": "2022-02-07T13:04:47.719Z"
   },
   {
    "duration": 13,
    "start_time": "2022-02-07T13:04:47.735Z"
   },
   {
    "duration": 16,
    "start_time": "2022-02-07T13:04:47.750Z"
   },
   {
    "duration": 22,
    "start_time": "2022-02-07T13:04:47.769Z"
   },
   {
    "duration": 1047,
    "start_time": "2022-02-07T13:05:58.671Z"
   },
   {
    "duration": 439,
    "start_time": "2022-02-07T13:05:59.720Z"
   },
   {
    "duration": 102,
    "start_time": "2022-02-07T13:06:00.162Z"
   },
   {
    "duration": 130,
    "start_time": "2022-02-07T13:06:00.266Z"
   },
   {
    "duration": 5,
    "start_time": "2022-02-07T13:06:00.398Z"
   },
   {
    "duration": 42,
    "start_time": "2022-02-07T13:06:00.405Z"
   },
   {
    "duration": 21,
    "start_time": "2022-02-07T13:06:00.449Z"
   },
   {
    "duration": 29,
    "start_time": "2022-02-07T13:06:00.474Z"
   },
   {
    "duration": 191,
    "start_time": "2022-02-07T13:06:00.506Z"
   },
   {
    "duration": 20,
    "start_time": "2022-02-07T13:06:00.699Z"
   },
   {
    "duration": 203,
    "start_time": "2022-02-07T13:06:00.720Z"
   },
   {
    "duration": 70,
    "start_time": "2022-02-07T13:06:00.926Z"
   },
   {
    "duration": 23,
    "start_time": "2022-02-07T13:06:00.998Z"
   },
   {
    "duration": 236,
    "start_time": "2022-02-07T13:06:01.023Z"
   },
   {
    "duration": 15,
    "start_time": "2022-02-07T13:06:01.261Z"
   },
   {
    "duration": 63,
    "start_time": "2022-02-07T13:06:01.278Z"
   },
   {
    "duration": 8,
    "start_time": "2022-02-07T13:06:01.342Z"
   },
   {
    "duration": 42,
    "start_time": "2022-02-07T13:06:01.352Z"
   },
   {
    "duration": 128,
    "start_time": "2022-02-07T13:06:01.396Z"
   },
   {
    "duration": 37,
    "start_time": "2022-02-07T13:06:01.526Z"
   },
   {
    "duration": 67,
    "start_time": "2022-02-07T13:06:01.564Z"
   },
   {
    "duration": 133,
    "start_time": "2022-02-07T13:06:01.634Z"
   },
   {
    "duration": 49,
    "start_time": "2022-02-07T13:06:01.771Z"
   },
   {
    "duration": 17,
    "start_time": "2022-02-07T13:06:01.822Z"
   },
   {
    "duration": 24,
    "start_time": "2022-02-07T13:06:01.842Z"
   },
   {
    "duration": 41,
    "start_time": "2022-02-07T13:06:01.868Z"
   },
   {
    "duration": 30,
    "start_time": "2022-02-07T13:06:01.911Z"
   },
   {
    "duration": 1039,
    "start_time": "2022-02-07T13:06:26.369Z"
   },
   {
    "duration": 560,
    "start_time": "2022-02-07T13:06:27.410Z"
   },
   {
    "duration": 173,
    "start_time": "2022-02-07T13:06:27.972Z"
   },
   {
    "duration": 126,
    "start_time": "2022-02-07T13:06:28.148Z"
   },
   {
    "duration": 6,
    "start_time": "2022-02-07T13:06:28.276Z"
   },
   {
    "duration": 39,
    "start_time": "2022-02-07T13:06:28.284Z"
   },
   {
    "duration": 17,
    "start_time": "2022-02-07T13:06:28.325Z"
   },
   {
    "duration": 13,
    "start_time": "2022-02-07T13:06:28.345Z"
   },
   {
    "duration": 212,
    "start_time": "2022-02-07T13:06:28.360Z"
   },
   {
    "duration": 14,
    "start_time": "2022-02-07T13:06:28.574Z"
   },
   {
    "duration": 203,
    "start_time": "2022-02-07T13:06:28.590Z"
   },
   {
    "duration": 71,
    "start_time": "2022-02-07T13:06:28.795Z"
   },
   {
    "duration": 10,
    "start_time": "2022-02-07T13:06:28.868Z"
   },
   {
    "duration": 216,
    "start_time": "2022-02-07T13:06:28.879Z"
   },
   {
    "duration": 13,
    "start_time": "2022-02-07T13:06:29.097Z"
   },
   {
    "duration": 46,
    "start_time": "2022-02-07T13:06:29.119Z"
   },
   {
    "duration": 7,
    "start_time": "2022-02-07T13:06:29.166Z"
   },
   {
    "duration": 63,
    "start_time": "2022-02-07T13:06:29.174Z"
   },
   {
    "duration": 107,
    "start_time": "2022-02-07T13:06:29.239Z"
   },
   {
    "duration": 33,
    "start_time": "2022-02-07T13:06:29.348Z"
   },
   {
    "duration": 57,
    "start_time": "2022-02-07T13:06:29.383Z"
   },
   {
    "duration": 133,
    "start_time": "2022-02-07T13:06:29.442Z"
   },
   {
    "duration": 45,
    "start_time": "2022-02-07T13:06:29.578Z"
   },
   {
    "duration": 14,
    "start_time": "2022-02-07T13:06:29.625Z"
   },
   {
    "duration": 17,
    "start_time": "2022-02-07T13:06:29.640Z"
   },
   {
    "duration": 13,
    "start_time": "2022-02-07T13:06:29.659Z"
   },
   {
    "duration": 20,
    "start_time": "2022-02-07T13:06:29.673Z"
   },
   {
    "duration": 1187,
    "start_time": "2022-02-07T13:07:54.423Z"
   },
   {
    "duration": 472,
    "start_time": "2022-02-07T13:07:55.612Z"
   },
   {
    "duration": 98,
    "start_time": "2022-02-07T13:07:56.087Z"
   },
   {
    "duration": 116,
    "start_time": "2022-02-07T13:07:56.187Z"
   },
   {
    "duration": 14,
    "start_time": "2022-02-07T13:07:56.305Z"
   },
   {
    "duration": 24,
    "start_time": "2022-02-07T13:07:56.321Z"
   },
   {
    "duration": 17,
    "start_time": "2022-02-07T13:07:56.346Z"
   },
   {
    "duration": 14,
    "start_time": "2022-02-07T13:07:56.366Z"
   },
   {
    "duration": 370,
    "start_time": "2022-02-07T13:07:56.382Z"
   },
   {
    "duration": 71,
    "start_time": "2022-02-07T13:07:56.754Z"
   },
   {
    "duration": 261,
    "start_time": "2022-02-07T13:07:56.827Z"
   },
   {
    "duration": 71,
    "start_time": "2022-02-07T13:07:57.090Z"
   },
   {
    "duration": 16,
    "start_time": "2022-02-07T13:07:57.164Z"
   },
   {
    "duration": 289,
    "start_time": "2022-02-07T13:07:57.182Z"
   },
   {
    "duration": 20,
    "start_time": "2022-02-07T13:07:57.473Z"
   },
   {
    "duration": 65,
    "start_time": "2022-02-07T13:07:57.495Z"
   },
   {
    "duration": 9,
    "start_time": "2022-02-07T13:07:57.562Z"
   },
   {
    "duration": 61,
    "start_time": "2022-02-07T13:07:57.573Z"
   },
   {
    "duration": 116,
    "start_time": "2022-02-07T13:07:57.636Z"
   },
   {
    "duration": 38,
    "start_time": "2022-02-07T13:07:57.754Z"
   },
   {
    "duration": 62,
    "start_time": "2022-02-07T13:07:57.794Z"
   },
   {
    "duration": 137,
    "start_time": "2022-02-07T13:07:57.858Z"
   },
   {
    "duration": 48,
    "start_time": "2022-02-07T13:07:57.998Z"
   },
   {
    "duration": 15,
    "start_time": "2022-02-07T13:07:58.048Z"
   },
   {
    "duration": 9,
    "start_time": "2022-02-07T13:07:58.065Z"
   },
   {
    "duration": 11,
    "start_time": "2022-02-07T13:07:58.076Z"
   },
   {
    "duration": 20,
    "start_time": "2022-02-07T13:07:58.118Z"
   },
   {
    "duration": 1092,
    "start_time": "2022-02-07T13:10:17.231Z"
   },
   {
    "duration": 453,
    "start_time": "2022-02-07T13:10:18.326Z"
   },
   {
    "duration": 185,
    "start_time": "2022-02-07T13:10:18.781Z"
   },
   {
    "duration": 212,
    "start_time": "2022-02-07T13:10:19.018Z"
   },
   {
    "duration": 6,
    "start_time": "2022-02-07T13:10:19.232Z"
   },
   {
    "duration": 26,
    "start_time": "2022-02-07T13:10:19.239Z"
   },
   {
    "duration": 19,
    "start_time": "2022-02-07T13:10:19.267Z"
   },
   {
    "duration": 40,
    "start_time": "2022-02-07T13:10:19.290Z"
   },
   {
    "duration": 218,
    "start_time": "2022-02-07T13:10:19.333Z"
   },
   {
    "duration": 16,
    "start_time": "2022-02-07T13:10:19.552Z"
   },
   {
    "duration": 216,
    "start_time": "2022-02-07T13:10:19.570Z"
   },
   {
    "duration": 73,
    "start_time": "2022-02-07T13:10:19.788Z"
   },
   {
    "duration": 11,
    "start_time": "2022-02-07T13:10:19.863Z"
   },
   {
    "duration": 243,
    "start_time": "2022-02-07T13:10:19.876Z"
   },
   {
    "duration": 18,
    "start_time": "2022-02-07T13:10:20.121Z"
   },
   {
    "duration": 87,
    "start_time": "2022-02-07T13:10:20.141Z"
   },
   {
    "duration": 9,
    "start_time": "2022-02-07T13:10:20.230Z"
   },
   {
    "duration": 56,
    "start_time": "2022-02-07T13:10:20.241Z"
   },
   {
    "duration": 153,
    "start_time": "2022-02-07T13:10:20.299Z"
   },
   {
    "duration": 48,
    "start_time": "2022-02-07T13:10:20.455Z"
   },
   {
    "duration": 58,
    "start_time": "2022-02-07T13:10:20.505Z"
   },
   {
    "duration": 199,
    "start_time": "2022-02-07T13:10:20.565Z"
   },
   {
    "duration": 36,
    "start_time": "2022-02-07T13:10:20.767Z"
   },
   {
    "duration": 23,
    "start_time": "2022-02-07T13:10:20.804Z"
   },
   {
    "duration": 20,
    "start_time": "2022-02-07T13:10:20.829Z"
   },
   {
    "duration": 30,
    "start_time": "2022-02-07T13:10:20.850Z"
   },
   {
    "duration": 33,
    "start_time": "2022-02-07T13:10:20.882Z"
   },
   {
    "duration": 1066,
    "start_time": "2022-02-07T13:11:18.252Z"
   },
   {
    "duration": 448,
    "start_time": "2022-02-07T13:11:19.320Z"
   },
   {
    "duration": 90,
    "start_time": "2022-02-07T13:11:19.771Z"
   },
   {
    "duration": 126,
    "start_time": "2022-02-07T13:11:19.864Z"
   },
   {
    "duration": 5,
    "start_time": "2022-02-07T13:11:19.992Z"
   },
   {
    "duration": 32,
    "start_time": "2022-02-07T13:11:19.999Z"
   },
   {
    "duration": 17,
    "start_time": "2022-02-07T13:11:20.033Z"
   },
   {
    "duration": 27,
    "start_time": "2022-02-07T13:11:20.053Z"
   },
   {
    "duration": 203,
    "start_time": "2022-02-07T13:11:20.083Z"
   },
   {
    "duration": 31,
    "start_time": "2022-02-07T13:11:20.288Z"
   },
   {
    "duration": 196,
    "start_time": "2022-02-07T13:11:20.321Z"
   },
   {
    "duration": 69,
    "start_time": "2022-02-07T13:11:20.519Z"
   },
   {
    "duration": 10,
    "start_time": "2022-02-07T13:11:20.590Z"
   },
   {
    "duration": 219,
    "start_time": "2022-02-07T13:11:20.602Z"
   },
   {
    "duration": 13,
    "start_time": "2022-02-07T13:11:20.823Z"
   },
   {
    "duration": 50,
    "start_time": "2022-02-07T13:11:20.838Z"
   },
   {
    "duration": 30,
    "start_time": "2022-02-07T13:11:20.890Z"
   },
   {
    "duration": 50,
    "start_time": "2022-02-07T13:11:20.922Z"
   },
   {
    "duration": 116,
    "start_time": "2022-02-07T13:11:20.974Z"
   },
   {
    "duration": 47,
    "start_time": "2022-02-07T13:11:21.092Z"
   },
   {
    "duration": 47,
    "start_time": "2022-02-07T13:11:21.141Z"
   },
   {
    "duration": 140,
    "start_time": "2022-02-07T13:11:21.190Z"
   },
   {
    "duration": 36,
    "start_time": "2022-02-07T13:11:21.334Z"
   },
   {
    "duration": 14,
    "start_time": "2022-02-07T13:11:21.373Z"
   },
   {
    "duration": 30,
    "start_time": "2022-02-07T13:11:21.389Z"
   },
   {
    "duration": 12,
    "start_time": "2022-02-07T13:11:21.421Z"
   },
   {
    "duration": 26,
    "start_time": "2022-02-07T13:11:21.435Z"
   },
   {
    "duration": 1090,
    "start_time": "2022-02-07T13:12:42.537Z"
   },
   {
    "duration": 428,
    "start_time": "2022-02-07T13:12:43.629Z"
   },
   {
    "duration": 99,
    "start_time": "2022-02-07T13:12:44.059Z"
   },
   {
    "duration": 131,
    "start_time": "2022-02-07T13:12:44.160Z"
   },
   {
    "duration": 5,
    "start_time": "2022-02-07T13:12:44.293Z"
   },
   {
    "duration": 33,
    "start_time": "2022-02-07T13:12:44.300Z"
   },
   {
    "duration": 17,
    "start_time": "2022-02-07T13:12:44.335Z"
   },
   {
    "duration": 14,
    "start_time": "2022-02-07T13:12:44.355Z"
   },
   {
    "duration": 210,
    "start_time": "2022-02-07T13:12:44.371Z"
   },
   {
    "duration": 13,
    "start_time": "2022-02-07T13:12:44.583Z"
   },
   {
    "duration": 199,
    "start_time": "2022-02-07T13:12:44.598Z"
   },
   {
    "duration": 73,
    "start_time": "2022-02-07T13:12:44.798Z"
   },
   {
    "duration": 10,
    "start_time": "2022-02-07T13:12:44.872Z"
   },
   {
    "duration": 221,
    "start_time": "2022-02-07T13:12:44.884Z"
   },
   {
    "duration": 22,
    "start_time": "2022-02-07T13:12:45.107Z"
   },
   {
    "duration": 49,
    "start_time": "2022-02-07T13:12:45.131Z"
   },
   {
    "duration": 7,
    "start_time": "2022-02-07T13:12:45.182Z"
   },
   {
    "duration": 60,
    "start_time": "2022-02-07T13:12:45.191Z"
   },
   {
    "duration": 113,
    "start_time": "2022-02-07T13:12:45.253Z"
   },
   {
    "duration": 34,
    "start_time": "2022-02-07T13:12:45.367Z"
   },
   {
    "duration": 55,
    "start_time": "2022-02-07T13:12:45.403Z"
   },
   {
    "duration": 131,
    "start_time": "2022-02-07T13:12:45.460Z"
   },
   {
    "duration": 39,
    "start_time": "2022-02-07T13:12:45.595Z"
   },
   {
    "duration": 13,
    "start_time": "2022-02-07T13:12:45.636Z"
   },
   {
    "duration": 10,
    "start_time": "2022-02-07T13:12:45.650Z"
   },
   {
    "duration": 13,
    "start_time": "2022-02-07T13:12:45.662Z"
   },
   {
    "duration": 42,
    "start_time": "2022-02-07T13:12:45.677Z"
   },
   {
    "duration": 29,
    "start_time": "2022-02-07T13:14:51.833Z"
   },
   {
    "duration": 1158,
    "start_time": "2022-02-07T13:17:54.765Z"
   },
   {
    "duration": 661,
    "start_time": "2022-02-07T13:17:55.925Z"
   },
   {
    "duration": 97,
    "start_time": "2022-02-07T13:17:56.588Z"
   },
   {
    "duration": 123,
    "start_time": "2022-02-07T13:17:56.687Z"
   },
   {
    "duration": 4,
    "start_time": "2022-02-07T13:17:56.819Z"
   },
   {
    "duration": 26,
    "start_time": "2022-02-07T13:17:56.825Z"
   },
   {
    "duration": 15,
    "start_time": "2022-02-07T13:17:56.853Z"
   },
   {
    "duration": 25,
    "start_time": "2022-02-07T13:17:56.871Z"
   },
   {
    "duration": 217,
    "start_time": "2022-02-07T13:17:56.898Z"
   },
   {
    "duration": 15,
    "start_time": "2022-02-07T13:17:57.118Z"
   },
   {
    "duration": 197,
    "start_time": "2022-02-07T13:17:57.135Z"
   },
   {
    "duration": 63,
    "start_time": "2022-02-07T13:17:57.334Z"
   },
   {
    "duration": 24,
    "start_time": "2022-02-07T13:17:57.399Z"
   },
   {
    "duration": 205,
    "start_time": "2022-02-07T13:17:57.425Z"
   },
   {
    "duration": 14,
    "start_time": "2022-02-07T13:17:57.632Z"
   },
   {
    "duration": 88,
    "start_time": "2022-02-07T13:17:57.648Z"
   },
   {
    "duration": 8,
    "start_time": "2022-02-07T13:17:57.738Z"
   },
   {
    "duration": 44,
    "start_time": "2022-02-07T13:17:57.748Z"
   },
   {
    "duration": 126,
    "start_time": "2022-02-07T13:17:57.794Z"
   },
   {
    "duration": 41,
    "start_time": "2022-02-07T13:17:57.922Z"
   },
   {
    "duration": 59,
    "start_time": "2022-02-07T13:17:57.964Z"
   },
   {
    "duration": 127,
    "start_time": "2022-02-07T13:17:58.025Z"
   },
   {
    "duration": 35,
    "start_time": "2022-02-07T13:17:58.156Z"
   },
   {
    "duration": 28,
    "start_time": "2022-02-07T13:17:58.193Z"
   },
   {
    "duration": 10,
    "start_time": "2022-02-07T13:17:58.223Z"
   },
   {
    "duration": 14,
    "start_time": "2022-02-07T13:17:58.235Z"
   },
   {
    "duration": 27,
    "start_time": "2022-02-07T13:17:58.251Z"
   },
   {
    "duration": 40,
    "start_time": "2022-02-07T13:17:58.280Z"
   },
   {
    "duration": 1127,
    "start_time": "2022-02-07T13:18:13.902Z"
   },
   {
    "duration": 432,
    "start_time": "2022-02-07T13:18:15.031Z"
   },
   {
    "duration": 98,
    "start_time": "2022-02-07T13:18:15.465Z"
   },
   {
    "duration": 121,
    "start_time": "2022-02-07T13:18:15.565Z"
   },
   {
    "duration": 5,
    "start_time": "2022-02-07T13:18:15.687Z"
   },
   {
    "duration": 33,
    "start_time": "2022-02-07T13:18:15.694Z"
   },
   {
    "duration": 16,
    "start_time": "2022-02-07T13:18:15.729Z"
   },
   {
    "duration": 73,
    "start_time": "2022-02-07T13:18:15.747Z"
   },
   {
    "duration": 403,
    "start_time": "2022-02-07T13:18:15.822Z"
   },
   {
    "duration": 13,
    "start_time": "2022-02-07T13:18:16.228Z"
   },
   {
    "duration": 220,
    "start_time": "2022-02-07T13:18:16.243Z"
   },
   {
    "duration": 79,
    "start_time": "2022-02-07T13:18:16.464Z"
   },
   {
    "duration": 10,
    "start_time": "2022-02-07T13:18:16.544Z"
   },
   {
    "duration": 205,
    "start_time": "2022-02-07T13:18:16.556Z"
   },
   {
    "duration": 13,
    "start_time": "2022-02-07T13:18:16.763Z"
   },
   {
    "duration": 54,
    "start_time": "2022-02-07T13:18:16.778Z"
   },
   {
    "duration": 6,
    "start_time": "2022-02-07T13:18:16.833Z"
   },
   {
    "duration": 42,
    "start_time": "2022-02-07T13:18:16.841Z"
   },
   {
    "duration": 118,
    "start_time": "2022-02-07T13:18:16.885Z"
   },
   {
    "duration": 34,
    "start_time": "2022-02-07T13:18:17.005Z"
   },
   {
    "duration": 48,
    "start_time": "2022-02-07T13:18:17.042Z"
   },
   {
    "duration": 130,
    "start_time": "2022-02-07T13:18:17.092Z"
   },
   {
    "duration": 35,
    "start_time": "2022-02-07T13:18:17.224Z"
   },
   {
    "duration": 14,
    "start_time": "2022-02-07T13:18:17.260Z"
   },
   {
    "duration": 8,
    "start_time": "2022-02-07T13:18:17.276Z"
   },
   {
    "duration": 11,
    "start_time": "2022-02-07T13:18:17.286Z"
   },
   {
    "duration": 34,
    "start_time": "2022-02-07T13:18:17.300Z"
   },
   {
    "duration": 29,
    "start_time": "2022-02-07T13:18:17.336Z"
   },
   {
    "duration": 406,
    "start_time": "2022-02-07T13:47:10.209Z"
   },
   {
    "duration": 218,
    "start_time": "2022-02-07T13:47:16.570Z"
   },
   {
    "duration": 215,
    "start_time": "2022-02-07T13:47:49.978Z"
   },
   {
    "duration": 1090,
    "start_time": "2022-02-07T13:48:10.024Z"
   },
   {
    "duration": 430,
    "start_time": "2022-02-07T13:48:11.116Z"
   },
   {
    "duration": 98,
    "start_time": "2022-02-07T13:48:11.548Z"
   },
   {
    "duration": 125,
    "start_time": "2022-02-07T13:48:11.648Z"
   },
   {
    "duration": 5,
    "start_time": "2022-02-07T13:48:11.775Z"
   },
   {
    "duration": 31,
    "start_time": "2022-02-07T13:48:11.782Z"
   },
   {
    "duration": 19,
    "start_time": "2022-02-07T13:48:11.815Z"
   },
   {
    "duration": 19,
    "start_time": "2022-02-07T13:48:11.836Z"
   },
   {
    "duration": 246,
    "start_time": "2022-02-07T13:48:11.857Z"
   },
   {
    "duration": 22,
    "start_time": "2022-02-07T13:48:12.105Z"
   },
   {
    "duration": 204,
    "start_time": "2022-02-07T13:48:12.129Z"
   },
   {
    "duration": 63,
    "start_time": "2022-02-07T13:48:12.335Z"
   },
   {
    "duration": 27,
    "start_time": "2022-02-07T13:48:12.400Z"
   },
   {
    "duration": 219,
    "start_time": "2022-02-07T13:48:12.428Z"
   },
   {
    "duration": 16,
    "start_time": "2022-02-07T13:48:12.649Z"
   },
   {
    "duration": 68,
    "start_time": "2022-02-07T13:48:12.667Z"
   },
   {
    "duration": 7,
    "start_time": "2022-02-07T13:48:12.737Z"
   },
   {
    "duration": 50,
    "start_time": "2022-02-07T13:48:12.746Z"
   },
   {
    "duration": 125,
    "start_time": "2022-02-07T13:48:12.799Z"
   },
   {
    "duration": 35,
    "start_time": "2022-02-07T13:48:12.926Z"
   },
   {
    "duration": 63,
    "start_time": "2022-02-07T13:48:12.963Z"
   },
   {
    "duration": 135,
    "start_time": "2022-02-07T13:48:13.028Z"
   },
   {
    "duration": 36,
    "start_time": "2022-02-07T13:48:13.167Z"
   },
   {
    "duration": 14,
    "start_time": "2022-02-07T13:48:13.217Z"
   },
   {
    "duration": 11,
    "start_time": "2022-02-07T13:48:13.233Z"
   },
   {
    "duration": 24,
    "start_time": "2022-02-07T13:48:13.246Z"
   },
   {
    "duration": 29,
    "start_time": "2022-02-07T13:48:13.272Z"
   },
   {
    "duration": 45,
    "start_time": "2022-02-07T13:48:13.303Z"
   },
   {
    "duration": 317,
    "start_time": "2022-02-07T13:49:38.842Z"
   },
   {
    "duration": 1133,
    "start_time": "2022-02-07T13:49:46.390Z"
   },
   {
    "duration": 418,
    "start_time": "2022-02-07T13:49:47.525Z"
   },
   {
    "duration": 94,
    "start_time": "2022-02-07T13:49:47.947Z"
   },
   {
    "duration": 125,
    "start_time": "2022-02-07T13:49:48.043Z"
   },
   {
    "duration": 5,
    "start_time": "2022-02-07T13:49:48.170Z"
   },
   {
    "duration": 26,
    "start_time": "2022-02-07T13:49:48.176Z"
   },
   {
    "duration": 18,
    "start_time": "2022-02-07T13:49:48.217Z"
   },
   {
    "duration": 14,
    "start_time": "2022-02-07T13:49:48.237Z"
   },
   {
    "duration": 206,
    "start_time": "2022-02-07T13:49:48.253Z"
   },
   {
    "duration": 14,
    "start_time": "2022-02-07T13:49:48.461Z"
   },
   {
    "duration": 199,
    "start_time": "2022-02-07T13:49:48.476Z"
   },
   {
    "duration": 69,
    "start_time": "2022-02-07T13:49:48.677Z"
   },
   {
    "duration": 10,
    "start_time": "2022-02-07T13:49:48.748Z"
   },
   {
    "duration": 303,
    "start_time": "2022-02-07T13:49:48.760Z"
   },
   {
    "duration": 13,
    "start_time": "2022-02-07T13:49:49.065Z"
   },
   {
    "duration": 59,
    "start_time": "2022-02-07T13:49:49.080Z"
   },
   {
    "duration": 7,
    "start_time": "2022-02-07T13:49:49.141Z"
   },
   {
    "duration": 41,
    "start_time": "2022-02-07T13:49:49.149Z"
   },
   {
    "duration": 119,
    "start_time": "2022-02-07T13:49:49.192Z"
   },
   {
    "duration": 34,
    "start_time": "2022-02-07T13:49:49.313Z"
   },
   {
    "duration": 49,
    "start_time": "2022-02-07T13:49:49.349Z"
   },
   {
    "duration": 122,
    "start_time": "2022-02-07T13:49:49.419Z"
   },
   {
    "duration": 35,
    "start_time": "2022-02-07T13:49:49.543Z"
   },
   {
    "duration": 15,
    "start_time": "2022-02-07T13:49:49.580Z"
   },
   {
    "duration": 8,
    "start_time": "2022-02-07T13:49:49.618Z"
   },
   {
    "duration": 14,
    "start_time": "2022-02-07T13:49:49.627Z"
   },
   {
    "duration": 298,
    "start_time": "2022-02-07T13:49:49.643Z"
   },
   {
    "duration": -190,
    "start_time": "2022-02-07T13:49:50.133Z"
   },
   {
    "duration": 28,
    "start_time": "2022-02-07T13:51:51.394Z"
   },
   {
    "duration": 21,
    "start_time": "2022-02-07T13:52:01.979Z"
   },
   {
    "duration": 23,
    "start_time": "2022-02-07T13:52:48.438Z"
   },
   {
    "duration": 32,
    "start_time": "2022-02-07T13:52:58.457Z"
   },
   {
    "duration": 1106,
    "start_time": "2022-02-07T13:53:09.570Z"
   },
   {
    "duration": 430,
    "start_time": "2022-02-07T13:53:10.678Z"
   },
   {
    "duration": 110,
    "start_time": "2022-02-07T13:53:11.110Z"
   },
   {
    "duration": 125,
    "start_time": "2022-02-07T13:53:11.222Z"
   },
   {
    "duration": 5,
    "start_time": "2022-02-07T13:53:11.349Z"
   },
   {
    "duration": 31,
    "start_time": "2022-02-07T13:53:11.356Z"
   },
   {
    "duration": 17,
    "start_time": "2022-02-07T13:53:11.390Z"
   },
   {
    "duration": 20,
    "start_time": "2022-02-07T13:53:11.419Z"
   },
   {
    "duration": 208,
    "start_time": "2022-02-07T13:53:11.441Z"
   },
   {
    "duration": 14,
    "start_time": "2022-02-07T13:53:11.651Z"
   },
   {
    "duration": 195,
    "start_time": "2022-02-07T13:53:11.666Z"
   },
   {
    "duration": 65,
    "start_time": "2022-02-07T13:53:11.863Z"
   },
   {
    "duration": 10,
    "start_time": "2022-02-07T13:53:11.930Z"
   },
   {
    "duration": 213,
    "start_time": "2022-02-07T13:53:11.942Z"
   },
   {
    "duration": 21,
    "start_time": "2022-02-07T13:53:12.157Z"
   },
   {
    "duration": 69,
    "start_time": "2022-02-07T13:53:12.181Z"
   },
   {
    "duration": 8,
    "start_time": "2022-02-07T13:53:12.252Z"
   },
   {
    "duration": 57,
    "start_time": "2022-02-07T13:53:12.262Z"
   },
   {
    "duration": 113,
    "start_time": "2022-02-07T13:53:12.321Z"
   },
   {
    "duration": 34,
    "start_time": "2022-02-07T13:53:12.436Z"
   },
   {
    "duration": 67,
    "start_time": "2022-02-07T13:53:12.473Z"
   },
   {
    "duration": 133,
    "start_time": "2022-02-07T13:53:12.542Z"
   },
   {
    "duration": 45,
    "start_time": "2022-02-07T13:53:12.679Z"
   },
   {
    "duration": 13,
    "start_time": "2022-02-07T13:53:12.726Z"
   },
   {
    "duration": 10,
    "start_time": "2022-02-07T13:53:12.740Z"
   },
   {
    "duration": 15,
    "start_time": "2022-02-07T13:53:12.751Z"
   },
   {
    "duration": 51,
    "start_time": "2022-02-07T13:53:12.768Z"
   },
   {
    "duration": 29,
    "start_time": "2022-02-07T13:53:12.821Z"
   },
   {
    "duration": 30,
    "start_time": "2022-02-07T13:53:31.222Z"
   },
   {
    "duration": 1066,
    "start_time": "2022-02-07T13:57:20.854Z"
   },
   {
    "duration": 424,
    "start_time": "2022-02-07T13:57:21.923Z"
   },
   {
    "duration": 93,
    "start_time": "2022-02-07T13:57:22.350Z"
   },
   {
    "duration": 119,
    "start_time": "2022-02-07T13:57:22.445Z"
   },
   {
    "duration": 4,
    "start_time": "2022-02-07T13:57:22.566Z"
   },
   {
    "duration": 22,
    "start_time": "2022-02-07T13:57:22.572Z"
   },
   {
    "duration": 36,
    "start_time": "2022-02-07T13:57:22.597Z"
   },
   {
    "duration": 15,
    "start_time": "2022-02-07T13:57:22.635Z"
   },
   {
    "duration": 223,
    "start_time": "2022-02-07T13:57:22.654Z"
   },
   {
    "duration": 16,
    "start_time": "2022-02-07T13:57:22.880Z"
   },
   {
    "duration": 214,
    "start_time": "2022-02-07T13:57:22.898Z"
   },
   {
    "duration": 66,
    "start_time": "2022-02-07T13:57:23.117Z"
   },
   {
    "duration": 12,
    "start_time": "2022-02-07T13:57:23.185Z"
   },
   {
    "duration": 226,
    "start_time": "2022-02-07T13:57:23.199Z"
   },
   {
    "duration": 14,
    "start_time": "2022-02-07T13:57:23.427Z"
   },
   {
    "duration": 52,
    "start_time": "2022-02-07T13:57:23.443Z"
   },
   {
    "duration": 9,
    "start_time": "2022-02-07T13:57:23.517Z"
   },
   {
    "duration": 45,
    "start_time": "2022-02-07T13:57:23.528Z"
   },
   {
    "duration": 119,
    "start_time": "2022-02-07T13:57:23.575Z"
   },
   {
    "duration": 44,
    "start_time": "2022-02-07T13:57:23.697Z"
   },
   {
    "duration": 49,
    "start_time": "2022-02-07T13:57:23.744Z"
   },
   {
    "duration": 145,
    "start_time": "2022-02-07T13:57:23.795Z"
   },
   {
    "duration": 38,
    "start_time": "2022-02-07T13:57:23.943Z"
   },
   {
    "duration": 15,
    "start_time": "2022-02-07T13:57:23.983Z"
   },
   {
    "duration": 10,
    "start_time": "2022-02-07T13:57:24.019Z"
   },
   {
    "duration": 14,
    "start_time": "2022-02-07T13:57:24.031Z"
   },
   {
    "duration": 30,
    "start_time": "2022-02-07T13:57:24.048Z"
   },
   {
    "duration": 58,
    "start_time": "2022-02-07T13:57:24.080Z"
   },
   {
    "duration": 615,
    "start_time": "2022-02-07T13:57:24.140Z"
   },
   {
    "duration": 1093,
    "start_time": "2022-02-07T14:00:00.048Z"
   },
   {
    "duration": 453,
    "start_time": "2022-02-07T14:00:01.144Z"
   },
   {
    "duration": 120,
    "start_time": "2022-02-07T14:00:01.600Z"
   },
   {
    "duration": 124,
    "start_time": "2022-02-07T14:00:01.722Z"
   },
   {
    "duration": 5,
    "start_time": "2022-02-07T14:00:01.848Z"
   },
   {
    "duration": 47,
    "start_time": "2022-02-07T14:00:01.855Z"
   },
   {
    "duration": 18,
    "start_time": "2022-02-07T14:00:01.904Z"
   },
   {
    "duration": 36,
    "start_time": "2022-02-07T14:00:01.925Z"
   },
   {
    "duration": 202,
    "start_time": "2022-02-07T14:00:01.963Z"
   },
   {
    "duration": 14,
    "start_time": "2022-02-07T14:00:02.167Z"
   },
   {
    "duration": 242,
    "start_time": "2022-02-07T14:00:02.182Z"
   },
   {
    "duration": 63,
    "start_time": "2022-02-07T14:00:02.426Z"
   },
   {
    "duration": 12,
    "start_time": "2022-02-07T14:00:02.491Z"
   },
   {
    "duration": 226,
    "start_time": "2022-02-07T14:00:02.504Z"
   },
   {
    "duration": 14,
    "start_time": "2022-02-07T14:00:02.732Z"
   },
   {
    "duration": 64,
    "start_time": "2022-02-07T14:00:02.748Z"
   },
   {
    "duration": 9,
    "start_time": "2022-02-07T14:00:02.813Z"
   },
   {
    "duration": 49,
    "start_time": "2022-02-07T14:00:02.824Z"
   },
   {
    "duration": 124,
    "start_time": "2022-02-07T14:00:02.875Z"
   },
   {
    "duration": 40,
    "start_time": "2022-02-07T14:00:03.001Z"
   },
   {
    "duration": 49,
    "start_time": "2022-02-07T14:00:03.042Z"
   },
   {
    "duration": 146,
    "start_time": "2022-02-07T14:00:03.093Z"
   },
   {
    "duration": 37,
    "start_time": "2022-02-07T14:00:03.242Z"
   },
   {
    "duration": 14,
    "start_time": "2022-02-07T14:00:03.281Z"
   },
   {
    "duration": 30,
    "start_time": "2022-02-07T14:00:03.297Z"
   },
   {
    "duration": 19,
    "start_time": "2022-02-07T14:00:03.329Z"
   },
   {
    "duration": 54,
    "start_time": "2022-02-07T14:00:03.351Z"
   },
   {
    "duration": 38,
    "start_time": "2022-02-07T14:00:03.406Z"
   },
   {
    "duration": 349,
    "start_time": "2022-02-07T14:00:03.445Z"
   },
   {
    "duration": 9,
    "start_time": "2022-02-07T14:02:28.134Z"
   },
   {
    "duration": 1066,
    "start_time": "2022-02-07T14:02:37.748Z"
   },
   {
    "duration": 428,
    "start_time": "2022-02-07T14:02:38.816Z"
   },
   {
    "duration": 96,
    "start_time": "2022-02-07T14:02:39.247Z"
   },
   {
    "duration": 119,
    "start_time": "2022-02-07T14:02:39.345Z"
   },
   {
    "duration": 5,
    "start_time": "2022-02-07T14:02:39.465Z"
   },
   {
    "duration": 25,
    "start_time": "2022-02-07T14:02:39.472Z"
   },
   {
    "duration": 30,
    "start_time": "2022-02-07T14:02:39.499Z"
   },
   {
    "duration": 16,
    "start_time": "2022-02-07T14:02:39.531Z"
   },
   {
    "duration": 208,
    "start_time": "2022-02-07T14:02:39.550Z"
   },
   {
    "duration": 14,
    "start_time": "2022-02-07T14:02:39.760Z"
   },
   {
    "duration": 203,
    "start_time": "2022-02-07T14:02:39.776Z"
   },
   {
    "duration": 72,
    "start_time": "2022-02-07T14:02:39.981Z"
   },
   {
    "duration": 16,
    "start_time": "2022-02-07T14:02:40.055Z"
   },
   {
    "duration": 209,
    "start_time": "2022-02-07T14:02:40.072Z"
   },
   {
    "duration": 13,
    "start_time": "2022-02-07T14:02:40.282Z"
   },
   {
    "duration": 59,
    "start_time": "2022-02-07T14:02:40.297Z"
   },
   {
    "duration": 7,
    "start_time": "2022-02-07T14:02:40.358Z"
   },
   {
    "duration": 53,
    "start_time": "2022-02-07T14:02:40.367Z"
   },
   {
    "duration": 115,
    "start_time": "2022-02-07T14:02:40.422Z"
   },
   {
    "duration": 34,
    "start_time": "2022-02-07T14:02:40.539Z"
   },
   {
    "duration": 64,
    "start_time": "2022-02-07T14:02:40.574Z"
   },
   {
    "duration": 132,
    "start_time": "2022-02-07T14:02:40.640Z"
   },
   {
    "duration": 51,
    "start_time": "2022-02-07T14:02:40.775Z"
   },
   {
    "duration": 13,
    "start_time": "2022-02-07T14:02:40.828Z"
   },
   {
    "duration": 15,
    "start_time": "2022-02-07T14:02:40.843Z"
   },
   {
    "duration": 13,
    "start_time": "2022-02-07T14:02:40.859Z"
   },
   {
    "duration": 47,
    "start_time": "2022-02-07T14:02:40.875Z"
   },
   {
    "duration": 28,
    "start_time": "2022-02-07T14:02:40.924Z"
   },
   {
    "duration": 39,
    "start_time": "2022-02-07T14:02:40.954Z"
   },
   {
    "duration": 742,
    "start_time": "2022-02-07T14:07:13.234Z"
   },
   {
    "duration": 87,
    "start_time": "2022-02-07T14:09:02.701Z"
   },
   {
    "duration": 313,
    "start_time": "2022-02-07T14:09:42.325Z"
   },
   {
    "duration": 96,
    "start_time": "2022-02-07T14:10:24.374Z"
   },
   {
    "duration": 334,
    "start_time": "2022-02-07T14:10:40.376Z"
   },
   {
    "duration": 3981,
    "start_time": "2022-02-07T14:10:54.944Z"
   },
   {
    "duration": 397,
    "start_time": "2022-02-07T14:11:13.732Z"
   },
   {
    "duration": 72,
    "start_time": "2022-02-07T14:11:35.840Z"
   },
   {
    "duration": 65,
    "start_time": "2022-02-07T14:11:40.555Z"
   },
   {
    "duration": 246,
    "start_time": "2022-02-07T14:12:08.394Z"
   },
   {
    "duration": 1067,
    "start_time": "2022-02-07T14:13:45.944Z"
   },
   {
    "duration": 423,
    "start_time": "2022-02-07T14:13:47.013Z"
   },
   {
    "duration": 95,
    "start_time": "2022-02-07T14:13:47.439Z"
   },
   {
    "duration": 114,
    "start_time": "2022-02-07T14:13:47.536Z"
   },
   {
    "duration": 4,
    "start_time": "2022-02-07T14:13:47.652Z"
   },
   {
    "duration": 24,
    "start_time": "2022-02-07T14:13:47.658Z"
   },
   {
    "duration": 16,
    "start_time": "2022-02-07T14:13:47.684Z"
   },
   {
    "duration": 14,
    "start_time": "2022-02-07T14:13:47.719Z"
   },
   {
    "duration": 197,
    "start_time": "2022-02-07T14:13:47.736Z"
   },
   {
    "duration": 15,
    "start_time": "2022-02-07T14:13:47.936Z"
   },
   {
    "duration": 207,
    "start_time": "2022-02-07T14:13:47.953Z"
   },
   {
    "duration": 68,
    "start_time": "2022-02-07T14:13:48.163Z"
   },
   {
    "duration": 11,
    "start_time": "2022-02-07T14:13:48.233Z"
   },
   {
    "duration": 208,
    "start_time": "2022-02-07T14:13:48.246Z"
   },
   {
    "duration": 12,
    "start_time": "2022-02-07T14:13:48.456Z"
   },
   {
    "duration": 59,
    "start_time": "2022-02-07T14:13:48.470Z"
   },
   {
    "duration": 6,
    "start_time": "2022-02-07T14:13:48.531Z"
   },
   {
    "duration": 41,
    "start_time": "2022-02-07T14:13:48.539Z"
   },
   {
    "duration": 119,
    "start_time": "2022-02-07T14:13:48.581Z"
   },
   {
    "duration": 46,
    "start_time": "2022-02-07T14:13:48.701Z"
   },
   {
    "duration": 45,
    "start_time": "2022-02-07T14:13:48.748Z"
   },
   {
    "duration": 131,
    "start_time": "2022-02-07T14:13:48.794Z"
   },
   {
    "duration": 34,
    "start_time": "2022-02-07T14:13:48.927Z"
   },
   {
    "duration": 13,
    "start_time": "2022-02-07T14:13:48.962Z"
   },
   {
    "duration": 15,
    "start_time": "2022-02-07T14:13:48.977Z"
   },
   {
    "duration": 82,
    "start_time": "2022-02-07T14:13:48.993Z"
   },
   {
    "duration": -15,
    "start_time": "2022-02-07T14:13:49.091Z"
   },
   {
    "duration": -17,
    "start_time": "2022-02-07T14:13:49.095Z"
   },
   {
    "duration": -18,
    "start_time": "2022-02-07T14:13:49.096Z"
   },
   {
    "duration": 1099,
    "start_time": "2022-02-07T14:14:09.128Z"
   },
   {
    "duration": 437,
    "start_time": "2022-02-07T14:14:10.230Z"
   },
   {
    "duration": 94,
    "start_time": "2022-02-07T14:14:10.669Z"
   },
   {
    "duration": 117,
    "start_time": "2022-02-07T14:14:10.765Z"
   },
   {
    "duration": 4,
    "start_time": "2022-02-07T14:14:10.884Z"
   },
   {
    "duration": 35,
    "start_time": "2022-02-07T14:14:10.890Z"
   },
   {
    "duration": 16,
    "start_time": "2022-02-07T14:14:10.927Z"
   },
   {
    "duration": 14,
    "start_time": "2022-02-07T14:14:10.946Z"
   },
   {
    "duration": 212,
    "start_time": "2022-02-07T14:14:10.963Z"
   },
   {
    "duration": 15,
    "start_time": "2022-02-07T14:14:11.177Z"
   },
   {
    "duration": 202,
    "start_time": "2022-02-07T14:14:11.194Z"
   },
   {
    "duration": 65,
    "start_time": "2022-02-07T14:14:11.398Z"
   },
   {
    "duration": 10,
    "start_time": "2022-02-07T14:14:11.465Z"
   },
   {
    "duration": 211,
    "start_time": "2022-02-07T14:14:11.476Z"
   },
   {
    "duration": 12,
    "start_time": "2022-02-07T14:14:11.689Z"
   },
   {
    "duration": 56,
    "start_time": "2022-02-07T14:14:11.703Z"
   },
   {
    "duration": 7,
    "start_time": "2022-02-07T14:14:11.760Z"
   },
   {
    "duration": 50,
    "start_time": "2022-02-07T14:14:11.768Z"
   },
   {
    "duration": 107,
    "start_time": "2022-02-07T14:14:11.820Z"
   },
   {
    "duration": 32,
    "start_time": "2022-02-07T14:14:11.929Z"
   },
   {
    "duration": 61,
    "start_time": "2022-02-07T14:14:11.962Z"
   },
   {
    "duration": 133,
    "start_time": "2022-02-07T14:14:12.025Z"
   },
   {
    "duration": 36,
    "start_time": "2022-02-07T14:14:12.161Z"
   },
   {
    "duration": 27,
    "start_time": "2022-02-07T14:14:12.199Z"
   },
   {
    "duration": 12,
    "start_time": "2022-02-07T14:14:12.228Z"
   },
   {
    "duration": 13,
    "start_time": "2022-02-07T14:14:12.241Z"
   },
   {
    "duration": 27,
    "start_time": "2022-02-07T14:14:12.256Z"
   },
   {
    "duration": 58,
    "start_time": "2022-02-07T14:14:12.285Z"
   },
   {
    "duration": 32,
    "start_time": "2022-02-07T14:14:12.345Z"
   },
   {
    "duration": 1246,
    "start_time": "2022-02-07T14:28:22.504Z"
   },
   {
    "duration": 512,
    "start_time": "2022-02-07T14:28:23.752Z"
   },
   {
    "duration": 96,
    "start_time": "2022-02-07T14:28:24.266Z"
   },
   {
    "duration": 125,
    "start_time": "2022-02-07T14:28:24.365Z"
   },
   {
    "duration": 5,
    "start_time": "2022-02-07T14:28:24.492Z"
   },
   {
    "duration": 34,
    "start_time": "2022-02-07T14:28:24.499Z"
   },
   {
    "duration": 18,
    "start_time": "2022-02-07T14:28:24.536Z"
   },
   {
    "duration": 18,
    "start_time": "2022-02-07T14:28:24.558Z"
   },
   {
    "duration": 214,
    "start_time": "2022-02-07T14:28:24.578Z"
   },
   {
    "duration": 28,
    "start_time": "2022-02-07T14:28:24.795Z"
   },
   {
    "duration": 201,
    "start_time": "2022-02-07T14:28:24.825Z"
   },
   {
    "duration": 90,
    "start_time": "2022-02-07T14:28:25.028Z"
   },
   {
    "duration": 12,
    "start_time": "2022-02-07T14:28:25.120Z"
   },
   {
    "duration": 275,
    "start_time": "2022-02-07T14:28:25.133Z"
   },
   {
    "duration": 23,
    "start_time": "2022-02-07T14:28:25.410Z"
   },
   {
    "duration": 84,
    "start_time": "2022-02-07T14:28:25.435Z"
   },
   {
    "duration": 8,
    "start_time": "2022-02-07T14:28:25.521Z"
   },
   {
    "duration": 51,
    "start_time": "2022-02-07T14:28:25.531Z"
   },
   {
    "duration": 124,
    "start_time": "2022-02-07T14:28:25.583Z"
   },
   {
    "duration": 40,
    "start_time": "2022-02-07T14:28:25.709Z"
   },
   {
    "duration": 67,
    "start_time": "2022-02-07T14:28:25.751Z"
   },
   {
    "duration": 129,
    "start_time": "2022-02-07T14:28:25.821Z"
   },
   {
    "duration": 36,
    "start_time": "2022-02-07T14:28:25.953Z"
   },
   {
    "duration": 29,
    "start_time": "2022-02-07T14:28:25.991Z"
   },
   {
    "duration": 15,
    "start_time": "2022-02-07T14:28:26.022Z"
   },
   {
    "duration": 15,
    "start_time": "2022-02-07T14:28:26.039Z"
   },
   {
    "duration": 36,
    "start_time": "2022-02-07T14:28:26.056Z"
   },
   {
    "duration": 54,
    "start_time": "2022-02-07T14:28:26.095Z"
   },
   {
    "duration": 43,
    "start_time": "2022-02-07T14:28:26.151Z"
   },
   {
    "duration": 1176,
    "start_time": "2022-02-07T14:29:37.300Z"
   },
   {
    "duration": 417,
    "start_time": "2022-02-07T14:29:38.478Z"
   },
   {
    "duration": 90,
    "start_time": "2022-02-07T14:29:38.898Z"
   },
   {
    "duration": 129,
    "start_time": "2022-02-07T14:29:38.990Z"
   },
   {
    "duration": 5,
    "start_time": "2022-02-07T14:29:39.120Z"
   },
   {
    "duration": 25,
    "start_time": "2022-02-07T14:29:39.126Z"
   },
   {
    "duration": 16,
    "start_time": "2022-02-07T14:29:39.152Z"
   },
   {
    "duration": 17,
    "start_time": "2022-02-07T14:29:39.170Z"
   },
   {
    "duration": 199,
    "start_time": "2022-02-07T14:29:39.189Z"
   },
   {
    "duration": 14,
    "start_time": "2022-02-07T14:29:39.390Z"
   },
   {
    "duration": 192,
    "start_time": "2022-02-07T14:29:39.418Z"
   },
   {
    "duration": 64,
    "start_time": "2022-02-07T14:29:39.612Z"
   },
   {
    "duration": 10,
    "start_time": "2022-02-07T14:29:39.678Z"
   },
   {
    "duration": 228,
    "start_time": "2022-02-07T14:29:39.690Z"
   },
   {
    "duration": 13,
    "start_time": "2022-02-07T14:29:39.920Z"
   },
   {
    "duration": 102,
    "start_time": "2022-02-07T14:29:39.935Z"
   },
   {
    "duration": 7,
    "start_time": "2022-02-07T14:29:40.039Z"
   },
   {
    "duration": 95,
    "start_time": "2022-02-07T14:29:40.047Z"
   },
   {
    "duration": 213,
    "start_time": "2022-02-07T14:29:40.144Z"
   },
   {
    "duration": 73,
    "start_time": "2022-02-07T14:29:40.359Z"
   },
   {
    "duration": 46,
    "start_time": "2022-02-07T14:29:40.434Z"
   },
   {
    "duration": 136,
    "start_time": "2022-02-07T14:29:40.482Z"
   },
   {
    "duration": 35,
    "start_time": "2022-02-07T14:29:40.621Z"
   },
   {
    "duration": 14,
    "start_time": "2022-02-07T14:29:40.658Z"
   },
   {
    "duration": 18,
    "start_time": "2022-02-07T14:29:40.674Z"
   },
   {
    "duration": 29,
    "start_time": "2022-02-07T14:29:40.694Z"
   },
   {
    "duration": 36,
    "start_time": "2022-02-07T14:29:40.725Z"
   },
   {
    "duration": 29,
    "start_time": "2022-02-07T14:29:40.763Z"
   },
   {
    "duration": 42,
    "start_time": "2022-02-07T14:29:40.794Z"
   },
   {
    "duration": 1121,
    "start_time": "2022-02-07T14:34:11.801Z"
   },
   {
    "duration": 420,
    "start_time": "2022-02-07T14:34:12.924Z"
   },
   {
    "duration": 91,
    "start_time": "2022-02-07T14:34:13.346Z"
   },
   {
    "duration": 106,
    "start_time": "2022-02-07T14:34:13.439Z"
   },
   {
    "duration": 4,
    "start_time": "2022-02-07T14:34:13.547Z"
   },
   {
    "duration": 28,
    "start_time": "2022-02-07T14:34:13.553Z"
   },
   {
    "duration": 17,
    "start_time": "2022-02-07T14:34:13.582Z"
   },
   {
    "duration": 29,
    "start_time": "2022-02-07T14:34:13.600Z"
   },
   {
    "duration": 195,
    "start_time": "2022-02-07T14:34:13.631Z"
   },
   {
    "duration": 13,
    "start_time": "2022-02-07T14:34:13.829Z"
   },
   {
    "duration": 201,
    "start_time": "2022-02-07T14:34:13.844Z"
   },
   {
    "duration": 75,
    "start_time": "2022-02-07T14:34:14.047Z"
   },
   {
    "duration": 9,
    "start_time": "2022-02-07T14:34:14.124Z"
   },
   {
    "duration": 201,
    "start_time": "2022-02-07T14:34:14.135Z"
   },
   {
    "duration": 12,
    "start_time": "2022-02-07T14:34:14.338Z"
   },
   {
    "duration": 50,
    "start_time": "2022-02-07T14:34:14.352Z"
   },
   {
    "duration": 19,
    "start_time": "2022-02-07T14:34:14.403Z"
   },
   {
    "duration": 43,
    "start_time": "2022-02-07T14:34:14.424Z"
   },
   {
    "duration": 119,
    "start_time": "2022-02-07T14:34:14.469Z"
   },
   {
    "duration": 42,
    "start_time": "2022-02-07T14:34:14.590Z"
   },
   {
    "duration": 46,
    "start_time": "2022-02-07T14:34:14.634Z"
   },
   {
    "duration": 132,
    "start_time": "2022-02-07T14:34:14.682Z"
   },
   {
    "duration": 37,
    "start_time": "2022-02-07T14:34:14.818Z"
   },
   {
    "duration": 14,
    "start_time": "2022-02-07T14:34:14.856Z"
   },
   {
    "duration": 13,
    "start_time": "2022-02-07T14:34:14.871Z"
   },
   {
    "duration": 34,
    "start_time": "2022-02-07T14:34:14.886Z"
   },
   {
    "duration": 26,
    "start_time": "2022-02-07T14:34:14.924Z"
   },
   {
    "duration": 22,
    "start_time": "2022-02-07T14:34:14.953Z"
   },
   {
    "duration": 54,
    "start_time": "2022-02-07T14:34:14.977Z"
   },
   {
    "duration": 1038,
    "start_time": "2022-02-07T14:34:27.470Z"
   },
   {
    "duration": 413,
    "start_time": "2022-02-07T14:34:28.510Z"
   },
   {
    "duration": 106,
    "start_time": "2022-02-07T14:34:28.925Z"
   },
   {
    "duration": 114,
    "start_time": "2022-02-07T14:34:29.032Z"
   },
   {
    "duration": 4,
    "start_time": "2022-02-07T14:34:29.148Z"
   },
   {
    "duration": 21,
    "start_time": "2022-02-07T14:34:29.154Z"
   },
   {
    "duration": 16,
    "start_time": "2022-02-07T14:34:29.177Z"
   },
   {
    "duration": 36,
    "start_time": "2022-02-07T14:34:29.195Z"
   },
   {
    "duration": 199,
    "start_time": "2022-02-07T14:34:29.233Z"
   },
   {
    "duration": 13,
    "start_time": "2022-02-07T14:34:29.433Z"
   },
   {
    "duration": 197,
    "start_time": "2022-02-07T14:34:29.448Z"
   },
   {
    "duration": 62,
    "start_time": "2022-02-07T14:34:29.646Z"
   },
   {
    "duration": 9,
    "start_time": "2022-02-07T14:34:29.719Z"
   },
   {
    "duration": 208,
    "start_time": "2022-02-07T14:34:29.730Z"
   },
   {
    "duration": 13,
    "start_time": "2022-02-07T14:34:29.939Z"
   },
   {
    "duration": 67,
    "start_time": "2022-02-07T14:34:29.953Z"
   },
   {
    "duration": 8,
    "start_time": "2022-02-07T14:34:30.022Z"
   },
   {
    "duration": 58,
    "start_time": "2022-02-07T14:34:30.032Z"
   },
   {
    "duration": 155,
    "start_time": "2022-02-07T14:34:30.092Z"
   },
   {
    "duration": 47,
    "start_time": "2022-02-07T14:34:30.250Z"
   },
   {
    "duration": 56,
    "start_time": "2022-02-07T14:34:30.299Z"
   },
   {
    "duration": 142,
    "start_time": "2022-02-07T14:34:30.357Z"
   },
   {
    "duration": 45,
    "start_time": "2022-02-07T14:34:30.502Z"
   },
   {
    "duration": 14,
    "start_time": "2022-02-07T14:34:30.549Z"
   },
   {
    "duration": 15,
    "start_time": "2022-02-07T14:34:30.565Z"
   },
   {
    "duration": 25,
    "start_time": "2022-02-07T14:34:30.583Z"
   },
   {
    "duration": 35,
    "start_time": "2022-02-07T14:34:30.609Z"
   },
   {
    "duration": 21,
    "start_time": "2022-02-07T14:34:30.646Z"
   },
   {
    "duration": 23,
    "start_time": "2022-02-07T14:34:30.669Z"
   },
   {
    "duration": 1131,
    "start_time": "2022-02-07T14:36:51.108Z"
   },
   {
    "duration": 422,
    "start_time": "2022-02-07T14:36:52.241Z"
   },
   {
    "duration": 98,
    "start_time": "2022-02-07T14:36:52.665Z"
   },
   {
    "duration": 120,
    "start_time": "2022-02-07T14:36:52.765Z"
   },
   {
    "duration": 5,
    "start_time": "2022-02-07T14:36:52.887Z"
   },
   {
    "duration": 31,
    "start_time": "2022-02-07T14:36:52.893Z"
   },
   {
    "duration": 16,
    "start_time": "2022-02-07T14:36:52.926Z"
   },
   {
    "duration": 14,
    "start_time": "2022-02-07T14:36:52.945Z"
   },
   {
    "duration": 222,
    "start_time": "2022-02-07T14:36:52.962Z"
   },
   {
    "duration": 14,
    "start_time": "2022-02-07T14:36:53.187Z"
   },
   {
    "duration": 220,
    "start_time": "2022-02-07T14:36:53.203Z"
   },
   {
    "duration": 65,
    "start_time": "2022-02-07T14:36:53.425Z"
   },
   {
    "duration": 28,
    "start_time": "2022-02-07T14:36:53.492Z"
   },
   {
    "duration": 224,
    "start_time": "2022-02-07T14:36:53.523Z"
   },
   {
    "duration": 13,
    "start_time": "2022-02-07T14:36:53.749Z"
   },
   {
    "duration": 69,
    "start_time": "2022-02-07T14:36:53.764Z"
   },
   {
    "duration": 7,
    "start_time": "2022-02-07T14:36:53.835Z"
   },
   {
    "duration": 43,
    "start_time": "2022-02-07T14:36:53.844Z"
   },
   {
    "duration": 123,
    "start_time": "2022-02-07T14:36:53.890Z"
   },
   {
    "duration": 37,
    "start_time": "2022-02-07T14:36:54.018Z"
   },
   {
    "duration": 66,
    "start_time": "2022-02-07T14:36:54.057Z"
   },
   {
    "duration": 131,
    "start_time": "2022-02-07T14:36:54.125Z"
   },
   {
    "duration": 41,
    "start_time": "2022-02-07T14:36:54.260Z"
   },
   {
    "duration": 28,
    "start_time": "2022-02-07T14:36:54.304Z"
   },
   {
    "duration": 13,
    "start_time": "2022-02-07T14:36:54.334Z"
   },
   {
    "duration": 11,
    "start_time": "2022-02-07T14:36:54.349Z"
   },
   {
    "duration": 27,
    "start_time": "2022-02-07T14:36:54.361Z"
   },
   {
    "duration": 44,
    "start_time": "2022-02-07T14:36:54.390Z"
   },
   {
    "duration": 22,
    "start_time": "2022-02-07T14:36:54.435Z"
   },
   {
    "duration": 2,
    "start_time": "2022-02-07T14:36:54.459Z"
   },
   {
    "duration": 1104,
    "start_time": "2022-02-07T14:37:49.619Z"
   },
   {
    "duration": 438,
    "start_time": "2022-02-07T14:37:50.725Z"
   },
   {
    "duration": 92,
    "start_time": "2022-02-07T14:37:51.165Z"
   },
   {
    "duration": 120,
    "start_time": "2022-02-07T14:37:51.259Z"
   },
   {
    "duration": 5,
    "start_time": "2022-02-07T14:37:51.381Z"
   },
   {
    "duration": 33,
    "start_time": "2022-02-07T14:37:51.387Z"
   },
   {
    "duration": 16,
    "start_time": "2022-02-07T14:37:51.422Z"
   },
   {
    "duration": 14,
    "start_time": "2022-02-07T14:37:51.441Z"
   },
   {
    "duration": 212,
    "start_time": "2022-02-07T14:37:51.457Z"
   },
   {
    "duration": 14,
    "start_time": "2022-02-07T14:37:51.670Z"
   },
   {
    "duration": 198,
    "start_time": "2022-02-07T14:37:51.686Z"
   },
   {
    "duration": 69,
    "start_time": "2022-02-07T14:37:51.886Z"
   },
   {
    "duration": 11,
    "start_time": "2022-02-07T14:37:51.957Z"
   },
   {
    "duration": 213,
    "start_time": "2022-02-07T14:37:51.970Z"
   },
   {
    "duration": 12,
    "start_time": "2022-02-07T14:37:52.185Z"
   },
   {
    "duration": 59,
    "start_time": "2022-02-07T14:37:52.199Z"
   },
   {
    "duration": 7,
    "start_time": "2022-02-07T14:37:52.259Z"
   },
   {
    "duration": 51,
    "start_time": "2022-02-07T14:37:52.267Z"
   },
   {
    "duration": 110,
    "start_time": "2022-02-07T14:37:52.320Z"
   },
   {
    "duration": 41,
    "start_time": "2022-02-07T14:37:52.432Z"
   },
   {
    "duration": 61,
    "start_time": "2022-02-07T14:37:52.475Z"
   },
   {
    "duration": 130,
    "start_time": "2022-02-07T14:37:52.538Z"
   },
   {
    "duration": 36,
    "start_time": "2022-02-07T14:37:52.671Z"
   },
   {
    "duration": 14,
    "start_time": "2022-02-07T14:37:52.719Z"
   },
   {
    "duration": 15,
    "start_time": "2022-02-07T14:37:52.735Z"
   },
   {
    "duration": 16,
    "start_time": "2022-02-07T14:37:52.751Z"
   },
   {
    "duration": 33,
    "start_time": "2022-02-07T14:37:52.769Z"
   },
   {
    "duration": 33,
    "start_time": "2022-02-07T14:37:52.803Z"
   },
   {
    "duration": 49,
    "start_time": "2022-02-07T14:37:52.838Z"
   },
   {
    "duration": 2,
    "start_time": "2022-02-07T14:37:52.889Z"
   },
   {
    "duration": 74,
    "start_time": "2022-02-07T14:47:33.519Z"
   },
   {
    "duration": 345,
    "start_time": "2022-02-07T14:48:04.286Z"
   },
   {
    "duration": 1665,
    "start_time": "2022-02-07T14:48:46.946Z"
   },
   {
    "duration": 283,
    "start_time": "2022-02-07T14:49:07.566Z"
   },
   {
    "duration": 6,
    "start_time": "2022-02-07T14:50:24.835Z"
   },
   {
    "duration": 27,
    "start_time": "2022-02-07T14:50:42.385Z"
   },
   {
    "duration": 34,
    "start_time": "2022-02-07T14:52:10.139Z"
   },
   {
    "duration": 1137,
    "start_time": "2022-02-07T14:57:17.987Z"
   },
   {
    "duration": 458,
    "start_time": "2022-02-07T14:57:19.126Z"
   },
   {
    "duration": 100,
    "start_time": "2022-02-07T14:57:19.589Z"
   },
   {
    "duration": 117,
    "start_time": "2022-02-07T14:57:19.691Z"
   },
   {
    "duration": 9,
    "start_time": "2022-02-07T14:57:19.810Z"
   },
   {
    "duration": 27,
    "start_time": "2022-02-07T14:57:19.822Z"
   },
   {
    "duration": 18,
    "start_time": "2022-02-07T14:57:19.852Z"
   },
   {
    "duration": 15,
    "start_time": "2022-02-07T14:57:19.874Z"
   },
   {
    "duration": 208,
    "start_time": "2022-02-07T14:57:19.919Z"
   },
   {
    "duration": 15,
    "start_time": "2022-02-07T14:57:20.129Z"
   },
   {
    "duration": 214,
    "start_time": "2022-02-07T14:57:20.147Z"
   },
   {
    "duration": 71,
    "start_time": "2022-02-07T14:57:20.363Z"
   },
   {
    "duration": 10,
    "start_time": "2022-02-07T14:57:20.436Z"
   },
   {
    "duration": 212,
    "start_time": "2022-02-07T14:57:20.448Z"
   },
   {
    "duration": 13,
    "start_time": "2022-02-07T14:57:20.663Z"
   },
   {
    "duration": 66,
    "start_time": "2022-02-07T14:57:20.678Z"
   },
   {
    "duration": 6,
    "start_time": "2022-02-07T14:57:20.746Z"
   },
   {
    "duration": 45,
    "start_time": "2022-02-07T14:57:20.754Z"
   },
   {
    "duration": 123,
    "start_time": "2022-02-07T14:57:20.801Z"
   },
   {
    "duration": 48,
    "start_time": "2022-02-07T14:57:20.926Z"
   },
   {
    "duration": 76,
    "start_time": "2022-02-07T14:57:20.976Z"
   },
   {
    "duration": 138,
    "start_time": "2022-02-07T14:57:21.055Z"
   },
   {
    "duration": 45,
    "start_time": "2022-02-07T14:57:21.195Z"
   },
   {
    "duration": 13,
    "start_time": "2022-02-07T14:57:21.241Z"
   },
   {
    "duration": 13,
    "start_time": "2022-02-07T14:57:21.256Z"
   },
   {
    "duration": 42,
    "start_time": "2022-02-07T14:57:21.273Z"
   },
   {
    "duration": 33,
    "start_time": "2022-02-07T14:57:21.318Z"
   },
   {
    "duration": 24,
    "start_time": "2022-02-07T14:57:21.353Z"
   },
   {
    "duration": 23,
    "start_time": "2022-02-07T14:57:21.378Z"
   },
   {
    "duration": 111,
    "start_time": "2022-02-07T14:57:21.419Z"
   },
   {
    "duration": 77,
    "start_time": "2022-02-07T14:57:39.515Z"
   },
   {
    "duration": 38,
    "start_time": "2022-02-07T14:58:14.942Z"
   },
   {
    "duration": 1193,
    "start_time": "2022-02-07T15:00:46.529Z"
   },
   {
    "duration": 594,
    "start_time": "2022-02-07T15:00:47.725Z"
   },
   {
    "duration": 119,
    "start_time": "2022-02-07T15:00:48.322Z"
   },
   {
    "duration": 124,
    "start_time": "2022-02-07T15:00:48.443Z"
   },
   {
    "duration": 5,
    "start_time": "2022-02-07T15:00:48.569Z"
   },
   {
    "duration": 22,
    "start_time": "2022-02-07T15:00:48.576Z"
   },
   {
    "duration": 33,
    "start_time": "2022-02-07T15:00:48.600Z"
   },
   {
    "duration": 17,
    "start_time": "2022-02-07T15:00:48.636Z"
   },
   {
    "duration": 206,
    "start_time": "2022-02-07T15:00:48.655Z"
   },
   {
    "duration": 18,
    "start_time": "2022-02-07T15:00:48.863Z"
   },
   {
    "duration": 213,
    "start_time": "2022-02-07T15:00:48.883Z"
   },
   {
    "duration": 67,
    "start_time": "2022-02-07T15:00:49.098Z"
   },
   {
    "duration": 10,
    "start_time": "2022-02-07T15:00:49.167Z"
   },
   {
    "duration": 226,
    "start_time": "2022-02-07T15:00:49.180Z"
   },
   {
    "duration": 22,
    "start_time": "2022-02-07T15:00:49.408Z"
   },
   {
    "duration": 68,
    "start_time": "2022-02-07T15:00:49.432Z"
   },
   {
    "duration": 19,
    "start_time": "2022-02-07T15:00:49.502Z"
   },
   {
    "duration": 43,
    "start_time": "2022-02-07T15:00:49.523Z"
   },
   {
    "duration": 117,
    "start_time": "2022-02-07T15:00:49.568Z"
   },
   {
    "duration": 43,
    "start_time": "2022-02-07T15:00:49.687Z"
   },
   {
    "duration": 48,
    "start_time": "2022-02-07T15:00:49.731Z"
   },
   {
    "duration": 140,
    "start_time": "2022-02-07T15:00:49.781Z"
   },
   {
    "duration": 37,
    "start_time": "2022-02-07T15:00:49.924Z"
   },
   {
    "duration": 14,
    "start_time": "2022-02-07T15:00:49.963Z"
   },
   {
    "duration": 13,
    "start_time": "2022-02-07T15:00:49.978Z"
   },
   {
    "duration": 40,
    "start_time": "2022-02-07T15:00:49.993Z"
   },
   {
    "duration": 42,
    "start_time": "2022-02-07T15:00:50.035Z"
   },
   {
    "duration": 29,
    "start_time": "2022-02-07T15:00:50.079Z"
   },
   {
    "duration": 34,
    "start_time": "2022-02-07T15:00:50.111Z"
   },
   {
    "duration": 49,
    "start_time": "2022-02-07T15:00:50.147Z"
   },
   {
    "duration": 96,
    "start_time": "2022-02-07T15:44:19.833Z"
   },
   {
    "duration": 92,
    "start_time": "2022-02-07T15:44:55.345Z"
   },
   {
    "duration": 318,
    "start_time": "2022-02-07T15:45:01.266Z"
   },
   {
    "duration": 240,
    "start_time": "2022-02-07T15:45:11.882Z"
   },
   {
    "duration": 73,
    "start_time": "2022-02-07T15:45:42.622Z"
   },
   {
    "duration": 33,
    "start_time": "2022-02-07T15:45:58.724Z"
   },
   {
    "duration": 34,
    "start_time": "2022-02-07T15:49:53.772Z"
   },
   {
    "duration": 35,
    "start_time": "2022-02-07T15:50:06.142Z"
   },
   {
    "duration": 38,
    "start_time": "2022-02-07T15:50:17.510Z"
   },
   {
    "duration": 37,
    "start_time": "2022-02-07T15:52:55.296Z"
   },
   {
    "duration": 11,
    "start_time": "2022-02-07T16:04:20.003Z"
   },
   {
    "duration": 9,
    "start_time": "2022-02-07T16:04:34.790Z"
   },
   {
    "duration": 1136,
    "start_time": "2022-02-07T16:05:08.404Z"
   },
   {
    "duration": 445,
    "start_time": "2022-02-07T16:05:09.542Z"
   },
   {
    "duration": 107,
    "start_time": "2022-02-07T16:05:09.990Z"
   },
   {
    "duration": 129,
    "start_time": "2022-02-07T16:05:10.099Z"
   },
   {
    "duration": 5,
    "start_time": "2022-02-07T16:05:10.230Z"
   },
   {
    "duration": 24,
    "start_time": "2022-02-07T16:05:10.237Z"
   },
   {
    "duration": 17,
    "start_time": "2022-02-07T16:05:10.263Z"
   },
   {
    "duration": 44,
    "start_time": "2022-02-07T16:05:10.284Z"
   },
   {
    "duration": 211,
    "start_time": "2022-02-07T16:05:10.330Z"
   },
   {
    "duration": 16,
    "start_time": "2022-02-07T16:05:10.543Z"
   },
   {
    "duration": 217,
    "start_time": "2022-02-07T16:05:10.561Z"
   },
   {
    "duration": 74,
    "start_time": "2022-02-07T16:05:10.780Z"
   },
   {
    "duration": 11,
    "start_time": "2022-02-07T16:05:10.856Z"
   },
   {
    "duration": 236,
    "start_time": "2022-02-07T16:05:10.869Z"
   },
   {
    "duration": 19,
    "start_time": "2022-02-07T16:05:11.108Z"
   },
   {
    "duration": 52,
    "start_time": "2022-02-07T16:05:11.130Z"
   },
   {
    "duration": 7,
    "start_time": "2022-02-07T16:05:11.184Z"
   },
   {
    "duration": 68,
    "start_time": "2022-02-07T16:05:11.193Z"
   },
   {
    "duration": 117,
    "start_time": "2022-02-07T16:05:11.263Z"
   },
   {
    "duration": 43,
    "start_time": "2022-02-07T16:05:11.382Z"
   },
   {
    "duration": 48,
    "start_time": "2022-02-07T16:05:11.427Z"
   },
   {
    "duration": 141,
    "start_time": "2022-02-07T16:05:11.477Z"
   },
   {
    "duration": 36,
    "start_time": "2022-02-07T16:05:11.621Z"
   },
   {
    "duration": 13,
    "start_time": "2022-02-07T16:05:11.659Z"
   },
   {
    "duration": 9,
    "start_time": "2022-02-07T16:05:11.674Z"
   },
   {
    "duration": 36,
    "start_time": "2022-02-07T16:05:11.685Z"
   },
   {
    "duration": 27,
    "start_time": "2022-02-07T16:05:11.723Z"
   },
   {
    "duration": 21,
    "start_time": "2022-02-07T16:05:11.752Z"
   },
   {
    "duration": 48,
    "start_time": "2022-02-07T16:05:11.774Z"
   },
   {
    "duration": 38,
    "start_time": "2022-02-07T16:05:11.824Z"
   },
   {
    "duration": 6449,
    "start_time": "2022-02-07T16:06:14.892Z"
   },
   {
    "duration": 1132,
    "start_time": "2022-02-07T16:06:36.195Z"
   },
   {
    "duration": 448,
    "start_time": "2022-02-07T16:06:37.330Z"
   },
   {
    "duration": 98,
    "start_time": "2022-02-07T16:06:37.780Z"
   },
   {
    "duration": 108,
    "start_time": "2022-02-07T16:06:37.880Z"
   },
   {
    "duration": 4,
    "start_time": "2022-02-07T16:06:37.990Z"
   },
   {
    "duration": 23,
    "start_time": "2022-02-07T16:06:37.996Z"
   },
   {
    "duration": 18,
    "start_time": "2022-02-07T16:06:38.021Z"
   },
   {
    "duration": 19,
    "start_time": "2022-02-07T16:06:38.042Z"
   },
   {
    "duration": 212,
    "start_time": "2022-02-07T16:06:38.063Z"
   },
   {
    "duration": 14,
    "start_time": "2022-02-07T16:06:38.277Z"
   },
   {
    "duration": 251,
    "start_time": "2022-02-07T16:06:38.293Z"
   },
   {
    "duration": 89,
    "start_time": "2022-02-07T16:06:38.546Z"
   },
   {
    "duration": 10,
    "start_time": "2022-02-07T16:06:38.636Z"
   },
   {
    "duration": 407,
    "start_time": "2022-02-07T16:06:38.648Z"
   },
   {
    "duration": 5,
    "start_time": "2022-02-07T16:06:39.057Z"
   },
   {
    "duration": 113,
    "start_time": "2022-02-07T16:06:39.119Z"
   },
   {
    "duration": 9,
    "start_time": "2022-02-07T16:06:39.234Z"
   },
   {
    "duration": 47,
    "start_time": "2022-02-07T16:06:39.244Z"
   },
   {
    "duration": 146,
    "start_time": "2022-02-07T16:06:39.293Z"
   },
   {
    "duration": 37,
    "start_time": "2022-02-07T16:06:39.441Z"
   },
   {
    "duration": 60,
    "start_time": "2022-02-07T16:06:39.480Z"
   },
   {
    "duration": 161,
    "start_time": "2022-02-07T16:06:39.542Z"
   },
   {
    "duration": 47,
    "start_time": "2022-02-07T16:06:39.707Z"
   },
   {
    "duration": 15,
    "start_time": "2022-02-07T16:06:39.756Z"
   },
   {
    "duration": 10,
    "start_time": "2022-02-07T16:06:39.772Z"
   },
   {
    "duration": 36,
    "start_time": "2022-02-07T16:06:39.784Z"
   },
   {
    "duration": 32,
    "start_time": "2022-02-07T16:06:39.822Z"
   },
   {
    "duration": 24,
    "start_time": "2022-02-07T16:06:39.856Z"
   },
   {
    "duration": 44,
    "start_time": "2022-02-07T16:06:39.882Z"
   },
   {
    "duration": 42,
    "start_time": "2022-02-07T16:06:39.928Z"
   },
   {
    "duration": 1350,
    "start_time": "2022-02-07T16:07:05.379Z"
   },
   {
    "duration": 472,
    "start_time": "2022-02-07T16:07:06.731Z"
   },
   {
    "duration": 117,
    "start_time": "2022-02-07T16:07:07.206Z"
   },
   {
    "duration": 197,
    "start_time": "2022-02-07T16:07:07.325Z"
   },
   {
    "duration": 6,
    "start_time": "2022-02-07T16:07:07.523Z"
   },
   {
    "duration": 33,
    "start_time": "2022-02-07T16:07:07.531Z"
   },
   {
    "duration": 67,
    "start_time": "2022-02-07T16:07:07.566Z"
   },
   {
    "duration": 15,
    "start_time": "2022-02-07T16:07:07.637Z"
   },
   {
    "duration": 384,
    "start_time": "2022-02-07T16:07:07.654Z"
   },
   {
    "duration": 18,
    "start_time": "2022-02-07T16:07:08.040Z"
   },
   {
    "duration": 220,
    "start_time": "2022-02-07T16:07:08.060Z"
   },
   {
    "duration": 74,
    "start_time": "2022-02-07T16:07:08.283Z"
   },
   {
    "duration": 11,
    "start_time": "2022-02-07T16:07:08.359Z"
   },
   {
    "duration": 224,
    "start_time": "2022-02-07T16:07:08.371Z"
   },
   {
    "duration": 6,
    "start_time": "2022-02-07T16:07:08.596Z"
   },
   {
    "duration": 71,
    "start_time": "2022-02-07T16:07:08.604Z"
   },
   {
    "duration": 7,
    "start_time": "2022-02-07T16:07:08.677Z"
   },
   {
    "duration": 63,
    "start_time": "2022-02-07T16:07:08.685Z"
   },
   {
    "duration": 130,
    "start_time": "2022-02-07T16:07:08.750Z"
   },
   {
    "duration": 42,
    "start_time": "2022-02-07T16:07:08.882Z"
   },
   {
    "duration": 47,
    "start_time": "2022-02-07T16:07:08.926Z"
   },
   {
    "duration": 168,
    "start_time": "2022-02-07T16:07:08.975Z"
   },
   {
    "duration": 40,
    "start_time": "2022-02-07T16:07:09.146Z"
   },
   {
    "duration": 34,
    "start_time": "2022-02-07T16:07:09.188Z"
   },
   {
    "duration": 22,
    "start_time": "2022-02-07T16:07:09.224Z"
   },
   {
    "duration": 13,
    "start_time": "2022-02-07T16:07:09.248Z"
   },
   {
    "duration": 60,
    "start_time": "2022-02-07T16:07:09.263Z"
   },
   {
    "duration": 28,
    "start_time": "2022-02-07T16:07:09.326Z"
   },
   {
    "duration": 66,
    "start_time": "2022-02-07T16:07:09.356Z"
   },
   {
    "duration": 113,
    "start_time": "2022-02-07T16:07:09.424Z"
   },
   {
    "duration": 1259,
    "start_time": "2022-02-07T16:07:28.691Z"
   },
   {
    "duration": 585,
    "start_time": "2022-02-07T16:07:29.952Z"
   },
   {
    "duration": 204,
    "start_time": "2022-02-07T16:07:30.540Z"
   },
   {
    "duration": 124,
    "start_time": "2022-02-07T16:07:30.746Z"
   },
   {
    "duration": 4,
    "start_time": "2022-02-07T16:07:30.872Z"
   },
   {
    "duration": 33,
    "start_time": "2022-02-07T16:07:30.878Z"
   },
   {
    "duration": 18,
    "start_time": "2022-02-07T16:07:30.918Z"
   },
   {
    "duration": 27,
    "start_time": "2022-02-07T16:07:30.939Z"
   },
   {
    "duration": 216,
    "start_time": "2022-02-07T16:07:30.968Z"
   },
   {
    "duration": 15,
    "start_time": "2022-02-07T16:07:31.186Z"
   },
   {
    "duration": 217,
    "start_time": "2022-02-07T16:07:31.203Z"
   },
   {
    "duration": 66,
    "start_time": "2022-02-07T16:07:31.422Z"
   },
   {
    "duration": 13,
    "start_time": "2022-02-07T16:07:31.490Z"
   },
   {
    "duration": 238,
    "start_time": "2022-02-07T16:07:31.519Z"
   },
   {
    "duration": 59,
    "start_time": "2022-02-07T16:07:31.759Z"
   },
   {
    "duration": 108,
    "start_time": "2022-02-07T16:07:31.821Z"
   },
   {
    "duration": 7,
    "start_time": "2022-02-07T16:07:31.931Z"
   },
   {
    "duration": 97,
    "start_time": "2022-02-07T16:07:31.940Z"
   },
   {
    "duration": 225,
    "start_time": "2022-02-07T16:07:32.039Z"
   },
   {
    "duration": 57,
    "start_time": "2022-02-07T16:07:32.267Z"
   },
   {
    "duration": 49,
    "start_time": "2022-02-07T16:07:32.327Z"
   },
   {
    "duration": 174,
    "start_time": "2022-02-07T16:07:32.378Z"
   },
   {
    "duration": 39,
    "start_time": "2022-02-07T16:07:32.556Z"
   },
   {
    "duration": 31,
    "start_time": "2022-02-07T16:07:32.597Z"
   },
   {
    "duration": 11,
    "start_time": "2022-02-07T16:07:32.630Z"
   },
   {
    "duration": 21,
    "start_time": "2022-02-07T16:07:32.643Z"
   },
   {
    "duration": 30,
    "start_time": "2022-02-07T16:07:32.666Z"
   },
   {
    "duration": 42,
    "start_time": "2022-02-07T16:07:32.697Z"
   },
   {
    "duration": 23,
    "start_time": "2022-02-07T16:07:32.741Z"
   },
   {
    "duration": 61,
    "start_time": "2022-02-07T16:07:32.766Z"
   },
   {
    "duration": 69,
    "start_time": "2022-02-07T16:08:50.164Z"
   },
   {
    "duration": 170,
    "start_time": "2022-02-07T16:09:13.901Z"
   },
   {
    "duration": 80,
    "start_time": "2022-02-07T16:09:35.897Z"
   },
   {
    "duration": 346,
    "start_time": "2022-02-07T16:10:00.288Z"
   },
   {
    "duration": 267,
    "start_time": "2022-02-07T16:11:17.756Z"
   },
   {
    "duration": 307,
    "start_time": "2022-02-07T16:11:25.407Z"
   },
   {
    "duration": 5185,
    "start_time": "2022-02-07T16:11:33.425Z"
   },
   {
    "duration": 237,
    "start_time": "2022-02-07T16:13:26.966Z"
   },
   {
    "duration": 246,
    "start_time": "2022-02-07T16:14:07.327Z"
   },
   {
    "duration": 1184,
    "start_time": "2022-02-07T16:14:20.490Z"
   },
   {
    "duration": 675,
    "start_time": "2022-02-07T16:14:21.676Z"
   },
   {
    "duration": 105,
    "start_time": "2022-02-07T16:14:22.353Z"
   },
   {
    "duration": 124,
    "start_time": "2022-02-07T16:14:22.460Z"
   },
   {
    "duration": 7,
    "start_time": "2022-02-07T16:14:22.586Z"
   },
   {
    "duration": 38,
    "start_time": "2022-02-07T16:14:22.595Z"
   },
   {
    "duration": 18,
    "start_time": "2022-02-07T16:14:22.635Z"
   },
   {
    "duration": 29,
    "start_time": "2022-02-07T16:14:22.655Z"
   },
   {
    "duration": 204,
    "start_time": "2022-02-07T16:14:22.687Z"
   },
   {
    "duration": 27,
    "start_time": "2022-02-07T16:14:22.893Z"
   },
   {
    "duration": 198,
    "start_time": "2022-02-07T16:14:22.922Z"
   },
   {
    "duration": 65,
    "start_time": "2022-02-07T16:14:23.122Z"
   },
   {
    "duration": 29,
    "start_time": "2022-02-07T16:14:23.189Z"
   },
   {
    "duration": 200,
    "start_time": "2022-02-07T16:14:23.220Z"
   },
   {
    "duration": 21,
    "start_time": "2022-02-07T16:14:23.423Z"
   },
   {
    "duration": 51,
    "start_time": "2022-02-07T16:14:23.446Z"
   },
   {
    "duration": 22,
    "start_time": "2022-02-07T16:14:23.499Z"
   },
   {
    "duration": 41,
    "start_time": "2022-02-07T16:14:23.523Z"
   },
   {
    "duration": 127,
    "start_time": "2022-02-07T16:14:23.566Z"
   },
   {
    "duration": 45,
    "start_time": "2022-02-07T16:14:23.696Z"
   },
   {
    "duration": 53,
    "start_time": "2022-02-07T16:14:23.743Z"
   },
   {
    "duration": 164,
    "start_time": "2022-02-07T16:14:23.798Z"
   },
   {
    "duration": 35,
    "start_time": "2022-02-07T16:14:23.964Z"
   },
   {
    "duration": 27,
    "start_time": "2022-02-07T16:14:24.001Z"
   },
   {
    "duration": 10,
    "start_time": "2022-02-07T16:14:24.030Z"
   },
   {
    "duration": 22,
    "start_time": "2022-02-07T16:14:24.041Z"
   },
   {
    "duration": 36,
    "start_time": "2022-02-07T16:14:24.067Z"
   },
   {
    "duration": 26,
    "start_time": "2022-02-07T16:14:24.105Z"
   },
   {
    "duration": 21,
    "start_time": "2022-02-07T16:14:24.133Z"
   },
   {
    "duration": 62,
    "start_time": "2022-02-07T16:14:24.156Z"
   },
   {
    "duration": 311,
    "start_time": "2022-02-07T16:22:53.770Z"
   },
   {
    "duration": 1233,
    "start_time": "2022-02-07T16:23:13.743Z"
   },
   {
    "duration": 667,
    "start_time": "2022-02-07T16:23:14.978Z"
   },
   {
    "duration": 134,
    "start_time": "2022-02-07T16:23:15.648Z"
   },
   {
    "duration": 118,
    "start_time": "2022-02-07T16:23:15.784Z"
   },
   {
    "duration": 16,
    "start_time": "2022-02-07T16:23:15.904Z"
   },
   {
    "duration": 23,
    "start_time": "2022-02-07T16:23:15.921Z"
   },
   {
    "duration": 17,
    "start_time": "2022-02-07T16:23:15.945Z"
   },
   {
    "duration": 20,
    "start_time": "2022-02-07T16:23:15.965Z"
   },
   {
    "duration": 211,
    "start_time": "2022-02-07T16:23:15.988Z"
   },
   {
    "duration": 28,
    "start_time": "2022-02-07T16:23:16.200Z"
   },
   {
    "duration": 193,
    "start_time": "2022-02-07T16:23:16.229Z"
   },
   {
    "duration": 64,
    "start_time": "2022-02-07T16:23:16.424Z"
   },
   {
    "duration": 29,
    "start_time": "2022-02-07T16:23:16.490Z"
   },
   {
    "duration": 204,
    "start_time": "2022-02-07T16:23:16.521Z"
   },
   {
    "duration": 21,
    "start_time": "2022-02-07T16:23:16.727Z"
   },
   {
    "duration": 51,
    "start_time": "2022-02-07T16:23:16.750Z"
   },
   {
    "duration": 19,
    "start_time": "2022-02-07T16:23:16.803Z"
   },
   {
    "duration": 38,
    "start_time": "2022-02-07T16:23:16.824Z"
   },
   {
    "duration": 127,
    "start_time": "2022-02-07T16:23:16.864Z"
   },
   {
    "duration": 36,
    "start_time": "2022-02-07T16:23:16.992Z"
   },
   {
    "duration": 34,
    "start_time": "2022-02-07T16:23:17.029Z"
   },
   {
    "duration": 58,
    "start_time": "2022-02-07T16:23:17.065Z"
   },
   {
    "duration": 150,
    "start_time": "2022-02-07T16:23:17.126Z"
   },
   {
    "duration": 45,
    "start_time": "2022-02-07T16:23:17.279Z"
   },
   {
    "duration": 13,
    "start_time": "2022-02-07T16:23:17.326Z"
   },
   {
    "duration": 11,
    "start_time": "2022-02-07T16:23:17.341Z"
   },
   {
    "duration": 17,
    "start_time": "2022-02-07T16:23:17.354Z"
   },
   {
    "duration": 28,
    "start_time": "2022-02-07T16:23:17.373Z"
   },
   {
    "duration": 34,
    "start_time": "2022-02-07T16:23:17.403Z"
   },
   {
    "duration": 22,
    "start_time": "2022-02-07T16:23:17.439Z"
   },
   {
    "duration": 31,
    "start_time": "2022-02-07T16:23:17.463Z"
   },
   {
    "duration": 1061,
    "start_time": "2022-02-07T16:25:12.261Z"
   },
   {
    "duration": 673,
    "start_time": "2022-02-07T16:25:13.324Z"
   },
   {
    "duration": 125,
    "start_time": "2022-02-07T16:25:13.999Z"
   },
   {
    "duration": 121,
    "start_time": "2022-02-07T16:25:14.126Z"
   },
   {
    "duration": 5,
    "start_time": "2022-02-07T16:25:14.249Z"
   },
   {
    "duration": 23,
    "start_time": "2022-02-07T16:25:14.256Z"
   },
   {
    "duration": 17,
    "start_time": "2022-02-07T16:25:14.281Z"
   },
   {
    "duration": 15,
    "start_time": "2022-02-07T16:25:14.319Z"
   },
   {
    "duration": 214,
    "start_time": "2022-02-07T16:25:14.336Z"
   },
   {
    "duration": 14,
    "start_time": "2022-02-07T16:25:14.552Z"
   },
   {
    "duration": 206,
    "start_time": "2022-02-07T16:25:14.568Z"
   },
   {
    "duration": 68,
    "start_time": "2022-02-07T16:25:14.776Z"
   },
   {
    "duration": 10,
    "start_time": "2022-02-07T16:25:14.846Z"
   },
   {
    "duration": 226,
    "start_time": "2022-02-07T16:25:14.858Z"
   },
   {
    "duration": 22,
    "start_time": "2022-02-07T16:25:15.086Z"
   },
   {
    "duration": 63,
    "start_time": "2022-02-07T16:25:15.111Z"
   },
   {
    "duration": 8,
    "start_time": "2022-02-07T16:25:15.176Z"
   },
   {
    "duration": 64,
    "start_time": "2022-02-07T16:25:15.186Z"
   },
   {
    "duration": 132,
    "start_time": "2022-02-07T16:25:15.252Z"
   },
   {
    "duration": 33,
    "start_time": "2022-02-07T16:25:15.386Z"
   },
   {
    "duration": 37,
    "start_time": "2022-02-07T16:25:15.421Z"
   },
   {
    "duration": 64,
    "start_time": "2022-02-07T16:25:15.460Z"
   },
   {
    "duration": 153,
    "start_time": "2022-02-07T16:25:15.527Z"
   },
   {
    "duration": 52,
    "start_time": "2022-02-07T16:25:15.682Z"
   },
   {
    "duration": 13,
    "start_time": "2022-02-07T16:25:15.736Z"
   },
   {
    "duration": 13,
    "start_time": "2022-02-07T16:25:15.751Z"
   },
   {
    "duration": 14,
    "start_time": "2022-02-07T16:25:15.766Z"
   },
   {
    "duration": 47,
    "start_time": "2022-02-07T16:25:15.782Z"
   },
   {
    "duration": 22,
    "start_time": "2022-02-07T16:25:15.831Z"
   },
   {
    "duration": 16,
    "start_time": "2022-02-07T16:25:15.855Z"
   },
   {
    "duration": 48,
    "start_time": "2022-02-07T16:25:15.873Z"
   },
   {
    "duration": 34,
    "start_time": "2022-02-07T16:25:15.923Z"
   },
   {
    "duration": 1100,
    "start_time": "2022-02-07T16:25:48.747Z"
   },
   {
    "duration": 521,
    "start_time": "2022-02-07T16:25:49.849Z"
   },
   {
    "duration": 185,
    "start_time": "2022-02-07T16:25:50.373Z"
   },
   {
    "duration": 163,
    "start_time": "2022-02-07T16:25:50.561Z"
   },
   {
    "duration": 5,
    "start_time": "2022-02-07T16:25:50.726Z"
   },
   {
    "duration": 23,
    "start_time": "2022-02-07T16:25:50.733Z"
   },
   {
    "duration": 17,
    "start_time": "2022-02-07T16:25:50.758Z"
   },
   {
    "duration": 16,
    "start_time": "2022-02-07T16:25:50.777Z"
   },
   {
    "duration": 204,
    "start_time": "2022-02-07T16:25:50.820Z"
   },
   {
    "duration": 15,
    "start_time": "2022-02-07T16:25:51.027Z"
   },
   {
    "duration": 212,
    "start_time": "2022-02-07T16:25:51.044Z"
   },
   {
    "duration": 67,
    "start_time": "2022-02-07T16:25:51.258Z"
   },
   {
    "duration": 9,
    "start_time": "2022-02-07T16:25:51.327Z"
   },
   {
    "duration": 214,
    "start_time": "2022-02-07T16:25:51.338Z"
   },
   {
    "duration": 21,
    "start_time": "2022-02-07T16:25:51.554Z"
   },
   {
    "duration": 67,
    "start_time": "2022-02-07T16:25:51.577Z"
   },
   {
    "duration": 6,
    "start_time": "2022-02-07T16:25:51.646Z"
   },
   {
    "duration": 48,
    "start_time": "2022-02-07T16:25:51.654Z"
   },
   {
    "duration": 136,
    "start_time": "2022-02-07T16:25:51.703Z"
   },
   {
    "duration": 25,
    "start_time": "2022-02-07T16:25:51.841Z"
   },
   {
    "duration": 53,
    "start_time": "2022-02-07T16:25:51.868Z"
   },
   {
    "duration": 47,
    "start_time": "2022-02-07T16:25:51.923Z"
   },
   {
    "duration": 165,
    "start_time": "2022-02-07T16:25:51.972Z"
   },
   {
    "duration": 39,
    "start_time": "2022-02-07T16:25:52.138Z"
   },
   {
    "duration": 13,
    "start_time": "2022-02-07T16:25:52.178Z"
   },
   {
    "duration": 28,
    "start_time": "2022-02-07T16:25:52.192Z"
   },
   {
    "duration": 11,
    "start_time": "2022-02-07T16:25:52.223Z"
   },
   {
    "duration": 28,
    "start_time": "2022-02-07T16:25:52.236Z"
   },
   {
    "duration": 20,
    "start_time": "2022-02-07T16:25:52.266Z"
   },
   {
    "duration": 40,
    "start_time": "2022-02-07T16:25:52.288Z"
   },
   {
    "duration": 30,
    "start_time": "2022-02-07T16:25:52.329Z"
   },
   {
    "duration": 33,
    "start_time": "2022-02-07T16:25:52.361Z"
   },
   {
    "duration": 1211,
    "start_time": "2022-02-07T16:36:34.302Z"
   },
   {
    "duration": 664,
    "start_time": "2022-02-07T16:36:35.515Z"
   },
   {
    "duration": 97,
    "start_time": "2022-02-07T16:36:36.184Z"
   },
   {
    "duration": 125,
    "start_time": "2022-02-07T16:36:36.283Z"
   },
   {
    "duration": 9,
    "start_time": "2022-02-07T16:36:36.410Z"
   },
   {
    "duration": 25,
    "start_time": "2022-02-07T16:36:36.420Z"
   },
   {
    "duration": 18,
    "start_time": "2022-02-07T16:36:36.446Z"
   },
   {
    "duration": 23,
    "start_time": "2022-02-07T16:36:36.467Z"
   },
   {
    "duration": 217,
    "start_time": "2022-02-07T16:36:36.492Z"
   },
   {
    "duration": 18,
    "start_time": "2022-02-07T16:36:36.711Z"
   },
   {
    "duration": 201,
    "start_time": "2022-02-07T16:36:36.731Z"
   },
   {
    "duration": 67,
    "start_time": "2022-02-07T16:36:36.934Z"
   },
   {
    "duration": 23,
    "start_time": "2022-02-07T16:36:37.003Z"
   },
   {
    "duration": 221,
    "start_time": "2022-02-07T16:36:37.028Z"
   },
   {
    "duration": 24,
    "start_time": "2022-02-07T16:36:37.251Z"
   },
   {
    "duration": 75,
    "start_time": "2022-02-07T16:36:37.277Z"
   },
   {
    "duration": 7,
    "start_time": "2022-02-07T16:36:37.355Z"
   },
   {
    "duration": 54,
    "start_time": "2022-02-07T16:36:37.364Z"
   },
   {
    "duration": 127,
    "start_time": "2022-02-07T16:36:37.420Z"
   },
   {
    "duration": 77,
    "start_time": "2022-02-07T16:36:37.549Z"
   },
   {
    "duration": 39,
    "start_time": "2022-02-07T16:36:37.627Z"
   },
   {
    "duration": 64,
    "start_time": "2022-02-07T16:36:37.668Z"
   },
   {
    "duration": 143,
    "start_time": "2022-02-07T16:36:37.734Z"
   },
   {
    "duration": 21,
    "start_time": "2022-02-07T16:36:37.878Z"
   },
   {
    "duration": 41,
    "start_time": "2022-02-07T16:36:37.900Z"
   },
   {
    "duration": 14,
    "start_time": "2022-02-07T16:36:37.944Z"
   },
   {
    "duration": 22,
    "start_time": "2022-02-07T16:36:37.959Z"
   },
   {
    "duration": 16,
    "start_time": "2022-02-07T16:36:37.983Z"
   },
   {
    "duration": 33,
    "start_time": "2022-02-07T16:36:38.001Z"
   },
   {
    "duration": 28,
    "start_time": "2022-02-07T16:36:38.036Z"
   },
   {
    "duration": 22,
    "start_time": "2022-02-07T16:36:38.066Z"
   },
   {
    "duration": 43,
    "start_time": "2022-02-07T16:36:38.090Z"
   },
   {
    "duration": 1047,
    "start_time": "2022-02-07T17:30:27.562Z"
   },
   {
    "duration": 424,
    "start_time": "2022-02-07T17:30:28.611Z"
   },
   {
    "duration": 101,
    "start_time": "2022-02-07T17:30:29.038Z"
   },
   {
    "duration": 122,
    "start_time": "2022-02-07T17:30:29.141Z"
   },
   {
    "duration": 4,
    "start_time": "2022-02-07T17:30:29.265Z"
   },
   {
    "duration": 20,
    "start_time": "2022-02-07T17:30:29.271Z"
   },
   {
    "duration": 36,
    "start_time": "2022-02-07T17:30:29.293Z"
   },
   {
    "duration": 14,
    "start_time": "2022-02-07T17:30:29.332Z"
   },
   {
    "duration": 209,
    "start_time": "2022-02-07T17:30:29.348Z"
   },
   {
    "duration": 14,
    "start_time": "2022-02-07T17:30:29.559Z"
   },
   {
    "duration": 367,
    "start_time": "2022-02-07T17:30:29.575Z"
   },
   {
    "duration": 115,
    "start_time": "2022-02-07T17:30:29.943Z"
   },
   {
    "duration": 67,
    "start_time": "2022-02-07T17:30:30.061Z"
   },
   {
    "duration": 5868,
    "start_time": "2022-02-07T17:30:30.131Z"
   },
   {
    "duration": -115,
    "start_time": "2022-02-07T17:30:36.116Z"
   },
   {
    "duration": -116,
    "start_time": "2022-02-07T17:30:36.119Z"
   },
   {
    "duration": -116,
    "start_time": "2022-02-07T17:30:36.121Z"
   },
   {
    "duration": -117,
    "start_time": "2022-02-07T17:30:36.123Z"
   },
   {
    "duration": -117,
    "start_time": "2022-02-07T17:30:36.125Z"
   },
   {
    "duration": -118,
    "start_time": "2022-02-07T17:30:36.127Z"
   },
   {
    "duration": -118,
    "start_time": "2022-02-07T17:30:36.129Z"
   },
   {
    "duration": -118,
    "start_time": "2022-02-07T17:30:36.130Z"
   },
   {
    "duration": -118,
    "start_time": "2022-02-07T17:30:36.132Z"
   },
   {
    "duration": -118,
    "start_time": "2022-02-07T17:30:36.134Z"
   },
   {
    "duration": -118,
    "start_time": "2022-02-07T17:30:36.135Z"
   },
   {
    "duration": -117,
    "start_time": "2022-02-07T17:30:36.137Z"
   },
   {
    "duration": -117,
    "start_time": "2022-02-07T17:30:36.139Z"
   },
   {
    "duration": -118,
    "start_time": "2022-02-07T17:30:36.141Z"
   },
   {
    "duration": -118,
    "start_time": "2022-02-07T17:30:36.143Z"
   },
   {
    "duration": -118,
    "start_time": "2022-02-07T17:30:36.145Z"
   },
   {
    "duration": -118,
    "start_time": "2022-02-07T17:30:36.146Z"
   },
   {
    "duration": -150,
    "start_time": "2022-02-07T17:30:36.180Z"
   },
   {
    "duration": -151,
    "start_time": "2022-02-07T17:30:36.182Z"
   },
   {
    "duration": 36,
    "start_time": "2022-02-07T17:31:13.523Z"
   },
   {
    "duration": 1468,
    "start_time": "2022-02-07T17:31:31.772Z"
   },
   {
    "duration": 482,
    "start_time": "2022-02-07T17:31:33.243Z"
   },
   {
    "duration": 104,
    "start_time": "2022-02-07T17:31:33.727Z"
   },
   {
    "duration": 120,
    "start_time": "2022-02-07T17:31:33.833Z"
   },
   {
    "duration": 5,
    "start_time": "2022-02-07T17:31:33.954Z"
   },
   {
    "duration": 23,
    "start_time": "2022-02-07T17:31:33.961Z"
   },
   {
    "duration": 34,
    "start_time": "2022-02-07T17:31:33.985Z"
   },
   {
    "duration": 14,
    "start_time": "2022-02-07T17:31:34.022Z"
   },
   {
    "duration": 208,
    "start_time": "2022-02-07T17:31:34.038Z"
   },
   {
    "duration": 14,
    "start_time": "2022-02-07T17:31:34.247Z"
   },
   {
    "duration": 207,
    "start_time": "2022-02-07T17:31:34.262Z"
   },
   {
    "duration": 96,
    "start_time": "2022-02-07T17:31:34.471Z"
   },
   {
    "duration": 13,
    "start_time": "2022-02-07T17:31:34.570Z"
   },
   {
    "duration": 41,
    "start_time": "2022-02-07T17:31:34.585Z"
   },
   {
    "duration": 195,
    "start_time": "2022-02-07T17:31:34.628Z"
   },
   {
    "duration": 17,
    "start_time": "2022-02-07T17:31:34.825Z"
   },
   {
    "duration": 53,
    "start_time": "2022-02-07T17:31:34.843Z"
   },
   {
    "duration": 24,
    "start_time": "2022-02-07T17:31:34.898Z"
   },
   {
    "duration": 40,
    "start_time": "2022-02-07T17:31:34.924Z"
   },
   {
    "duration": 154,
    "start_time": "2022-02-07T17:31:34.966Z"
   },
   {
    "duration": 37,
    "start_time": "2022-02-07T17:31:35.122Z"
   },
   {
    "duration": 64,
    "start_time": "2022-02-07T17:31:35.162Z"
   },
   {
    "duration": 64,
    "start_time": "2022-02-07T17:31:35.230Z"
   },
   {
    "duration": 217,
    "start_time": "2022-02-07T17:31:35.297Z"
   },
   {
    "duration": 21,
    "start_time": "2022-02-07T17:31:35.516Z"
   },
   {
    "duration": 38,
    "start_time": "2022-02-07T17:31:35.539Z"
   },
   {
    "duration": 14,
    "start_time": "2022-02-07T17:31:35.579Z"
   },
   {
    "duration": 31,
    "start_time": "2022-02-07T17:31:35.594Z"
   },
   {
    "duration": 18,
    "start_time": "2022-02-07T17:31:35.627Z"
   },
   {
    "duration": 36,
    "start_time": "2022-02-07T17:31:35.647Z"
   },
   {
    "duration": 38,
    "start_time": "2022-02-07T17:31:35.685Z"
   },
   {
    "duration": 22,
    "start_time": "2022-02-07T17:31:35.724Z"
   },
   {
    "duration": 35,
    "start_time": "2022-02-07T17:31:35.748Z"
   },
   {
    "duration": 11,
    "start_time": "2022-02-07T17:31:52.416Z"
   },
   {
    "duration": 16,
    "start_time": "2022-02-07T17:32:26.162Z"
   },
   {
    "duration": 14,
    "start_time": "2022-02-07T17:37:05.779Z"
   },
   {
    "duration": 6,
    "start_time": "2022-02-07T17:42:09.782Z"
   },
   {
    "duration": 1103,
    "start_time": "2022-02-07T17:42:16.803Z"
   },
   {
    "duration": 431,
    "start_time": "2022-02-07T17:42:17.908Z"
   },
   {
    "duration": 93,
    "start_time": "2022-02-07T17:42:18.342Z"
   },
   {
    "duration": 103,
    "start_time": "2022-02-07T17:42:18.437Z"
   },
   {
    "duration": 5,
    "start_time": "2022-02-07T17:42:18.542Z"
   },
   {
    "duration": 24,
    "start_time": "2022-02-07T17:42:18.548Z"
   },
   {
    "duration": 17,
    "start_time": "2022-02-07T17:42:18.573Z"
   },
   {
    "duration": 35,
    "start_time": "2022-02-07T17:42:18.592Z"
   },
   {
    "duration": 205,
    "start_time": "2022-02-07T17:42:18.629Z"
   },
   {
    "duration": 15,
    "start_time": "2022-02-07T17:42:18.835Z"
   },
   {
    "duration": 195,
    "start_time": "2022-02-07T17:42:18.851Z"
   },
   {
    "duration": 70,
    "start_time": "2022-02-07T17:42:19.048Z"
   },
   {
    "duration": 11,
    "start_time": "2022-02-07T17:42:19.120Z"
   },
   {
    "duration": 210,
    "start_time": "2022-02-07T17:42:19.133Z"
   },
   {
    "duration": 21,
    "start_time": "2022-02-07T17:42:19.345Z"
   },
   {
    "duration": 77,
    "start_time": "2022-02-07T17:42:19.368Z"
   },
   {
    "duration": 8,
    "start_time": "2022-02-07T17:42:19.447Z"
   },
   {
    "duration": 40,
    "start_time": "2022-02-07T17:42:19.457Z"
   },
   {
    "duration": 138,
    "start_time": "2022-02-07T17:42:19.500Z"
   },
   {
    "duration": 25,
    "start_time": "2022-02-07T17:42:19.640Z"
   },
   {
    "duration": 52,
    "start_time": "2022-02-07T17:42:19.667Z"
   },
   {
    "duration": 46,
    "start_time": "2022-02-07T17:42:19.721Z"
   },
   {
    "duration": 154,
    "start_time": "2022-02-07T17:42:19.770Z"
   },
   {
    "duration": 19,
    "start_time": "2022-02-07T17:42:19.925Z"
   },
   {
    "duration": 36,
    "start_time": "2022-02-07T17:42:19.946Z"
   },
   {
    "duration": 34,
    "start_time": "2022-02-07T17:42:19.984Z"
   },
   {
    "duration": 12,
    "start_time": "2022-02-07T17:42:20.021Z"
   },
   {
    "duration": 18,
    "start_time": "2022-02-07T17:42:20.035Z"
   },
   {
    "duration": 42,
    "start_time": "2022-02-07T17:42:20.055Z"
   },
   {
    "duration": 24,
    "start_time": "2022-02-07T17:42:20.099Z"
   },
   {
    "duration": 29,
    "start_time": "2022-02-07T17:42:20.126Z"
   },
   {
    "duration": 25,
    "start_time": "2022-02-07T17:42:20.157Z"
   },
   {
    "duration": 6,
    "start_time": "2022-02-07T17:42:20.184Z"
   },
   {
    "duration": 5564,
    "start_time": "2022-02-07T17:42:20.191Z"
   },
   {
    "duration": 1065,
    "start_time": "2022-02-07T17:43:09.957Z"
   },
   {
    "duration": 432,
    "start_time": "2022-02-07T17:43:11.024Z"
   },
   {
    "duration": 93,
    "start_time": "2022-02-07T17:43:11.458Z"
   },
   {
    "duration": 116,
    "start_time": "2022-02-07T17:43:11.553Z"
   },
   {
    "duration": 5,
    "start_time": "2022-02-07T17:43:11.671Z"
   },
   {
    "duration": 21,
    "start_time": "2022-02-07T17:43:11.678Z"
   },
   {
    "duration": 31,
    "start_time": "2022-02-07T17:43:11.701Z"
   },
   {
    "duration": 12,
    "start_time": "2022-02-07T17:43:11.735Z"
   },
   {
    "duration": 201,
    "start_time": "2022-02-07T17:43:11.749Z"
   },
   {
    "duration": 13,
    "start_time": "2022-02-07T17:43:11.951Z"
   },
   {
    "duration": 208,
    "start_time": "2022-02-07T17:43:11.966Z"
   },
   {
    "duration": 72,
    "start_time": "2022-02-07T17:43:12.176Z"
   },
   {
    "duration": 10,
    "start_time": "2022-02-07T17:43:12.250Z"
   },
   {
    "duration": 208,
    "start_time": "2022-02-07T17:43:12.262Z"
   },
   {
    "duration": 22,
    "start_time": "2022-02-07T17:43:12.472Z"
   },
   {
    "duration": 68,
    "start_time": "2022-02-07T17:43:12.496Z"
   },
   {
    "duration": 8,
    "start_time": "2022-02-07T17:43:12.566Z"
   },
   {
    "duration": 62,
    "start_time": "2022-02-07T17:43:12.576Z"
   },
   {
    "duration": 120,
    "start_time": "2022-02-07T17:43:12.640Z"
   },
   {
    "duration": 27,
    "start_time": "2022-02-07T17:43:12.762Z"
   },
   {
    "duration": 52,
    "start_time": "2022-02-07T17:43:12.791Z"
   },
   {
    "duration": 47,
    "start_time": "2022-02-07T17:43:12.845Z"
   },
   {
    "duration": 156,
    "start_time": "2022-02-07T17:43:12.896Z"
   },
   {
    "duration": 21,
    "start_time": "2022-02-07T17:43:13.055Z"
   },
   {
    "duration": 56,
    "start_time": "2022-02-07T17:43:13.078Z"
   },
   {
    "duration": 14,
    "start_time": "2022-02-07T17:43:13.136Z"
   },
   {
    "duration": 17,
    "start_time": "2022-02-07T17:43:13.152Z"
   },
   {
    "duration": 12,
    "start_time": "2022-02-07T17:43:13.171Z"
   },
   {
    "duration": 44,
    "start_time": "2022-02-07T17:43:13.185Z"
   },
   {
    "duration": 13,
    "start_time": "2022-02-07T17:43:13.231Z"
   },
   {
    "duration": 22,
    "start_time": "2022-02-07T17:43:13.246Z"
   },
   {
    "duration": 49,
    "start_time": "2022-02-07T17:43:13.269Z"
   },
   {
    "duration": 6,
    "start_time": "2022-02-07T17:43:13.320Z"
   },
   {
    "duration": 5966,
    "start_time": "2022-02-07T17:43:13.327Z"
   },
   {
    "duration": 9,
    "start_time": "2022-02-07T17:44:04.640Z"
   },
   {
    "duration": 1076,
    "start_time": "2022-02-07T17:44:40.044Z"
   },
   {
    "duration": 600,
    "start_time": "2022-02-07T17:44:41.122Z"
   },
   {
    "duration": 133,
    "start_time": "2022-02-07T17:44:41.724Z"
   },
   {
    "duration": 127,
    "start_time": "2022-02-07T17:44:41.859Z"
   },
   {
    "duration": 5,
    "start_time": "2022-02-07T17:44:41.988Z"
   },
   {
    "duration": 34,
    "start_time": "2022-02-07T17:44:41.994Z"
   },
   {
    "duration": 17,
    "start_time": "2022-02-07T17:44:42.030Z"
   },
   {
    "duration": 15,
    "start_time": "2022-02-07T17:44:42.050Z"
   },
   {
    "duration": 206,
    "start_time": "2022-02-07T17:44:42.067Z"
   },
   {
    "duration": 14,
    "start_time": "2022-02-07T17:44:42.275Z"
   },
   {
    "duration": 201,
    "start_time": "2022-02-07T17:44:42.290Z"
   },
   {
    "duration": 74,
    "start_time": "2022-02-07T17:44:42.493Z"
   },
   {
    "duration": 11,
    "start_time": "2022-02-07T17:44:42.569Z"
   },
   {
    "duration": 215,
    "start_time": "2022-02-07T17:44:42.581Z"
   },
   {
    "duration": 27,
    "start_time": "2022-02-07T17:44:42.798Z"
   },
   {
    "duration": 57,
    "start_time": "2022-02-07T17:44:42.827Z"
   },
   {
    "duration": 7,
    "start_time": "2022-02-07T17:44:42.886Z"
   },
   {
    "duration": 60,
    "start_time": "2022-02-07T17:44:42.895Z"
   },
   {
    "duration": 125,
    "start_time": "2022-02-07T17:44:42.957Z"
   },
   {
    "duration": 35,
    "start_time": "2022-02-07T17:44:43.084Z"
   },
   {
    "duration": 39,
    "start_time": "2022-02-07T17:44:43.121Z"
   },
   {
    "duration": 66,
    "start_time": "2022-02-07T17:44:43.162Z"
   },
   {
    "duration": 147,
    "start_time": "2022-02-07T17:44:43.232Z"
   },
   {
    "duration": 20,
    "start_time": "2022-02-07T17:44:43.381Z"
   },
   {
    "duration": 47,
    "start_time": "2022-02-07T17:44:43.402Z"
   },
   {
    "duration": 13,
    "start_time": "2022-02-07T17:44:43.451Z"
   },
   {
    "duration": 10,
    "start_time": "2022-02-07T17:44:43.465Z"
   },
   {
    "duration": 11,
    "start_time": "2022-02-07T17:44:43.477Z"
   },
   {
    "duration": 48,
    "start_time": "2022-02-07T17:44:43.489Z"
   },
   {
    "duration": 12,
    "start_time": "2022-02-07T17:44:43.538Z"
   },
   {
    "duration": 21,
    "start_time": "2022-02-07T17:44:43.552Z"
   },
   {
    "duration": 44,
    "start_time": "2022-02-07T17:44:43.575Z"
   },
   {
    "duration": 11,
    "start_time": "2022-02-07T17:44:43.621Z"
   },
   {
    "duration": 34,
    "start_time": "2022-02-07T17:44:43.633Z"
   },
   {
    "duration": 1132,
    "start_time": "2022-02-07T17:47:45.679Z"
   },
   {
    "duration": 427,
    "start_time": "2022-02-07T17:47:46.813Z"
   },
   {
    "duration": 94,
    "start_time": "2022-02-07T17:47:47.243Z"
   },
   {
    "duration": 113,
    "start_time": "2022-02-07T17:47:47.339Z"
   },
   {
    "duration": 5,
    "start_time": "2022-02-07T17:47:47.453Z"
   },
   {
    "duration": 23,
    "start_time": "2022-02-07T17:47:47.459Z"
   },
   {
    "duration": 15,
    "start_time": "2022-02-07T17:47:47.484Z"
   },
   {
    "duration": 17,
    "start_time": "2022-02-07T17:47:47.518Z"
   },
   {
    "duration": 199,
    "start_time": "2022-02-07T17:47:47.539Z"
   },
   {
    "duration": 14,
    "start_time": "2022-02-07T17:47:47.741Z"
   },
   {
    "duration": 199,
    "start_time": "2022-02-07T17:47:47.757Z"
   },
   {
    "duration": 74,
    "start_time": "2022-02-07T17:47:47.959Z"
   },
   {
    "duration": 10,
    "start_time": "2022-02-07T17:47:48.035Z"
   },
   {
    "duration": 391,
    "start_time": "2022-02-07T17:47:48.047Z"
   },
   {
    "duration": 20,
    "start_time": "2022-02-07T17:47:48.440Z"
   },
   {
    "duration": 105,
    "start_time": "2022-02-07T17:47:48.462Z"
   },
   {
    "duration": 7,
    "start_time": "2022-02-07T17:47:48.569Z"
   },
   {
    "duration": 76,
    "start_time": "2022-02-07T17:47:48.578Z"
   },
   {
    "duration": 119,
    "start_time": "2022-02-07T17:47:48.656Z"
   },
   {
    "duration": 24,
    "start_time": "2022-02-07T17:47:48.777Z"
   },
   {
    "duration": 43,
    "start_time": "2022-02-07T17:47:48.803Z"
   },
   {
    "duration": 48,
    "start_time": "2022-02-07T17:47:48.848Z"
   },
   {
    "duration": 167,
    "start_time": "2022-02-07T17:47:48.898Z"
   },
   {
    "duration": 19,
    "start_time": "2022-02-07T17:47:49.067Z"
   },
   {
    "duration": 53,
    "start_time": "2022-02-07T17:47:49.088Z"
   },
   {
    "duration": 13,
    "start_time": "2022-02-07T17:47:49.143Z"
   },
   {
    "duration": 9,
    "start_time": "2022-02-07T17:47:49.160Z"
   },
   {
    "duration": 14,
    "start_time": "2022-02-07T17:47:49.170Z"
   },
   {
    "duration": 51,
    "start_time": "2022-02-07T17:47:49.186Z"
   },
   {
    "duration": 13,
    "start_time": "2022-02-07T17:47:49.239Z"
   },
   {
    "duration": 26,
    "start_time": "2022-02-07T17:47:49.254Z"
   },
   {
    "duration": 43,
    "start_time": "2022-02-07T17:47:49.283Z"
   },
   {
    "duration": 11,
    "start_time": "2022-02-07T17:47:49.328Z"
   },
   {
    "duration": 34,
    "start_time": "2022-02-07T17:47:49.341Z"
   },
   {
    "duration": 1116,
    "start_time": "2022-02-07T18:52:04.202Z"
   },
   {
    "duration": 441,
    "start_time": "2022-02-07T18:52:05.320Z"
   },
   {
    "duration": 97,
    "start_time": "2022-02-07T18:52:05.763Z"
   },
   {
    "duration": 127,
    "start_time": "2022-02-07T18:52:05.862Z"
   },
   {
    "duration": 5,
    "start_time": "2022-02-07T18:52:05.991Z"
   },
   {
    "duration": 35,
    "start_time": "2022-02-07T18:52:05.997Z"
   },
   {
    "duration": 18,
    "start_time": "2022-02-07T18:52:06.034Z"
   },
   {
    "duration": 17,
    "start_time": "2022-02-07T18:52:06.055Z"
   },
   {
    "duration": 208,
    "start_time": "2022-02-07T18:52:06.074Z"
   },
   {
    "duration": 16,
    "start_time": "2022-02-07T18:52:06.284Z"
   },
   {
    "duration": 201,
    "start_time": "2022-02-07T18:52:06.302Z"
   },
   {
    "duration": 67,
    "start_time": "2022-02-07T18:52:06.505Z"
   },
   {
    "duration": 27,
    "start_time": "2022-02-07T18:52:06.574Z"
   },
   {
    "duration": 209,
    "start_time": "2022-02-07T18:52:06.603Z"
   },
   {
    "duration": 23,
    "start_time": "2022-02-07T18:52:06.814Z"
   },
   {
    "duration": 58,
    "start_time": "2022-02-07T18:52:06.839Z"
   },
   {
    "duration": 25,
    "start_time": "2022-02-07T18:52:06.899Z"
   },
   {
    "duration": 41,
    "start_time": "2022-02-07T18:52:06.927Z"
   },
   {
    "duration": 136,
    "start_time": "2022-02-07T18:52:06.969Z"
   },
   {
    "duration": 30,
    "start_time": "2022-02-07T18:52:07.107Z"
   },
   {
    "duration": 37,
    "start_time": "2022-02-07T18:52:07.139Z"
   },
   {
    "duration": 63,
    "start_time": "2022-02-07T18:52:07.178Z"
   },
   {
    "duration": 155,
    "start_time": "2022-02-07T18:52:07.245Z"
   },
   {
    "duration": 27,
    "start_time": "2022-02-07T18:52:07.403Z"
   },
   {
    "duration": 47,
    "start_time": "2022-02-07T18:52:07.432Z"
   },
   {
    "duration": 13,
    "start_time": "2022-02-07T18:52:07.481Z"
   },
   {
    "duration": 43,
    "start_time": "2022-02-07T18:52:07.496Z"
   },
   {
    "duration": 19,
    "start_time": "2022-02-07T18:52:07.541Z"
   },
   {
    "duration": 66,
    "start_time": "2022-02-07T18:52:07.562Z"
   },
   {
    "duration": 52,
    "start_time": "2022-02-07T18:52:07.630Z"
   },
   {
    "duration": 34,
    "start_time": "2022-02-07T18:52:07.684Z"
   },
   {
    "duration": 60,
    "start_time": "2022-02-07T18:52:07.720Z"
   },
   {
    "duration": 13,
    "start_time": "2022-02-07T18:52:07.782Z"
   },
   {
    "duration": 36,
    "start_time": "2022-02-07T18:52:07.797Z"
   },
   {
    "duration": 8,
    "start_time": "2022-02-07T18:52:07.835Z"
   },
   {
    "duration": 6,
    "start_time": "2022-02-07T18:52:33.388Z"
   },
   {
    "duration": 3,
    "start_time": "2022-02-07T18:52:44.443Z"
   },
   {
    "duration": 4,
    "start_time": "2022-02-07T18:53:09.431Z"
   },
   {
    "duration": 40,
    "start_time": "2022-02-07T19:03:49.407Z"
   },
   {
    "duration": 368,
    "start_time": "2022-02-07T19:14:23.317Z"
   },
   {
    "duration": 37,
    "start_time": "2022-02-07T19:14:40.473Z"
   },
   {
    "duration": 242,
    "start_time": "2022-02-07T19:15:54.460Z"
   },
   {
    "duration": 37,
    "start_time": "2022-02-07T19:16:18.683Z"
   },
   {
    "duration": 1073,
    "start_time": "2022-02-07T19:19:53.455Z"
   },
   {
    "duration": 424,
    "start_time": "2022-02-07T19:19:54.530Z"
   },
   {
    "duration": 101,
    "start_time": "2022-02-07T19:19:54.957Z"
   },
   {
    "duration": 119,
    "start_time": "2022-02-07T19:19:55.060Z"
   },
   {
    "duration": 5,
    "start_time": "2022-02-07T19:19:55.181Z"
   },
   {
    "duration": 36,
    "start_time": "2022-02-07T19:19:55.188Z"
   },
   {
    "duration": 17,
    "start_time": "2022-02-07T19:19:55.227Z"
   },
   {
    "duration": 15,
    "start_time": "2022-02-07T19:19:55.248Z"
   },
   {
    "duration": 210,
    "start_time": "2022-02-07T19:19:55.266Z"
   },
   {
    "duration": 14,
    "start_time": "2022-02-07T19:19:55.479Z"
   },
   {
    "duration": 196,
    "start_time": "2022-02-07T19:19:55.495Z"
   },
   {
    "duration": 71,
    "start_time": "2022-02-07T19:19:55.693Z"
   },
   {
    "duration": 9,
    "start_time": "2022-02-07T19:19:55.765Z"
   },
   {
    "duration": 215,
    "start_time": "2022-02-07T19:19:55.776Z"
   },
   {
    "duration": 27,
    "start_time": "2022-02-07T19:19:55.993Z"
   },
   {
    "duration": 57,
    "start_time": "2022-02-07T19:19:56.021Z"
   },
   {
    "duration": 7,
    "start_time": "2022-02-07T19:19:56.080Z"
   },
   {
    "duration": 63,
    "start_time": "2022-02-07T19:19:56.088Z"
   },
   {
    "duration": 170,
    "start_time": "2022-02-07T19:19:56.153Z"
   },
   {
    "duration": 28,
    "start_time": "2022-02-07T19:19:56.325Z"
   },
   {
    "duration": 85,
    "start_time": "2022-02-07T19:19:56.354Z"
   },
   {
    "duration": 95,
    "start_time": "2022-02-07T19:19:56.440Z"
   },
   {
    "duration": 290,
    "start_time": "2022-02-07T19:19:56.538Z"
   },
   {
    "duration": 20,
    "start_time": "2022-02-07T19:19:56.830Z"
   },
   {
    "duration": 35,
    "start_time": "2022-02-07T19:19:56.852Z"
   },
   {
    "duration": 36,
    "start_time": "2022-02-07T19:19:56.889Z"
   },
   {
    "duration": 9,
    "start_time": "2022-02-07T19:19:56.927Z"
   },
   {
    "duration": 13,
    "start_time": "2022-02-07T19:19:56.938Z"
   },
   {
    "duration": 31,
    "start_time": "2022-02-07T19:19:56.952Z"
   },
   {
    "duration": 47,
    "start_time": "2022-02-07T19:19:56.985Z"
   },
   {
    "duration": 23,
    "start_time": "2022-02-07T19:19:57.034Z"
   },
   {
    "duration": 10,
    "start_time": "2022-02-07T19:19:57.060Z"
   },
   {
    "duration": 386,
    "start_time": "2022-02-07T19:19:57.072Z"
   },
   {
    "duration": -56,
    "start_time": "2022-02-07T19:19:57.516Z"
   },
   {
    "duration": 37,
    "start_time": "2022-02-07T19:21:25.866Z"
   },
   {
    "duration": 39,
    "start_time": "2022-02-07T19:26:06.164Z"
   },
   {
    "duration": 1103,
    "start_time": "2022-02-07T19:26:30.025Z"
   },
   {
    "duration": 445,
    "start_time": "2022-02-07T19:26:31.130Z"
   },
   {
    "duration": 105,
    "start_time": "2022-02-07T19:26:31.578Z"
   },
   {
    "duration": 135,
    "start_time": "2022-02-07T19:26:31.685Z"
   },
   {
    "duration": 6,
    "start_time": "2022-02-07T19:26:31.822Z"
   },
   {
    "duration": 28,
    "start_time": "2022-02-07T19:26:31.829Z"
   },
   {
    "duration": 17,
    "start_time": "2022-02-07T19:26:31.859Z"
   },
   {
    "duration": 19,
    "start_time": "2022-02-07T19:26:31.879Z"
   },
   {
    "duration": 217,
    "start_time": "2022-02-07T19:26:31.919Z"
   },
   {
    "duration": 13,
    "start_time": "2022-02-07T19:26:32.138Z"
   },
   {
    "duration": 204,
    "start_time": "2022-02-07T19:26:32.152Z"
   },
   {
    "duration": 76,
    "start_time": "2022-02-07T19:26:32.357Z"
   },
   {
    "duration": 10,
    "start_time": "2022-02-07T19:26:32.435Z"
   },
   {
    "duration": 230,
    "start_time": "2022-02-07T19:26:32.447Z"
   },
   {
    "duration": 22,
    "start_time": "2022-02-07T19:26:32.679Z"
   },
   {
    "duration": 69,
    "start_time": "2022-02-07T19:26:32.703Z"
   },
   {
    "duration": 7,
    "start_time": "2022-02-07T19:26:32.774Z"
   },
   {
    "duration": 58,
    "start_time": "2022-02-07T19:26:32.782Z"
   },
   {
    "duration": 126,
    "start_time": "2022-02-07T19:26:32.842Z"
   },
   {
    "duration": 27,
    "start_time": "2022-02-07T19:26:32.970Z"
   },
   {
    "duration": 52,
    "start_time": "2022-02-07T19:26:32.999Z"
   },
   {
    "duration": 65,
    "start_time": "2022-02-07T19:26:33.053Z"
   },
   {
    "duration": 161,
    "start_time": "2022-02-07T19:26:33.121Z"
   },
   {
    "duration": 21,
    "start_time": "2022-02-07T19:26:33.284Z"
   },
   {
    "duration": 40,
    "start_time": "2022-02-07T19:26:33.318Z"
   },
   {
    "duration": 14,
    "start_time": "2022-02-07T19:26:33.360Z"
   },
   {
    "duration": 13,
    "start_time": "2022-02-07T19:26:33.375Z"
   },
   {
    "duration": 31,
    "start_time": "2022-02-07T19:26:33.389Z"
   },
   {
    "duration": 30,
    "start_time": "2022-02-07T19:26:33.422Z"
   },
   {
    "duration": 21,
    "start_time": "2022-02-07T19:26:33.454Z"
   },
   {
    "duration": 43,
    "start_time": "2022-02-07T19:26:33.477Z"
   },
   {
    "duration": 11,
    "start_time": "2022-02-07T19:26:33.521Z"
   },
   {
    "duration": 39,
    "start_time": "2022-02-07T19:26:33.534Z"
   },
   {
    "duration": 60,
    "start_time": "2022-02-07T19:26:33.575Z"
   },
   {
    "duration": 37,
    "start_time": "2022-02-07T19:27:52.644Z"
   },
   {
    "duration": 1055,
    "start_time": "2022-02-07T19:29:25.454Z"
   },
   {
    "duration": 418,
    "start_time": "2022-02-07T19:29:26.511Z"
   },
   {
    "duration": 99,
    "start_time": "2022-02-07T19:29:26.934Z"
   },
   {
    "duration": 112,
    "start_time": "2022-02-07T19:29:27.036Z"
   },
   {
    "duration": 5,
    "start_time": "2022-02-07T19:29:27.150Z"
   },
   {
    "duration": 20,
    "start_time": "2022-02-07T19:29:27.157Z"
   },
   {
    "duration": 38,
    "start_time": "2022-02-07T19:29:27.180Z"
   },
   {
    "duration": 19,
    "start_time": "2022-02-07T19:29:27.221Z"
   },
   {
    "duration": 212,
    "start_time": "2022-02-07T19:29:27.242Z"
   },
   {
    "duration": 14,
    "start_time": "2022-02-07T19:29:27.456Z"
   },
   {
    "duration": 207,
    "start_time": "2022-02-07T19:29:27.471Z"
   },
   {
    "duration": 75,
    "start_time": "2022-02-07T19:29:27.680Z"
   },
   {
    "duration": 21,
    "start_time": "2022-02-07T19:29:27.757Z"
   },
   {
    "duration": 209,
    "start_time": "2022-02-07T19:29:27.780Z"
   },
   {
    "duration": 27,
    "start_time": "2022-02-07T19:29:27.991Z"
   },
   {
    "duration": 54,
    "start_time": "2022-02-07T19:29:28.020Z"
   },
   {
    "duration": 7,
    "start_time": "2022-02-07T19:29:28.075Z"
   },
   {
    "duration": 61,
    "start_time": "2022-02-07T19:29:28.084Z"
   },
   {
    "duration": 123,
    "start_time": "2022-02-07T19:29:28.147Z"
   },
   {
    "duration": 26,
    "start_time": "2022-02-07T19:29:28.272Z"
   },
   {
    "duration": 52,
    "start_time": "2022-02-07T19:29:28.299Z"
   },
   {
    "duration": 47,
    "start_time": "2022-02-07T19:29:28.354Z"
   },
   {
    "duration": 157,
    "start_time": "2022-02-07T19:29:28.403Z"
   },
   {
    "duration": 23,
    "start_time": "2022-02-07T19:29:28.561Z"
   },
   {
    "duration": 58,
    "start_time": "2022-02-07T19:29:28.586Z"
   },
   {
    "duration": 14,
    "start_time": "2022-02-07T19:29:28.646Z"
   },
   {
    "duration": 22,
    "start_time": "2022-02-07T19:29:28.662Z"
   },
   {
    "duration": 13,
    "start_time": "2022-02-07T19:29:28.686Z"
   },
   {
    "duration": 35,
    "start_time": "2022-02-07T19:29:28.700Z"
   },
   {
    "duration": 22,
    "start_time": "2022-02-07T19:29:28.736Z"
   },
   {
    "duration": 21,
    "start_time": "2022-02-07T19:29:28.760Z"
   },
   {
    "duration": 36,
    "start_time": "2022-02-07T19:29:28.783Z"
   },
   {
    "duration": 36,
    "start_time": "2022-02-07T19:29:28.821Z"
   },
   {
    "duration": 8,
    "start_time": "2022-02-07T19:29:28.859Z"
   },
   {
    "duration": 55,
    "start_time": "2022-02-07T19:29:28.868Z"
   },
   {
    "duration": 35,
    "start_time": "2022-02-07T19:29:28.924Z"
   },
   {
    "duration": 181,
    "start_time": "2022-02-07T19:49:28.132Z"
   },
   {
    "duration": 185,
    "start_time": "2022-02-07T19:51:38.664Z"
   },
   {
    "duration": 176,
    "start_time": "2022-02-07T19:52:32.076Z"
   },
   {
    "duration": 257,
    "start_time": "2022-02-07T19:53:56.525Z"
   },
   {
    "duration": 211,
    "start_time": "2022-02-07T19:57:39.451Z"
   },
   {
    "duration": 219,
    "start_time": "2022-02-07T19:58:06.858Z"
   },
   {
    "duration": 179,
    "start_time": "2022-02-07T19:59:25.345Z"
   },
   {
    "duration": 261,
    "start_time": "2022-02-07T19:59:32.596Z"
   },
   {
    "duration": 184,
    "start_time": "2022-02-07T20:15:11.695Z"
   },
   {
    "duration": 189,
    "start_time": "2022-02-07T20:15:15.169Z"
   },
   {
    "duration": 188,
    "start_time": "2022-02-07T20:15:18.270Z"
   },
   {
    "duration": 195,
    "start_time": "2022-02-07T20:16:14.144Z"
   },
   {
    "duration": 188,
    "start_time": "2022-02-07T20:16:38.901Z"
   },
   {
    "duration": 183,
    "start_time": "2022-02-07T20:16:53.600Z"
   },
   {
    "duration": 223,
    "start_time": "2022-02-07T20:17:34.990Z"
   },
   {
    "duration": 181,
    "start_time": "2022-02-07T20:17:43.841Z"
   },
   {
    "duration": 24,
    "start_time": "2022-02-07T20:18:45.507Z"
   },
   {
    "duration": 24,
    "start_time": "2022-02-07T20:18:50.691Z"
   },
   {
    "duration": 4,
    "start_time": "2022-02-07T20:35:23.583Z"
   },
   {
    "duration": 313,
    "start_time": "2022-02-07T20:36:13.727Z"
   },
   {
    "duration": 5952,
    "start_time": "2022-02-07T20:36:42.364Z"
   },
   {
    "duration": 4,
    "start_time": "2022-02-07T20:37:10.036Z"
   },
   {
    "duration": 530,
    "start_time": "2022-02-07T20:37:13.003Z"
   },
   {
    "duration": 5,
    "start_time": "2022-02-07T20:37:55.940Z"
   },
   {
    "duration": 5,
    "start_time": "2022-02-07T20:37:56.655Z"
   },
   {
    "duration": 6,
    "start_time": "2022-02-07T20:51:18.904Z"
   },
   {
    "duration": 4,
    "start_time": "2022-02-07T20:53:47.937Z"
   },
   {
    "duration": 10,
    "start_time": "2022-02-07T21:03:27.399Z"
   },
   {
    "duration": 9,
    "start_time": "2022-02-07T21:06:34.029Z"
   },
   {
    "duration": 7,
    "start_time": "2022-02-07T21:07:16.080Z"
   },
   {
    "duration": 8,
    "start_time": "2022-02-07T21:08:33.362Z"
   },
   {
    "duration": 72,
    "start_time": "2022-02-07T21:09:11.653Z"
   },
   {
    "duration": 9,
    "start_time": "2022-02-07T21:09:20.238Z"
   },
   {
    "duration": 10,
    "start_time": "2022-02-07T21:09:37.175Z"
   },
   {
    "duration": 71,
    "start_time": "2022-02-07T22:08:43.698Z"
   },
   {
    "duration": 6,
    "start_time": "2022-02-07T22:08:52.040Z"
   },
   {
    "duration": 9,
    "start_time": "2022-02-07T22:09:03.673Z"
   },
   {
    "duration": 10,
    "start_time": "2022-02-07T22:09:28.212Z"
   },
   {
    "duration": 15,
    "start_time": "2022-02-07T22:11:36.233Z"
   },
   {
    "duration": 17,
    "start_time": "2022-02-07T22:11:40.633Z"
   },
   {
    "duration": 7,
    "start_time": "2022-02-07T22:11:42.382Z"
   },
   {
    "duration": 17,
    "start_time": "2022-02-07T22:12:02.920Z"
   },
   {
    "duration": 15,
    "start_time": "2022-02-07T22:12:53.671Z"
   },
   {
    "duration": 3,
    "start_time": "2022-02-07T22:12:57.837Z"
   },
   {
    "duration": 14,
    "start_time": "2022-02-07T22:12:59.836Z"
   },
   {
    "duration": 27,
    "start_time": "2022-02-07T22:13:01.418Z"
   },
   {
    "duration": 4,
    "start_time": "2022-02-07T22:13:13.188Z"
   },
   {
    "duration": 21,
    "start_time": "2022-02-07T22:13:13.704Z"
   },
   {
    "duration": 1155,
    "start_time": "2022-02-07T22:13:14.807Z"
   },
   {
    "duration": 827,
    "start_time": "2022-02-07T22:14:06.184Z"
   },
   {
    "duration": 212,
    "start_time": "2022-02-07T22:15:34.401Z"
   },
   {
    "duration": 4,
    "start_time": "2022-02-07T22:16:41.583Z"
   },
   {
    "duration": 6,
    "start_time": "2022-02-07T22:16:42.132Z"
   },
   {
    "duration": 19,
    "start_time": "2022-02-07T22:16:42.782Z"
   },
   {
    "duration": 4,
    "start_time": "2022-02-07T22:16:53.067Z"
   },
   {
    "duration": 8,
    "start_time": "2022-02-07T22:16:53.585Z"
   },
   {
    "duration": 19,
    "start_time": "2022-02-07T22:16:54.202Z"
   },
   {
    "duration": 19,
    "start_time": "2022-02-07T22:17:49.800Z"
   },
   {
    "duration": 8,
    "start_time": "2022-02-07T22:17:50.998Z"
   },
   {
    "duration": 6,
    "start_time": "2022-02-07T22:18:12.970Z"
   },
   {
    "duration": 9,
    "start_time": "2022-02-07T22:18:13.503Z"
   },
   {
    "duration": 27,
    "start_time": "2022-02-07T22:18:14.519Z"
   },
   {
    "duration": 4,
    "start_time": "2022-02-07T22:19:04.646Z"
   },
   {
    "duration": 28,
    "start_time": "2022-02-07T22:19:05.212Z"
   },
   {
    "duration": 3,
    "start_time": "2022-02-07T22:19:14.495Z"
   },
   {
    "duration": 26,
    "start_time": "2022-02-07T22:19:14.998Z"
   },
   {
    "duration": 304,
    "start_time": "2022-02-07T22:20:02.540Z"
   },
   {
    "duration": 4,
    "start_time": "2022-02-07T22:20:05.324Z"
   },
   {
    "duration": 29,
    "start_time": "2022-02-07T22:20:05.940Z"
   },
   {
    "duration": 33,
    "start_time": "2022-02-07T22:20:43.080Z"
   },
   {
    "duration": 3,
    "start_time": "2022-02-07T22:23:04.175Z"
   },
   {
    "duration": 28,
    "start_time": "2022-02-07T22:23:05.658Z"
   },
   {
    "duration": 4,
    "start_time": "2022-02-07T22:23:20.776Z"
   },
   {
    "duration": 28,
    "start_time": "2022-02-07T22:23:22.244Z"
   },
   {
    "duration": 31,
    "start_time": "2022-02-07T22:23:38.730Z"
   },
   {
    "duration": 1048,
    "start_time": "2022-02-08T11:38:58.835Z"
   },
   {
    "duration": 400,
    "start_time": "2022-02-08T11:38:59.885Z"
   },
   {
    "duration": 92,
    "start_time": "2022-02-08T11:39:00.288Z"
   },
   {
    "duration": 116,
    "start_time": "2022-02-08T11:39:00.382Z"
   },
   {
    "duration": 14,
    "start_time": "2022-02-08T11:39:00.500Z"
   },
   {
    "duration": 26,
    "start_time": "2022-02-08T11:39:00.516Z"
   },
   {
    "duration": 16,
    "start_time": "2022-02-08T11:39:00.543Z"
   },
   {
    "duration": 17,
    "start_time": "2022-02-08T11:39:00.562Z"
   },
   {
    "duration": 231,
    "start_time": "2022-02-08T11:39:00.581Z"
   },
   {
    "duration": 14,
    "start_time": "2022-02-08T11:39:00.813Z"
   },
   {
    "duration": 211,
    "start_time": "2022-02-08T11:39:00.829Z"
   },
   {
    "duration": 71,
    "start_time": "2022-02-08T11:39:01.041Z"
   },
   {
    "duration": 9,
    "start_time": "2022-02-08T11:39:01.114Z"
   },
   {
    "duration": 195,
    "start_time": "2022-02-08T11:39:01.125Z"
   },
   {
    "duration": 17,
    "start_time": "2022-02-08T11:39:01.322Z"
   },
   {
    "duration": 94,
    "start_time": "2022-02-08T11:39:01.340Z"
   },
   {
    "duration": 6,
    "start_time": "2022-02-08T11:39:01.435Z"
   },
   {
    "duration": 91,
    "start_time": "2022-02-08T11:39:01.442Z"
   },
   {
    "duration": 205,
    "start_time": "2022-02-08T11:39:01.535Z"
   },
   {
    "duration": 76,
    "start_time": "2022-02-08T11:39:01.742Z"
   },
   {
    "duration": 34,
    "start_time": "2022-02-08T11:39:01.820Z"
   },
   {
    "duration": 70,
    "start_time": "2022-02-08T11:39:01.855Z"
   },
   {
    "duration": 146,
    "start_time": "2022-02-08T11:39:01.929Z"
   },
   {
    "duration": 20,
    "start_time": "2022-02-08T11:39:02.077Z"
   },
   {
    "duration": 47,
    "start_time": "2022-02-08T11:39:02.099Z"
   },
   {
    "duration": 12,
    "start_time": "2022-02-08T11:39:02.147Z"
   },
   {
    "duration": 9,
    "start_time": "2022-02-08T11:39:02.161Z"
   },
   {
    "duration": 13,
    "start_time": "2022-02-08T11:39:02.171Z"
   },
   {
    "duration": 47,
    "start_time": "2022-02-08T11:39:02.185Z"
   },
   {
    "duration": 21,
    "start_time": "2022-02-08T11:39:02.233Z"
   },
   {
    "duration": 22,
    "start_time": "2022-02-08T11:39:02.256Z"
   },
   {
    "duration": 36,
    "start_time": "2022-02-08T11:39:02.280Z"
   },
   {
    "duration": 36,
    "start_time": "2022-02-08T11:39:02.317Z"
   },
   {
    "duration": 24,
    "start_time": "2022-02-08T11:39:02.355Z"
   },
   {
    "duration": 48,
    "start_time": "2022-02-08T11:39:02.380Z"
   },
   {
    "duration": 220,
    "start_time": "2022-02-08T11:39:02.430Z"
   },
   {
    "duration": 224,
    "start_time": "2022-02-08T11:39:02.652Z"
   },
   {
    "duration": 224,
    "start_time": "2022-02-08T11:39:02.878Z"
   },
   {
    "duration": 205,
    "start_time": "2022-02-08T11:39:03.103Z"
   },
   {
    "duration": 204,
    "start_time": "2022-02-08T11:39:03.310Z"
   },
   {
    "duration": 212,
    "start_time": "2022-02-08T11:39:03.516Z"
   },
   {
    "duration": 4,
    "start_time": "2022-02-08T11:39:03.729Z"
   },
   {
    "duration": 330,
    "start_time": "2022-02-08T11:39:03.734Z"
   },
   {
    "duration": -305,
    "start_time": "2022-02-08T11:39:04.370Z"
   },
   {
    "duration": 4,
    "start_time": "2022-02-08T11:40:11.525Z"
   },
   {
    "duration": 33,
    "start_time": "2022-02-08T11:40:15.309Z"
   },
   {
    "duration": 4,
    "start_time": "2022-02-08T11:40:40.682Z"
   },
   {
    "duration": 31,
    "start_time": "2022-02-08T11:40:42.332Z"
   },
   {
    "duration": 3,
    "start_time": "2022-02-08T11:42:22.720Z"
   },
   {
    "duration": 31,
    "start_time": "2022-02-08T11:42:24.287Z"
   },
   {
    "duration": 4,
    "start_time": "2022-02-08T11:43:01.908Z"
   },
   {
    "duration": 33,
    "start_time": "2022-02-08T11:43:03.509Z"
   },
   {
    "duration": 4,
    "start_time": "2022-02-08T11:44:08.696Z"
   },
   {
    "duration": 479,
    "start_time": "2022-02-08T11:44:11.794Z"
   },
   {
    "duration": 4,
    "start_time": "2022-02-08T11:44:30.965Z"
   },
   {
    "duration": 36,
    "start_time": "2022-02-08T11:44:32.967Z"
   },
   {
    "duration": 4,
    "start_time": "2022-02-08T11:44:51.886Z"
   },
   {
    "duration": 36,
    "start_time": "2022-02-08T11:44:53.235Z"
   },
   {
    "duration": 217,
    "start_time": "2022-02-08T12:09:10.506Z"
   },
   {
    "duration": 269,
    "start_time": "2022-02-08T12:10:39.403Z"
   },
   {
    "duration": 206,
    "start_time": "2022-02-08T12:18:57.904Z"
   },
   {
    "duration": 210,
    "start_time": "2022-02-08T12:20:04.903Z"
   },
   {
    "duration": 184,
    "start_time": "2022-02-08T12:21:39.579Z"
   },
   {
    "duration": 211,
    "start_time": "2022-02-08T12:21:51.805Z"
   },
   {
    "duration": 216,
    "start_time": "2022-02-08T12:22:04.685Z"
   },
   {
    "duration": 219,
    "start_time": "2022-02-08T12:22:45.643Z"
   },
   {
    "duration": 201,
    "start_time": "2022-02-08T13:03:21.456Z"
   },
   {
    "duration": 172,
    "start_time": "2022-02-08T13:03:55.555Z"
   },
   {
    "duration": 184,
    "start_time": "2022-02-08T13:04:07.732Z"
   },
   {
    "duration": 185,
    "start_time": "2022-02-08T13:04:14.092Z"
   },
   {
    "duration": 261,
    "start_time": "2022-02-08T13:04:24.729Z"
   },
   {
    "duration": 191,
    "start_time": "2022-02-08T13:04:30.414Z"
   },
   {
    "duration": 198,
    "start_time": "2022-02-08T13:04:55.674Z"
   },
   {
    "duration": 206,
    "start_time": "2022-02-08T13:05:05.488Z"
   },
   {
    "duration": 6,
    "start_time": "2022-02-08T13:14:22.673Z"
   },
   {
    "duration": 5,
    "start_time": "2022-02-08T13:18:05.325Z"
   },
   {
    "duration": 102,
    "start_time": "2022-02-08T13:18:22.796Z"
   },
   {
    "duration": 5,
    "start_time": "2022-02-08T13:18:28.187Z"
   },
   {
    "duration": 5,
    "start_time": "2022-02-08T13:18:35.567Z"
   },
   {
    "duration": 4,
    "start_time": "2022-02-08T13:18:40.367Z"
   },
   {
    "duration": 5,
    "start_time": "2022-02-08T13:18:48.385Z"
   },
   {
    "duration": 5,
    "start_time": "2022-02-08T13:18:52.953Z"
   },
   {
    "duration": 28,
    "start_time": "2022-02-08T13:26:18.217Z"
   },
   {
    "duration": 6,
    "start_time": "2022-02-08T13:27:26.768Z"
   },
   {
    "duration": 39,
    "start_time": "2022-02-08T13:27:38.395Z"
   },
   {
    "duration": 16,
    "start_time": "2022-02-08T13:27:47.514Z"
   },
   {
    "duration": 10,
    "start_time": "2022-02-08T13:28:26.110Z"
   },
   {
    "duration": 12,
    "start_time": "2022-02-08T13:28:38.678Z"
   },
   {
    "duration": 28,
    "start_time": "2022-02-08T13:28:50.329Z"
   },
   {
    "duration": 29,
    "start_time": "2022-02-08T13:28:58.466Z"
   },
   {
    "duration": 26,
    "start_time": "2022-02-08T13:29:14.002Z"
   },
   {
    "duration": 29,
    "start_time": "2022-02-08T13:29:17.602Z"
   },
   {
    "duration": 6,
    "start_time": "2022-02-08T13:30:27.771Z"
   },
   {
    "duration": 5,
    "start_time": "2022-02-08T13:30:46.159Z"
   },
   {
    "duration": 4,
    "start_time": "2022-02-08T13:31:33.959Z"
   },
   {
    "duration": 5,
    "start_time": "2022-02-08T13:31:45.205Z"
   },
   {
    "duration": 6,
    "start_time": "2022-02-08T13:32:13.859Z"
   },
   {
    "duration": 7,
    "start_time": "2022-02-08T13:32:18.277Z"
   },
   {
    "duration": 182,
    "start_time": "2022-02-08T13:36:03.842Z"
   },
   {
    "duration": 189,
    "start_time": "2022-02-08T13:36:21.663Z"
   },
   {
    "duration": 1146,
    "start_time": "2022-02-08T19:59:10.165Z"
   },
   {
    "duration": 415,
    "start_time": "2022-02-08T19:59:11.314Z"
   },
   {
    "duration": 99,
    "start_time": "2022-02-08T19:59:11.733Z"
   },
   {
    "duration": 131,
    "start_time": "2022-02-08T19:59:11.835Z"
   },
   {
    "duration": 5,
    "start_time": "2022-02-08T19:59:11.968Z"
   },
   {
    "duration": 44,
    "start_time": "2022-02-08T19:59:11.975Z"
   },
   {
    "duration": 18,
    "start_time": "2022-02-08T19:59:12.021Z"
   },
   {
    "duration": 24,
    "start_time": "2022-02-08T19:59:12.042Z"
   },
   {
    "duration": 211,
    "start_time": "2022-02-08T19:59:12.068Z"
   },
   {
    "duration": 28,
    "start_time": "2022-02-08T19:59:12.281Z"
   },
   {
    "duration": 213,
    "start_time": "2022-02-08T19:59:12.311Z"
   },
   {
    "duration": 119,
    "start_time": "2022-02-08T19:59:12.526Z"
   },
   {
    "duration": 68,
    "start_time": "2022-02-08T19:59:12.647Z"
   },
   {
    "duration": 363,
    "start_time": "2022-02-08T19:59:12.717Z"
   },
   {
    "duration": 52,
    "start_time": "2022-02-08T19:59:13.081Z"
   },
   {
    "duration": 58,
    "start_time": "2022-02-08T19:59:13.136Z"
   },
   {
    "duration": 17,
    "start_time": "2022-02-08T19:59:13.197Z"
   },
   {
    "duration": 71,
    "start_time": "2022-02-08T19:59:13.216Z"
   },
   {
    "duration": 132,
    "start_time": "2022-02-08T19:59:13.290Z"
   },
   {
    "duration": 28,
    "start_time": "2022-02-08T19:59:13.424Z"
   },
   {
    "duration": 55,
    "start_time": "2022-02-08T19:59:13.454Z"
   },
   {
    "duration": 50,
    "start_time": "2022-02-08T19:59:13.511Z"
   },
   {
    "duration": 169,
    "start_time": "2022-02-08T19:59:13.567Z"
   },
   {
    "duration": 23,
    "start_time": "2022-02-08T19:59:13.740Z"
   },
   {
    "duration": 61,
    "start_time": "2022-02-08T19:59:13.765Z"
   },
   {
    "duration": 15,
    "start_time": "2022-02-08T19:59:13.829Z"
   },
   {
    "duration": 12,
    "start_time": "2022-02-08T19:59:13.846Z"
   },
   {
    "duration": 13,
    "start_time": "2022-02-08T19:59:13.860Z"
   },
   {
    "duration": 51,
    "start_time": "2022-02-08T19:59:13.875Z"
   },
   {
    "duration": 22,
    "start_time": "2022-02-08T19:59:13.928Z"
   },
   {
    "duration": 23,
    "start_time": "2022-02-08T19:59:13.952Z"
   },
   {
    "duration": 31,
    "start_time": "2022-02-08T19:59:13.977Z"
   },
   {
    "duration": 37,
    "start_time": "2022-02-08T19:59:14.010Z"
   },
   {
    "duration": 26,
    "start_time": "2022-02-08T19:59:14.049Z"
   },
   {
    "duration": 55,
    "start_time": "2022-02-08T19:59:14.077Z"
   },
   {
    "duration": 230,
    "start_time": "2022-02-08T19:59:14.133Z"
   },
   {
    "duration": 224,
    "start_time": "2022-02-08T19:59:14.365Z"
   },
   {
    "duration": 223,
    "start_time": "2022-02-08T19:59:14.591Z"
   },
   {
    "duration": 219,
    "start_time": "2022-02-08T19:59:14.816Z"
   },
   {
    "duration": 232,
    "start_time": "2022-02-08T19:59:15.037Z"
   },
   {
    "duration": 231,
    "start_time": "2022-02-08T19:59:15.271Z"
   },
   {
    "duration": 5,
    "start_time": "2022-02-08T19:59:15.503Z"
   },
   {
    "duration": 40,
    "start_time": "2022-02-08T19:59:15.510Z"
   },
   {
    "duration": 224,
    "start_time": "2022-02-08T19:59:15.552Z"
   },
   {
    "duration": 321,
    "start_time": "2022-02-08T19:59:15.778Z"
   },
   {
    "duration": 11,
    "start_time": "2022-02-08T19:59:16.101Z"
   },
   {
    "duration": 13,
    "start_time": "2022-02-08T19:59:16.114Z"
   },
   {
    "duration": 10,
    "start_time": "2022-02-08T19:59:16.129Z"
   },
   {
    "duration": 41,
    "start_time": "2022-02-08T19:59:16.141Z"
   },
   {
    "duration": 5,
    "start_time": "2022-02-08T19:59:16.184Z"
   },
   {
    "duration": 47,
    "start_time": "2022-02-08T19:59:16.191Z"
   },
   {
    "duration": 6,
    "start_time": "2022-02-08T19:59:16.240Z"
   },
   {
    "duration": 206,
    "start_time": "2022-02-08T19:59:16.248Z"
   },
   {
    "duration": 209,
    "start_time": "2022-02-08T19:59:16.457Z"
   },
   {
    "duration": 7,
    "start_time": "2022-02-08T19:59:16.668Z"
   },
   {
    "duration": 56,
    "start_time": "2022-02-08T20:22:11.622Z"
   },
   {
    "duration": 1630,
    "start_time": "2022-02-08T20:22:21.476Z"
   },
   {
    "duration": 591,
    "start_time": "2022-02-08T20:22:23.110Z"
   },
   {
    "duration": 138,
    "start_time": "2022-02-08T20:22:23.704Z"
   },
   {
    "duration": 137,
    "start_time": "2022-02-08T20:22:23.845Z"
   },
   {
    "duration": 5,
    "start_time": "2022-02-08T20:22:23.984Z"
   },
   {
    "duration": 40,
    "start_time": "2022-02-08T20:22:23.991Z"
   },
   {
    "duration": 18,
    "start_time": "2022-02-08T20:22:24.033Z"
   },
   {
    "duration": 23,
    "start_time": "2022-02-08T20:22:24.054Z"
   },
   {
    "duration": 256,
    "start_time": "2022-02-08T20:22:24.079Z"
   },
   {
    "duration": 17,
    "start_time": "2022-02-08T20:22:24.337Z"
   },
   {
    "duration": 234,
    "start_time": "2022-02-08T20:22:24.356Z"
   },
   {
    "duration": 93,
    "start_time": "2022-02-08T20:22:24.592Z"
   },
   {
    "duration": 232,
    "start_time": "2022-02-08T20:22:24.687Z"
   },
   {
    "duration": 23,
    "start_time": "2022-02-08T20:22:24.922Z"
   },
   {
    "duration": 76,
    "start_time": "2022-02-08T20:22:24.947Z"
   },
   {
    "duration": 47,
    "start_time": "2022-02-08T20:22:25.025Z"
   },
   {
    "duration": 139,
    "start_time": "2022-02-08T20:22:25.074Z"
   },
   {
    "duration": 32,
    "start_time": "2022-02-08T20:22:25.216Z"
   },
   {
    "duration": 65,
    "start_time": "2022-02-08T20:22:25.251Z"
   },
   {
    "duration": 50,
    "start_time": "2022-02-08T20:22:25.318Z"
   },
   {
    "duration": 173,
    "start_time": "2022-02-08T20:22:25.370Z"
   },
   {
    "duration": 21,
    "start_time": "2022-02-08T20:22:25.545Z"
   },
   {
    "duration": 63,
    "start_time": "2022-02-08T20:22:25.570Z"
   },
   {
    "duration": 15,
    "start_time": "2022-02-08T20:22:25.635Z"
   },
   {
    "duration": 21,
    "start_time": "2022-02-08T20:22:25.653Z"
   },
   {
    "duration": 20,
    "start_time": "2022-02-08T20:22:25.676Z"
   },
   {
    "duration": 48,
    "start_time": "2022-02-08T20:22:25.698Z"
   },
   {
    "duration": 24,
    "start_time": "2022-02-08T20:22:25.748Z"
   },
   {
    "duration": 35,
    "start_time": "2022-02-08T20:22:25.774Z"
   },
   {
    "duration": 15,
    "start_time": "2022-02-08T20:22:25.812Z"
   },
   {
    "duration": 48,
    "start_time": "2022-02-08T20:22:25.829Z"
   },
   {
    "duration": 50,
    "start_time": "2022-02-08T20:22:25.879Z"
   },
   {
    "duration": 27,
    "start_time": "2022-02-08T20:22:25.931Z"
   },
   {
    "duration": 259,
    "start_time": "2022-02-08T20:22:25.961Z"
   },
   {
    "duration": 512,
    "start_time": "2022-02-08T20:22:26.222Z"
   },
   {
    "duration": 271,
    "start_time": "2022-02-08T20:22:26.736Z"
   },
   {
    "duration": 213,
    "start_time": "2022-02-08T20:22:27.010Z"
   },
   {
    "duration": 232,
    "start_time": "2022-02-08T20:22:27.225Z"
   },
   {
    "duration": 243,
    "start_time": "2022-02-08T20:22:27.459Z"
   },
   {
    "duration": 4,
    "start_time": "2022-02-08T20:22:27.704Z"
   },
   {
    "duration": 53,
    "start_time": "2022-02-08T20:22:27.710Z"
   },
   {
    "duration": 311,
    "start_time": "2022-02-08T20:22:27.764Z"
   },
   {
    "duration": 276,
    "start_time": "2022-02-08T20:22:28.077Z"
   },
   {
    "duration": 5,
    "start_time": "2022-02-08T20:22:28.355Z"
   },
   {
    "duration": 8,
    "start_time": "2022-02-08T20:22:28.362Z"
   },
   {
    "duration": 6,
    "start_time": "2022-02-08T20:22:28.372Z"
   },
   {
    "duration": 54,
    "start_time": "2022-02-08T20:22:28.380Z"
   },
   {
    "duration": 5,
    "start_time": "2022-02-08T20:22:28.436Z"
   },
   {
    "duration": 30,
    "start_time": "2022-02-08T20:22:28.443Z"
   },
   {
    "duration": 4,
    "start_time": "2022-02-08T20:22:28.475Z"
   },
   {
    "duration": 215,
    "start_time": "2022-02-08T20:22:28.481Z"
   },
   {
    "duration": 240,
    "start_time": "2022-02-08T20:22:28.698Z"
   },
   {
    "duration": 5,
    "start_time": "2022-02-08T20:22:28.940Z"
   },
   {
    "duration": 1073,
    "start_time": "2022-02-08T20:22:44.558Z"
   },
   {
    "duration": 715,
    "start_time": "2022-02-08T20:22:45.633Z"
   },
   {
    "duration": 182,
    "start_time": "2022-02-08T20:22:46.350Z"
   },
   {
    "duration": 133,
    "start_time": "2022-02-08T20:22:46.535Z"
   },
   {
    "duration": 4,
    "start_time": "2022-02-08T20:22:46.671Z"
   },
   {
    "duration": 40,
    "start_time": "2022-02-08T20:22:46.677Z"
   },
   {
    "duration": 20,
    "start_time": "2022-02-08T20:22:46.720Z"
   },
   {
    "duration": 14,
    "start_time": "2022-02-08T20:22:46.743Z"
   },
   {
    "duration": 239,
    "start_time": "2022-02-08T20:22:46.759Z"
   },
   {
    "duration": 22,
    "start_time": "2022-02-08T20:22:47.000Z"
   },
   {
    "duration": 229,
    "start_time": "2022-02-08T20:22:47.024Z"
   },
   {
    "duration": 86,
    "start_time": "2022-02-08T20:22:47.255Z"
   },
   {
    "duration": 225,
    "start_time": "2022-02-08T20:22:47.343Z"
   },
   {
    "duration": 22,
    "start_time": "2022-02-08T20:22:47.570Z"
   },
   {
    "duration": 69,
    "start_time": "2022-02-08T20:22:47.594Z"
   },
   {
    "duration": 67,
    "start_time": "2022-02-08T20:22:47.666Z"
   },
   {
    "duration": 136,
    "start_time": "2022-02-08T20:22:47.735Z"
   },
   {
    "duration": 37,
    "start_time": "2022-02-08T20:22:47.873Z"
   },
   {
    "duration": 41,
    "start_time": "2022-02-08T20:22:47.912Z"
   },
   {
    "duration": 67,
    "start_time": "2022-02-08T20:22:47.955Z"
   },
   {
    "duration": 164,
    "start_time": "2022-02-08T20:22:48.024Z"
   },
   {
    "duration": 34,
    "start_time": "2022-02-08T20:22:48.190Z"
   },
   {
    "duration": 39,
    "start_time": "2022-02-08T20:22:48.229Z"
   },
   {
    "duration": 16,
    "start_time": "2022-02-08T20:22:48.270Z"
   },
   {
    "duration": 13,
    "start_time": "2022-02-08T20:22:48.307Z"
   },
   {
    "duration": 16,
    "start_time": "2022-02-08T20:22:48.322Z"
   },
   {
    "duration": 28,
    "start_time": "2022-02-08T20:22:48.341Z"
   },
   {
    "duration": 58,
    "start_time": "2022-02-08T20:22:48.372Z"
   },
   {
    "duration": 25,
    "start_time": "2022-02-08T20:22:48.433Z"
   },
   {
    "duration": 11,
    "start_time": "2022-02-08T20:22:48.460Z"
   },
   {
    "duration": 72,
    "start_time": "2022-02-08T20:22:48.473Z"
   },
   {
    "duration": 27,
    "start_time": "2022-02-08T20:22:48.547Z"
   },
   {
    "duration": 48,
    "start_time": "2022-02-08T20:22:48.576Z"
   },
   {
    "duration": 242,
    "start_time": "2022-02-08T20:22:48.627Z"
   },
   {
    "duration": 242,
    "start_time": "2022-02-08T20:22:48.871Z"
   },
   {
    "duration": 235,
    "start_time": "2022-02-08T20:22:49.116Z"
   },
   {
    "duration": 225,
    "start_time": "2022-02-08T20:22:49.353Z"
   },
   {
    "duration": 239,
    "start_time": "2022-02-08T20:22:49.580Z"
   },
   {
    "duration": 233,
    "start_time": "2022-02-08T20:22:49.822Z"
   },
   {
    "duration": 5,
    "start_time": "2022-02-08T20:22:50.056Z"
   },
   {
    "duration": 61,
    "start_time": "2022-02-08T20:22:50.063Z"
   },
   {
    "duration": 224,
    "start_time": "2022-02-08T20:22:50.126Z"
   },
   {
    "duration": 300,
    "start_time": "2022-02-08T20:22:50.352Z"
   },
   {
    "duration": 6,
    "start_time": "2022-02-08T20:22:50.654Z"
   },
   {
    "duration": 15,
    "start_time": "2022-02-08T20:22:50.662Z"
   },
   {
    "duration": 22,
    "start_time": "2022-02-08T20:22:50.679Z"
   },
   {
    "duration": 45,
    "start_time": "2022-02-08T20:22:50.703Z"
   },
   {
    "duration": 5,
    "start_time": "2022-02-08T20:22:50.750Z"
   },
   {
    "duration": 44,
    "start_time": "2022-02-08T20:22:50.756Z"
   },
   {
    "duration": 5,
    "start_time": "2022-02-08T20:22:50.802Z"
   },
   {
    "duration": 212,
    "start_time": "2022-02-08T20:22:50.810Z"
   },
   {
    "duration": 221,
    "start_time": "2022-02-08T20:22:51.025Z"
   },
   {
    "duration": 6,
    "start_time": "2022-02-08T20:22:51.248Z"
   },
   {
    "duration": 1510,
    "start_time": "2022-02-08T20:35:47.136Z"
   },
   {
    "duration": 444,
    "start_time": "2022-02-08T20:35:48.649Z"
   },
   {
    "duration": 224,
    "start_time": "2022-02-08T20:35:49.096Z"
   },
   {
    "duration": 285,
    "start_time": "2022-02-08T20:35:49.324Z"
   },
   {
    "duration": 6,
    "start_time": "2022-02-08T20:35:49.612Z"
   },
   {
    "duration": 30,
    "start_time": "2022-02-08T20:35:49.620Z"
   },
   {
    "duration": 76,
    "start_time": "2022-02-08T20:35:49.652Z"
   },
   {
    "duration": 18,
    "start_time": "2022-02-08T20:35:49.731Z"
   },
   {
    "duration": 447,
    "start_time": "2022-02-08T20:35:49.752Z"
   },
   {
    "duration": 24,
    "start_time": "2022-02-08T20:35:50.201Z"
   },
   {
    "duration": 342,
    "start_time": "2022-02-08T20:35:50.228Z"
   },
   {
    "duration": 94,
    "start_time": "2022-02-08T20:35:50.573Z"
   },
   {
    "duration": 347,
    "start_time": "2022-02-08T20:35:50.670Z"
   },
   {
    "duration": 32,
    "start_time": "2022-02-08T20:35:51.019Z"
   },
   {
    "duration": 255,
    "start_time": "2022-02-08T20:35:51.053Z"
   },
   {
    "duration": 121,
    "start_time": "2022-02-08T20:35:51.311Z"
   },
   {
    "duration": 222,
    "start_time": "2022-02-08T20:35:51.435Z"
   },
   {
    "duration": 33,
    "start_time": "2022-02-08T20:35:51.659Z"
   },
   {
    "duration": 46,
    "start_time": "2022-02-08T20:35:51.709Z"
   },
   {
    "duration": 84,
    "start_time": "2022-02-08T20:35:51.757Z"
   },
   {
    "duration": 173,
    "start_time": "2022-02-08T20:35:51.844Z"
   },
   {
    "duration": 25,
    "start_time": "2022-02-08T20:35:52.019Z"
   },
   {
    "duration": 37,
    "start_time": "2022-02-08T20:35:52.046Z"
   },
   {
    "duration": 19,
    "start_time": "2022-02-08T20:35:52.123Z"
   },
   {
    "duration": 13,
    "start_time": "2022-02-08T20:35:52.144Z"
   },
   {
    "duration": 12,
    "start_time": "2022-02-08T20:35:52.159Z"
   },
   {
    "duration": 65,
    "start_time": "2022-02-08T20:35:52.174Z"
   },
   {
    "duration": 79,
    "start_time": "2022-02-08T20:35:52.241Z"
   },
   {
    "duration": 28,
    "start_time": "2022-02-08T20:35:52.324Z"
   },
   {
    "duration": 16,
    "start_time": "2022-02-08T20:35:52.407Z"
   },
   {
    "duration": 99,
    "start_time": "2022-02-08T20:35:52.426Z"
   },
   {
    "duration": 83,
    "start_time": "2022-02-08T20:35:52.528Z"
   },
   {
    "duration": 94,
    "start_time": "2022-02-08T20:35:52.614Z"
   },
   {
    "duration": 512,
    "start_time": "2022-02-08T20:35:52.711Z"
   },
   {
    "duration": 302,
    "start_time": "2022-02-08T20:35:53.226Z"
   },
   {
    "duration": 253,
    "start_time": "2022-02-08T20:35:53.530Z"
   },
   {
    "duration": 270,
    "start_time": "2022-02-08T20:35:53.785Z"
   },
   {
    "duration": 241,
    "start_time": "2022-02-08T20:35:54.057Z"
   },
   {
    "duration": 353,
    "start_time": "2022-02-08T20:35:54.299Z"
   },
   {
    "duration": 5,
    "start_time": "2022-02-08T20:35:54.654Z"
   },
   {
    "duration": 64,
    "start_time": "2022-02-08T20:35:54.661Z"
   },
   {
    "duration": 242,
    "start_time": "2022-02-08T20:35:54.728Z"
   },
   {
    "duration": 314,
    "start_time": "2022-02-08T20:35:54.973Z"
   },
   {
    "duration": 7,
    "start_time": "2022-02-08T20:35:55.289Z"
   },
   {
    "duration": 8,
    "start_time": "2022-02-08T20:35:55.309Z"
   },
   {
    "duration": 11,
    "start_time": "2022-02-08T20:35:55.319Z"
   },
   {
    "duration": 36,
    "start_time": "2022-02-08T20:35:55.333Z"
   },
   {
    "duration": 8,
    "start_time": "2022-02-08T20:35:55.371Z"
   },
   {
    "duration": 61,
    "start_time": "2022-02-08T20:35:55.381Z"
   },
   {
    "duration": 6,
    "start_time": "2022-02-08T20:35:55.444Z"
   },
   {
    "duration": 237,
    "start_time": "2022-02-08T20:35:55.452Z"
   },
   {
    "duration": 306,
    "start_time": "2022-02-08T20:35:55.692Z"
   },
   {
    "duration": 12,
    "start_time": "2022-02-08T20:35:56.001Z"
   },
   {
    "duration": 28,
    "start_time": "2022-02-08T22:18:34.418Z"
   },
   {
    "duration": 28,
    "start_time": "2022-02-08T22:18:50.098Z"
   },
   {
    "duration": 39,
    "start_time": "2022-02-08T22:32:56.994Z"
   },
   {
    "duration": 35,
    "start_time": "2022-02-08T22:34:46.168Z"
   },
   {
    "duration": 34,
    "start_time": "2022-02-08T22:35:02.520Z"
   },
   {
    "duration": 33,
    "start_time": "2022-02-08T22:35:08.721Z"
   },
   {
    "duration": 32,
    "start_time": "2022-02-08T22:46:06.619Z"
   },
   {
    "duration": 34,
    "start_time": "2022-02-08T22:46:36.392Z"
   },
   {
    "duration": 37,
    "start_time": "2022-02-08T23:30:46.860Z"
   },
   {
    "duration": 6,
    "start_time": "2022-02-09T00:13:49.205Z"
   },
   {
    "duration": 5,
    "start_time": "2022-02-09T00:13:59.909Z"
   },
   {
    "duration": 6,
    "start_time": "2022-02-09T00:14:12.378Z"
   },
   {
    "duration": 6,
    "start_time": "2022-02-09T00:14:18.796Z"
   },
   {
    "duration": 200,
    "start_time": "2022-02-09T00:26:53.573Z"
   },
   {
    "duration": 193,
    "start_time": "2022-02-09T00:27:57.638Z"
   },
   {
    "duration": 6,
    "start_time": "2022-02-09T00:56:15.646Z"
   },
   {
    "duration": 198,
    "start_time": "2022-02-09T00:57:54.403Z"
   },
   {
    "duration": 193,
    "start_time": "2022-02-09T00:58:28.967Z"
   },
   {
    "duration": 1081,
    "start_time": "2022-02-09T01:29:50.826Z"
   },
   {
    "duration": 405,
    "start_time": "2022-02-09T01:29:51.909Z"
   },
   {
    "duration": 117,
    "start_time": "2022-02-09T01:29:52.317Z"
   },
   {
    "duration": 131,
    "start_time": "2022-02-09T01:29:52.436Z"
   },
   {
    "duration": 5,
    "start_time": "2022-02-09T01:29:52.568Z"
   },
   {
    "duration": 37,
    "start_time": "2022-02-09T01:29:52.575Z"
   },
   {
    "duration": 18,
    "start_time": "2022-02-09T01:29:52.614Z"
   },
   {
    "duration": 16,
    "start_time": "2022-02-09T01:29:52.635Z"
   },
   {
    "duration": 226,
    "start_time": "2022-02-09T01:29:52.653Z"
   },
   {
    "duration": 14,
    "start_time": "2022-02-09T01:29:52.881Z"
   },
   {
    "duration": 202,
    "start_time": "2022-02-09T01:29:52.908Z"
   },
   {
    "duration": 74,
    "start_time": "2022-02-09T01:29:53.112Z"
   },
   {
    "duration": 219,
    "start_time": "2022-02-09T01:29:53.188Z"
   },
   {
    "duration": 22,
    "start_time": "2022-02-09T01:29:53.409Z"
   },
   {
    "duration": 56,
    "start_time": "2022-02-09T01:29:53.432Z"
   },
   {
    "duration": 49,
    "start_time": "2022-02-09T01:29:53.508Z"
   },
   {
    "duration": 139,
    "start_time": "2022-02-09T01:29:53.559Z"
   },
   {
    "duration": 33,
    "start_time": "2022-02-09T01:29:53.700Z"
   },
   {
    "duration": 39,
    "start_time": "2022-02-09T01:29:53.735Z"
   },
   {
    "duration": 76,
    "start_time": "2022-02-09T01:29:53.776Z"
   },
   {
    "duration": 158,
    "start_time": "2022-02-09T01:29:53.854Z"
   },
   {
    "duration": 20,
    "start_time": "2022-02-09T01:29:54.014Z"
   },
   {
    "duration": 120,
    "start_time": "2022-02-09T01:29:54.038Z"
   },
   {
    "duration": 14,
    "start_time": "2022-02-09T01:29:54.160Z"
   },
   {
    "duration": 8,
    "start_time": "2022-02-09T01:29:54.176Z"
   },
   {
    "duration": 19,
    "start_time": "2022-02-09T01:29:54.186Z"
   },
   {
    "duration": 27,
    "start_time": "2022-02-09T01:29:54.206Z"
   },
   {
    "duration": 22,
    "start_time": "2022-02-09T01:29:54.235Z"
   },
   {
    "duration": 28,
    "start_time": "2022-02-09T01:29:54.259Z"
   },
   {
    "duration": 29,
    "start_time": "2022-02-09T01:29:54.289Z"
   },
   {
    "duration": 31,
    "start_time": "2022-02-09T01:29:54.320Z"
   },
   {
    "duration": 26,
    "start_time": "2022-02-09T01:29:54.353Z"
   },
   {
    "duration": 52,
    "start_time": "2022-02-09T01:29:54.380Z"
   },
   {
    "duration": 225,
    "start_time": "2022-02-09T01:29:54.434Z"
   },
   {
    "duration": 223,
    "start_time": "2022-02-09T01:29:54.661Z"
   },
   {
    "duration": 216,
    "start_time": "2022-02-09T01:29:54.886Z"
   },
   {
    "duration": 219,
    "start_time": "2022-02-09T01:29:55.104Z"
   },
   {
    "duration": 211,
    "start_time": "2022-02-09T01:29:55.325Z"
   },
   {
    "duration": 221,
    "start_time": "2022-02-09T01:29:55.538Z"
   },
   {
    "duration": 5,
    "start_time": "2022-02-09T01:29:55.762Z"
   },
   {
    "duration": 55,
    "start_time": "2022-02-09T01:29:55.770Z"
   },
   {
    "duration": 220,
    "start_time": "2022-02-09T01:29:55.827Z"
   },
   {
    "duration": 290,
    "start_time": "2022-02-09T01:29:56.050Z"
   },
   {
    "duration": 6,
    "start_time": "2022-02-09T01:29:56.341Z"
   },
   {
    "duration": 8,
    "start_time": "2022-02-09T01:29:56.349Z"
   },
   {
    "duration": 8,
    "start_time": "2022-02-09T01:29:56.360Z"
   },
   {
    "duration": 51,
    "start_time": "2022-02-09T01:29:56.370Z"
   },
   {
    "duration": 4,
    "start_time": "2022-02-09T01:29:56.423Z"
   },
   {
    "duration": 33,
    "start_time": "2022-02-09T01:29:56.429Z"
   },
   {
    "duration": 4,
    "start_time": "2022-02-09T01:29:56.464Z"
   },
   {
    "duration": 222,
    "start_time": "2022-02-09T01:29:56.470Z"
   },
   {
    "duration": 206,
    "start_time": "2022-02-09T01:29:56.694Z"
   },
   {
    "duration": 10,
    "start_time": "2022-02-09T01:29:56.902Z"
   },
   {
    "duration": 1149,
    "start_time": "2022-02-13T16:45:32.394Z"
   },
   {
    "duration": 438,
    "start_time": "2022-02-13T16:45:33.545Z"
   },
   {
    "duration": 114,
    "start_time": "2022-02-13T16:45:33.985Z"
   },
   {
    "duration": 149,
    "start_time": "2022-02-13T16:45:34.101Z"
   },
   {
    "duration": 6,
    "start_time": "2022-02-13T16:45:34.253Z"
   },
   {
    "duration": 48,
    "start_time": "2022-02-13T16:45:34.261Z"
   },
   {
    "duration": 18,
    "start_time": "2022-02-13T16:45:34.312Z"
   },
   {
    "duration": 15,
    "start_time": "2022-02-13T16:45:34.332Z"
   },
   {
    "duration": 251,
    "start_time": "2022-02-13T16:45:34.349Z"
   },
   {
    "duration": 14,
    "start_time": "2022-02-13T16:45:34.601Z"
   },
   {
    "duration": 238,
    "start_time": "2022-02-13T16:45:34.617Z"
   },
   {
    "duration": 80,
    "start_time": "2022-02-13T16:45:34.857Z"
   },
   {
    "duration": 207,
    "start_time": "2022-02-13T16:45:34.939Z"
   },
   {
    "duration": 19,
    "start_time": "2022-02-13T16:45:35.148Z"
   },
   {
    "duration": 71,
    "start_time": "2022-02-13T16:45:35.169Z"
   },
   {
    "duration": 61,
    "start_time": "2022-02-13T16:45:35.242Z"
   },
   {
    "duration": 119,
    "start_time": "2022-02-13T16:45:35.306Z"
   },
   {
    "duration": 27,
    "start_time": "2022-02-13T16:45:35.427Z"
   },
   {
    "duration": 57,
    "start_time": "2022-02-13T16:45:35.457Z"
   },
   {
    "duration": 57,
    "start_time": "2022-02-13T16:45:35.516Z"
   },
   {
    "duration": 180,
    "start_time": "2022-02-13T16:45:35.575Z"
   },
   {
    "duration": 24,
    "start_time": "2022-02-13T16:45:35.759Z"
   },
   {
    "duration": 45,
    "start_time": "2022-02-13T16:45:35.798Z"
   },
   {
    "duration": 16,
    "start_time": "2022-02-13T16:45:35.846Z"
   },
   {
    "duration": 34,
    "start_time": "2022-02-13T16:45:35.864Z"
   },
   {
    "duration": 14,
    "start_time": "2022-02-13T16:45:35.900Z"
   },
   {
    "duration": 30,
    "start_time": "2022-02-13T16:45:35.917Z"
   },
   {
    "duration": 52,
    "start_time": "2022-02-13T16:45:35.949Z"
   },
   {
    "duration": 27,
    "start_time": "2022-02-13T16:45:36.003Z"
   },
   {
    "duration": 12,
    "start_time": "2022-02-13T16:45:36.032Z"
   },
   {
    "duration": 61,
    "start_time": "2022-02-13T16:45:36.046Z"
   },
   {
    "duration": 29,
    "start_time": "2022-02-13T16:45:36.108Z"
   },
   {
    "duration": 28,
    "start_time": "2022-02-13T16:45:36.139Z"
   },
   {
    "duration": 278,
    "start_time": "2022-02-13T16:45:36.169Z"
   },
   {
    "duration": 252,
    "start_time": "2022-02-13T16:45:36.450Z"
   },
   {
    "duration": 251,
    "start_time": "2022-02-13T16:45:36.704Z"
   },
   {
    "duration": 239,
    "start_time": "2022-02-13T16:45:36.957Z"
   },
   {
    "duration": 250,
    "start_time": "2022-02-13T16:45:37.199Z"
   },
   {
    "duration": 248,
    "start_time": "2022-02-13T16:45:37.451Z"
   },
   {
    "duration": 4,
    "start_time": "2022-02-13T16:45:37.701Z"
   },
   {
    "duration": 42,
    "start_time": "2022-02-13T16:45:37.706Z"
   },
   {
    "duration": 253,
    "start_time": "2022-02-13T16:45:37.750Z"
   },
   {
    "duration": 311,
    "start_time": "2022-02-13T16:45:38.005Z"
   },
   {
    "duration": 6,
    "start_time": "2022-02-13T16:45:38.318Z"
   },
   {
    "duration": 8,
    "start_time": "2022-02-13T16:45:38.326Z"
   },
   {
    "duration": 8,
    "start_time": "2022-02-13T16:45:38.335Z"
   },
   {
    "duration": 58,
    "start_time": "2022-02-13T16:45:38.344Z"
   },
   {
    "duration": 5,
    "start_time": "2022-02-13T16:45:38.404Z"
   },
   {
    "duration": 31,
    "start_time": "2022-02-13T16:45:38.410Z"
   },
   {
    "duration": 4,
    "start_time": "2022-02-13T16:45:38.443Z"
   },
   {
    "duration": 265,
    "start_time": "2022-02-13T16:45:38.449Z"
   },
   {
    "duration": 261,
    "start_time": "2022-02-13T16:45:38.717Z"
   },
   {
    "duration": 19,
    "start_time": "2022-02-13T16:45:38.980Z"
   },
   {
    "duration": 27,
    "start_time": "2022-02-13T16:50:36.054Z"
   },
   {
    "duration": 1537,
    "start_time": "2022-02-13T18:28:01.778Z"
   },
   {
    "duration": 487,
    "start_time": "2022-02-13T18:28:03.318Z"
   },
   {
    "duration": 171,
    "start_time": "2022-02-13T18:28:03.809Z"
   },
   {
    "duration": 265,
    "start_time": "2022-02-13T18:28:03.984Z"
   },
   {
    "duration": 6,
    "start_time": "2022-02-13T18:28:04.252Z"
   },
   {
    "duration": 30,
    "start_time": "2022-02-13T18:28:04.261Z"
   },
   {
    "duration": 90,
    "start_time": "2022-02-13T18:28:04.293Z"
   },
   {
    "duration": 77,
    "start_time": "2022-02-13T18:28:04.389Z"
   },
   {
    "duration": 787,
    "start_time": "2022-02-13T18:28:04.471Z"
   },
   {
    "duration": 16,
    "start_time": "2022-02-13T18:28:05.261Z"
   },
   {
    "duration": 585,
    "start_time": "2022-02-13T18:28:05.279Z"
   },
   {
    "duration": 153,
    "start_time": "2022-02-13T18:28:05.867Z"
   },
   {
    "duration": 281,
    "start_time": "2022-02-13T18:28:06.022Z"
   },
   {
    "duration": 30,
    "start_time": "2022-02-13T18:28:06.306Z"
   },
   {
    "duration": 77,
    "start_time": "2022-02-13T18:28:06.349Z"
   },
   {
    "duration": 86,
    "start_time": "2022-02-13T18:28:06.429Z"
   },
   {
    "duration": 182,
    "start_time": "2022-02-13T18:28:06.518Z"
   },
   {
    "duration": 48,
    "start_time": "2022-02-13T18:28:06.702Z"
   },
   {
    "duration": 47,
    "start_time": "2022-02-13T18:28:06.753Z"
   },
   {
    "duration": 92,
    "start_time": "2022-02-13T18:28:06.803Z"
   },
   {
    "duration": 208,
    "start_time": "2022-02-13T18:28:06.898Z"
   },
   {
    "duration": 47,
    "start_time": "2022-02-13T18:28:07.108Z"
   },
   {
    "duration": 54,
    "start_time": "2022-02-13T18:28:07.164Z"
   },
   {
    "duration": 39,
    "start_time": "2022-02-13T18:28:07.221Z"
   },
   {
    "duration": 28,
    "start_time": "2022-02-13T18:28:07.263Z"
   },
   {
    "duration": 40,
    "start_time": "2022-02-13T18:28:07.294Z"
   },
   {
    "duration": 61,
    "start_time": "2022-02-13T18:28:07.337Z"
   },
   {
    "duration": 33,
    "start_time": "2022-02-13T18:28:07.401Z"
   },
   {
    "duration": 45,
    "start_time": "2022-02-13T18:28:07.437Z"
   },
   {
    "duration": 16,
    "start_time": "2022-02-13T18:28:07.484Z"
   },
   {
    "duration": 74,
    "start_time": "2022-02-13T18:28:07.503Z"
   },
   {
    "duration": 39,
    "start_time": "2022-02-13T18:28:07.580Z"
   },
   {
    "duration": 64,
    "start_time": "2022-02-13T18:28:07.622Z"
   },
   {
    "duration": 365,
    "start_time": "2022-02-13T18:28:07.688Z"
   },
   {
    "duration": 339,
    "start_time": "2022-02-13T18:28:08.056Z"
   },
   {
    "duration": 459,
    "start_time": "2022-02-13T18:28:08.397Z"
   },
   {
    "duration": 626,
    "start_time": "2022-02-13T18:28:08.859Z"
   },
   {
    "duration": 325,
    "start_time": "2022-02-13T18:28:09.488Z"
   },
   {
    "duration": 350,
    "start_time": "2022-02-13T18:28:09.816Z"
   },
   {
    "duration": 6,
    "start_time": "2022-02-13T18:28:10.169Z"
   },
   {
    "duration": 73,
    "start_time": "2022-02-13T18:28:10.178Z"
   },
   {
    "duration": 322,
    "start_time": "2022-02-13T18:28:10.253Z"
   },
   {
    "duration": 386,
    "start_time": "2022-02-13T18:28:10.578Z"
   },
   {
    "duration": 8,
    "start_time": "2022-02-13T18:28:10.967Z"
   },
   {
    "duration": 9,
    "start_time": "2022-02-13T18:28:10.977Z"
   },
   {
    "duration": 6,
    "start_time": "2022-02-13T18:28:10.988Z"
   },
   {
    "duration": 77,
    "start_time": "2022-02-13T18:28:10.997Z"
   },
   {
    "duration": 6,
    "start_time": "2022-02-13T18:28:11.077Z"
   },
   {
    "duration": 65,
    "start_time": "2022-02-13T18:28:11.086Z"
   },
   {
    "duration": 7,
    "start_time": "2022-02-13T18:28:11.154Z"
   },
   {
    "duration": 317,
    "start_time": "2022-02-13T18:28:11.164Z"
   },
   {
    "duration": 328,
    "start_time": "2022-02-13T18:28:11.484Z"
   },
   {
    "duration": 8,
    "start_time": "2022-02-13T18:28:11.815Z"
   },
   {
    "duration": 110,
    "start_time": "2022-02-13T18:30:04.549Z"
   },
   {
    "duration": 10,
    "start_time": "2022-02-13T18:31:56.529Z"
   },
   {
    "duration": 923,
    "start_time": "2022-02-13T18:58:01.911Z"
   },
   {
    "duration": 1421,
    "start_time": "2022-02-13T18:58:29.192Z"
   },
   {
    "duration": 488,
    "start_time": "2022-02-13T18:58:30.615Z"
   },
   {
    "duration": 260,
    "start_time": "2022-02-13T18:58:31.106Z"
   },
   {
    "duration": 299,
    "start_time": "2022-02-13T18:58:31.369Z"
   },
   {
    "duration": 7,
    "start_time": "2022-02-13T18:58:31.670Z"
   },
   {
    "duration": 81,
    "start_time": "2022-02-13T18:58:31.679Z"
   },
   {
    "duration": 26,
    "start_time": "2022-02-13T18:58:31.763Z"
   },
   {
    "duration": 71,
    "start_time": "2022-02-13T18:58:31.793Z"
   },
   {
    "duration": 350,
    "start_time": "2022-02-13T18:58:31.868Z"
   },
   {
    "duration": 31,
    "start_time": "2022-02-13T18:58:32.221Z"
   },
   {
    "duration": 320,
    "start_time": "2022-02-13T18:58:32.255Z"
   },
   {
    "duration": 105,
    "start_time": "2022-02-13T18:58:32.577Z"
   },
   {
    "duration": 257,
    "start_time": "2022-02-13T18:58:32.685Z"
   },
   {
    "duration": 33,
    "start_time": "2022-02-13T18:58:32.944Z"
   },
   {
    "duration": 92,
    "start_time": "2022-02-13T18:58:32.979Z"
   },
   {
    "duration": 74,
    "start_time": "2022-02-13T18:58:33.074Z"
   },
   {
    "duration": 145,
    "start_time": "2022-02-13T18:58:33.150Z"
   },
   {
    "duration": 27,
    "start_time": "2022-02-13T18:58:33.297Z"
   },
   {
    "duration": 28,
    "start_time": "2022-02-13T18:58:33.326Z"
   },
   {
    "duration": 47,
    "start_time": "2022-02-13T18:58:33.357Z"
   },
   {
    "duration": 87,
    "start_time": "2022-02-13T18:58:33.406Z"
   },
   {
    "duration": 187,
    "start_time": "2022-02-13T18:58:33.495Z"
   },
   {
    "duration": 28,
    "start_time": "2022-02-13T18:58:33.688Z"
   },
   {
    "duration": 67,
    "start_time": "2022-02-13T18:58:33.720Z"
   },
   {
    "duration": 18,
    "start_time": "2022-02-13T18:58:33.790Z"
   },
   {
    "duration": 13,
    "start_time": "2022-02-13T18:58:33.810Z"
   },
   {
    "duration": 22,
    "start_time": "2022-02-13T18:58:33.850Z"
   },
   {
    "duration": 72,
    "start_time": "2022-02-13T18:58:33.876Z"
   },
   {
    "duration": 47,
    "start_time": "2022-02-13T18:58:33.951Z"
   },
   {
    "duration": 56,
    "start_time": "2022-02-13T18:58:34.000Z"
   },
   {
    "duration": 16,
    "start_time": "2022-02-13T18:58:34.059Z"
   },
   {
    "duration": 73,
    "start_time": "2022-02-13T18:58:34.078Z"
   },
   {
    "duration": 43,
    "start_time": "2022-02-13T18:58:34.154Z"
   },
   {
    "duration": 63,
    "start_time": "2022-02-13T18:58:34.199Z"
   },
   {
    "duration": 332,
    "start_time": "2022-02-13T18:58:34.265Z"
   },
   {
    "duration": 331,
    "start_time": "2022-02-13T18:58:34.600Z"
   },
   {
    "duration": 851,
    "start_time": "2022-02-13T18:58:34.933Z"
   },
   {
    "duration": -62,
    "start_time": "2022-02-13T18:58:35.849Z"
   },
   {
    "duration": -63,
    "start_time": "2022-02-13T18:58:35.852Z"
   },
   {
    "duration": -65,
    "start_time": "2022-02-13T18:58:35.855Z"
   },
   {
    "duration": -66,
    "start_time": "2022-02-13T18:58:35.858Z"
   },
   {
    "duration": -69,
    "start_time": "2022-02-13T18:58:35.862Z"
   },
   {
    "duration": -72,
    "start_time": "2022-02-13T18:58:35.866Z"
   },
   {
    "duration": -74,
    "start_time": "2022-02-13T18:58:35.870Z"
   },
   {
    "duration": -97,
    "start_time": "2022-02-13T18:58:35.894Z"
   },
   {
    "duration": -100,
    "start_time": "2022-02-13T18:58:35.899Z"
   },
   {
    "duration": -102,
    "start_time": "2022-02-13T18:58:35.902Z"
   },
   {
    "duration": -104,
    "start_time": "2022-02-13T18:58:35.905Z"
   },
   {
    "duration": -106,
    "start_time": "2022-02-13T18:58:35.909Z"
   },
   {
    "duration": -108,
    "start_time": "2022-02-13T18:58:35.912Z"
   },
   {
    "duration": -109,
    "start_time": "2022-02-13T18:58:35.915Z"
   },
   {
    "duration": -112,
    "start_time": "2022-02-13T18:58:35.919Z"
   },
   {
    "duration": -113,
    "start_time": "2022-02-13T18:58:35.921Z"
   },
   {
    "duration": -78,
    "start_time": "2022-02-13T18:58:35.926Z"
   },
   {
    "duration": -91,
    "start_time": "2022-02-13T18:58:35.941Z"
   },
   {
    "duration": 1021,
    "start_time": "2022-02-13T18:59:29.573Z"
   },
   {
    "duration": 730,
    "start_time": "2022-02-13T18:59:41.424Z"
   },
   {
    "duration": 865,
    "start_time": "2022-02-13T19:01:32.102Z"
   },
   {
    "duration": 830,
    "start_time": "2022-02-13T19:02:52.952Z"
   },
   {
    "duration": 1996,
    "start_time": "2022-02-13T19:05:24.753Z"
   },
   {
    "duration": 661,
    "start_time": "2022-02-13T19:05:26.752Z"
   },
   {
    "duration": 164,
    "start_time": "2022-02-13T19:05:27.417Z"
   },
   {
    "duration": 238,
    "start_time": "2022-02-13T19:05:27.584Z"
   },
   {
    "duration": 7,
    "start_time": "2022-02-13T19:05:27.824Z"
   },
   {
    "duration": 31,
    "start_time": "2022-02-13T19:05:27.850Z"
   },
   {
    "duration": 30,
    "start_time": "2022-02-13T19:05:27.884Z"
   },
   {
    "duration": 20,
    "start_time": "2022-02-13T19:05:27.947Z"
   },
   {
    "duration": 341,
    "start_time": "2022-02-13T19:05:27.972Z"
   },
   {
    "duration": 35,
    "start_time": "2022-02-13T19:05:28.316Z"
   },
   {
    "duration": 327,
    "start_time": "2022-02-13T19:05:28.354Z"
   },
   {
    "duration": 113,
    "start_time": "2022-02-13T19:05:28.684Z"
   },
   {
    "duration": 333,
    "start_time": "2022-02-13T19:05:28.800Z"
   },
   {
    "duration": 47,
    "start_time": "2022-02-13T19:05:29.137Z"
   },
   {
    "duration": 114,
    "start_time": "2022-02-13T19:05:29.186Z"
   },
   {
    "duration": 107,
    "start_time": "2022-02-13T19:05:29.303Z"
   },
   {
    "duration": 205,
    "start_time": "2022-02-13T19:05:29.412Z"
   },
   {
    "duration": 56,
    "start_time": "2022-02-13T19:05:29.620Z"
   },
   {
    "duration": 13,
    "start_time": "2022-02-13T19:05:29.678Z"
   },
   {
    "duration": 77,
    "start_time": "2022-02-13T19:05:29.693Z"
   },
   {
    "duration": 93,
    "start_time": "2022-02-13T19:05:29.773Z"
   },
   {
    "duration": 217,
    "start_time": "2022-02-13T19:05:29.868Z"
   },
   {
    "duration": 42,
    "start_time": "2022-02-13T19:05:30.093Z"
   },
   {
    "duration": 50,
    "start_time": "2022-02-13T19:05:30.151Z"
   },
   {
    "duration": 19,
    "start_time": "2022-02-13T19:05:30.204Z"
   },
   {
    "duration": 19,
    "start_time": "2022-02-13T19:05:30.250Z"
   },
   {
    "duration": 36,
    "start_time": "2022-02-13T19:05:30.272Z"
   },
   {
    "duration": 57,
    "start_time": "2022-02-13T19:05:30.311Z"
   },
   {
    "duration": 36,
    "start_time": "2022-02-13T19:05:30.371Z"
   },
   {
    "duration": 75,
    "start_time": "2022-02-13T19:05:30.410Z"
   },
   {
    "duration": 16,
    "start_time": "2022-02-13T19:05:30.487Z"
   },
   {
    "duration": 71,
    "start_time": "2022-02-13T19:05:30.506Z"
   },
   {
    "duration": 44,
    "start_time": "2022-02-13T19:05:30.580Z"
   },
   {
    "duration": 58,
    "start_time": "2022-02-13T19:05:30.626Z"
   },
   {
    "duration": 543,
    "start_time": "2022-02-13T19:05:30.687Z"
   },
   {
    "duration": 545,
    "start_time": "2022-02-13T19:05:31.234Z"
   },
   {
    "duration": 774,
    "start_time": "2022-02-13T19:05:31.782Z"
   },
   {
    "duration": 451,
    "start_time": "2022-02-13T19:05:32.560Z"
   },
   {
    "duration": 501,
    "start_time": "2022-02-13T19:05:33.014Z"
   },
   {
    "duration": 346,
    "start_time": "2022-02-13T19:05:33.518Z"
   },
   {
    "duration": 460,
    "start_time": "2022-02-13T19:05:33.867Z"
   },
   {
    "duration": 6,
    "start_time": "2022-02-13T19:05:34.330Z"
   },
   {
    "duration": 63,
    "start_time": "2022-02-13T19:05:34.349Z"
   },
   {
    "duration": 362,
    "start_time": "2022-02-13T19:05:34.415Z"
   },
   {
    "duration": 428,
    "start_time": "2022-02-13T19:05:34.780Z"
   },
   {
    "duration": 9,
    "start_time": "2022-02-13T19:05:35.211Z"
   },
   {
    "duration": 27,
    "start_time": "2022-02-13T19:05:35.223Z"
   },
   {
    "duration": 10,
    "start_time": "2022-02-13T19:05:35.253Z"
   },
   {
    "duration": 38,
    "start_time": "2022-02-13T19:05:35.265Z"
   },
   {
    "duration": 5,
    "start_time": "2022-02-13T19:05:35.306Z"
   },
   {
    "duration": 42,
    "start_time": "2022-02-13T19:05:35.349Z"
   },
   {
    "duration": 6,
    "start_time": "2022-02-13T19:05:35.394Z"
   },
   {
    "duration": 555,
    "start_time": "2022-02-13T19:05:35.402Z"
   },
   {
    "duration": 688,
    "start_time": "2022-02-13T19:05:35.960Z"
   },
   {
    "duration": 8,
    "start_time": "2022-02-13T19:05:36.652Z"
   },
   {
    "duration": 739,
    "start_time": "2022-02-13T19:06:03.817Z"
   },
   {
    "duration": 753,
    "start_time": "2022-02-13T19:06:40.828Z"
   },
   {
    "duration": 989,
    "start_time": "2022-02-13T19:07:30.171Z"
   },
   {
    "duration": 688,
    "start_time": "2022-02-13T19:07:36.288Z"
   },
   {
    "duration": 756,
    "start_time": "2022-02-13T19:08:16.313Z"
   },
   {
    "duration": 921,
    "start_time": "2022-02-13T19:08:41.301Z"
   },
   {
    "duration": 1007,
    "start_time": "2022-02-13T19:08:53.503Z"
   },
   {
    "duration": 974,
    "start_time": "2022-02-13T19:09:22.065Z"
   },
   {
    "duration": 954,
    "start_time": "2022-02-13T19:09:29.828Z"
   },
   {
    "duration": 927,
    "start_time": "2022-02-13T19:10:48.725Z"
   },
   {
    "duration": 864,
    "start_time": "2022-02-13T19:11:24.533Z"
   },
   {
    "duration": 726,
    "start_time": "2022-02-13T19:11:30.784Z"
   },
   {
    "duration": 731,
    "start_time": "2022-02-13T19:12:14.457Z"
   },
   {
    "duration": 666,
    "start_time": "2022-02-13T19:12:21.363Z"
   },
   {
    "duration": 1220,
    "start_time": "2022-02-13T19:13:27.922Z"
   },
   {
    "duration": 9899,
    "start_time": "2022-02-13T19:13:37.326Z"
   },
   {
    "duration": 1103,
    "start_time": "2022-02-13T19:15:01.010Z"
   },
   {
    "duration": 666,
    "start_time": "2022-02-13T19:15:09.815Z"
   },
   {
    "duration": 890,
    "start_time": "2022-02-13T19:15:20.684Z"
   },
   {
    "duration": 694,
    "start_time": "2022-02-13T19:15:27.163Z"
   },
   {
    "duration": 1156,
    "start_time": "2022-02-13T19:15:39.714Z"
   },
   {
    "duration": 708,
    "start_time": "2022-02-13T19:15:49.051Z"
   },
   {
    "duration": 674,
    "start_time": "2022-02-13T19:15:53.517Z"
   },
   {
    "duration": 669,
    "start_time": "2022-02-13T19:16:04.156Z"
   },
   {
    "duration": 919,
    "start_time": "2022-02-13T19:16:06.889Z"
   },
   {
    "duration": 691,
    "start_time": "2022-02-13T19:16:28.947Z"
   },
   {
    "duration": 946,
    "start_time": "2022-02-13T19:16:53.537Z"
   },
   {
    "duration": 1036,
    "start_time": "2022-02-13T19:17:24.844Z"
   },
   {
    "duration": 711,
    "start_time": "2022-02-13T19:17:36.997Z"
   },
   {
    "duration": 773,
    "start_time": "2022-02-13T19:19:10.378Z"
   },
   {
    "duration": 1633,
    "start_time": "2022-02-13T19:24:28.720Z"
   },
   {
    "duration": 1564,
    "start_time": "2022-02-13T19:24:37.273Z"
   },
   {
    "duration": 1502,
    "start_time": "2022-02-13T19:27:34.034Z"
   },
   {
    "duration": 91,
    "start_time": "2022-02-13T19:28:08.126Z"
   },
   {
    "duration": 950,
    "start_time": "2022-02-13T19:28:19.094Z"
   },
   {
    "duration": 1191,
    "start_time": "2022-02-13T19:29:39.776Z"
   },
   {
    "duration": 1083,
    "start_time": "2022-02-13T19:29:51.530Z"
   },
   {
    "duration": 1084,
    "start_time": "2022-02-13T19:30:05.188Z"
   },
   {
    "duration": 794,
    "start_time": "2022-02-13T19:33:46.554Z"
   },
   {
    "duration": 706,
    "start_time": "2022-02-13T19:35:11.265Z"
   },
   {
    "duration": 788,
    "start_time": "2022-02-13T19:36:05.214Z"
   },
   {
    "duration": 759,
    "start_time": "2022-02-13T19:36:35.949Z"
   },
   {
    "duration": 759,
    "start_time": "2022-02-13T19:38:13.089Z"
   },
   {
    "duration": 709,
    "start_time": "2022-02-13T19:38:43.565Z"
   },
   {
    "duration": 648,
    "start_time": "2022-02-13T19:40:33.169Z"
   },
   {
    "duration": 928,
    "start_time": "2022-02-13T19:41:42.347Z"
   },
   {
    "duration": 1440,
    "start_time": "2022-02-13T19:45:14.172Z"
   },
   {
    "duration": 484,
    "start_time": "2022-02-13T19:45:15.615Z"
   },
   {
    "duration": 146,
    "start_time": "2022-02-13T19:45:16.102Z"
   },
   {
    "duration": 155,
    "start_time": "2022-02-13T19:45:16.251Z"
   },
   {
    "duration": 6,
    "start_time": "2022-02-13T19:45:16.409Z"
   },
   {
    "duration": 44,
    "start_time": "2022-02-13T19:45:16.417Z"
   },
   {
    "duration": 26,
    "start_time": "2022-02-13T19:45:16.464Z"
   },
   {
    "duration": 21,
    "start_time": "2022-02-13T19:45:16.494Z"
   },
   {
    "duration": 350,
    "start_time": "2022-02-13T19:45:16.519Z"
   },
   {
    "duration": 19,
    "start_time": "2022-02-13T19:45:16.872Z"
   },
   {
    "duration": 408,
    "start_time": "2022-02-13T19:45:16.894Z"
   },
   {
    "duration": 119,
    "start_time": "2022-02-13T19:45:17.306Z"
   },
   {
    "duration": 273,
    "start_time": "2022-02-13T19:45:17.427Z"
   },
   {
    "duration": 29,
    "start_time": "2022-02-13T19:45:17.703Z"
   },
   {
    "duration": 85,
    "start_time": "2022-02-13T19:45:17.735Z"
   },
   {
    "duration": 79,
    "start_time": "2022-02-13T19:45:17.823Z"
   },
   {
    "duration": 164,
    "start_time": "2022-02-13T19:45:17.904Z"
   },
   {
    "duration": 29,
    "start_time": "2022-02-13T19:45:18.070Z"
   },
   {
    "duration": 12,
    "start_time": "2022-02-13T19:45:18.101Z"
   },
   {
    "duration": 77,
    "start_time": "2022-02-13T19:45:18.115Z"
   },
   {
    "duration": 88,
    "start_time": "2022-02-13T19:45:18.194Z"
   },
   {
    "duration": 207,
    "start_time": "2022-02-13T19:45:18.285Z"
   },
   {
    "duration": 47,
    "start_time": "2022-02-13T19:45:18.500Z"
   },
   {
    "duration": 52,
    "start_time": "2022-02-13T19:45:18.551Z"
   },
   {
    "duration": 44,
    "start_time": "2022-02-13T19:45:18.605Z"
   },
   {
    "duration": 14,
    "start_time": "2022-02-13T19:45:18.652Z"
   },
   {
    "duration": 21,
    "start_time": "2022-02-13T19:45:18.668Z"
   },
   {
    "duration": 67,
    "start_time": "2022-02-13T19:45:18.691Z"
   },
   {
    "duration": 34,
    "start_time": "2022-02-13T19:45:18.761Z"
   },
   {
    "duration": 55,
    "start_time": "2022-02-13T19:45:18.798Z"
   },
   {
    "duration": 17,
    "start_time": "2022-02-13T19:45:18.856Z"
   },
   {
    "duration": 81,
    "start_time": "2022-02-13T19:45:18.876Z"
   },
   {
    "duration": 52,
    "start_time": "2022-02-13T19:45:18.959Z"
   },
   {
    "duration": 64,
    "start_time": "2022-02-13T19:45:19.014Z"
   },
   {
    "duration": 335,
    "start_time": "2022-02-13T19:45:19.081Z"
   },
   {
    "duration": 336,
    "start_time": "2022-02-13T19:45:19.419Z"
   },
   {
    "duration": 749,
    "start_time": "2022-02-13T19:45:19.758Z"
   },
   {
    "duration": 407,
    "start_time": "2022-02-13T19:45:20.510Z"
   },
   {
    "duration": 422,
    "start_time": "2022-02-13T19:45:20.920Z"
   },
   {
    "duration": 657,
    "start_time": "2022-02-13T19:45:21.344Z"
   },
   {
    "duration": 341,
    "start_time": "2022-02-13T19:45:22.004Z"
   },
   {
    "duration": 339,
    "start_time": "2022-02-13T19:45:22.349Z"
   },
   {
    "duration": 719,
    "start_time": "2022-02-13T19:45:22.691Z"
   },
   {
    "duration": 5,
    "start_time": "2022-02-13T19:45:23.413Z"
   },
   {
    "duration": 72,
    "start_time": "2022-02-13T19:45:23.421Z"
   },
   {
    "duration": 323,
    "start_time": "2022-02-13T19:45:23.496Z"
   },
   {
    "duration": 315,
    "start_time": "2022-02-13T19:45:23.821Z"
   },
   {
    "duration": 12,
    "start_time": "2022-02-13T19:45:24.139Z"
   },
   {
    "duration": 8,
    "start_time": "2022-02-13T19:45:24.154Z"
   },
   {
    "duration": 8,
    "start_time": "2022-02-13T19:45:24.164Z"
   },
   {
    "duration": 37,
    "start_time": "2022-02-13T19:45:24.174Z"
   },
   {
    "duration": 6,
    "start_time": "2022-02-13T19:45:24.248Z"
   },
   {
    "duration": 45,
    "start_time": "2022-02-13T19:45:24.257Z"
   },
   {
    "duration": 6,
    "start_time": "2022-02-13T19:45:24.304Z"
   },
   {
    "duration": 415,
    "start_time": "2022-02-13T19:45:24.312Z"
   },
   {
    "duration": 404,
    "start_time": "2022-02-13T19:45:24.729Z"
   },
   {
    "duration": 18,
    "start_time": "2022-02-13T19:45:25.136Z"
   }
  ],
  "kernelspec": {
   "display_name": "Python 3",
   "language": "python",
   "name": "python3"
  },
  "language_info": {
   "codemirror_mode": {
    "name": "ipython",
    "version": 3
   },
   "file_extension": ".py",
   "mimetype": "text/x-python",
   "name": "python",
   "nbconvert_exporter": "python",
   "pygments_lexer": "ipython3",
   "version": "3.9.0"
  },
  "toc": {
   "base_numbering": 1,
   "nav_menu": {},
   "number_sections": true,
   "sideBar": true,
   "skip_h1_title": true,
   "title_cell": "Содержание",
   "title_sidebar": "Содержание",
   "toc_cell": true,
   "toc_position": {
    "height": "calc(100% - 180px)",
    "left": "10px",
    "top": "150px",
    "width": "228.391px"
   },
   "toc_section_display": true,
   "toc_window_display": true
  }
 },
 "nbformat": 4,
 "nbformat_minor": 2
}

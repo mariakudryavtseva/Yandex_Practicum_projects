{
 "cells": [
  {
   "cell_type": "markdown",
   "metadata": {
    "toc": true
   },
   "source": [
    "<h1>Содержание<span class=\"tocSkip\"></span></h1>\n",
    "<div class=\"toc\"><ul class=\"toc-item\"><li><span><a href=\"#Обзор-данных\" data-toc-modified-id=\"Обзор-данных-1\"><span class=\"toc-item-num\">1&nbsp;&nbsp;</span>Обзор данных</a></span></li><li><span><a href=\"#Исследовательский-анализ-данных-(EDA)\" data-toc-modified-id=\"Исследовательский-анализ-данных-(EDA)-2\"><span class=\"toc-item-num\">2&nbsp;&nbsp;</span>Исследовательский анализ данных (EDA)</a></span></li><li><span><a href=\"#Модель-прогнозирования-оттока-клиентов\" data-toc-modified-id=\"Модель-прогнозирования-оттока-клиентов-3\"><span class=\"toc-item-num\">3&nbsp;&nbsp;</span>Модель прогнозирования оттока клиентов</a></span></li><li><span><a href=\"#Кластеризация-клиентов\" data-toc-modified-id=\"Кластеризация-клиентов-4\"><span class=\"toc-item-num\">4&nbsp;&nbsp;</span>Кластеризация клиентов</a></span></li><li><span><a href=\"#Общие-выводы-и-рекомендации\" data-toc-modified-id=\"Общие-выводы-и-рекомендации-5\"><span class=\"toc-item-num\">5&nbsp;&nbsp;</span>Общие выводы и рекомендации</a></span></li></ul></div>"
   ]
  },
  {
   "cell_type": "markdown",
   "metadata": {},
   "source": [
    "# Прогнозирование оттока клиентов сети фитнес-центров"
   ]
  },
  {
   "cell_type": "markdown",
   "metadata": {},
   "source": [
    "## Обзор данных"
   ]
  },
  {
   "cell_type": "markdown",
   "metadata": {},
   "source": [
    "Импортируем необходимые для работы библиотеки."
   ]
  },
  {
   "cell_type": "code",
   "execution_count": 1,
   "metadata": {},
   "outputs": [],
   "source": [
    "import pandas as pd\n",
    "import seaborn as sns\n",
    "import numpy as np\n",
    "import matplotlib.pyplot as plt\n",
    "from sklearn.preprocessing import StandardScaler\n",
    "from sklearn.model_selection import train_test_split\n",
    "from sklearn.linear_model import LogisticRegression\n",
    "from sklearn.ensemble import RandomForestClassifier\n",
    "from sklearn.metrics import accuracy_score, precision_score, recall_score, f1_score\n",
    "from sklearn.metrics import roc_auc_score\n",
    "from sklearn.cluster import KMeans\n",
    "from scipy.cluster.hierarchy import dendrogram, linkage "
   ]
  },
  {
   "cell_type": "markdown",
   "metadata": {},
   "source": [
    "Откроем файл с данными и изучим общую информацию."
   ]
  },
  {
   "cell_type": "code",
   "execution_count": 2,
   "metadata": {},
   "outputs": [],
   "source": [
    "gym_churn = pd.read_csv('/datasets/gym_churn.csv')"
   ]
  },
  {
   "cell_type": "code",
   "execution_count": 3,
   "metadata": {},
   "outputs": [
    {
     "data": {
      "text/html": [
       "<div>\n",
       "<style scoped>\n",
       "    .dataframe tbody tr th:only-of-type {\n",
       "        vertical-align: middle;\n",
       "    }\n",
       "\n",
       "    .dataframe tbody tr th {\n",
       "        vertical-align: top;\n",
       "    }\n",
       "\n",
       "    .dataframe thead th {\n",
       "        text-align: right;\n",
       "    }\n",
       "</style>\n",
       "<table border=\"1\" class=\"dataframe\">\n",
       "  <thead>\n",
       "    <tr style=\"text-align: right;\">\n",
       "      <th></th>\n",
       "      <th>gender</th>\n",
       "      <th>Near_Location</th>\n",
       "      <th>Partner</th>\n",
       "      <th>Promo_friends</th>\n",
       "      <th>Phone</th>\n",
       "      <th>Contract_period</th>\n",
       "      <th>Group_visits</th>\n",
       "      <th>Age</th>\n",
       "      <th>Avg_additional_charges_total</th>\n",
       "      <th>Month_to_end_contract</th>\n",
       "      <th>Lifetime</th>\n",
       "      <th>Avg_class_frequency_total</th>\n",
       "      <th>Avg_class_frequency_current_month</th>\n",
       "      <th>Churn</th>\n",
       "    </tr>\n",
       "  </thead>\n",
       "  <tbody>\n",
       "    <tr>\n",
       "      <td>0</td>\n",
       "      <td>1</td>\n",
       "      <td>1</td>\n",
       "      <td>1</td>\n",
       "      <td>1</td>\n",
       "      <td>0</td>\n",
       "      <td>6</td>\n",
       "      <td>1</td>\n",
       "      <td>29</td>\n",
       "      <td>14.227470</td>\n",
       "      <td>5.0</td>\n",
       "      <td>3</td>\n",
       "      <td>0.020398</td>\n",
       "      <td>0.000000</td>\n",
       "      <td>0</td>\n",
       "    </tr>\n",
       "    <tr>\n",
       "      <td>1</td>\n",
       "      <td>0</td>\n",
       "      <td>1</td>\n",
       "      <td>0</td>\n",
       "      <td>0</td>\n",
       "      <td>1</td>\n",
       "      <td>12</td>\n",
       "      <td>1</td>\n",
       "      <td>31</td>\n",
       "      <td>113.202938</td>\n",
       "      <td>12.0</td>\n",
       "      <td>7</td>\n",
       "      <td>1.922936</td>\n",
       "      <td>1.910244</td>\n",
       "      <td>0</td>\n",
       "    </tr>\n",
       "    <tr>\n",
       "      <td>2</td>\n",
       "      <td>0</td>\n",
       "      <td>1</td>\n",
       "      <td>1</td>\n",
       "      <td>0</td>\n",
       "      <td>1</td>\n",
       "      <td>1</td>\n",
       "      <td>0</td>\n",
       "      <td>28</td>\n",
       "      <td>129.448479</td>\n",
       "      <td>1.0</td>\n",
       "      <td>2</td>\n",
       "      <td>1.859098</td>\n",
       "      <td>1.736502</td>\n",
       "      <td>0</td>\n",
       "    </tr>\n",
       "    <tr>\n",
       "      <td>3</td>\n",
       "      <td>0</td>\n",
       "      <td>1</td>\n",
       "      <td>1</td>\n",
       "      <td>1</td>\n",
       "      <td>1</td>\n",
       "      <td>12</td>\n",
       "      <td>1</td>\n",
       "      <td>33</td>\n",
       "      <td>62.669863</td>\n",
       "      <td>12.0</td>\n",
       "      <td>2</td>\n",
       "      <td>3.205633</td>\n",
       "      <td>3.357215</td>\n",
       "      <td>0</td>\n",
       "    </tr>\n",
       "    <tr>\n",
       "      <td>4</td>\n",
       "      <td>1</td>\n",
       "      <td>1</td>\n",
       "      <td>1</td>\n",
       "      <td>1</td>\n",
       "      <td>1</td>\n",
       "      <td>1</td>\n",
       "      <td>0</td>\n",
       "      <td>26</td>\n",
       "      <td>198.362265</td>\n",
       "      <td>1.0</td>\n",
       "      <td>3</td>\n",
       "      <td>1.113884</td>\n",
       "      <td>1.120078</td>\n",
       "      <td>0</td>\n",
       "    </tr>\n",
       "  </tbody>\n",
       "</table>\n",
       "</div>"
      ],
      "text/plain": [
       "   gender  Near_Location  Partner  Promo_friends  Phone  Contract_period  \\\n",
       "0       1              1        1              1      0                6   \n",
       "1       0              1        0              0      1               12   \n",
       "2       0              1        1              0      1                1   \n",
       "3       0              1        1              1      1               12   \n",
       "4       1              1        1              1      1                1   \n",
       "\n",
       "   Group_visits  Age  Avg_additional_charges_total  Month_to_end_contract  \\\n",
       "0             1   29                     14.227470                    5.0   \n",
       "1             1   31                    113.202938                   12.0   \n",
       "2             0   28                    129.448479                    1.0   \n",
       "3             1   33                     62.669863                   12.0   \n",
       "4             0   26                    198.362265                    1.0   \n",
       "\n",
       "   Lifetime  Avg_class_frequency_total  Avg_class_frequency_current_month  \\\n",
       "0         3                   0.020398                           0.000000   \n",
       "1         7                   1.922936                           1.910244   \n",
       "2         2                   1.859098                           1.736502   \n",
       "3         2                   3.205633                           3.357215   \n",
       "4         3                   1.113884                           1.120078   \n",
       "\n",
       "   Churn  \n",
       "0      0  \n",
       "1      0  \n",
       "2      0  \n",
       "3      0  \n",
       "4      0  "
      ]
     },
     "execution_count": 3,
     "metadata": {},
     "output_type": "execute_result"
    }
   ],
   "source": [
    "# распечатаем первые 5 строк датасета\n",
    "gym_churn.head()"
   ]
  },
  {
   "cell_type": "code",
   "execution_count": 4,
   "metadata": {},
   "outputs": [
    {
     "name": "stdout",
     "output_type": "stream",
     "text": [
      "<class 'pandas.core.frame.DataFrame'>\n",
      "RangeIndex: 4000 entries, 0 to 3999\n",
      "Data columns (total 14 columns):\n",
      "gender                               4000 non-null int64\n",
      "Near_Location                        4000 non-null int64\n",
      "Partner                              4000 non-null int64\n",
      "Promo_friends                        4000 non-null int64\n",
      "Phone                                4000 non-null int64\n",
      "Contract_period                      4000 non-null int64\n",
      "Group_visits                         4000 non-null int64\n",
      "Age                                  4000 non-null int64\n",
      "Avg_additional_charges_total         4000 non-null float64\n",
      "Month_to_end_contract                4000 non-null float64\n",
      "Lifetime                             4000 non-null int64\n",
      "Avg_class_frequency_total            4000 non-null float64\n",
      "Avg_class_frequency_current_month    4000 non-null float64\n",
      "Churn                                4000 non-null int64\n",
      "dtypes: float64(4), int64(10)\n",
      "memory usage: 437.6 KB\n"
     ]
    }
   ],
   "source": [
    "# получение сводной информации о полученном датасете\n",
    "gym_churn.info()"
   ]
  },
  {
   "cell_type": "markdown",
   "metadata": {},
   "source": [
    "Согласно документации к данным таблица `gym_churn` содержит:\n",
    "* `Churn` — факт оттока в текущем месяце;\n",
    "\n",
    "Текущие поля в датасете:\n",
    "\n",
    "Данные клиента за предыдущий до проверки факта оттока месяц:\n",
    "* `gender` — пол;\n",
    "* `Near_Location` — проживание или работа в районе, где находится фитнес-центр;\n",
    "* `Partner` — сотрудник компании-партнёра клуба (сотрудничество с компаниями, чьи сотрудники могут получать скидки на абонемент — в таком случае фитнес-центр хранит информацию о работодателе клиента);\n",
    "* `Promo_friends` — факт первоначальной записи в рамках акции «приведи друга» (использовал промо-код от знакомого при оплате первого абонемента);\n",
    "* `Phone` — наличие контактного телефона;\n",
    "* `Age` — возраст;\n",
    "* `Lifetime` — время с момента первого обращения в фитнес-центр (в месяцах).\n",
    "\n",
    "Информация на основе журнала посещений, покупок и информация о текущем статусе абонемента клиента:\n",
    "* `Contract_period` — длительность текущего действующего абонемента (месяц, 3 месяца, 6 месяцев, год);\n",
    "* `Month_to_end_contract` — срок до окончания текущего действующего абонемента (в месяцах);\n",
    "* `Group_visits` — факт посещения групповых занятий;\n",
    "* `Avg_class_frequency_total` — средняя частота посещений в неделю за все время с начала действия абонемента;\n",
    "* `Avg_class_frequency_current_month` — средняя частота посещений в неделю за предыдущий месяц;\n",
    "* `Avg_additional_charges_total` — суммарная выручка от других услуг фитнес-центра: кафе, спорт-товары, косметический и массажный салон."
   ]
  },
  {
   "cell_type": "markdown",
   "metadata": {},
   "source": [
    "***Вывод***\n",
    "\n",
    "Данные были успешно извлечены из файла и мы определили, что пропущенных значений в таблице нет, поля датасета имеют соответствующий формат данных. Также мы изучили содержание полей полученной таблицы с информацией о клиентах фитнес-клуба. Названия столбцов датасета можно привести к единому представлению в нижнем регистре для удобства использования в дальнейшем исследовании."
   ]
  },
  {
   "cell_type": "markdown",
   "metadata": {},
   "source": [
    "## Исследовательский анализ данных (EDA)"
   ]
  },
  {
   "cell_type": "markdown",
   "metadata": {},
   "source": [
    "Проведем первоначальный анализ данных для оценки типа и качества признаков, их распределений и взаимных корреляций."
   ]
  },
  {
   "cell_type": "code",
   "execution_count": 5,
   "metadata": {},
   "outputs": [],
   "source": [
    "# приведем названия столбцов к нижнему регистру\n",
    "gym_churn.columns= gym_churn.columns.str.lower()"
   ]
  },
  {
   "cell_type": "code",
   "execution_count": 6,
   "metadata": {},
   "outputs": [
    {
     "name": "stdout",
     "output_type": "stream",
     "text": [
      "(4000, 14)\n"
     ]
    }
   ],
   "source": [
    "# распечатаем размер датасета\n",
    "print(gym_churn.shape)"
   ]
  },
  {
   "cell_type": "code",
   "execution_count": 7,
   "metadata": {},
   "outputs": [
    {
     "data": {
      "text/html": [
       "<div>\n",
       "<style scoped>\n",
       "    .dataframe tbody tr th:only-of-type {\n",
       "        vertical-align: middle;\n",
       "    }\n",
       "\n",
       "    .dataframe tbody tr th {\n",
       "        vertical-align: top;\n",
       "    }\n",
       "\n",
       "    .dataframe thead th {\n",
       "        text-align: right;\n",
       "    }\n",
       "</style>\n",
       "<table border=\"1\" class=\"dataframe\">\n",
       "  <thead>\n",
       "    <tr style=\"text-align: right;\">\n",
       "      <th></th>\n",
       "      <th>gender</th>\n",
       "      <th>near_location</th>\n",
       "      <th>partner</th>\n",
       "      <th>promo_friends</th>\n",
       "      <th>phone</th>\n",
       "      <th>contract_period</th>\n",
       "      <th>group_visits</th>\n",
       "      <th>age</th>\n",
       "      <th>avg_additional_charges_total</th>\n",
       "      <th>month_to_end_contract</th>\n",
       "      <th>lifetime</th>\n",
       "      <th>avg_class_frequency_total</th>\n",
       "      <th>avg_class_frequency_current_month</th>\n",
       "      <th>churn</th>\n",
       "    </tr>\n",
       "  </thead>\n",
       "  <tbody>\n",
       "    <tr>\n",
       "      <td>0</td>\n",
       "      <td>1</td>\n",
       "      <td>1</td>\n",
       "      <td>1</td>\n",
       "      <td>1</td>\n",
       "      <td>0</td>\n",
       "      <td>6</td>\n",
       "      <td>1</td>\n",
       "      <td>29</td>\n",
       "      <td>14.227470</td>\n",
       "      <td>5.0</td>\n",
       "      <td>3</td>\n",
       "      <td>0.020398</td>\n",
       "      <td>0.000000</td>\n",
       "      <td>0</td>\n",
       "    </tr>\n",
       "    <tr>\n",
       "      <td>1</td>\n",
       "      <td>0</td>\n",
       "      <td>1</td>\n",
       "      <td>0</td>\n",
       "      <td>0</td>\n",
       "      <td>1</td>\n",
       "      <td>12</td>\n",
       "      <td>1</td>\n",
       "      <td>31</td>\n",
       "      <td>113.202938</td>\n",
       "      <td>12.0</td>\n",
       "      <td>7</td>\n",
       "      <td>1.922936</td>\n",
       "      <td>1.910244</td>\n",
       "      <td>0</td>\n",
       "    </tr>\n",
       "    <tr>\n",
       "      <td>2</td>\n",
       "      <td>0</td>\n",
       "      <td>1</td>\n",
       "      <td>1</td>\n",
       "      <td>0</td>\n",
       "      <td>1</td>\n",
       "      <td>1</td>\n",
       "      <td>0</td>\n",
       "      <td>28</td>\n",
       "      <td>129.448479</td>\n",
       "      <td>1.0</td>\n",
       "      <td>2</td>\n",
       "      <td>1.859098</td>\n",
       "      <td>1.736502</td>\n",
       "      <td>0</td>\n",
       "    </tr>\n",
       "    <tr>\n",
       "      <td>3</td>\n",
       "      <td>0</td>\n",
       "      <td>1</td>\n",
       "      <td>1</td>\n",
       "      <td>1</td>\n",
       "      <td>1</td>\n",
       "      <td>12</td>\n",
       "      <td>1</td>\n",
       "      <td>33</td>\n",
       "      <td>62.669863</td>\n",
       "      <td>12.0</td>\n",
       "      <td>2</td>\n",
       "      <td>3.205633</td>\n",
       "      <td>3.357215</td>\n",
       "      <td>0</td>\n",
       "    </tr>\n",
       "    <tr>\n",
       "      <td>4</td>\n",
       "      <td>1</td>\n",
       "      <td>1</td>\n",
       "      <td>1</td>\n",
       "      <td>1</td>\n",
       "      <td>1</td>\n",
       "      <td>1</td>\n",
       "      <td>0</td>\n",
       "      <td>26</td>\n",
       "      <td>198.362265</td>\n",
       "      <td>1.0</td>\n",
       "      <td>3</td>\n",
       "      <td>1.113884</td>\n",
       "      <td>1.120078</td>\n",
       "      <td>0</td>\n",
       "    </tr>\n",
       "  </tbody>\n",
       "</table>\n",
       "</div>"
      ],
      "text/plain": [
       "   gender  near_location  partner  promo_friends  phone  contract_period  \\\n",
       "0       1              1        1              1      0                6   \n",
       "1       0              1        0              0      1               12   \n",
       "2       0              1        1              0      1                1   \n",
       "3       0              1        1              1      1               12   \n",
       "4       1              1        1              1      1                1   \n",
       "\n",
       "   group_visits  age  avg_additional_charges_total  month_to_end_contract  \\\n",
       "0             1   29                     14.227470                    5.0   \n",
       "1             1   31                    113.202938                   12.0   \n",
       "2             0   28                    129.448479                    1.0   \n",
       "3             1   33                     62.669863                   12.0   \n",
       "4             0   26                    198.362265                    1.0   \n",
       "\n",
       "   lifetime  avg_class_frequency_total  avg_class_frequency_current_month  \\\n",
       "0         3                   0.020398                           0.000000   \n",
       "1         7                   1.922936                           1.910244   \n",
       "2         2                   1.859098                           1.736502   \n",
       "3         2                   3.205633                           3.357215   \n",
       "4         3                   1.113884                           1.120078   \n",
       "\n",
       "   churn  \n",
       "0      0  \n",
       "1      0  \n",
       "2      0  \n",
       "3      0  \n",
       "4      0  "
      ]
     },
     "execution_count": 7,
     "metadata": {},
     "output_type": "execute_result"
    }
   ],
   "source": [
    "# распечатаем первые 5 строк датасета\n",
    "gym_churn.head()"
   ]
  },
  {
   "cell_type": "markdown",
   "metadata": {},
   "source": [
    "Таблица с данными состоит из 4000 наблюдений и 14 полей признаков. Поля признаков делятся на числовые и категориальные. \n",
    "\n",
    "Числовые признаки:\n",
    "1. `age`\n",
    "2. `avg_additional_charges_total`\n",
    "3. `month_to_end_contract`\n",
    "4. `lifetime`\n",
    "5. `avg_class_frequency_total`\n",
    "6. `avg_class_frequency_current_month`\n",
    "\n",
    "Категориальные признаки:\n",
    "1. `gender`\n",
    "2. `near_location`\n",
    "3. `partner`\n",
    "4. `promo_friends`\n",
    "5. `phone`\n",
    "6. `contract_period`\n",
    "7. `group_visits`\n",
    "8. `churn`\n",
    "\n",
    "Категориальная переменная `contract_period` может принимать одно из 3 значений (классов): `1`, `6`, `12`, а категориальное поле `gender` — `1` или `0` (допустим, что `1` — мужчина, `0` — женщина). Категориальная переменная `churn`, описывающая факт оттока клиента, принимает также два значения: `1` — клиент ушел (перестал пользоваться сервисом), `0` — клиент остался (продолжает пользоваться сервисом). Остальные категориальные поля также представлены двумя классами значений: `1` (есть признак) и `0` (нет признака). Здесь можно обозначить, что целевой переменной для нас является категориальная переменная `churn`.\n",
    "\n",
    "Отсутствующих значений в признаках не обнаружено."
   ]
  },
  {
   "cell_type": "markdown",
   "metadata": {},
   "source": [
    "Посмотрим на средние значения и стандартные отклонения числовых признаков."
   ]
  },
  {
   "cell_type": "code",
   "execution_count": 8,
   "metadata": {},
   "outputs": [
    {
     "data": {
      "text/html": [
       "<div>\n",
       "<style scoped>\n",
       "    .dataframe tbody tr th:only-of-type {\n",
       "        vertical-align: middle;\n",
       "    }\n",
       "\n",
       "    .dataframe tbody tr th {\n",
       "        vertical-align: top;\n",
       "    }\n",
       "\n",
       "    .dataframe thead th {\n",
       "        text-align: right;\n",
       "    }\n",
       "</style>\n",
       "<table border=\"1\" class=\"dataframe\">\n",
       "  <thead>\n",
       "    <tr style=\"text-align: right;\">\n",
       "      <th></th>\n",
       "      <th>age</th>\n",
       "      <th>avg_additional_charges_total</th>\n",
       "      <th>month_to_end_contract</th>\n",
       "      <th>lifetime</th>\n",
       "      <th>avg_class_frequency_total</th>\n",
       "      <th>avg_class_frequency_current_month</th>\n",
       "    </tr>\n",
       "  </thead>\n",
       "  <tbody>\n",
       "    <tr>\n",
       "      <td>count</td>\n",
       "      <td>4000.000000</td>\n",
       "      <td>4000.000000</td>\n",
       "      <td>4000.000000</td>\n",
       "      <td>4000.000000</td>\n",
       "      <td>4000.000000</td>\n",
       "      <td>4000.000000</td>\n",
       "    </tr>\n",
       "    <tr>\n",
       "      <td>mean</td>\n",
       "      <td>29.184250</td>\n",
       "      <td>146.943728</td>\n",
       "      <td>4.322750</td>\n",
       "      <td>3.724750</td>\n",
       "      <td>1.879020</td>\n",
       "      <td>1.767052</td>\n",
       "    </tr>\n",
       "    <tr>\n",
       "      <td>std</td>\n",
       "      <td>3.258367</td>\n",
       "      <td>96.355602</td>\n",
       "      <td>4.191297</td>\n",
       "      <td>3.749267</td>\n",
       "      <td>0.972245</td>\n",
       "      <td>1.052906</td>\n",
       "    </tr>\n",
       "    <tr>\n",
       "      <td>min</td>\n",
       "      <td>18.000000</td>\n",
       "      <td>0.148205</td>\n",
       "      <td>1.000000</td>\n",
       "      <td>0.000000</td>\n",
       "      <td>0.000000</td>\n",
       "      <td>0.000000</td>\n",
       "    </tr>\n",
       "    <tr>\n",
       "      <td>25%</td>\n",
       "      <td>27.000000</td>\n",
       "      <td>68.868830</td>\n",
       "      <td>1.000000</td>\n",
       "      <td>1.000000</td>\n",
       "      <td>1.180875</td>\n",
       "      <td>0.963003</td>\n",
       "    </tr>\n",
       "    <tr>\n",
       "      <td>50%</td>\n",
       "      <td>29.000000</td>\n",
       "      <td>136.220159</td>\n",
       "      <td>1.000000</td>\n",
       "      <td>3.000000</td>\n",
       "      <td>1.832768</td>\n",
       "      <td>1.719574</td>\n",
       "    </tr>\n",
       "    <tr>\n",
       "      <td>75%</td>\n",
       "      <td>31.000000</td>\n",
       "      <td>210.949625</td>\n",
       "      <td>6.000000</td>\n",
       "      <td>5.000000</td>\n",
       "      <td>2.536078</td>\n",
       "      <td>2.510336</td>\n",
       "    </tr>\n",
       "    <tr>\n",
       "      <td>max</td>\n",
       "      <td>41.000000</td>\n",
       "      <td>552.590740</td>\n",
       "      <td>12.000000</td>\n",
       "      <td>31.000000</td>\n",
       "      <td>6.023668</td>\n",
       "      <td>6.146783</td>\n",
       "    </tr>\n",
       "  </tbody>\n",
       "</table>\n",
       "</div>"
      ],
      "text/plain": [
       "               age  avg_additional_charges_total  month_to_end_contract  \\\n",
       "count  4000.000000                   4000.000000            4000.000000   \n",
       "mean     29.184250                    146.943728               4.322750   \n",
       "std       3.258367                     96.355602               4.191297   \n",
       "min      18.000000                      0.148205               1.000000   \n",
       "25%      27.000000                     68.868830               1.000000   \n",
       "50%      29.000000                    136.220159               1.000000   \n",
       "75%      31.000000                    210.949625               6.000000   \n",
       "max      41.000000                    552.590740              12.000000   \n",
       "\n",
       "          lifetime  avg_class_frequency_total  \\\n",
       "count  4000.000000                4000.000000   \n",
       "mean      3.724750                   1.879020   \n",
       "std       3.749267                   0.972245   \n",
       "min       0.000000                   0.000000   \n",
       "25%       1.000000                   1.180875   \n",
       "50%       3.000000                   1.832768   \n",
       "75%       5.000000                   2.536078   \n",
       "max      31.000000                   6.023668   \n",
       "\n",
       "       avg_class_frequency_current_month  \n",
       "count                        4000.000000  \n",
       "mean                            1.767052  \n",
       "std                             1.052906  \n",
       "min                             0.000000  \n",
       "25%                             0.963003  \n",
       "50%                             1.719574  \n",
       "75%                             2.510336  \n",
       "max                             6.146783  "
      ]
     },
     "execution_count": 8,
     "metadata": {},
     "output_type": "execute_result"
    }
   ],
   "source": [
    "# выделение числовых полей\n",
    "num_columns = ['age', \n",
    "           'avg_additional_charges_total', \n",
    "           'month_to_end_contract', \n",
    "           'lifetime',\n",
    "           'avg_class_frequency_total', \n",
    "           'avg_class_frequency_current_month']\n",
    "\n",
    "# выделение категориальных полей\n",
    "cat_columns = ['gender',\n",
    "            'near_location',\n",
    "            'partner',\n",
    "            'promo_friends',\n",
    "            'phone',\n",
    "            'contract_period',\n",
    "            'group_visits',\n",
    "            'churn']\n",
    "\n",
    "# датасет с числовыми значениями признаков\n",
    "gym_num_columns = gym_churn[num_columns]\n",
    "# числовое описание данных полученного датасета\n",
    "gym_num_columns.describe()"
   ]
  },
  {
   "cell_type": "markdown",
   "metadata": {},
   "source": [
    "По этой информации мы получили представление о средних значениях численных признаков клиентов и можем также заметить высокие значения страндартного отклонения для полей `avg_additional_charges_total`, `month_to_end_contract`, `lifetime`, `avg_class_frequency_total` и `avg_class_frequency_current_month` относительно их средних значений. Что означает, что в полях есть аномалии или выбивающиеся значения. Также это может говорить о том, что данные признаков необходимо будет стандартизировать перед обучением моделей прогнозирования для приведения их к одному масштабу."
   ]
  },
  {
   "cell_type": "markdown",
   "metadata": {},
   "source": [
    "Аномальные значения также мы можем пояснить следующим образом. Некоторые пользователи могли тратить больше средств на дополнительные услуги фитнес-центра, чем основная масса клиентов. У части пользователей действие абонемента только началось, а у других подходит к концу. Здесь же видим клиентов, у которых лайфтайм достаточно большой, что возможно, если текущий абонемент для клиента не первый и он пользуется услугами центра несколько лет. Наконец, средняя частота в неделю для клиентов может разниться: большинство посещает фитнес-клуб пару раз в неделю, а небольшая часть может приходить каждый день. \n",
    "\n",
    "Таким образом, необъяснимо аномальных значений выявлено не было и можно придти к выводу, что обнаруженные выбивающиеся значения имеют место быть в реальной жизни и не являются ошибками."
   ]
  },
  {
   "cell_type": "markdown",
   "metadata": {},
   "source": [
    "Кроме того, по полученным данным мы можем составить представление о среднестатистическом клиенте фитнес-клуба. Это клиент около 30 лет, посещающий фитнес-клуб в среднем около 2 раз в неделю, имеющий небольшой лайфтайм (3-5) и короткий по длительности абонемент (1-3)."
   ]
  },
  {
   "cell_type": "markdown",
   "metadata": {},
   "source": [
    "Теперь посмотрим на средние значения числовых признаков в двух группах — тех, кто ушел в отток и тех, кто остался."
   ]
  },
  {
   "cell_type": "code",
   "execution_count": 9,
   "metadata": {},
   "outputs": [
    {
     "data": {
      "text/html": [
       "<div>\n",
       "<style scoped>\n",
       "    .dataframe tbody tr th:only-of-type {\n",
       "        vertical-align: middle;\n",
       "    }\n",
       "\n",
       "    .dataframe tbody tr th {\n",
       "        vertical-align: top;\n",
       "    }\n",
       "\n",
       "    .dataframe thead th {\n",
       "        text-align: right;\n",
       "    }\n",
       "</style>\n",
       "<table border=\"1\" class=\"dataframe\">\n",
       "  <thead>\n",
       "    <tr style=\"text-align: right;\">\n",
       "      <th></th>\n",
       "      <th>age</th>\n",
       "      <th>avg_additional_charges_total</th>\n",
       "      <th>month_to_end_contract</th>\n",
       "      <th>lifetime</th>\n",
       "      <th>avg_class_frequency_total</th>\n",
       "      <th>avg_class_frequency_current_month</th>\n",
       "    </tr>\n",
       "    <tr>\n",
       "      <th>churn</th>\n",
       "      <th></th>\n",
       "      <th></th>\n",
       "      <th></th>\n",
       "      <th></th>\n",
       "      <th></th>\n",
       "      <th></th>\n",
       "    </tr>\n",
       "  </thead>\n",
       "  <tbody>\n",
       "    <tr>\n",
       "      <td>0</td>\n",
       "      <td>29.976523</td>\n",
       "      <td>158.445715</td>\n",
       "      <td>5.283089</td>\n",
       "      <td>4.711807</td>\n",
       "      <td>2.024876</td>\n",
       "      <td>2.027882</td>\n",
       "    </tr>\n",
       "    <tr>\n",
       "      <td>1</td>\n",
       "      <td>26.989632</td>\n",
       "      <td>115.082899</td>\n",
       "      <td>1.662582</td>\n",
       "      <td>0.990575</td>\n",
       "      <td>1.474995</td>\n",
       "      <td>1.044546</td>\n",
       "    </tr>\n",
       "  </tbody>\n",
       "</table>\n",
       "</div>"
      ],
      "text/plain": [
       "             age  avg_additional_charges_total  month_to_end_contract  \\\n",
       "churn                                                                   \n",
       "0      29.976523                    158.445715               5.283089   \n",
       "1      26.989632                    115.082899               1.662582   \n",
       "\n",
       "       lifetime  avg_class_frequency_total  avg_class_frequency_current_month  \n",
       "churn                                                                          \n",
       "0      4.711807                   2.024876                           2.027882  \n",
       "1      0.990575                   1.474995                           1.044546  "
      ]
     },
     "execution_count": 9,
     "metadata": {},
     "output_type": "execute_result"
    }
   ],
   "source": [
    "# группируем по факту оттока, считаем среднее значение\n",
    "# для числовых полей\n",
    "gym_churn_mean = gym_churn.groupby('churn').apply(lambda x: x.mean())[num_columns]\n",
    "gym_churn_mean"
   ]
  },
  {
   "cell_type": "markdown",
   "metadata": {},
   "source": [
    "По полученным средним значениям признаков для двух групп мы можем сказать, что показатели клиентов, покинувших сервис, ниже, чем тех кто остался. Это касается среднего возраста клиента, трат на дополнительные услуги, среднего количества посещений. Лайфтайм ушедших пользователей в среднем тоже ниже, как и количество месяцев до окончания абонемента."
   ]
  },
  {
   "cell_type": "markdown",
   "metadata": {},
   "source": [
    "Построим столбчатые гистограммы и распределения признаков для тех, кто ушёл (отток) и тех, кто остался (не попали в отток). Так мы можем еще раз проверить значения признаков на аномалии и понять как ведет себя каждый из них."
   ]
  },
  {
   "cell_type": "code",
   "execution_count": 10,
   "metadata": {},
   "outputs": [],
   "source": [
    "# записываем в датасет только строки с теми, кто остался\n",
    "gym_churn_stay = gym_churn.query(\"churn == '0'\")\n",
    "# записываем в датасет только строки с теми, кто ушел\n",
    "gym_churn_leave = gym_churn.query(\"churn == '1'\")"
   ]
  },
  {
   "cell_type": "code",
   "execution_count": 11,
   "metadata": {
    "scrolled": true
   },
   "outputs": [
    {
     "data": {
      "image/png": "[encoded data removed]",
      "text/plain": [
       "<Figure size 1296x720 with 6 Axes>"
      ]
     },
     "metadata": {
      "needs_background": "light"
     },
     "output_type": "display_data"
    }
   ],
   "source": [
    "# строим гистограммы распределения для числовых\n",
    "# признаков для группы не попавших в отток\n",
    "fig, axes = plt.subplots(ncols=3, nrows=2, figsize=(18, 10))\n",
    "\n",
    "for feature, ax in zip(num_columns, axes.flat):\n",
    "    sns.distplot(gym_churn_stay[feature], bins=10, ax=ax)    "
   ]
  },
  {
   "cell_type": "code",
   "execution_count": 12,
   "metadata": {
    "scrolled": true
   },
   "outputs": [
    {
     "data": {
      "image/png": "[encoded data removed]",
      "text/plain": [
       "<Figure size 1080x720 with 8 Axes>"
      ]
     },
     "metadata": {
      "needs_background": "light"
     },
     "output_type": "display_data"
    }
   ],
   "source": [
    "# строим столбчатые диаграммы для категориальных\n",
    "# признаков для группы не попавших в отток\n",
    "fig, axes = plt.subplots(ncols=4, nrows=2, figsize=(18, 10))\n",
    "\n",
    "for feature, ax in zip(cat_columns, axes.flat):\n",
    "    gym_churn_stay.groupby(feature)[feature].count().plot(kind='bar', \n",
    "                grid=True, \n",
    "                figsize=(15, 10), \n",
    "                legend=False, \n",
    "                ax=ax)"
   ]
  },
  {
   "cell_type": "code",
   "execution_count": 13,
   "metadata": {
    "scrolled": true
   },
   "outputs": [
    {
     "data": {
      "image/png": "[encoded data removed]",
      "text/plain": [
       "<Figure size 1296x720 with 6 Axes>"
      ]
     },
     "metadata": {
      "needs_background": "light"
     },
     "output_type": "display_data"
    }
   ],
   "source": [
    "# строим гистограммы распределения для числовых\n",
    "# признаков для группы попавших в отток\n",
    "fig, axes = plt.subplots(ncols=3, nrows=2, figsize=(18, 10))\n",
    "\n",
    "for feature, ax in zip(num_columns, axes.flat):\n",
    "    sns.distplot(gym_churn_leave[feature], bins=10, ax=ax)   "
   ]
  },
  {
   "cell_type": "code",
   "execution_count": 14,
   "metadata": {
    "scrolled": true
   },
   "outputs": [
    {
     "data": {
      "image/png": "[encoded data removed]",
      "text/plain": [
       "<Figure size 1080x720 with 8 Axes>"
      ]
     },
     "metadata": {
      "needs_background": "light"
     },
     "output_type": "display_data"
    }
   ],
   "source": [
    "# строим столбчатые диаграммы для категориальных\n",
    "# признаков для группы попавших в отток\n",
    "fig, axes = plt.subplots(ncols=4, nrows=2, figsize=(18, 10))\n",
    "\n",
    "for feature, ax in zip(cat_columns, axes.flat):\n",
    "    gym_churn_leave.groupby(feature)[feature].count().plot(kind='bar', \n",
    "                grid=True, \n",
    "                figsize=(15, 10), \n",
    "                legend=False, \n",
    "                ax=ax)"
   ]
  },
  {
   "cell_type": "markdown",
   "metadata": {},
   "source": [
    "Численные признаки ведут себя нормально или близко к нормальному, а категориальные признаки принимают только известные значения из классов.\n",
    "\n",
    "Также взгляд на гистограммы позволил составить общее впечатление о клиентах, которые остались и которые покинули сервис. Например, возраст и лайфтайм основной массы оставшихся чуть выше чем у тех кто ушел. Те кто остался посещали центр за весь срок чаще, чем те кто покинул сервис. Соотношение попавших в отток клиентов по полу не отличается от тех кто остался: доля `gender \"1\"` чуть выше в обоих выборках. А доля клиентов, являющиеся сотрудниками компаний-партнеров, в группе не попавших в отток выше, чем в группе тех кто ушел."
   ]
  },
  {
   "cell_type": "markdown",
   "metadata": {},
   "source": [
    "Вычислим матрицу корреляций для всех признаков и отобразим ее."
   ]
  },
  {
   "cell_type": "code",
   "execution_count": 15,
   "metadata": {},
   "outputs": [
    {
     "data": {
      "text/html": [
       "<div>\n",
       "<style scoped>\n",
       "    .dataframe tbody tr th:only-of-type {\n",
       "        vertical-align: middle;\n",
       "    }\n",
       "\n",
       "    .dataframe tbody tr th {\n",
       "        vertical-align: top;\n",
       "    }\n",
       "\n",
       "    .dataframe thead th {\n",
       "        text-align: right;\n",
       "    }\n",
       "</style>\n",
       "<table border=\"1\" class=\"dataframe\">\n",
       "  <thead>\n",
       "    <tr style=\"text-align: right;\">\n",
       "      <th></th>\n",
       "      <th>gender</th>\n",
       "      <th>near_location</th>\n",
       "      <th>partner</th>\n",
       "      <th>promo_friends</th>\n",
       "      <th>phone</th>\n",
       "      <th>contract_period</th>\n",
       "      <th>group_visits</th>\n",
       "      <th>age</th>\n",
       "      <th>avg_additional_charges_total</th>\n",
       "      <th>month_to_end_contract</th>\n",
       "      <th>lifetime</th>\n",
       "      <th>avg_class_frequency_total</th>\n",
       "      <th>avg_class_frequency_current_month</th>\n",
       "      <th>churn</th>\n",
       "    </tr>\n",
       "  </thead>\n",
       "  <tbody>\n",
       "    <tr>\n",
       "      <td>gender</td>\n",
       "      <td>1.000000</td>\n",
       "      <td>0.006699</td>\n",
       "      <td>-0.010463</td>\n",
       "      <td>-0.005033</td>\n",
       "      <td>-0.008542</td>\n",
       "      <td>0.000502</td>\n",
       "      <td>0.017879</td>\n",
       "      <td>0.013807</td>\n",
       "      <td>-0.009334</td>\n",
       "      <td>-0.001281</td>\n",
       "      <td>0.013579</td>\n",
       "      <td>0.014620</td>\n",
       "      <td>0.009156</td>\n",
       "      <td>0.000708</td>\n",
       "    </tr>\n",
       "    <tr>\n",
       "      <td>near_location</td>\n",
       "      <td>0.006699</td>\n",
       "      <td>1.000000</td>\n",
       "      <td>-0.005119</td>\n",
       "      <td>0.210964</td>\n",
       "      <td>-0.015763</td>\n",
       "      <td>0.150233</td>\n",
       "      <td>0.154728</td>\n",
       "      <td>0.058358</td>\n",
       "      <td>0.040761</td>\n",
       "      <td>0.143961</td>\n",
       "      <td>0.070921</td>\n",
       "      <td>0.043127</td>\n",
       "      <td>0.062664</td>\n",
       "      <td>-0.128098</td>\n",
       "    </tr>\n",
       "    <tr>\n",
       "      <td>partner</td>\n",
       "      <td>-0.010463</td>\n",
       "      <td>-0.005119</td>\n",
       "      <td>1.000000</td>\n",
       "      <td>0.451960</td>\n",
       "      <td>0.009970</td>\n",
       "      <td>0.306166</td>\n",
       "      <td>0.022710</td>\n",
       "      <td>0.047480</td>\n",
       "      <td>0.022941</td>\n",
       "      <td>0.294632</td>\n",
       "      <td>0.061229</td>\n",
       "      <td>0.024938</td>\n",
       "      <td>0.045561</td>\n",
       "      <td>-0.157986</td>\n",
       "    </tr>\n",
       "    <tr>\n",
       "      <td>promo_friends</td>\n",
       "      <td>-0.005033</td>\n",
       "      <td>0.210964</td>\n",
       "      <td>0.451960</td>\n",
       "      <td>1.000000</td>\n",
       "      <td>0.001982</td>\n",
       "      <td>0.244552</td>\n",
       "      <td>0.120170</td>\n",
       "      <td>0.050113</td>\n",
       "      <td>0.036898</td>\n",
       "      <td>0.239553</td>\n",
       "      <td>0.072721</td>\n",
       "      <td>0.028063</td>\n",
       "      <td>0.053768</td>\n",
       "      <td>-0.162233</td>\n",
       "    </tr>\n",
       "    <tr>\n",
       "      <td>phone</td>\n",
       "      <td>-0.008542</td>\n",
       "      <td>-0.015763</td>\n",
       "      <td>0.009970</td>\n",
       "      <td>0.001982</td>\n",
       "      <td>1.000000</td>\n",
       "      <td>-0.006893</td>\n",
       "      <td>-0.010099</td>\n",
       "      <td>-0.011403</td>\n",
       "      <td>0.009279</td>\n",
       "      <td>-0.011196</td>\n",
       "      <td>-0.018801</td>\n",
       "      <td>0.008340</td>\n",
       "      <td>0.013375</td>\n",
       "      <td>-0.001177</td>\n",
       "    </tr>\n",
       "    <tr>\n",
       "      <td>contract_period</td>\n",
       "      <td>0.000502</td>\n",
       "      <td>0.150233</td>\n",
       "      <td>0.306166</td>\n",
       "      <td>0.244552</td>\n",
       "      <td>-0.006893</td>\n",
       "      <td>1.000000</td>\n",
       "      <td>0.169991</td>\n",
       "      <td>0.138249</td>\n",
       "      <td>0.111445</td>\n",
       "      <td>0.973064</td>\n",
       "      <td>0.170725</td>\n",
       "      <td>0.096211</td>\n",
       "      <td>0.159407</td>\n",
       "      <td>-0.389984</td>\n",
       "    </tr>\n",
       "    <tr>\n",
       "      <td>group_visits</td>\n",
       "      <td>0.017879</td>\n",
       "      <td>0.154728</td>\n",
       "      <td>0.022710</td>\n",
       "      <td>0.120170</td>\n",
       "      <td>-0.010099</td>\n",
       "      <td>0.169991</td>\n",
       "      <td>1.000000</td>\n",
       "      <td>0.080934</td>\n",
       "      <td>0.032079</td>\n",
       "      <td>0.163703</td>\n",
       "      <td>0.075853</td>\n",
       "      <td>0.056695</td>\n",
       "      <td>0.075923</td>\n",
       "      <td>-0.175325</td>\n",
       "    </tr>\n",
       "    <tr>\n",
       "      <td>age</td>\n",
       "      <td>0.013807</td>\n",
       "      <td>0.058358</td>\n",
       "      <td>0.047480</td>\n",
       "      <td>0.050113</td>\n",
       "      <td>-0.011403</td>\n",
       "      <td>0.138249</td>\n",
       "      <td>0.080934</td>\n",
       "      <td>1.000000</td>\n",
       "      <td>0.080240</td>\n",
       "      <td>0.134511</td>\n",
       "      <td>0.164693</td>\n",
       "      <td>0.119953</td>\n",
       "      <td>0.183095</td>\n",
       "      <td>-0.404735</td>\n",
       "    </tr>\n",
       "    <tr>\n",
       "      <td>avg_additional_charges_total</td>\n",
       "      <td>-0.009334</td>\n",
       "      <td>0.040761</td>\n",
       "      <td>0.022941</td>\n",
       "      <td>0.036898</td>\n",
       "      <td>0.009279</td>\n",
       "      <td>0.111445</td>\n",
       "      <td>0.032079</td>\n",
       "      <td>0.080240</td>\n",
       "      <td>1.000000</td>\n",
       "      <td>0.113958</td>\n",
       "      <td>0.079028</td>\n",
       "      <td>0.044426</td>\n",
       "      <td>0.079570</td>\n",
       "      <td>-0.198697</td>\n",
       "    </tr>\n",
       "    <tr>\n",
       "      <td>month_to_end_contract</td>\n",
       "      <td>-0.001281</td>\n",
       "      <td>0.143961</td>\n",
       "      <td>0.294632</td>\n",
       "      <td>0.239553</td>\n",
       "      <td>-0.011196</td>\n",
       "      <td>0.973064</td>\n",
       "      <td>0.163703</td>\n",
       "      <td>0.134511</td>\n",
       "      <td>0.113958</td>\n",
       "      <td>1.000000</td>\n",
       "      <td>0.161078</td>\n",
       "      <td>0.085387</td>\n",
       "      <td>0.147605</td>\n",
       "      <td>-0.381393</td>\n",
       "    </tr>\n",
       "    <tr>\n",
       "      <td>lifetime</td>\n",
       "      <td>0.013579</td>\n",
       "      <td>0.070921</td>\n",
       "      <td>0.061229</td>\n",
       "      <td>0.072721</td>\n",
       "      <td>-0.018801</td>\n",
       "      <td>0.170725</td>\n",
       "      <td>0.075853</td>\n",
       "      <td>0.164693</td>\n",
       "      <td>0.079028</td>\n",
       "      <td>0.161078</td>\n",
       "      <td>1.000000</td>\n",
       "      <td>0.112338</td>\n",
       "      <td>0.181975</td>\n",
       "      <td>-0.438220</td>\n",
       "    </tr>\n",
       "    <tr>\n",
       "      <td>avg_class_frequency_total</td>\n",
       "      <td>0.014620</td>\n",
       "      <td>0.043127</td>\n",
       "      <td>0.024938</td>\n",
       "      <td>0.028063</td>\n",
       "      <td>0.008340</td>\n",
       "      <td>0.096211</td>\n",
       "      <td>0.056695</td>\n",
       "      <td>0.119953</td>\n",
       "      <td>0.044426</td>\n",
       "      <td>0.085387</td>\n",
       "      <td>0.112338</td>\n",
       "      <td>1.000000</td>\n",
       "      <td>0.952739</td>\n",
       "      <td>-0.249715</td>\n",
       "    </tr>\n",
       "    <tr>\n",
       "      <td>avg_class_frequency_current_month</td>\n",
       "      <td>0.009156</td>\n",
       "      <td>0.062664</td>\n",
       "      <td>0.045561</td>\n",
       "      <td>0.053768</td>\n",
       "      <td>0.013375</td>\n",
       "      <td>0.159407</td>\n",
       "      <td>0.075923</td>\n",
       "      <td>0.183095</td>\n",
       "      <td>0.079570</td>\n",
       "      <td>0.147605</td>\n",
       "      <td>0.181975</td>\n",
       "      <td>0.952739</td>\n",
       "      <td>1.000000</td>\n",
       "      <td>-0.412348</td>\n",
       "    </tr>\n",
       "    <tr>\n",
       "      <td>churn</td>\n",
       "      <td>0.000708</td>\n",
       "      <td>-0.128098</td>\n",
       "      <td>-0.157986</td>\n",
       "      <td>-0.162233</td>\n",
       "      <td>-0.001177</td>\n",
       "      <td>-0.389984</td>\n",
       "      <td>-0.175325</td>\n",
       "      <td>-0.404735</td>\n",
       "      <td>-0.198697</td>\n",
       "      <td>-0.381393</td>\n",
       "      <td>-0.438220</td>\n",
       "      <td>-0.249715</td>\n",
       "      <td>-0.412348</td>\n",
       "      <td>1.000000</td>\n",
       "    </tr>\n",
       "  </tbody>\n",
       "</table>\n",
       "</div>"
      ],
      "text/plain": [
       "                                     gender  near_location   partner  \\\n",
       "gender                             1.000000       0.006699 -0.010463   \n",
       "near_location                      0.006699       1.000000 -0.005119   \n",
       "partner                           -0.010463      -0.005119  1.000000   \n",
       "promo_friends                     -0.005033       0.210964  0.451960   \n",
       "phone                             -0.008542      -0.015763  0.009970   \n",
       "contract_period                    0.000502       0.150233  0.306166   \n",
       "group_visits                       0.017879       0.154728  0.022710   \n",
       "age                                0.013807       0.058358  0.047480   \n",
       "avg_additional_charges_total      -0.009334       0.040761  0.022941   \n",
       "month_to_end_contract             -0.001281       0.143961  0.294632   \n",
       "lifetime                           0.013579       0.070921  0.061229   \n",
       "avg_class_frequency_total          0.014620       0.043127  0.024938   \n",
       "avg_class_frequency_current_month  0.009156       0.062664  0.045561   \n",
       "churn                              0.000708      -0.128098 -0.157986   \n",
       "\n",
       "                                   promo_friends     phone  contract_period  \\\n",
       "gender                                 -0.005033 -0.008542         0.000502   \n",
       "near_location                           0.210964 -0.015763         0.150233   \n",
       "partner                                 0.451960  0.009970         0.306166   \n",
       "promo_friends                           1.000000  0.001982         0.244552   \n",
       "phone                                   0.001982  1.000000        -0.006893   \n",
       "contract_period                         0.244552 -0.006893         1.000000   \n",
       "group_visits                            0.120170 -0.010099         0.169991   \n",
       "age                                     0.050113 -0.011403         0.138249   \n",
       "avg_additional_charges_total            0.036898  0.009279         0.111445   \n",
       "month_to_end_contract                   0.239553 -0.011196         0.973064   \n",
       "lifetime                                0.072721 -0.018801         0.170725   \n",
       "avg_class_frequency_total               0.028063  0.008340         0.096211   \n",
       "avg_class_frequency_current_month       0.053768  0.013375         0.159407   \n",
       "churn                                  -0.162233 -0.001177        -0.389984   \n",
       "\n",
       "                                   group_visits       age  \\\n",
       "gender                                 0.017879  0.013807   \n",
       "near_location                          0.154728  0.058358   \n",
       "partner                                0.022710  0.047480   \n",
       "promo_friends                          0.120170  0.050113   \n",
       "phone                                 -0.010099 -0.011403   \n",
       "contract_period                        0.169991  0.138249   \n",
       "group_visits                           1.000000  0.080934   \n",
       "age                                    0.080934  1.000000   \n",
       "avg_additional_charges_total           0.032079  0.080240   \n",
       "month_to_end_contract                  0.163703  0.134511   \n",
       "lifetime                               0.075853  0.164693   \n",
       "avg_class_frequency_total              0.056695  0.119953   \n",
       "avg_class_frequency_current_month      0.075923  0.183095   \n",
       "churn                                 -0.175325 -0.404735   \n",
       "\n",
       "                                   avg_additional_charges_total  \\\n",
       "gender                                                -0.009334   \n",
       "near_location                                          0.040761   \n",
       "partner                                                0.022941   \n",
       "promo_friends                                          0.036898   \n",
       "phone                                                  0.009279   \n",
       "contract_period                                        0.111445   \n",
       "group_visits                                           0.032079   \n",
       "age                                                    0.080240   \n",
       "avg_additional_charges_total                           1.000000   \n",
       "month_to_end_contract                                  0.113958   \n",
       "lifetime                                               0.079028   \n",
       "avg_class_frequency_total                              0.044426   \n",
       "avg_class_frequency_current_month                      0.079570   \n",
       "churn                                                 -0.198697   \n",
       "\n",
       "                                   month_to_end_contract  lifetime  \\\n",
       "gender                                         -0.001281  0.013579   \n",
       "near_location                                   0.143961  0.070921   \n",
       "partner                                         0.294632  0.061229   \n",
       "promo_friends                                   0.239553  0.072721   \n",
       "phone                                          -0.011196 -0.018801   \n",
       "contract_period                                 0.973064  0.170725   \n",
       "group_visits                                    0.163703  0.075853   \n",
       "age                                             0.134511  0.164693   \n",
       "avg_additional_charges_total                    0.113958  0.079028   \n",
       "month_to_end_contract                           1.000000  0.161078   \n",
       "lifetime                                        0.161078  1.000000   \n",
       "avg_class_frequency_total                       0.085387  0.112338   \n",
       "avg_class_frequency_current_month               0.147605  0.181975   \n",
       "churn                                          -0.381393 -0.438220   \n",
       "\n",
       "                                   avg_class_frequency_total  \\\n",
       "gender                                              0.014620   \n",
       "near_location                                       0.043127   \n",
       "partner                                             0.024938   \n",
       "promo_friends                                       0.028063   \n",
       "phone                                               0.008340   \n",
       "contract_period                                     0.096211   \n",
       "group_visits                                        0.056695   \n",
       "age                                                 0.119953   \n",
       "avg_additional_charges_total                        0.044426   \n",
       "month_to_end_contract                               0.085387   \n",
       "lifetime                                            0.112338   \n",
       "avg_class_frequency_total                           1.000000   \n",
       "avg_class_frequency_current_month                   0.952739   \n",
       "churn                                              -0.249715   \n",
       "\n",
       "                                   avg_class_frequency_current_month     churn  \n",
       "gender                                                      0.009156  0.000708  \n",
       "near_location                                               0.062664 -0.128098  \n",
       "partner                                                     0.045561 -0.157986  \n",
       "promo_friends                                               0.053768 -0.162233  \n",
       "phone                                                       0.013375 -0.001177  \n",
       "contract_period                                             0.159407 -0.389984  \n",
       "group_visits                                                0.075923 -0.175325  \n",
       "age                                                         0.183095 -0.404735  \n",
       "avg_additional_charges_total                                0.079570 -0.198697  \n",
       "month_to_end_contract                                       0.147605 -0.381393  \n",
       "lifetime                                                    0.181975 -0.438220  \n",
       "avg_class_frequency_total                                   0.952739 -0.249715  \n",
       "avg_class_frequency_current_month                           1.000000 -0.412348  \n",
       "churn                                                      -0.412348  1.000000  "
      ]
     },
     "execution_count": 15,
     "metadata": {},
     "output_type": "execute_result"
    }
   ],
   "source": [
    "# построение матрицы корреляций\n",
    "cm = gym_churn.corr() \n",
    "cm"
   ]
  },
  {
   "cell_type": "code",
   "execution_count": 16,
   "metadata": {},
   "outputs": [
    {
     "data": {
      "image/png": "[encoded data removed]",
      "text/plain": [
       "<Figure size 720x720 with 2 Axes>"
      ]
     },
     "metadata": {
      "needs_background": "light"
     },
     "output_type": "display_data"
    }
   ],
   "source": [
    "fig, ax = plt.subplots(figsize=(10,10))\n",
    "\n",
    "# нарисуем тепловую карту с подписями для матрицы корреляций\n",
    "ax = sns.heatmap(cm, annot = True, square=True)\n",
    "plt.show()"
   ]
  },
  {
   "cell_type": "markdown",
   "metadata": {},
   "source": [
    "Здесь видим, что с целевой переменной `churn` остальные признаки не коррелируют. А вот признаки `month_to_end_contract` и `contract_period` достаточно сильно коррелируют между собой, как и признаки `avg_class_frequency_total` и \t`avg_class_frequency_current_month`. "
   ]
  },
  {
   "cell_type": "markdown",
   "metadata": {},
   "source": [
    "***Вывод***\n",
    "\n",
    "В рамках исследовательского анализа данных мы провели первоначальный анализ данных о клиентах фитнес-центра для оценки типа и качества признаков, их распределений и взаимных корреляций. Мы разделили признаки на численные и категориальные. Для численных признаков мы изучили средние значения и стандартные отклонения, выделили аномальные значения и пояснили их наличие. Отсутствующие значения не были обнаружены. Более подробно мы изучили качество и распределение признаков построив гистограммы для клиентов двух групп: которые остались и которые покинули фитнес-центр. Это позволило составить общую картину о каждой категории клиентов сервиса. Также мы построили матрицу корреляции для всех признаков из датасета, подкрепив ее тепловой картой. Было обнаружено что с целевой переменной `churn` остальные признаки не коррелируют."
   ]
  },
  {
   "cell_type": "markdown",
   "metadata": {},
   "source": [
    "## Модель прогнозирования оттока клиентов"
   ]
  },
  {
   "cell_type": "markdown",
   "metadata": {},
   "source": [
    "Построим модель бинарной классификации клиентов, где целевой признак — факт оттока клиента в следующем месяце `churn`."
   ]
  },
  {
   "cell_type": "markdown",
   "metadata": {},
   "source": [
    "Будем использовать обучение с учителем для задачи бинарной классификации и сравним модели, обученные алгоритмами логической регрессии и случайного леса. В качестве метрик для сравнения моделей будем использовать следующие:\n",
    "* `Accuracy` — доля правильных ответов из всех прогнозов. Чем ближе значение accuracy к 100%, тем лучше.\n",
    "* `Precision` — показывает долю правильных ответов только среди целевого класса. \n",
    "* `Recall` — показывает сколько реальных объектов целевого класса смогли обнаружить с помощью модели.\n",
    "* `ROC_AUC` — предсказывает вероятность того, что наблюдение принадлежит к классу \"0\" или \"1\". Метрика ROC_AUC содержит в себе максимальное количество информации относительно качества модели."
   ]
  },
  {
   "cell_type": "markdown",
   "metadata": {},
   "source": [
    "Для метрики `accuracy`, в отличие от метрик `recall` и `precision`, для оценки модели важно соотношение классов в выборке, поэтому проверим наш набор данных."
   ]
  },
  {
   "cell_type": "code",
   "execution_count": 17,
   "metadata": {},
   "outputs": [
    {
     "name": "stdout",
     "output_type": "stream",
     "text": [
      "Соотношение классов:\n",
      " 0    2939\n",
      "1    1061\n",
      "Name: churn, dtype: int64\n"
     ]
    }
   ],
   "source": [
    "# посмотрим, как соотносятся классы набора данных\n",
    "print('Соотношение классов:\\n', gym_churn['churn'].value_counts())"
   ]
  },
  {
   "cell_type": "markdown",
   "metadata": {},
   "source": [
    "Видим достаточное количество экземпляров каждого класса. Теперь выделим из наших данных признаки и целевую переменную, разделим выборку и приступим к обучению моделей."
   ]
  },
  {
   "cell_type": "code",
   "execution_count": 18,
   "metadata": {},
   "outputs": [],
   "source": [
    "# разделим наши данные на признаки (матрица X) и целевую переменную (y)\n",
    "X = gym_churn.drop(columns=['churn'], axis=1)\n",
    "y = gym_churn['churn']"
   ]
  },
  {
   "cell_type": "code",
   "execution_count": 19,
   "metadata": {},
   "outputs": [],
   "source": [
    "# разделяем модель на обучающую и валидационную выборку\n",
    "X_train, X_test, y_train, y_test = train_test_split(X, y, test_size=0.2, random_state=0, stratify = y)"
   ]
  },
  {
   "cell_type": "markdown",
   "metadata": {},
   "source": [
    "Используем стандартизацию, чтобы привести значения признаков к виду стандартного нормального распределения: значения будут центрированы относительно 0, а средний разброс данных составит 1."
   ]
  },
  {
   "cell_type": "code",
   "execution_count": 20,
   "metadata": {},
   "outputs": [],
   "source": [
    "# создадим объект класса StandardScaler и применим его к обучающей выборке\n",
    "scaler = StandardScaler()\n",
    "# обучаем StandartScaler на обучающей выборке\n",
    "scaler.fit(X_train)\n",
    "# применяем стандартизацию к матрице признаков для обучающей и валидационной выборки\n",
    "X_train_st = scaler.transform(X_train)\n",
    "X_test_st = scaler.transform(X_test)"
   ]
  },
  {
   "cell_type": "markdown",
   "metadata": {},
   "source": [
    "Для отображения метрик классификации для каждой модели создадим отдельную функцию с методами метрик."
   ]
  },
  {
   "cell_type": "code",
   "execution_count": 21,
   "metadata": {},
   "outputs": [],
   "source": [
    "# определим функцию, которая будет выводить наши метрики\n",
    "def print_all_metrics(y_true, y_pred, y_proba, title='Метрики классификации'):\n",
    "    print(title)\n",
    "    print('\\tAccuracy: {:.2f}'.format(accuracy_score(y_true, y_pred)))\n",
    "    print('\\tPrecision: {:.2f}'.format(precision_score(y_true, y_pred)))\n",
    "    print('\\tRecall: {:.2f}'.format(recall_score(y_true, y_pred)))\n",
    "    print('\\tROC_AUC: {:.2f}'.format(roc_auc_score(y_test, y_proba)))"
   ]
  },
  {
   "cell_type": "markdown",
   "metadata": {},
   "source": [
    "Обучим модель на  обучающей выборке двумя способами: логистической регрессией (`sklearn.linear_model.LogisticRegression()`) и \n",
    "случайным лесом (`sklearn.ensemble.RandomForestClassifier()`)."
   ]
  },
  {
   "cell_type": "code",
   "execution_count": 22,
   "metadata": {},
   "outputs": [
    {
     "name": "stdout",
     "output_type": "stream",
     "text": [
      "Метрики для модели логистической регрессии:\n",
      "\tAccuracy: 0.94\n",
      "\tPrecision: 0.90\n",
      "\tRecall: 0.85\n",
      "\tROC_AUC: 0.98\n",
      "Метрики для модели случайного леса:\n",
      "\tAccuracy: 0.92\n",
      "\tPrecision: 0.88\n",
      "\tRecall: 0.83\n",
      "\tROC_AUC: 0.97\n"
     ]
    }
   ],
   "source": [
    "# зададим алгоритм для модели логистической регрессии\n",
    "lr_model = LogisticRegression(solver = 'liblinear', random_state = 0)\n",
    "# обучим модель\n",
    "lr_model.fit(X_train_st, y_train)\n",
    "# воспользуемся уже обученной моделью, чтобы сделать прогнозы\n",
    "lr_predictions = lr_model.predict(X_test_st)\n",
    "lr_probabilities = lr_model.predict_proba(X_test_st)[:, 1]\n",
    "# выведем все метрики\n",
    "print_all_metrics(\n",
    "    y_test,\n",
    "    lr_predictions,\n",
    "    lr_probabilities,\n",
    "    title='Метрики для модели логистической регрессии:',\n",
    ")\n",
    "# зададим алгоритм для новой модели на основе алгоритма случайного леса\n",
    "rf_model = RandomForestClassifier(n_estimators = 100, random_state = 0)\n",
    "# обучим модель случайного леса\n",
    "rf_model.fit(X_train_st, y_train)\n",
    "# воспользуемся уже обученной моделью, чтобы сделать прогнозы\n",
    "rf_predictions = rf_model.predict(X_test_st) \n",
    "rf_probabilities = rf_model.predict_proba(X_test_st)[:, 1]\n",
    "# выведем все метрики\n",
    "print_all_metrics(\n",
    "    y_test,\n",
    "    rf_predictions,\n",
    "    rf_probabilities,\n",
    "    title='Метрики для модели случайного леса:'\n",
    ")"
   ]
  },
  {
   "cell_type": "markdown",
   "metadata": {},
   "source": [
    "На основании метрик модели логистической регрессии и случайного леса показали себя в прогнозах одинаково хорошо. `Accuracy` и метрика качества модели `ROC-AUC` более 90%. Разница в метриках `Recall` и `Precision` 1-2%, то есть незначительная."
   ]
  },
  {
   "cell_type": "markdown",
   "metadata": {},
   "source": [
    "Мы можем также провести анализ важности признаков модели (`feature importance`). Проверим важность признаков на модели случайного леса."
   ]
  },
  {
   "cell_type": "code",
   "execution_count": 23,
   "metadata": {},
   "outputs": [
    {
     "data": {
      "text/html": [
       "<div>\n",
       "<style scoped>\n",
       "    .dataframe tbody tr th:only-of-type {\n",
       "        vertical-align: middle;\n",
       "    }\n",
       "\n",
       "    .dataframe tbody tr th {\n",
       "        vertical-align: top;\n",
       "    }\n",
       "\n",
       "    .dataframe thead th {\n",
       "        text-align: right;\n",
       "    }\n",
       "</style>\n",
       "<table border=\"1\" class=\"dataframe\">\n",
       "  <thead>\n",
       "    <tr style=\"text-align: right;\">\n",
       "      <th></th>\n",
       "      <th>col1</th>\n",
       "    </tr>\n",
       "  </thead>\n",
       "  <tbody>\n",
       "    <tr>\n",
       "      <td>10</td>\n",
       "      <td>0.270336</td>\n",
       "    </tr>\n",
       "    <tr>\n",
       "      <td>12</td>\n",
       "      <td>0.176142</td>\n",
       "    </tr>\n",
       "    <tr>\n",
       "      <td>11</td>\n",
       "      <td>0.135955</td>\n",
       "    </tr>\n",
       "    <tr>\n",
       "      <td>7</td>\n",
       "      <td>0.121477</td>\n",
       "    </tr>\n",
       "    <tr>\n",
       "      <td>8</td>\n",
       "      <td>0.088327</td>\n",
       "    </tr>\n",
       "    <tr>\n",
       "      <td>9</td>\n",
       "      <td>0.072941</td>\n",
       "    </tr>\n",
       "    <tr>\n",
       "      <td>5</td>\n",
       "      <td>0.067406</td>\n",
       "    </tr>\n",
       "    <tr>\n",
       "      <td>6</td>\n",
       "      <td>0.016090</td>\n",
       "    </tr>\n",
       "    <tr>\n",
       "      <td>0</td>\n",
       "      <td>0.012293</td>\n",
       "    </tr>\n",
       "    <tr>\n",
       "      <td>2</td>\n",
       "      <td>0.012099</td>\n",
       "    </tr>\n",
       "    <tr>\n",
       "      <td>3</td>\n",
       "      <td>0.010499</td>\n",
       "    </tr>\n",
       "    <tr>\n",
       "      <td>1</td>\n",
       "      <td>0.009924</td>\n",
       "    </tr>\n",
       "    <tr>\n",
       "      <td>4</td>\n",
       "      <td>0.006511</td>\n",
       "    </tr>\n",
       "  </tbody>\n",
       "</table>\n",
       "</div>"
      ],
      "text/plain": [
       "        col1\n",
       "10  0.270336\n",
       "12  0.176142\n",
       "11  0.135955\n",
       "7   0.121477\n",
       "8   0.088327\n",
       "9   0.072941\n",
       "5   0.067406\n",
       "6   0.016090\n",
       "0   0.012293\n",
       "2   0.012099\n",
       "3   0.010499\n",
       "1   0.009924\n",
       "4   0.006511"
      ]
     },
     "metadata": {},
     "output_type": "display_data"
    }
   ],
   "source": [
    "# создадим датафрейм с именами признаков и их важностью и выведем его по убыванию важности\n",
    "importances = list(rf_model.feature_importances_)\n",
    "d = {'col1': importances}\n",
    "data=pd.DataFrame(data=d)\n",
    "display(data.sort_values(by='col1', ascending=False))"
   ]
  },
  {
   "cell_type": "markdown",
   "metadata": {},
   "source": [
    "Модель случайного леса посчитала важными при расчёте прогноза важными признаки `lifetime` (коэффициент 0.27), `avg_class_frequency_current_month` (коэффициент 0.18), `avg_class_frequency_total` (коэффициент 0.12), `age` (коэффициент 0.11)."
   ]
  },
  {
   "cell_type": "markdown",
   "metadata": {},
   "source": [
    "***Вывод***\n",
    "\n",
    "Мы построили модель бинарной классификации клиентов с целевым признаком факта оттока клиента в следующем месяце. Мы использовали обучение с учителем и использовали алгоритмы логической регрессии и случайного леса для обучения наших моделей. Для оценки качества обученных моделей мы рассчитывали метрики `Accuracy`(доля правильных ответов), `Precision` (точность), `Recall` (полнота) и `ROC_AUC` (вероятность верного прогноза). В результате мы сравнили обученные модели по метрикам и выяснили, что модели логистической регрессии и случайного леса показали в прогнозе оттока клиентов себя одинаково хорошо. `Accuracy` и метрика качества модели `ROC-AUC` для них поставила более 90%. Кроме того, мы оценили важность признаков на примере модели, обученной алгоритмом случайного леса, и обнаружили что признаки `lifetime`, `avg_class_frequency_current_month`, `avg_class_frequency_total`, `age` являлись наиболее важными при прогнозе."
   ]
  },
  {
   "cell_type": "markdown",
   "metadata": {},
   "source": [
    "## Кластеризация клиентов"
   ]
  },
  {
   "cell_type": "markdown",
   "metadata": {},
   "source": [
    "Проведем кластеризацию клиентов - попробуем выделить группы (сегменты) клиентов по схожести их признаков."
   ]
  },
  {
   "cell_type": "code",
   "execution_count": 24,
   "metadata": {},
   "outputs": [
    {
     "data": {
      "text/html": [
       "<div>\n",
       "<style scoped>\n",
       "    .dataframe tbody tr th:only-of-type {\n",
       "        vertical-align: middle;\n",
       "    }\n",
       "\n",
       "    .dataframe tbody tr th {\n",
       "        vertical-align: top;\n",
       "    }\n",
       "\n",
       "    .dataframe thead th {\n",
       "        text-align: right;\n",
       "    }\n",
       "</style>\n",
       "<table border=\"1\" class=\"dataframe\">\n",
       "  <thead>\n",
       "    <tr style=\"text-align: right;\">\n",
       "      <th></th>\n",
       "      <th>gender</th>\n",
       "      <th>near_location</th>\n",
       "      <th>partner</th>\n",
       "      <th>promo_friends</th>\n",
       "      <th>phone</th>\n",
       "      <th>contract_period</th>\n",
       "      <th>group_visits</th>\n",
       "      <th>age</th>\n",
       "      <th>avg_additional_charges_total</th>\n",
       "      <th>month_to_end_contract</th>\n",
       "      <th>lifetime</th>\n",
       "      <th>avg_class_frequency_total</th>\n",
       "      <th>avg_class_frequency_current_month</th>\n",
       "    </tr>\n",
       "  </thead>\n",
       "  <tbody>\n",
       "    <tr>\n",
       "      <td>0</td>\n",
       "      <td>1</td>\n",
       "      <td>1</td>\n",
       "      <td>1</td>\n",
       "      <td>1</td>\n",
       "      <td>0</td>\n",
       "      <td>6</td>\n",
       "      <td>1</td>\n",
       "      <td>29</td>\n",
       "      <td>14.227470</td>\n",
       "      <td>5.0</td>\n",
       "      <td>3</td>\n",
       "      <td>0.020398</td>\n",
       "      <td>0.000000</td>\n",
       "    </tr>\n",
       "    <tr>\n",
       "      <td>1</td>\n",
       "      <td>0</td>\n",
       "      <td>1</td>\n",
       "      <td>0</td>\n",
       "      <td>0</td>\n",
       "      <td>1</td>\n",
       "      <td>12</td>\n",
       "      <td>1</td>\n",
       "      <td>31</td>\n",
       "      <td>113.202938</td>\n",
       "      <td>12.0</td>\n",
       "      <td>7</td>\n",
       "      <td>1.922936</td>\n",
       "      <td>1.910244</td>\n",
       "    </tr>\n",
       "    <tr>\n",
       "      <td>2</td>\n",
       "      <td>0</td>\n",
       "      <td>1</td>\n",
       "      <td>1</td>\n",
       "      <td>0</td>\n",
       "      <td>1</td>\n",
       "      <td>1</td>\n",
       "      <td>0</td>\n",
       "      <td>28</td>\n",
       "      <td>129.448479</td>\n",
       "      <td>1.0</td>\n",
       "      <td>2</td>\n",
       "      <td>1.859098</td>\n",
       "      <td>1.736502</td>\n",
       "    </tr>\n",
       "    <tr>\n",
       "      <td>3</td>\n",
       "      <td>0</td>\n",
       "      <td>1</td>\n",
       "      <td>1</td>\n",
       "      <td>1</td>\n",
       "      <td>1</td>\n",
       "      <td>12</td>\n",
       "      <td>1</td>\n",
       "      <td>33</td>\n",
       "      <td>62.669863</td>\n",
       "      <td>12.0</td>\n",
       "      <td>2</td>\n",
       "      <td>3.205633</td>\n",
       "      <td>3.357215</td>\n",
       "    </tr>\n",
       "    <tr>\n",
       "      <td>4</td>\n",
       "      <td>1</td>\n",
       "      <td>1</td>\n",
       "      <td>1</td>\n",
       "      <td>1</td>\n",
       "      <td>1</td>\n",
       "      <td>1</td>\n",
       "      <td>0</td>\n",
       "      <td>26</td>\n",
       "      <td>198.362265</td>\n",
       "      <td>1.0</td>\n",
       "      <td>3</td>\n",
       "      <td>1.113884</td>\n",
       "      <td>1.120078</td>\n",
       "    </tr>\n",
       "  </tbody>\n",
       "</table>\n",
       "</div>"
      ],
      "text/plain": [
       "   gender  near_location  partner  promo_friends  phone  contract_period  \\\n",
       "0       1              1        1              1      0                6   \n",
       "1       0              1        0              0      1               12   \n",
       "2       0              1        1              0      1                1   \n",
       "3       0              1        1              1      1               12   \n",
       "4       1              1        1              1      1                1   \n",
       "\n",
       "   group_visits  age  avg_additional_charges_total  month_to_end_contract  \\\n",
       "0             1   29                     14.227470                    5.0   \n",
       "1             1   31                    113.202938                   12.0   \n",
       "2             0   28                    129.448479                    1.0   \n",
       "3             1   33                     62.669863                   12.0   \n",
       "4             0   26                    198.362265                    1.0   \n",
       "\n",
       "   lifetime  avg_class_frequency_total  avg_class_frequency_current_month  \n",
       "0         3                   0.020398                           0.000000  \n",
       "1         7                   1.922936                           1.910244  \n",
       "2         2                   1.859098                           1.736502  \n",
       "3         2                   3.205633                           3.357215  \n",
       "4         3                   1.113884                           1.120078  "
      ]
     },
     "metadata": {},
     "output_type": "display_data"
    }
   ],
   "source": [
    "# выделим только признаки клиентов\n",
    "X = gym_churn.drop(columns=['churn'], axis=1)\n",
    "display(X.head())"
   ]
  },
  {
   "cell_type": "markdown",
   "metadata": {},
   "source": [
    "Теперь получим стандартизированную матрицу признаков."
   ]
  },
  {
   "cell_type": "code",
   "execution_count": 25,
   "metadata": {},
   "outputs": [],
   "source": [
    "# обязательная стандартизация данных перед работой с алгоритмами\n",
    "sc = StandardScaler()\n",
    "X_sc = sc.fit_transform(X)"
   ]
  },
  {
   "cell_type": "markdown",
   "metadata": {},
   "source": [
    "Построим матрицу расстояний, используя функцию `linkage()` на стандартизованной матрице признаков, и выполним визуализацию с помощью дендрограммы. Так мы сможем визуально оценить, сколько кластеров должно быть."
   ]
  },
  {
   "cell_type": "code",
   "execution_count": 26,
   "metadata": {},
   "outputs": [],
   "source": [
    "# получаем таблицу «связок» между объектами\n",
    "linked = linkage(X_sc, method = 'ward')"
   ]
  },
  {
   "cell_type": "code",
   "execution_count": 27,
   "metadata": {},
   "outputs": [
    {
     "data": {
      "image/png": "[encoded data removed]",
      "text/plain": [
       "<Figure size 1080x720 with 1 Axes>"
      ]
     },
     "metadata": {
      "needs_background": "light"
     },
     "output_type": "display_data"
    }
   ],
   "source": [
    "# построение дендрограммы\n",
    "plt.figure(figsize=(15, 10))  \n",
    "dendrogram(linked, orientation='top')\n",
    "plt.show() "
   ]
  },
  {
   "cell_type": "markdown",
   "metadata": {},
   "source": [
    "Предложенное в результате оптимальное число кластеров 4 — четыре разных цвета на графике."
   ]
  },
  {
   "cell_type": "markdown",
   "metadata": {},
   "source": [
    "Теперь обучим модель кластеризации на основании алгоритма `K-Means` и спрогнозируем кластеры клиентов. По заданному в задании условию примем  за число кластеров n=5."
   ]
  },
  {
   "cell_type": "code",
   "execution_count": 28,
   "metadata": {},
   "outputs": [],
   "source": [
    "# задаём число кластеров, равное 5\n",
    "km = KMeans(n_clusters = 5, random_state=0) \n",
    "# применяем алгоритм к данным и формируем вектор кластеров\n",
    "labels = km.fit_predict(X_sc)"
   ]
  },
  {
   "cell_type": "code",
   "execution_count": 29,
   "metadata": {},
   "outputs": [],
   "source": [
    "# записываем выделенные индексы кластеров в столбец датафрейма\n",
    "gym_churn['cluster'] = labels"
   ]
  },
  {
   "cell_type": "code",
   "execution_count": 30,
   "metadata": {},
   "outputs": [
    {
     "data": {
      "text/html": [
       "<div>\n",
       "<style scoped>\n",
       "    .dataframe tbody tr th:only-of-type {\n",
       "        vertical-align: middle;\n",
       "    }\n",
       "\n",
       "    .dataframe tbody tr th {\n",
       "        vertical-align: top;\n",
       "    }\n",
       "\n",
       "    .dataframe thead th {\n",
       "        text-align: right;\n",
       "    }\n",
       "</style>\n",
       "<table border=\"1\" class=\"dataframe\">\n",
       "  <thead>\n",
       "    <tr style=\"text-align: right;\">\n",
       "      <th></th>\n",
       "      <th>gender</th>\n",
       "      <th>near_location</th>\n",
       "      <th>partner</th>\n",
       "      <th>promo_friends</th>\n",
       "      <th>phone</th>\n",
       "      <th>contract_period</th>\n",
       "      <th>group_visits</th>\n",
       "      <th>age</th>\n",
       "      <th>avg_additional_charges_total</th>\n",
       "      <th>month_to_end_contract</th>\n",
       "      <th>lifetime</th>\n",
       "      <th>avg_class_frequency_total</th>\n",
       "      <th>avg_class_frequency_current_month</th>\n",
       "      <th>churn</th>\n",
       "      <th>cluster</th>\n",
       "    </tr>\n",
       "  </thead>\n",
       "  <tbody>\n",
       "    <tr>\n",
       "      <td>0</td>\n",
       "      <td>1</td>\n",
       "      <td>1</td>\n",
       "      <td>1</td>\n",
       "      <td>1</td>\n",
       "      <td>0</td>\n",
       "      <td>6</td>\n",
       "      <td>1</td>\n",
       "      <td>29</td>\n",
       "      <td>14.227470</td>\n",
       "      <td>5.0</td>\n",
       "      <td>3</td>\n",
       "      <td>0.020398</td>\n",
       "      <td>0.000000</td>\n",
       "      <td>0</td>\n",
       "      <td>1</td>\n",
       "    </tr>\n",
       "    <tr>\n",
       "      <td>1</td>\n",
       "      <td>0</td>\n",
       "      <td>1</td>\n",
       "      <td>0</td>\n",
       "      <td>0</td>\n",
       "      <td>1</td>\n",
       "      <td>12</td>\n",
       "      <td>1</td>\n",
       "      <td>31</td>\n",
       "      <td>113.202938</td>\n",
       "      <td>12.0</td>\n",
       "      <td>7</td>\n",
       "      <td>1.922936</td>\n",
       "      <td>1.910244</td>\n",
       "      <td>0</td>\n",
       "      <td>0</td>\n",
       "    </tr>\n",
       "    <tr>\n",
       "      <td>2</td>\n",
       "      <td>0</td>\n",
       "      <td>1</td>\n",
       "      <td>1</td>\n",
       "      <td>0</td>\n",
       "      <td>1</td>\n",
       "      <td>1</td>\n",
       "      <td>0</td>\n",
       "      <td>28</td>\n",
       "      <td>129.448479</td>\n",
       "      <td>1.0</td>\n",
       "      <td>2</td>\n",
       "      <td>1.859098</td>\n",
       "      <td>1.736502</td>\n",
       "      <td>0</td>\n",
       "      <td>3</td>\n",
       "    </tr>\n",
       "    <tr>\n",
       "      <td>3</td>\n",
       "      <td>0</td>\n",
       "      <td>1</td>\n",
       "      <td>1</td>\n",
       "      <td>1</td>\n",
       "      <td>1</td>\n",
       "      <td>12</td>\n",
       "      <td>1</td>\n",
       "      <td>33</td>\n",
       "      <td>62.669863</td>\n",
       "      <td>12.0</td>\n",
       "      <td>2</td>\n",
       "      <td>3.205633</td>\n",
       "      <td>3.357215</td>\n",
       "      <td>0</td>\n",
       "      <td>0</td>\n",
       "    </tr>\n",
       "    <tr>\n",
       "      <td>4</td>\n",
       "      <td>1</td>\n",
       "      <td>1</td>\n",
       "      <td>1</td>\n",
       "      <td>1</td>\n",
       "      <td>1</td>\n",
       "      <td>1</td>\n",
       "      <td>0</td>\n",
       "      <td>26</td>\n",
       "      <td>198.362265</td>\n",
       "      <td>1.0</td>\n",
       "      <td>3</td>\n",
       "      <td>1.113884</td>\n",
       "      <td>1.120078</td>\n",
       "      <td>0</td>\n",
       "      <td>3</td>\n",
       "    </tr>\n",
       "  </tbody>\n",
       "</table>\n",
       "</div>"
      ],
      "text/plain": [
       "   gender  near_location  partner  promo_friends  phone  contract_period  \\\n",
       "0       1              1        1              1      0                6   \n",
       "1       0              1        0              0      1               12   \n",
       "2       0              1        1              0      1                1   \n",
       "3       0              1        1              1      1               12   \n",
       "4       1              1        1              1      1                1   \n",
       "\n",
       "   group_visits  age  avg_additional_charges_total  month_to_end_contract  \\\n",
       "0             1   29                     14.227470                    5.0   \n",
       "1             1   31                    113.202938                   12.0   \n",
       "2             0   28                    129.448479                    1.0   \n",
       "3             1   33                     62.669863                   12.0   \n",
       "4             0   26                    198.362265                    1.0   \n",
       "\n",
       "   lifetime  avg_class_frequency_total  avg_class_frequency_current_month  \\\n",
       "0         3                   0.020398                           0.000000   \n",
       "1         7                   1.922936                           1.910244   \n",
       "2         2                   1.859098                           1.736502   \n",
       "3         2                   3.205633                           3.357215   \n",
       "4         3                   1.113884                           1.120078   \n",
       "\n",
       "   churn  cluster  \n",
       "0      0        1  \n",
       "1      0        0  \n",
       "2      0        3  \n",
       "3      0        0  \n",
       "4      0        3  "
      ]
     },
     "metadata": {},
     "output_type": "display_data"
    }
   ],
   "source": [
    "# вывод на экран 5 строк датафрейма\n",
    "display(gym_churn.head())"
   ]
  },
  {
   "cell_type": "code",
   "execution_count": 31,
   "metadata": {},
   "outputs": [
    {
     "data": {
      "text/plain": [
       "3    1262\n",
       "0    1011\n",
       "4     837\n",
       "2     505\n",
       "1     385\n",
       "Name: cluster, dtype: int64"
      ]
     },
     "execution_count": 31,
     "metadata": {},
     "output_type": "execute_result"
    }
   ],
   "source": [
    "# определяем количество кластеров\n",
    "gym_churn['cluster'].value_counts()"
   ]
  },
  {
   "cell_type": "markdown",
   "metadata": {},
   "source": [
    "С помощью алгоритма `K-Means` мы выделили 5 групп клиентов (кластеров). Посмотрим на средние значения признаков для каждого кластера."
   ]
  },
  {
   "cell_type": "code",
   "execution_count": 32,
   "metadata": {},
   "outputs": [
    {
     "data": {
      "text/html": [
       "<div>\n",
       "<style scoped>\n",
       "    .dataframe tbody tr th:only-of-type {\n",
       "        vertical-align: middle;\n",
       "    }\n",
       "\n",
       "    .dataframe tbody tr th {\n",
       "        vertical-align: top;\n",
       "    }\n",
       "\n",
       "    .dataframe thead th {\n",
       "        text-align: right;\n",
       "    }\n",
       "</style>\n",
       "<table border=\"1\" class=\"dataframe\">\n",
       "  <thead>\n",
       "    <tr style=\"text-align: right;\">\n",
       "      <th></th>\n",
       "      <th>gender</th>\n",
       "      <th>near_location</th>\n",
       "      <th>partner</th>\n",
       "      <th>promo_friends</th>\n",
       "      <th>phone</th>\n",
       "      <th>contract_period</th>\n",
       "      <th>group_visits</th>\n",
       "      <th>age</th>\n",
       "      <th>avg_additional_charges_total</th>\n",
       "      <th>month_to_end_contract</th>\n",
       "      <th>lifetime</th>\n",
       "      <th>avg_class_frequency_total</th>\n",
       "      <th>avg_class_frequency_current_month</th>\n",
       "      <th>churn</th>\n",
       "    </tr>\n",
       "    <tr>\n",
       "      <th>cluster</th>\n",
       "      <th></th>\n",
       "      <th></th>\n",
       "      <th></th>\n",
       "      <th></th>\n",
       "      <th></th>\n",
       "      <th></th>\n",
       "      <th></th>\n",
       "      <th></th>\n",
       "      <th></th>\n",
       "      <th></th>\n",
       "      <th></th>\n",
       "      <th></th>\n",
       "      <th></th>\n",
       "      <th></th>\n",
       "    </tr>\n",
       "  </thead>\n",
       "  <tbody>\n",
       "    <tr>\n",
       "      <td>0</td>\n",
       "      <td>0.502473</td>\n",
       "      <td>0.959446</td>\n",
       "      <td>0.783383</td>\n",
       "      <td>0.574679</td>\n",
       "      <td>1.000000</td>\n",
       "      <td>10.884273</td>\n",
       "      <td>0.543027</td>\n",
       "      <td>29.980218</td>\n",
       "      <td>160.706969</td>\n",
       "      <td>9.950544</td>\n",
       "      <td>4.738872</td>\n",
       "      <td>1.983305</td>\n",
       "      <td>1.976225</td>\n",
       "      <td>0.027695</td>\n",
       "    </tr>\n",
       "    <tr>\n",
       "      <td>1</td>\n",
       "      <td>0.522078</td>\n",
       "      <td>0.862338</td>\n",
       "      <td>0.470130</td>\n",
       "      <td>0.306494</td>\n",
       "      <td>0.000000</td>\n",
       "      <td>4.787013</td>\n",
       "      <td>0.425974</td>\n",
       "      <td>29.301299</td>\n",
       "      <td>143.957664</td>\n",
       "      <td>4.475325</td>\n",
       "      <td>3.924675</td>\n",
       "      <td>1.847220</td>\n",
       "      <td>1.716369</td>\n",
       "      <td>0.267532</td>\n",
       "    </tr>\n",
       "    <tr>\n",
       "      <td>2</td>\n",
       "      <td>0.495050</td>\n",
       "      <td>0.000000</td>\n",
       "      <td>0.463366</td>\n",
       "      <td>0.079208</td>\n",
       "      <td>1.000000</td>\n",
       "      <td>2.352475</td>\n",
       "      <td>0.215842</td>\n",
       "      <td>28.477228</td>\n",
       "      <td>135.457501</td>\n",
       "      <td>2.198020</td>\n",
       "      <td>2.809901</td>\n",
       "      <td>1.660461</td>\n",
       "      <td>1.477324</td>\n",
       "      <td>0.443564</td>\n",
       "    </tr>\n",
       "    <tr>\n",
       "      <td>3</td>\n",
       "      <td>0.485737</td>\n",
       "      <td>1.000000</td>\n",
       "      <td>0.350238</td>\n",
       "      <td>0.240095</td>\n",
       "      <td>1.000000</td>\n",
       "      <td>1.948494</td>\n",
       "      <td>0.341521</td>\n",
       "      <td>28.167987</td>\n",
       "      <td>131.622204</td>\n",
       "      <td>1.856577</td>\n",
       "      <td>2.440571</td>\n",
       "      <td>1.247634</td>\n",
       "      <td>1.012983</td>\n",
       "      <td>0.514263</td>\n",
       "    </tr>\n",
       "    <tr>\n",
       "      <td>4</td>\n",
       "      <td>0.560335</td>\n",
       "      <td>0.976105</td>\n",
       "      <td>0.356033</td>\n",
       "      <td>0.229391</td>\n",
       "      <td>0.998805</td>\n",
       "      <td>2.665472</td>\n",
       "      <td>0.473118</td>\n",
       "      <td>30.127838</td>\n",
       "      <td>161.724258</td>\n",
       "      <td>2.455197</td>\n",
       "      <td>4.896057</td>\n",
       "      <td>2.851531</td>\n",
       "      <td>2.849473</td>\n",
       "      <td>0.068100</td>\n",
       "    </tr>\n",
       "  </tbody>\n",
       "</table>\n",
       "</div>"
      ],
      "text/plain": [
       "           gender  near_location   partner  promo_friends     phone  \\\n",
       "cluster                                                               \n",
       "0        0.502473       0.959446  0.783383       0.574679  1.000000   \n",
       "1        0.522078       0.862338  0.470130       0.306494  0.000000   \n",
       "2        0.495050       0.000000  0.463366       0.079208  1.000000   \n",
       "3        0.485737       1.000000  0.350238       0.240095  1.000000   \n",
       "4        0.560335       0.976105  0.356033       0.229391  0.998805   \n",
       "\n",
       "         contract_period  group_visits        age  \\\n",
       "cluster                                             \n",
       "0              10.884273      0.543027  29.980218   \n",
       "1               4.787013      0.425974  29.301299   \n",
       "2               2.352475      0.215842  28.477228   \n",
       "3               1.948494      0.341521  28.167987   \n",
       "4               2.665472      0.473118  30.127838   \n",
       "\n",
       "         avg_additional_charges_total  month_to_end_contract  lifetime  \\\n",
       "cluster                                                                  \n",
       "0                          160.706969               9.950544  4.738872   \n",
       "1                          143.957664               4.475325  3.924675   \n",
       "2                          135.457501               2.198020  2.809901   \n",
       "3                          131.622204               1.856577  2.440571   \n",
       "4                          161.724258               2.455197  4.896057   \n",
       "\n",
       "         avg_class_frequency_total  avg_class_frequency_current_month  \\\n",
       "cluster                                                                 \n",
       "0                         1.983305                           1.976225   \n",
       "1                         1.847220                           1.716369   \n",
       "2                         1.660461                           1.477324   \n",
       "3                         1.247634                           1.012983   \n",
       "4                         2.851531                           2.849473   \n",
       "\n",
       "            churn  \n",
       "cluster            \n",
       "0        0.027695  \n",
       "1        0.267532  \n",
       "2        0.443564  \n",
       "3        0.514263  \n",
       "4        0.068100  "
      ]
     },
     "execution_count": 32,
     "metadata": {},
     "output_type": "execute_result"
    }
   ],
   "source": [
    "# группируем по кластеру и вычисляем средние значения признаков\n",
    "gym_churn.groupby('cluster').mean()"
   ]
  },
  {
   "cell_type": "markdown",
   "metadata": {},
   "source": [
    "Здесь можно заметить, что кластеры 2 и 3 имеют наибольшее среднее значение оттока клиентов, а кластер 0 и 4 - наименьшее. Кластеры с наименьшей долей оттока имеют наибольшие средние значения по признакам `lifetime`, `avg_additional_charges_total`, `age`, `group_visits`, `group_visits` по сравнению с остальными кластерами. "
   ]
  },
  {
   "cell_type": "markdown",
   "metadata": {},
   "source": [
    "Теперь построим распределения признаков для выделенных кластеров и посмотрим на них подробнее."
   ]
  },
  {
   "cell_type": "code",
   "execution_count": 33,
   "metadata": {},
   "outputs": [
    {
     "data": {
      "image/png": "[encoded data removed]",
      "text/plain": [
       "<Figure size 1296x720 with 6 Axes>"
      ]
     },
     "metadata": {
      "needs_background": "light"
     },
     "output_type": "display_data"
    }
   ],
   "source": [
    "# строим гистограммы распределения числовых признаков по кластерам\n",
    "fig, axes = plt.subplots(ncols=3, nrows=2, figsize=(18, 10))\n",
    "\n",
    "for feature, ax in zip(num_columns, axes.flat): \n",
    "    for data in gym_churn.groupby('cluster')[feature]:\n",
    "        sns.boxplot(x ='cluster',y = feature, data = gym_churn, ax=ax)"
   ]
  },
  {
   "cell_type": "code",
   "execution_count": 34,
   "metadata": {},
   "outputs": [
    {
     "data": {
      "image/png": "[encoded data removed]",
      "text/plain": [
       "<Figure size 1296x864 with 8 Axes>"
      ]
     },
     "metadata": {
      "needs_background": "light"
     },
     "output_type": "display_data"
    }
   ],
   "source": [
    "# строим гистограммы распределения категориальных признаков по кластерам\n",
    "fig, axes = plt.subplots(ncols=4, nrows=2, figsize=(18, 12))\n",
    "\n",
    "for feature, ax in zip(cat_columns, axes.flat):\n",
    "    gym_churn.groupby(['cluster', feature])[feature].size().unstack(fill_value=0).plot.bar(ax=ax)"
   ]
  },
  {
   "cell_type": "markdown",
   "metadata": {},
   "source": [
    "Сравним признаки по выделенным кластерам:\n",
    "\n",
    "***`0 кластер`:***\n",
    "* высокое значение лайфтайма;\n",
    "* в основном клиенты проживают или работают рядом;\n",
    "* являются сотрудниками компании-партнёра клуба; \n",
    "* значительная часть пришла в рамках акции \"приведи друга\"; \n",
    "* имеют длительные контракты (12 мес.);\n",
    "* посещают групповые занятия;\n",
    "* посещают фитнес-клуб в среднем около 2 раз в неделю; \n",
    "* имеют очень низкий отток.\n",
    "\n",
    "***`1 кластер`:***\n",
    "* самая немногочисленная группа;\n",
    "* хороший лайфтайм;\n",
    "* посещают фитнес-клуб в среднем около 2 раз в неделю;\n",
    "* в основном клиенты проживают или работают рядом;\n",
    "* основная часть клиентов не были приглашены в рамках акции \"приведи друга\";\n",
    "* нет контактного номера телефона;\n",
    "* в основном имеют короткие контракты (1 мес);\n",
    "* примерно только половина клиентов посещает групповые занятия;\n",
    "* 1/3 клиентов покидают сервис\n",
    "\n",
    "***`2 кластер`:***\n",
    "* не проживают или работают рядом;\n",
    "* основная часть клиентов не были приглашены в рамках акции \"приведи друга\";\n",
    "* имеют короткие контракты (1 мес);\n",
    "* основная масса клиентов не посещают групповые занятия;\n",
    "* высокий отток\n",
    "\n",
    "***`3 кластер`:***\n",
    "* низкое значение лайфтайма клиента;\n",
    "* посещают фитнес-клуб в среднем около 1 раза в неделю;\n",
    "* клиенты проживают или работают только рядом;\n",
    "* в основном не являются сотрудниками компании-партнёра клуба;\n",
    "* основная часть клиентов не были приглашены в рамках акции \"приведи друга\";\n",
    "* имеют короткие контракты (1 мес);\n",
    "* основная масса клиентов не посещают групповые занятия;\n",
    "* имеют самый высокий отток \n",
    "\n",
    "***`4 кластер`:*** \n",
    "* наибольшие траты на дополнительные услуги;\n",
    "* преобладает gender 1;\n",
    "* в основном клиенты проживают или работают рядом;\n",
    "* большая часть является сотрудниками компании-партнёра клуба;\n",
    "* основная часть клиентов не были приглашены в рамках акции \"приведи друга\";\n",
    "* в основном имеют короткие контракты (1 мес);\n",
    "* около половины клиентов не посещает групповые занятия;\n",
    "* посещают фитнес-клуб в среднем около 3 раз в неделю;\n",
    "* низкий отток"
   ]
  },
  {
   "cell_type": "markdown",
   "metadata": {},
   "source": [
    "Благодаря кластеризации клиентов, мы можем увидеть достаточно четкое разделение по признакам и определить особенности и потребности клиентов, а затем сформулировать рекомендации по их удержанию."
   ]
  },
  {
   "cell_type": "markdown",
   "metadata": {},
   "source": [
    "Можно предположить, что клиенты кластера `0` скорее всего постоянные клиенты с длительными контрактами, а клиенты из кластера `4` пользуются короткими контрактами, но посещают чаще остальных и больше тратят на дополнительные услуги фитнес-центра. Кластеры `1`, `2`, `3` имеют значительный отток и клиентов из этих групп необходимо удерживать, разобравшись в причинах оттока. Здесь видим, что проблема оттока клиентов кластера `2` в том, что клиенты не проживают и не работают рядом с фитнес-центром и тратят время и деньги на дорогу. Клиента кластера `1` не оставили контактного телефона и с ними нельзя связаться, чтобы предложить услуги или получить отзыв. Клиенты кластера `2` не являются сотрудниками компании-партнёра и не имеют скидки на абонементы, также они не посещают по какой-то причине групповые занятия и, возможно, поэтому после истечения месячного абонемента не продолжают пользоваться сервисом."
   ]
  },
  {
   "cell_type": "markdown",
   "metadata": {},
   "source": [
    "Для каждого описанного выше кластера посчитаем точную долю оттока."
   ]
  },
  {
   "cell_type": "code",
   "execution_count": 35,
   "metadata": {},
   "outputs": [
    {
     "data": {
      "text/html": [
       "<div>\n",
       "<style scoped>\n",
       "    .dataframe tbody tr th:only-of-type {\n",
       "        vertical-align: middle;\n",
       "    }\n",
       "\n",
       "    .dataframe tbody tr th {\n",
       "        vertical-align: top;\n",
       "    }\n",
       "\n",
       "    .dataframe thead th {\n",
       "        text-align: right;\n",
       "    }\n",
       "</style>\n",
       "<table border=\"1\" class=\"dataframe\">\n",
       "  <thead>\n",
       "    <tr style=\"text-align: right;\">\n",
       "      <th></th>\n",
       "      <th>churn</th>\n",
       "      <th>%</th>\n",
       "    </tr>\n",
       "    <tr>\n",
       "      <th>cluster</th>\n",
       "      <th></th>\n",
       "      <th></th>\n",
       "    </tr>\n",
       "  </thead>\n",
       "  <tbody>\n",
       "    <tr>\n",
       "      <td>3</td>\n",
       "      <td>0.514263</td>\n",
       "      <td>51.43</td>\n",
       "    </tr>\n",
       "    <tr>\n",
       "      <td>2</td>\n",
       "      <td>0.443564</td>\n",
       "      <td>44.36</td>\n",
       "    </tr>\n",
       "    <tr>\n",
       "      <td>1</td>\n",
       "      <td>0.267532</td>\n",
       "      <td>26.75</td>\n",
       "    </tr>\n",
       "    <tr>\n",
       "      <td>4</td>\n",
       "      <td>0.068100</td>\n",
       "      <td>6.81</td>\n",
       "    </tr>\n",
       "    <tr>\n",
       "      <td>0</td>\n",
       "      <td>0.027695</td>\n",
       "      <td>2.77</td>\n",
       "    </tr>\n",
       "  </tbody>\n",
       "</table>\n",
       "</div>"
      ],
      "text/plain": [
       "            churn      %\n",
       "cluster                 \n",
       "3        0.514263  51.43\n",
       "2        0.443564  44.36\n",
       "1        0.267532  26.75\n",
       "4        0.068100   6.81\n",
       "0        0.027695   2.77"
      ]
     },
     "execution_count": 35,
     "metadata": {},
     "output_type": "execute_result"
    }
   ],
   "source": [
    "# группируем датасет по кластерам и находим среднее значение оттока\n",
    "gym_churn_mean = gym_churn.groupby('cluster')[['churn']].mean()\n",
    "# отдельный столбец для отображения доли в процентах\n",
    "gym_churn_mean['%'] = round(gym_churn_mean * 100, 2)\n",
    "# сортировка по убыванию процента оттока\n",
    "gym_churn_mean.sort_values(by='%', ascending=False)"
   ]
  },
  {
   "cell_type": "markdown",
   "metadata": {},
   "source": [
    "Действительно, кластеры отличаются по доле оттока клиентов. Видим, что кластеры `0` и `4` достаточно надежны, их доля оттока минимальна в сравнении с остальными. В свою очередь кластеры `1`, `2`, `3` склонны к оттоку, то есть клиенты из этих групп требуют дополнительного внимания и действий по их удержанию."
   ]
  },
  {
   "cell_type": "markdown",
   "metadata": {},
   "source": [
    "***Вывод***\n",
    "\n",
    "Для того, чтобы выделить группы клиентов по схожести их признаков мы провели их кластеризацию и визуализировали результат с помощью дендрограммы. С помощью алгоритма `K-Means` мы выделили 5 групп клиентов (кластеров), оценили средние значения признаков и построили их распределения. Кроме того, мы описали каждую группу клиентов, посчитали долю оттока для каждого кластера. Это позволило предположить особенности и потребности клиентов и теперь дает возможность сформулировать рекомендации по их удержанию."
   ]
  },
  {
   "cell_type": "markdown",
   "metadata": {},
   "source": [
    "## Общие выводы и рекомендации"
   ]
  },
  {
   "cell_type": "markdown",
   "metadata": {},
   "source": [
    "В нашем исследовании мы прогнозировали вероятность оттока гостей фитнес-центра по предоставленным данным анкет клиентов. Для построения модели бинарной классификации клиентов с целевым признаком факта оттока клиента в следующем месяце были использованы алгоритмы логической регрессии и случайного леса для обучения наших моделей (обучение с учителем). В результате мы сравнили обученные модели по метрикам и выяснили, что обе модели показали в прогнозе оттока клиентов себя одинаково хорошо. Метрика для доли правильных ответов и метрика качества модели для них поставила более 90%. Что позволяет прогнозировать отток клиентов фитнес-центра с высокой точностью по существующим в анкете признакам.\n",
    "\n",
    "Также мы провели кластеризацию клиентов и выделили 5 клиентов (кластеров). Исследовав особенности каждого кластера, мы описали каждую группу клиентов, сформировали их типичные портреты и посчитали долю оттока для каждого кластера. Изучив основные признаки мы выделили из них те, что значительно влияют на отток в каждой группе клиентов. Проведенный анализ позволил сформировать следующие рекомендации по повышению качества работы с клиентами и их удержания:\n",
    "\n",
    "1) Несмотря на то, что группы `0` и `4` достаточно надежны, нельзя забывать о предоставлении привилегий постоянным клиентам и скидок на длительные абонементы клиентам, которые пользуются услугами часто, но приобретают только месячные абонементы.\n",
    "\n",
    "2) Категория клиентов из группы `2`, которые не проживают или работают рядом с фитнес-клубом и имеют большой отток особенно нуждается в привлечении, например, скидками на 6- и 12-ти месячные абонементы. Посколько данная категория едва посещает групповые занятия, возможно, необходимо рассказать о преимуществах данных занятий дополнительно.\n",
    "\n",
    "3) Отсутствие в анкете номера телефона для клиентов категории `1` может серьезно сказываться на оттоке данного вида клиентов. Возможно, они не получают рекламную информацию и фитнес-клуб не может получить от таких клиентов обратную связь и сделать привлекательные предложения по посещению фитнес-клуба или продлению действующего абонемента. Стоит рассмотреть альтернативные средства связи с клиентами, например, email рассылки.\n",
    "\n",
    "4) Клиенты группы `3`, имеющие наиболее высокое значение оттока, не имеют скидку на абонементы, так как не являются сотрудниками компаний-партнеров фитнес-клуба и чаще всего не использовали промокод по акции \"приведи друга\". Для таких клиентов необходим предусмотреть дополнительные скидки на более длительные абонементы или на дополнительные услуги фитнес-центра. "
   ]
  },
  {
   "cell_type": "markdown",
   "metadata": {},
   "source": [
    "Таким образом, внимательное отношение к каждой группе клиентов, предоставление скидок на длительные абонементы и дополнительные услуги фитнес-центра, а также грамотная реклама услуг и преимуществ позволит бизнесу удержать значительную часть существующих клиентов."
   ]
  }
 ],
 "metadata": {
  "ExecuteTimeLog": [
   {
    "duration": 1652,
    "start_time": "2022-03-08T20:05:16.987Z"
   },
   {
    "duration": 26,
    "start_time": "2022-03-08T20:05:20.918Z"
   },
   {
    "duration": 526,
    "start_time": "2022-03-08T20:05:23.837Z"
   },
   {
    "duration": 23,
    "start_time": "2022-03-08T20:05:34.229Z"
   },
   {
    "duration": 11,
    "start_time": "2022-03-08T20:06:55.702Z"
   },
   {
    "duration": 4,
    "start_time": "2022-03-08T20:09:31.057Z"
   },
   {
    "duration": 13,
    "start_time": "2022-03-08T20:09:33.839Z"
   },
   {
    "duration": 26,
    "start_time": "2022-03-08T20:39:38.010Z"
   },
   {
    "duration": 1784,
    "start_time": "2022-03-08T21:01:13.626Z"
   },
   {
    "duration": 22,
    "start_time": "2022-03-08T21:01:15.413Z"
   },
   {
    "duration": 43,
    "start_time": "2022-03-08T21:01:15.438Z"
   },
   {
    "duration": 11,
    "start_time": "2022-03-08T21:01:15.484Z"
   },
   {
    "duration": 8,
    "start_time": "2022-03-08T21:01:15.499Z"
   },
   {
    "duration": 7,
    "start_time": "2022-03-08T21:01:15.509Z"
   },
   {
    "duration": 25,
    "start_time": "2022-03-08T21:03:06.401Z"
   },
   {
    "duration": 23,
    "start_time": "2022-03-08T21:03:37.914Z"
   },
   {
    "duration": 18,
    "start_time": "2022-03-08T22:08:52.634Z"
   },
   {
    "duration": 19,
    "start_time": "2022-03-08T22:31:27.351Z"
   },
   {
    "duration": 18,
    "start_time": "2022-03-08T22:31:39.602Z"
   },
   {
    "duration": 71,
    "start_time": "2022-03-08T22:34:39.172Z"
   },
   {
    "duration": 19,
    "start_time": "2022-03-08T22:42:13.078Z"
   },
   {
    "duration": 18,
    "start_time": "2022-03-08T22:42:29.699Z"
   },
   {
    "duration": 948,
    "start_time": "2022-03-08T23:03:05.876Z"
   },
   {
    "duration": 13,
    "start_time": "2022-03-08T23:03:34.248Z"
   },
   {
    "duration": 29,
    "start_time": "2022-03-08T23:03:48.374Z"
   },
   {
    "duration": 15,
    "start_time": "2022-03-08T23:08:56.998Z"
   },
   {
    "duration": 4309,
    "start_time": "2022-03-08T23:17:42.701Z"
   },
   {
    "duration": 7413,
    "start_time": "2022-03-08T23:20:06.669Z"
   },
   {
    "duration": 308,
    "start_time": "2022-03-08T23:20:23.648Z"
   },
   {
    "duration": 7322,
    "start_time": "2022-03-08T23:20:35.975Z"
   },
   {
    "duration": 344,
    "start_time": "2022-03-08T23:21:13.471Z"
   },
   {
    "duration": 5647,
    "start_time": "2022-03-08T23:21:24.642Z"
   },
   {
    "duration": 200,
    "start_time": "2022-03-08T23:21:43.009Z"
   },
   {
    "duration": 209,
    "start_time": "2022-03-08T23:21:55.409Z"
   },
   {
    "duration": 31,
    "start_time": "2022-03-08T23:22:29.384Z"
   },
   {
    "duration": 34,
    "start_time": "2022-03-08T23:22:59.710Z"
   },
   {
    "duration": 12,
    "start_time": "2022-03-08T23:23:12.130Z"
   },
   {
    "duration": 4379,
    "start_time": "2022-03-08T23:23:24.420Z"
   },
   {
    "duration": 11,
    "start_time": "2022-03-08T23:23:34.552Z"
   },
   {
    "duration": 4329,
    "start_time": "2022-03-08T23:23:38.435Z"
   },
   {
    "duration": 4281,
    "start_time": "2022-03-08T23:24:01.553Z"
   },
   {
    "duration": 19,
    "start_time": "2022-03-08T23:36:13.189Z"
   },
   {
    "duration": 32,
    "start_time": "2022-03-08T23:36:46.218Z"
   },
   {
    "duration": 1553,
    "start_time": "2022-03-08T23:39:24.738Z"
   },
   {
    "duration": 1586,
    "start_time": "2022-03-08T23:39:46.206Z"
   },
   {
    "duration": 1506,
    "start_time": "2022-03-08T23:39:58.682Z"
   },
   {
    "duration": 1549,
    "start_time": "2022-03-08T23:40:13.714Z"
   },
   {
    "duration": 1426,
    "start_time": "2022-03-08T23:40:21.749Z"
   },
   {
    "duration": 1679,
    "start_time": "2022-03-08T23:40:33.168Z"
   },
   {
    "duration": 1589,
    "start_time": "2022-03-08T23:40:37.836Z"
   },
   {
    "duration": 1717,
    "start_time": "2022-03-08T23:41:34.447Z"
   },
   {
    "duration": 397,
    "start_time": "2022-03-09T11:05:14.002Z"
   },
   {
    "duration": 1498,
    "start_time": "2022-03-09T11:05:23.048Z"
   },
   {
    "duration": 40,
    "start_time": "2022-03-09T11:05:24.549Z"
   },
   {
    "duration": 25,
    "start_time": "2022-03-09T11:05:24.592Z"
   },
   {
    "duration": 23,
    "start_time": "2022-03-09T11:05:24.620Z"
   },
   {
    "duration": 4,
    "start_time": "2022-03-09T11:05:24.646Z"
   },
   {
    "duration": 5,
    "start_time": "2022-03-09T11:05:24.653Z"
   },
   {
    "duration": 21,
    "start_time": "2022-03-09T11:05:24.661Z"
   },
   {
    "duration": 549,
    "start_time": "2022-03-09T11:05:24.686Z"
   },
   {
    "duration": -219,
    "start_time": "2022-03-09T11:05:25.456Z"
   },
   {
    "duration": -220,
    "start_time": "2022-03-09T11:05:25.458Z"
   },
   {
    "duration": -220,
    "start_time": "2022-03-09T11:05:25.460Z"
   },
   {
    "duration": -221,
    "start_time": "2022-03-09T11:05:25.462Z"
   },
   {
    "duration": -220,
    "start_time": "2022-03-09T11:05:25.463Z"
   },
   {
    "duration": -220,
    "start_time": "2022-03-09T11:05:25.464Z"
   },
   {
    "duration": 7072,
    "start_time": "2022-03-09T11:06:20.560Z"
   },
   {
    "duration": 6871,
    "start_time": "2022-03-09T11:07:19.749Z"
   },
   {
    "duration": 7029,
    "start_time": "2022-03-09T11:07:57.241Z"
   },
   {
    "duration": 279,
    "start_time": "2022-03-09T11:08:48.580Z"
   },
   {
    "duration": 40,
    "start_time": "2022-03-09T11:09:18.753Z"
   },
   {
    "duration": 39,
    "start_time": "2022-03-09T11:09:36.182Z"
   },
   {
    "duration": 29,
    "start_time": "2022-03-09T11:14:14.788Z"
   },
   {
    "duration": 45,
    "start_time": "2022-03-09T11:26:34.779Z"
   },
   {
    "duration": 32,
    "start_time": "2022-03-09T11:26:53.206Z"
   },
   {
    "duration": 14,
    "start_time": "2022-03-09T11:27:46.616Z"
   },
   {
    "duration": 2301,
    "start_time": "2022-03-09T11:27:48.534Z"
   },
   {
    "duration": 2032,
    "start_time": "2022-03-09T11:27:55.986Z"
   },
   {
    "duration": 21,
    "start_time": "2022-03-09T11:28:29.574Z"
   },
   {
    "duration": 930,
    "start_time": "2022-03-09T11:28:37.894Z"
   },
   {
    "duration": 317,
    "start_time": "2022-03-09T12:19:47.137Z"
   },
   {
    "duration": 43,
    "start_time": "2022-03-09T12:19:50.495Z"
   },
   {
    "duration": 24,
    "start_time": "2022-03-09T12:19:53.195Z"
   },
   {
    "duration": 314,
    "start_time": "2022-03-09T12:21:17.748Z"
   },
   {
    "duration": 97,
    "start_time": "2022-03-09T12:22:01.009Z"
   },
   {
    "duration": 4293,
    "start_time": "2022-03-09T12:22:04.958Z"
   },
   {
    "duration": 4111,
    "start_time": "2022-03-09T12:22:09.542Z"
   },
   {
    "duration": 16,
    "start_time": "2022-03-09T12:26:57.468Z"
   },
   {
    "duration": 805,
    "start_time": "2022-03-09T12:27:06.581Z"
   },
   {
    "duration": 23,
    "start_time": "2022-03-09T12:31:37.025Z"
   },
   {
    "duration": 73033,
    "start_time": "2022-03-09T12:31:59.762Z"
   },
   {
    "duration": 74233,
    "start_time": "2022-03-09T12:33:30.284Z"
   },
   {
    "duration": 42,
    "start_time": "2022-03-09T13:05:24.474Z"
   },
   {
    "duration": 23,
    "start_time": "2022-03-09T13:05:27.630Z"
   },
   {
    "duration": 11,
    "start_time": "2022-03-09T13:05:35.863Z"
   },
   {
    "duration": 294,
    "start_time": "2022-03-09T13:08:04.022Z"
   },
   {
    "duration": 1820,
    "start_time": "2022-03-09T13:08:53.537Z"
   },
   {
    "duration": 402,
    "start_time": "2022-03-09T13:11:36.170Z"
   },
   {
    "duration": 4,
    "start_time": "2022-03-09T13:11:45.991Z"
   },
   {
    "duration": 1792,
    "start_time": "2022-03-09T13:11:51.104Z"
   },
   {
    "duration": 2231,
    "start_time": "2022-03-09T13:11:56.722Z"
   },
   {
    "duration": 2629,
    "start_time": "2022-03-09T13:13:38.003Z"
   },
   {
    "duration": 276,
    "start_time": "2022-03-09T13:18:12.626Z"
   },
   {
    "duration": 1709,
    "start_time": "2022-03-09T13:18:28.728Z"
   },
   {
    "duration": 318,
    "start_time": "2022-03-09T13:20:47.535Z"
   },
   {
    "duration": 306,
    "start_time": "2022-03-09T13:22:19.975Z"
   },
   {
    "duration": 348,
    "start_time": "2022-03-09T13:22:40.247Z"
   },
   {
    "duration": 2570,
    "start_time": "2022-03-09T13:24:02.981Z"
   },
   {
    "duration": 2263,
    "start_time": "2022-03-09T13:24:08.581Z"
   },
   {
    "duration": -155,
    "start_time": "2022-03-09T13:29:49.562Z"
   },
   {
    "duration": 1620,
    "start_time": "2022-03-09T13:32:00.748Z"
   },
   {
    "duration": 28,
    "start_time": "2022-03-09T13:32:02.371Z"
   },
   {
    "duration": 22,
    "start_time": "2022-03-09T13:32:02.401Z"
   },
   {
    "duration": 10,
    "start_time": "2022-03-09T13:32:02.434Z"
   },
   {
    "duration": 4,
    "start_time": "2022-03-09T13:32:02.446Z"
   },
   {
    "duration": 8,
    "start_time": "2022-03-09T13:32:02.452Z"
   },
   {
    "duration": 19,
    "start_time": "2022-03-09T13:32:02.463Z"
   },
   {
    "duration": 76,
    "start_time": "2022-03-09T13:32:02.485Z"
   },
   {
    "duration": 24,
    "start_time": "2022-03-09T13:32:02.564Z"
   },
   {
    "duration": 14,
    "start_time": "2022-03-09T13:32:02.590Z"
   },
   {
    "duration": 28,
    "start_time": "2022-03-09T13:32:02.606Z"
   },
   {
    "duration": 1931,
    "start_time": "2022-03-09T13:32:02.637Z"
   },
   {
    "duration": 56798,
    "start_time": "2022-03-09T13:32:04.571Z"
   },
   {
    "duration": 322,
    "start_time": "2022-03-09T13:33:03.111Z"
   },
   {
    "duration": -24,
    "start_time": "2022-03-09T13:33:03.460Z"
   },
   {
    "duration": -25,
    "start_time": "2022-03-09T13:33:03.462Z"
   },
   {
    "duration": 4320,
    "start_time": "2022-03-09T13:33:43.440Z"
   },
   {
    "duration": 3973,
    "start_time": "2022-03-09T13:34:09.494Z"
   },
   {
    "duration": 290,
    "start_time": "2022-03-09T13:34:16.230Z"
   },
   {
    "duration": 37,
    "start_time": "2022-03-09T13:34:31.236Z"
   },
   {
    "duration": 16,
    "start_time": "2022-03-09T13:35:00.066Z"
   },
   {
    "duration": -251,
    "start_time": "2022-03-09T13:35:29.084Z"
   },
   {
    "duration": 1181,
    "start_time": "2022-03-09T13:35:36.299Z"
   },
   {
    "duration": 1031,
    "start_time": "2022-03-09T13:35:46.167Z"
   },
   {
    "duration": 29,
    "start_time": "2022-03-09T13:38:15.197Z"
   },
   {
    "duration": 1826,
    "start_time": "2022-03-09T13:38:33.783Z"
   },
   {
    "duration": 1124,
    "start_time": "2022-03-11T13:52:09.926Z"
   },
   {
    "duration": 23,
    "start_time": "2022-03-11T13:52:11.052Z"
   },
   {
    "duration": 13,
    "start_time": "2022-03-11T13:52:11.077Z"
   },
   {
    "duration": 13,
    "start_time": "2022-03-11T13:52:11.092Z"
   },
   {
    "duration": 2,
    "start_time": "2022-03-11T13:52:11.107Z"
   },
   {
    "duration": 7,
    "start_time": "2022-03-11T13:52:11.111Z"
   },
   {
    "duration": 20,
    "start_time": "2022-03-11T13:52:11.120Z"
   },
   {
    "duration": 27,
    "start_time": "2022-03-11T13:52:11.143Z"
   },
   {
    "duration": 34,
    "start_time": "2022-03-11T13:52:11.172Z"
   },
   {
    "duration": 8,
    "start_time": "2022-03-11T13:52:11.208Z"
   },
   {
    "duration": 94,
    "start_time": "2022-03-11T13:52:11.217Z"
   },
   {
    "duration": -29,
    "start_time": "2022-03-11T13:52:11.342Z"
   },
   {
    "duration": -30,
    "start_time": "2022-03-11T13:52:11.344Z"
   },
   {
    "duration": -31,
    "start_time": "2022-03-11T13:52:11.346Z"
   },
   {
    "duration": -32,
    "start_time": "2022-03-11T13:52:11.348Z"
   },
   {
    "duration": -33,
    "start_time": "2022-03-11T13:52:11.350Z"
   },
   {
    "duration": 1129,
    "start_time": "2022-03-11T13:52:20.539Z"
   },
   {
    "duration": 2375,
    "start_time": "2022-03-11T13:59:18.638Z"
   },
   {
    "duration": 342,
    "start_time": "2022-03-11T14:01:02.965Z"
   },
   {
    "duration": 3,
    "start_time": "2022-03-11T14:01:05.412Z"
   },
   {
    "duration": 1361,
    "start_time": "2022-03-11T14:01:06.777Z"
   },
   {
    "duration": 2,
    "start_time": "2022-03-11T14:01:31.801Z"
   },
   {
    "duration": 970,
    "start_time": "2022-03-11T14:01:45.726Z"
   },
   {
    "duration": 10,
    "start_time": "2022-03-11T14:02:39.929Z"
   },
   {
    "duration": 17,
    "start_time": "2022-03-11T14:03:24.226Z"
   },
   {
    "duration": 1032,
    "start_time": "2022-03-11T14:03:33.745Z"
   },
   {
    "duration": 241,
    "start_time": "2022-03-11T14:06:09.734Z"
   },
   {
    "duration": 306,
    "start_time": "2022-03-11T14:06:30.122Z"
   },
   {
    "duration": 209,
    "start_time": "2022-03-11T14:07:15.148Z"
   },
   {
    "duration": 224,
    "start_time": "2022-03-11T14:09:36.363Z"
   },
   {
    "duration": 233,
    "start_time": "2022-03-11T14:09:48.099Z"
   },
   {
    "duration": 244,
    "start_time": "2022-03-11T14:10:04.907Z"
   },
   {
    "duration": 229,
    "start_time": "2022-03-11T14:10:53.465Z"
   },
   {
    "duration": 11,
    "start_time": "2022-03-11T14:16:56.624Z"
   },
   {
    "duration": 181,
    "start_time": "2022-03-11T14:17:32.283Z"
   },
   {
    "duration": 268,
    "start_time": "2022-03-11T14:18:03.357Z"
   },
   {
    "duration": 257,
    "start_time": "2022-03-11T14:18:19.980Z"
   },
   {
    "duration": 281,
    "start_time": "2022-03-11T14:18:25.634Z"
   },
   {
    "duration": 388,
    "start_time": "2022-03-11T14:20:03.263Z"
   },
   {
    "duration": 237,
    "start_time": "2022-03-11T14:21:02.387Z"
   },
   {
    "duration": 219,
    "start_time": "2022-03-11T14:21:52.743Z"
   },
   {
    "duration": 233,
    "start_time": "2022-03-11T14:22:22.022Z"
   },
   {
    "duration": 322,
    "start_time": "2022-03-11T14:24:26.362Z"
   },
   {
    "duration": 1341,
    "start_time": "2022-03-11T14:26:30.096Z"
   },
   {
    "duration": 1291,
    "start_time": "2022-03-11T14:26:46.137Z"
   },
   {
    "duration": 1121,
    "start_time": "2022-03-11T14:27:22.341Z"
   },
   {
    "duration": 1115,
    "start_time": "2022-03-11T14:28:28.655Z"
   },
   {
    "duration": 1138,
    "start_time": "2022-03-11T14:29:00.806Z"
   },
   {
    "duration": 1033,
    "start_time": "2022-03-11T14:29:24.190Z"
   },
   {
    "duration": 1269,
    "start_time": "2022-03-11T14:30:03.295Z"
   },
   {
    "duration": 1112,
    "start_time": "2022-03-11T14:30:22.317Z"
   },
   {
    "duration": 1155,
    "start_time": "2022-03-11T14:30:30.250Z"
   },
   {
    "duration": 1192,
    "start_time": "2022-03-11T14:30:41.315Z"
   },
   {
    "duration": 1144,
    "start_time": "2022-03-11T14:30:53.569Z"
   },
   {
    "duration": 1643,
    "start_time": "2022-03-11T14:38:17.595Z"
   },
   {
    "duration": 2301,
    "start_time": "2022-03-11T14:40:48.174Z"
   },
   {
    "duration": 1980,
    "start_time": "2022-03-11T14:41:19.336Z"
   },
   {
    "duration": 1138,
    "start_time": "2022-03-11T14:43:20.362Z"
   },
   {
    "duration": 1276,
    "start_time": "2022-03-11T14:45:56.762Z"
   },
   {
    "duration": 1055,
    "start_time": "2022-03-11T14:46:34.488Z"
   },
   {
    "duration": 1793,
    "start_time": "2022-03-11T14:49:27.127Z"
   },
   {
    "duration": 791,
    "start_time": "2022-03-11T14:50:05.687Z"
   },
   {
    "duration": 630,
    "start_time": "2022-03-11T14:50:31.892Z"
   },
   {
    "duration": 641,
    "start_time": "2022-03-11T14:50:49.045Z"
   },
   {
    "duration": 969,
    "start_time": "2022-03-11T14:50:57.630Z"
   },
   {
    "duration": 841,
    "start_time": "2022-03-11T14:51:34.035Z"
   },
   {
    "duration": 1047,
    "start_time": "2022-03-11T14:51:48.654Z"
   },
   {
    "duration": 1365,
    "start_time": "2022-03-11T14:52:02.023Z"
   },
   {
    "duration": 802,
    "start_time": "2022-03-11T14:52:21.096Z"
   },
   {
    "duration": 992,
    "start_time": "2022-03-11T15:04:24.472Z"
   },
   {
    "duration": 908,
    "start_time": "2022-03-11T15:05:26.705Z"
   },
   {
    "duration": 177,
    "start_time": "2022-03-12T00:56:14.474Z"
   },
   {
    "duration": 1184,
    "start_time": "2022-03-12T00:56:21.045Z"
   },
   {
    "duration": 17,
    "start_time": "2022-03-12T00:56:22.232Z"
   },
   {
    "duration": 14,
    "start_time": "2022-03-12T00:56:22.251Z"
   },
   {
    "duration": 7,
    "start_time": "2022-03-12T00:56:22.267Z"
   },
   {
    "duration": 5,
    "start_time": "2022-03-12T00:56:22.275Z"
   },
   {
    "duration": 6,
    "start_time": "2022-03-12T00:56:22.282Z"
   },
   {
    "duration": 14,
    "start_time": "2022-03-12T00:56:22.289Z"
   },
   {
    "duration": 54,
    "start_time": "2022-03-12T00:56:22.305Z"
   },
   {
    "duration": 15,
    "start_time": "2022-03-12T00:56:22.362Z"
   },
   {
    "duration": 8,
    "start_time": "2022-03-12T00:56:22.379Z"
   },
   {
    "duration": 1376,
    "start_time": "2022-03-12T00:56:22.388Z"
   },
   {
    "duration": 938,
    "start_time": "2022-03-12T00:56:23.766Z"
   },
   {
    "duration": 1012,
    "start_time": "2022-03-12T00:56:24.705Z"
   },
   {
    "duration": 960,
    "start_time": "2022-03-12T00:56:25.719Z"
   },
   {
    "duration": 19,
    "start_time": "2022-03-12T00:56:26.681Z"
   },
   {
    "duration": 1135,
    "start_time": "2022-03-12T00:56:26.702Z"
   },
   {
    "duration": 4,
    "start_time": "2022-03-12T00:56:27.839Z"
   },
   {
    "duration": 9,
    "start_time": "2022-03-12T00:56:27.844Z"
   },
   {
    "duration": 7,
    "start_time": "2022-03-12T00:56:27.855Z"
   },
   {
    "duration": 3,
    "start_time": "2022-03-12T00:56:27.863Z"
   },
   {
    "duration": 7,
    "start_time": "2022-03-12T00:56:27.867Z"
   },
   {
    "duration": 7,
    "start_time": "2022-03-12T00:56:27.876Z"
   },
   {
    "duration": 485,
    "start_time": "2022-03-12T00:56:27.885Z"
   },
   {
    "duration": 1139,
    "start_time": "2022-03-12T00:58:04.187Z"
   },
   {
    "duration": 18,
    "start_time": "2022-03-12T00:58:05.328Z"
   },
   {
    "duration": 15,
    "start_time": "2022-03-12T00:58:05.348Z"
   },
   {
    "duration": 9,
    "start_time": "2022-03-12T00:58:05.365Z"
   },
   {
    "duration": 4,
    "start_time": "2022-03-12T00:58:05.376Z"
   },
   {
    "duration": 6,
    "start_time": "2022-03-12T00:58:05.382Z"
   },
   {
    "duration": 15,
    "start_time": "2022-03-12T00:58:05.390Z"
   },
   {
    "duration": 52,
    "start_time": "2022-03-12T00:58:05.406Z"
   },
   {
    "duration": 17,
    "start_time": "2022-03-12T00:58:05.460Z"
   },
   {
    "duration": 8,
    "start_time": "2022-03-12T00:58:05.479Z"
   },
   {
    "duration": 1168,
    "start_time": "2022-03-12T00:58:05.488Z"
   },
   {
    "duration": 959,
    "start_time": "2022-03-12T00:58:06.657Z"
   },
   {
    "duration": 1012,
    "start_time": "2022-03-12T00:58:07.618Z"
   },
   {
    "duration": 965,
    "start_time": "2022-03-12T00:58:08.632Z"
   },
   {
    "duration": 20,
    "start_time": "2022-03-12T00:58:09.599Z"
   },
   {
    "duration": 1142,
    "start_time": "2022-03-12T00:58:09.621Z"
   },
   {
    "duration": 4,
    "start_time": "2022-03-12T00:58:10.765Z"
   },
   {
    "duration": 11,
    "start_time": "2022-03-12T00:58:10.771Z"
   },
   {
    "duration": 7,
    "start_time": "2022-03-12T00:58:10.784Z"
   },
   {
    "duration": 4,
    "start_time": "2022-03-12T00:58:10.793Z"
   },
   {
    "duration": 8,
    "start_time": "2022-03-12T00:58:10.798Z"
   },
   {
    "duration": 7,
    "start_time": "2022-03-12T00:58:10.807Z"
   },
   {
    "duration": 528,
    "start_time": "2022-03-12T00:58:10.816Z"
   },
   {
    "duration": 5,
    "start_time": "2022-03-12T01:10:29.667Z"
   },
   {
    "duration": 1328,
    "start_time": "2022-03-12T01:36:36.506Z"
   },
   {
    "duration": 18,
    "start_time": "2022-03-12T01:36:37.836Z"
   },
   {
    "duration": 14,
    "start_time": "2022-03-12T01:36:37.856Z"
   },
   {
    "duration": 8,
    "start_time": "2022-03-12T01:36:37.872Z"
   },
   {
    "duration": 3,
    "start_time": "2022-03-12T01:36:37.881Z"
   },
   {
    "duration": 6,
    "start_time": "2022-03-12T01:36:37.886Z"
   },
   {
    "duration": 12,
    "start_time": "2022-03-12T01:36:37.893Z"
   },
   {
    "duration": 48,
    "start_time": "2022-03-12T01:36:37.908Z"
   },
   {
    "duration": 15,
    "start_time": "2022-03-12T01:36:37.958Z"
   },
   {
    "duration": 7,
    "start_time": "2022-03-12T01:36:37.975Z"
   },
   {
    "duration": 1384,
    "start_time": "2022-03-12T01:36:37.983Z"
   },
   {
    "duration": 978,
    "start_time": "2022-03-12T01:36:39.369Z"
   },
   {
    "duration": 1252,
    "start_time": "2022-03-12T01:36:40.349Z"
   },
   {
    "duration": 1039,
    "start_time": "2022-03-12T01:36:41.602Z"
   },
   {
    "duration": 18,
    "start_time": "2022-03-12T01:36:42.642Z"
   },
   {
    "duration": 1270,
    "start_time": "2022-03-12T01:36:42.662Z"
   },
   {
    "duration": 6,
    "start_time": "2022-03-12T01:36:43.934Z"
   },
   {
    "duration": 10,
    "start_time": "2022-03-12T01:36:43.941Z"
   },
   {
    "duration": 7,
    "start_time": "2022-03-12T01:36:43.953Z"
   },
   {
    "duration": 8,
    "start_time": "2022-03-12T01:36:43.962Z"
   },
   {
    "duration": 236,
    "start_time": "2022-03-12T01:36:43.972Z"
   },
   {
    "duration": -21,
    "start_time": "2022-03-12T01:36:44.231Z"
   },
   {
    "duration": -22,
    "start_time": "2022-03-12T01:36:44.233Z"
   },
   {
    "duration": -23,
    "start_time": "2022-03-12T01:36:44.235Z"
   },
   {
    "duration": 237,
    "start_time": "2022-03-12T01:37:54.590Z"
   },
   {
    "duration": 232,
    "start_time": "2022-03-12T01:46:29.407Z"
   },
   {
    "duration": 4,
    "start_time": "2022-03-12T01:46:34.732Z"
   },
   {
    "duration": 337,
    "start_time": "2022-03-12T01:46:38.472Z"
   },
   {
    "duration": 4,
    "start_time": "2022-03-12T01:47:09.007Z"
   },
   {
    "duration": 4,
    "start_time": "2022-03-12T01:47:40.561Z"
   },
   {
    "duration": 485,
    "start_time": "2022-03-12T01:47:42.079Z"
   },
   {
    "duration": 489,
    "start_time": "2022-03-12T01:50:00.675Z"
   },
   {
    "duration": 3,
    "start_time": "2022-03-12T01:53:16.237Z"
   },
   {
    "duration": 540,
    "start_time": "2022-03-12T01:53:19.020Z"
   },
   {
    "duration": 4,
    "start_time": "2022-03-12T02:09:08.647Z"
   },
   {
    "duration": 489,
    "start_time": "2022-03-12T02:09:10.967Z"
   },
   {
    "duration": 6,
    "start_time": "2022-03-12T02:23:12.403Z"
   },
   {
    "duration": 8,
    "start_time": "2022-03-12T02:23:40.709Z"
   },
   {
    "duration": 17,
    "start_time": "2022-03-12T02:25:50.541Z"
   },
   {
    "duration": 19,
    "start_time": "2022-03-12T02:33:57.110Z"
   },
   {
    "duration": 1191,
    "start_time": "2022-03-12T11:16:56.356Z"
   },
   {
    "duration": 19,
    "start_time": "2022-03-12T11:16:57.549Z"
   },
   {
    "duration": 16,
    "start_time": "2022-03-12T11:16:57.570Z"
   },
   {
    "duration": 12,
    "start_time": "2022-03-12T11:16:57.588Z"
   },
   {
    "duration": 3,
    "start_time": "2022-03-12T11:16:57.602Z"
   },
   {
    "duration": 6,
    "start_time": "2022-03-12T11:16:57.607Z"
   },
   {
    "duration": 35,
    "start_time": "2022-03-12T11:16:57.615Z"
   },
   {
    "duration": 32,
    "start_time": "2022-03-12T11:16:57.653Z"
   },
   {
    "duration": 52,
    "start_time": "2022-03-12T11:16:57.688Z"
   },
   {
    "duration": 11,
    "start_time": "2022-03-12T11:16:57.743Z"
   },
   {
    "duration": 1535,
    "start_time": "2022-03-12T11:16:57.756Z"
   },
   {
    "duration": 1067,
    "start_time": "2022-03-12T11:16:59.293Z"
   },
   {
    "duration": 1128,
    "start_time": "2022-03-12T11:17:00.362Z"
   },
   {
    "duration": 1107,
    "start_time": "2022-03-12T11:17:01.495Z"
   },
   {
    "duration": 22,
    "start_time": "2022-03-12T11:17:02.604Z"
   },
   {
    "duration": 1178,
    "start_time": "2022-03-12T11:17:02.638Z"
   },
   {
    "duration": 7,
    "start_time": "2022-03-12T11:17:03.818Z"
   },
   {
    "duration": 19,
    "start_time": "2022-03-12T11:17:03.838Z"
   },
   {
    "duration": 7,
    "start_time": "2022-03-12T11:17:03.859Z"
   },
   {
    "duration": 11,
    "start_time": "2022-03-12T11:17:03.867Z"
   },
   {
    "duration": 4,
    "start_time": "2022-03-12T11:17:03.880Z"
   },
   {
    "duration": 487,
    "start_time": "2022-03-12T11:17:03.886Z"
   },
   {
    "duration": 17,
    "start_time": "2022-03-12T11:17:04.377Z"
   },
   {
    "duration": 231,
    "start_time": "2022-03-12T11:17:04.396Z"
   },
   {
    "duration": 8,
    "start_time": "2022-03-12T11:17:43.224Z"
   },
   {
    "duration": 10,
    "start_time": "2022-03-12T11:18:06.988Z"
   },
   {
    "duration": 141,
    "start_time": "2022-03-12T11:18:22.313Z"
   },
   {
    "duration": 1003,
    "start_time": "2022-03-12T11:18:39.311Z"
   },
   {
    "duration": 10,
    "start_time": "2022-03-12T11:18:47.146Z"
   },
   {
    "duration": 1343,
    "start_time": "2022-03-12T20:44:13.104Z"
   },
   {
    "duration": 31,
    "start_time": "2022-03-12T20:44:14.449Z"
   },
   {
    "duration": 14,
    "start_time": "2022-03-12T20:44:14.482Z"
   },
   {
    "duration": 9,
    "start_time": "2022-03-12T20:44:14.498Z"
   },
   {
    "duration": 2,
    "start_time": "2022-03-12T20:44:14.509Z"
   },
   {
    "duration": 5,
    "start_time": "2022-03-12T20:44:14.513Z"
   },
   {
    "duration": 14,
    "start_time": "2022-03-12T20:44:14.519Z"
   },
   {
    "duration": 41,
    "start_time": "2022-03-12T20:44:14.536Z"
   },
   {
    "duration": 15,
    "start_time": "2022-03-12T20:44:14.579Z"
   },
   {
    "duration": 7,
    "start_time": "2022-03-12T20:44:14.595Z"
   },
   {
    "duration": 1113,
    "start_time": "2022-03-12T20:44:14.604Z"
   },
   {
    "duration": 884,
    "start_time": "2022-03-12T20:44:15.719Z"
   },
   {
    "duration": 943,
    "start_time": "2022-03-12T20:44:16.605Z"
   },
   {
    "duration": 891,
    "start_time": "2022-03-12T20:44:17.550Z"
   },
   {
    "duration": 32,
    "start_time": "2022-03-12T20:44:18.443Z"
   },
   {
    "duration": 1040,
    "start_time": "2022-03-12T20:44:18.477Z"
   },
   {
    "duration": 6,
    "start_time": "2022-03-12T20:44:19.519Z"
   },
   {
    "duration": 6,
    "start_time": "2022-03-12T20:44:19.527Z"
   },
   {
    "duration": 8,
    "start_time": "2022-03-12T20:44:19.534Z"
   },
   {
    "duration": 22,
    "start_time": "2022-03-12T20:44:19.544Z"
   },
   {
    "duration": 3,
    "start_time": "2022-03-12T20:44:19.568Z"
   },
   {
    "duration": 524,
    "start_time": "2022-03-12T20:44:19.573Z"
   },
   {
    "duration": 16,
    "start_time": "2022-03-12T20:44:20.100Z"
   },
   {
    "duration": 6,
    "start_time": "2022-03-12T20:50:17.380Z"
   },
   {
    "duration": 873,
    "start_time": "2022-03-12T20:50:34.578Z"
   },
   {
    "duration": 1184,
    "start_time": "2022-03-12T20:50:52.150Z"
   },
   {
    "duration": 16,
    "start_time": "2022-03-12T20:50:53.336Z"
   },
   {
    "duration": 15,
    "start_time": "2022-03-12T20:50:53.354Z"
   },
   {
    "duration": 8,
    "start_time": "2022-03-12T20:50:53.371Z"
   },
   {
    "duration": 3,
    "start_time": "2022-03-12T20:50:53.381Z"
   },
   {
    "duration": 5,
    "start_time": "2022-03-12T20:50:53.386Z"
   },
   {
    "duration": 13,
    "start_time": "2022-03-12T20:50:53.393Z"
   },
   {
    "duration": 26,
    "start_time": "2022-03-12T20:50:53.408Z"
   },
   {
    "duration": 37,
    "start_time": "2022-03-12T20:50:53.436Z"
   },
   {
    "duration": 10,
    "start_time": "2022-03-12T20:50:53.475Z"
   },
   {
    "duration": 1136,
    "start_time": "2022-03-12T20:50:53.487Z"
   },
   {
    "duration": 917,
    "start_time": "2022-03-12T20:50:54.625Z"
   },
   {
    "duration": 971,
    "start_time": "2022-03-12T20:50:55.544Z"
   },
   {
    "duration": 918,
    "start_time": "2022-03-12T20:50:56.517Z"
   },
   {
    "duration": 27,
    "start_time": "2022-03-12T20:50:57.437Z"
   },
   {
    "duration": 1052,
    "start_time": "2022-03-12T20:50:57.465Z"
   },
   {
    "duration": 5,
    "start_time": "2022-03-12T20:50:58.518Z"
   },
   {
    "duration": 928,
    "start_time": "2022-03-12T20:50:58.525Z"
   },
   {
    "duration": 12,
    "start_time": "2022-03-12T20:50:59.454Z"
   },
   {
    "duration": 7,
    "start_time": "2022-03-12T20:50:59.468Z"
   },
   {
    "duration": 8,
    "start_time": "2022-03-12T20:50:59.477Z"
   },
   {
    "duration": 6,
    "start_time": "2022-03-12T20:50:59.487Z"
   },
   {
    "duration": 3,
    "start_time": "2022-03-12T20:50:59.495Z"
   },
   {
    "duration": 376,
    "start_time": "2022-03-12T20:50:59.500Z"
   },
   {
    "duration": 16,
    "start_time": "2022-03-12T20:50:59.878Z"
   },
   {
    "duration": 10,
    "start_time": "2022-03-12T20:58:24.839Z"
   },
   {
    "duration": 15,
    "start_time": "2022-03-12T20:58:32.255Z"
   },
   {
    "duration": 1138,
    "start_time": "2022-03-12T20:59:21.382Z"
   },
   {
    "duration": 17,
    "start_time": "2022-03-12T20:59:22.523Z"
   },
   {
    "duration": 25,
    "start_time": "2022-03-12T20:59:22.542Z"
   },
   {
    "duration": 8,
    "start_time": "2022-03-12T20:59:22.569Z"
   },
   {
    "duration": 3,
    "start_time": "2022-03-12T20:59:22.579Z"
   },
   {
    "duration": 4,
    "start_time": "2022-03-12T20:59:22.584Z"
   },
   {
    "duration": 13,
    "start_time": "2022-03-12T20:59:22.590Z"
   },
   {
    "duration": 27,
    "start_time": "2022-03-12T20:59:22.605Z"
   },
   {
    "duration": 41,
    "start_time": "2022-03-12T20:59:22.635Z"
   },
   {
    "duration": 9,
    "start_time": "2022-03-12T20:59:22.678Z"
   },
   {
    "duration": 1082,
    "start_time": "2022-03-12T20:59:22.689Z"
   },
   {
    "duration": 967,
    "start_time": "2022-03-12T20:59:23.773Z"
   },
   {
    "duration": 972,
    "start_time": "2022-03-12T20:59:24.741Z"
   },
   {
    "duration": 906,
    "start_time": "2022-03-12T20:59:25.715Z"
   },
   {
    "duration": 18,
    "start_time": "2022-03-12T20:59:26.622Z"
   },
   {
    "duration": 1252,
    "start_time": "2022-03-12T20:59:26.642Z"
   },
   {
    "duration": 6,
    "start_time": "2022-03-12T20:59:27.895Z"
   },
   {
    "duration": 7,
    "start_time": "2022-03-12T20:59:27.902Z"
   },
   {
    "duration": 7,
    "start_time": "2022-03-12T20:59:27.911Z"
   },
   {
    "duration": 12,
    "start_time": "2022-03-12T20:59:27.919Z"
   },
   {
    "duration": 3,
    "start_time": "2022-03-12T20:59:27.933Z"
   },
   {
    "duration": 557,
    "start_time": "2022-03-12T20:59:27.938Z"
   },
   {
    "duration": 16,
    "start_time": "2022-03-12T20:59:28.497Z"
   },
   {
    "duration": 11,
    "start_time": "2022-03-13T20:42:47.065Z"
   },
   {
    "duration": 1166,
    "start_time": "2022-03-13T20:42:53.964Z"
   },
   {
    "duration": 26,
    "start_time": "2022-03-13T20:42:55.132Z"
   },
   {
    "duration": 13,
    "start_time": "2022-03-13T20:42:55.160Z"
   },
   {
    "duration": 8,
    "start_time": "2022-03-13T20:42:55.175Z"
   },
   {
    "duration": 4,
    "start_time": "2022-03-13T20:42:55.185Z"
   },
   {
    "duration": 6,
    "start_time": "2022-03-13T20:42:55.191Z"
   },
   {
    "duration": 11,
    "start_time": "2022-03-13T20:42:55.199Z"
   },
   {
    "duration": 50,
    "start_time": "2022-03-13T20:42:55.213Z"
   },
   {
    "duration": 15,
    "start_time": "2022-03-13T20:42:55.265Z"
   },
   {
    "duration": 7,
    "start_time": "2022-03-13T20:42:55.282Z"
   },
   {
    "duration": 1916,
    "start_time": "2022-03-13T20:42:55.291Z"
   },
   {
    "duration": 1397,
    "start_time": "2022-03-13T20:42:57.209Z"
   },
   {
    "duration": 970,
    "start_time": "2022-03-13T20:42:58.608Z"
   },
   {
    "duration": 953,
    "start_time": "2022-03-13T20:42:59.579Z"
   },
   {
    "duration": 34,
    "start_time": "2022-03-13T20:43:00.535Z"
   },
   {
    "duration": 1064,
    "start_time": "2022-03-13T20:43:00.571Z"
   },
   {
    "duration": 6,
    "start_time": "2022-03-13T20:43:01.637Z"
   },
   {
    "duration": 20,
    "start_time": "2022-03-13T20:43:01.645Z"
   },
   {
    "duration": 21,
    "start_time": "2022-03-13T20:43:01.667Z"
   },
   {
    "duration": 14,
    "start_time": "2022-03-13T20:43:01.689Z"
   },
   {
    "duration": 8,
    "start_time": "2022-03-13T20:43:01.705Z"
   },
   {
    "duration": 585,
    "start_time": "2022-03-13T20:43:01.715Z"
   },
   {
    "duration": 17,
    "start_time": "2022-03-13T20:43:02.304Z"
   },
   {
    "duration": 12,
    "start_time": "2022-03-13T20:43:02.322Z"
   },
   {
    "duration": 100,
    "start_time": "2022-03-13T20:45:58.368Z"
   },
   {
    "duration": 12,
    "start_time": "2022-03-13T20:46:11.597Z"
   },
   {
    "duration": 6,
    "start_time": "2022-03-13T20:46:43.295Z"
   },
   {
    "duration": 1637,
    "start_time": "2022-03-13T20:47:13.134Z"
   },
   {
    "duration": 4,
    "start_time": "2022-03-13T20:48:07.082Z"
   },
   {
    "duration": 1198,
    "start_time": "2022-03-13T20:50:31.837Z"
   },
   {
    "duration": 15,
    "start_time": "2022-03-13T20:50:33.037Z"
   },
   {
    "duration": 17,
    "start_time": "2022-03-13T20:50:33.054Z"
   },
   {
    "duration": 6,
    "start_time": "2022-03-13T20:50:33.073Z"
   },
   {
    "duration": 2,
    "start_time": "2022-03-13T20:50:33.081Z"
   },
   {
    "duration": 5,
    "start_time": "2022-03-13T20:50:33.085Z"
   },
   {
    "duration": 13,
    "start_time": "2022-03-13T20:50:33.092Z"
   },
   {
    "duration": 25,
    "start_time": "2022-03-13T20:50:33.106Z"
   },
   {
    "duration": 40,
    "start_time": "2022-03-13T20:50:33.134Z"
   },
   {
    "duration": 10,
    "start_time": "2022-03-13T20:50:33.176Z"
   },
   {
    "duration": 1093,
    "start_time": "2022-03-13T20:50:33.188Z"
   },
   {
    "duration": 914,
    "start_time": "2022-03-13T20:50:34.283Z"
   },
   {
    "duration": 964,
    "start_time": "2022-03-13T20:50:35.199Z"
   },
   {
    "duration": 920,
    "start_time": "2022-03-13T20:50:36.165Z"
   },
   {
    "duration": 18,
    "start_time": "2022-03-13T20:50:37.087Z"
   },
   {
    "duration": 1051,
    "start_time": "2022-03-13T20:50:37.107Z"
   },
   {
    "duration": 6,
    "start_time": "2022-03-13T20:50:38.162Z"
   },
   {
    "duration": 9,
    "start_time": "2022-03-13T20:50:38.169Z"
   },
   {
    "duration": 8,
    "start_time": "2022-03-13T20:50:38.180Z"
   },
   {
    "duration": 7,
    "start_time": "2022-03-13T20:50:38.189Z"
   },
   {
    "duration": 3,
    "start_time": "2022-03-13T20:50:38.198Z"
   },
   {
    "duration": 598,
    "start_time": "2022-03-13T20:50:38.202Z"
   },
   {
    "duration": 15,
    "start_time": "2022-03-13T20:50:38.803Z"
   },
   {
    "duration": 11,
    "start_time": "2022-03-13T20:50:38.820Z"
   },
   {
    "duration": 32,
    "start_time": "2022-03-13T20:50:38.833Z"
   },
   {
    "duration": 2,
    "start_time": "2022-03-13T20:50:38.866Z"
   },
   {
    "duration": 693,
    "start_time": "2022-03-13T20:50:38.872Z"
   },
   {
    "duration": 78882,
    "start_time": "2022-03-13T20:50:39.567Z"
   },
   {
    "duration": 1673,
    "start_time": "2022-03-13T20:54:40.790Z"
   },
   {
    "duration": 4,
    "start_time": "2022-03-13T20:56:06.379Z"
   },
   {
    "duration": 4,
    "start_time": "2022-03-13T20:58:47.388Z"
   },
   {
    "duration": 4,
    "start_time": "2022-03-13T20:59:54.693Z"
   },
   {
    "duration": 275,
    "start_time": "2022-03-13T21:02:38.026Z"
   },
   {
    "duration": 183,
    "start_time": "2022-03-13T21:03:18.050Z"
   },
   {
    "duration": 4,
    "start_time": "2022-03-13T21:03:39.240Z"
   },
   {
    "duration": 4,
    "start_time": "2022-03-13T21:04:20.438Z"
   },
   {
    "duration": 18,
    "start_time": "2022-03-13T21:04:29.384Z"
   },
   {
    "duration": 1121,
    "start_time": "2022-03-13T21:05:52.022Z"
   },
   {
    "duration": 18,
    "start_time": "2022-03-13T21:05:53.145Z"
   },
   {
    "duration": 15,
    "start_time": "2022-03-13T21:05:53.165Z"
   },
   {
    "duration": 6,
    "start_time": "2022-03-13T21:05:53.182Z"
   },
   {
    "duration": 5,
    "start_time": "2022-03-13T21:05:53.190Z"
   },
   {
    "duration": 6,
    "start_time": "2022-03-13T21:05:53.196Z"
   },
   {
    "duration": 13,
    "start_time": "2022-03-13T21:05:53.203Z"
   },
   {
    "duration": 51,
    "start_time": "2022-03-13T21:05:53.218Z"
   },
   {
    "duration": 15,
    "start_time": "2022-03-13T21:05:53.271Z"
   },
   {
    "duration": 8,
    "start_time": "2022-03-13T21:05:53.288Z"
   },
   {
    "duration": 1078,
    "start_time": "2022-03-13T21:05:53.298Z"
   },
   {
    "duration": 912,
    "start_time": "2022-03-13T21:05:54.378Z"
   },
   {
    "duration": 943,
    "start_time": "2022-03-13T21:05:55.292Z"
   },
   {
    "duration": 915,
    "start_time": "2022-03-13T21:05:56.237Z"
   },
   {
    "duration": 23,
    "start_time": "2022-03-13T21:05:57.154Z"
   },
   {
    "duration": 1066,
    "start_time": "2022-03-13T21:05:57.179Z"
   },
   {
    "duration": 6,
    "start_time": "2022-03-13T21:05:58.247Z"
   },
   {
    "duration": 5,
    "start_time": "2022-03-13T21:05:58.262Z"
   },
   {
    "duration": 7,
    "start_time": "2022-03-13T21:05:58.269Z"
   },
   {
    "duration": 10,
    "start_time": "2022-03-13T21:05:58.278Z"
   },
   {
    "duration": 3,
    "start_time": "2022-03-13T21:05:58.290Z"
   },
   {
    "duration": 496,
    "start_time": "2022-03-13T21:05:58.296Z"
   },
   {
    "duration": 15,
    "start_time": "2022-03-13T21:05:58.796Z"
   },
   {
    "duration": 12,
    "start_time": "2022-03-13T21:05:58.813Z"
   },
   {
    "duration": 6,
    "start_time": "2022-03-13T21:05:58.827Z"
   },
   {
    "duration": 615,
    "start_time": "2022-03-13T21:05:58.835Z"
   },
   {
    "duration": 78932,
    "start_time": "2022-03-13T21:05:59.452Z"
   },
   {
    "duration": 1477,
    "start_time": "2022-03-13T21:07:18.386Z"
   },
   {
    "duration": 4,
    "start_time": "2022-03-13T21:07:19.865Z"
   },
   {
    "duration": 11,
    "start_time": "2022-03-13T21:07:51.914Z"
   },
   {
    "duration": 13,
    "start_time": "2022-03-13T21:08:07.131Z"
   },
   {
    "duration": 12,
    "start_time": "2022-03-13T21:11:52.770Z"
   },
   {
    "duration": 261,
    "start_time": "2022-03-13T21:12:59.479Z"
   },
   {
    "duration": 18,
    "start_time": "2022-03-13T21:13:06.027Z"
   },
   {
    "duration": 7,
    "start_time": "2022-03-13T21:20:09.946Z"
   },
   {
    "duration": 61,
    "start_time": "2022-03-13T21:20:53.070Z"
   },
   {
    "duration": 8,
    "start_time": "2022-03-13T21:20:58.558Z"
   },
   {
    "duration": 172,
    "start_time": "2022-03-13T21:21:51.099Z"
   },
   {
    "duration": 166,
    "start_time": "2022-03-13T21:21:59.284Z"
   },
   {
    "duration": 181,
    "start_time": "2022-03-13T21:22:23.425Z"
   },
   {
    "duration": 1210,
    "start_time": "2022-03-13T21:22:31.776Z"
   },
   {
    "duration": 24,
    "start_time": "2022-03-13T21:22:32.989Z"
   },
   {
    "duration": 19,
    "start_time": "2022-03-13T21:22:33.016Z"
   },
   {
    "duration": 9,
    "start_time": "2022-03-13T21:22:33.037Z"
   },
   {
    "duration": 16,
    "start_time": "2022-03-13T21:22:33.048Z"
   },
   {
    "duration": 7,
    "start_time": "2022-03-13T21:22:33.066Z"
   },
   {
    "duration": 16,
    "start_time": "2022-03-13T21:22:33.075Z"
   },
   {
    "duration": 34,
    "start_time": "2022-03-13T21:22:33.094Z"
   },
   {
    "duration": 33,
    "start_time": "2022-03-13T21:22:33.131Z"
   },
   {
    "duration": 11,
    "start_time": "2022-03-13T21:22:33.166Z"
   },
   {
    "duration": 1167,
    "start_time": "2022-03-13T21:22:33.179Z"
   },
   {
    "duration": 1041,
    "start_time": "2022-03-13T21:22:34.348Z"
   },
   {
    "duration": 1039,
    "start_time": "2022-03-13T21:22:35.391Z"
   },
   {
    "duration": 974,
    "start_time": "2022-03-13T21:22:36.431Z"
   },
   {
    "duration": 19,
    "start_time": "2022-03-13T21:22:37.407Z"
   },
   {
    "duration": 1162,
    "start_time": "2022-03-13T21:22:37.428Z"
   },
   {
    "duration": 7,
    "start_time": "2022-03-13T21:22:38.592Z"
   },
   {
    "duration": 6,
    "start_time": "2022-03-13T21:22:38.601Z"
   },
   {
    "duration": 7,
    "start_time": "2022-03-13T21:22:38.609Z"
   },
   {
    "duration": 11,
    "start_time": "2022-03-13T21:22:38.618Z"
   },
   {
    "duration": 4,
    "start_time": "2022-03-13T21:22:38.631Z"
   },
   {
    "duration": 558,
    "start_time": "2022-03-13T21:22:38.636Z"
   },
   {
    "duration": 16,
    "start_time": "2022-03-13T21:22:39.197Z"
   },
   {
    "duration": 11,
    "start_time": "2022-03-13T21:22:39.215Z"
   },
   {
    "duration": 11,
    "start_time": "2022-03-13T21:22:39.228Z"
   },
   {
    "duration": 731,
    "start_time": "2022-03-13T21:22:39.241Z"
   },
   {
    "duration": 80694,
    "start_time": "2022-03-13T21:22:39.974Z"
   },
   {
    "duration": 1495,
    "start_time": "2022-03-13T21:24:00.669Z"
   },
   {
    "duration": 5,
    "start_time": "2022-03-13T21:24:02.166Z"
   },
   {
    "duration": 16,
    "start_time": "2022-03-13T21:24:02.263Z"
   },
   {
    "duration": 19,
    "start_time": "2022-03-13T21:24:02.281Z"
   },
   {
    "duration": 11,
    "start_time": "2022-03-13T21:24:02.301Z"
   },
   {
    "duration": 1173,
    "start_time": "2022-03-13T21:27:31.982Z"
   },
   {
    "duration": 22,
    "start_time": "2022-03-13T21:27:33.157Z"
   },
   {
    "duration": 14,
    "start_time": "2022-03-13T21:27:33.180Z"
   },
   {
    "duration": 8,
    "start_time": "2022-03-13T21:27:33.196Z"
   },
   {
    "duration": 3,
    "start_time": "2022-03-13T21:27:33.206Z"
   },
   {
    "duration": 5,
    "start_time": "2022-03-13T21:27:33.211Z"
   },
   {
    "duration": 18,
    "start_time": "2022-03-13T21:27:33.217Z"
   },
   {
    "duration": 44,
    "start_time": "2022-03-13T21:27:33.238Z"
   },
   {
    "duration": 15,
    "start_time": "2022-03-13T21:27:33.284Z"
   },
   {
    "duration": 9,
    "start_time": "2022-03-13T21:27:33.301Z"
   },
   {
    "duration": 1143,
    "start_time": "2022-03-13T21:27:33.311Z"
   },
   {
    "duration": 971,
    "start_time": "2022-03-13T21:27:34.457Z"
   },
   {
    "duration": 1054,
    "start_time": "2022-03-13T21:27:35.430Z"
   },
   {
    "duration": 941,
    "start_time": "2022-03-13T21:27:36.486Z"
   },
   {
    "duration": 18,
    "start_time": "2022-03-13T21:27:37.429Z"
   },
   {
    "duration": 1076,
    "start_time": "2022-03-13T21:27:37.449Z"
   },
   {
    "duration": 5,
    "start_time": "2022-03-13T21:27:38.526Z"
   },
   {
    "duration": 11,
    "start_time": "2022-03-13T21:27:38.533Z"
   },
   {
    "duration": 18,
    "start_time": "2022-03-13T21:27:38.545Z"
   },
   {
    "duration": 7,
    "start_time": "2022-03-13T21:27:38.564Z"
   },
   {
    "duration": 4,
    "start_time": "2022-03-13T21:27:38.572Z"
   },
   {
    "duration": 517,
    "start_time": "2022-03-13T21:27:38.578Z"
   },
   {
    "duration": 17,
    "start_time": "2022-03-13T21:27:39.098Z"
   },
   {
    "duration": 10,
    "start_time": "2022-03-13T21:27:39.117Z"
   },
   {
    "duration": 8,
    "start_time": "2022-03-13T21:27:39.129Z"
   },
   {
    "duration": 621,
    "start_time": "2022-03-13T21:27:39.138Z"
   },
   {
    "duration": 82241,
    "start_time": "2022-03-13T21:27:39.763Z"
   },
   {
    "duration": 1458,
    "start_time": "2022-03-13T21:29:02.006Z"
   },
   {
    "duration": 3,
    "start_time": "2022-03-13T21:29:03.466Z"
   },
   {
    "duration": 17,
    "start_time": "2022-03-13T21:29:03.471Z"
   },
   {
    "duration": 17,
    "start_time": "2022-03-13T21:29:03.490Z"
   },
   {
    "duration": 11,
    "start_time": "2022-03-13T21:29:03.509Z"
   },
   {
    "duration": 17,
    "start_time": "2022-03-13T21:30:00.366Z"
   },
   {
    "duration": 401,
    "start_time": "2022-03-13T21:45:50.182Z"
   },
   {
    "duration": 277,
    "start_time": "2022-03-13T21:46:38.009Z"
   },
   {
    "duration": 559,
    "start_time": "2022-03-13T21:47:49.040Z"
   },
   {
    "duration": 393,
    "start_time": "2022-03-13T21:54:37.307Z"
   },
   {
    "duration": 415,
    "start_time": "2022-03-13T21:55:31.177Z"
   },
   {
    "duration": 385,
    "start_time": "2022-03-13T21:57:52.737Z"
   },
   {
    "duration": 526,
    "start_time": "2022-03-13T21:59:35.727Z"
   },
   {
    "duration": 430,
    "start_time": "2022-03-13T22:00:17.508Z"
   },
   {
    "duration": 738,
    "start_time": "2022-03-13T22:02:17.363Z"
   },
   {
    "duration": 215,
    "start_time": "2022-03-13T22:47:44.661Z"
   },
   {
    "duration": 47,
    "start_time": "2022-03-13T22:47:52.980Z"
   },
   {
    "duration": 1569,
    "start_time": "2022-03-13T22:48:58.075Z"
   },
   {
    "duration": 2928,
    "start_time": "2022-03-13T22:49:10.631Z"
   },
   {
    "duration": 4917,
    "start_time": "2022-03-13T22:49:24.435Z"
   },
   {
    "duration": 2725,
    "start_time": "2022-03-13T22:49:50.024Z"
   },
   {
    "duration": 41,
    "start_time": "2022-03-13T22:50:47.750Z"
   },
   {
    "duration": 12,
    "start_time": "2022-03-13T22:52:08.793Z"
   },
   {
    "duration": 221,
    "start_time": "2022-03-13T22:52:15.911Z"
   },
   {
    "duration": 13,
    "start_time": "2022-03-13T22:52:25.812Z"
   },
   {
    "duration": 24,
    "start_time": "2022-03-13T22:53:18.997Z"
   },
   {
    "duration": 194,
    "start_time": "2022-03-13T22:53:55.239Z"
   },
   {
    "duration": 24,
    "start_time": "2022-03-13T22:54:41.366Z"
   },
   {
    "duration": 186,
    "start_time": "2022-03-13T22:55:05.307Z"
   },
   {
    "duration": 904,
    "start_time": "2022-03-13T22:55:19.300Z"
   },
   {
    "duration": 668,
    "start_time": "2022-03-13T22:55:35.730Z"
   },
   {
    "duration": 4,
    "start_time": "2022-03-13T22:56:17.371Z"
   },
   {
    "duration": 5,
    "start_time": "2022-03-13T22:58:21.722Z"
   },
   {
    "duration": 472,
    "start_time": "2022-03-13T22:58:46.582Z"
   },
   {
    "duration": 538,
    "start_time": "2022-03-13T22:59:19.256Z"
   },
   {
    "duration": 197,
    "start_time": "2022-03-13T23:00:02.965Z"
   },
   {
    "duration": 436,
    "start_time": "2022-03-13T23:01:56.174Z"
   },
   {
    "duration": 59,
    "start_time": "2022-03-13T23:13:10.166Z"
   },
   {
    "duration": 3236,
    "start_time": "2022-03-13T23:13:26.364Z"
   },
   {
    "duration": 3303,
    "start_time": "2022-03-13T23:16:59.360Z"
   },
   {
    "duration": 1113,
    "start_time": "2022-03-13T23:18:30.522Z"
   },
   {
    "duration": 196,
    "start_time": "2022-03-13T23:24:32.389Z"
   },
   {
    "duration": 1322,
    "start_time": "2022-03-13T23:24:55.498Z"
   },
   {
    "duration": 643,
    "start_time": "2022-03-13T23:25:19.803Z"
   },
   {
    "duration": 1147,
    "start_time": "2022-03-13T23:27:17.359Z"
   },
   {
    "duration": 3292,
    "start_time": "2022-03-13T23:29:27.052Z"
   },
   {
    "duration": 945,
    "start_time": "2022-03-13T23:30:36.969Z"
   },
   {
    "duration": 937,
    "start_time": "2022-03-13T23:30:56.139Z"
   },
   {
    "duration": 1072,
    "start_time": "2022-03-13T23:31:05.693Z"
   },
   {
    "duration": 1978,
    "start_time": "2022-03-13T23:31:20.613Z"
   },
   {
    "duration": 731,
    "start_time": "2022-03-13T23:32:59.270Z"
   },
   {
    "duration": 286,
    "start_time": "2022-03-13T23:34:39.928Z"
   },
   {
    "duration": 6,
    "start_time": "2022-03-13T23:39:12.331Z"
   },
   {
    "duration": 191,
    "start_time": "2022-03-13T23:39:28.167Z"
   },
   {
    "duration": 9,
    "start_time": "2022-03-13T23:39:46.856Z"
   },
   {
    "duration": 142,
    "start_time": "2022-03-13T23:40:11.276Z"
   },
   {
    "duration": 237,
    "start_time": "2022-03-13T23:40:33.265Z"
   },
   {
    "duration": 193,
    "start_time": "2022-03-13T23:40:39.750Z"
   },
   {
    "duration": 8,
    "start_time": "2022-03-13T23:41:11.159Z"
   },
   {
    "duration": 8,
    "start_time": "2022-03-13T23:42:10.456Z"
   },
   {
    "duration": 161,
    "start_time": "2022-03-13T23:42:34.816Z"
   },
   {
    "duration": 156,
    "start_time": "2022-03-13T23:43:36.762Z"
   },
   {
    "duration": 1547,
    "start_time": "2022-03-15T10:45:02.889Z"
   },
   {
    "duration": 59,
    "start_time": "2022-03-15T10:45:04.439Z"
   },
   {
    "duration": 23,
    "start_time": "2022-03-15T10:45:04.501Z"
   },
   {
    "duration": 11,
    "start_time": "2022-03-15T10:45:04.527Z"
   },
   {
    "duration": 6,
    "start_time": "2022-03-15T10:45:04.541Z"
   },
   {
    "duration": 6,
    "start_time": "2022-03-15T10:45:04.549Z"
   },
   {
    "duration": 17,
    "start_time": "2022-03-15T10:45:04.558Z"
   },
   {
    "duration": 44,
    "start_time": "2022-03-15T10:45:04.578Z"
   },
   {
    "duration": 42,
    "start_time": "2022-03-15T10:45:04.626Z"
   },
   {
    "duration": 14,
    "start_time": "2022-03-15T10:45:04.671Z"
   },
   {
    "duration": 1809,
    "start_time": "2022-03-15T10:45:04.688Z"
   },
   {
    "duration": 1436,
    "start_time": "2022-03-15T10:45:06.499Z"
   },
   {
    "duration": 1658,
    "start_time": "2022-03-15T10:45:07.937Z"
   },
   {
    "duration": 1460,
    "start_time": "2022-03-15T10:45:09.597Z"
   },
   {
    "duration": 27,
    "start_time": "2022-03-15T10:45:11.059Z"
   },
   {
    "duration": 1688,
    "start_time": "2022-03-15T10:45:11.089Z"
   },
   {
    "duration": 7,
    "start_time": "2022-03-15T10:45:12.780Z"
   },
   {
    "duration": 21,
    "start_time": "2022-03-15T10:45:12.789Z"
   },
   {
    "duration": 31,
    "start_time": "2022-03-15T10:45:12.812Z"
   },
   {
    "duration": 16,
    "start_time": "2022-03-15T10:45:12.846Z"
   },
   {
    "duration": 16,
    "start_time": "2022-03-15T10:45:12.864Z"
   },
   {
    "duration": 745,
    "start_time": "2022-03-15T10:45:12.883Z"
   },
   {
    "duration": 36,
    "start_time": "2022-03-15T10:45:13.630Z"
   },
   {
    "duration": 18,
    "start_time": "2022-03-15T10:45:13.668Z"
   },
   {
    "duration": 13,
    "start_time": "2022-03-15T10:45:13.688Z"
   },
   {
    "duration": 818,
    "start_time": "2022-03-15T10:45:13.704Z"
   },
   {
    "duration": 132161,
    "start_time": "2022-03-15T10:45:14.526Z"
   },
   {
    "duration": 1786,
    "start_time": "2022-03-15T10:47:26.689Z"
   },
   {
    "duration": 5,
    "start_time": "2022-03-15T10:47:28.477Z"
   },
   {
    "duration": 20,
    "start_time": "2022-03-15T10:47:28.484Z"
   },
   {
    "duration": 57,
    "start_time": "2022-03-15T10:47:28.506Z"
   },
   {
    "duration": 4322,
    "start_time": "2022-03-15T10:47:28.566Z"
   },
   {
    "duration": 3899,
    "start_time": "2022-03-15T10:47:32.891Z"
   },
   {
    "duration": 20,
    "start_time": "2022-03-15T10:47:36.793Z"
   },
   {
    "duration": 2218,
    "start_time": "2022-03-15T10:49:23.752Z"
   },
   {
    "duration": 1964,
    "start_time": "2022-03-15T10:49:59.259Z"
   },
   {
    "duration": 2035,
    "start_time": "2022-03-15T10:50:08.211Z"
   },
   {
    "duration": 1981,
    "start_time": "2022-03-15T10:50:17.612Z"
   },
   {
    "duration": 2322,
    "start_time": "2022-03-15T10:50:29.046Z"
   },
   {
    "duration": 1955,
    "start_time": "2022-03-15T10:50:35.948Z"
   },
   {
    "duration": 1948,
    "start_time": "2022-03-16T01:18:01.018Z"
   },
   {
    "duration": 26,
    "start_time": "2022-03-16T01:18:02.969Z"
   },
   {
    "duration": 62,
    "start_time": "2022-03-16T01:18:02.998Z"
   },
   {
    "duration": 14,
    "start_time": "2022-03-16T01:18:03.063Z"
   },
   {
    "duration": 10,
    "start_time": "2022-03-16T01:18:03.080Z"
   },
   {
    "duration": 61,
    "start_time": "2022-03-16T01:18:03.093Z"
   },
   {
    "duration": 33,
    "start_time": "2022-03-16T01:18:03.157Z"
   },
   {
    "duration": 164,
    "start_time": "2022-03-16T01:18:03.196Z"
   },
   {
    "duration": 89,
    "start_time": "2022-03-16T01:18:03.364Z"
   },
   {
    "duration": 18,
    "start_time": "2022-03-16T01:18:03.456Z"
   },
   {
    "duration": 2829,
    "start_time": "2022-03-16T01:18:03.477Z"
   },
   {
    "duration": 1664,
    "start_time": "2022-03-16T01:18:06.308Z"
   },
   {
    "duration": 1566,
    "start_time": "2022-03-16T01:18:07.975Z"
   },
   {
    "duration": 1403,
    "start_time": "2022-03-16T01:18:09.543Z"
   },
   {
    "duration": 31,
    "start_time": "2022-03-16T01:18:10.962Z"
   },
   {
    "duration": 1670,
    "start_time": "2022-03-16T01:18:10.996Z"
   },
   {
    "duration": 6,
    "start_time": "2022-03-16T01:18:12.669Z"
   },
   {
    "duration": 8,
    "start_time": "2022-03-16T01:18:12.677Z"
   },
   {
    "duration": 10,
    "start_time": "2022-03-16T01:18:12.688Z"
   },
   {
    "duration": 12,
    "start_time": "2022-03-16T01:18:12.700Z"
   },
   {
    "duration": 38,
    "start_time": "2022-03-16T01:18:12.715Z"
   },
   {
    "duration": 669,
    "start_time": "2022-03-16T01:18:12.756Z"
   },
   {
    "duration": 36,
    "start_time": "2022-03-16T01:18:13.432Z"
   },
   {
    "duration": 18,
    "start_time": "2022-03-16T01:18:13.472Z"
   },
   {
    "duration": 11,
    "start_time": "2022-03-16T01:18:13.492Z"
   },
   {
    "duration": 803,
    "start_time": "2022-03-16T01:18:13.506Z"
   },
   {
    "duration": 130694,
    "start_time": "2022-03-16T01:18:14.311Z"
   },
   {
    "duration": 1870,
    "start_time": "2022-03-16T01:20:25.007Z"
   },
   {
    "duration": 4,
    "start_time": "2022-03-16T01:20:26.880Z"
   },
   {
    "duration": 21,
    "start_time": "2022-03-16T01:20:26.886Z"
   },
   {
    "duration": 54,
    "start_time": "2022-03-16T01:20:26.909Z"
   },
   {
    "duration": 4252,
    "start_time": "2022-03-16T01:20:26.966Z"
   },
   {
    "duration": 1963,
    "start_time": "2022-03-16T01:20:31.220Z"
   },
   {
    "duration": 21,
    "start_time": "2022-03-16T01:20:33.186Z"
   },
   {
    "duration": 1620,
    "start_time": "2022-03-16T20:13:30.768Z"
   },
   {
    "duration": 21,
    "start_time": "2022-03-16T20:13:32.391Z"
   },
   {
    "duration": 22,
    "start_time": "2022-03-16T20:13:32.416Z"
   },
   {
    "duration": 11,
    "start_time": "2022-03-16T20:13:32.441Z"
   },
   {
    "duration": 33,
    "start_time": "2022-03-16T20:13:32.455Z"
   },
   {
    "duration": 7,
    "start_time": "2022-03-16T20:13:32.490Z"
   },
   {
    "duration": 20,
    "start_time": "2022-03-16T20:13:32.499Z"
   },
   {
    "duration": 66,
    "start_time": "2022-03-16T20:13:32.523Z"
   },
   {
    "duration": 23,
    "start_time": "2022-03-16T20:13:32.592Z"
   },
   {
    "duration": 10,
    "start_time": "2022-03-16T20:13:32.618Z"
   },
   {
    "duration": 1937,
    "start_time": "2022-03-16T20:13:32.630Z"
   },
   {
    "duration": 1559,
    "start_time": "2022-03-16T20:13:34.569Z"
   },
   {
    "duration": 1807,
    "start_time": "2022-03-16T20:13:36.130Z"
   },
   {
    "duration": 1580,
    "start_time": "2022-03-16T20:13:37.940Z"
   },
   {
    "duration": 37,
    "start_time": "2022-03-16T20:13:39.522Z"
   },
   {
    "duration": 1775,
    "start_time": "2022-03-16T20:13:39.561Z"
   },
   {
    "duration": 10,
    "start_time": "2022-03-16T20:13:41.340Z"
   },
   {
    "duration": 33,
    "start_time": "2022-03-16T20:13:41.353Z"
   },
   {
    "duration": 10,
    "start_time": "2022-03-16T20:13:41.390Z"
   },
   {
    "duration": 13,
    "start_time": "2022-03-16T20:13:41.404Z"
   },
   {
    "duration": 7,
    "start_time": "2022-03-16T20:13:41.420Z"
   },
   {
    "duration": 800,
    "start_time": "2022-03-16T20:13:41.430Z"
   },
   {
    "duration": 25,
    "start_time": "2022-03-16T20:13:42.234Z"
   },
   {
    "duration": 35,
    "start_time": "2022-03-16T20:13:42.262Z"
   },
   {
    "duration": 9,
    "start_time": "2022-03-16T20:13:42.299Z"
   },
   {
    "duration": 858,
    "start_time": "2022-03-16T20:13:42.310Z"
   },
   {
    "duration": 143063,
    "start_time": "2022-03-16T20:13:43.171Z"
   },
   {
    "duration": 1751,
    "start_time": "2022-03-16T20:16:06.236Z"
   },
   {
    "duration": 5,
    "start_time": "2022-03-16T20:16:07.990Z"
   },
   {
    "duration": 22,
    "start_time": "2022-03-16T20:16:07.997Z"
   },
   {
    "duration": 32,
    "start_time": "2022-03-16T20:16:08.021Z"
   },
   {
    "duration": 4370,
    "start_time": "2022-03-16T20:16:08.055Z"
   },
   {
    "duration": 2088,
    "start_time": "2022-03-16T20:16:12.427Z"
   },
   {
    "duration": 20,
    "start_time": "2022-03-16T20:16:14.517Z"
   },
   {
    "duration": 1334,
    "start_time": "2022-03-16T21:50:54.321Z"
   },
   {
    "duration": 25,
    "start_time": "2022-03-16T21:50:55.657Z"
   },
   {
    "duration": 18,
    "start_time": "2022-03-16T21:50:55.684Z"
   },
   {
    "duration": 13,
    "start_time": "2022-03-16T21:50:55.705Z"
   },
   {
    "duration": 3,
    "start_time": "2022-03-16T21:50:55.721Z"
   },
   {
    "duration": 8,
    "start_time": "2022-03-16T21:50:55.726Z"
   },
   {
    "duration": 17,
    "start_time": "2022-03-16T21:50:55.737Z"
   },
   {
    "duration": 58,
    "start_time": "2022-03-16T21:50:55.758Z"
   },
   {
    "duration": 18,
    "start_time": "2022-03-16T21:50:55.819Z"
   },
   {
    "duration": 9,
    "start_time": "2022-03-16T21:50:55.839Z"
   },
   {
    "duration": 1544,
    "start_time": "2022-03-16T21:50:55.850Z"
   },
   {
    "duration": 1289,
    "start_time": "2022-03-16T21:50:57.397Z"
   },
   {
    "duration": 1113,
    "start_time": "2022-03-16T21:50:58.688Z"
   },
   {
    "duration": 1129,
    "start_time": "2022-03-16T21:50:59.803Z"
   },
   {
    "duration": 23,
    "start_time": "2022-03-16T21:51:00.935Z"
   },
   {
    "duration": 1292,
    "start_time": "2022-03-16T21:51:00.960Z"
   },
   {
    "duration": 5,
    "start_time": "2022-03-16T21:51:02.255Z"
   },
   {
    "duration": 30,
    "start_time": "2022-03-16T21:51:02.262Z"
   },
   {
    "duration": 20,
    "start_time": "2022-03-16T21:51:02.295Z"
   },
   {
    "duration": 18,
    "start_time": "2022-03-16T21:51:02.318Z"
   },
   {
    "duration": 21,
    "start_time": "2022-03-16T21:51:02.338Z"
   },
   {
    "duration": 617,
    "start_time": "2022-03-16T21:51:02.362Z"
   },
   {
    "duration": 26,
    "start_time": "2022-03-16T21:51:02.984Z"
   },
   {
    "duration": 14,
    "start_time": "2022-03-16T21:51:03.012Z"
   },
   {
    "duration": 14,
    "start_time": "2022-03-16T21:51:03.029Z"
   },
   {
    "duration": 647,
    "start_time": "2022-03-16T21:51:03.045Z"
   },
   {
    "duration": 88241,
    "start_time": "2022-03-16T21:51:03.694Z"
   },
   {
    "duration": 1571,
    "start_time": "2022-03-16T21:52:31.937Z"
   },
   {
    "duration": 4,
    "start_time": "2022-03-16T21:52:33.600Z"
   },
   {
    "duration": 23,
    "start_time": "2022-03-16T21:52:33.606Z"
   },
   {
    "duration": 32,
    "start_time": "2022-03-16T21:52:33.631Z"
   },
   {
    "duration": 3885,
    "start_time": "2022-03-16T21:52:33.665Z"
   },
   {
    "duration": 1332,
    "start_time": "2022-03-16T21:52:37.552Z"
   },
   {
    "duration": 24,
    "start_time": "2022-03-16T21:52:38.885Z"
   },
   {
    "duration": 1201,
    "start_time": "2022-03-16T21:53:54.240Z"
   },
   {
    "duration": 21,
    "start_time": "2022-03-16T21:53:55.444Z"
   },
   {
    "duration": 16,
    "start_time": "2022-03-16T21:53:55.468Z"
   },
   {
    "duration": 21,
    "start_time": "2022-03-16T21:53:55.487Z"
   },
   {
    "duration": 3,
    "start_time": "2022-03-16T21:53:55.511Z"
   },
   {
    "duration": 7,
    "start_time": "2022-03-16T21:53:55.516Z"
   },
   {
    "duration": 22,
    "start_time": "2022-03-16T21:53:55.525Z"
   },
   {
    "duration": 55,
    "start_time": "2022-03-16T21:53:55.550Z"
   },
   {
    "duration": 17,
    "start_time": "2022-03-16T21:53:55.609Z"
   },
   {
    "duration": 8,
    "start_time": "2022-03-16T21:53:55.629Z"
   },
   {
    "duration": 1287,
    "start_time": "2022-03-16T21:53:55.639Z"
   },
   {
    "duration": 1025,
    "start_time": "2022-03-16T21:53:56.928Z"
   },
   {
    "duration": 1076,
    "start_time": "2022-03-16T21:53:57.955Z"
   },
   {
    "duration": 1529,
    "start_time": "2022-03-16T21:53:59.033Z"
   },
   {
    "duration": 44,
    "start_time": "2022-03-16T21:54:00.565Z"
   },
   {
    "duration": 1696,
    "start_time": "2022-03-16T21:54:00.614Z"
   },
   {
    "duration": 8,
    "start_time": "2022-03-16T21:54:02.312Z"
   },
   {
    "duration": 13,
    "start_time": "2022-03-16T21:54:02.322Z"
   },
   {
    "duration": 30,
    "start_time": "2022-03-16T21:54:02.337Z"
   },
   {
    "duration": 49,
    "start_time": "2022-03-16T21:54:02.369Z"
   },
   {
    "duration": 36,
    "start_time": "2022-03-16T21:54:02.420Z"
   },
   {
    "duration": 635,
    "start_time": "2022-03-16T21:54:02.459Z"
   },
   {
    "duration": 21,
    "start_time": "2022-03-16T21:54:03.096Z"
   },
   {
    "duration": 13,
    "start_time": "2022-03-16T21:54:03.119Z"
   },
   {
    "duration": 18,
    "start_time": "2022-03-16T21:54:03.134Z"
   },
   {
    "duration": 657,
    "start_time": "2022-03-16T21:54:03.154Z"
   },
   {
    "duration": 90416,
    "start_time": "2022-03-16T21:54:03.815Z"
   },
   {
    "duration": 1372,
    "start_time": "2022-03-16T21:55:34.234Z"
   },
   {
    "duration": 93,
    "start_time": "2022-03-16T21:55:35.608Z"
   },
   {
    "duration": 27,
    "start_time": "2022-03-16T21:55:35.704Z"
   },
   {
    "duration": 34,
    "start_time": "2022-03-16T21:55:35.733Z"
   },
   {
    "duration": 3364,
    "start_time": "2022-03-16T21:55:35.769Z"
   },
   {
    "duration": 1385,
    "start_time": "2022-03-16T21:55:39.136Z"
   },
   {
    "duration": 15,
    "start_time": "2022-03-16T21:55:40.523Z"
   },
   {
    "duration": 7,
    "start_time": "2022-03-16T21:56:42.547Z"
   },
   {
    "duration": 1303,
    "start_time": "2022-03-16T22:08:49.542Z"
   },
   {
    "duration": 3214,
    "start_time": "2022-03-16T22:09:20.521Z"
   },
   {
    "duration": 1430,
    "start_time": "2022-03-16T22:27:11.966Z"
   },
   {
    "duration": 19,
    "start_time": "2022-03-16T22:27:13.398Z"
   },
   {
    "duration": 16,
    "start_time": "2022-03-16T22:27:13.419Z"
   },
   {
    "duration": 30,
    "start_time": "2022-03-16T22:27:13.437Z"
   },
   {
    "duration": 13,
    "start_time": "2022-03-16T22:27:13.470Z"
   },
   {
    "duration": 11,
    "start_time": "2022-03-16T22:27:13.485Z"
   },
   {
    "duration": 24,
    "start_time": "2022-03-16T22:27:13.498Z"
   },
   {
    "duration": 32,
    "start_time": "2022-03-16T22:27:13.526Z"
   },
   {
    "duration": 18,
    "start_time": "2022-03-16T22:27:13.562Z"
   },
   {
    "duration": 23,
    "start_time": "2022-03-16T22:27:13.581Z"
   },
   {
    "duration": 1279,
    "start_time": "2022-03-16T22:27:13.606Z"
   },
   {
    "duration": 1097,
    "start_time": "2022-03-16T22:27:14.887Z"
   },
   {
    "duration": 1107,
    "start_time": "2022-03-16T22:27:15.986Z"
   },
   {
    "duration": 1055,
    "start_time": "2022-03-16T22:27:17.094Z"
   },
   {
    "duration": 21,
    "start_time": "2022-03-16T22:27:18.151Z"
   },
   {
    "duration": 1231,
    "start_time": "2022-03-16T22:27:18.174Z"
   },
   {
    "duration": 6,
    "start_time": "2022-03-16T22:27:19.407Z"
   },
   {
    "duration": 28,
    "start_time": "2022-03-16T22:27:19.415Z"
   },
   {
    "duration": 22,
    "start_time": "2022-03-16T22:27:19.446Z"
   },
   {
    "duration": 11,
    "start_time": "2022-03-16T22:27:19.470Z"
   },
   {
    "duration": 5,
    "start_time": "2022-03-16T22:27:19.483Z"
   },
   {
    "duration": 593,
    "start_time": "2022-03-16T22:27:19.490Z"
   },
   {
    "duration": 28,
    "start_time": "2022-03-16T22:27:20.087Z"
   },
   {
    "duration": 15,
    "start_time": "2022-03-16T22:27:20.118Z"
   },
   {
    "duration": 18,
    "start_time": "2022-03-16T22:27:20.135Z"
   },
   {
    "duration": 665,
    "start_time": "2022-03-16T22:27:20.155Z"
   },
   {
    "duration": 91430,
    "start_time": "2022-03-16T22:27:20.822Z"
   },
   {
    "duration": 1348,
    "start_time": "2022-03-16T22:28:52.254Z"
   },
   {
    "duration": 4,
    "start_time": "2022-03-16T22:28:53.604Z"
   },
   {
    "duration": 107,
    "start_time": "2022-03-16T22:28:53.611Z"
   },
   {
    "duration": 11,
    "start_time": "2022-03-16T22:28:53.720Z"
   },
   {
    "duration": 23,
    "start_time": "2022-03-16T22:28:53.732Z"
   },
   {
    "duration": 3372,
    "start_time": "2022-03-16T22:28:53.757Z"
   },
   {
    "duration": 2185,
    "start_time": "2022-03-16T22:28:57.132Z"
   },
   {
    "duration": 20,
    "start_time": "2022-03-16T22:28:59.320Z"
   }
  ],
  "kernelspec": {
   "display_name": "Python 3",
   "language": "python",
   "name": "python3"
  },
  "language_info": {
   "codemirror_mode": {
    "name": "ipython",
    "version": 3
   },
   "file_extension": ".py",
   "mimetype": "text/x-python",
   "name": "python",
   "nbconvert_exporter": "python",
   "pygments_lexer": "ipython3",
   "version": "3.9.0"
  },
  "toc": {
   "base_numbering": 1,
   "nav_menu": {},
   "number_sections": true,
   "sideBar": true,
   "skip_h1_title": true,
   "title_cell": "Содержание",
   "title_sidebar": "Содержание",
   "toc_cell": true,
   "toc_position": {
    "height": "calc(100% - 180px)",
    "left": "10px",
    "top": "150px",
    "width": "186.391px"
   },
   "toc_section_display": true,
   "toc_window_display": true
  }
 },
 "nbformat": 4,
 "nbformat_minor": 2
}

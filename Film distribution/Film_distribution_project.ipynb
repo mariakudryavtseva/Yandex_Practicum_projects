{
 "cells": [
  {
   "cell_type": "markdown",
   "metadata": {
    "toc": true
   },
   "source": [
    "<h1>Содержание<span class=\"tocSkip\"></span></h1>\n",
    "<div class=\"toc\"><ul class=\"toc-item\"><li><span><a href=\"#Обзор-данных\" data-toc-modified-id=\"Обзор-данных-1\"><span class=\"toc-item-num\">1&nbsp;&nbsp;</span>Обзор данных</a></span><ul class=\"toc-item\"><li><span><a href=\"#Объединение-датасетов\" data-toc-modified-id=\"Объединение-датасетов-1.1\"><span class=\"toc-item-num\">1.1&nbsp;&nbsp;</span>Объединение датасетов</a></span></li></ul></li><li><span><a href=\"#Предобработка-данных\" data-toc-modified-id=\"Предобработка-данных-2\"><span class=\"toc-item-num\">2&nbsp;&nbsp;</span>Предобработка данных</a></span><ul class=\"toc-item\"><li><span><a href=\"#Приведение-типов-данных\" data-toc-modified-id=\"Приведение-типов-данных-2.1\"><span class=\"toc-item-num\">2.1&nbsp;&nbsp;</span>Приведение типов данных</a></span></li><li><span><a href=\"#Обработка-пропусков\" data-toc-modified-id=\"Обработка-пропусков-2.2\"><span class=\"toc-item-num\">2.2&nbsp;&nbsp;</span>Обработка пропусков</a></span></li><li><span><a href=\"#Изучение-дубликатов\" data-toc-modified-id=\"Изучение-дубликатов-2.3\"><span class=\"toc-item-num\">2.3&nbsp;&nbsp;</span>Изучение дубликатов</a></span></li><li><span><a href=\"#Изучение-категориальных-значений\" data-toc-modified-id=\"Изучение-категориальных-значений-2.4\"><span class=\"toc-item-num\">2.4&nbsp;&nbsp;</span>Изучение категориальных значений</a></span></li><li><span><a href=\"#Изучение-количественных-значений\" data-toc-modified-id=\"Изучение-количественных-значений-2.5\"><span class=\"toc-item-num\">2.5&nbsp;&nbsp;</span>Изучение количественных значений</a></span></li><li><span><a href=\"#Добавление-новых-столбцов\" data-toc-modified-id=\"Добавление-новых-столбцов-2.6\"><span class=\"toc-item-num\">2.6&nbsp;&nbsp;</span>Добавление новых столбцов</a></span><ul class=\"toc-item\"><li><span><a href=\"#Добавление-столбца-с-информацией-о-годе-проката\" data-toc-modified-id=\"Добавление-столбца-с-информацией-о-годе-проката-2.6.1\"><span class=\"toc-item-num\">2.6.1&nbsp;&nbsp;</span>Добавление столбца с информацией о годе проката</a></span></li><li><span><a href=\"#Добавление-столбцов-с-информацией-о-главном-режиссёре-и-основном-жанре-фильма\" data-toc-modified-id=\"Добавление-столбцов-с-информацией-о-главном-режиссёре-и-основном-жанре-фильма-2.6.2\"><span class=\"toc-item-num\">2.6.2&nbsp;&nbsp;</span>Добавление столбцов с информацией о главном режиссёре и основном жанре фильма</a></span></li><li><span><a href=\"#Расчет-доли-государственной-поддержки-от-общего-бюджета\" data-toc-modified-id=\"Расчет-доли-государственной-поддержки-от-общего-бюджета-2.6.3\"><span class=\"toc-item-num\">2.6.3&nbsp;&nbsp;</span>Расчет доли государственной поддержки от общего бюджета</a></span></li></ul></li></ul></li><li><span><a href=\"#Исследовательский-анализ-данных-для-всех-фильмов\" data-toc-modified-id=\"Исследовательский-анализ-данных-для-всех-фильмов-3\"><span class=\"toc-item-num\">3&nbsp;&nbsp;</span>Исследовательский анализ данных для всех фильмов</a></span><ul class=\"toc-item\"><li><span><a href=\"#Зависимость-количества-фильмов,-вышедших-в-прокат,-от-года\" data-toc-modified-id=\"Зависимость-количества-фильмов,-вышедших-в-прокат,-от-года-3.1\"><span class=\"toc-item-num\">3.1&nbsp;&nbsp;</span>Зависимость количества фильмов, вышедших в прокат, от года</a></span></li><li><span><a href=\"#Максимальная-и-минимальная-сумма-сборов\" data-toc-modified-id=\"Максимальная-и-минимальная-сумма-сборов-3.2\"><span class=\"toc-item-num\">3.2&nbsp;&nbsp;</span>Максимальная и минимальная сумма сборов</a></span></li><li><span><a href=\"#Среднее-и-медианное-значение-сборов-для-каждого-года\" data-toc-modified-id=\"Среднее-и-медианное-значение-сборов-для-каждого-года-3.3\"><span class=\"toc-item-num\">3.3&nbsp;&nbsp;</span>Среднее и медианное значение сборов для каждого года</a></span></li><li><span><a href=\"#Влияние-возрастного-ограничения-на-сборы-фильма-в-прокате\" data-toc-modified-id=\"Влияние-возрастного-ограничения-на-сборы-фильма-в-прокате-3.4\"><span class=\"toc-item-num\">3.4&nbsp;&nbsp;</span>Влияние возрастного ограничения на сборы фильма в прокате</a></span></li></ul></li><li><span><a href=\"#Исследовательский-анализ-данных-для-фильмов,-которые-получили-государственную-поддержку\" data-toc-modified-id=\"Исследовательский-анализ-данных-для-фильмов,-которые-получили-государственную-поддержку-4\"><span class=\"toc-item-num\">4&nbsp;&nbsp;</span>Исследовательский анализ данных для фильмов, которые получили государственную поддержку</a></span><ul class=\"toc-item\"><li><span><a href=\"#Зависимость-размера-государственной-поддержки-от-года\" data-toc-modified-id=\"Зависимость-размера-государственной-поддержки-от-года-4.1\"><span class=\"toc-item-num\">4.1&nbsp;&nbsp;</span>Зависимость размера государственной поддержки от года</a></span></li><li><span><a href=\"#Зависимость-государственной-поддержки-от-источника-финансирования\" data-toc-modified-id=\"Зависимость-государственной-поддержки-от-источника-финансирования-4.2\"><span class=\"toc-item-num\">4.2&nbsp;&nbsp;</span>Зависимость государственной поддержки от источника финансирования</a></span></li><li><span><a href=\"#Окупаемость-и-прибыльность-фильмов-с-государственной-поддержкой\" data-toc-modified-id=\"Окупаемость-и-прибыльность-фильмов-с-государственной-поддержкой-4.3\"><span class=\"toc-item-num\">4.3&nbsp;&nbsp;</span>Окупаемость и прибыльность фильмов с государственной поддержкой</a></span></li><li><span><a href=\"#Рейтинг-и-жанры-фильмов-с-государственной-поддержкой\" data-toc-modified-id=\"Рейтинг-и-жанры-фильмов-с-государственной-поддержкой-4.4\"><span class=\"toc-item-num\">4.4&nbsp;&nbsp;</span>Рейтинг и жанры фильмов с государственной поддержкой</a></span></li></ul></li><li><span><a href=\"#Общий-вывод\" data-toc-modified-id=\"Общий-вывод-5\"><span class=\"toc-item-num\">5&nbsp;&nbsp;</span>Общий вывод</a></span></li></ul></div>"
   ]
  },
  {
   "cell_type": "markdown",
   "metadata": {
    "id": "sIfNaMOxgFyK"
   },
   "source": [
    "# Исследование данных о российском кинопрокате"
   ]
  },
  {
   "cell_type": "markdown",
   "metadata": {
    "id": "3bSlkCsbgFyL"
   },
   "source": [
    "## Обзор данных"
   ]
  },
  {
   "cell_type": "markdown",
   "metadata": {
    "id": "dw87FlzMgFyM"
   },
   "source": [
    "Импортируем необходимые для работы библиотеки."
   ]
  },
  {
   "cell_type": "code",
   "execution_count": 1,
   "metadata": {},
   "outputs": [],
   "source": [
    "import pandas as pd\n",
    "import matplotlib.pyplot as plt\n",
    "import seaborn\n",
    "import numpy as np"
   ]
  },
  {
   "cell_type": "code",
   "execution_count": 2,
   "metadata": {},
   "outputs": [
    {
     "data": {
      "text/html": [
       "<div>\n",
       "<style scoped>\n",
       "    .dataframe tbody tr th:only-of-type {\n",
       "        vertical-align: middle;\n",
       "    }\n",
       "\n",
       "    .dataframe tbody tr th {\n",
       "        vertical-align: top;\n",
       "    }\n",
       "\n",
       "    .dataframe thead th {\n",
       "        text-align: right;\n",
       "    }\n",
       "</style>\n",
       "<table border=\"1\" class=\"dataframe\">\n",
       "  <thead>\n",
       "    <tr style=\"text-align: right;\">\n",
       "      <th></th>\n",
       "      <th>title</th>\n",
       "      <th>puNumber</th>\n",
       "      <th>show_start_date</th>\n",
       "      <th>type</th>\n",
       "      <th>film_studio</th>\n",
       "      <th>production_country</th>\n",
       "      <th>director</th>\n",
       "      <th>producer</th>\n",
       "      <th>age_restriction</th>\n",
       "      <th>refundable_support</th>\n",
       "      <th>nonrefundable_support</th>\n",
       "      <th>budget</th>\n",
       "      <th>financing_source</th>\n",
       "      <th>ratings</th>\n",
       "      <th>genres</th>\n",
       "    </tr>\n",
       "  </thead>\n",
       "  <tbody>\n",
       "    <tr>\n",
       "      <td>0</td>\n",
       "      <td>Открытый простор</td>\n",
       "      <td>221048915</td>\n",
       "      <td>2015-11-27T12:00:00.000Z</td>\n",
       "      <td>Художественный</td>\n",
       "      <td>Тачстоун Пикчерз, Кобальт Пикчерз, Бикон Пикче...</td>\n",
       "      <td>США</td>\n",
       "      <td>Кевин Костнер</td>\n",
       "      <td>Дэвид Валдес, Кевин Костнер, Джейк Эбертс</td>\n",
       "      <td>«18+» - запрещено для детей</td>\n",
       "      <td>NaN</td>\n",
       "      <td>NaN</td>\n",
       "      <td>NaN</td>\n",
       "      <td>NaN</td>\n",
       "      <td>7.2</td>\n",
       "      <td>боевик,драма,мелодрама</td>\n",
       "    </tr>\n",
       "    <tr>\n",
       "      <td>1</td>\n",
       "      <td>Особо важное задание</td>\n",
       "      <td>111013716</td>\n",
       "      <td>2016-09-13T12:00:00.000Z</td>\n",
       "      <td>Художественный</td>\n",
       "      <td>Киностудия \"Мосфильм\"</td>\n",
       "      <td>СССР</td>\n",
       "      <td>Е.Матвеев</td>\n",
       "      <td>NaN</td>\n",
       "      <td>«6+» - для детей старше 6 лет</td>\n",
       "      <td>NaN</td>\n",
       "      <td>NaN</td>\n",
       "      <td>NaN</td>\n",
       "      <td>NaN</td>\n",
       "      <td>6.6</td>\n",
       "      <td>драма,военный</td>\n",
       "    </tr>\n",
       "    <tr>\n",
       "      <td>2</td>\n",
       "      <td>Особо опасен</td>\n",
       "      <td>221038416</td>\n",
       "      <td>2016-10-10T12:00:00.000Z</td>\n",
       "      <td>Художественный</td>\n",
       "      <td>Юниверсал Пикчерз, Кикстарт Продакшнз, Марк Пл...</td>\n",
       "      <td>США</td>\n",
       "      <td>Тимур Бекмамбетов</td>\n",
       "      <td>Джим Лемли, Джейсон Нетер, Марк Е.Платт, Яйн Смит</td>\n",
       "      <td>«18+» - запрещено для детей</td>\n",
       "      <td>NaN</td>\n",
       "      <td>NaN</td>\n",
       "      <td>NaN</td>\n",
       "      <td>NaN</td>\n",
       "      <td>6.8</td>\n",
       "      <td>фантастика,боевик,триллер</td>\n",
       "    </tr>\n",
       "    <tr>\n",
       "      <td>3</td>\n",
       "      <td>Особо опасен</td>\n",
       "      <td>221026916</td>\n",
       "      <td>2016-06-10T12:00:00.000Z</td>\n",
       "      <td>Художественный</td>\n",
       "      <td>Юниверсал Пикчерз, Кикстарт Продакшнз, Марк Пл...</td>\n",
       "      <td>США</td>\n",
       "      <td>Тимур Бекмамбетов</td>\n",
       "      <td>Джим Лемли, Джейсон Нетер, Марк Е.Платт, Яйн Смит</td>\n",
       "      <td>«18+» - запрещено для детей</td>\n",
       "      <td>NaN</td>\n",
       "      <td>NaN</td>\n",
       "      <td>NaN</td>\n",
       "      <td>NaN</td>\n",
       "      <td>6.8</td>\n",
       "      <td>фантастика,боевик,триллер</td>\n",
       "    </tr>\n",
       "    <tr>\n",
       "      <td>4</td>\n",
       "      <td>Особо опасен</td>\n",
       "      <td>221030815</td>\n",
       "      <td>2015-07-29T12:00:00.000Z</td>\n",
       "      <td>Художественный</td>\n",
       "      <td>Юниверсал Пикчерз, Кикстарт Продакшнз, Марк Пл...</td>\n",
       "      <td>США</td>\n",
       "      <td>Тимур Бекмамбетов</td>\n",
       "      <td>Джим Лемли, Джейсон Нетер, Марк Е.Платт, Яйн Смит</td>\n",
       "      <td>«18+» - запрещено для детей</td>\n",
       "      <td>NaN</td>\n",
       "      <td>NaN</td>\n",
       "      <td>NaN</td>\n",
       "      <td>NaN</td>\n",
       "      <td>6.8</td>\n",
       "      <td>фантастика,боевик,триллер</td>\n",
       "    </tr>\n",
       "    <tr>\n",
       "      <td>5</td>\n",
       "      <td>Остановился поезд</td>\n",
       "      <td>111013816</td>\n",
       "      <td>2016-09-13T12:00:00.000Z</td>\n",
       "      <td>Художественный</td>\n",
       "      <td>Киностудия \"Мосфильм\"</td>\n",
       "      <td>СССР</td>\n",
       "      <td>В.Абдрашитов</td>\n",
       "      <td>NaN</td>\n",
       "      <td>«6+» - для детей старше 6 лет</td>\n",
       "      <td>NaN</td>\n",
       "      <td>NaN</td>\n",
       "      <td>NaN</td>\n",
       "      <td>NaN</td>\n",
       "      <td>7.7</td>\n",
       "      <td>драма</td>\n",
       "    </tr>\n",
       "    <tr>\n",
       "      <td>6</td>\n",
       "      <td>Любовь и голуби</td>\n",
       "      <td>111007013</td>\n",
       "      <td>2013-10-18T12:00:00.000Z</td>\n",
       "      <td>Художественный</td>\n",
       "      <td>Киностудия \"Мосфильм\"</td>\n",
       "      <td>СССР</td>\n",
       "      <td>В.Меньшов</td>\n",
       "      <td>NaN</td>\n",
       "      <td>«12+» - для детей старше 12 лет</td>\n",
       "      <td>NaN</td>\n",
       "      <td>NaN</td>\n",
       "      <td>NaN</td>\n",
       "      <td>NaN</td>\n",
       "      <td>8.3</td>\n",
       "      <td>мелодрама,комедия</td>\n",
       "    </tr>\n",
       "    <tr>\n",
       "      <td>7</td>\n",
       "      <td>Любовь и сигареты</td>\n",
       "      <td>221074614</td>\n",
       "      <td>2014-12-29T12:00:00.000Z</td>\n",
       "      <td>Художественный</td>\n",
       "      <td>Юнайтед Артистс, Грин Стрит Филмз, Айкон Интер...</td>\n",
       "      <td>США</td>\n",
       "      <td>Джон Туртурро</td>\n",
       "      <td>Джон Пенотти, Джон Туртурро</td>\n",
       "      <td>«18+» - запрещено для детей</td>\n",
       "      <td>NaN</td>\n",
       "      <td>NaN</td>\n",
       "      <td>NaN</td>\n",
       "      <td>NaN</td>\n",
       "      <td>6.6</td>\n",
       "      <td>мюзикл,мелодрама,комедия</td>\n",
       "    </tr>\n",
       "    <tr>\n",
       "      <td>8</td>\n",
       "      <td>Отпетые мошенники.</td>\n",
       "      <td>121011416</td>\n",
       "      <td>2016-05-05T12:00:00.000Z</td>\n",
       "      <td>Художественный</td>\n",
       "      <td>Пульсар Продюксьон, ТФ1 Фильм</td>\n",
       "      <td>Франция</td>\n",
       "      <td>Эрик Беснард</td>\n",
       "      <td>Патрис Леду</td>\n",
       "      <td>«18+» - запрещено для детей</td>\n",
       "      <td>NaN</td>\n",
       "      <td>NaN</td>\n",
       "      <td>NaN</td>\n",
       "      <td>NaN</td>\n",
       "      <td>8.0</td>\n",
       "      <td>комедия,криминал</td>\n",
       "    </tr>\n",
       "    <tr>\n",
       "      <td>9</td>\n",
       "      <td>Отпуск за свой счет</td>\n",
       "      <td>111019114</td>\n",
       "      <td>2014-12-01T12:00:00.000Z</td>\n",
       "      <td>Художественный</td>\n",
       "      <td>Киностудия \"Мосфильм\", Телевидение ВНР</td>\n",
       "      <td>СССР, Венгрия</td>\n",
       "      <td>В.Титов</td>\n",
       "      <td>NaN</td>\n",
       "      <td>«12+» - для детей старше 12 лет</td>\n",
       "      <td>NaN</td>\n",
       "      <td>NaN</td>\n",
       "      <td>NaN</td>\n",
       "      <td>NaN</td>\n",
       "      <td>7.8</td>\n",
       "      <td>мелодрама,комедия</td>\n",
       "    </tr>\n",
       "  </tbody>\n",
       "</table>\n",
       "</div>"
      ],
      "text/plain": [
       "                  title   puNumber           show_start_date            type  \\\n",
       "0      Открытый простор  221048915  2015-11-27T12:00:00.000Z  Художественный   \n",
       "1  Особо важное задание  111013716  2016-09-13T12:00:00.000Z  Художественный   \n",
       "2          Особо опасен  221038416  2016-10-10T12:00:00.000Z  Художественный   \n",
       "3          Особо опасен  221026916  2016-06-10T12:00:00.000Z  Художественный   \n",
       "4          Особо опасен  221030815  2015-07-29T12:00:00.000Z  Художественный   \n",
       "5     Остановился поезд  111013816  2016-09-13T12:00:00.000Z  Художественный   \n",
       "6       Любовь и голуби  111007013  2013-10-18T12:00:00.000Z  Художественный   \n",
       "7     Любовь и сигареты  221074614  2014-12-29T12:00:00.000Z  Художественный   \n",
       "8    Отпетые мошенники.  121011416  2016-05-05T12:00:00.000Z  Художественный   \n",
       "9   Отпуск за свой счет  111019114  2014-12-01T12:00:00.000Z  Художественный   \n",
       "\n",
       "                                         film_studio production_country  \\\n",
       "0  Тачстоун Пикчерз, Кобальт Пикчерз, Бикон Пикче...                США   \n",
       "1                              Киностудия \"Мосфильм\"               СССР   \n",
       "2  Юниверсал Пикчерз, Кикстарт Продакшнз, Марк Пл...                США   \n",
       "3  Юниверсал Пикчерз, Кикстарт Продакшнз, Марк Пл...                США   \n",
       "4  Юниверсал Пикчерз, Кикстарт Продакшнз, Марк Пл...                США   \n",
       "5                              Киностудия \"Мосфильм\"               СССР   \n",
       "6                              Киностудия \"Мосфильм\"               СССР   \n",
       "7  Юнайтед Артистс, Грин Стрит Филмз, Айкон Интер...                США   \n",
       "8                     Пульсар Продюксьон, ТФ1 Фильм             Франция   \n",
       "9             Киностудия \"Мосфильм\", Телевидение ВНР      СССР, Венгрия   \n",
       "\n",
       "            director                                           producer  \\\n",
       "0      Кевин Костнер          Дэвид Валдес, Кевин Костнер, Джейк Эбертс   \n",
       "1          Е.Матвеев                                                NaN   \n",
       "2  Тимур Бекмамбетов  Джим Лемли, Джейсон Нетер, Марк Е.Платт, Яйн Смит   \n",
       "3  Тимур Бекмамбетов  Джим Лемли, Джейсон Нетер, Марк Е.Платт, Яйн Смит   \n",
       "4  Тимур Бекмамбетов  Джим Лемли, Джейсон Нетер, Марк Е.Платт, Яйн Смит   \n",
       "5       В.Абдрашитов                                                NaN   \n",
       "6          В.Меньшов                                                NaN   \n",
       "7      Джон Туртурро                        Джон Пенотти, Джон Туртурро   \n",
       "8       Эрик Беснард                                        Патрис Леду   \n",
       "9            В.Титов                                                NaN   \n",
       "\n",
       "                   age_restriction  refundable_support  nonrefundable_support  \\\n",
       "0      «18+» - запрещено для детей                 NaN                    NaN   \n",
       "1    «6+» - для детей старше 6 лет                 NaN                    NaN   \n",
       "2      «18+» - запрещено для детей                 NaN                    NaN   \n",
       "3      «18+» - запрещено для детей                 NaN                    NaN   \n",
       "4      «18+» - запрещено для детей                 NaN                    NaN   \n",
       "5    «6+» - для детей старше 6 лет                 NaN                    NaN   \n",
       "6  «12+» - для детей старше 12 лет                 NaN                    NaN   \n",
       "7      «18+» - запрещено для детей                 NaN                    NaN   \n",
       "8      «18+» - запрещено для детей                 NaN                    NaN   \n",
       "9  «12+» - для детей старше 12 лет                 NaN                    NaN   \n",
       "\n",
       "   budget financing_source ratings                     genres  \n",
       "0     NaN              NaN     7.2     боевик,драма,мелодрама  \n",
       "1     NaN              NaN     6.6              драма,военный  \n",
       "2     NaN              NaN     6.8  фантастика,боевик,триллер  \n",
       "3     NaN              NaN     6.8  фантастика,боевик,триллер  \n",
       "4     NaN              NaN     6.8  фантастика,боевик,триллер  \n",
       "5     NaN              NaN     7.7                      драма  \n",
       "6     NaN              NaN     8.3          мелодрама,комедия  \n",
       "7     NaN              NaN     6.6   мюзикл,мелодрама,комедия  \n",
       "8     NaN              NaN     8.0           комедия,криминал  \n",
       "9     NaN              NaN     7.8          мелодрама,комедия  "
      ]
     },
     "metadata": {},
     "output_type": "display_data"
    },
    {
     "name": "stdout",
     "output_type": "stream",
     "text": [
      "<class 'pandas.core.frame.DataFrame'>\n",
      "RangeIndex: 7486 entries, 0 to 7485\n",
      "Data columns (total 15 columns):\n",
      "title                    7486 non-null object\n",
      "puNumber                 7486 non-null object\n",
      "show_start_date          7486 non-null object\n",
      "type                     7486 non-null object\n",
      "film_studio              7468 non-null object\n",
      "production_country       7484 non-null object\n",
      "director                 7477 non-null object\n",
      "producer                 6918 non-null object\n",
      "age_restriction          7486 non-null object\n",
      "refundable_support       332 non-null float64\n",
      "nonrefundable_support    332 non-null float64\n",
      "budget                   332 non-null float64\n",
      "financing_source         332 non-null object\n",
      "ratings                  6519 non-null object\n",
      "genres                   6510 non-null object\n",
      "dtypes: float64(3), object(12)\n",
      "memory usage: 877.4+ KB\n"
     ]
    },
    {
     "data": {
      "text/html": [
       "<div>\n",
       "<style scoped>\n",
       "    .dataframe tbody tr th:only-of-type {\n",
       "        vertical-align: middle;\n",
       "    }\n",
       "\n",
       "    .dataframe tbody tr th {\n",
       "        vertical-align: top;\n",
       "    }\n",
       "\n",
       "    .dataframe thead th {\n",
       "        text-align: right;\n",
       "    }\n",
       "</style>\n",
       "<table border=\"1\" class=\"dataframe\">\n",
       "  <thead>\n",
       "    <tr style=\"text-align: right;\">\n",
       "      <th></th>\n",
       "      <th>puNumber</th>\n",
       "      <th>box_office</th>\n",
       "    </tr>\n",
       "  </thead>\n",
       "  <tbody>\n",
       "    <tr>\n",
       "      <td>0</td>\n",
       "      <td>111000113</td>\n",
       "      <td>2.450000e+03</td>\n",
       "    </tr>\n",
       "    <tr>\n",
       "      <td>1</td>\n",
       "      <td>111000115</td>\n",
       "      <td>6.104000e+04</td>\n",
       "    </tr>\n",
       "    <tr>\n",
       "      <td>2</td>\n",
       "      <td>111000116</td>\n",
       "      <td>1.530300e+08</td>\n",
       "    </tr>\n",
       "    <tr>\n",
       "      <td>3</td>\n",
       "      <td>111000117</td>\n",
       "      <td>1.226096e+07</td>\n",
       "    </tr>\n",
       "    <tr>\n",
       "      <td>4</td>\n",
       "      <td>111000118</td>\n",
       "      <td>1.636841e+08</td>\n",
       "    </tr>\n",
       "    <tr>\n",
       "      <td>5</td>\n",
       "      <td>111000119</td>\n",
       "      <td>4.293650e+06</td>\n",
       "    </tr>\n",
       "    <tr>\n",
       "      <td>6</td>\n",
       "      <td>111000212</td>\n",
       "      <td>2.000000e+02</td>\n",
       "    </tr>\n",
       "    <tr>\n",
       "      <td>7</td>\n",
       "      <td>111000216</td>\n",
       "      <td>3.555670e+05</td>\n",
       "    </tr>\n",
       "    <tr>\n",
       "      <td>8</td>\n",
       "      <td>111000313</td>\n",
       "      <td>7.100000e+02</td>\n",
       "    </tr>\n",
       "    <tr>\n",
       "      <td>9</td>\n",
       "      <td>111000314</td>\n",
       "      <td>1.607970e+06</td>\n",
       "    </tr>\n",
       "  </tbody>\n",
       "</table>\n",
       "</div>"
      ],
      "text/plain": [
       "    puNumber    box_office\n",
       "0  111000113  2.450000e+03\n",
       "1  111000115  6.104000e+04\n",
       "2  111000116  1.530300e+08\n",
       "3  111000117  1.226096e+07\n",
       "4  111000118  1.636841e+08\n",
       "5  111000119  4.293650e+06\n",
       "6  111000212  2.000000e+02\n",
       "7  111000216  3.555670e+05\n",
       "8  111000313  7.100000e+02\n",
       "9  111000314  1.607970e+06"
      ]
     },
     "metadata": {},
     "output_type": "display_data"
    },
    {
     "name": "stdout",
     "output_type": "stream",
     "text": [
      "<class 'pandas.core.frame.DataFrame'>\n",
      "RangeIndex: 3158 entries, 0 to 3157\n",
      "Data columns (total 2 columns):\n",
      "puNumber      3158 non-null int64\n",
      "box_office    3158 non-null float64\n",
      "dtypes: float64(1), int64(1)\n",
      "memory usage: 49.5 KB\n"
     ]
    }
   ],
   "source": [
    "# чтение файлов с данными и сохранение в df_movies\n",
    "# и df_shows\n",
    "df_movies = pd.read_csv('/datasets/mkrf_movies.csv')\n",
    "df_shows = pd.read_csv('/datasets/mkrf_shows.csv')\n",
    "# получение первых 10 строк таблиц\n",
    "# получение общей информации о данных в таблицах\n",
    "display(df_movies.head(10)) \n",
    "df_movies.info()\n",
    "display(df_shows.head(10))\n",
    "df_shows.info()"
   ]
  },
  {
   "cell_type": "markdown",
   "metadata": {},
   "source": [
    "Первичный обзор данных позволяет сказать, что таблица `mkrf_movies` содержит 15 столбцов с данными типа `float64` и `object`, а таблица `mkrf_shows` имеет 2 столбца с данными типа `int64` и `float64`."
   ]
  },
  {
   "cell_type": "markdown",
   "metadata": {},
   "source": [
    "Согласно документации к данным:\n",
    "\n",
    "1) Таблица `mkrf_movies` содержит информацию из реестра прокатных удостоверений. У одного фильма может быть несколько прокатных удостоверений.\n",
    "* `title` — название фильма;\n",
    "* `puNumber` — номер прокатного удостоверения;\n",
    "* `show_start_date` — дата премьеры фильма;\n",
    "* `type` — тип фильма;\n",
    "* `film_studio` — студия-производитель;\n",
    "* `production_country` — страна-производитель;\n",
    "* `director` — режиссёр;\n",
    "* `producer` — продюсер;\n",
    "* `age_restriction` — возрастная категория;\n",
    "* `refundable_support` — объём возвратных средств государственной поддержки;\n",
    "* `nonrefundable_support` — объём невозвратных средств государственной поддержки;\n",
    "* `financing_source` — источник государственного финансирования;\n",
    "* `budget` — общий бюджет фильма;\n",
    "* `ratings` — рейтинг фильма на КиноПоиске;\n",
    "* `genres` — жанр фильма.\n",
    "\n",
    "Столбец `budget` уже включает в себя полный объём государственной поддержки. Данные в этом столбце указаны только для тех фильмов, которые получили государственную поддержку.\n",
    "\n",
    "2) Таблица `mkrf_shows` содержит сведения о показах фильмов в российских кинотеатрах.\n",
    "* `puNumber` — номер прокатного удостоверения;\n",
    "* `box_office` — сборы в рублях."
   ]
  },
  {
   "cell_type": "markdown",
   "metadata": {},
   "source": [
    "### Объединение датасетов"
   ]
  },
  {
   "cell_type": "markdown",
   "metadata": {},
   "source": [
    "Для нашего исследования нам необходимо объединить таблицы `mkrf_movies` и `mkrf_shows` в один датафрейм. Обе таблицы имеют столбец `puNumber`, содержащий значения номера прокатного удостоверения. Мы можем произвести объединение таблиц по нему, используя метод `merge()`. Но можно заметить, что в таблице `mkrf_movies` столбец с данными `puNumber` имеет тип `object`, а в таблице `mkrf_shows` - `int64`. Приведем данные столбцов к одному типу."
   ]
  },
  {
   "cell_type": "code",
   "execution_count": 3,
   "metadata": {},
   "outputs": [
    {
     "name": "stdout",
     "output_type": "stream",
     "text": [
      "<class 'pandas.core.frame.DataFrame'>\n",
      "RangeIndex: 7486 entries, 0 to 7485\n",
      "Data columns (total 15 columns):\n",
      "title                    7486 non-null object\n",
      "puNumber                 7485 non-null Int64\n",
      "show_start_date          7486 non-null object\n",
      "type                     7486 non-null object\n",
      "film_studio              7468 non-null object\n",
      "production_country       7484 non-null object\n",
      "director                 7477 non-null object\n",
      "producer                 6918 non-null object\n",
      "age_restriction          7486 non-null object\n",
      "refundable_support       332 non-null float64\n",
      "nonrefundable_support    332 non-null float64\n",
      "budget                   332 non-null float64\n",
      "financing_source         332 non-null object\n",
      "ratings                  6519 non-null object\n",
      "genres                   6510 non-null object\n",
      "dtypes: Int64(1), float64(3), object(11)\n",
      "memory usage: 884.7+ KB\n",
      "<class 'pandas.core.frame.DataFrame'>\n",
      "RangeIndex: 3158 entries, 0 to 3157\n",
      "Data columns (total 2 columns):\n",
      "puNumber      3158 non-null Int64\n",
      "box_office    3158 non-null float64\n",
      "dtypes: Int64(1), float64(1)\n",
      "memory usage: 52.6 KB\n"
     ]
    }
   ],
   "source": [
    "# приведение столбцов датасетов к одному типу\n",
    "df_movies['puNumber'] = pd.to_numeric(df_movies['puNumber'], errors='coerce').astype('Int64')\n",
    "df_shows['puNumber'] = df_shows['puNumber'].astype('Int64')\n",
    "# получение общей информации о данных в таблицах\n",
    "df_movies.info()\n",
    "df_shows.info()"
   ]
  },
  {
   "cell_type": "markdown",
   "metadata": {},
   "source": [
    "Теперь объединим таблицы `mkrf_movies` и `mkrf_shows` в один датафрейм по столбцу `puNumber` таким образом, что все значения из таблицы `mkrf_movies` войдут в новый датафрейм."
   ]
  },
  {
   "cell_type": "code",
   "execution_count": 4,
   "metadata": {},
   "outputs": [
    {
     "name": "stdout",
     "output_type": "stream",
     "text": [
      "<class 'pandas.core.frame.DataFrame'>\n",
      "Int64Index: 7486 entries, 0 to 7485\n",
      "Data columns (total 16 columns):\n",
      "title                    7486 non-null object\n",
      "puNumber                 7485 non-null Int64\n",
      "show_start_date          7486 non-null object\n",
      "type                     7486 non-null object\n",
      "film_studio              7468 non-null object\n",
      "production_country       7484 non-null object\n",
      "director                 7477 non-null object\n",
      "producer                 6918 non-null object\n",
      "age_restriction          7486 non-null object\n",
      "refundable_support       332 non-null float64\n",
      "nonrefundable_support    332 non-null float64\n",
      "budget                   332 non-null float64\n",
      "financing_source         332 non-null object\n",
      "ratings                  6519 non-null object\n",
      "genres                   6510 non-null object\n",
      "box_office               3158 non-null float64\n",
      "dtypes: Int64(1), float64(4), object(11)\n",
      "memory usage: 1001.5+ KB\n"
     ]
    }
   ],
   "source": [
    "# объединение таблиц\n",
    "df = df_movies.merge(df_shows, on='puNumber', how='left')\n",
    "# проверяем результат объединения\n",
    "df.info()"
   ]
  },
  {
   "cell_type": "code",
   "execution_count": 5,
   "metadata": {},
   "outputs": [
    {
     "data": {
      "text/html": [
       "<div>\n",
       "<style scoped>\n",
       "    .dataframe tbody tr th:only-of-type {\n",
       "        vertical-align: middle;\n",
       "    }\n",
       "\n",
       "    .dataframe tbody tr th {\n",
       "        vertical-align: top;\n",
       "    }\n",
       "\n",
       "    .dataframe thead th {\n",
       "        text-align: right;\n",
       "    }\n",
       "</style>\n",
       "<table border=\"1\" class=\"dataframe\">\n",
       "  <thead>\n",
       "    <tr style=\"text-align: right;\">\n",
       "      <th></th>\n",
       "      <th>title</th>\n",
       "      <th>puNumber</th>\n",
       "      <th>show_start_date</th>\n",
       "      <th>type</th>\n",
       "      <th>film_studio</th>\n",
       "      <th>production_country</th>\n",
       "      <th>director</th>\n",
       "      <th>producer</th>\n",
       "      <th>age_restriction</th>\n",
       "      <th>refundable_support</th>\n",
       "      <th>nonrefundable_support</th>\n",
       "      <th>budget</th>\n",
       "      <th>financing_source</th>\n",
       "      <th>ratings</th>\n",
       "      <th>genres</th>\n",
       "      <th>box_office</th>\n",
       "    </tr>\n",
       "  </thead>\n",
       "  <tbody>\n",
       "    <tr>\n",
       "      <td>0</td>\n",
       "      <td>Открытый простор</td>\n",
       "      <td>221048915</td>\n",
       "      <td>2015-11-27T12:00:00.000Z</td>\n",
       "      <td>Художественный</td>\n",
       "      <td>Тачстоун Пикчерз, Кобальт Пикчерз, Бикон Пикче...</td>\n",
       "      <td>США</td>\n",
       "      <td>Кевин Костнер</td>\n",
       "      <td>Дэвид Валдес, Кевин Костнер, Джейк Эбертс</td>\n",
       "      <td>«18+» - запрещено для детей</td>\n",
       "      <td>NaN</td>\n",
       "      <td>NaN</td>\n",
       "      <td>NaN</td>\n",
       "      <td>NaN</td>\n",
       "      <td>7.2</td>\n",
       "      <td>боевик,драма,мелодрама</td>\n",
       "      <td>NaN</td>\n",
       "    </tr>\n",
       "    <tr>\n",
       "      <td>1</td>\n",
       "      <td>Особо важное задание</td>\n",
       "      <td>111013716</td>\n",
       "      <td>2016-09-13T12:00:00.000Z</td>\n",
       "      <td>Художественный</td>\n",
       "      <td>Киностудия \"Мосфильм\"</td>\n",
       "      <td>СССР</td>\n",
       "      <td>Е.Матвеев</td>\n",
       "      <td>NaN</td>\n",
       "      <td>«6+» - для детей старше 6 лет</td>\n",
       "      <td>NaN</td>\n",
       "      <td>NaN</td>\n",
       "      <td>NaN</td>\n",
       "      <td>NaN</td>\n",
       "      <td>6.6</td>\n",
       "      <td>драма,военный</td>\n",
       "      <td>NaN</td>\n",
       "    </tr>\n",
       "    <tr>\n",
       "      <td>2</td>\n",
       "      <td>Особо опасен</td>\n",
       "      <td>221038416</td>\n",
       "      <td>2016-10-10T12:00:00.000Z</td>\n",
       "      <td>Художественный</td>\n",
       "      <td>Юниверсал Пикчерз, Кикстарт Продакшнз, Марк Пл...</td>\n",
       "      <td>США</td>\n",
       "      <td>Тимур Бекмамбетов</td>\n",
       "      <td>Джим Лемли, Джейсон Нетер, Марк Е.Платт, Яйн Смит</td>\n",
       "      <td>«18+» - запрещено для детей</td>\n",
       "      <td>NaN</td>\n",
       "      <td>NaN</td>\n",
       "      <td>NaN</td>\n",
       "      <td>NaN</td>\n",
       "      <td>6.8</td>\n",
       "      <td>фантастика,боевик,триллер</td>\n",
       "      <td>NaN</td>\n",
       "    </tr>\n",
       "    <tr>\n",
       "      <td>3</td>\n",
       "      <td>Особо опасен</td>\n",
       "      <td>221026916</td>\n",
       "      <td>2016-06-10T12:00:00.000Z</td>\n",
       "      <td>Художественный</td>\n",
       "      <td>Юниверсал Пикчерз, Кикстарт Продакшнз, Марк Пл...</td>\n",
       "      <td>США</td>\n",
       "      <td>Тимур Бекмамбетов</td>\n",
       "      <td>Джим Лемли, Джейсон Нетер, Марк Е.Платт, Яйн Смит</td>\n",
       "      <td>«18+» - запрещено для детей</td>\n",
       "      <td>NaN</td>\n",
       "      <td>NaN</td>\n",
       "      <td>NaN</td>\n",
       "      <td>NaN</td>\n",
       "      <td>6.8</td>\n",
       "      <td>фантастика,боевик,триллер</td>\n",
       "      <td>NaN</td>\n",
       "    </tr>\n",
       "    <tr>\n",
       "      <td>4</td>\n",
       "      <td>Особо опасен</td>\n",
       "      <td>221030815</td>\n",
       "      <td>2015-07-29T12:00:00.000Z</td>\n",
       "      <td>Художественный</td>\n",
       "      <td>Юниверсал Пикчерз, Кикстарт Продакшнз, Марк Пл...</td>\n",
       "      <td>США</td>\n",
       "      <td>Тимур Бекмамбетов</td>\n",
       "      <td>Джим Лемли, Джейсон Нетер, Марк Е.Платт, Яйн Смит</td>\n",
       "      <td>«18+» - запрещено для детей</td>\n",
       "      <td>NaN</td>\n",
       "      <td>NaN</td>\n",
       "      <td>NaN</td>\n",
       "      <td>NaN</td>\n",
       "      <td>6.8</td>\n",
       "      <td>фантастика,боевик,триллер</td>\n",
       "      <td>NaN</td>\n",
       "    </tr>\n",
       "    <tr>\n",
       "      <td>5</td>\n",
       "      <td>Остановился поезд</td>\n",
       "      <td>111013816</td>\n",
       "      <td>2016-09-13T12:00:00.000Z</td>\n",
       "      <td>Художественный</td>\n",
       "      <td>Киностудия \"Мосфильм\"</td>\n",
       "      <td>СССР</td>\n",
       "      <td>В.Абдрашитов</td>\n",
       "      <td>NaN</td>\n",
       "      <td>«6+» - для детей старше 6 лет</td>\n",
       "      <td>NaN</td>\n",
       "      <td>NaN</td>\n",
       "      <td>NaN</td>\n",
       "      <td>NaN</td>\n",
       "      <td>7.7</td>\n",
       "      <td>драма</td>\n",
       "      <td>NaN</td>\n",
       "    </tr>\n",
       "    <tr>\n",
       "      <td>6</td>\n",
       "      <td>Любовь и голуби</td>\n",
       "      <td>111007013</td>\n",
       "      <td>2013-10-18T12:00:00.000Z</td>\n",
       "      <td>Художественный</td>\n",
       "      <td>Киностудия \"Мосфильм\"</td>\n",
       "      <td>СССР</td>\n",
       "      <td>В.Меньшов</td>\n",
       "      <td>NaN</td>\n",
       "      <td>«12+» - для детей старше 12 лет</td>\n",
       "      <td>NaN</td>\n",
       "      <td>NaN</td>\n",
       "      <td>NaN</td>\n",
       "      <td>NaN</td>\n",
       "      <td>8.3</td>\n",
       "      <td>мелодрама,комедия</td>\n",
       "      <td>2700.0</td>\n",
       "    </tr>\n",
       "    <tr>\n",
       "      <td>7</td>\n",
       "      <td>Любовь и сигареты</td>\n",
       "      <td>221074614</td>\n",
       "      <td>2014-12-29T12:00:00.000Z</td>\n",
       "      <td>Художественный</td>\n",
       "      <td>Юнайтед Артистс, Грин Стрит Филмз, Айкон Интер...</td>\n",
       "      <td>США</td>\n",
       "      <td>Джон Туртурро</td>\n",
       "      <td>Джон Пенотти, Джон Туртурро</td>\n",
       "      <td>«18+» - запрещено для детей</td>\n",
       "      <td>NaN</td>\n",
       "      <td>NaN</td>\n",
       "      <td>NaN</td>\n",
       "      <td>NaN</td>\n",
       "      <td>6.6</td>\n",
       "      <td>мюзикл,мелодрама,комедия</td>\n",
       "      <td>NaN</td>\n",
       "    </tr>\n",
       "    <tr>\n",
       "      <td>8</td>\n",
       "      <td>Отпетые мошенники.</td>\n",
       "      <td>121011416</td>\n",
       "      <td>2016-05-05T12:00:00.000Z</td>\n",
       "      <td>Художественный</td>\n",
       "      <td>Пульсар Продюксьон, ТФ1 Фильм</td>\n",
       "      <td>Франция</td>\n",
       "      <td>Эрик Беснард</td>\n",
       "      <td>Патрис Леду</td>\n",
       "      <td>«18+» - запрещено для детей</td>\n",
       "      <td>NaN</td>\n",
       "      <td>NaN</td>\n",
       "      <td>NaN</td>\n",
       "      <td>NaN</td>\n",
       "      <td>8.0</td>\n",
       "      <td>комедия,криминал</td>\n",
       "      <td>NaN</td>\n",
       "    </tr>\n",
       "    <tr>\n",
       "      <td>9</td>\n",
       "      <td>Отпуск за свой счет</td>\n",
       "      <td>111019114</td>\n",
       "      <td>2014-12-01T12:00:00.000Z</td>\n",
       "      <td>Художественный</td>\n",
       "      <td>Киностудия \"Мосфильм\", Телевидение ВНР</td>\n",
       "      <td>СССР, Венгрия</td>\n",
       "      <td>В.Титов</td>\n",
       "      <td>NaN</td>\n",
       "      <td>«12+» - для детей старше 12 лет</td>\n",
       "      <td>NaN</td>\n",
       "      <td>NaN</td>\n",
       "      <td>NaN</td>\n",
       "      <td>NaN</td>\n",
       "      <td>7.8</td>\n",
       "      <td>мелодрама,комедия</td>\n",
       "      <td>NaN</td>\n",
       "    </tr>\n",
       "  </tbody>\n",
       "</table>\n",
       "</div>"
      ],
      "text/plain": [
       "                  title   puNumber           show_start_date            type  \\\n",
       "0      Открытый простор  221048915  2015-11-27T12:00:00.000Z  Художественный   \n",
       "1  Особо важное задание  111013716  2016-09-13T12:00:00.000Z  Художественный   \n",
       "2          Особо опасен  221038416  2016-10-10T12:00:00.000Z  Художественный   \n",
       "3          Особо опасен  221026916  2016-06-10T12:00:00.000Z  Художественный   \n",
       "4          Особо опасен  221030815  2015-07-29T12:00:00.000Z  Художественный   \n",
       "5     Остановился поезд  111013816  2016-09-13T12:00:00.000Z  Художественный   \n",
       "6       Любовь и голуби  111007013  2013-10-18T12:00:00.000Z  Художественный   \n",
       "7     Любовь и сигареты  221074614  2014-12-29T12:00:00.000Z  Художественный   \n",
       "8    Отпетые мошенники.  121011416  2016-05-05T12:00:00.000Z  Художественный   \n",
       "9   Отпуск за свой счет  111019114  2014-12-01T12:00:00.000Z  Художественный   \n",
       "\n",
       "                                         film_studio production_country  \\\n",
       "0  Тачстоун Пикчерз, Кобальт Пикчерз, Бикон Пикче...                США   \n",
       "1                              Киностудия \"Мосфильм\"               СССР   \n",
       "2  Юниверсал Пикчерз, Кикстарт Продакшнз, Марк Пл...                США   \n",
       "3  Юниверсал Пикчерз, Кикстарт Продакшнз, Марк Пл...                США   \n",
       "4  Юниверсал Пикчерз, Кикстарт Продакшнз, Марк Пл...                США   \n",
       "5                              Киностудия \"Мосфильм\"               СССР   \n",
       "6                              Киностудия \"Мосфильм\"               СССР   \n",
       "7  Юнайтед Артистс, Грин Стрит Филмз, Айкон Интер...                США   \n",
       "8                     Пульсар Продюксьон, ТФ1 Фильм             Франция   \n",
       "9             Киностудия \"Мосфильм\", Телевидение ВНР      СССР, Венгрия   \n",
       "\n",
       "            director                                           producer  \\\n",
       "0      Кевин Костнер          Дэвид Валдес, Кевин Костнер, Джейк Эбертс   \n",
       "1          Е.Матвеев                                                NaN   \n",
       "2  Тимур Бекмамбетов  Джим Лемли, Джейсон Нетер, Марк Е.Платт, Яйн Смит   \n",
       "3  Тимур Бекмамбетов  Джим Лемли, Джейсон Нетер, Марк Е.Платт, Яйн Смит   \n",
       "4  Тимур Бекмамбетов  Джим Лемли, Джейсон Нетер, Марк Е.Платт, Яйн Смит   \n",
       "5       В.Абдрашитов                                                NaN   \n",
       "6          В.Меньшов                                                NaN   \n",
       "7      Джон Туртурро                        Джон Пенотти, Джон Туртурро   \n",
       "8       Эрик Беснард                                        Патрис Леду   \n",
       "9            В.Титов                                                NaN   \n",
       "\n",
       "                   age_restriction  refundable_support  nonrefundable_support  \\\n",
       "0      «18+» - запрещено для детей                 NaN                    NaN   \n",
       "1    «6+» - для детей старше 6 лет                 NaN                    NaN   \n",
       "2      «18+» - запрещено для детей                 NaN                    NaN   \n",
       "3      «18+» - запрещено для детей                 NaN                    NaN   \n",
       "4      «18+» - запрещено для детей                 NaN                    NaN   \n",
       "5    «6+» - для детей старше 6 лет                 NaN                    NaN   \n",
       "6  «12+» - для детей старше 12 лет                 NaN                    NaN   \n",
       "7      «18+» - запрещено для детей                 NaN                    NaN   \n",
       "8      «18+» - запрещено для детей                 NaN                    NaN   \n",
       "9  «12+» - для детей старше 12 лет                 NaN                    NaN   \n",
       "\n",
       "   budget financing_source ratings                     genres  box_office  \n",
       "0     NaN              NaN     7.2     боевик,драма,мелодрама         NaN  \n",
       "1     NaN              NaN     6.6              драма,военный         NaN  \n",
       "2     NaN              NaN     6.8  фантастика,боевик,триллер         NaN  \n",
       "3     NaN              NaN     6.8  фантастика,боевик,триллер         NaN  \n",
       "4     NaN              NaN     6.8  фантастика,боевик,триллер         NaN  \n",
       "5     NaN              NaN     7.7                      драма         NaN  \n",
       "6     NaN              NaN     8.3          мелодрама,комедия      2700.0  \n",
       "7     NaN              NaN     6.6   мюзикл,мелодрама,комедия         NaN  \n",
       "8     NaN              NaN     8.0           комедия,криминал         NaN  \n",
       "9     NaN              NaN     7.8          мелодрама,комедия         NaN  "
      ]
     },
     "metadata": {},
     "output_type": "display_data"
    }
   ],
   "source": [
    "# получение первых 10 строк общей таблицы\n",
    "display(df.head(10))"
   ]
  },
  {
   "cell_type": "markdown",
   "metadata": {},
   "source": [
    "Заметим проблемы с форматом данных в столбцах таблицы:\n",
    "* столбец `show_start_date`, содержащий дату премьеры фильма, имеет формат данных `object`, что не позволяет работать со значениями столбца как с датами\n",
    "* столбец `ratings`, содержащий рейтинг фильма, имеет формат данных `object`, хотя мы видим, что этот столбец содержит вещественные значения\n",
    "\n",
    "В категориальных столбцах `film_studio`, `production_country`, `producer` и `genres` множественные значения записаны через запятую или дефис. Также количество значений в колонках отличается, значит, в данных есть пропущенные значения."
   ]
  },
  {
   "cell_type": "markdown",
   "metadata": {},
   "source": [
    "***Вывод***\n",
    "\n",
    "Для того, чтобы выполнить полный обзор данных мы объединили датасет `mkrf_movies` с набором данных из `mkrf_shows`. Итоговая таблица содержит общую информацию о фильмах (название, жанр, рейтинг), а также сведения об их бюджете, прокатных удостоверениях, сборах и государственной поддержке.\n",
    "\n",
    "В процессе обзора данных было обнаружено, что в таблице есть пропущенные значения и проблемы с форматом данных в столбцах. Таким образом, необходимо найти и устранить все недочеты в данных для их более эффективного использования в расчетах исследования."
   ]
  },
  {
   "cell_type": "markdown",
   "metadata": {
    "id": "KLDGpPG0gFyM"
   },
   "source": [
    "## Предобработка данных"
   ]
  },
  {
   "cell_type": "markdown",
   "metadata": {
    "id": "ssWwKXsxgFyO"
   },
   "source": [
    "### Приведение типов данных"
   ]
  },
  {
   "cell_type": "markdown",
   "metadata": {
    "id": "kVGSplJOgFyO"
   },
   "source": [
    "Приведем столбец `show_start_date` к типу данных `datetime64`."
   ]
  },
  {
   "cell_type": "code",
   "execution_count": 6,
   "metadata": {},
   "outputs": [],
   "source": [
    "# изменение типа данных object на datetime\n",
    "df['show_start_date'] = pd.to_datetime(df['show_start_date'], format='%Y-%m-%dT%H:%M:%S')"
   ]
  },
  {
   "cell_type": "code",
   "execution_count": 7,
   "metadata": {},
   "outputs": [
    {
     "name": "stdout",
     "output_type": "stream",
     "text": [
      "<class 'pandas.core.frame.DataFrame'>\n",
      "Int64Index: 7486 entries, 0 to 7485\n",
      "Data columns (total 16 columns):\n",
      "title                    7486 non-null object\n",
      "puNumber                 7485 non-null Int64\n",
      "show_start_date          7486 non-null datetime64[ns, UTC]\n",
      "type                     7486 non-null object\n",
      "film_studio              7468 non-null object\n",
      "production_country       7484 non-null object\n",
      "director                 7477 non-null object\n",
      "producer                 6918 non-null object\n",
      "age_restriction          7486 non-null object\n",
      "refundable_support       332 non-null float64\n",
      "nonrefundable_support    332 non-null float64\n",
      "budget                   332 non-null float64\n",
      "financing_source         332 non-null object\n",
      "ratings                  6519 non-null object\n",
      "genres                   6510 non-null object\n",
      "box_office               3158 non-null float64\n",
      "dtypes: Int64(1), datetime64[ns, UTC](1), float64(4), object(10)\n",
      "memory usage: 1001.5+ KB\n"
     ]
    }
   ],
   "source": [
    "# проверка изменений в общей информации о таблице df\n",
    "df.info()"
   ]
  },
  {
   "cell_type": "markdown",
   "metadata": {},
   "source": [
    "Приведем столбец `ratings` к вещественному типу данных `float64`. Проверим, какого вида значения хранятся в столбце `ratings`."
   ]
  },
  {
   "cell_type": "code",
   "execution_count": 8,
   "metadata": {},
   "outputs": [
    {
     "data": {
      "text/plain": [
       "array(['7.2', '6.6', '6.8', '7.7', '8.3', '8.0', '7.8', '8.1', '7.1',\n",
       "       '6.0', '7.4', '5.8', '8.7', '6.3', '6.9', '5.0', '4.3', '7.3',\n",
       "       '7.0', '6.4', nan, '8.2', '7.5', '6.7', '7.9', '5.9', '6.2', '5.6',\n",
       "       '6.5', '2.4', '7.6', '6.1', '8.6', '8.5', '8.8', '5.5', '5.1',\n",
       "       '5.7', '5.4', '99%', '4.4', '4.5', '5.3', '4.1', '8.4', '2.6',\n",
       "       '3.8', '4.6', '4.8', '4.0', '3.0', '1.6', '4.2', '5.2', '4.7',\n",
       "       '4.9', '3.9', '2.7', '3.3', '2.9', '28%', '3.7', '1.4', '3.1',\n",
       "       '97%', '3.5', '3.2', '2.8', '1.5', '2.1', '2.5', '9.2', '3.4',\n",
       "       '1.1', '3.6', '83%', '64%', '91%', '94%', '62%', '79%', '90%',\n",
       "       '19%', '88%', '1.0', '89%', '1.3', '1.9', '1.8', '1.2', '1.7',\n",
       "       '9.0', '98%', '8.9', '9.1'], dtype=object)"
      ]
     },
     "execution_count": 8,
     "metadata": {},
     "output_type": "execute_result"
    }
   ],
   "source": [
    "# список уникальных значений столбца \n",
    "df['ratings'].unique()"
   ]
  },
  {
   "cell_type": "markdown",
   "metadata": {},
   "source": [
    "Поскольку часть значений содержится в виде процентов, переведем такие значения к общему виду для рейтинга и приведем столбец к типу `float64`."
   ]
  },
  {
   "cell_type": "code",
   "execution_count": 9,
   "metadata": {},
   "outputs": [
    {
     "name": "stdout",
     "output_type": "stream",
     "text": [
      "<class 'pandas.core.frame.DataFrame'>\n",
      "Int64Index: 7486 entries, 0 to 7485\n",
      "Data columns (total 16 columns):\n",
      "title                    7486 non-null object\n",
      "puNumber                 7485 non-null Int64\n",
      "show_start_date          7486 non-null datetime64[ns, UTC]\n",
      "type                     7486 non-null object\n",
      "film_studio              7468 non-null object\n",
      "production_country       7484 non-null object\n",
      "director                 7477 non-null object\n",
      "producer                 6918 non-null object\n",
      "age_restriction          7486 non-null object\n",
      "refundable_support       332 non-null float64\n",
      "nonrefundable_support    332 non-null float64\n",
      "budget                   332 non-null float64\n",
      "financing_source         332 non-null object\n",
      "ratings                  6519 non-null float64\n",
      "genres                   6510 non-null object\n",
      "box_office               3158 non-null float64\n",
      "dtypes: Int64(1), datetime64[ns, UTC](1), float64(5), object(9)\n",
      "memory usage: 1001.5+ KB\n"
     ]
    }
   ],
   "source": [
    "# функция преобразования значения с %\n",
    "# в значение рейтинга\n",
    "def ratings_change (value):\n",
    "# если в строке содержится %, удаляем знак\n",
    "# %, приводим к float и делим на 10.0\n",
    "    if '%' in str(value):\n",
    "        return float(value.strip('%')) / 10.0     \n",
    "# приводим значение к float\n",
    "    return float(value)\n",
    "# применения фунции преобразования к столбцу\n",
    "df['ratings'] = df['ratings'].apply(ratings_change)\n",
    "# проверка изменений в общей информации о таблице df\n",
    "df.info()"
   ]
  },
  {
   "cell_type": "code",
   "execution_count": 10,
   "metadata": {},
   "outputs": [
    {
     "name": "stdout",
     "output_type": "stream",
     "text": [
      "<class 'pandas.core.frame.DataFrame'>\n",
      "Int64Index: 7486 entries, 0 to 7485\n",
      "Data columns (total 16 columns):\n",
      "title                    7486 non-null object\n",
      "puNumber                 7485 non-null Int64\n",
      "show_start_date          7486 non-null datetime64[ns, UTC]\n",
      "type                     7486 non-null object\n",
      "film_studio              7468 non-null object\n",
      "production_country       7484 non-null object\n",
      "director                 7477 non-null object\n",
      "producer                 6918 non-null object\n",
      "age_restriction          7486 non-null object\n",
      "refundable_support       332 non-null float64\n",
      "nonrefundable_support    332 non-null float64\n",
      "budget                   332 non-null float64\n",
      "financing_source         332 non-null object\n",
      "ratings                  6519 non-null float64\n",
      "genres                   6510 non-null object\n",
      "box_office               3158 non-null Int64\n",
      "dtypes: Int64(2), datetime64[ns, UTC](1), float64(4), object(9)\n",
      "memory usage: 1008.9+ KB\n"
     ]
    }
   ],
   "source": [
    "# приведение значений столбца box_office к Int64\n",
    "df['box_office'] = np.floor(pd.to_numeric(df.box_office, errors='coerce')).astype('Int64')\n",
    "df.info()"
   ]
  },
  {
   "cell_type": "markdown",
   "metadata": {
    "id": "i0MOLbF-gFyP"
   },
   "source": [
    "### Обработка пропусков"
   ]
  },
  {
   "cell_type": "code",
   "execution_count": 11,
   "metadata": {
    "id": "8MJD_lkngFyP"
   },
   "outputs": [
    {
     "data": {
      "text/html": [
       "<div>\n",
       "<style scoped>\n",
       "    .dataframe tbody tr th:only-of-type {\n",
       "        vertical-align: middle;\n",
       "    }\n",
       "\n",
       "    .dataframe tbody tr th {\n",
       "        vertical-align: top;\n",
       "    }\n",
       "\n",
       "    .dataframe thead th {\n",
       "        text-align: right;\n",
       "    }\n",
       "</style>\n",
       "<table border=\"1\" class=\"dataframe\">\n",
       "  <thead>\n",
       "    <tr style=\"text-align: right;\">\n",
       "      <th></th>\n",
       "      <th>count</th>\n",
       "      <th>percent_missing (%)</th>\n",
       "    </tr>\n",
       "  </thead>\n",
       "  <tbody>\n",
       "    <tr>\n",
       "      <td>refundable_support</td>\n",
       "      <td>7154</td>\n",
       "      <td>95.57</td>\n",
       "    </tr>\n",
       "    <tr>\n",
       "      <td>nonrefundable_support</td>\n",
       "      <td>7154</td>\n",
       "      <td>95.57</td>\n",
       "    </tr>\n",
       "    <tr>\n",
       "      <td>budget</td>\n",
       "      <td>7154</td>\n",
       "      <td>95.57</td>\n",
       "    </tr>\n",
       "    <tr>\n",
       "      <td>financing_source</td>\n",
       "      <td>7154</td>\n",
       "      <td>95.57</td>\n",
       "    </tr>\n",
       "    <tr>\n",
       "      <td>box_office</td>\n",
       "      <td>4328</td>\n",
       "      <td>57.81</td>\n",
       "    </tr>\n",
       "    <tr>\n",
       "      <td>genres</td>\n",
       "      <td>976</td>\n",
       "      <td>13.04</td>\n",
       "    </tr>\n",
       "    <tr>\n",
       "      <td>ratings</td>\n",
       "      <td>967</td>\n",
       "      <td>12.92</td>\n",
       "    </tr>\n",
       "    <tr>\n",
       "      <td>producer</td>\n",
       "      <td>568</td>\n",
       "      <td>7.59</td>\n",
       "    </tr>\n",
       "    <tr>\n",
       "      <td>film_studio</td>\n",
       "      <td>18</td>\n",
       "      <td>0.24</td>\n",
       "    </tr>\n",
       "    <tr>\n",
       "      <td>director</td>\n",
       "      <td>9</td>\n",
       "      <td>0.12</td>\n",
       "    </tr>\n",
       "    <tr>\n",
       "      <td>production_country</td>\n",
       "      <td>2</td>\n",
       "      <td>0.03</td>\n",
       "    </tr>\n",
       "    <tr>\n",
       "      <td>puNumber</td>\n",
       "      <td>1</td>\n",
       "      <td>0.01</td>\n",
       "    </tr>\n",
       "    <tr>\n",
       "      <td>title</td>\n",
       "      <td>0</td>\n",
       "      <td>0.00</td>\n",
       "    </tr>\n",
       "    <tr>\n",
       "      <td>show_start_date</td>\n",
       "      <td>0</td>\n",
       "      <td>0.00</td>\n",
       "    </tr>\n",
       "    <tr>\n",
       "      <td>type</td>\n",
       "      <td>0</td>\n",
       "      <td>0.00</td>\n",
       "    </tr>\n",
       "    <tr>\n",
       "      <td>age_restriction</td>\n",
       "      <td>0</td>\n",
       "      <td>0.00</td>\n",
       "    </tr>\n",
       "  </tbody>\n",
       "</table>\n",
       "</div>"
      ],
      "text/plain": [
       "                       count  percent_missing (%)\n",
       "refundable_support      7154                95.57\n",
       "nonrefundable_support   7154                95.57\n",
       "budget                  7154                95.57\n",
       "financing_source        7154                95.57\n",
       "box_office              4328                57.81\n",
       "genres                   976                13.04\n",
       "ratings                  967                12.92\n",
       "producer                 568                 7.59\n",
       "film_studio               18                 0.24\n",
       "director                   9                 0.12\n",
       "production_country         2                 0.03\n",
       "puNumber                   1                 0.01\n",
       "title                      0                 0.00\n",
       "show_start_date            0                 0.00\n",
       "type                       0                 0.00\n",
       "age_restriction            0                 0.00"
      ]
     },
     "execution_count": 11,
     "metadata": {},
     "output_type": "execute_result"
    }
   ],
   "source": [
    "# функция определения кол-ва  и процента пропусков\n",
    "# в столбцах датафрейма\n",
    "def missing_values (data):\n",
    "    data_na = data.isna().sum()\n",
    "    percent_nan = (data_na * 100 / len(data)).round(2)\n",
    "    return pd.DataFrame({'count': data_na,\n",
    "              'percent_missing (%)': percent_nan}\n",
    "            ).sort_values(by='count', ascending=False)\n",
    "# применение функции определения пропусков\n",
    "missing_values(df)"
   ]
  },
  {
   "cell_type": "markdown",
   "metadata": {},
   "source": [
    "Видим более одинаковое количество пропусков в столбцах `refundable_support`, `nonrefundable_support`, `budget` и `financing_source` - более 95%. Мы уже знаем, что данные столбцы заполнены для фильмов, которые имеют государственную поддержку. Таким образом, делаем вывод, что строки с пропусками в указанных столбцах описывают фильмы без государственной поддержки. Оставим их без изменений."
   ]
  },
  {
   "cell_type": "markdown",
   "metadata": {},
   "source": [
    "Сумма сборов (`box_office`) неизвестна для 57% фильмов, так как в исходном датасете, содержащем сумму сборов для фильмов `mkrf_shows` значений было только 3158, а в датасете с общей информацией о фильмах `mkrf_movies` 7486 значения. Поэтому оставшиеся неизвестными суммы сборов после объединения датасетов для 4328 строк оставим без изменений."
   ]
  },
  {
   "cell_type": "markdown",
   "metadata": {},
   "source": [
    "Пропуски в остальных столбцах `genres`, `ratings`, `producer`, `film_studio`, `director` и `production_country` на данном этапе оставим также без изменений и в дальнейшем оценим их влияние."
   ]
  },
  {
   "cell_type": "markdown",
   "metadata": {
    "id": "4c6k1t9ygFyQ"
   },
   "source": [
    "### Изучение дубликатов"
   ]
  },
  {
   "cell_type": "code",
   "execution_count": 12,
   "metadata": {
    "id": "aKck8RIdgFyQ"
   },
   "outputs": [
    {
     "data": {
      "text/plain": [
       "0"
      ]
     },
     "execution_count": 12,
     "metadata": {},
     "output_type": "execute_result"
    }
   ],
   "source": [
    "# поиск дубликатов\n",
    "df.duplicated().sum()"
   ]
  },
  {
   "cell_type": "markdown",
   "metadata": {},
   "source": [
    "Явных дубликатов в наборе данных нет."
   ]
  },
  {
   "cell_type": "markdown",
   "metadata": {
    "id": "52fOPrEBgFyQ"
   },
   "source": [
    "### Изучение категориальных значений"
   ]
  },
  {
   "cell_type": "markdown",
   "metadata": {},
   "source": [
    "Рассмотрим категориальные столбцы `genres`,`producer`,`film_studio`, `director`, `production_country`."
   ]
  },
  {
   "cell_type": "code",
   "execution_count": 13,
   "metadata": {},
   "outputs": [
    {
     "data": {
      "text/html": [
       "<div>\n",
       "<style scoped>\n",
       "    .dataframe tbody tr th:only-of-type {\n",
       "        vertical-align: middle;\n",
       "    }\n",
       "\n",
       "    .dataframe tbody tr th {\n",
       "        vertical-align: top;\n",
       "    }\n",
       "\n",
       "    .dataframe thead th {\n",
       "        text-align: right;\n",
       "    }\n",
       "</style>\n",
       "<table border=\"1\" class=\"dataframe\">\n",
       "  <thead>\n",
       "    <tr style=\"text-align: right;\">\n",
       "      <th></th>\n",
       "      <th>genres</th>\n",
       "      <th>producer</th>\n",
       "      <th>film_studio</th>\n",
       "      <th>director</th>\n",
       "      <th>production_country</th>\n",
       "      <th>type</th>\n",
       "    </tr>\n",
       "  </thead>\n",
       "  <tbody>\n",
       "    <tr>\n",
       "      <td>0</td>\n",
       "      <td>боевик,драма,мелодрама</td>\n",
       "      <td>Дэвид Валдес, Кевин Костнер, Джейк Эбертс</td>\n",
       "      <td>Тачстоун Пикчерз, Кобальт Пикчерз, Бикон Пикче...</td>\n",
       "      <td>Кевин Костнер</td>\n",
       "      <td>США</td>\n",
       "      <td>Художественный</td>\n",
       "    </tr>\n",
       "    <tr>\n",
       "      <td>1</td>\n",
       "      <td>драма,военный</td>\n",
       "      <td>NaN</td>\n",
       "      <td>Киностудия \"Мосфильм\"</td>\n",
       "      <td>Е.Матвеев</td>\n",
       "      <td>СССР</td>\n",
       "      <td>Художественный</td>\n",
       "    </tr>\n",
       "    <tr>\n",
       "      <td>2</td>\n",
       "      <td>фантастика,боевик,триллер</td>\n",
       "      <td>Джим Лемли, Джейсон Нетер, Марк Е.Платт, Яйн Смит</td>\n",
       "      <td>Юниверсал Пикчерз, Кикстарт Продакшнз, Марк Пл...</td>\n",
       "      <td>Тимур Бекмамбетов</td>\n",
       "      <td>США</td>\n",
       "      <td>Художественный</td>\n",
       "    </tr>\n",
       "    <tr>\n",
       "      <td>3</td>\n",
       "      <td>фантастика,боевик,триллер</td>\n",
       "      <td>Джим Лемли, Джейсон Нетер, Марк Е.Платт, Яйн Смит</td>\n",
       "      <td>Юниверсал Пикчерз, Кикстарт Продакшнз, Марк Пл...</td>\n",
       "      <td>Тимур Бекмамбетов</td>\n",
       "      <td>США</td>\n",
       "      <td>Художественный</td>\n",
       "    </tr>\n",
       "    <tr>\n",
       "      <td>4</td>\n",
       "      <td>фантастика,боевик,триллер</td>\n",
       "      <td>Джим Лемли, Джейсон Нетер, Марк Е.Платт, Яйн Смит</td>\n",
       "      <td>Юниверсал Пикчерз, Кикстарт Продакшнз, Марк Пл...</td>\n",
       "      <td>Тимур Бекмамбетов</td>\n",
       "      <td>США</td>\n",
       "      <td>Художественный</td>\n",
       "    </tr>\n",
       "    <tr>\n",
       "      <td>5</td>\n",
       "      <td>драма</td>\n",
       "      <td>NaN</td>\n",
       "      <td>Киностудия \"Мосфильм\"</td>\n",
       "      <td>В.Абдрашитов</td>\n",
       "      <td>СССР</td>\n",
       "      <td>Художественный</td>\n",
       "    </tr>\n",
       "    <tr>\n",
       "      <td>6</td>\n",
       "      <td>мелодрама,комедия</td>\n",
       "      <td>NaN</td>\n",
       "      <td>Киностудия \"Мосфильм\"</td>\n",
       "      <td>В.Меньшов</td>\n",
       "      <td>СССР</td>\n",
       "      <td>Художественный</td>\n",
       "    </tr>\n",
       "    <tr>\n",
       "      <td>7</td>\n",
       "      <td>мюзикл,мелодрама,комедия</td>\n",
       "      <td>Джон Пенотти, Джон Туртурро</td>\n",
       "      <td>Юнайтед Артистс, Грин Стрит Филмз, Айкон Интер...</td>\n",
       "      <td>Джон Туртурро</td>\n",
       "      <td>США</td>\n",
       "      <td>Художественный</td>\n",
       "    </tr>\n",
       "    <tr>\n",
       "      <td>8</td>\n",
       "      <td>комедия,криминал</td>\n",
       "      <td>Патрис Леду</td>\n",
       "      <td>Пульсар Продюксьон, ТФ1 Фильм</td>\n",
       "      <td>Эрик Беснард</td>\n",
       "      <td>Франция</td>\n",
       "      <td>Художественный</td>\n",
       "    </tr>\n",
       "    <tr>\n",
       "      <td>9</td>\n",
       "      <td>мелодрама,комедия</td>\n",
       "      <td>NaN</td>\n",
       "      <td>Киностудия \"Мосфильм\", Телевидение ВНР</td>\n",
       "      <td>В.Титов</td>\n",
       "      <td>СССР, Венгрия</td>\n",
       "      <td>Художественный</td>\n",
       "    </tr>\n",
       "  </tbody>\n",
       "</table>\n",
       "</div>"
      ],
      "text/plain": [
       "                      genres  \\\n",
       "0     боевик,драма,мелодрама   \n",
       "1              драма,военный   \n",
       "2  фантастика,боевик,триллер   \n",
       "3  фантастика,боевик,триллер   \n",
       "4  фантастика,боевик,триллер   \n",
       "5                      драма   \n",
       "6          мелодрама,комедия   \n",
       "7   мюзикл,мелодрама,комедия   \n",
       "8           комедия,криминал   \n",
       "9          мелодрама,комедия   \n",
       "\n",
       "                                            producer  \\\n",
       "0          Дэвид Валдес, Кевин Костнер, Джейк Эбертс   \n",
       "1                                                NaN   \n",
       "2  Джим Лемли, Джейсон Нетер, Марк Е.Платт, Яйн Смит   \n",
       "3  Джим Лемли, Джейсон Нетер, Марк Е.Платт, Яйн Смит   \n",
       "4  Джим Лемли, Джейсон Нетер, Марк Е.Платт, Яйн Смит   \n",
       "5                                                NaN   \n",
       "6                                                NaN   \n",
       "7                        Джон Пенотти, Джон Туртурро   \n",
       "8                                        Патрис Леду   \n",
       "9                                                NaN   \n",
       "\n",
       "                                         film_studio           director  \\\n",
       "0  Тачстоун Пикчерз, Кобальт Пикчерз, Бикон Пикче...      Кевин Костнер   \n",
       "1                              Киностудия \"Мосфильм\"          Е.Матвеев   \n",
       "2  Юниверсал Пикчерз, Кикстарт Продакшнз, Марк Пл...  Тимур Бекмамбетов   \n",
       "3  Юниверсал Пикчерз, Кикстарт Продакшнз, Марк Пл...  Тимур Бекмамбетов   \n",
       "4  Юниверсал Пикчерз, Кикстарт Продакшнз, Марк Пл...  Тимур Бекмамбетов   \n",
       "5                              Киностудия \"Мосфильм\"       В.Абдрашитов   \n",
       "6                              Киностудия \"Мосфильм\"          В.Меньшов   \n",
       "7  Юнайтед Артистс, Грин Стрит Филмз, Айкон Интер...      Джон Туртурро   \n",
       "8                     Пульсар Продюксьон, ТФ1 Фильм        Эрик Беснард   \n",
       "9             Киностудия \"Мосфильм\", Телевидение ВНР            В.Титов   \n",
       "\n",
       "  production_country            type  \n",
       "0                США  Художественный  \n",
       "1               СССР  Художественный  \n",
       "2                США  Художественный  \n",
       "3                США  Художественный  \n",
       "4                США  Художественный  \n",
       "5               СССР  Художественный  \n",
       "6               СССР  Художественный  \n",
       "7                США  Художественный  \n",
       "8            Франция  Художественный  \n",
       "9      СССР, Венгрия  Художественный  "
      ]
     },
     "metadata": {},
     "output_type": "display_data"
    }
   ],
   "source": [
    "# вывод 10 строк выделенных столбцов\n",
    "display(df[['genres','producer','film_studio', 'director', 'production_country', 'type']].head(10))"
   ]
  },
  {
   "cell_type": "markdown",
   "metadata": {},
   "source": [
    "В категориальных столбцах часто встречается запись значений через запятую или дефис. Кроме того, в столбцах `production_country` и `genres` одни и те же значения могут быть записаны в разном порядке в одной ячейке."
   ]
  },
  {
   "cell_type": "code",
   "execution_count": 14,
   "metadata": {},
   "outputs": [
    {
     "data": {
      "text/plain": [
       "Художественный                4520\n",
       " Художественный               1389\n",
       "Анимационный                   828\n",
       "Прочие                         406\n",
       "Документальный                 288\n",
       "Научно-популярный               53\n",
       " Анимационный                    1\n",
       "Музыкально-развлекательный       1\n",
       "Name: type, dtype: int64"
      ]
     },
     "execution_count": 14,
     "metadata": {},
     "output_type": "execute_result"
    }
   ],
   "source": [
    "# проверка уникальных значений столбца\n",
    "df['type'].value_counts()"
   ]
  },
  {
   "cell_type": "markdown",
   "metadata": {},
   "source": [
    "В столбце, содержащем значение типа фильма `type`, заметим проблему с пробелом в начале строки."
   ]
  },
  {
   "cell_type": "markdown",
   "metadata": {},
   "source": [
    "Удалим лишние пробелы методом `str.strip()`."
   ]
  },
  {
   "cell_type": "code",
   "execution_count": 15,
   "metadata": {
    "id": "PnXKIVdFgFyR"
   },
   "outputs": [
    {
     "data": {
      "text/plain": [
       "Художественный                5909\n",
       "Анимационный                   829\n",
       "Прочие                         406\n",
       "Документальный                 288\n",
       "Научно-популярный               53\n",
       "Музыкально-развлекательный       1\n",
       "Name: type, dtype: int64"
      ]
     },
     "execution_count": 15,
     "metadata": {},
     "output_type": "execute_result"
    }
   ],
   "source": [
    "# удаление пробелов перед и после значений столбца type\n",
    "df['type'] = df['type'].str.strip()\n",
    "# проверка результата\n",
    "df['type'].value_counts()"
   ]
  },
  {
   "cell_type": "markdown",
   "metadata": {
    "id": "XFSN5lrEgFyR"
   },
   "source": [
    "### Изучение количественных значений"
   ]
  },
  {
   "cell_type": "markdown",
   "metadata": {},
   "source": [
    "Рассмотрим столбец `budget`. Данные в нем указаны только для тех фильмов, которые получили государственную поддержку, и включает в себя ее полный объём. Столбец связан со столбцами `refundable_support` и `nonrefundable_support`, которые отражают объем возвратных и невозвратных средстав государственной поддержки.\n",
    "\n",
    "Выделим фильмы, которые имели государственную поддержку и оценим как соотносятся значения столбца `budget` со значениями из `refundable_support` и `nonrefundable_support`."
   ]
  },
  {
   "cell_type": "code",
   "execution_count": 16,
   "metadata": {
    "id": "YbzClBxagFyS"
   },
   "outputs": [
    {
     "data": {
      "text/html": [
       "<div>\n",
       "<style scoped>\n",
       "    .dataframe tbody tr th:only-of-type {\n",
       "        vertical-align: middle;\n",
       "    }\n",
       "\n",
       "    .dataframe tbody tr th {\n",
       "        vertical-align: top;\n",
       "    }\n",
       "\n",
       "    .dataframe thead th {\n",
       "        text-align: right;\n",
       "    }\n",
       "</style>\n",
       "<table border=\"1\" class=\"dataframe\">\n",
       "  <thead>\n",
       "    <tr style=\"text-align: right;\">\n",
       "      <th></th>\n",
       "      <th>title</th>\n",
       "      <th>puNumber</th>\n",
       "      <th>show_start_date</th>\n",
       "      <th>type</th>\n",
       "      <th>film_studio</th>\n",
       "      <th>production_country</th>\n",
       "      <th>director</th>\n",
       "      <th>producer</th>\n",
       "      <th>age_restriction</th>\n",
       "      <th>refundable_support</th>\n",
       "      <th>nonrefundable_support</th>\n",
       "      <th>budget</th>\n",
       "      <th>financing_source</th>\n",
       "      <th>ratings</th>\n",
       "      <th>genres</th>\n",
       "      <th>box_office</th>\n",
       "    </tr>\n",
       "  </thead>\n",
       "  <tbody>\n",
       "    <tr>\n",
       "      <td>1281</td>\n",
       "      <td>Пока еще жива</td>\n",
       "      <td>111005313</td>\n",
       "      <td>2013-10-11 12:00:00+00:00</td>\n",
       "      <td>Художественный</td>\n",
       "      <td>АНО содействия развитию кинематографии \"Ангел-...</td>\n",
       "      <td>Россия</td>\n",
       "      <td>А.Атанесян</td>\n",
       "      <td>А.Атанесян, М.Бабаханов, Р.Бутко</td>\n",
       "      <td>«16+» - для детей старше 16 лет</td>\n",
       "      <td>0.0</td>\n",
       "      <td>26500000.0</td>\n",
       "      <td>79411900.0</td>\n",
       "      <td>Министерство культуры</td>\n",
       "      <td>8.1</td>\n",
       "      <td>драма,мелодрама</td>\n",
       "      <td>365353</td>\n",
       "    </tr>\n",
       "    <tr>\n",
       "      <td>1448</td>\n",
       "      <td>Бесславные придурки</td>\n",
       "      <td>111003314</td>\n",
       "      <td>2014-03-28 12:00:00+00:00</td>\n",
       "      <td>Художественный</td>\n",
       "      <td>ООО \"Компания \"АТК-Студио\"</td>\n",
       "      <td>Россия</td>\n",
       "      <td>А.Якимчук</td>\n",
       "      <td>А.Тютрюмов</td>\n",
       "      <td>«12+» - для детей старше 12 лет</td>\n",
       "      <td>0.0</td>\n",
       "      <td>26000000.0</td>\n",
       "      <td>37142857.0</td>\n",
       "      <td>Министерство культуры</td>\n",
       "      <td>NaN</td>\n",
       "      <td>NaN</td>\n",
       "      <td>28140</td>\n",
       "    </tr>\n",
       "    <tr>\n",
       "      <td>1498</td>\n",
       "      <td>Невидимки</td>\n",
       "      <td>111004213</td>\n",
       "      <td>2013-09-10 12:00:00+00:00</td>\n",
       "      <td>Художественный</td>\n",
       "      <td>ООО \"Компания \"РЕАЛ-ДАКОТА\"</td>\n",
       "      <td>Россия</td>\n",
       "      <td>Р.Давлетьяров, С.Комаров</td>\n",
       "      <td>Р.Давлетьяров, А.Котелевский, А.Олейников</td>\n",
       "      <td>«12+» - для детей старше 12 лет</td>\n",
       "      <td>0.0</td>\n",
       "      <td>107847945.0</td>\n",
       "      <td>176023490.0</td>\n",
       "      <td>Фонд кино</td>\n",
       "      <td>5.3</td>\n",
       "      <td>комедия,фантастика</td>\n",
       "      <td>19957031</td>\n",
       "    </tr>\n",
       "    <tr>\n",
       "      <td>1524</td>\n",
       "      <td>БЕРЦЫ</td>\n",
       "      <td>111004314</td>\n",
       "      <td>2014-05-05 12:00:00+00:00</td>\n",
       "      <td>Художественный</td>\n",
       "      <td>ООО \"Студия \"Пассажир\"</td>\n",
       "      <td>Россия</td>\n",
       "      <td>Е.Миндадзе (псевдоним Катя Шагалова)</td>\n",
       "      <td>Л.Антонова</td>\n",
       "      <td>«16+» - для детей старше 16 лет</td>\n",
       "      <td>0.0</td>\n",
       "      <td>28000000.0</td>\n",
       "      <td>40574140.0</td>\n",
       "      <td>Министерство культуры</td>\n",
       "      <td>4.2</td>\n",
       "      <td>драма</td>\n",
       "      <td>55917</td>\n",
       "    </tr>\n",
       "    <tr>\n",
       "      <td>1792</td>\n",
       "      <td>Братья Ч</td>\n",
       "      <td>111004414</td>\n",
       "      <td>2014-04-23 12:00:00+00:00</td>\n",
       "      <td>Художественный</td>\n",
       "      <td>ООО \"Студия \"Пассажир\"</td>\n",
       "      <td>Россия</td>\n",
       "      <td>М.Угаров</td>\n",
       "      <td>А.Миндадзе, Л.Антонова</td>\n",
       "      <td>«16+» - для детей старше 16 лет</td>\n",
       "      <td>0.0</td>\n",
       "      <td>25000000.0</td>\n",
       "      <td>40015122.0</td>\n",
       "      <td>Министерство культуры</td>\n",
       "      <td>6.4</td>\n",
       "      <td>драма</td>\n",
       "      <td>232100</td>\n",
       "    </tr>\n",
       "    <tr>\n",
       "      <td>...</td>\n",
       "      <td>...</td>\n",
       "      <td>...</td>\n",
       "      <td>...</td>\n",
       "      <td>...</td>\n",
       "      <td>...</td>\n",
       "      <td>...</td>\n",
       "      <td>...</td>\n",
       "      <td>...</td>\n",
       "      <td>...</td>\n",
       "      <td>...</td>\n",
       "      <td>...</td>\n",
       "      <td>...</td>\n",
       "      <td>...</td>\n",
       "      <td>...</td>\n",
       "      <td>...</td>\n",
       "      <td>...</td>\n",
       "    </tr>\n",
       "    <tr>\n",
       "      <td>7464</td>\n",
       "      <td>Союз спасения</td>\n",
       "      <td>111022019</td>\n",
       "      <td>2019-12-26 12:00:00+00:00</td>\n",
       "      <td>Художественный</td>\n",
       "      <td>ЗАО \"Дирекция кино\"</td>\n",
       "      <td>Россия</td>\n",
       "      <td>А.Кравчук</td>\n",
       "      <td>А.Максимов, К.Эрнст</td>\n",
       "      <td>«12+» - для детей старше 12 лет</td>\n",
       "      <td>100000000.0</td>\n",
       "      <td>400000000.0</td>\n",
       "      <td>980000000.0</td>\n",
       "      <td>Фонд кино</td>\n",
       "      <td>6.0</td>\n",
       "      <td>история,биография,драма</td>\n",
       "      <td>717703185</td>\n",
       "    </tr>\n",
       "    <tr>\n",
       "      <td>7466</td>\n",
       "      <td>Иван Царевич и Серый Волк 4</td>\n",
       "      <td>114005019</td>\n",
       "      <td>2019-12-20 12:00:00+00:00</td>\n",
       "      <td>Анимационный</td>\n",
       "      <td>ООО \"Студия анимационного кино \"Мельница\"</td>\n",
       "      <td>Россия</td>\n",
       "      <td>Д.Шмидт, К.Феоктистов</td>\n",
       "      <td>С.Сельянов, А.Боярский</td>\n",
       "      <td>«6+» - для детей старше 6 лет</td>\n",
       "      <td>100000000.0</td>\n",
       "      <td>0.0</td>\n",
       "      <td>190000000.0</td>\n",
       "      <td>Фонд кино</td>\n",
       "      <td>6.7</td>\n",
       "      <td>мультфильм,приключения,семейный</td>\n",
       "      <td>501069235</td>\n",
       "    </tr>\n",
       "    <tr>\n",
       "      <td>7474</td>\n",
       "      <td>Вторжение</td>\n",
       "      <td>111022519</td>\n",
       "      <td>2019-12-23 12:00:00+00:00</td>\n",
       "      <td>Художественный</td>\n",
       "      <td>ООО \"Арт Пикчерс Студия\", ООО \"Водород 2011\"</td>\n",
       "      <td>Россия</td>\n",
       "      <td>Ф.Бондарчук</td>\n",
       "      <td>Ф.Бондарчук, М.Врубель, А.Андрющенко, Д.Рудовский</td>\n",
       "      <td>«12+» - для детей старше 12 лет</td>\n",
       "      <td>100000000.0</td>\n",
       "      <td>400000000.0</td>\n",
       "      <td>944000000.0</td>\n",
       "      <td>Фонд кино</td>\n",
       "      <td>5.7</td>\n",
       "      <td>фантастика,боевик</td>\n",
       "      <td>NaN</td>\n",
       "    </tr>\n",
       "    <tr>\n",
       "      <td>7476</td>\n",
       "      <td>Я свободен</td>\n",
       "      <td>111023019</td>\n",
       "      <td>2019-12-26 12:00:00+00:00</td>\n",
       "      <td>Художественный</td>\n",
       "      <td>АО \"ТПО \"Киностудия им. М.Горького\"</td>\n",
       "      <td>Россия</td>\n",
       "      <td>И.Северов</td>\n",
       "      <td>С.Зернов</td>\n",
       "      <td>«12+» - для детей старше 12 лет</td>\n",
       "      <td>0.0</td>\n",
       "      <td>30000000.0</td>\n",
       "      <td>46154000.0</td>\n",
       "      <td>Министерство культуры</td>\n",
       "      <td>5.9</td>\n",
       "      <td>драма</td>\n",
       "      <td>NaN</td>\n",
       "    </tr>\n",
       "    <tr>\n",
       "      <td>7478</td>\n",
       "      <td>(Не)идеальный мужчина</td>\n",
       "      <td>111023119</td>\n",
       "      <td>2019-12-24 12:00:00+00:00</td>\n",
       "      <td>Художественный</td>\n",
       "      <td>ООО \"Нон-Стоп Продакшн\"</td>\n",
       "      <td>Россия</td>\n",
       "      <td>М.Бальчюнас (псевдоним М.Вайсберг)</td>\n",
       "      <td>С.Мелькумов, А.Роднянский, М.Вайсберг, Р.Минас...</td>\n",
       "      <td>«12+» - для детей старше 12 лет</td>\n",
       "      <td>40000000.0</td>\n",
       "      <td>60000000.0</td>\n",
       "      <td>150147502.0</td>\n",
       "      <td>Фонд кино</td>\n",
       "      <td>4.5</td>\n",
       "      <td>комедия,фантастика,мелодрама</td>\n",
       "      <td>NaN</td>\n",
       "    </tr>\n",
       "  </tbody>\n",
       "</table>\n",
       "<p>332 rows × 16 columns</p>\n",
       "</div>"
      ],
      "text/plain": [
       "                            title   puNumber           show_start_date  \\\n",
       "1281                Пока еще жива  111005313 2013-10-11 12:00:00+00:00   \n",
       "1448          Бесславные придурки  111003314 2014-03-28 12:00:00+00:00   \n",
       "1498                    Невидимки  111004213 2013-09-10 12:00:00+00:00   \n",
       "1524                        БЕРЦЫ  111004314 2014-05-05 12:00:00+00:00   \n",
       "1792                     Братья Ч  111004414 2014-04-23 12:00:00+00:00   \n",
       "...                           ...        ...                       ...   \n",
       "7464                Союз спасения  111022019 2019-12-26 12:00:00+00:00   \n",
       "7466  Иван Царевич и Серый Волк 4  114005019 2019-12-20 12:00:00+00:00   \n",
       "7474                    Вторжение  111022519 2019-12-23 12:00:00+00:00   \n",
       "7476                   Я свободен  111023019 2019-12-26 12:00:00+00:00   \n",
       "7478        (Не)идеальный мужчина  111023119 2019-12-24 12:00:00+00:00   \n",
       "\n",
       "                type                                        film_studio  \\\n",
       "1281  Художественный  АНО содействия развитию кинематографии \"Ангел-...   \n",
       "1448  Художественный                         ООО \"Компания \"АТК-Студио\"   \n",
       "1498  Художественный                        ООО \"Компания \"РЕАЛ-ДАКОТА\"   \n",
       "1524  Художественный                             ООО \"Студия \"Пассажир\"   \n",
       "1792  Художественный                             ООО \"Студия \"Пассажир\"   \n",
       "...              ...                                                ...   \n",
       "7464  Художественный                                ЗАО \"Дирекция кино\"   \n",
       "7466    Анимационный          ООО \"Студия анимационного кино \"Мельница\"   \n",
       "7474  Художественный       ООО \"Арт Пикчерс Студия\", ООО \"Водород 2011\"   \n",
       "7476  Художественный                АО \"ТПО \"Киностудия им. М.Горького\"   \n",
       "7478  Художественный                           ООО \"Нон-Стоп Продакшн\"    \n",
       "\n",
       "     production_country                              director  \\\n",
       "1281             Россия                            А.Атанесян   \n",
       "1448             Россия                             А.Якимчук   \n",
       "1498             Россия              Р.Давлетьяров, С.Комаров   \n",
       "1524             Россия  Е.Миндадзе (псевдоним Катя Шагалова)   \n",
       "1792             Россия                              М.Угаров   \n",
       "...                 ...                                   ...   \n",
       "7464             Россия                             А.Кравчук   \n",
       "7466             Россия                 Д.Шмидт, К.Феоктистов   \n",
       "7474             Россия                           Ф.Бондарчук   \n",
       "7476             Россия                             И.Северов   \n",
       "7478             Россия    М.Бальчюнас (псевдоним М.Вайсберг)   \n",
       "\n",
       "                                               producer  \\\n",
       "1281                   А.Атанесян, М.Бабаханов, Р.Бутко   \n",
       "1448                                         А.Тютрюмов   \n",
       "1498          Р.Давлетьяров, А.Котелевский, А.Олейников   \n",
       "1524                                         Л.Антонова   \n",
       "1792                             А.Миндадзе, Л.Антонова   \n",
       "...                                                 ...   \n",
       "7464                                А.Максимов, К.Эрнст   \n",
       "7466                             С.Сельянов, А.Боярский   \n",
       "7474  Ф.Бондарчук, М.Врубель, А.Андрющенко, Д.Рудовский   \n",
       "7476                                           С.Зернов   \n",
       "7478  С.Мелькумов, А.Роднянский, М.Вайсберг, Р.Минас...   \n",
       "\n",
       "                      age_restriction  refundable_support  \\\n",
       "1281  «16+» - для детей старше 16 лет                 0.0   \n",
       "1448  «12+» - для детей старше 12 лет                 0.0   \n",
       "1498  «12+» - для детей старше 12 лет                 0.0   \n",
       "1524  «16+» - для детей старше 16 лет                 0.0   \n",
       "1792  «16+» - для детей старше 16 лет                 0.0   \n",
       "...                               ...                 ...   \n",
       "7464  «12+» - для детей старше 12 лет         100000000.0   \n",
       "7466    «6+» - для детей старше 6 лет         100000000.0   \n",
       "7474  «12+» - для детей старше 12 лет         100000000.0   \n",
       "7476  «12+» - для детей старше 12 лет                 0.0   \n",
       "7478  «12+» - для детей старше 12 лет          40000000.0   \n",
       "\n",
       "      nonrefundable_support       budget       financing_source  ratings  \\\n",
       "1281             26500000.0   79411900.0  Министерство культуры      8.1   \n",
       "1448             26000000.0   37142857.0  Министерство культуры      NaN   \n",
       "1498            107847945.0  176023490.0              Фонд кино      5.3   \n",
       "1524             28000000.0   40574140.0  Министерство культуры      4.2   \n",
       "1792             25000000.0   40015122.0  Министерство культуры      6.4   \n",
       "...                     ...          ...                    ...      ...   \n",
       "7464            400000000.0  980000000.0              Фонд кино      6.0   \n",
       "7466                    0.0  190000000.0              Фонд кино      6.7   \n",
       "7474            400000000.0  944000000.0              Фонд кино      5.7   \n",
       "7476             30000000.0   46154000.0  Министерство культуры      5.9   \n",
       "7478             60000000.0  150147502.0              Фонд кино      4.5   \n",
       "\n",
       "                               genres  box_office  \n",
       "1281                  драма,мелодрама      365353  \n",
       "1448                              NaN       28140  \n",
       "1498               комедия,фантастика    19957031  \n",
       "1524                            драма       55917  \n",
       "1792                            драма      232100  \n",
       "...                               ...         ...  \n",
       "7464          история,биография,драма   717703185  \n",
       "7466  мультфильм,приключения,семейный   501069235  \n",
       "7474                фантастика,боевик         NaN  \n",
       "7476                            драма         NaN  \n",
       "7478     комедия,фантастика,мелодрама         NaN  \n",
       "\n",
       "[332 rows x 16 columns]"
      ]
     },
     "metadata": {},
     "output_type": "display_data"
    }
   ],
   "source": [
    "# вывод строк с фильмами с гос. поддержкой\n",
    "display(df[~df['refundable_support'].isna() & ~df['nonrefundable_support'].isna()])"
   ]
  },
  {
   "cell_type": "markdown",
   "metadata": {},
   "source": [
    "Замечаем, что значение суммы столбцов `refundable_support` и `nonrefundable_support` не совпадает со значением в столбце `budget`. Значит у таких фильмов был дополнительный источник финансирования помимо государственной поддержки или данные заполнены  были некорректно. Этот факт требует дополнительного изучения."
   ]
  },
  {
   "cell_type": "markdown",
   "metadata": {
    "id": "Eu6oWp2CgFyS"
   },
   "source": [
    "### Добавление новых столбцов"
   ]
  },
  {
   "cell_type": "markdown",
   "metadata": {},
   "source": [
    "#### Добавление столбца с информацией о годе проката"
   ]
  },
  {
   "cell_type": "markdown",
   "metadata": {
    "id": "7GgW-UpAgFyS"
   },
   "source": [
    "Выделим год проката из даты премьеры фильма в новый столбец."
   ]
  },
  {
   "cell_type": "code",
   "execution_count": 17,
   "metadata": {
    "id": "I-yd1DkWgFyT"
   },
   "outputs": [
    {
     "data": {
      "text/html": [
       "<div>\n",
       "<style scoped>\n",
       "    .dataframe tbody tr th:only-of-type {\n",
       "        vertical-align: middle;\n",
       "    }\n",
       "\n",
       "    .dataframe tbody tr th {\n",
       "        vertical-align: top;\n",
       "    }\n",
       "\n",
       "    .dataframe thead th {\n",
       "        text-align: right;\n",
       "    }\n",
       "</style>\n",
       "<table border=\"1\" class=\"dataframe\">\n",
       "  <thead>\n",
       "    <tr style=\"text-align: right;\">\n",
       "      <th></th>\n",
       "      <th>title</th>\n",
       "      <th>puNumber</th>\n",
       "      <th>show_start_date</th>\n",
       "      <th>type</th>\n",
       "      <th>film_studio</th>\n",
       "      <th>production_country</th>\n",
       "      <th>director</th>\n",
       "      <th>producer</th>\n",
       "      <th>age_restriction</th>\n",
       "      <th>refundable_support</th>\n",
       "      <th>nonrefundable_support</th>\n",
       "      <th>budget</th>\n",
       "      <th>financing_source</th>\n",
       "      <th>ratings</th>\n",
       "      <th>genres</th>\n",
       "      <th>box_office</th>\n",
       "      <th>release_year</th>\n",
       "    </tr>\n",
       "  </thead>\n",
       "  <tbody>\n",
       "    <tr>\n",
       "      <td>0</td>\n",
       "      <td>Открытый простор</td>\n",
       "      <td>221048915</td>\n",
       "      <td>2015-11-27 12:00:00+00:00</td>\n",
       "      <td>Художественный</td>\n",
       "      <td>Тачстоун Пикчерз, Кобальт Пикчерз, Бикон Пикче...</td>\n",
       "      <td>США</td>\n",
       "      <td>Кевин Костнер</td>\n",
       "      <td>Дэвид Валдес, Кевин Костнер, Джейк Эбертс</td>\n",
       "      <td>«18+» - запрещено для детей</td>\n",
       "      <td>NaN</td>\n",
       "      <td>NaN</td>\n",
       "      <td>NaN</td>\n",
       "      <td>NaN</td>\n",
       "      <td>7.2</td>\n",
       "      <td>боевик,драма,мелодрама</td>\n",
       "      <td>NaN</td>\n",
       "      <td>2015</td>\n",
       "    </tr>\n",
       "    <tr>\n",
       "      <td>1</td>\n",
       "      <td>Особо важное задание</td>\n",
       "      <td>111013716</td>\n",
       "      <td>2016-09-13 12:00:00+00:00</td>\n",
       "      <td>Художественный</td>\n",
       "      <td>Киностудия \"Мосфильм\"</td>\n",
       "      <td>СССР</td>\n",
       "      <td>Е.Матвеев</td>\n",
       "      <td>NaN</td>\n",
       "      <td>«6+» - для детей старше 6 лет</td>\n",
       "      <td>NaN</td>\n",
       "      <td>NaN</td>\n",
       "      <td>NaN</td>\n",
       "      <td>NaN</td>\n",
       "      <td>6.6</td>\n",
       "      <td>драма,военный</td>\n",
       "      <td>NaN</td>\n",
       "      <td>2016</td>\n",
       "    </tr>\n",
       "    <tr>\n",
       "      <td>2</td>\n",
       "      <td>Особо опасен</td>\n",
       "      <td>221038416</td>\n",
       "      <td>2016-10-10 12:00:00+00:00</td>\n",
       "      <td>Художественный</td>\n",
       "      <td>Юниверсал Пикчерз, Кикстарт Продакшнз, Марк Пл...</td>\n",
       "      <td>США</td>\n",
       "      <td>Тимур Бекмамбетов</td>\n",
       "      <td>Джим Лемли, Джейсон Нетер, Марк Е.Платт, Яйн Смит</td>\n",
       "      <td>«18+» - запрещено для детей</td>\n",
       "      <td>NaN</td>\n",
       "      <td>NaN</td>\n",
       "      <td>NaN</td>\n",
       "      <td>NaN</td>\n",
       "      <td>6.8</td>\n",
       "      <td>фантастика,боевик,триллер</td>\n",
       "      <td>NaN</td>\n",
       "      <td>2016</td>\n",
       "    </tr>\n",
       "    <tr>\n",
       "      <td>3</td>\n",
       "      <td>Особо опасен</td>\n",
       "      <td>221026916</td>\n",
       "      <td>2016-06-10 12:00:00+00:00</td>\n",
       "      <td>Художественный</td>\n",
       "      <td>Юниверсал Пикчерз, Кикстарт Продакшнз, Марк Пл...</td>\n",
       "      <td>США</td>\n",
       "      <td>Тимур Бекмамбетов</td>\n",
       "      <td>Джим Лемли, Джейсон Нетер, Марк Е.Платт, Яйн Смит</td>\n",
       "      <td>«18+» - запрещено для детей</td>\n",
       "      <td>NaN</td>\n",
       "      <td>NaN</td>\n",
       "      <td>NaN</td>\n",
       "      <td>NaN</td>\n",
       "      <td>6.8</td>\n",
       "      <td>фантастика,боевик,триллер</td>\n",
       "      <td>NaN</td>\n",
       "      <td>2016</td>\n",
       "    </tr>\n",
       "    <tr>\n",
       "      <td>4</td>\n",
       "      <td>Особо опасен</td>\n",
       "      <td>221030815</td>\n",
       "      <td>2015-07-29 12:00:00+00:00</td>\n",
       "      <td>Художественный</td>\n",
       "      <td>Юниверсал Пикчерз, Кикстарт Продакшнз, Марк Пл...</td>\n",
       "      <td>США</td>\n",
       "      <td>Тимур Бекмамбетов</td>\n",
       "      <td>Джим Лемли, Джейсон Нетер, Марк Е.Платт, Яйн Смит</td>\n",
       "      <td>«18+» - запрещено для детей</td>\n",
       "      <td>NaN</td>\n",
       "      <td>NaN</td>\n",
       "      <td>NaN</td>\n",
       "      <td>NaN</td>\n",
       "      <td>6.8</td>\n",
       "      <td>фантастика,боевик,триллер</td>\n",
       "      <td>NaN</td>\n",
       "      <td>2015</td>\n",
       "    </tr>\n",
       "  </tbody>\n",
       "</table>\n",
       "</div>"
      ],
      "text/plain": [
       "                  title   puNumber           show_start_date            type  \\\n",
       "0      Открытый простор  221048915 2015-11-27 12:00:00+00:00  Художественный   \n",
       "1  Особо важное задание  111013716 2016-09-13 12:00:00+00:00  Художественный   \n",
       "2          Особо опасен  221038416 2016-10-10 12:00:00+00:00  Художественный   \n",
       "3          Особо опасен  221026916 2016-06-10 12:00:00+00:00  Художественный   \n",
       "4          Особо опасен  221030815 2015-07-29 12:00:00+00:00  Художественный   \n",
       "\n",
       "                                         film_studio production_country  \\\n",
       "0  Тачстоун Пикчерз, Кобальт Пикчерз, Бикон Пикче...                США   \n",
       "1                              Киностудия \"Мосфильм\"               СССР   \n",
       "2  Юниверсал Пикчерз, Кикстарт Продакшнз, Марк Пл...                США   \n",
       "3  Юниверсал Пикчерз, Кикстарт Продакшнз, Марк Пл...                США   \n",
       "4  Юниверсал Пикчерз, Кикстарт Продакшнз, Марк Пл...                США   \n",
       "\n",
       "            director                                           producer  \\\n",
       "0      Кевин Костнер          Дэвид Валдес, Кевин Костнер, Джейк Эбертс   \n",
       "1          Е.Матвеев                                                NaN   \n",
       "2  Тимур Бекмамбетов  Джим Лемли, Джейсон Нетер, Марк Е.Платт, Яйн Смит   \n",
       "3  Тимур Бекмамбетов  Джим Лемли, Джейсон Нетер, Марк Е.Платт, Яйн Смит   \n",
       "4  Тимур Бекмамбетов  Джим Лемли, Джейсон Нетер, Марк Е.Платт, Яйн Смит   \n",
       "\n",
       "                 age_restriction  refundable_support  nonrefundable_support  \\\n",
       "0    «18+» - запрещено для детей                 NaN                    NaN   \n",
       "1  «6+» - для детей старше 6 лет                 NaN                    NaN   \n",
       "2    «18+» - запрещено для детей                 NaN                    NaN   \n",
       "3    «18+» - запрещено для детей                 NaN                    NaN   \n",
       "4    «18+» - запрещено для детей                 NaN                    NaN   \n",
       "\n",
       "   budget financing_source  ratings                     genres  box_office  \\\n",
       "0     NaN              NaN      7.2     боевик,драма,мелодрама         NaN   \n",
       "1     NaN              NaN      6.6              драма,военный         NaN   \n",
       "2     NaN              NaN      6.8  фантастика,боевик,триллер         NaN   \n",
       "3     NaN              NaN      6.8  фантастика,боевик,триллер         NaN   \n",
       "4     NaN              NaN      6.8  фантастика,боевик,триллер         NaN   \n",
       "\n",
       "   release_year  \n",
       "0          2015  \n",
       "1          2016  \n",
       "2          2016  \n",
       "3          2016  \n",
       "4          2015  "
      ]
     },
     "metadata": {},
     "output_type": "display_data"
    }
   ],
   "source": [
    "# создание столбца с годом проката фильма\n",
    "df['release_year'] = df['show_start_date'].dt.year\n",
    "# вывод первых строк датафрейма\n",
    "display(df.head())"
   ]
  },
  {
   "cell_type": "markdown",
   "metadata": {},
   "source": [
    "#### Добавление столбцов с информацией о главном режиссёре и основном жанре фильма"
   ]
  },
  {
   "cell_type": "markdown",
   "metadata": {
    "id": "nFTDLDYOgFyT"
   },
   "source": [
    "Создадим два новых столбца: с именем и фамилией главного режиссёра и основным жанром фильма. В столбцы войдут первые значения из списка режиссёров и жанров соответственно."
   ]
  },
  {
   "cell_type": "code",
   "execution_count": 18,
   "metadata": {
    "id": "LSbRZKbMgFyU"
   },
   "outputs": [
    {
     "data": {
      "text/html": [
       "<div>\n",
       "<style scoped>\n",
       "    .dataframe tbody tr th:only-of-type {\n",
       "        vertical-align: middle;\n",
       "    }\n",
       "\n",
       "    .dataframe tbody tr th {\n",
       "        vertical-align: top;\n",
       "    }\n",
       "\n",
       "    .dataframe thead th {\n",
       "        text-align: right;\n",
       "    }\n",
       "</style>\n",
       "<table border=\"1\" class=\"dataframe\">\n",
       "  <thead>\n",
       "    <tr style=\"text-align: right;\">\n",
       "      <th></th>\n",
       "      <th>title</th>\n",
       "      <th>puNumber</th>\n",
       "      <th>show_start_date</th>\n",
       "      <th>type</th>\n",
       "      <th>film_studio</th>\n",
       "      <th>production_country</th>\n",
       "      <th>director</th>\n",
       "      <th>producer</th>\n",
       "      <th>age_restriction</th>\n",
       "      <th>refundable_support</th>\n",
       "      <th>nonrefundable_support</th>\n",
       "      <th>budget</th>\n",
       "      <th>financing_source</th>\n",
       "      <th>ratings</th>\n",
       "      <th>genres</th>\n",
       "      <th>box_office</th>\n",
       "      <th>release_year</th>\n",
       "      <th>main_director</th>\n",
       "      <th>main_genre</th>\n",
       "    </tr>\n",
       "  </thead>\n",
       "  <tbody>\n",
       "    <tr>\n",
       "      <td>0</td>\n",
       "      <td>Открытый простор</td>\n",
       "      <td>221048915</td>\n",
       "      <td>2015-11-27 12:00:00+00:00</td>\n",
       "      <td>Художественный</td>\n",
       "      <td>Тачстоун Пикчерз, Кобальт Пикчерз, Бикон Пикче...</td>\n",
       "      <td>США</td>\n",
       "      <td>Кевин Костнер</td>\n",
       "      <td>Дэвид Валдес, Кевин Костнер, Джейк Эбертс</td>\n",
       "      <td>«18+» - запрещено для детей</td>\n",
       "      <td>NaN</td>\n",
       "      <td>NaN</td>\n",
       "      <td>NaN</td>\n",
       "      <td>NaN</td>\n",
       "      <td>7.2</td>\n",
       "      <td>боевик,драма,мелодрама</td>\n",
       "      <td>NaN</td>\n",
       "      <td>2015</td>\n",
       "      <td>Кевин Костнер</td>\n",
       "      <td>боевик</td>\n",
       "    </tr>\n",
       "    <tr>\n",
       "      <td>1</td>\n",
       "      <td>Особо важное задание</td>\n",
       "      <td>111013716</td>\n",
       "      <td>2016-09-13 12:00:00+00:00</td>\n",
       "      <td>Художественный</td>\n",
       "      <td>Киностудия \"Мосфильм\"</td>\n",
       "      <td>СССР</td>\n",
       "      <td>Е.Матвеев</td>\n",
       "      <td>NaN</td>\n",
       "      <td>«6+» - для детей старше 6 лет</td>\n",
       "      <td>NaN</td>\n",
       "      <td>NaN</td>\n",
       "      <td>NaN</td>\n",
       "      <td>NaN</td>\n",
       "      <td>6.6</td>\n",
       "      <td>драма,военный</td>\n",
       "      <td>NaN</td>\n",
       "      <td>2016</td>\n",
       "      <td>Е.Матвеев</td>\n",
       "      <td>драма</td>\n",
       "    </tr>\n",
       "    <tr>\n",
       "      <td>2</td>\n",
       "      <td>Особо опасен</td>\n",
       "      <td>221038416</td>\n",
       "      <td>2016-10-10 12:00:00+00:00</td>\n",
       "      <td>Художественный</td>\n",
       "      <td>Юниверсал Пикчерз, Кикстарт Продакшнз, Марк Пл...</td>\n",
       "      <td>США</td>\n",
       "      <td>Тимур Бекмамбетов</td>\n",
       "      <td>Джим Лемли, Джейсон Нетер, Марк Е.Платт, Яйн Смит</td>\n",
       "      <td>«18+» - запрещено для детей</td>\n",
       "      <td>NaN</td>\n",
       "      <td>NaN</td>\n",
       "      <td>NaN</td>\n",
       "      <td>NaN</td>\n",
       "      <td>6.8</td>\n",
       "      <td>фантастика,боевик,триллер</td>\n",
       "      <td>NaN</td>\n",
       "      <td>2016</td>\n",
       "      <td>Тимур Бекмамбетов</td>\n",
       "      <td>фантастика</td>\n",
       "    </tr>\n",
       "    <tr>\n",
       "      <td>3</td>\n",
       "      <td>Особо опасен</td>\n",
       "      <td>221026916</td>\n",
       "      <td>2016-06-10 12:00:00+00:00</td>\n",
       "      <td>Художественный</td>\n",
       "      <td>Юниверсал Пикчерз, Кикстарт Продакшнз, Марк Пл...</td>\n",
       "      <td>США</td>\n",
       "      <td>Тимур Бекмамбетов</td>\n",
       "      <td>Джим Лемли, Джейсон Нетер, Марк Е.Платт, Яйн Смит</td>\n",
       "      <td>«18+» - запрещено для детей</td>\n",
       "      <td>NaN</td>\n",
       "      <td>NaN</td>\n",
       "      <td>NaN</td>\n",
       "      <td>NaN</td>\n",
       "      <td>6.8</td>\n",
       "      <td>фантастика,боевик,триллер</td>\n",
       "      <td>NaN</td>\n",
       "      <td>2016</td>\n",
       "      <td>Тимур Бекмамбетов</td>\n",
       "      <td>фантастика</td>\n",
       "    </tr>\n",
       "    <tr>\n",
       "      <td>4</td>\n",
       "      <td>Особо опасен</td>\n",
       "      <td>221030815</td>\n",
       "      <td>2015-07-29 12:00:00+00:00</td>\n",
       "      <td>Художественный</td>\n",
       "      <td>Юниверсал Пикчерз, Кикстарт Продакшнз, Марк Пл...</td>\n",
       "      <td>США</td>\n",
       "      <td>Тимур Бекмамбетов</td>\n",
       "      <td>Джим Лемли, Джейсон Нетер, Марк Е.Платт, Яйн Смит</td>\n",
       "      <td>«18+» - запрещено для детей</td>\n",
       "      <td>NaN</td>\n",
       "      <td>NaN</td>\n",
       "      <td>NaN</td>\n",
       "      <td>NaN</td>\n",
       "      <td>6.8</td>\n",
       "      <td>фантастика,боевик,триллер</td>\n",
       "      <td>NaN</td>\n",
       "      <td>2015</td>\n",
       "      <td>Тимур Бекмамбетов</td>\n",
       "      <td>фантастика</td>\n",
       "    </tr>\n",
       "  </tbody>\n",
       "</table>\n",
       "</div>"
      ],
      "text/plain": [
       "                  title   puNumber           show_start_date            type  \\\n",
       "0      Открытый простор  221048915 2015-11-27 12:00:00+00:00  Художественный   \n",
       "1  Особо важное задание  111013716 2016-09-13 12:00:00+00:00  Художественный   \n",
       "2          Особо опасен  221038416 2016-10-10 12:00:00+00:00  Художественный   \n",
       "3          Особо опасен  221026916 2016-06-10 12:00:00+00:00  Художественный   \n",
       "4          Особо опасен  221030815 2015-07-29 12:00:00+00:00  Художественный   \n",
       "\n",
       "                                         film_studio production_country  \\\n",
       "0  Тачстоун Пикчерз, Кобальт Пикчерз, Бикон Пикче...                США   \n",
       "1                              Киностудия \"Мосфильм\"               СССР   \n",
       "2  Юниверсал Пикчерз, Кикстарт Продакшнз, Марк Пл...                США   \n",
       "3  Юниверсал Пикчерз, Кикстарт Продакшнз, Марк Пл...                США   \n",
       "4  Юниверсал Пикчерз, Кикстарт Продакшнз, Марк Пл...                США   \n",
       "\n",
       "            director                                           producer  \\\n",
       "0      Кевин Костнер          Дэвид Валдес, Кевин Костнер, Джейк Эбертс   \n",
       "1          Е.Матвеев                                                NaN   \n",
       "2  Тимур Бекмамбетов  Джим Лемли, Джейсон Нетер, Марк Е.Платт, Яйн Смит   \n",
       "3  Тимур Бекмамбетов  Джим Лемли, Джейсон Нетер, Марк Е.Платт, Яйн Смит   \n",
       "4  Тимур Бекмамбетов  Джим Лемли, Джейсон Нетер, Марк Е.Платт, Яйн Смит   \n",
       "\n",
       "                 age_restriction  refundable_support  nonrefundable_support  \\\n",
       "0    «18+» - запрещено для детей                 NaN                    NaN   \n",
       "1  «6+» - для детей старше 6 лет                 NaN                    NaN   \n",
       "2    «18+» - запрещено для детей                 NaN                    NaN   \n",
       "3    «18+» - запрещено для детей                 NaN                    NaN   \n",
       "4    «18+» - запрещено для детей                 NaN                    NaN   \n",
       "\n",
       "   budget financing_source  ratings                     genres  box_office  \\\n",
       "0     NaN              NaN      7.2     боевик,драма,мелодрама         NaN   \n",
       "1     NaN              NaN      6.6              драма,военный         NaN   \n",
       "2     NaN              NaN      6.8  фантастика,боевик,триллер         NaN   \n",
       "3     NaN              NaN      6.8  фантастика,боевик,триллер         NaN   \n",
       "4     NaN              NaN      6.8  фантастика,боевик,триллер         NaN   \n",
       "\n",
       "   release_year      main_director  main_genre  \n",
       "0          2015      Кевин Костнер      боевик  \n",
       "1          2016          Е.Матвеев       драма  \n",
       "2          2016  Тимур Бекмамбетов  фантастика  \n",
       "3          2016  Тимур Бекмамбетов  фантастика  \n",
       "4          2015  Тимур Бекмамбетов  фантастика  "
      ]
     },
     "metadata": {},
     "output_type": "display_data"
    }
   ],
   "source": [
    "# функция разделения строки в значении столбца\n",
    "# по запятой и взятие первого элемента списка\n",
    "def split_col (row):\n",
    "    splitted_str = row.split(\",\")\n",
    "    return splitted_str[0]\n",
    "# создание новых столбцов и применение функции\n",
    "df['main_director'] = df['director'].dropna().apply(split_col)\n",
    "df['main_genre'] = df['genres'].dropna().apply(split_col)\n",
    "# вывод первых строк датафрейма\n",
    "display(df.head())"
   ]
  },
  {
   "cell_type": "code",
   "execution_count": 52,
   "metadata": {},
   "outputs": [
    {
     "data": {
      "text/plain": [
       "0           Кевин Костнер\n",
       "1               Е.Матвеев\n",
       "2       Тимур Бекмамбетов\n",
       "3       Тимур Бекмамбетов\n",
       "4       Тимур Бекмамбетов\n",
       "              ...        \n",
       "7481          Фил Грабски\n",
       "7482           Ник Пауэлл\n",
       "7483     Чарльз Е.Бастьен\n",
       "7484             А.Беляев\n",
       "7485             И.Трусов\n",
       "Name: director, Length: 9228, dtype: object"
      ]
     },
     "execution_count": 52,
     "metadata": {},
     "output_type": "execute_result"
    }
   ],
   "source": [
    "df['director'].str.split(',').explode()"
   ]
  },
  {
   "cell_type": "markdown",
   "metadata": {
    "id": "1FsCXHwdgFyU"
   },
   "source": [
    "#### Расчет доли государственной поддержки от общего бюджета"
   ]
  },
  {
   "cell_type": "markdown",
   "metadata": {},
   "source": [
    "Рассмотрим только те фильмы, которые имеют государственную поддержку. Поместим их в отдельный датафрейм."
   ]
  },
  {
   "cell_type": "code",
   "execution_count": 19,
   "metadata": {},
   "outputs": [
    {
     "data": {
      "text/html": [
       "<div>\n",
       "<style scoped>\n",
       "    .dataframe tbody tr th:only-of-type {\n",
       "        vertical-align: middle;\n",
       "    }\n",
       "\n",
       "    .dataframe tbody tr th {\n",
       "        vertical-align: top;\n",
       "    }\n",
       "\n",
       "    .dataframe thead th {\n",
       "        text-align: right;\n",
       "    }\n",
       "</style>\n",
       "<table border=\"1\" class=\"dataframe\">\n",
       "  <thead>\n",
       "    <tr style=\"text-align: right;\">\n",
       "      <th></th>\n",
       "      <th>title</th>\n",
       "      <th>puNumber</th>\n",
       "      <th>show_start_date</th>\n",
       "      <th>type</th>\n",
       "      <th>film_studio</th>\n",
       "      <th>production_country</th>\n",
       "      <th>director</th>\n",
       "      <th>producer</th>\n",
       "      <th>age_restriction</th>\n",
       "      <th>refundable_support</th>\n",
       "      <th>nonrefundable_support</th>\n",
       "      <th>budget</th>\n",
       "      <th>financing_source</th>\n",
       "      <th>ratings</th>\n",
       "      <th>genres</th>\n",
       "      <th>box_office</th>\n",
       "      <th>release_year</th>\n",
       "      <th>main_director</th>\n",
       "      <th>main_genre</th>\n",
       "    </tr>\n",
       "  </thead>\n",
       "  <tbody>\n",
       "    <tr>\n",
       "      <td>1281</td>\n",
       "      <td>Пока еще жива</td>\n",
       "      <td>111005313</td>\n",
       "      <td>2013-10-11 12:00:00+00:00</td>\n",
       "      <td>Художественный</td>\n",
       "      <td>АНО содействия развитию кинематографии \"Ангел-...</td>\n",
       "      <td>Россия</td>\n",
       "      <td>А.Атанесян</td>\n",
       "      <td>А.Атанесян, М.Бабаханов, Р.Бутко</td>\n",
       "      <td>«16+» - для детей старше 16 лет</td>\n",
       "      <td>0.0</td>\n",
       "      <td>26500000.0</td>\n",
       "      <td>79411900.0</td>\n",
       "      <td>Министерство культуры</td>\n",
       "      <td>8.1</td>\n",
       "      <td>драма,мелодрама</td>\n",
       "      <td>365353</td>\n",
       "      <td>2013</td>\n",
       "      <td>А.Атанесян</td>\n",
       "      <td>драма</td>\n",
       "    </tr>\n",
       "    <tr>\n",
       "      <td>1448</td>\n",
       "      <td>Бесславные придурки</td>\n",
       "      <td>111003314</td>\n",
       "      <td>2014-03-28 12:00:00+00:00</td>\n",
       "      <td>Художественный</td>\n",
       "      <td>ООО \"Компания \"АТК-Студио\"</td>\n",
       "      <td>Россия</td>\n",
       "      <td>А.Якимчук</td>\n",
       "      <td>А.Тютрюмов</td>\n",
       "      <td>«12+» - для детей старше 12 лет</td>\n",
       "      <td>0.0</td>\n",
       "      <td>26000000.0</td>\n",
       "      <td>37142857.0</td>\n",
       "      <td>Министерство культуры</td>\n",
       "      <td>NaN</td>\n",
       "      <td>NaN</td>\n",
       "      <td>28140</td>\n",
       "      <td>2014</td>\n",
       "      <td>А.Якимчук</td>\n",
       "      <td>NaN</td>\n",
       "    </tr>\n",
       "    <tr>\n",
       "      <td>1498</td>\n",
       "      <td>Невидимки</td>\n",
       "      <td>111004213</td>\n",
       "      <td>2013-09-10 12:00:00+00:00</td>\n",
       "      <td>Художественный</td>\n",
       "      <td>ООО \"Компания \"РЕАЛ-ДАКОТА\"</td>\n",
       "      <td>Россия</td>\n",
       "      <td>Р.Давлетьяров, С.Комаров</td>\n",
       "      <td>Р.Давлетьяров, А.Котелевский, А.Олейников</td>\n",
       "      <td>«12+» - для детей старше 12 лет</td>\n",
       "      <td>0.0</td>\n",
       "      <td>107847945.0</td>\n",
       "      <td>176023490.0</td>\n",
       "      <td>Фонд кино</td>\n",
       "      <td>5.3</td>\n",
       "      <td>комедия,фантастика</td>\n",
       "      <td>19957031</td>\n",
       "      <td>2013</td>\n",
       "      <td>Р.Давлетьяров</td>\n",
       "      <td>комедия</td>\n",
       "    </tr>\n",
       "    <tr>\n",
       "      <td>1524</td>\n",
       "      <td>БЕРЦЫ</td>\n",
       "      <td>111004314</td>\n",
       "      <td>2014-05-05 12:00:00+00:00</td>\n",
       "      <td>Художественный</td>\n",
       "      <td>ООО \"Студия \"Пассажир\"</td>\n",
       "      <td>Россия</td>\n",
       "      <td>Е.Миндадзе (псевдоним Катя Шагалова)</td>\n",
       "      <td>Л.Антонова</td>\n",
       "      <td>«16+» - для детей старше 16 лет</td>\n",
       "      <td>0.0</td>\n",
       "      <td>28000000.0</td>\n",
       "      <td>40574140.0</td>\n",
       "      <td>Министерство культуры</td>\n",
       "      <td>4.2</td>\n",
       "      <td>драма</td>\n",
       "      <td>55917</td>\n",
       "      <td>2014</td>\n",
       "      <td>Е.Миндадзе (псевдоним Катя Шагалова)</td>\n",
       "      <td>драма</td>\n",
       "    </tr>\n",
       "    <tr>\n",
       "      <td>1792</td>\n",
       "      <td>Братья Ч</td>\n",
       "      <td>111004414</td>\n",
       "      <td>2014-04-23 12:00:00+00:00</td>\n",
       "      <td>Художественный</td>\n",
       "      <td>ООО \"Студия \"Пассажир\"</td>\n",
       "      <td>Россия</td>\n",
       "      <td>М.Угаров</td>\n",
       "      <td>А.Миндадзе, Л.Антонова</td>\n",
       "      <td>«16+» - для детей старше 16 лет</td>\n",
       "      <td>0.0</td>\n",
       "      <td>25000000.0</td>\n",
       "      <td>40015122.0</td>\n",
       "      <td>Министерство культуры</td>\n",
       "      <td>6.4</td>\n",
       "      <td>драма</td>\n",
       "      <td>232100</td>\n",
       "      <td>2014</td>\n",
       "      <td>М.Угаров</td>\n",
       "      <td>драма</td>\n",
       "    </tr>\n",
       "  </tbody>\n",
       "</table>\n",
       "</div>"
      ],
      "text/plain": [
       "                    title   puNumber           show_start_date  \\\n",
       "1281        Пока еще жива  111005313 2013-10-11 12:00:00+00:00   \n",
       "1448  Бесславные придурки  111003314 2014-03-28 12:00:00+00:00   \n",
       "1498            Невидимки  111004213 2013-09-10 12:00:00+00:00   \n",
       "1524                БЕРЦЫ  111004314 2014-05-05 12:00:00+00:00   \n",
       "1792             Братья Ч  111004414 2014-04-23 12:00:00+00:00   \n",
       "\n",
       "                type                                        film_studio  \\\n",
       "1281  Художественный  АНО содействия развитию кинематографии \"Ангел-...   \n",
       "1448  Художественный                         ООО \"Компания \"АТК-Студио\"   \n",
       "1498  Художественный                        ООО \"Компания \"РЕАЛ-ДАКОТА\"   \n",
       "1524  Художественный                             ООО \"Студия \"Пассажир\"   \n",
       "1792  Художественный                             ООО \"Студия \"Пассажир\"   \n",
       "\n",
       "     production_country                              director  \\\n",
       "1281             Россия                            А.Атанесян   \n",
       "1448             Россия                             А.Якимчук   \n",
       "1498             Россия              Р.Давлетьяров, С.Комаров   \n",
       "1524             Россия  Е.Миндадзе (псевдоним Катя Шагалова)   \n",
       "1792             Россия                              М.Угаров   \n",
       "\n",
       "                                       producer  \\\n",
       "1281           А.Атанесян, М.Бабаханов, Р.Бутко   \n",
       "1448                                 А.Тютрюмов   \n",
       "1498  Р.Давлетьяров, А.Котелевский, А.Олейников   \n",
       "1524                                 Л.Антонова   \n",
       "1792                     А.Миндадзе, Л.Антонова   \n",
       "\n",
       "                      age_restriction  refundable_support  \\\n",
       "1281  «16+» - для детей старше 16 лет                 0.0   \n",
       "1448  «12+» - для детей старше 12 лет                 0.0   \n",
       "1498  «12+» - для детей старше 12 лет                 0.0   \n",
       "1524  «16+» - для детей старше 16 лет                 0.0   \n",
       "1792  «16+» - для детей старше 16 лет                 0.0   \n",
       "\n",
       "      nonrefundable_support       budget       financing_source  ratings  \\\n",
       "1281             26500000.0   79411900.0  Министерство культуры      8.1   \n",
       "1448             26000000.0   37142857.0  Министерство культуры      NaN   \n",
       "1498            107847945.0  176023490.0              Фонд кино      5.3   \n",
       "1524             28000000.0   40574140.0  Министерство культуры      4.2   \n",
       "1792             25000000.0   40015122.0  Министерство культуры      6.4   \n",
       "\n",
       "                  genres  box_office  release_year  \\\n",
       "1281     драма,мелодрама      365353          2013   \n",
       "1448                 NaN       28140          2014   \n",
       "1498  комедия,фантастика    19957031          2013   \n",
       "1524               драма       55917          2014   \n",
       "1792               драма      232100          2014   \n",
       "\n",
       "                             main_director main_genre  \n",
       "1281                            А.Атанесян      драма  \n",
       "1448                             А.Якимчук        NaN  \n",
       "1498                         Р.Давлетьяров    комедия  \n",
       "1524  Е.Миндадзе (псевдоним Катя Шагалова)      драма  \n",
       "1792                              М.Угаров      драма  "
      ]
     },
     "metadata": {},
     "output_type": "display_data"
    },
    {
     "name": "stdout",
     "output_type": "stream",
     "text": [
      "<class 'pandas.core.frame.DataFrame'>\n",
      "Int64Index: 332 entries, 1281 to 7478\n",
      "Data columns (total 19 columns):\n",
      "title                    332 non-null object\n",
      "puNumber                 332 non-null Int64\n",
      "show_start_date          332 non-null datetime64[ns, UTC]\n",
      "type                     332 non-null object\n",
      "film_studio              332 non-null object\n",
      "production_country       332 non-null object\n",
      "director                 332 non-null object\n",
      "producer                 330 non-null object\n",
      "age_restriction          332 non-null object\n",
      "refundable_support       332 non-null float64\n",
      "nonrefundable_support    332 non-null float64\n",
      "budget                   332 non-null float64\n",
      "financing_source         332 non-null object\n",
      "ratings                  316 non-null float64\n",
      "genres                   316 non-null object\n",
      "box_office               318 non-null Int64\n",
      "release_year             332 non-null int64\n",
      "main_director            332 non-null object\n",
      "main_genre               316 non-null object\n",
      "dtypes: Int64(2), datetime64[ns, UTC](1), float64(4), int64(1), object(11)\n",
      "memory usage: 52.5+ KB\n"
     ]
    }
   ],
   "source": [
    "# создание датафрейма для фильмов с гос. поддержкой,\n",
    "# его вывод и получение информации о нем\n",
    "df_support = pd.DataFrame(df[~df['refundable_support'].isna() & ~df['nonrefundable_support'].isna()])\n",
    "display(df_support.head())\n",
    "df_support.info()"
   ]
  },
  {
   "cell_type": "markdown",
   "metadata": {},
   "source": [
    "Как мы заметили ранее, суммы столбцов `refundable_support` и `nonrefundable_support` не совпадают со значением в столбце `budget`, что может значить, что у таких фильмов был дополнительный источник финансирования. Определим объем дополнительной поддержки для каждого фильма с государственной поддержкой."
   ]
  },
  {
   "cell_type": "code",
   "execution_count": 20,
   "metadata": {},
   "outputs": [
    {
     "data": {
      "text/html": [
       "<div>\n",
       "<style scoped>\n",
       "    .dataframe tbody tr th:only-of-type {\n",
       "        vertical-align: middle;\n",
       "    }\n",
       "\n",
       "    .dataframe tbody tr th {\n",
       "        vertical-align: top;\n",
       "    }\n",
       "\n",
       "    .dataframe thead th {\n",
       "        text-align: right;\n",
       "    }\n",
       "</style>\n",
       "<table border=\"1\" class=\"dataframe\">\n",
       "  <thead>\n",
       "    <tr style=\"text-align: right;\">\n",
       "      <th></th>\n",
       "      <th>title</th>\n",
       "      <th>puNumber</th>\n",
       "      <th>show_start_date</th>\n",
       "      <th>type</th>\n",
       "      <th>film_studio</th>\n",
       "      <th>production_country</th>\n",
       "      <th>director</th>\n",
       "      <th>producer</th>\n",
       "      <th>age_restriction</th>\n",
       "      <th>refundable_support</th>\n",
       "      <th>nonrefundable_support</th>\n",
       "      <th>budget</th>\n",
       "      <th>financing_source</th>\n",
       "      <th>ratings</th>\n",
       "      <th>genres</th>\n",
       "      <th>box_office</th>\n",
       "      <th>release_year</th>\n",
       "      <th>main_director</th>\n",
       "      <th>main_genre</th>\n",
       "      <th>other_support</th>\n",
       "    </tr>\n",
       "  </thead>\n",
       "  <tbody>\n",
       "    <tr>\n",
       "      <td>1281</td>\n",
       "      <td>Пока еще жива</td>\n",
       "      <td>111005313</td>\n",
       "      <td>2013-10-11 12:00:00+00:00</td>\n",
       "      <td>Художественный</td>\n",
       "      <td>АНО содействия развитию кинематографии \"Ангел-...</td>\n",
       "      <td>Россия</td>\n",
       "      <td>А.Атанесян</td>\n",
       "      <td>А.Атанесян, М.Бабаханов, Р.Бутко</td>\n",
       "      <td>«16+» - для детей старше 16 лет</td>\n",
       "      <td>0.0</td>\n",
       "      <td>26500000.0</td>\n",
       "      <td>79411900.0</td>\n",
       "      <td>Министерство культуры</td>\n",
       "      <td>8.1</td>\n",
       "      <td>драма,мелодрама</td>\n",
       "      <td>365353</td>\n",
       "      <td>2013</td>\n",
       "      <td>А.Атанесян</td>\n",
       "      <td>драма</td>\n",
       "      <td>52911900.0</td>\n",
       "    </tr>\n",
       "    <tr>\n",
       "      <td>1448</td>\n",
       "      <td>Бесславные придурки</td>\n",
       "      <td>111003314</td>\n",
       "      <td>2014-03-28 12:00:00+00:00</td>\n",
       "      <td>Художественный</td>\n",
       "      <td>ООО \"Компания \"АТК-Студио\"</td>\n",
       "      <td>Россия</td>\n",
       "      <td>А.Якимчук</td>\n",
       "      <td>А.Тютрюмов</td>\n",
       "      <td>«12+» - для детей старше 12 лет</td>\n",
       "      <td>0.0</td>\n",
       "      <td>26000000.0</td>\n",
       "      <td>37142857.0</td>\n",
       "      <td>Министерство культуры</td>\n",
       "      <td>NaN</td>\n",
       "      <td>NaN</td>\n",
       "      <td>28140</td>\n",
       "      <td>2014</td>\n",
       "      <td>А.Якимчук</td>\n",
       "      <td>NaN</td>\n",
       "      <td>11142857.0</td>\n",
       "    </tr>\n",
       "    <tr>\n",
       "      <td>1498</td>\n",
       "      <td>Невидимки</td>\n",
       "      <td>111004213</td>\n",
       "      <td>2013-09-10 12:00:00+00:00</td>\n",
       "      <td>Художественный</td>\n",
       "      <td>ООО \"Компания \"РЕАЛ-ДАКОТА\"</td>\n",
       "      <td>Россия</td>\n",
       "      <td>Р.Давлетьяров, С.Комаров</td>\n",
       "      <td>Р.Давлетьяров, А.Котелевский, А.Олейников</td>\n",
       "      <td>«12+» - для детей старше 12 лет</td>\n",
       "      <td>0.0</td>\n",
       "      <td>107847945.0</td>\n",
       "      <td>176023490.0</td>\n",
       "      <td>Фонд кино</td>\n",
       "      <td>5.3</td>\n",
       "      <td>комедия,фантастика</td>\n",
       "      <td>19957031</td>\n",
       "      <td>2013</td>\n",
       "      <td>Р.Давлетьяров</td>\n",
       "      <td>комедия</td>\n",
       "      <td>68175545.0</td>\n",
       "    </tr>\n",
       "    <tr>\n",
       "      <td>1524</td>\n",
       "      <td>БЕРЦЫ</td>\n",
       "      <td>111004314</td>\n",
       "      <td>2014-05-05 12:00:00+00:00</td>\n",
       "      <td>Художественный</td>\n",
       "      <td>ООО \"Студия \"Пассажир\"</td>\n",
       "      <td>Россия</td>\n",
       "      <td>Е.Миндадзе (псевдоним Катя Шагалова)</td>\n",
       "      <td>Л.Антонова</td>\n",
       "      <td>«16+» - для детей старше 16 лет</td>\n",
       "      <td>0.0</td>\n",
       "      <td>28000000.0</td>\n",
       "      <td>40574140.0</td>\n",
       "      <td>Министерство культуры</td>\n",
       "      <td>4.2</td>\n",
       "      <td>драма</td>\n",
       "      <td>55917</td>\n",
       "      <td>2014</td>\n",
       "      <td>Е.Миндадзе (псевдоним Катя Шагалова)</td>\n",
       "      <td>драма</td>\n",
       "      <td>12574140.0</td>\n",
       "    </tr>\n",
       "    <tr>\n",
       "      <td>1792</td>\n",
       "      <td>Братья Ч</td>\n",
       "      <td>111004414</td>\n",
       "      <td>2014-04-23 12:00:00+00:00</td>\n",
       "      <td>Художественный</td>\n",
       "      <td>ООО \"Студия \"Пассажир\"</td>\n",
       "      <td>Россия</td>\n",
       "      <td>М.Угаров</td>\n",
       "      <td>А.Миндадзе, Л.Антонова</td>\n",
       "      <td>«16+» - для детей старше 16 лет</td>\n",
       "      <td>0.0</td>\n",
       "      <td>25000000.0</td>\n",
       "      <td>40015122.0</td>\n",
       "      <td>Министерство культуры</td>\n",
       "      <td>6.4</td>\n",
       "      <td>драма</td>\n",
       "      <td>232100</td>\n",
       "      <td>2014</td>\n",
       "      <td>М.Угаров</td>\n",
       "      <td>драма</td>\n",
       "      <td>15015122.0</td>\n",
       "    </tr>\n",
       "  </tbody>\n",
       "</table>\n",
       "</div>"
      ],
      "text/plain": [
       "                    title   puNumber           show_start_date  \\\n",
       "1281        Пока еще жива  111005313 2013-10-11 12:00:00+00:00   \n",
       "1448  Бесславные придурки  111003314 2014-03-28 12:00:00+00:00   \n",
       "1498            Невидимки  111004213 2013-09-10 12:00:00+00:00   \n",
       "1524                БЕРЦЫ  111004314 2014-05-05 12:00:00+00:00   \n",
       "1792             Братья Ч  111004414 2014-04-23 12:00:00+00:00   \n",
       "\n",
       "                type                                        film_studio  \\\n",
       "1281  Художественный  АНО содействия развитию кинематографии \"Ангел-...   \n",
       "1448  Художественный                         ООО \"Компания \"АТК-Студио\"   \n",
       "1498  Художественный                        ООО \"Компания \"РЕАЛ-ДАКОТА\"   \n",
       "1524  Художественный                             ООО \"Студия \"Пассажир\"   \n",
       "1792  Художественный                             ООО \"Студия \"Пассажир\"   \n",
       "\n",
       "     production_country                              director  \\\n",
       "1281             Россия                            А.Атанесян   \n",
       "1448             Россия                             А.Якимчук   \n",
       "1498             Россия              Р.Давлетьяров, С.Комаров   \n",
       "1524             Россия  Е.Миндадзе (псевдоним Катя Шагалова)   \n",
       "1792             Россия                              М.Угаров   \n",
       "\n",
       "                                       producer  \\\n",
       "1281           А.Атанесян, М.Бабаханов, Р.Бутко   \n",
       "1448                                 А.Тютрюмов   \n",
       "1498  Р.Давлетьяров, А.Котелевский, А.Олейников   \n",
       "1524                                 Л.Антонова   \n",
       "1792                     А.Миндадзе, Л.Антонова   \n",
       "\n",
       "                      age_restriction  refundable_support  \\\n",
       "1281  «16+» - для детей старше 16 лет                 0.0   \n",
       "1448  «12+» - для детей старше 12 лет                 0.0   \n",
       "1498  «12+» - для детей старше 12 лет                 0.0   \n",
       "1524  «16+» - для детей старше 16 лет                 0.0   \n",
       "1792  «16+» - для детей старше 16 лет                 0.0   \n",
       "\n",
       "      nonrefundable_support       budget       financing_source  ratings  \\\n",
       "1281             26500000.0   79411900.0  Министерство культуры      8.1   \n",
       "1448             26000000.0   37142857.0  Министерство культуры      NaN   \n",
       "1498            107847945.0  176023490.0              Фонд кино      5.3   \n",
       "1524             28000000.0   40574140.0  Министерство культуры      4.2   \n",
       "1792             25000000.0   40015122.0  Министерство культуры      6.4   \n",
       "\n",
       "                  genres  box_office  release_year  \\\n",
       "1281     драма,мелодрама      365353          2013   \n",
       "1448                 NaN       28140          2014   \n",
       "1498  комедия,фантастика    19957031          2013   \n",
       "1524               драма       55917          2014   \n",
       "1792               драма      232100          2014   \n",
       "\n",
       "                             main_director main_genre  other_support  \n",
       "1281                            А.Атанесян      драма     52911900.0  \n",
       "1448                             А.Якимчук        NaN     11142857.0  \n",
       "1498                         Р.Давлетьяров    комедия     68175545.0  \n",
       "1524  Е.Миндадзе (псевдоним Катя Шагалова)      драма     12574140.0  \n",
       "1792                              М.Угаров      драма     15015122.0  "
      ]
     },
     "metadata": {},
     "output_type": "display_data"
    }
   ],
   "source": [
    "# определение разницы между значением бюджета и\n",
    "# суммы объема гос. поддержки, создание нового\n",
    "# столбца с результатом\n",
    "df_support['other_support'] = df_support['budget'] -(df_support['refundable_support'] \n",
    "                                                   + df_support['nonrefundable_support'])\n",
    "# вывод первых строк датафрейма\n",
    "display(df_support.head())"
   ]
  },
  {
   "cell_type": "markdown",
   "metadata": {},
   "source": [
    "Теперь мы видим, что несмотря на то, что указано значение в столбцах `nonrefundable_support` или `refundable_support`, в столбце `budget` нулевое значение. Но по условию, бюджет уже включает средства государственной поддержки. Значит, здесь явное несоответствие. \n",
    "\n",
    "Построим гистрограмму значений по столбцу `other_support` и оценим их."
   ]
  },
  {
   "cell_type": "code",
   "execution_count": 21,
   "metadata": {},
   "outputs": [
    {
     "data": {
      "image/png": "[encoded data removed]",
      "text/plain": [
       "<Figure size 432x288 with 1 Axes>"
      ]
     },
     "metadata": {
      "needs_background": "light"
     },
     "output_type": "display_data"
    }
   ],
   "source": [
    "# построение гистограммы с данными из other_support\n",
    "ax = df_support['other_support'].hist(bins=10)\n",
    "# параметры для осей X, Y и title\n",
    "ax.set(title='Гистограмма дополнительной поддержки', xlabel='Руб.', ylabel='Количество')\n",
    "ax;"
   ]
  },
  {
   "cell_type": "markdown",
   "metadata": {},
   "source": [
    "Гистограмма помогла нам определить подозрительные отрицательные значения среди значений дополнительной поддержки. Это указывает на несовпадение значений бюджета и суммы государственной поддержки."
   ]
  },
  {
   "cell_type": "code",
   "execution_count": 22,
   "metadata": {},
   "outputs": [
    {
     "data": {
      "text/html": [
       "<div>\n",
       "<style scoped>\n",
       "    .dataframe tbody tr th:only-of-type {\n",
       "        vertical-align: middle;\n",
       "    }\n",
       "\n",
       "    .dataframe tbody tr th {\n",
       "        vertical-align: top;\n",
       "    }\n",
       "\n",
       "    .dataframe thead th {\n",
       "        text-align: right;\n",
       "    }\n",
       "</style>\n",
       "<table border=\"1\" class=\"dataframe\">\n",
       "  <thead>\n",
       "    <tr style=\"text-align: right;\">\n",
       "      <th></th>\n",
       "      <th>title</th>\n",
       "      <th>puNumber</th>\n",
       "      <th>show_start_date</th>\n",
       "      <th>type</th>\n",
       "      <th>film_studio</th>\n",
       "      <th>production_country</th>\n",
       "      <th>director</th>\n",
       "      <th>producer</th>\n",
       "      <th>age_restriction</th>\n",
       "      <th>refundable_support</th>\n",
       "      <th>nonrefundable_support</th>\n",
       "      <th>budget</th>\n",
       "      <th>financing_source</th>\n",
       "      <th>ratings</th>\n",
       "      <th>genres</th>\n",
       "      <th>box_office</th>\n",
       "      <th>release_year</th>\n",
       "      <th>main_director</th>\n",
       "      <th>main_genre</th>\n",
       "      <th>other_support</th>\n",
       "    </tr>\n",
       "  </thead>\n",
       "  <tbody>\n",
       "    <tr>\n",
       "      <td>2053</td>\n",
       "      <td>14+</td>\n",
       "      <td>111023614</td>\n",
       "      <td>2014-12-19 12:00:00+00:00</td>\n",
       "      <td>Художественный</td>\n",
       "      <td>ООО Киностудия  \"Сентябрь\"</td>\n",
       "      <td>Россия</td>\n",
       "      <td>А.Зайцев</td>\n",
       "      <td>О.Гранина, А.Зайцев</td>\n",
       "      <td>«16+» - для детей старше 16 лет</td>\n",
       "      <td>0.0</td>\n",
       "      <td>23000000.0</td>\n",
       "      <td>0.0</td>\n",
       "      <td>Министерство культуры, Фонд кино</td>\n",
       "      <td>6.6</td>\n",
       "      <td>мелодрама</td>\n",
       "      <td>10234016</td>\n",
       "      <td>2014</td>\n",
       "      <td>А.Зайцев</td>\n",
       "      <td>мелодрама</td>\n",
       "      <td>-23000000.0</td>\n",
       "    </tr>\n",
       "    <tr>\n",
       "      <td>2058</td>\n",
       "      <td>Дуxless 2</td>\n",
       "      <td>111000415</td>\n",
       "      <td>2015-01-26 12:00:00+00:00</td>\n",
       "      <td>Художественный</td>\n",
       "      <td>ООО \"Киностудия \"Слово\", ООО \"Арт Пикчерс Студия\"</td>\n",
       "      <td>Россия</td>\n",
       "      <td>Р.Прыгунов</td>\n",
       "      <td>П.Ануров, Ф.Бондарчук, Д.Рудовский</td>\n",
       "      <td>«16+» - для детей старше 16 лет</td>\n",
       "      <td>0.0</td>\n",
       "      <td>75000000.0</td>\n",
       "      <td>0.0</td>\n",
       "      <td>Фонд кино</td>\n",
       "      <td>6.6</td>\n",
       "      <td>драма</td>\n",
       "      <td>446163511</td>\n",
       "      <td>2015</td>\n",
       "      <td>Р.Прыгунов</td>\n",
       "      <td>драма</td>\n",
       "      <td>-75000000.0</td>\n",
       "    </tr>\n",
       "    <tr>\n",
       "      <td>2472</td>\n",
       "      <td>Воин (2015)</td>\n",
       "      <td>111017315</td>\n",
       "      <td>2015-09-28 12:00:00+00:00</td>\n",
       "      <td>Художественный</td>\n",
       "      <td>ООО \"Форпост Продакшн\", ООО \"Арт Пикчерс Студия\"</td>\n",
       "      <td>Россия</td>\n",
       "      <td>А.Андрианов</td>\n",
       "      <td>ООО \"Арт Пикчерс Студия\"</td>\n",
       "      <td>«12+» - для детей старше 12 лет</td>\n",
       "      <td>10000000.0</td>\n",
       "      <td>70000000.0</td>\n",
       "      <td>0.0</td>\n",
       "      <td>Фонд кино</td>\n",
       "      <td>7.8</td>\n",
       "      <td>боевик,драма,криминал</td>\n",
       "      <td>196572438</td>\n",
       "      <td>2015</td>\n",
       "      <td>А.Андрианов</td>\n",
       "      <td>боевик</td>\n",
       "      <td>-80000000.0</td>\n",
       "    </tr>\n",
       "    <tr>\n",
       "      <td>2532</td>\n",
       "      <td>Бармен.</td>\n",
       "      <td>111009615</td>\n",
       "      <td>2015-05-26 12:00:00+00:00</td>\n",
       "      <td>Художественный</td>\n",
       "      <td>АО \"ВайТ Медиа\", ООО \"Арт Пикчерс Студия\"</td>\n",
       "      <td>Россия</td>\n",
       "      <td>Д.Штурманова</td>\n",
       "      <td>Т.Вайнштейн</td>\n",
       "      <td>«16+» - для детей старше 16 лет</td>\n",
       "      <td>20000000.0</td>\n",
       "      <td>0.0</td>\n",
       "      <td>0.0</td>\n",
       "      <td>Фонд кино</td>\n",
       "      <td>6.2</td>\n",
       "      <td>комедия,фэнтези</td>\n",
       "      <td>67418974</td>\n",
       "      <td>2015</td>\n",
       "      <td>Д.Штурманова</td>\n",
       "      <td>комедия</td>\n",
       "      <td>-20000000.0</td>\n",
       "    </tr>\n",
       "    <tr>\n",
       "      <td>2615</td>\n",
       "      <td>Савва. Сердце воина</td>\n",
       "      <td>114001715</td>\n",
       "      <td>2015-07-21 12:00:00+00:00</td>\n",
       "      <td>Анимационный</td>\n",
       "      <td>ООО \"Глюкоза Продакшн\", ООО \"Арт Пикчерс Студия\"</td>\n",
       "      <td>Россия</td>\n",
       "      <td>М.Фадеев</td>\n",
       "      <td>А.Чистяков</td>\n",
       "      <td>«6+» - для детей старше 6 лет</td>\n",
       "      <td>60000000.0</td>\n",
       "      <td>100000000.0</td>\n",
       "      <td>0.0</td>\n",
       "      <td>Фонд кино</td>\n",
       "      <td>4.6</td>\n",
       "      <td>мультфильм,приключения,фэнтези</td>\n",
       "      <td>184487551</td>\n",
       "      <td>2015</td>\n",
       "      <td>М.Фадеев</td>\n",
       "      <td>мультфильм</td>\n",
       "      <td>-160000000.0</td>\n",
       "    </tr>\n",
       "    <tr>\n",
       "      <td>2684</td>\n",
       "      <td>Тряпичный союз</td>\n",
       "      <td>111010215</td>\n",
       "      <td>2015-06-08 12:00:00+00:00</td>\n",
       "      <td>Художественный</td>\n",
       "      <td>ООО \"Кинокомпания \"КОКТЕБЕЛЬ\"</td>\n",
       "      <td>Россия</td>\n",
       "      <td>М.Местецкий</td>\n",
       "      <td>Р.Борисевич, А.Кушаев</td>\n",
       "      <td>«18+» - запрещено для детей</td>\n",
       "      <td>0.0</td>\n",
       "      <td>59000000.0</td>\n",
       "      <td>0.0</td>\n",
       "      <td>Фонд кино</td>\n",
       "      <td>6.3</td>\n",
       "      <td>комедия,драма</td>\n",
       "      <td>1957738</td>\n",
       "      <td>2015</td>\n",
       "      <td>М.Местецкий</td>\n",
       "      <td>комедия</td>\n",
       "      <td>-59000000.0</td>\n",
       "    </tr>\n",
       "    <tr>\n",
       "      <td>2788</td>\n",
       "      <td>Срочно выйду замуж</td>\n",
       "      <td>111017115</td>\n",
       "      <td>2015-09-30 12:00:00+00:00</td>\n",
       "      <td>Художественный</td>\n",
       "      <td>АО \"ВайТ Медиа\", ООО \"Арт Пикчерс Студия\"</td>\n",
       "      <td>Россия</td>\n",
       "      <td>С Чекалов</td>\n",
       "      <td>Ф.Бондарчук, Т.Вайнштейн, Д.Рудовский</td>\n",
       "      <td>«16+» - для детей старше 16 лет</td>\n",
       "      <td>0.0</td>\n",
       "      <td>35000000.0</td>\n",
       "      <td>0.0</td>\n",
       "      <td>Фонд кино</td>\n",
       "      <td>5.1</td>\n",
       "      <td>комедия,мелодрама</td>\n",
       "      <td>72937783</td>\n",
       "      <td>2015</td>\n",
       "      <td>С Чекалов</td>\n",
       "      <td>комедия</td>\n",
       "      <td>-35000000.0</td>\n",
       "    </tr>\n",
       "    <tr>\n",
       "      <td>2874</td>\n",
       "      <td>Помню - не помню!</td>\n",
       "      <td>111004916</td>\n",
       "      <td>2016-03-01 12:00:00+00:00</td>\n",
       "      <td>Художественный</td>\n",
       "      <td>ООО \"КиноФирма\"</td>\n",
       "      <td>Россия</td>\n",
       "      <td>В.Ровенский</td>\n",
       "      <td>ООО \"КиноФирма\"</td>\n",
       "      <td>«12+» - для детей старше 12 лет</td>\n",
       "      <td>0.0</td>\n",
       "      <td>6000000.0</td>\n",
       "      <td>0.0</td>\n",
       "      <td>Министерство культуры</td>\n",
       "      <td>4.3</td>\n",
       "      <td>комедия</td>\n",
       "      <td>15362931</td>\n",
       "      <td>2016</td>\n",
       "      <td>В.Ровенский</td>\n",
       "      <td>комедия</td>\n",
       "      <td>-6000000.0</td>\n",
       "    </tr>\n",
       "    <tr>\n",
       "      <td>3047</td>\n",
       "      <td>Любовь с ограничениями</td>\n",
       "      <td>111008216</td>\n",
       "      <td>2016-04-29 12:00:00+00:00</td>\n",
       "      <td>Художественный</td>\n",
       "      <td>АО \"ВайТ Медиа\", ООО \"Арт Пикчерс Студия\"</td>\n",
       "      <td>Россия</td>\n",
       "      <td>Д.Тюрин</td>\n",
       "      <td>Ф.Бондарчук, Т.Вайнштейн, Д.Рудовский</td>\n",
       "      <td>«16+» - для детей старше 16 лет</td>\n",
       "      <td>19000000.0</td>\n",
       "      <td>51000000.0</td>\n",
       "      <td>0.0</td>\n",
       "      <td>Фонд кино</td>\n",
       "      <td>6.3</td>\n",
       "      <td>комедия,мелодрама</td>\n",
       "      <td>70299052</td>\n",
       "      <td>2016</td>\n",
       "      <td>Д.Тюрин</td>\n",
       "      <td>комедия</td>\n",
       "      <td>-70000000.0</td>\n",
       "    </tr>\n",
       "    <tr>\n",
       "      <td>3565</td>\n",
       "      <td>Притяжение (2016)</td>\n",
       "      <td>111018116</td>\n",
       "      <td>2016-12-16 12:00:00+00:00</td>\n",
       "      <td>Художественный</td>\n",
       "      <td>ООО \"Водород 2011\",  ООО \"Арт Пикчерс Студия\"</td>\n",
       "      <td>Россия</td>\n",
       "      <td>Ф.Бондарчук</td>\n",
       "      <td>ООО \"Арт Пикчерс Студия\"</td>\n",
       "      <td>«12+» - для детей старше 12 лет</td>\n",
       "      <td>0.0</td>\n",
       "      <td>250000000.0</td>\n",
       "      <td>0.0</td>\n",
       "      <td>Фонд кино</td>\n",
       "      <td>5.6</td>\n",
       "      <td>фантастика</td>\n",
       "      <td>1038321489</td>\n",
       "      <td>2016</td>\n",
       "      <td>Ф.Бондарчук</td>\n",
       "      <td>фантастика</td>\n",
       "      <td>-250000000.0</td>\n",
       "    </tr>\n",
       "  </tbody>\n",
       "</table>\n",
       "</div>"
      ],
      "text/plain": [
       "                       title   puNumber           show_start_date  \\\n",
       "2053                     14+  111023614 2014-12-19 12:00:00+00:00   \n",
       "2058               Дуxless 2  111000415 2015-01-26 12:00:00+00:00   \n",
       "2472             Воин (2015)  111017315 2015-09-28 12:00:00+00:00   \n",
       "2532                 Бармен.  111009615 2015-05-26 12:00:00+00:00   \n",
       "2615     Савва. Сердце воина  114001715 2015-07-21 12:00:00+00:00   \n",
       "2684          Тряпичный союз  111010215 2015-06-08 12:00:00+00:00   \n",
       "2788      Срочно выйду замуж  111017115 2015-09-30 12:00:00+00:00   \n",
       "2874       Помню - не помню!  111004916 2016-03-01 12:00:00+00:00   \n",
       "3047  Любовь с ограничениями  111008216 2016-04-29 12:00:00+00:00   \n",
       "3565       Притяжение (2016)  111018116 2016-12-16 12:00:00+00:00   \n",
       "\n",
       "                type                                        film_studio  \\\n",
       "2053  Художественный                         ООО Киностудия  \"Сентябрь\"   \n",
       "2058  Художественный  ООО \"Киностудия \"Слово\", ООО \"Арт Пикчерс Студия\"   \n",
       "2472  Художественный   ООО \"Форпост Продакшн\", ООО \"Арт Пикчерс Студия\"   \n",
       "2532  Художественный          АО \"ВайТ Медиа\", ООО \"Арт Пикчерс Студия\"   \n",
       "2615    Анимационный   ООО \"Глюкоза Продакшн\", ООО \"Арт Пикчерс Студия\"   \n",
       "2684  Художественный                      ООО \"Кинокомпания \"КОКТЕБЕЛЬ\"   \n",
       "2788  Художественный          АО \"ВайТ Медиа\", ООО \"Арт Пикчерс Студия\"   \n",
       "2874  Художественный                                    ООО \"КиноФирма\"   \n",
       "3047  Художественный          АО \"ВайТ Медиа\", ООО \"Арт Пикчерс Студия\"   \n",
       "3565  Художественный      ООО \"Водород 2011\",  ООО \"Арт Пикчерс Студия\"   \n",
       "\n",
       "     production_country      director                               producer  \\\n",
       "2053             Россия      А.Зайцев                    О.Гранина, А.Зайцев   \n",
       "2058             Россия    Р.Прыгунов     П.Ануров, Ф.Бондарчук, Д.Рудовский   \n",
       "2472             Россия   А.Андрианов               ООО \"Арт Пикчерс Студия\"   \n",
       "2532             Россия  Д.Штурманова                            Т.Вайнштейн   \n",
       "2615             Россия      М.Фадеев                             А.Чистяков   \n",
       "2684             Россия   М.Местецкий                  Р.Борисевич, А.Кушаев   \n",
       "2788             Россия     С Чекалов  Ф.Бондарчук, Т.Вайнштейн, Д.Рудовский   \n",
       "2874             Россия   В.Ровенский                        ООО \"КиноФирма\"   \n",
       "3047             Россия       Д.Тюрин  Ф.Бондарчук, Т.Вайнштейн, Д.Рудовский   \n",
       "3565             Россия   Ф.Бондарчук               ООО \"Арт Пикчерс Студия\"   \n",
       "\n",
       "                      age_restriction  refundable_support  \\\n",
       "2053  «16+» - для детей старше 16 лет                 0.0   \n",
       "2058  «16+» - для детей старше 16 лет                 0.0   \n",
       "2472  «12+» - для детей старше 12 лет          10000000.0   \n",
       "2532  «16+» - для детей старше 16 лет          20000000.0   \n",
       "2615    «6+» - для детей старше 6 лет          60000000.0   \n",
       "2684      «18+» - запрещено для детей                 0.0   \n",
       "2788  «16+» - для детей старше 16 лет                 0.0   \n",
       "2874  «12+» - для детей старше 12 лет                 0.0   \n",
       "3047  «16+» - для детей старше 16 лет          19000000.0   \n",
       "3565  «12+» - для детей старше 12 лет                 0.0   \n",
       "\n",
       "      nonrefundable_support  budget                  financing_source  \\\n",
       "2053             23000000.0     0.0  Министерство культуры, Фонд кино   \n",
       "2058             75000000.0     0.0                         Фонд кино   \n",
       "2472             70000000.0     0.0                         Фонд кино   \n",
       "2532                    0.0     0.0                         Фонд кино   \n",
       "2615            100000000.0     0.0                         Фонд кино   \n",
       "2684             59000000.0     0.0                         Фонд кино   \n",
       "2788             35000000.0     0.0                         Фонд кино   \n",
       "2874              6000000.0     0.0             Министерство культуры   \n",
       "3047             51000000.0     0.0                         Фонд кино   \n",
       "3565            250000000.0     0.0                         Фонд кино   \n",
       "\n",
       "      ratings                          genres  box_office  release_year  \\\n",
       "2053      6.6                       мелодрама    10234016          2014   \n",
       "2058      6.6                           драма   446163511          2015   \n",
       "2472      7.8           боевик,драма,криминал   196572438          2015   \n",
       "2532      6.2                 комедия,фэнтези    67418974          2015   \n",
       "2615      4.6  мультфильм,приключения,фэнтези   184487551          2015   \n",
       "2684      6.3                   комедия,драма     1957738          2015   \n",
       "2788      5.1               комедия,мелодрама    72937783          2015   \n",
       "2874      4.3                         комедия    15362931          2016   \n",
       "3047      6.3               комедия,мелодрама    70299052          2016   \n",
       "3565      5.6                      фантастика  1038321489          2016   \n",
       "\n",
       "     main_director  main_genre  other_support  \n",
       "2053      А.Зайцев   мелодрама    -23000000.0  \n",
       "2058    Р.Прыгунов       драма    -75000000.0  \n",
       "2472   А.Андрианов      боевик    -80000000.0  \n",
       "2532  Д.Штурманова     комедия    -20000000.0  \n",
       "2615      М.Фадеев  мультфильм   -160000000.0  \n",
       "2684   М.Местецкий     комедия    -59000000.0  \n",
       "2788     С Чекалов     комедия    -35000000.0  \n",
       "2874   В.Ровенский     комедия     -6000000.0  \n",
       "3047       Д.Тюрин     комедия    -70000000.0  \n",
       "3565   Ф.Бондарчук  фантастика   -250000000.0  "
      ]
     },
     "metadata": {},
     "output_type": "display_data"
    }
   ],
   "source": [
    "# вывод датафрейма с отрицательными значениями other_support\n",
    "display((df_support[df_support['other_support'] < 0]).head(10))"
   ]
  },
  {
   "cell_type": "markdown",
   "metadata": {},
   "source": [
    "Здесь мы видим, что отрицательные значения в столбце с дополнительной поддержкой связаны с тем, что значение в столбце `budget` указано нулевым, хотя значения для государственной поддержки `refundable_support` и `nonrefundable_support` присутствуют.\n",
    "\n",
    "Таких строк всего 17, что составляет около 5% от всего набора данных для фильмов с государственной поддержкой. Мы могли бы их удалить, но попробуем восстановить данные в столбце `budget` для них, поскольку нам известны значения `refundable_support` и/или `nonrefundable_support` для каждой из строк и данные в других столбцах для таких фильмов не пропущены. Рассмотрим далее как влияют восстановленные значения на исследование в целом."
   ]
  },
  {
   "cell_type": "code",
   "execution_count": 23,
   "metadata": {},
   "outputs": [
    {
     "data": {
      "text/html": [
       "<div>\n",
       "<style scoped>\n",
       "    .dataframe tbody tr th:only-of-type {\n",
       "        vertical-align: middle;\n",
       "    }\n",
       "\n",
       "    .dataframe tbody tr th {\n",
       "        vertical-align: top;\n",
       "    }\n",
       "\n",
       "    .dataframe thead th {\n",
       "        text-align: right;\n",
       "    }\n",
       "</style>\n",
       "<table border=\"1\" class=\"dataframe\">\n",
       "  <thead>\n",
       "    <tr style=\"text-align: right;\">\n",
       "      <th></th>\n",
       "      <th>title</th>\n",
       "      <th>puNumber</th>\n",
       "      <th>show_start_date</th>\n",
       "      <th>type</th>\n",
       "      <th>film_studio</th>\n",
       "      <th>production_country</th>\n",
       "      <th>director</th>\n",
       "      <th>producer</th>\n",
       "      <th>age_restriction</th>\n",
       "      <th>refundable_support</th>\n",
       "      <th>nonrefundable_support</th>\n",
       "      <th>budget</th>\n",
       "      <th>financing_source</th>\n",
       "      <th>ratings</th>\n",
       "      <th>genres</th>\n",
       "      <th>box_office</th>\n",
       "      <th>release_year</th>\n",
       "      <th>main_director</th>\n",
       "      <th>main_genre</th>\n",
       "      <th>other_support</th>\n",
       "    </tr>\n",
       "  </thead>\n",
       "  <tbody>\n",
       "    <tr>\n",
       "      <td>1281</td>\n",
       "      <td>Пока еще жива</td>\n",
       "      <td>111005313</td>\n",
       "      <td>2013-10-11 12:00:00+00:00</td>\n",
       "      <td>Художественный</td>\n",
       "      <td>АНО содействия развитию кинематографии \"Ангел-...</td>\n",
       "      <td>Россия</td>\n",
       "      <td>А.Атанесян</td>\n",
       "      <td>А.Атанесян, М.Бабаханов, Р.Бутко</td>\n",
       "      <td>«16+» - для детей старше 16 лет</td>\n",
       "      <td>0.0</td>\n",
       "      <td>26500000.0</td>\n",
       "      <td>79411900.0</td>\n",
       "      <td>Министерство культуры</td>\n",
       "      <td>8.1</td>\n",
       "      <td>драма,мелодрама</td>\n",
       "      <td>365353</td>\n",
       "      <td>2013</td>\n",
       "      <td>А.Атанесян</td>\n",
       "      <td>драма</td>\n",
       "      <td>52911900.0</td>\n",
       "    </tr>\n",
       "    <tr>\n",
       "      <td>1448</td>\n",
       "      <td>Бесславные придурки</td>\n",
       "      <td>111003314</td>\n",
       "      <td>2014-03-28 12:00:00+00:00</td>\n",
       "      <td>Художественный</td>\n",
       "      <td>ООО \"Компания \"АТК-Студио\"</td>\n",
       "      <td>Россия</td>\n",
       "      <td>А.Якимчук</td>\n",
       "      <td>А.Тютрюмов</td>\n",
       "      <td>«12+» - для детей старше 12 лет</td>\n",
       "      <td>0.0</td>\n",
       "      <td>26000000.0</td>\n",
       "      <td>37142857.0</td>\n",
       "      <td>Министерство культуры</td>\n",
       "      <td>NaN</td>\n",
       "      <td>NaN</td>\n",
       "      <td>28140</td>\n",
       "      <td>2014</td>\n",
       "      <td>А.Якимчук</td>\n",
       "      <td>NaN</td>\n",
       "      <td>11142857.0</td>\n",
       "    </tr>\n",
       "    <tr>\n",
       "      <td>1498</td>\n",
       "      <td>Невидимки</td>\n",
       "      <td>111004213</td>\n",
       "      <td>2013-09-10 12:00:00+00:00</td>\n",
       "      <td>Художественный</td>\n",
       "      <td>ООО \"Компания \"РЕАЛ-ДАКОТА\"</td>\n",
       "      <td>Россия</td>\n",
       "      <td>Р.Давлетьяров, С.Комаров</td>\n",
       "      <td>Р.Давлетьяров, А.Котелевский, А.Олейников</td>\n",
       "      <td>«12+» - для детей старше 12 лет</td>\n",
       "      <td>0.0</td>\n",
       "      <td>107847945.0</td>\n",
       "      <td>176023490.0</td>\n",
       "      <td>Фонд кино</td>\n",
       "      <td>5.3</td>\n",
       "      <td>комедия,фантастика</td>\n",
       "      <td>19957031</td>\n",
       "      <td>2013</td>\n",
       "      <td>Р.Давлетьяров</td>\n",
       "      <td>комедия</td>\n",
       "      <td>68175545.0</td>\n",
       "    </tr>\n",
       "    <tr>\n",
       "      <td>1524</td>\n",
       "      <td>БЕРЦЫ</td>\n",
       "      <td>111004314</td>\n",
       "      <td>2014-05-05 12:00:00+00:00</td>\n",
       "      <td>Художественный</td>\n",
       "      <td>ООО \"Студия \"Пассажир\"</td>\n",
       "      <td>Россия</td>\n",
       "      <td>Е.Миндадзе (псевдоним Катя Шагалова)</td>\n",
       "      <td>Л.Антонова</td>\n",
       "      <td>«16+» - для детей старше 16 лет</td>\n",
       "      <td>0.0</td>\n",
       "      <td>28000000.0</td>\n",
       "      <td>40574140.0</td>\n",
       "      <td>Министерство культуры</td>\n",
       "      <td>4.2</td>\n",
       "      <td>драма</td>\n",
       "      <td>55917</td>\n",
       "      <td>2014</td>\n",
       "      <td>Е.Миндадзе (псевдоним Катя Шагалова)</td>\n",
       "      <td>драма</td>\n",
       "      <td>12574140.0</td>\n",
       "    </tr>\n",
       "    <tr>\n",
       "      <td>1792</td>\n",
       "      <td>Братья Ч</td>\n",
       "      <td>111004414</td>\n",
       "      <td>2014-04-23 12:00:00+00:00</td>\n",
       "      <td>Художественный</td>\n",
       "      <td>ООО \"Студия \"Пассажир\"</td>\n",
       "      <td>Россия</td>\n",
       "      <td>М.Угаров</td>\n",
       "      <td>А.Миндадзе, Л.Антонова</td>\n",
       "      <td>«16+» - для детей старше 16 лет</td>\n",
       "      <td>0.0</td>\n",
       "      <td>25000000.0</td>\n",
       "      <td>40015122.0</td>\n",
       "      <td>Министерство культуры</td>\n",
       "      <td>6.4</td>\n",
       "      <td>драма</td>\n",
       "      <td>232100</td>\n",
       "      <td>2014</td>\n",
       "      <td>М.Угаров</td>\n",
       "      <td>драма</td>\n",
       "      <td>15015122.0</td>\n",
       "    </tr>\n",
       "  </tbody>\n",
       "</table>\n",
       "</div>"
      ],
      "text/plain": [
       "                    title   puNumber           show_start_date  \\\n",
       "1281        Пока еще жива  111005313 2013-10-11 12:00:00+00:00   \n",
       "1448  Бесславные придурки  111003314 2014-03-28 12:00:00+00:00   \n",
       "1498            Невидимки  111004213 2013-09-10 12:00:00+00:00   \n",
       "1524                БЕРЦЫ  111004314 2014-05-05 12:00:00+00:00   \n",
       "1792             Братья Ч  111004414 2014-04-23 12:00:00+00:00   \n",
       "\n",
       "                type                                        film_studio  \\\n",
       "1281  Художественный  АНО содействия развитию кинематографии \"Ангел-...   \n",
       "1448  Художественный                         ООО \"Компания \"АТК-Студио\"   \n",
       "1498  Художественный                        ООО \"Компания \"РЕАЛ-ДАКОТА\"   \n",
       "1524  Художественный                             ООО \"Студия \"Пассажир\"   \n",
       "1792  Художественный                             ООО \"Студия \"Пассажир\"   \n",
       "\n",
       "     production_country                              director  \\\n",
       "1281             Россия                            А.Атанесян   \n",
       "1448             Россия                             А.Якимчук   \n",
       "1498             Россия              Р.Давлетьяров, С.Комаров   \n",
       "1524             Россия  Е.Миндадзе (псевдоним Катя Шагалова)   \n",
       "1792             Россия                              М.Угаров   \n",
       "\n",
       "                                       producer  \\\n",
       "1281           А.Атанесян, М.Бабаханов, Р.Бутко   \n",
       "1448                                 А.Тютрюмов   \n",
       "1498  Р.Давлетьяров, А.Котелевский, А.Олейников   \n",
       "1524                                 Л.Антонова   \n",
       "1792                     А.Миндадзе, Л.Антонова   \n",
       "\n",
       "                      age_restriction  refundable_support  \\\n",
       "1281  «16+» - для детей старше 16 лет                 0.0   \n",
       "1448  «12+» - для детей старше 12 лет                 0.0   \n",
       "1498  «12+» - для детей старше 12 лет                 0.0   \n",
       "1524  «16+» - для детей старше 16 лет                 0.0   \n",
       "1792  «16+» - для детей старше 16 лет                 0.0   \n",
       "\n",
       "      nonrefundable_support       budget       financing_source  ratings  \\\n",
       "1281             26500000.0   79411900.0  Министерство культуры      8.1   \n",
       "1448             26000000.0   37142857.0  Министерство культуры      NaN   \n",
       "1498            107847945.0  176023490.0              Фонд кино      5.3   \n",
       "1524             28000000.0   40574140.0  Министерство культуры      4.2   \n",
       "1792             25000000.0   40015122.0  Министерство культуры      6.4   \n",
       "\n",
       "                  genres  box_office  release_year  \\\n",
       "1281     драма,мелодрама      365353          2013   \n",
       "1448                 NaN       28140          2014   \n",
       "1498  комедия,фантастика    19957031          2013   \n",
       "1524               драма       55917          2014   \n",
       "1792               драма      232100          2014   \n",
       "\n",
       "                             main_director main_genre  other_support  \n",
       "1281                            А.Атанесян      драма     52911900.0  \n",
       "1448                             А.Якимчук        NaN     11142857.0  \n",
       "1498                         Р.Давлетьяров    комедия     68175545.0  \n",
       "1524  Е.Миндадзе (псевдоним Катя Шагалова)      драма     12574140.0  \n",
       "1792                              М.Угаров      драма     15015122.0  "
      ]
     },
     "metadata": {},
     "output_type": "display_data"
    }
   ],
   "source": [
    "# для строк, где other_support меньше 0,\n",
    "# значение budget заменяем на положительное \n",
    "# значение other_support\n",
    "df_support.loc[df_support['other_support'] < 0, 'budget'] = df_support['other_support'] * -1\n",
    "# вывод первых строк датафрейма\n",
    "display(df_support.head())"
   ]
  },
  {
   "cell_type": "markdown",
   "metadata": {},
   "source": [
    "Теперь рассчитаем долю государственной поддержки от бюджета фильма."
   ]
  },
  {
   "cell_type": "code",
   "execution_count": 24,
   "metadata": {},
   "outputs": [
    {
     "data": {
      "text/html": [
       "<div>\n",
       "<style scoped>\n",
       "    .dataframe tbody tr th:only-of-type {\n",
       "        vertical-align: middle;\n",
       "    }\n",
       "\n",
       "    .dataframe tbody tr th {\n",
       "        vertical-align: top;\n",
       "    }\n",
       "\n",
       "    .dataframe thead th {\n",
       "        text-align: right;\n",
       "    }\n",
       "</style>\n",
       "<table border=\"1\" class=\"dataframe\">\n",
       "  <thead>\n",
       "    <tr style=\"text-align: right;\">\n",
       "      <th></th>\n",
       "      <th>title</th>\n",
       "      <th>puNumber</th>\n",
       "      <th>show_start_date</th>\n",
       "      <th>type</th>\n",
       "      <th>film_studio</th>\n",
       "      <th>production_country</th>\n",
       "      <th>director</th>\n",
       "      <th>producer</th>\n",
       "      <th>age_restriction</th>\n",
       "      <th>refundable_support</th>\n",
       "      <th>...</th>\n",
       "      <th>budget</th>\n",
       "      <th>financing_source</th>\n",
       "      <th>ratings</th>\n",
       "      <th>genres</th>\n",
       "      <th>box_office</th>\n",
       "      <th>release_year</th>\n",
       "      <th>main_director</th>\n",
       "      <th>main_genre</th>\n",
       "      <th>other_support</th>\n",
       "      <th>gov_support_rate(%)</th>\n",
       "    </tr>\n",
       "  </thead>\n",
       "  <tbody>\n",
       "    <tr>\n",
       "      <td>1281</td>\n",
       "      <td>Пока еще жива</td>\n",
       "      <td>111005313</td>\n",
       "      <td>2013-10-11 12:00:00+00:00</td>\n",
       "      <td>Художественный</td>\n",
       "      <td>АНО содействия развитию кинематографии \"Ангел-...</td>\n",
       "      <td>Россия</td>\n",
       "      <td>А.Атанесян</td>\n",
       "      <td>А.Атанесян, М.Бабаханов, Р.Бутко</td>\n",
       "      <td>«16+» - для детей старше 16 лет</td>\n",
       "      <td>0.0</td>\n",
       "      <td>...</td>\n",
       "      <td>79411900.0</td>\n",
       "      <td>Министерство культуры</td>\n",
       "      <td>8.1</td>\n",
       "      <td>драма,мелодрама</td>\n",
       "      <td>365353</td>\n",
       "      <td>2013</td>\n",
       "      <td>А.Атанесян</td>\n",
       "      <td>драма</td>\n",
       "      <td>52911900.0</td>\n",
       "      <td>33</td>\n",
       "    </tr>\n",
       "    <tr>\n",
       "      <td>1448</td>\n",
       "      <td>Бесславные придурки</td>\n",
       "      <td>111003314</td>\n",
       "      <td>2014-03-28 12:00:00+00:00</td>\n",
       "      <td>Художественный</td>\n",
       "      <td>ООО \"Компания \"АТК-Студио\"</td>\n",
       "      <td>Россия</td>\n",
       "      <td>А.Якимчук</td>\n",
       "      <td>А.Тютрюмов</td>\n",
       "      <td>«12+» - для детей старше 12 лет</td>\n",
       "      <td>0.0</td>\n",
       "      <td>...</td>\n",
       "      <td>37142857.0</td>\n",
       "      <td>Министерство культуры</td>\n",
       "      <td>NaN</td>\n",
       "      <td>NaN</td>\n",
       "      <td>28140</td>\n",
       "      <td>2014</td>\n",
       "      <td>А.Якимчук</td>\n",
       "      <td>NaN</td>\n",
       "      <td>11142857.0</td>\n",
       "      <td>70</td>\n",
       "    </tr>\n",
       "    <tr>\n",
       "      <td>1498</td>\n",
       "      <td>Невидимки</td>\n",
       "      <td>111004213</td>\n",
       "      <td>2013-09-10 12:00:00+00:00</td>\n",
       "      <td>Художественный</td>\n",
       "      <td>ООО \"Компания \"РЕАЛ-ДАКОТА\"</td>\n",
       "      <td>Россия</td>\n",
       "      <td>Р.Давлетьяров, С.Комаров</td>\n",
       "      <td>Р.Давлетьяров, А.Котелевский, А.Олейников</td>\n",
       "      <td>«12+» - для детей старше 12 лет</td>\n",
       "      <td>0.0</td>\n",
       "      <td>...</td>\n",
       "      <td>176023490.0</td>\n",
       "      <td>Фонд кино</td>\n",
       "      <td>5.3</td>\n",
       "      <td>комедия,фантастика</td>\n",
       "      <td>19957031</td>\n",
       "      <td>2013</td>\n",
       "      <td>Р.Давлетьяров</td>\n",
       "      <td>комедия</td>\n",
       "      <td>68175545.0</td>\n",
       "      <td>61</td>\n",
       "    </tr>\n",
       "    <tr>\n",
       "      <td>1524</td>\n",
       "      <td>БЕРЦЫ</td>\n",
       "      <td>111004314</td>\n",
       "      <td>2014-05-05 12:00:00+00:00</td>\n",
       "      <td>Художественный</td>\n",
       "      <td>ООО \"Студия \"Пассажир\"</td>\n",
       "      <td>Россия</td>\n",
       "      <td>Е.Миндадзе (псевдоним Катя Шагалова)</td>\n",
       "      <td>Л.Антонова</td>\n",
       "      <td>«16+» - для детей старше 16 лет</td>\n",
       "      <td>0.0</td>\n",
       "      <td>...</td>\n",
       "      <td>40574140.0</td>\n",
       "      <td>Министерство культуры</td>\n",
       "      <td>4.2</td>\n",
       "      <td>драма</td>\n",
       "      <td>55917</td>\n",
       "      <td>2014</td>\n",
       "      <td>Е.Миндадзе (псевдоним Катя Шагалова)</td>\n",
       "      <td>драма</td>\n",
       "      <td>12574140.0</td>\n",
       "      <td>69</td>\n",
       "    </tr>\n",
       "    <tr>\n",
       "      <td>1792</td>\n",
       "      <td>Братья Ч</td>\n",
       "      <td>111004414</td>\n",
       "      <td>2014-04-23 12:00:00+00:00</td>\n",
       "      <td>Художественный</td>\n",
       "      <td>ООО \"Студия \"Пассажир\"</td>\n",
       "      <td>Россия</td>\n",
       "      <td>М.Угаров</td>\n",
       "      <td>А.Миндадзе, Л.Антонова</td>\n",
       "      <td>«16+» - для детей старше 16 лет</td>\n",
       "      <td>0.0</td>\n",
       "      <td>...</td>\n",
       "      <td>40015122.0</td>\n",
       "      <td>Министерство культуры</td>\n",
       "      <td>6.4</td>\n",
       "      <td>драма</td>\n",
       "      <td>232100</td>\n",
       "      <td>2014</td>\n",
       "      <td>М.Угаров</td>\n",
       "      <td>драма</td>\n",
       "      <td>15015122.0</td>\n",
       "      <td>62</td>\n",
       "    </tr>\n",
       "  </tbody>\n",
       "</table>\n",
       "<p>5 rows × 21 columns</p>\n",
       "</div>"
      ],
      "text/plain": [
       "                    title   puNumber           show_start_date  \\\n",
       "1281        Пока еще жива  111005313 2013-10-11 12:00:00+00:00   \n",
       "1448  Бесславные придурки  111003314 2014-03-28 12:00:00+00:00   \n",
       "1498            Невидимки  111004213 2013-09-10 12:00:00+00:00   \n",
       "1524                БЕРЦЫ  111004314 2014-05-05 12:00:00+00:00   \n",
       "1792             Братья Ч  111004414 2014-04-23 12:00:00+00:00   \n",
       "\n",
       "                type                                        film_studio  \\\n",
       "1281  Художественный  АНО содействия развитию кинематографии \"Ангел-...   \n",
       "1448  Художественный                         ООО \"Компания \"АТК-Студио\"   \n",
       "1498  Художественный                        ООО \"Компания \"РЕАЛ-ДАКОТА\"   \n",
       "1524  Художественный                             ООО \"Студия \"Пассажир\"   \n",
       "1792  Художественный                             ООО \"Студия \"Пассажир\"   \n",
       "\n",
       "     production_country                              director  \\\n",
       "1281             Россия                            А.Атанесян   \n",
       "1448             Россия                             А.Якимчук   \n",
       "1498             Россия              Р.Давлетьяров, С.Комаров   \n",
       "1524             Россия  Е.Миндадзе (псевдоним Катя Шагалова)   \n",
       "1792             Россия                              М.Угаров   \n",
       "\n",
       "                                       producer  \\\n",
       "1281           А.Атанесян, М.Бабаханов, Р.Бутко   \n",
       "1448                                 А.Тютрюмов   \n",
       "1498  Р.Давлетьяров, А.Котелевский, А.Олейников   \n",
       "1524                                 Л.Антонова   \n",
       "1792                     А.Миндадзе, Л.Антонова   \n",
       "\n",
       "                      age_restriction  refundable_support  ...       budget  \\\n",
       "1281  «16+» - для детей старше 16 лет                 0.0  ...   79411900.0   \n",
       "1448  «12+» - для детей старше 12 лет                 0.0  ...   37142857.0   \n",
       "1498  «12+» - для детей старше 12 лет                 0.0  ...  176023490.0   \n",
       "1524  «16+» - для детей старше 16 лет                 0.0  ...   40574140.0   \n",
       "1792  «16+» - для детей старше 16 лет                 0.0  ...   40015122.0   \n",
       "\n",
       "           financing_source ratings              genres box_office  \\\n",
       "1281  Министерство культуры     8.1     драма,мелодрама     365353   \n",
       "1448  Министерство культуры     NaN                 NaN      28140   \n",
       "1498              Фонд кино     5.3  комедия,фантастика   19957031   \n",
       "1524  Министерство культуры     4.2               драма      55917   \n",
       "1792  Министерство культуры     6.4               драма     232100   \n",
       "\n",
       "      release_year                         main_director main_genre  \\\n",
       "1281          2013                            А.Атанесян      драма   \n",
       "1448          2014                             А.Якимчук        NaN   \n",
       "1498          2013                         Р.Давлетьяров    комедия   \n",
       "1524          2014  Е.Миндадзе (псевдоним Катя Шагалова)      драма   \n",
       "1792          2014                              М.Угаров      драма   \n",
       "\n",
       "     other_support  gov_support_rate(%)  \n",
       "1281    52911900.0                   33  \n",
       "1448    11142857.0                   70  \n",
       "1498    68175545.0                   61  \n",
       "1524    12574140.0                   69  \n",
       "1792    15015122.0                   62  \n",
       "\n",
       "[5 rows x 21 columns]"
      ]
     },
     "metadata": {},
     "output_type": "display_data"
    }
   ],
   "source": [
    "# расчет доли гос.поддержки от бюджета\n",
    "# в процентах, приведение результата к типу int\n",
    "df_support['gov_support_rate(%)'] = ((df_support['refundable_support'] \n",
    "                                  + df_support['nonrefundable_support']\n",
    "                                  )/ df_support['budget'] * 100).astype(int)\n",
    "display(df_support.head())"
   ]
  },
  {
   "cell_type": "markdown",
   "metadata": {},
   "source": [
    "Оценим полученные значения долей государственной поддержки. Построим гистограмму для даннных из столбца столбца `gov_support_rate(%)`."
   ]
  },
  {
   "cell_type": "code",
   "execution_count": 25,
   "metadata": {},
   "outputs": [
    {
     "data": {
      "image/png": "[encoded data removed]",
      "text/plain": [
       "<Figure size 432x288 with 1 Axes>"
      ]
     },
     "metadata": {
      "needs_background": "light"
     },
     "output_type": "display_data"
    }
   ],
   "source": [
    "# построение гистограммы с данными из gov_support_rate(%)\n",
    "ax = df_support['gov_support_rate(%)'].hist(bins=10)\n",
    "# параметры для осей X, Y и title\n",
    "ax.set(title='Гистограмма доли государственной поддержки №1', xlabel='%', ylabel='Количество')\n",
    "ax;"
   ]
  },
  {
   "cell_type": "markdown",
   "metadata": {},
   "source": [
    "Замечаем \"провал\" после 80% и небольшой набор значений около 100%. Возможно, это те восстановленные нами 17 значений, где бюджет равнялся сумме возвратных и невозвратных средств. Проверим это, построив гистограмму только для положительных значений дополнительной поддержки и оценим долю государственной поддержки в этом случае."
   ]
  },
  {
   "cell_type": "code",
   "execution_count": 26,
   "metadata": {},
   "outputs": [
    {
     "data": {
      "image/png": "[encoded data removed]",
      "text/plain": [
       "<Figure size 432x288 with 1 Axes>"
      ]
     },
     "metadata": {
      "needs_background": "light"
     },
     "output_type": "display_data"
    }
   ],
   "source": [
    "# построение гистограммы с данными из gov_support_rate(%)\n",
    "# для положительных значений other_support\n",
    "ax = df_support[df_support['other_support'] >= 0]['gov_support_rate(%)'].hist(bins=10)\n",
    "# параметры для осей X, Y и title\n",
    "ax.set(title='Гистограмма доли государственой поддержки №2', xlabel='%', ylabel='Количество')\n",
    "ax;"
   ]
  },
  {
   "cell_type": "markdown",
   "metadata": {},
   "source": [
    "Убеждаемся, что в этом случае \"провалов\" в гистограмме нет и значит значения около 100% давали только восстановленные нами значения. Поскольку они выбиваются из общей картины долей государственной поддержки, делаем вывод, что строки с несоответствием в столбцах с бюджетом и возвратными и невозвратными средствами являются выбросами и их можно удалить."
   ]
  },
  {
   "cell_type": "code",
   "execution_count": 27,
   "metadata": {},
   "outputs": [],
   "source": [
    "# датафрейм содержит только строки с положительными\n",
    "# значениями other_support\n",
    "df_support = df_support[df_support['other_support'] >= 0]"
   ]
  },
  {
   "cell_type": "markdown",
   "metadata": {},
   "source": [
    "***Вывод***\n",
    "\n"
   ]
  },
  {
   "cell_type": "markdown",
   "metadata": {},
   "source": [
    "Столбец `show_start_date`, содержащий дату премьеры фильма, был приведен к типу `datetime64`. Пропуски в столбцах таблицы были изучены и на данном этапе исследования оставлены без изменений. Явных дубликаты мы не обнаружили. Для дальнейшего использования в исследовании были добавлены новые столбцы, содержащие отдельно год проката фильма, имя главного режиссера и основной жанр. Также мы рассчитали долю государственной поддержки от общего бюджета фильма и поместили результат в таблицу."
   ]
  },
  {
   "cell_type": "markdown",
   "metadata": {
    "id": "6t4EukPLgFyV"
   },
   "source": [
    "## Исследовательский анализ данных для всех фильмов"
   ]
  },
  {
   "cell_type": "markdown",
   "metadata": {
    "id": "vAH8WCzugFyV"
   },
   "source": [
    "### Зависимость количества фильмов, вышедших в прокат, от года"
   ]
  },
  {
   "cell_type": "markdown",
   "metadata": {},
   "source": [
    "Определим сколько фильмов выходило каждый год и сколько из них показывали в кинотеатрах. Это позволит оценить долю фильмов с указанной информацией о прокате в кинотеатрах. "
   ]
  },
  {
   "cell_type": "code",
   "execution_count": 28,
   "metadata": {
    "id": "ABeV47y7gFyW"
   },
   "outputs": [
    {
     "data": {
      "text/html": [
       "<div>\n",
       "<style scoped>\n",
       "    .dataframe tbody tr th:only-of-type {\n",
       "        vertical-align: middle;\n",
       "    }\n",
       "\n",
       "    .dataframe tbody tr th {\n",
       "        vertical-align: top;\n",
       "    }\n",
       "\n",
       "    .dataframe thead th {\n",
       "        text-align: right;\n",
       "    }\n",
       "</style>\n",
       "<table border=\"1\" class=\"dataframe\">\n",
       "  <thead>\n",
       "    <tr style=\"text-align: right;\">\n",
       "      <th></th>\n",
       "      <th>title</th>\n",
       "      <th>box_office</th>\n",
       "      <th>rate(%)</th>\n",
       "    </tr>\n",
       "    <tr>\n",
       "      <th>release_year</th>\n",
       "      <th></th>\n",
       "      <th></th>\n",
       "      <th></th>\n",
       "    </tr>\n",
       "  </thead>\n",
       "  <tbody>\n",
       "    <tr>\n",
       "      <td>2010</td>\n",
       "      <td>985</td>\n",
       "      <td>105</td>\n",
       "      <td>10.66</td>\n",
       "    </tr>\n",
       "    <tr>\n",
       "      <td>2011</td>\n",
       "      <td>622</td>\n",
       "      <td>109</td>\n",
       "      <td>17.52</td>\n",
       "    </tr>\n",
       "    <tr>\n",
       "      <td>2012</td>\n",
       "      <td>593</td>\n",
       "      <td>128</td>\n",
       "      <td>21.59</td>\n",
       "    </tr>\n",
       "    <tr>\n",
       "      <td>2013</td>\n",
       "      <td>630</td>\n",
       "      <td>184</td>\n",
       "      <td>29.21</td>\n",
       "    </tr>\n",
       "    <tr>\n",
       "      <td>2014</td>\n",
       "      <td>807</td>\n",
       "      <td>279</td>\n",
       "      <td>34.57</td>\n",
       "    </tr>\n",
       "    <tr>\n",
       "      <td>2015</td>\n",
       "      <td>705</td>\n",
       "      <td>465</td>\n",
       "      <td>65.96</td>\n",
       "    </tr>\n",
       "    <tr>\n",
       "      <td>2016</td>\n",
       "      <td>818</td>\n",
       "      <td>526</td>\n",
       "      <td>64.30</td>\n",
       "    </tr>\n",
       "    <tr>\n",
       "      <td>2017</td>\n",
       "      <td>505</td>\n",
       "      <td>357</td>\n",
       "      <td>70.69</td>\n",
       "    </tr>\n",
       "    <tr>\n",
       "      <td>2018</td>\n",
       "      <td>891</td>\n",
       "      <td>475</td>\n",
       "      <td>53.31</td>\n",
       "    </tr>\n",
       "    <tr>\n",
       "      <td>2019</td>\n",
       "      <td>930</td>\n",
       "      <td>530</td>\n",
       "      <td>56.99</td>\n",
       "    </tr>\n",
       "  </tbody>\n",
       "</table>\n",
       "</div>"
      ],
      "text/plain": [
       "              title  box_office  rate(%)\n",
       "release_year                            \n",
       "2010            985         105    10.66\n",
       "2011            622         109    17.52\n",
       "2012            593         128    21.59\n",
       "2013            630         184    29.21\n",
       "2014            807         279    34.57\n",
       "2015            705         465    65.96\n",
       "2016            818         526    64.30\n",
       "2017            505         357    70.69\n",
       "2018            891         475    53.31\n",
       "2019            930         530    56.99"
      ]
     },
     "metadata": {},
     "output_type": "display_data"
    }
   ],
   "source": [
    "# сгруппируем данные о фильмах по году,\n",
    "# посчитаем количество фильмов,\n",
    "# посчитаем известные данные о сборах в к|т\n",
    "films_by_year = df.groupby('release_year'\n",
    "                          ).agg({\n",
    "                            'title': 'count',\n",
    "                            'box_office': 'count'})\n",
    "# создание столбца и расчет доли фильмов в к|m\n",
    "films_by_year['rate(%)'] = ((films_by_year['box_office'] \n",
    "                             / films_by_year['title']) * 100).round(2)\n",
    "# вывод новой таблицы\n",
    "display(films_by_year)"
   ]
  },
  {
   "cell_type": "markdown",
   "metadata": {},
   "source": [
    "С помощью полученных данных построим столбчатые графики, определяющие зависимость количества выпущенных всего фильмов и количества фильмов вышедших в прокат в кинотеатрах и их доли от года."
   ]
  },
  {
   "cell_type": "code",
   "execution_count": 29,
   "metadata": {},
   "outputs": [
    {
     "data": {
      "image/png": "[encoded data removed]",
      "text/plain": [
       "<Figure size 864x360 with 1 Axes>"
      ]
     },
     "metadata": {
      "needs_background": "light"
     },
     "output_type": "display_data"
    },
    {
     "data": {
      "image/png": "[encoded data removed]",
      "text/plain": [
       "<Figure size 864x360 with 1 Axes>"
      ]
     },
     "metadata": {
      "needs_background": "light"
     },
     "output_type": "display_data"
    },
    {
     "data": {
      "image/png": "[encoded data removed]",
      "text/plain": [
       "<Figure size 864x360 with 1 Axes>"
      ]
     },
     "metadata": {
      "needs_background": "light"
     },
     "output_type": "display_data"
    }
   ],
   "source": [
    "# словарь для title\n",
    "titles = {\n",
    "    'title': \"Количество выпущенных фильмов\",\n",
    "    'box_office': \"Количество фильмов, вышедших в прокат в кинотеатрах\",\n",
    "    'rate(%)': \"Доля фильмов с информацией о прокате в кинотеатрах\"\n",
    "}\n",
    "# цикл для построения столбчатых графиков\n",
    "# по столбцам title, box_office, rate(%)\n",
    "for col, title in titles.items():\n",
    "    films_by_year[col].plot(\n",
    "                        kind='bar', \n",
    "                        grid=True, \n",
    "                        figsize=(12, 5), \n",
    "                        legend=True,\n",
    "                        title=title)\n",
    "    plt.show()"
   ]
  },
  {
   "cell_type": "markdown",
   "metadata": {},
   "source": [
    "Больше всего фильмов выпущено в 2010 году и меньше всего в 2017 году. Несмотря на то, что в 2010 году было выпущено наибольшее количество фильмов, в этот год в кинотеатрах было показано наименьшее количество из них - всего 10,7%. А в 2017 году, когда число выпущенных фильмов было наименьшим в сравнении с другими годами, в кинотетрах вышло более 70% из них.\n",
    "Таким образом, можно предположить, что в 2017 году произошли какие-то изменения на рынке кинематографа."
   ]
  },
  {
   "cell_type": "markdown",
   "metadata": {
    "id": "BEOdcIrIgFyW"
   },
   "source": [
    "### Максимальная и минимальная сумма сборов"
   ]
  },
  {
   "cell_type": "markdown",
   "metadata": {
    "id": "tfEhofYvgFyX"
   },
   "source": [
    "Из соответствующего графика выше замечаем тенденцию к увеличению количества вышедших фильмов в прокат в кинотеатрах из года в год. Но в 2017 году происходит резкое падение числа фильмов, вышедших в кино. Определим в каком году наблюдались максимальная и минимальная сумма сборов."
   ]
  },
  {
   "cell_type": "code",
   "execution_count": 30,
   "metadata": {},
   "outputs": [
    {
     "data": {
      "image/png": "[encoded data removed]",
      "text/plain": [
       "<Figure size 1008x360 with 1 Axes>"
      ]
     },
     "metadata": {
      "needs_background": "light"
     },
     "output_type": "display_data"
    }
   ],
   "source": [
    "# группируем данные по году,\n",
    "# считаем сумму сборов, сортируем\n",
    "df.groupby('release_year')['box_office'].sum().plot(kind='bar', \n",
    "                     grid=True, \n",
    "                     figsize=(14, 5), \n",
    "                     title='Зависимость суммы сборов от года');"
   ]
  },
  {
   "cell_type": "markdown",
   "metadata": {},
   "source": [
    "Максимальная сумма сборов была достигнута в 2018 году - 49 млр. руб., а минимальная - в 2010 году - 2.5 млн. руб. Низкие показатели сборов с 2010 года по 2014 год могут говорить о том, что данных о суммах сборов за этот период недостаточно в нашем наборе данных."
   ]
  },
  {
   "cell_type": "markdown",
   "metadata": {
    "id": "G-7qS-N-gFyY"
   },
   "source": [
    "### Среднее и медианное значение сборов для каждого года"
   ]
  },
  {
   "cell_type": "markdown",
   "metadata": {},
   "source": [
    "Теперь оценим средние и медианные значения сборов в кинотеатрах для каждого года. "
   ]
  },
  {
   "cell_type": "code",
   "execution_count": 31,
   "metadata": {
    "id": "jmp-rgg9gFyY"
   },
   "outputs": [
    {
     "data": {
      "image/png": "[encoded data removed]",
      "text/plain": [
       "<Figure size 1008x360 with 1 Axes>"
      ]
     },
     "metadata": {
      "needs_background": "light"
     },
     "output_type": "display_data"
    }
   ],
   "source": [
    "# группируем данные по году,\n",
    "# определяем среднее и медианное значения по сборам\n",
    "df.pivot_table(index='release_year', \n",
    "               values='box_office', \n",
    "               aggfunc=['mean', 'median']\n",
    "              ).plot(kind='bar', \n",
    "                     grid=True, \n",
    "                     figsize=(14, 5), \n",
    "                     legend=False,\n",
    "                     title='Среднее и медианное значения сборов в кинотеатрах по годам');"
   ]
  },
  {
   "cell_type": "markdown",
   "metadata": {},
   "source": [
    "Среднее значение гораздо больше медианного значения, это может означать, что в прокате этих лет выходили фильмы, сборы которых оказались значительно выше, чем у других (так называемые кассовые фильмы, или блокбастеры). Замечаем, что максимальное среднее и медианное значения сборов наблюдается в 2017 году. Сумма сборов с 2016 года по 2018 год сравнительна одинакова (как уже определили по графику выше), но в 2017 году в прокат вышло меньше фильмов, поэтому в среднем каждый фильм 2017 года получил больше сборов."
   ]
  },
  {
   "cell_type": "markdown",
   "metadata": {
    "id": "Ok89WFwJgFyZ"
   },
   "source": [
    "### Влияние возрастного ограничения на сборы фильма в прокате"
   ]
  },
  {
   "cell_type": "markdown",
   "metadata": {},
   "source": [
    "Исследуем как возрастное ограничение аудитории влияет на сборы фильма в прокате. Определим какие категории возрастных ограничений используются в нашем наборе данных."
   ]
  },
  {
   "cell_type": "code",
   "execution_count": 32,
   "metadata": {
    "id": "jsSbEqfjgFya"
   },
   "outputs": [
    {
     "data": {
      "text/html": [
       "<div>\n",
       "<style scoped>\n",
       "    .dataframe tbody tr th:only-of-type {\n",
       "        vertical-align: middle;\n",
       "    }\n",
       "\n",
       "    .dataframe tbody tr th {\n",
       "        vertical-align: top;\n",
       "    }\n",
       "\n",
       "    .dataframe thead th {\n",
       "        text-align: right;\n",
       "    }\n",
       "</style>\n",
       "<table border=\"1\" class=\"dataframe\">\n",
       "  <thead>\n",
       "    <tr style=\"text-align: right;\">\n",
       "      <th></th>\n",
       "      <th>age_restriction</th>\n",
       "    </tr>\n",
       "  </thead>\n",
       "  <tbody>\n",
       "    <tr>\n",
       "      <td>«16+» - для детей старше 16 лет</td>\n",
       "      <td>2851</td>\n",
       "    </tr>\n",
       "    <tr>\n",
       "      <td>«18+» - запрещено для детей</td>\n",
       "      <td>1605</td>\n",
       "    </tr>\n",
       "    <tr>\n",
       "      <td>«12+» - для детей старше 12 лет</td>\n",
       "      <td>1593</td>\n",
       "    </tr>\n",
       "    <tr>\n",
       "      <td>«0+» - для любой зрительской аудитории</td>\n",
       "      <td>811</td>\n",
       "    </tr>\n",
       "    <tr>\n",
       "      <td>«6+» - для детей старше 6 лет</td>\n",
       "      <td>626</td>\n",
       "    </tr>\n",
       "  </tbody>\n",
       "</table>\n",
       "</div>"
      ],
      "text/plain": [
       "                                        age_restriction\n",
       "«16+» - для детей старше 16 лет                    2851\n",
       "«18+» - запрещено для детей                        1605\n",
       "«12+» - для детей старше 12 лет                    1593\n",
       "«0+» - для любой зрительской аудитории              811\n",
       "«6+» - для детей старше 6 лет                       626"
      ]
     },
     "metadata": {},
     "output_type": "display_data"
    }
   ],
   "source": [
    "# вывод уникальных значений столбца age_restriction\n",
    "display(pd.DataFrame(df['age_restriction'].value_counts()))"
   ]
  },
  {
   "cell_type": "markdown",
   "metadata": {},
   "source": [
    "Очевидно, что основная масса фильмов, вышедших в прокат, предназначена для зрителей старше 16 лет."
   ]
  },
  {
   "cell_type": "markdown",
   "metadata": {},
   "source": [
    "Для исследования зависимости сборов от возрастного ограничения аудитории выберем период с 2015 по 2019 год."
   ]
  },
  {
   "cell_type": "code",
   "execution_count": 33,
   "metadata": {},
   "outputs": [],
   "source": [
    "# выберем строки таблицы с фильмами 2015-2019 гг.\n",
    "df_age = df.loc[(df['release_year'] >= 2015) & (df['release_year'] <= 2019),:]"
   ]
  },
  {
   "cell_type": "code",
   "execution_count": 34,
   "metadata": {},
   "outputs": [
    {
     "data": {
      "image/png": "[encoded data removed]",
      "text/plain": [
       "<Figure size 1008x360 with 1 Axes>"
      ]
     },
     "metadata": {
      "needs_background": "light"
     },
     "output_type": "display_data"
    }
   ],
   "source": [
    "# группируем данные по возрастной категории и году,\n",
    "# считаем среднее значение по сборам,\n",
    "# строим график их зависимости\n",
    "df_age.pivot_table(index=['age_restriction'], \n",
    "                   columns=['release_year'],\n",
    "                   values='box_office', \n",
    "                   aggfunc=['mean']\n",
    "                   ).plot( \n",
    "                    kind='bar',\n",
    "                     grid=True, \n",
    "                     figsize=(14, 5), \n",
    "                     legend=True,\n",
    "                     title='Влияние возрастного ограничения аудитории на сборы по годам');"
   ]
  },
  {
   "cell_type": "markdown",
   "metadata": {},
   "source": [
    "По полученному графику сделаем вывод, что возрастное ограничение аудтории влияет на сборы фильмов в прокате. Видим, что фильмы в категории \"6+\" и \"12+\" имеют средние сборы выше, чем фильмы с другими категориями. Несмотря на то, что фильмов в категории \"6+\" вышло меньше всего, сборы у них сравнительно высокие. Можно предположить, что под данной категорией выходят кассовые семейные картины, которые пользуются большой популярностью у зрителей. \n",
    "\n",
    "Картина сборов в каждой из возрастных категорий меняется в зависимости от года, но явной закономерности нет. Явный пик сборов в 2017 году в каждой из возрастных категорий можно объяснить меньшим количеством фильмов, вышедших на экран или выходом очень популярных и долгожданных фильмов, которые имели очень большие сборы."
   ]
  },
  {
   "cell_type": "markdown",
   "metadata": {},
   "source": [
    "Теперь узнаем, фильмы с каким возрастным ограничением собрали больше всего денег в прокате в период с 2015 по 2019 годы."
   ]
  },
  {
   "cell_type": "code",
   "execution_count": 35,
   "metadata": {},
   "outputs": [
    {
     "data": {
      "image/png": "[encoded data removed]",
      "text/plain": [
       "<Figure size 1008x360 with 1 Axes>"
      ]
     },
     "metadata": {
      "needs_background": "light"
     },
     "output_type": "display_data"
    }
   ],
   "source": [
    "# группируем данные по возрастной категории,\n",
    "# считаем сумму сборов,\n",
    "# строим график их зависимости\n",
    "df_age.groupby('age_restriction')['box_office'].sum().sort_values(\n",
    "              ascending=False\n",
    "              ).plot(kind='bar', \n",
    "                grid=True, \n",
    "                figsize=(14, 5), \n",
    "                legend=False,\n",
    "                title='Общие сборы по возрастному ограничению аудитории');"
   ]
  },
  {
   "cell_type": "markdown",
   "metadata": {},
   "source": [
    "Очевидно, что больше всего денег в прокате получают фильмы с возврастной категорией \"16+\", но как обнаружено выше, таких фильмов и выходит в прокат больше. Самые низкие сборы у категории \"0+\", что может объясняться непопулярностью таких фильмов у аудитории. Обычно эту категорию присваивают семейным комедиям и мультфильмам. Также фильмы категории \"18+\" имеет сборы ниже, чем под категориями выше \"6+\". Можно предполагать, что на такие картины зрители ходят без детей, что сокращает размер сборов."
   ]
  },
  {
   "cell_type": "markdown",
   "metadata": {},
   "source": [
    "***Вывод***\n",
    "\n",
    "Сравнив число выпущенных всего фильмов с их числом в прокате мы определили, что количество фильмов, вышедших в прокат в кинотеатрах, увеличивалось из года в год, но в 2017 году, вероятно, произошли изменения на рынке и число фильмов в прокате значительно уменьшилось. Максимальная сумма сборов была достигнута в 2018 году - 49 млр. руб., а минимальная - в 2010 году - 2.5 млн. руб.(но здесь, возможно, недостаточно данных). \n",
    "\n",
    "Мы обнаружили большую разницу между средним и медианным значением сборов за каждый год, что может означать, что наибольшее количество денег из года в год собирают единичные блокбастеры. \n",
    "\n",
    "Наконец, оценив влияние возрастного ограничения на сборы, мы можем сказать, что в период с 2015 по 2019 год возрастное ограничение аудитории влияло на сборы фильмов в прокате. Фильмы в категории \"6+\" и \"12+\" имели средние сборы выше, чем фильмы с другими категориями, а больше всего денег в прокате получают фильмы с возврастной категорией \"16+\", но фильмов этой категории и выходило в прокат больше по количеству."
   ]
  },
  {
   "cell_type": "markdown",
   "metadata": {
    "id": "l_Kg6Ku4gFya"
   },
   "source": [
    "## Исследовательский анализ данных для фильмов, которые получили государственную поддержку"
   ]
  },
  {
   "cell_type": "markdown",
   "metadata": {},
   "source": [
    "Вернемся к набору данных с фильмами `df_support`, которые имели государственную поддержку и исследуем его."
   ]
  },
  {
   "cell_type": "code",
   "execution_count": 36,
   "metadata": {
    "id": "W9QKpjUdgFyb"
   },
   "outputs": [
    {
     "name": "stdout",
     "output_type": "stream",
     "text": [
      "<class 'pandas.core.frame.DataFrame'>\n",
      "Int64Index: 315 entries, 1281 to 7478\n",
      "Data columns (total 21 columns):\n",
      "title                    315 non-null object\n",
      "puNumber                 315 non-null Int64\n",
      "show_start_date          315 non-null datetime64[ns, UTC]\n",
      "type                     315 non-null object\n",
      "film_studio              315 non-null object\n",
      "production_country       315 non-null object\n",
      "director                 315 non-null object\n",
      "producer                 313 non-null object\n",
      "age_restriction          315 non-null object\n",
      "refundable_support       315 non-null float64\n",
      "nonrefundable_support    315 non-null float64\n",
      "budget                   315 non-null float64\n",
      "financing_source         315 non-null object\n",
      "ratings                  300 non-null float64\n",
      "genres                   300 non-null object\n",
      "box_office               301 non-null Int64\n",
      "release_year             315 non-null int64\n",
      "main_director            315 non-null object\n",
      "main_genre               300 non-null object\n",
      "other_support            315 non-null float64\n",
      "gov_support_rate(%)      315 non-null int64\n",
      "dtypes: Int64(2), datetime64[ns, UTC](1), float64(5), int64(2), object(11)\n",
      "memory usage: 54.8+ KB\n"
     ]
    }
   ],
   "source": [
    "# получение общей информации о данных в df_support\n",
    "df_support.info()"
   ]
  },
  {
   "cell_type": "markdown",
   "metadata": {},
   "source": [
    "### Зависимость размера государственной поддержки от года"
   ]
  },
  {
   "cell_type": "markdown",
   "metadata": {},
   "source": [
    "Посчитаем общую сумму средств, выделенных на поддержку кино."
   ]
  },
  {
   "cell_type": "code",
   "execution_count": 37,
   "metadata": {},
   "outputs": [
    {
     "name": "stdout",
     "output_type": "stream",
     "text": [
      "Общая сумма государственной поддержки кино: 18,808,718,847 руб.\n"
     ]
    }
   ],
   "source": [
    "# сумма средств гос. поддержки в support_finance\n",
    "df_support['support_finance'] = df_support['refundable_support'] + df_support['nonrefundable_support']\n",
    "# вывод общей суммы гос. поддержки\n",
    "gov_sup = df_support['support_finance'].sum()\n",
    "print(\"Общая сумма государственной поддержки кино: {:,.0f} руб.\".format(gov_sup))"
   ]
  },
  {
   "cell_type": "markdown",
   "metadata": {},
   "source": [
    "А теперь посмотрим, как эта сумма распределялась с 2010 по 2019 годы."
   ]
  },
  {
   "cell_type": "code",
   "execution_count": 38,
   "metadata": {},
   "outputs": [
    {
     "data": {
      "image/png": "[encoded data removed]",
      "text/plain": [
       "<Figure size 1008x360 with 1 Axes>"
      ]
     },
     "metadata": {
      "needs_background": "light"
     },
     "output_type": "display_data"
    }
   ],
   "source": [
    "# группируем данные по году,\n",
    "# считаем сумму гос. поддержки,\n",
    "# строим график их зависимости\n",
    "df_support.groupby('release_year')['support_finance'].sum(\n",
    "                    ).plot(kind='bar', \n",
    "                     grid=True, \n",
    "                     figsize=(14, 5), \n",
    "                     title='Зависимость суммы государственной поддержки от года');"
   ]
  },
  {
   "cell_type": "markdown",
   "metadata": {},
   "source": [
    "Видим, что информации о выделенных средствах за период с 2010 по 2012 год нет. Это может указывать на то, что в эти годы средства не были выделены или что в нашем наборе данных эти значения не указаны.\n",
    "\n",
    "Тем не менее видим тенденцию к росту выделяемых средств поддержки от года в год, но в 2017 и 2018 году сумма государственной поддержки была снижена и вновь значительно возросла в 2019 году. Возможно, это связано с известной в последние годы идеей популяризации российского кинематографа и увеличения количества российских фильмов на экранах в связи с более сильной финансовой поддержкой."
   ]
  },
  {
   "cell_type": "markdown",
   "metadata": {},
   "source": [
    "### Зависимость государственной поддержки от источника финансирования"
   ]
  },
  {
   "cell_type": "markdown",
   "metadata": {},
   "source": [
    "Рассмотрим какие организации являлись источниками государственного финансирования для фильмов из нашего набора данных."
   ]
  },
  {
   "cell_type": "code",
   "execution_count": 39,
   "metadata": {},
   "outputs": [
    {
     "data": {
      "text/plain": [
       "Министерство культуры               163\n",
       "Фонд кино                           131\n",
       "Министерство культуры, Фонд кино     21\n",
       "Name: financing_source, dtype: int64"
      ]
     },
     "execution_count": 39,
     "metadata": {},
     "output_type": "execute_result"
    }
   ],
   "source": [
    "# проверка уникальных значений столбца financing_source\n",
    "df_support['financing_source'].value_counts()"
   ]
  },
  {
   "cell_type": "markdown",
   "metadata": {},
   "source": [
    "Отмечаем, что основных источников два - \"Министерство культуры\" и \"Фонд кино\". Лишь небольшое количество картин эти организации финансировали совместно."
   ]
  },
  {
   "cell_type": "markdown",
   "metadata": {},
   "source": [
    "Оценим объем средств, выделенных каждым источником финансирования."
   ]
  },
  {
   "cell_type": "code",
   "execution_count": 40,
   "metadata": {},
   "outputs": [
    {
     "data": {
      "image/png": "[encoded data removed]",
      "text/plain": [
       "<Figure size 1008x360 with 1 Axes>"
      ]
     },
     "metadata": {
      "needs_background": "light"
     },
     "output_type": "display_data"
    }
   ],
   "source": [
    "# группируем данные по источнику финансирования,\n",
    "# считаем сумму поддержки,\n",
    "# строим график их зависимости\n",
    "df_support.groupby('financing_source')['support_finance'].sum(\n",
    "                    ).plot(kind='bar', \n",
    "                     grid=True, \n",
    "                     figsize=(14, 5), \n",
    "                     title='Зависимость суммы государственной поддержки от источника финансирования');"
   ]
  },
  {
   "cell_type": "markdown",
   "metadata": {},
   "source": [
    "Видим, что \"Фонд кино\" выделяет почти в три раза больше средств на поддержку российского кинематографа, чем \"Министерство культуры\". Также рассмотрим как менялся размер поддержки этими организациями в зависимости от года."
   ]
  },
  {
   "cell_type": "code",
   "execution_count": 41,
   "metadata": {},
   "outputs": [
    {
     "data": {
      "image/png": "[encoded data removed]",
      "text/plain": [
       "<Figure size 1008x360 with 1 Axes>"
      ]
     },
     "metadata": {
      "needs_background": "light"
     },
     "output_type": "display_data"
    }
   ],
   "source": [
    "# группируем данные по году и источнику финансирования,\n",
    "# считаем сумму поддержки,\n",
    "# строим график их зависимости\n",
    "df_support.pivot_table(\n",
    "        index=['release_year'], \n",
    "        columns=['financing_source'],\n",
    "        values='support_finance',\n",
    "        aggfunc='sum').plot(\n",
    "                              kind='bar', \n",
    "                              grid=True, \n",
    "                              figsize=(14, 5), \n",
    "                              title='Зависимость суммы гос. поддержки от источника финансирования и года');"
   ]
  },
  {
   "cell_type": "markdown",
   "metadata": {},
   "source": [
    "В целом замечаем, что с каждым годом организации выделяют все большие суммы на поддержку российского кинематографа. Исключением для \"Фонда кино\" стал 2018 год, а для \"Министерства культуры\" - 2017 год, когда выделенные средства были несколько снижены."
   ]
  },
  {
   "cell_type": "markdown",
   "metadata": {},
   "source": [
    "### Окупаемость и прибыльность фильмов с государственной поддержкой"
   ]
  },
  {
   "cell_type": "markdown",
   "metadata": {},
   "source": [
    "Главным вопросом является окупаются ли фильмы с государственной поддержкой. Для фильмов с государственной поддержкой, у которых известны сборы, определим насколько успешно они вышли в прокат."
   ]
  },
  {
   "cell_type": "code",
   "execution_count": 42,
   "metadata": {},
   "outputs": [
    {
     "data": {
      "image/png": "[encoded data removed]",
      "text/plain": [
       "<Figure size 1008x360 with 1 Axes>"
      ]
     },
     "metadata": {
      "needs_background": "light"
     },
     "output_type": "display_data"
    }
   ],
   "source": [
    "# вычислим прибыль каждого фильма\n",
    "df_support['profit'] = df_support['box_office'] - df_support['budget']\n",
    "# сгруппируем данные по году, вычислим число фильмов и\n",
    "# сколько из них имеют прибыль\n",
    "df_rate = df_support.groupby('release_year').agg({\n",
    "    'title': 'count',\n",
    "    'profit': lambda x: (x > 0).sum()})\n",
    "# вычислим долю окупившихся фильмов для каждого года\n",
    "df_rate['rate(%)'] = ((df_rate['profit'] / df_rate['title']) * 100).round(2)\n",
    "# строим график зависимости доли прибыли от года\n",
    "df_rate['rate(%)'].plot(kind='bar', \n",
    "                     grid=True, \n",
    "                     figsize=(14, 5), \n",
    "                     title='Доля окупившихся фильмов с государственной поддержкой');"
   ]
  },
  {
   "cell_type": "markdown",
   "metadata": {},
   "source": [
    "Согласно графику, наибольшее количество фильмов с государственной поддержкой - 33% - окупились за обозначенный период, это произошло в 2017 году. Сравнительно такое же значение сохранялось и в 2018 году, но в 2019 году окупаемость фильмов значительно снизилась до 16%. Но в 2019 году мы наблюдали рекордно высокое значение государственной поддержки от \"Фонда кино\". Таким образом, только часть фильмов с государственной поддержкой окупается, основная же масса фильмов не имеет прибыли."
   ]
  },
  {
   "cell_type": "markdown",
   "metadata": {},
   "source": [
    "Для окупившихся фильмов определим насколько они были успешны в плане прибыли."
   ]
  },
  {
   "cell_type": "code",
   "execution_count": 43,
   "metadata": {},
   "outputs": [
    {
     "data": {
      "image/png": "[encoded data removed]",
      "text/plain": [
       "<Figure size 432x288 with 1 Axes>"
      ]
     },
     "metadata": {
      "needs_background": "light"
     },
     "output_type": "display_data"
    }
   ],
   "source": [
    "# вычисляем процент окупаемости,\n",
    "# строим гистограмму этим по значениям\n",
    "ax = (((df_support['box_office'] / df_support['budget']) - 1) * 100).hist(bins=20, range=(0, 2000))\n",
    "# параметры для осей X, Y и title\n",
    "ax.set(title='Гистограмма процента окупаемости', xlabel='%', ylabel='Количество фильмов')\n",
    "ax;"
   ]
  },
  {
   "cell_type": "markdown",
   "metadata": {},
   "source": [
    "Отмечаем, что большинство окупившихся фильмов с государственной поддержкой имеют прибыльность до 200% (что значит, что такие фильмы заработали чистую прибыль в размере двух своих бюджетов), но замечаем отдельные кинокартины с рекордными показателями прибыли в более чем 1750%."
   ]
  },
  {
   "cell_type": "markdown",
   "metadata": {},
   "source": [
    "### Рейтинг и жанры фильмов с государственной поддержкой"
   ]
  },
  {
   "cell_type": "markdown",
   "metadata": {},
   "source": [
    "Рассмотрим какой рейтинг имеют фильмы с государственной поддержкой, интересны ли они зрителю в той же степени как и фильмы без такой поддержки."
   ]
  },
  {
   "cell_type": "code",
   "execution_count": 44,
   "metadata": {},
   "outputs": [
    {
     "data": {
      "image/png": "[encoded data removed]",
      "text/plain": [
       "<Figure size 1008x360 with 1 Axes>"
      ]
     },
     "metadata": {
      "needs_background": "light"
     },
     "output_type": "display_data"
    }
   ],
   "source": [
    "# объединение группировок по году и расчет среднего\n",
    "# рейтинга для фильмов с поддержкой и без,\n",
    "# построение графика по этим значениям\n",
    "pd.concat([\n",
    "    df.groupby('release_year')['ratings'].mean().rename(\"general_rating\"), \n",
    "    df_support.groupby('release_year')['ratings'].mean()], axis=1\n",
    "    ).plot(kind='bar', \n",
    "           grid=True, \n",
    "           figsize=(14, 5), \n",
    "           title='Сравнение рейтинга фильмов с государственной поддержкой с рейтингом фильмов без поддержки');"
   ]
  },
  {
   "cell_type": "markdown",
   "metadata": {},
   "source": [
    "Оценим результат в период с 2013 по 2019 годы, так как значения рейтинга для фильмов с гос. поддержкой для более раннего периода нам недоступны. Мы видим, что рейтинги фильмов с поддержкой и без нее отличаются незначительно и держатся на отметке около 6 пунктов. Тем не менее, в среднем фильмы без государственной поддержки имеют чуть более высокий рейтинг. Таким образом, можно сказать, что фильмы, поддерживаемые государственными организациями не менее интересны зрителю, чем другие."
   ]
  },
  {
   "cell_type": "markdown",
   "metadata": {},
   "source": [
    "Посмотрим, какие жанры приобладают в фильмах, которые выпущены с государственной поддержкой."
   ]
  },
  {
   "cell_type": "code",
   "execution_count": 45,
   "metadata": {},
   "outputs": [
    {
     "data": {
      "image/png": "[encoded data removed]",
      "text/plain": [
       "<Figure size 1008x360 with 1 Axes>"
      ]
     },
     "metadata": {
      "needs_background": "light"
     },
     "output_type": "display_data"
    }
   ],
   "source": [
    "# группируем данные по основному жанру,\n",
    "# считаем количество фильмов,\n",
    "# строим график зависимости\n",
    "df_support.groupby('main_genre')['title'].count().sort_values(\n",
    "                    ascending=False).head(10).plot(kind='bar', \n",
    "                                                   grid=True, \n",
    "                                                   figsize=(14, 5), \n",
    "                                                   title='Жанры фильмов с государственной поддержкой');"
   ]
  },
  {
   "cell_type": "markdown",
   "metadata": {},
   "source": [
    "Делаем вывод, фильмы с государственной поддержкой выпускаются в прокат в основном в двух жанрах - \"драма\" и \"комедия\"."
   ]
  },
  {
   "cell_type": "markdown",
   "metadata": {},
   "source": [
    "Также выясним для какой возрастной аудитории выходят в прокат фильмы при государственной поддержке."
   ]
  },
  {
   "cell_type": "code",
   "execution_count": 46,
   "metadata": {},
   "outputs": [
    {
     "data": {
      "image/png": "[encoded data removed]",
      "text/plain": [
       "<Figure size 1008x360 with 1 Axes>"
      ]
     },
     "metadata": {
      "needs_background": "light"
     },
     "output_type": "display_data"
    }
   ],
   "source": [
    "# группируем данные по возрастному ограничению,\n",
    "# считаем количество фильмов,\n",
    "# строим график зависимости\n",
    "df_support.groupby('age_restriction')['title'].count().sort_values(\n",
    "                    ascending=False).plot(kind='bar', \n",
    "                                          grid=True, \n",
    "                                          figsize=(14, 5), \n",
    "                                          title='Возрастные ограничения для фильмов с государственной поддержкой');"
   ]
  },
  {
   "cell_type": "markdown",
   "metadata": {},
   "source": [
    "Отмечаем, что в основном фильмы при государственной поддержке выпускаются для аудитории \"12+\" и \"16+\". Семейных кинокартин категории \"0+\", \"6+\" и фильмов для взрослой аудитории выпускается значительно меньше."
   ]
  },
  {
   "cell_type": "markdown",
   "metadata": {},
   "source": [
    "***Вывод***\n",
    "\n",
    "Мы рассмотрели зависимость размера государственной поддержки от года и отметили тенденцию к росту выделяемых средств поддержки от года в год. Но в 2017 и 2018 году сумма государственной поддержки была снижена и вновь значительно возросла в 2019 году. Возможно, это связано с продвижением российского кинематографа и увеличения количества российских фильмов на экранах кинотеатров последние годы.\n",
    "\n",
    "Оценив источники финансирования, мы выяснили, что \"Фонд кино\" выделяет почти в три раза больше средств на поддержку российского кинематографа, чем \"Министерство культуры\". При такой поддержке выпускаются в прокат фильмы в основном в двух жанрах - \"драма\" и \"комедия\".\n",
    "\n",
    "Мы выяснили, что наибольшее количество фильмов с государственной поддержкой - 33% - окупились в 2017 году. Сравнительно такое же значение сохранялось и в 2018 году, но в 2019 году окупаемость фильмов значительно снизилась до 16%. Можно сказать, что большой процент фильмов с государственной поддержкой в среднем не окупаются.\n",
    "\n",
    "Сравнив средние рейтинги фильмов с поддержкой и без нее мы обнаружили, что они отличаются незначительно и держатся на отметке около 6 пунктов. Это позволяет сказать, что фильмы, поддерживаемые государственными организациями не менее интересны зрителю, чем другие."
   ]
  },
  {
   "cell_type": "markdown",
   "metadata": {
    "id": "V2gYwMcPgFyd"
   },
   "source": [
    "## Общий вывод"
   ]
  },
  {
   "cell_type": "markdown",
   "metadata": {},
   "source": [
    "Поскольку данные о фильмах российского кинопроката были получены из двух файлов, в процессе обзора данных мы объединили датасеты в одну таблицу. В рамках исследования мы провели предобработку предоставленных данных. Некорректные типы данных в столбцах были заменены и стали пригодны для дальнейшей обработки. Также были исправлены ошибки в категориальных столбцах таблицы. Для последующего использования мы произвели некоторые расчеты по имеющимся значениям и добавили их в наш набор данных. Таким образом, данные в таблице были должным образом подготовлены к проверкам зависимостей.\n",
    "\n",
    "В рамках задач исследования мы изучили сколько фильмов выходило в прокат каждый год за период 2010-2019гг. Мы обнаружили, что количество фильмов, вышедших в прокат в кинотеатрах увеличивалось из года в год, но в 2017 году, вероятно, произошли изменения на рынке и число фильмов в прокате значительно уменьшилось. Тем не менее в этот год вышла в прокат рекордная доля выпущенных фильмов - 70%.\n",
    "\n",
    "Мы оценили как менялась сумма сборов за прокат фильмов по годам. В рамках этой задачи было определено, что с 2014 года сумма сборов росла и достигла максимума в 2018 году - 49 млр. руб. Также мы обнаружили большую разницу между средним и медианным значением сборов за каждый год, что означает, что наибольшее количество денег из года в год собирают единичные кинокартины.\n",
    "\n",
    "Изучив влияние возрастного ограничения аудитории мы выяснили, что основная масса фильмов, вышедших в прокат, предназначена для зрителей старше 16 лет. В период с 2015 по 2019 год возрастное ограничение аудтории влияло на сборы фильмов в прокате следующим образом: фильмы в категории \"6+\" и \"12+\" имели средние сборы выше, чем фильмы с другими категориями. Дополнительно обнаружено, что больше всего денег в прокате получают фильмы с возврастной категорией \"16+\", но фильмов этой категории и выходит в прокат больше по количеству. Самые низкие сборы у категории \"0+\", что может объясняться непопулярностью таких фильмов у аудитории и низким числом таких картин. \n",
    "\n",
    "Отдельной задачей исследования было оценить насколько фильмы с государственной поддержкой интересны зрителю и какие у этих фильмов есть особенности финансирования. \n",
    "\n",
    "Мы отметили тенденцию к росту выделяемых средств поддержки от года в год, несмотря на то, что в 2017 и 2018 году сумма государственной поддержки была снижена и вновь значительно возросла в 2019 году. Возможно, это связано с идеей популяризации российского кинематографа и увеличения количества российских фильмов на экранах кинотеатров.\n",
    "\n",
    "В рамках изучения окупаемости фильмов с государственной поддержкой мы определили долю фильмов, которые собрали в кинотеатрах больше денег, чем потратили на создание картины. Согласно исследованию наибольшее количество фильмов с государственной поддержкой - 33% - окупились в 2017 году. Сравнительно такое же значение сохранялось и в 2018 году, но в 2019 году окупаемость фильмов значительно снизилась до 16%. Можно сказать, что большой процент фильмов с государственной поддержкой в среднем не окупаются.\n",
    "\n",
    "Мы сделали заключение, что фильмы с государственной поддержкой выпускаются в прокат в основном в двух жанрах - \"драма\" и \"комедия\" и имеют сравнительно одинаковый средний рейтинг с фильмами без государственной поддержки. Это позволяет сказать, что фильмы, поддерживаемые государственными организациями не менее интересны зрителю, чем другие."
   ]
  }
 ],
 "metadata": {
  "ExecuteTimeLog": [
   {
    "duration": 537,
    "start_time": "2021-07-07T10:12:08.634Z"
   },
   {
    "duration": 206,
    "start_time": "2021-07-07T10:12:30.191Z"
   },
   {
    "duration": 227,
    "start_time": "2021-07-07T10:12:33.078Z"
   },
   {
    "duration": 153,
    "start_time": "2021-07-07T10:13:42.146Z"
   },
   {
    "duration": 233,
    "start_time": "2021-07-07T10:30:09.252Z"
   },
   {
    "duration": 19,
    "start_time": "2021-07-07T10:30:15.577Z"
   },
   {
    "duration": 18,
    "start_time": "2021-07-07T10:30:57.348Z"
   },
   {
    "duration": 19,
    "start_time": "2021-07-07T10:31:17.452Z"
   },
   {
    "duration": 21,
    "start_time": "2021-07-07T10:31:32.227Z"
   },
   {
    "duration": 27,
    "start_time": "2021-07-07T10:32:06.588Z"
   },
   {
    "duration": 23,
    "start_time": "2021-07-07T10:32:43.645Z"
   },
   {
    "duration": 24,
    "start_time": "2021-07-07T10:33:06.948Z"
   },
   {
    "duration": 7,
    "start_time": "2021-07-07T10:33:28.558Z"
   },
   {
    "duration": 23,
    "start_time": "2021-07-07T10:33:43.761Z"
   },
   {
    "duration": 28,
    "start_time": "2021-07-07T10:34:13.466Z"
   },
   {
    "duration": 23,
    "start_time": "2021-07-07T10:35:56.187Z"
   },
   {
    "duration": 6,
    "start_time": "2021-07-07T10:36:48.182Z"
   },
   {
    "duration": 14,
    "start_time": "2021-07-07T10:37:49.641Z"
   },
   {
    "duration": 6,
    "start_time": "2021-07-07T10:38:06.694Z"
   },
   {
    "duration": 6,
    "start_time": "2021-07-07T10:38:13.493Z"
   },
   {
    "duration": 19,
    "start_time": "2021-07-07T10:38:44.056Z"
   },
   {
    "duration": 186,
    "start_time": "2021-07-07T10:48:35.618Z"
   },
   {
    "duration": 24,
    "start_time": "2021-07-07T10:48:51.498Z"
   },
   {
    "duration": 20,
    "start_time": "2021-07-07T10:48:59.415Z"
   },
   {
    "duration": 20,
    "start_time": "2021-07-07T10:53:02.195Z"
   },
   {
    "duration": 188,
    "start_time": "2021-07-07T10:54:40.486Z"
   },
   {
    "duration": 115,
    "start_time": "2021-07-07T10:54:52.552Z"
   },
   {
    "duration": 214,
    "start_time": "2021-07-07T10:54:56.354Z"
   },
   {
    "duration": 47,
    "start_time": "2021-07-07T10:54:58.282Z"
   },
   {
    "duration": 217,
    "start_time": "2021-07-07T10:59:16.075Z"
   },
   {
    "duration": 51,
    "start_time": "2021-07-07T10:59:16.243Z"
   },
   {
    "duration": 578,
    "start_time": "2021-07-07T10:59:18.774Z"
   },
   {
    "duration": 161,
    "start_time": "2021-07-07T10:59:21.238Z"
   },
   {
    "duration": 59,
    "start_time": "2021-07-07T10:59:21.453Z"
   },
   {
    "duration": 3,
    "start_time": "2021-07-07T11:02:10.786Z"
   },
   {
    "duration": 13,
    "start_time": "2021-07-07T11:07:07.722Z"
   },
   {
    "duration": 26,
    "start_time": "2021-07-07T11:07:17.958Z"
   },
   {
    "duration": 22,
    "start_time": "2021-07-07T11:08:17.939Z"
   },
   {
    "duration": 212,
    "start_time": "2021-07-07T11:08:19.665Z"
   },
   {
    "duration": 21,
    "start_time": "2021-07-07T11:08:29.945Z"
   },
   {
    "duration": 31,
    "start_time": "2021-07-07T11:08:38.899Z"
   },
   {
    "duration": 23,
    "start_time": "2021-07-07T11:08:54.527Z"
   },
   {
    "duration": 8,
    "start_time": "2021-07-07T11:18:55.974Z"
   },
   {
    "duration": 7,
    "start_time": "2021-07-07T11:19:03.639Z"
   },
   {
    "duration": 7,
    "start_time": "2021-07-07T11:19:06.444Z"
   },
   {
    "duration": 578,
    "start_time": "2021-07-07T12:09:59.576Z"
   },
   {
    "duration": 195,
    "start_time": "2021-07-07T12:10:00.156Z"
   },
   {
    "duration": 115,
    "start_time": "2021-07-07T12:10:00.353Z"
   },
   {
    "duration": 3,
    "start_time": "2021-07-07T12:10:00.470Z"
   },
   {
    "duration": 32,
    "start_time": "2021-07-07T12:10:00.474Z"
   },
   {
    "duration": 23,
    "start_time": "2021-07-07T12:10:00.508Z"
   },
   {
    "duration": 19,
    "start_time": "2021-07-07T12:10:00.533Z"
   },
   {
    "duration": 44,
    "start_time": "2021-07-07T12:10:00.553Z"
   },
   {
    "duration": 7,
    "start_time": "2021-07-07T12:10:00.600Z"
   },
   {
    "duration": 7,
    "start_time": "2021-07-07T12:19:45.761Z"
   },
   {
    "duration": 21,
    "start_time": "2021-07-07T12:21:35.482Z"
   },
   {
    "duration": 21,
    "start_time": "2021-07-07T12:29:23.569Z"
   },
   {
    "duration": 525,
    "start_time": "2021-07-07T12:29:44.542Z"
   },
   {
    "duration": 214,
    "start_time": "2021-07-07T12:29:45.069Z"
   },
   {
    "duration": 92,
    "start_time": "2021-07-07T12:29:45.285Z"
   },
   {
    "duration": 3,
    "start_time": "2021-07-07T12:29:45.379Z"
   },
   {
    "duration": 28,
    "start_time": "2021-07-07T12:29:45.384Z"
   },
   {
    "duration": 23,
    "start_time": "2021-07-07T12:29:45.413Z"
   },
   {
    "duration": 21,
    "start_time": "2021-07-07T12:29:45.437Z"
   },
   {
    "duration": 41,
    "start_time": "2021-07-07T12:29:45.460Z"
   },
   {
    "duration": 7,
    "start_time": "2021-07-07T12:29:45.502Z"
   },
   {
    "duration": 20,
    "start_time": "2021-07-07T12:29:45.511Z"
   },
   {
    "duration": 12,
    "start_time": "2021-07-07T12:34:02.800Z"
   },
   {
    "duration": 7,
    "start_time": "2021-07-07T12:35:10.479Z"
   },
   {
    "duration": 8,
    "start_time": "2021-07-07T12:35:22.440Z"
   },
   {
    "duration": 6,
    "start_time": "2021-07-07T12:35:35.649Z"
   },
   {
    "duration": 6,
    "start_time": "2021-07-07T12:35:43.107Z"
   },
   {
    "duration": 22,
    "start_time": "2021-07-07T12:38:03.029Z"
   },
   {
    "duration": 10,
    "start_time": "2021-07-07T12:38:06.592Z"
   },
   {
    "duration": 563,
    "start_time": "2021-07-07T12:38:46.493Z"
   },
   {
    "duration": 265,
    "start_time": "2021-07-07T12:38:47.058Z"
   },
   {
    "duration": 94,
    "start_time": "2021-07-07T12:38:47.325Z"
   },
   {
    "duration": 3,
    "start_time": "2021-07-07T12:38:47.422Z"
   },
   {
    "duration": 30,
    "start_time": "2021-07-07T12:38:47.427Z"
   },
   {
    "duration": 16,
    "start_time": "2021-07-07T12:38:53.305Z"
   },
   {
    "duration": 10,
    "start_time": "2021-07-07T12:38:53.499Z"
   },
   {
    "duration": 8,
    "start_time": "2021-07-07T12:39:48.161Z"
   },
   {
    "duration": 27,
    "start_time": "2021-07-07T12:41:17.629Z"
   },
   {
    "duration": 17,
    "start_time": "2021-07-07T12:41:17.867Z"
   },
   {
    "duration": 21,
    "start_time": "2021-07-07T12:41:19.310Z"
   },
   {
    "duration": 7,
    "start_time": "2021-07-07T12:41:19.544Z"
   },
   {
    "duration": 20,
    "start_time": "2021-07-07T12:41:20.504Z"
   },
   {
    "duration": 554,
    "start_time": "2021-07-07T12:56:23.696Z"
   },
   {
    "duration": 200,
    "start_time": "2021-07-07T12:56:25.234Z"
   },
   {
    "duration": 119,
    "start_time": "2021-07-07T12:56:25.480Z"
   },
   {
    "duration": 4,
    "start_time": "2021-07-07T12:56:25.762Z"
   },
   {
    "duration": 26,
    "start_time": "2021-07-07T12:56:27.172Z"
   },
   {
    "duration": 12,
    "start_time": "2021-07-07T12:56:29.051Z"
   },
   {
    "duration": 10,
    "start_time": "2021-07-07T12:56:29.291Z"
   },
   {
    "duration": 8,
    "start_time": "2021-07-07T12:56:29.623Z"
   },
   {
    "duration": 28,
    "start_time": "2021-07-07T12:56:32.137Z"
   },
   {
    "duration": 19,
    "start_time": "2021-07-07T12:56:39.785Z"
   },
   {
    "duration": 20,
    "start_time": "2021-07-07T12:56:44.297Z"
   },
   {
    "duration": 7,
    "start_time": "2021-07-07T12:56:45.392Z"
   },
   {
    "duration": 23,
    "start_time": "2021-07-07T12:56:46.615Z"
   },
   {
    "duration": 4,
    "start_time": "2021-07-07T12:57:06.625Z"
   },
   {
    "duration": 32,
    "start_time": "2021-07-07T12:57:36.690Z"
   },
   {
    "duration": 18,
    "start_time": "2021-07-07T12:58:00.149Z"
   },
   {
    "duration": 15,
    "start_time": "2021-07-07T12:59:16.793Z"
   },
   {
    "duration": 7,
    "start_time": "2021-07-07T13:19:22.624Z"
   },
   {
    "duration": 6,
    "start_time": "2021-07-07T14:17:33.527Z"
   },
   {
    "duration": 9,
    "start_time": "2021-07-07T14:17:48.409Z"
   },
   {
    "duration": 8,
    "start_time": "2021-07-07T14:20:13.060Z"
   },
   {
    "duration": 8,
    "start_time": "2021-07-07T14:20:37.957Z"
   },
   {
    "duration": 8,
    "start_time": "2021-07-07T14:20:47.470Z"
   },
   {
    "duration": 9,
    "start_time": "2021-07-07T14:20:54.503Z"
   },
   {
    "duration": 10,
    "start_time": "2021-07-07T14:28:57.763Z"
   },
   {
    "duration": 3,
    "start_time": "2021-07-07T14:30:23.377Z"
   },
   {
    "duration": 3,
    "start_time": "2021-07-07T14:30:36.489Z"
   },
   {
    "duration": 103,
    "start_time": "2021-07-07T14:30:52.351Z"
   },
   {
    "duration": 8,
    "start_time": "2021-07-07T14:30:54.763Z"
   },
   {
    "duration": 8,
    "start_time": "2021-07-07T14:31:29.301Z"
   },
   {
    "duration": 13,
    "start_time": "2021-07-07T14:31:44.516Z"
   },
   {
    "duration": 7,
    "start_time": "2021-07-07T14:33:10.972Z"
   },
   {
    "duration": 11,
    "start_time": "2021-07-07T14:33:27.780Z"
   },
   {
    "duration": 8,
    "start_time": "2021-07-07T14:34:44.588Z"
   },
   {
    "duration": 57,
    "start_time": "2021-07-07T14:35:59.042Z"
   },
   {
    "duration": 3,
    "start_time": "2021-07-07T14:36:28.168Z"
   },
   {
    "duration": 5,
    "start_time": "2021-07-07T14:36:46.254Z"
   },
   {
    "duration": 4,
    "start_time": "2021-07-07T14:36:52.714Z"
   },
   {
    "duration": 3,
    "start_time": "2021-07-07T14:36:56.612Z"
   },
   {
    "duration": 4,
    "start_time": "2021-07-07T14:36:57.049Z"
   },
   {
    "duration": 3,
    "start_time": "2021-07-07T14:39:21.214Z"
   },
   {
    "duration": 7,
    "start_time": "2021-07-07T14:39:52.406Z"
   },
   {
    "duration": 11,
    "start_time": "2021-07-07T14:39:58.576Z"
   },
   {
    "duration": 9,
    "start_time": "2021-07-07T14:40:26.301Z"
   },
   {
    "duration": 10,
    "start_time": "2021-07-07T14:40:31.704Z"
   },
   {
    "duration": 11,
    "start_time": "2021-07-07T14:40:36.249Z"
   },
   {
    "duration": 10,
    "start_time": "2021-07-07T14:40:39.783Z"
   },
   {
    "duration": 9,
    "start_time": "2021-07-07T14:40:48.558Z"
   },
   {
    "duration": 10,
    "start_time": "2021-07-07T14:40:57.143Z"
   },
   {
    "duration": 9,
    "start_time": "2021-07-07T14:41:06.074Z"
   },
   {
    "duration": 4324,
    "start_time": "2021-07-07T14:41:22.004Z"
   },
   {
    "duration": 11,
    "start_time": "2021-07-07T14:41:33.392Z"
   },
   {
    "duration": 9,
    "start_time": "2021-07-07T14:41:39.288Z"
   },
   {
    "duration": 569,
    "start_time": "2021-07-07T14:42:14.387Z"
   },
   {
    "duration": 197,
    "start_time": "2021-07-07T14:42:14.959Z"
   },
   {
    "duration": 84,
    "start_time": "2021-07-07T14:42:16.052Z"
   },
   {
    "duration": 4,
    "start_time": "2021-07-07T14:42:16.900Z"
   },
   {
    "duration": 27,
    "start_time": "2021-07-07T14:42:19.898Z"
   },
   {
    "duration": 12,
    "start_time": "2021-07-07T14:42:21.577Z"
   },
   {
    "duration": 9,
    "start_time": "2021-07-07T14:42:21.813Z"
   },
   {
    "duration": 9,
    "start_time": "2021-07-07T14:42:22.569Z"
   },
   {
    "duration": 29,
    "start_time": "2021-07-07T14:42:25.837Z"
   },
   {
    "duration": 20,
    "start_time": "2021-07-07T14:42:27.003Z"
   },
   {
    "duration": 21,
    "start_time": "2021-07-07T14:42:28.767Z"
   },
   {
    "duration": 7,
    "start_time": "2021-07-07T14:42:29.838Z"
   },
   {
    "duration": 4,
    "start_time": "2021-07-07T14:43:25.493Z"
   },
   {
    "duration": 7,
    "start_time": "2021-07-07T14:43:26.573Z"
   },
   {
    "duration": 10,
    "start_time": "2021-07-07T14:43:31.639Z"
   },
   {
    "duration": 9,
    "start_time": "2021-07-07T14:43:32.046Z"
   },
   {
    "duration": 10,
    "start_time": "2021-07-07T14:43:33.301Z"
   },
   {
    "duration": 12,
    "start_time": "2021-07-07T14:43:33.658Z"
   },
   {
    "duration": 8,
    "start_time": "2021-07-07T14:43:34.552Z"
   },
   {
    "duration": 9,
    "start_time": "2021-07-07T14:43:35.058Z"
   },
   {
    "duration": 12,
    "start_time": "2021-07-07T14:43:35.914Z"
   },
   {
    "duration": 17,
    "start_time": "2021-07-07T14:45:34.368Z"
   },
   {
    "duration": 512,
    "start_time": "2021-07-07T14:51:58.236Z"
   },
   {
    "duration": 223,
    "start_time": "2021-07-07T14:51:58.750Z"
   },
   {
    "duration": 93,
    "start_time": "2021-07-07T14:51:58.977Z"
   },
   {
    "duration": 4,
    "start_time": "2021-07-07T14:51:59.071Z"
   },
   {
    "duration": 37,
    "start_time": "2021-07-07T14:51:59.077Z"
   },
   {
    "duration": 18,
    "start_time": "2021-07-07T14:51:59.116Z"
   },
   {
    "duration": 10,
    "start_time": "2021-07-07T14:51:59.137Z"
   },
   {
    "duration": 8,
    "start_time": "2021-07-07T14:51:59.149Z"
   },
   {
    "duration": 54,
    "start_time": "2021-07-07T14:51:59.158Z"
   },
   {
    "duration": 18,
    "start_time": "2021-07-07T14:51:59.213Z"
   },
   {
    "duration": 22,
    "start_time": "2021-07-07T14:51:59.232Z"
   },
   {
    "duration": 36,
    "start_time": "2021-07-07T14:51:59.255Z"
   },
   {
    "duration": 7,
    "start_time": "2021-07-07T14:51:59.293Z"
   },
   {
    "duration": 10,
    "start_time": "2021-07-07T14:51:59.302Z"
   },
   {
    "duration": 9,
    "start_time": "2021-07-07T14:51:59.313Z"
   },
   {
    "duration": 11,
    "start_time": "2021-07-07T14:51:59.324Z"
   },
   {
    "duration": 8,
    "start_time": "2021-07-07T14:51:59.337Z"
   },
   {
    "duration": 46,
    "start_time": "2021-07-07T14:51:59.347Z"
   },
   {
    "duration": 22,
    "start_time": "2021-07-07T14:51:59.395Z"
   },
   {
    "duration": 24,
    "start_time": "2021-07-07T14:57:32.911Z"
   },
   {
    "duration": 7,
    "start_time": "2021-07-07T14:58:22.070Z"
   },
   {
    "duration": 4,
    "start_time": "2021-07-07T14:59:11.239Z"
   },
   {
    "duration": 25,
    "start_time": "2021-07-07T15:07:22.208Z"
   },
   {
    "duration": 16,
    "start_time": "2021-07-07T15:08:25.560Z"
   },
   {
    "duration": 15,
    "start_time": "2021-07-07T15:08:40.647Z"
   },
   {
    "duration": 14,
    "start_time": "2021-07-07T15:08:46.669Z"
   },
   {
    "duration": 533,
    "start_time": "2021-07-07T15:18:07.440Z"
   },
   {
    "duration": 173,
    "start_time": "2021-07-07T15:18:07.974Z"
   },
   {
    "duration": 84,
    "start_time": "2021-07-07T15:18:08.149Z"
   },
   {
    "duration": 3,
    "start_time": "2021-07-07T15:18:08.235Z"
   },
   {
    "duration": 30,
    "start_time": "2021-07-07T15:18:08.240Z"
   },
   {
    "duration": 22,
    "start_time": "2021-07-07T15:18:08.272Z"
   },
   {
    "duration": 11,
    "start_time": "2021-07-07T15:18:08.295Z"
   },
   {
    "duration": 11,
    "start_time": "2021-07-07T15:18:08.309Z"
   },
   {
    "duration": 40,
    "start_time": "2021-07-07T15:18:08.322Z"
   },
   {
    "duration": 42,
    "start_time": "2021-07-07T15:18:08.364Z"
   },
   {
    "duration": 22,
    "start_time": "2021-07-07T15:18:08.408Z"
   },
   {
    "duration": 5,
    "start_time": "2021-07-07T15:18:08.432Z"
   },
   {
    "duration": 13,
    "start_time": "2021-07-07T15:18:08.439Z"
   },
   {
    "duration": 9,
    "start_time": "2021-07-07T15:18:08.454Z"
   },
   {
    "duration": 32,
    "start_time": "2021-07-07T15:18:08.465Z"
   },
   {
    "duration": 10,
    "start_time": "2021-07-07T15:18:08.501Z"
   },
   {
    "duration": 7,
    "start_time": "2021-07-07T15:18:08.513Z"
   },
   {
    "duration": 11,
    "start_time": "2021-07-07T15:18:08.521Z"
   },
   {
    "duration": 17,
    "start_time": "2021-07-07T15:18:08.534Z"
   },
   {
    "duration": 44,
    "start_time": "2021-07-07T15:18:08.553Z"
   },
   {
    "duration": 22,
    "start_time": "2021-07-07T15:18:08.599Z"
   },
   {
    "duration": 61,
    "start_time": "2021-07-07T15:18:08.622Z"
   },
   {
    "duration": 7,
    "start_time": "2021-07-07T15:18:39.457Z"
   },
   {
    "duration": 5,
    "start_time": "2021-07-07T16:05:17.020Z"
   },
   {
    "duration": 5,
    "start_time": "2021-07-07T16:51:28.794Z"
   },
   {
    "duration": 546,
    "start_time": "2021-07-07T16:52:26.306Z"
   },
   {
    "duration": 203,
    "start_time": "2021-07-07T16:52:27.523Z"
   },
   {
    "duration": 85,
    "start_time": "2021-07-07T16:52:27.736Z"
   },
   {
    "duration": 4,
    "start_time": "2021-07-07T16:52:27.899Z"
   },
   {
    "duration": 25,
    "start_time": "2021-07-07T16:52:28.674Z"
   },
   {
    "duration": 8,
    "start_time": "2021-07-07T16:52:32.956Z"
   },
   {
    "duration": 18,
    "start_time": "2021-07-07T16:52:35.616Z"
   },
   {
    "duration": 6,
    "start_time": "2021-07-07T16:52:36.913Z"
   },
   {
    "duration": 11,
    "start_time": "2021-07-07T16:52:40.258Z"
   },
   {
    "duration": 10,
    "start_time": "2021-07-07T16:52:46.251Z"
   },
   {
    "duration": 8,
    "start_time": "2021-07-07T16:52:47.182Z"
   },
   {
    "duration": 27,
    "start_time": "2021-07-07T16:53:20.391Z"
   },
   {
    "duration": 20,
    "start_time": "2021-07-07T16:53:22.022Z"
   },
   {
    "duration": 23,
    "start_time": "2021-07-07T16:53:23.690Z"
   },
   {
    "duration": 8,
    "start_time": "2021-07-07T16:53:24.261Z"
   },
   {
    "duration": 4,
    "start_time": "2021-07-07T16:53:38.733Z"
   },
   {
    "duration": 7,
    "start_time": "2021-07-07T16:53:40.445Z"
   },
   {
    "duration": 11,
    "start_time": "2021-07-07T16:53:41.348Z"
   },
   {
    "duration": 13,
    "start_time": "2021-07-07T16:53:45.250Z"
   },
   {
    "duration": 12,
    "start_time": "2021-07-07T16:53:45.467Z"
   },
   {
    "duration": 4,
    "start_time": "2021-07-07T16:55:32.704Z"
   },
   {
    "duration": 12,
    "start_time": "2021-07-07T16:55:49.012Z"
   },
   {
    "duration": 18,
    "start_time": "2021-07-07T16:55:49.547Z"
   },
   {
    "duration": 611,
    "start_time": "2021-07-07T16:58:35.156Z"
   },
   {
    "duration": 200,
    "start_time": "2021-07-07T16:58:35.770Z"
   },
   {
    "duration": 86,
    "start_time": "2021-07-07T16:58:35.972Z"
   },
   {
    "duration": 3,
    "start_time": "2021-07-07T16:58:36.060Z"
   },
   {
    "duration": 27,
    "start_time": "2021-07-07T16:58:36.065Z"
   },
   {
    "duration": 8,
    "start_time": "2021-07-07T16:58:36.094Z"
   },
   {
    "duration": 17,
    "start_time": "2021-07-07T16:58:36.103Z"
   },
   {
    "duration": 5,
    "start_time": "2021-07-07T16:58:36.123Z"
   },
   {
    "duration": 11,
    "start_time": "2021-07-07T16:58:36.130Z"
   },
   {
    "duration": 7,
    "start_time": "2021-07-07T16:58:36.143Z"
   },
   {
    "duration": 37,
    "start_time": "2021-07-07T16:58:36.152Z"
   },
   {
    "duration": 27,
    "start_time": "2021-07-07T16:58:36.191Z"
   },
   {
    "duration": 19,
    "start_time": "2021-07-07T16:58:36.219Z"
   },
   {
    "duration": 49,
    "start_time": "2021-07-07T16:58:36.240Z"
   },
   {
    "duration": 6,
    "start_time": "2021-07-07T16:58:36.291Z"
   },
   {
    "duration": 3,
    "start_time": "2021-07-07T16:58:36.299Z"
   },
   {
    "duration": 13,
    "start_time": "2021-07-07T16:58:36.304Z"
   },
   {
    "duration": 10,
    "start_time": "2021-07-07T16:58:36.319Z"
   },
   {
    "duration": 10,
    "start_time": "2021-07-07T16:58:36.331Z"
   },
   {
    "duration": 44,
    "start_time": "2021-07-07T16:58:36.343Z"
   },
   {
    "duration": 4,
    "start_time": "2021-07-07T16:58:36.388Z"
   },
   {
    "duration": 13,
    "start_time": "2021-07-07T16:58:36.394Z"
   },
   {
    "duration": 16,
    "start_time": "2021-07-07T16:58:36.410Z"
   },
   {
    "duration": 8,
    "start_time": "2021-07-07T17:02:31.629Z"
   },
   {
    "duration": 8,
    "start_time": "2021-07-07T17:02:34.308Z"
   },
   {
    "duration": 6,
    "start_time": "2021-07-07T17:05:13.483Z"
   },
   {
    "duration": 17,
    "start_time": "2021-07-07T17:05:20.606Z"
   },
   {
    "duration": 7,
    "start_time": "2021-07-07T17:05:34.638Z"
   },
   {
    "duration": 3,
    "start_time": "2021-07-07T17:06:31.883Z"
   },
   {
    "duration": 570,
    "start_time": "2021-07-07T17:06:37.165Z"
   },
   {
    "duration": 174,
    "start_time": "2021-07-07T17:06:37.737Z"
   },
   {
    "duration": 47,
    "start_time": "2021-07-07T17:06:37.913Z"
   },
   {
    "duration": 3,
    "start_time": "2021-07-07T17:06:37.962Z"
   },
   {
    "duration": 27,
    "start_time": "2021-07-07T17:06:37.967Z"
   },
   {
    "duration": 7,
    "start_time": "2021-07-07T17:06:37.996Z"
   },
   {
    "duration": 16,
    "start_time": "2021-07-07T17:06:38.005Z"
   },
   {
    "duration": 6,
    "start_time": "2021-07-07T17:06:38.024Z"
   },
   {
    "duration": 12,
    "start_time": "2021-07-07T17:06:38.031Z"
   },
   {
    "duration": 41,
    "start_time": "2021-07-07T17:06:38.045Z"
   },
   {
    "duration": 8,
    "start_time": "2021-07-07T17:06:38.088Z"
   },
   {
    "duration": 26,
    "start_time": "2021-07-07T17:06:38.098Z"
   },
   {
    "duration": 17,
    "start_time": "2021-07-07T17:06:38.126Z"
   },
   {
    "duration": 43,
    "start_time": "2021-07-07T17:06:38.144Z"
   },
   {
    "duration": 6,
    "start_time": "2021-07-07T17:06:38.188Z"
   },
   {
    "duration": 5,
    "start_time": "2021-07-07T17:06:38.195Z"
   },
   {
    "duration": 9,
    "start_time": "2021-07-07T17:06:38.201Z"
   },
   {
    "duration": 12,
    "start_time": "2021-07-07T17:06:38.212Z"
   },
   {
    "duration": 11,
    "start_time": "2021-07-07T17:06:38.226Z"
   },
   {
    "duration": 47,
    "start_time": "2021-07-07T17:06:38.239Z"
   },
   {
    "duration": 4,
    "start_time": "2021-07-07T17:06:38.288Z"
   },
   {
    "duration": 13,
    "start_time": "2021-07-07T17:06:38.293Z"
   },
   {
    "duration": 5,
    "start_time": "2021-07-07T17:06:38.309Z"
   },
   {
    "duration": 18,
    "start_time": "2021-07-07T17:06:38.325Z"
   },
   {
    "duration": 20,
    "start_time": "2021-07-07T17:07:02.805Z"
   },
   {
    "duration": 19,
    "start_time": "2021-07-07T17:07:08.527Z"
   },
   {
    "duration": 19,
    "start_time": "2021-07-07T17:07:12.758Z"
   },
   {
    "duration": 22,
    "start_time": "2021-07-07T17:07:17.497Z"
   },
   {
    "duration": 19,
    "start_time": "2021-07-07T17:07:19.645Z"
   },
   {
    "duration": 10,
    "start_time": "2021-07-07T17:07:34.239Z"
   },
   {
    "duration": 17,
    "start_time": "2021-07-07T17:07:54.144Z"
   },
   {
    "duration": 14,
    "start_time": "2021-07-07T17:08:14.357Z"
   },
   {
    "duration": 616,
    "start_time": "2021-07-07T17:08:45.254Z"
   },
   {
    "duration": 178,
    "start_time": "2021-07-07T17:08:45.872Z"
   },
   {
    "duration": 60,
    "start_time": "2021-07-07T17:08:46.054Z"
   },
   {
    "duration": 3,
    "start_time": "2021-07-07T17:08:46.116Z"
   },
   {
    "duration": 26,
    "start_time": "2021-07-07T17:08:46.121Z"
   },
   {
    "duration": 7,
    "start_time": "2021-07-07T17:08:46.149Z"
   },
   {
    "duration": 17,
    "start_time": "2021-07-07T17:08:46.158Z"
   },
   {
    "duration": 14,
    "start_time": "2021-07-07T17:08:46.176Z"
   },
   {
    "duration": 17,
    "start_time": "2021-07-07T17:08:46.193Z"
   },
   {
    "duration": 9,
    "start_time": "2021-07-07T17:08:46.211Z"
   },
   {
    "duration": 21,
    "start_time": "2021-07-07T17:08:46.221Z"
   },
   {
    "duration": 49,
    "start_time": "2021-07-07T17:08:46.244Z"
   },
   {
    "duration": 24,
    "start_time": "2021-07-07T17:08:46.295Z"
   },
   {
    "duration": 22,
    "start_time": "2021-07-07T17:08:46.321Z"
   },
   {
    "duration": 6,
    "start_time": "2021-07-07T17:08:46.345Z"
   },
   {
    "duration": 5,
    "start_time": "2021-07-07T17:08:46.353Z"
   },
   {
    "duration": 13,
    "start_time": "2021-07-07T17:08:46.386Z"
   },
   {
    "duration": 12,
    "start_time": "2021-07-07T17:08:46.402Z"
   },
   {
    "duration": 10,
    "start_time": "2021-07-07T17:08:46.415Z"
   },
   {
    "duration": 7,
    "start_time": "2021-07-07T17:08:46.427Z"
   },
   {
    "duration": 8,
    "start_time": "2021-07-07T17:08:46.435Z"
   },
   {
    "duration": 68,
    "start_time": "2021-07-07T17:08:46.446Z"
   },
   {
    "duration": 13,
    "start_time": "2021-07-07T17:08:46.516Z"
   },
   {
    "duration": 78,
    "start_time": "2021-07-07T17:08:46.530Z"
   },
   {
    "duration": 40,
    "start_time": "2021-07-07T17:09:08.185Z"
   },
   {
    "duration": 16,
    "start_time": "2021-07-07T17:09:19.324Z"
   },
   {
    "duration": 21,
    "start_time": "2021-07-07T17:09:23.290Z"
   },
   {
    "duration": 13,
    "start_time": "2021-07-07T17:09:54.812Z"
   },
   {
    "duration": 13,
    "start_time": "2021-07-07T17:10:02.039Z"
   },
   {
    "duration": 10,
    "start_time": "2021-07-07T17:10:29.632Z"
   },
   {
    "duration": 13,
    "start_time": "2021-07-07T17:10:52.372Z"
   },
   {
    "duration": 13,
    "start_time": "2021-07-07T17:11:17.270Z"
   },
   {
    "duration": 13,
    "start_time": "2021-07-07T17:14:59.284Z"
   },
   {
    "duration": 547,
    "start_time": "2021-07-07T17:18:52.403Z"
   },
   {
    "duration": 163,
    "start_time": "2021-07-07T17:18:52.952Z"
   },
   {
    "duration": 44,
    "start_time": "2021-07-07T17:18:53.117Z"
   },
   {
    "duration": 3,
    "start_time": "2021-07-07T17:18:53.162Z"
   },
   {
    "duration": 26,
    "start_time": "2021-07-07T17:18:53.167Z"
   },
   {
    "duration": 6,
    "start_time": "2021-07-07T17:18:53.195Z"
   },
   {
    "duration": 15,
    "start_time": "2021-07-07T17:18:53.203Z"
   },
   {
    "duration": 5,
    "start_time": "2021-07-07T17:18:53.220Z"
   },
   {
    "duration": 11,
    "start_time": "2021-07-07T17:18:53.228Z"
   },
   {
    "duration": 9,
    "start_time": "2021-07-07T17:18:53.241Z"
   },
   {
    "duration": 41,
    "start_time": "2021-07-07T17:18:53.252Z"
   },
   {
    "duration": 33,
    "start_time": "2021-07-07T17:18:53.295Z"
   },
   {
    "duration": 19,
    "start_time": "2021-07-07T17:18:53.330Z"
   },
   {
    "duration": 49,
    "start_time": "2021-07-07T17:18:53.350Z"
   },
   {
    "duration": 5,
    "start_time": "2021-07-07T17:18:53.401Z"
   },
   {
    "duration": 5,
    "start_time": "2021-07-07T17:18:53.408Z"
   },
   {
    "duration": 11,
    "start_time": "2021-07-07T17:18:53.414Z"
   },
   {
    "duration": 9,
    "start_time": "2021-07-07T17:18:53.427Z"
   },
   {
    "duration": 10,
    "start_time": "2021-07-07T17:18:53.437Z"
   },
   {
    "duration": 39,
    "start_time": "2021-07-07T17:18:53.448Z"
   },
   {
    "duration": 26,
    "start_time": "2021-07-07T17:18:55.799Z"
   },
   {
    "duration": 598,
    "start_time": "2021-07-07T17:20:17.862Z"
   },
   {
    "duration": 161,
    "start_time": "2021-07-07T17:20:18.462Z"
   },
   {
    "duration": 45,
    "start_time": "2021-07-07T17:20:18.626Z"
   },
   {
    "duration": 4,
    "start_time": "2021-07-07T17:20:18.673Z"
   },
   {
    "duration": 38,
    "start_time": "2021-07-07T17:20:26.877Z"
   },
   {
    "duration": 7,
    "start_time": "2021-07-07T17:20:37.405Z"
   },
   {
    "duration": 19,
    "start_time": "2021-07-07T17:20:51.534Z"
   },
   {
    "duration": 5,
    "start_time": "2021-07-07T17:20:57.228Z"
   },
   {
    "duration": 7,
    "start_time": "2021-07-07T17:21:08.235Z"
   },
   {
    "duration": 19,
    "start_time": "2021-07-07T17:21:42.158Z"
   },
   {
    "duration": 14,
    "start_time": "2021-07-07T17:21:50.225Z"
   },
   {
    "duration": 22,
    "start_time": "2021-07-07T17:22:54.104Z"
   },
   {
    "duration": 5,
    "start_time": "2021-07-07T17:22:56.371Z"
   },
   {
    "duration": 14,
    "start_time": "2021-07-07T17:22:58.316Z"
   },
   {
    "duration": 5,
    "start_time": "2021-07-07T17:22:58.493Z"
   },
   {
    "duration": 35,
    "start_time": "2021-07-07T17:22:59.666Z"
   },
   {
    "duration": 6,
    "start_time": "2021-07-07T17:23:02.410Z"
   },
   {
    "duration": 611,
    "start_time": "2021-07-07T17:24:59.664Z"
   },
   {
    "duration": 178,
    "start_time": "2021-07-07T17:25:01.945Z"
   },
   {
    "duration": 47,
    "start_time": "2021-07-07T17:25:02.125Z"
   },
   {
    "duration": 2,
    "start_time": "2021-07-07T17:25:07.903Z"
   },
   {
    "duration": 254,
    "start_time": "2021-07-07T17:25:08.232Z"
   },
   {
    "duration": 182,
    "start_time": "2021-07-07T17:25:08.671Z"
   },
   {
    "duration": 6,
    "start_time": "2021-07-07T17:25:13.104Z"
   },
   {
    "duration": 36,
    "start_time": "2021-07-07T17:25:13.662Z"
   },
   {
    "duration": 7,
    "start_time": "2021-07-07T17:25:14.528Z"
   },
   {
    "duration": 24,
    "start_time": "2021-07-07T17:25:27.982Z"
   },
   {
    "duration": 3,
    "start_time": "2021-07-07T17:25:48.982Z"
   },
   {
    "duration": 165,
    "start_time": "2021-07-07T17:25:48.987Z"
   },
   {
    "duration": 50,
    "start_time": "2021-07-07T17:25:49.154Z"
   },
   {
    "duration": 4,
    "start_time": "2021-07-07T17:25:49.206Z"
   },
   {
    "duration": 26,
    "start_time": "2021-07-07T17:25:49.212Z"
   },
   {
    "duration": 7,
    "start_time": "2021-07-07T17:25:49.240Z"
   },
   {
    "duration": 16,
    "start_time": "2021-07-07T17:25:49.249Z"
   },
   {
    "duration": 22,
    "start_time": "2021-07-07T17:25:49.266Z"
   },
   {
    "duration": 16,
    "start_time": "2021-07-07T17:25:49.291Z"
   },
   {
    "duration": 9,
    "start_time": "2021-07-07T17:25:49.309Z"
   },
   {
    "duration": 7,
    "start_time": "2021-07-07T17:25:49.319Z"
   },
   {
    "duration": 28,
    "start_time": "2021-07-07T17:25:49.328Z"
   },
   {
    "duration": 44,
    "start_time": "2021-07-07T17:25:49.357Z"
   },
   {
    "duration": 22,
    "start_time": "2021-07-07T17:25:49.403Z"
   },
   {
    "duration": 7,
    "start_time": "2021-07-07T17:25:49.427Z"
   },
   {
    "duration": 3,
    "start_time": "2021-07-07T17:25:49.436Z"
   },
   {
    "duration": 44,
    "start_time": "2021-07-07T17:25:49.441Z"
   },
   {
    "duration": 12,
    "start_time": "2021-07-07T17:25:49.488Z"
   },
   {
    "duration": 13,
    "start_time": "2021-07-07T17:25:49.502Z"
   },
   {
    "duration": 10,
    "start_time": "2021-07-07T17:25:49.516Z"
   },
   {
    "duration": 62,
    "start_time": "2021-07-07T17:25:49.527Z"
   },
   {
    "duration": 26,
    "start_time": "2021-07-07T17:26:51.809Z"
   },
   {
    "duration": 26,
    "start_time": "2021-07-07T17:26:55.759Z"
   },
   {
    "duration": 26,
    "start_time": "2021-07-07T17:27:04.501Z"
   },
   {
    "duration": 25,
    "start_time": "2021-07-07T17:28:24.859Z"
   },
   {
    "duration": 21,
    "start_time": "2021-07-07T17:28:55.250Z"
   },
   {
    "duration": 21,
    "start_time": "2021-07-07T17:28:58.885Z"
   },
   {
    "duration": 7,
    "start_time": "2021-07-07T17:45:40.972Z"
   },
   {
    "duration": 13,
    "start_time": "2021-07-07T17:45:42.529Z"
   },
   {
    "duration": 27,
    "start_time": "2021-07-07T17:45:51.026Z"
   },
   {
    "duration": 518,
    "start_time": "2021-07-07T17:46:15.532Z"
   },
   {
    "duration": 235,
    "start_time": "2021-07-07T17:46:16.053Z"
   },
   {
    "duration": 80,
    "start_time": "2021-07-07T17:46:16.292Z"
   },
   {
    "duration": 5,
    "start_time": "2021-07-07T17:46:16.373Z"
   },
   {
    "duration": 26,
    "start_time": "2021-07-07T17:46:16.380Z"
   },
   {
    "duration": 7,
    "start_time": "2021-07-07T17:46:16.408Z"
   },
   {
    "duration": 16,
    "start_time": "2021-07-07T17:46:16.418Z"
   },
   {
    "duration": 5,
    "start_time": "2021-07-07T17:46:16.436Z"
   },
   {
    "duration": 13,
    "start_time": "2021-07-07T17:46:16.442Z"
   },
   {
    "duration": 35,
    "start_time": "2021-07-07T17:46:16.456Z"
   },
   {
    "duration": 8,
    "start_time": "2021-07-07T17:46:16.493Z"
   },
   {
    "duration": 28,
    "start_time": "2021-07-07T17:46:16.502Z"
   },
   {
    "duration": 17,
    "start_time": "2021-07-07T17:46:16.532Z"
   },
   {
    "duration": 44,
    "start_time": "2021-07-07T17:46:16.551Z"
   },
   {
    "duration": 6,
    "start_time": "2021-07-07T17:46:16.597Z"
   },
   {
    "duration": 4,
    "start_time": "2021-07-07T17:46:16.605Z"
   },
   {
    "duration": 9,
    "start_time": "2021-07-07T17:46:16.610Z"
   },
   {
    "duration": 9,
    "start_time": "2021-07-07T17:46:16.621Z"
   },
   {
    "duration": 10,
    "start_time": "2021-07-07T17:46:16.632Z"
   },
   {
    "duration": 43,
    "start_time": "2021-07-07T17:46:16.644Z"
   },
   {
    "duration": 26,
    "start_time": "2021-07-07T17:46:16.689Z"
   },
   {
    "duration": 19,
    "start_time": "2021-07-07T17:46:16.718Z"
   },
   {
    "duration": 8,
    "start_time": "2021-07-07T17:46:16.738Z"
   },
   {
    "duration": 43,
    "start_time": "2021-07-07T17:46:16.747Z"
   },
   {
    "duration": 19,
    "start_time": "2021-07-07T17:46:16.791Z"
   },
   {
    "duration": 9,
    "start_time": "2021-07-07T17:46:16.812Z"
   },
   {
    "duration": 60,
    "start_time": "2021-07-07T17:46:16.822Z"
   },
   {
    "duration": -8,
    "start_time": "2021-07-07T17:46:16.892Z"
   },
   {
    "duration": 12,
    "start_time": "2021-07-07T17:48:47.707Z"
   },
   {
    "duration": 553,
    "start_time": "2021-07-07T18:10:09.350Z"
   },
   {
    "duration": 230,
    "start_time": "2021-07-07T18:10:09.905Z"
   },
   {
    "duration": 97,
    "start_time": "2021-07-07T18:10:10.137Z"
   },
   {
    "duration": 5,
    "start_time": "2021-07-07T18:10:10.236Z"
   },
   {
    "duration": 29,
    "start_time": "2021-07-07T18:10:10.242Z"
   },
   {
    "duration": 7,
    "start_time": "2021-07-07T18:10:10.272Z"
   },
   {
    "duration": 15,
    "start_time": "2021-07-07T18:10:10.281Z"
   },
   {
    "duration": 4,
    "start_time": "2021-07-07T18:10:10.299Z"
   },
   {
    "duration": 14,
    "start_time": "2021-07-07T18:10:10.305Z"
   },
   {
    "duration": 8,
    "start_time": "2021-07-07T18:10:10.321Z"
   },
   {
    "duration": 8,
    "start_time": "2021-07-07T18:10:10.331Z"
   },
   {
    "duration": 56,
    "start_time": "2021-07-07T18:10:10.341Z"
   },
   {
    "duration": 19,
    "start_time": "2021-07-07T18:10:10.399Z"
   },
   {
    "duration": 23,
    "start_time": "2021-07-07T18:10:10.419Z"
   },
   {
    "duration": 6,
    "start_time": "2021-07-07T18:10:10.444Z"
   },
   {
    "duration": 9,
    "start_time": "2021-07-07T18:10:10.451Z"
   },
   {
    "duration": 30,
    "start_time": "2021-07-07T18:10:10.462Z"
   },
   {
    "duration": 9,
    "start_time": "2021-07-07T18:10:10.494Z"
   },
   {
    "duration": 14,
    "start_time": "2021-07-07T18:10:10.505Z"
   },
   {
    "duration": 7,
    "start_time": "2021-07-07T18:10:10.521Z"
   },
   {
    "duration": 26,
    "start_time": "2021-07-07T18:10:10.530Z"
   },
   {
    "duration": 44,
    "start_time": "2021-07-07T18:10:10.558Z"
   },
   {
    "duration": 7,
    "start_time": "2021-07-07T18:10:10.605Z"
   },
   {
    "duration": 11,
    "start_time": "2021-07-07T18:10:10.614Z"
   },
   {
    "duration": 19,
    "start_time": "2021-07-07T18:10:10.626Z"
   },
   {
    "duration": 44,
    "start_time": "2021-07-07T18:10:10.646Z"
   },
   {
    "duration": 516,
    "start_time": "2021-07-07T18:14:00.826Z"
   },
   {
    "duration": 230,
    "start_time": "2021-07-07T18:14:01.344Z"
   },
   {
    "duration": 105,
    "start_time": "2021-07-07T18:14:01.576Z"
   },
   {
    "duration": 5,
    "start_time": "2021-07-07T18:14:01.683Z"
   },
   {
    "duration": 46,
    "start_time": "2021-07-07T18:14:01.690Z"
   },
   {
    "duration": 7,
    "start_time": "2021-07-07T18:14:01.738Z"
   },
   {
    "duration": 20,
    "start_time": "2021-07-07T18:14:01.747Z"
   },
   {
    "duration": 16,
    "start_time": "2021-07-07T18:14:01.769Z"
   },
   {
    "duration": 14,
    "start_time": "2021-07-07T18:14:01.787Z"
   },
   {
    "duration": 15,
    "start_time": "2021-07-07T18:14:01.803Z"
   },
   {
    "duration": 12,
    "start_time": "2021-07-07T18:14:01.820Z"
   },
   {
    "duration": 35,
    "start_time": "2021-07-07T18:14:01.833Z"
   },
   {
    "duration": 31,
    "start_time": "2021-07-07T18:14:01.869Z"
   },
   {
    "duration": 37,
    "start_time": "2021-07-07T18:14:01.902Z"
   },
   {
    "duration": 8,
    "start_time": "2021-07-07T18:14:01.942Z"
   },
   {
    "duration": 16,
    "start_time": "2021-07-07T18:14:01.952Z"
   },
   {
    "duration": 13,
    "start_time": "2021-07-07T18:14:01.970Z"
   },
   {
    "duration": 32,
    "start_time": "2021-07-07T18:14:01.985Z"
   },
   {
    "duration": 11,
    "start_time": "2021-07-07T18:14:02.019Z"
   },
   {
    "duration": 22,
    "start_time": "2021-07-07T18:14:02.031Z"
   },
   {
    "duration": 27,
    "start_time": "2021-07-07T18:14:02.055Z"
   },
   {
    "duration": 18,
    "start_time": "2021-07-07T18:14:02.084Z"
   },
   {
    "duration": 18,
    "start_time": "2021-07-07T18:14:02.106Z"
   },
   {
    "duration": 11,
    "start_time": "2021-07-07T18:14:02.126Z"
   },
   {
    "duration": 21,
    "start_time": "2021-07-07T18:14:02.138Z"
   },
   {
    "duration": 32,
    "start_time": "2021-07-07T18:14:02.161Z"
   },
   {
    "duration": 28,
    "start_time": "2021-07-07T18:14:44.295Z"
   },
   {
    "duration": 6,
    "start_time": "2021-07-07T18:15:05.834Z"
   },
   {
    "duration": 511,
    "start_time": "2021-07-07T18:15:41.541Z"
   },
   {
    "duration": 183,
    "start_time": "2021-07-07T18:15:42.054Z"
   },
   {
    "duration": 50,
    "start_time": "2021-07-07T18:15:42.239Z"
   },
   {
    "duration": 5,
    "start_time": "2021-07-07T18:15:42.291Z"
   },
   {
    "duration": 48,
    "start_time": "2021-07-07T18:15:42.297Z"
   },
   {
    "duration": 8,
    "start_time": "2021-07-07T18:15:42.346Z"
   },
   {
    "duration": 17,
    "start_time": "2021-07-07T18:15:42.356Z"
   },
   {
    "duration": 15,
    "start_time": "2021-07-07T18:15:42.375Z"
   },
   {
    "duration": 12,
    "start_time": "2021-07-07T18:15:42.392Z"
   },
   {
    "duration": 7,
    "start_time": "2021-07-07T18:15:42.406Z"
   },
   {
    "duration": 7,
    "start_time": "2021-07-07T18:15:42.415Z"
   },
   {
    "duration": 29,
    "start_time": "2021-07-07T18:15:42.423Z"
   },
   {
    "duration": 43,
    "start_time": "2021-07-07T18:15:42.453Z"
   },
   {
    "duration": 18,
    "start_time": "2021-07-07T18:15:42.497Z"
   },
   {
    "duration": 6,
    "start_time": "2021-07-07T18:15:42.516Z"
   },
   {
    "duration": 3,
    "start_time": "2021-07-07T18:15:42.523Z"
   },
   {
    "duration": 18,
    "start_time": "2021-07-07T18:15:42.528Z"
   },
   {
    "duration": 10,
    "start_time": "2021-07-07T18:15:42.547Z"
   },
   {
    "duration": 36,
    "start_time": "2021-07-07T18:15:42.559Z"
   },
   {
    "duration": 8,
    "start_time": "2021-07-07T18:15:42.597Z"
   },
   {
    "duration": 28,
    "start_time": "2021-07-07T18:15:42.606Z"
   },
   {
    "duration": 52,
    "start_time": "2021-07-07T18:15:42.635Z"
   },
   {
    "duration": 7,
    "start_time": "2021-07-07T18:15:42.690Z"
   },
   {
    "duration": 10,
    "start_time": "2021-07-07T18:15:42.699Z"
   },
   {
    "duration": 19,
    "start_time": "2021-07-07T18:15:42.711Z"
   },
   {
    "duration": 9,
    "start_time": "2021-07-07T18:15:42.732Z"
   },
   {
    "duration": 5,
    "start_time": "2021-07-07T18:15:42.743Z"
   },
   {
    "duration": 1450,
    "start_time": "2021-07-07T18:15:51.984Z"
   },
   {
    "duration": 161,
    "start_time": "2021-07-07T18:15:53.435Z"
   },
   {
    "duration": 124,
    "start_time": "2021-07-07T18:15:53.598Z"
   },
   {
    "duration": 5,
    "start_time": "2021-07-07T18:15:53.724Z"
   },
   {
    "duration": 34,
    "start_time": "2021-07-07T18:15:53.730Z"
   },
   {
    "duration": 7,
    "start_time": "2021-07-07T18:15:53.765Z"
   },
   {
    "duration": 15,
    "start_time": "2021-07-07T18:15:53.773Z"
   },
   {
    "duration": 5,
    "start_time": "2021-07-07T18:15:53.791Z"
   },
   {
    "duration": 19,
    "start_time": "2021-07-07T18:15:53.798Z"
   },
   {
    "duration": 9,
    "start_time": "2021-07-07T18:15:53.818Z"
   },
   {
    "duration": 19,
    "start_time": "2021-07-07T18:15:53.828Z"
   },
   {
    "duration": 27,
    "start_time": "2021-07-07T18:15:53.848Z"
   },
   {
    "duration": 16,
    "start_time": "2021-07-07T18:15:53.884Z"
   },
   {
    "duration": 29,
    "start_time": "2021-07-07T18:15:53.901Z"
   },
   {
    "duration": 5,
    "start_time": "2021-07-07T18:15:53.932Z"
   },
   {
    "duration": 15,
    "start_time": "2021-07-07T18:15:53.939Z"
   },
   {
    "duration": 13,
    "start_time": "2021-07-07T18:15:53.956Z"
   },
   {
    "duration": 20,
    "start_time": "2021-07-07T18:15:53.971Z"
   },
   {
    "duration": 14,
    "start_time": "2021-07-07T18:15:53.992Z"
   },
   {
    "duration": 9,
    "start_time": "2021-07-07T18:15:54.009Z"
   },
   {
    "duration": 28,
    "start_time": "2021-07-07T18:15:54.020Z"
   },
   {
    "duration": 50,
    "start_time": "2021-07-07T18:15:54.051Z"
   },
   {
    "duration": 8,
    "start_time": "2021-07-07T18:15:54.105Z"
   },
   {
    "duration": 11,
    "start_time": "2021-07-07T18:15:54.115Z"
   },
   {
    "duration": 20,
    "start_time": "2021-07-07T18:15:54.128Z"
   },
   {
    "duration": 13,
    "start_time": "2021-07-07T18:15:54.184Z"
   },
   {
    "duration": 7,
    "start_time": "2021-07-07T18:15:54.199Z"
   },
   {
    "duration": 7,
    "start_time": "2021-07-07T18:17:08.042Z"
   },
   {
    "duration": 8,
    "start_time": "2021-07-07T18:17:21.008Z"
   },
   {
    "duration": 7,
    "start_time": "2021-07-07T18:17:29.003Z"
   },
   {
    "duration": 8,
    "start_time": "2021-07-07T18:17:32.492Z"
   },
   {
    "duration": 9,
    "start_time": "2021-07-07T18:17:41.758Z"
   },
   {
    "duration": 255,
    "start_time": "2021-07-07T18:20:20.897Z"
   },
   {
    "duration": 173,
    "start_time": "2021-07-07T18:20:26.636Z"
   },
   {
    "duration": 7,
    "start_time": "2021-07-07T18:21:47.164Z"
   },
   {
    "duration": 254,
    "start_time": "2021-07-07T18:23:08.703Z"
   },
   {
    "duration": 21,
    "start_time": "2021-07-07T18:23:22.506Z"
   },
   {
    "duration": 315,
    "start_time": "2021-07-07T18:25:54.801Z"
   },
   {
    "duration": 34,
    "start_time": "2021-07-07T18:26:51.817Z"
   },
   {
    "duration": 327,
    "start_time": "2021-07-07T18:26:56.147Z"
   },
   {
    "duration": 342,
    "start_time": "2021-07-07T18:27:15.887Z"
   },
   {
    "duration": 302,
    "start_time": "2021-07-07T18:28:18.569Z"
   },
   {
    "duration": 226,
    "start_time": "2021-07-07T18:29:20.879Z"
   },
   {
    "duration": 207,
    "start_time": "2021-07-07T18:29:58.114Z"
   },
   {
    "duration": 140,
    "start_time": "2021-07-07T18:32:04.372Z"
   },
   {
    "duration": 158,
    "start_time": "2021-07-07T18:32:32.508Z"
   },
   {
    "duration": 145,
    "start_time": "2021-07-07T18:32:41.365Z"
   },
   {
    "duration": 132,
    "start_time": "2021-07-07T18:32:45.199Z"
   },
   {
    "duration": 11,
    "start_time": "2021-07-07T18:35:24.679Z"
   },
   {
    "duration": 268,
    "start_time": "2021-07-07T18:36:16.145Z"
   },
   {
    "duration": 227,
    "start_time": "2021-07-07T18:37:04.918Z"
   },
   {
    "duration": 3,
    "start_time": "2021-07-07T18:37:33.012Z"
   },
   {
    "duration": 671,
    "start_time": "2021-07-07T18:37:38.295Z"
   },
   {
    "duration": 54,
    "start_time": "2021-07-07T18:37:53.406Z"
   },
   {
    "duration": 631,
    "start_time": "2021-07-07T18:37:56.463Z"
   },
   {
    "duration": 19,
    "start_time": "2021-07-07T18:39:40.535Z"
   },
   {
    "duration": 20,
    "start_time": "2021-07-07T18:40:12.236Z"
   },
   {
    "duration": 633,
    "start_time": "2021-07-07T18:42:00.398Z"
   },
   {
    "duration": 218,
    "start_time": "2021-07-07T18:42:01.033Z"
   },
   {
    "duration": 49,
    "start_time": "2021-07-07T18:42:01.253Z"
   },
   {
    "duration": 5,
    "start_time": "2021-07-07T18:42:01.303Z"
   },
   {
    "duration": 27,
    "start_time": "2021-07-07T18:42:01.310Z"
   },
   {
    "duration": 8,
    "start_time": "2021-07-07T18:42:01.339Z"
   },
   {
    "duration": 20,
    "start_time": "2021-07-07T18:42:01.348Z"
   },
   {
    "duration": 6,
    "start_time": "2021-07-07T18:42:01.386Z"
   },
   {
    "duration": 16,
    "start_time": "2021-07-07T18:42:01.394Z"
   },
   {
    "duration": 9,
    "start_time": "2021-07-07T18:42:01.411Z"
   },
   {
    "duration": 11,
    "start_time": "2021-07-07T18:42:01.421Z"
   },
   {
    "duration": 31,
    "start_time": "2021-07-07T18:42:01.434Z"
   },
   {
    "duration": 18,
    "start_time": "2021-07-07T18:42:01.485Z"
   },
   {
    "duration": 23,
    "start_time": "2021-07-07T18:42:01.505Z"
   },
   {
    "duration": 6,
    "start_time": "2021-07-07T18:42:01.530Z"
   },
   {
    "duration": 10,
    "start_time": "2021-07-07T18:42:01.538Z"
   },
   {
    "duration": 13,
    "start_time": "2021-07-07T18:42:01.550Z"
   },
   {
    "duration": 24,
    "start_time": "2021-07-07T18:42:01.564Z"
   },
   {
    "duration": 20,
    "start_time": "2021-07-07T18:42:01.590Z"
   },
   {
    "duration": 8,
    "start_time": "2021-07-07T18:42:01.611Z"
   },
   {
    "duration": 31,
    "start_time": "2021-07-07T18:42:01.620Z"
   },
   {
    "duration": 39,
    "start_time": "2021-07-07T18:42:01.653Z"
   },
   {
    "duration": 8,
    "start_time": "2021-07-07T18:42:01.696Z"
   },
   {
    "duration": 13,
    "start_time": "2021-07-07T18:42:01.705Z"
   },
   {
    "duration": 20,
    "start_time": "2021-07-07T18:42:01.720Z"
   },
   {
    "duration": 12,
    "start_time": "2021-07-07T18:42:01.741Z"
   },
   {
    "duration": 35,
    "start_time": "2021-07-07T18:42:01.755Z"
   },
   {
    "duration": 14,
    "start_time": "2021-07-07T18:42:01.792Z"
   },
   {
    "duration": 188,
    "start_time": "2021-07-07T18:42:01.808Z"
   },
   {
    "duration": 19,
    "start_time": "2021-07-07T18:42:01.998Z"
   },
   {
    "duration": 175,
    "start_time": "2021-07-07T18:42:02.019Z"
   },
   {
    "duration": 134,
    "start_time": "2021-07-07T18:42:02.196Z"
   },
   {
    "duration": 10,
    "start_time": "2021-07-07T18:42:02.331Z"
   },
   {
    "duration": 19,
    "start_time": "2021-07-07T18:42:02.343Z"
   },
   {
    "duration": 628,
    "start_time": "2021-07-07T18:46:30.701Z"
   },
   {
    "duration": 183,
    "start_time": "2021-07-07T18:46:31.331Z"
   },
   {
    "duration": 48,
    "start_time": "2021-07-07T18:46:31.516Z"
   },
   {
    "duration": 5,
    "start_time": "2021-07-07T18:46:31.566Z"
   },
   {
    "duration": 28,
    "start_time": "2021-07-07T18:46:31.572Z"
   },
   {
    "duration": 8,
    "start_time": "2021-07-07T18:46:31.602Z"
   },
   {
    "duration": 19,
    "start_time": "2021-07-07T18:46:31.611Z"
   },
   {
    "duration": 6,
    "start_time": "2021-07-07T18:46:31.633Z"
   },
   {
    "duration": 17,
    "start_time": "2021-07-07T18:46:31.642Z"
   },
   {
    "duration": 10,
    "start_time": "2021-07-07T18:46:31.684Z"
   },
   {
    "duration": 9,
    "start_time": "2021-07-07T18:46:31.695Z"
   },
   {
    "duration": 28,
    "start_time": "2021-07-07T18:46:31.705Z"
   },
   {
    "duration": 18,
    "start_time": "2021-07-07T18:46:31.735Z"
   },
   {
    "duration": 48,
    "start_time": "2021-07-07T18:46:31.755Z"
   },
   {
    "duration": 6,
    "start_time": "2021-07-07T18:46:31.804Z"
   },
   {
    "duration": 4,
    "start_time": "2021-07-07T18:46:31.812Z"
   },
   {
    "duration": 9,
    "start_time": "2021-07-07T18:46:31.817Z"
   },
   {
    "duration": 10,
    "start_time": "2021-07-07T18:46:31.827Z"
   },
   {
    "duration": 12,
    "start_time": "2021-07-07T18:46:31.838Z"
   },
   {
    "duration": 39,
    "start_time": "2021-07-07T18:46:31.851Z"
   },
   {
    "duration": 24,
    "start_time": "2021-07-07T18:46:31.892Z"
   },
   {
    "duration": 15,
    "start_time": "2021-07-07T18:46:31.918Z"
   },
   {
    "duration": 7,
    "start_time": "2021-07-07T18:46:31.936Z"
   },
   {
    "duration": 8,
    "start_time": "2021-07-07T18:46:31.944Z"
   },
   {
    "duration": 19,
    "start_time": "2021-07-07T18:46:31.984Z"
   },
   {
    "duration": 10,
    "start_time": "2021-07-07T18:46:32.004Z"
   },
   {
    "duration": 5,
    "start_time": "2021-07-07T18:46:32.016Z"
   },
   {
    "duration": 9,
    "start_time": "2021-07-07T18:46:32.023Z"
   },
   {
    "duration": 199,
    "start_time": "2021-07-07T18:46:32.033Z"
   },
   {
    "duration": 19,
    "start_time": "2021-07-07T18:46:32.234Z"
   },
   {
    "duration": 159,
    "start_time": "2021-07-07T18:46:32.255Z"
   },
   {
    "duration": 134,
    "start_time": "2021-07-07T18:46:32.416Z"
   },
   {
    "duration": 10,
    "start_time": "2021-07-07T18:46:32.552Z"
   },
   {
    "duration": 34,
    "start_time": "2021-07-07T18:46:32.563Z"
   },
   {
    "duration": 1039,
    "start_time": "2021-07-08T08:41:09.419Z"
   },
   {
    "duration": 333,
    "start_time": "2021-07-08T08:41:10.459Z"
   },
   {
    "duration": 173,
    "start_time": "2021-07-08T08:41:10.794Z"
   },
   {
    "duration": 5,
    "start_time": "2021-07-08T08:41:10.968Z"
   },
   {
    "duration": 25,
    "start_time": "2021-07-08T08:41:10.975Z"
   },
   {
    "duration": 9,
    "start_time": "2021-07-08T08:41:11.002Z"
   },
   {
    "duration": 18,
    "start_time": "2021-07-08T08:41:11.013Z"
   },
   {
    "duration": 6,
    "start_time": "2021-07-08T08:41:11.033Z"
   },
   {
    "duration": 44,
    "start_time": "2021-07-08T08:41:11.042Z"
   },
   {
    "duration": 10,
    "start_time": "2021-07-08T08:41:11.088Z"
   },
   {
    "duration": 9,
    "start_time": "2021-07-08T08:41:11.100Z"
   },
   {
    "duration": 27,
    "start_time": "2021-07-08T08:41:11.111Z"
   },
   {
    "duration": 46,
    "start_time": "2021-07-08T08:41:11.140Z"
   },
   {
    "duration": 17,
    "start_time": "2021-07-08T08:41:11.187Z"
   },
   {
    "duration": 6,
    "start_time": "2021-07-08T08:41:11.206Z"
   },
   {
    "duration": 5,
    "start_time": "2021-07-08T08:41:11.213Z"
   },
   {
    "duration": 10,
    "start_time": "2021-07-08T08:41:11.219Z"
   },
   {
    "duration": 9,
    "start_time": "2021-07-08T08:41:11.230Z"
   },
   {
    "duration": 45,
    "start_time": "2021-07-08T08:41:11.241Z"
   },
   {
    "duration": 7,
    "start_time": "2021-07-08T08:41:11.287Z"
   },
   {
    "duration": 24,
    "start_time": "2021-07-08T08:41:11.296Z"
   },
   {
    "duration": 16,
    "start_time": "2021-07-08T08:41:11.322Z"
   },
   {
    "duration": 7,
    "start_time": "2021-07-08T08:41:11.341Z"
   },
   {
    "duration": 41,
    "start_time": "2021-07-08T08:41:11.349Z"
   },
   {
    "duration": 17,
    "start_time": "2021-07-08T08:41:11.391Z"
   },
   {
    "duration": 9,
    "start_time": "2021-07-08T08:41:11.410Z"
   },
   {
    "duration": 5,
    "start_time": "2021-07-08T08:41:11.421Z"
   },
   {
    "duration": 6,
    "start_time": "2021-07-08T08:41:11.428Z"
   },
   {
    "duration": 198,
    "start_time": "2021-07-08T08:41:11.435Z"
   },
   {
    "duration": 18,
    "start_time": "2021-07-08T08:41:11.635Z"
   },
   {
    "duration": 155,
    "start_time": "2021-07-08T08:41:11.655Z"
   },
   {
    "duration": 138,
    "start_time": "2021-07-08T08:41:11.811Z"
   },
   {
    "duration": 10,
    "start_time": "2021-07-08T08:41:11.950Z"
   },
   {
    "duration": 29,
    "start_time": "2021-07-08T08:41:11.961Z"
   },
   {
    "duration": 171,
    "start_time": "2021-07-08T08:47:44.522Z"
   },
   {
    "duration": 124,
    "start_time": "2021-07-08T08:47:46.872Z"
   },
   {
    "duration": 191,
    "start_time": "2021-07-08T08:47:58.148Z"
   },
   {
    "duration": 191,
    "start_time": "2021-07-08T08:48:07.412Z"
   },
   {
    "duration": 261,
    "start_time": "2021-07-08T08:48:10.385Z"
   },
   {
    "duration": 255,
    "start_time": "2021-07-08T08:48:14.494Z"
   },
   {
    "duration": 219,
    "start_time": "2021-07-08T08:48:22.752Z"
   },
   {
    "duration": 173,
    "start_time": "2021-07-08T08:49:06.395Z"
   },
   {
    "duration": 180,
    "start_time": "2021-07-08T08:49:21.011Z"
   },
   {
    "duration": 6,
    "start_time": "2021-07-08T08:50:31.697Z"
   },
   {
    "duration": 10,
    "start_time": "2021-07-08T08:50:47.394Z"
   },
   {
    "duration": 11,
    "start_time": "2021-07-08T08:53:49.332Z"
   },
   {
    "duration": 171,
    "start_time": "2021-07-08T08:54:28.408Z"
   },
   {
    "duration": 636,
    "start_time": "2021-07-08T09:02:48.385Z"
   },
   {
    "duration": 227,
    "start_time": "2021-07-08T09:02:49.023Z"
   },
   {
    "duration": 104,
    "start_time": "2021-07-08T09:02:49.252Z"
   },
   {
    "duration": 5,
    "start_time": "2021-07-08T09:02:49.358Z"
   },
   {
    "duration": 27,
    "start_time": "2021-07-08T09:02:49.365Z"
   },
   {
    "duration": 8,
    "start_time": "2021-07-08T09:02:49.394Z"
   },
   {
    "duration": 18,
    "start_time": "2021-07-08T09:02:49.404Z"
   },
   {
    "duration": 6,
    "start_time": "2021-07-08T09:02:49.424Z"
   },
   {
    "duration": 11,
    "start_time": "2021-07-08T09:02:49.433Z"
   },
   {
    "duration": 13,
    "start_time": "2021-07-08T09:02:49.485Z"
   },
   {
    "duration": 9,
    "start_time": "2021-07-08T09:02:49.500Z"
   },
   {
    "duration": 38,
    "start_time": "2021-07-08T09:02:49.511Z"
   },
   {
    "duration": 42,
    "start_time": "2021-07-08T09:02:49.551Z"
   },
   {
    "duration": 21,
    "start_time": "2021-07-08T09:02:49.594Z"
   },
   {
    "duration": 6,
    "start_time": "2021-07-08T09:02:49.616Z"
   },
   {
    "duration": 3,
    "start_time": "2021-07-08T09:02:49.623Z"
   },
   {
    "duration": 9,
    "start_time": "2021-07-08T09:02:49.628Z"
   },
   {
    "duration": 52,
    "start_time": "2021-07-08T09:02:49.638Z"
   },
   {
    "duration": 11,
    "start_time": "2021-07-08T09:02:49.692Z"
   },
   {
    "duration": 8,
    "start_time": "2021-07-08T09:02:49.704Z"
   },
   {
    "duration": 27,
    "start_time": "2021-07-08T09:02:49.713Z"
   },
   {
    "duration": 59,
    "start_time": "2021-07-08T09:02:49.741Z"
   },
   {
    "duration": 8,
    "start_time": "2021-07-08T09:02:49.803Z"
   },
   {
    "duration": 14,
    "start_time": "2021-07-08T09:02:49.813Z"
   },
   {
    "duration": 20,
    "start_time": "2021-07-08T09:02:49.829Z"
   },
   {
    "duration": 44,
    "start_time": "2021-07-08T09:02:49.851Z"
   },
   {
    "duration": 14,
    "start_time": "2021-07-08T09:02:49.896Z"
   },
   {
    "duration": 221,
    "start_time": "2021-07-08T09:02:49.912Z"
   },
   {
    "duration": 6,
    "start_time": "2021-07-08T09:02:50.134Z"
   },
   {
    "duration": 206,
    "start_time": "2021-07-08T09:02:50.142Z"
   },
   {
    "duration": 19,
    "start_time": "2021-07-08T09:02:50.350Z"
   },
   {
    "duration": 21,
    "start_time": "2021-07-08T09:02:50.370Z"
   },
   {
    "duration": 20,
    "start_time": "2021-07-08T09:02:50.393Z"
   },
   {
    "duration": 5,
    "start_time": "2021-07-08T09:02:50.414Z"
   },
   {
    "duration": 5,
    "start_time": "2021-07-08T09:03:34.173Z"
   },
   {
    "duration": 6,
    "start_time": "2021-07-08T09:04:49.062Z"
   },
   {
    "duration": 9,
    "start_time": "2021-07-08T09:04:50.118Z"
   },
   {
    "duration": 14,
    "start_time": "2021-07-08T09:04:58.512Z"
   },
   {
    "duration": 9,
    "start_time": "2021-07-08T09:05:10.988Z"
   },
   {
    "duration": 11,
    "start_time": "2021-07-08T09:05:11.743Z"
   },
   {
    "duration": 7,
    "start_time": "2021-07-08T09:05:25.677Z"
   },
   {
    "duration": 13,
    "start_time": "2021-07-08T09:05:47.189Z"
   },
   {
    "duration": 13,
    "start_time": "2021-07-08T09:05:54.755Z"
   },
   {
    "duration": 4,
    "start_time": "2021-07-08T09:06:29.189Z"
   },
   {
    "duration": 244,
    "start_time": "2021-07-08T09:06:29.195Z"
   },
   {
    "duration": 91,
    "start_time": "2021-07-08T09:06:29.441Z"
   },
   {
    "duration": 4,
    "start_time": "2021-07-08T09:06:29.534Z"
   },
   {
    "duration": 28,
    "start_time": "2021-07-08T09:06:29.540Z"
   },
   {
    "duration": 6,
    "start_time": "2021-07-08T09:06:29.570Z"
   },
   {
    "duration": 18,
    "start_time": "2021-07-08T09:06:29.578Z"
   },
   {
    "duration": 5,
    "start_time": "2021-07-08T09:06:29.597Z"
   },
   {
    "duration": 13,
    "start_time": "2021-07-08T09:06:29.605Z"
   },
   {
    "duration": 8,
    "start_time": "2021-07-08T09:06:29.620Z"
   },
   {
    "duration": 7,
    "start_time": "2021-07-08T09:06:29.630Z"
   },
   {
    "duration": 63,
    "start_time": "2021-07-08T09:06:29.639Z"
   },
   {
    "duration": 17,
    "start_time": "2021-07-08T09:06:29.704Z"
   },
   {
    "duration": 20,
    "start_time": "2021-07-08T09:06:29.723Z"
   },
   {
    "duration": 6,
    "start_time": "2021-07-08T09:06:29.745Z"
   },
   {
    "duration": 3,
    "start_time": "2021-07-08T09:06:29.752Z"
   },
   {
    "duration": 7,
    "start_time": "2021-07-08T09:06:29.785Z"
   },
   {
    "duration": 11,
    "start_time": "2021-07-08T09:06:29.794Z"
   },
   {
    "duration": 15,
    "start_time": "2021-07-08T09:06:29.807Z"
   },
   {
    "duration": 8,
    "start_time": "2021-07-08T09:06:29.823Z"
   },
   {
    "duration": 70,
    "start_time": "2021-07-08T09:06:29.832Z"
   },
   {
    "duration": 17,
    "start_time": "2021-07-08T09:06:29.903Z"
   },
   {
    "duration": 9,
    "start_time": "2021-07-08T09:06:29.921Z"
   },
   {
    "duration": 9,
    "start_time": "2021-07-08T09:06:29.932Z"
   },
   {
    "duration": 57,
    "start_time": "2021-07-08T09:06:29.942Z"
   },
   {
    "duration": 11,
    "start_time": "2021-07-08T09:06:30.001Z"
   },
   {
    "duration": 19,
    "start_time": "2021-07-08T09:06:30.016Z"
   },
   {
    "duration": 217,
    "start_time": "2021-07-08T09:06:30.037Z"
   },
   {
    "duration": 6,
    "start_time": "2021-07-08T09:06:30.255Z"
   },
   {
    "duration": 205,
    "start_time": "2021-07-08T09:06:30.263Z"
   },
   {
    "duration": 27,
    "start_time": "2021-07-08T09:06:30.470Z"
   },
   {
    "duration": 11,
    "start_time": "2021-07-08T09:06:30.500Z"
   },
   {
    "duration": 31,
    "start_time": "2021-07-08T09:06:30.513Z"
   },
   {
    "duration": 18,
    "start_time": "2021-07-08T09:06:30.546Z"
   },
   {
    "duration": 11,
    "start_time": "2021-07-08T09:06:30.566Z"
   },
   {
    "duration": 19,
    "start_time": "2021-07-08T09:06:30.579Z"
   },
   {
    "duration": 20,
    "start_time": "2021-07-08T09:06:49.466Z"
   },
   {
    "duration": 9,
    "start_time": "2021-07-08T09:06:51.994Z"
   },
   {
    "duration": 20,
    "start_time": "2021-07-08T09:06:52.273Z"
   },
   {
    "duration": 246,
    "start_time": "2021-07-08T09:10:21.272Z"
   },
   {
    "duration": 84,
    "start_time": "2021-07-08T09:10:21.436Z"
   },
   {
    "duration": 7,
    "start_time": "2021-07-08T09:10:37.608Z"
   },
   {
    "duration": 189,
    "start_time": "2021-07-08T09:10:38.573Z"
   },
   {
    "duration": 185,
    "start_time": "2021-07-08T09:10:53.181Z"
   },
   {
    "duration": 11,
    "start_time": "2021-07-08T09:10:59.549Z"
   },
   {
    "duration": 42,
    "start_time": "2021-07-08T09:10:59.709Z"
   },
   {
    "duration": 12,
    "start_time": "2021-07-08T09:11:02.857Z"
   },
   {
    "duration": 28,
    "start_time": "2021-07-08T09:11:10.062Z"
   },
   {
    "duration": 249,
    "start_time": "2021-07-08T09:11:37.388Z"
   },
   {
    "duration": 232,
    "start_time": "2021-07-08T09:11:49.485Z"
   },
   {
    "duration": 453,
    "start_time": "2021-07-08T09:12:01.546Z"
   },
   {
    "duration": 440,
    "start_time": "2021-07-08T09:12:12.347Z"
   },
   {
    "duration": 213,
    "start_time": "2021-07-08T09:13:32.196Z"
   },
   {
    "duration": 172,
    "start_time": "2021-07-08T09:14:07.400Z"
   },
   {
    "duration": 185,
    "start_time": "2021-07-08T09:14:14.905Z"
   },
   {
    "duration": 209,
    "start_time": "2021-07-08T09:14:40.109Z"
   },
   {
    "duration": 201,
    "start_time": "2021-07-08T09:14:54.506Z"
   },
   {
    "duration": 622,
    "start_time": "2021-07-08T09:18:14.497Z"
   },
   {
    "duration": 220,
    "start_time": "2021-07-08T09:18:15.121Z"
   },
   {
    "duration": 79,
    "start_time": "2021-07-08T09:18:15.343Z"
   },
   {
    "duration": 4,
    "start_time": "2021-07-08T09:18:15.425Z"
   },
   {
    "duration": 24,
    "start_time": "2021-07-08T09:18:15.431Z"
   },
   {
    "duration": 8,
    "start_time": "2021-07-08T09:18:15.457Z"
   },
   {
    "duration": 16,
    "start_time": "2021-07-08T09:18:15.466Z"
   },
   {
    "duration": 5,
    "start_time": "2021-07-08T09:18:15.484Z"
   },
   {
    "duration": 10,
    "start_time": "2021-07-08T09:18:15.493Z"
   },
   {
    "duration": 8,
    "start_time": "2021-07-08T09:18:15.504Z"
   },
   {
    "duration": 7,
    "start_time": "2021-07-08T09:18:15.513Z"
   },
   {
    "duration": 26,
    "start_time": "2021-07-08T09:18:15.522Z"
   },
   {
    "duration": 49,
    "start_time": "2021-07-08T09:18:15.550Z"
   },
   {
    "duration": 21,
    "start_time": "2021-07-08T09:18:15.601Z"
   },
   {
    "duration": 8,
    "start_time": "2021-07-08T09:18:15.624Z"
   },
   {
    "duration": 3,
    "start_time": "2021-07-08T09:18:15.634Z"
   },
   {
    "duration": 8,
    "start_time": "2021-07-08T09:18:15.639Z"
   },
   {
    "duration": 45,
    "start_time": "2021-07-08T09:18:15.649Z"
   },
   {
    "duration": 13,
    "start_time": "2021-07-08T09:18:15.696Z"
   },
   {
    "duration": 10,
    "start_time": "2021-07-08T09:18:15.711Z"
   },
   {
    "duration": 64,
    "start_time": "2021-07-08T09:18:15.722Z"
   },
   {
    "duration": 19,
    "start_time": "2021-07-08T09:18:15.788Z"
   },
   {
    "duration": 9,
    "start_time": "2021-07-08T09:18:15.809Z"
   },
   {
    "duration": 9,
    "start_time": "2021-07-08T09:18:15.820Z"
   },
   {
    "duration": 18,
    "start_time": "2021-07-08T09:18:15.831Z"
   },
   {
    "duration": 43,
    "start_time": "2021-07-08T09:18:15.851Z"
   },
   {
    "duration": 12,
    "start_time": "2021-07-08T09:18:15.897Z"
   },
   {
    "duration": 219,
    "start_time": "2021-07-08T09:18:15.911Z"
   },
   {
    "duration": 8,
    "start_time": "2021-07-08T09:18:16.132Z"
   },
   {
    "duration": 199,
    "start_time": "2021-07-08T09:18:16.141Z"
   },
   {
    "duration": 18,
    "start_time": "2021-07-08T09:18:16.341Z"
   },
   {
    "duration": 24,
    "start_time": "2021-07-08T09:18:16.361Z"
   },
   {
    "duration": 24,
    "start_time": "2021-07-08T09:18:16.387Z"
   },
   {
    "duration": 211,
    "start_time": "2021-07-08T09:18:16.413Z"
   },
   {
    "duration": 18,
    "start_time": "2021-07-08T09:18:16.626Z"
   },
   {
    "duration": 596,
    "start_time": "2021-07-08T10:06:33.623Z"
   },
   {
    "duration": 181,
    "start_time": "2021-07-08T10:06:34.221Z"
   },
   {
    "duration": 176,
    "start_time": "2021-07-08T10:06:34.635Z"
   },
   {
    "duration": 239,
    "start_time": "2021-07-08T10:06:55.572Z"
   },
   {
    "duration": 6,
    "start_time": "2021-07-08T10:06:57.687Z"
   },
   {
    "duration": 4,
    "start_time": "2021-07-08T10:07:03.956Z"
   },
   {
    "duration": 4,
    "start_time": "2021-07-08T10:07:10.376Z"
   },
   {
    "duration": 4,
    "start_time": "2021-07-08T10:17:19.889Z"
   },
   {
    "duration": 3,
    "start_time": "2021-07-08T10:19:19.407Z"
   },
   {
    "duration": 197,
    "start_time": "2021-07-08T10:19:19.412Z"
   },
   {
    "duration": 127,
    "start_time": "2021-07-08T10:19:19.611Z"
   },
   {
    "duration": 4,
    "start_time": "2021-07-08T10:19:19.740Z"
   },
   {
    "duration": 27,
    "start_time": "2021-07-08T10:19:19.746Z"
   },
   {
    "duration": 7,
    "start_time": "2021-07-08T10:19:19.775Z"
   },
   {
    "duration": 30,
    "start_time": "2021-07-08T10:19:19.784Z"
   },
   {
    "duration": 7,
    "start_time": "2021-07-08T10:19:19.817Z"
   },
   {
    "duration": 26,
    "start_time": "2021-07-08T10:19:19.826Z"
   },
   {
    "duration": 18,
    "start_time": "2021-07-08T10:19:19.854Z"
   },
   {
    "duration": 14,
    "start_time": "2021-07-08T10:19:19.874Z"
   },
   {
    "duration": 48,
    "start_time": "2021-07-08T10:19:19.890Z"
   },
   {
    "duration": 17,
    "start_time": "2021-07-08T10:19:19.940Z"
   },
   {
    "duration": 38,
    "start_time": "2021-07-08T10:19:19.959Z"
   },
   {
    "duration": 8,
    "start_time": "2021-07-08T10:19:19.999Z"
   },
   {
    "duration": 15,
    "start_time": "2021-07-08T10:19:20.009Z"
   },
   {
    "duration": 22,
    "start_time": "2021-07-08T10:19:20.026Z"
   },
   {
    "duration": 10,
    "start_time": "2021-07-08T10:19:20.050Z"
   },
   {
    "duration": 10,
    "start_time": "2021-07-08T10:19:20.062Z"
   },
   {
    "duration": 20,
    "start_time": "2021-07-08T10:19:20.073Z"
   },
   {
    "duration": 29,
    "start_time": "2021-07-08T10:19:20.095Z"
   },
   {
    "duration": 17,
    "start_time": "2021-07-08T10:19:20.126Z"
   },
   {
    "duration": 40,
    "start_time": "2021-07-08T10:19:20.146Z"
   },
   {
    "duration": 15,
    "start_time": "2021-07-08T10:19:20.189Z"
   },
   {
    "duration": 19,
    "start_time": "2021-07-08T10:19:20.206Z"
   },
   {
    "duration": 10,
    "start_time": "2021-07-08T10:19:20.226Z"
   },
   {
    "duration": 11,
    "start_time": "2021-07-08T10:19:20.238Z"
   },
   {
    "duration": 297,
    "start_time": "2021-07-08T10:19:20.250Z"
   },
   {
    "duration": 6,
    "start_time": "2021-07-08T10:19:20.549Z"
   },
   {
    "duration": 191,
    "start_time": "2021-07-08T10:19:20.557Z"
   },
   {
    "duration": 19,
    "start_time": "2021-07-08T10:19:20.750Z"
   },
   {
    "duration": 20,
    "start_time": "2021-07-08T10:19:20.771Z"
   },
   {
    "duration": 15,
    "start_time": "2021-07-08T10:19:20.793Z"
   },
   {
    "duration": 222,
    "start_time": "2021-07-08T10:19:20.809Z"
   },
   {
    "duration": 20,
    "start_time": "2021-07-08T10:19:21.033Z"
   },
   {
    "duration": 27,
    "start_time": "2021-07-08T10:45:04.055Z"
   },
   {
    "duration": 8,
    "start_time": "2021-07-08T10:45:08.478Z"
   },
   {
    "duration": 8,
    "start_time": "2021-07-08T10:45:31.982Z"
   },
   {
    "duration": 10,
    "start_time": "2021-07-08T10:46:01.221Z"
   },
   {
    "duration": 17,
    "start_time": "2021-07-08T10:46:40.011Z"
   },
   {
    "duration": 193,
    "start_time": "2021-07-08T10:48:19.471Z"
   },
   {
    "duration": 225,
    "start_time": "2021-07-08T10:49:26.480Z"
   },
   {
    "duration": 204,
    "start_time": "2021-07-08T10:49:59.992Z"
   },
   {
    "duration": 435,
    "start_time": "2021-07-08T10:50:06.779Z"
   },
   {
    "duration": 199,
    "start_time": "2021-07-08T10:50:14.891Z"
   },
   {
    "duration": 204,
    "start_time": "2021-07-08T10:50:18.501Z"
   },
   {
    "duration": 244,
    "start_time": "2021-07-08T10:50:23.359Z"
   },
   {
    "duration": 192,
    "start_time": "2021-07-08T10:50:29.135Z"
   },
   {
    "duration": 218,
    "start_time": "2021-07-08T10:50:33.092Z"
   },
   {
    "duration": 207,
    "start_time": "2021-07-08T10:52:45.381Z"
   },
   {
    "duration": 5,
    "start_time": "2021-07-08T10:53:34.641Z"
   },
   {
    "duration": 196,
    "start_time": "2021-07-08T10:53:41.478Z"
   },
   {
    "duration": 43,
    "start_time": "2021-07-08T10:53:50.335Z"
   },
   {
    "duration": 32,
    "start_time": "2021-07-08T10:53:55.294Z"
   },
   {
    "duration": 55,
    "start_time": "2021-07-08T10:54:09.675Z"
   },
   {
    "duration": 16,
    "start_time": "2021-07-08T10:54:12.260Z"
   },
   {
    "duration": 15,
    "start_time": "2021-07-08T10:54:49.150Z"
   },
   {
    "duration": 20,
    "start_time": "2021-07-08T10:56:07.596Z"
   },
   {
    "duration": 16,
    "start_time": "2021-07-08T10:58:26.276Z"
   },
   {
    "duration": 22,
    "start_time": "2021-07-08T10:59:00.486Z"
   },
   {
    "duration": 18,
    "start_time": "2021-07-08T11:02:09.653Z"
   },
   {
    "duration": 10,
    "start_time": "2021-07-08T11:03:44.331Z"
   },
   {
    "duration": 10,
    "start_time": "2021-07-08T11:03:54.055Z"
   },
   {
    "duration": 12,
    "start_time": "2021-07-08T11:04:41.967Z"
   },
   {
    "duration": 24,
    "start_time": "2021-07-08T11:07:30.732Z"
   },
   {
    "duration": 6,
    "start_time": "2021-07-08T11:07:37.364Z"
   },
   {
    "duration": 16,
    "start_time": "2021-07-08T11:08:01.819Z"
   },
   {
    "duration": 17,
    "start_time": "2021-07-08T11:09:47.488Z"
   },
   {
    "duration": 246,
    "start_time": "2021-07-08T11:10:00.830Z"
   },
   {
    "duration": 18,
    "start_time": "2021-07-08T11:13:55.195Z"
   },
   {
    "duration": 204,
    "start_time": "2021-07-08T11:14:04.951Z"
   },
   {
    "duration": 19,
    "start_time": "2021-07-08T11:15:10.613Z"
   },
   {
    "duration": 680,
    "start_time": "2021-07-08T11:16:25.793Z"
   },
   {
    "duration": 451,
    "start_time": "2021-07-08T11:16:40.313Z"
   },
   {
    "duration": 469,
    "start_time": "2021-07-08T11:17:21.286Z"
   },
   {
    "duration": 20,
    "start_time": "2021-07-08T11:19:12.554Z"
   },
   {
    "duration": 35,
    "start_time": "2021-07-08T11:20:05.484Z"
   },
   {
    "duration": 53,
    "start_time": "2021-07-08T11:21:40.050Z"
   },
   {
    "duration": 13,
    "start_time": "2021-07-08T11:22:26.059Z"
   },
   {
    "duration": 19,
    "start_time": "2021-07-08T11:22:47.419Z"
   },
   {
    "duration": 25,
    "start_time": "2021-07-08T11:23:19.958Z"
   },
   {
    "duration": 29,
    "start_time": "2021-07-08T11:23:25.415Z"
   },
   {
    "duration": 10,
    "start_time": "2021-07-08T11:24:45.138Z"
   },
   {
    "duration": 19,
    "start_time": "2021-07-08T11:24:54.498Z"
   },
   {
    "duration": 12,
    "start_time": "2021-07-08T11:25:32.225Z"
   },
   {
    "duration": 19,
    "start_time": "2021-07-08T11:25:37.092Z"
   },
   {
    "duration": 17,
    "start_time": "2021-07-08T11:25:58.116Z"
   },
   {
    "duration": 15,
    "start_time": "2021-07-08T11:26:02.258Z"
   },
   {
    "duration": 8,
    "start_time": "2021-07-08T11:26:59.682Z"
   },
   {
    "duration": 184,
    "start_time": "2021-07-08T11:27:21.894Z"
   },
   {
    "duration": 8,
    "start_time": "2021-07-08T11:27:23.824Z"
   },
   {
    "duration": 202,
    "start_time": "2021-07-08T11:27:23.962Z"
   },
   {
    "duration": 360,
    "start_time": "2021-07-08T11:28:33.215Z"
   },
   {
    "duration": 231,
    "start_time": "2021-07-08T11:32:05.542Z"
   },
   {
    "duration": 607,
    "start_time": "2021-07-08T11:36:27.854Z"
   },
   {
    "duration": 241,
    "start_time": "2021-07-08T11:36:28.463Z"
   },
   {
    "duration": 67,
    "start_time": "2021-07-08T11:36:28.709Z"
   },
   {
    "duration": 5,
    "start_time": "2021-07-08T11:36:28.778Z"
   },
   {
    "duration": 32,
    "start_time": "2021-07-08T11:36:28.784Z"
   },
   {
    "duration": 11,
    "start_time": "2021-07-08T11:36:28.819Z"
   },
   {
    "duration": 20,
    "start_time": "2021-07-08T11:36:28.834Z"
   },
   {
    "duration": 36,
    "start_time": "2021-07-08T11:36:28.857Z"
   },
   {
    "duration": 16,
    "start_time": "2021-07-08T11:36:28.895Z"
   },
   {
    "duration": 14,
    "start_time": "2021-07-08T11:36:28.913Z"
   },
   {
    "duration": 9,
    "start_time": "2021-07-08T11:36:28.930Z"
   },
   {
    "duration": 55,
    "start_time": "2021-07-08T11:36:28.941Z"
   },
   {
    "duration": 27,
    "start_time": "2021-07-08T11:36:28.999Z"
   },
   {
    "duration": 30,
    "start_time": "2021-07-08T11:36:29.028Z"
   },
   {
    "duration": 31,
    "start_time": "2021-07-08T11:36:29.060Z"
   },
   {
    "duration": 3,
    "start_time": "2021-07-08T11:36:29.093Z"
   },
   {
    "duration": 12,
    "start_time": "2021-07-08T11:36:29.099Z"
   },
   {
    "duration": 11,
    "start_time": "2021-07-08T11:36:29.112Z"
   },
   {
    "duration": 12,
    "start_time": "2021-07-08T11:36:29.125Z"
   },
   {
    "duration": 9,
    "start_time": "2021-07-08T11:36:29.139Z"
   },
   {
    "duration": 31,
    "start_time": "2021-07-08T11:36:29.191Z"
   },
   {
    "duration": 17,
    "start_time": "2021-07-08T11:36:29.226Z"
   },
   {
    "duration": 7,
    "start_time": "2021-07-08T11:36:29.245Z"
   },
   {
    "duration": 10,
    "start_time": "2021-07-08T11:36:29.254Z"
   },
   {
    "duration": 30,
    "start_time": "2021-07-08T11:36:29.292Z"
   },
   {
    "duration": 11,
    "start_time": "2021-07-08T11:36:29.324Z"
   },
   {
    "duration": 11,
    "start_time": "2021-07-08T11:36:29.337Z"
   },
   {
    "duration": 230,
    "start_time": "2021-07-08T11:36:29.349Z"
   },
   {
    "duration": 13,
    "start_time": "2021-07-08T11:36:29.588Z"
   },
   {
    "duration": 205,
    "start_time": "2021-07-08T11:36:29.603Z"
   },
   {
    "duration": 20,
    "start_time": "2021-07-08T11:36:29.810Z"
   },
   {
    "duration": 9,
    "start_time": "2021-07-08T11:36:29.832Z"
   },
   {
    "duration": 16,
    "start_time": "2021-07-08T11:36:29.843Z"
   },
   {
    "duration": 283,
    "start_time": "2021-07-08T11:36:29.861Z"
   },
   {
    "duration": 50,
    "start_time": "2021-07-08T11:36:30.146Z"
   },
   {
    "duration": 14,
    "start_time": "2021-07-08T11:36:30.198Z"
   },
   {
    "duration": 11,
    "start_time": "2021-07-08T11:36:30.214Z"
   },
   {
    "duration": 245,
    "start_time": "2021-07-08T11:36:30.227Z"
   },
   {
    "duration": 439,
    "start_time": "2021-07-08T11:36:30.474Z"
   },
   {
    "duration": 210,
    "start_time": "2021-07-08T11:36:30.915Z"
   },
   {
    "duration": 15,
    "start_time": "2021-07-08T11:36:31.127Z"
   },
   {
    "duration": 17,
    "start_time": "2021-07-08T11:38:20.451Z"
   },
   {
    "duration": 642,
    "start_time": "2021-07-08T11:46:17.881Z"
   },
   {
    "duration": 210,
    "start_time": "2021-07-08T11:46:18.525Z"
   },
   {
    "duration": 104,
    "start_time": "2021-07-08T11:46:18.741Z"
   },
   {
    "duration": 8,
    "start_time": "2021-07-08T11:46:18.847Z"
   },
   {
    "duration": 25,
    "start_time": "2021-07-08T11:46:18.857Z"
   },
   {
    "duration": 14,
    "start_time": "2021-07-08T11:46:18.884Z"
   },
   {
    "duration": 22,
    "start_time": "2021-07-08T11:46:18.900Z"
   },
   {
    "duration": 5,
    "start_time": "2021-07-08T11:46:18.924Z"
   },
   {
    "duration": 13,
    "start_time": "2021-07-08T11:46:18.931Z"
   },
   {
    "duration": 45,
    "start_time": "2021-07-08T11:46:18.946Z"
   },
   {
    "duration": 12,
    "start_time": "2021-07-08T11:46:18.993Z"
   },
   {
    "duration": 38,
    "start_time": "2021-07-08T11:46:19.006Z"
   },
   {
    "duration": 50,
    "start_time": "2021-07-08T11:46:19.046Z"
   },
   {
    "duration": 29,
    "start_time": "2021-07-08T11:46:19.099Z"
   },
   {
    "duration": 7,
    "start_time": "2021-07-08T11:46:19.130Z"
   },
   {
    "duration": 3,
    "start_time": "2021-07-08T11:46:19.139Z"
   },
   {
    "duration": 11,
    "start_time": "2021-07-08T11:46:19.144Z"
   },
   {
    "duration": 40,
    "start_time": "2021-07-08T11:46:19.157Z"
   },
   {
    "duration": 15,
    "start_time": "2021-07-08T11:46:19.199Z"
   },
   {
    "duration": 10,
    "start_time": "2021-07-08T11:46:19.217Z"
   },
   {
    "duration": 68,
    "start_time": "2021-07-08T11:46:19.230Z"
   },
   {
    "duration": 17,
    "start_time": "2021-07-08T11:46:19.301Z"
   },
   {
    "duration": 7,
    "start_time": "2021-07-08T11:46:19.321Z"
   },
   {
    "duration": 11,
    "start_time": "2021-07-08T11:46:19.330Z"
   },
   {
    "duration": 59,
    "start_time": "2021-07-08T11:46:19.343Z"
   },
   {
    "duration": 17,
    "start_time": "2021-07-08T11:46:19.405Z"
   },
   {
    "duration": 16,
    "start_time": "2021-07-08T11:46:19.424Z"
   },
   {
    "duration": 252,
    "start_time": "2021-07-08T11:46:19.443Z"
   },
   {
    "duration": 9,
    "start_time": "2021-07-08T11:46:19.697Z"
   },
   {
    "duration": 224,
    "start_time": "2021-07-08T11:46:19.708Z"
   },
   {
    "duration": 21,
    "start_time": "2021-07-08T11:46:19.934Z"
   },
   {
    "duration": 9,
    "start_time": "2021-07-08T11:46:19.956Z"
   },
   {
    "duration": 32,
    "start_time": "2021-07-08T11:46:19.967Z"
   },
   {
    "duration": 288,
    "start_time": "2021-07-08T11:46:20.004Z"
   },
   {
    "duration": 23,
    "start_time": "2021-07-08T11:46:20.300Z"
   },
   {
    "duration": 11,
    "start_time": "2021-07-08T11:46:20.325Z"
   },
   {
    "duration": 11,
    "start_time": "2021-07-08T11:46:20.339Z"
   },
   {
    "duration": 259,
    "start_time": "2021-07-08T11:46:20.352Z"
   },
   {
    "duration": 438,
    "start_time": "2021-07-08T11:46:20.613Z"
   },
   {
    "duration": 207,
    "start_time": "2021-07-08T11:46:21.054Z"
   },
   {
    "duration": 27,
    "start_time": "2021-07-08T11:46:21.262Z"
   },
   {
    "duration": 19,
    "start_time": "2021-07-08T11:46:21.291Z"
   },
   {
    "duration": 820,
    "start_time": "2021-07-08T11:49:01.655Z"
   },
   {
    "duration": 372,
    "start_time": "2021-07-08T11:49:02.478Z"
   },
   {
    "duration": 98,
    "start_time": "2021-07-08T11:49:02.853Z"
   },
   {
    "duration": 6,
    "start_time": "2021-07-08T11:49:02.953Z"
   },
   {
    "duration": 39,
    "start_time": "2021-07-08T11:49:02.960Z"
   },
   {
    "duration": 9,
    "start_time": "2021-07-08T11:49:03.003Z"
   },
   {
    "duration": 23,
    "start_time": "2021-07-08T11:49:03.014Z"
   },
   {
    "duration": 6,
    "start_time": "2021-07-08T11:49:03.041Z"
   },
   {
    "duration": 20,
    "start_time": "2021-07-08T11:49:03.049Z"
   },
   {
    "duration": 18,
    "start_time": "2021-07-08T11:49:03.084Z"
   },
   {
    "duration": 14,
    "start_time": "2021-07-08T11:49:03.104Z"
   },
   {
    "duration": 39,
    "start_time": "2021-07-08T11:49:03.119Z"
   },
   {
    "duration": 38,
    "start_time": "2021-07-08T11:49:03.160Z"
   },
   {
    "duration": 26,
    "start_time": "2021-07-08T11:49:03.200Z"
   },
   {
    "duration": 7,
    "start_time": "2021-07-08T11:49:03.227Z"
   },
   {
    "duration": 4,
    "start_time": "2021-07-08T11:49:03.236Z"
   },
   {
    "duration": 15,
    "start_time": "2021-07-08T11:49:03.243Z"
   },
   {
    "duration": 21,
    "start_time": "2021-07-08T11:49:03.285Z"
   },
   {
    "duration": 17,
    "start_time": "2021-07-08T11:49:03.309Z"
   },
   {
    "duration": 10,
    "start_time": "2021-07-08T11:49:03.328Z"
   },
   {
    "duration": 65,
    "start_time": "2021-07-08T11:49:03.340Z"
   },
   {
    "duration": 18,
    "start_time": "2021-07-08T11:49:03.407Z"
   },
   {
    "duration": 8,
    "start_time": "2021-07-08T11:49:03.428Z"
   },
   {
    "duration": 15,
    "start_time": "2021-07-08T11:49:03.438Z"
   },
   {
    "duration": 40,
    "start_time": "2021-07-08T11:49:03.455Z"
   },
   {
    "duration": 12,
    "start_time": "2021-07-08T11:49:03.497Z"
   },
   {
    "duration": 29,
    "start_time": "2021-07-08T11:49:03.511Z"
   },
   {
    "duration": 285,
    "start_time": "2021-07-08T11:49:03.542Z"
   },
   {
    "duration": 8,
    "start_time": "2021-07-08T11:49:03.829Z"
   },
   {
    "duration": 227,
    "start_time": "2021-07-08T11:49:03.838Z"
   },
   {
    "duration": 40,
    "start_time": "2021-07-08T11:49:04.066Z"
   },
   {
    "duration": 10,
    "start_time": "2021-07-08T11:49:04.108Z"
   },
   {
    "duration": 26,
    "start_time": "2021-07-08T11:49:04.121Z"
   },
   {
    "duration": 290,
    "start_time": "2021-07-08T11:49:04.149Z"
   },
   {
    "duration": 26,
    "start_time": "2021-07-08T11:49:04.441Z"
   },
   {
    "duration": 31,
    "start_time": "2021-07-08T11:49:04.470Z"
   },
   {
    "duration": 14,
    "start_time": "2021-07-08T11:49:04.503Z"
   },
   {
    "duration": 259,
    "start_time": "2021-07-08T11:49:04.521Z"
   },
   {
    "duration": 480,
    "start_time": "2021-07-08T11:49:04.782Z"
   },
   {
    "duration": 225,
    "start_time": "2021-07-08T11:49:05.264Z"
   },
   {
    "duration": 22,
    "start_time": "2021-07-08T11:49:05.491Z"
   },
   {
    "duration": 24,
    "start_time": "2021-07-08T11:49:05.515Z"
   },
   {
    "duration": 634,
    "start_time": "2021-07-08T11:52:24.960Z"
   },
   {
    "duration": 199,
    "start_time": "2021-07-08T11:52:25.599Z"
   },
   {
    "duration": 106,
    "start_time": "2021-07-08T11:52:25.803Z"
   },
   {
    "duration": 7,
    "start_time": "2021-07-08T11:52:25.911Z"
   },
   {
    "duration": 29,
    "start_time": "2021-07-08T11:52:25.920Z"
   },
   {
    "duration": 7,
    "start_time": "2021-07-08T11:52:25.951Z"
   },
   {
    "duration": 26,
    "start_time": "2021-07-08T11:52:25.961Z"
   },
   {
    "duration": 11,
    "start_time": "2021-07-08T11:52:25.990Z"
   },
   {
    "duration": 29,
    "start_time": "2021-07-08T11:52:26.005Z"
   },
   {
    "duration": 9,
    "start_time": "2021-07-08T11:52:26.036Z"
   },
   {
    "duration": 8,
    "start_time": "2021-07-08T11:52:26.047Z"
   },
   {
    "duration": 63,
    "start_time": "2021-07-08T11:52:26.057Z"
   },
   {
    "duration": 17,
    "start_time": "2021-07-08T11:52:26.122Z"
   },
   {
    "duration": 43,
    "start_time": "2021-07-08T11:52:26.142Z"
   },
   {
    "duration": 17,
    "start_time": "2021-07-08T11:52:26.187Z"
   },
   {
    "duration": 5,
    "start_time": "2021-07-08T11:52:26.206Z"
   },
   {
    "duration": 12,
    "start_time": "2021-07-08T11:52:26.212Z"
   },
   {
    "duration": 11,
    "start_time": "2021-07-08T11:52:26.226Z"
   },
   {
    "duration": 12,
    "start_time": "2021-07-08T11:52:26.238Z"
   },
   {
    "duration": 38,
    "start_time": "2021-07-08T11:52:26.252Z"
   },
   {
    "duration": 40,
    "start_time": "2021-07-08T11:52:26.292Z"
   },
   {
    "duration": 17,
    "start_time": "2021-07-08T11:52:26.336Z"
   },
   {
    "duration": 39,
    "start_time": "2021-07-08T11:52:26.355Z"
   },
   {
    "duration": 11,
    "start_time": "2021-07-08T11:52:26.395Z"
   },
   {
    "duration": 23,
    "start_time": "2021-07-08T11:52:26.408Z"
   },
   {
    "duration": 12,
    "start_time": "2021-07-08T11:52:26.432Z"
   },
   {
    "duration": 41,
    "start_time": "2021-07-08T11:52:26.446Z"
   },
   {
    "duration": 215,
    "start_time": "2021-07-08T11:52:26.493Z"
   },
   {
    "duration": 8,
    "start_time": "2021-07-08T11:52:26.710Z"
   },
   {
    "duration": 228,
    "start_time": "2021-07-08T11:52:26.720Z"
   },
   {
    "duration": 18,
    "start_time": "2021-07-08T11:52:26.950Z"
   },
   {
    "duration": 35,
    "start_time": "2021-07-08T11:52:26.969Z"
   },
   {
    "duration": 23,
    "start_time": "2021-07-08T11:52:27.006Z"
   },
   {
    "duration": 258,
    "start_time": "2021-07-08T11:52:27.030Z"
   },
   {
    "duration": 24,
    "start_time": "2021-07-08T11:52:27.290Z"
   },
   {
    "duration": 12,
    "start_time": "2021-07-08T11:52:27.316Z"
   },
   {
    "duration": 10,
    "start_time": "2021-07-08T11:52:27.329Z"
   },
   {
    "duration": 298,
    "start_time": "2021-07-08T11:52:27.341Z"
   },
   {
    "duration": 436,
    "start_time": "2021-07-08T11:52:27.641Z"
   },
   {
    "duration": 216,
    "start_time": "2021-07-08T11:52:28.079Z"
   },
   {
    "duration": 20,
    "start_time": "2021-07-08T11:52:28.297Z"
   },
   {
    "duration": 17,
    "start_time": "2021-07-08T11:52:28.319Z"
   },
   {
    "duration": 1422,
    "start_time": "2021-07-15T22:02:10.898Z"
   },
   {
    "duration": 4,
    "start_time": "2021-07-15T22:04:18.015Z"
   },
   {
    "duration": 145,
    "start_time": "2021-07-15T22:04:20.060Z"
   },
   {
    "duration": 567,
    "start_time": "2021-07-15T22:05:19.843Z"
   },
   {
    "duration": 159,
    "start_time": "2021-07-15T22:06:39.484Z"
   },
   {
    "duration": 18,
    "start_time": "2021-07-15T22:29:21.612Z"
   },
   {
    "duration": 1334,
    "start_time": "2021-07-15T22:33:11.426Z"
   },
   {
    "duration": 413,
    "start_time": "2021-07-15T22:41:14.559Z"
   },
   {
    "duration": 11,
    "start_time": "2021-07-15T22:41:29.400Z"
   },
   {
    "duration": 308,
    "start_time": "2021-07-15T22:41:53.487Z"
   },
   {
    "duration": 39,
    "start_time": "2021-07-15T22:42:04.340Z"
   },
   {
    "duration": 26,
    "start_time": "2021-07-15T22:43:18.111Z"
   },
   {
    "duration": 28,
    "start_time": "2021-07-15T22:48:02.814Z"
   },
   {
    "duration": 271,
    "start_time": "2021-07-15T22:48:19.861Z"
   },
   {
    "duration": 1840,
    "start_time": "2021-07-15T22:48:34.026Z"
   },
   {
    "duration": 159,
    "start_time": "2021-07-15T22:48:35.869Z"
   },
   {
    "duration": 28,
    "start_time": "2021-07-15T22:48:36.031Z"
   },
   {
    "duration": 19,
    "start_time": "2021-07-15T22:48:36.061Z"
   },
   {
    "duration": 406,
    "start_time": "2021-07-15T22:48:59.111Z"
   },
   {
    "duration": 14,
    "start_time": "2021-07-15T22:49:04.633Z"
   },
   {
    "duration": 268,
    "start_time": "2021-07-15T22:49:30.648Z"
   },
   {
    "duration": 7,
    "start_time": "2021-07-15T22:49:37.547Z"
   },
   {
    "duration": 17,
    "start_time": "2021-07-15T22:50:00.946Z"
   },
   {
    "duration": 48,
    "start_time": "2021-07-15T22:52:25.961Z"
   },
   {
    "duration": 13,
    "start_time": "2021-07-15T22:53:00.811Z"
   },
   {
    "duration": 1467,
    "start_time": "2021-07-15T22:53:36.627Z"
   },
   {
    "duration": 162,
    "start_time": "2021-07-15T22:53:38.097Z"
   },
   {
    "duration": 28,
    "start_time": "2021-07-15T22:53:38.262Z"
   },
   {
    "duration": 10,
    "start_time": "2021-07-15T22:53:38.292Z"
   },
   {
    "duration": 20,
    "start_time": "2021-07-15T22:53:38.304Z"
   },
   {
    "duration": 17,
    "start_time": "2021-07-15T22:53:38.355Z"
   },
   {
    "duration": 13,
    "start_time": "2021-07-15T22:53:38.375Z"
   },
   {
    "duration": 19,
    "start_time": "2021-07-15T22:53:47.730Z"
   },
   {
    "duration": 1478,
    "start_time": "2021-07-15T22:53:54.743Z"
   },
   {
    "duration": 166,
    "start_time": "2021-07-15T22:53:56.223Z"
   },
   {
    "duration": 29,
    "start_time": "2021-07-15T22:53:56.393Z"
   },
   {
    "duration": 31,
    "start_time": "2021-07-15T22:53:56.426Z"
   },
   {
    "duration": 28,
    "start_time": "2021-07-15T22:53:56.460Z"
   },
   {
    "duration": 17,
    "start_time": "2021-07-15T22:53:56.491Z"
   },
   {
    "duration": 17,
    "start_time": "2021-07-15T22:53:56.510Z"
   },
   {
    "duration": 4,
    "start_time": "2021-07-16T10:28:17.085Z"
   },
   {
    "duration": 155,
    "start_time": "2021-07-16T10:28:17.092Z"
   },
   {
    "duration": 27,
    "start_time": "2021-07-16T10:28:17.250Z"
   },
   {
    "duration": 10,
    "start_time": "2021-07-16T10:28:17.280Z"
   },
   {
    "duration": 21,
    "start_time": "2021-07-16T10:28:17.292Z"
   },
   {
    "duration": 38,
    "start_time": "2021-07-16T10:28:17.316Z"
   },
   {
    "duration": 17,
    "start_time": "2021-07-16T10:28:17.357Z"
   },
   {
    "duration": 459,
    "start_time": "2021-07-16T10:37:06.318Z"
   },
   {
    "duration": 1527,
    "start_time": "2021-07-16T10:37:23.792Z"
   },
   {
    "duration": 161,
    "start_time": "2021-07-16T10:37:25.321Z"
   },
   {
    "duration": 10,
    "start_time": "2021-07-16T10:37:25.484Z"
   },
   {
    "duration": 17,
    "start_time": "2021-07-16T10:37:25.497Z"
   },
   {
    "duration": 53,
    "start_time": "2021-07-16T10:37:25.516Z"
   },
   {
    "duration": 16,
    "start_time": "2021-07-16T10:37:25.571Z"
   },
   {
    "duration": 70,
    "start_time": "2021-07-16T10:37:25.590Z"
   },
   {
    "duration": 423,
    "start_time": "2021-07-16T10:38:00.667Z"
   },
   {
    "duration": 2053,
    "start_time": "2021-07-16T10:38:09.783Z"
   },
   {
    "duration": 162,
    "start_time": "2021-07-16T10:38:11.839Z"
   },
   {
    "duration": 11,
    "start_time": "2021-07-16T10:38:12.004Z"
   },
   {
    "duration": 12,
    "start_time": "2021-07-16T10:38:12.017Z"
   },
   {
    "duration": 24,
    "start_time": "2021-07-16T10:38:12.032Z"
   },
   {
    "duration": 18,
    "start_time": "2021-07-16T10:38:12.058Z"
   },
   {
    "duration": 16,
    "start_time": "2021-07-16T10:38:12.079Z"
   },
   {
    "duration": 412,
    "start_time": "2021-07-16T10:41:14.916Z"
   },
   {
    "duration": 1859,
    "start_time": "2021-07-16T10:41:23.414Z"
   },
   {
    "duration": 157,
    "start_time": "2021-07-16T10:41:25.276Z"
   },
   {
    "duration": 12,
    "start_time": "2021-07-16T10:41:25.436Z"
   },
   {
    "duration": 26,
    "start_time": "2021-07-16T10:41:25.450Z"
   },
   {
    "duration": 6,
    "start_time": "2021-07-16T10:41:25.479Z"
   },
   {
    "duration": 21,
    "start_time": "2021-07-16T10:41:25.487Z"
   },
   {
    "duration": 48,
    "start_time": "2021-07-16T10:41:25.510Z"
   },
   {
    "duration": 17,
    "start_time": "2021-07-16T10:41:25.561Z"
   },
   {
    "duration": 10,
    "start_time": "2021-07-16T10:51:50.825Z"
   },
   {
    "duration": 26,
    "start_time": "2021-07-16T10:51:57.119Z"
   },
   {
    "duration": 32,
    "start_time": "2021-07-16T11:02:58.570Z"
   },
   {
    "duration": 4,
    "start_time": "2021-07-16T18:51:00.980Z"
   },
   {
    "duration": 226,
    "start_time": "2021-07-16T18:51:00.987Z"
   },
   {
    "duration": 12,
    "start_time": "2021-07-16T18:51:01.216Z"
   },
   {
    "duration": 41,
    "start_time": "2021-07-16T18:51:01.231Z"
   },
   {
    "duration": 6,
    "start_time": "2021-07-16T18:51:01.274Z"
   },
   {
    "duration": 26,
    "start_time": "2021-07-16T18:51:01.282Z"
   },
   {
    "duration": 26,
    "start_time": "2021-07-16T18:51:01.312Z"
   },
   {
    "duration": 17,
    "start_time": "2021-07-16T18:51:01.355Z"
   },
   {
    "duration": 26,
    "start_time": "2021-07-16T18:51:01.374Z"
   },
   {
    "duration": 1727,
    "start_time": "2021-07-18T10:40:45.105Z"
   },
   {
    "duration": 316,
    "start_time": "2021-07-18T10:40:46.835Z"
   },
   {
    "duration": 3,
    "start_time": "2021-07-18T10:40:47.154Z"
   },
   {
    "duration": 7,
    "start_time": "2021-07-18T10:40:47.160Z"
   },
   {
    "duration": 19,
    "start_time": "2021-07-18T10:40:47.170Z"
   },
   {
    "duration": 21,
    "start_time": "2021-07-18T10:40:47.192Z"
   },
   {
    "duration": 61,
    "start_time": "2021-07-18T10:40:47.216Z"
   },
   {
    "duration": 72,
    "start_time": "2021-07-18T10:40:47.282Z"
   },
   {
    "duration": 40,
    "start_time": "2021-07-18T10:40:47.358Z"
   },
   {
    "duration": 1486,
    "start_time": "2021-07-18T10:42:23.017Z"
   },
   {
    "duration": 192,
    "start_time": "2021-07-18T10:42:24.507Z"
   },
   {
    "duration": 3,
    "start_time": "2021-07-18T10:42:24.701Z"
   },
   {
    "duration": 14,
    "start_time": "2021-07-18T10:42:24.707Z"
   },
   {
    "duration": 40,
    "start_time": "2021-07-18T10:42:24.723Z"
   },
   {
    "duration": 497,
    "start_time": "2021-07-18T10:42:24.766Z"
   },
   {
    "duration": -152,
    "start_time": "2021-07-18T10:42:25.418Z"
   },
   {
    "duration": -152,
    "start_time": "2021-07-18T10:42:25.420Z"
   },
   {
    "duration": -153,
    "start_time": "2021-07-18T10:42:25.422Z"
   },
   {
    "duration": 1835,
    "start_time": "2021-07-18T10:43:53.337Z"
   },
   {
    "duration": 229,
    "start_time": "2021-07-18T10:43:55.175Z"
   },
   {
    "duration": 2,
    "start_time": "2021-07-18T10:43:55.407Z"
   },
   {
    "duration": 43,
    "start_time": "2021-07-18T10:43:55.412Z"
   },
   {
    "duration": 18,
    "start_time": "2021-07-18T10:43:55.457Z"
   },
   {
    "duration": 22,
    "start_time": "2021-07-18T10:43:55.478Z"
   },
   {
    "duration": 1174,
    "start_time": "2021-07-18T10:43:55.503Z"
   },
   {
    "duration": -222,
    "start_time": "2021-07-18T10:43:56.902Z"
   },
   {
    "duration": -223,
    "start_time": "2021-07-18T10:43:56.904Z"
   },
   {
    "duration": 1796,
    "start_time": "2021-07-18T10:50:19.179Z"
   },
   {
    "duration": 158,
    "start_time": "2021-07-18T10:50:20.978Z"
   },
   {
    "duration": 3,
    "start_time": "2021-07-18T10:50:21.139Z"
   },
   {
    "duration": 7,
    "start_time": "2021-07-18T10:50:21.145Z"
   },
   {
    "duration": 19,
    "start_time": "2021-07-18T10:50:21.154Z"
   },
   {
    "duration": 24,
    "start_time": "2021-07-18T10:50:21.176Z"
   },
   {
    "duration": 19,
    "start_time": "2021-07-18T10:50:21.203Z"
   },
   {
    "duration": 41,
    "start_time": "2021-07-18T10:50:21.225Z"
   },
   {
    "duration": 26,
    "start_time": "2021-07-18T10:50:21.269Z"
   },
   {
    "duration": 1783,
    "start_time": "2021-07-18T11:06:05.046Z"
   },
   {
    "duration": 164,
    "start_time": "2021-07-18T11:06:06.832Z"
   },
   {
    "duration": 29,
    "start_time": "2021-07-18T11:06:06.999Z"
   },
   {
    "duration": 20,
    "start_time": "2021-07-18T11:06:07.053Z"
   },
   {
    "duration": 19,
    "start_time": "2021-07-18T11:06:07.076Z"
   },
   {
    "duration": 29,
    "start_time": "2021-07-18T11:06:07.097Z"
   },
   {
    "duration": 2381,
    "start_time": "2021-07-18T11:07:22.055Z"
   },
   {
    "duration": 164,
    "start_time": "2021-07-18T11:07:24.438Z"
   },
   {
    "duration": 26,
    "start_time": "2021-07-18T11:07:24.605Z"
   },
   {
    "duration": 32,
    "start_time": "2021-07-18T11:07:24.655Z"
   },
   {
    "duration": 27,
    "start_time": "2021-07-18T11:07:24.689Z"
   },
   {
    "duration": 12,
    "start_time": "2021-07-18T11:35:01.020Z"
   },
   {
    "duration": 15,
    "start_time": "2021-07-18T11:35:03.586Z"
   },
   {
    "duration": 28,
    "start_time": "2021-07-18T11:36:41.373Z"
   },
   {
    "duration": 418,
    "start_time": "2021-07-18T11:40:00.798Z"
   },
   {
    "duration": 6,
    "start_time": "2021-07-18T11:41:31.129Z"
   },
   {
    "duration": 1237,
    "start_time": "2021-07-18T11:48:42.865Z"
   },
   {
    "duration": 1242,
    "start_time": "2021-07-18T11:52:06.754Z"
   },
   {
    "duration": 11,
    "start_time": "2021-07-18T11:52:57.296Z"
   },
   {
    "duration": 16,
    "start_time": "2021-07-18T11:53:36.013Z"
   },
   {
    "duration": 22,
    "start_time": "2021-07-18T11:53:54.201Z"
   },
   {
    "duration": 20,
    "start_time": "2021-07-18T11:55:43.163Z"
   },
   {
    "duration": 19,
    "start_time": "2021-07-18T11:55:57.487Z"
   },
   {
    "duration": 51,
    "start_time": "2021-07-18T11:57:25.770Z"
   },
   {
    "duration": 61,
    "start_time": "2021-07-18T11:57:43.686Z"
   },
   {
    "duration": 34,
    "start_time": "2021-07-18T11:58:49.106Z"
   },
   {
    "duration": 25,
    "start_time": "2021-07-18T11:59:05.724Z"
   },
   {
    "duration": 25,
    "start_time": "2021-07-18T11:59:15.030Z"
   },
   {
    "duration": 8,
    "start_time": "2021-07-18T11:59:19.083Z"
   },
   {
    "duration": 26,
    "start_time": "2021-07-18T11:59:28.609Z"
   },
   {
    "duration": 8,
    "start_time": "2021-07-18T11:59:50.798Z"
   },
   {
    "duration": 6,
    "start_time": "2021-07-18T12:00:12.124Z"
   },
   {
    "duration": 7,
    "start_time": "2021-07-18T12:00:34.426Z"
   },
   {
    "duration": 1419,
    "start_time": "2021-07-18T12:01:57.895Z"
   },
   {
    "duration": 166,
    "start_time": "2021-07-18T12:01:59.316Z"
   },
   {
    "duration": 29,
    "start_time": "2021-07-18T12:01:59.487Z"
   },
   {
    "duration": 63,
    "start_time": "2021-07-18T12:01:59.519Z"
   },
   {
    "duration": 27,
    "start_time": "2021-07-18T12:01:59.585Z"
   },
   {
    "duration": 42,
    "start_time": "2021-07-18T12:01:59.616Z"
   },
   {
    "duration": 37,
    "start_time": "2021-07-18T12:01:59.661Z"
   },
   {
    "duration": 21,
    "start_time": "2021-07-18T12:01:59.703Z"
   },
   {
    "duration": 36,
    "start_time": "2021-07-18T12:01:59.726Z"
   },
   {
    "duration": 28,
    "start_time": "2021-07-18T12:22:26.388Z"
   },
   {
    "duration": 23,
    "start_time": "2021-07-18T12:24:17.298Z"
   },
   {
    "duration": 27,
    "start_time": "2021-07-18T12:30:55.197Z"
   },
   {
    "duration": 36,
    "start_time": "2021-07-18T12:34:40.928Z"
   },
   {
    "duration": 27,
    "start_time": "2021-07-18T12:36:43.711Z"
   },
   {
    "duration": 24,
    "start_time": "2021-07-18T12:45:55.581Z"
   },
   {
    "duration": 25,
    "start_time": "2021-07-18T12:50:18.025Z"
   },
   {
    "duration": 32,
    "start_time": "2021-07-18T12:51:18.268Z"
   },
   {
    "duration": 25,
    "start_time": "2021-07-18T12:51:59.192Z"
   },
   {
    "duration": 17,
    "start_time": "2021-07-18T12:53:35.939Z"
   },
   {
    "duration": 1935,
    "start_time": "2021-07-18T12:53:47.392Z"
   },
   {
    "duration": 162,
    "start_time": "2021-07-18T12:53:49.331Z"
   },
   {
    "duration": 28,
    "start_time": "2021-07-18T12:53:49.496Z"
   },
   {
    "duration": 54,
    "start_time": "2021-07-18T12:53:49.526Z"
   },
   {
    "duration": 26,
    "start_time": "2021-07-18T12:53:49.583Z"
   },
   {
    "duration": 43,
    "start_time": "2021-07-18T12:53:49.611Z"
   },
   {
    "duration": 22,
    "start_time": "2021-07-18T12:53:49.657Z"
   },
   {
    "duration": 15,
    "start_time": "2021-07-18T12:53:49.683Z"
   },
   {
    "duration": 29,
    "start_time": "2021-07-18T12:53:49.701Z"
   },
   {
    "duration": 39,
    "start_time": "2021-07-18T12:53:49.733Z"
   },
   {
    "duration": 15,
    "start_time": "2021-07-18T12:53:49.775Z"
   },
   {
    "duration": 423,
    "start_time": "2021-07-18T12:55:11.598Z"
   },
   {
    "duration": 288,
    "start_time": "2021-07-18T12:55:49.302Z"
   },
   {
    "duration": 286,
    "start_time": "2021-07-18T12:57:13.013Z"
   },
   {
    "duration": 98,
    "start_time": "2021-07-18T12:57:39.677Z"
   },
   {
    "duration": 15,
    "start_time": "2021-07-18T12:57:49.533Z"
   },
   {
    "duration": 15,
    "start_time": "2021-07-18T12:58:07.692Z"
   },
   {
    "duration": 287,
    "start_time": "2021-07-18T13:21:12.836Z"
   },
   {
    "duration": 278,
    "start_time": "2021-07-18T13:21:23.785Z"
   },
   {
    "duration": 294,
    "start_time": "2021-07-18T13:21:31.416Z"
   },
   {
    "duration": 7213,
    "start_time": "2021-07-18T13:23:01.434Z"
   },
   {
    "duration": 1432,
    "start_time": "2021-07-18T13:23:21.202Z"
   },
   {
    "duration": 159,
    "start_time": "2021-07-18T13:23:22.637Z"
   },
   {
    "duration": 27,
    "start_time": "2021-07-18T13:23:22.799Z"
   },
   {
    "duration": 52,
    "start_time": "2021-07-18T13:23:22.829Z"
   },
   {
    "duration": 30,
    "start_time": "2021-07-18T13:23:22.884Z"
   },
   {
    "duration": 42,
    "start_time": "2021-07-18T13:23:22.916Z"
   },
   {
    "duration": 14,
    "start_time": "2021-07-18T13:23:22.960Z"
   },
   {
    "duration": 7,
    "start_time": "2021-07-18T13:23:22.977Z"
   },
   {
    "duration": 34,
    "start_time": "2021-07-18T13:23:22.986Z"
   },
   {
    "duration": 7095,
    "start_time": "2021-07-18T13:23:23.022Z"
   },
   {
    "duration": -138,
    "start_time": "2021-07-18T13:23:30.259Z"
   },
   {
    "duration": 1466,
    "start_time": "2021-07-18T13:24:03.371Z"
   },
   {
    "duration": 160,
    "start_time": "2021-07-18T13:24:04.840Z"
   },
   {
    "duration": 28,
    "start_time": "2021-07-18T13:24:05.003Z"
   },
   {
    "duration": 33,
    "start_time": "2021-07-18T13:24:05.056Z"
   },
   {
    "duration": 26,
    "start_time": "2021-07-18T13:24:05.091Z"
   },
   {
    "duration": 44,
    "start_time": "2021-07-18T13:24:05.119Z"
   },
   {
    "duration": 16,
    "start_time": "2021-07-18T13:24:05.166Z"
   },
   {
    "duration": 6,
    "start_time": "2021-07-18T13:24:05.185Z"
   },
   {
    "duration": 70,
    "start_time": "2021-07-18T13:24:05.193Z"
   },
   {
    "duration": 528,
    "start_time": "2021-07-18T13:24:05.265Z"
   },
   {
    "duration": -209,
    "start_time": "2021-07-18T13:24:06.005Z"
   },
   {
    "duration": 7,
    "start_time": "2021-07-18T13:24:28.159Z"
   },
   {
    "duration": 10,
    "start_time": "2021-07-18T13:24:42.183Z"
   },
   {
    "duration": 348,
    "start_time": "2021-07-18T13:26:05.746Z"
   },
   {
    "duration": 2174,
    "start_time": "2021-07-18T13:26:59.214Z"
   },
   {
    "duration": 160,
    "start_time": "2021-07-18T13:27:01.390Z"
   },
   {
    "duration": 26,
    "start_time": "2021-07-18T13:27:01.553Z"
   },
   {
    "duration": 37,
    "start_time": "2021-07-18T13:27:01.582Z"
   },
   {
    "duration": 38,
    "start_time": "2021-07-18T13:27:01.621Z"
   },
   {
    "duration": 23,
    "start_time": "2021-07-18T13:27:01.662Z"
   },
   {
    "duration": 26,
    "start_time": "2021-07-18T13:27:01.687Z"
   },
   {
    "duration": 11,
    "start_time": "2021-07-18T13:27:01.716Z"
   },
   {
    "duration": 33,
    "start_time": "2021-07-18T13:27:01.729Z"
   },
   {
    "duration": 11,
    "start_time": "2021-07-18T13:27:01.765Z"
   },
   {
    "duration": 42,
    "start_time": "2021-07-18T13:27:01.778Z"
   },
   {
    "duration": 15,
    "start_time": "2021-07-18T13:27:38.551Z"
   },
   {
    "duration": 17,
    "start_time": "2021-07-18T13:28:11.090Z"
   },
   {
    "duration": 21,
    "start_time": "2021-07-18T13:28:59.367Z"
   },
   {
    "duration": 31,
    "start_time": "2021-07-18T13:29:18.034Z"
   },
   {
    "duration": 1096,
    "start_time": "2021-07-18T13:29:39.722Z"
   },
   {
    "duration": 33,
    "start_time": "2021-07-18T13:29:46.942Z"
   },
   {
    "duration": 86,
    "start_time": "2021-07-18T13:30:01.674Z"
   },
   {
    "duration": 20,
    "start_time": "2021-07-18T13:30:50.565Z"
   },
   {
    "duration": 306,
    "start_time": "2021-07-18T13:31:14.381Z"
   },
   {
    "duration": 92,
    "start_time": "2021-07-18T13:31:39.775Z"
   },
   {
    "duration": 55,
    "start_time": "2021-07-18T13:32:00.325Z"
   },
   {
    "duration": 30,
    "start_time": "2021-07-18T14:19:33.501Z"
   },
   {
    "duration": 20,
    "start_time": "2021-07-18T14:20:34.980Z"
   },
   {
    "duration": 33,
    "start_time": "2021-07-18T14:20:50.521Z"
   },
   {
    "duration": 5,
    "start_time": "2021-07-18T15:03:57.036Z"
   },
   {
    "duration": 6,
    "start_time": "2021-07-18T15:04:05.200Z"
   },
   {
    "duration": 13,
    "start_time": "2021-07-18T15:04:14.474Z"
   },
   {
    "duration": 6,
    "start_time": "2021-07-18T15:04:49.803Z"
   },
   {
    "duration": 99,
    "start_time": "2021-07-18T15:06:23.645Z"
   },
   {
    "duration": 56,
    "start_time": "2021-07-18T15:06:31.052Z"
   },
   {
    "duration": 2146,
    "start_time": "2021-07-18T15:06:44.876Z"
   },
   {
    "duration": 183,
    "start_time": "2021-07-18T15:06:47.025Z"
   },
   {
    "duration": 47,
    "start_time": "2021-07-18T15:06:47.212Z"
   },
   {
    "duration": 31,
    "start_time": "2021-07-18T15:06:47.261Z"
   },
   {
    "duration": 27,
    "start_time": "2021-07-18T15:06:47.294Z"
   },
   {
    "duration": 41,
    "start_time": "2021-07-18T15:06:47.323Z"
   },
   {
    "duration": 14,
    "start_time": "2021-07-18T15:06:47.367Z"
   },
   {
    "duration": 8,
    "start_time": "2021-07-18T15:06:47.384Z"
   },
   {
    "duration": 7,
    "start_time": "2021-07-18T15:06:47.394Z"
   },
   {
    "duration": 62,
    "start_time": "2021-07-18T15:06:47.403Z"
   },
   {
    "duration": 438,
    "start_time": "2021-07-18T15:06:47.467Z"
   },
   {
    "duration": -297,
    "start_time": "2021-07-18T15:06:48.206Z"
   },
   {
    "duration": -296,
    "start_time": "2021-07-18T15:06:48.208Z"
   },
   {
    "duration": 272,
    "start_time": "2021-07-18T15:08:34.778Z"
   },
   {
    "duration": 267,
    "start_time": "2021-07-18T15:10:51.277Z"
   },
   {
    "duration": 277,
    "start_time": "2021-07-18T15:11:09.659Z"
   },
   {
    "duration": 274,
    "start_time": "2021-07-18T15:11:15.945Z"
   },
   {
    "duration": 296,
    "start_time": "2021-07-18T15:11:43.490Z"
   },
   {
    "duration": 1468,
    "start_time": "2021-07-18T15:18:28.059Z"
   },
   {
    "duration": 240,
    "start_time": "2021-07-18T15:18:29.530Z"
   },
   {
    "duration": 81,
    "start_time": "2021-07-18T15:18:29.774Z"
   },
   {
    "duration": 31,
    "start_time": "2021-07-18T15:18:29.858Z"
   },
   {
    "duration": 79,
    "start_time": "2021-07-18T15:18:29.891Z"
   },
   {
    "duration": 27,
    "start_time": "2021-07-18T15:18:29.972Z"
   },
   {
    "duration": 64,
    "start_time": "2021-07-18T15:18:30.001Z"
   },
   {
    "duration": 6,
    "start_time": "2021-07-18T15:18:30.069Z"
   },
   {
    "duration": 24,
    "start_time": "2021-07-18T15:18:30.079Z"
   },
   {
    "duration": 68,
    "start_time": "2021-07-18T15:18:30.106Z"
   },
   {
    "duration": 113,
    "start_time": "2021-07-18T15:18:30.176Z"
   },
   {
    "duration": 81,
    "start_time": "2021-07-18T15:18:30.292Z"
   },
   {
    "duration": 89,
    "start_time": "2021-07-18T15:18:30.376Z"
   },
   {
    "duration": 54,
    "start_time": "2021-07-18T15:19:47.277Z"
   },
   {
    "duration": 55,
    "start_time": "2021-07-18T15:20:13.781Z"
   },
   {
    "duration": 5,
    "start_time": "2021-07-18T15:22:04.790Z"
   },
   {
    "duration": 381,
    "start_time": "2021-07-18T15:22:25.347Z"
   },
   {
    "duration": 261,
    "start_time": "2021-07-18T15:22:35.734Z"
   },
   {
    "duration": 7,
    "start_time": "2021-07-18T15:24:27.828Z"
   },
   {
    "duration": 9,
    "start_time": "2021-07-18T15:24:46.886Z"
   },
   {
    "duration": 12,
    "start_time": "2021-07-18T15:25:01.634Z"
   },
   {
    "duration": 268,
    "start_time": "2021-07-18T15:25:27.150Z"
   },
   {
    "duration": 12,
    "start_time": "2021-07-18T15:25:36.481Z"
   },
   {
    "duration": 90,
    "start_time": "2021-07-18T15:26:08.843Z"
   },
   {
    "duration": 16,
    "start_time": "2021-07-18T15:26:16.762Z"
   },
   {
    "duration": 17,
    "start_time": "2021-07-18T15:26:33.373Z"
   },
   {
    "duration": 17,
    "start_time": "2021-07-18T15:26:56.105Z"
   },
   {
    "duration": 5,
    "start_time": "2021-07-18T15:27:18.942Z"
   },
   {
    "duration": 16,
    "start_time": "2021-07-18T15:27:32.326Z"
   },
   {
    "duration": 1622,
    "start_time": "2021-07-18T15:28:45.948Z"
   },
   {
    "duration": 226,
    "start_time": "2021-07-18T15:28:47.574Z"
   },
   {
    "duration": 78,
    "start_time": "2021-07-18T15:28:47.803Z"
   },
   {
    "duration": 84,
    "start_time": "2021-07-18T15:28:47.883Z"
   },
   {
    "duration": 26,
    "start_time": "2021-07-18T15:28:47.970Z"
   },
   {
    "duration": 11,
    "start_time": "2021-07-18T15:28:48.054Z"
   },
   {
    "duration": 14,
    "start_time": "2021-07-18T15:28:48.068Z"
   },
   {
    "duration": 6,
    "start_time": "2021-07-18T15:28:48.086Z"
   },
   {
    "duration": 63,
    "start_time": "2021-07-18T15:28:48.094Z"
   },
   {
    "duration": 26,
    "start_time": "2021-07-18T15:28:48.159Z"
   },
   {
    "duration": 19,
    "start_time": "2021-07-18T15:28:48.188Z"
   },
   {
    "duration": 58,
    "start_time": "2021-07-18T15:28:48.210Z"
   },
   {
    "duration": 36,
    "start_time": "2021-07-18T15:28:48.271Z"
   },
   {
    "duration": 55,
    "start_time": "2021-07-18T15:28:48.311Z"
   },
   {
    "duration": 433,
    "start_time": "2021-07-18T15:34:11.544Z"
   },
   {
    "duration": 1460,
    "start_time": "2021-07-18T15:34:41.272Z"
   },
   {
    "duration": 160,
    "start_time": "2021-07-18T15:34:42.735Z"
   },
   {
    "duration": 27,
    "start_time": "2021-07-18T15:34:42.898Z"
   },
   {
    "duration": 52,
    "start_time": "2021-07-18T15:34:42.928Z"
   },
   {
    "duration": 26,
    "start_time": "2021-07-18T15:34:42.982Z"
   },
   {
    "duration": 47,
    "start_time": "2021-07-18T15:34:43.011Z"
   },
   {
    "duration": 13,
    "start_time": "2021-07-18T15:34:43.060Z"
   },
   {
    "duration": 8,
    "start_time": "2021-07-18T15:34:43.076Z"
   },
   {
    "duration": 8,
    "start_time": "2021-07-18T15:34:43.086Z"
   },
   {
    "duration": 77,
    "start_time": "2021-07-18T15:34:43.096Z"
   },
   {
    "duration": 15,
    "start_time": "2021-07-18T15:34:43.175Z"
   },
   {
    "duration": 79,
    "start_time": "2021-07-18T15:34:43.192Z"
   },
   {
    "duration": 84,
    "start_time": "2021-07-18T15:34:43.274Z"
   },
   {
    "duration": 104,
    "start_time": "2021-07-18T15:34:43.361Z"
   },
   {
    "duration": 723,
    "start_time": "2021-07-18T15:34:43.468Z"
   },
   {
    "duration": 301,
    "start_time": "2021-07-18T15:35:21.636Z"
   },
   {
    "duration": 20,
    "start_time": "2021-07-18T15:35:51.206Z"
   },
   {
    "duration": 297,
    "start_time": "2021-07-18T15:36:14.878Z"
   },
   {
    "duration": 21,
    "start_time": "2021-07-18T15:36:21.462Z"
   },
   {
    "duration": 21,
    "start_time": "2021-07-18T15:36:35.628Z"
   },
   {
    "duration": 8,
    "start_time": "2021-07-18T18:21:25.135Z"
   },
   {
    "duration": 10,
    "start_time": "2021-07-18T18:22:13.075Z"
   },
   {
    "duration": 11,
    "start_time": "2021-07-18T18:22:28.731Z"
   },
   {
    "duration": 9,
    "start_time": "2021-07-18T18:22:40.919Z"
   },
   {
    "duration": 13,
    "start_time": "2021-07-18T18:22:55.512Z"
   },
   {
    "duration": 13,
    "start_time": "2021-07-18T18:23:19.676Z"
   },
   {
    "duration": 8,
    "start_time": "2021-07-18T18:24:20.830Z"
   },
   {
    "duration": 9,
    "start_time": "2021-07-18T18:24:33.023Z"
   },
   {
    "duration": 14,
    "start_time": "2021-07-18T18:25:16.718Z"
   },
   {
    "duration": 7,
    "start_time": "2021-07-18T18:26:38.154Z"
   },
   {
    "duration": 12,
    "start_time": "2021-07-18T18:27:47.372Z"
   },
   {
    "duration": 12,
    "start_time": "2021-07-18T18:28:23.347Z"
   },
   {
    "duration": 6808,
    "start_time": "2021-07-18T18:46:19.750Z"
   },
   {
    "duration": 6770,
    "start_time": "2021-07-18T18:46:37.190Z"
   },
   {
    "duration": 6588,
    "start_time": "2021-07-18T18:47:00.366Z"
   },
   {
    "duration": 19,
    "start_time": "2021-07-18T18:47:47.070Z"
   },
   {
    "duration": 294,
    "start_time": "2021-07-18T18:48:17.403Z"
   },
   {
    "duration": 19,
    "start_time": "2021-07-18T18:48:32.566Z"
   },
   {
    "duration": 1529,
    "start_time": "2021-07-18T18:54:20.359Z"
   },
   {
    "duration": 292,
    "start_time": "2021-07-18T18:54:21.891Z"
   },
   {
    "duration": 84,
    "start_time": "2021-07-18T18:54:22.186Z"
   },
   {
    "duration": 83,
    "start_time": "2021-07-18T18:54:22.273Z"
   },
   {
    "duration": 26,
    "start_time": "2021-07-18T18:54:22.358Z"
   },
   {
    "duration": 67,
    "start_time": "2021-07-18T18:54:22.387Z"
   },
   {
    "duration": 14,
    "start_time": "2021-07-18T18:54:22.458Z"
   },
   {
    "duration": 6,
    "start_time": "2021-07-18T18:54:22.476Z"
   },
   {
    "duration": 10,
    "start_time": "2021-07-18T18:54:22.484Z"
   },
   {
    "duration": 67,
    "start_time": "2021-07-18T18:54:22.496Z"
   },
   {
    "duration": 19,
    "start_time": "2021-07-18T18:54:22.565Z"
   },
   {
    "duration": 27,
    "start_time": "2021-07-18T18:54:22.586Z"
   },
   {
    "duration": 62,
    "start_time": "2021-07-18T18:54:22.616Z"
   },
   {
    "duration": 19,
    "start_time": "2021-07-18T18:54:22.680Z"
   },
   {
    "duration": 10,
    "start_time": "2021-07-18T18:54:22.702Z"
   },
   {
    "duration": 48,
    "start_time": "2021-07-18T18:54:22.714Z"
   },
   {
    "duration": 12,
    "start_time": "2021-07-18T18:54:22.765Z"
   },
   {
    "duration": 53,
    "start_time": "2021-07-18T19:07:16.995Z"
   },
   {
    "duration": 49,
    "start_time": "2021-07-18T19:08:26.025Z"
   },
   {
    "duration": 41,
    "start_time": "2021-07-18T19:19:56.202Z"
   },
   {
    "duration": 44,
    "start_time": "2021-07-18T19:21:21.095Z"
   },
   {
    "duration": 43,
    "start_time": "2021-07-18T19:21:42.973Z"
   },
   {
    "duration": 1651,
    "start_time": "2021-07-18T19:21:48.904Z"
   },
   {
    "duration": 238,
    "start_time": "2021-07-18T19:21:50.558Z"
   },
   {
    "duration": 81,
    "start_time": "2021-07-18T19:21:50.799Z"
   },
   {
    "duration": 31,
    "start_time": "2021-07-18T19:21:50.884Z"
   },
   {
    "duration": 53,
    "start_time": "2021-07-18T19:21:50.917Z"
   },
   {
    "duration": 12,
    "start_time": "2021-07-18T19:21:50.973Z"
   },
   {
    "duration": 14,
    "start_time": "2021-07-18T19:21:50.987Z"
   },
   {
    "duration": 9,
    "start_time": "2021-07-18T19:21:51.004Z"
   },
   {
    "duration": 43,
    "start_time": "2021-07-18T19:21:51.015Z"
   },
   {
    "duration": 25,
    "start_time": "2021-07-18T19:21:51.060Z"
   },
   {
    "duration": 22,
    "start_time": "2021-07-18T19:21:51.087Z"
   },
   {
    "duration": 46,
    "start_time": "2021-07-18T19:21:51.112Z"
   },
   {
    "duration": 31,
    "start_time": "2021-07-18T19:21:51.161Z"
   },
   {
    "duration": 21,
    "start_time": "2021-07-18T19:21:51.194Z"
   },
   {
    "duration": 50,
    "start_time": "2021-07-18T19:21:51.218Z"
   },
   {
    "duration": 20,
    "start_time": "2021-07-18T19:21:51.271Z"
   },
   {
    "duration": 66,
    "start_time": "2021-07-18T19:21:51.294Z"
   },
   {
    "duration": 46,
    "start_time": "2021-07-18T19:21:51.363Z"
   },
   {
    "duration": 42,
    "start_time": "2021-07-18T19:22:48.052Z"
   },
   {
    "duration": 7189,
    "start_time": "2021-07-18T19:25:59.600Z"
   },
   {
    "duration": 288,
    "start_time": "2021-07-18T19:26:11.600Z"
   },
   {
    "duration": 37,
    "start_time": "2021-07-18T19:27:50.258Z"
   },
   {
    "duration": 12,
    "start_time": "2021-07-18T19:28:32.873Z"
   },
   {
    "duration": 12,
    "start_time": "2021-07-18T19:28:42.401Z"
   },
   {
    "duration": 12,
    "start_time": "2021-07-18T19:29:18.887Z"
   },
   {
    "duration": 93,
    "start_time": "2021-07-18T19:29:31.910Z"
   },
   {
    "duration": 10,
    "start_time": "2021-07-18T19:29:36.892Z"
   },
   {
    "duration": 98,
    "start_time": "2021-07-18T19:30:06.061Z"
   },
   {
    "duration": 16,
    "start_time": "2021-07-18T19:30:11.368Z"
   },
   {
    "duration": 39,
    "start_time": "2021-07-18T19:30:19.998Z"
   },
   {
    "duration": 56,
    "start_time": "2021-07-18T19:31:59.046Z"
   },
   {
    "duration": 7087,
    "start_time": "2021-07-18T20:33:54.608Z"
   },
   {
    "duration": 6708,
    "start_time": "2021-07-18T20:34:18.255Z"
   },
   {
    "duration": 88,
    "start_time": "2021-07-18T20:34:42.240Z"
   },
   {
    "duration": 98,
    "start_time": "2021-07-18T20:34:58.775Z"
   },
   {
    "duration": 1539,
    "start_time": "2021-07-18T20:35:08.872Z"
   },
   {
    "duration": 161,
    "start_time": "2021-07-18T20:35:10.414Z"
   },
   {
    "duration": 32,
    "start_time": "2021-07-18T20:35:10.578Z"
   },
   {
    "duration": 61,
    "start_time": "2021-07-18T20:35:10.612Z"
   },
   {
    "duration": 26,
    "start_time": "2021-07-18T20:35:10.676Z"
   },
   {
    "duration": 24,
    "start_time": "2021-07-18T20:35:10.705Z"
   },
   {
    "duration": 32,
    "start_time": "2021-07-18T20:35:10.732Z"
   },
   {
    "duration": 9,
    "start_time": "2021-07-18T20:35:10.770Z"
   },
   {
    "duration": 12,
    "start_time": "2021-07-18T20:35:10.783Z"
   },
   {
    "duration": 75,
    "start_time": "2021-07-18T20:35:10.798Z"
   },
   {
    "duration": 25,
    "start_time": "2021-07-18T20:35:10.876Z"
   },
   {
    "duration": 56,
    "start_time": "2021-07-18T20:35:10.904Z"
   },
   {
    "duration": 50,
    "start_time": "2021-07-18T20:35:10.963Z"
   },
   {
    "duration": 53,
    "start_time": "2021-07-18T20:35:11.016Z"
   },
   {
    "duration": 12,
    "start_time": "2021-07-18T20:35:11.072Z"
   },
   {
    "duration": 18,
    "start_time": "2021-07-18T20:35:11.087Z"
   },
   {
    "duration": 110,
    "start_time": "2021-07-18T20:35:11.108Z"
   },
   {
    "duration": 63,
    "start_time": "2021-07-18T20:35:11.221Z"
   },
   {
    "duration": 289,
    "start_time": "2021-07-18T20:35:11.287Z"
   },
   {
    "duration": 78,
    "start_time": "2021-07-18T20:35:11.579Z"
   },
   {
    "duration": 124,
    "start_time": "2021-07-18T20:35:11.660Z"
   },
   {
    "duration": 94,
    "start_time": "2021-07-18T20:36:15.462Z"
   },
   {
    "duration": 36,
    "start_time": "2021-07-18T20:36:33.773Z"
   },
   {
    "duration": 16,
    "start_time": "2021-07-18T20:36:52.385Z"
   },
   {
    "duration": 39,
    "start_time": "2021-07-18T20:42:06.870Z"
   },
   {
    "duration": 28,
    "start_time": "2021-07-18T20:51:43.219Z"
   },
   {
    "duration": 28,
    "start_time": "2021-07-18T20:52:16.211Z"
   },
   {
    "duration": 78,
    "start_time": "2021-07-18T20:52:22.395Z"
   },
   {
    "duration": 1472,
    "start_time": "2021-07-18T20:53:57.757Z"
   },
   {
    "duration": 207,
    "start_time": "2021-07-18T20:53:59.232Z"
   },
   {
    "duration": 28,
    "start_time": "2021-07-18T20:53:59.442Z"
   },
   {
    "duration": 32,
    "start_time": "2021-07-18T20:53:59.473Z"
   },
   {
    "duration": 26,
    "start_time": "2021-07-18T20:53:59.555Z"
   },
   {
    "duration": 76,
    "start_time": "2021-07-18T20:53:59.584Z"
   },
   {
    "duration": 15,
    "start_time": "2021-07-18T20:53:59.663Z"
   },
   {
    "duration": 15,
    "start_time": "2021-07-18T20:53:59.682Z"
   },
   {
    "duration": 57,
    "start_time": "2021-07-18T20:53:59.699Z"
   },
   {
    "duration": 23,
    "start_time": "2021-07-18T20:53:59.759Z"
   },
   {
    "duration": 87,
    "start_time": "2021-07-18T20:53:59.785Z"
   },
   {
    "duration": 20,
    "start_time": "2021-07-18T20:53:59.875Z"
   },
   {
    "duration": 81,
    "start_time": "2021-07-18T20:53:59.898Z"
   },
   {
    "duration": 76,
    "start_time": "2021-07-18T20:53:59.981Z"
   },
   {
    "duration": 12,
    "start_time": "2021-07-18T20:54:00.060Z"
   },
   {
    "duration": 16,
    "start_time": "2021-07-18T20:54:00.074Z"
   },
   {
    "duration": 102,
    "start_time": "2021-07-18T20:54:00.093Z"
   },
   {
    "duration": 96,
    "start_time": "2021-07-18T20:54:00.197Z"
   },
   {
    "duration": 354,
    "start_time": "2021-07-18T20:54:00.295Z"
   },
   {
    "duration": 38,
    "start_time": "2021-07-18T20:54:00.654Z"
   },
   {
    "duration": 76,
    "start_time": "2021-07-18T20:54:00.695Z"
   },
   {
    "duration": 3,
    "start_time": "2021-07-18T20:55:24.530Z"
   },
   {
    "duration": 41,
    "start_time": "2021-07-18T20:57:19.226Z"
   },
   {
    "duration": 41,
    "start_time": "2021-07-18T20:58:58.206Z"
   },
   {
    "duration": 40,
    "start_time": "2021-07-18T20:59:53.770Z"
   },
   {
    "duration": 75,
    "start_time": "2021-07-18T21:00:39.903Z"
   },
   {
    "duration": 38,
    "start_time": "2021-07-18T21:00:46.650Z"
   },
   {
    "duration": 1775,
    "start_time": "2021-07-18T21:01:05.214Z"
   },
   {
    "duration": 204,
    "start_time": "2021-07-18T21:01:06.992Z"
   },
   {
    "duration": 26,
    "start_time": "2021-07-18T21:01:07.199Z"
   },
   {
    "duration": 56,
    "start_time": "2021-07-18T21:01:07.228Z"
   },
   {
    "duration": 27,
    "start_time": "2021-07-18T21:01:07.286Z"
   },
   {
    "duration": 39,
    "start_time": "2021-07-18T21:01:07.315Z"
   },
   {
    "duration": 29,
    "start_time": "2021-07-18T21:01:07.357Z"
   },
   {
    "duration": 11,
    "start_time": "2021-07-18T21:01:07.390Z"
   },
   {
    "duration": 21,
    "start_time": "2021-07-18T21:01:07.405Z"
   },
   {
    "duration": 47,
    "start_time": "2021-07-18T21:01:07.429Z"
   },
   {
    "duration": 27,
    "start_time": "2021-07-18T21:01:07.480Z"
   },
   {
    "duration": 48,
    "start_time": "2021-07-18T21:01:07.509Z"
   },
   {
    "duration": 51,
    "start_time": "2021-07-18T21:01:07.561Z"
   },
   {
    "duration": 48,
    "start_time": "2021-07-18T21:01:07.615Z"
   },
   {
    "duration": 16,
    "start_time": "2021-07-18T21:01:07.667Z"
   },
   {
    "duration": 24,
    "start_time": "2021-07-18T21:01:07.685Z"
   },
   {
    "duration": 74,
    "start_time": "2021-07-18T21:01:07.711Z"
   },
   {
    "duration": 41,
    "start_time": "2021-07-18T21:01:07.788Z"
   },
   {
    "duration": 305,
    "start_time": "2021-07-18T21:01:07.856Z"
   },
   {
    "duration": 37,
    "start_time": "2021-07-18T21:01:08.164Z"
   },
   {
    "duration": 65,
    "start_time": "2021-07-18T21:01:08.204Z"
   },
   {
    "duration": 1491,
    "start_time": "2021-07-18T21:02:23.515Z"
   },
   {
    "duration": 172,
    "start_time": "2021-07-18T21:02:25.008Z"
   },
   {
    "duration": 35,
    "start_time": "2021-07-18T21:02:25.184Z"
   },
   {
    "duration": 64,
    "start_time": "2021-07-18T21:02:25.222Z"
   },
   {
    "duration": 30,
    "start_time": "2021-07-18T21:02:25.289Z"
   },
   {
    "duration": 39,
    "start_time": "2021-07-18T21:02:25.321Z"
   },
   {
    "duration": 23,
    "start_time": "2021-07-18T21:02:25.364Z"
   },
   {
    "duration": 8,
    "start_time": "2021-07-18T21:02:25.393Z"
   },
   {
    "duration": 8,
    "start_time": "2021-07-18T21:02:25.404Z"
   },
   {
    "duration": 55,
    "start_time": "2021-07-18T21:02:25.414Z"
   },
   {
    "duration": 20,
    "start_time": "2021-07-18T21:02:25.471Z"
   },
   {
    "duration": 26,
    "start_time": "2021-07-18T21:02:25.493Z"
   },
   {
    "duration": 60,
    "start_time": "2021-07-18T21:02:25.521Z"
   },
   {
    "duration": 19,
    "start_time": "2021-07-18T21:02:25.583Z"
   },
   {
    "duration": 18,
    "start_time": "2021-07-18T21:02:25.604Z"
   },
   {
    "duration": 41,
    "start_time": "2021-07-18T21:02:25.624Z"
   },
   {
    "duration": 93,
    "start_time": "2021-07-18T21:02:25.668Z"
   },
   {
    "duration": 108,
    "start_time": "2021-07-18T21:02:25.764Z"
   },
   {
    "duration": 593,
    "start_time": "2021-07-18T21:02:25.875Z"
   },
   {
    "duration": 91,
    "start_time": "2021-07-18T21:02:26.470Z"
   },
   {
    "duration": 121,
    "start_time": "2021-07-18T21:02:26.564Z"
   },
   {
    "duration": 45,
    "start_time": "2021-07-18T21:05:26.337Z"
   },
   {
    "duration": 44,
    "start_time": "2021-07-18T21:06:02.295Z"
   },
   {
    "duration": 1486,
    "start_time": "2021-07-18T21:06:51.091Z"
   },
   {
    "duration": 185,
    "start_time": "2021-07-18T21:06:52.580Z"
   },
   {
    "duration": 43,
    "start_time": "2021-07-18T21:06:52.769Z"
   },
   {
    "duration": 72,
    "start_time": "2021-07-18T21:06:52.815Z"
   },
   {
    "duration": 32,
    "start_time": "2021-07-18T21:06:52.890Z"
   },
   {
    "duration": 36,
    "start_time": "2021-07-18T21:06:52.925Z"
   },
   {
    "duration": 19,
    "start_time": "2021-07-18T21:06:52.964Z"
   },
   {
    "duration": 9,
    "start_time": "2021-07-18T21:06:52.989Z"
   },
   {
    "duration": 6,
    "start_time": "2021-07-18T21:06:53.001Z"
   },
   {
    "duration": 64,
    "start_time": "2021-07-18T21:06:53.010Z"
   },
   {
    "duration": 29,
    "start_time": "2021-07-18T21:06:53.077Z"
   },
   {
    "duration": 52,
    "start_time": "2021-07-18T21:06:53.109Z"
   },
   {
    "duration": 34,
    "start_time": "2021-07-18T21:06:53.163Z"
   },
   {
    "duration": 21,
    "start_time": "2021-07-18T21:06:53.199Z"
   },
   {
    "duration": 38,
    "start_time": "2021-07-18T21:06:53.222Z"
   },
   {
    "duration": 15,
    "start_time": "2021-07-18T21:06:53.263Z"
   },
   {
    "duration": 86,
    "start_time": "2021-07-18T21:06:53.281Z"
   },
   {
    "duration": 43,
    "start_time": "2021-07-18T21:06:53.370Z"
   },
   {
    "duration": 330,
    "start_time": "2021-07-18T21:06:53.416Z"
   },
   {
    "duration": 69,
    "start_time": "2021-07-18T21:06:53.748Z"
   },
   {
    "duration": 1403,
    "start_time": "2021-07-18T21:08:55.809Z"
   },
   {
    "duration": 169,
    "start_time": "2021-07-18T21:08:57.215Z"
   },
   {
    "duration": 26,
    "start_time": "2021-07-18T21:08:57.387Z"
   },
   {
    "duration": 59,
    "start_time": "2021-07-18T21:08:57.416Z"
   },
   {
    "duration": 25,
    "start_time": "2021-07-18T21:08:57.478Z"
   },
   {
    "duration": 28,
    "start_time": "2021-07-18T21:08:57.505Z"
   },
   {
    "duration": 26,
    "start_time": "2021-07-18T21:08:57.535Z"
   },
   {
    "duration": 7,
    "start_time": "2021-07-18T21:08:57.565Z"
   },
   {
    "duration": 8,
    "start_time": "2021-07-18T21:08:57.576Z"
   },
   {
    "duration": 23,
    "start_time": "2021-07-18T21:08:57.587Z"
   },
   {
    "duration": 59,
    "start_time": "2021-07-18T21:08:57.612Z"
   },
   {
    "duration": 26,
    "start_time": "2021-07-18T21:08:57.674Z"
   },
   {
    "duration": 61,
    "start_time": "2021-07-18T21:08:57.702Z"
   },
   {
    "duration": 20,
    "start_time": "2021-07-18T21:08:57.765Z"
   },
   {
    "duration": 10,
    "start_time": "2021-07-18T21:08:57.787Z"
   },
   {
    "duration": 17,
    "start_time": "2021-07-18T21:08:57.800Z"
   },
   {
    "duration": 84,
    "start_time": "2021-07-18T21:08:57.820Z"
   },
   {
    "duration": 64,
    "start_time": "2021-07-18T21:08:57.908Z"
   },
   {
    "duration": 310,
    "start_time": "2021-07-18T21:08:57.975Z"
   },
   {
    "duration": 69,
    "start_time": "2021-07-18T21:08:58.288Z"
   },
   {
    "duration": 7053,
    "start_time": "2021-07-18T21:10:36.639Z"
   },
   {
    "duration": 6716,
    "start_time": "2021-07-18T21:10:46.186Z"
   },
   {
    "duration": 44,
    "start_time": "2021-07-18T21:11:00.519Z"
   },
   {
    "duration": 1492,
    "start_time": "2021-07-18T21:11:15.515Z"
   },
   {
    "duration": 212,
    "start_time": "2021-07-18T21:11:17.011Z"
   },
   {
    "duration": 56,
    "start_time": "2021-07-18T21:11:17.226Z"
   },
   {
    "duration": 31,
    "start_time": "2021-07-18T21:11:17.285Z"
   },
   {
    "duration": 52,
    "start_time": "2021-07-18T21:11:17.318Z"
   },
   {
    "duration": 18,
    "start_time": "2021-07-18T21:11:17.373Z"
   },
   {
    "duration": 14,
    "start_time": "2021-07-18T21:11:17.393Z"
   },
   {
    "duration": 5,
    "start_time": "2021-07-18T21:11:17.411Z"
   },
   {
    "duration": 42,
    "start_time": "2021-07-18T21:11:17.419Z"
   },
   {
    "duration": 27,
    "start_time": "2021-07-18T21:11:17.464Z"
   },
   {
    "duration": 17,
    "start_time": "2021-07-18T21:11:17.494Z"
   },
   {
    "duration": 21,
    "start_time": "2021-07-18T21:11:17.555Z"
   },
   {
    "duration": 32,
    "start_time": "2021-07-18T21:11:17.579Z"
   },
   {
    "duration": 51,
    "start_time": "2021-07-18T21:11:17.615Z"
   },
   {
    "duration": 19,
    "start_time": "2021-07-18T21:11:17.670Z"
   },
   {
    "duration": 12,
    "start_time": "2021-07-18T21:11:17.692Z"
   },
   {
    "duration": 84,
    "start_time": "2021-07-18T21:11:17.707Z"
   },
   {
    "duration": 46,
    "start_time": "2021-07-18T21:11:17.794Z"
   },
   {
    "duration": 282,
    "start_time": "2021-07-18T21:11:17.864Z"
   },
   {
    "duration": 45,
    "start_time": "2021-07-18T21:11:18.149Z"
   },
   {
    "duration": 314,
    "start_time": "2021-07-19T11:24:12.774Z"
   },
   {
    "duration": 1443,
    "start_time": "2021-07-19T11:24:18.813Z"
   },
   {
    "duration": 298,
    "start_time": "2021-07-19T11:24:20.259Z"
   },
   {
    "duration": 26,
    "start_time": "2021-07-19T11:24:20.560Z"
   },
   {
    "duration": 83,
    "start_time": "2021-07-19T11:24:20.589Z"
   },
   {
    "duration": 26,
    "start_time": "2021-07-19T11:24:20.674Z"
   },
   {
    "duration": 66,
    "start_time": "2021-07-19T11:24:20.702Z"
   },
   {
    "duration": 14,
    "start_time": "2021-07-19T11:24:20.770Z"
   },
   {
    "duration": 7,
    "start_time": "2021-07-19T11:24:20.787Z"
   },
   {
    "duration": 76,
    "start_time": "2021-07-19T11:24:20.796Z"
   },
   {
    "duration": 7,
    "start_time": "2021-07-19T11:24:20.874Z"
   },
   {
    "duration": 75,
    "start_time": "2021-07-19T11:24:20.883Z"
   },
   {
    "duration": 25,
    "start_time": "2021-07-19T11:24:20.960Z"
   },
   {
    "duration": 70,
    "start_time": "2021-07-19T11:24:20.987Z"
   },
   {
    "duration": 19,
    "start_time": "2021-07-19T11:24:21.059Z"
   },
   {
    "duration": 16,
    "start_time": "2021-07-19T11:24:21.080Z"
   },
   {
    "duration": 17,
    "start_time": "2021-07-19T11:24:21.098Z"
   },
   {
    "duration": 74,
    "start_time": "2021-07-19T11:24:21.118Z"
   },
   {
    "duration": 62,
    "start_time": "2021-07-19T11:24:21.194Z"
   },
   {
    "duration": 290,
    "start_time": "2021-07-19T11:24:21.258Z"
   },
   {
    "duration": 42,
    "start_time": "2021-07-19T11:24:21.550Z"
   },
   {
    "duration": 11,
    "start_time": "2021-07-19T11:24:49.037Z"
   },
   {
    "duration": 22,
    "start_time": "2021-07-19T11:37:08.309Z"
   },
   {
    "duration": 10,
    "start_time": "2021-07-19T11:38:22.051Z"
   },
   {
    "duration": 12,
    "start_time": "2021-07-19T11:40:18.635Z"
   },
   {
    "duration": 9,
    "start_time": "2021-07-19T11:40:33.750Z"
   },
   {
    "duration": 14,
    "start_time": "2021-07-19T11:42:21.273Z"
   },
   {
    "duration": 395,
    "start_time": "2021-07-19T11:42:59.726Z"
   },
   {
    "duration": 8,
    "start_time": "2021-07-19T11:43:12.589Z"
   },
   {
    "duration": 61,
    "start_time": "2021-07-19T11:43:27.598Z"
   },
   {
    "duration": 11,
    "start_time": "2021-07-19T11:46:09.416Z"
   },
   {
    "duration": 353,
    "start_time": "2021-07-19T11:46:58.271Z"
   },
   {
    "duration": 377,
    "start_time": "2021-07-19T11:48:42.001Z"
   },
   {
    "duration": 72,
    "start_time": "2021-07-19T11:49:26.329Z"
   },
   {
    "duration": 30,
    "start_time": "2021-07-19T12:24:04.317Z"
   },
   {
    "duration": 38,
    "start_time": "2021-07-19T12:24:15.663Z"
   },
   {
    "duration": 1353,
    "start_time": "2021-07-19T12:24:33.455Z"
   },
   {
    "duration": 169,
    "start_time": "2021-07-19T12:24:34.810Z"
   },
   {
    "duration": 89,
    "start_time": "2021-07-19T12:24:34.983Z"
   },
   {
    "duration": 102,
    "start_time": "2021-07-19T12:24:35.075Z"
   },
   {
    "duration": 86,
    "start_time": "2021-07-19T12:24:35.180Z"
   },
   {
    "duration": 15,
    "start_time": "2021-07-19T12:24:35.269Z"
   },
   {
    "duration": 71,
    "start_time": "2021-07-19T12:24:35.288Z"
   },
   {
    "duration": 8,
    "start_time": "2021-07-19T12:24:35.365Z"
   },
   {
    "duration": 90,
    "start_time": "2021-07-19T12:24:35.376Z"
   },
   {
    "duration": 24,
    "start_time": "2021-07-19T12:24:35.469Z"
   },
   {
    "duration": 83,
    "start_time": "2021-07-19T12:24:35.496Z"
   },
   {
    "duration": 80,
    "start_time": "2021-07-19T12:24:35.581Z"
   },
   {
    "duration": 19,
    "start_time": "2021-07-19T12:24:35.663Z"
   },
   {
    "duration": 9,
    "start_time": "2021-07-19T12:24:35.684Z"
   },
   {
    "duration": 66,
    "start_time": "2021-07-19T12:24:35.696Z"
   },
   {
    "duration": 102,
    "start_time": "2021-07-19T12:24:35.764Z"
   },
   {
    "duration": 31,
    "start_time": "2021-07-19T12:24:35.868Z"
   },
   {
    "duration": 346,
    "start_time": "2021-07-19T12:24:35.956Z"
   },
   {
    "duration": 52,
    "start_time": "2021-07-19T12:24:36.304Z"
   },
   {
    "duration": 38,
    "start_time": "2021-07-19T12:25:02.690Z"
   },
   {
    "duration": 306,
    "start_time": "2021-07-19T12:49:15.459Z"
   },
   {
    "duration": 299,
    "start_time": "2021-07-19T12:49:31.818Z"
   },
   {
    "duration": 1347,
    "start_time": "2021-07-19T12:49:54.894Z"
   },
   {
    "duration": 154,
    "start_time": "2021-07-19T12:49:56.244Z"
   },
   {
    "duration": 26,
    "start_time": "2021-07-19T12:49:56.400Z"
   },
   {
    "duration": 51,
    "start_time": "2021-07-19T12:49:56.428Z"
   },
   {
    "duration": 24,
    "start_time": "2021-07-19T12:49:56.481Z"
   },
   {
    "duration": 20,
    "start_time": "2021-07-19T12:49:56.508Z"
   },
   {
    "duration": 32,
    "start_time": "2021-07-19T12:49:56.531Z"
   },
   {
    "duration": 6,
    "start_time": "2021-07-19T12:49:56.566Z"
   },
   {
    "duration": 27,
    "start_time": "2021-07-19T12:49:56.575Z"
   },
   {
    "duration": 52,
    "start_time": "2021-07-19T12:49:56.605Z"
   },
   {
    "duration": 22,
    "start_time": "2021-07-19T12:49:56.660Z"
   },
   {
    "duration": 91,
    "start_time": "2021-07-19T12:49:56.684Z"
   },
   {
    "duration": 20,
    "start_time": "2021-07-19T12:49:56.777Z"
   },
   {
    "duration": 63,
    "start_time": "2021-07-19T12:49:56.799Z"
   },
   {
    "duration": 16,
    "start_time": "2021-07-19T12:49:56.865Z"
   },
   {
    "duration": 105,
    "start_time": "2021-07-19T12:49:56.884Z"
   },
   {
    "duration": 88,
    "start_time": "2021-07-19T12:49:56.991Z"
   },
   {
    "duration": 576,
    "start_time": "2021-07-19T12:49:57.082Z"
   },
   {
    "duration": 43,
    "start_time": "2021-07-19T12:49:57.661Z"
   },
   {
    "duration": 20,
    "start_time": "2021-07-19T12:58:52.509Z"
   },
   {
    "duration": 81,
    "start_time": "2021-07-19T12:59:12.447Z"
   },
   {
    "duration": 7,
    "start_time": "2021-07-19T12:59:19.932Z"
   },
   {
    "duration": 35,
    "start_time": "2021-07-19T12:59:31.315Z"
   },
   {
    "duration": 1854,
    "start_time": "2021-07-19T13:03:02.035Z"
   },
   {
    "duration": 171,
    "start_time": "2021-07-19T13:03:03.892Z"
   },
   {
    "duration": 27,
    "start_time": "2021-07-19T13:03:04.066Z"
   },
   {
    "duration": 29,
    "start_time": "2021-07-19T13:03:04.096Z"
   },
   {
    "duration": 49,
    "start_time": "2021-07-19T13:03:04.128Z"
   },
   {
    "duration": 12,
    "start_time": "2021-07-19T13:03:04.180Z"
   },
   {
    "duration": 13,
    "start_time": "2021-07-19T13:03:04.194Z"
   },
   {
    "duration": 6,
    "start_time": "2021-07-19T13:03:04.211Z"
   },
   {
    "duration": 21,
    "start_time": "2021-07-19T13:03:04.256Z"
   },
   {
    "duration": 15,
    "start_time": "2021-07-19T13:03:04.280Z"
   },
   {
    "duration": 24,
    "start_time": "2021-07-19T13:03:04.298Z"
   },
   {
    "duration": 32,
    "start_time": "2021-07-19T13:03:04.356Z"
   },
   {
    "duration": 20,
    "start_time": "2021-07-19T13:03:04.390Z"
   },
   {
    "duration": 15,
    "start_time": "2021-07-19T13:03:04.412Z"
   },
   {
    "duration": 37,
    "start_time": "2021-07-19T13:03:04.429Z"
   },
   {
    "duration": 50,
    "start_time": "2021-07-19T13:03:04.468Z"
   },
   {
    "duration": 67,
    "start_time": "2021-07-19T13:03:04.521Z"
   },
   {
    "duration": 312,
    "start_time": "2021-07-19T13:03:04.591Z"
   },
   {
    "duration": 50,
    "start_time": "2021-07-19T13:03:04.906Z"
   },
   {
    "duration": 8,
    "start_time": "2021-07-19T13:03:04.959Z"
   },
   {
    "duration": 44,
    "start_time": "2021-07-19T13:12:26.839Z"
   },
   {
    "duration": 442,
    "start_time": "2021-07-19T14:19:56.453Z"
   },
   {
    "duration": 7,
    "start_time": "2021-07-19T14:24:16.806Z"
   },
   {
    "duration": 40,
    "start_time": "2021-07-19T14:24:18.976Z"
   },
   {
    "duration": 34,
    "start_time": "2021-07-19T14:25:10.609Z"
   },
   {
    "duration": 16,
    "start_time": "2021-07-19T15:06:57.787Z"
   },
   {
    "duration": 17,
    "start_time": "2021-07-19T15:08:25.367Z"
   },
   {
    "duration": 1454,
    "start_time": "2021-07-19T15:32:51.982Z"
   },
   {
    "duration": 7,
    "start_time": "2021-07-19T15:35:17.417Z"
   },
   {
    "duration": 16,
    "start_time": "2021-07-19T15:35:32.753Z"
   },
   {
    "duration": 15,
    "start_time": "2021-07-19T15:39:10.892Z"
   },
   {
    "duration": 6,
    "start_time": "2021-07-19T15:39:22.912Z"
   },
   {
    "duration": 5,
    "start_time": "2021-07-19T15:39:25.682Z"
   },
   {
    "duration": 17,
    "start_time": "2021-07-19T15:39:39.058Z"
   },
   {
    "duration": 12,
    "start_time": "2021-07-19T15:39:57.702Z"
   },
   {
    "duration": 6385,
    "start_time": "2021-07-19T15:40:58.536Z"
   },
   {
    "duration": 1981,
    "start_time": "2021-07-19T15:41:28.401Z"
   },
   {
    "duration": 171,
    "start_time": "2021-07-19T15:41:30.385Z"
   },
   {
    "duration": 28,
    "start_time": "2021-07-19T15:41:30.559Z"
   },
   {
    "duration": 43,
    "start_time": "2021-07-19T15:41:30.589Z"
   },
   {
    "duration": 44,
    "start_time": "2021-07-19T15:41:30.635Z"
   },
   {
    "duration": 41,
    "start_time": "2021-07-19T15:41:30.682Z"
   },
   {
    "duration": 21,
    "start_time": "2021-07-19T15:41:30.725Z"
   },
   {
    "duration": 34,
    "start_time": "2021-07-19T15:41:30.749Z"
   },
   {
    "duration": 30,
    "start_time": "2021-07-19T15:41:30.787Z"
   },
   {
    "duration": 23,
    "start_time": "2021-07-19T15:41:30.819Z"
   },
   {
    "duration": 30,
    "start_time": "2021-07-19T15:41:30.846Z"
   },
   {
    "duration": 42,
    "start_time": "2021-07-19T15:41:30.879Z"
   },
   {
    "duration": 32,
    "start_time": "2021-07-19T15:41:30.924Z"
   },
   {
    "duration": 19,
    "start_time": "2021-07-19T15:41:30.958Z"
   },
   {
    "duration": 22,
    "start_time": "2021-07-19T15:41:30.980Z"
   },
   {
    "duration": 65,
    "start_time": "2021-07-19T15:41:31.004Z"
   },
   {
    "duration": 36,
    "start_time": "2021-07-19T15:41:31.071Z"
   },
   {
    "duration": 316,
    "start_time": "2021-07-19T15:41:31.109Z"
   },
   {
    "duration": 51,
    "start_time": "2021-07-19T15:41:31.428Z"
   },
   {
    "duration": 21,
    "start_time": "2021-07-19T15:41:31.482Z"
   },
   {
    "duration": 45,
    "start_time": "2021-07-19T15:41:31.506Z"
   },
   {
    "duration": 16,
    "start_time": "2021-07-19T15:41:31.556Z"
   },
   {
    "duration": 16,
    "start_time": "2021-07-19T15:41:31.575Z"
   },
   {
    "duration": 1374,
    "start_time": "2021-07-19T15:41:31.593Z"
   },
   {
    "duration": 3,
    "start_time": "2021-07-19T15:42:36.943Z"
   },
   {
    "duration": 1692,
    "start_time": "2021-07-19T15:42:54.703Z"
   },
   {
    "duration": 184,
    "start_time": "2021-07-19T15:42:56.397Z"
   },
   {
    "duration": 26,
    "start_time": "2021-07-19T15:42:56.583Z"
   },
   {
    "duration": 51,
    "start_time": "2021-07-19T15:42:56.612Z"
   },
   {
    "duration": 25,
    "start_time": "2021-07-19T15:42:56.665Z"
   },
   {
    "duration": 16,
    "start_time": "2021-07-19T15:42:56.692Z"
   },
   {
    "duration": 46,
    "start_time": "2021-07-19T15:42:56.710Z"
   },
   {
    "duration": 7,
    "start_time": "2021-07-19T15:42:56.761Z"
   },
   {
    "duration": 24,
    "start_time": "2021-07-19T15:42:56.771Z"
   },
   {
    "duration": 21,
    "start_time": "2021-07-19T15:42:56.797Z"
   },
   {
    "duration": 25,
    "start_time": "2021-07-19T15:42:56.856Z"
   },
   {
    "duration": 31,
    "start_time": "2021-07-19T15:42:56.883Z"
   },
   {
    "duration": 46,
    "start_time": "2021-07-19T15:42:56.916Z"
   },
   {
    "duration": 18,
    "start_time": "2021-07-19T15:42:56.964Z"
   },
   {
    "duration": 16,
    "start_time": "2021-07-19T15:42:56.985Z"
   },
   {
    "duration": 68,
    "start_time": "2021-07-19T15:42:57.003Z"
   },
   {
    "duration": 41,
    "start_time": "2021-07-19T15:42:57.073Z"
   },
   {
    "duration": 327,
    "start_time": "2021-07-19T15:42:57.117Z"
   },
   {
    "duration": 43,
    "start_time": "2021-07-19T15:42:57.448Z"
   },
   {
    "duration": 11,
    "start_time": "2021-07-19T15:42:57.494Z"
   },
   {
    "duration": 65,
    "start_time": "2021-07-19T15:42:57.507Z"
   },
   {
    "duration": 19,
    "start_time": "2021-07-19T15:42:57.575Z"
   },
   {
    "duration": 3,
    "start_time": "2021-07-19T15:42:57.600Z"
   },
   {
    "duration": 1295,
    "start_time": "2021-07-19T15:42:57.606Z"
   },
   {
    "duration": 1678,
    "start_time": "2021-07-19T15:44:17.839Z"
   },
   {
    "duration": 166,
    "start_time": "2021-07-19T15:44:19.520Z"
   },
   {
    "duration": 27,
    "start_time": "2021-07-19T15:44:19.689Z"
   },
   {
    "duration": 55,
    "start_time": "2021-07-19T15:44:19.719Z"
   },
   {
    "duration": 26,
    "start_time": "2021-07-19T15:44:19.777Z"
   },
   {
    "duration": 27,
    "start_time": "2021-07-19T15:44:19.805Z"
   },
   {
    "duration": 25,
    "start_time": "2021-07-19T15:44:19.834Z"
   },
   {
    "duration": 5,
    "start_time": "2021-07-19T15:44:19.862Z"
   },
   {
    "duration": 27,
    "start_time": "2021-07-19T15:44:19.871Z"
   },
   {
    "duration": 18,
    "start_time": "2021-07-19T15:44:19.901Z"
   },
   {
    "duration": 51,
    "start_time": "2021-07-19T15:44:19.922Z"
   },
   {
    "duration": 32,
    "start_time": "2021-07-19T15:44:19.976Z"
   },
   {
    "duration": 20,
    "start_time": "2021-07-19T15:44:20.010Z"
   },
   {
    "duration": 30,
    "start_time": "2021-07-19T15:44:20.032Z"
   },
   {
    "duration": 19,
    "start_time": "2021-07-19T15:44:20.065Z"
   },
   {
    "duration": 72,
    "start_time": "2021-07-19T15:44:20.086Z"
   },
   {
    "duration": 39,
    "start_time": "2021-07-19T15:44:20.160Z"
   },
   {
    "duration": 315,
    "start_time": "2021-07-19T15:44:20.201Z"
   },
   {
    "duration": 41,
    "start_time": "2021-07-19T15:44:20.518Z"
   },
   {
    "duration": 13,
    "start_time": "2021-07-19T15:44:20.561Z"
   },
   {
    "duration": 34,
    "start_time": "2021-07-19T15:44:20.576Z"
   },
   {
    "duration": 43,
    "start_time": "2021-07-19T15:44:20.613Z"
   },
   {
    "duration": 2,
    "start_time": "2021-07-19T15:44:20.659Z"
   },
   {
    "duration": 60,
    "start_time": "2021-07-19T15:44:20.664Z"
   },
   {
    "duration": 61,
    "start_time": "2021-07-19T15:45:32.095Z"
   },
   {
    "duration": 47,
    "start_time": "2021-07-19T15:45:58.716Z"
   },
   {
    "duration": 56,
    "start_time": "2021-07-19T15:46:53.629Z"
   },
   {
    "duration": 41,
    "start_time": "2021-07-19T15:47:49.380Z"
   },
   {
    "duration": 56,
    "start_time": "2021-07-19T15:48:15.087Z"
   },
   {
    "duration": 41,
    "start_time": "2021-07-19T15:48:44.396Z"
   },
   {
    "duration": 37,
    "start_time": "2021-07-19T16:35:20.127Z"
   },
   {
    "duration": 48,
    "start_time": "2021-07-19T16:35:39.899Z"
   },
   {
    "duration": 33,
    "start_time": "2021-07-19T16:42:29.701Z"
   },
   {
    "duration": 26,
    "start_time": "2021-07-19T16:43:03.777Z"
   },
   {
    "duration": 382,
    "start_time": "2021-07-19T16:51:03.542Z"
   },
   {
    "duration": 272,
    "start_time": "2021-07-19T16:52:01.030Z"
   },
   {
    "duration": 77,
    "start_time": "2021-07-19T16:52:51.500Z"
   },
   {
    "duration": 14,
    "start_time": "2021-07-19T16:53:15.967Z"
   },
   {
    "duration": 30,
    "start_time": "2021-07-19T16:53:46.387Z"
   },
   {
    "duration": 41,
    "start_time": "2021-07-19T16:54:41.078Z"
   },
   {
    "duration": 41,
    "start_time": "2021-07-19T16:55:26.775Z"
   },
   {
    "duration": 1736,
    "start_time": "2021-07-19T16:55:45.072Z"
   },
   {
    "duration": 153,
    "start_time": "2021-07-19T16:55:46.811Z"
   },
   {
    "duration": 27,
    "start_time": "2021-07-19T16:55:46.967Z"
   },
   {
    "duration": 30,
    "start_time": "2021-07-19T16:55:46.997Z"
   },
   {
    "duration": 28,
    "start_time": "2021-07-19T16:55:47.055Z"
   },
   {
    "duration": 14,
    "start_time": "2021-07-19T16:55:47.086Z"
   },
   {
    "duration": 17,
    "start_time": "2021-07-19T16:55:47.102Z"
   },
   {
    "duration": 7,
    "start_time": "2021-07-19T16:55:47.156Z"
   },
   {
    "duration": 27,
    "start_time": "2021-07-19T16:55:47.167Z"
   },
   {
    "duration": 19,
    "start_time": "2021-07-19T16:55:47.197Z"
   },
   {
    "duration": 60,
    "start_time": "2021-07-19T16:55:47.219Z"
   },
   {
    "duration": 33,
    "start_time": "2021-07-19T16:55:47.282Z"
   },
   {
    "duration": 52,
    "start_time": "2021-07-19T16:55:47.317Z"
   },
   {
    "duration": 12,
    "start_time": "2021-07-19T16:55:47.372Z"
   },
   {
    "duration": 17,
    "start_time": "2021-07-19T16:55:47.387Z"
   },
   {
    "duration": 90,
    "start_time": "2021-07-19T16:55:47.407Z"
   },
   {
    "duration": 40,
    "start_time": "2021-07-19T16:55:47.500Z"
   },
   {
    "duration": 305,
    "start_time": "2021-07-19T16:55:47.557Z"
   },
   {
    "duration": 36,
    "start_time": "2021-07-19T16:55:47.864Z"
   },
   {
    "duration": 14,
    "start_time": "2021-07-19T16:55:47.903Z"
   },
   {
    "duration": 50,
    "start_time": "2021-07-19T16:55:47.920Z"
   },
   {
    "duration": 41,
    "start_time": "2021-07-19T16:55:47.972Z"
   },
   {
    "duration": 62,
    "start_time": "2021-07-19T16:55:48.017Z"
   },
   {
    "duration": 1658,
    "start_time": "2021-07-19T16:58:23.825Z"
   },
   {
    "duration": 290,
    "start_time": "2021-07-19T16:58:25.485Z"
   },
   {
    "duration": 34,
    "start_time": "2021-07-19T16:58:25.778Z"
   },
   {
    "duration": 72,
    "start_time": "2021-07-19T16:58:25.815Z"
   },
   {
    "duration": 33,
    "start_time": "2021-07-19T16:58:25.890Z"
   },
   {
    "duration": 39,
    "start_time": "2021-07-19T16:58:25.925Z"
   },
   {
    "duration": 17,
    "start_time": "2021-07-19T16:58:25.966Z"
   },
   {
    "duration": 9,
    "start_time": "2021-07-19T16:58:25.986Z"
   },
   {
    "duration": 32,
    "start_time": "2021-07-19T16:58:25.998Z"
   },
   {
    "duration": 36,
    "start_time": "2021-07-19T16:58:26.033Z"
   },
   {
    "duration": 26,
    "start_time": "2021-07-19T16:58:26.071Z"
   },
   {
    "duration": 57,
    "start_time": "2021-07-19T16:58:26.100Z"
   },
   {
    "duration": 20,
    "start_time": "2021-07-19T16:58:26.159Z"
   },
   {
    "duration": 11,
    "start_time": "2021-07-19T16:58:26.182Z"
   },
   {
    "duration": 12,
    "start_time": "2021-07-19T16:58:26.196Z"
   },
   {
    "duration": 79,
    "start_time": "2021-07-19T16:58:26.211Z"
   },
   {
    "duration": 38,
    "start_time": "2021-07-19T16:58:26.292Z"
   },
   {
    "duration": 312,
    "start_time": "2021-07-19T16:58:26.332Z"
   },
   {
    "duration": 40,
    "start_time": "2021-07-19T16:58:26.647Z"
   },
   {
    "duration": 29,
    "start_time": "2021-07-19T16:58:26.689Z"
   },
   {
    "duration": 52,
    "start_time": "2021-07-19T16:58:26.720Z"
   },
   {
    "duration": 39,
    "start_time": "2021-07-19T16:58:26.775Z"
   },
   {
    "duration": 60,
    "start_time": "2021-07-19T16:58:26.818Z"
   },
   {
    "duration": 10,
    "start_time": "2021-07-19T17:00:25.663Z"
   },
   {
    "duration": 31,
    "start_time": "2021-07-19T17:01:27.191Z"
   },
   {
    "duration": 48,
    "start_time": "2021-07-19T20:46:02.347Z"
   },
   {
    "duration": 1318,
    "start_time": "2021-07-19T20:53:33.780Z"
   },
   {
    "duration": 165,
    "start_time": "2021-07-19T20:53:35.101Z"
   },
   {
    "duration": 27,
    "start_time": "2021-07-19T20:53:35.269Z"
   },
   {
    "duration": 57,
    "start_time": "2021-07-19T20:53:35.298Z"
   },
   {
    "duration": 25,
    "start_time": "2021-07-19T20:53:35.358Z"
   },
   {
    "duration": 20,
    "start_time": "2021-07-19T20:53:35.386Z"
   },
   {
    "duration": 16,
    "start_time": "2021-07-19T20:53:35.409Z"
   },
   {
    "duration": 28,
    "start_time": "2021-07-19T20:53:35.429Z"
   },
   {
    "duration": 23,
    "start_time": "2021-07-19T20:53:35.459Z"
   },
   {
    "duration": 15,
    "start_time": "2021-07-19T20:53:35.484Z"
   },
   {
    "duration": 19,
    "start_time": "2021-07-19T20:53:35.502Z"
   },
   {
    "duration": 31,
    "start_time": "2021-07-19T20:53:35.556Z"
   },
   {
    "duration": 20,
    "start_time": "2021-07-19T20:53:35.590Z"
   },
   {
    "duration": 9,
    "start_time": "2021-07-19T20:53:35.613Z"
   },
   {
    "duration": 13,
    "start_time": "2021-07-19T20:53:35.657Z"
   },
   {
    "duration": 51,
    "start_time": "2021-07-19T20:53:35.672Z"
   },
   {
    "duration": 51,
    "start_time": "2021-07-19T20:53:35.725Z"
   },
   {
    "duration": 42,
    "start_time": "2021-07-19T20:53:35.778Z"
   },
   {
    "duration": 79,
    "start_time": "2021-07-19T20:53:35.823Z"
   },
   {
    "duration": 60,
    "start_time": "2021-07-19T20:53:35.904Z"
   },
   {
    "duration": 321,
    "start_time": "2021-07-19T20:53:35.967Z"
   },
   {
    "duration": 42,
    "start_time": "2021-07-19T20:53:36.292Z"
   },
   {
    "duration": 11,
    "start_time": "2021-07-19T20:53:36.359Z"
   },
   {
    "duration": 55,
    "start_time": "2021-07-19T20:53:36.373Z"
   },
   {
    "duration": 47,
    "start_time": "2021-07-19T20:55:32.156Z"
   },
   {
    "duration": 269,
    "start_time": "2021-07-19T20:57:53.106Z"
   },
   {
    "duration": 1383,
    "start_time": "2021-07-19T21:08:24.122Z"
   },
   {
    "duration": 161,
    "start_time": "2021-07-19T21:08:25.508Z"
   },
   {
    "duration": 28,
    "start_time": "2021-07-19T21:08:25.675Z"
   },
   {
    "duration": 79,
    "start_time": "2021-07-19T21:08:25.706Z"
   },
   {
    "duration": 25,
    "start_time": "2021-07-19T21:08:25.787Z"
   },
   {
    "duration": 15,
    "start_time": "2021-07-19T21:08:25.814Z"
   },
   {
    "duration": 33,
    "start_time": "2021-07-19T21:08:25.832Z"
   },
   {
    "duration": 5,
    "start_time": "2021-07-19T21:08:25.868Z"
   },
   {
    "duration": 22,
    "start_time": "2021-07-19T21:08:25.876Z"
   },
   {
    "duration": 17,
    "start_time": "2021-07-19T21:08:25.900Z"
   },
   {
    "duration": 20,
    "start_time": "2021-07-19T21:08:25.957Z"
   },
   {
    "duration": 30,
    "start_time": "2021-07-19T21:08:25.980Z"
   },
   {
    "duration": 46,
    "start_time": "2021-07-19T21:08:26.013Z"
   },
   {
    "duration": 12,
    "start_time": "2021-07-19T21:08:26.061Z"
   },
   {
    "duration": 14,
    "start_time": "2021-07-19T21:08:26.075Z"
   },
   {
    "duration": 78,
    "start_time": "2021-07-19T21:08:26.091Z"
   },
   {
    "duration": 30,
    "start_time": "2021-07-19T21:08:26.172Z"
   },
   {
    "duration": 63,
    "start_time": "2021-07-19T21:08:26.205Z"
   },
   {
    "duration": 56,
    "start_time": "2021-07-19T21:08:26.270Z"
   },
   {
    "duration": 69,
    "start_time": "2021-07-19T21:08:26.328Z"
   },
   {
    "duration": 321,
    "start_time": "2021-07-19T21:08:26.400Z"
   },
   {
    "duration": 54,
    "start_time": "2021-07-19T21:08:26.725Z"
   },
   {
    "duration": 38,
    "start_time": "2021-07-19T21:08:26.781Z"
   },
   {
    "duration": 58,
    "start_time": "2021-07-19T21:08:26.822Z"
   },
   {
    "duration": 284,
    "start_time": "2021-07-19T21:08:26.882Z"
   },
   {
    "duration": 376,
    "start_time": "2021-07-19T21:08:27.169Z"
   },
   {
    "duration": 1325,
    "start_time": "2021-07-19T21:08:47.993Z"
   },
   {
    "duration": 166,
    "start_time": "2021-07-19T21:08:49.321Z"
   },
   {
    "duration": 26,
    "start_time": "2021-07-19T21:08:49.490Z"
   },
   {
    "duration": 56,
    "start_time": "2021-07-19T21:08:49.519Z"
   },
   {
    "duration": 25,
    "start_time": "2021-07-19T21:08:49.577Z"
   },
   {
    "duration": 14,
    "start_time": "2021-07-19T21:08:49.604Z"
   },
   {
    "duration": 42,
    "start_time": "2021-07-19T21:08:49.621Z"
   },
   {
    "duration": 6,
    "start_time": "2021-07-19T21:08:49.669Z"
   },
   {
    "duration": 26,
    "start_time": "2021-07-19T21:08:49.679Z"
   },
   {
    "duration": 50,
    "start_time": "2021-07-19T21:08:49.708Z"
   },
   {
    "duration": 23,
    "start_time": "2021-07-19T21:08:49.761Z"
   },
   {
    "duration": 30,
    "start_time": "2021-07-19T21:08:49.786Z"
   },
   {
    "duration": 48,
    "start_time": "2021-07-19T21:08:49.818Z"
   },
   {
    "duration": 10,
    "start_time": "2021-07-19T21:08:49.869Z"
   },
   {
    "duration": 17,
    "start_time": "2021-07-19T21:08:49.881Z"
   },
   {
    "duration": 68,
    "start_time": "2021-07-19T21:08:49.900Z"
   },
   {
    "duration": 29,
    "start_time": "2021-07-19T21:08:49.970Z"
   },
   {
    "duration": 61,
    "start_time": "2021-07-19T21:08:50.001Z"
   },
   {
    "duration": 57,
    "start_time": "2021-07-19T21:08:50.064Z"
   },
   {
    "duration": 67,
    "start_time": "2021-07-19T21:08:50.123Z"
   },
   {
    "duration": 304,
    "start_time": "2021-07-19T21:08:50.192Z"
   },
   {
    "duration": 41,
    "start_time": "2021-07-19T21:08:50.499Z"
   },
   {
    "duration": 33,
    "start_time": "2021-07-19T21:08:50.559Z"
   },
   {
    "duration": 62,
    "start_time": "2021-07-19T21:08:50.595Z"
   },
   {
    "duration": 282,
    "start_time": "2021-07-19T21:08:50.660Z"
   },
   {
    "duration": 359,
    "start_time": "2021-07-19T21:08:50.944Z"
   },
   {
    "duration": 271,
    "start_time": "2021-07-19T21:09:11.942Z"
   },
   {
    "duration": 17,
    "start_time": "2021-07-19T21:12:59.955Z"
   },
   {
    "duration": 1401,
    "start_time": "2021-07-19T21:14:42.509Z"
   },
   {
    "duration": 162,
    "start_time": "2021-07-19T21:14:43.913Z"
   },
   {
    "duration": 25,
    "start_time": "2021-07-19T21:14:44.078Z"
   },
   {
    "duration": 61,
    "start_time": "2021-07-19T21:14:44.106Z"
   },
   {
    "duration": 25,
    "start_time": "2021-07-19T21:14:44.169Z"
   },
   {
    "duration": 11,
    "start_time": "2021-07-19T21:14:44.196Z"
   },
   {
    "duration": 13,
    "start_time": "2021-07-19T21:14:44.209Z"
   },
   {
    "duration": 6,
    "start_time": "2021-07-19T21:14:44.257Z"
   },
   {
    "duration": 23,
    "start_time": "2021-07-19T21:14:44.266Z"
   },
   {
    "duration": 17,
    "start_time": "2021-07-19T21:14:44.292Z"
   },
   {
    "duration": 53,
    "start_time": "2021-07-19T21:14:44.312Z"
   },
   {
    "duration": 30,
    "start_time": "2021-07-19T21:14:44.368Z"
   },
   {
    "duration": 19,
    "start_time": "2021-07-19T21:14:44.401Z"
   },
   {
    "duration": 40,
    "start_time": "2021-07-19T21:14:44.422Z"
   },
   {
    "duration": 15,
    "start_time": "2021-07-19T21:14:44.465Z"
   },
   {
    "duration": 42,
    "start_time": "2021-07-19T21:14:44.483Z"
   },
   {
    "duration": 53,
    "start_time": "2021-07-19T21:14:44.527Z"
   },
   {
    "duration": 40,
    "start_time": "2021-07-19T21:14:44.583Z"
   },
   {
    "duration": 81,
    "start_time": "2021-07-19T21:14:44.625Z"
   },
   {
    "duration": 59,
    "start_time": "2021-07-19T21:14:44.709Z"
   },
   {
    "duration": 487,
    "start_time": "2021-07-19T21:14:44.770Z"
   },
   {
    "duration": 96,
    "start_time": "2021-07-19T21:14:45.260Z"
   },
   {
    "duration": 34,
    "start_time": "2021-07-19T21:14:45.360Z"
   },
   {
    "duration": 96,
    "start_time": "2021-07-19T21:14:45.397Z"
   },
   {
    "duration": 375,
    "start_time": "2021-07-19T21:14:45.496Z"
   },
   {
    "duration": 292,
    "start_time": "2021-07-19T21:14:45.873Z"
   },
   {
    "duration": 15,
    "start_time": "2021-07-19T21:14:46.167Z"
   },
   {
    "duration": 40,
    "start_time": "2021-07-19T21:15:04.622Z"
   },
   {
    "duration": 2357,
    "start_time": "2021-07-21T17:40:29.679Z"
   },
   {
    "duration": 220,
    "start_time": "2021-07-21T17:40:32.056Z"
   },
   {
    "duration": 42,
    "start_time": "2021-07-21T17:40:32.280Z"
   },
   {
    "duration": 63,
    "start_time": "2021-07-21T17:40:32.325Z"
   },
   {
    "duration": 39,
    "start_time": "2021-07-21T17:40:32.391Z"
   },
   {
    "duration": 35,
    "start_time": "2021-07-21T17:40:32.433Z"
   },
   {
    "duration": 20,
    "start_time": "2021-07-21T17:40:32.472Z"
   },
   {
    "duration": 8,
    "start_time": "2021-07-21T17:40:32.497Z"
   },
   {
    "duration": 50,
    "start_time": "2021-07-21T17:40:32.508Z"
   },
   {
    "duration": 16,
    "start_time": "2021-07-21T17:40:32.560Z"
   },
   {
    "duration": 24,
    "start_time": "2021-07-21T17:40:32.578Z"
   },
   {
    "duration": 54,
    "start_time": "2021-07-21T17:40:32.604Z"
   },
   {
    "duration": 20,
    "start_time": "2021-07-21T17:40:32.660Z"
   },
   {
    "duration": 15,
    "start_time": "2021-07-21T17:40:32.682Z"
   },
   {
    "duration": 14,
    "start_time": "2021-07-21T17:40:32.699Z"
   },
   {
    "duration": 76,
    "start_time": "2021-07-21T17:40:32.716Z"
   },
   {
    "duration": 29,
    "start_time": "2021-07-21T17:40:32.795Z"
   },
   {
    "duration": 63,
    "start_time": "2021-07-21T17:40:32.826Z"
   },
   {
    "duration": 74,
    "start_time": "2021-07-21T17:40:32.891Z"
   },
   {
    "duration": 31,
    "start_time": "2021-07-21T17:40:32.967Z"
   },
   {
    "duration": 318,
    "start_time": "2021-07-21T17:40:33.001Z"
   },
   {
    "duration": 56,
    "start_time": "2021-07-21T17:40:33.322Z"
   },
   {
    "duration": 35,
    "start_time": "2021-07-21T17:40:33.382Z"
   },
   {
    "duration": 75,
    "start_time": "2021-07-21T17:40:33.421Z"
   },
   {
    "duration": 406,
    "start_time": "2021-07-21T17:40:33.499Z"
   },
   {
    "duration": 603,
    "start_time": "2021-07-21T17:40:33.908Z"
   },
   {
    "duration": 8,
    "start_time": "2021-07-21T17:40:34.514Z"
   },
   {
    "duration": 291,
    "start_time": "2021-07-21T17:41:25.391Z"
   },
   {
    "duration": 301,
    "start_time": "2021-07-21T17:42:37.896Z"
   },
   {
    "duration": 1993,
    "start_time": "2021-07-21T17:43:12.753Z"
   },
   {
    "duration": 194,
    "start_time": "2021-07-21T17:43:14.749Z"
   },
   {
    "duration": 26,
    "start_time": "2021-07-21T17:43:14.947Z"
   },
   {
    "duration": 29,
    "start_time": "2021-07-21T17:43:14.975Z"
   },
   {
    "duration": 26,
    "start_time": "2021-07-21T17:43:15.006Z"
   },
   {
    "duration": 11,
    "start_time": "2021-07-21T17:43:15.056Z"
   },
   {
    "duration": 21,
    "start_time": "2021-07-21T17:43:15.070Z"
   },
   {
    "duration": 7,
    "start_time": "2021-07-21T17:43:15.095Z"
   },
   {
    "duration": 52,
    "start_time": "2021-07-21T17:43:15.105Z"
   },
   {
    "duration": 16,
    "start_time": "2021-07-21T17:43:15.160Z"
   },
   {
    "duration": 22,
    "start_time": "2021-07-21T17:43:15.178Z"
   },
   {
    "duration": 62,
    "start_time": "2021-07-21T17:43:15.203Z"
   },
   {
    "duration": 21,
    "start_time": "2021-07-21T17:43:15.267Z"
   },
   {
    "duration": 16,
    "start_time": "2021-07-21T17:43:15.290Z"
   },
   {
    "duration": 21,
    "start_time": "2021-07-21T17:43:15.309Z"
   },
   {
    "duration": 66,
    "start_time": "2021-07-21T17:43:15.332Z"
   },
   {
    "duration": 78,
    "start_time": "2021-07-21T17:43:15.401Z"
   },
   {
    "duration": 95,
    "start_time": "2021-07-21T17:43:15.481Z"
   },
   {
    "duration": 107,
    "start_time": "2021-07-21T17:43:15.579Z"
   },
   {
    "duration": 83,
    "start_time": "2021-07-21T17:43:15.689Z"
   },
   {
    "duration": 509,
    "start_time": "2021-07-21T17:43:15.774Z"
   },
   {
    "duration": 41,
    "start_time": "2021-07-21T17:43:16.286Z"
   },
   {
    "duration": 53,
    "start_time": "2021-07-21T17:43:16.331Z"
   },
   {
    "duration": 70,
    "start_time": "2021-07-21T17:43:16.387Z"
   },
   {
    "duration": 304,
    "start_time": "2021-07-21T17:43:16.459Z"
   },
   {
    "duration": 302,
    "start_time": "2021-07-21T17:43:16.765Z"
   },
   {
    "duration": 7,
    "start_time": "2021-07-21T17:43:17.069Z"
   },
   {
    "duration": 4,
    "start_time": "2021-07-21T18:12:19.491Z"
   },
   {
    "duration": 6,
    "start_time": "2021-07-21T18:12:32.535Z"
   },
   {
    "duration": 9,
    "start_time": "2021-07-21T18:12:54.320Z"
   },
   {
    "duration": 9,
    "start_time": "2021-07-21T18:13:04.242Z"
   },
   {
    "duration": 6,
    "start_time": "2021-07-21T18:26:29.435Z"
   },
   {
    "duration": 9,
    "start_time": "2021-07-21T18:26:37.391Z"
   },
   {
    "duration": 22,
    "start_time": "2021-07-21T18:29:58.178Z"
   },
   {
    "duration": 23,
    "start_time": "2021-07-21T18:32:31.425Z"
   },
   {
    "duration": 27,
    "start_time": "2021-07-21T18:32:58.307Z"
   },
   {
    "duration": 24,
    "start_time": "2021-07-21T18:41:19.590Z"
   },
   {
    "duration": 26,
    "start_time": "2021-07-21T18:41:57.854Z"
   },
   {
    "duration": 27,
    "start_time": "2021-07-21T18:42:54.347Z"
   },
   {
    "duration": 29,
    "start_time": "2021-07-21T18:43:13.421Z"
   },
   {
    "duration": 5,
    "start_time": "2021-07-21T18:43:32.602Z"
   },
   {
    "duration": 5,
    "start_time": "2021-07-21T18:43:43.632Z"
   },
   {
    "duration": 9,
    "start_time": "2021-07-21T18:47:56.059Z"
   },
   {
    "duration": 11,
    "start_time": "2021-07-21T18:48:10.724Z"
   },
   {
    "duration": 13,
    "start_time": "2021-07-21T18:59:36.439Z"
   },
   {
    "duration": 16,
    "start_time": "2021-07-21T19:01:01.332Z"
   },
   {
    "duration": 17,
    "start_time": "2021-07-21T19:01:14.839Z"
   },
   {
    "duration": 17,
    "start_time": "2021-07-21T19:01:28.415Z"
   },
   {
    "duration": 449,
    "start_time": "2021-07-21T19:09:49.851Z"
   },
   {
    "duration": 427,
    "start_time": "2021-07-21T19:09:57.197Z"
   },
   {
    "duration": 349,
    "start_time": "2021-07-21T19:10:35.552Z"
   },
   {
    "duration": 366,
    "start_time": "2021-07-21T19:12:06.537Z"
   },
   {
    "duration": 7892,
    "start_time": "2021-07-21T19:12:55.439Z"
   },
   {
    "duration": 426,
    "start_time": "2021-07-21T19:13:15.255Z"
   },
   {
    "duration": 340,
    "start_time": "2021-07-21T19:14:28.715Z"
   },
   {
    "duration": 6904,
    "start_time": "2021-07-21T20:43:58.712Z"
   },
   {
    "duration": 6833,
    "start_time": "2021-07-21T20:45:13.014Z"
   },
   {
    "duration": 17,
    "start_time": "2021-07-21T20:45:34.000Z"
   },
   {
    "duration": 25,
    "start_time": "2021-07-21T20:46:08.845Z"
   },
   {
    "duration": 7479,
    "start_time": "2021-07-21T20:46:55.795Z"
   },
   {
    "duration": 23,
    "start_time": "2021-07-21T20:47:51.165Z"
   },
   {
    "duration": 21,
    "start_time": "2021-07-21T20:48:00.958Z"
   },
   {
    "duration": 376,
    "start_time": "2021-07-21T21:01:28.511Z"
   },
   {
    "duration": 379,
    "start_time": "2021-07-21T21:03:23.786Z"
   },
   {
    "duration": 270,
    "start_time": "2021-07-21T21:23:58.292Z"
   },
   {
    "duration": 495,
    "start_time": "2021-07-21T21:24:05.003Z"
   },
   {
    "duration": 487,
    "start_time": "2021-07-21T21:24:30.362Z"
   },
   {
    "duration": 1204,
    "start_time": "2021-07-21T21:24:44.189Z"
   },
   {
    "duration": 1102,
    "start_time": "2021-07-21T21:26:46.678Z"
   },
   {
    "duration": 6,
    "start_time": "2021-07-21T21:52:28.040Z"
   },
   {
    "duration": 5,
    "start_time": "2021-07-21T21:52:44.325Z"
   },
   {
    "duration": 7,
    "start_time": "2021-07-21T21:53:09.259Z"
   },
   {
    "duration": 11,
    "start_time": "2021-07-21T21:54:22.585Z"
   },
   {
    "duration": 11,
    "start_time": "2021-07-21T21:54:39.479Z"
   },
   {
    "duration": 61,
    "start_time": "2021-07-21T22:03:33.537Z"
   },
   {
    "duration": 15,
    "start_time": "2021-07-21T22:05:50.266Z"
   },
   {
    "duration": 20,
    "start_time": "2021-07-21T22:06:01.559Z"
   },
   {
    "duration": 19,
    "start_time": "2021-07-21T22:07:03.591Z"
   },
   {
    "duration": 63,
    "start_time": "2021-07-21T22:07:11.012Z"
   },
   {
    "duration": 74,
    "start_time": "2021-07-21T22:07:32.837Z"
   },
   {
    "duration": 54,
    "start_time": "2021-07-21T22:08:01.438Z"
   },
   {
    "duration": 414,
    "start_time": "2021-07-21T22:19:25.795Z"
   },
   {
    "duration": 454,
    "start_time": "2021-07-21T22:19:58.002Z"
   },
   {
    "duration": 427,
    "start_time": "2021-07-21T22:24:54.181Z"
   },
   {
    "duration": 426,
    "start_time": "2021-07-21T22:26:26.865Z"
   },
   {
    "duration": 1538,
    "start_time": "2021-07-21T22:26:34.118Z"
   },
   {
    "duration": 200,
    "start_time": "2021-07-21T22:26:35.659Z"
   },
   {
    "duration": 26,
    "start_time": "2021-07-21T22:26:35.863Z"
   },
   {
    "duration": 30,
    "start_time": "2021-07-21T22:26:35.891Z"
   },
   {
    "duration": 50,
    "start_time": "2021-07-21T22:26:35.923Z"
   },
   {
    "duration": 20,
    "start_time": "2021-07-21T22:26:35.975Z"
   },
   {
    "duration": 16,
    "start_time": "2021-07-21T22:26:35.998Z"
   },
   {
    "duration": 6,
    "start_time": "2021-07-21T22:26:36.018Z"
   },
   {
    "duration": 22,
    "start_time": "2021-07-21T22:26:36.057Z"
   },
   {
    "duration": 16,
    "start_time": "2021-07-21T22:26:36.081Z"
   },
   {
    "duration": 71,
    "start_time": "2021-07-21T22:26:36.100Z"
   },
   {
    "duration": 84,
    "start_time": "2021-07-21T22:26:36.174Z"
   },
   {
    "duration": 20,
    "start_time": "2021-07-21T22:26:36.261Z"
   },
   {
    "duration": 11,
    "start_time": "2021-07-21T22:26:36.284Z"
   },
   {
    "duration": 69,
    "start_time": "2021-07-21T22:26:36.297Z"
   },
   {
    "duration": 98,
    "start_time": "2021-07-21T22:26:36.368Z"
   },
   {
    "duration": 29,
    "start_time": "2021-07-21T22:26:36.468Z"
   },
   {
    "duration": 93,
    "start_time": "2021-07-21T22:26:36.499Z"
   },
   {
    "duration": 106,
    "start_time": "2021-07-21T22:26:36.594Z"
   },
   {
    "duration": 32,
    "start_time": "2021-07-21T22:26:36.755Z"
   },
   {
    "duration": 393,
    "start_time": "2021-07-21T22:26:36.789Z"
   },
   {
    "duration": 41,
    "start_time": "2021-07-21T22:26:37.185Z"
   },
   {
    "duration": 52,
    "start_time": "2021-07-21T22:26:37.232Z"
   },
   {
    "duration": 69,
    "start_time": "2021-07-21T22:26:37.288Z"
   },
   {
    "duration": 309,
    "start_time": "2021-07-21T22:26:37.361Z"
   },
   {
    "duration": 315,
    "start_time": "2021-07-21T22:26:37.673Z"
   },
   {
    "duration": 6,
    "start_time": "2021-07-21T22:26:37.991Z"
   },
   {
    "duration": 21,
    "start_time": "2021-07-21T22:26:38.000Z"
   },
   {
    "duration": 1074,
    "start_time": "2021-07-21T22:26:38.023Z"
   },
   {
    "duration": 11,
    "start_time": "2021-07-21T22:26:39.099Z"
   },
   {
    "duration": 426,
    "start_time": "2021-07-21T22:26:39.113Z"
   },
   {
    "duration": 467,
    "start_time": "2021-07-21T22:26:46.946Z"
   },
   {
    "duration": 10,
    "start_time": "2021-07-21T22:58:20.846Z"
   },
   {
    "duration": 10,
    "start_time": "2021-07-21T23:02:52.231Z"
   },
   {
    "duration": 7094,
    "start_time": "2021-07-21T23:02:55.514Z"
   },
   {
    "duration": -99,
    "start_time": "2021-07-21T23:03:29.861Z"
   },
   {
    "duration": 271,
    "start_time": "2021-07-21T23:03:34.025Z"
   },
   {
    "duration": 269,
    "start_time": "2021-07-21T23:04:11.345Z"
   },
   {
    "duration": 279,
    "start_time": "2021-07-21T23:04:47.167Z"
   },
   {
    "duration": 285,
    "start_time": "2021-07-21T23:06:35.363Z"
   },
   {
    "duration": 89,
    "start_time": "2021-07-21T23:06:44.526Z"
   },
   {
    "duration": 1317,
    "start_time": "2021-07-21T23:07:06.760Z"
   },
   {
    "duration": 26,
    "start_time": "2021-07-21T23:07:25.257Z"
   },
   {
    "duration": 30,
    "start_time": "2021-07-21T23:08:46.424Z"
   },
   {
    "duration": 310,
    "start_time": "2021-07-21T23:09:27.890Z"
   },
   {
    "duration": 449,
    "start_time": "2021-07-21T23:10:46.944Z"
   },
   {
    "duration": 509,
    "start_time": "2021-07-21T23:12:28.179Z"
   },
   {
    "duration": 451,
    "start_time": "2021-07-21T23:13:17.318Z"
   },
   {
    "duration": 810,
    "start_time": "2021-07-21T23:15:32.738Z"
   },
   {
    "duration": 694,
    "start_time": "2021-07-21T23:16:47.747Z"
   },
   {
    "duration": 842,
    "start_time": "2021-07-21T23:17:01.599Z"
   },
   {
    "duration": 689,
    "start_time": "2021-07-21T23:18:36.170Z"
   },
   {
    "duration": 809,
    "start_time": "2021-07-21T23:19:37.483Z"
   },
   {
    "duration": 491,
    "start_time": "2021-07-21T23:20:53.396Z"
   },
   {
    "duration": 816,
    "start_time": "2021-07-21T23:21:19.179Z"
   },
   {
    "duration": 920,
    "start_time": "2021-07-21T23:22:13.771Z"
   },
   {
    "duration": 807,
    "start_time": "2021-07-21T23:24:41.305Z"
   },
   {
    "duration": 13,
    "start_time": "2021-07-21T23:27:00.361Z"
   },
   {
    "duration": 5,
    "start_time": "2021-07-21T23:31:26.563Z"
   },
   {
    "duration": 7,
    "start_time": "2021-07-21T23:31:37.281Z"
   },
   {
    "duration": 6,
    "start_time": "2021-07-21T23:32:05.179Z"
   },
   {
    "duration": 6,
    "start_time": "2021-07-21T23:33:49.155Z"
   },
   {
    "duration": 7,
    "start_time": "2021-07-21T23:34:00.072Z"
   },
   {
    "duration": 10,
    "start_time": "2021-07-21T23:35:18.376Z"
   },
   {
    "duration": 304,
    "start_time": "2021-07-21T23:36:29.268Z"
   },
   {
    "duration": 404,
    "start_time": "2021-07-22T09:09:25.516Z"
   },
   {
    "duration": 1263,
    "start_time": "2021-07-22T09:09:31.421Z"
   },
   {
    "duration": 128,
    "start_time": "2021-07-22T09:09:32.686Z"
   },
   {
    "duration": 19,
    "start_time": "2021-07-22T09:09:32.816Z"
   },
   {
    "duration": 22,
    "start_time": "2021-07-22T09:09:32.837Z"
   },
   {
    "duration": 16,
    "start_time": "2021-07-22T09:09:32.860Z"
   },
   {
    "duration": 9,
    "start_time": "2021-07-22T09:09:32.878Z"
   },
   {
    "duration": 10,
    "start_time": "2021-07-22T09:09:32.889Z"
   },
   {
    "duration": 4,
    "start_time": "2021-07-22T09:09:32.903Z"
   },
   {
    "duration": 16,
    "start_time": "2021-07-22T09:09:32.940Z"
   },
   {
    "duration": 10,
    "start_time": "2021-07-22T09:09:32.958Z"
   },
   {
    "duration": 13,
    "start_time": "2021-07-22T09:09:32.970Z"
   },
   {
    "duration": 20,
    "start_time": "2021-07-22T09:09:32.984Z"
   },
   {
    "duration": 42,
    "start_time": "2021-07-22T09:09:33.005Z"
   },
   {
    "duration": 9,
    "start_time": "2021-07-22T09:09:33.049Z"
   },
   {
    "duration": 9,
    "start_time": "2021-07-22T09:09:33.060Z"
   },
   {
    "duration": 30,
    "start_time": "2021-07-22T09:09:33.071Z"
   },
   {
    "duration": 39,
    "start_time": "2021-07-22T09:09:33.102Z"
   },
   {
    "duration": 27,
    "start_time": "2021-07-22T09:09:33.142Z"
   },
   {
    "duration": 33,
    "start_time": "2021-07-22T09:09:33.170Z"
   },
   {
    "duration": 38,
    "start_time": "2021-07-22T09:09:33.205Z"
   },
   {
    "duration": 186,
    "start_time": "2021-07-22T09:09:33.245Z"
   },
   {
    "duration": 31,
    "start_time": "2021-07-22T09:09:33.432Z"
   },
   {
    "duration": 20,
    "start_time": "2021-07-22T09:09:33.466Z"
   },
   {
    "duration": 27,
    "start_time": "2021-07-22T09:09:33.488Z"
   },
   {
    "duration": 204,
    "start_time": "2021-07-22T09:09:33.517Z"
   },
   {
    "duration": 179,
    "start_time": "2021-07-22T09:09:33.722Z"
   },
   {
    "duration": 5,
    "start_time": "2021-07-22T09:09:33.903Z"
   },
   {
    "duration": 16,
    "start_time": "2021-07-22T09:09:33.909Z"
   },
   {
    "duration": 654,
    "start_time": "2021-07-22T09:09:33.927Z"
   },
   {
    "duration": 8,
    "start_time": "2021-07-22T09:09:34.583Z"
   },
   {
    "duration": 291,
    "start_time": "2021-07-22T09:09:34.593Z"
   },
   {
    "duration": 6,
    "start_time": "2021-07-22T09:09:34.886Z"
   },
   {
    "duration": 563,
    "start_time": "2021-07-22T09:09:34.894Z"
   },
   {
    "duration": 10,
    "start_time": "2021-07-22T09:09:35.459Z"
   },
   {
    "duration": 7,
    "start_time": "2021-07-22T09:09:35.470Z"
   },
   {
    "duration": 204,
    "start_time": "2021-07-22T09:09:35.479Z"
   },
   {
    "duration": 6,
    "start_time": "2021-07-22T09:11:50.154Z"
   },
   {
    "duration": 6,
    "start_time": "2021-07-22T09:11:58.464Z"
   },
   {
    "duration": 5,
    "start_time": "2021-07-22T09:12:24.800Z"
   },
   {
    "duration": 5,
    "start_time": "2021-07-22T09:12:31.673Z"
   },
   {
    "duration": 6,
    "start_time": "2021-07-22T09:15:14.472Z"
   },
   {
    "duration": 238,
    "start_time": "2021-07-22T09:16:18.764Z"
   },
   {
    "duration": 98,
    "start_time": "2021-07-22T09:20:19.724Z"
   },
   {
    "duration": 342,
    "start_time": "2021-07-22T09:20:37.473Z"
   },
   {
    "duration": 349,
    "start_time": "2021-07-22T09:23:46.127Z"
   },
   {
    "duration": 2969,
    "start_time": "2021-07-22T09:27:13.099Z"
   },
   {
    "duration": 388,
    "start_time": "2021-07-22T09:30:28.811Z"
   },
   {
    "duration": 201,
    "start_time": "2021-07-22T09:30:45.057Z"
   },
   {
    "duration": 195,
    "start_time": "2021-07-22T09:31:15.712Z"
   },
   {
    "duration": 209,
    "start_time": "2021-07-22T09:31:24.239Z"
   },
   {
    "duration": 208,
    "start_time": "2021-07-22T09:32:19.922Z"
   },
   {
    "duration": 204,
    "start_time": "2021-07-22T09:33:40.477Z"
   },
   {
    "duration": 348,
    "start_time": "2021-07-22T09:39:24.715Z"
   },
   {
    "duration": 261,
    "start_time": "2021-07-22T09:40:14.534Z"
   },
   {
    "duration": 9,
    "start_time": "2021-07-22T09:41:37.617Z"
   },
   {
    "duration": 9,
    "start_time": "2021-07-22T09:41:45.449Z"
   },
   {
    "duration": 10,
    "start_time": "2021-07-22T09:41:57.225Z"
   },
   {
    "duration": 9,
    "start_time": "2021-07-22T09:42:50.875Z"
   },
   {
    "duration": 185,
    "start_time": "2021-07-22T09:45:27.357Z"
   },
   {
    "duration": 185,
    "start_time": "2021-07-22T09:45:41.204Z"
   },
   {
    "duration": 3,
    "start_time": "2021-07-22T10:01:04.261Z"
   },
   {
    "duration": 288,
    "start_time": "2021-07-22T10:04:25.092Z"
   },
   {
    "duration": 11,
    "start_time": "2021-07-22T10:04:50.615Z"
   },
   {
    "duration": 9,
    "start_time": "2021-07-22T10:07:11.212Z"
   },
   {
    "duration": 13,
    "start_time": "2021-07-22T10:07:25.209Z"
   },
   {
    "duration": 89,
    "start_time": "2021-07-22T10:08:52.396Z"
   },
   {
    "duration": 7407,
    "start_time": "2021-07-22T10:09:25.208Z"
   },
   {
    "duration": 87,
    "start_time": "2021-07-22T10:09:34.424Z"
   },
   {
    "duration": 87,
    "start_time": "2021-07-22T10:10:27.210Z"
   },
   {
    "duration": 6,
    "start_time": "2021-07-22T10:10:35.701Z"
   },
   {
    "duration": 8,
    "start_time": "2021-07-22T10:10:47.883Z"
   },
   {
    "duration": 120,
    "start_time": "2021-07-22T10:15:31.005Z"
   },
   {
    "duration": 274,
    "start_time": "2021-07-22T10:17:39.345Z"
   },
   {
    "duration": 380,
    "start_time": "2021-07-22T10:18:58.960Z"
   },
   {
    "duration": 12,
    "start_time": "2021-07-22T10:21:30.628Z"
   },
   {
    "duration": 11,
    "start_time": "2021-07-22T10:22:11.484Z"
   },
   {
    "duration": 11,
    "start_time": "2021-07-22T10:22:21.873Z"
   },
   {
    "duration": 16,
    "start_time": "2021-07-22T10:22:34.229Z"
   },
   {
    "duration": 17,
    "start_time": "2021-07-22T10:26:26.184Z"
   },
   {
    "duration": 6,
    "start_time": "2021-07-22T10:27:29.928Z"
   },
   {
    "duration": 131,
    "start_time": "2021-07-22T10:29:02.965Z"
   },
   {
    "duration": 287,
    "start_time": "2021-07-22T10:29:30.861Z"
   },
   {
    "duration": 7609,
    "start_time": "2021-07-22T10:29:40.906Z"
   },
   {
    "duration": 12826,
    "start_time": "2021-07-22T10:30:05.512Z"
   },
   {
    "duration": 12,
    "start_time": "2021-07-22T10:30:30.057Z"
   },
   {
    "duration": 15,
    "start_time": "2021-07-22T10:31:44.979Z"
   },
   {
    "duration": 20,
    "start_time": "2021-07-22T10:32:05.818Z"
   },
   {
    "duration": 1257,
    "start_time": "2021-07-22T10:33:03.743Z"
   },
   {
    "duration": 126,
    "start_time": "2021-07-22T10:33:05.002Z"
   },
   {
    "duration": 18,
    "start_time": "2021-07-22T10:33:05.130Z"
   },
   {
    "duration": 20,
    "start_time": "2021-07-22T10:33:05.150Z"
   },
   {
    "duration": 14,
    "start_time": "2021-07-22T10:33:05.172Z"
   },
   {
    "duration": 22,
    "start_time": "2021-07-22T10:33:05.188Z"
   },
   {
    "duration": 22,
    "start_time": "2021-07-22T10:33:05.212Z"
   },
   {
    "duration": 12,
    "start_time": "2021-07-22T10:33:05.240Z"
   },
   {
    "duration": 20,
    "start_time": "2021-07-22T10:33:05.254Z"
   },
   {
    "duration": 10,
    "start_time": "2021-07-22T10:33:05.276Z"
   },
   {
    "duration": 15,
    "start_time": "2021-07-22T10:33:05.287Z"
   },
   {
    "duration": 44,
    "start_time": "2021-07-22T10:33:05.303Z"
   },
   {
    "duration": 12,
    "start_time": "2021-07-22T10:33:05.349Z"
   },
   {
    "duration": 26,
    "start_time": "2021-07-22T10:33:05.363Z"
   },
   {
    "duration": 23,
    "start_time": "2021-07-22T10:33:05.391Z"
   },
   {
    "duration": 46,
    "start_time": "2021-07-22T10:33:05.416Z"
   },
   {
    "duration": 17,
    "start_time": "2021-07-22T10:33:05.464Z"
   },
   {
    "duration": 31,
    "start_time": "2021-07-22T10:33:05.483Z"
   },
   {
    "duration": 40,
    "start_time": "2021-07-22T10:33:05.516Z"
   },
   {
    "duration": 19,
    "start_time": "2021-07-22T10:33:05.558Z"
   },
   {
    "duration": 485,
    "start_time": "2021-07-22T10:33:05.579Z"
   },
   {
    "duration": 79,
    "start_time": "2021-07-22T10:33:06.066Z"
   },
   {
    "duration": 34,
    "start_time": "2021-07-22T10:33:06.150Z"
   },
   {
    "duration": 34,
    "start_time": "2021-07-22T10:33:06.187Z"
   },
   {
    "duration": 192,
    "start_time": "2021-07-22T10:33:06.222Z"
   },
   {
    "duration": 290,
    "start_time": "2021-07-22T10:33:06.416Z"
   },
   {
    "duration": 4,
    "start_time": "2021-07-22T10:33:06.708Z"
   },
   {
    "duration": 28,
    "start_time": "2021-07-22T10:33:06.714Z"
   },
   {
    "duration": 654,
    "start_time": "2021-07-22T10:33:06.744Z"
   },
   {
    "duration": 7,
    "start_time": "2021-07-22T10:33:07.400Z"
   },
   {
    "duration": 284,
    "start_time": "2021-07-22T10:33:07.409Z"
   },
   {
    "duration": 6,
    "start_time": "2021-07-22T10:33:07.695Z"
   },
   {
    "duration": 733,
    "start_time": "2021-07-22T10:33:07.703Z"
   },
   {
    "duration": 10,
    "start_time": "2021-07-22T10:33:08.445Z"
   },
   {
    "duration": 11,
    "start_time": "2021-07-22T10:33:08.457Z"
   },
   {
    "duration": 192,
    "start_time": "2021-07-22T10:33:08.469Z"
   },
   {
    "duration": 7,
    "start_time": "2021-07-22T10:33:08.664Z"
   },
   {
    "duration": 328,
    "start_time": "2021-07-22T10:33:08.673Z"
   },
   {
    "duration": 613,
    "start_time": "2021-07-22T10:33:09.003Z"
   },
   {
    "duration": 41,
    "start_time": "2021-07-22T10:33:09.619Z"
   },
   {
    "duration": 13,
    "start_time": "2021-07-22T10:34:48.855Z"
   },
   {
    "duration": 22,
    "start_time": "2021-07-22T13:24:53.833Z"
   },
   {
    "duration": 14,
    "start_time": "2021-07-22T13:25:02.994Z"
   },
   {
    "duration": 87,
    "start_time": "2021-07-22T13:25:49.705Z"
   },
   {
    "duration": 258,
    "start_time": "2021-07-22T13:25:55.641Z"
   },
   {
    "duration": 195,
    "start_time": "2021-07-22T13:26:53.467Z"
   },
   {
    "duration": 5,
    "start_time": "2021-07-22T13:34:18.430Z"
   },
   {
    "duration": 5,
    "start_time": "2021-07-22T13:44:28.654Z"
   },
   {
    "duration": 5,
    "start_time": "2021-07-22T13:46:49.270Z"
   },
   {
    "duration": 7,
    "start_time": "2021-07-22T14:04:32.836Z"
   },
   {
    "duration": 6,
    "start_time": "2021-07-22T14:05:07.949Z"
   },
   {
    "duration": 4,
    "start_time": "2021-07-22T14:07:42.844Z"
   },
   {
    "duration": 6,
    "start_time": "2021-07-22T14:07:50.338Z"
   },
   {
    "duration": 7,
    "start_time": "2021-07-22T14:07:57.047Z"
   },
   {
    "duration": 6,
    "start_time": "2021-07-22T14:08:08.182Z"
   },
   {
    "duration": 197,
    "start_time": "2021-07-22T14:08:41.107Z"
   },
   {
    "duration": 390,
    "start_time": "2021-07-22T14:10:31.952Z"
   },
   {
    "duration": 254,
    "start_time": "2021-07-22T14:10:43.905Z"
   },
   {
    "duration": 271,
    "start_time": "2021-07-22T14:12:41.420Z"
   },
   {
    "duration": 25,
    "start_time": "2021-07-22T14:12:48.558Z"
   },
   {
    "duration": 7,
    "start_time": "2021-07-22T14:13:05.703Z"
   },
   {
    "duration": 6,
    "start_time": "2021-07-22T14:13:17.205Z"
   },
   {
    "duration": 6,
    "start_time": "2021-07-22T14:13:27.881Z"
   },
   {
    "duration": 6,
    "start_time": "2021-07-22T14:13:38.216Z"
   },
   {
    "duration": 207,
    "start_time": "2021-07-22T14:14:13.476Z"
   },
   {
    "duration": 7,
    "start_time": "2021-07-22T14:15:49.872Z"
   },
   {
    "duration": 216,
    "start_time": "2021-07-22T14:16:23.833Z"
   },
   {
    "duration": 6,
    "start_time": "2021-07-22T15:00:01.513Z"
   },
   {
    "duration": 6,
    "start_time": "2021-07-22T15:02:35.650Z"
   },
   {
    "duration": 9,
    "start_time": "2021-07-22T15:09:02.239Z"
   },
   {
    "duration": 11,
    "start_time": "2021-07-22T15:09:36.345Z"
   },
   {
    "duration": 171,
    "start_time": "2021-07-22T15:09:54.453Z"
   },
   {
    "duration": 271,
    "start_time": "2021-07-22T15:10:06.488Z"
   },
   {
    "duration": 11,
    "start_time": "2021-07-22T15:10:54.334Z"
   },
   {
    "duration": 278,
    "start_time": "2021-07-22T15:11:23.542Z"
   },
   {
    "duration": 269,
    "start_time": "2021-07-22T15:11:52.211Z"
   },
   {
    "duration": 99,
    "start_time": "2021-07-22T15:11:59.383Z"
   },
   {
    "duration": 289,
    "start_time": "2021-07-22T15:12:10.521Z"
   },
   {
    "duration": 10,
    "start_time": "2021-07-22T15:12:28.351Z"
   },
   {
    "duration": 196,
    "start_time": "2021-07-22T15:12:43.680Z"
   },
   {
    "duration": 7,
    "start_time": "2021-07-22T15:14:57.191Z"
   },
   {
    "duration": 160,
    "start_time": "2021-07-22T15:19:47.909Z"
   },
   {
    "duration": 182,
    "start_time": "2021-07-22T15:20:03.853Z"
   },
   {
    "duration": 163,
    "start_time": "2021-07-22T15:20:08.714Z"
   },
   {
    "duration": 154,
    "start_time": "2021-07-22T15:21:39.045Z"
   },
   {
    "duration": 1130,
    "start_time": "2021-07-22T15:21:46.636Z"
   },
   {
    "duration": 160,
    "start_time": "2021-07-22T15:21:47.768Z"
   },
   {
    "duration": 17,
    "start_time": "2021-07-22T15:21:47.930Z"
   },
   {
    "duration": 21,
    "start_time": "2021-07-22T15:21:47.949Z"
   },
   {
    "duration": 14,
    "start_time": "2021-07-22T15:21:47.972Z"
   },
   {
    "duration": 22,
    "start_time": "2021-07-22T15:21:47.988Z"
   },
   {
    "duration": 24,
    "start_time": "2021-07-22T15:21:48.011Z"
   },
   {
    "duration": 9,
    "start_time": "2021-07-22T15:21:48.037Z"
   },
   {
    "duration": 27,
    "start_time": "2021-07-22T15:21:48.048Z"
   },
   {
    "duration": 25,
    "start_time": "2021-07-22T15:21:48.077Z"
   },
   {
    "duration": 24,
    "start_time": "2021-07-22T15:21:48.103Z"
   },
   {
    "duration": 30,
    "start_time": "2021-07-22T15:21:48.129Z"
   },
   {
    "duration": 12,
    "start_time": "2021-07-22T15:21:48.161Z"
   },
   {
    "duration": 29,
    "start_time": "2021-07-22T15:21:48.175Z"
   },
   {
    "duration": 23,
    "start_time": "2021-07-22T15:21:48.205Z"
   },
   {
    "duration": 38,
    "start_time": "2021-07-22T15:21:48.230Z"
   },
   {
    "duration": 19,
    "start_time": "2021-07-22T15:21:48.270Z"
   },
   {
    "duration": 27,
    "start_time": "2021-07-22T15:21:48.291Z"
   },
   {
    "duration": 33,
    "start_time": "2021-07-22T15:21:48.340Z"
   },
   {
    "duration": 20,
    "start_time": "2021-07-22T15:21:48.375Z"
   },
   {
    "duration": 188,
    "start_time": "2021-07-22T15:21:48.397Z"
   },
   {
    "duration": 25,
    "start_time": "2021-07-22T15:21:48.587Z"
   },
   {
    "duration": 39,
    "start_time": "2021-07-22T15:21:48.614Z"
   },
   {
    "duration": 49,
    "start_time": "2021-07-22T15:21:48.654Z"
   },
   {
    "duration": 169,
    "start_time": "2021-07-22T15:21:48.705Z"
   },
   {
    "duration": 183,
    "start_time": "2021-07-22T15:21:48.875Z"
   },
   {
    "duration": 4,
    "start_time": "2021-07-22T15:21:49.062Z"
   },
   {
    "duration": 24,
    "start_time": "2021-07-22T15:21:49.069Z"
   },
   {
    "duration": 634,
    "start_time": "2021-07-22T15:21:49.095Z"
   },
   {
    "duration": 16,
    "start_time": "2021-07-22T15:21:49.731Z"
   },
   {
    "duration": 281,
    "start_time": "2021-07-22T15:21:49.749Z"
   },
   {
    "duration": 10,
    "start_time": "2021-07-22T15:21:50.031Z"
   },
   {
    "duration": 559,
    "start_time": "2021-07-22T15:21:50.043Z"
   },
   {
    "duration": 8,
    "start_time": "2021-07-22T15:21:50.604Z"
   },
   {
    "duration": 13,
    "start_time": "2021-07-22T15:21:50.614Z"
   },
   {
    "duration": 199,
    "start_time": "2021-07-22T15:21:50.628Z"
   },
   {
    "duration": 12,
    "start_time": "2021-07-22T15:21:50.829Z"
   },
   {
    "duration": 209,
    "start_time": "2021-07-22T15:21:50.843Z"
   },
   {
    "duration": 368,
    "start_time": "2021-07-22T15:21:51.054Z"
   },
   {
    "duration": 205,
    "start_time": "2021-07-22T15:21:51.423Z"
   },
   {
    "duration": 171,
    "start_time": "2021-07-22T15:21:51.629Z"
   },
   {
    "duration": 202,
    "start_time": "2021-07-22T15:21:51.801Z"
   },
   {
    "duration": 225,
    "start_time": "2021-07-22T15:21:52.005Z"
   },
   {
    "duration": 226,
    "start_time": "2021-07-22T15:21:52.232Z"
   },
   {
    "duration": 5,
    "start_time": "2021-07-22T15:21:52.460Z"
   },
   {
    "duration": 347,
    "start_time": "2021-07-22T15:22:53.403Z"
   },
   {
    "duration": 8,
    "start_time": "2021-07-22T15:23:05.232Z"
   },
   {
    "duration": 180,
    "start_time": "2021-07-22T15:25:00.177Z"
   },
   {
    "duration": 279,
    "start_time": "2021-07-22T16:04:41.054Z"
   },
   {
    "duration": 204,
    "start_time": "2021-07-22T16:05:05.894Z"
   },
   {
    "duration": 202,
    "start_time": "2021-07-22T19:08:33.633Z"
   },
   {
    "duration": 7,
    "start_time": "2021-07-22T19:08:48.310Z"
   },
   {
    "duration": 196,
    "start_time": "2021-07-22T19:09:07.434Z"
   },
   {
    "duration": 245,
    "start_time": "2021-07-22T19:10:43.258Z"
   },
   {
    "duration": 467,
    "start_time": "2021-07-22T19:16:27.396Z"
   },
   {
    "duration": 8,
    "start_time": "2021-07-22T19:19:22.521Z"
   },
   {
    "duration": 9,
    "start_time": "2021-07-22T19:19:44.208Z"
   },
   {
    "duration": 221,
    "start_time": "2021-07-22T19:20:28.105Z"
   },
   {
    "duration": 99,
    "start_time": "2021-07-22T19:20:48.912Z"
   },
   {
    "duration": 104,
    "start_time": "2021-07-22T19:23:40.930Z"
   },
   {
    "duration": 232,
    "start_time": "2021-07-22T19:23:46.070Z"
   },
   {
    "duration": 287,
    "start_time": "2021-07-22T19:23:53.877Z"
   },
   {
    "duration": 286,
    "start_time": "2021-07-22T19:24:36.610Z"
   },
   {
    "duration": 375,
    "start_time": "2021-07-22T19:24:47.695Z"
   },
   {
    "duration": 287,
    "start_time": "2021-07-22T19:25:02.691Z"
   },
   {
    "duration": 221,
    "start_time": "2021-07-22T19:26:51.064Z"
   },
   {
    "duration": 296,
    "start_time": "2021-07-22T19:28:33.836Z"
   },
   {
    "duration": 314,
    "start_time": "2021-07-22T19:28:59.198Z"
   },
   {
    "duration": 27,
    "start_time": "2021-07-22T19:30:28.978Z"
   },
   {
    "duration": 296,
    "start_time": "2021-07-22T19:30:39.873Z"
   },
   {
    "duration": 275,
    "start_time": "2021-07-22T19:31:34.346Z"
   },
   {
    "duration": 296,
    "start_time": "2021-07-22T19:31:52.388Z"
   },
   {
    "duration": 304,
    "start_time": "2021-07-22T20:30:16.560Z"
   },
   {
    "duration": 199,
    "start_time": "2021-07-22T20:59:26.875Z"
   },
   {
    "duration": 247,
    "start_time": "2021-07-22T21:12:24.114Z"
   },
   {
    "duration": 548,
    "start_time": "2021-07-22T21:29:51.767Z"
   },
   {
    "duration": 88,
    "start_time": "2021-07-22T21:33:42.875Z"
   },
   {
    "duration": 327,
    "start_time": "2021-07-22T21:33:47.055Z"
   },
   {
    "duration": 396,
    "start_time": "2021-07-22T21:34:03.992Z"
   },
   {
    "duration": 7,
    "start_time": "2021-07-22T21:37:39.053Z"
   },
   {
    "duration": 296,
    "start_time": "2021-07-22T21:37:42.947Z"
   },
   {
    "duration": 7,
    "start_time": "2021-07-22T21:39:36.333Z"
   },
   {
    "duration": 297,
    "start_time": "2021-07-22T21:40:43.007Z"
   },
   {
    "duration": 303,
    "start_time": "2021-07-22T21:41:33.547Z"
   },
   {
    "duration": 221,
    "start_time": "2021-07-22T21:56:26.566Z"
   },
   {
    "duration": 265,
    "start_time": "2021-07-22T22:05:44.620Z"
   },
   {
    "duration": 272,
    "start_time": "2021-07-22T22:05:55.030Z"
   },
   {
    "duration": 5,
    "start_time": "2021-07-22T22:06:21.890Z"
   },
   {
    "duration": 4,
    "start_time": "2021-07-22T22:07:00.593Z"
   },
   {
    "duration": 5,
    "start_time": "2021-07-22T22:07:20.686Z"
   },
   {
    "duration": 271,
    "start_time": "2021-07-23T09:56:48.737Z"
   },
   {
    "duration": 1119,
    "start_time": "2021-07-23T09:56:56.172Z"
   },
   {
    "duration": 200,
    "start_time": "2021-07-23T09:56:57.294Z"
   },
   {
    "duration": 18,
    "start_time": "2021-07-23T09:56:57.496Z"
   },
   {
    "duration": 20,
    "start_time": "2021-07-23T09:56:57.516Z"
   },
   {
    "duration": 16,
    "start_time": "2021-07-23T09:56:57.592Z"
   },
   {
    "duration": 9,
    "start_time": "2021-07-23T09:56:57.610Z"
   },
   {
    "duration": 9,
    "start_time": "2021-07-23T09:56:57.620Z"
   },
   {
    "duration": 59,
    "start_time": "2021-07-23T09:56:57.632Z"
   },
   {
    "duration": 15,
    "start_time": "2021-07-23T09:56:57.693Z"
   },
   {
    "duration": 20,
    "start_time": "2021-07-23T09:56:57.709Z"
   },
   {
    "duration": 28,
    "start_time": "2021-07-23T09:56:57.731Z"
   },
   {
    "duration": 19,
    "start_time": "2021-07-23T09:56:57.761Z"
   },
   {
    "duration": 12,
    "start_time": "2021-07-23T09:56:57.782Z"
   },
   {
    "duration": 20,
    "start_time": "2021-07-23T09:56:57.795Z"
   },
   {
    "duration": 14,
    "start_time": "2021-07-23T09:56:57.816Z"
   },
   {
    "duration": 33,
    "start_time": "2021-07-23T09:56:57.831Z"
   },
   {
    "duration": 18,
    "start_time": "2021-07-23T09:56:57.866Z"
   },
   {
    "duration": 25,
    "start_time": "2021-07-23T09:56:57.885Z"
   },
   {
    "duration": 35,
    "start_time": "2021-07-23T09:56:57.911Z"
   },
   {
    "duration": 18,
    "start_time": "2021-07-23T09:56:57.947Z"
   },
   {
    "duration": 170,
    "start_time": "2021-07-23T09:56:57.966Z"
   },
   {
    "duration": 25,
    "start_time": "2021-07-23T09:56:58.138Z"
   },
   {
    "duration": 35,
    "start_time": "2021-07-23T09:56:58.166Z"
   },
   {
    "duration": 26,
    "start_time": "2021-07-23T09:56:58.203Z"
   },
   {
    "duration": 175,
    "start_time": "2021-07-23T09:56:58.231Z"
   },
   {
    "duration": 187,
    "start_time": "2021-07-23T09:56:58.408Z"
   },
   {
    "duration": 4,
    "start_time": "2021-07-23T09:56:58.597Z"
   },
   {
    "duration": 13,
    "start_time": "2021-07-23T09:56:58.603Z"
   },
   {
    "duration": 812,
    "start_time": "2021-07-23T09:56:58.618Z"
   },
   {
    "duration": 199,
    "start_time": "2021-07-23T09:56:59.431Z"
   },
   {
    "duration": 306,
    "start_time": "2021-07-23T09:56:59.631Z"
   },
   {
    "duration": 7,
    "start_time": "2021-07-23T09:56:59.938Z"
   },
   {
    "duration": 7,
    "start_time": "2021-07-23T09:56:59.947Z"
   },
   {
    "duration": 299,
    "start_time": "2021-07-23T09:56:59.955Z"
   },
   {
    "duration": 218,
    "start_time": "2021-07-23T09:57:00.255Z"
   },
   {
    "duration": 8,
    "start_time": "2021-07-23T09:57:00.474Z"
   },
   {
    "duration": 14,
    "start_time": "2021-07-23T09:57:00.483Z"
   },
   {
    "duration": 187,
    "start_time": "2021-07-23T09:57:00.498Z"
   },
   {
    "duration": 5,
    "start_time": "2021-07-23T09:57:00.691Z"
   },
   {
    "duration": 216,
    "start_time": "2021-07-23T09:57:00.698Z"
   },
   {
    "duration": 249,
    "start_time": "2021-07-23T09:57:00.916Z"
   },
   {
    "duration": 198,
    "start_time": "2021-07-23T09:57:01.167Z"
   },
   {
    "duration": 175,
    "start_time": "2021-07-23T09:57:01.367Z"
   },
   {
    "duration": 7,
    "start_time": "2021-07-23T09:57:01.543Z"
   },
   {
    "duration": 221,
    "start_time": "2021-07-23T09:57:01.552Z"
   },
   {
    "duration": 207,
    "start_time": "2021-07-23T09:57:01.775Z"
   },
   {
    "duration": 217,
    "start_time": "2021-07-23T09:57:01.984Z"
   },
   {
    "duration": 104,
    "start_time": "2021-07-23T10:12:35.164Z"
   },
   {
    "duration": 303,
    "start_time": "2021-07-23T10:27:40.315Z"
   },
   {
    "duration": 192,
    "start_time": "2021-07-23T10:42:40.785Z"
   },
   {
    "duration": 192,
    "start_time": "2021-07-23T12:28:46.987Z"
   },
   {
    "duration": 196,
    "start_time": "2021-07-23T12:37:13.601Z"
   },
   {
    "duration": 191,
    "start_time": "2021-07-23T12:37:38.334Z"
   },
   {
    "duration": 205,
    "start_time": "2021-07-23T12:39:30.402Z"
   },
   {
    "duration": 196,
    "start_time": "2021-07-23T12:40:22.786Z"
   },
   {
    "duration": 77,
    "start_time": "2021-07-23T12:52:13.984Z"
   },
   {
    "duration": 1269,
    "start_time": "2021-07-23T12:52:48.260Z"
   },
   {
    "duration": 116,
    "start_time": "2021-07-23T12:52:49.532Z"
   },
   {
    "duration": 18,
    "start_time": "2021-07-23T12:52:49.650Z"
   },
   {
    "duration": 21,
    "start_time": "2021-07-23T12:52:49.670Z"
   },
   {
    "duration": 15,
    "start_time": "2021-07-23T12:52:49.693Z"
   },
   {
    "duration": 9,
    "start_time": "2021-07-23T12:52:49.710Z"
   },
   {
    "duration": 8,
    "start_time": "2021-07-23T12:52:49.721Z"
   },
   {
    "duration": 4,
    "start_time": "2021-07-23T12:52:49.732Z"
   },
   {
    "duration": 16,
    "start_time": "2021-07-23T12:52:49.738Z"
   },
   {
    "duration": 39,
    "start_time": "2021-07-23T12:52:49.756Z"
   },
   {
    "duration": 17,
    "start_time": "2021-07-23T12:52:49.796Z"
   },
   {
    "duration": 19,
    "start_time": "2021-07-23T12:52:49.814Z"
   },
   {
    "duration": 14,
    "start_time": "2021-07-23T12:52:49.835Z"
   },
   {
    "duration": 8,
    "start_time": "2021-07-23T12:52:49.850Z"
   },
   {
    "duration": 38,
    "start_time": "2021-07-23T12:52:49.860Z"
   },
   {
    "duration": 30,
    "start_time": "2021-07-23T12:52:49.900Z"
   },
   {
    "duration": 22,
    "start_time": "2021-07-23T12:52:49.933Z"
   },
   {
    "duration": 54,
    "start_time": "2021-07-23T12:52:49.957Z"
   },
   {
    "duration": 35,
    "start_time": "2021-07-23T12:52:50.013Z"
   },
   {
    "duration": 45,
    "start_time": "2021-07-23T12:52:50.050Z"
   },
   {
    "duration": 183,
    "start_time": "2021-07-23T12:52:50.096Z"
   },
   {
    "duration": 33,
    "start_time": "2021-07-23T12:52:50.281Z"
   },
   {
    "duration": 20,
    "start_time": "2021-07-23T12:52:50.317Z"
   },
   {
    "duration": 31,
    "start_time": "2021-07-23T12:52:50.339Z"
   },
   {
    "duration": 190,
    "start_time": "2021-07-23T12:52:50.371Z"
   },
   {
    "duration": 183,
    "start_time": "2021-07-23T12:52:50.563Z"
   },
   {
    "duration": 4,
    "start_time": "2021-07-23T12:52:50.748Z"
   },
   {
    "duration": 24,
    "start_time": "2021-07-23T12:52:50.754Z"
   },
   {
    "duration": 635,
    "start_time": "2021-07-23T12:52:50.779Z"
   },
   {
    "duration": 210,
    "start_time": "2021-07-23T12:52:51.416Z"
   },
   {
    "duration": 726,
    "start_time": "2021-07-23T12:52:51.628Z"
   },
   {
    "duration": 7,
    "start_time": "2021-07-23T12:52:52.356Z"
   },
   {
    "duration": 7,
    "start_time": "2021-07-23T12:52:52.365Z"
   },
   {
    "duration": 302,
    "start_time": "2021-07-23T12:52:52.374Z"
   },
   {
    "duration": 222,
    "start_time": "2021-07-23T12:52:52.677Z"
   },
   {
    "duration": 7,
    "start_time": "2021-07-23T12:52:52.901Z"
   },
   {
    "duration": 6,
    "start_time": "2021-07-23T12:52:52.909Z"
   },
   {
    "duration": 194,
    "start_time": "2021-07-23T12:52:52.917Z"
   },
   {
    "duration": 5,
    "start_time": "2021-07-23T12:52:53.113Z"
   },
   {
    "duration": 196,
    "start_time": "2021-07-23T12:52:53.119Z"
   },
   {
    "duration": 254,
    "start_time": "2021-07-23T12:52:53.317Z"
   },
   {
    "duration": 210,
    "start_time": "2021-07-23T12:52:53.572Z"
   },
   {
    "duration": 124,
    "start_time": "2021-07-23T12:52:53.783Z"
   },
   {
    "duration": -56,
    "start_time": "2021-07-23T12:52:53.965Z"
   },
   {
    "duration": -58,
    "start_time": "2021-07-23T12:52:53.968Z"
   },
   {
    "duration": -60,
    "start_time": "2021-07-23T12:52:53.971Z"
   },
   {
    "duration": -63,
    "start_time": "2021-07-23T12:52:53.975Z"
   },
   {
    "duration": 75,
    "start_time": "2021-07-23T12:53:33.983Z"
   },
   {
    "duration": 80,
    "start_time": "2021-07-23T12:53:47.467Z"
   },
   {
    "duration": 184,
    "start_time": "2021-07-23T12:54:11.048Z"
   },
   {
    "duration": 181,
    "start_time": "2021-07-23T13:31:35.633Z"
   },
   {
    "duration": 175,
    "start_time": "2021-07-23T13:33:38.734Z"
   },
   {
    "duration": 184,
    "start_time": "2021-07-23T13:39:22.554Z"
   },
   {
    "duration": 286,
    "start_time": "2021-07-23T13:43:51.493Z"
   },
   {
    "duration": 188,
    "start_time": "2021-07-23T13:44:18.990Z"
   },
   {
    "duration": 211,
    "start_time": "2021-07-23T13:45:57.792Z"
   },
   {
    "duration": 199,
    "start_time": "2021-07-23T13:46:13.788Z"
   },
   {
    "duration": 176,
    "start_time": "2021-07-23T13:46:28.550Z"
   },
   {
    "duration": 7,
    "start_time": "2021-07-23T13:48:20.958Z"
   },
   {
    "duration": 183,
    "start_time": "2021-07-23T13:49:20.181Z"
   },
   {
    "duration": 205,
    "start_time": "2021-07-23T13:49:26.254Z"
   },
   {
    "duration": 203,
    "start_time": "2021-07-23T13:49:29.855Z"
   },
   {
    "duration": 182,
    "start_time": "2021-07-23T13:56:45.026Z"
   },
   {
    "duration": 285,
    "start_time": "2021-07-23T13:57:58.283Z"
   },
   {
    "duration": 1284,
    "start_time": "2021-07-23T13:58:05.177Z"
   },
   {
    "duration": 114,
    "start_time": "2021-07-23T13:58:06.463Z"
   },
   {
    "duration": 16,
    "start_time": "2021-07-23T13:58:06.579Z"
   },
   {
    "duration": 30,
    "start_time": "2021-07-23T13:58:06.596Z"
   },
   {
    "duration": 14,
    "start_time": "2021-07-23T13:58:06.628Z"
   },
   {
    "duration": 23,
    "start_time": "2021-07-23T13:58:06.644Z"
   },
   {
    "duration": 18,
    "start_time": "2021-07-23T13:58:06.668Z"
   },
   {
    "duration": 11,
    "start_time": "2021-07-23T13:58:06.688Z"
   },
   {
    "duration": 25,
    "start_time": "2021-07-23T13:58:06.701Z"
   },
   {
    "duration": 11,
    "start_time": "2021-07-23T13:58:06.727Z"
   },
   {
    "duration": 12,
    "start_time": "2021-07-23T13:58:06.740Z"
   },
   {
    "duration": 19,
    "start_time": "2021-07-23T13:58:06.754Z"
   },
   {
    "duration": 25,
    "start_time": "2021-07-23T13:58:06.775Z"
   },
   {
    "duration": 6,
    "start_time": "2021-07-23T13:58:06.802Z"
   },
   {
    "duration": 9,
    "start_time": "2021-07-23T13:58:06.809Z"
   },
   {
    "duration": 25,
    "start_time": "2021-07-23T13:58:06.820Z"
   },
   {
    "duration": 18,
    "start_time": "2021-07-23T13:58:06.847Z"
   },
   {
    "duration": 49,
    "start_time": "2021-07-23T13:58:06.866Z"
   },
   {
    "duration": 34,
    "start_time": "2021-07-23T13:58:06.917Z"
   },
   {
    "duration": 44,
    "start_time": "2021-07-23T13:58:06.953Z"
   },
   {
    "duration": 176,
    "start_time": "2021-07-23T13:58:06.999Z"
   },
   {
    "duration": 29,
    "start_time": "2021-07-23T13:58:07.177Z"
   },
   {
    "duration": 19,
    "start_time": "2021-07-23T13:58:07.209Z"
   },
   {
    "duration": 28,
    "start_time": "2021-07-23T13:58:07.230Z"
   },
   {
    "duration": 184,
    "start_time": "2021-07-23T13:58:07.260Z"
   },
   {
    "duration": 177,
    "start_time": "2021-07-23T13:58:07.446Z"
   },
   {
    "duration": 4,
    "start_time": "2021-07-23T13:58:07.624Z"
   },
   {
    "duration": 13,
    "start_time": "2021-07-23T13:58:07.630Z"
   },
   {
    "duration": 606,
    "start_time": "2021-07-23T13:58:07.644Z"
   },
   {
    "duration": 200,
    "start_time": "2021-07-23T13:58:08.252Z"
   },
   {
    "duration": 308,
    "start_time": "2021-07-23T13:58:08.454Z"
   },
   {
    "duration": 7,
    "start_time": "2021-07-23T13:58:08.764Z"
   },
   {
    "duration": 7,
    "start_time": "2021-07-23T13:58:08.772Z"
   },
   {
    "duration": 293,
    "start_time": "2021-07-23T13:58:08.791Z"
   },
   {
    "duration": 216,
    "start_time": "2021-07-23T13:58:09.086Z"
   },
   {
    "duration": 7,
    "start_time": "2021-07-23T13:58:09.304Z"
   },
   {
    "duration": 5,
    "start_time": "2021-07-23T13:58:09.313Z"
   },
   {
    "duration": 199,
    "start_time": "2021-07-23T13:58:09.319Z"
   },
   {
    "duration": 5,
    "start_time": "2021-07-23T13:58:09.520Z"
   },
   {
    "duration": 208,
    "start_time": "2021-07-23T13:58:09.527Z"
   },
   {
    "duration": 254,
    "start_time": "2021-07-23T13:58:09.737Z"
   },
   {
    "duration": 211,
    "start_time": "2021-07-23T13:58:09.993Z"
   },
   {
    "duration": 185,
    "start_time": "2021-07-23T13:58:10.206Z"
   },
   {
    "duration": 196,
    "start_time": "2021-07-23T13:58:10.393Z"
   },
   {
    "duration": 312,
    "start_time": "2021-07-23T13:58:10.591Z"
   },
   {
    "duration": 214,
    "start_time": "2021-07-23T13:58:10.905Z"
   },
   {
    "duration": 368,
    "start_time": "2021-07-23T13:59:01.349Z"
   },
   {
    "duration": 187,
    "start_time": "2021-07-23T13:59:28.458Z"
   },
   {
    "duration": 241,
    "start_time": "2021-07-23T14:06:47.716Z"
   },
   {
    "duration": 247,
    "start_time": "2021-07-23T14:08:43.802Z"
   },
   {
    "duration": 210,
    "start_time": "2021-07-23T14:15:13.186Z"
   },
   {
    "duration": 217,
    "start_time": "2021-07-23T14:20:47.105Z"
   },
   {
    "duration": 347,
    "start_time": "2021-07-23T15:54:00.545Z"
   },
   {
    "duration": 11,
    "start_time": "2021-07-23T15:54:12.605Z"
   },
   {
    "duration": 12,
    "start_time": "2021-07-23T15:54:17.876Z"
   },
   {
    "duration": 17,
    "start_time": "2021-07-23T16:01:08.406Z"
   },
   {
    "duration": 26,
    "start_time": "2021-07-23T16:02:03.507Z"
   },
   {
    "duration": 5437,
    "start_time": "2021-07-23T16:03:26.607Z"
   },
   {
    "duration": 1158,
    "start_time": "2021-07-23T16:04:03.426Z"
   },
   {
    "duration": 119,
    "start_time": "2021-07-23T16:04:04.585Z"
   },
   {
    "duration": 16,
    "start_time": "2021-07-23T16:04:04.706Z"
   },
   {
    "duration": 18,
    "start_time": "2021-07-23T16:04:04.724Z"
   },
   {
    "duration": 14,
    "start_time": "2021-07-23T16:04:04.743Z"
   },
   {
    "duration": 8,
    "start_time": "2021-07-23T16:04:04.791Z"
   },
   {
    "duration": 10,
    "start_time": "2021-07-23T16:04:04.800Z"
   },
   {
    "duration": 4,
    "start_time": "2021-07-23T16:04:04.812Z"
   },
   {
    "duration": 15,
    "start_time": "2021-07-23T16:04:04.818Z"
   },
   {
    "duration": 70,
    "start_time": "2021-07-23T16:04:04.835Z"
   },
   {
    "duration": 22,
    "start_time": "2021-07-23T16:04:04.907Z"
   },
   {
    "duration": 81,
    "start_time": "2021-07-23T16:04:04.930Z"
   },
   {
    "duration": 15,
    "start_time": "2021-07-23T16:04:05.013Z"
   },
   {
    "duration": 10,
    "start_time": "2021-07-23T16:04:05.030Z"
   },
   {
    "duration": 12,
    "start_time": "2021-07-23T16:04:05.092Z"
   },
   {
    "duration": 88,
    "start_time": "2021-07-23T16:04:05.105Z"
   },
   {
    "duration": 24,
    "start_time": "2021-07-23T16:04:05.195Z"
   },
   {
    "duration": 83,
    "start_time": "2021-07-23T16:04:05.221Z"
   },
   {
    "duration": 94,
    "start_time": "2021-07-23T16:04:05.306Z"
   },
   {
    "duration": 17,
    "start_time": "2021-07-23T16:04:05.402Z"
   },
   {
    "duration": 209,
    "start_time": "2021-07-23T16:04:05.421Z"
   },
   {
    "duration": 21,
    "start_time": "2021-07-23T16:04:05.631Z"
   },
   {
    "duration": 38,
    "start_time": "2021-07-23T16:04:05.655Z"
   },
   {
    "duration": 26,
    "start_time": "2021-07-23T16:04:05.695Z"
   },
   {
    "duration": 169,
    "start_time": "2021-07-23T16:04:05.722Z"
   },
   {
    "duration": 172,
    "start_time": "2021-07-23T16:04:05.893Z"
   },
   {
    "duration": 4,
    "start_time": "2021-07-23T16:04:06.067Z"
   },
   {
    "duration": 20,
    "start_time": "2021-07-23T16:04:06.072Z"
   },
   {
    "duration": 600,
    "start_time": "2021-07-23T16:04:06.093Z"
   },
   {
    "duration": 198,
    "start_time": "2021-07-23T16:04:06.695Z"
   },
   {
    "duration": 307,
    "start_time": "2021-07-23T16:04:06.895Z"
   },
   {
    "duration": 8,
    "start_time": "2021-07-23T16:04:07.203Z"
   },
   {
    "duration": 8,
    "start_time": "2021-07-23T16:04:07.213Z"
   },
   {
    "duration": 302,
    "start_time": "2021-07-23T16:04:07.222Z"
   },
   {
    "duration": 215,
    "start_time": "2021-07-23T16:04:07.526Z"
   },
   {
    "duration": 7,
    "start_time": "2021-07-23T16:04:07.743Z"
   },
   {
    "duration": 7,
    "start_time": "2021-07-23T16:04:07.752Z"
   },
   {
    "duration": 192,
    "start_time": "2021-07-23T16:04:07.761Z"
   },
   {
    "duration": 5,
    "start_time": "2021-07-23T16:04:07.954Z"
   },
   {
    "duration": 202,
    "start_time": "2021-07-23T16:04:07.961Z"
   },
   {
    "duration": 256,
    "start_time": "2021-07-23T16:04:08.164Z"
   },
   {
    "duration": 203,
    "start_time": "2021-07-23T16:04:08.421Z"
   },
   {
    "duration": 193,
    "start_time": "2021-07-23T16:04:08.626Z"
   },
   {
    "duration": 255,
    "start_time": "2021-07-23T16:04:08.821Z"
   },
   {
    "duration": 207,
    "start_time": "2021-07-23T16:04:09.078Z"
   },
   {
    "duration": 212,
    "start_time": "2021-07-23T16:04:09.291Z"
   },
   {
    "duration": 1033,
    "start_time": "2021-07-23T17:30:36.693Z"
   },
   {
    "duration": 111,
    "start_time": "2021-07-23T17:30:37.728Z"
   },
   {
    "duration": 16,
    "start_time": "2021-07-23T17:30:37.840Z"
   },
   {
    "duration": 17,
    "start_time": "2021-07-23T17:30:37.858Z"
   },
   {
    "duration": 13,
    "start_time": "2021-07-23T17:30:37.877Z"
   },
   {
    "duration": 11,
    "start_time": "2021-07-23T17:30:37.892Z"
   },
   {
    "duration": 9,
    "start_time": "2021-07-23T17:30:37.904Z"
   },
   {
    "duration": 8,
    "start_time": "2021-07-23T17:30:37.915Z"
   },
   {
    "duration": 15,
    "start_time": "2021-07-23T17:30:37.925Z"
   },
   {
    "duration": 10,
    "start_time": "2021-07-23T17:30:37.941Z"
   },
   {
    "duration": 21,
    "start_time": "2021-07-23T17:30:37.952Z"
   },
   {
    "duration": 33,
    "start_time": "2021-07-23T17:30:37.974Z"
   },
   {
    "duration": 10,
    "start_time": "2021-07-23T17:30:38.009Z"
   },
   {
    "duration": 18,
    "start_time": "2021-07-23T17:30:38.020Z"
   },
   {
    "duration": 12,
    "start_time": "2021-07-23T17:30:38.040Z"
   },
   {
    "duration": 31,
    "start_time": "2021-07-23T17:30:38.053Z"
   },
   {
    "duration": 14,
    "start_time": "2021-07-23T17:30:38.086Z"
   },
   {
    "duration": 24,
    "start_time": "2021-07-23T17:30:38.101Z"
   },
   {
    "duration": 22,
    "start_time": "2021-07-23T17:30:38.127Z"
   },
   {
    "duration": 41,
    "start_time": "2021-07-23T17:30:38.151Z"
   },
   {
    "duration": 174,
    "start_time": "2021-07-23T17:30:38.194Z"
   },
   {
    "duration": 25,
    "start_time": "2021-07-23T17:30:38.370Z"
   },
   {
    "duration": 19,
    "start_time": "2021-07-23T17:30:38.399Z"
   },
   {
    "duration": 31,
    "start_time": "2021-07-23T17:30:38.420Z"
   },
   {
    "duration": 173,
    "start_time": "2021-07-23T17:30:38.453Z"
   },
   {
    "duration": 170,
    "start_time": "2021-07-23T17:30:38.628Z"
   },
   {
    "duration": 5,
    "start_time": "2021-07-23T17:30:38.800Z"
   },
   {
    "duration": 18,
    "start_time": "2021-07-23T17:30:38.806Z"
   },
   {
    "duration": 607,
    "start_time": "2021-07-23T17:30:38.826Z"
   },
   {
    "duration": 210,
    "start_time": "2021-07-23T17:30:39.435Z"
   },
   {
    "duration": 319,
    "start_time": "2021-07-23T17:30:39.647Z"
   },
   {
    "duration": 8,
    "start_time": "2021-07-23T17:30:39.968Z"
   },
   {
    "duration": 18,
    "start_time": "2021-07-23T17:30:39.978Z"
   },
   {
    "duration": 297,
    "start_time": "2021-07-23T17:30:39.997Z"
   },
   {
    "duration": 217,
    "start_time": "2021-07-23T17:30:40.296Z"
   },
   {
    "duration": 8,
    "start_time": "2021-07-23T17:30:40.515Z"
   },
   {
    "duration": 21,
    "start_time": "2021-07-23T17:30:40.524Z"
   },
   {
    "duration": 180,
    "start_time": "2021-07-23T17:30:40.546Z"
   },
   {
    "duration": 6,
    "start_time": "2021-07-23T17:30:40.727Z"
   },
   {
    "duration": 208,
    "start_time": "2021-07-23T17:30:40.734Z"
   },
   {
    "duration": 261,
    "start_time": "2021-07-23T17:30:40.943Z"
   },
   {
    "duration": 213,
    "start_time": "2021-07-23T17:30:41.206Z"
   },
   {
    "duration": 190,
    "start_time": "2021-07-23T17:30:41.421Z"
   },
   {
    "duration": 254,
    "start_time": "2021-07-23T17:30:41.613Z"
   },
   {
    "duration": 213,
    "start_time": "2021-07-23T17:30:41.869Z"
   },
   {
    "duration": 215,
    "start_time": "2021-07-23T17:30:42.083Z"
   },
   {
    "duration": 1414,
    "start_time": "2021-07-24T07:07:41.535Z"
   },
   {
    "duration": 179,
    "start_time": "2021-07-24T07:07:42.952Z"
   },
   {
    "duration": 27,
    "start_time": "2021-07-24T07:07:43.134Z"
   },
   {
    "duration": 32,
    "start_time": "2021-07-24T07:07:43.185Z"
   },
   {
    "duration": 27,
    "start_time": "2021-07-24T07:07:43.220Z"
   },
   {
    "duration": 40,
    "start_time": "2021-07-24T07:07:43.250Z"
   },
   {
    "duration": 19,
    "start_time": "2021-07-24T07:07:43.293Z"
   },
   {
    "duration": 8,
    "start_time": "2021-07-24T07:07:43.318Z"
   },
   {
    "duration": 66,
    "start_time": "2021-07-24T07:07:43.330Z"
   },
   {
    "duration": 20,
    "start_time": "2021-07-24T07:07:43.399Z"
   },
   {
    "duration": 22,
    "start_time": "2021-07-24T07:07:43.422Z"
   },
   {
    "duration": 65,
    "start_time": "2021-07-24T07:07:43.447Z"
   },
   {
    "duration": 17,
    "start_time": "2021-07-24T07:07:43.514Z"
   },
   {
    "duration": 10,
    "start_time": "2021-07-24T07:07:43.534Z"
   },
   {
    "duration": 50,
    "start_time": "2021-07-24T07:07:43.546Z"
   },
   {
    "duration": 43,
    "start_time": "2021-07-24T07:07:43.598Z"
   },
   {
    "duration": 50,
    "start_time": "2021-07-24T07:07:43.643Z"
   },
   {
    "duration": 42,
    "start_time": "2021-07-24T07:07:43.696Z"
   },
   {
    "duration": 71,
    "start_time": "2021-07-24T07:07:43.741Z"
   },
   {
    "duration": 29,
    "start_time": "2021-07-24T07:07:43.815Z"
   },
   {
    "duration": 327,
    "start_time": "2021-07-24T07:07:43.847Z"
   },
   {
    "duration": 41,
    "start_time": "2021-07-24T07:07:44.176Z"
   },
   {
    "duration": 36,
    "start_time": "2021-07-24T07:07:44.222Z"
   },
   {
    "duration": 63,
    "start_time": "2021-07-24T07:07:44.261Z"
   },
   {
    "duration": 315,
    "start_time": "2021-07-24T07:07:44.326Z"
   },
   {
    "duration": 320,
    "start_time": "2021-07-24T07:07:44.644Z"
   },
   {
    "duration": 19,
    "start_time": "2021-07-24T07:07:44.967Z"
   },
   {
    "duration": 19,
    "start_time": "2021-07-24T07:07:44.989Z"
   },
   {
    "duration": 1112,
    "start_time": "2021-07-24T07:07:45.011Z"
   },
   {
    "duration": 372,
    "start_time": "2021-07-24T07:07:46.125Z"
   },
   {
    "duration": 516,
    "start_time": "2021-07-24T07:07:46.499Z"
   },
   {
    "duration": 12,
    "start_time": "2021-07-24T07:07:47.017Z"
   },
   {
    "duration": 11,
    "start_time": "2021-07-24T07:07:47.031Z"
   },
   {
    "duration": 566,
    "start_time": "2021-07-24T07:07:47.044Z"
   },
   {
    "duration": 396,
    "start_time": "2021-07-24T07:07:47.612Z"
   },
   {
    "duration": 14,
    "start_time": "2021-07-24T07:07:48.011Z"
   },
   {
    "duration": 11,
    "start_time": "2021-07-24T07:07:48.027Z"
   },
   {
    "duration": 365,
    "start_time": "2021-07-24T07:07:48.041Z"
   },
   {
    "duration": 9,
    "start_time": "2021-07-24T07:07:48.409Z"
   },
   {
    "duration": 378,
    "start_time": "2021-07-24T07:07:48.420Z"
   },
   {
    "duration": 476,
    "start_time": "2021-07-24T07:07:48.800Z"
   },
   {
    "duration": 361,
    "start_time": "2021-07-24T07:07:49.285Z"
   },
   {
    "duration": 361,
    "start_time": "2021-07-24T07:07:49.649Z"
   },
   {
    "duration": 452,
    "start_time": "2021-07-24T07:07:50.013Z"
   },
   {
    "duration": 397,
    "start_time": "2021-07-24T07:07:50.468Z"
   },
   {
    "duration": 396,
    "start_time": "2021-07-24T07:07:50.868Z"
   },
   {
    "duration": 20,
    "start_time": "2021-07-24T07:11:31.870Z"
   },
   {
    "duration": 22,
    "start_time": "2021-07-24T07:11:47.095Z"
   },
   {
    "duration": 19,
    "start_time": "2021-07-24T07:11:54.294Z"
   },
   {
    "duration": 20,
    "start_time": "2021-07-24T07:12:07.409Z"
   },
   {
    "duration": 14,
    "start_time": "2021-07-24T07:13:25.733Z"
   },
   {
    "duration": 123,
    "start_time": "2021-07-24T07:15:42.326Z"
   }
  ],
  "colab": {
   "name": "DA+. Сборный проект 1. Шаблон (1).ipynb",
   "provenance": []
  },
  "kernelspec": {
   "display_name": "Python 3",
   "language": "python",
   "name": "python3"
  },
  "language_info": {
   "codemirror_mode": {
    "name": "ipython",
    "version": 3
   },
   "file_extension": ".py",
   "mimetype": "text/x-python",
   "name": "python",
   "nbconvert_exporter": "python",
   "pygments_lexer": "ipython3",
   "version": "3.9.0"
  },
  "toc": {
   "base_numbering": 1,
   "nav_menu": {},
   "number_sections": true,
   "sideBar": true,
   "skip_h1_title": true,
   "title_cell": "Содержание",
   "title_sidebar": "Содержание",
   "toc_cell": true,
   "toc_position": {
    "height": "calc(100% - 180px)",
    "left": "10px",
    "top": "150px",
    "width": "165px"
   },
   "toc_section_display": true,
   "toc_window_display": true
  }
 },
 "nbformat": 4,
 "nbformat_minor": 1
}

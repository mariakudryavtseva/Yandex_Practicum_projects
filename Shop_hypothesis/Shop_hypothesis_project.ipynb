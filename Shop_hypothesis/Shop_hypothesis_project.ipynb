{
 "cells": [
  {
   "cell_type": "markdown",
   "metadata": {
    "toc": true
   },
   "source": [
    "<h1>Содержание<span class=\"tocSkip\"></span></h1>\n",
    "<div class=\"toc\"><ul class=\"toc-item\"><li><span><a href=\"#Приоритизация-гипотез\" data-toc-modified-id=\"Приоритизация-гипотез-1\"><span class=\"toc-item-num\">1&nbsp;&nbsp;</span>Приоритизация гипотез</a></span><ul class=\"toc-item\"><li><span><a href=\"#Обзор-данных\" data-toc-modified-id=\"Обзор-данных-1.1\"><span class=\"toc-item-num\">1.1&nbsp;&nbsp;</span>Обзор данных</a></span></li><li><span><a href=\"#Приоритизация-методом-ICE\" data-toc-modified-id=\"Приоритизация-методом-ICE-1.2\"><span class=\"toc-item-num\">1.2&nbsp;&nbsp;</span>Приоритизация методом ICE</a></span></li><li><span><a href=\"#Приоритизация-методом-RICE\" data-toc-modified-id=\"Приоритизация-методом-RICE-1.3\"><span class=\"toc-item-num\">1.3&nbsp;&nbsp;</span>Приоритизация методом RICE</a></span></li></ul></li><li><span><a href=\"#Анализ-A/B-теста\" data-toc-modified-id=\"Анализ-A/B-теста-2\"><span class=\"toc-item-num\">2&nbsp;&nbsp;</span>Анализ A/B-теста</a></span><ul class=\"toc-item\"><li><span><a href=\"#Обзор-данных\" data-toc-modified-id=\"Обзор-данных-2.1\"><span class=\"toc-item-num\">2.1&nbsp;&nbsp;</span>Обзор данных</a></span></li><li><span><a href=\"#Поиск-дубликатов\" data-toc-modified-id=\"Поиск-дубликатов-2.2\"><span class=\"toc-item-num\">2.2&nbsp;&nbsp;</span>Поиск дубликатов</a></span></li><li><span><a href=\"#Поиск-выбивающихся-значений\" data-toc-modified-id=\"Поиск-выбивающихся-значений-2.3\"><span class=\"toc-item-num\">2.3&nbsp;&nbsp;</span>Поиск выбивающихся значений</a></span></li><li><span><a href=\"#График-кумулятивной-выручки-по-группам\" data-toc-modified-id=\"График-кумулятивной-выручки-по-группам-2.4\"><span class=\"toc-item-num\">2.4&nbsp;&nbsp;</span>График кумулятивной выручки по группам</a></span></li><li><span><a href=\"#График-кумулятивного-среднего-чека-по-группам\" data-toc-modified-id=\"График-кумулятивного-среднего-чека-по-группам-2.5\"><span class=\"toc-item-num\">2.5&nbsp;&nbsp;</span>График кумулятивного среднего чека по группам</a></span></li><li><span><a href=\"#График-относительного-изменения-кумулятивного-среднего-чека-группы-B-к-группе-A\" data-toc-modified-id=\"График-относительного-изменения-кумулятивного-среднего-чека-группы-B-к-группе-A-2.6\"><span class=\"toc-item-num\">2.6&nbsp;&nbsp;</span>График относительного изменения кумулятивного среднего чека группы B к группе A</a></span></li><li><span><a href=\"#График-кумулятивной-конверсии-по-группам\" data-toc-modified-id=\"График-кумулятивной-конверсии-по-группам-2.7\"><span class=\"toc-item-num\">2.7&nbsp;&nbsp;</span>График кумулятивной конверсии по группам</a></span></li><li><span><a href=\"#График-относительного-изменения-кумулятивной-конверсии-группы-B-к-группе-A\" data-toc-modified-id=\"График-относительного-изменения-кумулятивной-конверсии-группы-B-к-группе-A-2.8\"><span class=\"toc-item-num\">2.8&nbsp;&nbsp;</span>График относительного изменения кумулятивной конверсии группы B к группе A</a></span></li><li><span><a href=\"#Точечный-график-количества-заказов-по-пользователям\" data-toc-modified-id=\"Точечный-график-количества-заказов-по-пользователям-2.9\"><span class=\"toc-item-num\">2.9&nbsp;&nbsp;</span>Точечный график количества заказов по пользователям</a></span></li><li><span><a href=\"#Подсчет-95-й-и-99-й-перцентилей-количества-заказов-на-пользователя\" data-toc-modified-id=\"Подсчет-95-й-и-99-й-перцентилей-количества-заказов-на-пользователя-2.10\"><span class=\"toc-item-num\">2.10&nbsp;&nbsp;</span>Подсчет 95-й и 99-й перцентилей количества заказов на пользователя</a></span></li><li><span><a href=\"#Точечный-график-стоимостей-заказов\" data-toc-modified-id=\"Точечный-график-стоимостей-заказов-2.11\"><span class=\"toc-item-num\">2.11&nbsp;&nbsp;</span>Точечный график стоимостей заказов</a></span></li><li><span><a href=\"#Подсчет-95-й-и-99-й-перцентилей-стоимости-заказов\" data-toc-modified-id=\"Подсчет-95-й-и-99-й-перцентилей-стоимости-заказов-2.12\"><span class=\"toc-item-num\">2.12&nbsp;&nbsp;</span>Подсчет 95-й и 99-й перцентилей стоимости заказов</a></span></li><li><span><a href=\"#Подсчет-статистической-значимости-различий-в-конверсии-между-группами-по-«сырым»-данным\" data-toc-modified-id=\"Подсчет-статистической-значимости-различий-в-конверсии-между-группами-по-«сырым»-данным-2.13\"><span class=\"toc-item-num\">2.13&nbsp;&nbsp;</span>Подсчет статистической значимости различий в конверсии между группами по «сырым» данным</a></span></li><li><span><a href=\"#Подсчет-статистической-значимости-различий-в-среднем-чеке-заказа-между-группами-по-«сырым»-данным\" data-toc-modified-id=\"Подсчет-статистической-значимости-различий-в-среднем-чеке-заказа-между-группами-по-«сырым»-данным-2.14\"><span class=\"toc-item-num\">2.14&nbsp;&nbsp;</span>Подсчет статистической значимости различий в среднем чеке заказа между группами по «сырым» данным</a></span></li><li><span><a href=\"#Подсчет-статистической-значимости-различий-в-конверсии-между-группами-по-«очищенным»-данным\" data-toc-modified-id=\"Подсчет-статистической-значимости-различий-в-конверсии-между-группами-по-«очищенным»-данным-2.15\"><span class=\"toc-item-num\">2.15&nbsp;&nbsp;</span>Подсчет статистической значимости различий в конверсии между группами по «очищенным» данным</a></span></li><li><span><a href=\"#Подсчет-статистической-значимости-различий-в-среднем-чеке-заказа-между-группами-по-«очищенным»-данным\" data-toc-modified-id=\"Подсчет-статистической-значимости-различий-в-среднем-чеке-заказа-между-группами-по-«очищенным»-данным-2.16\"><span class=\"toc-item-num\">2.16&nbsp;&nbsp;</span>Подсчет статистической значимости различий в среднем чеке заказа между группами по «очищенным» данным</a></span></li><li><span><a href=\"#Решение-по-результатам-теста\" data-toc-modified-id=\"Решение-по-результатам-теста-2.17\"><span class=\"toc-item-num\">2.17&nbsp;&nbsp;</span>Решение по результатам теста</a></span></li></ul></li><li><span><a href=\"#Общий-вывод\" data-toc-modified-id=\"Общий-вывод-3\"><span class=\"toc-item-num\">3&nbsp;&nbsp;</span>Общий вывод</a></span></li></ul></div>"
   ]
  },
  {
   "cell_type": "markdown",
   "metadata": {},
   "source": [
    "# Проверка гипотез для увеличения выручки интернет-магазина"
   ]
  },
  {
   "cell_type": "markdown",
   "metadata": {},
   "source": [
    "## Приоритизация гипотез"
   ]
  },
  {
   "cell_type": "markdown",
   "metadata": {},
   "source": [
    "### Обзор данных"
   ]
  },
  {
   "cell_type": "markdown",
   "metadata": {},
   "source": [
    "Импортируем необходимые для работы библиотеки."
   ]
  },
  {
   "cell_type": "code",
   "execution_count": 1,
   "metadata": {},
   "outputs": [],
   "source": [
    "import pandas as pd\n",
    "import scipy.stats as stats\n",
    "import datetime as dt\n",
    "import numpy as np\n",
    "import matplotlib.pyplot as plt\n",
    "pd.options.display.max_colwidth = 100"
   ]
  },
  {
   "cell_type": "markdown",
   "metadata": {},
   "source": [
    "Откроем файл с данными о гипотезах и изучим общую информацию."
   ]
  },
  {
   "cell_type": "code",
   "execution_count": 2,
   "metadata": {
    "scrolled": false
   },
   "outputs": [
    {
     "data": {
      "text/html": [
       "<div>\n",
       "<style scoped>\n",
       "    .dataframe tbody tr th:only-of-type {\n",
       "        vertical-align: middle;\n",
       "    }\n",
       "\n",
       "    .dataframe tbody tr th {\n",
       "        vertical-align: top;\n",
       "    }\n",
       "\n",
       "    .dataframe thead th {\n",
       "        text-align: right;\n",
       "    }\n",
       "</style>\n",
       "<table border=\"1\" class=\"dataframe\">\n",
       "  <thead>\n",
       "    <tr style=\"text-align: right;\">\n",
       "      <th></th>\n",
       "      <th>Hypothesis</th>\n",
       "      <th>Reach</th>\n",
       "      <th>Impact</th>\n",
       "      <th>Confidence</th>\n",
       "      <th>Efforts</th>\n",
       "    </tr>\n",
       "  </thead>\n",
       "  <tbody>\n",
       "    <tr>\n",
       "      <td>0</td>\n",
       "      <td>Добавить два новых канала привлечения трафика, что позволит привлекать на 30% больше пользователей</td>\n",
       "      <td>3</td>\n",
       "      <td>10</td>\n",
       "      <td>8</td>\n",
       "      <td>6</td>\n",
       "    </tr>\n",
       "    <tr>\n",
       "      <td>1</td>\n",
       "      <td>Запустить собственную службу доставки, что сократит срок доставки заказов</td>\n",
       "      <td>2</td>\n",
       "      <td>5</td>\n",
       "      <td>4</td>\n",
       "      <td>10</td>\n",
       "    </tr>\n",
       "    <tr>\n",
       "      <td>2</td>\n",
       "      <td>Добавить блоки рекомендаций товаров на сайт интернет магазина, чтобы повысить конверсию и средни...</td>\n",
       "      <td>8</td>\n",
       "      <td>3</td>\n",
       "      <td>7</td>\n",
       "      <td>3</td>\n",
       "    </tr>\n",
       "    <tr>\n",
       "      <td>3</td>\n",
       "      <td>Изменить структура категорий, что увеличит конверсию, т.к. пользователи быстрее найдут нужный товар</td>\n",
       "      <td>8</td>\n",
       "      <td>3</td>\n",
       "      <td>3</td>\n",
       "      <td>8</td>\n",
       "    </tr>\n",
       "    <tr>\n",
       "      <td>4</td>\n",
       "      <td>Изменить цвет фона главной страницы, чтобы увеличить вовлеченность пользователей</td>\n",
       "      <td>3</td>\n",
       "      <td>1</td>\n",
       "      <td>1</td>\n",
       "      <td>1</td>\n",
       "    </tr>\n",
       "  </tbody>\n",
       "</table>\n",
       "</div>"
      ],
      "text/plain": [
       "                                                                                            Hypothesis  \\\n",
       "0   Добавить два новых канала привлечения трафика, что позволит привлекать на 30% больше пользователей   \n",
       "1                            Запустить собственную службу доставки, что сократит срок доставки заказов   \n",
       "2  Добавить блоки рекомендаций товаров на сайт интернет магазина, чтобы повысить конверсию и средни...   \n",
       "3  Изменить структура категорий, что увеличит конверсию, т.к. пользователи быстрее найдут нужный товар   \n",
       "4                     Изменить цвет фона главной страницы, чтобы увеличить вовлеченность пользователей   \n",
       "\n",
       "   Reach  Impact  Confidence  Efforts  \n",
       "0      3      10           8        6  \n",
       "1      2       5           4       10  \n",
       "2      8       3           7        3  \n",
       "3      8       3           3        8  \n",
       "4      3       1           1        1  "
      ]
     },
     "metadata": {},
     "output_type": "display_data"
    },
    {
     "name": "stdout",
     "output_type": "stream",
     "text": [
      "<class 'pandas.core.frame.DataFrame'>\n",
      "RangeIndex: 9 entries, 0 to 8\n",
      "Data columns (total 5 columns):\n",
      "Hypothesis    9 non-null object\n",
      "Reach         9 non-null int64\n",
      "Impact        9 non-null int64\n",
      "Confidence    9 non-null int64\n",
      "Efforts       9 non-null int64\n",
      "dtypes: int64(4), object(1)\n",
      "memory usage: 488.0+ bytes\n"
     ]
    }
   ],
   "source": [
    "hypothesis = pd.read_csv('/datasets/hypothesis.csv')\n",
    "display(hypothesis.head())\n",
    "hypothesis.info()"
   ]
  },
  {
   "cell_type": "markdown",
   "metadata": {},
   "source": [
    "Согласно документации к данным таблица `hypothesis` содержит:\n",
    "\n",
    "* `Hypothesis` — краткое описание гипотезы;\n",
    "* `Reach` — охват пользователей по 10-балльной шкале;\n",
    "* `Impact` — влияние на пользователей по 10-балльной шкале;\n",
    "* `Confidence` — уверенность в гипотезе по 10-балльной шкале;\n",
    "* `Efforts` — затраты ресурсов на проверку гипотезы по 10-балльной шкале. Чем больше значение `Efforts`, тем дороже проверка гипотезы."
   ]
  },
  {
   "cell_type": "markdown",
   "metadata": {},
   "source": [
    "Мы видим, что пропущенных значений в таблице нет, а значения в столбцах соответствуют типу данных и их описанию. Можно приступать к приоритизации гипотез, используя полученную информацию."
   ]
  },
  {
   "cell_type": "markdown",
   "metadata": {},
   "source": [
    "### Приоритизация методом ICE"
   ]
  },
  {
   "cell_type": "markdown",
   "metadata": {},
   "source": [
    "Приоритизируем подготовленные гипотезы по увеличению выручки, чтобы запустить тестирование только перспективных идей и сократить расходы бизнеса на эксперименты."
   ]
  },
  {
   "cell_type": "markdown",
   "metadata": {},
   "source": [
    "Используем фреймворк `ICE` и рассчитаем `ICE SCORE` согласно формуле: `ICE SCORE = (Impact * Confidence) / Efforts`."
   ]
  },
  {
   "cell_type": "code",
   "execution_count": 3,
   "metadata": {},
   "outputs": [
    {
     "data": {
      "text/html": [
       "<div>\n",
       "<style scoped>\n",
       "    .dataframe tbody tr th:only-of-type {\n",
       "        vertical-align: middle;\n",
       "    }\n",
       "\n",
       "    .dataframe tbody tr th {\n",
       "        vertical-align: top;\n",
       "    }\n",
       "\n",
       "    .dataframe thead th {\n",
       "        text-align: right;\n",
       "    }\n",
       "</style>\n",
       "<table border=\"1\" class=\"dataframe\">\n",
       "  <thead>\n",
       "    <tr style=\"text-align: right;\">\n",
       "      <th></th>\n",
       "      <th>Hypothesis</th>\n",
       "      <th>ICE</th>\n",
       "    </tr>\n",
       "  </thead>\n",
       "  <tbody>\n",
       "    <tr>\n",
       "      <td>8</td>\n",
       "      <td>Запустить акцию, дающую скидку на товар в день рождения</td>\n",
       "      <td>16.200000</td>\n",
       "    </tr>\n",
       "    <tr>\n",
       "      <td>0</td>\n",
       "      <td>Добавить два новых канала привлечения трафика, что позволит привлекать на 30% больше пользователей</td>\n",
       "      <td>13.333333</td>\n",
       "    </tr>\n",
       "    <tr>\n",
       "      <td>7</td>\n",
       "      <td>Добавить форму подписки на все основные страницы, чтобы собрать базу клиентов для email-рассылок</td>\n",
       "      <td>11.200000</td>\n",
       "    </tr>\n",
       "    <tr>\n",
       "      <td>6</td>\n",
       "      <td>Показать на главной странице баннеры с актуальными акциями и распродажами, чтобы увеличить конве...</td>\n",
       "      <td>8.000000</td>\n",
       "    </tr>\n",
       "    <tr>\n",
       "      <td>2</td>\n",
       "      <td>Добавить блоки рекомендаций товаров на сайт интернет магазина, чтобы повысить конверсию и средни...</td>\n",
       "      <td>7.000000</td>\n",
       "    </tr>\n",
       "    <tr>\n",
       "      <td>1</td>\n",
       "      <td>Запустить собственную службу доставки, что сократит срок доставки заказов</td>\n",
       "      <td>2.000000</td>\n",
       "    </tr>\n",
       "    <tr>\n",
       "      <td>5</td>\n",
       "      <td>Добавить страницу отзывов клиентов о магазине, что позволит увеличить количество заказов</td>\n",
       "      <td>1.333333</td>\n",
       "    </tr>\n",
       "    <tr>\n",
       "      <td>3</td>\n",
       "      <td>Изменить структура категорий, что увеличит конверсию, т.к. пользователи быстрее найдут нужный товар</td>\n",
       "      <td>1.125000</td>\n",
       "    </tr>\n",
       "    <tr>\n",
       "      <td>4</td>\n",
       "      <td>Изменить цвет фона главной страницы, чтобы увеличить вовлеченность пользователей</td>\n",
       "      <td>1.000000</td>\n",
       "    </tr>\n",
       "  </tbody>\n",
       "</table>\n",
       "</div>"
      ],
      "text/plain": [
       "                                                                                            Hypothesis  \\\n",
       "8                                              Запустить акцию, дающую скидку на товар в день рождения   \n",
       "0   Добавить два новых канала привлечения трафика, что позволит привлекать на 30% больше пользователей   \n",
       "7     Добавить форму подписки на все основные страницы, чтобы собрать базу клиентов для email-рассылок   \n",
       "6  Показать на главной странице баннеры с актуальными акциями и распродажами, чтобы увеличить конве...   \n",
       "2  Добавить блоки рекомендаций товаров на сайт интернет магазина, чтобы повысить конверсию и средни...   \n",
       "1                            Запустить собственную службу доставки, что сократит срок доставки заказов   \n",
       "5             Добавить страницу отзывов клиентов о магазине, что позволит увеличить количество заказов   \n",
       "3  Изменить структура категорий, что увеличит конверсию, т.к. пользователи быстрее найдут нужный товар   \n",
       "4                     Изменить цвет фона главной страницы, чтобы увеличить вовлеченность пользователей   \n",
       "\n",
       "         ICE  \n",
       "8  16.200000  \n",
       "0  13.333333  \n",
       "7  11.200000  \n",
       "6   8.000000  \n",
       "2   7.000000  \n",
       "1   2.000000  \n",
       "5   1.333333  \n",
       "3   1.125000  \n",
       "4   1.000000  "
      ]
     },
     "execution_count": 3,
     "metadata": {},
     "output_type": "execute_result"
    }
   ],
   "source": [
    "# подсчет ICE SCORE\n",
    "hypothesis['ICE'] = (hypothesis['Impact'] * hypothesis['Confidence']) / hypothesis['Efforts']\n",
    "# отсортируем гипотезы по убыванию ICE SCORE\n",
    "ice_score = hypothesis[['Hypothesis', 'ICE']].sort_values(by='ICE', ascending=False)\n",
    "ice_score"
   ]
  },
  {
   "cell_type": "markdown",
   "metadata": {},
   "source": [
    "Наиболее перспективными по `ICE SCORE` являются следующие гипотезы:\n",
    "* Запустить акцию, дающую скидку на товар в день рождения (приоритет 16,2);\n",
    "* Добавить два новых канала привлечения трафика, что позволит привлекать на 30% больше пользователей (приоритет 13,3);\n",
    "* Добавить форму подписки на все основные страницы, чтобы собрать базу клиентов для email-рассылок (приоритет 11,2)."
   ]
  },
  {
   "cell_type": "markdown",
   "metadata": {},
   "source": [
    "### Приоритизация методом RICE"
   ]
  },
  {
   "cell_type": "markdown",
   "metadata": {},
   "source": [
    "Теперь используем фреймворк `RICE` и рассчитаем приоритет гипотез с учетом охвата пользователей — `RICE SCORE` по формуле: `RICE SCORE` = `(Reach * Impact * Confidence) / Efforts`."
   ]
  },
  {
   "cell_type": "code",
   "execution_count": 4,
   "metadata": {},
   "outputs": [
    {
     "data": {
      "text/html": [
       "<div>\n",
       "<style scoped>\n",
       "    .dataframe tbody tr th:only-of-type {\n",
       "        vertical-align: middle;\n",
       "    }\n",
       "\n",
       "    .dataframe tbody tr th {\n",
       "        vertical-align: top;\n",
       "    }\n",
       "\n",
       "    .dataframe thead th {\n",
       "        text-align: right;\n",
       "    }\n",
       "</style>\n",
       "<table border=\"1\" class=\"dataframe\">\n",
       "  <thead>\n",
       "    <tr style=\"text-align: right;\">\n",
       "      <th></th>\n",
       "      <th>Hypothesis</th>\n",
       "      <th>RICE</th>\n",
       "    </tr>\n",
       "  </thead>\n",
       "  <tbody>\n",
       "    <tr>\n",
       "      <td>7</td>\n",
       "      <td>Добавить форму подписки на все основные страницы, чтобы собрать базу клиентов для email-рассылок</td>\n",
       "      <td>112.0</td>\n",
       "    </tr>\n",
       "    <tr>\n",
       "      <td>2</td>\n",
       "      <td>Добавить блоки рекомендаций товаров на сайт интернет магазина, чтобы повысить конверсию и средни...</td>\n",
       "      <td>56.0</td>\n",
       "    </tr>\n",
       "    <tr>\n",
       "      <td>0</td>\n",
       "      <td>Добавить два новых канала привлечения трафика, что позволит привлекать на 30% больше пользователей</td>\n",
       "      <td>40.0</td>\n",
       "    </tr>\n",
       "    <tr>\n",
       "      <td>6</td>\n",
       "      <td>Показать на главной странице баннеры с актуальными акциями и распродажами, чтобы увеличить конве...</td>\n",
       "      <td>40.0</td>\n",
       "    </tr>\n",
       "    <tr>\n",
       "      <td>8</td>\n",
       "      <td>Запустить акцию, дающую скидку на товар в день рождения</td>\n",
       "      <td>16.2</td>\n",
       "    </tr>\n",
       "    <tr>\n",
       "      <td>3</td>\n",
       "      <td>Изменить структура категорий, что увеличит конверсию, т.к. пользователи быстрее найдут нужный товар</td>\n",
       "      <td>9.0</td>\n",
       "    </tr>\n",
       "    <tr>\n",
       "      <td>1</td>\n",
       "      <td>Запустить собственную службу доставки, что сократит срок доставки заказов</td>\n",
       "      <td>4.0</td>\n",
       "    </tr>\n",
       "    <tr>\n",
       "      <td>5</td>\n",
       "      <td>Добавить страницу отзывов клиентов о магазине, что позволит увеличить количество заказов</td>\n",
       "      <td>4.0</td>\n",
       "    </tr>\n",
       "    <tr>\n",
       "      <td>4</td>\n",
       "      <td>Изменить цвет фона главной страницы, чтобы увеличить вовлеченность пользователей</td>\n",
       "      <td>3.0</td>\n",
       "    </tr>\n",
       "  </tbody>\n",
       "</table>\n",
       "</div>"
      ],
      "text/plain": [
       "                                                                                            Hypothesis  \\\n",
       "7     Добавить форму подписки на все основные страницы, чтобы собрать базу клиентов для email-рассылок   \n",
       "2  Добавить блоки рекомендаций товаров на сайт интернет магазина, чтобы повысить конверсию и средни...   \n",
       "0   Добавить два новых канала привлечения трафика, что позволит привлекать на 30% больше пользователей   \n",
       "6  Показать на главной странице баннеры с актуальными акциями и распродажами, чтобы увеличить конве...   \n",
       "8                                              Запустить акцию, дающую скидку на товар в день рождения   \n",
       "3  Изменить структура категорий, что увеличит конверсию, т.к. пользователи быстрее найдут нужный товар   \n",
       "1                            Запустить собственную службу доставки, что сократит срок доставки заказов   \n",
       "5             Добавить страницу отзывов клиентов о магазине, что позволит увеличить количество заказов   \n",
       "4                     Изменить цвет фона главной страницы, чтобы увеличить вовлеченность пользователей   \n",
       "\n",
       "    RICE  \n",
       "7  112.0  \n",
       "2   56.0  \n",
       "0   40.0  \n",
       "6   40.0  \n",
       "8   16.2  \n",
       "3    9.0  \n",
       "1    4.0  \n",
       "5    4.0  \n",
       "4    3.0  "
      ]
     },
     "execution_count": 4,
     "metadata": {},
     "output_type": "execute_result"
    }
   ],
   "source": [
    "# подсчет RICE SCORE\n",
    "hypothesis['RICE'] = (hypothesis['Reach'] * hypothesis['Impact'] * hypothesis['Confidence']) / hypothesis['Efforts']\n",
    "# отсортируем гипотезы по убыванию RICE SCORE\n",
    "rice_score = hypothesis[['Hypothesis', 'RICE']].sort_values(by='RICE', ascending=False)\n",
    "rice_score"
   ]
  },
  {
   "cell_type": "markdown",
   "metadata": {},
   "source": [
    "Согласно такому методу приоритизации перспективными стали гипотезы:\n",
    "* Добавить форму подписки на все основные страницы, чтобы собрать базу клиентов для email-рассылок (приоритет 112,0);\n",
    "* Добавить блоки рекомендаций товаров на сайт интернет магазина, чтобы повысить конверсию и средний чек заказа (приоритет 56,0);\n",
    "* Добавить два новых канала привлечения трафика, что позволит привлекать на 30% больше пользователей (приоритет 40,0);\n",
    "* Показать на главной странице баннеры с актуальными акциями и распродажами, чтобы увеличить конверсию (приоритет 40,0)."
   ]
  },
  {
   "cell_type": "markdown",
   "metadata": {},
   "source": [
    "Приоритизация гипотез изменилась, потому что у гипотезы \"Добавить форму подписки на все основные страницы\" параметр Reach равен значению 10, что означает максимальный охват пользователей при применении данной идеи. Гипотеза \"Добавить блоки рекомендаций товаров на сайт интернет магазина\" также имеет высокое значение Reach относительно других гипотез, что позволило ей занять второе место по приоритету. Гипотеза \"Запустить акцию, дающую скидку на товар в день рождения\", которая была на первом месте по приоритету при применении метода `ICE`, в данном случае опустилась на пятое место, поскольку охват пользователей у такой идеи самый низкий — значение Reach равно 1."
   ]
  },
  {
   "cell_type": "markdown",
   "metadata": {},
   "source": [
    "Гипотезы \"Добавить два новых канала привлечения трафика\" и \"Показать на главной странице баннеры\" согласно `RICE` имеют одинаковый приоритет и мы можем выбрать одну из них в зависимости от того, что нам важнее: затраты ресурсов на проверку такой гипотезы `Efforts` (ниже у гипотезы \"Показать на главной странице баннеры\"), параметр влияния на пользователей `Impact` (выше у гипотезы \"Добавить два новых канала привлечения трафика\") или охват пользователей `Reach` (выше у гипотезы \"Показать на главной странице баннеры\"). Или же мы можем выбрать гипотезу \"Добавить два новых канала привлечения трафика\" по той причине, что ее приоритет согласно `ICE` выше приоритета гипотезы \"Показать на главной странице баннеры\"."
   ]
  },
  {
   "cell_type": "markdown",
   "metadata": {},
   "source": [
    "***Вывод***\n",
    "\n",
    "Мы изучили данные о 9 гипотезах по увеличению выручки интернет-магазина и выяснили, что данные корректны и подходят для задачи приоритизации выдвинутых гипотез. Для приоритизации мы использовали фреймворки `ICE` и `RICE` и увидели, как влияет параметр Reach (охват пользователей) на приоритет каждой гипотезы. В итоге мы определили наиболее перспективные гипотезы по увеличению выручки из предложенных.\n",
    "\n"
   ]
  },
  {
   "cell_type": "markdown",
   "metadata": {},
   "source": [
    "## Анализ A/B-теста"
   ]
  },
  {
   "cell_type": "markdown",
   "metadata": {},
   "source": [
    "### Обзор данных"
   ]
  },
  {
   "cell_type": "markdown",
   "metadata": {},
   "source": [
    "Откроем файл с данными о результатах A/B-теста и изучим общую информацию. Также столбцы, содержащие даты, приведем к нужному типу данных."
   ]
  },
  {
   "cell_type": "code",
   "execution_count": 5,
   "metadata": {},
   "outputs": [
    {
     "data": {
      "text/html": [
       "<div>\n",
       "<style scoped>\n",
       "    .dataframe tbody tr th:only-of-type {\n",
       "        vertical-align: middle;\n",
       "    }\n",
       "\n",
       "    .dataframe tbody tr th {\n",
       "        vertical-align: top;\n",
       "    }\n",
       "\n",
       "    .dataframe thead th {\n",
       "        text-align: right;\n",
       "    }\n",
       "</style>\n",
       "<table border=\"1\" class=\"dataframe\">\n",
       "  <thead>\n",
       "    <tr style=\"text-align: right;\">\n",
       "      <th></th>\n",
       "      <th>transactionId</th>\n",
       "      <th>visitorId</th>\n",
       "      <th>date</th>\n",
       "      <th>revenue</th>\n",
       "      <th>group</th>\n",
       "    </tr>\n",
       "  </thead>\n",
       "  <tbody>\n",
       "    <tr>\n",
       "      <td>0</td>\n",
       "      <td>3667963787</td>\n",
       "      <td>3312258926</td>\n",
       "      <td>2019-08-15</td>\n",
       "      <td>1650</td>\n",
       "      <td>B</td>\n",
       "    </tr>\n",
       "    <tr>\n",
       "      <td>1</td>\n",
       "      <td>2804400009</td>\n",
       "      <td>3642806036</td>\n",
       "      <td>2019-08-15</td>\n",
       "      <td>730</td>\n",
       "      <td>B</td>\n",
       "    </tr>\n",
       "    <tr>\n",
       "      <td>2</td>\n",
       "      <td>2961555356</td>\n",
       "      <td>4069496402</td>\n",
       "      <td>2019-08-15</td>\n",
       "      <td>400</td>\n",
       "      <td>A</td>\n",
       "    </tr>\n",
       "    <tr>\n",
       "      <td>3</td>\n",
       "      <td>3797467345</td>\n",
       "      <td>1196621759</td>\n",
       "      <td>2019-08-15</td>\n",
       "      <td>9759</td>\n",
       "      <td>B</td>\n",
       "    </tr>\n",
       "    <tr>\n",
       "      <td>4</td>\n",
       "      <td>2282983706</td>\n",
       "      <td>2322279887</td>\n",
       "      <td>2019-08-15</td>\n",
       "      <td>2308</td>\n",
       "      <td>B</td>\n",
       "    </tr>\n",
       "  </tbody>\n",
       "</table>\n",
       "</div>"
      ],
      "text/plain": [
       "   transactionId   visitorId       date  revenue group\n",
       "0     3667963787  3312258926 2019-08-15     1650     B\n",
       "1     2804400009  3642806036 2019-08-15      730     B\n",
       "2     2961555356  4069496402 2019-08-15      400     A\n",
       "3     3797467345  1196621759 2019-08-15     9759     B\n",
       "4     2282983706  2322279887 2019-08-15     2308     B"
      ]
     },
     "metadata": {},
     "output_type": "display_data"
    },
    {
     "name": "stdout",
     "output_type": "stream",
     "text": [
      "<class 'pandas.core.frame.DataFrame'>\n",
      "RangeIndex: 1197 entries, 0 to 1196\n",
      "Data columns (total 5 columns):\n",
      "transactionId    1197 non-null int64\n",
      "visitorId        1197 non-null int64\n",
      "date             1197 non-null datetime64[ns]\n",
      "revenue          1197 non-null int64\n",
      "group            1197 non-null object\n",
      "dtypes: datetime64[ns](1), int64(3), object(1)\n",
      "memory usage: 46.9+ KB\n"
     ]
    }
   ],
   "source": [
    "orders = pd.read_csv('/datasets/orders.csv')\n",
    "# приведение значений к типу datetime\n",
    "orders['date'] = orders['date'].map(\n",
    "    lambda x: dt.datetime.strptime(x, '%Y-%m-%d')\n",
    ")\n",
    "display(orders.head())\n",
    "orders.info()"
   ]
  },
  {
   "cell_type": "code",
   "execution_count": 6,
   "metadata": {},
   "outputs": [
    {
     "data": {
      "text/html": [
       "<div>\n",
       "<style scoped>\n",
       "    .dataframe tbody tr th:only-of-type {\n",
       "        vertical-align: middle;\n",
       "    }\n",
       "\n",
       "    .dataframe tbody tr th {\n",
       "        vertical-align: top;\n",
       "    }\n",
       "\n",
       "    .dataframe thead th {\n",
       "        text-align: right;\n",
       "    }\n",
       "</style>\n",
       "<table border=\"1\" class=\"dataframe\">\n",
       "  <thead>\n",
       "    <tr style=\"text-align: right;\">\n",
       "      <th></th>\n",
       "      <th>date</th>\n",
       "      <th>group</th>\n",
       "      <th>visitors</th>\n",
       "    </tr>\n",
       "  </thead>\n",
       "  <tbody>\n",
       "    <tr>\n",
       "      <td>0</td>\n",
       "      <td>2019-08-01</td>\n",
       "      <td>A</td>\n",
       "      <td>719</td>\n",
       "    </tr>\n",
       "    <tr>\n",
       "      <td>1</td>\n",
       "      <td>2019-08-02</td>\n",
       "      <td>A</td>\n",
       "      <td>619</td>\n",
       "    </tr>\n",
       "    <tr>\n",
       "      <td>2</td>\n",
       "      <td>2019-08-03</td>\n",
       "      <td>A</td>\n",
       "      <td>507</td>\n",
       "    </tr>\n",
       "    <tr>\n",
       "      <td>3</td>\n",
       "      <td>2019-08-04</td>\n",
       "      <td>A</td>\n",
       "      <td>717</td>\n",
       "    </tr>\n",
       "    <tr>\n",
       "      <td>4</td>\n",
       "      <td>2019-08-05</td>\n",
       "      <td>A</td>\n",
       "      <td>756</td>\n",
       "    </tr>\n",
       "  </tbody>\n",
       "</table>\n",
       "</div>"
      ],
      "text/plain": [
       "        date group  visitors\n",
       "0 2019-08-01     A       719\n",
       "1 2019-08-02     A       619\n",
       "2 2019-08-03     A       507\n",
       "3 2019-08-04     A       717\n",
       "4 2019-08-05     A       756"
      ]
     },
     "metadata": {},
     "output_type": "display_data"
    },
    {
     "name": "stdout",
     "output_type": "stream",
     "text": [
      "<class 'pandas.core.frame.DataFrame'>\n",
      "RangeIndex: 62 entries, 0 to 61\n",
      "Data columns (total 3 columns):\n",
      "date        62 non-null datetime64[ns]\n",
      "group       62 non-null object\n",
      "visitors    62 non-null int64\n",
      "dtypes: datetime64[ns](1), int64(1), object(1)\n",
      "memory usage: 1.6+ KB\n"
     ]
    }
   ],
   "source": [
    "visitors = pd.read_csv('/datasets/visitors.csv')\n",
    "# приведение значений к типу datetime\n",
    "visitors['date'] = visitors['date'].map(\n",
    "    lambda x: dt.datetime.strptime(x, '%Y-%m-%d')\n",
    ")\n",
    "display(visitors.head())\n",
    "visitors.info()"
   ]
  },
  {
   "cell_type": "markdown",
   "metadata": {},
   "source": [
    "Согласно документации к данным таблица `orders` содержит:\n",
    "* `transactionId` — идентификатор заказа;\n",
    "* `visitorId` — идентификатор пользователя, совершившего заказ;\n",
    "* `date` — дата, когда был совершён заказ;\n",
    "* `revenue` — выручка заказа;\n",
    "* `group` — группа A/B-теста, в которую попал заказ."
   ]
  },
  {
   "cell_type": "markdown",
   "metadata": {},
   "source": [
    "Таблица `visitors` содержит:\n",
    "* `date` — дата;\n",
    "* `group` — группа A/B-теста;\n",
    "* `visitors` — количество пользователей в указанную дату в указанной группе A/B-теста."
   ]
  },
  {
   "cell_type": "markdown",
   "metadata": {},
   "source": [
    "Пропущенных значений в таблицах нет, а столбцы таблиц, содержащие даты, мы привели к соответствующему формату."
   ]
  },
  {
   "cell_type": "markdown",
   "metadata": {},
   "source": [
    "### Поиск дубликатов"
   ]
  },
  {
   "cell_type": "code",
   "execution_count": 7,
   "metadata": {},
   "outputs": [
    {
     "data": {
      "text/plain": [
       "0"
      ]
     },
     "execution_count": 7,
     "metadata": {},
     "output_type": "execute_result"
    }
   ],
   "source": [
    "# поиск явных дубликатов в orders\n",
    "orders.duplicated().sum()"
   ]
  },
  {
   "cell_type": "code",
   "execution_count": 8,
   "metadata": {},
   "outputs": [
    {
     "data": {
      "text/plain": [
       "0"
      ]
     },
     "execution_count": 8,
     "metadata": {},
     "output_type": "execute_result"
    }
   ],
   "source": [
    "# поиск явных дубликатов в visitors\n",
    "visitors.duplicated().sum()"
   ]
  },
  {
   "cell_type": "markdown",
   "metadata": {},
   "source": [
    "### Поиск выбивающихся значений"
   ]
  },
  {
   "cell_type": "markdown",
   "metadata": {},
   "source": [
    "Проверим столбец со значениями выручки заказа `revenue` таблицы `orders` на наличие аномалий и выбивающихся значений."
   ]
  },
  {
   "cell_type": "code",
   "execution_count": 9,
   "metadata": {},
   "outputs": [
    {
     "data": {
      "text/plain": [
       "count       1197\n",
       "mean        8348\n",
       "std        39191\n",
       "min           50\n",
       "25%         1220\n",
       "50%         2978\n",
       "75%         8290\n",
       "max      1294500\n",
       "Name: revenue, dtype: int64"
      ]
     },
     "execution_count": 9,
     "metadata": {},
     "output_type": "execute_result"
    }
   ],
   "source": [
    "orders['revenue'].describe().astype('int64')"
   ]
  },
  {
   "cell_type": "code",
   "execution_count": 10,
   "metadata": {},
   "outputs": [
    {
     "data": {
      "image/png": "[encoded data removed]",
      "text/plain": [
       "<Figure size 576x576 with 1 Axes>"
      ]
     },
     "metadata": {
      "needs_background": "light"
     },
     "output_type": "display_data"
    }
   ],
   "source": [
    "# построение диаграммы размаха для значений revenue\n",
    "orders.boxplot(column='revenue', grid=True, figsize=(8,8));"
   ]
  },
  {
   "cell_type": "markdown",
   "metadata": {},
   "source": [
    "Видим, что стандартное отклонение (разница значений выборки от среднего арифметического) достаточно велико, что говорит о том, что в значениях выручки заказов есть аномалии или выбросы. Построенная диаграмма размаха это доказывает. Максимальное значение выручки за заказ равно 1294500 руб., а среднее значение всего лишь 8348 руб. и такой разброс значений определенно будет влиять на результаты исследования. Учтем этот факт в дальнейшей работе."
   ]
  },
  {
   "cell_type": "markdown",
   "metadata": {},
   "source": [
    "### График кумулятивной выручки по группам"
   ]
  },
  {
   "cell_type": "markdown",
   "metadata": {},
   "source": [
    "График по кумулятивным данным выручки заказов по группам нужен для отслеживания изменений результатов эксперимента на каждый день тестирования."
   ]
  },
  {
   "cell_type": "markdown",
   "metadata": {},
   "source": [
    "Сначала соберем агрегированные кумулятивные данные о заказах: количество заказов, количество пользователей, выручка, количество посетителей интернет-магазина для каждой группы теста и каждой даты. Предварительно создадим уникальные пары значений дат и групп теста:"
   ]
  },
  {
   "cell_type": "code",
   "execution_count": 11,
   "metadata": {},
   "outputs": [
    {
     "data": {
      "text/html": [
       "<div>\n",
       "<style scoped>\n",
       "    .dataframe tbody tr th:only-of-type {\n",
       "        vertical-align: middle;\n",
       "    }\n",
       "\n",
       "    .dataframe tbody tr th {\n",
       "        vertical-align: top;\n",
       "    }\n",
       "\n",
       "    .dataframe thead th {\n",
       "        text-align: right;\n",
       "    }\n",
       "</style>\n",
       "<table border=\"1\" class=\"dataframe\">\n",
       "  <thead>\n",
       "    <tr style=\"text-align: right;\">\n",
       "      <th></th>\n",
       "      <th>date</th>\n",
       "      <th>group</th>\n",
       "    </tr>\n",
       "  </thead>\n",
       "  <tbody>\n",
       "    <tr>\n",
       "      <td>0</td>\n",
       "      <td>2019-08-15</td>\n",
       "      <td>B</td>\n",
       "    </tr>\n",
       "    <tr>\n",
       "      <td>2</td>\n",
       "      <td>2019-08-15</td>\n",
       "      <td>A</td>\n",
       "    </tr>\n",
       "    <tr>\n",
       "      <td>45</td>\n",
       "      <td>2019-08-16</td>\n",
       "      <td>A</td>\n",
       "    </tr>\n",
       "    <tr>\n",
       "      <td>47</td>\n",
       "      <td>2019-08-16</td>\n",
       "      <td>B</td>\n",
       "    </tr>\n",
       "    <tr>\n",
       "      <td>55</td>\n",
       "      <td>2019-08-01</td>\n",
       "      <td>A</td>\n",
       "    </tr>\n",
       "  </tbody>\n",
       "</table>\n",
       "</div>"
      ],
      "text/plain": [
       "         date group\n",
       "0  2019-08-15     B\n",
       "2  2019-08-15     A\n",
       "45 2019-08-16     A\n",
       "47 2019-08-16     B\n",
       "55 2019-08-01     A"
      ]
     },
     "execution_count": 11,
     "metadata": {},
     "output_type": "execute_result"
    }
   ],
   "source": [
    "# создаем уникальные пары значений дат и групп теста\n",
    "dates_groups = orders[['date','group']].drop_duplicates() \n",
    "dates_groups.head()"
   ]
  },
  {
   "cell_type": "code",
   "execution_count": 12,
   "metadata": {},
   "outputs": [
    {
     "data": {
      "text/html": [
       "<div>\n",
       "<style scoped>\n",
       "    .dataframe tbody tr th:only-of-type {\n",
       "        vertical-align: middle;\n",
       "    }\n",
       "\n",
       "    .dataframe tbody tr th {\n",
       "        vertical-align: top;\n",
       "    }\n",
       "\n",
       "    .dataframe thead th {\n",
       "        text-align: right;\n",
       "    }\n",
       "</style>\n",
       "<table border=\"1\" class=\"dataframe\">\n",
       "  <thead>\n",
       "    <tr style=\"text-align: right;\">\n",
       "      <th></th>\n",
       "      <th>date</th>\n",
       "      <th>group</th>\n",
       "      <th>transactionId</th>\n",
       "      <th>visitorId</th>\n",
       "      <th>revenue</th>\n",
       "    </tr>\n",
       "  </thead>\n",
       "  <tbody>\n",
       "    <tr>\n",
       "      <td>55</td>\n",
       "      <td>2019-08-01</td>\n",
       "      <td>A</td>\n",
       "      <td>24</td>\n",
       "      <td>20</td>\n",
       "      <td>148579</td>\n",
       "    </tr>\n",
       "    <tr>\n",
       "      <td>66</td>\n",
       "      <td>2019-08-01</td>\n",
       "      <td>B</td>\n",
       "      <td>21</td>\n",
       "      <td>20</td>\n",
       "      <td>101217</td>\n",
       "    </tr>\n",
       "    <tr>\n",
       "      <td>175</td>\n",
       "      <td>2019-08-02</td>\n",
       "      <td>A</td>\n",
       "      <td>44</td>\n",
       "      <td>38</td>\n",
       "      <td>242401</td>\n",
       "    </tr>\n",
       "    <tr>\n",
       "      <td>173</td>\n",
       "      <td>2019-08-02</td>\n",
       "      <td>B</td>\n",
       "      <td>45</td>\n",
       "      <td>43</td>\n",
       "      <td>266748</td>\n",
       "    </tr>\n",
       "    <tr>\n",
       "      <td>291</td>\n",
       "      <td>2019-08-03</td>\n",
       "      <td>A</td>\n",
       "      <td>68</td>\n",
       "      <td>62</td>\n",
       "      <td>354874</td>\n",
       "    </tr>\n",
       "  </tbody>\n",
       "</table>\n",
       "</div>"
      ],
      "text/plain": [
       "          date group  transactionId  visitorId  revenue\n",
       "55  2019-08-01     A             24         20   148579\n",
       "66  2019-08-01     B             21         20   101217\n",
       "175 2019-08-02     A             44         38   242401\n",
       "173 2019-08-02     B             45         43   266748\n",
       "291 2019-08-03     A             68         62   354874"
      ]
     },
     "execution_count": 12,
     "metadata": {},
     "output_type": "execute_result"
    }
   ],
   "source": [
    "# получаем агрегированные кумулятивные данные о заказах:\n",
    "# число уникальных ID заказов и пользователей, сумма средних чеков\n",
    "# для каждой даты и группы теста\n",
    "orders_aggregated = dates_groups.apply(lambda x: \\\n",
    "                                      orders[np.logical_and(orders['date'] <= x['date'], orders['group'] == x['group'])] \\\n",
    "                                      .agg({'date' : 'max', \\\n",
    "                                            'group' : 'max', \\\n",
    "                                            'transactionId' : 'nunique', \\\n",
    "                                            'visitorId' : 'nunique', \\\n",
    "                                            'revenue' : 'sum'}), axis=1).sort_values(by=['date','group'])\n",
    "orders_aggregated.head()"
   ]
  },
  {
   "cell_type": "code",
   "execution_count": 13,
   "metadata": {},
   "outputs": [
    {
     "data": {
      "text/html": [
       "<div>\n",
       "<style scoped>\n",
       "    .dataframe tbody tr th:only-of-type {\n",
       "        vertical-align: middle;\n",
       "    }\n",
       "\n",
       "    .dataframe tbody tr th {\n",
       "        vertical-align: top;\n",
       "    }\n",
       "\n",
       "    .dataframe thead th {\n",
       "        text-align: right;\n",
       "    }\n",
       "</style>\n",
       "<table border=\"1\" class=\"dataframe\">\n",
       "  <thead>\n",
       "    <tr style=\"text-align: right;\">\n",
       "      <th></th>\n",
       "      <th>date</th>\n",
       "      <th>group</th>\n",
       "      <th>visitors</th>\n",
       "    </tr>\n",
       "  </thead>\n",
       "  <tbody>\n",
       "    <tr>\n",
       "      <td>55</td>\n",
       "      <td>2019-08-01</td>\n",
       "      <td>A</td>\n",
       "      <td>719</td>\n",
       "    </tr>\n",
       "    <tr>\n",
       "      <td>66</td>\n",
       "      <td>2019-08-01</td>\n",
       "      <td>B</td>\n",
       "      <td>713</td>\n",
       "    </tr>\n",
       "    <tr>\n",
       "      <td>175</td>\n",
       "      <td>2019-08-02</td>\n",
       "      <td>A</td>\n",
       "      <td>1338</td>\n",
       "    </tr>\n",
       "    <tr>\n",
       "      <td>173</td>\n",
       "      <td>2019-08-02</td>\n",
       "      <td>B</td>\n",
       "      <td>1294</td>\n",
       "    </tr>\n",
       "    <tr>\n",
       "      <td>291</td>\n",
       "      <td>2019-08-03</td>\n",
       "      <td>A</td>\n",
       "      <td>1845</td>\n",
       "    </tr>\n",
       "  </tbody>\n",
       "</table>\n",
       "</div>"
      ],
      "text/plain": [
       "          date group  visitors\n",
       "55  2019-08-01     A       719\n",
       "66  2019-08-01     B       713\n",
       "175 2019-08-02     A      1338\n",
       "173 2019-08-02     B      1294\n",
       "291 2019-08-03     A      1845"
      ]
     },
     "execution_count": 13,
     "metadata": {},
     "output_type": "execute_result"
    }
   ],
   "source": [
    "# получаем агрегированные кумулятивные по датам данные \n",
    "# о посетителях интернет-магазина \n",
    "visitors_aggregated = dates_groups.apply(lambda x: \\\n",
    "                                       visitors[np.logical_and(visitors['date'] <= x['date'], \\\n",
    "                                                               visitors['group'] == x['group'])] \\\n",
    "                                       .agg({'date' : 'max', \\\n",
    "                                             'group' : 'max', \\\n",
    "                                             'visitors' : 'sum'}), axis=1).sort_values(by=['date','group'])\n",
    "visitors_aggregated.head()"
   ]
  },
  {
   "cell_type": "code",
   "execution_count": 14,
   "metadata": {},
   "outputs": [
    {
     "data": {
      "text/html": [
       "<div>\n",
       "<style scoped>\n",
       "    .dataframe tbody tr th:only-of-type {\n",
       "        vertical-align: middle;\n",
       "    }\n",
       "\n",
       "    .dataframe tbody tr th {\n",
       "        vertical-align: top;\n",
       "    }\n",
       "\n",
       "    .dataframe thead th {\n",
       "        text-align: right;\n",
       "    }\n",
       "</style>\n",
       "<table border=\"1\" class=\"dataframe\">\n",
       "  <thead>\n",
       "    <tr style=\"text-align: right;\">\n",
       "      <th></th>\n",
       "      <th>date</th>\n",
       "      <th>group</th>\n",
       "      <th>orders</th>\n",
       "      <th>buyers</th>\n",
       "      <th>revenue</th>\n",
       "      <th>visitors</th>\n",
       "    </tr>\n",
       "  </thead>\n",
       "  <tbody>\n",
       "    <tr>\n",
       "      <td>0</td>\n",
       "      <td>2019-08-01</td>\n",
       "      <td>A</td>\n",
       "      <td>24</td>\n",
       "      <td>20</td>\n",
       "      <td>148579</td>\n",
       "      <td>719</td>\n",
       "    </tr>\n",
       "    <tr>\n",
       "      <td>1</td>\n",
       "      <td>2019-08-01</td>\n",
       "      <td>B</td>\n",
       "      <td>21</td>\n",
       "      <td>20</td>\n",
       "      <td>101217</td>\n",
       "      <td>713</td>\n",
       "    </tr>\n",
       "    <tr>\n",
       "      <td>2</td>\n",
       "      <td>2019-08-02</td>\n",
       "      <td>A</td>\n",
       "      <td>44</td>\n",
       "      <td>38</td>\n",
       "      <td>242401</td>\n",
       "      <td>1338</td>\n",
       "    </tr>\n",
       "    <tr>\n",
       "      <td>3</td>\n",
       "      <td>2019-08-02</td>\n",
       "      <td>B</td>\n",
       "      <td>45</td>\n",
       "      <td>43</td>\n",
       "      <td>266748</td>\n",
       "      <td>1294</td>\n",
       "    </tr>\n",
       "    <tr>\n",
       "      <td>4</td>\n",
       "      <td>2019-08-03</td>\n",
       "      <td>A</td>\n",
       "      <td>68</td>\n",
       "      <td>62</td>\n",
       "      <td>354874</td>\n",
       "      <td>1845</td>\n",
       "    </tr>\n",
       "  </tbody>\n",
       "</table>\n",
       "</div>"
      ],
      "text/plain": [
       "        date group  orders  buyers  revenue  visitors\n",
       "0 2019-08-01     A      24      20   148579       719\n",
       "1 2019-08-01     B      21      20   101217       713\n",
       "2 2019-08-02     A      44      38   242401      1338\n",
       "3 2019-08-02     B      45      43   266748      1294\n",
       "4 2019-08-03     A      68      62   354874      1845"
      ]
     },
     "execution_count": 14,
     "metadata": {},
     "output_type": "execute_result"
    }
   ],
   "source": [
    "# объединяем кумулятивные данные в одной таблице и \n",
    "# переименовываем столбцы\n",
    "cumulative_data = orders_aggregated.merge(visitors_aggregated, left_on=['date', 'group'], right_on=['date', 'group'])\n",
    "cumulative_data.columns = ['date', 'group', 'orders', 'buyers', 'revenue', 'visitors']\n",
    "cumulative_data.head()"
   ]
  },
  {
   "cell_type": "markdown",
   "metadata": {},
   "source": [
    "Теперь построим графики кумулятивной выручки по датам и группам A/B-тестирования."
   ]
  },
  {
   "cell_type": "code",
   "execution_count": 15,
   "metadata": {},
   "outputs": [
    {
     "data": {
      "image/png": "[encoded data removed]",
      "text/plain": [
       "<Figure size 1008x360 with 1 Axes>"
      ]
     },
     "metadata": {
      "needs_background": "light"
     },
     "output_type": "display_data"
    }
   ],
   "source": [
    "# датафрейм с кумулятивным количеством заказов и кумулятивной выручкой по датам в группе А\n",
    "cumulative_revenue_A = cumulative_data[cumulative_data['group']=='A'][['date','revenue', 'orders']]\n",
    "\n",
    "# датафрейм с кумулятивным количеством заказов и кумулятивной выручкой по дням в группе B\n",
    "cumulative_revenue_B = cumulative_data[cumulative_data['group']=='B'][['date','revenue', 'orders']]\n",
    "\n",
    "# определяем размер графика\n",
    "plt.figure(figsize=(14, 5))\n",
    "\n",
    "# строим график выручки группы А\n",
    "plt.plot(cumulative_revenue_A['date'], cumulative_revenue_A['revenue'], label='A')\n",
    "\n",
    "# строим график выручки группы B\n",
    "plt.plot(cumulative_revenue_B['date'], cumulative_revenue_B['revenue'], label='B')\n",
    "\n",
    "# определяем легенду и заголовок графика\n",
    "plt.legend() \n",
    "plt.title('График кумулятивной выручки по группам');"
   ]
  },
  {
   "cell_type": "markdown",
   "metadata": {},
   "source": [
    "Видим, что выручка заказов постепенно увеличивается в течение всего теста. Однако график выручки группы B в нескольких точках резко растет. Это может говорить о всплесках числа заказов в конкретные даты, либо о появлении очень дорогих заказов в выборке с данными. Мы ранее определили выбросы в значениях выручки заказов и учтем их в дальнейшем анализе."
   ]
  },
  {
   "cell_type": "markdown",
   "metadata": {},
   "source": [
    "### График кумулятивного среднего чека по группам"
   ]
  },
  {
   "cell_type": "markdown",
   "metadata": {},
   "source": [
    "Аналогично подготовим данные и построим график для кумулятивного среднего чека по группам. Для этого разделим кумулятивную выручку на кумулятивное число заказов."
   ]
  },
  {
   "cell_type": "code",
   "execution_count": 16,
   "metadata": {},
   "outputs": [
    {
     "data": {
      "image/png": "[encoded data removed]",
      "text/plain": [
       "<Figure size 1008x360 with 1 Axes>"
      ]
     },
     "metadata": {
      "needs_background": "light"
     },
     "output_type": "display_data"
    }
   ],
   "source": [
    "# определяем размер графика\n",
    "plt.figure(figsize=(14, 5))\n",
    "\n",
    "# строим график среднего чека группы А\n",
    "plt.plot(cumulative_revenue_A['date'], cumulative_revenue_A['revenue']/cumulative_revenue_A['orders'], label='A')\n",
    "\n",
    "# строим график среднего чека группы B\n",
    "plt.plot(cumulative_revenue_B['date'], cumulative_revenue_B['revenue']/cumulative_revenue_B['orders'], label='B')\n",
    "\n",
    "# определяем легенду и заголовок графика\n",
    "plt.legend() \n",
    "plt.title('График кумулятивного среднего чека по группам');"
   ]
  },
  {
   "cell_type": "markdown",
   "metadata": {},
   "source": [
    "Здесь видим резкий всплеск на графике для группы B, что означает, что скорее всего во второй половине теста в эту группу попали крупные заказы. График среднего чека для группы A во второй половине теста достаточно равномерен и установился."
   ]
  },
  {
   "cell_type": "markdown",
   "metadata": {},
   "source": [
    "### График относительного изменения кумулятивного среднего чека группы B к группе A"
   ]
  },
  {
   "cell_type": "markdown",
   "metadata": {},
   "source": [
    "Перед построением данного графика соберем кумулятивные выручки заказов для групп A и B в один датафрейм."
   ]
  },
  {
   "cell_type": "code",
   "execution_count": 17,
   "metadata": {},
   "outputs": [
    {
     "data": {
      "image/png": "[encoded data removed]",
      "text/plain": [
       "<Figure size 1008x360 with 1 Axes>"
      ]
     },
     "metadata": {
      "needs_background": "light"
     },
     "output_type": "display_data"
    }
   ],
   "source": [
    "# собираем данные в одном датафрейме\n",
    "merged_cumulative_revenue = cumulative_revenue_A.merge(cumulative_revenue_B, \\\n",
    "                                                     left_on='date', \\\n",
    "                                                     right_on='date', \\\n",
    "                                                     how='left', suffixes=['A', 'B'])\n",
    "\n",
    "# определяем размер графика\n",
    "plt.figure(figsize=(14, 5))\n",
    "\n",
    "# cтроим отношение средних чеков\n",
    "plt.plot(merged_cumulative_revenue['date'], \\\n",
    "         (merged_cumulative_revenue['revenueB']/merged_cumulative_revenue['ordersB']) \\\n",
    "         /(merged_cumulative_revenue['revenueA']/merged_cumulative_revenue['ordersA'])-1)\n",
    "\n",
    "# добавляем ось X\n",
    "plt.axhline(y=0, color='black', linestyle='--') \n",
    "\n",
    "# добавляем заголовок графика\n",
    "plt.title('График относительного изменения кумулятивного среднего чека группы B к группе A');"
   ]
  },
  {
   "cell_type": "markdown",
   "metadata": {},
   "source": [
    "Опять видим, что в нескольких точках график различия между сегментами резко «скачет». Наиболее вероятно, что в данных есть крупные заказы и выбросы."
   ]
  },
  {
   "cell_type": "markdown",
   "metadata": {},
   "source": [
    "### График кумулятивной конверсии по группам"
   ]
  },
  {
   "cell_type": "markdown",
   "metadata": {},
   "source": [
    "Теперь построим и проанализируем график для кумулятивной конверсии по группам. Сначала рассчитаем ее для каждой из групп."
   ]
  },
  {
   "cell_type": "code",
   "execution_count": 18,
   "metadata": {},
   "outputs": [
    {
     "data": {
      "image/png": "[encoded data removed]",
      "text/plain": [
       "<Figure size 1008x360 with 1 Axes>"
      ]
     },
     "metadata": {
      "needs_background": "light"
     },
     "output_type": "display_data"
    }
   ],
   "source": [
    "# считаем кумулятивную конверсию\n",
    "cumulative_data['conversion'] = cumulative_data['orders']/cumulative_data['visitors']\n",
    "\n",
    "# отделяем данные по группе A\n",
    "cumulative_data_A = cumulative_data[cumulative_data['group']=='A']\n",
    "\n",
    "# отделяем данные по группе B\n",
    "cumulative_data_B = cumulative_data[cumulative_data['group']=='B']\n",
    "\n",
    "# определяем размер графика\n",
    "plt.figure(figsize=(14, 5))\n",
    "\n",
    "# строим графики\n",
    "plt.plot(cumulative_data_A['date'], cumulative_data_A['conversion'], label='A')\n",
    "plt.plot(cumulative_data_B['date'], cumulative_data_B['conversion'], label='B')\n",
    "\n",
    "plt.legend()\n",
    "# добавляем заголовок графика\n",
    "plt.title('График кумулятивной конверсии по группам');"
   ]
  },
  {
   "cell_type": "markdown",
   "metadata": {},
   "source": [
    "В начале теста кумулятивная конверсия группы A была выше конверсии группы B, но вскоре конверсия группы A стремительно упала, а конверсия группы B резко выросла. К концу теста конверсия группы B установилась заметно выше конверсии группы A."
   ]
  },
  {
   "cell_type": "markdown",
   "metadata": {},
   "source": [
    "###  График относительного изменения кумулятивной конверсии группы B к группе A"
   ]
  },
  {
   "cell_type": "markdown",
   "metadata": {},
   "source": [
    "Аналогично построим график для оценки различия кумулятивной конверсии групп. Сначала соберем данные о кумулятивных конверсиях групп в один датафрейм."
   ]
  },
  {
   "cell_type": "code",
   "execution_count": 19,
   "metadata": {},
   "outputs": [
    {
     "data": {
      "image/png": "[encoded data removed]",
      "text/plain": [
       "<Figure size 1008x360 with 1 Axes>"
      ]
     },
     "metadata": {
      "needs_background": "light"
     },
     "output_type": "display_data"
    }
   ],
   "source": [
    "# собираем данные в одном датафрейме\n",
    "merged_cumulative_conversions = cumulative_data_A[['date','conversion']].merge(cumulative_data_B \\\n",
    "                                                                               [['date','conversion']], \\\n",
    "                                                                               left_on='date', \\\n",
    "                                                                               right_on='date', \\\n",
    "                                                                               how='left', \\\n",
    "                                                                               suffixes=['A', 'B'])\n",
    "\n",
    "# определяем размер графика\n",
    "plt.figure(figsize=(14, 5))\n",
    "\n",
    "# cтроим отношение конверсий\n",
    "plt.plot(merged_cumulative_conversions['date'], \\\n",
    "         merged_cumulative_conversions['conversionB']/ \\\n",
    "         merged_cumulative_conversions['conversionA']-1, \\\n",
    "         label=\"Относительный прирост конверсии группы B относительно группы A\")\n",
    "\n",
    "plt.legend()\n",
    "\n",
    "# добавляем оси X\n",
    "plt.axhline(y=0, color='black', linestyle='--')\n",
    "plt.axhline(y=-0.1, color='grey', linestyle='--')\n",
    "\n",
    "# добавляем заголовок графика\n",
    "plt.title('График относительного изменения кумулятивной конверсии группы B к группе A');"
   ]
  },
  {
   "cell_type": "markdown",
   "metadata": {},
   "source": [
    "В начале теста группа B проигрывала группе A, но затем вырвалась вперёд и сохранила преимущество до конца теста (прирост относительно группы A около 10-15%). Таким образом, группа B лидирует по конверсии почти с самого начала теста."
   ]
  },
  {
   "cell_type": "markdown",
   "metadata": {},
   "source": [
    "### Точечный график количества заказов по пользователям"
   ]
  },
  {
   "cell_type": "markdown",
   "metadata": {},
   "source": [
    "Обратим внимание на количество заказов каждого пользователя. Это важно для анализа, поскольку пользователи, совершившие много заказов, влияют на конверсию. Подсчитаем количество заказов по пользователям и посмотрим на результат."
   ]
  },
  {
   "cell_type": "code",
   "execution_count": 20,
   "metadata": {},
   "outputs": [
    {
     "data": {
      "text/html": [
       "<div>\n",
       "<style scoped>\n",
       "    .dataframe tbody tr th:only-of-type {\n",
       "        vertical-align: middle;\n",
       "    }\n",
       "\n",
       "    .dataframe tbody tr th {\n",
       "        vertical-align: top;\n",
       "    }\n",
       "\n",
       "    .dataframe thead th {\n",
       "        text-align: right;\n",
       "    }\n",
       "</style>\n",
       "<table border=\"1\" class=\"dataframe\">\n",
       "  <thead>\n",
       "    <tr style=\"text-align: right;\">\n",
       "      <th></th>\n",
       "      <th>visitorId</th>\n",
       "      <th>orders</th>\n",
       "    </tr>\n",
       "  </thead>\n",
       "  <tbody>\n",
       "    <tr>\n",
       "      <td>1023</td>\n",
       "      <td>4256040402</td>\n",
       "      <td>11</td>\n",
       "    </tr>\n",
       "    <tr>\n",
       "      <td>591</td>\n",
       "      <td>2458001652</td>\n",
       "      <td>11</td>\n",
       "    </tr>\n",
       "    <tr>\n",
       "      <td>569</td>\n",
       "      <td>2378935119</td>\n",
       "      <td>9</td>\n",
       "    </tr>\n",
       "    <tr>\n",
       "      <td>487</td>\n",
       "      <td>2038680547</td>\n",
       "      <td>8</td>\n",
       "    </tr>\n",
       "    <tr>\n",
       "      <td>44</td>\n",
       "      <td>199603092</td>\n",
       "      <td>5</td>\n",
       "    </tr>\n",
       "    <tr>\n",
       "      <td>744</td>\n",
       "      <td>3062433592</td>\n",
       "      <td>5</td>\n",
       "    </tr>\n",
       "    <tr>\n",
       "      <td>55</td>\n",
       "      <td>237748145</td>\n",
       "      <td>5</td>\n",
       "    </tr>\n",
       "    <tr>\n",
       "      <td>917</td>\n",
       "      <td>3803269165</td>\n",
       "      <td>5</td>\n",
       "    </tr>\n",
       "    <tr>\n",
       "      <td>299</td>\n",
       "      <td>1230306981</td>\n",
       "      <td>5</td>\n",
       "    </tr>\n",
       "    <tr>\n",
       "      <td>897</td>\n",
       "      <td>3717692402</td>\n",
       "      <td>5</td>\n",
       "    </tr>\n",
       "  </tbody>\n",
       "</table>\n",
       "</div>"
      ],
      "text/plain": [
       "       visitorId  orders\n",
       "1023  4256040402      11\n",
       "591   2458001652      11\n",
       "569   2378935119       9\n",
       "487   2038680547       8\n",
       "44     199603092       5\n",
       "744   3062433592       5\n",
       "55     237748145       5\n",
       "917   3803269165       5\n",
       "299   1230306981       5\n",
       "897   3717692402       5"
      ]
     },
     "metadata": {},
     "output_type": "display_data"
    }
   ],
   "source": [
    "# считаем число заказов для каждого пользователя\n",
    "orders_by_users = (\n",
    "    orders.groupby('visitorId', as_index=False)\n",
    "    .agg({'transactionId': pd.Series.nunique})\n",
    ")\n",
    "\n",
    "# переименование столбцов\n",
    "orders_by_users.columns = ['visitorId', 'orders']\n",
    "display(orders_by_users.sort_values(by='orders', ascending=False).head(10)) "
   ]
  },
  {
   "cell_type": "markdown",
   "metadata": {},
   "source": [
    "Видим, что у нас есть пользователи, совершившие 11, 9, 8 и 5 заказов за месяц. Если считать, что «обычный» пользователь совершает не больше одного заказа за неделю, то поведение пользователей, оформивших более 5 заказов за месяц, скорее всего, можно считать аномальным."
   ]
  },
  {
   "cell_type": "markdown",
   "metadata": {},
   "source": [
    "Теперь построим точечную диаграмму числа заказов на одного пользователя."
   ]
  },
  {
   "cell_type": "code",
   "execution_count": 21,
   "metadata": {},
   "outputs": [
    {
     "data": {
      "image/png": "[encoded data removed]",
      "text/plain": [
       "<Figure size 432x288 with 1 Axes>"
      ]
     },
     "metadata": {
      "needs_background": "light"
     },
     "output_type": "display_data"
    }
   ],
   "source": [
    "# построение точечной диаграммы для числа заказов\n",
    "x_values = pd.Series(range(0,len(orders_by_users)))\n",
    "plt.scatter(x_values, orders_by_users['orders']);"
   ]
  },
  {
   "cell_type": "markdown",
   "metadata": {},
   "source": [
    "Видим, что в основном пользователи сделали один заказ за время теста. Но некоторые из них совершили от 2 до 4 заказов. А вот пользователи, которые сделали более 4 заказов, как и предполагалось, не многочисленны. Чтобы рассчитать их долю определим выборочные перцентили."
   ]
  },
  {
   "cell_type": "markdown",
   "metadata": {},
   "source": [
    "### Подсчет 95-й и 99-й перцентилей количества заказов на пользователя"
   ]
  },
  {
   "cell_type": "markdown",
   "metadata": {},
   "source": [
    "Посчитаем выборочные перцентили количества заказов на одного пользователя и выберем границу для определения аномальных пользователей."
   ]
  },
  {
   "cell_type": "code",
   "execution_count": 22,
   "metadata": {},
   "outputs": [
    {
     "name": "stdout",
     "output_type": "stream",
     "text": [
      "[2. 4.]\n"
     ]
    }
   ],
   "source": [
    "# вычисление 95-й и 99-й перцентилей для кол-ва заказов\n",
    "print(np.percentile(orders_by_users['orders'], [95, 99]))"
   ]
  },
  {
   "cell_type": "markdown",
   "metadata": {},
   "source": [
    "Мы определили, что не более 5% пользователей оформляли больше чем 2 заказа и не более 1% совершали более 4 заказов. Разумно выбрать 2 заказа на одного пользователя за нижнюю границу числа заказов, и отсеять аномальных пользователей по ней."
   ]
  },
  {
   "cell_type": "markdown",
   "metadata": {},
   "source": [
    "### Точечный график стоимостей заказов"
   ]
  },
  {
   "cell_type": "markdown",
   "metadata": {},
   "source": [
    "Так же как аномальное количество заказов пользователя искажает значение конверсии, так и заказы с высокой стоимостью, попав в одну из групп теста, могут исказить его результаты. Мы считаем, что такие покупки являются редкостью и случайным событием."
   ]
  },
  {
   "cell_type": "markdown",
   "metadata": {},
   "source": [
    "Оценим стоимость заказов пользователей с помощью точечной диаграммы."
   ]
  },
  {
   "cell_type": "code",
   "execution_count": 23,
   "metadata": {},
   "outputs": [
    {
     "data": {
      "image/png": "[encoded data removed]",
      "text/plain": [
       "<Figure size 432x288 with 1 Axes>"
      ]
     },
     "metadata": {
      "needs_background": "light"
     },
     "output_type": "display_data"
    }
   ],
   "source": [
    "# построение точечной диаграммы для стоимости заказов\n",
    "orders_limited = orders[orders['revenue'] < 200000]\n",
    "x_values = pd.Series(range(0, len(orders_limited)))\n",
    "plt.scatter(x_values, orders_limited['revenue']);"
   ]
  },
  {
   "cell_type": "markdown",
   "metadata": {},
   "source": [
    "Видим, что основная доля заказов не превышает 20000 руб. Так же замечаем аномальные значения стоимости заказа более 200000 руб. Чтобы отсеить крайние значения, рассчитаем выборочные перцентили."
   ]
  },
  {
   "cell_type": "markdown",
   "metadata": {},
   "source": [
    "### Подсчет 95-й и 99-й перцентилей стоимости заказов"
   ]
  },
  {
   "cell_type": "markdown",
   "metadata": {},
   "source": [
    "Посчитаем 95-й и 99-й перцентили стоимости заказов и выберем границу для определения аномальных заказов."
   ]
  },
  {
   "cell_type": "code",
   "execution_count": 24,
   "metadata": {},
   "outputs": [
    {
     "name": "stdout",
     "output_type": "stream",
     "text": [
      "[28000.  58233.2]\n"
     ]
    }
   ],
   "source": [
    "# вычисление 95-й и 99-й перцентилей для стоимости заказов\n",
    "print(np.percentile(orders['revenue'], [95, 99])) "
   ]
  },
  {
   "cell_type": "markdown",
   "metadata": {},
   "source": [
    "Не более 5% заказов дороже 28000 руб. и не более 1% дороже 58233 руб. Определим 28000 руб. как нижнюю границу стоимости заказа, что позволит отсеять аномальные заказы."
   ]
  },
  {
   "cell_type": "markdown",
   "metadata": {},
   "source": [
    "### Подсчет статистической значимости различий в конверсии между группами по «сырым» данным"
   ]
  },
  {
   "cell_type": "markdown",
   "metadata": {},
   "source": [
    "Посчитаем статистическую значимость различий в конверсии между группами A и B по «сырым» данным — без удаления аномальных пользователей."
   ]
  },
  {
   "cell_type": "markdown",
   "metadata": {},
   "source": [
    "Подготовим данные для вычислений."
   ]
  },
  {
   "cell_type": "code",
   "execution_count": 25,
   "metadata": {},
   "outputs": [],
   "source": [
    "# выделение кол-ва пользователей группы A\n",
    "visitorsADaily = visitors[visitors['group'] == 'A'][['date', 'visitors']]\n",
    "# переименование столбцов\n",
    "visitorsADaily.columns = ['date', 'visitorsPerDateA']\n",
    "\n",
    "# получаем агрегированные кумулятивные данные о\n",
    "# кол-ве пользователей группы А \n",
    "visitorsACummulative = visitorsADaily.apply(\n",
    "    lambda x: visitorsADaily[visitorsADaily['date'] <= x['date']].agg(\n",
    "        {'date': 'max', 'visitorsPerDateA': 'sum'}\n",
    "    ),\n",
    "    axis=1,\n",
    ")\n",
    "# переименование столбцов\n",
    "visitorsACummulative.columns = ['date', 'visitorsCummulativeA']\n",
    "\n",
    "# выделение кол-ва пользователей группы B\n",
    "visitorsBDaily = visitors[visitors['group'] == 'B'][['date', 'visitors']]\n",
    "# переименование столбцов\n",
    "visitorsBDaily.columns = ['date', 'visitorsPerDateB']\n",
    "\n",
    "# получаем агрегированные кумулятивные данные о\n",
    "# кол-ве пользователей группы B \n",
    "visitorsBCummulative = visitorsBDaily.apply(\n",
    "    lambda x: visitorsBDaily[visitorsBDaily['date'] <= x['date']].agg(\n",
    "        {'date': 'max', 'visitorsPerDateB': 'sum'}\n",
    "    ),\n",
    "    axis=1,\n",
    ")\n",
    "# переименование столбцов\n",
    "visitorsBCummulative.columns = ['date', 'visitorsCummulativeB']\n",
    "\n",
    "# подсчет кол-ва заказов и суммы выручки по датам\n",
    "# для группы A\n",
    "ordersADaily = (\n",
    "    orders[orders['group'] == 'A'][['date', 'transactionId', 'visitorId', 'revenue']]\n",
    "    .groupby('date', as_index=False)\n",
    "    .agg({'transactionId': pd.Series.nunique, 'revenue': 'sum'})\n",
    ")\n",
    "# переименование столбцов\n",
    "ordersADaily.columns = ['date', 'ordersPerDateA', 'revenuePerDateA']\n",
    "\n",
    "# получаем агрегированные кумулятивные данные о\n",
    "# кол-ве заказов и их стоимости для группы A\n",
    "ordersACummulative = ordersADaily.apply(\n",
    "    lambda x: ordersADaily[ordersADaily['date'] <= x['date']].agg(\n",
    "        {'date': 'max', 'ordersPerDateA': 'sum', 'revenuePerDateA': 'sum'}\n",
    "    ),\n",
    "    axis=1,\n",
    ").sort_values(by=['date'])\n",
    "# переименование столбцов\n",
    "ordersACummulative.columns = ['date','ordersCummulativeA','revenueCummulativeA']\n",
    "\n",
    "# подсчет кол-ва заказов и суммы выручки по датам\n",
    "# для группы B\n",
    "ordersBDaily = (\n",
    "    orders[orders['group'] == 'B'][['date', 'transactionId', 'visitorId', 'revenue']]\n",
    "    .groupby('date', as_index=False)\n",
    "    .agg({'visitorId': pd.Series.nunique, 'revenue': 'sum'})\n",
    ")\n",
    "# переименование столбцов\n",
    "ordersBDaily.columns = ['date', 'ordersPerDateB', 'revenuePerDateB']\n",
    "\n",
    "# получаем агрегированные кумулятивные данные о\n",
    "# кол-ве заказов и их стоимости для группы B\n",
    "ordersBCummulative = ordersBDaily.apply(\n",
    "    lambda x: ordersBDaily[ordersBDaily['date'] <= x['date']].agg(\n",
    "        {'date': 'max', 'ordersPerDateB': 'sum', 'revenuePerDateB': 'sum'}\n",
    "    ),\n",
    "    axis=1,\n",
    ").sort_values(by=['date'])\n",
    "# переименование столбцов\n",
    "ordersBCummulative.columns = ['date','ordersCummulativeB','revenueCummulativeB']"
   ]
  },
  {
   "cell_type": "markdown",
   "metadata": {},
   "source": [
    "Объединим полученные данные о количестве заказов и их стоимости для групп в один датасет."
   ]
  },
  {
   "cell_type": "code",
   "execution_count": 26,
   "metadata": {},
   "outputs": [
    {
     "data": {
      "text/html": [
       "<div>\n",
       "<style scoped>\n",
       "    .dataframe tbody tr th:only-of-type {\n",
       "        vertical-align: middle;\n",
       "    }\n",
       "\n",
       "    .dataframe tbody tr th {\n",
       "        vertical-align: top;\n",
       "    }\n",
       "\n",
       "    .dataframe thead th {\n",
       "        text-align: right;\n",
       "    }\n",
       "</style>\n",
       "<table border=\"1\" class=\"dataframe\">\n",
       "  <thead>\n",
       "    <tr style=\"text-align: right;\">\n",
       "      <th></th>\n",
       "      <th>date</th>\n",
       "      <th>ordersPerDateA</th>\n",
       "      <th>revenuePerDateA</th>\n",
       "      <th>ordersPerDateB</th>\n",
       "      <th>revenuePerDateB</th>\n",
       "      <th>ordersCummulativeA</th>\n",
       "      <th>revenueCummulativeA</th>\n",
       "      <th>ordersCummulativeB</th>\n",
       "      <th>revenueCummulativeB</th>\n",
       "      <th>visitorsPerDateA</th>\n",
       "      <th>visitorsPerDateB</th>\n",
       "      <th>visitorsCummulativeA</th>\n",
       "      <th>visitorsCummulativeB</th>\n",
       "    </tr>\n",
       "  </thead>\n",
       "  <tbody>\n",
       "    <tr>\n",
       "      <td>0</td>\n",
       "      <td>2019-08-01</td>\n",
       "      <td>24</td>\n",
       "      <td>148579</td>\n",
       "      <td>20</td>\n",
       "      <td>101217</td>\n",
       "      <td>24</td>\n",
       "      <td>148579</td>\n",
       "      <td>20</td>\n",
       "      <td>101217</td>\n",
       "      <td>719</td>\n",
       "      <td>713</td>\n",
       "      <td>719</td>\n",
       "      <td>713</td>\n",
       "    </tr>\n",
       "    <tr>\n",
       "      <td>1</td>\n",
       "      <td>2019-08-02</td>\n",
       "      <td>20</td>\n",
       "      <td>93822</td>\n",
       "      <td>23</td>\n",
       "      <td>165531</td>\n",
       "      <td>44</td>\n",
       "      <td>242401</td>\n",
       "      <td>43</td>\n",
       "      <td>266748</td>\n",
       "      <td>619</td>\n",
       "      <td>581</td>\n",
       "      <td>1338</td>\n",
       "      <td>1294</td>\n",
       "    </tr>\n",
       "    <tr>\n",
       "      <td>2</td>\n",
       "      <td>2019-08-03</td>\n",
       "      <td>24</td>\n",
       "      <td>112473</td>\n",
       "      <td>16</td>\n",
       "      <td>114248</td>\n",
       "      <td>68</td>\n",
       "      <td>354874</td>\n",
       "      <td>59</td>\n",
       "      <td>380996</td>\n",
       "      <td>507</td>\n",
       "      <td>509</td>\n",
       "      <td>1845</td>\n",
       "      <td>1803</td>\n",
       "    </tr>\n",
       "    <tr>\n",
       "      <td>3</td>\n",
       "      <td>2019-08-04</td>\n",
       "      <td>16</td>\n",
       "      <td>70825</td>\n",
       "      <td>16</td>\n",
       "      <td>108571</td>\n",
       "      <td>84</td>\n",
       "      <td>425699</td>\n",
       "      <td>75</td>\n",
       "      <td>489567</td>\n",
       "      <td>717</td>\n",
       "      <td>770</td>\n",
       "      <td>2562</td>\n",
       "      <td>2573</td>\n",
       "    </tr>\n",
       "    <tr>\n",
       "      <td>4</td>\n",
       "      <td>2019-08-05</td>\n",
       "      <td>25</td>\n",
       "      <td>124218</td>\n",
       "      <td>23</td>\n",
       "      <td>92428</td>\n",
       "      <td>109</td>\n",
       "      <td>549917</td>\n",
       "      <td>98</td>\n",
       "      <td>581995</td>\n",
       "      <td>756</td>\n",
       "      <td>707</td>\n",
       "      <td>3318</td>\n",
       "      <td>3280</td>\n",
       "    </tr>\n",
       "  </tbody>\n",
       "</table>\n",
       "</div>"
      ],
      "text/plain": [
       "        date  ordersPerDateA  revenuePerDateA  ordersPerDateB  \\\n",
       "0 2019-08-01              24           148579              20   \n",
       "1 2019-08-02              20            93822              23   \n",
       "2 2019-08-03              24           112473              16   \n",
       "3 2019-08-04              16            70825              16   \n",
       "4 2019-08-05              25           124218              23   \n",
       "\n",
       "   revenuePerDateB  ordersCummulativeA  revenueCummulativeA  \\\n",
       "0           101217                  24               148579   \n",
       "1           165531                  44               242401   \n",
       "2           114248                  68               354874   \n",
       "3           108571                  84               425699   \n",
       "4            92428                 109               549917   \n",
       "\n",
       "   ordersCummulativeB  revenueCummulativeB  visitorsPerDateA  \\\n",
       "0                  20               101217               719   \n",
       "1                  43               266748               619   \n",
       "2                  59               380996               507   \n",
       "3                  75               489567               717   \n",
       "4                  98               581995               756   \n",
       "\n",
       "   visitorsPerDateB  visitorsCummulativeA  visitorsCummulativeB  \n",
       "0               713                   719                   713  \n",
       "1               581                  1338                  1294  \n",
       "2               509                  1845                  1803  \n",
       "3               770                  2562                  2573  \n",
       "4               707                  3318                  3280  "
      ]
     },
     "execution_count": 26,
     "metadata": {},
     "output_type": "execute_result"
    }
   ],
   "source": [
    "#  объединение полученных датасетов\n",
    "data = (\n",
    "    ordersADaily.merge(\n",
    "        ordersBDaily, left_on='date', right_on='date', how='left'\n",
    "    )\n",
    "    .merge(ordersACummulative, left_on='date', right_on='date', how='left')\n",
    "    .merge(ordersBCummulative, left_on='date', right_on='date', how='left')\n",
    "    .merge(visitorsADaily, left_on='date', right_on='date', how='left')\n",
    "    .merge(visitorsBDaily, left_on='date', right_on='date', how='left')\n",
    "    .merge(visitorsACummulative, left_on='date', right_on='date', how='left')\n",
    "    .merge(visitorsBCummulative, left_on='date', right_on='date', how='left')\n",
    ")\n",
    "\n",
    "data.head(5)"
   ]
  },
  {
   "cell_type": "code",
   "execution_count": 27,
   "metadata": {},
   "outputs": [],
   "source": [
    "# определение числа заказов для пользователей из группы A,\n",
    "# совершивших хотя бы 1 заказ\n",
    "ordersByUsersA = (\n",
    "    orders[orders['group'] == 'A']\n",
    "    .groupby('visitorId', as_index=False)\n",
    "    .agg({'transactionId': pd.Series.nunique})\n",
    ")\n",
    "# переименование столбцов\n",
    "ordersByUsersA.columns = ['visitorId', 'orders']\n",
    "\n",
    "# определение числа заказов для пользователей из группы B,\n",
    "# совершивших хотя бы 1 заказ\n",
    "ordersByUsersB = (\n",
    "    orders[orders['group'] == 'B']\n",
    "    .groupby('visitorId', as_index=False)\n",
    "    .agg({'transactionId': pd.Series.nunique})\n",
    ")\n",
    "# переименование столбцов\n",
    "ordersByUsersB.columns = ['visitorId', 'orders']\n",
    "\n",
    "# указываем число заказов пользователя группы A, пользователям без заказов - нули,\n",
    "# объединение по строкам\n",
    "sampleA = pd.concat([ordersByUsersA['orders'], pd.Series(0, index=np.arange(\n",
    "    data['visitorsPerDateA'].sum() - len(ordersByUsersA['orders'])), name='orders')],axis=0)\n",
    "# указываем число заказов пользователя группы B, пользователям без заказов - нули,\n",
    "# объединение по строкам\n",
    "sampleB = pd.concat([ordersByUsersB['orders'], pd.Series(0, index=np.arange(\n",
    "    data['visitorsPerDateB'].sum() - len(ordersByUsersB['orders'])), name='orders')],axis=0)"
   ]
  },
  {
   "cell_type": "markdown",
   "metadata": {},
   "source": [
    "Поскольку число элементов `sampleA` — это количество пользователей,  а сумма всех элементов — количество заказов, то чтобы получить конверсию в группе, поделим сумму заказов на число пользователей (`SampleA.mean()`). Аналогично найдём конверсию группы B: `SampleB.mean()`."
   ]
  },
  {
   "cell_type": "markdown",
   "metadata": {},
   "source": [
    "***Сформулируем нулевую гипотезу (H0):*** \"Статистически значимых различий в конверсии между группами A и B нет\"."
   ]
  },
  {
   "cell_type": "markdown",
   "metadata": {},
   "source": [
    "***Сформулируем альтернативную гипотезу (H1):*** \"Статистически значимые различия в конверсии между группами A и B существуют\"."
   ]
  },
  {
   "cell_type": "markdown",
   "metadata": {},
   "source": [
    "Применим тест Манна-Уитни и посчитаем статистическую значимость различия конверсии групп. Так же вычислим и выведем относительное различие в конверсии между группами A и B."
   ]
  },
  {
   "cell_type": "code",
   "execution_count": 28,
   "metadata": {},
   "outputs": [
    {
     "name": "stdout",
     "output_type": "stream",
     "text": [
      "0.00840\n",
      "0.138\n"
     ]
    }
   ],
   "source": [
    "# применение теста Манна-Уитни - \n",
    "# вывод p-value для сравнения конверсии между группами\n",
    "print(\"{0:.5f}\".format(stats.mannwhitneyu(sampleA, sampleB)[1]))\n",
    "# вывод относительного различия в конверсии между группами\n",
    "print(\"{0:.3f}\".format(sampleB.mean() / sampleA.mean() - 1))"
   ]
  },
  {
   "cell_type": "markdown",
   "metadata": {},
   "source": [
    "P-value значительно меньше 0.05, поэтому нулевую гипотезу (H0) отвергаем. Анализ \"сырых данных\" сообщает, что в конверсии между группами есть статистически значимые различия. Относительный прирост конверсии группы B группы А равен 13.8%."
   ]
  },
  {
   "cell_type": "markdown",
   "metadata": {},
   "source": [
    "### Подсчет статистической значимости различий в среднем чеке заказа между группами по «сырым» данным"
   ]
  },
  {
   "cell_type": "markdown",
   "metadata": {},
   "source": [
    "***Сформулируем нулевую гипотезу (H0):*** \"Статистически значимых различий в среднем чеке заказа между группами A и B нет\"."
   ]
  },
  {
   "cell_type": "markdown",
   "metadata": {},
   "source": [
    "***Сформулируем альтернативную гипотезу (H1):*** \"Статистически значимые различия в среднем чеке заказа между группами A и B существуют\"."
   ]
  },
  {
   "cell_type": "markdown",
   "metadata": {},
   "source": [
    "Посчитаем статистическую значимость различий в среднем чеке между группами A и B по «сырым» данным — без удаления аномальных пользователей. Для этого передадим критерию `mannwhitneyu()` данные о выручке с заказов и найдём относительные различия в среднем чеке между группами."
   ]
  },
  {
   "cell_type": "code",
   "execution_count": 29,
   "metadata": {},
   "outputs": [
    {
     "name": "stdout",
     "output_type": "stream",
     "text": [
      "0.365\n",
      "0.259\n"
     ]
    }
   ],
   "source": [
    "# применение теста Манна-Уитни - \n",
    "# вывод p-value для сравнения среднего чека групп\n",
    "print('{0:.3f}'.format(stats.mannwhitneyu(orders[orders['group']=='A']['revenue'],\\\n",
    "                                          orders[orders['group']=='B']['revenue'])[1]))\n",
    "# вывод относительного различия в среднем чеке групп\n",
    "print('{0:.3f}'.format(orders[orders['group']=='B']['revenue'].mean()\\\n",
    "                       /orders[orders['group']=='A']['revenue'].mean()-1)) "
   ]
  },
  {
   "cell_type": "markdown",
   "metadata": {},
   "source": [
    "P-value больше 0.05 - статистически значимых различий в среднем чеке между группами нет. Значит, причин отвергать нулевую гипотезу (H0) нет.  Кроме того, относительное различие среднего чека между сегментами 25,6%."
   ]
  },
  {
   "cell_type": "markdown",
   "metadata": {},
   "source": [
    "### Подсчет статистической значимости различий в конверсии между группами по «очищенным» данным"
   ]
  },
  {
   "cell_type": "markdown",
   "metadata": {},
   "source": [
    "Сначала подготовим очищенные от аномалий данные. Вспомним, что 95-й и 99-й перцентили средних чеков равны 28000 и 8233 рублям. А 95-й и 99-й перцентили числа заказов на одного пользователя равны 2 и 4 заказам на пользователя."
   ]
  },
  {
   "cell_type": "markdown",
   "metadata": {},
   "source": [
    "Примем за аномальных пользователей тех, кто совершил 2 заказа и более, или совершил заказ на сумму свыше 30 000 рублей. Так мы уберем 5% пользователей с наибольшим числом заказов и от 1% до 5% заказов с наибольшей стоимостью."
   ]
  },
  {
   "cell_type": "code",
   "execution_count": 30,
   "metadata": {},
   "outputs": [],
   "source": [
    "# срез пользователей с числом заказов больше 2\n",
    "usersWithManyOrders = pd.concat(\n",
    "    [\n",
    "        ordersByUsersA[ordersByUsersA['orders'] > 2]['visitorId'],\n",
    "        ordersByUsersB[ordersByUsersB['orders'] > 2]['visitorId'],\n",
    "    ],\n",
    "    axis=0,\n",
    ")\n",
    "\n",
    "# срез пользователей совершивших заказы дороже 30000\n",
    "usersWithExpensiveOrders = orders[orders['revenue'] > 30000]['visitorId']"
   ]
  },
  {
   "cell_type": "markdown",
   "metadata": {},
   "source": [
    "Объединим полученные данные."
   ]
  },
  {
   "cell_type": "code",
   "execution_count": 31,
   "metadata": {},
   "outputs": [
    {
     "data": {
      "text/plain": [
       "1099    148427295\n",
       "18      199603092\n",
       "928     204675465\n",
       "23      237748145\n",
       "37      249864742\n",
       "Name: visitorId, dtype: int64"
      ]
     },
     "metadata": {},
     "output_type": "display_data"
    },
    {
     "name": "stdout",
     "output_type": "stream",
     "text": [
      "(68,)\n"
     ]
    }
   ],
   "source": [
    "# таблица с аномальными пользователями\n",
    "abnormalUsers = (\n",
    "    pd.concat([usersWithManyOrders, usersWithExpensiveOrders], axis=0)\n",
    "    .drop_duplicates()\n",
    "    .sort_values()\n",
    ")\n",
    "display(abnormalUsers.head(5))\n",
    "# вывод количества аномальных пользователей\n",
    "print(abnormalUsers.shape) "
   ]
  },
  {
   "cell_type": "markdown",
   "metadata": {},
   "source": [
    "Мы обнаружили 68 аномальных пользователя. Теперь посчитаем статистическую значимость различия конверсии между группами теста после их удаления."
   ]
  },
  {
   "cell_type": "code",
   "execution_count": 32,
   "metadata": {},
   "outputs": [],
   "source": [
    "# данные о заказах без аномальных пользователей группы A\n",
    "sampleAFiltered = pd.concat(\n",
    "    [\n",
    "        ordersByUsersA[\n",
    "            np.logical_not(ordersByUsersA['visitorId'].isin(abnormalUsers))\n",
    "        ]['orders'],\n",
    "        pd.Series(\n",
    "            0,\n",
    "            index=np.arange(\n",
    "                data['visitorsPerDateA'].sum() - len(ordersByUsersA['orders'])\n",
    "            ),\n",
    "            name='orders',\n",
    "        ),\n",
    "    ],\n",
    "    axis=0,\n",
    ")\n",
    "\n",
    "# данные о заказах без аномальных пользователей группы B\n",
    "sampleBFiltered = pd.concat(\n",
    "    [\n",
    "        ordersByUsersB[\n",
    "            np.logical_not(ordersByUsersB['visitorId'].isin(abnormalUsers))\n",
    "        ]['orders'],\n",
    "        pd.Series(\n",
    "            0,\n",
    "            index=np.arange(\n",
    "                data['visitorsPerDateB'].sum() - len(ordersByUsersB['orders'])\n",
    "            ),\n",
    "            name='orders',\n",
    "        ),\n",
    "    ],\n",
    "    axis=0,\n",
    ")"
   ]
  },
  {
   "cell_type": "markdown",
   "metadata": {},
   "source": [
    "Теперь применим тест Манна-Уитни и посчитаем статистическую значимость различия конверсии для очищенных от аномалий групп. Так же вычислим и выведем относительное различие в конверсии между очищенными группами A и B."
   ]
  },
  {
   "cell_type": "code",
   "execution_count": 33,
   "metadata": {},
   "outputs": [
    {
     "name": "stdout",
     "output_type": "stream",
     "text": [
      "0.00667\n",
      "0.172\n"
     ]
    }
   ],
   "source": [
    "# применение теста Манна-Уитни - \n",
    "# вывод p-value для сравнения конверсии между очищенными группами\n",
    "print('{0:.5f}'.format(stats.mannwhitneyu(sampleAFiltered, sampleBFiltered)[1]))\n",
    "# вывод относительного различия в конверсии между группами\n",
    "print('{0:.3f}'.format(sampleBFiltered.mean()/sampleAFiltered.mean()-1)) "
   ]
  },
  {
   "cell_type": "markdown",
   "metadata": {},
   "source": [
    "Как и в случае с сырыми данными, p-value для сравнения конверсии между очищенными группами меньше 0.05. То есть статистическая значимость достигнута. Кроме того, относительный прирост конверсии очищенной группы B составил 17,2%. Это говорит о том, что сегмент B значительно лучше сегмента A."
   ]
  },
  {
   "cell_type": "markdown",
   "metadata": {},
   "source": [
    "### Подсчет статистической значимости различий в среднем чеке заказа между группами по «очищенным» данным"
   ]
  },
  {
   "cell_type": "markdown",
   "metadata": {},
   "source": [
    "Посчитаем статистическую значимость различия средних чеков заказа после удаления аномальных пользователей."
   ]
  },
  {
   "cell_type": "code",
   "execution_count": 34,
   "metadata": {},
   "outputs": [
    {
     "name": "stdout",
     "output_type": "stream",
     "text": [
      "0.360\n",
      "-0.023\n"
     ]
    }
   ],
   "source": [
    "# применение теста Манна-Уитни - \n",
    "# вывод p-value для сравнения среднего чека очищенных групп \n",
    "print(\n",
    "    '{0:.3f}'.format(\n",
    "        stats.mannwhitneyu(\n",
    "            orders[\n",
    "                np.logical_and(\n",
    "                    orders['group'] == 'A',\n",
    "                    np.logical_not(orders['visitorId'].isin(abnormalUsers)),\n",
    "                )\n",
    "            ]['revenue'],\n",
    "            orders[\n",
    "                np.logical_and(\n",
    "                    orders['group'] == 'B',\n",
    "                    np.logical_not(orders['visitorId'].isin(abnormalUsers)),\n",
    "                )\n",
    "            ]['revenue'],\n",
    "        )[1]\n",
    "    )\n",
    ")\n",
    "\n",
    "# вывод относительного различия в среднем чеке очищенных групп\n",
    "print(\n",
    "    \"{0:.3f}\".format(\n",
    "        orders[\n",
    "            np.logical_and(\n",
    "                orders['group'] == 'B',\n",
    "                np.logical_not(orders['visitorId'].isin(abnormalUsers)),\n",
    "            )\n",
    "        ]['revenue'].mean()\n",
    "        / orders[\n",
    "            np.logical_and(\n",
    "                orders['group'] == 'A',\n",
    "                np.logical_not(orders['visitorId'].isin(abnormalUsers)),\n",
    "            )\n",
    "        ]['revenue'].mean()\n",
    "        - 1\n",
    "    )\n",
    ") "
   ]
  },
  {
   "cell_type": "markdown",
   "metadata": {},
   "source": [
    "P-value больше 0.05 - статистически значимых различий в среднем чеке между очищенными группами нет. Но замечаем, что относительное различие среднего чека между сегментами стало 2.3% в сторону группы A. Хотя общие выводы по результатам теста не изменились, здесь мы видим, как сильно аномалии повлияли на результаты A/B-теста.\n"
   ]
  },
  {
   "cell_type": "markdown",
   "metadata": {},
   "source": [
    "### Решение по результатам теста"
   ]
  },
  {
   "cell_type": "markdown",
   "metadata": {},
   "source": [
    "Варианты решений: 1. Остановить тест, зафиксировать победу одной из групп. 2. Остановить тест, зафиксировать отсутствие различий между группами. 3. Продолжить тест."
   ]
  },
  {
   "cell_type": "markdown",
   "metadata": {},
   "source": [
    "Выполнив анализ A/B теста мы выяснили следующее:\n",
    "* Статистически значимые различия по конверсии между группами по сырым и по данным после фильтрации аномалий существуют;\n",
    "* Нет статистически значимого различия по среднему чеку между группами ни по «сырым», ни по данным после фильтрации аномалий;\n",
    "* График относительного изменения кумулятивной конверсии группы B к группе A сообщает, что группа B лидирует по конверсии почти с самого начала теста;\n",
    "* График относительного изменения кумулятивного среднего чека группы B к группе A сообщает, что результаты группы B со второй половины теста гораздо лучше результатов группы A."
   ]
  },
  {
   "cell_type": "markdown",
   "metadata": {},
   "source": [
    "Исходя из полученных фактов, мы можем остановить тест и зафиксировать победу группы B. Поскольку мы выявили статистически значимые различия по конверсии и группа B лидирует, то использование идей примененных для теста группы B позволит бизнесу получить бо́льшую выручку. Отсутствие различий по среднему чеку означает, что поведение клиентов в обоих тетсовых группах примерно одинаково."
   ]
  },
  {
   "cell_type": "markdown",
   "metadata": {},
   "source": [
    "## Общий вывод"
   ]
  },
  {
   "cell_type": "markdown",
   "metadata": {},
   "source": [
    "В нашем исследовании мы приоритизировали гипотезы по увеличению выручки крупного интернет-магазина и проанализировали результаты A/B-теста. Мы изучили данные о 9 выдвинутых гипотезах и воспользовались двумя фреймворками `ICE` и `RICE` для их приоритизации. В итоге мы определили наиболее перспективные гипотезы по увеличению выручки из предложенных и увидели, как влияет параметр Reach (охват пользователей) на приоритет каждой гипотезы. "
   ]
  },
  {
   "cell_type": "markdown",
   "metadata": {},
   "source": [
    "В рамках анализа A/B-теста мы исследовали графики относительного изменения конверсии и среднего чека группы B к группе A, выявили аномальных пользователей и подсчитали статистическую значимость различий в конверсии и среднем чеке по \"сырым\" данным и по данным, очищенным от аномалий. Мы определили, что статистически значимые различия по конверсии между группами по сырым и по данным после фильтрации аномалий существуют, а так же что нет статистически значимого различия по среднему чеку между группами ни по «сырым», ни по данным после фильтрации аномалий. Эти факты позволили нам принять решение о том, что мы можем остановить тест и зафиксировать победу группы B. А использование идей, примененных для теста группы B позволит бизнесу получить бо́льшую выручку."
   ]
  }
 ],
 "metadata": {
  "ExecuteTimeLog": [
   {
    "duration": 894,
    "start_time": "2022-02-23T16:19:28.673Z"
   },
   {
    "duration": 51,
    "start_time": "2022-02-23T16:19:32.014Z"
   },
   {
    "duration": 334,
    "start_time": "2022-02-23T16:20:14.836Z"
   },
   {
    "duration": 28,
    "start_time": "2022-02-23T16:20:24.896Z"
   },
   {
    "duration": 24,
    "start_time": "2022-02-23T16:20:38.929Z"
   },
   {
    "duration": 380,
    "start_time": "2022-02-23T16:23:00.011Z"
   },
   {
    "duration": 347,
    "start_time": "2022-02-23T16:23:16.347Z"
   },
   {
    "duration": 245,
    "start_time": "2022-02-23T16:23:23.883Z"
   },
   {
    "duration": 914,
    "start_time": "2022-02-23T16:23:34.155Z"
   },
   {
    "duration": 26,
    "start_time": "2022-02-23T16:23:35.071Z"
   },
   {
    "duration": 23,
    "start_time": "2022-02-23T16:23:50.876Z"
   },
   {
    "duration": 416,
    "start_time": "2022-02-23T16:24:00.826Z"
   },
   {
    "duration": 5,
    "start_time": "2022-02-23T16:25:56.467Z"
   },
   {
    "duration": 5,
    "start_time": "2022-02-23T16:26:19.921Z"
   },
   {
    "duration": 906,
    "start_time": "2022-02-23T16:26:54.169Z"
   },
   {
    "duration": 70,
    "start_time": "2022-02-23T16:26:55.078Z"
   },
   {
    "duration": 3,
    "start_time": "2022-02-23T16:26:55.151Z"
   },
   {
    "duration": 24,
    "start_time": "2022-02-23T16:26:55.156Z"
   },
   {
    "duration": 440,
    "start_time": "2022-02-23T17:20:50.711Z"
   },
   {
    "duration": 10,
    "start_time": "2022-02-23T17:21:23.623Z"
   },
   {
    "duration": 23,
    "start_time": "2022-02-23T17:21:41.620Z"
   },
   {
    "duration": 4,
    "start_time": "2022-02-23T17:27:30.813Z"
   },
   {
    "duration": 5,
    "start_time": "2022-02-23T17:28:30.426Z"
   },
   {
    "duration": 99,
    "start_time": "2022-02-23T17:42:40.665Z"
   },
   {
    "duration": 8,
    "start_time": "2022-02-23T17:42:47.875Z"
   },
   {
    "duration": 10,
    "start_time": "2022-02-23T17:42:56.241Z"
   },
   {
    "duration": 6,
    "start_time": "2022-02-23T17:51:26.537Z"
   },
   {
    "duration": 44,
    "start_time": "2022-02-23T19:05:55.542Z"
   },
   {
    "duration": 24,
    "start_time": "2022-02-23T19:06:01.009Z"
   },
   {
    "duration": 43,
    "start_time": "2022-02-23T19:07:39.739Z"
   },
   {
    "duration": 24,
    "start_time": "2022-02-23T19:07:41.447Z"
   },
   {
    "duration": 21,
    "start_time": "2022-02-23T19:07:54.134Z"
   },
   {
    "duration": 23,
    "start_time": "2022-02-23T19:08:01.935Z"
   },
   {
    "duration": 1516,
    "start_time": "2022-02-23T19:08:17.207Z"
   },
   {
    "duration": 23,
    "start_time": "2022-02-23T19:08:40.113Z"
   },
   {
    "duration": 8,
    "start_time": "2022-02-23T19:14:30.337Z"
   },
   {
    "duration": 8,
    "start_time": "2022-02-23T19:14:33.865Z"
   },
   {
    "duration": 17,
    "start_time": "2022-02-23T19:23:53.774Z"
   },
   {
    "duration": 6,
    "start_time": "2022-02-23T19:24:16.740Z"
   },
   {
    "duration": 277,
    "start_time": "2022-02-23T19:25:29.944Z"
   },
   {
    "duration": 7,
    "start_time": "2022-02-23T19:25:50.997Z"
   },
   {
    "duration": 8,
    "start_time": "2022-02-23T19:26:44.048Z"
   },
   {
    "duration": 6,
    "start_time": "2022-02-23T19:26:48.765Z"
   },
   {
    "duration": 937,
    "start_time": "2022-02-23T19:28:08.637Z"
   },
   {
    "duration": 31,
    "start_time": "2022-02-23T19:28:09.576Z"
   },
   {
    "duration": 9,
    "start_time": "2022-02-23T19:28:09.609Z"
   },
   {
    "duration": 9,
    "start_time": "2022-02-23T19:28:09.620Z"
   },
   {
    "duration": 45,
    "start_time": "2022-02-23T19:28:09.631Z"
   },
   {
    "duration": 22,
    "start_time": "2022-02-23T19:28:09.678Z"
   },
   {
    "duration": 5,
    "start_time": "2022-02-23T19:28:09.702Z"
   },
   {
    "duration": 9,
    "start_time": "2022-02-23T19:28:09.709Z"
   },
   {
    "duration": 7,
    "start_time": "2022-02-23T19:28:09.719Z"
   },
   {
    "duration": 6,
    "start_time": "2022-02-23T19:29:17.192Z"
   },
   {
    "duration": 8,
    "start_time": "2022-02-23T19:36:54.308Z"
   },
   {
    "duration": 8,
    "start_time": "2022-02-23T19:37:09.448Z"
   },
   {
    "duration": 295,
    "start_time": "2022-02-23T19:38:00.592Z"
   },
   {
    "duration": 7273,
    "start_time": "2022-02-23T19:41:46.074Z"
   },
   {
    "duration": 7,
    "start_time": "2022-02-23T19:42:03.875Z"
   },
   {
    "duration": 161,
    "start_time": "2022-02-23T19:42:28.145Z"
   },
   {
    "duration": 99,
    "start_time": "2022-02-23T19:55:02.715Z"
   },
   {
    "duration": 92,
    "start_time": "2022-02-23T19:55:11.221Z"
   },
   {
    "duration": 764,
    "start_time": "2022-02-23T19:55:18.308Z"
   },
   {
    "duration": 1072,
    "start_time": "2022-02-23T19:56:36.522Z"
   },
   {
    "duration": 304,
    "start_time": "2022-02-23T19:57:00.262Z"
   },
   {
    "duration": 334,
    "start_time": "2022-02-23T19:57:46.289Z"
   },
   {
    "duration": 272,
    "start_time": "2022-02-23T19:58:36.416Z"
   },
   {
    "duration": 281,
    "start_time": "2022-02-23T19:58:45.350Z"
   },
   {
    "duration": 8,
    "start_time": "2022-02-23T19:58:53.584Z"
   },
   {
    "duration": 283,
    "start_time": "2022-02-23T19:58:58.717Z"
   },
   {
    "duration": 323,
    "start_time": "2022-02-23T19:59:04.784Z"
   },
   {
    "duration": 190,
    "start_time": "2022-02-23T19:59:29.127Z"
   },
   {
    "duration": 5043,
    "start_time": "2022-02-23T19:59:37.544Z"
   },
   {
    "duration": 5188,
    "start_time": "2022-02-23T19:59:43.196Z"
   },
   {
    "duration": 227,
    "start_time": "2022-02-23T20:00:00.550Z"
   },
   {
    "duration": 296,
    "start_time": "2022-02-23T20:00:13.385Z"
   },
   {
    "duration": 14,
    "start_time": "2022-02-23T20:00:39.012Z"
   },
   {
    "duration": 11,
    "start_time": "2022-02-23T20:00:49.056Z"
   },
   {
    "duration": 7,
    "start_time": "2022-02-23T20:00:58.334Z"
   },
   {
    "duration": 8,
    "start_time": "2022-02-23T20:01:14.118Z"
   },
   {
    "duration": 93,
    "start_time": "2022-02-23T20:10:13.554Z"
   },
   {
    "duration": 900,
    "start_time": "2022-02-23T20:53:27.770Z"
   },
   {
    "duration": 30,
    "start_time": "2022-02-23T20:53:28.671Z"
   },
   {
    "duration": 12,
    "start_time": "2022-02-23T20:53:28.703Z"
   },
   {
    "duration": 12,
    "start_time": "2022-02-23T20:53:28.717Z"
   },
   {
    "duration": 67,
    "start_time": "2022-02-23T20:53:28.731Z"
   },
   {
    "duration": 24,
    "start_time": "2022-02-23T20:53:28.800Z"
   },
   {
    "duration": 5,
    "start_time": "2022-02-23T20:53:28.826Z"
   },
   {
    "duration": 11,
    "start_time": "2022-02-23T20:53:28.833Z"
   },
   {
    "duration": 6,
    "start_time": "2022-02-23T20:53:28.846Z"
   },
   {
    "duration": 265,
    "start_time": "2022-02-23T20:53:28.854Z"
   },
   {
    "duration": 872,
    "start_time": "2022-02-23T20:54:50.099Z"
   },
   {
    "duration": 28,
    "start_time": "2022-02-23T20:54:50.972Z"
   },
   {
    "duration": 10,
    "start_time": "2022-02-23T20:54:51.002Z"
   },
   {
    "duration": 9,
    "start_time": "2022-02-23T20:54:51.013Z"
   },
   {
    "duration": 65,
    "start_time": "2022-02-23T20:54:51.024Z"
   },
   {
    "duration": 21,
    "start_time": "2022-02-23T20:54:51.091Z"
   },
   {
    "duration": 8,
    "start_time": "2022-02-23T20:54:51.114Z"
   },
   {
    "duration": 255,
    "start_time": "2022-02-23T20:54:51.124Z"
   },
   {
    "duration": 13,
    "start_time": "2022-02-23T21:13:22.974Z"
   },
   {
    "duration": 10,
    "start_time": "2022-02-23T21:13:58.934Z"
   },
   {
    "duration": 10,
    "start_time": "2022-02-23T21:49:27.017Z"
   },
   {
    "duration": 90,
    "start_time": "2022-02-23T21:59:55.509Z"
   },
   {
    "duration": 103,
    "start_time": "2022-02-23T22:00:04.547Z"
   },
   {
    "duration": 136,
    "start_time": "2022-02-23T22:00:17.132Z"
   },
   {
    "duration": 176,
    "start_time": "2022-02-23T22:00:33.769Z"
   },
   {
    "duration": 179,
    "start_time": "2022-02-23T22:03:14.899Z"
   },
   {
    "duration": 151,
    "start_time": "2022-02-23T22:05:32.449Z"
   },
   {
    "duration": 6,
    "start_time": "2022-02-23T22:07:33.400Z"
   },
   {
    "duration": 15,
    "start_time": "2022-02-23T22:07:41.033Z"
   },
   {
    "duration": 13,
    "start_time": "2022-02-23T22:09:46.473Z"
   },
   {
    "duration": 1054,
    "start_time": "2022-02-23T22:12:18.119Z"
   },
   {
    "duration": 36,
    "start_time": "2022-02-23T22:12:19.174Z"
   },
   {
    "duration": 13,
    "start_time": "2022-02-23T22:12:19.211Z"
   },
   {
    "duration": 10,
    "start_time": "2022-02-23T22:12:19.225Z"
   },
   {
    "duration": 52,
    "start_time": "2022-02-23T22:12:19.236Z"
   },
   {
    "duration": 23,
    "start_time": "2022-02-23T22:12:19.289Z"
   },
   {
    "duration": 9,
    "start_time": "2022-02-23T22:12:19.313Z"
   },
   {
    "duration": 154,
    "start_time": "2022-02-23T22:12:19.325Z"
   },
   {
    "duration": 9,
    "start_time": "2022-02-23T22:12:19.481Z"
   },
   {
    "duration": 184,
    "start_time": "2022-02-23T22:12:19.491Z"
   },
   {
    "duration": 152,
    "start_time": "2022-02-23T22:12:19.677Z"
   },
   {
    "duration": 16,
    "start_time": "2022-02-23T22:12:19.831Z"
   },
   {
    "duration": 12,
    "start_time": "2022-02-23T22:26:57.596Z"
   },
   {
    "duration": 177,
    "start_time": "2022-02-23T22:29:20.325Z"
   },
   {
    "duration": 536,
    "start_time": "2022-02-23T22:31:11.563Z"
   },
   {
    "duration": 314,
    "start_time": "2022-02-23T22:31:41.116Z"
   },
   {
    "duration": 309,
    "start_time": "2022-02-23T22:31:50.585Z"
   },
   {
    "duration": 169,
    "start_time": "2022-02-23T22:31:59.809Z"
   },
   {
    "duration": 351,
    "start_time": "2022-02-23T22:34:03.379Z"
   },
   {
    "duration": 428,
    "start_time": "2022-02-23T22:34:21.381Z"
   },
   {
    "duration": 237,
    "start_time": "2022-02-23T22:35:30.348Z"
   },
   {
    "duration": 216,
    "start_time": "2022-02-23T22:35:46.731Z"
   },
   {
    "duration": 571,
    "start_time": "2022-02-23T22:39:35.083Z"
   },
   {
    "duration": 223,
    "start_time": "2022-02-23T22:39:42.917Z"
   },
   {
    "duration": 229,
    "start_time": "2022-02-23T22:40:22.419Z"
   },
   {
    "duration": 221,
    "start_time": "2022-02-23T22:40:29.702Z"
   },
   {
    "duration": 321,
    "start_time": "2022-02-23T22:55:54.800Z"
   },
   {
    "duration": 206,
    "start_time": "2022-02-23T22:56:27.608Z"
   },
   {
    "duration": 322,
    "start_time": "2022-02-23T22:56:40.829Z"
   },
   {
    "duration": 207,
    "start_time": "2022-02-23T22:57:09.116Z"
   },
   {
    "duration": 292,
    "start_time": "2022-02-23T23:14:57.395Z"
   },
   {
    "duration": 13,
    "start_time": "2022-02-23T23:15:29.254Z"
   },
   {
    "duration": 319,
    "start_time": "2022-02-23T23:21:16.500Z"
   },
   {
    "duration": 14,
    "start_time": "2022-02-23T23:37:53.990Z"
   },
   {
    "duration": 216,
    "start_time": "2022-02-23T23:40:05.494Z"
   },
   {
    "duration": 222,
    "start_time": "2022-02-23T23:46:00.601Z"
   },
   {
    "duration": 214,
    "start_time": "2022-02-23T23:59:47.834Z"
   },
   {
    "duration": 296,
    "start_time": "2022-02-24T00:00:55.465Z"
   },
   {
    "duration": 316,
    "start_time": "2022-02-24T00:01:35.187Z"
   },
   {
    "duration": 98,
    "start_time": "2022-02-24T00:33:40.488Z"
   },
   {
    "duration": 95,
    "start_time": "2022-02-24T00:35:20.180Z"
   },
   {
    "duration": 139,
    "start_time": "2022-02-24T00:43:20.652Z"
   },
   {
    "duration": 137,
    "start_time": "2022-02-24T00:43:27.337Z"
   },
   {
    "duration": 270,
    "start_time": "2022-02-24T00:45:31.811Z"
   },
   {
    "duration": 272,
    "start_time": "2022-02-24T00:45:39.015Z"
   },
   {
    "duration": 4,
    "start_time": "2022-02-24T01:01:35.373Z"
   },
   {
    "duration": 4,
    "start_time": "2022-02-24T01:01:53.580Z"
   },
   {
    "duration": 4,
    "start_time": "2022-02-24T01:02:37.957Z"
   },
   {
    "duration": 110,
    "start_time": "2022-02-24T01:18:46.013Z"
   },
   {
    "duration": 301,
    "start_time": "2022-02-24T01:20:35.026Z"
   },
   {
    "duration": 242,
    "start_time": "2022-02-24T01:20:39.994Z"
   },
   {
    "duration": 152,
    "start_time": "2022-02-24T01:21:14.000Z"
   },
   {
    "duration": 148,
    "start_time": "2022-02-24T01:21:19.867Z"
   },
   {
    "duration": 4,
    "start_time": "2022-02-24T01:29:35.847Z"
   },
   {
    "duration": 10,
    "start_time": "2022-02-24T01:53:39.821Z"
   },
   {
    "duration": 4,
    "start_time": "2022-02-24T01:55:28.479Z"
   },
   {
    "duration": 59,
    "start_time": "2022-02-24T01:58:14.847Z"
   },
   {
    "duration": 57,
    "start_time": "2022-02-24T01:59:45.584Z"
   },
   {
    "duration": 107,
    "start_time": "2022-02-24T02:00:59.888Z"
   },
   {
    "duration": 108,
    "start_time": "2022-02-24T02:01:30.678Z"
   },
   {
    "duration": 105,
    "start_time": "2022-02-24T02:01:51.616Z"
   },
   {
    "duration": 406,
    "start_time": "2022-02-24T02:05:31.131Z"
   },
   {
    "duration": 473,
    "start_time": "2022-02-24T02:06:39.864Z"
   },
   {
    "duration": 222,
    "start_time": "2022-02-24T02:07:30.058Z"
   },
   {
    "duration": 233,
    "start_time": "2022-02-24T02:07:42.445Z"
   },
   {
    "duration": 226,
    "start_time": "2022-02-24T02:10:33.059Z"
   },
   {
    "duration": 234,
    "start_time": "2022-02-24T02:13:18.488Z"
   },
   {
    "duration": 230,
    "start_time": "2022-02-24T02:14:11.455Z"
   },
   {
    "duration": 26,
    "start_time": "2022-02-24T02:17:21.578Z"
   },
   {
    "duration": 29,
    "start_time": "2022-02-24T02:17:31.131Z"
   },
   {
    "duration": 297,
    "start_time": "2022-02-24T02:20:27.411Z"
   },
   {
    "duration": 112,
    "start_time": "2022-02-24T02:22:00.048Z"
   },
   {
    "duration": 104,
    "start_time": "2022-02-24T02:22:16.319Z"
   },
   {
    "duration": 99,
    "start_time": "2022-02-24T02:22:22.002Z"
   },
   {
    "duration": 112,
    "start_time": "2022-02-24T02:22:36.454Z"
   },
   {
    "duration": 100,
    "start_time": "2022-02-24T02:22:46.089Z"
   },
   {
    "duration": 99,
    "start_time": "2022-02-24T02:23:36.786Z"
   },
   {
    "duration": 152,
    "start_time": "2022-02-24T02:24:24.159Z"
   },
   {
    "duration": 103,
    "start_time": "2022-02-24T02:24:37.453Z"
   },
   {
    "duration": 99,
    "start_time": "2022-02-24T02:24:51.889Z"
   },
   {
    "duration": 301,
    "start_time": "2022-02-24T02:33:21.598Z"
   },
   {
    "duration": 103,
    "start_time": "2022-02-24T02:33:31.050Z"
   },
   {
    "duration": 5,
    "start_time": "2022-02-24T02:33:36.149Z"
   },
   {
    "duration": 5,
    "start_time": "2022-02-24T02:33:52.219Z"
   },
   {
    "duration": 5,
    "start_time": "2022-02-24T02:33:59.137Z"
   },
   {
    "duration": 6,
    "start_time": "2022-02-24T02:50:55.528Z"
   },
   {
    "duration": 4,
    "start_time": "2022-02-24T02:54:11.601Z"
   },
   {
    "duration": 7,
    "start_time": "2022-02-24T02:55:56.937Z"
   },
   {
    "duration": 3,
    "start_time": "2022-02-24T02:56:00.471Z"
   },
   {
    "duration": 1034,
    "start_time": "2022-02-24T02:58:14.130Z"
   },
   {
    "duration": 37,
    "start_time": "2022-02-24T02:58:15.166Z"
   },
   {
    "duration": 9,
    "start_time": "2022-02-24T02:58:15.205Z"
   },
   {
    "duration": 9,
    "start_time": "2022-02-24T02:58:15.215Z"
   },
   {
    "duration": 54,
    "start_time": "2022-02-24T02:58:15.225Z"
   },
   {
    "duration": 22,
    "start_time": "2022-02-24T02:58:15.281Z"
   },
   {
    "duration": 6,
    "start_time": "2022-02-24T02:58:15.305Z"
   },
   {
    "duration": 155,
    "start_time": "2022-02-24T02:58:15.313Z"
   },
   {
    "duration": 9,
    "start_time": "2022-02-24T02:58:15.470Z"
   },
   {
    "duration": 183,
    "start_time": "2022-02-24T02:58:15.481Z"
   },
   {
    "duration": 148,
    "start_time": "2022-02-24T02:58:15.665Z"
   },
   {
    "duration": 11,
    "start_time": "2022-02-24T02:58:15.814Z"
   },
   {
    "duration": 229,
    "start_time": "2022-02-24T02:58:15.826Z"
   },
   {
    "duration": 220,
    "start_time": "2022-02-24T02:58:16.056Z"
   },
   {
    "duration": 330,
    "start_time": "2022-02-24T02:58:16.278Z"
   },
   {
    "duration": 231,
    "start_time": "2022-02-24T02:58:16.610Z"
   },
   {
    "duration": 366,
    "start_time": "2022-02-24T02:58:16.842Z"
   },
   {
    "duration": 106,
    "start_time": "2022-02-24T02:58:17.210Z"
   },
   {
    "duration": 299,
    "start_time": "2022-02-24T02:58:17.318Z"
   },
   {
    "duration": 3,
    "start_time": "2022-02-24T02:58:17.619Z"
   },
   {
    "duration": 304,
    "start_time": "2022-02-24T02:58:17.624Z"
   },
   {
    "duration": 16,
    "start_time": "2022-02-24T02:58:17.930Z"
   },
   {
    "duration": 275,
    "start_time": "2022-02-24T02:58:17.949Z"
   },
   {
    "duration": 29,
    "start_time": "2022-02-24T02:58:18.226Z"
   },
   {
    "duration": 109,
    "start_time": "2022-02-24T02:58:18.257Z"
   },
   {
    "duration": 6,
    "start_time": "2022-02-24T02:58:18.368Z"
   },
   {
    "duration": 8,
    "start_time": "2022-02-24T02:58:18.375Z"
   },
   {
    "duration": 6,
    "start_time": "2022-02-24T02:59:56.127Z"
   },
   {
    "duration": 112,
    "start_time": "2022-02-24T03:00:12.594Z"
   },
   {
    "duration": 97,
    "start_time": "2022-02-24T03:00:18.363Z"
   },
   {
    "duration": 6,
    "start_time": "2022-02-24T03:00:21.782Z"
   },
   {
    "duration": 126,
    "start_time": "2022-02-24T03:00:32.318Z"
   },
   {
    "duration": 98,
    "start_time": "2022-02-24T03:00:37.818Z"
   },
   {
    "duration": 6,
    "start_time": "2022-02-24T03:00:48.324Z"
   },
   {
    "duration": 408,
    "start_time": "2022-02-24T03:01:45.457Z"
   },
   {
    "duration": 102,
    "start_time": "2022-02-24T03:02:57.416Z"
   },
   {
    "duration": 101,
    "start_time": "2022-02-24T03:03:18.005Z"
   },
   {
    "duration": 7,
    "start_time": "2022-02-24T03:03:23.538Z"
   },
   {
    "duration": 4,
    "start_time": "2022-02-24T03:03:27.739Z"
   },
   {
    "duration": 1053,
    "start_time": "2022-02-24T03:04:13.719Z"
   },
   {
    "duration": 26,
    "start_time": "2022-02-24T03:04:14.774Z"
   },
   {
    "duration": 9,
    "start_time": "2022-02-24T03:04:14.802Z"
   },
   {
    "duration": 9,
    "start_time": "2022-02-24T03:04:14.812Z"
   },
   {
    "duration": 59,
    "start_time": "2022-02-24T03:04:14.822Z"
   },
   {
    "duration": 23,
    "start_time": "2022-02-24T03:04:14.882Z"
   },
   {
    "duration": 6,
    "start_time": "2022-02-24T03:04:14.907Z"
   },
   {
    "duration": 155,
    "start_time": "2022-02-24T03:04:14.915Z"
   },
   {
    "duration": 10,
    "start_time": "2022-02-24T03:04:15.072Z"
   },
   {
    "duration": 192,
    "start_time": "2022-02-24T03:04:15.083Z"
   },
   {
    "duration": 151,
    "start_time": "2022-02-24T03:04:15.276Z"
   },
   {
    "duration": 19,
    "start_time": "2022-02-24T03:04:15.429Z"
   },
   {
    "duration": 221,
    "start_time": "2022-02-24T03:04:15.450Z"
   },
   {
    "duration": 322,
    "start_time": "2022-02-24T03:04:15.673Z"
   },
   {
    "duration": 313,
    "start_time": "2022-02-24T03:04:15.996Z"
   },
   {
    "duration": 242,
    "start_time": "2022-02-24T03:04:16.310Z"
   },
   {
    "duration": 342,
    "start_time": "2022-02-24T03:04:16.553Z"
   },
   {
    "duration": 104,
    "start_time": "2022-02-24T03:04:16.896Z"
   },
   {
    "duration": 217,
    "start_time": "2022-02-24T03:04:17.002Z"
   },
   {
    "duration": 24,
    "start_time": "2022-02-24T03:04:17.221Z"
   },
   {
    "duration": 288,
    "start_time": "2022-02-24T03:04:17.247Z"
   },
   {
    "duration": 10,
    "start_time": "2022-02-24T03:04:17.537Z"
   },
   {
    "duration": 286,
    "start_time": "2022-02-24T03:04:17.551Z"
   },
   {
    "duration": 25,
    "start_time": "2022-02-24T03:04:17.839Z"
   },
   {
    "duration": 111,
    "start_time": "2022-02-24T03:04:17.866Z"
   },
   {
    "duration": 7,
    "start_time": "2022-02-24T03:04:17.978Z"
   },
   {
    "duration": 3,
    "start_time": "2022-02-24T03:04:17.986Z"
   },
   {
    "duration": 310,
    "start_time": "2022-02-24T09:39:33.697Z"
   },
   {
    "duration": 974,
    "start_time": "2022-02-24T09:39:55.595Z"
   },
   {
    "duration": 27,
    "start_time": "2022-02-24T09:39:56.571Z"
   },
   {
    "duration": 12,
    "start_time": "2022-02-24T09:39:56.600Z"
   },
   {
    "duration": 10,
    "start_time": "2022-02-24T09:39:56.613Z"
   },
   {
    "duration": 62,
    "start_time": "2022-02-24T09:39:56.624Z"
   },
   {
    "duration": 26,
    "start_time": "2022-02-24T09:39:56.689Z"
   },
   {
    "duration": 7,
    "start_time": "2022-02-24T09:39:56.716Z"
   },
   {
    "duration": 159,
    "start_time": "2022-02-24T09:39:56.725Z"
   },
   {
    "duration": 10,
    "start_time": "2022-02-24T09:39:56.886Z"
   },
   {
    "duration": 198,
    "start_time": "2022-02-24T09:39:56.897Z"
   },
   {
    "duration": 161,
    "start_time": "2022-02-24T09:39:57.097Z"
   },
   {
    "duration": 12,
    "start_time": "2022-02-24T09:39:57.260Z"
   },
   {
    "duration": 245,
    "start_time": "2022-02-24T09:39:57.274Z"
   },
   {
    "duration": 245,
    "start_time": "2022-02-24T09:39:57.521Z"
   },
   {
    "duration": 339,
    "start_time": "2022-02-24T09:39:57.769Z"
   },
   {
    "duration": 244,
    "start_time": "2022-02-24T09:39:58.110Z"
   },
   {
    "duration": 346,
    "start_time": "2022-02-24T09:39:58.356Z"
   },
   {
    "duration": 99,
    "start_time": "2022-02-24T09:39:58.704Z"
   },
   {
    "duration": 285,
    "start_time": "2022-02-24T09:39:58.805Z"
   },
   {
    "duration": 4,
    "start_time": "2022-02-24T09:39:59.091Z"
   },
   {
    "duration": 304,
    "start_time": "2022-02-24T09:39:59.096Z"
   },
   {
    "duration": 4,
    "start_time": "2022-02-24T09:39:59.401Z"
   },
   {
    "duration": 308,
    "start_time": "2022-02-24T09:39:59.407Z"
   },
   {
    "duration": 35,
    "start_time": "2022-02-24T09:39:59.716Z"
   },
   {
    "duration": 123,
    "start_time": "2022-02-24T09:39:59.753Z"
   },
   {
    "duration": 7,
    "start_time": "2022-02-24T09:39:59.878Z"
   },
   {
    "duration": 367,
    "start_time": "2022-02-24T09:39:59.887Z"
   },
   {
    "duration": -652,
    "start_time": "2022-02-24T09:40:00.908Z"
   },
   {
    "duration": -653,
    "start_time": "2022-02-24T09:40:00.911Z"
   },
   {
    "duration": 15,
    "start_time": "2022-02-24T09:40:16.941Z"
   },
   {
    "duration": 1436,
    "start_time": "2022-02-24T09:40:40.536Z"
   },
   {
    "duration": 29,
    "start_time": "2022-02-24T09:40:41.974Z"
   },
   {
    "duration": 10,
    "start_time": "2022-02-24T09:40:42.005Z"
   },
   {
    "duration": 11,
    "start_time": "2022-02-24T09:40:42.016Z"
   },
   {
    "duration": 58,
    "start_time": "2022-02-24T09:40:42.032Z"
   },
   {
    "duration": 24,
    "start_time": "2022-02-24T09:40:42.091Z"
   },
   {
    "duration": 6,
    "start_time": "2022-02-24T09:40:42.117Z"
   },
   {
    "duration": 169,
    "start_time": "2022-02-24T09:40:42.125Z"
   },
   {
    "duration": 10,
    "start_time": "2022-02-24T09:40:42.297Z"
   },
   {
    "duration": 189,
    "start_time": "2022-02-24T09:40:42.309Z"
   },
   {
    "duration": 171,
    "start_time": "2022-02-24T09:40:42.499Z"
   },
   {
    "duration": 12,
    "start_time": "2022-02-24T09:40:42.671Z"
   },
   {
    "duration": 252,
    "start_time": "2022-02-24T09:40:42.684Z"
   },
   {
    "duration": 260,
    "start_time": "2022-02-24T09:40:42.938Z"
   },
   {
    "duration": 346,
    "start_time": "2022-02-24T09:40:43.200Z"
   },
   {
    "duration": 253,
    "start_time": "2022-02-24T09:40:43.548Z"
   },
   {
    "duration": 396,
    "start_time": "2022-02-24T09:40:43.802Z"
   },
   {
    "duration": 134,
    "start_time": "2022-02-24T09:40:44.200Z"
   },
   {
    "duration": 261,
    "start_time": "2022-02-24T09:40:44.336Z"
   },
   {
    "duration": 4,
    "start_time": "2022-02-24T09:40:44.598Z"
   },
   {
    "duration": 300,
    "start_time": "2022-02-24T09:40:44.603Z"
   },
   {
    "duration": 3,
    "start_time": "2022-02-24T09:40:44.905Z"
   },
   {
    "duration": 300,
    "start_time": "2022-02-24T09:40:44.910Z"
   },
   {
    "duration": 36,
    "start_time": "2022-02-24T09:40:45.212Z"
   },
   {
    "duration": 120,
    "start_time": "2022-02-24T09:40:45.249Z"
   },
   {
    "duration": 6,
    "start_time": "2022-02-24T09:40:45.371Z"
   },
   {
    "duration": 13,
    "start_time": "2022-02-24T09:40:45.381Z"
   },
   {
    "duration": 7,
    "start_time": "2022-02-24T09:40:45.396Z"
   },
   {
    "duration": 28,
    "start_time": "2022-02-24T09:40:45.405Z"
   },
   {
    "duration": 5,
    "start_time": "2022-02-24T09:43:39.347Z"
   },
   {
    "duration": 7,
    "start_time": "2022-02-24T09:43:40.247Z"
   },
   {
    "duration": 16,
    "start_time": "2022-02-24T09:48:31.638Z"
   },
   {
    "duration": 4,
    "start_time": "2022-02-24T10:03:38.981Z"
   },
   {
    "duration": 5,
    "start_time": "2022-02-24T10:03:56.531Z"
   },
   {
    "duration": 343,
    "start_time": "2022-02-24T10:04:54.076Z"
   },
   {
    "duration": 8,
    "start_time": "2022-02-24T10:05:00.627Z"
   },
   {
    "duration": 4,
    "start_time": "2022-02-24T10:05:14.164Z"
   },
   {
    "duration": 4,
    "start_time": "2022-02-24T10:05:41.193Z"
   },
   {
    "duration": 89,
    "start_time": "2022-02-24T10:06:09.502Z"
   },
   {
    "duration": 89,
    "start_time": "2022-02-24T10:06:49.809Z"
   },
   {
    "duration": 132,
    "start_time": "2022-02-24T10:07:17.821Z"
   },
   {
    "duration": 4,
    "start_time": "2022-02-24T10:07:22.517Z"
   },
   {
    "duration": 3,
    "start_time": "2022-02-24T10:07:26.270Z"
   },
   {
    "duration": 4,
    "start_time": "2022-02-24T10:07:51.679Z"
   },
   {
    "duration": 5,
    "start_time": "2022-02-24T10:07:56.845Z"
   },
   {
    "duration": 6,
    "start_time": "2022-02-24T10:08:15.816Z"
   },
   {
    "duration": 7,
    "start_time": "2022-02-24T10:08:19.966Z"
   },
   {
    "duration": 5,
    "start_time": "2022-02-24T10:09:03.844Z"
   },
   {
    "duration": 4,
    "start_time": "2022-02-24T10:09:19.519Z"
   },
   {
    "duration": 5,
    "start_time": "2022-02-24T10:09:38.188Z"
   },
   {
    "duration": 5,
    "start_time": "2022-02-24T10:09:46.824Z"
   },
   {
    "duration": 7,
    "start_time": "2022-02-24T10:13:52.280Z"
   },
   {
    "duration": 6,
    "start_time": "2022-02-24T10:15:41.650Z"
   },
   {
    "duration": 5,
    "start_time": "2022-02-24T10:16:55.889Z"
   },
   {
    "duration": 56,
    "start_time": "2022-02-24T10:24:12.864Z"
   },
   {
    "duration": 277,
    "start_time": "2022-02-24T10:25:04.754Z"
   },
   {
    "duration": 348,
    "start_time": "2022-02-24T10:25:11.172Z"
   },
   {
    "duration": 265,
    "start_time": "2022-02-24T10:25:17.056Z"
   },
   {
    "duration": 6,
    "start_time": "2022-02-24T10:25:37.601Z"
   },
   {
    "duration": 10,
    "start_time": "2022-02-24T11:07:33.791Z"
   },
   {
    "duration": 7764,
    "start_time": "2022-02-24T11:26:01.377Z"
   },
   {
    "duration": 4,
    "start_time": "2022-02-24T11:26:45.088Z"
   },
   {
    "duration": 6,
    "start_time": "2022-02-24T11:27:00.359Z"
   },
   {
    "duration": 7,
    "start_time": "2022-02-24T11:27:13.130Z"
   },
   {
    "duration": 8,
    "start_time": "2022-02-24T11:28:33.366Z"
   },
   {
    "duration": 6,
    "start_time": "2022-02-24T11:28:50.187Z"
   },
   {
    "duration": 9,
    "start_time": "2022-02-24T11:29:58.217Z"
   },
   {
    "duration": 6,
    "start_time": "2022-02-24T11:30:04.286Z"
   },
   {
    "duration": 6,
    "start_time": "2022-02-24T11:30:49.747Z"
   },
   {
    "duration": 6,
    "start_time": "2022-02-24T11:31:24.341Z"
   },
   {
    "duration": 9,
    "start_time": "2022-02-24T11:33:39.350Z"
   },
   {
    "duration": 7,
    "start_time": "2022-02-24T11:34:24.510Z"
   },
   {
    "duration": 9,
    "start_time": "2022-02-24T11:52:19.391Z"
   },
   {
    "duration": 7,
    "start_time": "2022-02-24T11:54:05.231Z"
   },
   {
    "duration": 13,
    "start_time": "2022-02-24T12:11:32.106Z"
   },
   {
    "duration": 1080,
    "start_time": "2022-02-24T15:30:53.708Z"
   },
   {
    "duration": 22,
    "start_time": "2022-02-24T15:30:54.790Z"
   },
   {
    "duration": 19,
    "start_time": "2022-02-24T15:30:54.814Z"
   },
   {
    "duration": 10,
    "start_time": "2022-02-24T15:30:54.835Z"
   },
   {
    "duration": 39,
    "start_time": "2022-02-24T15:30:54.847Z"
   },
   {
    "duration": 18,
    "start_time": "2022-02-24T15:30:54.887Z"
   },
   {
    "duration": 7,
    "start_time": "2022-02-24T15:30:54.907Z"
   },
   {
    "duration": 186,
    "start_time": "2022-02-24T15:30:54.917Z"
   },
   {
    "duration": 10,
    "start_time": "2022-02-24T15:30:55.105Z"
   },
   {
    "duration": 207,
    "start_time": "2022-02-24T15:30:55.117Z"
   },
   {
    "duration": 165,
    "start_time": "2022-02-24T15:30:55.326Z"
   },
   {
    "duration": 12,
    "start_time": "2022-02-24T15:30:55.492Z"
   },
   {
    "duration": 252,
    "start_time": "2022-02-24T15:30:55.506Z"
   },
   {
    "duration": 246,
    "start_time": "2022-02-24T15:30:55.760Z"
   },
   {
    "duration": 390,
    "start_time": "2022-02-24T15:30:56.008Z"
   },
   {
    "duration": 248,
    "start_time": "2022-02-24T15:30:56.400Z"
   },
   {
    "duration": 366,
    "start_time": "2022-02-24T15:30:56.650Z"
   },
   {
    "duration": 98,
    "start_time": "2022-02-24T15:30:57.018Z"
   },
   {
    "duration": 306,
    "start_time": "2022-02-24T15:30:57.117Z"
   },
   {
    "duration": 8,
    "start_time": "2022-02-24T15:30:57.425Z"
   },
   {
    "duration": 305,
    "start_time": "2022-02-24T15:30:57.434Z"
   },
   {
    "duration": 4,
    "start_time": "2022-02-24T15:30:57.740Z"
   },
   {
    "duration": 318,
    "start_time": "2022-02-24T15:30:57.747Z"
   },
   {
    "duration": 31,
    "start_time": "2022-02-24T15:30:58.067Z"
   },
   {
    "duration": 121,
    "start_time": "2022-02-24T15:30:58.100Z"
   },
   {
    "duration": 7,
    "start_time": "2022-02-24T15:30:58.223Z"
   },
   {
    "duration": 13,
    "start_time": "2022-02-24T15:30:58.232Z"
   },
   {
    "duration": 7,
    "start_time": "2022-02-24T15:30:58.247Z"
   },
   {
    "duration": 9,
    "start_time": "2022-02-24T15:30:58.256Z"
   },
   {
    "duration": 10,
    "start_time": "2022-02-24T15:30:58.266Z"
   },
   {
    "duration": 13,
    "start_time": "2022-02-24T15:30:58.277Z"
   },
   {
    "duration": 44,
    "start_time": "2022-02-24T15:30:58.292Z"
   },
   {
    "duration": 1351,
    "start_time": "2022-02-24T15:41:09.335Z"
   },
   {
    "duration": 837,
    "start_time": "2022-02-24T15:41:10.689Z"
   },
   {
    "duration": -531,
    "start_time": "2022-02-24T15:41:12.063Z"
   },
   {
    "duration": -531,
    "start_time": "2022-02-24T15:41:12.065Z"
   },
   {
    "duration": -533,
    "start_time": "2022-02-24T15:41:12.069Z"
   },
   {
    "duration": -534,
    "start_time": "2022-02-24T15:41:12.072Z"
   },
   {
    "duration": -572,
    "start_time": "2022-02-24T15:41:12.113Z"
   },
   {
    "duration": -574,
    "start_time": "2022-02-24T15:41:12.117Z"
   },
   {
    "duration": -576,
    "start_time": "2022-02-24T15:41:12.121Z"
   },
   {
    "duration": -669,
    "start_time": "2022-02-24T15:41:12.216Z"
   },
   {
    "duration": -713,
    "start_time": "2022-02-24T15:41:12.263Z"
   },
   {
    "duration": -714,
    "start_time": "2022-02-24T15:41:12.266Z"
   },
   {
    "duration": -715,
    "start_time": "2022-02-24T15:41:12.269Z"
   },
   {
    "duration": -716,
    "start_time": "2022-02-24T15:41:12.273Z"
   },
   {
    "duration": -749,
    "start_time": "2022-02-24T15:41:12.308Z"
   },
   {
    "duration": -751,
    "start_time": "2022-02-24T15:41:12.312Z"
   },
   {
    "duration": -751,
    "start_time": "2022-02-24T15:41:12.315Z"
   },
   {
    "duration": -751,
    "start_time": "2022-02-24T15:41:12.317Z"
   },
   {
    "duration": -753,
    "start_time": "2022-02-24T15:41:12.321Z"
   },
   {
    "duration": -759,
    "start_time": "2022-02-24T15:41:12.329Z"
   },
   {
    "duration": -760,
    "start_time": "2022-02-24T15:41:12.332Z"
   },
   {
    "duration": -726,
    "start_time": "2022-02-24T15:41:12.336Z"
   },
   {
    "duration": -727,
    "start_time": "2022-02-24T15:41:12.339Z"
   },
   {
    "duration": -743,
    "start_time": "2022-02-24T15:41:12.357Z"
   },
   {
    "duration": -744,
    "start_time": "2022-02-24T15:41:12.360Z"
   },
   {
    "duration": -745,
    "start_time": "2022-02-24T15:41:12.363Z"
   },
   {
    "duration": -746,
    "start_time": "2022-02-24T15:41:12.366Z"
   },
   {
    "duration": -746,
    "start_time": "2022-02-24T15:41:12.369Z"
   },
   {
    "duration": -747,
    "start_time": "2022-02-24T15:41:12.372Z"
   },
   {
    "duration": -749,
    "start_time": "2022-02-24T15:41:12.376Z"
   },
   {
    "duration": -777,
    "start_time": "2022-02-24T15:41:12.406Z"
   },
   {
    "duration": -779,
    "start_time": "2022-02-24T15:41:12.410Z"
   },
   {
    "duration": 4,
    "start_time": "2022-02-24T15:41:51.993Z"
   },
   {
    "duration": 69,
    "start_time": "2022-02-24T15:41:53.782Z"
   },
   {
    "duration": 117,
    "start_time": "2022-02-24T16:39:02.824Z"
   },
   {
    "duration": 2189,
    "start_time": "2022-02-24T16:40:46.584Z"
   },
   {
    "duration": 40,
    "start_time": "2022-02-24T16:40:48.776Z"
   },
   {
    "duration": 21,
    "start_time": "2022-02-24T16:40:48.820Z"
   },
   {
    "duration": 17,
    "start_time": "2022-02-24T16:40:48.844Z"
   },
   {
    "duration": 128,
    "start_time": "2022-02-24T16:40:48.864Z"
   },
   {
    "duration": 69,
    "start_time": "2022-02-24T16:40:48.996Z"
   },
   {
    "duration": 10,
    "start_time": "2022-02-24T16:40:49.068Z"
   },
   {
    "duration": 360,
    "start_time": "2022-02-24T16:40:49.082Z"
   },
   {
    "duration": 69,
    "start_time": "2022-02-24T16:40:49.445Z"
   },
   {
    "duration": 638,
    "start_time": "2022-02-24T16:40:49.516Z"
   },
   {
    "duration": 613,
    "start_time": "2022-02-24T16:40:50.157Z"
   },
   {
    "duration": 37,
    "start_time": "2022-02-24T16:40:50.773Z"
   },
   {
    "duration": 421,
    "start_time": "2022-02-24T16:40:50.813Z"
   },
   {
    "duration": 413,
    "start_time": "2022-02-24T16:40:51.237Z"
   },
   {
    "duration": 504,
    "start_time": "2022-02-24T16:40:51.653Z"
   },
   {
    "duration": 427,
    "start_time": "2022-02-24T16:40:52.160Z"
   },
   {
    "duration": 553,
    "start_time": "2022-02-24T16:40:52.590Z"
   },
   {
    "duration": 241,
    "start_time": "2022-02-24T16:40:53.146Z"
   },
   {
    "duration": 516,
    "start_time": "2022-02-24T16:40:53.390Z"
   },
   {
    "duration": 7,
    "start_time": "2022-02-24T16:40:53.912Z"
   },
   {
    "duration": 541,
    "start_time": "2022-02-24T16:40:53.922Z"
   },
   {
    "duration": 7,
    "start_time": "2022-02-24T16:40:54.466Z"
   },
   {
    "duration": 869,
    "start_time": "2022-02-24T16:40:54.480Z"
   },
   {
    "duration": 98,
    "start_time": "2022-02-24T16:40:55.352Z"
   },
   {
    "duration": 409,
    "start_time": "2022-02-24T16:40:55.453Z"
   },
   {
    "duration": 12,
    "start_time": "2022-02-24T16:40:55.866Z"
   },
   {
    "duration": 37,
    "start_time": "2022-02-24T16:40:55.881Z"
   },
   {
    "duration": 9,
    "start_time": "2022-02-24T16:40:55.920Z"
   },
   {
    "duration": 14,
    "start_time": "2022-02-24T16:40:55.932Z"
   },
   {
    "duration": 12,
    "start_time": "2022-02-24T16:40:55.948Z"
   },
   {
    "duration": 50,
    "start_time": "2022-02-24T16:40:55.963Z"
   },
   {
    "duration": 33,
    "start_time": "2022-02-24T16:40:56.016Z"
   },
   {
    "duration": 459,
    "start_time": "2022-02-24T16:42:02.233Z"
   },
   {
    "duration": 341,
    "start_time": "2022-02-24T16:42:12.740Z"
   },
   {
    "duration": 788,
    "start_time": "2022-02-24T16:43:08.473Z"
   },
   {
    "duration": 10169,
    "start_time": "2022-02-24T16:43:29.079Z"
   },
   {
    "duration": 588,
    "start_time": "2022-02-24T16:43:56.554Z"
   },
   {
    "duration": 4352,
    "start_time": "2022-02-24T16:44:51.370Z"
   },
   {
    "duration": 407,
    "start_time": "2022-02-24T16:45:03.089Z"
   },
   {
    "duration": 8,
    "start_time": "2022-02-24T16:54:13.155Z"
   },
   {
    "duration": 8988,
    "start_time": "2022-02-24T16:55:21.004Z"
   },
   {
    "duration": 10279,
    "start_time": "2022-02-24T16:55:50.910Z"
   },
   {
    "duration": 2199,
    "start_time": "2022-02-24T16:56:48.090Z"
   },
   {
    "duration": 9,
    "start_time": "2022-02-24T17:00:02.116Z"
   },
   {
    "duration": 8,
    "start_time": "2022-02-24T17:00:20.650Z"
   },
   {
    "duration": 4,
    "start_time": "2022-02-24T17:02:22.178Z"
   },
   {
    "duration": 13,
    "start_time": "2022-02-24T17:02:34.919Z"
   },
   {
    "duration": 9,
    "start_time": "2022-02-24T17:02:40.336Z"
   },
   {
    "duration": 1372,
    "start_time": "2022-02-24T17:03:16.497Z"
   },
   {
    "duration": 48,
    "start_time": "2022-02-24T17:03:17.871Z"
   },
   {
    "duration": 16,
    "start_time": "2022-02-24T17:03:17.922Z"
   },
   {
    "duration": 16,
    "start_time": "2022-02-24T17:03:17.941Z"
   },
   {
    "duration": 77,
    "start_time": "2022-02-24T17:03:17.959Z"
   },
   {
    "duration": 34,
    "start_time": "2022-02-24T17:03:18.038Z"
   },
   {
    "duration": 9,
    "start_time": "2022-02-24T17:03:18.075Z"
   },
   {
    "duration": 10,
    "start_time": "2022-02-24T17:03:18.109Z"
   },
   {
    "duration": 13,
    "start_time": "2022-02-24T17:03:18.122Z"
   },
   {
    "duration": 427,
    "start_time": "2022-02-24T17:03:18.139Z"
   },
   {
    "duration": 19,
    "start_time": "2022-02-24T17:03:18.570Z"
   },
   {
    "duration": 483,
    "start_time": "2022-02-24T17:03:18.592Z"
   },
   {
    "duration": 280,
    "start_time": "2022-02-24T17:03:19.078Z"
   },
   {
    "duration": 21,
    "start_time": "2022-02-24T17:03:19.360Z"
   },
   {
    "duration": 436,
    "start_time": "2022-02-24T17:03:19.383Z"
   },
   {
    "duration": 414,
    "start_time": "2022-02-24T17:03:19.822Z"
   },
   {
    "duration": 495,
    "start_time": "2022-02-24T17:03:20.239Z"
   },
   {
    "duration": 519,
    "start_time": "2022-02-24T17:03:20.737Z"
   },
   {
    "duration": 561,
    "start_time": "2022-02-24T17:03:21.260Z"
   },
   {
    "duration": 353,
    "start_time": "2022-02-24T17:03:21.825Z"
   },
   {
    "duration": 630,
    "start_time": "2022-02-24T17:03:22.181Z"
   },
   {
    "duration": 6,
    "start_time": "2022-02-24T17:03:22.813Z"
   },
   {
    "duration": 443,
    "start_time": "2022-02-24T17:03:22.824Z"
   },
   {
    "duration": 7,
    "start_time": "2022-02-24T17:03:23.270Z"
   },
   {
    "duration": 526,
    "start_time": "2022-02-24T17:03:23.280Z"
   },
   {
    "duration": 49,
    "start_time": "2022-02-24T17:03:23.811Z"
   },
   {
    "duration": 236,
    "start_time": "2022-02-24T17:03:23.863Z"
   },
   {
    "duration": 14,
    "start_time": "2022-02-24T17:03:24.101Z"
   },
   {
    "duration": 14,
    "start_time": "2022-02-24T17:03:24.117Z"
   },
   {
    "duration": 9,
    "start_time": "2022-02-24T17:03:24.134Z"
   },
   {
    "duration": 10,
    "start_time": "2022-02-24T17:03:24.146Z"
   },
   {
    "duration": 56,
    "start_time": "2022-02-24T17:03:24.159Z"
   },
   {
    "duration": 12,
    "start_time": "2022-02-24T17:03:24.217Z"
   },
   {
    "duration": 22,
    "start_time": "2022-02-24T17:03:24.233Z"
   },
   {
    "duration": 150,
    "start_time": "2022-02-24T17:05:27.199Z"
   },
   {
    "duration": 112,
    "start_time": "2022-02-24T17:05:36.760Z"
   }
  ],
  "kernelspec": {
   "display_name": "Python 3",
   "language": "python",
   "name": "python3"
  },
  "language_info": {
   "codemirror_mode": {
    "name": "ipython",
    "version": 3
   },
   "file_extension": ".py",
   "mimetype": "text/x-python",
   "name": "python",
   "nbconvert_exporter": "python",
   "pygments_lexer": "ipython3",
   "version": "3.9.0"
  },
  "toc": {
   "base_numbering": 1,
   "nav_menu": {},
   "number_sections": true,
   "sideBar": true,
   "skip_h1_title": true,
   "title_cell": "Содержание",
   "title_sidebar": "Содержание",
   "toc_cell": true,
   "toc_position": {
    "height": "calc(100% - 180px)",
    "left": "10px",
    "top": "150px",
    "width": "165px"
   },
   "toc_section_display": true,
   "toc_window_display": true
  }
 },
 "nbformat": 4,
 "nbformat_minor": 2
}

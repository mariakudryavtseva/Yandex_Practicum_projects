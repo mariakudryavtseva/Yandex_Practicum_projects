{
 "cells": [
  {
   "cell_type": "markdown",
   "metadata": {
    "toc": true
   },
   "source": [
    "<h1>Содержание<span class=\"tocSkip\"></span></h1>\n",
    "<div class=\"toc\"><ul class=\"toc-item\"><li><span><a href=\"#Обзор-данных\" data-toc-modified-id=\"Обзор-данных-1\"><span class=\"toc-item-num\">1&nbsp;&nbsp;</span>Обзор данных</a></span></li><li><span><a href=\"#Предобработка-данных\" data-toc-modified-id=\"Предобработка-данных-2\"><span class=\"toc-item-num\">2&nbsp;&nbsp;</span>Предобработка данных</a></span><ul class=\"toc-item\"><li><span><a href=\"#Обработка-пропусков-и-устранение-ошибок-в-данных\" data-toc-modified-id=\"Обработка-пропусков-и-устранение-ошибок-в-данных-2.1\"><span class=\"toc-item-num\">2.1&nbsp;&nbsp;</span>Обработка пропусков и устранение ошибок в данных</a></span></li><li><span><a href=\"#Замена-типа-данных\" data-toc-modified-id=\"Замена-типа-данных-2.2\"><span class=\"toc-item-num\">2.2&nbsp;&nbsp;</span>Замена типа данных</a></span></li><li><span><a href=\"#Обработка-дубликатов\" data-toc-modified-id=\"Обработка-дубликатов-2.3\"><span class=\"toc-item-num\">2.3&nbsp;&nbsp;</span>Обработка дубликатов</a></span></li><li><span><a href=\"#Лемматизация\" data-toc-modified-id=\"Лемматизация-2.4\"><span class=\"toc-item-num\">2.4&nbsp;&nbsp;</span>Лемматизация</a></span></li><li><span><a href=\"#Категоризация-данных\" data-toc-modified-id=\"Категоризация-данных-2.5\"><span class=\"toc-item-num\">2.5&nbsp;&nbsp;</span>Категоризация данных</a></span><ul class=\"toc-item\"><li><span><a href=\"#Категоризация-данных-для-целей-кредита\" data-toc-modified-id=\"Категоризация-данных-для-целей-кредита-2.5.1\"><span class=\"toc-item-num\">2.5.1&nbsp;&nbsp;</span>Категоризация данных для целей кредита</a></span></li><li><span><a href=\"#Категоризация-данных-для-количества-детей-у-клиента\" data-toc-modified-id=\"Категоризация-данных-для-количества-детей-у-клиента-2.5.2\"><span class=\"toc-item-num\">2.5.2&nbsp;&nbsp;</span>Категоризация данных для количества детей у клиента</a></span></li><li><span><a href=\"#Категоризация-данных-для-уровня-дохода-клиентов\" data-toc-modified-id=\"Категоризация-данных-для-уровня-дохода-клиентов-2.5.3\"><span class=\"toc-item-num\">2.5.3&nbsp;&nbsp;</span>Категоризация данных для уровня дохода клиентов</a></span></li></ul></li><li><span><a href=\"#Проверка-зависимости-между-семейным-положением-и-возвратом-кредита-в-срок\" data-toc-modified-id=\"Проверка-зависимости-между-семейным-положением-и-возвратом-кредита-в-срок-2.6\"><span class=\"toc-item-num\">2.6&nbsp;&nbsp;</span>Проверка зависимости между семейным положением и возвратом кредита в срок</a></span></li><li><span><a href=\"#Проверка-зависимости-между-наличием-детей-и-возвратом-кредита-в-срок\" data-toc-modified-id=\"Проверка-зависимости-между-наличием-детей-и-возвратом-кредита-в-срок-2.7\"><span class=\"toc-item-num\">2.7&nbsp;&nbsp;</span>Проверка зависимости между наличием детей и возвратом кредита в срок</a></span></li><li><span><a href=\"#Проверка-зависимости-между-уровнем-дохода-и-возвратом-кредита-в-срок\" data-toc-modified-id=\"Проверка-зависимости-между-уровнем-дохода-и-возвратом-кредита-в-срок-2.8\"><span class=\"toc-item-num\">2.8&nbsp;&nbsp;</span>Проверка зависимости между уровнем дохода и возвратом кредита в срок</a></span></li><li><span><a href=\"#Проверка-зависимости-между-целью-кредита-и-возвратом-кредита-в-срок\" data-toc-modified-id=\"Проверка-зависимости-между-целью-кредита-и-возвратом-кредита-в-срок-2.9\"><span class=\"toc-item-num\">2.9&nbsp;&nbsp;</span>Проверка зависимости между целью кредита и возвратом кредита в срок</a></span></li></ul></li><li><span><a href=\"#Ответы-на-вопросы-исследования\" data-toc-modified-id=\"Ответы-на-вопросы-исследования-3\"><span class=\"toc-item-num\">3&nbsp;&nbsp;</span>Ответы на вопросы исследования</a></span></li><li><span><a href=\"#Итоги-исследования\" data-toc-modified-id=\"Итоги-исследования-4\"><span class=\"toc-item-num\">4&nbsp;&nbsp;</span>Итоги исследования</a></span></li><li><span><a href=\"#Чек-лист-готовности-проекта\" data-toc-modified-id=\"Чек-лист-готовности-проекта-5\"><span class=\"toc-item-num\">5&nbsp;&nbsp;</span>Чек-лист готовности проекта</a></span></li></ul></div>"
   ]
  },
  {
   "cell_type": "markdown",
   "metadata": {},
   "source": [
    "# Исследование надёжности заёмщиков\n"
   ]
  },
  {
   "cell_type": "markdown",
   "metadata": {},
   "source": [
    "## Обзор данных"
   ]
  },
  {
   "cell_type": "code",
   "execution_count": 83,
   "metadata": {},
   "outputs": [
    {
     "name": "stdout",
     "output_type": "stream",
     "text": [
      "Defaulting to user installation because normal site-packages is not writeable\n",
      "Requirement already up-to-date: seaborn in /home/jovyan/.local/lib/python3.7/site-packages (0.11.1)\n",
      "Requirement already satisfied, skipping upgrade: numpy>=1.15 in /opt/conda/lib/python3.7/site-packages (from seaborn) (1.19.5)\n",
      "Requirement already satisfied, skipping upgrade: pandas>=0.23 in /opt/conda/lib/python3.7/site-packages (from seaborn) (0.25.1)\n",
      "Requirement already satisfied, skipping upgrade: matplotlib>=2.2 in /opt/conda/lib/python3.7/site-packages (from seaborn) (3.1.0)\n",
      "Requirement already satisfied, skipping upgrade: scipy>=1.0 in /opt/conda/lib/python3.7/site-packages (from seaborn) (1.4.1)\n",
      "Requirement already satisfied, skipping upgrade: pytz>=2017.2 in /opt/conda/lib/python3.7/site-packages (from pandas>=0.23->seaborn) (2021.1)\n",
      "Requirement already satisfied, skipping upgrade: python-dateutil>=2.6.1 in /opt/conda/lib/python3.7/site-packages (from pandas>=0.23->seaborn) (2.8.1)\n",
      "Requirement already satisfied, skipping upgrade: cycler>=0.10 in /opt/conda/lib/python3.7/site-packages (from matplotlib>=2.2->seaborn) (0.10.0)\n",
      "Requirement already satisfied, skipping upgrade: kiwisolver>=1.0.1 in /opt/conda/lib/python3.7/site-packages (from matplotlib>=2.2->seaborn) (1.3.1)\n",
      "Requirement already satisfied, skipping upgrade: pyparsing!=2.0.4,!=2.1.2,!=2.1.6,>=2.0.1 in /opt/conda/lib/python3.7/site-packages (from matplotlib>=2.2->seaborn) (2.4.7)\n",
      "Requirement already satisfied, skipping upgrade: six>=1.5 in /opt/conda/lib/python3.7/site-packages (from python-dateutil>=2.6.1->pandas>=0.23->seaborn) (1.15.0)\n"
     ]
    }
   ],
   "source": [
    "# импорт библиотеки pandas\n",
    "import pandas as pd\n",
    "# импортируем библиотеку с функцией лемматизации на русском языке\n",
    "from pymystem3 import Mystem\n",
    "# обновление seaborn\n",
    "!pip install seaborn -U\n",
    "# импорт библиотеки seaborn\n",
    "import seaborn"
   ]
  },
  {
   "cell_type": "code",
   "execution_count": 84,
   "metadata": {
    "scrolled": false
   },
   "outputs": [
    {
     "data": {
      "text/html": [
       "<div>\n",
       "<style scoped>\n",
       "    .dataframe tbody tr th:only-of-type {\n",
       "        vertical-align: middle;\n",
       "    }\n",
       "\n",
       "    .dataframe tbody tr th {\n",
       "        vertical-align: top;\n",
       "    }\n",
       "\n",
       "    .dataframe thead th {\n",
       "        text-align: right;\n",
       "    }\n",
       "</style>\n",
       "<table border=\"1\" class=\"dataframe\">\n",
       "  <thead>\n",
       "    <tr style=\"text-align: right;\">\n",
       "      <th></th>\n",
       "      <th>children</th>\n",
       "      <th>days_employed</th>\n",
       "      <th>dob_years</th>\n",
       "      <th>education</th>\n",
       "      <th>education_id</th>\n",
       "      <th>family_status</th>\n",
       "      <th>family_status_id</th>\n",
       "      <th>gender</th>\n",
       "      <th>income_type</th>\n",
       "      <th>debt</th>\n",
       "      <th>total_income</th>\n",
       "      <th>purpose</th>\n",
       "    </tr>\n",
       "  </thead>\n",
       "  <tbody>\n",
       "    <tr>\n",
       "      <td>0</td>\n",
       "      <td>1</td>\n",
       "      <td>-8437.673028</td>\n",
       "      <td>42</td>\n",
       "      <td>высшее</td>\n",
       "      <td>0</td>\n",
       "      <td>женат / замужем</td>\n",
       "      <td>0</td>\n",
       "      <td>F</td>\n",
       "      <td>сотрудник</td>\n",
       "      <td>0</td>\n",
       "      <td>253875.639453</td>\n",
       "      <td>покупка жилья</td>\n",
       "    </tr>\n",
       "    <tr>\n",
       "      <td>1</td>\n",
       "      <td>1</td>\n",
       "      <td>-4024.803754</td>\n",
       "      <td>36</td>\n",
       "      <td>среднее</td>\n",
       "      <td>1</td>\n",
       "      <td>женат / замужем</td>\n",
       "      <td>0</td>\n",
       "      <td>F</td>\n",
       "      <td>сотрудник</td>\n",
       "      <td>0</td>\n",
       "      <td>112080.014102</td>\n",
       "      <td>приобретение автомобиля</td>\n",
       "    </tr>\n",
       "    <tr>\n",
       "      <td>2</td>\n",
       "      <td>0</td>\n",
       "      <td>-5623.422610</td>\n",
       "      <td>33</td>\n",
       "      <td>Среднее</td>\n",
       "      <td>1</td>\n",
       "      <td>женат / замужем</td>\n",
       "      <td>0</td>\n",
       "      <td>M</td>\n",
       "      <td>сотрудник</td>\n",
       "      <td>0</td>\n",
       "      <td>145885.952297</td>\n",
       "      <td>покупка жилья</td>\n",
       "    </tr>\n",
       "    <tr>\n",
       "      <td>3</td>\n",
       "      <td>3</td>\n",
       "      <td>-4124.747207</td>\n",
       "      <td>32</td>\n",
       "      <td>среднее</td>\n",
       "      <td>1</td>\n",
       "      <td>женат / замужем</td>\n",
       "      <td>0</td>\n",
       "      <td>M</td>\n",
       "      <td>сотрудник</td>\n",
       "      <td>0</td>\n",
       "      <td>267628.550329</td>\n",
       "      <td>дополнительное образование</td>\n",
       "    </tr>\n",
       "    <tr>\n",
       "      <td>4</td>\n",
       "      <td>0</td>\n",
       "      <td>340266.072047</td>\n",
       "      <td>53</td>\n",
       "      <td>среднее</td>\n",
       "      <td>1</td>\n",
       "      <td>гражданский брак</td>\n",
       "      <td>1</td>\n",
       "      <td>F</td>\n",
       "      <td>пенсионер</td>\n",
       "      <td>0</td>\n",
       "      <td>158616.077870</td>\n",
       "      <td>сыграть свадьбу</td>\n",
       "    </tr>\n",
       "    <tr>\n",
       "      <td>5</td>\n",
       "      <td>0</td>\n",
       "      <td>-926.185831</td>\n",
       "      <td>27</td>\n",
       "      <td>высшее</td>\n",
       "      <td>0</td>\n",
       "      <td>гражданский брак</td>\n",
       "      <td>1</td>\n",
       "      <td>M</td>\n",
       "      <td>компаньон</td>\n",
       "      <td>0</td>\n",
       "      <td>255763.565419</td>\n",
       "      <td>покупка жилья</td>\n",
       "    </tr>\n",
       "    <tr>\n",
       "      <td>6</td>\n",
       "      <td>0</td>\n",
       "      <td>-2879.202052</td>\n",
       "      <td>43</td>\n",
       "      <td>высшее</td>\n",
       "      <td>0</td>\n",
       "      <td>женат / замужем</td>\n",
       "      <td>0</td>\n",
       "      <td>F</td>\n",
       "      <td>компаньон</td>\n",
       "      <td>0</td>\n",
       "      <td>240525.971920</td>\n",
       "      <td>операции с жильем</td>\n",
       "    </tr>\n",
       "    <tr>\n",
       "      <td>7</td>\n",
       "      <td>0</td>\n",
       "      <td>-152.779569</td>\n",
       "      <td>50</td>\n",
       "      <td>СРЕДНЕЕ</td>\n",
       "      <td>1</td>\n",
       "      <td>женат / замужем</td>\n",
       "      <td>0</td>\n",
       "      <td>M</td>\n",
       "      <td>сотрудник</td>\n",
       "      <td>0</td>\n",
       "      <td>135823.934197</td>\n",
       "      <td>образование</td>\n",
       "    </tr>\n",
       "    <tr>\n",
       "      <td>8</td>\n",
       "      <td>2</td>\n",
       "      <td>-6929.865299</td>\n",
       "      <td>35</td>\n",
       "      <td>ВЫСШЕЕ</td>\n",
       "      <td>0</td>\n",
       "      <td>гражданский брак</td>\n",
       "      <td>1</td>\n",
       "      <td>F</td>\n",
       "      <td>сотрудник</td>\n",
       "      <td>0</td>\n",
       "      <td>95856.832424</td>\n",
       "      <td>на проведение свадьбы</td>\n",
       "    </tr>\n",
       "    <tr>\n",
       "      <td>9</td>\n",
       "      <td>0</td>\n",
       "      <td>-2188.756445</td>\n",
       "      <td>41</td>\n",
       "      <td>среднее</td>\n",
       "      <td>1</td>\n",
       "      <td>женат / замужем</td>\n",
       "      <td>0</td>\n",
       "      <td>M</td>\n",
       "      <td>сотрудник</td>\n",
       "      <td>0</td>\n",
       "      <td>144425.938277</td>\n",
       "      <td>покупка жилья для семьи</td>\n",
       "    </tr>\n",
       "    <tr>\n",
       "      <td>10</td>\n",
       "      <td>2</td>\n",
       "      <td>-4171.483647</td>\n",
       "      <td>36</td>\n",
       "      <td>высшее</td>\n",
       "      <td>0</td>\n",
       "      <td>женат / замужем</td>\n",
       "      <td>0</td>\n",
       "      <td>M</td>\n",
       "      <td>компаньон</td>\n",
       "      <td>0</td>\n",
       "      <td>113943.491460</td>\n",
       "      <td>покупка недвижимости</td>\n",
       "    </tr>\n",
       "    <tr>\n",
       "      <td>11</td>\n",
       "      <td>0</td>\n",
       "      <td>-792.701887</td>\n",
       "      <td>40</td>\n",
       "      <td>среднее</td>\n",
       "      <td>1</td>\n",
       "      <td>женат / замужем</td>\n",
       "      <td>0</td>\n",
       "      <td>F</td>\n",
       "      <td>сотрудник</td>\n",
       "      <td>0</td>\n",
       "      <td>77069.234271</td>\n",
       "      <td>покупка коммерческой недвижимости</td>\n",
       "    </tr>\n",
       "    <tr>\n",
       "      <td>12</td>\n",
       "      <td>0</td>\n",
       "      <td>NaN</td>\n",
       "      <td>65</td>\n",
       "      <td>среднее</td>\n",
       "      <td>1</td>\n",
       "      <td>гражданский брак</td>\n",
       "      <td>1</td>\n",
       "      <td>M</td>\n",
       "      <td>пенсионер</td>\n",
       "      <td>0</td>\n",
       "      <td>NaN</td>\n",
       "      <td>сыграть свадьбу</td>\n",
       "    </tr>\n",
       "    <tr>\n",
       "      <td>13</td>\n",
       "      <td>0</td>\n",
       "      <td>-1846.641941</td>\n",
       "      <td>54</td>\n",
       "      <td>неоконченное высшее</td>\n",
       "      <td>2</td>\n",
       "      <td>женат / замужем</td>\n",
       "      <td>0</td>\n",
       "      <td>F</td>\n",
       "      <td>сотрудник</td>\n",
       "      <td>0</td>\n",
       "      <td>130458.228857</td>\n",
       "      <td>приобретение автомобиля</td>\n",
       "    </tr>\n",
       "    <tr>\n",
       "      <td>14</td>\n",
       "      <td>0</td>\n",
       "      <td>-1844.956182</td>\n",
       "      <td>56</td>\n",
       "      <td>высшее</td>\n",
       "      <td>0</td>\n",
       "      <td>гражданский брак</td>\n",
       "      <td>1</td>\n",
       "      <td>F</td>\n",
       "      <td>компаньон</td>\n",
       "      <td>1</td>\n",
       "      <td>165127.911772</td>\n",
       "      <td>покупка жилой недвижимости</td>\n",
       "    </tr>\n",
       "  </tbody>\n",
       "</table>\n",
       "</div>"
      ],
      "text/plain": [
       "    children  days_employed  dob_years            education  education_id  \\\n",
       "0          1   -8437.673028         42               высшее             0   \n",
       "1          1   -4024.803754         36              среднее             1   \n",
       "2          0   -5623.422610         33              Среднее             1   \n",
       "3          3   -4124.747207         32              среднее             1   \n",
       "4          0  340266.072047         53              среднее             1   \n",
       "5          0    -926.185831         27               высшее             0   \n",
       "6          0   -2879.202052         43               высшее             0   \n",
       "7          0    -152.779569         50              СРЕДНЕЕ             1   \n",
       "8          2   -6929.865299         35               ВЫСШЕЕ             0   \n",
       "9          0   -2188.756445         41              среднее             1   \n",
       "10         2   -4171.483647         36               высшее             0   \n",
       "11         0    -792.701887         40              среднее             1   \n",
       "12         0            NaN         65              среднее             1   \n",
       "13         0   -1846.641941         54  неоконченное высшее             2   \n",
       "14         0   -1844.956182         56               высшее             0   \n",
       "\n",
       "       family_status  family_status_id gender income_type  debt  \\\n",
       "0    женат / замужем                 0      F   сотрудник     0   \n",
       "1    женат / замужем                 0      F   сотрудник     0   \n",
       "2    женат / замужем                 0      M   сотрудник     0   \n",
       "3    женат / замужем                 0      M   сотрудник     0   \n",
       "4   гражданский брак                 1      F   пенсионер     0   \n",
       "5   гражданский брак                 1      M   компаньон     0   \n",
       "6    женат / замужем                 0      F   компаньон     0   \n",
       "7    женат / замужем                 0      M   сотрудник     0   \n",
       "8   гражданский брак                 1      F   сотрудник     0   \n",
       "9    женат / замужем                 0      M   сотрудник     0   \n",
       "10   женат / замужем                 0      M   компаньон     0   \n",
       "11   женат / замужем                 0      F   сотрудник     0   \n",
       "12  гражданский брак                 1      M   пенсионер     0   \n",
       "13   женат / замужем                 0      F   сотрудник     0   \n",
       "14  гражданский брак                 1      F   компаньон     1   \n",
       "\n",
       "     total_income                            purpose  \n",
       "0   253875.639453                      покупка жилья  \n",
       "1   112080.014102            приобретение автомобиля  \n",
       "2   145885.952297                      покупка жилья  \n",
       "3   267628.550329         дополнительное образование  \n",
       "4   158616.077870                    сыграть свадьбу  \n",
       "5   255763.565419                      покупка жилья  \n",
       "6   240525.971920                  операции с жильем  \n",
       "7   135823.934197                        образование  \n",
       "8    95856.832424              на проведение свадьбы  \n",
       "9   144425.938277            покупка жилья для семьи  \n",
       "10  113943.491460               покупка недвижимости  \n",
       "11   77069.234271  покупка коммерческой недвижимости  \n",
       "12            NaN                    сыграть свадьбу  \n",
       "13  130458.228857            приобретение автомобиля  \n",
       "14  165127.911772         покупка жилой недвижимости  "
      ]
     },
     "metadata": {},
     "output_type": "display_data"
    },
    {
     "name": "stdout",
     "output_type": "stream",
     "text": [
      "<class 'pandas.core.frame.DataFrame'>\n",
      "RangeIndex: 21525 entries, 0 to 21524\n",
      "Data columns (total 12 columns):\n",
      "children            21525 non-null int64\n",
      "days_employed       19351 non-null float64\n",
      "dob_years           21525 non-null int64\n",
      "education           21525 non-null object\n",
      "education_id        21525 non-null int64\n",
      "family_status       21525 non-null object\n",
      "family_status_id    21525 non-null int64\n",
      "gender              21525 non-null object\n",
      "income_type         21525 non-null object\n",
      "debt                21525 non-null int64\n",
      "total_income        19351 non-null float64\n",
      "purpose             21525 non-null object\n",
      "dtypes: float64(2), int64(5), object(5)\n",
      "memory usage: 2.0+ MB\n"
     ]
    }
   ],
   "source": [
    "df = pd.read_csv('/datasets/data.csv') # чтение файла с данными и сохранение в df\n",
    "display(df.head(15)) # получение первых 15 строк таблицы df\n",
    "df.info() # получение общей информации о данных в таблице df"
   ]
  },
  {
   "cell_type": "markdown",
   "metadata": {},
   "source": [
    "Первичный обзор данных позволяет сказать, что в таблице 12 столбцов. Данные в столбцах различного типа - `int64`, `float64` и `object`.\n",
    "\n",
    "Согласно документации к данным:\n",
    "* `children` — количество детей в семье\n",
    "* `days_employed` — общий трудовой стаж в днях\n",
    "* `dob_years` — возраст клиента в годах\n",
    "* `education` — уровень образования клиента\n",
    "* `education_id` — идентификатор уровня образования\n",
    "* `family_status` — семейное положение\n",
    "* `family_status_id` — идентификатор семейного положения\n",
    "* `gender` — пол клиента\n",
    "* `income_type` — тип занятости\n",
    "* `debt` — имел ли задолженность по возврату кредитов\n",
    "* `total_income` — ежемесячный доход\n",
    "* `purpose` — цель получения кредита\n",
    "\n",
    "Нарушений в названиях колонок таблицы нет, но количество значений в них отличается. Это означает, что в данных есть пропущенные значения. "
   ]
  },
  {
   "cell_type": "markdown",
   "metadata": {},
   "source": [
    "**Вывод**\n",
    "\n",
    "В каждой строке таблицы - данные о клиентах банка. Каждая колонка описывает значимые для банка характеристики клиента: пол, возраст, трудовой стаж, семейное положение, ежемесячный доход и т.п. В совокупности эти характеристики позволяют получить информацию о платежеспособности клиентов. \n",
    "\n",
    "Поскольку данные о количестве детей в семье клиента, его семейной положении, уровне дохода, целях кредита и наличии задолженности в прошлом содержатся в таблице, предварительно можно утверждать, что данных достаточно для ответов на вопросы исследования. \n",
    "\n",
    "Тем не менее, в данных есть пропущенные значения. Чтобы исследование было более точным, необходимо обнаружить все проблемы в данных и устранить их."
   ]
  },
  {
   "cell_type": "markdown",
   "metadata": {},
   "source": [
    "## Предобработка данных"
   ]
  },
  {
   "cell_type": "markdown",
   "metadata": {},
   "source": [
    "### Обработка пропусков и устранение ошибок в данных"
   ]
  },
  {
   "cell_type": "code",
   "execution_count": 85,
   "metadata": {},
   "outputs": [
    {
     "data": {
      "text/plain": [
       "children               0\n",
       "days_employed       2174\n",
       "dob_years              0\n",
       "education              0\n",
       "education_id           0\n",
       "family_status          0\n",
       "family_status_id       0\n",
       "gender                 0\n",
       "income_type            0\n",
       "debt                   0\n",
       "total_income        2174\n",
       "purpose                0\n",
       "dtype: int64"
      ]
     },
     "execution_count": 85,
     "metadata": {},
     "output_type": "execute_result"
    }
   ],
   "source": [
    "df.isna().sum() # подсчёт пропусков"
   ]
  },
  {
   "cell_type": "markdown",
   "metadata": {},
   "source": [
    "Здесь можно заметить, что количество пропусков в столбцах `days_employed` и `total_income` совпадает. Проверим не встречаются ли эти пропуски в строках таблицы одновременно."
   ]
  },
  {
   "cell_type": "code",
   "execution_count": 86,
   "metadata": {},
   "outputs": [
    {
     "data": {
      "text/plain": [
       "children            2174\n",
       "days_employed          0\n",
       "dob_years           2174\n",
       "education           2174\n",
       "education_id        2174\n",
       "family_status       2174\n",
       "family_status_id    2174\n",
       "gender              2174\n",
       "income_type         2174\n",
       "debt                2174\n",
       "total_income           0\n",
       "purpose             2174\n",
       "dtype: int64"
      ]
     },
     "execution_count": 86,
     "metadata": {},
     "output_type": "execute_result"
    }
   ],
   "source": [
    "# подсчет строк, в которых значения в столбцах days_employed\n",
    "# и total_income пропущены одновременно\n",
    "df[df['days_employed'].isna() & df['total_income'].isna()].count()"
   ]
  },
  {
   "cell_type": "markdown",
   "metadata": {},
   "source": [
    "Количество пропусков и количество строк с двумя отсутствующими значениями совпали. Это говорит о технологической проблеме при выгрузке значений типа `float64` о 2174 клиентах банка. Было бы правильно установить причину проблемы и восстановить данные."
   ]
  },
  {
   "cell_type": "markdown",
   "metadata": {},
   "source": [
    "Рассчитаем какую долю составляют пропуски в процентах и оценим их влияние на данные."
   ]
  },
  {
   "cell_type": "code",
   "execution_count": 87,
   "metadata": {},
   "outputs": [
    {
     "data": {
      "text/html": [
       "<div>\n",
       "<style scoped>\n",
       "    .dataframe tbody tr th:only-of-type {\n",
       "        vertical-align: middle;\n",
       "    }\n",
       "\n",
       "    .dataframe tbody tr th {\n",
       "        vertical-align: top;\n",
       "    }\n",
       "\n",
       "    .dataframe thead th {\n",
       "        text-align: right;\n",
       "    }\n",
       "</style>\n",
       "<table border=\"1\" class=\"dataframe\">\n",
       "  <thead>\n",
       "    <tr style=\"text-align: right;\">\n",
       "      <th></th>\n",
       "      <th>missing_values</th>\n",
       "      <th>%</th>\n",
       "    </tr>\n",
       "  </thead>\n",
       "  <tbody>\n",
       "    <tr>\n",
       "      <td>children</td>\n",
       "      <td>0</td>\n",
       "      <td>0.0</td>\n",
       "    </tr>\n",
       "    <tr>\n",
       "      <td>days_employed</td>\n",
       "      <td>2174</td>\n",
       "      <td>10.1</td>\n",
       "    </tr>\n",
       "    <tr>\n",
       "      <td>dob_years</td>\n",
       "      <td>0</td>\n",
       "      <td>0.0</td>\n",
       "    </tr>\n",
       "    <tr>\n",
       "      <td>education</td>\n",
       "      <td>0</td>\n",
       "      <td>0.0</td>\n",
       "    </tr>\n",
       "    <tr>\n",
       "      <td>education_id</td>\n",
       "      <td>0</td>\n",
       "      <td>0.0</td>\n",
       "    </tr>\n",
       "    <tr>\n",
       "      <td>family_status</td>\n",
       "      <td>0</td>\n",
       "      <td>0.0</td>\n",
       "    </tr>\n",
       "    <tr>\n",
       "      <td>family_status_id</td>\n",
       "      <td>0</td>\n",
       "      <td>0.0</td>\n",
       "    </tr>\n",
       "    <tr>\n",
       "      <td>gender</td>\n",
       "      <td>0</td>\n",
       "      <td>0.0</td>\n",
       "    </tr>\n",
       "    <tr>\n",
       "      <td>income_type</td>\n",
       "      <td>0</td>\n",
       "      <td>0.0</td>\n",
       "    </tr>\n",
       "    <tr>\n",
       "      <td>debt</td>\n",
       "      <td>0</td>\n",
       "      <td>0.0</td>\n",
       "    </tr>\n",
       "    <tr>\n",
       "      <td>total_income</td>\n",
       "      <td>2174</td>\n",
       "      <td>10.1</td>\n",
       "    </tr>\n",
       "    <tr>\n",
       "      <td>purpose</td>\n",
       "      <td>0</td>\n",
       "      <td>0.0</td>\n",
       "    </tr>\n",
       "  </tbody>\n",
       "</table>\n",
       "</div>"
      ],
      "text/plain": [
       "                  missing_values     %\n",
       "children                       0   0.0\n",
       "days_employed               2174  10.1\n",
       "dob_years                      0   0.0\n",
       "education                      0   0.0\n",
       "education_id                   0   0.0\n",
       "family_status                  0   0.0\n",
       "family_status_id               0   0.0\n",
       "gender                         0   0.0\n",
       "income_type                    0   0.0\n",
       "debt                           0   0.0\n",
       "total_income                2174  10.1\n",
       "purpose                        0   0.0"
      ]
     },
     "execution_count": 87,
     "metadata": {},
     "output_type": "execute_result"
    }
   ],
   "source": [
    "# конвертируем Series с количеством пропущенных значений\n",
    "# в DataFrame \n",
    "mis_values = df.isnull().sum().to_frame('missing_values')\n",
    "# вычисление долей пропущенных значений в df (%) и их\n",
    "# округление\n",
    "mis_values['%'] = round(df.isnull().sum() / len(df) * 100, 2)\n",
    "# сортировка значений по убыванию\n",
    "mis_values.sort_values(by='%', ascending=False)\n",
    "mis_values"
   ]
  },
  {
   "cell_type": "markdown",
   "metadata": {},
   "source": [
    "Строки с пропусками составляют 10,1% от всех записей. Поскольку в данных содержится информация о типе занятости клиента, мы можем найти зависимость между столбцами `total_income` и `income_type` и заменить пропущенные значения согласно этой зависимости. "
   ]
  },
  {
   "cell_type": "code",
   "execution_count": 88,
   "metadata": {},
   "outputs": [
    {
     "data": {
      "text/plain": [
       "сотрудник          11119\n",
       "компаньон           5085\n",
       "пенсионер           3856\n",
       "госслужащий         1459\n",
       "безработный            2\n",
       "предприниматель        2\n",
       "студент                1\n",
       "в декрете              1\n",
       "Name: income_type, dtype: int64"
      ]
     },
     "execution_count": 88,
     "metadata": {},
     "output_type": "execute_result"
    }
   ],
   "source": [
    "# проверка уникальных значений столбца income_type\n",
    "df['income_type'].value_counts()"
   ]
  },
  {
   "cell_type": "markdown",
   "metadata": {},
   "source": [
    "Можно предположить, что клиенты, которые имеют одинаковый тип занятости имеют схожий ежемесячный доход. Поэтому посчитаем медианное значение дохода для каждой группы занятости и заменим этими значениями пропуски.\n",
    "\n",
    "Медианное значение выбрано, поскольку разница между минимальным и максимальным доходом существенна."
   ]
  },
  {
   "cell_type": "code",
   "execution_count": 89,
   "metadata": {},
   "outputs": [
    {
     "name": "stdout",
     "output_type": "stream",
     "text": [
      "Минимальный доход: 20667.26379327158\n",
      "Максимальный доход: 2265604.028722744\n"
     ]
    }
   ],
   "source": [
    "# определение минимального и максимального дохода\n",
    "print('Минимальный доход:', df['total_income'].min())\n",
    "print('Максимальный доход:', df['total_income'].max())"
   ]
  },
  {
   "cell_type": "code",
   "execution_count": 90,
   "metadata": {},
   "outputs": [
    {
     "data": {
      "text/plain": [
       "children               0\n",
       "days_employed       2174\n",
       "dob_years              0\n",
       "education              0\n",
       "education_id           0\n",
       "family_status          0\n",
       "family_status_id       0\n",
       "gender                 0\n",
       "income_type            0\n",
       "debt                   0\n",
       "total_income           0\n",
       "purpose                0\n",
       "dtype: int64"
      ]
     },
     "execution_count": 90,
     "metadata": {},
     "output_type": "execute_result"
    }
   ],
   "source": [
    "# группировка данных по типу занятости income_type,\n",
    "# применение к значениям столбца total_income функции\n",
    "# замены пропущенных значений на медианное для каждой группы\n",
    "df['total_income'] = df.groupby('income_type')['total_income'].apply(lambda x: x.fillna(x.median()))\n",
    "# подсчёт пропусков\n",
    "df.isna().sum() "
   ]
  },
  {
   "cell_type": "markdown",
   "metadata": {},
   "source": [
    "Теперь обратим внимание на столбец `days_employed`, описывающий трудовой стаж клиента в днях. Помимо пропущенных значений замечаем отрицательные значения и значения, которые превышают возраст клиента (при переводе дней в годы), что невозможно.\n",
    "\n",
    "Причиной таких артефактов могли послужить некорректная выгрузка данных, ошибки при копировании или смене формата. Необходимо повторно запросить выгрузку поврежденных данных, так как в данном виде они потеряли смысл.\n",
    "\n",
    "В рамках нашего исследования мы можем восстановить пропущенные и некорректные значения в столбце `days_employed`.\n",
    "\n",
    "В первую очередь заменим отрицательные значения стажа клиента на модуль этого значения."
   ]
  },
  {
   "cell_type": "code",
   "execution_count": 91,
   "metadata": {},
   "outputs": [],
   "source": [
    "# получим модуль значений столбца days_employed\n",
    "df['days_employed'] = df['days_employed'].abs()"
   ]
  },
  {
   "cell_type": "markdown",
   "metadata": {},
   "source": [
    "Проверим, что отрицальные значения заменены."
   ]
  },
  {
   "cell_type": "code",
   "execution_count": 92,
   "metadata": {},
   "outputs": [
    {
     "data": {
      "text/html": [
       "<div>\n",
       "<style scoped>\n",
       "    .dataframe tbody tr th:only-of-type {\n",
       "        vertical-align: middle;\n",
       "    }\n",
       "\n",
       "    .dataframe tbody tr th {\n",
       "        vertical-align: top;\n",
       "    }\n",
       "\n",
       "    .dataframe thead th {\n",
       "        text-align: right;\n",
       "    }\n",
       "</style>\n",
       "<table border=\"1\" class=\"dataframe\">\n",
       "  <thead>\n",
       "    <tr style=\"text-align: right;\">\n",
       "      <th></th>\n",
       "      <th>children</th>\n",
       "      <th>days_employed</th>\n",
       "      <th>dob_years</th>\n",
       "      <th>education</th>\n",
       "      <th>education_id</th>\n",
       "      <th>family_status</th>\n",
       "      <th>family_status_id</th>\n",
       "      <th>gender</th>\n",
       "      <th>income_type</th>\n",
       "      <th>debt</th>\n",
       "      <th>total_income</th>\n",
       "      <th>purpose</th>\n",
       "    </tr>\n",
       "  </thead>\n",
       "  <tbody>\n",
       "    <tr>\n",
       "      <td>0</td>\n",
       "      <td>1</td>\n",
       "      <td>8437.673028</td>\n",
       "      <td>42</td>\n",
       "      <td>высшее</td>\n",
       "      <td>0</td>\n",
       "      <td>женат / замужем</td>\n",
       "      <td>0</td>\n",
       "      <td>F</td>\n",
       "      <td>сотрудник</td>\n",
       "      <td>0</td>\n",
       "      <td>253875.639453</td>\n",
       "      <td>покупка жилья</td>\n",
       "    </tr>\n",
       "    <tr>\n",
       "      <td>1</td>\n",
       "      <td>1</td>\n",
       "      <td>4024.803754</td>\n",
       "      <td>36</td>\n",
       "      <td>среднее</td>\n",
       "      <td>1</td>\n",
       "      <td>женат / замужем</td>\n",
       "      <td>0</td>\n",
       "      <td>F</td>\n",
       "      <td>сотрудник</td>\n",
       "      <td>0</td>\n",
       "      <td>112080.014102</td>\n",
       "      <td>приобретение автомобиля</td>\n",
       "    </tr>\n",
       "    <tr>\n",
       "      <td>2</td>\n",
       "      <td>0</td>\n",
       "      <td>5623.422610</td>\n",
       "      <td>33</td>\n",
       "      <td>Среднее</td>\n",
       "      <td>1</td>\n",
       "      <td>женат / замужем</td>\n",
       "      <td>0</td>\n",
       "      <td>M</td>\n",
       "      <td>сотрудник</td>\n",
       "      <td>0</td>\n",
       "      <td>145885.952297</td>\n",
       "      <td>покупка жилья</td>\n",
       "    </tr>\n",
       "    <tr>\n",
       "      <td>3</td>\n",
       "      <td>3</td>\n",
       "      <td>4124.747207</td>\n",
       "      <td>32</td>\n",
       "      <td>среднее</td>\n",
       "      <td>1</td>\n",
       "      <td>женат / замужем</td>\n",
       "      <td>0</td>\n",
       "      <td>M</td>\n",
       "      <td>сотрудник</td>\n",
       "      <td>0</td>\n",
       "      <td>267628.550329</td>\n",
       "      <td>дополнительное образование</td>\n",
       "    </tr>\n",
       "    <tr>\n",
       "      <td>4</td>\n",
       "      <td>0</td>\n",
       "      <td>340266.072047</td>\n",
       "      <td>53</td>\n",
       "      <td>среднее</td>\n",
       "      <td>1</td>\n",
       "      <td>гражданский брак</td>\n",
       "      <td>1</td>\n",
       "      <td>F</td>\n",
       "      <td>пенсионер</td>\n",
       "      <td>0</td>\n",
       "      <td>158616.077870</td>\n",
       "      <td>сыграть свадьбу</td>\n",
       "    </tr>\n",
       "    <tr>\n",
       "      <td>5</td>\n",
       "      <td>0</td>\n",
       "      <td>926.185831</td>\n",
       "      <td>27</td>\n",
       "      <td>высшее</td>\n",
       "      <td>0</td>\n",
       "      <td>гражданский брак</td>\n",
       "      <td>1</td>\n",
       "      <td>M</td>\n",
       "      <td>компаньон</td>\n",
       "      <td>0</td>\n",
       "      <td>255763.565419</td>\n",
       "      <td>покупка жилья</td>\n",
       "    </tr>\n",
       "    <tr>\n",
       "      <td>6</td>\n",
       "      <td>0</td>\n",
       "      <td>2879.202052</td>\n",
       "      <td>43</td>\n",
       "      <td>высшее</td>\n",
       "      <td>0</td>\n",
       "      <td>женат / замужем</td>\n",
       "      <td>0</td>\n",
       "      <td>F</td>\n",
       "      <td>компаньон</td>\n",
       "      <td>0</td>\n",
       "      <td>240525.971920</td>\n",
       "      <td>операции с жильем</td>\n",
       "    </tr>\n",
       "    <tr>\n",
       "      <td>7</td>\n",
       "      <td>0</td>\n",
       "      <td>152.779569</td>\n",
       "      <td>50</td>\n",
       "      <td>СРЕДНЕЕ</td>\n",
       "      <td>1</td>\n",
       "      <td>женат / замужем</td>\n",
       "      <td>0</td>\n",
       "      <td>M</td>\n",
       "      <td>сотрудник</td>\n",
       "      <td>0</td>\n",
       "      <td>135823.934197</td>\n",
       "      <td>образование</td>\n",
       "    </tr>\n",
       "    <tr>\n",
       "      <td>8</td>\n",
       "      <td>2</td>\n",
       "      <td>6929.865299</td>\n",
       "      <td>35</td>\n",
       "      <td>ВЫСШЕЕ</td>\n",
       "      <td>0</td>\n",
       "      <td>гражданский брак</td>\n",
       "      <td>1</td>\n",
       "      <td>F</td>\n",
       "      <td>сотрудник</td>\n",
       "      <td>0</td>\n",
       "      <td>95856.832424</td>\n",
       "      <td>на проведение свадьбы</td>\n",
       "    </tr>\n",
       "    <tr>\n",
       "      <td>9</td>\n",
       "      <td>0</td>\n",
       "      <td>2188.756445</td>\n",
       "      <td>41</td>\n",
       "      <td>среднее</td>\n",
       "      <td>1</td>\n",
       "      <td>женат / замужем</td>\n",
       "      <td>0</td>\n",
       "      <td>M</td>\n",
       "      <td>сотрудник</td>\n",
       "      <td>0</td>\n",
       "      <td>144425.938277</td>\n",
       "      <td>покупка жилья для семьи</td>\n",
       "    </tr>\n",
       "  </tbody>\n",
       "</table>\n",
       "</div>"
      ],
      "text/plain": [
       "   children  days_employed  dob_years education  education_id  \\\n",
       "0         1    8437.673028         42    высшее             0   \n",
       "1         1    4024.803754         36   среднее             1   \n",
       "2         0    5623.422610         33   Среднее             1   \n",
       "3         3    4124.747207         32   среднее             1   \n",
       "4         0  340266.072047         53   среднее             1   \n",
       "5         0     926.185831         27    высшее             0   \n",
       "6         0    2879.202052         43    высшее             0   \n",
       "7         0     152.779569         50   СРЕДНЕЕ             1   \n",
       "8         2    6929.865299         35    ВЫСШЕЕ             0   \n",
       "9         0    2188.756445         41   среднее             1   \n",
       "\n",
       "      family_status  family_status_id gender income_type  debt   total_income  \\\n",
       "0   женат / замужем                 0      F   сотрудник     0  253875.639453   \n",
       "1   женат / замужем                 0      F   сотрудник     0  112080.014102   \n",
       "2   женат / замужем                 0      M   сотрудник     0  145885.952297   \n",
       "3   женат / замужем                 0      M   сотрудник     0  267628.550329   \n",
       "4  гражданский брак                 1      F   пенсионер     0  158616.077870   \n",
       "5  гражданский брак                 1      M   компаньон     0  255763.565419   \n",
       "6   женат / замужем                 0      F   компаньон     0  240525.971920   \n",
       "7   женат / замужем                 0      M   сотрудник     0  135823.934197   \n",
       "8  гражданский брак                 1      F   сотрудник     0   95856.832424   \n",
       "9   женат / замужем                 0      M   сотрудник     0  144425.938277   \n",
       "\n",
       "                      purpose  \n",
       "0               покупка жилья  \n",
       "1     приобретение автомобиля  \n",
       "2               покупка жилья  \n",
       "3  дополнительное образование  \n",
       "4             сыграть свадьбу  \n",
       "5               покупка жилья  \n",
       "6           операции с жильем  \n",
       "7                 образование  \n",
       "8       на проведение свадьбы  \n",
       "9     покупка жилья для семьи  "
      ]
     },
     "metadata": {},
     "output_type": "display_data"
    }
   ],
   "source": [
    "display(df.head(10)) # получение первых 10 строк таблицы df"
   ]
  },
  {
   "cell_type": "markdown",
   "metadata": {},
   "source": [
    "Чтобы заменить пропущенные значения воспользуемся зависимостью между стажем клиента и его датой рождения, образованием и типом занятости. Если мы определим медианное значение стажа для клиентов с такими же дополнительными характеристиками, то сможем заполнить пропуски в значениях."
   ]
  },
  {
   "cell_type": "code",
   "execution_count": 11,
   "metadata": {},
   "outputs": [
    {
     "name": "stderr",
     "output_type": "stream",
     "text": [
      "/opt/conda/lib/python3.7/site-packages/numpy/lib/nanfunctions.py:1111: RuntimeWarning: Mean of empty slice\n",
      "  return np.nanmean(a, axis, out=out, keepdims=keepdims)\n"
     ]
    },
    {
     "data": {
      "text/plain": [
       "children             0\n",
       "days_employed       41\n",
       "dob_years            0\n",
       "education            0\n",
       "education_id         0\n",
       "family_status        0\n",
       "family_status_id     0\n",
       "gender               0\n",
       "income_type          0\n",
       "debt                 0\n",
       "total_income         0\n",
       "purpose              0\n",
       "dtype: int64"
      ]
     },
     "execution_count": 11,
     "metadata": {},
     "output_type": "execute_result"
    }
   ],
   "source": [
    "# группируем данные по дате рождения, образованию,\n",
    "# типу занятости, применяем к столбцу стажа\n",
    "# функцию замены NaN на медианное значение в группе\n",
    "df['days_employed'] = df.groupby(['dob_years', 'education', \n",
    "                                  'income_type'])['days_employed'].apply(lambda x: x.fillna(x.median()))\n",
    "# подсчёт пропусков\n",
    "df.isna().sum()"
   ]
  },
  {
   "cell_type": "code",
   "execution_count": 101,
   "metadata": {},
   "outputs": [
    {
     "data": {
      "text/plain": [
       "dob_years  education  income_type\n",
       "0          ВЫСШЕЕ     компаньон         947.275258\n",
       "           Высшее     компаньон        4852.175654\n",
       "                      пенсионер                NaN\n",
       "           СРЕДНЕЕ    компаньон         202.600508\n",
       "                      сотрудник         334.837285\n",
       "                                         ...      \n",
       "74         высшее     пенсионер      341528.126150\n",
       "           среднее    компаньон        1729.632531\n",
       "                      пенсионер      372861.103965\n",
       "                      сотрудник        6682.867814\n",
       "75         среднее    госслужащий      1678.969771\n",
       "Name: days_employed, Length: 1226, dtype: float64"
      ]
     },
     "execution_count": 101,
     "metadata": {},
     "output_type": "execute_result"
    }
   ],
   "source": [
    "df.groupby(['dob_years', 'education', 'income_type'])['days_employed'].median()"
   ]
  },
  {
   "cell_type": "markdown",
   "metadata": {},
   "source": [
    "Результа замены таков, что не удалось заменить 41 пропущенное значение на медианное. Это означает, что это единственные строки в своей группе и вычислить медианное значение невозможно.\n",
    "\n",
    "Повторим группировку, но уже по дате рождения и образованию. Выполним замену на медианное значение при данной группировке."
   ]
  },
  {
   "cell_type": "code",
   "execution_count": 12,
   "metadata": {},
   "outputs": [
    {
     "data": {
      "text/plain": [
       "children             0\n",
       "days_employed       12\n",
       "dob_years            0\n",
       "education            0\n",
       "education_id         0\n",
       "family_status        0\n",
       "family_status_id     0\n",
       "gender               0\n",
       "income_type          0\n",
       "debt                 0\n",
       "total_income         0\n",
       "purpose              0\n",
       "dtype: int64"
      ]
     },
     "execution_count": 12,
     "metadata": {},
     "output_type": "execute_result"
    }
   ],
   "source": [
    "# группируем данные по дате рождения и образованию,\n",
    "# применяем к столбцу стажа функцию замены NaN \n",
    "# на медианное значение в группе\n",
    "df['days_employed'] = df.groupby(['dob_years', 'education'])['days_employed'].apply(lambda x: x.fillna(x.median()))\n",
    "# подсчёт пропусков\n",
    "df.isna().sum()"
   ]
  },
  {
   "cell_type": "markdown",
   "metadata": {},
   "source": [
    "Ситуация повторилась, поэтому сгруппируем данные по году рождения и заменим на медианное значение, вычисленное для каждой из групп."
   ]
  },
  {
   "cell_type": "code",
   "execution_count": 13,
   "metadata": {},
   "outputs": [
    {
     "data": {
      "text/plain": [
       "children            0\n",
       "days_employed       0\n",
       "dob_years           0\n",
       "education           0\n",
       "education_id        0\n",
       "family_status       0\n",
       "family_status_id    0\n",
       "gender              0\n",
       "income_type         0\n",
       "debt                0\n",
       "total_income        0\n",
       "purpose             0\n",
       "dtype: int64"
      ]
     },
     "execution_count": 13,
     "metadata": {},
     "output_type": "execute_result"
    }
   ],
   "source": [
    "# группируем данные по дате рождения, применяем\n",
    "# к столбцу стажа функцию замены NaN на\n",
    "# медианное значение в группе\n",
    "df['days_employed'] = df.groupby('dob_years')['days_employed'].apply(lambda x: x.fillna(x.median()))\n",
    "# подсчёт пропусков\n",
    "df.isna().sum()"
   ]
  },
  {
   "cell_type": "code",
   "execution_count": 98,
   "metadata": {},
   "outputs": [
    {
     "name": "stdout",
     "output_type": "stream",
     "text": [
      "<pandas.core.groupby.generic.SeriesGroupBy object at 0x7febdc0084d0>\n"
     ]
    }
   ],
   "source": [
    "print(df.groupby('incozzzzzzme_type')['total_income'])"
   ]
  },
  {
   "cell_type": "markdown",
   "metadata": {},
   "source": [
    "Пропусков в столбце `days_employed` больше нет."
   ]
  },
  {
   "cell_type": "markdown",
   "metadata": {},
   "source": [
    "Проверим корректны ли данные в столбцах `children`, `gender`, `debt` и `dob_years`. Для этого используем метод `value_counts()` для поиска уникальных значений и их количества в столбце."
   ]
  },
  {
   "cell_type": "code",
   "execution_count": 14,
   "metadata": {},
   "outputs": [
    {
     "data": {
      "text/plain": [
       " 0     14149\n",
       " 1      4818\n",
       " 2      2055\n",
       " 3       330\n",
       " 20       76\n",
       "-1        47\n",
       " 4        41\n",
       " 5         9\n",
       "Name: children, dtype: int64"
      ]
     },
     "execution_count": 14,
     "metadata": {},
     "output_type": "execute_result"
    }
   ],
   "source": [
    "# проверка уникальных значений столбца children\n",
    "df['children'].value_counts()"
   ]
  },
  {
   "cell_type": "markdown",
   "metadata": {},
   "source": [
    "В столбце children обнаружены некорректные значение количества детей у клиента. Маловероятно, что у части клиентов имеется 20 детей или их количество отрицательно.\n",
    "\n",
    "Некорректные значения составляют 0,5% от общего числа измерений и мы можем изменить их значения на ноль."
   ]
  },
  {
   "cell_type": "code",
   "execution_count": 15,
   "metadata": {},
   "outputs": [
    {
     "data": {
      "text/plain": [
       "0    14272\n",
       "1     4818\n",
       "2     2055\n",
       "3      330\n",
       "4       41\n",
       "5        9\n",
       "Name: children, dtype: int64"
      ]
     },
     "execution_count": 15,
     "metadata": {},
     "output_type": "execute_result"
    }
   ],
   "source": [
    "# замена отрицательного значения\n",
    "df['children'] = df['children'].replace(-1, 0)\n",
    "# замена некорректного значения\n",
    "df['children'] = df['children'].replace(20, 0)\n",
    "# проверка уникальных значений столбца children после замены\n",
    "df['children'].value_counts()"
   ]
  },
  {
   "cell_type": "markdown",
   "metadata": {},
   "source": [
    "Проверим остальные столбцы таблицы на корректность значений."
   ]
  },
  {
   "cell_type": "code",
   "execution_count": 16,
   "metadata": {},
   "outputs": [
    {
     "data": {
      "text/plain": [
       "F      14236\n",
       "M       7288\n",
       "XNA        1\n",
       "Name: gender, dtype: int64"
      ]
     },
     "execution_count": 16,
     "metadata": {},
     "output_type": "execute_result"
    }
   ],
   "source": [
    "# проверка уникальных значений столбца gender\n",
    "df['gender'].value_counts()"
   ]
  },
  {
   "cell_type": "code",
   "execution_count": 17,
   "metadata": {},
   "outputs": [
    {
     "data": {
      "text/plain": [
       "0    19784\n",
       "1     1741\n",
       "Name: debt, dtype: int64"
      ]
     },
     "execution_count": 17,
     "metadata": {},
     "output_type": "execute_result"
    }
   ],
   "source": [
    "# проверка уникальных значений столбца debt\n",
    "df['debt'].value_counts()"
   ]
  },
  {
   "cell_type": "markdown",
   "metadata": {},
   "source": [
    "Проверка в столбцах `gender` и `debt` не выявила значимых проблем. Значение `XNA` в столбце `gender` допустимо в том случае, если клиент не указал пол и не влияет на ход исследования."
   ]
  },
  {
   "cell_type": "code",
   "execution_count": 18,
   "metadata": {},
   "outputs": [
    {
     "data": {
      "text/plain": [
       "35    617\n",
       "40    609\n",
       "41    607\n",
       "34    603\n",
       "38    598\n",
       "42    597\n",
       "33    581\n",
       "39    573\n",
       "31    560\n",
       "36    555\n",
       "44    547\n",
       "29    545\n",
       "30    540\n",
       "48    538\n",
       "37    537\n",
       "50    514\n",
       "43    513\n",
       "32    510\n",
       "49    508\n",
       "28    503\n",
       "45    497\n",
       "27    493\n",
       "56    487\n",
       "52    484\n",
       "47    480\n",
       "54    479\n",
       "46    475\n",
       "58    461\n",
       "57    460\n",
       "53    459\n",
       "51    448\n",
       "59    444\n",
       "55    443\n",
       "26    408\n",
       "60    377\n",
       "25    357\n",
       "61    355\n",
       "62    352\n",
       "63    269\n",
       "64    265\n",
       "24    264\n",
       "23    254\n",
       "65    194\n",
       "66    183\n",
       "22    183\n",
       "67    167\n",
       "21    111\n",
       "0     101\n",
       "68     99\n",
       "69     85\n",
       "70     65\n",
       "71     58\n",
       "20     51\n",
       "72     33\n",
       "19     14\n",
       "73      8\n",
       "74      6\n",
       "75      1\n",
       "Name: dob_years, dtype: int64"
      ]
     },
     "execution_count": 18,
     "metadata": {},
     "output_type": "execute_result"
    }
   ],
   "source": [
    "# проверка уникальных значений столбца dob_years\n",
    "df['dob_years'].value_counts()"
   ]
  },
  {
   "cell_type": "markdown",
   "metadata": {},
   "source": [
    "В столбце `dob_years` обнаружили нулевое значение возраста клиента. Возможно, сотрудник банка не заполнил возраст клиента или клиент заполнил поле возраста некорректно. Также возможна технологическая ошибка при конвертации даты рождения клиента в возраст в годах.\n",
    "Поскольку остальные значения столбца выглядят корректно и разнообразны, заменим отсутствующее значение возраста медианным значением."
   ]
  },
  {
   "cell_type": "code",
   "execution_count": 19,
   "metadata": {},
   "outputs": [],
   "source": [
    "# группируем данные по типу занятости, применяем\n",
    "# к столбцу возраста замену на\n",
    "# медианное значение в группе\n",
    "df['dob_years'] = df.groupby('income_type')['dob_years'].apply(lambda x: x.replace(0, x.median()))"
   ]
  },
  {
   "cell_type": "markdown",
   "metadata": {},
   "source": [
    "Проверим замену нулевого значения в столбце `dob_years`."
   ]
  },
  {
   "cell_type": "code",
   "execution_count": 20,
   "metadata": {},
   "outputs": [
    {
     "data": {
      "text/plain": [
       "39    648\n",
       "35    617\n",
       "40    615\n",
       "41    607\n",
       "34    603\n",
       "38    598\n",
       "42    597\n",
       "33    581\n",
       "31    560\n",
       "36    555\n",
       "44    547\n",
       "29    545\n",
       "30    540\n",
       "48    538\n",
       "37    537\n",
       "50    514\n",
       "43    513\n",
       "32    510\n",
       "49    508\n",
       "28    503\n",
       "45    497\n",
       "27    493\n",
       "56    487\n",
       "52    484\n",
       "47    480\n",
       "54    479\n",
       "46    475\n",
       "58    461\n",
       "57    460\n",
       "53    459\n",
       "51    448\n",
       "59    444\n",
       "55    443\n",
       "26    408\n",
       "60    397\n",
       "25    357\n",
       "61    355\n",
       "62    352\n",
       "63    269\n",
       "64    265\n",
       "24    264\n",
       "23    254\n",
       "65    194\n",
       "66    183\n",
       "22    183\n",
       "67    167\n",
       "21    111\n",
       "68     99\n",
       "69     85\n",
       "70     65\n",
       "71     58\n",
       "20     51\n",
       "72     33\n",
       "19     14\n",
       "73      8\n",
       "74      6\n",
       "75      1\n",
       "Name: dob_years, dtype: int64"
      ]
     },
     "execution_count": 20,
     "metadata": {},
     "output_type": "execute_result"
    }
   ],
   "source": [
    "# проверка уникальных значений столбца dob_years\n",
    "df['dob_years'].value_counts()"
   ]
  },
  {
   "cell_type": "markdown",
   "metadata": {},
   "source": [
    "**Вывод**\n",
    "\n",
    "В таблице были обнаружены пропуски в столбцах `days_employed` и `total_income`. Кроме того в столбцах `days_employed`  и `children` находились отрицательные и некорректные значения. Пропуски в столбцах `total_income` и `days_employed` были заменены медианным значением для каждой выделенной группы. Некорректные значения столбца `children` были заменены на ноль и включены в категорию клиентов без детей. Наконец, в столбце `dob_years` было обнаружено нулевое значение возраста, которое было заменено медианным значением соответственной группы типа занятости.\n",
    "\n",
    "На самом деле, не все столбцы из обработанных нам необходимы для ответов на вопросы исследования. Тем не менее предобработка всех столбцов полезна для дополнительных исследований, если они понадобятся."
   ]
  },
  {
   "cell_type": "markdown",
   "metadata": {},
   "source": [
    "### Замена типа данных"
   ]
  },
  {
   "cell_type": "markdown",
   "metadata": {},
   "source": [
    "Данные в столбце `total_income` имеют вещественный тип `float64`. Для нашего исследования дробная часть вещественного значения ежемесячного дохода не существенна, поэтому ее можем отбросить. Заменим вещественный тип данных в столбце `total_income` на целочисленный `integer` методом `astype()`. Он позволяет перевести значения столбца типа `float64` в нужный нам тип значения `int64`."
   ]
  },
  {
   "cell_type": "code",
   "execution_count": 21,
   "metadata": {},
   "outputs": [
    {
     "name": "stdout",
     "output_type": "stream",
     "text": [
      "<class 'pandas.core.frame.DataFrame'>\n",
      "RangeIndex: 21525 entries, 0 to 21524\n",
      "Data columns (total 12 columns):\n",
      "children            21525 non-null int64\n",
      "days_employed       21525 non-null float64\n",
      "dob_years           21525 non-null int64\n",
      "education           21525 non-null object\n",
      "education_id        21525 non-null int64\n",
      "family_status       21525 non-null object\n",
      "family_status_id    21525 non-null int64\n",
      "gender              21525 non-null object\n",
      "income_type         21525 non-null object\n",
      "debt                21525 non-null int64\n",
      "total_income        21525 non-null int64\n",
      "purpose             21525 non-null object\n",
      "dtypes: float64(1), int64(6), object(5)\n",
      "memory usage: 2.0+ MB\n"
     ]
    }
   ],
   "source": [
    "# изменение типа данных float на int\n",
    "df['total_income'] = df['total_income'].astype('int')\n",
    "# проверка изменений в общей информации о таблице df\n",
    "df.info()"
   ]
  },
  {
   "cell_type": "markdown",
   "metadata": {},
   "source": [
    "**Вывод**\n",
    "\n",
    "Методом `astype()` была произведена замена типа данных в столбце `total_income` с вещественного на целочисленный, так как в нашем исследовании дробная часть значения ежемесячного дохода не существенна."
   ]
  },
  {
   "cell_type": "markdown",
   "metadata": {},
   "source": [
    "### Обработка дубликатов"
   ]
  },
  {
   "cell_type": "markdown",
   "metadata": {},
   "source": [
    "Для поиска неявных дубликатов в колонке `education` используем метод `value_counts()`. Мы получим уникальные значения столбца и их количество."
   ]
  },
  {
   "cell_type": "code",
   "execution_count": 22,
   "metadata": {},
   "outputs": [
    {
     "data": {
      "text/plain": [
       "среднее                13750\n",
       "высшее                  4718\n",
       "СРЕДНЕЕ                  772\n",
       "Среднее                  711\n",
       "неоконченное высшее      668\n",
       "ВЫСШЕЕ                   274\n",
       "Высшее                   268\n",
       "начальное                250\n",
       "Неоконченное высшее       47\n",
       "НЕОКОНЧЕННОЕ ВЫСШЕЕ       29\n",
       "НАЧАЛЬНОЕ                 17\n",
       "Начальное                 15\n",
       "ученая степень             4\n",
       "Ученая степень             1\n",
       "УЧЕНАЯ СТЕПЕНЬ             1\n",
       "Name: education, dtype: int64"
      ]
     },
     "execution_count": 22,
     "metadata": {},
     "output_type": "execute_result"
    }
   ],
   "source": [
    "# поиск уникальных значений в столбце 'education' и \n",
    "# подсчет их числа\n",
    "df['education'].value_counts()"
   ]
  },
  {
   "cell_type": "markdown",
   "metadata": {},
   "source": [
    "Мы заметили, что в столбце `education` значения повторяются. В дубликатах или значение написано прописными буквами, или используется прописная буква в начале слова. Причиной таких дубликатов, к примеру, может служить заполнение этих данных разными сотрудниками, которые использовали разные варианты написания значений.\n",
    "\n",
    "Чтобы удалить подобные дубликаты воспользуемся методом `str.lower()`, который приводит значения столбца к нижнему регистру."
   ]
  },
  {
   "cell_type": "code",
   "execution_count": 23,
   "metadata": {},
   "outputs": [
    {
     "data": {
      "text/plain": [
       "среднее                15233\n",
       "высшее                  5260\n",
       "неоконченное высшее      744\n",
       "начальное                282\n",
       "ученая степень             6\n",
       "Name: education, dtype: int64"
      ]
     },
     "execution_count": 23,
     "metadata": {},
     "output_type": "execute_result"
    }
   ],
   "source": [
    "# приведем значения в столбце 'education' к нижнему регистру\n",
    "df['education'] = df['education'].str.lower()\n",
    "# проверим уникальные значения после применения метода\n",
    "df['education'].value_counts()"
   ]
  },
  {
   "cell_type": "markdown",
   "metadata": {},
   "source": [
    "Повторим процедуру поиска неявных дубликатов для колонки `family_status`."
   ]
  },
  {
   "cell_type": "code",
   "execution_count": 24,
   "metadata": {},
   "outputs": [
    {
     "data": {
      "text/plain": [
       "женат / замужем          12380\n",
       "гражданский брак          4177\n",
       "Не женат / не замужем     2813\n",
       "в разводе                 1195\n",
       "вдовец / вдова             960\n",
       "Name: family_status, dtype: int64"
      ]
     },
     "execution_count": 24,
     "metadata": {},
     "output_type": "execute_result"
    }
   ],
   "source": [
    "# получение уникальных значений и их количества в столбце family_status\n",
    "df['family_status'].value_counts()"
   ]
  },
  {
   "cell_type": "markdown",
   "metadata": {},
   "source": [
    "Неявные дубликаты в столбце `family_status` не найдены, но можно исправить прописную букву в одном из значений. Для этого также используем метод `str.lower()`."
   ]
  },
  {
   "cell_type": "code",
   "execution_count": 25,
   "metadata": {},
   "outputs": [
    {
     "data": {
      "text/plain": [
       "женат / замужем          12380\n",
       "гражданский брак          4177\n",
       "не женат / не замужем     2813\n",
       "в разводе                 1195\n",
       "вдовец / вдова             960\n",
       "Name: family_status, dtype: int64"
      ]
     },
     "execution_count": 25,
     "metadata": {},
     "output_type": "execute_result"
    }
   ],
   "source": [
    "# замена\n",
    "df['family_status'] = df['family_status'].str.lower()\n",
    "df['family_status'].value_counts()"
   ]
  },
  {
   "cell_type": "markdown",
   "metadata": {},
   "source": [
    "Выполним поиск явных дубликатов."
   ]
  },
  {
   "cell_type": "code",
   "execution_count": 26,
   "metadata": {},
   "outputs": [
    {
     "data": {
      "text/plain": [
       "54"
      ]
     },
     "execution_count": 26,
     "metadata": {},
     "output_type": "execute_result"
    }
   ],
   "source": [
    "# определение количества явных дубликатов\n",
    "df.duplicated().sum()"
   ]
  },
  {
   "cell_type": "code",
   "execution_count": 27,
   "metadata": {},
   "outputs": [],
   "source": [
    "# удаление явных дубликатов\n",
    "df = df.drop_duplicates()"
   ]
  },
  {
   "cell_type": "markdown",
   "metadata": {},
   "source": [
    "**Вывод**\n",
    "\n",
    "Изучив уникальные значения столбцов `education` и `family_status` были обнаружены дублирующиеся значения, записанные в разном регистре. Методом `str.lower()` все значения были приведены к нижнему регистру.\n",
    "\n",
    "Была выполнена проверка данных на явные дубликаты, методом `drop_duplicates()` они были удалены.\n"
   ]
  },
  {
   "cell_type": "markdown",
   "metadata": {},
   "source": [
    "### Лемматизация"
   ]
  },
  {
   "cell_type": "markdown",
   "metadata": {},
   "source": [
    "Для поиска дубликатов в столбце с целями кредита `purpose` используем метод `value_counts()`."
   ]
  },
  {
   "cell_type": "code",
   "execution_count": 28,
   "metadata": {},
   "outputs": [
    {
     "data": {
      "text/plain": [
       "свадьба                                   793\n",
       "на проведение свадьбы                     773\n",
       "сыграть свадьбу                           769\n",
       "операции с недвижимостью                  675\n",
       "покупка коммерческой недвижимости         662\n",
       "покупка жилья для сдачи                   652\n",
       "операции с жильем                         652\n",
       "операции с коммерческой недвижимостью     650\n",
       "покупка жилья                             646\n",
       "жилье                                     646\n",
       "покупка жилья для семьи                   638\n",
       "строительство собственной недвижимости    635\n",
       "недвижимость                              633\n",
       "операции со своей недвижимостью           627\n",
       "строительство жилой недвижимости          625\n",
       "покупка недвижимости                      621\n",
       "покупка своего жилья                      620\n",
       "строительство недвижимости                619\n",
       "ремонт жилью                              607\n",
       "покупка жилой недвижимости                606\n",
       "на покупку своего автомобиля              505\n",
       "заняться высшим образованием              496\n",
       "автомобиль                                494\n",
       "сделка с подержанным автомобилем          486\n",
       "свой автомобиль                           479\n",
       "на покупку подержанного автомобиля        478\n",
       "автомобили                                478\n",
       "на покупку автомобиля                     472\n",
       "приобретение автомобиля                   461\n",
       "дополнительное образование                460\n",
       "сделка с автомобилем                      455\n",
       "высшее образование                        452\n",
       "получение дополнительного образования     447\n",
       "образование                               447\n",
       "получение образования                     442\n",
       "профильное образование                    436\n",
       "получение высшего образования             426\n",
       "заняться образованием                     408\n",
       "Name: purpose, dtype: int64"
      ]
     },
     "execution_count": 28,
     "metadata": {},
     "output_type": "execute_result"
    }
   ],
   "source": [
    "# получение уникальных значений и их количества в столбце purpose\n",
    "df['purpose'].value_counts()"
   ]
  },
  {
   "cell_type": "markdown",
   "metadata": {},
   "source": [
    "В результате мы обнаружили внушительный список целей кредита, но можем заметить, что часть значений дублируется по смыслу, но имеет другую форму записи слов. \n",
    "Для решения этой проблемы воспользуемся функцией лемматизации, которая позволяет привести каждое значение столбца `purpose` к списку начальных форм слов в нем содержащихся (леммам). \n",
    "\n",
    "Выполнив лемматизацию, в дальнейшем мы сможем однозначно определить категорию каждого значения столбца `purpose` согласно его смыслу. То есть в итоге мы избавимся от дублирующихся по смыслу целей кредита.\n",
    "\n"
   ]
  },
  {
   "cell_type": "markdown",
   "metadata": {},
   "source": [
    "Выполним лемматизацию для столбца `purpose`:"
   ]
  },
  {
   "cell_type": "code",
   "execution_count": 29,
   "metadata": {},
   "outputs": [],
   "source": [
    "# переменная для использования функции лемматизации\n",
    "# из библиотеки Mystem\n",
    "m = Mystem()\n",
    "# функция для поиска начальных форм слов (лемм)\n",
    "def find_lemma(value):\n",
    "    lemma = m.lemmatize(value)\n",
    "    return lemma\n",
    "# применяем функцию на значениях столбца purpose и \n",
    "# записываем список с леммами в новый столбец\n",
    "df['purpose_lemmas'] = df['purpose'].apply(find_lemma)"
   ]
  },
  {
   "cell_type": "markdown",
   "metadata": {},
   "source": [
    "Проверим, что новый столбец с леммами создан:"
   ]
  },
  {
   "cell_type": "code",
   "execution_count": 30,
   "metadata": {},
   "outputs": [
    {
     "data": {
      "text/html": [
       "<div>\n",
       "<style scoped>\n",
       "    .dataframe tbody tr th:only-of-type {\n",
       "        vertical-align: middle;\n",
       "    }\n",
       "\n",
       "    .dataframe tbody tr th {\n",
       "        vertical-align: top;\n",
       "    }\n",
       "\n",
       "    .dataframe thead th {\n",
       "        text-align: right;\n",
       "    }\n",
       "</style>\n",
       "<table border=\"1\" class=\"dataframe\">\n",
       "  <thead>\n",
       "    <tr style=\"text-align: right;\">\n",
       "      <th></th>\n",
       "      <th>children</th>\n",
       "      <th>days_employed</th>\n",
       "      <th>dob_years</th>\n",
       "      <th>education</th>\n",
       "      <th>education_id</th>\n",
       "      <th>family_status</th>\n",
       "      <th>family_status_id</th>\n",
       "      <th>gender</th>\n",
       "      <th>income_type</th>\n",
       "      <th>debt</th>\n",
       "      <th>total_income</th>\n",
       "      <th>purpose</th>\n",
       "      <th>purpose_lemmas</th>\n",
       "    </tr>\n",
       "  </thead>\n",
       "  <tbody>\n",
       "    <tr>\n",
       "      <td>0</td>\n",
       "      <td>1</td>\n",
       "      <td>8437.673028</td>\n",
       "      <td>42</td>\n",
       "      <td>высшее</td>\n",
       "      <td>0</td>\n",
       "      <td>женат / замужем</td>\n",
       "      <td>0</td>\n",
       "      <td>F</td>\n",
       "      <td>сотрудник</td>\n",
       "      <td>0</td>\n",
       "      <td>253875</td>\n",
       "      <td>покупка жилья</td>\n",
       "      <td>[покупка,  , жилье, \\n]</td>\n",
       "    </tr>\n",
       "    <tr>\n",
       "      <td>1</td>\n",
       "      <td>1</td>\n",
       "      <td>4024.803754</td>\n",
       "      <td>36</td>\n",
       "      <td>среднее</td>\n",
       "      <td>1</td>\n",
       "      <td>женат / замужем</td>\n",
       "      <td>0</td>\n",
       "      <td>F</td>\n",
       "      <td>сотрудник</td>\n",
       "      <td>0</td>\n",
       "      <td>112080</td>\n",
       "      <td>приобретение автомобиля</td>\n",
       "      <td>[приобретение,  , автомобиль, \\n]</td>\n",
       "    </tr>\n",
       "    <tr>\n",
       "      <td>2</td>\n",
       "      <td>0</td>\n",
       "      <td>5623.422610</td>\n",
       "      <td>33</td>\n",
       "      <td>среднее</td>\n",
       "      <td>1</td>\n",
       "      <td>женат / замужем</td>\n",
       "      <td>0</td>\n",
       "      <td>M</td>\n",
       "      <td>сотрудник</td>\n",
       "      <td>0</td>\n",
       "      <td>145885</td>\n",
       "      <td>покупка жилья</td>\n",
       "      <td>[покупка,  , жилье, \\n]</td>\n",
       "    </tr>\n",
       "    <tr>\n",
       "      <td>3</td>\n",
       "      <td>3</td>\n",
       "      <td>4124.747207</td>\n",
       "      <td>32</td>\n",
       "      <td>среднее</td>\n",
       "      <td>1</td>\n",
       "      <td>женат / замужем</td>\n",
       "      <td>0</td>\n",
       "      <td>M</td>\n",
       "      <td>сотрудник</td>\n",
       "      <td>0</td>\n",
       "      <td>267628</td>\n",
       "      <td>дополнительное образование</td>\n",
       "      <td>[дополнительный,  , образование, \\n]</td>\n",
       "    </tr>\n",
       "    <tr>\n",
       "      <td>4</td>\n",
       "      <td>0</td>\n",
       "      <td>340266.072047</td>\n",
       "      <td>53</td>\n",
       "      <td>среднее</td>\n",
       "      <td>1</td>\n",
       "      <td>гражданский брак</td>\n",
       "      <td>1</td>\n",
       "      <td>F</td>\n",
       "      <td>пенсионер</td>\n",
       "      <td>0</td>\n",
       "      <td>158616</td>\n",
       "      <td>сыграть свадьбу</td>\n",
       "      <td>[сыграть,  , свадьба, \\n]</td>\n",
       "    </tr>\n",
       "    <tr>\n",
       "      <td>5</td>\n",
       "      <td>0</td>\n",
       "      <td>926.185831</td>\n",
       "      <td>27</td>\n",
       "      <td>высшее</td>\n",
       "      <td>0</td>\n",
       "      <td>гражданский брак</td>\n",
       "      <td>1</td>\n",
       "      <td>M</td>\n",
       "      <td>компаньон</td>\n",
       "      <td>0</td>\n",
       "      <td>255763</td>\n",
       "      <td>покупка жилья</td>\n",
       "      <td>[покупка,  , жилье, \\n]</td>\n",
       "    </tr>\n",
       "    <tr>\n",
       "      <td>6</td>\n",
       "      <td>0</td>\n",
       "      <td>2879.202052</td>\n",
       "      <td>43</td>\n",
       "      <td>высшее</td>\n",
       "      <td>0</td>\n",
       "      <td>женат / замужем</td>\n",
       "      <td>0</td>\n",
       "      <td>F</td>\n",
       "      <td>компаньон</td>\n",
       "      <td>0</td>\n",
       "      <td>240525</td>\n",
       "      <td>операции с жильем</td>\n",
       "      <td>[операция,  , с,  , жилье, \\n]</td>\n",
       "    </tr>\n",
       "    <tr>\n",
       "      <td>7</td>\n",
       "      <td>0</td>\n",
       "      <td>152.779569</td>\n",
       "      <td>50</td>\n",
       "      <td>среднее</td>\n",
       "      <td>1</td>\n",
       "      <td>женат / замужем</td>\n",
       "      <td>0</td>\n",
       "      <td>M</td>\n",
       "      <td>сотрудник</td>\n",
       "      <td>0</td>\n",
       "      <td>135823</td>\n",
       "      <td>образование</td>\n",
       "      <td>[образование, \\n]</td>\n",
       "    </tr>\n",
       "    <tr>\n",
       "      <td>8</td>\n",
       "      <td>2</td>\n",
       "      <td>6929.865299</td>\n",
       "      <td>35</td>\n",
       "      <td>высшее</td>\n",
       "      <td>0</td>\n",
       "      <td>гражданский брак</td>\n",
       "      <td>1</td>\n",
       "      <td>F</td>\n",
       "      <td>сотрудник</td>\n",
       "      <td>0</td>\n",
       "      <td>95856</td>\n",
       "      <td>на проведение свадьбы</td>\n",
       "      <td>[на,  , проведение,  , свадьба, \\n]</td>\n",
       "    </tr>\n",
       "    <tr>\n",
       "      <td>9</td>\n",
       "      <td>0</td>\n",
       "      <td>2188.756445</td>\n",
       "      <td>41</td>\n",
       "      <td>среднее</td>\n",
       "      <td>1</td>\n",
       "      <td>женат / замужем</td>\n",
       "      <td>0</td>\n",
       "      <td>M</td>\n",
       "      <td>сотрудник</td>\n",
       "      <td>0</td>\n",
       "      <td>144425</td>\n",
       "      <td>покупка жилья для семьи</td>\n",
       "      <td>[покупка,  , жилье,  , для,  , семья, \\n]</td>\n",
       "    </tr>\n",
       "    <tr>\n",
       "      <td>10</td>\n",
       "      <td>2</td>\n",
       "      <td>4171.483647</td>\n",
       "      <td>36</td>\n",
       "      <td>высшее</td>\n",
       "      <td>0</td>\n",
       "      <td>женат / замужем</td>\n",
       "      <td>0</td>\n",
       "      <td>M</td>\n",
       "      <td>компаньон</td>\n",
       "      <td>0</td>\n",
       "      <td>113943</td>\n",
       "      <td>покупка недвижимости</td>\n",
       "      <td>[покупка,  , недвижимость, \\n]</td>\n",
       "    </tr>\n",
       "    <tr>\n",
       "      <td>11</td>\n",
       "      <td>0</td>\n",
       "      <td>792.701887</td>\n",
       "      <td>40</td>\n",
       "      <td>среднее</td>\n",
       "      <td>1</td>\n",
       "      <td>женат / замужем</td>\n",
       "      <td>0</td>\n",
       "      <td>F</td>\n",
       "      <td>сотрудник</td>\n",
       "      <td>0</td>\n",
       "      <td>77069</td>\n",
       "      <td>покупка коммерческой недвижимости</td>\n",
       "      <td>[покупка,  , коммерческий,  , недвижимость, \\n]</td>\n",
       "    </tr>\n",
       "    <tr>\n",
       "      <td>12</td>\n",
       "      <td>0</td>\n",
       "      <td>365927.935941</td>\n",
       "      <td>65</td>\n",
       "      <td>среднее</td>\n",
       "      <td>1</td>\n",
       "      <td>гражданский брак</td>\n",
       "      <td>1</td>\n",
       "      <td>M</td>\n",
       "      <td>пенсионер</td>\n",
       "      <td>0</td>\n",
       "      <td>118514</td>\n",
       "      <td>сыграть свадьбу</td>\n",
       "      <td>[сыграть,  , свадьба, \\n]</td>\n",
       "    </tr>\n",
       "    <tr>\n",
       "      <td>13</td>\n",
       "      <td>0</td>\n",
       "      <td>1846.641941</td>\n",
       "      <td>54</td>\n",
       "      <td>неоконченное высшее</td>\n",
       "      <td>2</td>\n",
       "      <td>женат / замужем</td>\n",
       "      <td>0</td>\n",
       "      <td>F</td>\n",
       "      <td>сотрудник</td>\n",
       "      <td>0</td>\n",
       "      <td>130458</td>\n",
       "      <td>приобретение автомобиля</td>\n",
       "      <td>[приобретение,  , автомобиль, \\n]</td>\n",
       "    </tr>\n",
       "    <tr>\n",
       "      <td>14</td>\n",
       "      <td>0</td>\n",
       "      <td>1844.956182</td>\n",
       "      <td>56</td>\n",
       "      <td>высшее</td>\n",
       "      <td>0</td>\n",
       "      <td>гражданский брак</td>\n",
       "      <td>1</td>\n",
       "      <td>F</td>\n",
       "      <td>компаньон</td>\n",
       "      <td>1</td>\n",
       "      <td>165127</td>\n",
       "      <td>покупка жилой недвижимости</td>\n",
       "      <td>[покупка,  , жилой,  , недвижимость, \\n]</td>\n",
       "    </tr>\n",
       "  </tbody>\n",
       "</table>\n",
       "</div>"
      ],
      "text/plain": [
       "    children  days_employed  dob_years            education  education_id  \\\n",
       "0          1    8437.673028         42               высшее             0   \n",
       "1          1    4024.803754         36              среднее             1   \n",
       "2          0    5623.422610         33              среднее             1   \n",
       "3          3    4124.747207         32              среднее             1   \n",
       "4          0  340266.072047         53              среднее             1   \n",
       "5          0     926.185831         27               высшее             0   \n",
       "6          0    2879.202052         43               высшее             0   \n",
       "7          0     152.779569         50              среднее             1   \n",
       "8          2    6929.865299         35               высшее             0   \n",
       "9          0    2188.756445         41              среднее             1   \n",
       "10         2    4171.483647         36               высшее             0   \n",
       "11         0     792.701887         40              среднее             1   \n",
       "12         0  365927.935941         65              среднее             1   \n",
       "13         0    1846.641941         54  неоконченное высшее             2   \n",
       "14         0    1844.956182         56               высшее             0   \n",
       "\n",
       "       family_status  family_status_id gender income_type  debt  total_income  \\\n",
       "0    женат / замужем                 0      F   сотрудник     0        253875   \n",
       "1    женат / замужем                 0      F   сотрудник     0        112080   \n",
       "2    женат / замужем                 0      M   сотрудник     0        145885   \n",
       "3    женат / замужем                 0      M   сотрудник     0        267628   \n",
       "4   гражданский брак                 1      F   пенсионер     0        158616   \n",
       "5   гражданский брак                 1      M   компаньон     0        255763   \n",
       "6    женат / замужем                 0      F   компаньон     0        240525   \n",
       "7    женат / замужем                 0      M   сотрудник     0        135823   \n",
       "8   гражданский брак                 1      F   сотрудник     0         95856   \n",
       "9    женат / замужем                 0      M   сотрудник     0        144425   \n",
       "10   женат / замужем                 0      M   компаньон     0        113943   \n",
       "11   женат / замужем                 0      F   сотрудник     0         77069   \n",
       "12  гражданский брак                 1      M   пенсионер     0        118514   \n",
       "13   женат / замужем                 0      F   сотрудник     0        130458   \n",
       "14  гражданский брак                 1      F   компаньон     1        165127   \n",
       "\n",
       "                              purpose  \\\n",
       "0                       покупка жилья   \n",
       "1             приобретение автомобиля   \n",
       "2                       покупка жилья   \n",
       "3          дополнительное образование   \n",
       "4                     сыграть свадьбу   \n",
       "5                       покупка жилья   \n",
       "6                   операции с жильем   \n",
       "7                         образование   \n",
       "8               на проведение свадьбы   \n",
       "9             покупка жилья для семьи   \n",
       "10               покупка недвижимости   \n",
       "11  покупка коммерческой недвижимости   \n",
       "12                    сыграть свадьбу   \n",
       "13            приобретение автомобиля   \n",
       "14         покупка жилой недвижимости   \n",
       "\n",
       "                                     purpose_lemmas  \n",
       "0                           [покупка,  , жилье, \\n]  \n",
       "1                 [приобретение,  , автомобиль, \\n]  \n",
       "2                           [покупка,  , жилье, \\n]  \n",
       "3              [дополнительный,  , образование, \\n]  \n",
       "4                         [сыграть,  , свадьба, \\n]  \n",
       "5                           [покупка,  , жилье, \\n]  \n",
       "6                    [операция,  , с,  , жилье, \\n]  \n",
       "7                                 [образование, \\n]  \n",
       "8               [на,  , проведение,  , свадьба, \\n]  \n",
       "9         [покупка,  , жилье,  , для,  , семья, \\n]  \n",
       "10                   [покупка,  , недвижимость, \\n]  \n",
       "11  [покупка,  , коммерческий,  , недвижимость, \\n]  \n",
       "12                        [сыграть,  , свадьба, \\n]  \n",
       "13                [приобретение,  , автомобиль, \\n]  \n",
       "14         [покупка,  , жилой,  , недвижимость, \\n]  "
      ]
     },
     "metadata": {},
     "output_type": "display_data"
    }
   ],
   "source": [
    "# получение первых 15 строк таблицы df\n",
    "display(df.head(15))"
   ]
  },
  {
   "cell_type": "markdown",
   "metadata": {},
   "source": [
    "Узнаем, какие списки с леммами были созданы для исходного столбца `purpose`."
   ]
  },
  {
   "cell_type": "code",
   "execution_count": 31,
   "metadata": {},
   "outputs": [
    {
     "data": {
      "text/plain": [
       "[автомобиль, \\n]                                          972\n",
       "[свадьба, \\n]                                             793\n",
       "[на,  , проведение,  , свадьба, \\n]                       773\n",
       "[сыграть,  , свадьба, \\n]                                 769\n",
       "[операция,  , с,  , недвижимость, \\n]                     675\n",
       "[покупка,  , коммерческий,  , недвижимость, \\n]           662\n",
       "[операция,  , с,  , жилье, \\n]                            652\n",
       "[покупка,  , жилье,  , для,  , сдача, \\n]                 652\n",
       "[операция,  , с,  , коммерческий,  , недвижимость, \\n]    650\n",
       "[покупка,  , жилье, \\n]                                   646\n",
       "[жилье, \\n]                                               646\n",
       "[покупка,  , жилье,  , для,  , семья, \\n]                 638\n",
       "[строительство,  , собственный,  , недвижимость, \\n]      635\n",
       "[недвижимость, \\n]                                        633\n",
       "[операция,  , со,  , свой,  , недвижимость, \\n]           627\n",
       "[строительство,  , жилой,  , недвижимость, \\n]            625\n",
       "[покупка,  , недвижимость, \\n]                            621\n",
       "[покупка,  , свой,  , жилье, \\n]                          620\n",
       "[строительство,  , недвижимость, \\n]                      619\n",
       "[ремонт,  , жилье, \\n]                                    607\n",
       "[покупка,  , жилой,  , недвижимость, \\n]                  606\n",
       "[на,  , покупка,  , свой,  , автомобиль, \\n]              505\n",
       "[заниматься,  , высокий,  , образование, \\n]              496\n",
       "[сделка,  , с,  , подержанный,  , автомобиль, \\n]         486\n",
       "[свой,  , автомобиль, \\n]                                 479\n",
       "[на,  , покупка,  , подержать,  , автомобиль, \\n]         478\n",
       "[на,  , покупка,  , автомобиль, \\n]                       472\n",
       "[приобретение,  , автомобиль, \\n]                         461\n",
       "[дополнительный,  , образование, \\n]                      460\n",
       "[сделка,  , с,  , автомобиль, \\n]                         455\n",
       "[высокий,  , образование, \\n]                             452\n",
       "[получение,  , дополнительный,  , образование, \\n]        447\n",
       "[образование, \\n]                                         447\n",
       "[получение,  , образование, \\n]                           442\n",
       "[профильный,  , образование, \\n]                          436\n",
       "[получение,  , высокий,  , образование, \\n]               426\n",
       "[заниматься,  , образование, \\n]                          408\n",
       "Name: purpose_lemmas, dtype: int64"
      ]
     },
     "execution_count": 31,
     "metadata": {},
     "output_type": "execute_result"
    }
   ],
   "source": [
    "# просмотр уникальных значений столбца с леммами\n",
    "df['purpose_lemmas'].value_counts()"
   ]
  },
  {
   "cell_type": "markdown",
   "metadata": {},
   "source": [
    "Теперь когда все значения столбца с целями кредита приведены к леммам (начальной форме слов), мы можем выделить основные ключевые слова для каждой цели и применить категоризацию для решения проблемы дубликатов."
   ]
  },
  {
   "cell_type": "markdown",
   "metadata": {},
   "source": [
    "**Вывод**\n",
    "\n",
    "К значениям столбца `purpose` применили функцию лемматизации (приведения к начальной форме слова), поскольку значения дублировали друг друга по смыслу, но были представлены в различных формах слов. Обработка значений с использованием лемматизации поможет составить словарь целей кредита при категоризации данных."
   ]
  },
  {
   "cell_type": "markdown",
   "metadata": {},
   "source": [
    "### Категоризация данных"
   ]
  },
  {
   "cell_type": "markdown",
   "metadata": {},
   "source": [
    "Категоризация позволяет объединить избранные данные в произвольные группы по заданному критерию."
   ]
  },
  {
   "cell_type": "markdown",
   "metadata": {},
   "source": [
    "#### Категоризация данных для целей кредита"
   ]
  },
  {
   "cell_type": "markdown",
   "metadata": {},
   "source": [
    "В нашем исследовании категоризация в первую очередь полезна для значений столбца `purpose`. Даже после лемматизации мы имеем множество целей кредита, часть из которых дублируют друг друга и имеют неудобный формат для обработки и использования в дальнейшем. \n",
    "\n",
    "Поскольку выше мы выделили леммы для каждого значения столбца `purpose` сейчас мы можем составить словарь основных целей и однозначно и лаконично категоризировать значения. То есть объединить одинаковые по смыслу значения в столбце по заданному критерию.\n",
    "\n",
    "Внимательно изучив список уникальных значений столбца с леммами `purpose_lemmas` выделим основные цели кредита и слова, используемые для их точного определения (критерии). Таким образом, составим \"словарь\" (для лучшей демонстрации выполнен в виде словаря списков):"
   ]
  },
  {
   "cell_type": "code",
   "execution_count": 32,
   "metadata": {},
   "outputs": [],
   "source": [
    "# словарь для целей кредита в виде словаря списков\n",
    "purposes = {\n",
    "    'свадьба': ['свадьба'],\n",
    "    'образование': ['образование'],\n",
    "    'покупка автомобиля': ['автомобиль'],\n",
    "    'покупка недвижимости': ['недвижимость', 'жилье'],\n",
    "    'строительство и ремонт': ['строительство', 'ремонт'],   \n",
    "}"
   ]
  },
  {
   "cell_type": "markdown",
   "metadata": {},
   "source": [
    "Таким образом, мы можем выделить 5 основных целей кредита:\n",
    "\n",
    "* \"свадьба\"\n",
    "* \"образование\"\n",
    "* \"покупка автомобиля\"\n",
    "* \"покупка недвижимости\"\n",
    "* \"строительство и ремонт\"\n",
    "\n",
    "Чтобы категоризировать каждое значение в столбце `purpose_lemmas` в соответствии с основными целями нужно проверить выполнение условия: содержание в нем значений из словаря и присвоить соответствующую категорию."
   ]
  },
  {
   "cell_type": "code",
   "execution_count": 33,
   "metadata": {},
   "outputs": [],
   "source": [
    "# функция определения категории,\n",
    "# проверяет содержатся ли в заданном списке значения из \n",
    "# словаря целей кредита, возвращает название категории\n",
    "def purpose_categorize(purpose_list):                        \n",
    "    if 'свадьба' in purpose_list:\n",
    "        return 'свадьба'    \n",
    "    if 'образование' in purpose_list:\n",
    "        return 'образование'\n",
    "    if 'автомобиль' in purpose_list:\n",
    "        return 'покупка автомобиля'\n",
    "    if 'строительство' in purpose_list or 'ремонт' in purpose_list:\n",
    "        return 'строительство и ремонт'\n",
    "    if 'недвижимость' in purpose_list or 'жилье' in purpose_list:\n",
    "        return 'покупка недвижимости'\n",
    "    return 'не удалось определить категорию'\n",
    "# применение функции определения категории к столбцу purpose_lemmas \n",
    "df['purpose_category'] = df['purpose_lemmas'].apply(purpose_categorize)"
   ]
  },
  {
   "cell_type": "markdown",
   "metadata": {},
   "source": [
    "Проверим результат выполнения функции определения категории:"
   ]
  },
  {
   "cell_type": "code",
   "execution_count": 34,
   "metadata": {},
   "outputs": [
    {
     "data": {
      "text/html": [
       "<div>\n",
       "<style scoped>\n",
       "    .dataframe tbody tr th:only-of-type {\n",
       "        vertical-align: middle;\n",
       "    }\n",
       "\n",
       "    .dataframe tbody tr th {\n",
       "        vertical-align: top;\n",
       "    }\n",
       "\n",
       "    .dataframe thead th {\n",
       "        text-align: right;\n",
       "    }\n",
       "</style>\n",
       "<table border=\"1\" class=\"dataframe\">\n",
       "  <thead>\n",
       "    <tr style=\"text-align: right;\">\n",
       "      <th></th>\n",
       "      <th>children</th>\n",
       "      <th>days_employed</th>\n",
       "      <th>dob_years</th>\n",
       "      <th>education</th>\n",
       "      <th>education_id</th>\n",
       "      <th>family_status</th>\n",
       "      <th>family_status_id</th>\n",
       "      <th>gender</th>\n",
       "      <th>income_type</th>\n",
       "      <th>debt</th>\n",
       "      <th>total_income</th>\n",
       "      <th>purpose</th>\n",
       "      <th>purpose_lemmas</th>\n",
       "      <th>purpose_category</th>\n",
       "    </tr>\n",
       "  </thead>\n",
       "  <tbody>\n",
       "    <tr>\n",
       "      <td>0</td>\n",
       "      <td>1</td>\n",
       "      <td>8437.673028</td>\n",
       "      <td>42</td>\n",
       "      <td>высшее</td>\n",
       "      <td>0</td>\n",
       "      <td>женат / замужем</td>\n",
       "      <td>0</td>\n",
       "      <td>F</td>\n",
       "      <td>сотрудник</td>\n",
       "      <td>0</td>\n",
       "      <td>253875</td>\n",
       "      <td>покупка жилья</td>\n",
       "      <td>[покупка,  , жилье, \\n]</td>\n",
       "      <td>покупка недвижимости</td>\n",
       "    </tr>\n",
       "    <tr>\n",
       "      <td>1</td>\n",
       "      <td>1</td>\n",
       "      <td>4024.803754</td>\n",
       "      <td>36</td>\n",
       "      <td>среднее</td>\n",
       "      <td>1</td>\n",
       "      <td>женат / замужем</td>\n",
       "      <td>0</td>\n",
       "      <td>F</td>\n",
       "      <td>сотрудник</td>\n",
       "      <td>0</td>\n",
       "      <td>112080</td>\n",
       "      <td>приобретение автомобиля</td>\n",
       "      <td>[приобретение,  , автомобиль, \\n]</td>\n",
       "      <td>покупка автомобиля</td>\n",
       "    </tr>\n",
       "    <tr>\n",
       "      <td>2</td>\n",
       "      <td>0</td>\n",
       "      <td>5623.422610</td>\n",
       "      <td>33</td>\n",
       "      <td>среднее</td>\n",
       "      <td>1</td>\n",
       "      <td>женат / замужем</td>\n",
       "      <td>0</td>\n",
       "      <td>M</td>\n",
       "      <td>сотрудник</td>\n",
       "      <td>0</td>\n",
       "      <td>145885</td>\n",
       "      <td>покупка жилья</td>\n",
       "      <td>[покупка,  , жилье, \\n]</td>\n",
       "      <td>покупка недвижимости</td>\n",
       "    </tr>\n",
       "    <tr>\n",
       "      <td>3</td>\n",
       "      <td>3</td>\n",
       "      <td>4124.747207</td>\n",
       "      <td>32</td>\n",
       "      <td>среднее</td>\n",
       "      <td>1</td>\n",
       "      <td>женат / замужем</td>\n",
       "      <td>0</td>\n",
       "      <td>M</td>\n",
       "      <td>сотрудник</td>\n",
       "      <td>0</td>\n",
       "      <td>267628</td>\n",
       "      <td>дополнительное образование</td>\n",
       "      <td>[дополнительный,  , образование, \\n]</td>\n",
       "      <td>образование</td>\n",
       "    </tr>\n",
       "    <tr>\n",
       "      <td>4</td>\n",
       "      <td>0</td>\n",
       "      <td>340266.072047</td>\n",
       "      <td>53</td>\n",
       "      <td>среднее</td>\n",
       "      <td>1</td>\n",
       "      <td>гражданский брак</td>\n",
       "      <td>1</td>\n",
       "      <td>F</td>\n",
       "      <td>пенсионер</td>\n",
       "      <td>0</td>\n",
       "      <td>158616</td>\n",
       "      <td>сыграть свадьбу</td>\n",
       "      <td>[сыграть,  , свадьба, \\n]</td>\n",
       "      <td>свадьба</td>\n",
       "    </tr>\n",
       "    <tr>\n",
       "      <td>5</td>\n",
       "      <td>0</td>\n",
       "      <td>926.185831</td>\n",
       "      <td>27</td>\n",
       "      <td>высшее</td>\n",
       "      <td>0</td>\n",
       "      <td>гражданский брак</td>\n",
       "      <td>1</td>\n",
       "      <td>M</td>\n",
       "      <td>компаньон</td>\n",
       "      <td>0</td>\n",
       "      <td>255763</td>\n",
       "      <td>покупка жилья</td>\n",
       "      <td>[покупка,  , жилье, \\n]</td>\n",
       "      <td>покупка недвижимости</td>\n",
       "    </tr>\n",
       "    <tr>\n",
       "      <td>6</td>\n",
       "      <td>0</td>\n",
       "      <td>2879.202052</td>\n",
       "      <td>43</td>\n",
       "      <td>высшее</td>\n",
       "      <td>0</td>\n",
       "      <td>женат / замужем</td>\n",
       "      <td>0</td>\n",
       "      <td>F</td>\n",
       "      <td>компаньон</td>\n",
       "      <td>0</td>\n",
       "      <td>240525</td>\n",
       "      <td>операции с жильем</td>\n",
       "      <td>[операция,  , с,  , жилье, \\n]</td>\n",
       "      <td>покупка недвижимости</td>\n",
       "    </tr>\n",
       "    <tr>\n",
       "      <td>7</td>\n",
       "      <td>0</td>\n",
       "      <td>152.779569</td>\n",
       "      <td>50</td>\n",
       "      <td>среднее</td>\n",
       "      <td>1</td>\n",
       "      <td>женат / замужем</td>\n",
       "      <td>0</td>\n",
       "      <td>M</td>\n",
       "      <td>сотрудник</td>\n",
       "      <td>0</td>\n",
       "      <td>135823</td>\n",
       "      <td>образование</td>\n",
       "      <td>[образование, \\n]</td>\n",
       "      <td>образование</td>\n",
       "    </tr>\n",
       "    <tr>\n",
       "      <td>8</td>\n",
       "      <td>2</td>\n",
       "      <td>6929.865299</td>\n",
       "      <td>35</td>\n",
       "      <td>высшее</td>\n",
       "      <td>0</td>\n",
       "      <td>гражданский брак</td>\n",
       "      <td>1</td>\n",
       "      <td>F</td>\n",
       "      <td>сотрудник</td>\n",
       "      <td>0</td>\n",
       "      <td>95856</td>\n",
       "      <td>на проведение свадьбы</td>\n",
       "      <td>[на,  , проведение,  , свадьба, \\n]</td>\n",
       "      <td>свадьба</td>\n",
       "    </tr>\n",
       "    <tr>\n",
       "      <td>9</td>\n",
       "      <td>0</td>\n",
       "      <td>2188.756445</td>\n",
       "      <td>41</td>\n",
       "      <td>среднее</td>\n",
       "      <td>1</td>\n",
       "      <td>женат / замужем</td>\n",
       "      <td>0</td>\n",
       "      <td>M</td>\n",
       "      <td>сотрудник</td>\n",
       "      <td>0</td>\n",
       "      <td>144425</td>\n",
       "      <td>покупка жилья для семьи</td>\n",
       "      <td>[покупка,  , жилье,  , для,  , семья, \\n]</td>\n",
       "      <td>покупка недвижимости</td>\n",
       "    </tr>\n",
       "    <tr>\n",
       "      <td>10</td>\n",
       "      <td>2</td>\n",
       "      <td>4171.483647</td>\n",
       "      <td>36</td>\n",
       "      <td>высшее</td>\n",
       "      <td>0</td>\n",
       "      <td>женат / замужем</td>\n",
       "      <td>0</td>\n",
       "      <td>M</td>\n",
       "      <td>компаньон</td>\n",
       "      <td>0</td>\n",
       "      <td>113943</td>\n",
       "      <td>покупка недвижимости</td>\n",
       "      <td>[покупка,  , недвижимость, \\n]</td>\n",
       "      <td>покупка недвижимости</td>\n",
       "    </tr>\n",
       "    <tr>\n",
       "      <td>11</td>\n",
       "      <td>0</td>\n",
       "      <td>792.701887</td>\n",
       "      <td>40</td>\n",
       "      <td>среднее</td>\n",
       "      <td>1</td>\n",
       "      <td>женат / замужем</td>\n",
       "      <td>0</td>\n",
       "      <td>F</td>\n",
       "      <td>сотрудник</td>\n",
       "      <td>0</td>\n",
       "      <td>77069</td>\n",
       "      <td>покупка коммерческой недвижимости</td>\n",
       "      <td>[покупка,  , коммерческий,  , недвижимость, \\n]</td>\n",
       "      <td>покупка недвижимости</td>\n",
       "    </tr>\n",
       "    <tr>\n",
       "      <td>12</td>\n",
       "      <td>0</td>\n",
       "      <td>365927.935941</td>\n",
       "      <td>65</td>\n",
       "      <td>среднее</td>\n",
       "      <td>1</td>\n",
       "      <td>гражданский брак</td>\n",
       "      <td>1</td>\n",
       "      <td>M</td>\n",
       "      <td>пенсионер</td>\n",
       "      <td>0</td>\n",
       "      <td>118514</td>\n",
       "      <td>сыграть свадьбу</td>\n",
       "      <td>[сыграть,  , свадьба, \\n]</td>\n",
       "      <td>свадьба</td>\n",
       "    </tr>\n",
       "    <tr>\n",
       "      <td>13</td>\n",
       "      <td>0</td>\n",
       "      <td>1846.641941</td>\n",
       "      <td>54</td>\n",
       "      <td>неоконченное высшее</td>\n",
       "      <td>2</td>\n",
       "      <td>женат / замужем</td>\n",
       "      <td>0</td>\n",
       "      <td>F</td>\n",
       "      <td>сотрудник</td>\n",
       "      <td>0</td>\n",
       "      <td>130458</td>\n",
       "      <td>приобретение автомобиля</td>\n",
       "      <td>[приобретение,  , автомобиль, \\n]</td>\n",
       "      <td>покупка автомобиля</td>\n",
       "    </tr>\n",
       "    <tr>\n",
       "      <td>14</td>\n",
       "      <td>0</td>\n",
       "      <td>1844.956182</td>\n",
       "      <td>56</td>\n",
       "      <td>высшее</td>\n",
       "      <td>0</td>\n",
       "      <td>гражданский брак</td>\n",
       "      <td>1</td>\n",
       "      <td>F</td>\n",
       "      <td>компаньон</td>\n",
       "      <td>1</td>\n",
       "      <td>165127</td>\n",
       "      <td>покупка жилой недвижимости</td>\n",
       "      <td>[покупка,  , жилой,  , недвижимость, \\n]</td>\n",
       "      <td>покупка недвижимости</td>\n",
       "    </tr>\n",
       "  </tbody>\n",
       "</table>\n",
       "</div>"
      ],
      "text/plain": [
       "    children  days_employed  dob_years            education  education_id  \\\n",
       "0          1    8437.673028         42               высшее             0   \n",
       "1          1    4024.803754         36              среднее             1   \n",
       "2          0    5623.422610         33              среднее             1   \n",
       "3          3    4124.747207         32              среднее             1   \n",
       "4          0  340266.072047         53              среднее             1   \n",
       "5          0     926.185831         27               высшее             0   \n",
       "6          0    2879.202052         43               высшее             0   \n",
       "7          0     152.779569         50              среднее             1   \n",
       "8          2    6929.865299         35               высшее             0   \n",
       "9          0    2188.756445         41              среднее             1   \n",
       "10         2    4171.483647         36               высшее             0   \n",
       "11         0     792.701887         40              среднее             1   \n",
       "12         0  365927.935941         65              среднее             1   \n",
       "13         0    1846.641941         54  неоконченное высшее             2   \n",
       "14         0    1844.956182         56               высшее             0   \n",
       "\n",
       "       family_status  family_status_id gender income_type  debt  total_income  \\\n",
       "0    женат / замужем                 0      F   сотрудник     0        253875   \n",
       "1    женат / замужем                 0      F   сотрудник     0        112080   \n",
       "2    женат / замужем                 0      M   сотрудник     0        145885   \n",
       "3    женат / замужем                 0      M   сотрудник     0        267628   \n",
       "4   гражданский брак                 1      F   пенсионер     0        158616   \n",
       "5   гражданский брак                 1      M   компаньон     0        255763   \n",
       "6    женат / замужем                 0      F   компаньон     0        240525   \n",
       "7    женат / замужем                 0      M   сотрудник     0        135823   \n",
       "8   гражданский брак                 1      F   сотрудник     0         95856   \n",
       "9    женат / замужем                 0      M   сотрудник     0        144425   \n",
       "10   женат / замужем                 0      M   компаньон     0        113943   \n",
       "11   женат / замужем                 0      F   сотрудник     0         77069   \n",
       "12  гражданский брак                 1      M   пенсионер     0        118514   \n",
       "13   женат / замужем                 0      F   сотрудник     0        130458   \n",
       "14  гражданский брак                 1      F   компаньон     1        165127   \n",
       "\n",
       "                              purpose  \\\n",
       "0                       покупка жилья   \n",
       "1             приобретение автомобиля   \n",
       "2                       покупка жилья   \n",
       "3          дополнительное образование   \n",
       "4                     сыграть свадьбу   \n",
       "5                       покупка жилья   \n",
       "6                   операции с жильем   \n",
       "7                         образование   \n",
       "8               на проведение свадьбы   \n",
       "9             покупка жилья для семьи   \n",
       "10               покупка недвижимости   \n",
       "11  покупка коммерческой недвижимости   \n",
       "12                    сыграть свадьбу   \n",
       "13            приобретение автомобиля   \n",
       "14         покупка жилой недвижимости   \n",
       "\n",
       "                                     purpose_lemmas      purpose_category  \n",
       "0                           [покупка,  , жилье, \\n]  покупка недвижимости  \n",
       "1                 [приобретение,  , автомобиль, \\n]    покупка автомобиля  \n",
       "2                           [покупка,  , жилье, \\n]  покупка недвижимости  \n",
       "3              [дополнительный,  , образование, \\n]           образование  \n",
       "4                         [сыграть,  , свадьба, \\n]               свадьба  \n",
       "5                           [покупка,  , жилье, \\n]  покупка недвижимости  \n",
       "6                    [операция,  , с,  , жилье, \\n]  покупка недвижимости  \n",
       "7                                 [образование, \\n]           образование  \n",
       "8               [на,  , проведение,  , свадьба, \\n]               свадьба  \n",
       "9         [покупка,  , жилье,  , для,  , семья, \\n]  покупка недвижимости  \n",
       "10                   [покупка,  , недвижимость, \\n]  покупка недвижимости  \n",
       "11  [покупка,  , коммерческий,  , недвижимость, \\n]  покупка недвижимости  \n",
       "12                        [сыграть,  , свадьба, \\n]               свадьба  \n",
       "13                [приобретение,  , автомобиль, \\n]    покупка автомобиля  \n",
       "14         [покупка,  , жилой,  , недвижимость, \\n]  покупка недвижимости  "
      ]
     },
     "metadata": {},
     "output_type": "display_data"
    }
   ],
   "source": [
    "# получение первых 15 строк таблицы df\n",
    "display(df.head(15))"
   ]
  },
  {
   "cell_type": "markdown",
   "metadata": {},
   "source": [
    "Проверим корректность выполненной категоризации целей кредита:"
   ]
  },
  {
   "cell_type": "code",
   "execution_count": 35,
   "metadata": {},
   "outputs": [
    {
     "data": {
      "text/plain": [
       "покупка недвижимости      8328\n",
       "покупка автомобиля        4308\n",
       "образование               4014\n",
       "строительство и ремонт    2486\n",
       "свадьба                   2335\n",
       "Name: purpose_category, dtype: int64"
      ]
     },
     "execution_count": 35,
     "metadata": {},
     "output_type": "execute_result"
    }
   ],
   "source": [
    "# просмотр уникальных значений столбца с категориями целей кредита\n",
    "df['purpose_category'].value_counts()"
   ]
  },
  {
   "cell_type": "markdown",
   "metadata": {},
   "source": [
    "Проверим, что количество присвоенных категорий совпадает с количеством значений в таблице:"
   ]
  },
  {
   "cell_type": "code",
   "execution_count": 36,
   "metadata": {},
   "outputs": [
    {
     "data": {
      "text/plain": [
       "21471"
      ]
     },
     "execution_count": 36,
     "metadata": {},
     "output_type": "execute_result"
    }
   ],
   "source": [
    "# просуммируем количество уникальных значений для категорий целей кредита\n",
    "df['purpose_category'].value_counts().sum()"
   ]
  },
  {
   "cell_type": "markdown",
   "metadata": {},
   "source": [
    "Количество определенных функцией категорий совпадает с количеством значений в таблице, значит каждому значению в таблице была присвоена соответствующая категория. "
   ]
  },
  {
   "cell_type": "markdown",
   "metadata": {},
   "source": [
    "#### Категоризация данных для количества детей у клиента"
   ]
  },
  {
   "cell_type": "markdown",
   "metadata": {},
   "source": [
    "Посмотрим сколько уникальных значений для указания количества детей существует в таблице."
   ]
  },
  {
   "cell_type": "code",
   "execution_count": 37,
   "metadata": {},
   "outputs": [
    {
     "data": {
      "text/plain": [
       "0    14230\n",
       "1     4809\n",
       "2     2052\n",
       "3      330\n",
       "4       41\n",
       "5        9\n",
       "Name: children, dtype: int64"
      ]
     },
     "execution_count": 37,
     "metadata": {},
     "output_type": "execute_result"
    }
   ],
   "source": [
    "# просмотр уникальных значений столбца children\n",
    "df['children'].value_counts()"
   ]
  },
  {
   "cell_type": "markdown",
   "metadata": {},
   "source": [
    "Мы видим, что наибольшее число заемщиков не имеют детей. Одного и двух детей имеет в сумме тоже значительное количество клиентов. А вот наличие трех и более детей не так многочисленно. Объединим данные о количестве детей в следующие категории с условиями:\n",
    "\n",
    "* \"нет детей\" - если значение количества детей 0\n",
    "* \"1-2 ребенка\" - если значение количества детей 1 или 2\n",
    "* \"3 и более детей\" - если значение количества детей 3 и более"
   ]
  },
  {
   "cell_type": "code",
   "execution_count": 38,
   "metadata": {},
   "outputs": [],
   "source": [
    "# функция определения категории, возвращает\n",
    "# название категории при выполнении условия\n",
    "def children_categorize(num_child):\n",
    "    if num_child == 0:\n",
    "        return 'нет детей'\n",
    "    if num_child == 1 or num_child == 2:\n",
    "        return '1-2 ребенка'\n",
    "    if num_child >= 3:\n",
    "        return '3 и более детей'\n",
    "    return 'не удалось определить категорию'\n",
    "# применение функции определения категории к столбцу children       \n",
    "df['children_category'] = df['children'].apply(children_categorize)    "
   ]
  },
  {
   "cell_type": "markdown",
   "metadata": {},
   "source": [
    "Проверим результат выполнения функции определения категории:"
   ]
  },
  {
   "cell_type": "code",
   "execution_count": 39,
   "metadata": {},
   "outputs": [
    {
     "data": {
      "text/html": [
       "<div>\n",
       "<style scoped>\n",
       "    .dataframe tbody tr th:only-of-type {\n",
       "        vertical-align: middle;\n",
       "    }\n",
       "\n",
       "    .dataframe tbody tr th {\n",
       "        vertical-align: top;\n",
       "    }\n",
       "\n",
       "    .dataframe thead th {\n",
       "        text-align: right;\n",
       "    }\n",
       "</style>\n",
       "<table border=\"1\" class=\"dataframe\">\n",
       "  <thead>\n",
       "    <tr style=\"text-align: right;\">\n",
       "      <th></th>\n",
       "      <th>children</th>\n",
       "      <th>days_employed</th>\n",
       "      <th>dob_years</th>\n",
       "      <th>education</th>\n",
       "      <th>education_id</th>\n",
       "      <th>family_status</th>\n",
       "      <th>family_status_id</th>\n",
       "      <th>gender</th>\n",
       "      <th>income_type</th>\n",
       "      <th>debt</th>\n",
       "      <th>total_income</th>\n",
       "      <th>purpose</th>\n",
       "      <th>purpose_lemmas</th>\n",
       "      <th>purpose_category</th>\n",
       "      <th>children_category</th>\n",
       "    </tr>\n",
       "  </thead>\n",
       "  <tbody>\n",
       "    <tr>\n",
       "      <td>0</td>\n",
       "      <td>1</td>\n",
       "      <td>8437.673028</td>\n",
       "      <td>42</td>\n",
       "      <td>высшее</td>\n",
       "      <td>0</td>\n",
       "      <td>женат / замужем</td>\n",
       "      <td>0</td>\n",
       "      <td>F</td>\n",
       "      <td>сотрудник</td>\n",
       "      <td>0</td>\n",
       "      <td>253875</td>\n",
       "      <td>покупка жилья</td>\n",
       "      <td>[покупка,  , жилье, \\n]</td>\n",
       "      <td>покупка недвижимости</td>\n",
       "      <td>1-2 ребенка</td>\n",
       "    </tr>\n",
       "    <tr>\n",
       "      <td>1</td>\n",
       "      <td>1</td>\n",
       "      <td>4024.803754</td>\n",
       "      <td>36</td>\n",
       "      <td>среднее</td>\n",
       "      <td>1</td>\n",
       "      <td>женат / замужем</td>\n",
       "      <td>0</td>\n",
       "      <td>F</td>\n",
       "      <td>сотрудник</td>\n",
       "      <td>0</td>\n",
       "      <td>112080</td>\n",
       "      <td>приобретение автомобиля</td>\n",
       "      <td>[приобретение,  , автомобиль, \\n]</td>\n",
       "      <td>покупка автомобиля</td>\n",
       "      <td>1-2 ребенка</td>\n",
       "    </tr>\n",
       "    <tr>\n",
       "      <td>2</td>\n",
       "      <td>0</td>\n",
       "      <td>5623.422610</td>\n",
       "      <td>33</td>\n",
       "      <td>среднее</td>\n",
       "      <td>1</td>\n",
       "      <td>женат / замужем</td>\n",
       "      <td>0</td>\n",
       "      <td>M</td>\n",
       "      <td>сотрудник</td>\n",
       "      <td>0</td>\n",
       "      <td>145885</td>\n",
       "      <td>покупка жилья</td>\n",
       "      <td>[покупка,  , жилье, \\n]</td>\n",
       "      <td>покупка недвижимости</td>\n",
       "      <td>нет детей</td>\n",
       "    </tr>\n",
       "    <tr>\n",
       "      <td>3</td>\n",
       "      <td>3</td>\n",
       "      <td>4124.747207</td>\n",
       "      <td>32</td>\n",
       "      <td>среднее</td>\n",
       "      <td>1</td>\n",
       "      <td>женат / замужем</td>\n",
       "      <td>0</td>\n",
       "      <td>M</td>\n",
       "      <td>сотрудник</td>\n",
       "      <td>0</td>\n",
       "      <td>267628</td>\n",
       "      <td>дополнительное образование</td>\n",
       "      <td>[дополнительный,  , образование, \\n]</td>\n",
       "      <td>образование</td>\n",
       "      <td>3 и более детей</td>\n",
       "    </tr>\n",
       "    <tr>\n",
       "      <td>4</td>\n",
       "      <td>0</td>\n",
       "      <td>340266.072047</td>\n",
       "      <td>53</td>\n",
       "      <td>среднее</td>\n",
       "      <td>1</td>\n",
       "      <td>гражданский брак</td>\n",
       "      <td>1</td>\n",
       "      <td>F</td>\n",
       "      <td>пенсионер</td>\n",
       "      <td>0</td>\n",
       "      <td>158616</td>\n",
       "      <td>сыграть свадьбу</td>\n",
       "      <td>[сыграть,  , свадьба, \\n]</td>\n",
       "      <td>свадьба</td>\n",
       "      <td>нет детей</td>\n",
       "    </tr>\n",
       "    <tr>\n",
       "      <td>5</td>\n",
       "      <td>0</td>\n",
       "      <td>926.185831</td>\n",
       "      <td>27</td>\n",
       "      <td>высшее</td>\n",
       "      <td>0</td>\n",
       "      <td>гражданский брак</td>\n",
       "      <td>1</td>\n",
       "      <td>M</td>\n",
       "      <td>компаньон</td>\n",
       "      <td>0</td>\n",
       "      <td>255763</td>\n",
       "      <td>покупка жилья</td>\n",
       "      <td>[покупка,  , жилье, \\n]</td>\n",
       "      <td>покупка недвижимости</td>\n",
       "      <td>нет детей</td>\n",
       "    </tr>\n",
       "    <tr>\n",
       "      <td>6</td>\n",
       "      <td>0</td>\n",
       "      <td>2879.202052</td>\n",
       "      <td>43</td>\n",
       "      <td>высшее</td>\n",
       "      <td>0</td>\n",
       "      <td>женат / замужем</td>\n",
       "      <td>0</td>\n",
       "      <td>F</td>\n",
       "      <td>компаньон</td>\n",
       "      <td>0</td>\n",
       "      <td>240525</td>\n",
       "      <td>операции с жильем</td>\n",
       "      <td>[операция,  , с,  , жилье, \\n]</td>\n",
       "      <td>покупка недвижимости</td>\n",
       "      <td>нет детей</td>\n",
       "    </tr>\n",
       "    <tr>\n",
       "      <td>7</td>\n",
       "      <td>0</td>\n",
       "      <td>152.779569</td>\n",
       "      <td>50</td>\n",
       "      <td>среднее</td>\n",
       "      <td>1</td>\n",
       "      <td>женат / замужем</td>\n",
       "      <td>0</td>\n",
       "      <td>M</td>\n",
       "      <td>сотрудник</td>\n",
       "      <td>0</td>\n",
       "      <td>135823</td>\n",
       "      <td>образование</td>\n",
       "      <td>[образование, \\n]</td>\n",
       "      <td>образование</td>\n",
       "      <td>нет детей</td>\n",
       "    </tr>\n",
       "    <tr>\n",
       "      <td>8</td>\n",
       "      <td>2</td>\n",
       "      <td>6929.865299</td>\n",
       "      <td>35</td>\n",
       "      <td>высшее</td>\n",
       "      <td>0</td>\n",
       "      <td>гражданский брак</td>\n",
       "      <td>1</td>\n",
       "      <td>F</td>\n",
       "      <td>сотрудник</td>\n",
       "      <td>0</td>\n",
       "      <td>95856</td>\n",
       "      <td>на проведение свадьбы</td>\n",
       "      <td>[на,  , проведение,  , свадьба, \\n]</td>\n",
       "      <td>свадьба</td>\n",
       "      <td>1-2 ребенка</td>\n",
       "    </tr>\n",
       "    <tr>\n",
       "      <td>9</td>\n",
       "      <td>0</td>\n",
       "      <td>2188.756445</td>\n",
       "      <td>41</td>\n",
       "      <td>среднее</td>\n",
       "      <td>1</td>\n",
       "      <td>женат / замужем</td>\n",
       "      <td>0</td>\n",
       "      <td>M</td>\n",
       "      <td>сотрудник</td>\n",
       "      <td>0</td>\n",
       "      <td>144425</td>\n",
       "      <td>покупка жилья для семьи</td>\n",
       "      <td>[покупка,  , жилье,  , для,  , семья, \\n]</td>\n",
       "      <td>покупка недвижимости</td>\n",
       "      <td>нет детей</td>\n",
       "    </tr>\n",
       "    <tr>\n",
       "      <td>10</td>\n",
       "      <td>2</td>\n",
       "      <td>4171.483647</td>\n",
       "      <td>36</td>\n",
       "      <td>высшее</td>\n",
       "      <td>0</td>\n",
       "      <td>женат / замужем</td>\n",
       "      <td>0</td>\n",
       "      <td>M</td>\n",
       "      <td>компаньон</td>\n",
       "      <td>0</td>\n",
       "      <td>113943</td>\n",
       "      <td>покупка недвижимости</td>\n",
       "      <td>[покупка,  , недвижимость, \\n]</td>\n",
       "      <td>покупка недвижимости</td>\n",
       "      <td>1-2 ребенка</td>\n",
       "    </tr>\n",
       "    <tr>\n",
       "      <td>11</td>\n",
       "      <td>0</td>\n",
       "      <td>792.701887</td>\n",
       "      <td>40</td>\n",
       "      <td>среднее</td>\n",
       "      <td>1</td>\n",
       "      <td>женат / замужем</td>\n",
       "      <td>0</td>\n",
       "      <td>F</td>\n",
       "      <td>сотрудник</td>\n",
       "      <td>0</td>\n",
       "      <td>77069</td>\n",
       "      <td>покупка коммерческой недвижимости</td>\n",
       "      <td>[покупка,  , коммерческий,  , недвижимость, \\n]</td>\n",
       "      <td>покупка недвижимости</td>\n",
       "      <td>нет детей</td>\n",
       "    </tr>\n",
       "    <tr>\n",
       "      <td>12</td>\n",
       "      <td>0</td>\n",
       "      <td>365927.935941</td>\n",
       "      <td>65</td>\n",
       "      <td>среднее</td>\n",
       "      <td>1</td>\n",
       "      <td>гражданский брак</td>\n",
       "      <td>1</td>\n",
       "      <td>M</td>\n",
       "      <td>пенсионер</td>\n",
       "      <td>0</td>\n",
       "      <td>118514</td>\n",
       "      <td>сыграть свадьбу</td>\n",
       "      <td>[сыграть,  , свадьба, \\n]</td>\n",
       "      <td>свадьба</td>\n",
       "      <td>нет детей</td>\n",
       "    </tr>\n",
       "    <tr>\n",
       "      <td>13</td>\n",
       "      <td>0</td>\n",
       "      <td>1846.641941</td>\n",
       "      <td>54</td>\n",
       "      <td>неоконченное высшее</td>\n",
       "      <td>2</td>\n",
       "      <td>женат / замужем</td>\n",
       "      <td>0</td>\n",
       "      <td>F</td>\n",
       "      <td>сотрудник</td>\n",
       "      <td>0</td>\n",
       "      <td>130458</td>\n",
       "      <td>приобретение автомобиля</td>\n",
       "      <td>[приобретение,  , автомобиль, \\n]</td>\n",
       "      <td>покупка автомобиля</td>\n",
       "      <td>нет детей</td>\n",
       "    </tr>\n",
       "    <tr>\n",
       "      <td>14</td>\n",
       "      <td>0</td>\n",
       "      <td>1844.956182</td>\n",
       "      <td>56</td>\n",
       "      <td>высшее</td>\n",
       "      <td>0</td>\n",
       "      <td>гражданский брак</td>\n",
       "      <td>1</td>\n",
       "      <td>F</td>\n",
       "      <td>компаньон</td>\n",
       "      <td>1</td>\n",
       "      <td>165127</td>\n",
       "      <td>покупка жилой недвижимости</td>\n",
       "      <td>[покупка,  , жилой,  , недвижимость, \\n]</td>\n",
       "      <td>покупка недвижимости</td>\n",
       "      <td>нет детей</td>\n",
       "    </tr>\n",
       "  </tbody>\n",
       "</table>\n",
       "</div>"
      ],
      "text/plain": [
       "    children  days_employed  dob_years            education  education_id  \\\n",
       "0          1    8437.673028         42               высшее             0   \n",
       "1          1    4024.803754         36              среднее             1   \n",
       "2          0    5623.422610         33              среднее             1   \n",
       "3          3    4124.747207         32              среднее             1   \n",
       "4          0  340266.072047         53              среднее             1   \n",
       "5          0     926.185831         27               высшее             0   \n",
       "6          0    2879.202052         43               высшее             0   \n",
       "7          0     152.779569         50              среднее             1   \n",
       "8          2    6929.865299         35               высшее             0   \n",
       "9          0    2188.756445         41              среднее             1   \n",
       "10         2    4171.483647         36               высшее             0   \n",
       "11         0     792.701887         40              среднее             1   \n",
       "12         0  365927.935941         65              среднее             1   \n",
       "13         0    1846.641941         54  неоконченное высшее             2   \n",
       "14         0    1844.956182         56               высшее             0   \n",
       "\n",
       "       family_status  family_status_id gender income_type  debt  total_income  \\\n",
       "0    женат / замужем                 0      F   сотрудник     0        253875   \n",
       "1    женат / замужем                 0      F   сотрудник     0        112080   \n",
       "2    женат / замужем                 0      M   сотрудник     0        145885   \n",
       "3    женат / замужем                 0      M   сотрудник     0        267628   \n",
       "4   гражданский брак                 1      F   пенсионер     0        158616   \n",
       "5   гражданский брак                 1      M   компаньон     0        255763   \n",
       "6    женат / замужем                 0      F   компаньон     0        240525   \n",
       "7    женат / замужем                 0      M   сотрудник     0        135823   \n",
       "8   гражданский брак                 1      F   сотрудник     0         95856   \n",
       "9    женат / замужем                 0      M   сотрудник     0        144425   \n",
       "10   женат / замужем                 0      M   компаньон     0        113943   \n",
       "11   женат / замужем                 0      F   сотрудник     0         77069   \n",
       "12  гражданский брак                 1      M   пенсионер     0        118514   \n",
       "13   женат / замужем                 0      F   сотрудник     0        130458   \n",
       "14  гражданский брак                 1      F   компаньон     1        165127   \n",
       "\n",
       "                              purpose  \\\n",
       "0                       покупка жилья   \n",
       "1             приобретение автомобиля   \n",
       "2                       покупка жилья   \n",
       "3          дополнительное образование   \n",
       "4                     сыграть свадьбу   \n",
       "5                       покупка жилья   \n",
       "6                   операции с жильем   \n",
       "7                         образование   \n",
       "8               на проведение свадьбы   \n",
       "9             покупка жилья для семьи   \n",
       "10               покупка недвижимости   \n",
       "11  покупка коммерческой недвижимости   \n",
       "12                    сыграть свадьбу   \n",
       "13            приобретение автомобиля   \n",
       "14         покупка жилой недвижимости   \n",
       "\n",
       "                                     purpose_lemmas      purpose_category  \\\n",
       "0                           [покупка,  , жилье, \\n]  покупка недвижимости   \n",
       "1                 [приобретение,  , автомобиль, \\n]    покупка автомобиля   \n",
       "2                           [покупка,  , жилье, \\n]  покупка недвижимости   \n",
       "3              [дополнительный,  , образование, \\n]           образование   \n",
       "4                         [сыграть,  , свадьба, \\n]               свадьба   \n",
       "5                           [покупка,  , жилье, \\n]  покупка недвижимости   \n",
       "6                    [операция,  , с,  , жилье, \\n]  покупка недвижимости   \n",
       "7                                 [образование, \\n]           образование   \n",
       "8               [на,  , проведение,  , свадьба, \\n]               свадьба   \n",
       "9         [покупка,  , жилье,  , для,  , семья, \\n]  покупка недвижимости   \n",
       "10                   [покупка,  , недвижимость, \\n]  покупка недвижимости   \n",
       "11  [покупка,  , коммерческий,  , недвижимость, \\n]  покупка недвижимости   \n",
       "12                        [сыграть,  , свадьба, \\n]               свадьба   \n",
       "13                [приобретение,  , автомобиль, \\n]    покупка автомобиля   \n",
       "14         [покупка,  , жилой,  , недвижимость, \\n]  покупка недвижимости   \n",
       "\n",
       "   children_category  \n",
       "0        1-2 ребенка  \n",
       "1        1-2 ребенка  \n",
       "2          нет детей  \n",
       "3    3 и более детей  \n",
       "4          нет детей  \n",
       "5          нет детей  \n",
       "6          нет детей  \n",
       "7          нет детей  \n",
       "8        1-2 ребенка  \n",
       "9          нет детей  \n",
       "10       1-2 ребенка  \n",
       "11         нет детей  \n",
       "12         нет детей  \n",
       "13         нет детей  \n",
       "14         нет детей  "
      ]
     },
     "metadata": {},
     "output_type": "display_data"
    }
   ],
   "source": [
    "# получение первых 15 строк таблицы df\n",
    "display(df.head(15))"
   ]
  },
  {
   "cell_type": "code",
   "execution_count": 40,
   "metadata": {},
   "outputs": [
    {
     "data": {
      "text/plain": [
       "нет детей          14230\n",
       "1-2 ребенка         6861\n",
       "3 и более детей      380\n",
       "Name: children_category, dtype: int64"
      ]
     },
     "execution_count": 40,
     "metadata": {},
     "output_type": "execute_result"
    }
   ],
   "source": [
    "# просмотр уникальных значений столбца с категориями количества детей\n",
    "df['children_category'].value_counts()"
   ]
  },
  {
   "cell_type": "markdown",
   "metadata": {},
   "source": [
    "Проверим, что количество присвоенных категорий совпадает с количеством значений в таблице:"
   ]
  },
  {
   "cell_type": "code",
   "execution_count": 41,
   "metadata": {},
   "outputs": [
    {
     "data": {
      "text/plain": [
       "21471"
      ]
     },
     "execution_count": 41,
     "metadata": {},
     "output_type": "execute_result"
    }
   ],
   "source": [
    "# просуммируем количество уникальных значений для \n",
    "# столбца с категориями кол-ва детей\n",
    "df['children_category'].value_counts().sum()"
   ]
  },
  {
   "cell_type": "markdown",
   "metadata": {},
   "source": [
    "Количество определенных функцией категорий совпадает с количеством значений в таблице, значит каждому значению в таблице была присвоена соответствующая категория. "
   ]
  },
  {
   "cell_type": "markdown",
   "metadata": {},
   "source": [
    "#### Категоризация данных для уровня дохода клиентов"
   ]
  },
  {
   "cell_type": "markdown",
   "metadata": {},
   "source": [
    "Значения ежемесячного дохода каждого клиента содержатся в столбце `total_income`. Проверим эти значения на уникальность."
   ]
  },
  {
   "cell_type": "code",
   "execution_count": 42,
   "metadata": {},
   "outputs": [
    {
     "data": {
      "text/plain": [
       "142594    1077\n",
       "172357     504\n",
       "118514     395\n",
       "150447     145\n",
       "126262       3\n",
       "          ... \n",
       "101387       1\n",
       "138249       1\n",
       "280240       1\n",
       "390148       1\n",
       "264193       1\n",
       "Name: total_income, Length: 18608, dtype: int64"
      ]
     },
     "execution_count": 42,
     "metadata": {},
     "output_type": "execute_result"
    }
   ],
   "source": [
    "# просмотр уникальных значений столбца total_income\n",
    "df['total_income'].value_counts()"
   ]
  },
  {
   "cell_type": "markdown",
   "metadata": {},
   "source": [
    "Как можно было ожидать значения в столбце `total_income` очень разнообразны. Для нашего исследования будет удобно разбить клиентов на категории по уровню дохода, а не вычислять зависимость возврата кредита для каждого значения.\n",
    "\n",
    "Интересно заметить, что чуть более 10% клиентов имеет одинаковый ежемесячный доход. Возможно, эти клиенты относятся еще к какой-то одной категории по другим признакам. Проверим это предположение."
   ]
  },
  {
   "cell_type": "code",
   "execution_count": 43,
   "metadata": {},
   "outputs": [
    {
     "data": {
      "text/html": [
       "<div>\n",
       "<style scoped>\n",
       "    .dataframe tbody tr th:only-of-type {\n",
       "        vertical-align: middle;\n",
       "    }\n",
       "\n",
       "    .dataframe tbody tr th {\n",
       "        vertical-align: top;\n",
       "    }\n",
       "\n",
       "    .dataframe thead th {\n",
       "        text-align: right;\n",
       "    }\n",
       "</style>\n",
       "<table border=\"1\" class=\"dataframe\">\n",
       "  <thead>\n",
       "    <tr style=\"text-align: right;\">\n",
       "      <th></th>\n",
       "      <th>children</th>\n",
       "      <th>days_employed</th>\n",
       "      <th>dob_years</th>\n",
       "      <th>education</th>\n",
       "      <th>education_id</th>\n",
       "      <th>family_status</th>\n",
       "      <th>family_status_id</th>\n",
       "      <th>gender</th>\n",
       "      <th>income_type</th>\n",
       "      <th>debt</th>\n",
       "      <th>total_income</th>\n",
       "      <th>purpose</th>\n",
       "      <th>purpose_lemmas</th>\n",
       "      <th>purpose_category</th>\n",
       "      <th>children_category</th>\n",
       "    </tr>\n",
       "  </thead>\n",
       "  <tbody>\n",
       "    <tr>\n",
       "      <td>19625</td>\n",
       "      <td>1</td>\n",
       "      <td>341.400092</td>\n",
       "      <td>27</td>\n",
       "      <td>высшее</td>\n",
       "      <td>0</td>\n",
       "      <td>женат / замужем</td>\n",
       "      <td>0</td>\n",
       "      <td>F</td>\n",
       "      <td>госслужащий</td>\n",
       "      <td>0</td>\n",
       "      <td>145017</td>\n",
       "      <td>заняться образованием</td>\n",
       "      <td>[заниматься,  , образование, \\n]</td>\n",
       "      <td>образование</td>\n",
       "      <td>1-2 ребенка</td>\n",
       "    </tr>\n",
       "  </tbody>\n",
       "</table>\n",
       "</div>"
      ],
      "text/plain": [
       "       children  days_employed  dob_years education  education_id  \\\n",
       "19625         1     341.400092         27    высшее             0   \n",
       "\n",
       "         family_status  family_status_id gender  income_type  debt  \\\n",
       "19625  женат / замужем                 0      F  госслужащий     0   \n",
       "\n",
       "       total_income                purpose                    purpose_lemmas  \\\n",
       "19625        145017  заняться образованием  [заниматься,  , образование, \\n]   \n",
       "\n",
       "      purpose_category children_category  \n",
       "19625      образование       1-2 ребенка  "
      ]
     },
     "metadata": {},
     "output_type": "display_data"
    }
   ],
   "source": [
    "# выборка строк таблицы, в которых значение дохода\n",
    "# равно 145017\n",
    "equal_income = df[df['total_income'] == 145017]\n",
    "# просмотр выборки\n",
    "display(equal_income)"
   ]
  },
  {
   "cell_type": "markdown",
   "metadata": {},
   "source": [
    "Дополнительно ничего общего между клиентами с одинаковым доходом не обнаружено. Заключим, что это явление - особенность исходной таблицы с данными."
   ]
  },
  {
   "cell_type": "markdown",
   "metadata": {},
   "source": [
    "Для того чтобы разбить ежемесячный доход клиентов на категории, необходимо определить минимальное и максимальное значение в столбце `total_income`. Мы уже применяли эти методы в предобработке данных."
   ]
  },
  {
   "cell_type": "code",
   "execution_count": 44,
   "metadata": {},
   "outputs": [
    {
     "name": "stdout",
     "output_type": "stream",
     "text": [
      "Минимальный доход: 20667\n",
      "Максимальный доход: 2265604\n"
     ]
    }
   ],
   "source": [
    "# определение минимального и максимального дохода\n",
    "print('Минимальный доход:', df['total_income'].min())\n",
    "print('Максимальный доход:', df['total_income'].max())"
   ]
  },
  {
   "cell_type": "markdown",
   "metadata": {},
   "source": [
    "Минимальный и максимальных доходы отличаются в более чем 100 раз. Целесообразно выделить значимые категории уровня дохода, согласно данным в столбце `total_income`. "
   ]
  },
  {
   "cell_type": "markdown",
   "metadata": {},
   "source": [
    "Для того, чтобы категории были показательными для целей исследования, необходимо оценить количество клиентов с доходом в определенном диапазоне. Построим гистограмму распределения ежемесячного дохода."
   ]
  },
  {
   "cell_type": "code",
   "execution_count": 45,
   "metadata": {},
   "outputs": [
    {
     "data": {
      "image/png": "[encoded data removed]",
      "text/plain": [
       "<Figure size 432x288 with 1 Axes>"
      ]
     },
     "metadata": {
      "needs_background": "light"
     },
     "output_type": "display_data"
    }
   ],
   "source": [
    "# построение диаграммы с данными из total_income\n",
    "ax = seaborn.histplot(data = df['total_income'], bins=10)\n",
    "# параметры для осей X, Y и labels\n",
    "ax.set(xlabel='Ежемесячный доход, руб.', ylabel='Количество клиентов', ylim=(0, 400), \n",
    "       title=\"Гистограмма распределения доходов клиентов\")\n",
    "ax;"
   ]
  },
  {
   "cell_type": "markdown",
   "metadata": {},
   "source": [
    "Теперь можно сделать заключение, что наибольшее количество заемщиков имеют доход до 500 тыс. руб., но самый многочисленный диапазон от 20 тыс. руб. до 300 тыс. руб. Значений после 300 тыс. руб. значительно меньше и, скорее всего, мы можем их рассматривать как одну категорию. Попробуем выделить следующие категории для уровня дохода:\n",
    "\n",
    "* 20-100 тыс. руб.\n",
    "* 100-150 тыс. руб.\n",
    "* 150-200 тыс. руб.\n",
    "* 200-300 тыс. руб.\n",
    "* 300 тыс. руб. и более"
   ]
  },
  {
   "cell_type": "code",
   "execution_count": 46,
   "metadata": {},
   "outputs": [],
   "source": [
    "# функция определения категории,\n",
    "# возвращает название категории при выполнении условия\n",
    "def income_categorize(income):\n",
    "    if income > 20000 and income <= 100000:\n",
    "        return '20-100 тыс.руб.'\n",
    "    if income > 100000 and income <= 150000:\n",
    "        return '100-150 тыс.руб.'\n",
    "    if income > 150000 and income <= 200000:\n",
    "        return '150-200 тыс.руб.'\n",
    "    if income > 200000 and income <= 300000:\n",
    "        return '200-300 тыс.руб.'\n",
    "    if income > 300000:\n",
    "        return '300 тыс. руб и более'\n",
    "    return 'не удалось определить категорию'\n",
    "# применение функции определения категории к столбцу total_income       \n",
    "df['income_category'] = df['total_income'].apply(income_categorize)   "
   ]
  },
  {
   "cell_type": "markdown",
   "metadata": {},
   "source": [
    "Проверим результат выполнения функции определения категории:"
   ]
  },
  {
   "cell_type": "code",
   "execution_count": 47,
   "metadata": {},
   "outputs": [
    {
     "data": {
      "text/html": [
       "<div>\n",
       "<style scoped>\n",
       "    .dataframe tbody tr th:only-of-type {\n",
       "        vertical-align: middle;\n",
       "    }\n",
       "\n",
       "    .dataframe tbody tr th {\n",
       "        vertical-align: top;\n",
       "    }\n",
       "\n",
       "    .dataframe thead th {\n",
       "        text-align: right;\n",
       "    }\n",
       "</style>\n",
       "<table border=\"1\" class=\"dataframe\">\n",
       "  <thead>\n",
       "    <tr style=\"text-align: right;\">\n",
       "      <th></th>\n",
       "      <th>children</th>\n",
       "      <th>days_employed</th>\n",
       "      <th>dob_years</th>\n",
       "      <th>education</th>\n",
       "      <th>education_id</th>\n",
       "      <th>family_status</th>\n",
       "      <th>family_status_id</th>\n",
       "      <th>gender</th>\n",
       "      <th>income_type</th>\n",
       "      <th>debt</th>\n",
       "      <th>total_income</th>\n",
       "      <th>purpose</th>\n",
       "      <th>purpose_lemmas</th>\n",
       "      <th>purpose_category</th>\n",
       "      <th>children_category</th>\n",
       "      <th>income_category</th>\n",
       "    </tr>\n",
       "  </thead>\n",
       "  <tbody>\n",
       "    <tr>\n",
       "      <td>0</td>\n",
       "      <td>1</td>\n",
       "      <td>8437.673028</td>\n",
       "      <td>42</td>\n",
       "      <td>высшее</td>\n",
       "      <td>0</td>\n",
       "      <td>женат / замужем</td>\n",
       "      <td>0</td>\n",
       "      <td>F</td>\n",
       "      <td>сотрудник</td>\n",
       "      <td>0</td>\n",
       "      <td>253875</td>\n",
       "      <td>покупка жилья</td>\n",
       "      <td>[покупка,  , жилье, \\n]</td>\n",
       "      <td>покупка недвижимости</td>\n",
       "      <td>1-2 ребенка</td>\n",
       "      <td>200-300 тыс.руб.</td>\n",
       "    </tr>\n",
       "    <tr>\n",
       "      <td>1</td>\n",
       "      <td>1</td>\n",
       "      <td>4024.803754</td>\n",
       "      <td>36</td>\n",
       "      <td>среднее</td>\n",
       "      <td>1</td>\n",
       "      <td>женат / замужем</td>\n",
       "      <td>0</td>\n",
       "      <td>F</td>\n",
       "      <td>сотрудник</td>\n",
       "      <td>0</td>\n",
       "      <td>112080</td>\n",
       "      <td>приобретение автомобиля</td>\n",
       "      <td>[приобретение,  , автомобиль, \\n]</td>\n",
       "      <td>покупка автомобиля</td>\n",
       "      <td>1-2 ребенка</td>\n",
       "      <td>100-150 тыс.руб.</td>\n",
       "    </tr>\n",
       "    <tr>\n",
       "      <td>2</td>\n",
       "      <td>0</td>\n",
       "      <td>5623.422610</td>\n",
       "      <td>33</td>\n",
       "      <td>среднее</td>\n",
       "      <td>1</td>\n",
       "      <td>женат / замужем</td>\n",
       "      <td>0</td>\n",
       "      <td>M</td>\n",
       "      <td>сотрудник</td>\n",
       "      <td>0</td>\n",
       "      <td>145885</td>\n",
       "      <td>покупка жилья</td>\n",
       "      <td>[покупка,  , жилье, \\n]</td>\n",
       "      <td>покупка недвижимости</td>\n",
       "      <td>нет детей</td>\n",
       "      <td>100-150 тыс.руб.</td>\n",
       "    </tr>\n",
       "    <tr>\n",
       "      <td>3</td>\n",
       "      <td>3</td>\n",
       "      <td>4124.747207</td>\n",
       "      <td>32</td>\n",
       "      <td>среднее</td>\n",
       "      <td>1</td>\n",
       "      <td>женат / замужем</td>\n",
       "      <td>0</td>\n",
       "      <td>M</td>\n",
       "      <td>сотрудник</td>\n",
       "      <td>0</td>\n",
       "      <td>267628</td>\n",
       "      <td>дополнительное образование</td>\n",
       "      <td>[дополнительный,  , образование, \\n]</td>\n",
       "      <td>образование</td>\n",
       "      <td>3 и более детей</td>\n",
       "      <td>200-300 тыс.руб.</td>\n",
       "    </tr>\n",
       "    <tr>\n",
       "      <td>4</td>\n",
       "      <td>0</td>\n",
       "      <td>340266.072047</td>\n",
       "      <td>53</td>\n",
       "      <td>среднее</td>\n",
       "      <td>1</td>\n",
       "      <td>гражданский брак</td>\n",
       "      <td>1</td>\n",
       "      <td>F</td>\n",
       "      <td>пенсионер</td>\n",
       "      <td>0</td>\n",
       "      <td>158616</td>\n",
       "      <td>сыграть свадьбу</td>\n",
       "      <td>[сыграть,  , свадьба, \\n]</td>\n",
       "      <td>свадьба</td>\n",
       "      <td>нет детей</td>\n",
       "      <td>150-200 тыс.руб.</td>\n",
       "    </tr>\n",
       "    <tr>\n",
       "      <td>5</td>\n",
       "      <td>0</td>\n",
       "      <td>926.185831</td>\n",
       "      <td>27</td>\n",
       "      <td>высшее</td>\n",
       "      <td>0</td>\n",
       "      <td>гражданский брак</td>\n",
       "      <td>1</td>\n",
       "      <td>M</td>\n",
       "      <td>компаньон</td>\n",
       "      <td>0</td>\n",
       "      <td>255763</td>\n",
       "      <td>покупка жилья</td>\n",
       "      <td>[покупка,  , жилье, \\n]</td>\n",
       "      <td>покупка недвижимости</td>\n",
       "      <td>нет детей</td>\n",
       "      <td>200-300 тыс.руб.</td>\n",
       "    </tr>\n",
       "    <tr>\n",
       "      <td>6</td>\n",
       "      <td>0</td>\n",
       "      <td>2879.202052</td>\n",
       "      <td>43</td>\n",
       "      <td>высшее</td>\n",
       "      <td>0</td>\n",
       "      <td>женат / замужем</td>\n",
       "      <td>0</td>\n",
       "      <td>F</td>\n",
       "      <td>компаньон</td>\n",
       "      <td>0</td>\n",
       "      <td>240525</td>\n",
       "      <td>операции с жильем</td>\n",
       "      <td>[операция,  , с,  , жилье, \\n]</td>\n",
       "      <td>покупка недвижимости</td>\n",
       "      <td>нет детей</td>\n",
       "      <td>200-300 тыс.руб.</td>\n",
       "    </tr>\n",
       "    <tr>\n",
       "      <td>7</td>\n",
       "      <td>0</td>\n",
       "      <td>152.779569</td>\n",
       "      <td>50</td>\n",
       "      <td>среднее</td>\n",
       "      <td>1</td>\n",
       "      <td>женат / замужем</td>\n",
       "      <td>0</td>\n",
       "      <td>M</td>\n",
       "      <td>сотрудник</td>\n",
       "      <td>0</td>\n",
       "      <td>135823</td>\n",
       "      <td>образование</td>\n",
       "      <td>[образование, \\n]</td>\n",
       "      <td>образование</td>\n",
       "      <td>нет детей</td>\n",
       "      <td>100-150 тыс.руб.</td>\n",
       "    </tr>\n",
       "    <tr>\n",
       "      <td>8</td>\n",
       "      <td>2</td>\n",
       "      <td>6929.865299</td>\n",
       "      <td>35</td>\n",
       "      <td>высшее</td>\n",
       "      <td>0</td>\n",
       "      <td>гражданский брак</td>\n",
       "      <td>1</td>\n",
       "      <td>F</td>\n",
       "      <td>сотрудник</td>\n",
       "      <td>0</td>\n",
       "      <td>95856</td>\n",
       "      <td>на проведение свадьбы</td>\n",
       "      <td>[на,  , проведение,  , свадьба, \\n]</td>\n",
       "      <td>свадьба</td>\n",
       "      <td>1-2 ребенка</td>\n",
       "      <td>20-100 тыс.руб.</td>\n",
       "    </tr>\n",
       "    <tr>\n",
       "      <td>9</td>\n",
       "      <td>0</td>\n",
       "      <td>2188.756445</td>\n",
       "      <td>41</td>\n",
       "      <td>среднее</td>\n",
       "      <td>1</td>\n",
       "      <td>женат / замужем</td>\n",
       "      <td>0</td>\n",
       "      <td>M</td>\n",
       "      <td>сотрудник</td>\n",
       "      <td>0</td>\n",
       "      <td>144425</td>\n",
       "      <td>покупка жилья для семьи</td>\n",
       "      <td>[покупка,  , жилье,  , для,  , семья, \\n]</td>\n",
       "      <td>покупка недвижимости</td>\n",
       "      <td>нет детей</td>\n",
       "      <td>100-150 тыс.руб.</td>\n",
       "    </tr>\n",
       "    <tr>\n",
       "      <td>10</td>\n",
       "      <td>2</td>\n",
       "      <td>4171.483647</td>\n",
       "      <td>36</td>\n",
       "      <td>высшее</td>\n",
       "      <td>0</td>\n",
       "      <td>женат / замужем</td>\n",
       "      <td>0</td>\n",
       "      <td>M</td>\n",
       "      <td>компаньон</td>\n",
       "      <td>0</td>\n",
       "      <td>113943</td>\n",
       "      <td>покупка недвижимости</td>\n",
       "      <td>[покупка,  , недвижимость, \\n]</td>\n",
       "      <td>покупка недвижимости</td>\n",
       "      <td>1-2 ребенка</td>\n",
       "      <td>100-150 тыс.руб.</td>\n",
       "    </tr>\n",
       "    <tr>\n",
       "      <td>11</td>\n",
       "      <td>0</td>\n",
       "      <td>792.701887</td>\n",
       "      <td>40</td>\n",
       "      <td>среднее</td>\n",
       "      <td>1</td>\n",
       "      <td>женат / замужем</td>\n",
       "      <td>0</td>\n",
       "      <td>F</td>\n",
       "      <td>сотрудник</td>\n",
       "      <td>0</td>\n",
       "      <td>77069</td>\n",
       "      <td>покупка коммерческой недвижимости</td>\n",
       "      <td>[покупка,  , коммерческий,  , недвижимость, \\n]</td>\n",
       "      <td>покупка недвижимости</td>\n",
       "      <td>нет детей</td>\n",
       "      <td>20-100 тыс.руб.</td>\n",
       "    </tr>\n",
       "    <tr>\n",
       "      <td>12</td>\n",
       "      <td>0</td>\n",
       "      <td>365927.935941</td>\n",
       "      <td>65</td>\n",
       "      <td>среднее</td>\n",
       "      <td>1</td>\n",
       "      <td>гражданский брак</td>\n",
       "      <td>1</td>\n",
       "      <td>M</td>\n",
       "      <td>пенсионер</td>\n",
       "      <td>0</td>\n",
       "      <td>118514</td>\n",
       "      <td>сыграть свадьбу</td>\n",
       "      <td>[сыграть,  , свадьба, \\n]</td>\n",
       "      <td>свадьба</td>\n",
       "      <td>нет детей</td>\n",
       "      <td>100-150 тыс.руб.</td>\n",
       "    </tr>\n",
       "    <tr>\n",
       "      <td>13</td>\n",
       "      <td>0</td>\n",
       "      <td>1846.641941</td>\n",
       "      <td>54</td>\n",
       "      <td>неоконченное высшее</td>\n",
       "      <td>2</td>\n",
       "      <td>женат / замужем</td>\n",
       "      <td>0</td>\n",
       "      <td>F</td>\n",
       "      <td>сотрудник</td>\n",
       "      <td>0</td>\n",
       "      <td>130458</td>\n",
       "      <td>приобретение автомобиля</td>\n",
       "      <td>[приобретение,  , автомобиль, \\n]</td>\n",
       "      <td>покупка автомобиля</td>\n",
       "      <td>нет детей</td>\n",
       "      <td>100-150 тыс.руб.</td>\n",
       "    </tr>\n",
       "    <tr>\n",
       "      <td>14</td>\n",
       "      <td>0</td>\n",
       "      <td>1844.956182</td>\n",
       "      <td>56</td>\n",
       "      <td>высшее</td>\n",
       "      <td>0</td>\n",
       "      <td>гражданский брак</td>\n",
       "      <td>1</td>\n",
       "      <td>F</td>\n",
       "      <td>компаньон</td>\n",
       "      <td>1</td>\n",
       "      <td>165127</td>\n",
       "      <td>покупка жилой недвижимости</td>\n",
       "      <td>[покупка,  , жилой,  , недвижимость, \\n]</td>\n",
       "      <td>покупка недвижимости</td>\n",
       "      <td>нет детей</td>\n",
       "      <td>150-200 тыс.руб.</td>\n",
       "    </tr>\n",
       "  </tbody>\n",
       "</table>\n",
       "</div>"
      ],
      "text/plain": [
       "    children  days_employed  dob_years            education  education_id  \\\n",
       "0          1    8437.673028         42               высшее             0   \n",
       "1          1    4024.803754         36              среднее             1   \n",
       "2          0    5623.422610         33              среднее             1   \n",
       "3          3    4124.747207         32              среднее             1   \n",
       "4          0  340266.072047         53              среднее             1   \n",
       "5          0     926.185831         27               высшее             0   \n",
       "6          0    2879.202052         43               высшее             0   \n",
       "7          0     152.779569         50              среднее             1   \n",
       "8          2    6929.865299         35               высшее             0   \n",
       "9          0    2188.756445         41              среднее             1   \n",
       "10         2    4171.483647         36               высшее             0   \n",
       "11         0     792.701887         40              среднее             1   \n",
       "12         0  365927.935941         65              среднее             1   \n",
       "13         0    1846.641941         54  неоконченное высшее             2   \n",
       "14         0    1844.956182         56               высшее             0   \n",
       "\n",
       "       family_status  family_status_id gender income_type  debt  total_income  \\\n",
       "0    женат / замужем                 0      F   сотрудник     0        253875   \n",
       "1    женат / замужем                 0      F   сотрудник     0        112080   \n",
       "2    женат / замужем                 0      M   сотрудник     0        145885   \n",
       "3    женат / замужем                 0      M   сотрудник     0        267628   \n",
       "4   гражданский брак                 1      F   пенсионер     0        158616   \n",
       "5   гражданский брак                 1      M   компаньон     0        255763   \n",
       "6    женат / замужем                 0      F   компаньон     0        240525   \n",
       "7    женат / замужем                 0      M   сотрудник     0        135823   \n",
       "8   гражданский брак                 1      F   сотрудник     0         95856   \n",
       "9    женат / замужем                 0      M   сотрудник     0        144425   \n",
       "10   женат / замужем                 0      M   компаньон     0        113943   \n",
       "11   женат / замужем                 0      F   сотрудник     0         77069   \n",
       "12  гражданский брак                 1      M   пенсионер     0        118514   \n",
       "13   женат / замужем                 0      F   сотрудник     0        130458   \n",
       "14  гражданский брак                 1      F   компаньон     1        165127   \n",
       "\n",
       "                              purpose  \\\n",
       "0                       покупка жилья   \n",
       "1             приобретение автомобиля   \n",
       "2                       покупка жилья   \n",
       "3          дополнительное образование   \n",
       "4                     сыграть свадьбу   \n",
       "5                       покупка жилья   \n",
       "6                   операции с жильем   \n",
       "7                         образование   \n",
       "8               на проведение свадьбы   \n",
       "9             покупка жилья для семьи   \n",
       "10               покупка недвижимости   \n",
       "11  покупка коммерческой недвижимости   \n",
       "12                    сыграть свадьбу   \n",
       "13            приобретение автомобиля   \n",
       "14         покупка жилой недвижимости   \n",
       "\n",
       "                                     purpose_lemmas      purpose_category  \\\n",
       "0                           [покупка,  , жилье, \\n]  покупка недвижимости   \n",
       "1                 [приобретение,  , автомобиль, \\n]    покупка автомобиля   \n",
       "2                           [покупка,  , жилье, \\n]  покупка недвижимости   \n",
       "3              [дополнительный,  , образование, \\n]           образование   \n",
       "4                         [сыграть,  , свадьба, \\n]               свадьба   \n",
       "5                           [покупка,  , жилье, \\n]  покупка недвижимости   \n",
       "6                    [операция,  , с,  , жилье, \\n]  покупка недвижимости   \n",
       "7                                 [образование, \\n]           образование   \n",
       "8               [на,  , проведение,  , свадьба, \\n]               свадьба   \n",
       "9         [покупка,  , жилье,  , для,  , семья, \\n]  покупка недвижимости   \n",
       "10                   [покупка,  , недвижимость, \\n]  покупка недвижимости   \n",
       "11  [покупка,  , коммерческий,  , недвижимость, \\n]  покупка недвижимости   \n",
       "12                        [сыграть,  , свадьба, \\n]               свадьба   \n",
       "13                [приобретение,  , автомобиль, \\n]    покупка автомобиля   \n",
       "14         [покупка,  , жилой,  , недвижимость, \\n]  покупка недвижимости   \n",
       "\n",
       "   children_category   income_category  \n",
       "0        1-2 ребенка  200-300 тыс.руб.  \n",
       "1        1-2 ребенка  100-150 тыс.руб.  \n",
       "2          нет детей  100-150 тыс.руб.  \n",
       "3    3 и более детей  200-300 тыс.руб.  \n",
       "4          нет детей  150-200 тыс.руб.  \n",
       "5          нет детей  200-300 тыс.руб.  \n",
       "6          нет детей  200-300 тыс.руб.  \n",
       "7          нет детей  100-150 тыс.руб.  \n",
       "8        1-2 ребенка   20-100 тыс.руб.  \n",
       "9          нет детей  100-150 тыс.руб.  \n",
       "10       1-2 ребенка  100-150 тыс.руб.  \n",
       "11         нет детей   20-100 тыс.руб.  \n",
       "12         нет детей  100-150 тыс.руб.  \n",
       "13         нет детей  100-150 тыс.руб.  \n",
       "14         нет детей  150-200 тыс.руб.  "
      ]
     },
     "metadata": {},
     "output_type": "display_data"
    }
   ],
   "source": [
    "# получение первых 15 строк таблицы df\n",
    "display(df.head(15))"
   ]
  },
  {
   "cell_type": "code",
   "execution_count": 48,
   "metadata": {
    "scrolled": true
   },
   "outputs": [
    {
     "data": {
      "text/plain": [
       "100-150 тыс.руб.        7175\n",
       "150-200 тыс.руб.        4766\n",
       "20-100 тыс.руб.         4463\n",
       "200-300 тыс.руб.        3584\n",
       "300 тыс. руб и более    1483\n",
       "Name: income_category, dtype: int64"
      ]
     },
     "execution_count": 48,
     "metadata": {},
     "output_type": "execute_result"
    }
   ],
   "source": [
    "# просмотр уникальных значений столбца income_category\n",
    "df['income_category'].value_counts()"
   ]
  },
  {
   "cell_type": "markdown",
   "metadata": {},
   "source": [
    "Таким образом, нам удалось выделить 5 категорий по уровню дохода клиентов, они достаточно равномерны и мы можем их рассматривать далее в нашем исследовании."
   ]
  },
  {
   "cell_type": "markdown",
   "metadata": {},
   "source": [
    "Проверим, что количество присвоенных категорий совпадает с количеством значений в таблице:"
   ]
  },
  {
   "cell_type": "code",
   "execution_count": 49,
   "metadata": {},
   "outputs": [
    {
     "data": {
      "text/plain": [
       "21471"
      ]
     },
     "execution_count": 49,
     "metadata": {},
     "output_type": "execute_result"
    }
   ],
   "source": [
    "# просуммируем количество уникальных значений для \n",
    "# столбца с категориями уровня дохода\n",
    "df['income_category'].value_counts().sum()"
   ]
  },
  {
   "cell_type": "markdown",
   "metadata": {},
   "source": [
    "Количество определенных функцией категорий совпадает с количеством значений в таблице, значит каждому значению в таблице была присвоена соответствующая категория. "
   ]
  },
  {
   "cell_type": "markdown",
   "metadata": {},
   "source": [
    "**Вывод**\n",
    "\n",
    "Мы провели категоризацию данных в столбцах `purpose`, `children` и `total_income`. В итоге мы объединили данные в каждом столбце в категории по выделенному признаку, что позволит использовать их в исследовании более эффективно. Иначе нам бы пришлось оценивать каждое значение из указанных столбцов."
   ]
  },
  {
   "cell_type": "markdown",
   "metadata": {},
   "source": [
    "### Проверка зависимости между семейным положением и возвратом кредита в срок"
   ]
  },
  {
   "cell_type": "markdown",
   "metadata": {},
   "source": [
    "Проверим есть ли зависимость между семейным положением и возвратом займа в срок."
   ]
  },
  {
   "cell_type": "markdown",
   "metadata": {},
   "source": [
    "Для этого рассмотрим столбец с семейным положением клиента `family_status` и столбец с информацией о существовании задолженности по кредиту `debt`."
   ]
  },
  {
   "cell_type": "code",
   "execution_count": 50,
   "metadata": {},
   "outputs": [
    {
     "data": {
      "text/html": [
       "<div>\n",
       "<style scoped>\n",
       "    .dataframe tbody tr th:only-of-type {\n",
       "        vertical-align: middle;\n",
       "    }\n",
       "\n",
       "    .dataframe tbody tr th {\n",
       "        vertical-align: top;\n",
       "    }\n",
       "\n",
       "    .dataframe thead th {\n",
       "        text-align: right;\n",
       "    }\n",
       "</style>\n",
       "<table border=\"1\" class=\"dataframe\">\n",
       "  <thead>\n",
       "    <tr style=\"text-align: right;\">\n",
       "      <th></th>\n",
       "      <th>family_status</th>\n",
       "      <th>debt</th>\n",
       "    </tr>\n",
       "  </thead>\n",
       "  <tbody>\n",
       "    <tr>\n",
       "      <td>0</td>\n",
       "      <td>женат / замужем</td>\n",
       "      <td>0</td>\n",
       "    </tr>\n",
       "    <tr>\n",
       "      <td>1</td>\n",
       "      <td>женат / замужем</td>\n",
       "      <td>0</td>\n",
       "    </tr>\n",
       "    <tr>\n",
       "      <td>2</td>\n",
       "      <td>женат / замужем</td>\n",
       "      <td>0</td>\n",
       "    </tr>\n",
       "    <tr>\n",
       "      <td>3</td>\n",
       "      <td>женат / замужем</td>\n",
       "      <td>0</td>\n",
       "    </tr>\n",
       "    <tr>\n",
       "      <td>4</td>\n",
       "      <td>гражданский брак</td>\n",
       "      <td>0</td>\n",
       "    </tr>\n",
       "    <tr>\n",
       "      <td>5</td>\n",
       "      <td>гражданский брак</td>\n",
       "      <td>0</td>\n",
       "    </tr>\n",
       "    <tr>\n",
       "      <td>6</td>\n",
       "      <td>женат / замужем</td>\n",
       "      <td>0</td>\n",
       "    </tr>\n",
       "    <tr>\n",
       "      <td>7</td>\n",
       "      <td>женат / замужем</td>\n",
       "      <td>0</td>\n",
       "    </tr>\n",
       "    <tr>\n",
       "      <td>8</td>\n",
       "      <td>гражданский брак</td>\n",
       "      <td>0</td>\n",
       "    </tr>\n",
       "    <tr>\n",
       "      <td>9</td>\n",
       "      <td>женат / замужем</td>\n",
       "      <td>0</td>\n",
       "    </tr>\n",
       "  </tbody>\n",
       "</table>\n",
       "</div>"
      ],
      "text/plain": [
       "      family_status  debt\n",
       "0   женат / замужем     0\n",
       "1   женат / замужем     0\n",
       "2   женат / замужем     0\n",
       "3   женат / замужем     0\n",
       "4  гражданский брак     0\n",
       "5  гражданский брак     0\n",
       "6   женат / замужем     0\n",
       "7   женат / замужем     0\n",
       "8  гражданский брак     0\n",
       "9   женат / замужем     0"
      ]
     },
     "metadata": {},
     "output_type": "display_data"
    }
   ],
   "source": [
    "# просмотр первых 10 строк family_status и debt\n",
    "display(df[['family_status', 'debt']].head(10))"
   ]
  },
  {
   "cell_type": "markdown",
   "metadata": {},
   "source": [
    "Мы не объединяли значения семейного положения клиента в категории, поэтому проверим какие варианты семейного положения используются в таблице с данными."
   ]
  },
  {
   "cell_type": "code",
   "execution_count": 51,
   "metadata": {},
   "outputs": [
    {
     "data": {
      "text/plain": [
       "женат / замужем          12344\n",
       "гражданский брак          4163\n",
       "не женат / не замужем     2810\n",
       "в разводе                 1195\n",
       "вдовец / вдова             959\n",
       "Name: family_status, dtype: int64"
      ]
     },
     "execution_count": 51,
     "metadata": {},
     "output_type": "execute_result"
    }
   ],
   "source": [
    "# уникальные значения столбца family_status,\n",
    "# сохраняем Series в debt_amount\n",
    "debt_amount = df['family_status'].value_counts()\n",
    "debt_amount"
   ]
  },
  {
   "cell_type": "markdown",
   "metadata": {},
   "source": [
    "Мы определили, что в данных таблицы существует 5 вариантов семейного положения. Узнаем какое количество клиентов в каждой категории не имели задолженности по кредиту."
   ]
  },
  {
   "cell_type": "code",
   "execution_count": 52,
   "metadata": {},
   "outputs": [
    {
     "data": {
      "text/plain": [
       "family_status\n",
       "женат / замужем          11413\n",
       "гражданский брак          3775\n",
       "не женат / не замужем     2536\n",
       "в разводе                 1110\n",
       "вдовец / вдова             896\n",
       "Name: debt, dtype: int64"
      ]
     },
     "execution_count": 52,
     "metadata": {},
     "output_type": "execute_result"
    }
   ],
   "source": [
    "# для строк таблицы со значением \"0\" в столбце debt\n",
    "# (нет задолженности) группируем данные по столбцу family_status\n",
    "# подсчитываем количество таких строк по столбцу debt\n",
    "df_status = df[df['debt'] == 0].groupby('family_status')['debt'].count()\n",
    "# в сгруппированной Series сортируем значения по убыванию\n",
    "df_status = df_status.sort_values(ascending=False)\n",
    "df_status"
   ]
  },
  {
   "cell_type": "markdown",
   "metadata": {},
   "source": [
    "Когда нам известно количество клиентов в каждом семейном положении без задолженности, мы можем посчитать конверсию - отношение количества клиентов без задолженности к общему числу выданных кредитов в каждой категории семейного положения. Таким образом, мы выясним какой процент клиентов возвращает кредиты без задержек (с учетом семейного положения)."
   ]
  },
  {
   "cell_type": "code",
   "execution_count": 53,
   "metadata": {},
   "outputs": [
    {
     "data": {
      "text/plain": [
       "family_status\n",
       "женат / замужем          92.457874\n",
       "гражданский брак         90.679798\n",
       "не женат / не замужем    90.249110\n",
       "в разводе                92.887029\n",
       "вдовец / вдова           93.430657\n",
       "dtype: float64"
      ]
     },
     "execution_count": 53,
     "metadata": {},
     "output_type": "execute_result"
    }
   ],
   "source": [
    "# подсчет конверсии для каждой категории семейного положения\n",
    "conversion_status = df_status / debt_amount * 100\n",
    "conversion_status"
   ]
  },
  {
   "cell_type": "markdown",
   "metadata": {},
   "source": [
    "Мы получили результаты в виде Series. Для наглядности представим полученные данные в виде столбчатой диаграммы с осями \"% возврата\" и \"семейное положение\"."
   ]
  },
  {
   "cell_type": "code",
   "execution_count": 54,
   "metadata": {},
   "outputs": [
    {
     "data": {
      "text/plain": [
       "[92.45787427090085,\n",
       " 90.67979822243575,\n",
       " 90.2491103202847,\n",
       " 92.88702928870293,\n",
       " 93.43065693430657]"
      ]
     },
     "execution_count": 54,
     "metadata": {},
     "output_type": "execute_result"
    }
   ],
   "source": [
    "# создание списка с вариантами семейного положения\n",
    "list_status = ['женат / замужем', 'гражданский брак', 'не женат / не замужем', 'в разводе', 'вдовец / вдова']\n",
    "# преобразование в список значений конверсии\n",
    "list_conversion = list(conversion_status)\n",
    "# вывод и проверка созданного списка\n",
    "list_conversion"
   ]
  },
  {
   "cell_type": "code",
   "execution_count": 55,
   "metadata": {},
   "outputs": [
    {
     "data": {
      "image/png": "[encoded data removed]",
      "text/plain": [
       "<Figure size 432x288 with 1 Axes>"
      ]
     },
     "metadata": {
      "needs_background": "light"
     },
     "output_type": "display_data"
    }
   ],
   "source": [
    "# построение диаграммы по спискам с данными\n",
    "ax = seaborn.barplot(x=list_conversion, y=list_status)\n",
    "# указание параметров для осей X, Y и labels\n",
    "ax.set(xlabel='% возврата', ylabel='семейное положение', xlim=(90,95), \n",
    "       title='Диаграмма зависимости процента возврата кредита от семейного положения')\n",
    "# вывод диаграммы\n",
    "ax;"
   ]
  },
  {
   "cell_type": "markdown",
   "metadata": {},
   "source": [
    "Оценим полученные результаты. Мы видим, что проценты возврата находятся в диапазоне между 90% и 94%. Это очень высокие показатели возврата кредитов. Но несмотря на то, что разница в процентах между категориями семейного положения незначительны, мы можем сказать, что клиенты в статусе \"вдовец/вдова\" и \"в разводе\" имеют более высокий процент возврата кредита без задолженности.\n",
    "\n",
    "Дополнительно мы можем проверить полученные результаты относительно общего процента возврата кредита в срок (с учетом всех характеристик клиента)."
   ]
  },
  {
   "cell_type": "code",
   "execution_count": 56,
   "metadata": {},
   "outputs": [
    {
     "name": "stdout",
     "output_type": "stream",
     "text": [
      "Конверсия 91.89%\n"
     ]
    }
   ],
   "source": [
    "# подсчет количества возвратов кредита в срок\n",
    "df_success = df[df['debt'] == 0].count()\n",
    "# подсчет конверсии\n",
    "print('Конверсия {:.2%}'.format(df_success['debt'] / df['debt'].count()))"
   ]
  },
  {
   "cell_type": "markdown",
   "metadata": {},
   "source": [
    "Относительно полученного значения процента по общему возврату кредита в срок без задолженности можем сделать вывод, что категории клиентов с статусах \"женат/замужем\", \"в разводе\" и \"вдовец/вдова\" имеют больший процент возврата без задолженности относительно среднего значения, чем клиенты в категориях \"гражданский брак\" и \"не женат/не замужем\"."
   ]
  },
  {
   "cell_type": "markdown",
   "metadata": {},
   "source": [
    "***Вывод***\n",
    "\n",
    "Несмотря на небольшую разницу в полученных результатах для каждой категории семейного положения мы можем сделать вывод, что некоторая зависимость между семейным положением и возвратом кредита в срок существует. Так, клиенты в статусах \"вдовец/вдова\",  \"в разводе\" и \"женат/замужем\" имеют чуть более высокий процент возврата без задолженности по сравнению с категориями в статусах \"гражданский брак\" и \"не женат/не замужем\". Также заметим, что клиенты в статусе \"женат/замужем\" имеют наибольшее количество кредитов в таблице с данными."
   ]
  },
  {
   "cell_type": "markdown",
   "metadata": {},
   "source": [
    "### Проверка зависимости между наличием детей и возвратом кредита в срок"
   ]
  },
  {
   "cell_type": "markdown",
   "metadata": {},
   "source": [
    "Проверим есть ли зависимость между наличием детей и его возвратом в срок.\n",
    "\n",
    "Для этого мы будем рассматривать столбец таблицы с категориями наличия детей `children_category` и столбец с информацией о существовании задолженности по кредиту `debt`."
   ]
  },
  {
   "cell_type": "code",
   "execution_count": 57,
   "metadata": {},
   "outputs": [
    {
     "data": {
      "text/html": [
       "<div>\n",
       "<style scoped>\n",
       "    .dataframe tbody tr th:only-of-type {\n",
       "        vertical-align: middle;\n",
       "    }\n",
       "\n",
       "    .dataframe tbody tr th {\n",
       "        vertical-align: top;\n",
       "    }\n",
       "\n",
       "    .dataframe thead th {\n",
       "        text-align: right;\n",
       "    }\n",
       "</style>\n",
       "<table border=\"1\" class=\"dataframe\">\n",
       "  <thead>\n",
       "    <tr style=\"text-align: right;\">\n",
       "      <th></th>\n",
       "      <th>children_category</th>\n",
       "      <th>debt</th>\n",
       "    </tr>\n",
       "  </thead>\n",
       "  <tbody>\n",
       "    <tr>\n",
       "      <td>0</td>\n",
       "      <td>1-2 ребенка</td>\n",
       "      <td>0</td>\n",
       "    </tr>\n",
       "    <tr>\n",
       "      <td>1</td>\n",
       "      <td>1-2 ребенка</td>\n",
       "      <td>0</td>\n",
       "    </tr>\n",
       "    <tr>\n",
       "      <td>2</td>\n",
       "      <td>нет детей</td>\n",
       "      <td>0</td>\n",
       "    </tr>\n",
       "    <tr>\n",
       "      <td>3</td>\n",
       "      <td>3 и более детей</td>\n",
       "      <td>0</td>\n",
       "    </tr>\n",
       "    <tr>\n",
       "      <td>4</td>\n",
       "      <td>нет детей</td>\n",
       "      <td>0</td>\n",
       "    </tr>\n",
       "    <tr>\n",
       "      <td>5</td>\n",
       "      <td>нет детей</td>\n",
       "      <td>0</td>\n",
       "    </tr>\n",
       "    <tr>\n",
       "      <td>6</td>\n",
       "      <td>нет детей</td>\n",
       "      <td>0</td>\n",
       "    </tr>\n",
       "    <tr>\n",
       "      <td>7</td>\n",
       "      <td>нет детей</td>\n",
       "      <td>0</td>\n",
       "    </tr>\n",
       "    <tr>\n",
       "      <td>8</td>\n",
       "      <td>1-2 ребенка</td>\n",
       "      <td>0</td>\n",
       "    </tr>\n",
       "    <tr>\n",
       "      <td>9</td>\n",
       "      <td>нет детей</td>\n",
       "      <td>0</td>\n",
       "    </tr>\n",
       "  </tbody>\n",
       "</table>\n",
       "</div>"
      ],
      "text/plain": [
       "  children_category  debt\n",
       "0       1-2 ребенка     0\n",
       "1       1-2 ребенка     0\n",
       "2         нет детей     0\n",
       "3   3 и более детей     0\n",
       "4         нет детей     0\n",
       "5         нет детей     0\n",
       "6         нет детей     0\n",
       "7         нет детей     0\n",
       "8       1-2 ребенка     0\n",
       "9         нет детей     0"
      ]
     },
     "metadata": {},
     "output_type": "display_data"
    }
   ],
   "source": [
    "# просмотр просмотр первых 10 строк children_category и debt\n",
    "display(df[['children_category', 'debt']].head(10))"
   ]
  },
  {
   "cell_type": "markdown",
   "metadata": {},
   "source": [
    "Выше мы выделили 3 категории для данных о количестве детей. Определим, какое количество клиентов в каждой из категорий не имеют задолженности при возврате кредита."
   ]
  },
  {
   "cell_type": "code",
   "execution_count": 58,
   "metadata": {},
   "outputs": [
    {
     "data": {
      "text/plain": [
       "children_category\n",
       "1-2 ребенка         6223\n",
       "3 и более детей      349\n",
       "нет детей          13158\n",
       "Name: debt, dtype: int64"
      ]
     },
     "execution_count": 58,
     "metadata": {},
     "output_type": "execute_result"
    }
   ],
   "source": [
    "# для строк таблицы со значением \"0\" в столбце debt\n",
    "# (нет задолженности) группируем данные по столбцу children_category\n",
    "# подсчитываем количество таких строк по столбцу debt\n",
    "df_children = df[df['debt'] == 0].groupby('children_category')['debt'].count()\n",
    "# просмотр Series\n",
    "df_children"
   ]
  },
  {
   "cell_type": "markdown",
   "metadata": {},
   "source": [
    "Теперь узнаем общее число взятых займов в каждой из категорий."
   ]
  },
  {
   "cell_type": "code",
   "execution_count": 59,
   "metadata": {},
   "outputs": [
    {
     "data": {
      "text/plain": [
       "children_category\n",
       "1-2 ребенка         6861\n",
       "3 и более детей      380\n",
       "нет детей          14230\n",
       "Name: debt, dtype: int64"
      ]
     },
     "execution_count": 59,
     "metadata": {},
     "output_type": "execute_result"
    }
   ],
   "source": [
    "# группируем данные по столбцу children_category,\n",
    "# подсчитываем количество таких строк по столбцу debt\n",
    "# сохраняем Series в debt_amount\n",
    "debt_amount = df.groupby('children_category')['debt'].count()\n",
    "# просмотр Series\n",
    "debt_amount"
   ]
  },
  {
   "cell_type": "markdown",
   "metadata": {},
   "source": [
    "Выясним какой процент клиентов возвращает кредиты без задержек с учетом наличия детей. Используем показатель конверсии снова. "
   ]
  },
  {
   "cell_type": "code",
   "execution_count": 60,
   "metadata": {},
   "outputs": [
    {
     "data": {
      "text/plain": [
       "children_category\n",
       "1-2 ребенка        90.701064\n",
       "3 и более детей    91.842105\n",
       "нет детей          92.466620\n",
       "Name: debt, dtype: float64"
      ]
     },
     "execution_count": 60,
     "metadata": {},
     "output_type": "execute_result"
    }
   ],
   "source": [
    "# подсчет конверсии для каждой категории наличия детей\n",
    "conversion_children = df_children / debt_amount * 100\n",
    "# вывод результата\n",
    "conversion_children "
   ]
  },
  {
   "cell_type": "markdown",
   "metadata": {},
   "source": [
    "Для наглядности представим полученные данные в виде столбчатой диаграммы с осями \"% возврата\" и \"количество детей\"."
   ]
  },
  {
   "cell_type": "code",
   "execution_count": 61,
   "metadata": {},
   "outputs": [
    {
     "data": {
      "text/plain": [
       "[90.70106398484185, 91.84210526315789, 92.46661981728742]"
      ]
     },
     "execution_count": 61,
     "metadata": {},
     "output_type": "execute_result"
    }
   ],
   "source": [
    "# создание списка с категориями наличия детей\n",
    "list_children = ['1-2 ребенка', '3 и более детей', 'нет детей']\n",
    "# преобразование в список значений конверсии\n",
    "list_conversion = list(conversion_children)\n",
    "# вывод и проверка созданного списка\n",
    "list_conversion"
   ]
  },
  {
   "cell_type": "code",
   "execution_count": 62,
   "metadata": {},
   "outputs": [
    {
     "data": {
      "image/png": "[encoded data removed]",
      "text/plain": [
       "<Figure size 432x288 with 1 Axes>"
      ]
     },
     "metadata": {
      "needs_background": "light"
     },
     "output_type": "display_data"
    }
   ],
   "source": [
    "ax = seaborn.barplot(x=list_conversion, y=list_children)\n",
    "# указание параметров для осей X, Y и labels\n",
    "ax.set(xlabel='% возврата', ylabel='количество детей', xlim=(90,95), \n",
    "       title=\"Диаграмма зависимости процента возврата кредита от наличия детей\")\n",
    "# вывод диаграммы\n",
    "ax;"
   ]
  },
  {
   "cell_type": "markdown",
   "metadata": {},
   "source": [
    "Оценим полученные результаты. Мы видим, что проценты возврата находятся в диапазоне между 90% и 93%. Разница в процентах между категориями наличия детей вновь незначительны, но мы можем сказать, что клиенты без детей имеют более высокий процент возврата кредита без задолженности (почти 92,5%).\n",
    "\n",
    "Дополнительно мы можем проверить полученные результаты относительно общего процента возврата кредита в срок (с учетом всех характеристик клиента)."
   ]
  },
  {
   "cell_type": "code",
   "execution_count": 63,
   "metadata": {},
   "outputs": [
    {
     "name": "stdout",
     "output_type": "stream",
     "text": [
      "Конверсия 91.89%\n"
     ]
    }
   ],
   "source": [
    "# подсчет количества возвратов кредита в срок\n",
    "df_success = df[df['debt'] == 0].count()\n",
    "# подсчет конверсии\n",
    "print('Конверсия {:.2%}'.format(df_success['debt'] / df['debt'].count()))"
   ]
  },
  {
   "cell_type": "markdown",
   "metadata": {},
   "source": [
    "Относительно полученного значения процента по общему возврату кредита в срок без задолженности можем сделать вывод, что категория клиентов без детей имеет больший процент возврата без задолженности относительно среднего значения, чем клиенты с детьми (их процент возврата меньше среднего процента возврата кредита). Тем не менее эта разница незначительна и все категории имеют очень высокий процент возврата в срок."
   ]
  },
  {
   "cell_type": "markdown",
   "metadata": {},
   "source": [
    "***Вывод***\n",
    "\n",
    "Разница в полученных результатах для каждой категории наличия детей по возврату кредита в срок вновь небольшая. Тем не менее, оценив проценты возврата, можно утверждать, что некоторая зависимость между наличием детей и возвратом кредита в срок существует. Так, клиенты без детей имеют чуть более высокий процент возврата без задолженности по сравнению с клиентами с детьми. И заметим, что клиенты без детей чаще пользуются услугой кредитования в банке по данным из таблицы."
   ]
  },
  {
   "cell_type": "markdown",
   "metadata": {},
   "source": [
    "### Проверка зависимости между уровнем дохода и возвратом кредита в срок"
   ]
  },
  {
   "cell_type": "markdown",
   "metadata": {},
   "source": [
    "Исследуем зависимость между уровнем дохода клиента и возвратом кредита в срок. \n",
    "\n",
    "Для этого мы будем рассматривать столбец таблицы с категориями для уровней дохода `income_category` и столбец с информацией о существовании задолженности по этим целям `debt`."
   ]
  },
  {
   "cell_type": "code",
   "execution_count": 64,
   "metadata": {},
   "outputs": [
    {
     "data": {
      "text/html": [
       "<div>\n",
       "<style scoped>\n",
       "    .dataframe tbody tr th:only-of-type {\n",
       "        vertical-align: middle;\n",
       "    }\n",
       "\n",
       "    .dataframe tbody tr th {\n",
       "        vertical-align: top;\n",
       "    }\n",
       "\n",
       "    .dataframe thead th {\n",
       "        text-align: right;\n",
       "    }\n",
       "</style>\n",
       "<table border=\"1\" class=\"dataframe\">\n",
       "  <thead>\n",
       "    <tr style=\"text-align: right;\">\n",
       "      <th></th>\n",
       "      <th>income_category</th>\n",
       "      <th>debt</th>\n",
       "    </tr>\n",
       "  </thead>\n",
       "  <tbody>\n",
       "    <tr>\n",
       "      <td>0</td>\n",
       "      <td>200-300 тыс.руб.</td>\n",
       "      <td>0</td>\n",
       "    </tr>\n",
       "    <tr>\n",
       "      <td>1</td>\n",
       "      <td>100-150 тыс.руб.</td>\n",
       "      <td>0</td>\n",
       "    </tr>\n",
       "    <tr>\n",
       "      <td>2</td>\n",
       "      <td>100-150 тыс.руб.</td>\n",
       "      <td>0</td>\n",
       "    </tr>\n",
       "    <tr>\n",
       "      <td>3</td>\n",
       "      <td>200-300 тыс.руб.</td>\n",
       "      <td>0</td>\n",
       "    </tr>\n",
       "    <tr>\n",
       "      <td>4</td>\n",
       "      <td>150-200 тыс.руб.</td>\n",
       "      <td>0</td>\n",
       "    </tr>\n",
       "    <tr>\n",
       "      <td>5</td>\n",
       "      <td>200-300 тыс.руб.</td>\n",
       "      <td>0</td>\n",
       "    </tr>\n",
       "    <tr>\n",
       "      <td>6</td>\n",
       "      <td>200-300 тыс.руб.</td>\n",
       "      <td>0</td>\n",
       "    </tr>\n",
       "    <tr>\n",
       "      <td>7</td>\n",
       "      <td>100-150 тыс.руб.</td>\n",
       "      <td>0</td>\n",
       "    </tr>\n",
       "    <tr>\n",
       "      <td>8</td>\n",
       "      <td>20-100 тыс.руб.</td>\n",
       "      <td>0</td>\n",
       "    </tr>\n",
       "    <tr>\n",
       "      <td>9</td>\n",
       "      <td>100-150 тыс.руб.</td>\n",
       "      <td>0</td>\n",
       "    </tr>\n",
       "  </tbody>\n",
       "</table>\n",
       "</div>"
      ],
      "text/plain": [
       "    income_category  debt\n",
       "0  200-300 тыс.руб.     0\n",
       "1  100-150 тыс.руб.     0\n",
       "2  100-150 тыс.руб.     0\n",
       "3  200-300 тыс.руб.     0\n",
       "4  150-200 тыс.руб.     0\n",
       "5  200-300 тыс.руб.     0\n",
       "6  200-300 тыс.руб.     0\n",
       "7  100-150 тыс.руб.     0\n",
       "8   20-100 тыс.руб.     0\n",
       "9  100-150 тыс.руб.     0"
      ]
     },
     "metadata": {},
     "output_type": "display_data"
    }
   ],
   "source": [
    "# просмотр просмотр первых 10 строк income_category и debt\n",
    "display(df[['income_category', 'debt']].head(10))"
   ]
  },
  {
   "cell_type": "markdown",
   "metadata": {},
   "source": [
    "Выше мы выделили 5 категорий для данных об уровне дохода клиентов. Определим, какое количество клиентов в каждой из категорий не имеют задолженности при возврате кредита."
   ]
  },
  {
   "cell_type": "code",
   "execution_count": 65,
   "metadata": {},
   "outputs": [
    {
     "data": {
      "text/plain": [
       "income_category\n",
       "100-150 тыс.руб.        6551\n",
       "150-200 тыс.руб.        4361\n",
       "20-100 тыс.руб.         4109\n",
       "200-300 тыс.руб.        3332\n",
       "300 тыс. руб и более    1377\n",
       "Name: debt, dtype: int64"
      ]
     },
     "execution_count": 65,
     "metadata": {},
     "output_type": "execute_result"
    }
   ],
   "source": [
    "# для строк таблицы со значением \"0\" в столбце debt\n",
    "# (нет задолженности) группируем данные по столбцу income_category\n",
    "# подсчитываем количество таких строк по столбцу debt\n",
    "df_income = df[df['debt'] == 0].groupby('income_category')['debt'].count()\n",
    "# просмотр Series\n",
    "df_income"
   ]
  },
  {
   "cell_type": "markdown",
   "metadata": {},
   "source": [
    "Теперь узнаем общее число взятых займов в каждой из категорий."
   ]
  },
  {
   "cell_type": "code",
   "execution_count": 66,
   "metadata": {},
   "outputs": [
    {
     "data": {
      "text/plain": [
       "income_category\n",
       "100-150 тыс.руб.        7175\n",
       "150-200 тыс.руб.        4766\n",
       "20-100 тыс.руб.         4463\n",
       "200-300 тыс.руб.        3584\n",
       "300 тыс. руб и более    1483\n",
       "Name: debt, dtype: int64"
      ]
     },
     "execution_count": 66,
     "metadata": {},
     "output_type": "execute_result"
    }
   ],
   "source": [
    "# группируем данные по столбцу income_category,\n",
    "# подсчитываем количество таких строк по столбцу debt\n",
    "# сохраняем Series в debt_amount\n",
    "debt_amount = df.groupby('income_category')['debt'].count()\n",
    "# просмотр Series\n",
    "debt_amount"
   ]
  },
  {
   "cell_type": "markdown",
   "metadata": {},
   "source": [
    "Выясним какой процент клиентов из указанных категорий возвращает кредиты без задержек. Используем показатель конверсии. "
   ]
  },
  {
   "cell_type": "code",
   "execution_count": 67,
   "metadata": {},
   "outputs": [
    {
     "data": {
      "text/plain": [
       "income_category\n",
       "100-150 тыс.руб.        91.303136\n",
       "150-200 тыс.руб.        91.502308\n",
       "20-100 тыс.руб.         92.068116\n",
       "200-300 тыс.руб.        92.968750\n",
       "300 тыс. руб и более    92.852326\n",
       "Name: debt, dtype: float64"
      ]
     },
     "execution_count": 67,
     "metadata": {},
     "output_type": "execute_result"
    }
   ],
   "source": [
    "# подсчет конверсии для каждой категории уровня дохода\n",
    "conversion_income = df_income / debt_amount * 100\n",
    "# вывод результата\n",
    "conversion_income"
   ]
  },
  {
   "cell_type": "markdown",
   "metadata": {},
   "source": [
    "Для наглядности представим полученные данные в виде столбчатой диаграммы с осями \"% возврата\" и \"уровень дохода\"."
   ]
  },
  {
   "cell_type": "code",
   "execution_count": 68,
   "metadata": {},
   "outputs": [
    {
     "data": {
      "text/plain": [
       "[91.30313588850174,\n",
       " 91.502308015107,\n",
       " 92.06811561729779,\n",
       " 92.96875,\n",
       " 92.85232636547539]"
      ]
     },
     "execution_count": 68,
     "metadata": {},
     "output_type": "execute_result"
    }
   ],
   "source": [
    "# создание списка с категориями уровней дохода\n",
    "list_income = ['100-150 тыс. руб.', '150-200 тыс. руб.', \n",
    "                '20-100 тыс. руб.', '200-300 тыс. руб.','300 тыс. руб и более']\n",
    "# преобразование в список значений конверсии\n",
    "list_conversion = list(conversion_income)\n",
    "# вывод и проверка созданного списка\n",
    "list_conversion"
   ]
  },
  {
   "cell_type": "code",
   "execution_count": 69,
   "metadata": {},
   "outputs": [
    {
     "data": {
      "image/png": "[encoded data removed]",
      "text/plain": [
       "<Figure size 432x288 with 1 Axes>"
      ]
     },
     "metadata": {
      "needs_background": "light"
     },
     "output_type": "display_data"
    }
   ],
   "source": [
    "# построение диаграммы по спискам с данными\n",
    "ax = seaborn.barplot(x=list_conversion, y=list_income)\n",
    "# указание параметров для осей X, Y и labels\n",
    "ax.set(xlabel='% возврата', ylabel='уровень дохода', xlim=(90,95), \n",
    "       title=\"Диаграмма зависимости процента возврата кредита от уровня дохода\")\n",
    "# вывод диаграммы\n",
    "ax;"
   ]
  },
  {
   "cell_type": "markdown",
   "metadata": {},
   "source": [
    "Диаграмма указывает, что разница в процентах между категориями уровня дохода незначительны, но мы можем сказать, что клиенты с уровнем дохода 200-300 тыс. руб. имеют более высокий процент возврата кредита без задолженности. Конечно, показатель клиентов с уровнем дохода более 300 тыс. руб. также очень высок. Но примечательно, что клиенты с доходом 20-100 тыс. руб. имеют тот же процент возврата без доли - 92%.\n",
    "\n",
    "Дополнительно мы можем проверить полученные результаты относительно общего процента возврата кредита в срок (с учетом всех характеристик клиента)."
   ]
  },
  {
   "cell_type": "code",
   "execution_count": 70,
   "metadata": {},
   "outputs": [
    {
     "name": "stdout",
     "output_type": "stream",
     "text": [
      "Конверсия 91.89%\n"
     ]
    }
   ],
   "source": [
    "# подсчет количества возвратов кредита в срок\n",
    "df_success = df[df['debt'] == 0].count()\n",
    "# подсчет конверсии\n",
    "print('Конверсия {:.2%}'.format(df_success['debt'] / df['debt'].count()))"
   ]
  },
  {
   "cell_type": "markdown",
   "metadata": {},
   "source": [
    "Относительно значения процента по общему возврату кредита в срок без задолженности можем сделать вывод, что категории клиентов с доходами 20-100 тыс. руб., 200-300 тыс. руб. и 300 тыс. руб и более имеет больший процент возврата без задолженности относительно среднего значения, чем клиенты с доходами 100-150 тыс. руб., 150-200 тыс. руб (их процент возврата меньше среднего процента возврата кредита). Тем не менее эта разница незначительна и все категории имеют очень высокий процент возврата в срок."
   ]
  },
  {
   "cell_type": "markdown",
   "metadata": {},
   "source": [
    "***Вывод***\n",
    "\n",
    "Разница в полученных результатах для каждой категории уровня дохода вновь небольшая. Тем не менее, оценив проценты возврата, можно утверждать, что совсем небольшая зависимость между доходом и возвратом кредита в срок существует. Так, клиенты с доходом 200-300 тыс. руб.  имеют чуть более высокий процент возврата без задолженности. Также отметим, что клиенты с доходом 100-150 тыс. руб. чаще пользуются услугой кредитования в банке по данным из таблицы, а клиенты с доходом 150-200 тыс. руб. имеют самый низкий процент возврата из рассматриваемых категорий."
   ]
  },
  {
   "cell_type": "markdown",
   "metadata": {},
   "source": [
    "### Проверка зависимости между целью кредита и возвратом кредита в срок"
   ]
  },
  {
   "cell_type": "markdown",
   "metadata": {},
   "source": [
    "Проверим есть ли зависимость между целью кредита и его возвратом в срок. \n",
    "\n",
    "Для этого мы будем рассматривать столбец таблицы с категориями для целей кредита `purpose_category` и столбец с информацией о существовании задолженности по этим целям `debt`."
   ]
  },
  {
   "cell_type": "code",
   "execution_count": 71,
   "metadata": {},
   "outputs": [
    {
     "data": {
      "text/html": [
       "<div>\n",
       "<style scoped>\n",
       "    .dataframe tbody tr th:only-of-type {\n",
       "        vertical-align: middle;\n",
       "    }\n",
       "\n",
       "    .dataframe tbody tr th {\n",
       "        vertical-align: top;\n",
       "    }\n",
       "\n",
       "    .dataframe thead th {\n",
       "        text-align: right;\n",
       "    }\n",
       "</style>\n",
       "<table border=\"1\" class=\"dataframe\">\n",
       "  <thead>\n",
       "    <tr style=\"text-align: right;\">\n",
       "      <th></th>\n",
       "      <th>purpose_category</th>\n",
       "      <th>debt</th>\n",
       "    </tr>\n",
       "  </thead>\n",
       "  <tbody>\n",
       "    <tr>\n",
       "      <td>0</td>\n",
       "      <td>покупка недвижимости</td>\n",
       "      <td>0</td>\n",
       "    </tr>\n",
       "    <tr>\n",
       "      <td>1</td>\n",
       "      <td>покупка автомобиля</td>\n",
       "      <td>0</td>\n",
       "    </tr>\n",
       "    <tr>\n",
       "      <td>2</td>\n",
       "      <td>покупка недвижимости</td>\n",
       "      <td>0</td>\n",
       "    </tr>\n",
       "    <tr>\n",
       "      <td>3</td>\n",
       "      <td>образование</td>\n",
       "      <td>0</td>\n",
       "    </tr>\n",
       "    <tr>\n",
       "      <td>4</td>\n",
       "      <td>свадьба</td>\n",
       "      <td>0</td>\n",
       "    </tr>\n",
       "    <tr>\n",
       "      <td>5</td>\n",
       "      <td>покупка недвижимости</td>\n",
       "      <td>0</td>\n",
       "    </tr>\n",
       "    <tr>\n",
       "      <td>6</td>\n",
       "      <td>покупка недвижимости</td>\n",
       "      <td>0</td>\n",
       "    </tr>\n",
       "    <tr>\n",
       "      <td>7</td>\n",
       "      <td>образование</td>\n",
       "      <td>0</td>\n",
       "    </tr>\n",
       "    <tr>\n",
       "      <td>8</td>\n",
       "      <td>свадьба</td>\n",
       "      <td>0</td>\n",
       "    </tr>\n",
       "    <tr>\n",
       "      <td>9</td>\n",
       "      <td>покупка недвижимости</td>\n",
       "      <td>0</td>\n",
       "    </tr>\n",
       "  </tbody>\n",
       "</table>\n",
       "</div>"
      ],
      "text/plain": [
       "       purpose_category  debt\n",
       "0  покупка недвижимости     0\n",
       "1    покупка автомобиля     0\n",
       "2  покупка недвижимости     0\n",
       "3           образование     0\n",
       "4               свадьба     0\n",
       "5  покупка недвижимости     0\n",
       "6  покупка недвижимости     0\n",
       "7           образование     0\n",
       "8               свадьба     0\n",
       "9  покупка недвижимости     0"
      ]
     },
     "metadata": {},
     "output_type": "display_data"
    }
   ],
   "source": [
    "# просмотр просмотр первых 10 строк purpose_category и debt\n",
    "display(df[['purpose_category', 'debt']].head(10))"
   ]
  },
  {
   "cell_type": "markdown",
   "metadata": {},
   "source": [
    "Выше мы выделили 5 категорий целей кредита. Определим, какое количество клиентов в каждой из категорий не имеют задолженности при возврате кредита."
   ]
  },
  {
   "cell_type": "code",
   "execution_count": 72,
   "metadata": {},
   "outputs": [
    {
     "data": {
      "text/plain": [
       "purpose_category\n",
       "образование               3644\n",
       "покупка автомобиля        3905\n",
       "покупка недвижимости      7725\n",
       "свадьба                   2149\n",
       "строительство и ремонт    2307\n",
       "Name: debt, dtype: int64"
      ]
     },
     "execution_count": 72,
     "metadata": {},
     "output_type": "execute_result"
    }
   ],
   "source": [
    "# для строк таблицы со значением \"0\" в столбце debt\n",
    "# (нет задолженности) группируем данные по столбцу purpose_category\n",
    "# подсчитываем количество таких строк по столбцу debt\n",
    "df_purpose = df[df['debt'] == 0].groupby('purpose_category')['debt'].count()\n",
    "# просмотр Series\n",
    "df_purpose"
   ]
  },
  {
   "cell_type": "markdown",
   "metadata": {},
   "source": [
    "Определим общее число взятых займов в каждой из категорий."
   ]
  },
  {
   "cell_type": "code",
   "execution_count": 73,
   "metadata": {},
   "outputs": [
    {
     "data": {
      "text/plain": [
       "purpose_category\n",
       "образование               4014\n",
       "покупка автомобиля        4308\n",
       "покупка недвижимости      8328\n",
       "свадьба                   2335\n",
       "строительство и ремонт    2486\n",
       "Name: debt, dtype: int64"
      ]
     },
     "execution_count": 73,
     "metadata": {},
     "output_type": "execute_result"
    }
   ],
   "source": [
    "# группируем данные по столбцу purpose_category,\n",
    "# подсчитываем количество таких строк по столбцу debt\n",
    "# сохраняем Series в debt_amount\n",
    "debt_amount = df.groupby('purpose_category')['debt'].count()\n",
    "# просмотр Series\n",
    "debt_amount"
   ]
  },
  {
   "cell_type": "markdown",
   "metadata": {},
   "source": [
    "Выясним какой процент клиентов из указанных категорий возвращает кредиты без задержек. Используем показатель конверсии. "
   ]
  },
  {
   "cell_type": "code",
   "execution_count": 74,
   "metadata": {},
   "outputs": [
    {
     "data": {
      "text/plain": [
       "purpose_category\n",
       "образование               90.782262\n",
       "покупка автомобиля        90.645311\n",
       "покупка недвижимости      92.759366\n",
       "свадьба                   92.034261\n",
       "строительство и ремонт    92.799678\n",
       "Name: debt, dtype: float64"
      ]
     },
     "execution_count": 74,
     "metadata": {},
     "output_type": "execute_result"
    }
   ],
   "source": [
    "# подсчет конверсии для каждой категории целей кредита\n",
    "conversion_purpose = df_purpose / debt_amount * 100\n",
    "# вывод результата\n",
    "conversion_purpose"
   ]
  },
  {
   "cell_type": "markdown",
   "metadata": {},
   "source": [
    "Для наглядности представим полученные данные в виде столбчатой диаграммы с осями \"% возврата\" и \"цель кредита\"."
   ]
  },
  {
   "cell_type": "code",
   "execution_count": 75,
   "metadata": {},
   "outputs": [
    {
     "data": {
      "text/plain": [
       "[90.78226208271052,\n",
       " 90.64531104921078,\n",
       " 92.7593659942363,\n",
       " 92.03426124197001,\n",
       " 92.79967819790829]"
      ]
     },
     "execution_count": 75,
     "metadata": {},
     "output_type": "execute_result"
    }
   ],
   "source": [
    "# создание списка с категориями целей кредита\n",
    "list_purpose = ['образование', 'покупка автомобиля', 'покупка недвижимости', 'свадьба','строительство и ремонт']\n",
    "# преобразование в список значений конверсии\n",
    "list_conversion = list(conversion_purpose)\n",
    "# вывод результата\n",
    "list_conversion"
   ]
  },
  {
   "cell_type": "code",
   "execution_count": 76,
   "metadata": {},
   "outputs": [
    {
     "data": {
      "image/png": "[encoded data removed]",
      "text/plain": [
       "<Figure size 432x288 with 1 Axes>"
      ]
     },
     "metadata": {
      "needs_background": "light"
     },
     "output_type": "display_data"
    }
   ],
   "source": [
    "# построение диаграммы по спискам с данными\n",
    "ax = seaborn.barplot(x=list_conversion, y=list_purpose)\n",
    "# указание параметров для осей X, Y и labels\n",
    "ax.set(xlabel='% возврата', ylabel='цель кредита', xlim=(90,95), \n",
    "       title=\"Диаграмма зависимости процента возврата кредита от цели кредита\")\n",
    "# вывод диаграммы\n",
    "ax;"
   ]
  },
  {
   "cell_type": "markdown",
   "metadata": {},
   "source": [
    "Диаграмма указывает, что клиенты с целями кредита 'покупка недвижимости' и 'строительство и ремонт' имеют более высокие процент возврата кредита без задолженности, чем клиенты с другими целями. Что соответствует реальности, так как для многих заемщиков это выплата за единственное жилье. Клиенты с целями 'образование' и 'покупка автомобиля' менее охотно возвращают займ в срок и имеют процент возврата ниже на 2%.\n",
    "\n",
    "Дополнительно мы можем проверить полученные результаты относительно общего процента возврата кредита в срок (с учетом всех характеристик клиента)."
   ]
  },
  {
   "cell_type": "code",
   "execution_count": 77,
   "metadata": {},
   "outputs": [
    {
     "data": {
      "text/plain": [
       "91.89138838433234"
      ]
     },
     "execution_count": 77,
     "metadata": {},
     "output_type": "execute_result"
    }
   ],
   "source": [
    "# подсчет количества возвратов кредита в срок\n",
    "df_success = df[df['debt'] == 0].count()\n",
    "# подсчет конверсии\n",
    "avg_return = df_success['debt'] / df['debt'].count() * 100\n",
    "avg_return"
   ]
  },
  {
   "cell_type": "markdown",
   "metadata": {},
   "source": [
    "Относительно значения процента по общему возврату кредита в срок без задолженности можем сделать вывод, что категории клиентов с целями 'покупка недвижимости', 'свадьба', 'строительство и ремонт' имеют больший процент возврата без задолженности относительно среднего значения, чем клиенты с целями 'образование' и 'покупка автомобиля' (их процент возврата меньше среднего процента возврата кредита)."
   ]
  },
  {
   "cell_type": "markdown",
   "metadata": {},
   "source": [
    "***Вывод***\n",
    "\n",
    "Оценив результаты, можно утверждать, что некоторая зависимость между целью кредита и его возвратом в срок существует. Так, клиенты с целями  'покупка недвижимости', 'свадьба','строительство и ремонт' имеют более высокий процент возврата без задолженности по сравнению с клиентами, причиной кредита которых были 'образование' и 'покупка автомобиля'. И заметим, что кредитование при покупке недвижимости имеет наибольшую популярность среди клиентов по данным из таблицы."
   ]
  },
  {
   "cell_type": "markdown",
   "metadata": {},
   "source": [
    "## Ответы на вопросы исследования"
   ]
  },
  {
   "cell_type": "markdown",
   "metadata": {},
   "source": [
    "- Есть ли зависимость между наличием детей и возвратом кредита в срок?"
   ]
  },
  {
   "cell_type": "markdown",
   "metadata": {},
   "source": [
    "Исходя из полученных результатов оценки процента возврата кредита в зависимости от наличия детей у клиента можно сказать, что некоторая зависимость между наличием детей и возвратом кредита в срок существует. Так, клиенты без детей имеют более высокий процент возврата без задолженности (92,5%) по сравнению с клиентами с детьми."
   ]
  },
  {
   "cell_type": "markdown",
   "metadata": {},
   "source": [
    "- Есть ли зависимость между семейным положением и возвратом кредита в срок?"
   ]
  },
  {
   "cell_type": "markdown",
   "metadata": {},
   "source": [
    "Зависимость между семейным положением и возвратом кредита в срок существует. Согласно результатам исследования, клиенты в статусах \"вдовец/вдова\" имеют более высокий процент возврата без задолженности (93,4%) по сравнению с другими категориями семейного положения. Самый низкий процент возврата кредита без задолженности наблюдается у клиентов в статусе \"не женат/не замужем\" (90,3%)."
   ]
  },
  {
   "cell_type": "markdown",
   "metadata": {},
   "source": [
    "- Есть ли зависимость между уровнем дохода и возвратом кредита в срок?"
   ]
  },
  {
   "cell_type": "markdown",
   "metadata": {},
   "source": [
    "Удивительно, но зависимость между уровнем дохода и возвратом кредита в срок нельзя назвать значительной. Но тем не менее, ее можно наблюдать. Так, клиенты с доходом 200-300 тыс. руб.  имеют чуть более высокий процент возврата без задолженности (93%) по сравнению с клиентами с иным доходом (как выше, так и ниже). Также замечено, что клиенты с доходом 150-200 тыс. руб. имеют самый низкий процент возврата из рассматриваемых категорий (91%)."
   ]
  },
  {
   "cell_type": "markdown",
   "metadata": {},
   "source": [
    "- Как разные цели кредита влияют на его возврат в срок?"
   ]
  },
  {
   "cell_type": "markdown",
   "metadata": {},
   "source": [
    "Оценив результаты исследования можно утверждать, что зависимость между целью кредита и его возвратом в срок также существует. Так, клиенты с целями  \"покупка недвижимости\" и \"строительство и ремонт\" имеют более высокий процент возврата без задолженности (около 93%) по сравнению с клиентами с другими целями. Клиенты, которые брали кредит на покупку автомобиля имеют самый низкий процент воврата без задолженности (90,6%).\n"
   ]
  },
  {
   "cell_type": "markdown",
   "metadata": {},
   "source": [
    "## Итоги исследования"
   ]
  },
  {
   "cell_type": "markdown",
   "metadata": {},
   "source": [
    "В рамках исследования мы провели предобработку предоставленных данных. В таблице были обнаружены пропуски, отрицательные и некорректные значения, дубликаты. Методами Pandas такие данные были скорректированы и стали пригодны для дальнейшей обработки.\n",
    "Кроме того, была использована лемматизация данных, что помогло оценить дубликаты и правильно категоризировать данные. Применение категоризации данных позволило выделить значимые группы данных и корректно их оценить. Таким образом, данные в таблице были должным образом подготовлены к проверкам зависимостей.\n",
    "\n",
    "Исследование обработанных данных установило, что возврат кредита без задолженности в банке достаточно высокий независимо от характеристик клиента (91,9%). В рамках задачи исследования мы проверили зависимость между конкретными категориями клиентов и возвратом кредита без задолженностей. \n",
    "В итоге мы выяснили, что зависимость незначительная, но тем не менее существует:\n",
    "\n",
    "* клиенты без детей имеют более высокий процент возврата без задолженности (92,5%) по сравнению с клиентами с детьми. Они же чаще пользуются услугой кредитования в банке.\n",
    "\n",
    "* клиенты в статусах \"вдовец/вдова\" и \"в разводе\" имеют более высокий процент возврата без задолженности (около 93%) по сравнению с другими категориями семейного положения. Отмечено, что клиенты в статусе \"женат/замужем\" имеют наибольшее количество кредитов в банке.\n",
    "\n",
    "* клиенты с доходом 200-300 тыс. руб.  имеют более высокий процент возврата без задолженности (93%) по сравнению с клиентами с иным доходом (как выше, так и ниже). Чаще всего кредитуются клиенты с ежемесячным доходом в диапазоне от 100 до 150 тыс.руб.\n",
    "\n",
    "* клиенты с целями  \"покупка недвижимости\" и \"строительство и ремонт\" имеют более высокий процент возврата без задолженности (около 93%) по сравнению с клиентами с другими целями. Но \"покупка недвижимости\" является самой распространенной целью из всех категорий.\n",
    "\n",
    "Дальнейшим шагом в исследовании может быть оценка возврата кредита в срок в зависимости от совокупности характеристик клиента (к примеру, возраста и типа занятости, ежемесячного дохода и количеством детей). Подобный анализ можно было бы провести на более крупной выборке клиентов и, возможно, в этом случае мы обнаружили бы другие интересные зависимости при оценке процента возврата каждой из категорий клиентов."
   ]
  }
 ],
 "metadata": {
  "ExecuteTimeLog": [
   {
    "duration": 1295,
    "start_time": "2021-06-08T15:04:45.645Z"
   },
   {
    "duration": 106,
    "start_time": "2021-06-08T15:05:34.389Z"
   },
   {
    "duration": 385,
    "start_time": "2021-06-08T18:42:48.719Z"
   },
   {
    "duration": 897,
    "start_time": "2021-06-08T18:42:55.886Z"
   },
   {
    "duration": 12,
    "start_time": "2021-06-08T18:42:56.786Z"
   },
   {
    "duration": 323,
    "start_time": "2021-06-08T21:27:46.862Z"
   },
   {
    "duration": 783,
    "start_time": "2021-06-08T21:27:54.181Z"
   },
   {
    "duration": 12,
    "start_time": "2021-06-08T21:27:54.967Z"
   },
   {
    "duration": 272,
    "start_time": "2021-06-08T21:27:54.982Z"
   },
   {
    "duration": 292,
    "start_time": "2021-06-08T21:30:46.359Z"
   },
   {
    "duration": 3035,
    "start_time": "2021-06-08T21:30:55.050Z"
   },
   {
    "duration": 3397,
    "start_time": "2021-06-08T21:32:08.897Z"
   },
   {
    "duration": 3013,
    "start_time": "2021-06-08T21:32:40.891Z"
   },
   {
    "duration": 3086,
    "start_time": "2021-06-08T21:33:04.195Z"
   },
   {
    "duration": 3043,
    "start_time": "2021-06-08T21:33:40.473Z"
   },
   {
    "duration": 3720,
    "start_time": "2021-06-08T21:34:21.192Z"
   },
   {
    "duration": 3040,
    "start_time": "2021-06-08T21:37:19.761Z"
   },
   {
    "duration": 3198,
    "start_time": "2021-06-08T21:37:31.014Z"
   },
   {
    "duration": 93,
    "start_time": "2021-06-08T21:38:04.999Z"
   },
   {
    "duration": 12,
    "start_time": "2021-06-08T21:38:05.095Z"
   },
   {
    "duration": 58,
    "start_time": "2021-06-08T21:38:05.110Z"
   },
   {
    "duration": 18,
    "start_time": "2021-06-08T21:38:24.250Z"
   },
   {
    "duration": 16,
    "start_time": "2021-06-08T21:38:32.857Z"
   },
   {
    "duration": 260,
    "start_time": "2021-06-08T21:38:52.345Z"
   },
   {
    "duration": 980,
    "start_time": "2021-06-08T21:41:11.981Z"
   },
   {
    "duration": 963,
    "start_time": "2021-06-08T21:41:46.574Z"
   },
   {
    "duration": 96,
    "start_time": "2021-06-08T21:43:14.764Z"
   },
   {
    "duration": 91,
    "start_time": "2021-06-08T21:44:12.988Z"
   },
   {
    "duration": 11,
    "start_time": "2021-06-08T21:49:32.810Z"
   },
   {
    "duration": 11,
    "start_time": "2021-06-08T21:49:53.434Z"
   },
   {
    "duration": 6,
    "start_time": "2021-06-08T21:50:02.329Z"
   },
   {
    "duration": 7,
    "start_time": "2021-06-08T21:50:09.892Z"
   },
   {
    "duration": 6,
    "start_time": "2021-06-08T21:50:55.868Z"
   },
   {
    "duration": 6,
    "start_time": "2021-06-08T21:51:03.661Z"
   },
   {
    "duration": 6,
    "start_time": "2021-06-08T21:51:14.476Z"
   },
   {
    "duration": 7,
    "start_time": "2021-06-08T21:51:36.947Z"
   },
   {
    "duration": 7,
    "start_time": "2021-06-08T21:53:49.021Z"
   },
   {
    "duration": 7,
    "start_time": "2021-06-08T21:54:02.846Z"
   },
   {
    "duration": 34,
    "start_time": "2021-06-08T21:54:47.429Z"
   },
   {
    "duration": 18,
    "start_time": "2021-06-08T21:55:25.569Z"
   },
   {
    "duration": 33,
    "start_time": "2021-06-08T21:55:33.808Z"
   },
   {
    "duration": 11,
    "start_time": "2021-06-08T21:56:02.929Z"
   },
   {
    "duration": 12,
    "start_time": "2021-06-08T22:01:40.068Z"
   },
   {
    "duration": 33,
    "start_time": "2021-06-08T22:02:44.303Z"
   },
   {
    "duration": 34,
    "start_time": "2021-06-08T22:03:49.809Z"
   },
   {
    "duration": 36,
    "start_time": "2021-06-08T22:04:04.318Z"
   },
   {
    "duration": 38,
    "start_time": "2021-06-08T22:04:14.848Z"
   },
   {
    "duration": 42,
    "start_time": "2021-06-08T22:04:27.527Z"
   },
   {
    "duration": 15,
    "start_time": "2021-06-08T22:04:37.214Z"
   },
   {
    "duration": 40,
    "start_time": "2021-06-08T22:04:45.345Z"
   },
   {
    "duration": 35,
    "start_time": "2021-06-08T22:05:00.332Z"
   },
   {
    "duration": 35,
    "start_time": "2021-06-08T22:05:33.458Z"
   },
   {
    "duration": 17,
    "start_time": "2021-06-08T22:16:07.848Z"
   },
   {
    "duration": 84,
    "start_time": "2021-06-08T23:05:20.655Z"
   },
   {
    "duration": 16,
    "start_time": "2021-06-08T23:05:20.741Z"
   },
   {
    "duration": 12,
    "start_time": "2021-06-08T23:05:20.760Z"
   },
   {
    "duration": 256,
    "start_time": "2021-06-08T23:05:20.778Z"
   },
   {
    "duration": 36,
    "start_time": "2021-06-08T23:06:28.777Z"
   },
   {
    "duration": 44,
    "start_time": "2021-06-08T23:07:01.066Z"
   },
   {
    "duration": 13,
    "start_time": "2021-06-08T23:08:00.281Z"
   },
   {
    "duration": 45,
    "start_time": "2021-06-08T23:08:09.651Z"
   },
   {
    "duration": 11,
    "start_time": "2021-06-08T23:08:48.793Z"
   },
   {
    "duration": 7,
    "start_time": "2021-06-08T23:21:18.845Z"
   },
   {
    "duration": 8,
    "start_time": "2021-06-08T23:21:27.349Z"
   },
   {
    "duration": 8,
    "start_time": "2021-06-08T23:21:37.760Z"
   },
   {
    "duration": 6,
    "start_time": "2021-06-08T23:22:24.563Z"
   },
   {
    "duration": 7,
    "start_time": "2021-06-08T23:23:04.934Z"
   },
   {
    "duration": 5,
    "start_time": "2021-06-08T23:26:04.410Z"
   },
   {
    "duration": 6,
    "start_time": "2021-06-08T23:26:16.863Z"
   },
   {
    "duration": 5,
    "start_time": "2021-06-08T23:26:28.327Z"
   },
   {
    "duration": 6,
    "start_time": "2021-06-08T23:26:34.018Z"
   },
   {
    "duration": 32,
    "start_time": "2021-06-08T23:29:43.914Z"
   },
   {
    "duration": 24,
    "start_time": "2021-06-08T23:30:59.063Z"
   },
   {
    "duration": 5,
    "start_time": "2021-06-08T23:37:09.557Z"
   },
   {
    "duration": 79,
    "start_time": "2021-06-08T23:55:18.121Z"
   },
   {
    "duration": 253,
    "start_time": "2021-06-08T23:55:43.091Z"
   },
   {
    "duration": 30,
    "start_time": "2021-06-08T23:58:45.761Z"
   },
   {
    "duration": 13,
    "start_time": "2021-06-09T00:00:01.818Z"
   },
   {
    "duration": 12,
    "start_time": "2021-06-09T00:01:10.449Z"
   },
   {
    "duration": 5,
    "start_time": "2021-06-09T00:26:55.668Z"
   },
   {
    "duration": 16,
    "start_time": "2021-06-09T00:28:08.598Z"
   },
   {
    "duration": 29,
    "start_time": "2021-06-09T00:28:37.535Z"
   },
   {
    "duration": 975,
    "start_time": "2021-06-09T09:45:01.833Z"
   },
   {
    "duration": 20,
    "start_time": "2021-06-09T09:45:02.810Z"
   },
   {
    "duration": 31,
    "start_time": "2021-06-09T09:45:02.833Z"
   },
   {
    "duration": 26,
    "start_time": "2021-06-09T09:45:02.866Z"
   },
   {
    "duration": 30,
    "start_time": "2021-06-09T09:45:02.894Z"
   },
   {
    "duration": 17,
    "start_time": "2021-06-09T09:45:02.927Z"
   },
   {
    "duration": 21,
    "start_time": "2021-06-09T09:45:02.946Z"
   },
   {
    "duration": 85,
    "start_time": "2021-06-09T09:45:04.493Z"
   },
   {
    "duration": 15,
    "start_time": "2021-06-09T09:45:04.581Z"
   },
   {
    "duration": 15,
    "start_time": "2021-06-09T09:45:04.624Z"
   },
   {
    "duration": 7,
    "start_time": "2021-06-09T09:45:04.643Z"
   },
   {
    "duration": 14,
    "start_time": "2021-06-09T09:45:04.653Z"
   },
   {
    "duration": 17,
    "start_time": "2021-06-09T09:45:04.669Z"
   },
   {
    "duration": 42,
    "start_time": "2021-06-09T09:45:04.688Z"
   },
   {
    "duration": 127,
    "start_time": "2021-06-09T09:45:04.733Z"
   },
   {
    "duration": 137,
    "start_time": "2021-06-09T09:46:53.735Z"
   },
   {
    "duration": 90,
    "start_time": "2021-06-09T09:47:18.926Z"
   },
   {
    "duration": 13,
    "start_time": "2021-06-09T09:47:19.025Z"
   },
   {
    "duration": 12,
    "start_time": "2021-06-09T09:47:19.041Z"
   },
   {
    "duration": 7,
    "start_time": "2021-06-09T09:47:19.056Z"
   },
   {
    "duration": 6,
    "start_time": "2021-06-09T09:47:19.065Z"
   },
   {
    "duration": 57,
    "start_time": "2021-06-09T09:47:19.074Z"
   },
   {
    "duration": 13,
    "start_time": "2021-06-09T09:47:19.134Z"
   },
   {
    "duration": 131,
    "start_time": "2021-06-09T09:47:19.150Z"
   },
   {
    "duration": 86,
    "start_time": "2021-06-09T09:48:01.361Z"
   },
   {
    "duration": 12,
    "start_time": "2021-06-09T09:48:01.450Z"
   },
   {
    "duration": 21,
    "start_time": "2021-06-09T09:48:01.465Z"
   },
   {
    "duration": 9,
    "start_time": "2021-06-09T09:48:01.489Z"
   },
   {
    "duration": 7,
    "start_time": "2021-06-09T09:48:01.528Z"
   },
   {
    "duration": 17,
    "start_time": "2021-06-09T09:48:01.538Z"
   },
   {
    "duration": 17,
    "start_time": "2021-06-09T09:48:01.558Z"
   },
   {
    "duration": 24,
    "start_time": "2021-06-09T09:48:01.578Z"
   },
   {
    "duration": 10,
    "start_time": "2021-06-09T10:37:32.561Z"
   },
   {
    "duration": 10,
    "start_time": "2021-06-09T10:38:33.997Z"
   },
   {
    "duration": 11,
    "start_time": "2021-06-09T10:40:09.064Z"
   },
   {
    "duration": 23,
    "start_time": "2021-06-09T10:50:00.112Z"
   },
   {
    "duration": 31,
    "start_time": "2021-06-09T10:50:14.576Z"
   },
   {
    "duration": 41,
    "start_time": "2021-06-09T10:51:57.083Z"
   },
   {
    "duration": 24,
    "start_time": "2021-06-09T10:52:28.129Z"
   },
   {
    "duration": 37,
    "start_time": "2021-06-09T10:52:45.310Z"
   },
   {
    "duration": 24,
    "start_time": "2021-06-09T10:53:10.509Z"
   },
   {
    "duration": 8,
    "start_time": "2021-06-09T10:53:21.624Z"
   },
   {
    "duration": 12,
    "start_time": "2021-06-09T11:02:59.737Z"
   },
   {
    "duration": 111,
    "start_time": "2021-06-09T11:05:43.636Z"
   },
   {
    "duration": 14,
    "start_time": "2021-06-09T11:12:27.698Z"
   },
   {
    "duration": 10,
    "start_time": "2021-06-09T11:13:26.598Z"
   },
   {
    "duration": 8,
    "start_time": "2021-06-09T11:16:33.277Z"
   },
   {
    "duration": 8,
    "start_time": "2021-06-09T11:54:27.589Z"
   },
   {
    "duration": 8,
    "start_time": "2021-06-09T11:54:57.793Z"
   },
   {
    "duration": 8,
    "start_time": "2021-06-09T11:55:48.089Z"
   },
   {
    "duration": 10,
    "start_time": "2021-06-09T11:56:17.865Z"
   },
   {
    "duration": 9,
    "start_time": "2021-06-09T11:57:21.719Z"
   },
   {
    "duration": 99,
    "start_time": "2021-06-09T12:03:38.932Z"
   },
   {
    "duration": 87,
    "start_time": "2021-06-09T12:05:19.419Z"
   },
   {
    "duration": 24,
    "start_time": "2021-06-09T12:13:01.483Z"
   },
   {
    "duration": 24,
    "start_time": "2021-06-09T12:14:00.340Z"
   },
   {
    "duration": 32,
    "start_time": "2021-06-09T12:17:13.657Z"
   },
   {
    "duration": 35,
    "start_time": "2021-06-09T12:18:31.470Z"
   },
   {
    "duration": 514,
    "start_time": "2021-06-09T12:18:55.716Z"
   },
   {
    "duration": 39,
    "start_time": "2021-06-09T12:19:10.790Z"
   },
   {
    "duration": 42,
    "start_time": "2021-06-09T12:21:36.368Z"
   },
   {
    "duration": 40,
    "start_time": "2021-06-09T12:21:47.620Z"
   },
   {
    "duration": 9,
    "start_time": "2021-06-09T12:31:19.552Z"
   },
   {
    "duration": 135,
    "start_time": "2021-06-09T12:31:57.712Z"
   },
   {
    "duration": 21,
    "start_time": "2021-06-09T12:32:42.217Z"
   },
   {
    "duration": 11,
    "start_time": "2021-06-09T12:32:52.441Z"
   },
   {
    "duration": 49,
    "start_time": "2021-06-09T12:33:05.214Z"
   },
   {
    "duration": 10,
    "start_time": "2021-06-09T12:33:22.372Z"
   },
   {
    "duration": 8,
    "start_time": "2021-06-09T12:38:10.434Z"
   },
   {
    "duration": 8,
    "start_time": "2021-06-09T12:38:18.590Z"
   },
   {
    "duration": 10,
    "start_time": "2021-06-09T12:39:15.953Z"
   },
   {
    "duration": 8,
    "start_time": "2021-06-09T12:40:01.181Z"
   },
   {
    "duration": 88,
    "start_time": "2021-06-09T12:56:27.159Z"
   },
   {
    "duration": 12,
    "start_time": "2021-06-09T12:56:27.250Z"
   },
   {
    "duration": 12,
    "start_time": "2021-06-09T12:56:27.265Z"
   },
   {
    "duration": 7,
    "start_time": "2021-06-09T12:56:27.280Z"
   },
   {
    "duration": 39,
    "start_time": "2021-06-09T12:56:27.290Z"
   },
   {
    "duration": 16,
    "start_time": "2021-06-09T12:56:27.333Z"
   },
   {
    "duration": 16,
    "start_time": "2021-06-09T12:56:27.352Z"
   },
   {
    "duration": 55,
    "start_time": "2021-06-09T12:56:27.372Z"
   },
   {
    "duration": 14,
    "start_time": "2021-06-09T12:56:27.431Z"
   },
   {
    "duration": 8,
    "start_time": "2021-06-09T12:56:27.447Z"
   },
   {
    "duration": 11,
    "start_time": "2021-06-09T12:56:27.458Z"
   },
   {
    "duration": 56,
    "start_time": "2021-06-09T12:56:27.472Z"
   },
   {
    "duration": 11,
    "start_time": "2021-06-09T12:56:27.531Z"
   },
   {
    "duration": 25,
    "start_time": "2021-06-09T12:56:27.544Z"
   },
   {
    "duration": 10,
    "start_time": "2021-06-09T12:56:27.572Z"
   },
   {
    "duration": 48,
    "start_time": "2021-06-09T12:56:27.584Z"
   },
   {
    "duration": 846,
    "start_time": "2021-06-09T18:43:27.936Z"
   },
   {
    "duration": 12,
    "start_time": "2021-06-09T18:43:28.785Z"
   },
   {
    "duration": 29,
    "start_time": "2021-06-09T18:43:28.800Z"
   },
   {
    "duration": 6,
    "start_time": "2021-06-09T18:43:28.832Z"
   },
   {
    "duration": 6,
    "start_time": "2021-06-09T18:43:28.840Z"
   },
   {
    "duration": 13,
    "start_time": "2021-06-09T18:43:28.848Z"
   },
   {
    "duration": 12,
    "start_time": "2021-06-09T18:43:28.863Z"
   },
   {
    "duration": 52,
    "start_time": "2021-06-09T18:43:28.877Z"
   },
   {
    "duration": 10,
    "start_time": "2021-06-09T18:43:28.932Z"
   },
   {
    "duration": 11,
    "start_time": "2021-06-09T18:43:28.945Z"
   },
   {
    "duration": 17,
    "start_time": "2021-06-09T18:43:28.958Z"
   },
   {
    "duration": 51,
    "start_time": "2021-06-09T18:43:28.977Z"
   },
   {
    "duration": 9,
    "start_time": "2021-06-09T18:43:29.030Z"
   },
   {
    "duration": 26,
    "start_time": "2021-06-09T18:43:29.041Z"
   },
   {
    "duration": 10,
    "start_time": "2021-06-09T18:43:29.069Z"
   },
   {
    "duration": 48,
    "start_time": "2021-06-09T18:43:29.081Z"
   },
   {
    "duration": 10,
    "start_time": "2021-06-09T19:06:00.616Z"
   },
   {
    "duration": 23,
    "start_time": "2021-06-09T19:06:04.204Z"
   },
   {
    "duration": 9,
    "start_time": "2021-06-09T19:15:35.272Z"
   },
   {
    "duration": 8,
    "start_time": "2021-06-09T19:21:01.745Z"
   },
   {
    "duration": 10,
    "start_time": "2021-06-09T19:21:34.244Z"
   },
   {
    "duration": 8985,
    "start_time": "2021-06-09T19:33:46.701Z"
   },
   {
    "duration": 9,
    "start_time": "2021-06-09T19:34:19.477Z"
   },
   {
    "duration": 9,
    "start_time": "2021-06-09T19:34:48.297Z"
   },
   {
    "duration": 8,
    "start_time": "2021-06-09T19:36:50.906Z"
   },
   {
    "duration": 11,
    "start_time": "2021-06-09T19:38:16.811Z"
   },
   {
    "duration": 9,
    "start_time": "2021-06-09T19:38:19.006Z"
   },
   {
    "duration": 96,
    "start_time": "2021-06-09T19:39:07.172Z"
   },
   {
    "duration": 12,
    "start_time": "2021-06-09T19:39:16.250Z"
   },
   {
    "duration": 8,
    "start_time": "2021-06-09T19:39:20.382Z"
   },
   {
    "duration": 10,
    "start_time": "2021-06-09T19:40:07.743Z"
   },
   {
    "duration": 9,
    "start_time": "2021-06-09T19:40:10.603Z"
   },
   {
    "duration": 92,
    "start_time": "2021-06-09T19:40:37.186Z"
   },
   {
    "duration": 13,
    "start_time": "2021-06-09T19:40:37.280Z"
   },
   {
    "duration": 33,
    "start_time": "2021-06-09T19:40:37.296Z"
   },
   {
    "duration": 7,
    "start_time": "2021-06-09T19:40:37.332Z"
   },
   {
    "duration": 11,
    "start_time": "2021-06-09T19:40:37.341Z"
   },
   {
    "duration": 13,
    "start_time": "2021-06-09T19:40:37.355Z"
   },
   {
    "duration": 15,
    "start_time": "2021-06-09T19:40:37.370Z"
   },
   {
    "duration": 41,
    "start_time": "2021-06-09T19:40:37.389Z"
   },
   {
    "duration": 16,
    "start_time": "2021-06-09T19:40:37.432Z"
   },
   {
    "duration": 15,
    "start_time": "2021-06-09T19:40:37.450Z"
   },
   {
    "duration": 19,
    "start_time": "2021-06-09T19:40:37.467Z"
   },
   {
    "duration": 36,
    "start_time": "2021-06-09T19:40:37.488Z"
   },
   {
    "duration": 10,
    "start_time": "2021-06-09T19:40:37.527Z"
   },
   {
    "duration": 8,
    "start_time": "2021-06-09T19:40:37.540Z"
   },
   {
    "duration": 28,
    "start_time": "2021-06-09T19:40:37.550Z"
   },
   {
    "duration": 43,
    "start_time": "2021-06-09T19:40:37.581Z"
   },
   {
    "duration": 36,
    "start_time": "2021-06-09T19:40:37.628Z"
   },
   {
    "duration": 13,
    "start_time": "2021-06-09T19:40:37.668Z"
   },
   {
    "duration": 63,
    "start_time": "2021-06-09T19:40:37.683Z"
   },
   {
    "duration": 10,
    "start_time": "2021-06-09T19:43:10.021Z"
   },
   {
    "duration": 8,
    "start_time": "2021-06-09T19:43:12.083Z"
   },
   {
    "duration": 94,
    "start_time": "2021-06-09T19:43:28.043Z"
   },
   {
    "duration": 14,
    "start_time": "2021-06-09T19:43:28.141Z"
   },
   {
    "duration": 11,
    "start_time": "2021-06-09T19:43:28.158Z"
   },
   {
    "duration": 6,
    "start_time": "2021-06-09T19:43:28.172Z"
   },
   {
    "duration": 43,
    "start_time": "2021-06-09T19:43:28.181Z"
   },
   {
    "duration": 14,
    "start_time": "2021-06-09T19:43:28.226Z"
   },
   {
    "duration": 13,
    "start_time": "2021-06-09T19:43:28.243Z"
   },
   {
    "duration": 8,
    "start_time": "2021-06-09T19:43:28.259Z"
   },
   {
    "duration": 55,
    "start_time": "2021-06-09T19:43:28.271Z"
   },
   {
    "duration": 10,
    "start_time": "2021-06-09T19:43:28.329Z"
   },
   {
    "duration": 24,
    "start_time": "2021-06-09T19:43:28.342Z"
   },
   {
    "duration": 8,
    "start_time": "2021-06-09T19:43:28.368Z"
   },
   {
    "duration": 11,
    "start_time": "2021-06-09T19:43:28.378Z"
   },
   {
    "duration": 37,
    "start_time": "2021-06-09T19:43:28.391Z"
   },
   {
    "duration": 18,
    "start_time": "2021-06-09T19:43:28.430Z"
   },
   {
    "duration": 9,
    "start_time": "2021-06-09T19:43:28.450Z"
   },
   {
    "duration": 70,
    "start_time": "2021-06-09T19:43:28.462Z"
   },
   {
    "duration": 10,
    "start_time": "2021-06-09T19:43:28.534Z"
   },
   {
    "duration": 25,
    "start_time": "2021-06-09T19:43:28.546Z"
   },
   {
    "duration": 14,
    "start_time": "2021-06-09T19:44:14.361Z"
   },
   {
    "duration": 8,
    "start_time": "2021-06-09T19:44:16.980Z"
   },
   {
    "duration": 92,
    "start_time": "2021-06-09T19:44:20.447Z"
   },
   {
    "duration": 12,
    "start_time": "2021-06-09T19:44:20.542Z"
   },
   {
    "duration": 12,
    "start_time": "2021-06-09T19:44:20.557Z"
   },
   {
    "duration": 20,
    "start_time": "2021-06-09T19:44:20.573Z"
   },
   {
    "duration": 32,
    "start_time": "2021-06-09T19:44:20.596Z"
   },
   {
    "duration": 20,
    "start_time": "2021-06-09T19:44:20.631Z"
   },
   {
    "duration": 23,
    "start_time": "2021-06-09T19:44:20.654Z"
   },
   {
    "duration": 11,
    "start_time": "2021-06-09T19:44:20.680Z"
   },
   {
    "duration": 16,
    "start_time": "2021-06-09T19:44:20.728Z"
   },
   {
    "duration": 14,
    "start_time": "2021-06-09T19:44:20.748Z"
   },
   {
    "duration": 13,
    "start_time": "2021-06-09T19:44:20.765Z"
   },
   {
    "duration": 52,
    "start_time": "2021-06-09T19:44:20.781Z"
   },
   {
    "duration": 15,
    "start_time": "2021-06-09T19:44:20.836Z"
   },
   {
    "duration": 15,
    "start_time": "2021-06-09T19:44:20.854Z"
   },
   {
    "duration": 54,
    "start_time": "2021-06-09T19:44:20.872Z"
   },
   {
    "duration": 14,
    "start_time": "2021-06-09T19:44:20.930Z"
   },
   {
    "duration": 38,
    "start_time": "2021-06-09T19:44:20.947Z"
   },
   {
    "duration": 44,
    "start_time": "2021-06-09T19:44:20.988Z"
   },
   {
    "duration": 52,
    "start_time": "2021-06-09T19:44:21.035Z"
   },
   {
    "duration": 15,
    "start_time": "2021-06-09T19:44:53.610Z"
   },
   {
    "duration": 8,
    "start_time": "2021-06-09T19:45:02.160Z"
   },
   {
    "duration": 11,
    "start_time": "2021-06-09T19:45:09.209Z"
   },
   {
    "duration": 10,
    "start_time": "2021-06-09T19:45:11.329Z"
   },
   {
    "duration": 10,
    "start_time": "2021-06-09T19:45:20.759Z"
   },
   {
    "duration": 9,
    "start_time": "2021-06-09T19:45:22.912Z"
   },
   {
    "duration": 97,
    "start_time": "2021-06-09T19:45:28.405Z"
   },
   {
    "duration": 30,
    "start_time": "2021-06-09T19:45:28.505Z"
   },
   {
    "duration": 13,
    "start_time": "2021-06-09T19:45:28.538Z"
   },
   {
    "duration": 5,
    "start_time": "2021-06-09T19:45:28.554Z"
   },
   {
    "duration": 6,
    "start_time": "2021-06-09T19:45:28.562Z"
   },
   {
    "duration": 61,
    "start_time": "2021-06-09T19:45:28.570Z"
   },
   {
    "duration": 12,
    "start_time": "2021-06-09T19:45:28.634Z"
   },
   {
    "duration": 10,
    "start_time": "2021-06-09T19:45:28.650Z"
   },
   {
    "duration": 11,
    "start_time": "2021-06-09T19:45:28.663Z"
   },
   {
    "duration": 55,
    "start_time": "2021-06-09T19:45:28.677Z"
   },
   {
    "duration": 8,
    "start_time": "2021-06-09T19:45:28.736Z"
   },
   {
    "duration": 11,
    "start_time": "2021-06-09T19:45:28.747Z"
   },
   {
    "duration": 10,
    "start_time": "2021-06-09T19:45:28.760Z"
   },
   {
    "duration": 52,
    "start_time": "2021-06-09T19:45:28.773Z"
   },
   {
    "duration": 17,
    "start_time": "2021-06-09T19:45:28.827Z"
   },
   {
    "duration": 11,
    "start_time": "2021-06-09T19:45:28.846Z"
   },
   {
    "duration": 65,
    "start_time": "2021-06-09T19:45:28.859Z"
   },
   {
    "duration": 10,
    "start_time": "2021-06-09T19:45:28.926Z"
   },
   {
    "duration": 27,
    "start_time": "2021-06-09T19:45:28.938Z"
   },
   {
    "duration": 91,
    "start_time": "2021-06-09T19:45:58.843Z"
   },
   {
    "duration": 11,
    "start_time": "2021-06-09T19:45:58.937Z"
   },
   {
    "duration": 12,
    "start_time": "2021-06-09T19:45:58.951Z"
   },
   {
    "duration": 6,
    "start_time": "2021-06-09T19:45:58.965Z"
   },
   {
    "duration": 8,
    "start_time": "2021-06-09T19:45:58.973Z"
   },
   {
    "duration": 51,
    "start_time": "2021-06-09T19:45:58.984Z"
   },
   {
    "duration": 13,
    "start_time": "2021-06-09T19:45:59.037Z"
   },
   {
    "duration": 14,
    "start_time": "2021-06-09T19:45:59.053Z"
   },
   {
    "duration": 10,
    "start_time": "2021-06-09T19:45:59.069Z"
   },
   {
    "duration": 43,
    "start_time": "2021-06-09T19:45:59.082Z"
   },
   {
    "duration": 7,
    "start_time": "2021-06-09T19:45:59.128Z"
   },
   {
    "duration": 9,
    "start_time": "2021-06-09T19:45:59.138Z"
   },
   {
    "duration": 11,
    "start_time": "2021-06-09T19:45:59.149Z"
   },
   {
    "duration": 11,
    "start_time": "2021-06-09T19:45:59.162Z"
   },
   {
    "duration": 17,
    "start_time": "2021-06-09T19:45:59.224Z"
   },
   {
    "duration": 10,
    "start_time": "2021-06-09T19:45:59.244Z"
   },
   {
    "duration": 22,
    "start_time": "2021-06-09T19:45:59.257Z"
   },
   {
    "duration": 9,
    "start_time": "2021-06-09T19:45:59.282Z"
   },
   {
    "duration": 26,
    "start_time": "2021-06-09T19:45:59.325Z"
   },
   {
    "duration": 90,
    "start_time": "2021-06-09T19:47:06.502Z"
   },
   {
    "duration": 12,
    "start_time": "2021-06-09T19:47:06.595Z"
   },
   {
    "duration": 24,
    "start_time": "2021-06-09T19:47:06.610Z"
   },
   {
    "duration": 6,
    "start_time": "2021-06-09T19:47:06.636Z"
   },
   {
    "duration": 6,
    "start_time": "2021-06-09T19:47:06.644Z"
   },
   {
    "duration": 15,
    "start_time": "2021-06-09T19:47:06.652Z"
   },
   {
    "duration": 55,
    "start_time": "2021-06-09T19:47:06.670Z"
   },
   {
    "duration": 7,
    "start_time": "2021-06-09T19:47:06.728Z"
   },
   {
    "duration": 10,
    "start_time": "2021-06-09T19:47:06.739Z"
   },
   {
    "duration": 15,
    "start_time": "2021-06-09T19:47:06.752Z"
   },
   {
    "duration": 9,
    "start_time": "2021-06-09T19:47:06.769Z"
   },
   {
    "duration": 45,
    "start_time": "2021-06-09T19:47:06.781Z"
   },
   {
    "duration": 96,
    "start_time": "2021-06-09T19:47:06.828Z"
   },
   {
    "duration": -81,
    "start_time": "2021-06-09T19:47:07.008Z"
   },
   {
    "duration": -90,
    "start_time": "2021-06-09T19:47:07.018Z"
   },
   {
    "duration": -90,
    "start_time": "2021-06-09T19:47:07.020Z"
   },
   {
    "duration": -91,
    "start_time": "2021-06-09T19:47:07.022Z"
   },
   {
    "duration": -92,
    "start_time": "2021-06-09T19:47:07.024Z"
   },
   {
    "duration": -92,
    "start_time": "2021-06-09T19:47:07.026Z"
   },
   {
    "duration": 93,
    "start_time": "2021-06-09T19:47:20.842Z"
   },
   {
    "duration": 13,
    "start_time": "2021-06-09T19:47:20.938Z"
   },
   {
    "duration": 15,
    "start_time": "2021-06-09T19:47:20.953Z"
   },
   {
    "duration": 6,
    "start_time": "2021-06-09T19:47:20.971Z"
   },
   {
    "duration": 45,
    "start_time": "2021-06-09T19:47:20.979Z"
   },
   {
    "duration": 14,
    "start_time": "2021-06-09T19:47:21.026Z"
   },
   {
    "duration": 11,
    "start_time": "2021-06-09T19:47:21.043Z"
   },
   {
    "duration": 12,
    "start_time": "2021-06-09T19:47:21.058Z"
   },
   {
    "duration": 11,
    "start_time": "2021-06-09T19:47:21.072Z"
   },
   {
    "duration": 43,
    "start_time": "2021-06-09T19:47:21.085Z"
   },
   {
    "duration": 10,
    "start_time": "2021-06-09T19:47:21.131Z"
   },
   {
    "duration": 8,
    "start_time": "2021-06-09T19:47:21.143Z"
   },
   {
    "duration": 13,
    "start_time": "2021-06-09T19:47:21.153Z"
   },
   {
    "duration": 9,
    "start_time": "2021-06-09T19:47:21.168Z"
   },
   {
    "duration": 58,
    "start_time": "2021-06-09T19:47:21.179Z"
   },
   {
    "duration": 11,
    "start_time": "2021-06-09T19:47:21.240Z"
   },
   {
    "duration": 28,
    "start_time": "2021-06-09T19:47:21.254Z"
   },
   {
    "duration": 42,
    "start_time": "2021-06-09T19:47:21.285Z"
   },
   {
    "duration": 27,
    "start_time": "2021-06-09T19:47:21.330Z"
   },
   {
    "duration": 11,
    "start_time": "2021-06-09T19:51:09.017Z"
   },
   {
    "duration": 91,
    "start_time": "2021-06-09T19:51:16.235Z"
   },
   {
    "duration": 11,
    "start_time": "2021-06-09T19:51:16.329Z"
   },
   {
    "duration": 14,
    "start_time": "2021-06-09T19:51:16.344Z"
   },
   {
    "duration": 6,
    "start_time": "2021-06-09T19:51:16.360Z"
   },
   {
    "duration": 8,
    "start_time": "2021-06-09T19:51:16.368Z"
   },
   {
    "duration": 57,
    "start_time": "2021-06-09T19:51:16.379Z"
   },
   {
    "duration": 15,
    "start_time": "2021-06-09T19:51:16.439Z"
   },
   {
    "duration": 10,
    "start_time": "2021-06-09T19:51:16.457Z"
   },
   {
    "duration": 54,
    "start_time": "2021-06-09T19:51:16.470Z"
   },
   {
    "duration": 9,
    "start_time": "2021-06-09T19:51:16.527Z"
   },
   {
    "duration": 9,
    "start_time": "2021-06-09T19:51:16.538Z"
   },
   {
    "duration": 8,
    "start_time": "2021-06-09T19:51:16.550Z"
   },
   {
    "duration": 14,
    "start_time": "2021-06-09T19:51:16.560Z"
   },
   {
    "duration": 49,
    "start_time": "2021-06-09T19:51:16.577Z"
   },
   {
    "duration": 22,
    "start_time": "2021-06-09T19:51:16.628Z"
   },
   {
    "duration": 10,
    "start_time": "2021-06-09T19:51:16.652Z"
   },
   {
    "duration": 21,
    "start_time": "2021-06-09T19:51:16.665Z"
   },
   {
    "duration": 41,
    "start_time": "2021-06-09T19:51:16.688Z"
   },
   {
    "duration": 27,
    "start_time": "2021-06-09T19:51:16.731Z"
   },
   {
    "duration": 374,
    "start_time": "2021-06-09T20:58:07.619Z"
   },
   {
    "duration": 21,
    "start_time": "2021-06-09T20:58:13.972Z"
   },
   {
    "duration": 10,
    "start_time": "2021-06-09T21:17:37.561Z"
   },
   {
    "duration": 4407,
    "start_time": "2021-06-09T21:54:46.998Z"
   },
   {
    "duration": 4324,
    "start_time": "2021-06-09T21:55:36.683Z"
   },
   {
    "duration": 4389,
    "start_time": "2021-06-09T21:57:35.391Z"
   },
   {
    "duration": 4416,
    "start_time": "2021-06-09T21:58:30.151Z"
   },
   {
    "duration": 1728,
    "start_time": "2021-06-09T21:59:41.184Z"
   },
   {
    "duration": 4705,
    "start_time": "2021-06-09T21:59:49.027Z"
   },
   {
    "duration": 90,
    "start_time": "2021-06-09T22:03:17.077Z"
   },
   {
    "duration": 4486,
    "start_time": "2021-06-09T22:03:36.227Z"
   },
   {
    "duration": 37,
    "start_time": "2021-06-09T22:04:00.233Z"
   },
   {
    "duration": 4608,
    "start_time": "2021-06-09T22:04:10.463Z"
   },
   {
    "duration": 4390,
    "start_time": "2021-06-09T22:04:36.084Z"
   },
   {
    "duration": 283,
    "start_time": "2021-06-09T22:12:36.961Z"
   },
   {
    "duration": 36,
    "start_time": "2021-06-09T22:12:44.114Z"
   },
   {
    "duration": 923,
    "start_time": "2021-06-10T08:51:51.486Z"
   },
   {
    "duration": 24,
    "start_time": "2021-06-10T08:51:52.412Z"
   },
   {
    "duration": 11,
    "start_time": "2021-06-10T08:51:52.440Z"
   },
   {
    "duration": 6,
    "start_time": "2021-06-10T08:51:52.453Z"
   },
   {
    "duration": 7,
    "start_time": "2021-06-10T08:51:52.461Z"
   },
   {
    "duration": 55,
    "start_time": "2021-06-10T08:51:52.470Z"
   },
   {
    "duration": 12,
    "start_time": "2021-06-10T08:51:52.528Z"
   },
   {
    "duration": 8,
    "start_time": "2021-06-10T08:51:52.545Z"
   },
   {
    "duration": 19,
    "start_time": "2021-06-10T08:51:52.556Z"
   },
   {
    "duration": 52,
    "start_time": "2021-06-10T08:51:52.578Z"
   },
   {
    "duration": 12,
    "start_time": "2021-06-10T08:51:52.632Z"
   },
   {
    "duration": 9,
    "start_time": "2021-06-10T08:51:52.647Z"
   },
   {
    "duration": 12,
    "start_time": "2021-06-10T08:51:52.659Z"
   },
   {
    "duration": 54,
    "start_time": "2021-06-10T08:51:52.673Z"
   },
   {
    "duration": 21,
    "start_time": "2021-06-10T08:51:52.729Z"
   },
   {
    "duration": 10,
    "start_time": "2021-06-10T08:51:52.752Z"
   },
   {
    "duration": 29,
    "start_time": "2021-06-10T08:51:52.765Z"
   },
   {
    "duration": 34,
    "start_time": "2021-06-10T08:51:52.796Z"
   },
   {
    "duration": 32,
    "start_time": "2021-06-10T08:51:52.833Z"
   },
   {
    "duration": 11,
    "start_time": "2021-06-10T08:51:52.868Z"
   },
   {
    "duration": 133,
    "start_time": "2021-06-10T08:51:52.882Z"
   },
   {
    "duration": -6095,
    "start_time": "2021-06-10T08:51:59.112Z"
   },
   {
    "duration": -6106,
    "start_time": "2021-06-10T08:51:59.125Z"
   },
   {
    "duration": 8923,
    "start_time": "2021-06-10T09:02:46.733Z"
   },
   {
    "duration": 4650,
    "start_time": "2021-06-10T09:08:14.726Z"
   },
   {
    "duration": 4913,
    "start_time": "2021-06-10T09:08:34.778Z"
   },
   {
    "duration": 123,
    "start_time": "2021-06-10T09:12:19.738Z"
   },
   {
    "duration": 57,
    "start_time": "2021-06-10T09:12:44.406Z"
   },
   {
    "duration": 31,
    "start_time": "2021-06-10T09:13:54.428Z"
   },
   {
    "duration": 29,
    "start_time": "2021-06-10T09:15:05.475Z"
   },
   {
    "duration": 30,
    "start_time": "2021-06-10T09:18:32.377Z"
   },
   {
    "duration": 5107,
    "start_time": "2021-06-10T11:02:12.827Z"
   },
   {
    "duration": 5075,
    "start_time": "2021-06-10T11:02:39.164Z"
   },
   {
    "duration": 10214,
    "start_time": "2021-06-10T11:05:04.440Z"
   },
   {
    "duration": 13704,
    "start_time": "2021-06-10T11:09:22.105Z"
   },
   {
    "duration": 36980,
    "start_time": "2021-06-10T11:11:02.671Z"
   },
   {
    "duration": 119,
    "start_time": "2021-06-10T11:12:06.694Z"
   },
   {
    "duration": 13906,
    "start_time": "2021-06-10T11:12:16.038Z"
   },
   {
    "duration": 13893,
    "start_time": "2021-06-10T11:12:36.390Z"
   },
   {
    "duration": 30,
    "start_time": "2021-06-10T11:13:41.697Z"
   },
   {
    "duration": 30,
    "start_time": "2021-06-10T11:13:51.289Z"
   },
   {
    "duration": 4927,
    "start_time": "2021-06-10T17:30:11.373Z"
   },
   {
    "duration": 5028,
    "start_time": "2021-06-10T17:33:27.107Z"
   },
   {
    "duration": 133,
    "start_time": "2021-06-10T17:34:19.867Z"
   },
   {
    "duration": 34,
    "start_time": "2021-06-10T17:34:20.003Z"
   },
   {
    "duration": 17,
    "start_time": "2021-06-10T17:34:20.040Z"
   },
   {
    "duration": 9,
    "start_time": "2021-06-10T17:34:20.061Z"
   },
   {
    "duration": 17,
    "start_time": "2021-06-10T17:34:20.072Z"
   },
   {
    "duration": 14,
    "start_time": "2021-06-10T17:34:20.125Z"
   },
   {
    "duration": 21,
    "start_time": "2021-06-10T17:34:20.142Z"
   },
   {
    "duration": 17,
    "start_time": "2021-06-10T17:34:20.166Z"
   },
   {
    "duration": 17,
    "start_time": "2021-06-10T17:34:20.187Z"
   },
   {
    "duration": 27,
    "start_time": "2021-06-10T17:34:20.206Z"
   },
   {
    "duration": 28,
    "start_time": "2021-06-10T17:34:20.235Z"
   },
   {
    "duration": 11,
    "start_time": "2021-06-10T17:34:20.265Z"
   },
   {
    "duration": 20,
    "start_time": "2021-06-10T17:34:20.278Z"
   },
   {
    "duration": 42,
    "start_time": "2021-06-10T17:34:20.301Z"
   },
   {
    "duration": 15,
    "start_time": "2021-06-10T17:34:20.345Z"
   },
   {
    "duration": 19,
    "start_time": "2021-06-10T17:34:20.363Z"
   },
   {
    "duration": 52,
    "start_time": "2021-06-10T17:34:20.384Z"
   },
   {
    "duration": 18,
    "start_time": "2021-06-10T17:34:20.439Z"
   },
   {
    "duration": 43,
    "start_time": "2021-06-10T17:34:20.460Z"
   },
   {
    "duration": 30,
    "start_time": "2021-06-10T17:34:20.506Z"
   },
   {
    "duration": 5551,
    "start_time": "2021-06-10T17:34:20.539Z"
   },
   {
    "duration": 81,
    "start_time": "2021-06-10T17:34:26.093Z"
   },
   {
    "duration": 60,
    "start_time": "2021-06-10T17:34:26.177Z"
   },
   {
    "duration": 4750,
    "start_time": "2021-06-10T17:35:56.588Z"
   },
   {
    "duration": 30,
    "start_time": "2021-06-10T17:36:04.317Z"
   },
   {
    "duration": 105,
    "start_time": "2021-06-10T19:13:10.191Z"
   },
   {
    "duration": 25,
    "start_time": "2021-06-10T19:20:39.693Z"
   },
   {
    "duration": 32,
    "start_time": "2021-06-10T19:20:41.900Z"
   },
   {
    "duration": 10,
    "start_time": "2021-06-10T19:24:08.087Z"
   },
   {
    "duration": 10,
    "start_time": "2021-06-10T19:24:28.763Z"
   },
   {
    "duration": 11,
    "start_time": "2021-06-10T19:24:35.722Z"
   },
   {
    "duration": 113,
    "start_time": "2021-06-10T19:25:55.330Z"
   },
   {
    "duration": 10,
    "start_time": "2021-06-10T19:28:09.698Z"
   },
   {
    "duration": 9337,
    "start_time": "2021-06-10T19:47:42.581Z"
   },
   {
    "duration": 8927,
    "start_time": "2021-06-10T19:48:06.317Z"
   },
   {
    "duration": 2393,
    "start_time": "2021-06-10T19:48:54.317Z"
   },
   {
    "duration": 22,
    "start_time": "2021-06-10T19:50:02.976Z"
   },
   {
    "duration": 8,
    "start_time": "2021-06-10T19:51:57.364Z"
   },
   {
    "duration": 3,
    "start_time": "2021-06-10T19:52:08.370Z"
   },
   {
    "duration": 516,
    "start_time": "2021-06-10T19:52:21.948Z"
   },
   {
    "duration": 704,
    "start_time": "2021-06-10T19:53:26.960Z"
   },
   {
    "duration": 540,
    "start_time": "2021-06-10T19:53:50.020Z"
   },
   {
    "duration": 100,
    "start_time": "2021-06-10T19:55:04.110Z"
   },
   {
    "duration": 27,
    "start_time": "2021-06-10T19:55:04.213Z"
   },
   {
    "duration": 36,
    "start_time": "2021-06-10T19:55:04.244Z"
   },
   {
    "duration": 14,
    "start_time": "2021-06-10T19:55:04.284Z"
   },
   {
    "duration": 14,
    "start_time": "2021-06-10T19:55:04.301Z"
   },
   {
    "duration": 22,
    "start_time": "2021-06-10T19:55:04.318Z"
   },
   {
    "duration": 18,
    "start_time": "2021-06-10T19:55:04.344Z"
   },
   {
    "duration": 10,
    "start_time": "2021-06-10T19:55:04.366Z"
   },
   {
    "duration": 12,
    "start_time": "2021-06-10T19:55:04.380Z"
   },
   {
    "duration": 13,
    "start_time": "2021-06-10T19:55:04.425Z"
   },
   {
    "duration": 24,
    "start_time": "2021-06-10T19:55:04.440Z"
   },
   {
    "duration": 9,
    "start_time": "2021-06-10T19:55:04.467Z"
   },
   {
    "duration": 12,
    "start_time": "2021-06-10T19:55:04.479Z"
   },
   {
    "duration": 11,
    "start_time": "2021-06-10T19:55:04.526Z"
   },
   {
    "duration": 22,
    "start_time": "2021-06-10T19:55:04.540Z"
   },
   {
    "duration": 14,
    "start_time": "2021-06-10T19:55:04.565Z"
   },
   {
    "duration": 78,
    "start_time": "2021-06-10T19:55:04.582Z"
   },
   {
    "duration": 13,
    "start_time": "2021-06-10T19:55:04.663Z"
   },
   {
    "duration": 50,
    "start_time": "2021-06-10T19:55:04.680Z"
   },
   {
    "duration": 39,
    "start_time": "2021-06-10T19:55:04.733Z"
   },
   {
    "duration": 5439,
    "start_time": "2021-06-10T19:55:04.775Z"
   },
   {
    "duration": 41,
    "start_time": "2021-06-10T19:55:10.217Z"
   },
   {
    "duration": 40,
    "start_time": "2021-06-10T19:55:10.260Z"
   },
   {
    "duration": 175,
    "start_time": "2021-06-10T19:55:10.326Z"
   },
   {
    "duration": -299,
    "start_time": "2021-06-10T19:55:10.804Z"
   },
   {
    "duration": -304,
    "start_time": "2021-06-10T19:55:10.812Z"
   },
   {
    "duration": -305,
    "start_time": "2021-06-10T19:55:10.815Z"
   },
   {
    "duration": -305,
    "start_time": "2021-06-10T19:55:10.817Z"
   },
   {
    "duration": -306,
    "start_time": "2021-06-10T19:55:10.820Z"
   },
   {
    "duration": -306,
    "start_time": "2021-06-10T19:55:10.822Z"
   },
   {
    "duration": 105,
    "start_time": "2021-06-10T19:55:27.082Z"
   },
   {
    "duration": 14,
    "start_time": "2021-06-10T19:55:27.190Z"
   },
   {
    "duration": 15,
    "start_time": "2021-06-10T19:55:27.225Z"
   },
   {
    "duration": 7,
    "start_time": "2021-06-10T19:55:27.244Z"
   },
   {
    "duration": 9,
    "start_time": "2021-06-10T19:55:27.254Z"
   },
   {
    "duration": 14,
    "start_time": "2021-06-10T19:55:27.266Z"
   },
   {
    "duration": 55,
    "start_time": "2021-06-10T19:55:27.282Z"
   },
   {
    "duration": 23,
    "start_time": "2021-06-10T19:55:27.340Z"
   },
   {
    "duration": 15,
    "start_time": "2021-06-10T19:55:27.366Z"
   },
   {
    "duration": 10,
    "start_time": "2021-06-10T19:55:27.385Z"
   },
   {
    "duration": 39,
    "start_time": "2021-06-10T19:55:27.398Z"
   },
   {
    "duration": 11,
    "start_time": "2021-06-10T19:55:27.440Z"
   },
   {
    "duration": 22,
    "start_time": "2021-06-10T19:55:27.457Z"
   },
   {
    "duration": 12,
    "start_time": "2021-06-10T19:55:27.482Z"
   },
   {
    "duration": 20,
    "start_time": "2021-06-10T19:55:27.526Z"
   },
   {
    "duration": 9,
    "start_time": "2021-06-10T19:55:27.549Z"
   },
   {
    "duration": 68,
    "start_time": "2021-06-10T19:55:27.561Z"
   },
   {
    "duration": 14,
    "start_time": "2021-06-10T19:55:27.632Z"
   },
   {
    "duration": 46,
    "start_time": "2021-06-10T19:55:27.650Z"
   },
   {
    "duration": 34,
    "start_time": "2021-06-10T19:55:27.698Z"
   },
   {
    "duration": 5254,
    "start_time": "2021-06-10T19:55:27.735Z"
   },
   {
    "duration": 48,
    "start_time": "2021-06-10T19:55:32.992Z"
   },
   {
    "duration": 38,
    "start_time": "2021-06-10T19:55:33.042Z"
   },
   {
    "duration": 152,
    "start_time": "2021-06-10T19:55:33.083Z"
   },
   {
    "duration": -74,
    "start_time": "2021-06-10T19:55:33.313Z"
   },
   {
    "duration": -76,
    "start_time": "2021-06-10T19:55:33.317Z"
   },
   {
    "duration": -77,
    "start_time": "2021-06-10T19:55:33.320Z"
   },
   {
    "duration": -78,
    "start_time": "2021-06-10T19:55:33.323Z"
   },
   {
    "duration": -78,
    "start_time": "2021-06-10T19:55:33.325Z"
   },
   {
    "duration": -88,
    "start_time": "2021-06-10T19:55:33.336Z"
   },
   {
    "duration": 451,
    "start_time": "2021-06-10T19:55:35.991Z"
   },
   {
    "duration": 358,
    "start_time": "2021-06-10T19:55:40.520Z"
   },
   {
    "duration": 10597,
    "start_time": "2021-06-10T19:55:51.052Z"
   },
   {
    "duration": 182,
    "start_time": "2021-06-10T19:56:02.010Z"
   },
   {
    "duration": 13,
    "start_time": "2021-06-10T19:56:02.196Z"
   },
   {
    "duration": 25,
    "start_time": "2021-06-10T19:56:02.212Z"
   },
   {
    "duration": 8,
    "start_time": "2021-06-10T19:56:02.242Z"
   },
   {
    "duration": 8,
    "start_time": "2021-06-10T19:56:02.253Z"
   },
   {
    "duration": 20,
    "start_time": "2021-06-10T19:56:02.264Z"
   },
   {
    "duration": 48,
    "start_time": "2021-06-10T19:56:02.287Z"
   },
   {
    "duration": 12,
    "start_time": "2021-06-10T19:56:02.338Z"
   },
   {
    "duration": 16,
    "start_time": "2021-06-10T19:56:02.356Z"
   },
   {
    "duration": 51,
    "start_time": "2021-06-10T19:56:02.376Z"
   },
   {
    "duration": 9,
    "start_time": "2021-06-10T19:56:02.430Z"
   },
   {
    "duration": 12,
    "start_time": "2021-06-10T19:56:02.442Z"
   },
   {
    "duration": 12,
    "start_time": "2021-06-10T19:56:02.458Z"
   },
   {
    "duration": 11,
    "start_time": "2021-06-10T19:56:02.473Z"
   },
   {
    "duration": 20,
    "start_time": "2021-06-10T19:56:02.527Z"
   },
   {
    "duration": 10,
    "start_time": "2021-06-10T19:56:02.550Z"
   },
   {
    "duration": 66,
    "start_time": "2021-06-10T19:56:02.562Z"
   },
   {
    "duration": 15,
    "start_time": "2021-06-10T19:56:02.631Z"
   },
   {
    "duration": 34,
    "start_time": "2021-06-10T19:56:02.649Z"
   },
   {
    "duration": 41,
    "start_time": "2021-06-10T19:56:02.685Z"
   },
   {
    "duration": 5396,
    "start_time": "2021-06-10T19:56:02.729Z"
   },
   {
    "duration": 32,
    "start_time": "2021-06-10T19:56:08.128Z"
   },
   {
    "duration": 38,
    "start_time": "2021-06-10T19:56:08.162Z"
   },
   {
    "duration": 132,
    "start_time": "2021-06-10T19:56:08.203Z"
   },
   {
    "duration": -84,
    "start_time": "2021-06-10T19:56:08.422Z"
   },
   {
    "duration": -86,
    "start_time": "2021-06-10T19:56:08.426Z"
   },
   {
    "duration": -85,
    "start_time": "2021-06-10T19:56:08.428Z"
   },
   {
    "duration": -87,
    "start_time": "2021-06-10T19:56:08.432Z"
   },
   {
    "duration": -104,
    "start_time": "2021-06-10T19:56:08.453Z"
   },
   {
    "duration": -107,
    "start_time": "2021-06-10T19:56:08.457Z"
   },
   {
    "duration": 110,
    "start_time": "2021-06-10T19:56:52.828Z"
   },
   {
    "duration": 19,
    "start_time": "2021-06-10T19:56:52.942Z"
   },
   {
    "duration": 14,
    "start_time": "2021-06-10T19:56:52.964Z"
   },
   {
    "duration": 44,
    "start_time": "2021-06-10T19:56:52.982Z"
   },
   {
    "duration": 6,
    "start_time": "2021-06-10T19:56:53.029Z"
   },
   {
    "duration": 17,
    "start_time": "2021-06-10T19:56:53.038Z"
   },
   {
    "duration": 12,
    "start_time": "2021-06-10T19:56:53.059Z"
   },
   {
    "duration": 7,
    "start_time": "2021-06-10T19:56:53.075Z"
   },
   {
    "duration": 13,
    "start_time": "2021-06-10T19:56:53.127Z"
   },
   {
    "duration": 11,
    "start_time": "2021-06-10T19:56:53.143Z"
   },
   {
    "duration": 14,
    "start_time": "2021-06-10T19:56:53.157Z"
   },
   {
    "duration": 54,
    "start_time": "2021-06-10T19:56:53.173Z"
   },
   {
    "duration": 15,
    "start_time": "2021-06-10T19:56:53.230Z"
   },
   {
    "duration": 12,
    "start_time": "2021-06-10T19:56:53.249Z"
   },
   {
    "duration": 17,
    "start_time": "2021-06-10T19:56:53.265Z"
   },
   {
    "duration": 14,
    "start_time": "2021-06-10T19:56:53.326Z"
   },
   {
    "duration": 36,
    "start_time": "2021-06-10T19:56:53.344Z"
   },
   {
    "duration": 49,
    "start_time": "2021-06-10T19:56:53.383Z"
   },
   {
    "duration": 41,
    "start_time": "2021-06-10T19:56:53.435Z"
   },
   {
    "duration": 11,
    "start_time": "2021-06-10T19:56:53.479Z"
   },
   {
    "duration": 5618,
    "start_time": "2021-06-10T19:56:53.526Z"
   },
   {
    "duration": 44,
    "start_time": "2021-06-10T19:56:59.148Z"
   },
   {
    "duration": 70,
    "start_time": "2021-06-10T19:56:59.195Z"
   },
   {
    "duration": 5,
    "start_time": "2021-06-10T19:56:59.269Z"
   },
   {
    "duration": 24,
    "start_time": "2021-06-10T19:56:59.278Z"
   },
   {
    "duration": 56,
    "start_time": "2021-06-10T19:56:59.305Z"
   },
   {
    "duration": 11,
    "start_time": "2021-06-10T19:56:59.365Z"
   },
   {
    "duration": 48,
    "start_time": "2021-06-10T19:56:59.378Z"
   },
   {
    "duration": 33,
    "start_time": "2021-06-10T19:56:59.429Z"
   },
   {
    "duration": 9,
    "start_time": "2021-06-10T19:56:59.465Z"
   },
   {
    "duration": 44,
    "start_time": "2021-06-10T19:57:14.933Z"
   },
   {
    "duration": 10,
    "start_time": "2021-06-10T19:57:49.083Z"
   },
   {
    "duration": 35,
    "start_time": "2021-06-10T20:00:44.439Z"
   },
   {
    "duration": 14,
    "start_time": "2021-06-10T20:00:55.770Z"
   },
   {
    "duration": 20,
    "start_time": "2021-06-10T20:02:06.191Z"
   },
   {
    "duration": 23,
    "start_time": "2021-06-10T20:02:38.538Z"
   },
   {
    "duration": 8,
    "start_time": "2021-06-10T20:51:41.717Z"
   },
   {
    "duration": 8,
    "start_time": "2021-06-10T20:51:43.914Z"
   },
   {
    "duration": 13,
    "start_time": "2021-06-10T20:52:02.234Z"
   },
   {
    "duration": 29,
    "start_time": "2021-06-10T20:52:26.156Z"
   },
   {
    "duration": 9,
    "start_time": "2021-06-10T20:52:35.582Z"
   },
   {
    "duration": 10,
    "start_time": "2021-06-10T20:53:48.762Z"
   },
   {
    "duration": 14,
    "start_time": "2021-06-10T20:57:18.685Z"
   },
   {
    "duration": 13,
    "start_time": "2021-06-10T20:57:33.651Z"
   },
   {
    "duration": 335,
    "start_time": "2021-06-10T20:58:48.853Z"
   },
   {
    "duration": 9,
    "start_time": "2021-06-10T20:59:02.797Z"
   },
   {
    "duration": 9010,
    "start_time": "2021-06-10T21:01:02.913Z"
   },
   {
    "duration": 9240,
    "start_time": "2021-06-10T21:01:15.494Z"
   },
   {
    "duration": 10,
    "start_time": "2021-06-10T21:01:47.407Z"
   },
   {
    "duration": 11888,
    "start_time": "2021-06-10T21:05:16.405Z"
   },
   {
    "duration": 8664,
    "start_time": "2021-06-10T21:05:42.354Z"
   },
   {
    "duration": 8935,
    "start_time": "2021-06-10T21:06:24.927Z"
   },
   {
    "duration": 92,
    "start_time": "2021-06-10T21:06:39.133Z"
   },
   {
    "duration": 16,
    "start_time": "2021-06-10T21:06:39.228Z"
   },
   {
    "duration": 11,
    "start_time": "2021-06-10T21:06:39.247Z"
   },
   {
    "duration": 6,
    "start_time": "2021-06-10T21:06:39.261Z"
   },
   {
    "duration": 6,
    "start_time": "2021-06-10T21:06:39.269Z"
   },
   {
    "duration": 56,
    "start_time": "2021-06-10T21:06:39.277Z"
   },
   {
    "duration": 14,
    "start_time": "2021-06-10T21:06:39.336Z"
   },
   {
    "duration": 7,
    "start_time": "2021-06-10T21:06:39.353Z"
   },
   {
    "duration": 19,
    "start_time": "2021-06-10T21:06:39.364Z"
   },
   {
    "duration": 51,
    "start_time": "2021-06-10T21:06:39.387Z"
   },
   {
    "duration": 20,
    "start_time": "2021-06-10T21:06:39.440Z"
   },
   {
    "duration": 7,
    "start_time": "2021-06-10T21:06:39.463Z"
   },
   {
    "duration": 11,
    "start_time": "2021-06-10T21:06:39.473Z"
   },
   {
    "duration": 47,
    "start_time": "2021-06-10T21:06:39.486Z"
   },
   {
    "duration": 18,
    "start_time": "2021-06-10T21:06:39.536Z"
   },
   {
    "duration": 10,
    "start_time": "2021-06-10T21:06:39.556Z"
   },
   {
    "duration": 61,
    "start_time": "2021-06-10T21:06:39.569Z"
   },
   {
    "duration": 13,
    "start_time": "2021-06-10T21:06:39.633Z"
   },
   {
    "duration": 31,
    "start_time": "2021-06-10T21:06:39.649Z"
   },
   {
    "duration": 11,
    "start_time": "2021-06-10T21:06:39.682Z"
   },
   {
    "duration": 4949,
    "start_time": "2021-06-10T21:06:39.729Z"
   },
   {
    "duration": 45,
    "start_time": "2021-06-10T21:06:44.681Z"
   },
   {
    "duration": 41,
    "start_time": "2021-06-10T21:06:44.729Z"
   },
   {
    "duration": 5,
    "start_time": "2021-06-10T21:06:44.772Z"
   },
   {
    "duration": 49,
    "start_time": "2021-06-10T21:06:44.779Z"
   },
   {
    "duration": 33,
    "start_time": "2021-06-10T21:06:44.831Z"
   },
   {
    "duration": 10,
    "start_time": "2021-06-10T21:06:44.867Z"
   },
   {
    "duration": 12,
    "start_time": "2021-06-10T21:06:44.879Z"
   },
   {
    "duration": 53,
    "start_time": "2021-06-10T21:06:44.894Z"
   },
   {
    "duration": 8148,
    "start_time": "2021-06-10T21:06:44.950Z"
   },
   {
    "duration": -113,
    "start_time": "2021-06-10T21:06:53.214Z"
   },
   {
    "duration": -115,
    "start_time": "2021-06-10T21:06:53.217Z"
   },
   {
    "duration": 13,
    "start_time": "2021-06-10T21:09:08.421Z"
   },
   {
    "duration": 11,
    "start_time": "2021-06-10T21:11:14.140Z"
   },
   {
    "duration": 12,
    "start_time": "2021-06-10T21:12:21.596Z"
   },
   {
    "duration": 10,
    "start_time": "2021-06-10T21:13:02.850Z"
   },
   {
    "duration": 12,
    "start_time": "2021-06-10T21:13:47.939Z"
   },
   {
    "duration": 14,
    "start_time": "2021-06-10T21:13:58.185Z"
   },
   {
    "duration": 9,
    "start_time": "2021-06-10T21:16:26.973Z"
   },
   {
    "duration": 9,
    "start_time": "2021-06-10T21:17:09.758Z"
   },
   {
    "duration": 8,
    "start_time": "2021-06-10T21:17:44.345Z"
   },
   {
    "duration": 10,
    "start_time": "2021-06-10T21:24:00.620Z"
   },
   {
    "duration": 10,
    "start_time": "2021-06-10T21:25:14.270Z"
   },
   {
    "duration": 12,
    "start_time": "2021-06-10T21:25:24.878Z"
   },
   {
    "duration": 5,
    "start_time": "2021-06-10T21:25:32.806Z"
   },
   {
    "duration": 5,
    "start_time": "2021-06-10T21:25:45.728Z"
   },
   {
    "duration": 4,
    "start_time": "2021-06-10T21:25:51.347Z"
   },
   {
    "duration": 6,
    "start_time": "2021-06-10T21:31:23.444Z"
   },
   {
    "duration": 6,
    "start_time": "2021-06-10T21:31:26.033Z"
   },
   {
    "duration": 10,
    "start_time": "2021-06-10T21:31:33.324Z"
   },
   {
    "duration": 8594,
    "start_time": "2021-06-10T21:31:52.236Z"
   },
   {
    "duration": 377,
    "start_time": "2021-06-10T21:32:22.793Z"
   },
   {
    "duration": 8,
    "start_time": "2021-06-10T21:33:18.401Z"
   },
   {
    "duration": 4,
    "start_time": "2021-06-10T21:35:47.519Z"
   },
   {
    "duration": 5,
    "start_time": "2021-06-10T21:36:02.900Z"
   },
   {
    "duration": 6,
    "start_time": "2021-06-10T21:37:56.268Z"
   },
   {
    "duration": 5,
    "start_time": "2021-06-10T21:38:18.951Z"
   },
   {
    "duration": 1270,
    "start_time": "2021-06-10T21:41:06.710Z"
   },
   {
    "duration": 7,
    "start_time": "2021-06-10T21:41:27.332Z"
   },
   {
    "duration": 424,
    "start_time": "2021-06-10T21:41:29.893Z"
   },
   {
    "duration": 6,
    "start_time": "2021-06-10T21:44:19.292Z"
   },
   {
    "duration": 272,
    "start_time": "2021-06-10T21:44:24.300Z"
   },
   {
    "duration": 240,
    "start_time": "2021-06-10T21:44:51.674Z"
   },
   {
    "duration": 667,
    "start_time": "2021-06-10T21:56:50.030Z"
   },
   {
    "duration": 270,
    "start_time": "2021-06-10T21:59:38.189Z"
   },
   {
    "duration": 344,
    "start_time": "2021-06-10T22:00:07.685Z"
   },
   {
    "duration": 264,
    "start_time": "2021-06-10T22:00:50.996Z"
   },
   {
    "duration": 26,
    "start_time": "2021-06-10T22:10:42.217Z"
   },
   {
    "duration": 31,
    "start_time": "2021-06-10T22:11:45.667Z"
   },
   {
    "duration": 22,
    "start_time": "2021-06-10T22:12:05.238Z"
   },
   {
    "duration": 127,
    "start_time": "2021-06-10T22:12:40.680Z"
   },
   {
    "duration": 21,
    "start_time": "2021-06-10T22:13:18.070Z"
   },
   {
    "duration": 25,
    "start_time": "2021-06-10T22:13:31.331Z"
   },
   {
    "duration": 38,
    "start_time": "2021-06-10T22:14:01.235Z"
   },
   {
    "duration": 370,
    "start_time": "2021-06-10T22:14:15.667Z"
   },
   {
    "duration": 23,
    "start_time": "2021-06-10T22:14:20.491Z"
   },
   {
    "duration": 24,
    "start_time": "2021-06-10T22:14:26.560Z"
   },
   {
    "duration": 21,
    "start_time": "2021-06-10T22:14:33.246Z"
   },
   {
    "duration": 19,
    "start_time": "2021-06-10T22:19:03.551Z"
   },
   {
    "duration": 28,
    "start_time": "2021-06-10T22:19:15.521Z"
   },
   {
    "duration": -124,
    "start_time": "2021-06-10T22:20:45.636Z"
   },
   {
    "duration": -181,
    "start_time": "2021-06-10T22:20:55.675Z"
   },
   {
    "duration": -183,
    "start_time": "2021-06-10T22:20:55.678Z"
   },
   {
    "duration": 29,
    "start_time": "2021-06-10T22:20:58.421Z"
   },
   {
    "duration": 14,
    "start_time": "2021-06-10T22:20:59.221Z"
   },
   {
    "duration": 10,
    "start_time": "2021-06-10T22:21:01.260Z"
   },
   {
    "duration": 8719,
    "start_time": "2021-06-10T22:21:02.300Z"
   },
   {
    "duration": 8437,
    "start_time": "2021-06-10T22:21:35.139Z"
   },
   {
    "duration": 9,
    "start_time": "2021-06-10T22:22:35.954Z"
   },
   {
    "duration": 5,
    "start_time": "2021-06-10T22:22:44.377Z"
   },
   {
    "duration": 266,
    "start_time": "2021-06-10T22:22:46.970Z"
   },
   {
    "duration": 8,
    "start_time": "2021-06-10T22:23:39.173Z"
   },
   {
    "duration": 6,
    "start_time": "2021-06-10T22:23:42.571Z"
   },
   {
    "duration": 261,
    "start_time": "2021-06-10T22:23:44.279Z"
   },
   {
    "duration": 477,
    "start_time": "2021-06-10T22:26:51.115Z"
   },
   {
    "duration": 508,
    "start_time": "2021-06-10T22:27:27.358Z"
   },
   {
    "duration": 317,
    "start_time": "2021-06-10T22:28:36.518Z"
   },
   {
    "duration": 282,
    "start_time": "2021-06-10T22:29:22.208Z"
   },
   {
    "duration": 271,
    "start_time": "2021-06-10T22:29:35.351Z"
   },
   {
    "duration": 291,
    "start_time": "2021-06-10T22:29:43.637Z"
   },
   {
    "duration": 732,
    "start_time": "2021-06-10T22:34:04.975Z"
   },
   {
    "duration": 306,
    "start_time": "2021-06-10T22:34:23.722Z"
   },
   {
    "duration": 281,
    "start_time": "2021-06-10T22:34:35.547Z"
   },
   {
    "duration": 319,
    "start_time": "2021-06-10T22:35:27.169Z"
   },
   {
    "duration": 272,
    "start_time": "2021-06-10T22:35:35.565Z"
   },
   {
    "duration": 292,
    "start_time": "2021-06-10T22:36:03.538Z"
   },
   {
    "duration": 1181,
    "start_time": "2021-06-11T11:03:07.596Z"
   },
   {
    "duration": 13,
    "start_time": "2021-06-11T11:03:08.781Z"
   },
   {
    "duration": 38,
    "start_time": "2021-06-11T11:03:08.798Z"
   },
   {
    "duration": 14,
    "start_time": "2021-06-11T11:03:08.839Z"
   },
   {
    "duration": 25,
    "start_time": "2021-06-11T11:03:08.856Z"
   },
   {
    "duration": 23,
    "start_time": "2021-06-11T11:03:08.883Z"
   },
   {
    "duration": 26,
    "start_time": "2021-06-11T11:03:08.908Z"
   },
   {
    "duration": 20,
    "start_time": "2021-06-11T11:03:08.937Z"
   },
   {
    "duration": 19,
    "start_time": "2021-06-11T11:03:08.961Z"
   },
   {
    "duration": 12,
    "start_time": "2021-06-11T11:03:08.983Z"
   },
   {
    "duration": 28,
    "start_time": "2021-06-11T11:03:08.998Z"
   },
   {
    "duration": 9,
    "start_time": "2021-06-11T11:03:09.029Z"
   },
   {
    "duration": 13,
    "start_time": "2021-06-11T11:03:09.041Z"
   },
   {
    "duration": 9,
    "start_time": "2021-06-11T11:03:09.057Z"
   },
   {
    "duration": 16,
    "start_time": "2021-06-11T11:03:09.068Z"
   },
   {
    "duration": 11,
    "start_time": "2021-06-11T11:03:09.126Z"
   },
   {
    "duration": 27,
    "start_time": "2021-06-11T11:03:09.140Z"
   },
   {
    "duration": 14,
    "start_time": "2021-06-11T11:03:09.170Z"
   },
   {
    "duration": 72,
    "start_time": "2021-06-11T11:03:09.187Z"
   },
   {
    "duration": 11,
    "start_time": "2021-06-11T11:03:09.262Z"
   },
   {
    "duration": 4604,
    "start_time": "2021-06-11T11:03:09.276Z"
   },
   {
    "duration": 43,
    "start_time": "2021-06-11T11:03:13.883Z"
   },
   {
    "duration": 38,
    "start_time": "2021-06-11T11:03:13.933Z"
   },
   {
    "duration": 5,
    "start_time": "2021-06-11T11:03:13.974Z"
   },
   {
    "duration": 58,
    "start_time": "2021-06-11T11:03:13.981Z"
   },
   {
    "duration": 33,
    "start_time": "2021-06-11T11:03:14.042Z"
   },
   {
    "duration": 12,
    "start_time": "2021-06-11T11:03:14.078Z"
   },
   {
    "duration": 11,
    "start_time": "2021-06-11T11:03:14.126Z"
   },
   {
    "duration": 26,
    "start_time": "2021-06-11T11:03:14.140Z"
   },
   {
    "duration": 23,
    "start_time": "2021-06-11T11:03:14.169Z"
   },
   {
    "duration": 16,
    "start_time": "2021-06-11T11:03:14.227Z"
   },
   {
    "duration": 12,
    "start_time": "2021-06-11T11:03:14.246Z"
   },
   {
    "duration": 15,
    "start_time": "2021-06-11T11:03:14.261Z"
   },
   {
    "duration": 46,
    "start_time": "2021-06-11T11:03:14.279Z"
   },
   {
    "duration": 956,
    "start_time": "2021-06-11T11:03:14.328Z"
   },
   {
    "duration": 9,
    "start_time": "2021-06-11T11:04:44.558Z"
   },
   {
    "duration": 5,
    "start_time": "2021-06-11T11:04:48.882Z"
   },
   {
    "duration": 264,
    "start_time": "2021-06-11T11:05:22.529Z"
   },
   {
    "duration": 327,
    "start_time": "2021-06-11T11:06:46.301Z"
   },
   {
    "duration": 320,
    "start_time": "2021-06-11T11:07:10.667Z"
   },
   {
    "duration": 9,
    "start_time": "2021-06-11T11:16:32.011Z"
   },
   {
    "duration": 13,
    "start_time": "2021-06-11T11:37:02.381Z"
   },
   {
    "duration": 42,
    "start_time": "2021-06-11T11:37:05.305Z"
   },
   {
    "duration": 10,
    "start_time": "2021-06-11T11:38:08.293Z"
   },
   {
    "duration": 9,
    "start_time": "2021-06-11T11:38:17.503Z"
   },
   {
    "duration": 10,
    "start_time": "2021-06-11T11:38:25.007Z"
   },
   {
    "duration": 9,
    "start_time": "2021-06-11T11:39:16.093Z"
   },
   {
    "duration": 936,
    "start_time": "2021-06-12T11:45:15.008Z"
   },
   {
    "duration": 15,
    "start_time": "2021-06-12T11:45:15.946Z"
   },
   {
    "duration": 13,
    "start_time": "2021-06-12T11:45:15.964Z"
   },
   {
    "duration": 8,
    "start_time": "2021-06-12T11:45:16.009Z"
   },
   {
    "duration": 6,
    "start_time": "2021-06-12T11:45:16.020Z"
   },
   {
    "duration": 14,
    "start_time": "2021-06-12T11:45:16.029Z"
   },
   {
    "duration": 12,
    "start_time": "2021-06-12T11:45:16.046Z"
   },
   {
    "duration": 55,
    "start_time": "2021-06-12T11:45:16.062Z"
   },
   {
    "duration": 12,
    "start_time": "2021-06-12T11:45:16.121Z"
   },
   {
    "duration": 10,
    "start_time": "2021-06-12T11:45:16.136Z"
   },
   {
    "duration": 10,
    "start_time": "2021-06-12T11:45:16.149Z"
   },
   {
    "duration": 51,
    "start_time": "2021-06-12T11:45:16.164Z"
   },
   {
    "duration": 13,
    "start_time": "2021-06-12T11:45:16.217Z"
   },
   {
    "duration": 8,
    "start_time": "2021-06-12T11:45:16.232Z"
   },
   {
    "duration": 16,
    "start_time": "2021-06-12T11:45:16.242Z"
   },
   {
    "duration": 56,
    "start_time": "2021-06-12T11:45:16.261Z"
   },
   {
    "duration": 32,
    "start_time": "2021-06-12T11:45:16.320Z"
   },
   {
    "duration": 14,
    "start_time": "2021-06-12T11:45:16.354Z"
   },
   {
    "duration": 56,
    "start_time": "2021-06-12T11:45:16.371Z"
   },
   {
    "duration": 15,
    "start_time": "2021-06-12T11:45:16.431Z"
   },
   {
    "duration": 4933,
    "start_time": "2021-06-12T11:45:16.449Z"
   },
   {
    "duration": 52,
    "start_time": "2021-06-12T11:45:21.386Z"
   },
   {
    "duration": 80,
    "start_time": "2021-06-12T11:45:21.447Z"
   },
   {
    "duration": 6,
    "start_time": "2021-06-12T11:45:21.531Z"
   },
   {
    "duration": 39,
    "start_time": "2021-06-12T11:45:21.540Z"
   },
   {
    "duration": 70,
    "start_time": "2021-06-12T11:45:21.583Z"
   },
   {
    "duration": 18,
    "start_time": "2021-06-12T11:45:21.656Z"
   },
   {
    "duration": 38,
    "start_time": "2021-06-12T11:45:21.677Z"
   },
   {
    "duration": 12,
    "start_time": "2021-06-12T11:45:21.718Z"
   },
   {
    "duration": 17,
    "start_time": "2021-06-12T11:45:21.733Z"
   },
   {
    "duration": 74,
    "start_time": "2021-06-12T11:45:21.753Z"
   },
   {
    "duration": 11,
    "start_time": "2021-06-12T11:45:21.830Z"
   },
   {
    "duration": 10,
    "start_time": "2021-06-12T11:45:21.844Z"
   },
   {
    "duration": 17,
    "start_time": "2021-06-12T11:45:21.856Z"
   },
   {
    "duration": 54,
    "start_time": "2021-06-12T11:45:21.875Z"
   },
   {
    "duration": 14,
    "start_time": "2021-06-12T11:45:21.932Z"
   },
   {
    "duration": 9,
    "start_time": "2021-06-12T11:45:21.948Z"
   },
   {
    "duration": 55,
    "start_time": "2021-06-12T11:45:21.959Z"
   },
   {
    "duration": 6,
    "start_time": "2021-06-12T11:45:22.016Z"
   },
   {
    "duration": 1021,
    "start_time": "2021-06-12T11:45:22.025Z"
   },
   {
    "duration": 23,
    "start_time": "2021-06-12T11:45:23.048Z"
   },
   {
    "duration": 4,
    "start_time": "2021-06-12T11:45:23.074Z"
   },
   {
    "duration": 9,
    "start_time": "2021-06-12T11:45:47.073Z"
   },
   {
    "duration": 10,
    "start_time": "2021-06-12T11:46:00.182Z"
   },
   {
    "duration": 16,
    "start_time": "2021-06-12T11:56:20.754Z"
   },
   {
    "duration": 477,
    "start_time": "2021-06-12T11:56:36.134Z"
   },
   {
    "duration": 39,
    "start_time": "2021-06-12T11:57:13.477Z"
   },
   {
    "duration": 38,
    "start_time": "2021-06-12T11:58:32.475Z"
   },
   {
    "duration": 37,
    "start_time": "2021-06-12T12:03:55.166Z"
   },
   {
    "duration": 123,
    "start_time": "2021-06-12T12:19:01.792Z"
   },
   {
    "duration": 6,
    "start_time": "2021-06-12T12:19:46.663Z"
   },
   {
    "duration": 27,
    "start_time": "2021-06-12T12:42:47.499Z"
   },
   {
    "duration": 7,
    "start_time": "2021-06-12T12:42:56.706Z"
   },
   {
    "duration": 279,
    "start_time": "2021-06-12T12:43:37.765Z"
   },
   {
    "duration": 26,
    "start_time": "2021-06-12T12:44:46.784Z"
   },
   {
    "duration": 7,
    "start_time": "2021-06-12T12:46:10.646Z"
   },
   {
    "duration": 14,
    "start_time": "2021-06-12T12:46:36.334Z"
   },
   {
    "duration": 281,
    "start_time": "2021-06-12T12:47:09.415Z"
   },
   {
    "duration": 12,
    "start_time": "2021-06-12T12:48:16.294Z"
   },
   {
    "duration": 272,
    "start_time": "2021-06-12T12:48:19.921Z"
   },
   {
    "duration": 361,
    "start_time": "2021-06-12T12:50:06.828Z"
   },
   {
    "duration": 293,
    "start_time": "2021-06-12T12:50:26.099Z"
   },
   {
    "duration": 276,
    "start_time": "2021-06-12T12:50:49.605Z"
   },
   {
    "duration": 21,
    "start_time": "2021-06-12T12:51:56.775Z"
   },
   {
    "duration": 28,
    "start_time": "2021-06-12T12:55:35.166Z"
   },
   {
    "duration": 27,
    "start_time": "2021-06-12T12:55:37.595Z"
   },
   {
    "duration": 283,
    "start_time": "2021-06-12T12:55:40.496Z"
   },
   {
    "duration": 290,
    "start_time": "2021-06-12T12:55:48.811Z"
   },
   {
    "duration": 27,
    "start_time": "2021-06-12T12:56:10.262Z"
   },
   {
    "duration": 278,
    "start_time": "2021-06-12T12:56:22.659Z"
   },
   {
    "duration": 29,
    "start_time": "2021-06-12T12:56:50.655Z"
   },
   {
    "duration": 27,
    "start_time": "2021-06-12T12:57:10.477Z"
   },
   {
    "duration": 280,
    "start_time": "2021-06-12T12:57:11.793Z"
   },
   {
    "duration": 21,
    "start_time": "2021-06-12T12:57:17.425Z"
   },
   {
    "duration": 278,
    "start_time": "2021-06-12T12:57:19.350Z"
   },
   {
    "duration": 28,
    "start_time": "2021-06-12T12:57:38.197Z"
   },
   {
    "duration": 124,
    "start_time": "2021-06-12T12:58:46.196Z"
   },
   {
    "duration": 21,
    "start_time": "2021-06-12T12:58:56.418Z"
   },
   {
    "duration": 30,
    "start_time": "2021-06-12T13:01:13.288Z"
   },
   {
    "duration": 129,
    "start_time": "2021-06-12T13:01:41.065Z"
   },
   {
    "duration": 108,
    "start_time": "2021-06-12T13:02:06.470Z"
   },
   {
    "duration": 128,
    "start_time": "2021-06-12T13:02:16.412Z"
   },
   {
    "duration": 114,
    "start_time": "2021-06-12T13:02:40.211Z"
   },
   {
    "duration": 27,
    "start_time": "2021-06-12T13:02:50.900Z"
   },
   {
    "duration": 26,
    "start_time": "2021-06-12T13:03:02.510Z"
   },
   {
    "duration": 287,
    "start_time": "2021-06-12T13:03:45.611Z"
   },
   {
    "duration": 97,
    "start_time": "2021-06-12T13:05:01.391Z"
   },
   {
    "duration": 23,
    "start_time": "2021-06-12T13:05:01.492Z"
   },
   {
    "duration": 34,
    "start_time": "2021-06-12T13:05:01.518Z"
   },
   {
    "duration": 134,
    "start_time": "2021-06-12T13:05:01.555Z"
   },
   {
    "duration": 41,
    "start_time": "2021-06-12T13:05:01.691Z"
   },
   {
    "duration": 54,
    "start_time": "2021-06-12T13:05:01.735Z"
   },
   {
    "duration": 40,
    "start_time": "2021-06-12T13:05:01.792Z"
   },
   {
    "duration": 30,
    "start_time": "2021-06-12T13:05:01.836Z"
   },
   {
    "duration": 36,
    "start_time": "2021-06-12T13:05:01.870Z"
   },
   {
    "duration": 22,
    "start_time": "2021-06-12T13:05:01.908Z"
   },
   {
    "duration": 57,
    "start_time": "2021-06-12T13:05:01.933Z"
   },
   {
    "duration": 43,
    "start_time": "2021-06-12T13:05:01.992Z"
   },
   {
    "duration": 63,
    "start_time": "2021-06-12T13:05:02.037Z"
   },
   {
    "duration": 55,
    "start_time": "2021-06-12T13:05:02.103Z"
   },
   {
    "duration": 82,
    "start_time": "2021-06-12T13:05:02.160Z"
   },
   {
    "duration": 32,
    "start_time": "2021-06-12T13:05:02.245Z"
   },
   {
    "duration": 63,
    "start_time": "2021-06-12T13:05:02.280Z"
   },
   {
    "duration": 17,
    "start_time": "2021-06-12T13:05:02.345Z"
   },
   {
    "duration": 73,
    "start_time": "2021-06-12T13:05:02.365Z"
   },
   {
    "duration": 22,
    "start_time": "2021-06-12T13:05:02.440Z"
   },
   {
    "duration": 4622,
    "start_time": "2021-06-12T13:05:02.465Z"
   },
   {
    "duration": 37,
    "start_time": "2021-06-12T13:05:07.090Z"
   },
   {
    "duration": 41,
    "start_time": "2021-06-12T13:05:07.132Z"
   },
   {
    "duration": 9,
    "start_time": "2021-06-12T13:05:07.176Z"
   },
   {
    "duration": 55,
    "start_time": "2021-06-12T13:05:07.187Z"
   },
   {
    "duration": 33,
    "start_time": "2021-06-12T13:05:07.244Z"
   },
   {
    "duration": 21,
    "start_time": "2021-06-12T13:05:07.279Z"
   },
   {
    "duration": 15,
    "start_time": "2021-06-12T13:05:07.302Z"
   },
   {
    "duration": 11,
    "start_time": "2021-06-12T13:05:07.319Z"
   },
   {
    "duration": 14,
    "start_time": "2021-06-12T13:05:07.333Z"
   },
   {
    "duration": 70,
    "start_time": "2021-06-12T13:05:07.349Z"
   },
   {
    "duration": 13,
    "start_time": "2021-06-12T13:05:07.422Z"
   },
   {
    "duration": 13,
    "start_time": "2021-06-12T13:05:07.438Z"
   },
   {
    "duration": 13,
    "start_time": "2021-06-12T13:05:07.454Z"
   },
   {
    "duration": 48,
    "start_time": "2021-06-12T13:05:07.510Z"
   },
   {
    "duration": 7,
    "start_time": "2021-06-12T13:05:07.561Z"
   },
   {
    "duration": 60,
    "start_time": "2021-06-12T13:05:07.571Z"
   },
   {
    "duration": 309,
    "start_time": "2021-06-12T13:05:07.635Z"
   },
   {
    "duration": 16,
    "start_time": "2021-06-12T13:05:07.947Z"
   },
   {
    "duration": 42,
    "start_time": "2021-06-12T13:05:07.966Z"
   },
   {
    "duration": 10,
    "start_time": "2021-06-12T13:05:08.011Z"
   },
   {
    "duration": 12,
    "start_time": "2021-06-12T13:05:08.024Z"
   },
   {
    "duration": 20,
    "start_time": "2021-06-12T13:05:08.039Z"
   },
   {
    "duration": 290,
    "start_time": "2021-06-12T13:05:08.061Z"
   },
   {
    "duration": 24,
    "start_time": "2021-06-12T13:05:08.354Z"
   },
   {
    "duration": 5,
    "start_time": "2021-06-12T13:05:08.380Z"
   },
   {
    "duration": 30,
    "start_time": "2021-06-12T13:06:33.219Z"
   },
   {
    "duration": 271,
    "start_time": "2021-06-12T13:06:39.907Z"
   },
   {
    "duration": 30,
    "start_time": "2021-06-12T13:07:04.688Z"
   },
   {
    "duration": 296,
    "start_time": "2021-06-12T13:07:05.782Z"
   },
   {
    "duration": 46,
    "start_time": "2021-06-12T13:08:01.995Z"
   },
   {
    "duration": 48,
    "start_time": "2021-06-12T13:09:04.092Z"
   },
   {
    "duration": 282,
    "start_time": "2021-06-12T13:09:36.238Z"
   },
   {
    "duration": 124,
    "start_time": "2021-06-12T13:11:04.953Z"
   },
   {
    "duration": 121,
    "start_time": "2021-06-12T13:11:12.641Z"
   },
   {
    "duration": 136,
    "start_time": "2021-06-12T13:11:53.772Z"
   },
   {
    "duration": 130,
    "start_time": "2021-06-12T13:12:27.696Z"
   },
   {
    "duration": 411,
    "start_time": "2021-06-12T13:12:43.219Z"
   },
   {
    "duration": 53,
    "start_time": "2021-06-12T13:13:11.582Z"
   },
   {
    "duration": 50,
    "start_time": "2021-06-12T13:13:45.390Z"
   },
   {
    "duration": 26,
    "start_time": "2021-06-12T13:16:48.242Z"
   },
   {
    "duration": 289,
    "start_time": "2021-06-12T13:16:57.374Z"
   },
   {
    "duration": 32,
    "start_time": "2021-06-12T13:17:08.150Z"
   },
   {
    "duration": 30,
    "start_time": "2021-06-12T13:17:15.365Z"
   },
   {
    "duration": 299,
    "start_time": "2021-06-12T13:17:17.215Z"
   },
   {
    "duration": 281,
    "start_time": "2021-06-12T13:17:28.735Z"
   },
   {
    "duration": 34,
    "start_time": "2021-06-12T13:18:01.288Z"
   },
   {
    "duration": 289,
    "start_time": "2021-06-12T13:18:08.644Z"
   },
   {
    "duration": 3,
    "start_time": "2021-06-12T13:23:23.189Z"
   },
   {
    "duration": 3,
    "start_time": "2021-06-12T13:23:25.057Z"
   },
   {
    "duration": 111,
    "start_time": "2021-06-12T13:23:55.007Z"
   },
   {
    "duration": 15,
    "start_time": "2021-06-12T13:24:09.620Z"
   },
   {
    "duration": 28,
    "start_time": "2021-06-12T13:24:14.214Z"
   },
   {
    "duration": 1590,
    "start_time": "2021-06-12T13:25:19.587Z"
   },
   {
    "duration": 30,
    "start_time": "2021-06-12T13:26:38.992Z"
   },
   {
    "duration": 4,
    "start_time": "2021-06-12T13:27:15.612Z"
   },
   {
    "duration": 98,
    "start_time": "2021-06-12T13:27:21.134Z"
   },
   {
    "duration": 13,
    "start_time": "2021-06-12T13:27:21.235Z"
   },
   {
    "duration": 13,
    "start_time": "2021-06-12T13:27:21.251Z"
   },
   {
    "duration": 6,
    "start_time": "2021-06-12T13:27:21.310Z"
   },
   {
    "duration": 9,
    "start_time": "2021-06-12T13:27:21.318Z"
   },
   {
    "duration": 14,
    "start_time": "2021-06-12T13:27:21.330Z"
   },
   {
    "duration": 13,
    "start_time": "2021-06-12T13:27:21.347Z"
   },
   {
    "duration": 44,
    "start_time": "2021-06-12T13:27:21.365Z"
   },
   {
    "duration": 12,
    "start_time": "2021-06-12T13:27:21.412Z"
   },
   {
    "duration": 14,
    "start_time": "2021-06-12T13:27:21.427Z"
   },
   {
    "duration": 23,
    "start_time": "2021-06-12T13:27:21.444Z"
   },
   {
    "duration": 9,
    "start_time": "2021-06-12T13:27:21.470Z"
   },
   {
    "duration": 11,
    "start_time": "2021-06-12T13:27:21.509Z"
   },
   {
    "duration": 15,
    "start_time": "2021-06-12T13:27:21.522Z"
   },
   {
    "duration": 22,
    "start_time": "2021-06-12T13:27:21.539Z"
   },
   {
    "duration": 10,
    "start_time": "2021-06-12T13:27:21.564Z"
   },
   {
    "duration": 53,
    "start_time": "2021-06-12T13:27:21.576Z"
   },
   {
    "duration": 13,
    "start_time": "2021-06-12T13:27:21.631Z"
   },
   {
    "duration": 36,
    "start_time": "2021-06-12T13:27:21.647Z"
   },
   {
    "duration": 31,
    "start_time": "2021-06-12T13:27:21.686Z"
   },
   {
    "duration": 4643,
    "start_time": "2021-06-12T13:27:21.721Z"
   },
   {
    "duration": 28,
    "start_time": "2021-06-12T13:27:26.366Z"
   },
   {
    "duration": 40,
    "start_time": "2021-06-12T13:27:26.413Z"
   },
   {
    "duration": 14,
    "start_time": "2021-06-12T13:27:26.456Z"
   },
   {
    "duration": 46,
    "start_time": "2021-06-12T13:27:26.473Z"
   },
   {
    "duration": 28,
    "start_time": "2021-06-12T13:27:26.522Z"
   },
   {
    "duration": 16,
    "start_time": "2021-06-12T13:27:26.553Z"
   },
   {
    "duration": 39,
    "start_time": "2021-06-12T13:27:26.571Z"
   },
   {
    "duration": 7,
    "start_time": "2021-06-12T13:27:26.612Z"
   },
   {
    "duration": 14,
    "start_time": "2021-06-12T13:27:26.622Z"
   },
   {
    "duration": 29,
    "start_time": "2021-06-12T13:27:26.639Z"
   },
   {
    "duration": 44,
    "start_time": "2021-06-12T13:27:26.670Z"
   },
   {
    "duration": 14,
    "start_time": "2021-06-12T13:27:26.716Z"
   },
   {
    "duration": 13,
    "start_time": "2021-06-12T13:27:26.732Z"
   },
   {
    "duration": 81,
    "start_time": "2021-06-12T13:27:26.748Z"
   },
   {
    "duration": 5,
    "start_time": "2021-06-12T13:27:26.832Z"
   },
   {
    "duration": 6,
    "start_time": "2021-06-12T13:27:26.840Z"
   },
   {
    "duration": 43,
    "start_time": "2021-06-12T13:27:26.848Z"
   },
   {
    "duration": 17,
    "start_time": "2021-06-12T13:27:26.893Z"
   },
   {
    "duration": 6,
    "start_time": "2021-06-12T13:27:26.913Z"
   },
   {
    "duration": 30,
    "start_time": "2021-06-12T13:27:26.929Z"
   },
   {
    "duration": 13,
    "start_time": "2021-06-12T13:27:26.963Z"
   },
   {
    "duration": 38,
    "start_time": "2021-06-12T13:27:26.978Z"
   },
   {
    "duration": 9,
    "start_time": "2021-06-12T13:27:27.019Z"
   },
   {
    "duration": 10,
    "start_time": "2021-06-12T13:27:27.030Z"
   },
   {
    "duration": 388,
    "start_time": "2021-06-12T13:27:27.042Z"
   },
   {
    "duration": 34,
    "start_time": "2021-06-12T13:27:27.434Z"
   },
   {
    "duration": 7,
    "start_time": "2021-06-12T13:27:27.471Z"
   },
   {
    "duration": 14,
    "start_time": "2021-06-12T13:50:02.571Z"
   },
   {
    "duration": 19,
    "start_time": "2021-06-12T13:50:16.111Z"
   },
   {
    "duration": 184,
    "start_time": "2021-06-12T13:51:16.714Z"
   },
   {
    "duration": 114,
    "start_time": "2021-06-12T13:51:34.035Z"
   },
   {
    "duration": 19,
    "start_time": "2021-06-12T13:51:48.383Z"
   },
   {
    "duration": 120,
    "start_time": "2021-06-12T13:52:46.364Z"
   },
   {
    "duration": 22,
    "start_time": "2021-06-12T13:52:54.929Z"
   },
   {
    "duration": 32,
    "start_time": "2021-06-12T14:00:25.213Z"
   },
   {
    "duration": 30,
    "start_time": "2021-06-12T14:00:29.111Z"
   },
   {
    "duration": 21,
    "start_time": "2021-06-12T14:00:33.829Z"
   },
   {
    "duration": 22,
    "start_time": "2021-06-12T14:00:42.367Z"
   },
   {
    "duration": 20,
    "start_time": "2021-06-12T14:00:53.078Z"
   },
   {
    "duration": 21,
    "start_time": "2021-06-12T14:01:00.958Z"
   },
   {
    "duration": 21,
    "start_time": "2021-06-12T14:07:10.486Z"
   },
   {
    "duration": 20,
    "start_time": "2021-06-12T14:07:25.395Z"
   },
   {
    "duration": 29,
    "start_time": "2021-06-12T14:08:36.672Z"
   },
   {
    "duration": 34,
    "start_time": "2021-06-12T14:08:47.311Z"
   },
   {
    "duration": 24,
    "start_time": "2021-06-12T14:08:56.761Z"
   },
   {
    "duration": 26,
    "start_time": "2021-06-12T14:09:08.338Z"
   },
   {
    "duration": 95,
    "start_time": "2021-06-12T14:09:37.867Z"
   },
   {
    "duration": 13,
    "start_time": "2021-06-12T14:09:37.965Z"
   },
   {
    "duration": 33,
    "start_time": "2021-06-12T14:09:37.981Z"
   },
   {
    "duration": 11,
    "start_time": "2021-06-12T14:09:38.016Z"
   },
   {
    "duration": 9,
    "start_time": "2021-06-12T14:09:38.029Z"
   },
   {
    "duration": 16,
    "start_time": "2021-06-12T14:09:38.041Z"
   },
   {
    "duration": 51,
    "start_time": "2021-06-12T14:09:38.059Z"
   },
   {
    "duration": 10,
    "start_time": "2021-06-12T14:09:38.113Z"
   },
   {
    "duration": 12,
    "start_time": "2021-06-12T14:09:38.129Z"
   },
   {
    "duration": 11,
    "start_time": "2021-06-12T14:09:38.145Z"
   },
   {
    "duration": 58,
    "start_time": "2021-06-12T14:09:38.159Z"
   },
   {
    "duration": 11,
    "start_time": "2021-06-12T14:09:38.221Z"
   },
   {
    "duration": 14,
    "start_time": "2021-06-12T14:09:38.235Z"
   },
   {
    "duration": 64,
    "start_time": "2021-06-12T14:09:38.253Z"
   },
   {
    "duration": 19,
    "start_time": "2021-06-12T14:09:38.320Z"
   },
   {
    "duration": 12,
    "start_time": "2021-06-12T14:09:38.342Z"
   },
   {
    "duration": 71,
    "start_time": "2021-06-12T14:09:38.357Z"
   },
   {
    "duration": 12,
    "start_time": "2021-06-12T14:09:38.431Z"
   },
   {
    "duration": 27,
    "start_time": "2021-06-12T14:09:38.446Z"
   },
   {
    "duration": 10,
    "start_time": "2021-06-12T14:09:38.508Z"
   },
   {
    "duration": 4565,
    "start_time": "2021-06-12T14:09:38.522Z"
   },
   {
    "duration": 42,
    "start_time": "2021-06-12T14:09:43.090Z"
   },
   {
    "duration": 38,
    "start_time": "2021-06-12T14:09:43.134Z"
   },
   {
    "duration": 7,
    "start_time": "2021-06-12T14:09:43.174Z"
   },
   {
    "duration": 47,
    "start_time": "2021-06-12T14:09:43.183Z"
   },
   {
    "duration": 28,
    "start_time": "2021-06-12T14:09:43.233Z"
   },
   {
    "duration": 10,
    "start_time": "2021-06-12T14:09:43.267Z"
   },
   {
    "duration": 10,
    "start_time": "2021-06-12T14:09:43.310Z"
   },
   {
    "duration": 8,
    "start_time": "2021-06-12T14:09:43.322Z"
   },
   {
    "duration": 11,
    "start_time": "2021-06-12T14:09:43.333Z"
   },
   {
    "duration": 63,
    "start_time": "2021-06-12T14:09:43.347Z"
   },
   {
    "duration": 18,
    "start_time": "2021-06-12T14:09:43.413Z"
   },
   {
    "duration": 11,
    "start_time": "2021-06-12T14:09:43.433Z"
   },
   {
    "duration": 12,
    "start_time": "2021-06-12T14:09:43.446Z"
   },
   {
    "duration": 81,
    "start_time": "2021-06-12T14:09:43.461Z"
   },
   {
    "duration": 6,
    "start_time": "2021-06-12T14:09:43.544Z"
   },
   {
    "duration": 7,
    "start_time": "2021-06-12T14:09:43.552Z"
   },
   {
    "duration": 49,
    "start_time": "2021-06-12T14:09:43.561Z"
   },
   {
    "duration": 23,
    "start_time": "2021-06-12T14:09:43.613Z"
   },
   {
    "duration": 3,
    "start_time": "2021-06-12T14:09:43.638Z"
   },
   {
    "duration": 24,
    "start_time": "2021-06-12T14:09:43.643Z"
   },
   {
    "duration": 47,
    "start_time": "2021-06-12T14:09:43.670Z"
   },
   {
    "duration": 12,
    "start_time": "2021-06-12T14:09:43.720Z"
   },
   {
    "duration": 11,
    "start_time": "2021-06-12T14:09:43.734Z"
   },
   {
    "duration": 7,
    "start_time": "2021-06-12T14:09:43.748Z"
   },
   {
    "duration": 335,
    "start_time": "2021-06-12T14:09:43.759Z"
   },
   {
    "duration": 29,
    "start_time": "2021-06-12T14:09:44.098Z"
   },
   {
    "duration": 6,
    "start_time": "2021-06-12T14:09:44.130Z"
   },
   {
    "duration": 276,
    "start_time": "2021-06-12T14:10:30.566Z"
   },
   {
    "duration": 299,
    "start_time": "2021-06-12T14:10:59.529Z"
   },
   {
    "duration": 630,
    "start_time": "2021-06-12T14:11:14.600Z"
   },
   {
    "duration": 294,
    "start_time": "2021-06-12T14:11:23.048Z"
   },
   {
    "duration": 791,
    "start_time": "2021-06-12T14:11:50.934Z"
   },
   {
    "duration": 289,
    "start_time": "2021-06-12T14:11:58.341Z"
   },
   {
    "duration": 267,
    "start_time": "2021-06-12T14:12:40.649Z"
   },
   {
    "duration": 15,
    "start_time": "2021-06-12T14:15:08.612Z"
   },
   {
    "duration": 32,
    "start_time": "2021-06-12T14:15:28.846Z"
   },
   {
    "duration": 10,
    "start_time": "2021-06-12T14:16:04.273Z"
   },
   {
    "duration": 10,
    "start_time": "2021-06-12T14:16:12.147Z"
   },
   {
    "duration": 10,
    "start_time": "2021-06-12T14:16:17.787Z"
   },
   {
    "duration": 15,
    "start_time": "2021-06-12T14:19:08.943Z"
   },
   {
    "duration": 30,
    "start_time": "2021-06-12T14:19:12.319Z"
   },
   {
    "duration": 10,
    "start_time": "2021-06-12T14:19:18.896Z"
   },
   {
    "duration": 16,
    "start_time": "2021-06-12T14:21:36.463Z"
   },
   {
    "duration": 30,
    "start_time": "2021-06-12T14:21:38.722Z"
   },
   {
    "duration": 10,
    "start_time": "2021-06-12T14:21:42.033Z"
   },
   {
    "duration": 397,
    "start_time": "2021-06-12T15:16:27.955Z"
   },
   {
    "duration": 370,
    "start_time": "2021-06-12T15:16:40.770Z"
   },
   {
    "duration": 438,
    "start_time": "2021-06-12T15:18:07.228Z"
   },
   {
    "duration": 378,
    "start_time": "2021-06-12T15:18:24.158Z"
   },
   {
    "duration": 382,
    "start_time": "2021-06-12T15:18:37.121Z"
   },
   {
    "duration": 47,
    "start_time": "2021-06-12T15:19:16.861Z"
   },
   {
    "duration": 27,
    "start_time": "2021-06-12T15:19:24.366Z"
   },
   {
    "duration": 20,
    "start_time": "2021-06-12T15:20:26.427Z"
   },
   {
    "duration": 396,
    "start_time": "2021-06-12T15:21:37.657Z"
   },
   {
    "duration": 360,
    "start_time": "2021-06-12T15:21:50.916Z"
   },
   {
    "duration": 14,
    "start_time": "2021-06-12T15:22:17.737Z"
   },
   {
    "duration": 15,
    "start_time": "2021-06-12T15:23:12.118Z"
   },
   {
    "duration": 95,
    "start_time": "2021-06-12T15:23:33.314Z"
   },
   {
    "duration": 17,
    "start_time": "2021-06-12T15:23:33.412Z"
   },
   {
    "duration": 26,
    "start_time": "2021-06-12T15:23:33.433Z"
   },
   {
    "duration": 8,
    "start_time": "2021-06-12T15:23:33.463Z"
   },
   {
    "duration": 38,
    "start_time": "2021-06-12T15:23:33.474Z"
   },
   {
    "duration": 23,
    "start_time": "2021-06-12T15:23:33.515Z"
   },
   {
    "duration": 18,
    "start_time": "2021-06-12T15:23:33.541Z"
   },
   {
    "duration": 17,
    "start_time": "2021-06-12T15:23:33.562Z"
   },
   {
    "duration": 29,
    "start_time": "2021-06-12T15:23:33.583Z"
   },
   {
    "duration": 12,
    "start_time": "2021-06-12T15:23:33.615Z"
   },
   {
    "duration": 20,
    "start_time": "2021-06-12T15:23:33.630Z"
   },
   {
    "duration": 11,
    "start_time": "2021-06-12T15:23:33.653Z"
   },
   {
    "duration": 51,
    "start_time": "2021-06-12T15:23:33.666Z"
   },
   {
    "duration": 11,
    "start_time": "2021-06-12T15:23:33.720Z"
   },
   {
    "duration": 25,
    "start_time": "2021-06-12T15:23:33.738Z"
   },
   {
    "duration": 47,
    "start_time": "2021-06-12T15:23:33.767Z"
   },
   {
    "duration": 39,
    "start_time": "2021-06-12T15:23:33.817Z"
   },
   {
    "duration": 16,
    "start_time": "2021-06-12T15:23:33.859Z"
   },
   {
    "duration": 71,
    "start_time": "2021-06-12T15:23:33.878Z"
   },
   {
    "duration": 14,
    "start_time": "2021-06-12T15:23:33.952Z"
   },
   {
    "duration": 5060,
    "start_time": "2021-06-12T15:23:33.969Z"
   },
   {
    "duration": 28,
    "start_time": "2021-06-12T15:23:39.032Z"
   },
   {
    "duration": 53,
    "start_time": "2021-06-12T15:23:39.062Z"
   },
   {
    "duration": 5,
    "start_time": "2021-06-12T15:23:39.117Z"
   },
   {
    "duration": 25,
    "start_time": "2021-06-12T15:23:39.127Z"
   },
   {
    "duration": 53,
    "start_time": "2021-06-12T15:23:39.156Z"
   },
   {
    "duration": 11,
    "start_time": "2021-06-12T15:23:39.212Z"
   },
   {
    "duration": 12,
    "start_time": "2021-06-12T15:23:39.226Z"
   },
   {
    "duration": 15,
    "start_time": "2021-06-12T15:23:39.241Z"
   },
   {
    "duration": 51,
    "start_time": "2021-06-12T15:23:39.259Z"
   },
   {
    "duration": 40,
    "start_time": "2021-06-12T15:23:39.313Z"
   },
   {
    "duration": 27,
    "start_time": "2021-06-12T15:23:39.356Z"
   },
   {
    "duration": 27,
    "start_time": "2021-06-12T15:23:39.385Z"
   },
   {
    "duration": 11,
    "start_time": "2021-06-12T15:23:39.415Z"
   },
   {
    "duration": 49,
    "start_time": "2021-06-12T15:23:39.429Z"
   },
   {
    "duration": 31,
    "start_time": "2021-06-12T15:23:39.481Z"
   },
   {
    "duration": 24,
    "start_time": "2021-06-12T15:23:39.515Z"
   },
   {
    "duration": 16,
    "start_time": "2021-06-12T15:23:39.541Z"
   },
   {
    "duration": 56,
    "start_time": "2021-06-12T15:23:39.559Z"
   },
   {
    "duration": 11,
    "start_time": "2021-06-12T15:23:39.618Z"
   },
   {
    "duration": 39,
    "start_time": "2021-06-12T15:23:39.631Z"
   },
   {
    "duration": 302,
    "start_time": "2021-06-12T15:23:39.672Z"
   },
   {
    "duration": 14,
    "start_time": "2021-06-12T15:23:39.977Z"
   },
   {
    "duration": 13,
    "start_time": "2021-06-12T15:23:40.009Z"
   },
   {
    "duration": 14,
    "start_time": "2021-06-12T15:23:40.025Z"
   },
   {
    "duration": 12,
    "start_time": "2021-06-12T15:23:40.042Z"
   },
   {
    "duration": 7,
    "start_time": "2021-06-12T15:23:40.056Z"
   },
   {
    "duration": 304,
    "start_time": "2021-06-12T15:23:40.065Z"
   },
   {
    "duration": 38,
    "start_time": "2021-06-12T15:23:40.372Z"
   },
   {
    "duration": 5,
    "start_time": "2021-06-12T15:23:40.412Z"
   },
   {
    "duration": 264,
    "start_time": "2021-06-12T15:24:46.676Z"
   },
   {
    "duration": 266,
    "start_time": "2021-06-12T15:24:53.936Z"
   },
   {
    "duration": 267,
    "start_time": "2021-06-12T15:27:17.988Z"
   },
   {
    "duration": 423,
    "start_time": "2021-06-12T15:27:33.873Z"
   },
   {
    "duration": 272,
    "start_time": "2021-06-12T15:27:42.109Z"
   },
   {
    "duration": 271,
    "start_time": "2021-06-12T15:31:04.024Z"
   },
   {
    "duration": 389,
    "start_time": "2021-06-12T15:31:22.496Z"
   },
   {
    "duration": 407,
    "start_time": "2021-06-12T15:31:46.255Z"
   },
   {
    "duration": 271,
    "start_time": "2021-06-12T15:59:59.091Z"
   },
   {
    "duration": 274,
    "start_time": "2021-06-12T16:02:38.016Z"
   },
   {
    "duration": 277,
    "start_time": "2021-06-12T16:03:45.336Z"
   },
   {
    "duration": 273,
    "start_time": "2021-06-12T16:04:22.200Z"
   },
   {
    "duration": 394,
    "start_time": "2021-06-12T16:04:33.577Z"
   },
   {
    "duration": 275,
    "start_time": "2021-06-12T16:05:04.341Z"
   },
   {
    "duration": 274,
    "start_time": "2021-06-12T16:05:46.464Z"
   },
   {
    "duration": 273,
    "start_time": "2021-06-12T16:06:00.384Z"
   },
   {
    "duration": 264,
    "start_time": "2021-06-12T16:07:20.124Z"
   },
   {
    "duration": 265,
    "start_time": "2021-06-12T16:46:39.399Z"
   },
   {
    "duration": 330,
    "start_time": "2021-06-12T16:46:52.052Z"
   },
   {
    "duration": 390,
    "start_time": "2021-06-12T16:48:58.764Z"
   },
   {
    "duration": 273,
    "start_time": "2021-06-12T16:49:09.596Z"
   },
   {
    "duration": 25,
    "start_time": "2021-06-12T16:57:49.032Z"
   },
   {
    "duration": 31,
    "start_time": "2021-06-12T16:57:53.100Z"
   },
   {
    "duration": 17,
    "start_time": "2021-06-12T16:58:26.988Z"
   },
   {
    "duration": 31,
    "start_time": "2021-06-12T16:58:31.566Z"
   },
   {
    "duration": 10,
    "start_time": "2021-06-12T16:59:20.259Z"
   },
   {
    "duration": 17,
    "start_time": "2021-06-12T17:02:12.848Z"
   },
   {
    "duration": 30,
    "start_time": "2021-06-12T17:02:15.398Z"
   },
   {
    "duration": 10,
    "start_time": "2021-06-12T17:02:22.517Z"
   },
   {
    "duration": 10,
    "start_time": "2021-06-12T17:14:00.368Z"
   },
   {
    "duration": 12,
    "start_time": "2021-06-12T18:12:41.006Z"
   },
   {
    "duration": 13,
    "start_time": "2021-06-12T18:13:50.799Z"
   },
   {
    "duration": 13,
    "start_time": "2021-06-12T18:14:01.717Z"
   },
   {
    "duration": 21,
    "start_time": "2021-06-12T18:16:38.197Z"
   },
   {
    "duration": 15,
    "start_time": "2021-06-12T18:17:57.330Z"
   },
   {
    "duration": 12,
    "start_time": "2021-06-12T18:18:48.328Z"
   },
   {
    "duration": 17,
    "start_time": "2021-06-12T18:19:53.628Z"
   },
   {
    "duration": 10,
    "start_time": "2021-06-12T18:19:55.343Z"
   },
   {
    "duration": 101,
    "start_time": "2021-06-12T18:20:04.198Z"
   },
   {
    "duration": 17,
    "start_time": "2021-06-12T18:20:04.301Z"
   },
   {
    "duration": 12,
    "start_time": "2021-06-12T18:20:04.321Z"
   },
   {
    "duration": 6,
    "start_time": "2021-06-12T18:20:04.336Z"
   },
   {
    "duration": 8,
    "start_time": "2021-06-12T18:20:04.344Z"
   },
   {
    "duration": 61,
    "start_time": "2021-06-12T18:20:04.355Z"
   },
   {
    "duration": 20,
    "start_time": "2021-06-12T18:20:04.419Z"
   },
   {
    "duration": 10,
    "start_time": "2021-06-12T18:20:04.442Z"
   },
   {
    "duration": 17,
    "start_time": "2021-06-12T18:20:04.456Z"
   },
   {
    "duration": 43,
    "start_time": "2021-06-12T18:20:04.476Z"
   },
   {
    "duration": 17,
    "start_time": "2021-06-12T18:20:04.522Z"
   },
   {
    "duration": 10,
    "start_time": "2021-06-12T18:20:04.541Z"
   },
   {
    "duration": 19,
    "start_time": "2021-06-12T18:20:04.554Z"
   },
   {
    "duration": 39,
    "start_time": "2021-06-12T18:20:04.577Z"
   },
   {
    "duration": 18,
    "start_time": "2021-06-12T18:20:04.619Z"
   },
   {
    "duration": 10,
    "start_time": "2021-06-12T18:20:04.639Z"
   },
   {
    "duration": 73,
    "start_time": "2021-06-12T18:20:04.651Z"
   },
   {
    "duration": 9,
    "start_time": "2021-06-12T18:20:04.727Z"
   },
   {
    "duration": 30,
    "start_time": "2021-06-12T18:20:04.739Z"
   },
   {
    "duration": 43,
    "start_time": "2021-06-12T18:20:04.772Z"
   },
   {
    "duration": 4803,
    "start_time": "2021-06-12T18:20:04.820Z"
   },
   {
    "duration": 28,
    "start_time": "2021-06-12T18:20:09.627Z"
   },
   {
    "duration": 63,
    "start_time": "2021-06-12T18:20:09.658Z"
   },
   {
    "duration": 4,
    "start_time": "2021-06-12T18:20:09.724Z"
   },
   {
    "duration": 31,
    "start_time": "2021-06-12T18:20:09.730Z"
   },
   {
    "duration": 46,
    "start_time": "2021-06-12T18:20:09.763Z"
   },
   {
    "duration": 10,
    "start_time": "2021-06-12T18:20:09.812Z"
   },
   {
    "duration": 11,
    "start_time": "2021-06-12T18:20:09.824Z"
   },
   {
    "duration": 11,
    "start_time": "2021-06-12T18:20:09.838Z"
   },
   {
    "duration": 12,
    "start_time": "2021-06-12T18:20:09.851Z"
   },
   {
    "duration": 65,
    "start_time": "2021-06-12T18:20:09.866Z"
   },
   {
    "duration": 18,
    "start_time": "2021-06-12T18:20:09.934Z"
   },
   {
    "duration": 12,
    "start_time": "2021-06-12T18:20:09.954Z"
   },
   {
    "duration": 41,
    "start_time": "2021-06-12T18:20:09.968Z"
   },
   {
    "duration": 49,
    "start_time": "2021-06-12T18:20:10.011Z"
   },
   {
    "duration": 6,
    "start_time": "2021-06-12T18:20:10.063Z"
   },
   {
    "duration": 322,
    "start_time": "2021-06-12T18:20:10.072Z"
   },
   {
    "duration": 21,
    "start_time": "2021-06-12T18:20:10.396Z"
   },
   {
    "duration": 33,
    "start_time": "2021-06-12T18:20:10.420Z"
   },
   {
    "duration": 15,
    "start_time": "2021-06-12T18:20:10.455Z"
   },
   {
    "duration": 10,
    "start_time": "2021-06-12T18:20:10.473Z"
   },
   {
    "duration": 19,
    "start_time": "2021-06-12T18:20:10.509Z"
   },
   {
    "duration": 16,
    "start_time": "2021-06-12T18:20:10.531Z"
   },
   {
    "duration": 12,
    "start_time": "2021-06-12T18:20:10.552Z"
   },
   {
    "duration": 56,
    "start_time": "2021-06-12T18:20:10.566Z"
   },
   {
    "duration": 10,
    "start_time": "2021-06-12T18:20:10.625Z"
   },
   {
    "duration": 8,
    "start_time": "2021-06-12T18:20:10.638Z"
   },
   {
    "duration": 21,
    "start_time": "2021-06-12T18:20:10.648Z"
   },
   {
    "duration": 287,
    "start_time": "2021-06-12T18:20:10.671Z"
   },
   {
    "duration": 22,
    "start_time": "2021-06-12T18:20:10.960Z"
   },
   {
    "duration": 4,
    "start_time": "2021-06-12T18:20:10.985Z"
   },
   {
    "duration": 17,
    "start_time": "2021-06-12T18:20:31.033Z"
   },
   {
    "duration": 13,
    "start_time": "2021-06-12T18:20:51.894Z"
   },
   {
    "duration": 12,
    "start_time": "2021-06-12T18:20:54.806Z"
   },
   {
    "duration": 18,
    "start_time": "2021-06-12T18:21:25.819Z"
   },
   {
    "duration": 11,
    "start_time": "2021-06-12T18:21:30.271Z"
   },
   {
    "duration": 8,
    "start_time": "2021-06-12T18:21:35.064Z"
   },
   {
    "duration": 5,
    "start_time": "2021-06-12T18:21:38.225Z"
   },
   {
    "duration": 5,
    "start_time": "2021-06-12T18:21:47.768Z"
   },
   {
    "duration": 5,
    "start_time": "2021-06-12T18:22:16.212Z"
   },
   {
    "duration": 270,
    "start_time": "2021-06-12T18:22:21.000Z"
   },
   {
    "duration": 22,
    "start_time": "2021-06-12T18:22:55.924Z"
   },
   {
    "duration": 5,
    "start_time": "2021-06-12T18:23:00.080Z"
   },
   {
    "duration": 15,
    "start_time": "2021-06-12T18:23:48.707Z"
   },
   {
    "duration": 9,
    "start_time": "2021-06-12T18:24:31.422Z"
   },
   {
    "duration": 7,
    "start_time": "2021-06-12T18:25:32.170Z"
   },
   {
    "duration": 5,
    "start_time": "2021-06-12T18:27:46.512Z"
   },
   {
    "duration": 5,
    "start_time": "2021-06-12T18:29:00.192Z"
   },
   {
    "duration": 225,
    "start_time": "2021-06-12T18:29:02.360Z"
   },
   {
    "duration": 5,
    "start_time": "2021-06-12T18:29:46.132Z"
   },
   {
    "duration": 251,
    "start_time": "2021-06-12T18:29:48.714Z"
   },
   {
    "duration": 9,
    "start_time": "2021-06-12T18:31:07.393Z"
   },
   {
    "duration": 23,
    "start_time": "2021-06-12T18:31:24.626Z"
   },
   {
    "duration": 8,
    "start_time": "2021-06-12T18:31:26.400Z"
   },
   {
    "duration": 16,
    "start_time": "2021-06-12T18:32:02.136Z"
   },
   {
    "duration": 24,
    "start_time": "2021-06-12T18:33:42.559Z"
   },
   {
    "duration": 14,
    "start_time": "2021-06-12T20:15:26.092Z"
   },
   {
    "duration": 11,
    "start_time": "2021-06-12T20:17:55.301Z"
   },
   {
    "duration": 22,
    "start_time": "2021-06-12T20:20:47.277Z"
   },
   {
    "duration": 16,
    "start_time": "2021-06-12T20:26:15.390Z"
   },
   {
    "duration": 18,
    "start_time": "2021-06-12T20:26:26.286Z"
   },
   {
    "duration": 11,
    "start_time": "2021-06-12T20:27:00.962Z"
   },
   {
    "duration": 25,
    "start_time": "2021-06-12T20:27:02.982Z"
   },
   {
    "duration": 11,
    "start_time": "2021-06-12T20:32:49.409Z"
   },
   {
    "duration": 97,
    "start_time": "2021-06-12T20:33:23.683Z"
   },
   {
    "duration": 29,
    "start_time": "2021-06-12T20:33:23.782Z"
   },
   {
    "duration": 11,
    "start_time": "2021-06-12T20:33:23.814Z"
   },
   {
    "duration": 6,
    "start_time": "2021-06-12T20:33:23.828Z"
   },
   {
    "duration": 34,
    "start_time": "2021-06-12T20:33:23.836Z"
   },
   {
    "duration": 31,
    "start_time": "2021-06-12T20:33:23.872Z"
   },
   {
    "duration": 13,
    "start_time": "2021-06-12T20:33:23.905Z"
   },
   {
    "duration": 24,
    "start_time": "2021-06-12T20:33:23.923Z"
   },
   {
    "duration": 16,
    "start_time": "2021-06-12T20:33:23.950Z"
   },
   {
    "duration": 11,
    "start_time": "2021-06-12T20:33:23.970Z"
   },
   {
    "duration": 11,
    "start_time": "2021-06-12T20:33:24.010Z"
   },
   {
    "duration": 13,
    "start_time": "2021-06-12T20:33:24.023Z"
   },
   {
    "duration": 13,
    "start_time": "2021-06-12T20:33:24.038Z"
   },
   {
    "duration": 56,
    "start_time": "2021-06-12T20:33:24.056Z"
   },
   {
    "duration": 18,
    "start_time": "2021-06-12T20:33:24.116Z"
   },
   {
    "duration": 18,
    "start_time": "2021-06-12T20:33:24.136Z"
   },
   {
    "duration": 54,
    "start_time": "2021-06-12T20:33:24.157Z"
   },
   {
    "duration": 27,
    "start_time": "2021-06-12T20:33:24.213Z"
   },
   {
    "duration": 33,
    "start_time": "2021-06-12T20:33:24.242Z"
   },
   {
    "duration": 23,
    "start_time": "2021-06-12T20:33:24.277Z"
   },
   {
    "duration": 4719,
    "start_time": "2021-06-12T20:33:24.302Z"
   },
   {
    "duration": 26,
    "start_time": "2021-06-12T20:33:29.023Z"
   },
   {
    "duration": 61,
    "start_time": "2021-06-12T20:33:29.051Z"
   },
   {
    "duration": 31,
    "start_time": "2021-06-12T20:33:29.116Z"
   },
   {
    "duration": 75,
    "start_time": "2021-06-12T20:33:29.150Z"
   },
   {
    "duration": 43,
    "start_time": "2021-06-12T20:33:29.228Z"
   },
   {
    "duration": 44,
    "start_time": "2021-06-12T20:33:29.273Z"
   },
   {
    "duration": 28,
    "start_time": "2021-06-12T20:33:29.319Z"
   },
   {
    "duration": 47,
    "start_time": "2021-06-12T20:33:29.349Z"
   },
   {
    "duration": 46,
    "start_time": "2021-06-12T20:33:29.399Z"
   },
   {
    "duration": 56,
    "start_time": "2021-06-12T20:33:29.447Z"
   },
   {
    "duration": 43,
    "start_time": "2021-06-12T20:33:29.506Z"
   },
   {
    "duration": 30,
    "start_time": "2021-06-12T20:33:29.551Z"
   },
   {
    "duration": 44,
    "start_time": "2021-06-12T20:33:29.584Z"
   },
   {
    "duration": 73,
    "start_time": "2021-06-12T20:33:29.630Z"
   },
   {
    "duration": 6,
    "start_time": "2021-06-12T20:33:29.705Z"
   },
   {
    "duration": 309,
    "start_time": "2021-06-12T20:33:29.713Z"
   },
   {
    "duration": 16,
    "start_time": "2021-06-12T20:33:30.024Z"
   },
   {
    "duration": 52,
    "start_time": "2021-06-12T20:33:30.042Z"
   },
   {
    "duration": 30,
    "start_time": "2021-06-12T20:33:30.096Z"
   },
   {
    "duration": 38,
    "start_time": "2021-06-12T20:33:30.129Z"
   },
   {
    "duration": 36,
    "start_time": "2021-06-12T20:33:30.172Z"
   },
   {
    "duration": 25,
    "start_time": "2021-06-12T20:33:30.211Z"
   },
   {
    "duration": 65,
    "start_time": "2021-06-12T20:33:30.239Z"
   },
   {
    "duration": 15,
    "start_time": "2021-06-12T20:33:30.306Z"
   },
   {
    "duration": 62,
    "start_time": "2021-06-12T20:33:30.323Z"
   },
   {
    "duration": 37,
    "start_time": "2021-06-12T20:33:30.388Z"
   },
   {
    "duration": 71,
    "start_time": "2021-06-12T20:33:30.427Z"
   },
   {
    "duration": 374,
    "start_time": "2021-06-12T20:33:30.500Z"
   },
   {
    "duration": -92,
    "start_time": "2021-06-12T20:33:30.968Z"
   },
   {
    "duration": -94,
    "start_time": "2021-06-12T20:33:30.971Z"
   },
   {
    "duration": -97,
    "start_time": "2021-06-12T20:33:30.975Z"
   },
   {
    "duration": -98,
    "start_time": "2021-06-12T20:33:30.978Z"
   },
   {
    "duration": -102,
    "start_time": "2021-06-12T20:33:30.983Z"
   },
   {
    "duration": -105,
    "start_time": "2021-06-12T20:33:30.987Z"
   },
   {
    "duration": -107,
    "start_time": "2021-06-12T20:33:30.990Z"
   },
   {
    "duration": -109,
    "start_time": "2021-06-12T20:33:30.994Z"
   },
   {
    "duration": -111,
    "start_time": "2021-06-12T20:33:30.997Z"
   },
   {
    "duration": -113,
    "start_time": "2021-06-12T20:33:31.000Z"
   },
   {
    "duration": 95,
    "start_time": "2021-06-12T20:33:51.344Z"
   },
   {
    "duration": 13,
    "start_time": "2021-06-12T20:33:51.442Z"
   },
   {
    "duration": 85,
    "start_time": "2021-06-12T20:33:51.458Z"
   },
   {
    "duration": 42,
    "start_time": "2021-06-12T20:33:51.546Z"
   },
   {
    "duration": 31,
    "start_time": "2021-06-12T20:33:51.590Z"
   },
   {
    "duration": 40,
    "start_time": "2021-06-12T20:33:51.623Z"
   },
   {
    "duration": 29,
    "start_time": "2021-06-12T20:33:51.666Z"
   },
   {
    "duration": 37,
    "start_time": "2021-06-12T20:33:51.698Z"
   },
   {
    "duration": 12,
    "start_time": "2021-06-12T20:33:51.738Z"
   },
   {
    "duration": 21,
    "start_time": "2021-06-12T20:33:51.752Z"
   },
   {
    "duration": 30,
    "start_time": "2021-06-12T20:33:51.776Z"
   },
   {
    "duration": 31,
    "start_time": "2021-06-12T20:33:51.809Z"
   },
   {
    "duration": 25,
    "start_time": "2021-06-12T20:33:51.842Z"
   },
   {
    "duration": 18,
    "start_time": "2021-06-12T20:33:51.869Z"
   },
   {
    "duration": 36,
    "start_time": "2021-06-12T20:33:51.889Z"
   },
   {
    "duration": 11,
    "start_time": "2021-06-12T20:33:51.928Z"
   },
   {
    "duration": 47,
    "start_time": "2021-06-12T20:33:51.942Z"
   },
   {
    "duration": 25,
    "start_time": "2021-06-12T20:33:51.992Z"
   },
   {
    "duration": 64,
    "start_time": "2021-06-12T20:33:52.019Z"
   },
   {
    "duration": 29,
    "start_time": "2021-06-12T20:33:52.086Z"
   },
   {
    "duration": 4644,
    "start_time": "2021-06-12T20:33:52.118Z"
   },
   {
    "duration": 51,
    "start_time": "2021-06-12T20:33:56.766Z"
   },
   {
    "duration": 69,
    "start_time": "2021-06-12T20:33:56.828Z"
   },
   {
    "duration": 30,
    "start_time": "2021-06-12T20:33:56.901Z"
   },
   {
    "duration": 60,
    "start_time": "2021-06-12T20:33:56.933Z"
   },
   {
    "duration": 69,
    "start_time": "2021-06-12T20:33:56.995Z"
   },
   {
    "duration": 45,
    "start_time": "2021-06-12T20:33:57.066Z"
   },
   {
    "duration": 63,
    "start_time": "2021-06-12T20:33:57.114Z"
   },
   {
    "duration": 61,
    "start_time": "2021-06-12T20:33:57.180Z"
   },
   {
    "duration": 68,
    "start_time": "2021-06-12T20:33:57.244Z"
   },
   {
    "duration": 65,
    "start_time": "2021-06-12T20:33:57.315Z"
   },
   {
    "duration": 40,
    "start_time": "2021-06-12T20:33:57.383Z"
   },
   {
    "duration": 19,
    "start_time": "2021-06-12T20:33:57.425Z"
   },
   {
    "duration": 44,
    "start_time": "2021-06-12T20:33:57.446Z"
   },
   {
    "duration": 68,
    "start_time": "2021-06-12T20:33:57.492Z"
   },
   {
    "duration": 6,
    "start_time": "2021-06-12T20:33:57.562Z"
   },
   {
    "duration": 327,
    "start_time": "2021-06-12T20:33:57.571Z"
   },
   {
    "duration": 22,
    "start_time": "2021-06-12T20:33:57.902Z"
   },
   {
    "duration": 67,
    "start_time": "2021-06-12T20:33:57.927Z"
   },
   {
    "duration": 26,
    "start_time": "2021-06-12T20:33:57.996Z"
   },
   {
    "duration": 37,
    "start_time": "2021-06-12T20:33:58.025Z"
   },
   {
    "duration": 54,
    "start_time": "2021-06-12T20:33:58.064Z"
   },
   {
    "duration": 30,
    "start_time": "2021-06-12T20:33:58.121Z"
   },
   {
    "duration": 44,
    "start_time": "2021-06-12T20:33:58.154Z"
   },
   {
    "duration": 15,
    "start_time": "2021-06-12T20:33:58.200Z"
   },
   {
    "duration": 48,
    "start_time": "2021-06-12T20:33:58.217Z"
   },
   {
    "duration": 40,
    "start_time": "2021-06-12T20:33:58.268Z"
   },
   {
    "duration": 14,
    "start_time": "2021-06-12T20:33:58.310Z"
   },
   {
    "duration": 7,
    "start_time": "2021-06-12T20:33:58.326Z"
   },
   {
    "duration": 31,
    "start_time": "2021-06-12T20:33:58.336Z"
   },
   {
    "duration": 263,
    "start_time": "2021-06-12T20:33:58.370Z"
   },
   {
    "duration": 33,
    "start_time": "2021-06-12T20:33:58.636Z"
   },
   {
    "duration": 13,
    "start_time": "2021-06-12T20:33:58.672Z"
   },
   {
    "duration": 32,
    "start_time": "2021-06-12T20:33:58.687Z"
   },
   {
    "duration": 10,
    "start_time": "2021-06-12T20:33:58.721Z"
   },
   {
    "duration": 13,
    "start_time": "2021-06-12T20:33:58.733Z"
   },
   {
    "duration": 13,
    "start_time": "2021-06-12T20:33:58.748Z"
   },
   {
    "duration": 319,
    "start_time": "2021-06-12T20:33:58.763Z"
   },
   {
    "duration": 34,
    "start_time": "2021-06-12T20:33:59.084Z"
   },
   {
    "duration": 4,
    "start_time": "2021-06-12T20:36:00.520Z"
   },
   {
    "duration": 283,
    "start_time": "2021-06-12T20:37:06.016Z"
   },
   {
    "duration": 29,
    "start_time": "2021-06-12T20:39:30.155Z"
   },
   {
    "duration": 11,
    "start_time": "2021-06-12T20:44:02.655Z"
   },
   {
    "duration": 16,
    "start_time": "2021-06-12T20:45:09.552Z"
   },
   {
    "duration": 10,
    "start_time": "2021-06-12T20:46:38.017Z"
   },
   {
    "duration": 8,
    "start_time": "2021-06-12T20:47:23.477Z"
   },
   {
    "duration": 5,
    "start_time": "2021-06-12T20:48:59.790Z"
   },
   {
    "duration": 351,
    "start_time": "2021-06-12T20:50:13.756Z"
   },
   {
    "duration": 5,
    "start_time": "2021-06-12T20:50:21.273Z"
   },
   {
    "duration": 255,
    "start_time": "2021-06-12T20:50:23.565Z"
   },
   {
    "duration": 24,
    "start_time": "2021-06-12T20:51:15.781Z"
   },
   {
    "duration": 1048,
    "start_time": "2021-06-13T19:35:42.211Z"
   },
   {
    "duration": 429,
    "start_time": "2021-06-13T19:35:47.488Z"
   },
   {
    "duration": 15,
    "start_time": "2021-06-13T19:35:47.920Z"
   },
   {
    "duration": 34,
    "start_time": "2021-06-13T19:35:47.939Z"
   },
   {
    "duration": 8,
    "start_time": "2021-06-13T19:35:47.976Z"
   },
   {
    "duration": 6,
    "start_time": "2021-06-13T19:35:47.987Z"
   },
   {
    "duration": 13,
    "start_time": "2021-06-13T19:35:47.996Z"
   },
   {
    "duration": 58,
    "start_time": "2021-06-13T19:35:48.012Z"
   },
   {
    "duration": 7,
    "start_time": "2021-06-13T19:35:48.074Z"
   },
   {
    "duration": 11,
    "start_time": "2021-06-13T19:35:48.085Z"
   },
   {
    "duration": 10,
    "start_time": "2021-06-13T19:35:48.098Z"
   },
   {
    "duration": 54,
    "start_time": "2021-06-13T19:35:48.111Z"
   },
   {
    "duration": 11,
    "start_time": "2021-06-13T19:35:48.168Z"
   },
   {
    "duration": 14,
    "start_time": "2021-06-13T19:35:48.182Z"
   },
   {
    "duration": 10,
    "start_time": "2021-06-13T19:35:48.199Z"
   },
   {
    "duration": 67,
    "start_time": "2021-06-13T19:35:48.212Z"
   },
   {
    "duration": 10,
    "start_time": "2021-06-13T19:35:48.282Z"
   },
   {
    "duration": 26,
    "start_time": "2021-06-13T19:35:48.295Z"
   },
   {
    "duration": 48,
    "start_time": "2021-06-13T19:35:48.324Z"
   },
   {
    "duration": 31,
    "start_time": "2021-06-13T19:35:48.375Z"
   },
   {
    "duration": 10,
    "start_time": "2021-06-13T19:35:48.409Z"
   },
   {
    "duration": 4674,
    "start_time": "2021-06-13T19:35:48.421Z"
   },
   {
    "duration": 27,
    "start_time": "2021-06-13T19:35:53.097Z"
   },
   {
    "duration": 52,
    "start_time": "2021-06-13T19:35:53.131Z"
   },
   {
    "duration": 8,
    "start_time": "2021-06-13T19:35:53.187Z"
   },
   {
    "duration": 40,
    "start_time": "2021-06-13T19:35:53.198Z"
   },
   {
    "duration": 59,
    "start_time": "2021-06-13T19:35:53.241Z"
   },
   {
    "duration": 17,
    "start_time": "2021-06-13T19:35:53.303Z"
   },
   {
    "duration": 39,
    "start_time": "2021-06-13T19:35:53.323Z"
   },
   {
    "duration": 11,
    "start_time": "2021-06-13T19:35:53.365Z"
   },
   {
    "duration": 16,
    "start_time": "2021-06-13T19:35:53.379Z"
   },
   {
    "duration": 67,
    "start_time": "2021-06-13T19:35:53.398Z"
   },
   {
    "duration": 16,
    "start_time": "2021-06-13T19:35:53.468Z"
   },
   {
    "duration": 13,
    "start_time": "2021-06-13T19:35:53.487Z"
   },
   {
    "duration": 15,
    "start_time": "2021-06-13T19:35:53.503Z"
   },
   {
    "duration": 102,
    "start_time": "2021-06-13T19:35:53.521Z"
   },
   {
    "duration": 7,
    "start_time": "2021-06-13T19:35:53.626Z"
   },
   {
    "duration": 390,
    "start_time": "2021-06-13T19:35:53.636Z"
   },
   {
    "duration": 15,
    "start_time": "2021-06-13T19:35:54.013Z"
   },
   {
    "duration": 13,
    "start_time": "2021-06-13T19:35:54.017Z"
   },
   {
    "duration": 11,
    "start_time": "2021-06-13T19:35:54.020Z"
   },
   {
    "duration": -9,
    "start_time": "2021-06-13T19:35:54.042Z"
   },
   {
    "duration": -10,
    "start_time": "2021-06-13T19:35:54.045Z"
   },
   {
    "duration": -13,
    "start_time": "2021-06-13T19:35:54.049Z"
   },
   {
    "duration": -15,
    "start_time": "2021-06-13T19:35:54.052Z"
   },
   {
    "duration": -17,
    "start_time": "2021-06-13T19:35:54.056Z"
   },
   {
    "duration": -19,
    "start_time": "2021-06-13T19:35:54.059Z"
   },
   {
    "duration": -20,
    "start_time": "2021-06-13T19:35:54.062Z"
   },
   {
    "duration": -21,
    "start_time": "2021-06-13T19:35:54.065Z"
   },
   {
    "duration": -24,
    "start_time": "2021-06-13T19:35:54.069Z"
   },
   {
    "duration": -27,
    "start_time": "2021-06-13T19:35:54.073Z"
   },
   {
    "duration": -29,
    "start_time": "2021-06-13T19:35:54.077Z"
   },
   {
    "duration": -37,
    "start_time": "2021-06-13T19:35:54.087Z"
   },
   {
    "duration": -40,
    "start_time": "2021-06-13T19:35:54.091Z"
   },
   {
    "duration": -42,
    "start_time": "2021-06-13T19:35:54.094Z"
   },
   {
    "duration": -43,
    "start_time": "2021-06-13T19:35:54.097Z"
   },
   {
    "duration": -45,
    "start_time": "2021-06-13T19:35:54.100Z"
   },
   {
    "duration": -65,
    "start_time": "2021-06-13T19:35:54.122Z"
   },
   {
    "duration": -95,
    "start_time": "2021-06-13T19:35:54.153Z"
   },
   {
    "duration": -97,
    "start_time": "2021-06-13T19:35:54.157Z"
   },
   {
    "duration": -99,
    "start_time": "2021-06-13T19:35:54.160Z"
   },
   {
    "duration": -100,
    "start_time": "2021-06-13T19:35:54.163Z"
   },
   {
    "duration": -102,
    "start_time": "2021-06-13T19:35:54.166Z"
   },
   {
    "duration": -105,
    "start_time": "2021-06-13T19:35:54.170Z"
   },
   {
    "duration": -107,
    "start_time": "2021-06-13T19:35:54.174Z"
   },
   {
    "duration": -110,
    "start_time": "2021-06-13T19:35:54.178Z"
   },
   {
    "duration": -112,
    "start_time": "2021-06-13T19:35:54.182Z"
   },
   {
    "duration": -115,
    "start_time": "2021-06-13T19:35:54.186Z"
   },
   {
    "duration": -121,
    "start_time": "2021-06-13T19:35:54.194Z"
   },
   {
    "duration": -124,
    "start_time": "2021-06-13T19:35:54.198Z"
   },
   {
    "duration": 322,
    "start_time": "2021-06-13T19:45:27.976Z"
   },
   {
    "duration": 479,
    "start_time": "2021-06-13T19:48:03.009Z"
   },
   {
    "duration": 493,
    "start_time": "2021-06-13T19:48:18.049Z"
   },
   {
    "duration": 319,
    "start_time": "2021-06-13T19:48:27.674Z"
   },
   {
    "duration": 350,
    "start_time": "2021-06-13T19:55:43.147Z"
   },
   {
    "duration": 309,
    "start_time": "2021-06-13T19:56:16.933Z"
   },
   {
    "duration": 672,
    "start_time": "2021-06-13T19:59:35.041Z"
   },
   {
    "duration": 1375,
    "start_time": "2021-06-13T20:00:35.475Z"
   },
   {
    "duration": 627,
    "start_time": "2021-06-13T20:03:03.031Z"
   },
   {
    "duration": 626,
    "start_time": "2021-06-13T20:05:12.773Z"
   },
   {
    "duration": 316,
    "start_time": "2021-06-13T20:07:06.802Z"
   },
   {
    "duration": 660,
    "start_time": "2021-06-13T20:07:24.649Z"
   },
   {
    "duration": 714,
    "start_time": "2021-06-13T20:08:31.779Z"
   },
   {
    "duration": 375,
    "start_time": "2021-06-13T20:08:57.732Z"
   },
   {
    "duration": 340,
    "start_time": "2021-06-13T20:09:08.337Z"
   },
   {
    "duration": 349,
    "start_time": "2021-06-13T20:09:14.124Z"
   },
   {
    "duration": 304,
    "start_time": "2021-06-13T21:02:08.758Z"
   },
   {
    "duration": 29,
    "start_time": "2021-06-13T21:05:16.757Z"
   },
   {
    "duration": 16,
    "start_time": "2021-06-13T21:05:19.931Z"
   },
   {
    "duration": 94,
    "start_time": "2021-06-13T21:05:25.717Z"
   },
   {
    "duration": 13,
    "start_time": "2021-06-13T21:05:25.814Z"
   },
   {
    "duration": 47,
    "start_time": "2021-06-13T21:05:25.830Z"
   },
   {
    "duration": 13,
    "start_time": "2021-06-13T21:05:25.880Z"
   },
   {
    "duration": 14,
    "start_time": "2021-06-13T21:05:25.896Z"
   },
   {
    "duration": 55,
    "start_time": "2021-06-13T21:05:25.913Z"
   },
   {
    "duration": 12,
    "start_time": "2021-06-13T21:05:25.970Z"
   },
   {
    "duration": 17,
    "start_time": "2021-06-13T21:05:25.986Z"
   },
   {
    "duration": 27,
    "start_time": "2021-06-13T21:05:26.006Z"
   },
   {
    "duration": 26,
    "start_time": "2021-06-13T21:05:26.035Z"
   },
   {
    "duration": 19,
    "start_time": "2021-06-13T21:05:26.064Z"
   },
   {
    "duration": 20,
    "start_time": "2021-06-13T21:05:26.086Z"
   },
   {
    "duration": 16,
    "start_time": "2021-06-13T21:05:26.109Z"
   },
   {
    "duration": 8,
    "start_time": "2021-06-13T21:05:26.128Z"
   },
   {
    "duration": 31,
    "start_time": "2021-06-13T21:05:26.138Z"
   },
   {
    "duration": 10,
    "start_time": "2021-06-13T21:05:26.171Z"
   },
   {
    "duration": 40,
    "start_time": "2021-06-13T21:05:26.183Z"
   },
   {
    "duration": 12,
    "start_time": "2021-06-13T21:05:26.227Z"
   },
   {
    "duration": 25,
    "start_time": "2021-06-13T21:05:26.263Z"
   },
   {
    "duration": 11,
    "start_time": "2021-06-13T21:05:26.291Z"
   },
   {
    "duration": 5419,
    "start_time": "2021-06-13T21:05:26.304Z"
   },
   {
    "duration": 40,
    "start_time": "2021-06-13T21:05:31.726Z"
   },
   {
    "duration": 39,
    "start_time": "2021-06-13T21:05:31.773Z"
   },
   {
    "duration": 4,
    "start_time": "2021-06-13T21:05:31.816Z"
   },
   {
    "duration": 55,
    "start_time": "2021-06-13T21:05:31.823Z"
   },
   {
    "duration": 28,
    "start_time": "2021-06-13T21:05:31.880Z"
   },
   {
    "duration": 11,
    "start_time": "2021-06-13T21:05:31.911Z"
   },
   {
    "duration": 41,
    "start_time": "2021-06-13T21:05:31.925Z"
   },
   {
    "duration": 14,
    "start_time": "2021-06-13T21:05:31.969Z"
   },
   {
    "duration": 11,
    "start_time": "2021-06-13T21:05:31.986Z"
   },
   {
    "duration": 33,
    "start_time": "2021-06-13T21:05:32.000Z"
   },
   {
    "duration": 35,
    "start_time": "2021-06-13T21:05:32.035Z"
   },
   {
    "duration": 10,
    "start_time": "2021-06-13T21:05:32.073Z"
   },
   {
    "duration": 13,
    "start_time": "2021-06-13T21:05:32.085Z"
   },
   {
    "duration": 96,
    "start_time": "2021-06-13T21:05:32.100Z"
   },
   {
    "duration": 7,
    "start_time": "2021-06-13T21:05:32.198Z"
   },
   {
    "duration": 336,
    "start_time": "2021-06-13T21:05:32.207Z"
   },
   {
    "duration": 25,
    "start_time": "2021-06-13T21:05:32.546Z"
   },
   {
    "duration": 35,
    "start_time": "2021-06-13T21:05:32.573Z"
   },
   {
    "duration": 10,
    "start_time": "2021-06-13T21:05:32.611Z"
   },
   {
    "duration": 40,
    "start_time": "2021-06-13T21:05:32.624Z"
   },
   {
    "duration": 21,
    "start_time": "2021-06-13T21:05:32.666Z"
   },
   {
    "duration": 7,
    "start_time": "2021-06-13T21:05:32.690Z"
   },
   {
    "duration": 65,
    "start_time": "2021-06-13T21:05:32.700Z"
   },
   {
    "duration": 11,
    "start_time": "2021-06-13T21:05:32.767Z"
   },
   {
    "duration": 5,
    "start_time": "2021-06-13T21:05:32.781Z"
   },
   {
    "duration": 949,
    "start_time": "2021-06-13T21:05:32.789Z"
   },
   {
    "duration": 34,
    "start_time": "2021-06-13T21:05:33.740Z"
   },
   {
    "duration": 11,
    "start_time": "2021-06-13T21:05:33.776Z"
   },
   {
    "duration": 23,
    "start_time": "2021-06-13T21:05:33.790Z"
   },
   {
    "duration": 50,
    "start_time": "2021-06-13T21:05:33.815Z"
   },
   {
    "duration": 6,
    "start_time": "2021-06-13T21:05:33.867Z"
   },
   {
    "duration": 6,
    "start_time": "2021-06-13T21:05:33.876Z"
   },
   {
    "duration": 272,
    "start_time": "2021-06-13T21:05:33.885Z"
   },
   {
    "duration": 26,
    "start_time": "2021-06-13T21:05:34.162Z"
   },
   {
    "duration": 12,
    "start_time": "2021-06-13T21:05:34.190Z"
   },
   {
    "duration": 19,
    "start_time": "2021-06-13T21:05:34.204Z"
   },
   {
    "duration": 47,
    "start_time": "2021-06-13T21:05:34.225Z"
   },
   {
    "duration": 6,
    "start_time": "2021-06-13T21:05:34.275Z"
   },
   {
    "duration": 6,
    "start_time": "2021-06-13T21:05:34.283Z"
   },
   {
    "duration": 302,
    "start_time": "2021-06-13T21:05:34.292Z"
   },
   {
    "duration": 28,
    "start_time": "2021-06-13T21:05:34.596Z"
   },
   {
    "duration": 38,
    "start_time": "2021-06-13T21:05:34.626Z"
   },
   {
    "duration": 18,
    "start_time": "2021-06-13T21:05:34.666Z"
   },
   {
    "duration": 9,
    "start_time": "2021-06-13T21:05:34.687Z"
   },
   {
    "duration": 6,
    "start_time": "2021-06-13T21:05:34.699Z"
   },
   {
    "duration": 6,
    "start_time": "2021-06-13T21:05:34.707Z"
   },
   {
    "duration": 284,
    "start_time": "2021-06-13T21:05:34.765Z"
   },
   {
    "duration": 28,
    "start_time": "2021-06-13T21:05:35.052Z"
   },
   {
    "duration": 14,
    "start_time": "2021-06-13T21:07:41.810Z"
   },
   {
    "duration": 8,
    "start_time": "2021-06-13T21:09:08.996Z"
   },
   {
    "duration": 13,
    "start_time": "2021-06-13T21:10:39.570Z"
   },
   {
    "duration": 12,
    "start_time": "2021-06-13T21:11:54.283Z"
   },
   {
    "duration": 21,
    "start_time": "2021-06-13T21:21:54.616Z"
   },
   {
    "duration": 5,
    "start_time": "2021-06-13T21:38:31.325Z"
   },
   {
    "duration": 104,
    "start_time": "2021-06-13T22:10:09.611Z"
   },
   {
    "duration": 11,
    "start_time": "2021-06-13T22:15:52.423Z"
   },
   {
    "duration": 379,
    "start_time": "2021-06-13T22:36:24.741Z"
   },
   {
    "duration": 440,
    "start_time": "2021-06-13T22:37:27.159Z"
   },
   {
    "duration": 356,
    "start_time": "2021-06-13T22:37:44.192Z"
   },
   {
    "duration": 5,
    "start_time": "2021-06-13T22:38:20.821Z"
   },
   {
    "duration": 247,
    "start_time": "2021-06-13T22:38:23.869Z"
   },
   {
    "duration": 335,
    "start_time": "2021-06-13T22:38:40.738Z"
   },
   {
    "duration": 336,
    "start_time": "2021-06-13T22:38:45.438Z"
   },
   {
    "duration": 330,
    "start_time": "2021-06-13T22:38:51.586Z"
   },
   {
    "duration": 353,
    "start_time": "2021-06-13T22:43:08.716Z"
   },
   {
    "duration": 132,
    "start_time": "2021-06-13T22:44:51.305Z"
   },
   {
    "duration": 24,
    "start_time": "2021-06-13T22:44:51.440Z"
   },
   {
    "duration": 11,
    "start_time": "2021-06-13T22:44:51.467Z"
   },
   {
    "duration": 7,
    "start_time": "2021-06-13T22:44:51.481Z"
   },
   {
    "duration": 9,
    "start_time": "2021-06-13T22:44:51.491Z"
   },
   {
    "duration": 64,
    "start_time": "2021-06-13T22:44:51.503Z"
   },
   {
    "duration": 13,
    "start_time": "2021-06-13T22:44:51.569Z"
   },
   {
    "duration": 9,
    "start_time": "2021-06-13T22:44:51.586Z"
   },
   {
    "duration": 14,
    "start_time": "2021-06-13T22:44:51.597Z"
   },
   {
    "duration": 50,
    "start_time": "2021-06-13T22:44:51.614Z"
   },
   {
    "duration": 12,
    "start_time": "2021-06-13T22:44:51.666Z"
   },
   {
    "duration": 19,
    "start_time": "2021-06-13T22:44:51.680Z"
   },
   {
    "duration": 19,
    "start_time": "2021-06-13T22:44:51.701Z"
   },
   {
    "duration": 44,
    "start_time": "2021-06-13T22:44:51.723Z"
   },
   {
    "duration": 16,
    "start_time": "2021-06-13T22:44:51.769Z"
   },
   {
    "duration": 9,
    "start_time": "2021-06-13T22:44:51.787Z"
   },
   {
    "duration": 28,
    "start_time": "2021-06-13T22:44:51.799Z"
   },
   {
    "duration": 39,
    "start_time": "2021-06-13T22:44:51.829Z"
   },
   {
    "duration": 41,
    "start_time": "2021-06-13T22:44:51.871Z"
   },
   {
    "duration": 47,
    "start_time": "2021-06-13T22:44:51.915Z"
   },
   {
    "duration": 5027,
    "start_time": "2021-06-13T22:44:51.966Z"
   },
   {
    "duration": 28,
    "start_time": "2021-06-13T22:44:56.996Z"
   },
   {
    "duration": 53,
    "start_time": "2021-06-13T22:44:57.030Z"
   },
   {
    "duration": 4,
    "start_time": "2021-06-13T22:44:57.087Z"
   },
   {
    "duration": 25,
    "start_time": "2021-06-13T22:44:57.094Z"
   },
   {
    "duration": 51,
    "start_time": "2021-06-13T22:44:57.121Z"
   },
   {
    "duration": 17,
    "start_time": "2021-06-13T22:44:57.176Z"
   },
   {
    "duration": 12,
    "start_time": "2021-06-13T22:44:57.196Z"
   },
   {
    "duration": 11,
    "start_time": "2021-06-13T22:44:57.210Z"
   },
   {
    "duration": 49,
    "start_time": "2021-06-13T22:44:57.224Z"
   },
   {
    "duration": 34,
    "start_time": "2021-06-13T22:44:57.275Z"
   },
   {
    "duration": 10,
    "start_time": "2021-06-13T22:44:57.313Z"
   },
   {
    "duration": 36,
    "start_time": "2021-06-13T22:44:57.326Z"
   },
   {
    "duration": 12,
    "start_time": "2021-06-13T22:44:57.364Z"
   },
   {
    "duration": 49,
    "start_time": "2021-06-13T22:44:57.378Z"
   },
   {
    "duration": 7,
    "start_time": "2021-06-13T22:44:57.461Z"
   },
   {
    "duration": 348,
    "start_time": "2021-06-13T22:44:57.471Z"
   },
   {
    "duration": -152,
    "start_time": "2021-06-13T22:44:57.973Z"
   },
   {
    "duration": -153,
    "start_time": "2021-06-13T22:44:57.976Z"
   },
   {
    "duration": -157,
    "start_time": "2021-06-13T22:44:57.981Z"
   },
   {
    "duration": -160,
    "start_time": "2021-06-13T22:44:57.986Z"
   },
   {
    "duration": -163,
    "start_time": "2021-06-13T22:44:57.990Z"
   },
   {
    "duration": -166,
    "start_time": "2021-06-13T22:44:57.995Z"
   },
   {
    "duration": -170,
    "start_time": "2021-06-13T22:44:58.001Z"
   },
   {
    "duration": -173,
    "start_time": "2021-06-13T22:44:58.005Z"
   },
   {
    "duration": -176,
    "start_time": "2021-06-13T22:44:58.009Z"
   },
   {
    "duration": -177,
    "start_time": "2021-06-13T22:44:58.012Z"
   },
   {
    "duration": -180,
    "start_time": "2021-06-13T22:44:58.016Z"
   },
   {
    "duration": -184,
    "start_time": "2021-06-13T22:44:58.021Z"
   },
   {
    "duration": -187,
    "start_time": "2021-06-13T22:44:58.025Z"
   },
   {
    "duration": -191,
    "start_time": "2021-06-13T22:44:58.031Z"
   },
   {
    "duration": -194,
    "start_time": "2021-06-13T22:44:58.035Z"
   },
   {
    "duration": -196,
    "start_time": "2021-06-13T22:44:58.039Z"
   },
   {
    "duration": -199,
    "start_time": "2021-06-13T22:44:58.043Z"
   },
   {
    "duration": -202,
    "start_time": "2021-06-13T22:44:58.047Z"
   },
   {
    "duration": -206,
    "start_time": "2021-06-13T22:44:58.052Z"
   },
   {
    "duration": -209,
    "start_time": "2021-06-13T22:44:58.057Z"
   },
   {
    "duration": -213,
    "start_time": "2021-06-13T22:44:58.062Z"
   },
   {
    "duration": -227,
    "start_time": "2021-06-13T22:44:58.078Z"
   },
   {
    "duration": -230,
    "start_time": "2021-06-13T22:44:58.082Z"
   },
   {
    "duration": -234,
    "start_time": "2021-06-13T22:44:58.087Z"
   },
   {
    "duration": -243,
    "start_time": "2021-06-13T22:44:58.098Z"
   },
   {
    "duration": -247,
    "start_time": "2021-06-13T22:44:58.103Z"
   },
   {
    "duration": -251,
    "start_time": "2021-06-13T22:44:58.108Z"
   },
   {
    "duration": -254,
    "start_time": "2021-06-13T22:44:58.112Z"
   },
   {
    "duration": -256,
    "start_time": "2021-06-13T22:44:58.117Z"
   },
   {
    "duration": -271,
    "start_time": "2021-06-13T22:44:58.134Z"
   },
   {
    "duration": -276,
    "start_time": "2021-06-13T22:44:58.140Z"
   },
   {
    "duration": -279,
    "start_time": "2021-06-13T22:44:58.144Z"
   },
   {
    "duration": 5317,
    "start_time": "2021-06-13T22:45:31.931Z"
   },
   {
    "duration": 923,
    "start_time": "2021-06-13T22:46:23.411Z"
   },
   {
    "duration": 27,
    "start_time": "2021-06-13T22:46:24.338Z"
   },
   {
    "duration": 29,
    "start_time": "2021-06-13T22:46:24.370Z"
   },
   {
    "duration": 8,
    "start_time": "2021-06-13T22:46:24.403Z"
   },
   {
    "duration": 13,
    "start_time": "2021-06-13T22:46:24.413Z"
   },
   {
    "duration": 42,
    "start_time": "2021-06-13T22:46:24.429Z"
   },
   {
    "duration": 18,
    "start_time": "2021-06-13T22:46:24.474Z"
   },
   {
    "duration": 10,
    "start_time": "2021-06-13T22:46:24.498Z"
   },
   {
    "duration": 14,
    "start_time": "2021-06-13T22:46:24.512Z"
   },
   {
    "duration": 14,
    "start_time": "2021-06-13T22:46:24.563Z"
   },
   {
    "duration": 17,
    "start_time": "2021-06-13T22:46:24.580Z"
   },
   {
    "duration": 17,
    "start_time": "2021-06-13T22:46:24.601Z"
   },
   {
    "duration": 41,
    "start_time": "2021-06-13T22:46:24.621Z"
   },
   {
    "duration": 11,
    "start_time": "2021-06-13T22:46:24.665Z"
   },
   {
    "duration": 35,
    "start_time": "2021-06-13T22:46:24.680Z"
   },
   {
    "duration": 13,
    "start_time": "2021-06-13T22:46:24.718Z"
   },
   {
    "duration": 51,
    "start_time": "2021-06-13T22:46:24.734Z"
   },
   {
    "duration": 15,
    "start_time": "2021-06-13T22:46:24.788Z"
   },
   {
    "duration": 35,
    "start_time": "2021-06-13T22:46:24.805Z"
   },
   {
    "duration": 29,
    "start_time": "2021-06-13T22:46:24.843Z"
   },
   {
    "duration": 4826,
    "start_time": "2021-06-13T22:46:24.876Z"
   },
   {
    "duration": 29,
    "start_time": "2021-06-13T22:46:29.705Z"
   },
   {
    "duration": 56,
    "start_time": "2021-06-13T22:46:29.740Z"
   },
   {
    "duration": 5,
    "start_time": "2021-06-13T22:46:29.801Z"
   },
   {
    "duration": 29,
    "start_time": "2021-06-13T22:46:29.808Z"
   },
   {
    "duration": 48,
    "start_time": "2021-06-13T22:46:29.839Z"
   },
   {
    "duration": 12,
    "start_time": "2021-06-13T22:46:29.890Z"
   },
   {
    "duration": 11,
    "start_time": "2021-06-13T22:46:29.905Z"
   },
   {
    "duration": 44,
    "start_time": "2021-06-13T22:46:29.919Z"
   },
   {
    "duration": 12,
    "start_time": "2021-06-13T22:46:29.966Z"
   },
   {
    "duration": 39,
    "start_time": "2021-06-13T22:46:29.980Z"
   },
   {
    "duration": 23,
    "start_time": "2021-06-13T22:46:30.022Z"
   },
   {
    "duration": 21,
    "start_time": "2021-06-13T22:46:30.048Z"
   },
   {
    "duration": 23,
    "start_time": "2021-06-13T22:46:30.072Z"
   },
   {
    "duration": 65,
    "start_time": "2021-06-13T22:46:30.097Z"
   },
   {
    "duration": 6,
    "start_time": "2021-06-13T22:46:30.164Z"
   },
   {
    "duration": 5456,
    "start_time": "2021-06-13T22:46:30.173Z"
   },
   {
    "duration": 17,
    "start_time": "2021-06-13T22:46:35.631Z"
   },
   {
    "duration": 30,
    "start_time": "2021-06-13T22:46:35.662Z"
   },
   {
    "duration": 14,
    "start_time": "2021-06-13T22:46:35.695Z"
   },
   {
    "duration": 16,
    "start_time": "2021-06-13T22:46:35.711Z"
   },
   {
    "duration": 51,
    "start_time": "2021-06-13T22:46:35.729Z"
   },
   {
    "duration": 11,
    "start_time": "2021-06-13T22:46:35.782Z"
   },
   {
    "duration": 119,
    "start_time": "2021-06-13T22:46:35.796Z"
   },
   {
    "duration": 7,
    "start_time": "2021-06-13T22:46:35.918Z"
   },
   {
    "duration": 36,
    "start_time": "2021-06-13T22:46:35.927Z"
   },
   {
    "duration": 285,
    "start_time": "2021-06-13T22:46:35.966Z"
   },
   {
    "duration": 30,
    "start_time": "2021-06-13T22:46:36.253Z"
   },
   {
    "duration": 13,
    "start_time": "2021-06-13T22:46:36.285Z"
   },
   {
    "duration": 20,
    "start_time": "2021-06-13T22:46:36.300Z"
   },
   {
    "duration": 42,
    "start_time": "2021-06-13T22:46:36.322Z"
   },
   {
    "duration": 7,
    "start_time": "2021-06-13T22:46:36.366Z"
   },
   {
    "duration": 12,
    "start_time": "2021-06-13T22:46:36.375Z"
   },
   {
    "duration": 277,
    "start_time": "2021-06-13T22:46:36.390Z"
   },
   {
    "duration": 23,
    "start_time": "2021-06-13T22:46:36.669Z"
   },
   {
    "duration": 12,
    "start_time": "2021-06-13T22:46:36.695Z"
   },
   {
    "duration": 39,
    "start_time": "2021-06-13T22:46:36.709Z"
   },
   {
    "duration": 10,
    "start_time": "2021-06-13T22:46:36.761Z"
   },
   {
    "duration": 13,
    "start_time": "2021-06-13T22:46:36.773Z"
   },
   {
    "duration": 7,
    "start_time": "2021-06-13T22:46:36.788Z"
   },
   {
    "duration": 289,
    "start_time": "2021-06-13T22:46:36.797Z"
   },
   {
    "duration": 22,
    "start_time": "2021-06-13T22:46:37.089Z"
   },
   {
    "duration": 11,
    "start_time": "2021-06-13T22:46:37.114Z"
   },
   {
    "duration": 47,
    "start_time": "2021-06-13T22:46:37.128Z"
   },
   {
    "duration": 10,
    "start_time": "2021-06-13T22:46:37.178Z"
   },
   {
    "duration": 9,
    "start_time": "2021-06-13T22:46:37.191Z"
   },
   {
    "duration": 10,
    "start_time": "2021-06-13T22:46:37.203Z"
   },
   {
    "duration": 309,
    "start_time": "2021-06-13T22:46:37.220Z"
   },
   {
    "duration": 36,
    "start_time": "2021-06-13T22:46:37.532Z"
   },
   {
    "duration": 1311,
    "start_time": "2021-06-13T22:50:12.566Z"
   },
   {
    "duration": 311,
    "start_time": "2021-06-13T22:50:45.781Z"
   },
   {
    "duration": 809,
    "start_time": "2021-06-13T22:52:27.625Z"
   },
   {
    "duration": 968,
    "start_time": "2021-06-13T22:55:27.222Z"
   },
   {
    "duration": 644,
    "start_time": "2021-06-13T22:58:03.922Z"
   },
   {
    "duration": 658,
    "start_time": "2021-06-13T22:58:19.869Z"
   },
   {
    "duration": 658,
    "start_time": "2021-06-13T22:58:44.016Z"
   },
   {
    "duration": 676,
    "start_time": "2021-06-13T23:00:00.541Z"
   },
   {
    "duration": 794,
    "start_time": "2021-06-13T23:00:13.958Z"
   },
   {
    "duration": 1003,
    "start_time": "2021-06-13T23:00:25.273Z"
   },
   {
    "duration": 570,
    "start_time": "2021-06-13T23:00:33.254Z"
   },
   {
    "duration": 333,
    "start_time": "2021-06-13T23:00:40.796Z"
   },
   {
    "duration": 326,
    "start_time": "2021-06-13T23:01:16.785Z"
   },
   {
    "duration": 556,
    "start_time": "2021-06-13T23:01:50.022Z"
   },
   {
    "duration": 569,
    "start_time": "2021-06-13T23:02:00.413Z"
   },
   {
    "duration": 321,
    "start_time": "2021-06-13T23:02:07.576Z"
   },
   {
    "duration": 339,
    "start_time": "2021-06-13T23:02:30.239Z"
   },
   {
    "duration": 342,
    "start_time": "2021-06-13T23:03:44.281Z"
   },
   {
    "duration": 336,
    "start_time": "2021-06-13T23:03:51.228Z"
   },
   {
    "duration": 344,
    "start_time": "2021-06-13T23:04:00.399Z"
   },
   {
    "duration": 125,
    "start_time": "2021-06-13T23:05:16.351Z"
   },
   {
    "duration": 345,
    "start_time": "2021-06-13T23:05:27.590Z"
   },
   {
    "duration": 280,
    "start_time": "2021-06-13T23:16:28.313Z"
   },
   {
    "duration": 350,
    "start_time": "2021-06-13T23:17:14.239Z"
   },
   {
    "duration": 7,
    "start_time": "2021-06-13T23:17:40.254Z"
   },
   {
    "duration": 413,
    "start_time": "2021-06-13T23:17:46.437Z"
   },
   {
    "duration": 330,
    "start_time": "2021-06-13T23:33:30.787Z"
   },
   {
    "duration": 99,
    "start_time": "2021-06-13T23:33:39.983Z"
   },
   {
    "duration": 14,
    "start_time": "2021-06-13T23:33:40.084Z"
   },
   {
    "duration": 16,
    "start_time": "2021-06-13T23:33:40.101Z"
   },
   {
    "duration": 43,
    "start_time": "2021-06-13T23:33:40.120Z"
   },
   {
    "duration": 7,
    "start_time": "2021-06-13T23:33:40.166Z"
   },
   {
    "duration": 18,
    "start_time": "2021-06-13T23:33:40.175Z"
   },
   {
    "duration": 14,
    "start_time": "2021-06-13T23:33:40.196Z"
   },
   {
    "duration": 53,
    "start_time": "2021-06-13T23:33:40.215Z"
   },
   {
    "duration": 12,
    "start_time": "2021-06-13T23:33:40.272Z"
   },
   {
    "duration": 10,
    "start_time": "2021-06-13T23:33:40.286Z"
   },
   {
    "duration": 10,
    "start_time": "2021-06-13T23:33:40.299Z"
   },
   {
    "duration": 59,
    "start_time": "2021-06-13T23:33:40.311Z"
   },
   {
    "duration": 12,
    "start_time": "2021-06-13T23:33:40.372Z"
   },
   {
    "duration": 8,
    "start_time": "2021-06-13T23:33:40.387Z"
   },
   {
    "duration": 34,
    "start_time": "2021-06-13T23:33:40.397Z"
   },
   {
    "duration": 34,
    "start_time": "2021-06-13T23:33:40.433Z"
   },
   {
    "duration": 25,
    "start_time": "2021-06-13T23:33:40.470Z"
   },
   {
    "duration": 10,
    "start_time": "2021-06-13T23:33:40.497Z"
   },
   {
    "duration": 59,
    "start_time": "2021-06-13T23:33:40.509Z"
   },
   {
    "duration": 10,
    "start_time": "2021-06-13T23:33:40.570Z"
   },
   {
    "duration": 4988,
    "start_time": "2021-06-13T23:33:40.582Z"
   },
   {
    "duration": 30,
    "start_time": "2021-06-13T23:33:45.573Z"
   },
   {
    "duration": 62,
    "start_time": "2021-06-13T23:33:45.612Z"
   },
   {
    "duration": 4,
    "start_time": "2021-06-13T23:33:45.680Z"
   },
   {
    "duration": 30,
    "start_time": "2021-06-13T23:33:45.688Z"
   },
   {
    "duration": 58,
    "start_time": "2021-06-13T23:33:45.720Z"
   },
   {
    "duration": 14,
    "start_time": "2021-06-13T23:33:45.781Z"
   },
   {
    "duration": 14,
    "start_time": "2021-06-13T23:33:45.798Z"
   },
   {
    "duration": 18,
    "start_time": "2021-06-13T23:33:45.814Z"
   },
   {
    "duration": 33,
    "start_time": "2021-06-13T23:33:45.834Z"
   },
   {
    "duration": 43,
    "start_time": "2021-06-13T23:33:45.870Z"
   },
   {
    "duration": 14,
    "start_time": "2021-06-13T23:33:45.915Z"
   },
   {
    "duration": 16,
    "start_time": "2021-06-13T23:33:45.932Z"
   },
   {
    "duration": 15,
    "start_time": "2021-06-13T23:33:45.963Z"
   },
   {
    "duration": 89,
    "start_time": "2021-06-13T23:33:45.981Z"
   },
   {
    "duration": 8,
    "start_time": "2021-06-13T23:33:46.074Z"
   },
   {
    "duration": 554,
    "start_time": "2021-06-13T23:33:46.086Z"
   },
   {
    "duration": 34,
    "start_time": "2021-06-13T23:33:46.643Z"
   },
   {
    "duration": 31,
    "start_time": "2021-06-13T23:33:46.680Z"
   },
   {
    "duration": 11,
    "start_time": "2021-06-13T23:33:46.713Z"
   },
   {
    "duration": 43,
    "start_time": "2021-06-13T23:33:46.726Z"
   },
   {
    "duration": 25,
    "start_time": "2021-06-13T23:33:46.772Z"
   },
   {
    "duration": 12,
    "start_time": "2021-06-13T23:33:46.799Z"
   },
   {
    "duration": 64,
    "start_time": "2021-06-13T23:33:46.813Z"
   },
   {
    "duration": 8,
    "start_time": "2021-06-13T23:33:46.879Z"
   },
   {
    "duration": 12,
    "start_time": "2021-06-13T23:33:46.889Z"
   },
   {
    "duration": 335,
    "start_time": "2021-06-13T23:33:46.903Z"
   },
   {
    "duration": 36,
    "start_time": "2021-06-13T23:33:47.240Z"
   },
   {
    "duration": 15,
    "start_time": "2021-06-13T23:33:47.279Z"
   },
   {
    "duration": 27,
    "start_time": "2021-06-13T23:33:47.298Z"
   },
   {
    "duration": 42,
    "start_time": "2021-06-13T23:33:47.328Z"
   },
   {
    "duration": 9,
    "start_time": "2021-06-13T23:33:47.374Z"
   },
   {
    "duration": 10,
    "start_time": "2021-06-13T23:33:47.386Z"
   },
   {
    "duration": 406,
    "start_time": "2021-06-13T23:33:47.399Z"
   },
   {
    "duration": 32,
    "start_time": "2021-06-13T23:33:47.808Z"
   },
   {
    "duration": 29,
    "start_time": "2021-06-13T23:33:47.843Z"
   },
   {
    "duration": 19,
    "start_time": "2021-06-13T23:33:47.874Z"
   },
   {
    "duration": 9,
    "start_time": "2021-06-13T23:33:47.895Z"
   },
   {
    "duration": 12,
    "start_time": "2021-06-13T23:33:47.906Z"
   },
   {
    "duration": 44,
    "start_time": "2021-06-13T23:33:47.920Z"
   },
   {
    "duration": 280,
    "start_time": "2021-06-13T23:33:47.966Z"
   },
   {
    "duration": 29,
    "start_time": "2021-06-13T23:33:48.249Z"
   },
   {
    "duration": 12,
    "start_time": "2021-06-13T23:33:48.281Z"
   },
   {
    "duration": 21,
    "start_time": "2021-06-13T23:33:48.296Z"
   },
   {
    "duration": 49,
    "start_time": "2021-06-13T23:33:48.320Z"
   },
   {
    "duration": 7,
    "start_time": "2021-06-13T23:33:48.372Z"
   },
   {
    "duration": 5,
    "start_time": "2021-06-13T23:33:48.382Z"
   },
   {
    "duration": 327,
    "start_time": "2021-06-13T23:33:48.394Z"
   },
   {
    "duration": 40,
    "start_time": "2021-06-13T23:33:48.723Z"
   },
   {
    "duration": 12,
    "start_time": "2021-06-13T23:44:25.553Z"
   },
   {
    "duration": 274,
    "start_time": "2021-06-13T23:57:11.487Z"
   },
   {
    "duration": 276,
    "start_time": "2021-06-13T23:57:23.244Z"
   },
   {
    "duration": 279,
    "start_time": "2021-06-14T00:00:21.430Z"
   },
   {
    "duration": 100,
    "start_time": "2021-06-14T00:00:36.125Z"
   },
   {
    "duration": 42,
    "start_time": "2021-06-14T00:00:36.227Z"
   },
   {
    "duration": 11,
    "start_time": "2021-06-14T00:00:36.272Z"
   },
   {
    "duration": 6,
    "start_time": "2021-06-14T00:00:36.286Z"
   },
   {
    "duration": 7,
    "start_time": "2021-06-14T00:00:36.294Z"
   },
   {
    "duration": 67,
    "start_time": "2021-06-14T00:00:36.303Z"
   },
   {
    "duration": 12,
    "start_time": "2021-06-14T00:00:36.372Z"
   },
   {
    "duration": 7,
    "start_time": "2021-06-14T00:00:36.387Z"
   },
   {
    "duration": 10,
    "start_time": "2021-06-14T00:00:36.398Z"
   },
   {
    "duration": 11,
    "start_time": "2021-06-14T00:00:36.464Z"
   },
   {
    "duration": 10,
    "start_time": "2021-06-14T00:00:36.478Z"
   },
   {
    "duration": 8,
    "start_time": "2021-06-14T00:00:36.491Z"
   },
   {
    "duration": 10,
    "start_time": "2021-06-14T00:00:36.502Z"
   },
   {
    "duration": 49,
    "start_time": "2021-06-14T00:00:36.515Z"
   },
   {
    "duration": 16,
    "start_time": "2021-06-14T00:00:36.566Z"
   },
   {
    "duration": 14,
    "start_time": "2021-06-14T00:00:36.585Z"
   },
   {
    "duration": 62,
    "start_time": "2021-06-14T00:00:36.602Z"
   },
   {
    "duration": 10,
    "start_time": "2021-06-14T00:00:36.666Z"
   },
   {
    "duration": 31,
    "start_time": "2021-06-14T00:00:36.678Z"
   },
   {
    "duration": 52,
    "start_time": "2021-06-14T00:00:36.711Z"
   },
   {
    "duration": 4867,
    "start_time": "2021-06-14T00:00:36.766Z"
   },
   {
    "duration": 36,
    "start_time": "2021-06-14T00:00:41.636Z"
   },
   {
    "duration": 41,
    "start_time": "2021-06-14T00:00:41.675Z"
   },
   {
    "duration": 5,
    "start_time": "2021-06-14T00:00:41.719Z"
   },
   {
    "duration": 55,
    "start_time": "2021-06-14T00:00:41.727Z"
   },
   {
    "duration": 27,
    "start_time": "2021-06-14T00:00:41.785Z"
   },
   {
    "duration": 41,
    "start_time": "2021-06-14T00:00:41.820Z"
   },
   {
    "duration": 9,
    "start_time": "2021-06-14T00:00:41.865Z"
   },
   {
    "duration": 13,
    "start_time": "2021-06-14T00:00:41.877Z"
   },
   {
    "duration": 12,
    "start_time": "2021-06-14T00:00:41.892Z"
   },
   {
    "duration": 61,
    "start_time": "2021-06-14T00:00:41.907Z"
   },
   {
    "duration": 11,
    "start_time": "2021-06-14T00:00:41.971Z"
   },
   {
    "duration": 11,
    "start_time": "2021-06-14T00:00:41.985Z"
   },
   {
    "duration": 12,
    "start_time": "2021-06-14T00:00:41.998Z"
   },
   {
    "duration": 84,
    "start_time": "2021-06-14T00:00:42.012Z"
   },
   {
    "duration": 6,
    "start_time": "2021-06-14T00:00:42.099Z"
   },
   {
    "duration": 671,
    "start_time": "2021-06-14T00:00:42.108Z"
   },
   {
    "duration": 26,
    "start_time": "2021-06-14T00:00:42.782Z"
   },
   {
    "duration": 69,
    "start_time": "2021-06-14T00:00:42.811Z"
   },
   {
    "duration": 16,
    "start_time": "2021-06-14T00:00:42.883Z"
   },
   {
    "duration": 14,
    "start_time": "2021-06-14T00:00:42.902Z"
   },
   {
    "duration": 57,
    "start_time": "2021-06-14T00:00:42.919Z"
   },
   {
    "duration": 16,
    "start_time": "2021-06-14T00:00:42.980Z"
   },
   {
    "duration": 25,
    "start_time": "2021-06-14T00:00:42.999Z"
   },
   {
    "duration": 35,
    "start_time": "2021-06-14T00:00:43.027Z"
   },
   {
    "duration": 7,
    "start_time": "2021-06-14T00:00:43.066Z"
   },
   {
    "duration": 323,
    "start_time": "2021-06-14T00:00:43.076Z"
   },
   {
    "duration": 24,
    "start_time": "2021-06-14T00:00:43.402Z"
   },
   {
    "duration": 37,
    "start_time": "2021-06-14T00:00:43.429Z"
   },
   {
    "duration": 17,
    "start_time": "2021-06-14T00:00:43.468Z"
   },
   {
    "duration": 10,
    "start_time": "2021-06-14T00:00:43.488Z"
   },
   {
    "duration": 7,
    "start_time": "2021-06-14T00:00:43.501Z"
   },
   {
    "duration": 53,
    "start_time": "2021-06-14T00:00:43.510Z"
   },
   {
    "duration": 287,
    "start_time": "2021-06-14T00:00:43.566Z"
   },
   {
    "duration": 25,
    "start_time": "2021-06-14T00:00:43.862Z"
   },
   {
    "duration": 12,
    "start_time": "2021-06-14T00:00:43.890Z"
   },
   {
    "duration": 17,
    "start_time": "2021-06-14T00:00:43.905Z"
   },
   {
    "duration": 43,
    "start_time": "2021-06-14T00:00:43.924Z"
   },
   {
    "duration": 7,
    "start_time": "2021-06-14T00:00:43.969Z"
   },
   {
    "duration": 11,
    "start_time": "2021-06-14T00:00:43.979Z"
   },
   {
    "duration": 329,
    "start_time": "2021-06-14T00:00:43.993Z"
   },
   {
    "duration": 38,
    "start_time": "2021-06-14T00:00:44.325Z"
   },
   {
    "duration": 12,
    "start_time": "2021-06-14T00:00:44.366Z"
   },
   {
    "duration": 18,
    "start_time": "2021-06-14T00:00:44.381Z"
   },
   {
    "duration": 8,
    "start_time": "2021-06-14T00:00:44.402Z"
   },
   {
    "duration": 51,
    "start_time": "2021-06-14T00:00:44.413Z"
   },
   {
    "duration": 8,
    "start_time": "2021-06-14T00:00:44.467Z"
   },
   {
    "duration": 311,
    "start_time": "2021-06-14T00:00:44.478Z"
   },
   {
    "duration": 24,
    "start_time": "2021-06-14T00:00:44.792Z"
   },
   {
    "duration": 311,
    "start_time": "2021-06-14T00:02:00.753Z"
   },
   {
    "duration": 306,
    "start_time": "2021-06-14T00:02:13.031Z"
   },
   {
    "duration": 96,
    "start_time": "2021-06-14T00:02:20.794Z"
   },
   {
    "duration": 13,
    "start_time": "2021-06-14T00:02:20.892Z"
   },
   {
    "duration": 54,
    "start_time": "2021-06-14T00:02:20.908Z"
   },
   {
    "duration": 6,
    "start_time": "2021-06-14T00:02:20.965Z"
   },
   {
    "duration": 14,
    "start_time": "2021-06-14T00:02:20.973Z"
   },
   {
    "duration": 23,
    "start_time": "2021-06-14T00:02:20.990Z"
   },
   {
    "duration": 52,
    "start_time": "2021-06-14T00:02:21.015Z"
   },
   {
    "duration": 8,
    "start_time": "2021-06-14T00:02:21.071Z"
   },
   {
    "duration": 12,
    "start_time": "2021-06-14T00:02:21.083Z"
   },
   {
    "duration": 9,
    "start_time": "2021-06-14T00:02:21.098Z"
   },
   {
    "duration": 59,
    "start_time": "2021-06-14T00:02:21.109Z"
   },
   {
    "duration": 8,
    "start_time": "2021-06-14T00:02:21.170Z"
   },
   {
    "duration": 13,
    "start_time": "2021-06-14T00:02:21.181Z"
   },
   {
    "duration": 8,
    "start_time": "2021-06-14T00:02:21.196Z"
   },
   {
    "duration": 58,
    "start_time": "2021-06-14T00:02:21.206Z"
   },
   {
    "duration": 9,
    "start_time": "2021-06-14T00:02:21.267Z"
   },
   {
    "duration": 26,
    "start_time": "2021-06-14T00:02:21.278Z"
   },
   {
    "duration": 9,
    "start_time": "2021-06-14T00:02:21.306Z"
   },
   {
    "duration": 66,
    "start_time": "2021-06-14T00:02:21.317Z"
   },
   {
    "duration": 16,
    "start_time": "2021-06-14T00:02:21.386Z"
   },
   {
    "duration": 4989,
    "start_time": "2021-06-14T00:02:21.405Z"
   },
   {
    "duration": 81,
    "start_time": "2021-06-14T00:02:26.397Z"
   },
   {
    "duration": 94,
    "start_time": "2021-06-14T00:02:26.485Z"
   },
   {
    "duration": 10,
    "start_time": "2021-06-14T00:02:26.583Z"
   },
   {
    "duration": 86,
    "start_time": "2021-06-14T00:02:26.596Z"
   },
   {
    "duration": 79,
    "start_time": "2021-06-14T00:02:26.684Z"
   },
   {
    "duration": 15,
    "start_time": "2021-06-14T00:02:26.766Z"
   },
   {
    "duration": 13,
    "start_time": "2021-06-14T00:02:26.784Z"
   },
   {
    "duration": 22,
    "start_time": "2021-06-14T00:02:26.800Z"
   },
   {
    "duration": 41,
    "start_time": "2021-06-14T00:02:26.825Z"
   },
   {
    "duration": 46,
    "start_time": "2021-06-14T00:02:26.869Z"
   },
   {
    "duration": 15,
    "start_time": "2021-06-14T00:02:26.918Z"
   },
   {
    "duration": 36,
    "start_time": "2021-06-14T00:02:26.936Z"
   },
   {
    "duration": 15,
    "start_time": "2021-06-14T00:02:26.975Z"
   },
   {
    "duration": 95,
    "start_time": "2021-06-14T00:02:26.993Z"
   },
   {
    "duration": 7,
    "start_time": "2021-06-14T00:02:27.091Z"
   },
   {
    "duration": 543,
    "start_time": "2021-06-14T00:02:27.101Z"
   },
   {
    "duration": 32,
    "start_time": "2021-06-14T00:02:27.647Z"
   },
   {
    "duration": 45,
    "start_time": "2021-06-14T00:02:27.683Z"
   },
   {
    "duration": 37,
    "start_time": "2021-06-14T00:02:27.732Z"
   },
   {
    "duration": 14,
    "start_time": "2021-06-14T00:02:27.772Z"
   },
   {
    "duration": 24,
    "start_time": "2021-06-14T00:02:27.789Z"
   },
   {
    "duration": 46,
    "start_time": "2021-06-14T00:02:27.815Z"
   },
   {
    "duration": 21,
    "start_time": "2021-06-14T00:02:27.864Z"
   },
   {
    "duration": 7,
    "start_time": "2021-06-14T00:02:27.887Z"
   },
   {
    "duration": 10,
    "start_time": "2021-06-14T00:02:27.897Z"
   },
   {
    "duration": 381,
    "start_time": "2021-06-14T00:02:27.909Z"
   },
   {
    "duration": 24,
    "start_time": "2021-06-14T00:02:28.292Z"
   },
   {
    "duration": 11,
    "start_time": "2021-06-14T00:02:28.319Z"
   },
   {
    "duration": 47,
    "start_time": "2021-06-14T00:02:28.332Z"
   },
   {
    "duration": 9,
    "start_time": "2021-06-14T00:02:28.381Z"
   },
   {
    "duration": 7,
    "start_time": "2021-06-14T00:02:28.393Z"
   },
   {
    "duration": 9,
    "start_time": "2021-06-14T00:02:28.403Z"
   },
   {
    "duration": 303,
    "start_time": "2021-06-14T00:02:28.414Z"
   },
   {
    "duration": 23,
    "start_time": "2021-06-14T00:02:28.720Z"
   },
   {
    "duration": 25,
    "start_time": "2021-06-14T00:02:28.746Z"
   },
   {
    "duration": 17,
    "start_time": "2021-06-14T00:02:28.774Z"
   },
   {
    "duration": 9,
    "start_time": "2021-06-14T00:02:28.793Z"
   },
   {
    "duration": 7,
    "start_time": "2021-06-14T00:02:28.805Z"
   },
   {
    "duration": 54,
    "start_time": "2021-06-14T00:02:28.814Z"
   },
   {
    "duration": 418,
    "start_time": "2021-06-14T00:02:28.871Z"
   },
   {
    "duration": 34,
    "start_time": "2021-06-14T00:02:29.292Z"
   },
   {
    "duration": 36,
    "start_time": "2021-06-14T00:02:29.329Z"
   },
   {
    "duration": 23,
    "start_time": "2021-06-14T00:02:29.368Z"
   },
   {
    "duration": 13,
    "start_time": "2021-06-14T00:02:29.394Z"
   },
   {
    "duration": 8,
    "start_time": "2021-06-14T00:02:29.410Z"
   },
   {
    "duration": 46,
    "start_time": "2021-06-14T00:02:29.421Z"
   },
   {
    "duration": 417,
    "start_time": "2021-06-14T00:02:29.478Z"
   },
   {
    "duration": 35,
    "start_time": "2021-06-14T00:02:29.898Z"
   },
   {
    "duration": 604,
    "start_time": "2021-06-14T00:28:52.371Z"
   },
   {
    "duration": 890,
    "start_time": "2021-06-14T17:47:29.470Z"
   },
   {
    "duration": 15,
    "start_time": "2021-06-14T17:47:30.363Z"
   },
   {
    "duration": 35,
    "start_time": "2021-06-14T17:47:30.381Z"
   },
   {
    "duration": 25,
    "start_time": "2021-06-14T17:47:30.419Z"
   },
   {
    "duration": 32,
    "start_time": "2021-06-14T17:47:30.446Z"
   },
   {
    "duration": 48,
    "start_time": "2021-06-14T17:47:30.481Z"
   },
   {
    "duration": 46,
    "start_time": "2021-06-14T17:47:30.531Z"
   },
   {
    "duration": 32,
    "start_time": "2021-06-14T17:47:30.581Z"
   },
   {
    "duration": 35,
    "start_time": "2021-06-14T17:47:30.616Z"
   },
   {
    "duration": 39,
    "start_time": "2021-06-14T17:47:30.653Z"
   },
   {
    "duration": 25,
    "start_time": "2021-06-14T17:47:30.694Z"
   },
   {
    "duration": 34,
    "start_time": "2021-06-14T17:47:30.722Z"
   },
   {
    "duration": 29,
    "start_time": "2021-06-14T17:47:30.759Z"
   },
   {
    "duration": 50,
    "start_time": "2021-06-14T17:47:30.791Z"
   },
   {
    "duration": 48,
    "start_time": "2021-06-14T17:47:30.844Z"
   },
   {
    "duration": 9,
    "start_time": "2021-06-14T17:47:30.894Z"
   },
   {
    "duration": 35,
    "start_time": "2021-06-14T17:47:30.906Z"
   },
   {
    "duration": 10,
    "start_time": "2021-06-14T17:47:30.943Z"
   },
   {
    "duration": 26,
    "start_time": "2021-06-14T17:47:30.962Z"
   },
   {
    "duration": 21,
    "start_time": "2021-06-14T17:47:30.990Z"
   },
   {
    "duration": 5313,
    "start_time": "2021-06-14T17:47:31.014Z"
   },
   {
    "duration": 36,
    "start_time": "2021-06-14T17:47:36.329Z"
   },
   {
    "duration": 39,
    "start_time": "2021-06-14T17:47:36.371Z"
   },
   {
    "duration": 5,
    "start_time": "2021-06-14T17:47:36.413Z"
   },
   {
    "duration": 60,
    "start_time": "2021-06-14T17:47:36.420Z"
   },
   {
    "duration": 26,
    "start_time": "2021-06-14T17:47:36.482Z"
   },
   {
    "duration": 22,
    "start_time": "2021-06-14T17:47:36.511Z"
   },
   {
    "duration": 28,
    "start_time": "2021-06-14T17:47:36.536Z"
   },
   {
    "duration": 9,
    "start_time": "2021-06-14T17:47:36.567Z"
   },
   {
    "duration": 11,
    "start_time": "2021-06-14T17:47:36.579Z"
   },
   {
    "duration": 47,
    "start_time": "2021-06-14T17:47:36.592Z"
   },
   {
    "duration": 24,
    "start_time": "2021-06-14T17:47:36.642Z"
   },
   {
    "duration": 22,
    "start_time": "2021-06-14T17:47:36.669Z"
   },
   {
    "duration": 22,
    "start_time": "2021-06-14T17:47:36.693Z"
   },
   {
    "duration": 61,
    "start_time": "2021-06-14T17:47:36.717Z"
   },
   {
    "duration": 5,
    "start_time": "2021-06-14T17:47:36.781Z"
   },
   {
    "duration": 1186,
    "start_time": "2021-06-14T17:47:36.788Z"
   },
   {
    "duration": -380,
    "start_time": "2021-06-14T17:47:38.357Z"
   },
   {
    "duration": -384,
    "start_time": "2021-06-14T17:47:38.362Z"
   },
   {
    "duration": -401,
    "start_time": "2021-06-14T17:47:38.380Z"
   },
   {
    "duration": -407,
    "start_time": "2021-06-14T17:47:38.388Z"
   },
   {
    "duration": -411,
    "start_time": "2021-06-14T17:47:38.393Z"
   },
   {
    "duration": -412,
    "start_time": "2021-06-14T17:47:38.396Z"
   },
   {
    "duration": -415,
    "start_time": "2021-06-14T17:47:38.400Z"
   },
   {
    "duration": -417,
    "start_time": "2021-06-14T17:47:38.403Z"
   },
   {
    "duration": -419,
    "start_time": "2021-06-14T17:47:38.407Z"
   },
   {
    "duration": -421,
    "start_time": "2021-06-14T17:47:38.410Z"
   },
   {
    "duration": -423,
    "start_time": "2021-06-14T17:47:38.414Z"
   },
   {
    "duration": -425,
    "start_time": "2021-06-14T17:47:38.417Z"
   },
   {
    "duration": -428,
    "start_time": "2021-06-14T17:47:38.421Z"
   },
   {
    "duration": -432,
    "start_time": "2021-06-14T17:47:38.427Z"
   },
   {
    "duration": -436,
    "start_time": "2021-06-14T17:47:38.432Z"
   },
   {
    "duration": -438,
    "start_time": "2021-06-14T17:47:38.435Z"
   },
   {
    "duration": -440,
    "start_time": "2021-06-14T17:47:38.439Z"
   },
   {
    "duration": -440,
    "start_time": "2021-06-14T17:47:38.442Z"
   },
   {
    "duration": -442,
    "start_time": "2021-06-14T17:47:38.445Z"
   },
   {
    "duration": -444,
    "start_time": "2021-06-14T17:47:38.449Z"
   },
   {
    "duration": -446,
    "start_time": "2021-06-14T17:47:38.452Z"
   },
   {
    "duration": -466,
    "start_time": "2021-06-14T17:47:38.473Z"
   },
   {
    "duration": -468,
    "start_time": "2021-06-14T17:47:38.477Z"
   },
   {
    "duration": -470,
    "start_time": "2021-06-14T17:47:38.480Z"
   },
   {
    "duration": -473,
    "start_time": "2021-06-14T17:47:38.484Z"
   },
   {
    "duration": -475,
    "start_time": "2021-06-14T17:47:38.488Z"
   },
   {
    "duration": -430,
    "start_time": "2021-06-14T17:47:38.492Z"
   },
   {
    "duration": -433,
    "start_time": "2021-06-14T17:47:38.496Z"
   },
   {
    "duration": -435,
    "start_time": "2021-06-14T17:47:38.500Z"
   },
   {
    "duration": -438,
    "start_time": "2021-06-14T17:47:38.504Z"
   },
   {
    "duration": -442,
    "start_time": "2021-06-14T17:47:38.509Z"
   },
   {
    "duration": -442,
    "start_time": "2021-06-14T17:47:38.512Z"
   },
   {
    "duration": 116,
    "start_time": "2021-06-14T17:49:52.121Z"
   },
   {
    "duration": 427,
    "start_time": "2021-06-14T17:50:10.667Z"
   },
   {
    "duration": 150,
    "start_time": "2021-06-14T17:50:18.592Z"
   },
   {
    "duration": 335,
    "start_time": "2021-06-14T17:50:26.202Z"
   },
   {
    "duration": 135,
    "start_time": "2021-06-14T17:50:41.359Z"
   },
   {
    "duration": 94,
    "start_time": "2021-06-14T17:50:50.399Z"
   },
   {
    "duration": 292,
    "start_time": "2021-06-14T17:51:30.840Z"
   },
   {
    "duration": 930,
    "start_time": "2021-06-14T17:51:53.932Z"
   },
   {
    "duration": 13,
    "start_time": "2021-06-14T17:51:54.865Z"
   },
   {
    "duration": 13,
    "start_time": "2021-06-14T17:51:54.881Z"
   },
   {
    "duration": 8,
    "start_time": "2021-06-14T17:51:54.897Z"
   },
   {
    "duration": 54,
    "start_time": "2021-06-14T17:51:54.908Z"
   },
   {
    "duration": 16,
    "start_time": "2021-06-14T17:51:54.965Z"
   },
   {
    "duration": 13,
    "start_time": "2021-06-14T17:51:54.984Z"
   },
   {
    "duration": 8,
    "start_time": "2021-06-14T17:51:55.002Z"
   },
   {
    "duration": 53,
    "start_time": "2021-06-14T17:51:55.013Z"
   },
   {
    "duration": 10,
    "start_time": "2021-06-14T17:51:55.068Z"
   },
   {
    "duration": 11,
    "start_time": "2021-06-14T17:51:55.081Z"
   },
   {
    "duration": 7,
    "start_time": "2021-06-14T17:51:55.095Z"
   },
   {
    "duration": 20,
    "start_time": "2021-06-14T17:51:55.104Z"
   },
   {
    "duration": 38,
    "start_time": "2021-06-14T17:51:55.126Z"
   },
   {
    "duration": 17,
    "start_time": "2021-06-14T17:51:55.166Z"
   },
   {
    "duration": 12,
    "start_time": "2021-06-14T17:51:55.186Z"
   },
   {
    "duration": 66,
    "start_time": "2021-06-14T17:51:55.201Z"
   },
   {
    "duration": 12,
    "start_time": "2021-06-14T17:51:55.269Z"
   },
   {
    "duration": 25,
    "start_time": "2021-06-14T17:51:55.284Z"
   },
   {
    "duration": 10,
    "start_time": "2021-06-14T17:51:55.312Z"
   },
   {
    "duration": 4788,
    "start_time": "2021-06-14T17:51:55.325Z"
   },
   {
    "duration": 26,
    "start_time": "2021-06-14T17:52:00.115Z"
   },
   {
    "duration": 36,
    "start_time": "2021-06-14T17:52:00.164Z"
   },
   {
    "duration": 19,
    "start_time": "2021-06-14T17:52:00.204Z"
   },
   {
    "duration": 32,
    "start_time": "2021-06-14T17:52:00.225Z"
   },
   {
    "duration": 34,
    "start_time": "2021-06-14T17:52:00.259Z"
   },
   {
    "duration": 34,
    "start_time": "2021-06-14T17:52:00.295Z"
   },
   {
    "duration": 17,
    "start_time": "2021-06-14T17:52:00.332Z"
   },
   {
    "duration": 24,
    "start_time": "2021-06-14T17:52:00.351Z"
   },
   {
    "duration": 17,
    "start_time": "2021-06-14T17:52:00.377Z"
   },
   {
    "duration": 54,
    "start_time": "2021-06-14T17:52:00.397Z"
   },
   {
    "duration": 45,
    "start_time": "2021-06-14T17:52:00.453Z"
   },
   {
    "duration": 32,
    "start_time": "2021-06-14T17:52:00.501Z"
   },
   {
    "duration": 21,
    "start_time": "2021-06-14T17:52:00.536Z"
   },
   {
    "duration": 49,
    "start_time": "2021-06-14T17:52:00.559Z"
   },
   {
    "duration": 5,
    "start_time": "2021-06-14T17:52:00.611Z"
   },
   {
    "duration": 1177,
    "start_time": "2021-06-14T17:52:00.618Z"
   },
   {
    "duration": -139,
    "start_time": "2021-06-14T17:52:01.937Z"
   },
   {
    "duration": -141,
    "start_time": "2021-06-14T17:52:01.940Z"
   },
   {
    "duration": -144,
    "start_time": "2021-06-14T17:52:01.944Z"
   },
   {
    "duration": -146,
    "start_time": "2021-06-14T17:52:01.948Z"
   },
   {
    "duration": -171,
    "start_time": "2021-06-14T17:52:01.974Z"
   },
   {
    "duration": -174,
    "start_time": "2021-06-14T17:52:01.979Z"
   },
   {
    "duration": -177,
    "start_time": "2021-06-14T17:52:01.983Z"
   },
   {
    "duration": -180,
    "start_time": "2021-06-14T17:52:01.987Z"
   },
   {
    "duration": -181,
    "start_time": "2021-06-14T17:52:01.990Z"
   },
   {
    "duration": -183,
    "start_time": "2021-06-14T17:52:01.994Z"
   },
   {
    "duration": -186,
    "start_time": "2021-06-14T17:52:01.998Z"
   },
   {
    "duration": -189,
    "start_time": "2021-06-14T17:52:02.002Z"
   },
   {
    "duration": -191,
    "start_time": "2021-06-14T17:52:02.005Z"
   },
   {
    "duration": -193,
    "start_time": "2021-06-14T17:52:02.009Z"
   },
   {
    "duration": -195,
    "start_time": "2021-06-14T17:52:02.013Z"
   },
   {
    "duration": -196,
    "start_time": "2021-06-14T17:52:02.017Z"
   },
   {
    "duration": -197,
    "start_time": "2021-06-14T17:52:02.020Z"
   },
   {
    "duration": -199,
    "start_time": "2021-06-14T17:52:02.024Z"
   },
   {
    "duration": -201,
    "start_time": "2021-06-14T17:52:02.028Z"
   },
   {
    "duration": -202,
    "start_time": "2021-06-14T17:52:02.032Z"
   },
   {
    "duration": -202,
    "start_time": "2021-06-14T17:52:02.035Z"
   },
   {
    "duration": -177,
    "start_time": "2021-06-14T17:52:02.039Z"
   },
   {
    "duration": -178,
    "start_time": "2021-06-14T17:52:02.043Z"
   },
   {
    "duration": -181,
    "start_time": "2021-06-14T17:52:02.048Z"
   },
   {
    "duration": -182,
    "start_time": "2021-06-14T17:52:02.051Z"
   },
   {
    "duration": -183,
    "start_time": "2021-06-14T17:52:02.055Z"
   },
   {
    "duration": -186,
    "start_time": "2021-06-14T17:52:02.060Z"
   },
   {
    "duration": -207,
    "start_time": "2021-06-14T17:52:02.084Z"
   },
   {
    "duration": -209,
    "start_time": "2021-06-14T17:52:02.088Z"
   },
   {
    "duration": -212,
    "start_time": "2021-06-14T17:52:02.092Z"
   },
   {
    "duration": -214,
    "start_time": "2021-06-14T17:52:02.096Z"
   },
   {
    "duration": -217,
    "start_time": "2021-06-14T17:52:02.101Z"
   },
   {
    "duration": 4674,
    "start_time": "2021-06-14T17:52:35.792Z"
   },
   {
    "duration": 898,
    "start_time": "2021-06-14T17:53:02.317Z"
   },
   {
    "duration": 15,
    "start_time": "2021-06-14T17:53:03.218Z"
   },
   {
    "duration": 33,
    "start_time": "2021-06-14T17:53:03.236Z"
   },
   {
    "duration": 7,
    "start_time": "2021-06-14T17:53:03.272Z"
   },
   {
    "duration": 10,
    "start_time": "2021-06-14T17:53:03.281Z"
   },
   {
    "duration": 18,
    "start_time": "2021-06-14T17:53:03.294Z"
   },
   {
    "duration": 34,
    "start_time": "2021-06-14T17:53:03.314Z"
   },
   {
    "duration": 9,
    "start_time": "2021-06-14T17:53:03.364Z"
   },
   {
    "duration": 19,
    "start_time": "2021-06-14T17:53:03.376Z"
   },
   {
    "duration": 18,
    "start_time": "2021-06-14T17:53:03.398Z"
   },
   {
    "duration": 13,
    "start_time": "2021-06-14T17:53:03.418Z"
   },
   {
    "duration": 30,
    "start_time": "2021-06-14T17:53:03.434Z"
   },
   {
    "duration": 12,
    "start_time": "2021-06-14T17:53:03.466Z"
   },
   {
    "duration": 8,
    "start_time": "2021-06-14T17:53:03.480Z"
   },
   {
    "duration": 16,
    "start_time": "2021-06-14T17:53:03.490Z"
   },
   {
    "duration": 56,
    "start_time": "2021-06-14T17:53:03.508Z"
   },
   {
    "duration": 26,
    "start_time": "2021-06-14T17:53:03.567Z"
   },
   {
    "duration": 11,
    "start_time": "2021-06-14T17:53:03.596Z"
   },
   {
    "duration": 72,
    "start_time": "2021-06-14T17:53:03.609Z"
   },
   {
    "duration": 9,
    "start_time": "2021-06-14T17:53:03.684Z"
   },
   {
    "duration": 4820,
    "start_time": "2021-06-14T17:53:03.695Z"
   },
   {
    "duration": 54,
    "start_time": "2021-06-14T17:53:08.518Z"
   },
   {
    "duration": 63,
    "start_time": "2021-06-14T17:53:08.582Z"
   },
   {
    "duration": 5,
    "start_time": "2021-06-14T17:53:08.666Z"
   },
   {
    "duration": 39,
    "start_time": "2021-06-14T17:53:08.674Z"
   },
   {
    "duration": 66,
    "start_time": "2021-06-14T17:53:08.716Z"
   },
   {
    "duration": 13,
    "start_time": "2021-06-14T17:53:08.785Z"
   },
   {
    "duration": 12,
    "start_time": "2021-06-14T17:53:08.801Z"
   },
   {
    "duration": 46,
    "start_time": "2021-06-14T17:53:08.816Z"
   },
   {
    "duration": 16,
    "start_time": "2021-06-14T17:53:08.865Z"
   },
   {
    "duration": 51,
    "start_time": "2021-06-14T17:53:08.884Z"
   },
   {
    "duration": 38,
    "start_time": "2021-06-14T17:53:08.938Z"
   },
   {
    "duration": 22,
    "start_time": "2021-06-14T17:53:08.979Z"
   },
   {
    "duration": 18,
    "start_time": "2021-06-14T17:53:09.004Z"
   },
   {
    "duration": 67,
    "start_time": "2021-06-14T17:53:09.025Z"
   },
   {
    "duration": 6,
    "start_time": "2021-06-14T17:53:09.094Z"
   },
   {
    "duration": 3431,
    "start_time": "2021-06-14T17:53:09.103Z"
   },
   {
    "duration": 997,
    "start_time": "2021-06-14T17:53:12.537Z"
   },
   {
    "duration": 16,
    "start_time": "2021-06-14T17:53:13.537Z"
   },
   {
    "duration": 30,
    "start_time": "2021-06-14T17:53:13.563Z"
   },
   {
    "duration": 11,
    "start_time": "2021-06-14T17:53:13.595Z"
   },
   {
    "duration": 12,
    "start_time": "2021-06-14T17:53:13.608Z"
   },
   {
    "duration": 57,
    "start_time": "2021-06-14T17:53:13.622Z"
   },
   {
    "duration": 9,
    "start_time": "2021-06-14T17:53:13.682Z"
   },
   {
    "duration": 25,
    "start_time": "2021-06-14T17:53:13.694Z"
   },
   {
    "duration": 7,
    "start_time": "2021-06-14T17:53:13.721Z"
   },
   {
    "duration": 36,
    "start_time": "2021-06-14T17:53:13.730Z"
   },
   {
    "duration": 296,
    "start_time": "2021-06-14T17:53:13.768Z"
   },
   {
    "duration": 22,
    "start_time": "2021-06-14T17:53:14.067Z"
   },
   {
    "duration": 12,
    "start_time": "2021-06-14T17:53:14.092Z"
   },
   {
    "duration": 18,
    "start_time": "2021-06-14T17:53:14.106Z"
   },
   {
    "duration": 42,
    "start_time": "2021-06-14T17:53:14.127Z"
   },
   {
    "duration": 8,
    "start_time": "2021-06-14T17:53:14.172Z"
   },
   {
    "duration": 8,
    "start_time": "2021-06-14T17:53:14.182Z"
   },
   {
    "duration": 278,
    "start_time": "2021-06-14T17:53:14.192Z"
   },
   {
    "duration": 23,
    "start_time": "2021-06-14T17:53:14.473Z"
   },
   {
    "duration": 11,
    "start_time": "2021-06-14T17:53:14.498Z"
   },
   {
    "duration": 49,
    "start_time": "2021-06-14T17:53:14.512Z"
   },
   {
    "duration": 11,
    "start_time": "2021-06-14T17:53:14.564Z"
   },
   {
    "duration": 7,
    "start_time": "2021-06-14T17:53:14.578Z"
   },
   {
    "duration": 7,
    "start_time": "2021-06-14T17:53:14.588Z"
   },
   {
    "duration": 321,
    "start_time": "2021-06-14T17:53:14.597Z"
   },
   {
    "duration": 24,
    "start_time": "2021-06-14T17:53:14.920Z"
   },
   {
    "duration": 13,
    "start_time": "2021-06-14T17:53:14.962Z"
   },
   {
    "duration": 18,
    "start_time": "2021-06-14T17:53:14.978Z"
   },
   {
    "duration": 10,
    "start_time": "2021-06-14T17:53:14.999Z"
   },
   {
    "duration": 53,
    "start_time": "2021-06-14T17:53:15.011Z"
   },
   {
    "duration": 7,
    "start_time": "2021-06-14T17:53:15.071Z"
   },
   {
    "duration": 311,
    "start_time": "2021-06-14T17:53:15.081Z"
   },
   {
    "duration": 23,
    "start_time": "2021-06-14T17:53:15.395Z"
   },
   {
    "duration": 384,
    "start_time": "2021-06-15T08:46:46.268Z"
   },
   {
    "duration": 906,
    "start_time": "2021-06-15T08:46:54.091Z"
   },
   {
    "duration": 13,
    "start_time": "2021-06-15T08:46:55.233Z"
   },
   {
    "duration": 11,
    "start_time": "2021-06-15T08:46:55.580Z"
   },
   {
    "duration": 114,
    "start_time": "2021-06-15T08:46:55.943Z"
   },
   {
    "duration": 31,
    "start_time": "2021-06-15T08:46:56.939Z"
   },
   {
    "duration": 26,
    "start_time": "2021-06-15T08:47:01.291Z"
   },
   {
    "duration": 24,
    "start_time": "2021-06-15T09:29:40.097Z"
   },
   {
    "duration": 8339,
    "start_time": "2021-06-15T09:43:10.864Z"
   },
   {
    "duration": 905,
    "start_time": "2021-06-15T09:43:27.763Z"
   },
   {
    "duration": 14,
    "start_time": "2021-06-15T09:43:28.670Z"
   },
   {
    "duration": 40,
    "start_time": "2021-06-15T09:43:28.687Z"
   },
   {
    "duration": 6,
    "start_time": "2021-06-15T09:43:28.730Z"
   },
   {
    "duration": 8,
    "start_time": "2021-06-15T09:43:28.738Z"
   },
   {
    "duration": 15,
    "start_time": "2021-06-15T09:43:28.748Z"
   },
   {
    "duration": 16,
    "start_time": "2021-06-15T09:43:28.766Z"
   },
   {
    "duration": 45,
    "start_time": "2021-06-15T09:43:28.786Z"
   },
   {
    "duration": 11,
    "start_time": "2021-06-15T09:43:28.834Z"
   },
   {
    "duration": 12,
    "start_time": "2021-06-15T09:43:28.848Z"
   },
   {
    "duration": 11,
    "start_time": "2021-06-15T09:43:28.863Z"
   },
   {
    "duration": 53,
    "start_time": "2021-06-15T09:43:28.876Z"
   },
   {
    "duration": 11,
    "start_time": "2021-06-15T09:43:28.931Z"
   },
   {
    "duration": 8,
    "start_time": "2021-06-15T09:43:28.945Z"
   },
   {
    "duration": 18,
    "start_time": "2021-06-15T09:43:28.955Z"
   },
   {
    "duration": 56,
    "start_time": "2021-06-15T09:43:28.976Z"
   },
   {
    "duration": 26,
    "start_time": "2021-06-15T09:43:29.035Z"
   },
   {
    "duration": 12,
    "start_time": "2021-06-15T09:43:29.064Z"
   },
   {
    "duration": 68,
    "start_time": "2021-06-15T09:43:29.078Z"
   },
   {
    "duration": 10,
    "start_time": "2021-06-15T09:43:29.148Z"
   },
   {
    "duration": 4878,
    "start_time": "2021-06-15T09:43:29.160Z"
   },
   {
    "duration": 27,
    "start_time": "2021-06-15T09:43:34.041Z"
   },
   {
    "duration": 54,
    "start_time": "2021-06-15T09:43:34.074Z"
   },
   {
    "duration": 11,
    "start_time": "2021-06-15T09:43:34.133Z"
   },
   {
    "duration": 31,
    "start_time": "2021-06-15T09:43:34.146Z"
   },
   {
    "duration": 56,
    "start_time": "2021-06-15T09:43:34.179Z"
   },
   {
    "duration": 10,
    "start_time": "2021-06-15T09:43:34.239Z"
   },
   {
    "duration": 12,
    "start_time": "2021-06-15T09:43:34.251Z"
   },
   {
    "duration": 13,
    "start_time": "2021-06-15T09:43:34.265Z"
   },
   {
    "duration": 12,
    "start_time": "2021-06-15T09:43:34.281Z"
   },
   {
    "duration": 64,
    "start_time": "2021-06-15T09:43:34.295Z"
   },
   {
    "duration": 11,
    "start_time": "2021-06-15T09:43:34.361Z"
   },
   {
    "duration": 10,
    "start_time": "2021-06-15T09:43:34.375Z"
   },
   {
    "duration": 49,
    "start_time": "2021-06-15T09:43:34.387Z"
   },
   {
    "duration": 51,
    "start_time": "2021-06-15T09:43:34.439Z"
   },
   {
    "duration": 7,
    "start_time": "2021-06-15T09:43:34.493Z"
   },
   {
    "duration": 136,
    "start_time": "2021-06-15T09:43:34.528Z"
   },
   {
    "duration": 12089,
    "start_time": "2021-06-15T09:43:22.578Z"
   },
   {
    "duration": 12086,
    "start_time": "2021-06-15T09:43:22.583Z"
   },
   {
    "duration": 12083,
    "start_time": "2021-06-15T09:43:22.588Z"
   },
   {
    "duration": 12080,
    "start_time": "2021-06-15T09:43:22.593Z"
   },
   {
    "duration": 12078,
    "start_time": "2021-06-15T09:43:22.598Z"
   },
   {
    "duration": 12075,
    "start_time": "2021-06-15T09:43:22.603Z"
   },
   {
    "duration": 12057,
    "start_time": "2021-06-15T09:43:22.623Z"
   },
   {
    "duration": 12052,
    "start_time": "2021-06-15T09:43:22.630Z"
   },
   {
    "duration": 12050,
    "start_time": "2021-06-15T09:43:22.635Z"
   },
   {
    "duration": 12047,
    "start_time": "2021-06-15T09:43:22.640Z"
   },
   {
    "duration": 12045,
    "start_time": "2021-06-15T09:43:22.645Z"
   },
   {
    "duration": 12007,
    "start_time": "2021-06-15T09:43:22.685Z"
   },
   {
    "duration": 12005,
    "start_time": "2021-06-15T09:43:22.689Z"
   },
   {
    "duration": 12003,
    "start_time": "2021-06-15T09:43:22.693Z"
   },
   {
    "duration": 12001,
    "start_time": "2021-06-15T09:43:22.698Z"
   },
   {
    "duration": 11999,
    "start_time": "2021-06-15T09:43:22.702Z"
   },
   {
    "duration": 11997,
    "start_time": "2021-06-15T09:43:22.706Z"
   },
   {
    "duration": 12017,
    "start_time": "2021-06-15T09:43:22.711Z"
   },
   {
    "duration": 12016,
    "start_time": "2021-06-15T09:43:22.715Z"
   },
   {
    "duration": 12013,
    "start_time": "2021-06-15T09:43:22.720Z"
   },
   {
    "duration": 12005,
    "start_time": "2021-06-15T09:43:22.730Z"
   },
   {
    "duration": 12002,
    "start_time": "2021-06-15T09:43:22.736Z"
   },
   {
    "duration": 12000,
    "start_time": "2021-06-15T09:43:22.740Z"
   },
   {
    "duration": 11997,
    "start_time": "2021-06-15T09:43:22.746Z"
   },
   {
    "duration": 11994,
    "start_time": "2021-06-15T09:43:22.751Z"
   },
   {
    "duration": 11990,
    "start_time": "2021-06-15T09:43:22.758Z"
   },
   {
    "duration": 11986,
    "start_time": "2021-06-15T09:43:22.764Z"
   },
   {
    "duration": 11982,
    "start_time": "2021-06-15T09:43:22.771Z"
   },
   {
    "duration": 11978,
    "start_time": "2021-06-15T09:43:22.777Z"
   },
   {
    "duration": 11974,
    "start_time": "2021-06-15T09:43:22.784Z"
   },
   {
    "duration": 11970,
    "start_time": "2021-06-15T09:43:22.790Z"
   },
   {
    "duration": 11964,
    "start_time": "2021-06-15T09:43:22.799Z"
   },
   {
    "duration": 11960,
    "start_time": "2021-06-15T09:43:22.805Z"
   },
   {
    "duration": 11955,
    "start_time": "2021-06-15T09:43:22.812Z"
   },
   {
    "duration": 118,
    "start_time": "2021-06-15T09:43:44.671Z"
   },
   {
    "duration": 4298,
    "start_time": "2021-06-15T09:44:20.429Z"
   },
   {
    "duration": 2566,
    "start_time": "2021-06-15T09:45:33.970Z"
   },
   {
    "duration": 3140,
    "start_time": "2021-06-15T09:45:58.626Z"
   },
   {
    "duration": 2292,
    "start_time": "2021-06-15T09:46:15.604Z"
   },
   {
    "duration": 2686,
    "start_time": "2021-06-15T09:47:06.029Z"
   },
   {
    "duration": 334,
    "start_time": "2021-06-15T09:47:12.776Z"
   },
   {
    "duration": 24,
    "start_time": "2021-06-15T09:47:23.170Z"
   },
   {
    "duration": 114,
    "start_time": "2021-06-15T09:50:07.134Z"
   },
   {
    "duration": 122,
    "start_time": "2021-06-15T09:50:12.513Z"
   },
   {
    "duration": 16,
    "start_time": "2021-06-15T09:50:39.178Z"
   },
   {
    "duration": 30,
    "start_time": "2021-06-15T09:50:41.451Z"
   },
   {
    "duration": 14,
    "start_time": "2021-06-15T09:50:41.648Z"
   },
   {
    "duration": 14,
    "start_time": "2021-06-15T09:50:42.311Z"
   },
   {
    "duration": 17,
    "start_time": "2021-06-15T09:50:45.678Z"
   },
   {
    "duration": 11,
    "start_time": "2021-06-15T09:50:46.026Z"
   },
   {
    "duration": 37,
    "start_time": "2021-06-15T09:50:46.378Z"
   },
   {
    "duration": 15,
    "start_time": "2021-06-15T09:50:46.728Z"
   },
   {
    "duration": 8,
    "start_time": "2021-06-15T09:50:47.100Z"
   },
   {
    "duration": 1310,
    "start_time": "2021-06-15T09:50:47.490Z"
   },
   {
    "duration": 48,
    "start_time": "2021-06-15T09:50:48.804Z"
   },
   {
    "duration": 17,
    "start_time": "2021-06-15T09:50:50.385Z"
   },
   {
    "duration": 19,
    "start_time": "2021-06-15T09:50:50.694Z"
   },
   {
    "duration": 10,
    "start_time": "2021-06-15T09:50:59.364Z"
   },
   {
    "duration": 7,
    "start_time": "2021-06-15T09:50:59.675Z"
   },
   {
    "duration": 6,
    "start_time": "2021-06-15T09:50:59.985Z"
   },
   {
    "duration": 262,
    "start_time": "2021-06-15T09:51:00.144Z"
   },
   {
    "duration": 23,
    "start_time": "2021-06-15T09:51:00.503Z"
   },
   {
    "duration": 13,
    "start_time": "2021-06-15T09:51:01.371Z"
   },
   {
    "duration": 23,
    "start_time": "2021-06-15T09:51:01.842Z"
   },
   {
    "duration": 14,
    "start_time": "2021-06-15T09:51:02.203Z"
   },
   {
    "duration": 9,
    "start_time": "2021-06-15T09:51:02.547Z"
   },
   {
    "duration": 7,
    "start_time": "2021-06-15T09:51:02.906Z"
   },
   {
    "duration": 432,
    "start_time": "2021-06-15T09:51:03.089Z"
   },
   {
    "duration": 22,
    "start_time": "2021-06-15T09:51:03.561Z"
   },
   {
    "duration": 13,
    "start_time": "2021-06-15T09:51:04.490Z"
   },
   {
    "duration": 24,
    "start_time": "2021-06-15T09:51:04.867Z"
   },
   {
    "duration": 14,
    "start_time": "2021-06-15T09:51:05.227Z"
   },
   {
    "duration": 10,
    "start_time": "2021-06-15T09:51:05.607Z"
   },
   {
    "duration": 7,
    "start_time": "2021-06-15T09:51:06.059Z"
   },
   {
    "duration": 421,
    "start_time": "2021-06-15T09:51:06.243Z"
   },
   {
    "duration": 35,
    "start_time": "2021-06-15T09:51:06.667Z"
   },
   {
    "duration": 418,
    "start_time": "2021-06-15T09:51:20.596Z"
   },
   {
    "duration": 4995,
    "start_time": "2021-06-15T09:52:20.279Z"
   },
   {
    "duration": 371,
    "start_time": "2021-06-15T09:52:37.162Z"
   },
   {
    "duration": 385,
    "start_time": "2021-06-15T09:52:43.636Z"
   },
   {
    "duration": 892,
    "start_time": "2021-06-15T09:52:51.171Z"
   },
   {
    "duration": 14,
    "start_time": "2021-06-15T09:52:52.066Z"
   },
   {
    "duration": 12,
    "start_time": "2021-06-15T09:52:52.083Z"
   },
   {
    "duration": 32,
    "start_time": "2021-06-15T09:52:52.097Z"
   },
   {
    "duration": 6,
    "start_time": "2021-06-15T09:52:52.132Z"
   },
   {
    "duration": 14,
    "start_time": "2021-06-15T09:52:52.141Z"
   },
   {
    "duration": 12,
    "start_time": "2021-06-15T09:52:52.158Z"
   },
   {
    "duration": 52,
    "start_time": "2021-06-15T09:52:52.174Z"
   },
   {
    "duration": 12,
    "start_time": "2021-06-15T09:52:52.229Z"
   },
   {
    "duration": 10,
    "start_time": "2021-06-15T09:52:52.244Z"
   },
   {
    "duration": 10,
    "start_time": "2021-06-15T09:52:52.258Z"
   },
   {
    "duration": 8,
    "start_time": "2021-06-15T09:52:52.270Z"
   },
   {
    "duration": 11,
    "start_time": "2021-06-15T09:52:52.326Z"
   },
   {
    "duration": 8,
    "start_time": "2021-06-15T09:52:52.339Z"
   },
   {
    "duration": 17,
    "start_time": "2021-06-15T09:52:52.350Z"
   },
   {
    "duration": 10,
    "start_time": "2021-06-15T09:52:52.369Z"
   },
   {
    "duration": 67,
    "start_time": "2021-06-15T09:52:52.381Z"
   },
   {
    "duration": 12,
    "start_time": "2021-06-15T09:52:52.451Z"
   },
   {
    "duration": 27,
    "start_time": "2021-06-15T09:52:52.465Z"
   },
   {
    "duration": 39,
    "start_time": "2021-06-15T09:52:52.495Z"
   },
   {
    "duration": 4559,
    "start_time": "2021-06-15T09:52:52.536Z"
   },
   {
    "duration": 35,
    "start_time": "2021-06-15T09:52:57.098Z"
   },
   {
    "duration": 38,
    "start_time": "2021-06-15T09:52:57.139Z"
   },
   {
    "duration": 4,
    "start_time": "2021-06-15T09:52:57.181Z"
   },
   {
    "duration": 55,
    "start_time": "2021-06-15T09:52:57.188Z"
   },
   {
    "duration": 28,
    "start_time": "2021-06-15T09:52:57.245Z"
   },
   {
    "duration": 11,
    "start_time": "2021-06-15T09:52:57.276Z"
   },
   {
    "duration": 42,
    "start_time": "2021-06-15T09:52:57.289Z"
   },
   {
    "duration": 13,
    "start_time": "2021-06-15T09:52:57.334Z"
   },
   {
    "duration": 11,
    "start_time": "2021-06-15T09:52:57.350Z"
   },
   {
    "duration": 74,
    "start_time": "2021-06-15T09:52:57.364Z"
   },
   {
    "duration": 14,
    "start_time": "2021-06-15T09:52:57.441Z"
   },
   {
    "duration": 12,
    "start_time": "2021-06-15T09:52:57.458Z"
   },
   {
    "duration": 13,
    "start_time": "2021-06-15T09:52:57.472Z"
   },
   {
    "duration": 76,
    "start_time": "2021-06-15T09:52:57.488Z"
   },
   {
    "duration": 5,
    "start_time": "2021-06-15T09:52:57.567Z"
   },
   {
    "duration": 3645,
    "start_time": "2021-06-15T09:52:57.575Z"
   },
   {
    "duration": 1038,
    "start_time": "2021-06-15T09:53:01.223Z"
   },
   {
    "duration": 18,
    "start_time": "2021-06-15T09:53:02.264Z"
   },
   {
    "duration": 53,
    "start_time": "2021-06-15T09:53:02.285Z"
   },
   {
    "duration": 11,
    "start_time": "2021-06-15T09:53:02.341Z"
   },
   {
    "duration": 14,
    "start_time": "2021-06-15T09:53:02.354Z"
   },
   {
    "duration": 54,
    "start_time": "2021-06-15T09:53:02.371Z"
   },
   {
    "duration": 11,
    "start_time": "2021-06-15T09:53:02.427Z"
   },
   {
    "duration": 23,
    "start_time": "2021-06-15T09:53:02.440Z"
   },
   {
    "duration": 7,
    "start_time": "2021-06-15T09:53:02.465Z"
   },
   {
    "duration": 8,
    "start_time": "2021-06-15T09:53:02.474Z"
   },
   {
    "duration": 477,
    "start_time": "2021-06-15T09:53:02.485Z"
   },
   {
    "duration": 35,
    "start_time": "2021-06-15T09:53:02.965Z"
   },
   {
    "duration": 37,
    "start_time": "2021-06-15T09:53:03.004Z"
   },
   {
    "duration": 18,
    "start_time": "2021-06-15T09:53:03.044Z"
   },
   {
    "duration": 11,
    "start_time": "2021-06-15T09:53:03.065Z"
   },
   {
    "duration": 49,
    "start_time": "2021-06-15T09:53:03.079Z"
   },
   {
    "duration": 7,
    "start_time": "2021-06-15T09:53:03.131Z"
   },
   {
    "duration": 283,
    "start_time": "2021-06-15T09:53:03.142Z"
   },
   {
    "duration": 26,
    "start_time": "2021-06-15T09:53:03.429Z"
   },
   {
    "duration": 13,
    "start_time": "2021-06-15T09:53:03.458Z"
   },
   {
    "duration": 62,
    "start_time": "2021-06-15T09:53:03.474Z"
   },
   {
    "duration": 9,
    "start_time": "2021-06-15T09:53:03.539Z"
   },
   {
    "duration": 7,
    "start_time": "2021-06-15T09:53:03.550Z"
   },
   {
    "duration": 11,
    "start_time": "2021-06-15T09:53:03.559Z"
   },
   {
    "duration": 319,
    "start_time": "2021-06-15T09:53:03.573Z"
   },
   {
    "duration": 37,
    "start_time": "2021-06-15T09:53:03.895Z"
   },
   {
    "duration": 11,
    "start_time": "2021-06-15T09:53:03.935Z"
   },
   {
    "duration": 24,
    "start_time": "2021-06-15T09:53:03.949Z"
   },
   {
    "duration": 10,
    "start_time": "2021-06-15T09:53:03.975Z"
   },
   {
    "duration": 40,
    "start_time": "2021-06-15T09:53:03.987Z"
   },
   {
    "duration": 6,
    "start_time": "2021-06-15T09:53:04.034Z"
   },
   {
    "duration": 317,
    "start_time": "2021-06-15T09:53:04.042Z"
   },
   {
    "duration": 22,
    "start_time": "2021-06-15T09:53:04.362Z"
   },
   {
    "duration": 5,
    "start_time": "2021-06-15T10:02:43.985Z"
   },
   {
    "duration": 6,
    "start_time": "2021-06-15T10:02:51.894Z"
   },
   {
    "duration": 400,
    "start_time": "2021-06-15T10:29:31.970Z"
   },
   {
    "duration": 890,
    "start_time": "2021-06-15T10:29:38.191Z"
   },
   {
    "duration": 18,
    "start_time": "2021-06-15T10:29:39.084Z"
   },
   {
    "duration": 15,
    "start_time": "2021-06-15T10:29:39.107Z"
   },
   {
    "duration": 39,
    "start_time": "2021-06-15T10:29:39.126Z"
   },
   {
    "duration": 12,
    "start_time": "2021-06-15T10:29:39.168Z"
   },
   {
    "duration": 13,
    "start_time": "2021-06-15T10:29:39.182Z"
   },
   {
    "duration": 12,
    "start_time": "2021-06-15T10:29:39.198Z"
   },
   {
    "duration": 8,
    "start_time": "2021-06-15T10:29:39.214Z"
   },
   {
    "duration": 11,
    "start_time": "2021-06-15T10:29:39.264Z"
   },
   {
    "duration": 13,
    "start_time": "2021-06-15T10:29:39.277Z"
   },
   {
    "duration": 11,
    "start_time": "2021-06-15T10:29:39.292Z"
   },
   {
    "duration": 10,
    "start_time": "2021-06-15T10:29:39.305Z"
   },
   {
    "duration": 58,
    "start_time": "2021-06-15T10:29:39.318Z"
   },
   {
    "duration": 10,
    "start_time": "2021-06-15T10:29:39.378Z"
   },
   {
    "duration": 18,
    "start_time": "2021-06-15T10:29:39.390Z"
   },
   {
    "duration": 11,
    "start_time": "2021-06-15T10:29:39.410Z"
   },
   {
    "duration": 60,
    "start_time": "2021-06-15T10:29:39.423Z"
   },
   {
    "duration": 23,
    "start_time": "2021-06-15T10:29:39.485Z"
   },
   {
    "duration": 30,
    "start_time": "2021-06-15T10:29:39.510Z"
   },
   {
    "duration": 27,
    "start_time": "2021-06-15T10:29:39.562Z"
   },
   {
    "duration": 10,
    "start_time": "2021-06-15T10:29:39.591Z"
   },
   {
    "duration": 5196,
    "start_time": "2021-06-15T10:29:39.603Z"
   },
   {
    "duration": 28,
    "start_time": "2021-06-15T10:29:44.806Z"
   },
   {
    "duration": 56,
    "start_time": "2021-06-15T10:29:44.839Z"
   },
   {
    "duration": 6,
    "start_time": "2021-06-15T10:29:44.898Z"
   },
   {
    "duration": 25,
    "start_time": "2021-06-15T10:29:44.906Z"
   },
   {
    "duration": 53,
    "start_time": "2021-06-15T10:29:44.933Z"
   },
   {
    "duration": 10,
    "start_time": "2021-06-15T10:29:44.989Z"
   },
   {
    "duration": 21,
    "start_time": "2021-06-15T10:29:45.001Z"
   },
   {
    "duration": 19,
    "start_time": "2021-06-15T10:29:45.024Z"
   },
   {
    "duration": 13,
    "start_time": "2021-06-15T10:29:45.061Z"
   },
   {
    "duration": 55,
    "start_time": "2021-06-15T10:29:45.077Z"
   },
   {
    "duration": 14,
    "start_time": "2021-06-15T10:29:45.134Z"
   },
   {
    "duration": 16,
    "start_time": "2021-06-15T10:29:45.151Z"
   },
   {
    "duration": 16,
    "start_time": "2021-06-15T10:29:45.169Z"
   },
   {
    "duration": 80,
    "start_time": "2021-06-15T10:29:45.188Z"
   },
   {
    "duration": 5,
    "start_time": "2021-06-15T10:29:45.270Z"
   },
   {
    "duration": 5105,
    "start_time": "2021-06-15T10:29:45.277Z"
   },
   {
    "duration": 1089,
    "start_time": "2021-06-15T10:29:50.385Z"
   },
   {
    "duration": 17,
    "start_time": "2021-06-15T10:29:51.476Z"
   },
   {
    "duration": 61,
    "start_time": "2021-06-15T10:29:51.496Z"
   },
   {
    "duration": 30,
    "start_time": "2021-06-15T10:29:51.560Z"
   },
   {
    "duration": 21,
    "start_time": "2021-06-15T10:29:51.593Z"
   },
   {
    "duration": 32,
    "start_time": "2021-06-15T10:29:51.616Z"
   },
   {
    "duration": 11,
    "start_time": "2021-06-15T10:29:51.650Z"
   },
   {
    "duration": 31,
    "start_time": "2021-06-15T10:29:51.663Z"
   },
   {
    "duration": 7,
    "start_time": "2021-06-15T10:29:51.696Z"
   },
   {
    "duration": 14,
    "start_time": "2021-06-15T10:29:51.705Z"
   },
   {
    "duration": 308,
    "start_time": "2021-06-15T10:29:51.722Z"
   },
   {
    "duration": 36,
    "start_time": "2021-06-15T10:29:52.033Z"
   },
   {
    "duration": 11,
    "start_time": "2021-06-15T10:29:52.072Z"
   },
   {
    "duration": 35,
    "start_time": "2021-06-15T10:29:52.086Z"
   },
   {
    "duration": 12,
    "start_time": "2021-06-15T10:29:52.124Z"
   },
   {
    "duration": 9,
    "start_time": "2021-06-15T10:29:52.163Z"
   },
   {
    "duration": 10,
    "start_time": "2021-06-15T10:29:52.175Z"
   },
   {
    "duration": 388,
    "start_time": "2021-06-15T10:29:52.188Z"
   },
   {
    "duration": 34,
    "start_time": "2021-06-15T10:29:52.579Z"
   },
   {
    "duration": 15,
    "start_time": "2021-06-15T10:29:52.616Z"
   },
   {
    "duration": 22,
    "start_time": "2021-06-15T10:29:52.662Z"
   },
   {
    "duration": 13,
    "start_time": "2021-06-15T10:29:52.687Z"
   },
   {
    "duration": 8,
    "start_time": "2021-06-15T10:29:52.703Z"
   },
   {
    "duration": 47,
    "start_time": "2021-06-15T10:29:52.715Z"
   },
   {
    "duration": 419,
    "start_time": "2021-06-15T10:29:52.765Z"
   },
   {
    "duration": 33,
    "start_time": "2021-06-15T10:29:53.187Z"
   },
   {
    "duration": 39,
    "start_time": "2021-06-15T10:29:53.223Z"
   },
   {
    "duration": 22,
    "start_time": "2021-06-15T10:29:53.265Z"
   },
   {
    "duration": 13,
    "start_time": "2021-06-15T10:29:53.290Z"
   },
   {
    "duration": 9,
    "start_time": "2021-06-15T10:29:53.314Z"
   },
   {
    "duration": 42,
    "start_time": "2021-06-15T10:29:53.326Z"
   },
   {
    "duration": 443,
    "start_time": "2021-06-15T10:29:53.371Z"
   },
   {
    "duration": 24,
    "start_time": "2021-06-15T10:29:53.817Z"
   },
   {
    "duration": 2398,
    "start_time": "2021-06-15T10:30:01.582Z"
   },
   {
    "duration": 2273,
    "start_time": "2021-06-15T10:30:24.853Z"
   },
   {
    "duration": 2276,
    "start_time": "2021-06-15T10:31:25.262Z"
   },
   {
    "duration": 125,
    "start_time": "2021-06-15T10:32:05.192Z"
   },
   {
    "duration": 42,
    "start_time": "2021-06-15T10:32:05.321Z"
   },
   {
    "duration": 16,
    "start_time": "2021-06-15T10:32:05.367Z"
   },
   {
    "duration": 12,
    "start_time": "2021-06-15T10:32:05.386Z"
   },
   {
    "duration": 147,
    "start_time": "2021-06-15T10:32:05.401Z"
   },
   {
    "duration": 18,
    "start_time": "2021-06-15T10:32:05.563Z"
   },
   {
    "duration": 17,
    "start_time": "2021-06-15T10:32:05.585Z"
   },
   {
    "duration": 9,
    "start_time": "2021-06-15T10:32:05.608Z"
   },
   {
    "duration": 50,
    "start_time": "2021-06-15T10:32:05.622Z"
   },
   {
    "duration": 20,
    "start_time": "2021-06-15T10:32:05.675Z"
   },
   {
    "duration": 11,
    "start_time": "2021-06-15T10:32:05.698Z"
   },
   {
    "duration": 9,
    "start_time": "2021-06-15T10:32:05.712Z"
   },
   {
    "duration": 41,
    "start_time": "2021-06-15T10:32:05.724Z"
   },
   {
    "duration": 8,
    "start_time": "2021-06-15T10:32:05.767Z"
   },
   {
    "duration": 19,
    "start_time": "2021-06-15T10:32:05.778Z"
   },
   {
    "duration": 9,
    "start_time": "2021-06-15T10:32:05.800Z"
   },
   {
    "duration": 58,
    "start_time": "2021-06-15T10:32:05.811Z"
   },
   {
    "duration": 12,
    "start_time": "2021-06-15T10:32:05.872Z"
   },
   {
    "duration": 29,
    "start_time": "2021-06-15T10:32:05.886Z"
   },
   {
    "duration": 74,
    "start_time": "2021-06-15T10:32:05.918Z"
   },
   {
    "duration": 9,
    "start_time": "2021-06-15T10:32:05.994Z"
   },
   {
    "duration": 5589,
    "start_time": "2021-06-15T10:32:06.006Z"
   },
   {
    "duration": 26,
    "start_time": "2021-06-15T10:32:11.601Z"
   },
   {
    "duration": 55,
    "start_time": "2021-06-15T10:32:11.631Z"
   },
   {
    "duration": 10,
    "start_time": "2021-06-15T10:32:11.688Z"
   },
   {
    "duration": 26,
    "start_time": "2021-06-15T10:32:11.700Z"
   },
   {
    "duration": 49,
    "start_time": "2021-06-15T10:32:11.728Z"
   },
   {
    "duration": 16,
    "start_time": "2021-06-15T10:32:11.779Z"
   },
   {
    "duration": 16,
    "start_time": "2021-06-15T10:32:11.797Z"
   },
   {
    "duration": 15,
    "start_time": "2021-06-15T10:32:11.815Z"
   },
   {
    "duration": 30,
    "start_time": "2021-06-15T10:32:11.833Z"
   },
   {
    "duration": 49,
    "start_time": "2021-06-15T10:32:11.865Z"
   },
   {
    "duration": 14,
    "start_time": "2021-06-15T10:32:11.916Z"
   },
   {
    "duration": 22,
    "start_time": "2021-06-15T10:32:11.932Z"
   },
   {
    "duration": 12,
    "start_time": "2021-06-15T10:32:11.957Z"
   },
   {
    "duration": 49,
    "start_time": "2021-06-15T10:32:11.971Z"
   },
   {
    "duration": 8,
    "start_time": "2021-06-15T10:32:12.023Z"
   },
   {
    "duration": 3649,
    "start_time": "2021-06-15T10:32:12.034Z"
   },
   {
    "duration": 351,
    "start_time": "2021-06-15T10:32:15.685Z"
   },
   {
    "duration": 26,
    "start_time": "2021-06-15T10:32:16.038Z"
   },
   {
    "duration": 32,
    "start_time": "2021-06-15T10:32:16.067Z"
   },
   {
    "duration": 10,
    "start_time": "2021-06-15T10:32:16.102Z"
   },
   {
    "duration": 10,
    "start_time": "2021-06-15T10:32:16.115Z"
   },
   {
    "duration": 53,
    "start_time": "2021-06-15T10:32:16.128Z"
   },
   {
    "duration": 13,
    "start_time": "2021-06-15T10:32:16.184Z"
   },
   {
    "duration": 37,
    "start_time": "2021-06-15T10:32:16.201Z"
   },
   {
    "duration": 24,
    "start_time": "2021-06-15T10:32:16.240Z"
   },
   {
    "duration": 8,
    "start_time": "2021-06-15T10:32:16.267Z"
   },
   {
    "duration": 318,
    "start_time": "2021-06-15T10:32:16.277Z"
   },
   {
    "duration": 23,
    "start_time": "2021-06-15T10:32:16.597Z"
   },
   {
    "duration": 11,
    "start_time": "2021-06-15T10:32:16.623Z"
   },
   {
    "duration": 16,
    "start_time": "2021-06-15T10:32:16.661Z"
   },
   {
    "duration": 11,
    "start_time": "2021-06-15T10:32:16.680Z"
   },
   {
    "duration": 7,
    "start_time": "2021-06-15T10:32:16.693Z"
   },
   {
    "duration": 7,
    "start_time": "2021-06-15T10:32:16.703Z"
   },
   {
    "duration": 297,
    "start_time": "2021-06-15T10:32:16.712Z"
   },
   {
    "duration": 26,
    "start_time": "2021-06-15T10:32:17.012Z"
   },
   {
    "duration": 30,
    "start_time": "2021-06-15T10:32:17.041Z"
   },
   {
    "duration": 18,
    "start_time": "2021-06-15T10:32:17.074Z"
   },
   {
    "duration": 11,
    "start_time": "2021-06-15T10:32:17.096Z"
   },
   {
    "duration": 57,
    "start_time": "2021-06-15T10:32:17.110Z"
   },
   {
    "duration": 16,
    "start_time": "2021-06-15T10:32:17.170Z"
   },
   {
    "duration": 432,
    "start_time": "2021-06-15T10:32:17.189Z"
   },
   {
    "duration": 49,
    "start_time": "2021-06-15T10:32:17.624Z"
   },
   {
    "duration": 16,
    "start_time": "2021-06-15T10:32:17.676Z"
   },
   {
    "duration": 33,
    "start_time": "2021-06-15T10:32:17.695Z"
   },
   {
    "duration": 33,
    "start_time": "2021-06-15T10:32:17.731Z"
   },
   {
    "duration": 9,
    "start_time": "2021-06-15T10:32:17.775Z"
   },
   {
    "duration": 7,
    "start_time": "2021-06-15T10:32:17.787Z"
   },
   {
    "duration": 335,
    "start_time": "2021-06-15T10:32:17.797Z"
   },
   {
    "duration": 37,
    "start_time": "2021-06-15T10:32:18.135Z"
   },
   {
    "duration": 2366,
    "start_time": "2021-06-15T10:32:27.500Z"
   },
   {
    "duration": 12,
    "start_time": "2021-06-15T10:32:44.733Z"
   },
   {
    "duration": 44,
    "start_time": "2021-06-15T10:32:54.142Z"
   },
   {
    "duration": 15,
    "start_time": "2021-06-15T10:34:09.101Z"
   },
   {
    "duration": 2303,
    "start_time": "2021-06-15T10:37:00.243Z"
   },
   {
    "duration": 37,
    "start_time": "2021-06-15T10:38:26.181Z"
   },
   {
    "duration": 6658,
    "start_time": "2021-06-15T15:35:49.207Z"
   },
   {
    "duration": 104,
    "start_time": "2021-06-15T15:35:55.868Z"
   },
   {
    "duration": 12,
    "start_time": "2021-06-15T15:35:55.975Z"
   },
   {
    "duration": 39,
    "start_time": "2021-06-15T15:35:55.991Z"
   },
   {
    "duration": 6,
    "start_time": "2021-06-15T15:35:56.033Z"
   },
   {
    "duration": 6,
    "start_time": "2021-06-15T15:35:56.041Z"
   },
   {
    "duration": 19,
    "start_time": "2021-06-15T15:35:56.049Z"
   },
   {
    "duration": 13,
    "start_time": "2021-06-15T15:35:56.071Z"
   },
   {
    "duration": 46,
    "start_time": "2021-06-15T15:35:56.088Z"
   },
   {
    "duration": 13,
    "start_time": "2021-06-15T15:35:56.137Z"
   },
   {
    "duration": 20,
    "start_time": "2021-06-15T15:35:56.152Z"
   },
   {
    "duration": 10,
    "start_time": "2021-06-15T15:35:56.174Z"
   },
   {
    "duration": 47,
    "start_time": "2021-06-15T15:35:56.186Z"
   },
   {
    "duration": 14,
    "start_time": "2021-06-15T15:35:56.235Z"
   },
   {
    "duration": 9,
    "start_time": "2021-06-15T15:35:56.251Z"
   },
   {
    "duration": 16,
    "start_time": "2021-06-15T15:35:56.263Z"
   },
   {
    "duration": 10,
    "start_time": "2021-06-15T15:35:56.326Z"
   },
   {
    "duration": 27,
    "start_time": "2021-06-15T15:35:56.339Z"
   },
   {
    "duration": 8,
    "start_time": "2021-06-15T15:35:56.369Z"
   },
   {
    "duration": 60,
    "start_time": "2021-06-15T15:35:56.380Z"
   },
   {
    "duration": 11,
    "start_time": "2021-06-15T15:35:56.442Z"
   },
   {
    "duration": 5399,
    "start_time": "2021-06-15T15:35:56.455Z"
   },
   {
    "duration": 30,
    "start_time": "2021-06-15T15:36:01.861Z"
   },
   {
    "duration": 54,
    "start_time": "2021-06-15T15:36:01.895Z"
   },
   {
    "duration": 8,
    "start_time": "2021-06-15T15:36:01.952Z"
   },
   {
    "duration": 38,
    "start_time": "2021-06-15T15:36:01.963Z"
   },
   {
    "duration": 44,
    "start_time": "2021-06-15T15:36:02.004Z"
   },
   {
    "duration": 18,
    "start_time": "2021-06-15T15:36:02.051Z"
   },
   {
    "duration": 39,
    "start_time": "2021-06-15T15:36:02.071Z"
   },
   {
    "duration": 23,
    "start_time": "2021-06-15T15:36:02.113Z"
   },
   {
    "duration": 30,
    "start_time": "2021-06-15T15:36:02.139Z"
   },
   {
    "duration": 35,
    "start_time": "2021-06-15T15:36:02.171Z"
   },
   {
    "duration": 24,
    "start_time": "2021-06-15T15:36:02.208Z"
   },
   {
    "duration": 21,
    "start_time": "2021-06-15T15:36:02.234Z"
   },
   {
    "duration": 42,
    "start_time": "2021-06-15T15:36:02.257Z"
   },
   {
    "duration": 54,
    "start_time": "2021-06-15T15:36:02.301Z"
   },
   {
    "duration": 7,
    "start_time": "2021-06-15T15:36:02.357Z"
   },
   {
    "duration": 26,
    "start_time": "2021-06-15T15:36:02.366Z"
   },
   {
    "duration": 377,
    "start_time": "2021-06-15T15:36:02.394Z"
   },
   {
    "duration": 18,
    "start_time": "2021-06-15T15:36:02.773Z"
   },
   {
    "duration": 43,
    "start_time": "2021-06-15T15:36:02.793Z"
   },
   {
    "duration": 15,
    "start_time": "2021-06-15T15:36:02.839Z"
   },
   {
    "duration": 18,
    "start_time": "2021-06-15T15:36:02.857Z"
   },
   {
    "duration": 28,
    "start_time": "2021-06-15T15:36:02.877Z"
   },
   {
    "duration": 11,
    "start_time": "2021-06-15T15:36:02.927Z"
   },
   {
    "duration": 33,
    "start_time": "2021-06-15T15:36:02.941Z"
   },
   {
    "duration": 7,
    "start_time": "2021-06-15T15:36:02.976Z"
   },
   {
    "duration": 22,
    "start_time": "2021-06-15T15:36:02.986Z"
   },
   {
    "duration": 323,
    "start_time": "2021-06-15T15:36:03.011Z"
   },
   {
    "duration": 23,
    "start_time": "2021-06-15T15:36:03.337Z"
   },
   {
    "duration": 11,
    "start_time": "2021-06-15T15:36:03.363Z"
   },
   {
    "duration": 34,
    "start_time": "2021-06-15T15:36:03.377Z"
   },
   {
    "duration": 9,
    "start_time": "2021-06-15T15:36:03.425Z"
   },
   {
    "duration": 29,
    "start_time": "2021-06-15T15:36:03.436Z"
   },
   {
    "duration": 24,
    "start_time": "2021-06-15T15:36:03.467Z"
   },
   {
    "duration": 257,
    "start_time": "2021-06-15T15:36:03.494Z"
   },
   {
    "duration": 25,
    "start_time": "2021-06-15T15:36:03.755Z"
   },
   {
    "duration": 11,
    "start_time": "2021-06-15T15:36:03.782Z"
   },
   {
    "duration": 39,
    "start_time": "2021-06-15T15:36:03.795Z"
   },
   {
    "duration": 13,
    "start_time": "2021-06-15T15:36:03.837Z"
   },
   {
    "duration": 8,
    "start_time": "2021-06-15T15:36:03.853Z"
   },
   {
    "duration": 13,
    "start_time": "2021-06-15T15:36:03.863Z"
   },
   {
    "duration": 338,
    "start_time": "2021-06-15T15:36:03.878Z"
   },
   {
    "duration": 23,
    "start_time": "2021-06-15T15:36:04.225Z"
   },
   {
    "duration": 11,
    "start_time": "2021-06-15T15:36:04.251Z"
   },
   {
    "duration": 18,
    "start_time": "2021-06-15T15:36:04.265Z"
   },
   {
    "duration": 42,
    "start_time": "2021-06-15T15:36:04.285Z"
   },
   {
    "duration": 7,
    "start_time": "2021-06-15T15:36:04.334Z"
   },
   {
    "duration": 8,
    "start_time": "2021-06-15T15:36:04.343Z"
   },
   {
    "duration": 604,
    "start_time": "2021-06-15T15:36:04.353Z"
   },
   {
    "duration": 82,
    "start_time": "2021-06-15T15:36:04.960Z"
   },
   {
    "duration": 3697,
    "start_time": "2021-06-15T15:39:08.817Z"
   },
   {
    "duration": 110,
    "start_time": "2021-06-15T15:39:12.517Z"
   },
   {
    "duration": 15,
    "start_time": "2021-06-15T15:39:12.631Z"
   },
   {
    "duration": 11,
    "start_time": "2021-06-15T15:39:12.649Z"
   },
   {
    "duration": 6,
    "start_time": "2021-06-15T15:39:12.662Z"
   },
   {
    "duration": 9,
    "start_time": "2021-06-15T15:39:12.671Z"
   },
   {
    "duration": 52,
    "start_time": "2021-06-15T15:39:12.682Z"
   },
   {
    "duration": 15,
    "start_time": "2021-06-15T15:39:12.740Z"
   },
   {
    "duration": 8,
    "start_time": "2021-06-15T15:39:12.758Z"
   },
   {
    "duration": 11,
    "start_time": "2021-06-15T15:39:12.768Z"
   },
   {
    "duration": 51,
    "start_time": "2021-06-15T15:39:12.781Z"
   },
   {
    "duration": 12,
    "start_time": "2021-06-15T15:39:12.835Z"
   },
   {
    "duration": 11,
    "start_time": "2021-06-15T15:39:12.849Z"
   },
   {
    "duration": 12,
    "start_time": "2021-06-15T15:39:12.862Z"
   },
   {
    "duration": 49,
    "start_time": "2021-06-15T15:39:12.876Z"
   },
   {
    "duration": 18,
    "start_time": "2021-06-15T15:39:12.928Z"
   },
   {
    "duration": 11,
    "start_time": "2021-06-15T15:39:12.949Z"
   },
   {
    "duration": 23,
    "start_time": "2021-06-15T15:39:12.963Z"
   },
   {
    "duration": 44,
    "start_time": "2021-06-15T15:39:12.989Z"
   },
   {
    "duration": 28,
    "start_time": "2021-06-15T15:39:13.036Z"
   },
   {
    "duration": 10,
    "start_time": "2021-06-15T15:39:13.067Z"
   },
   {
    "duration": 4857,
    "start_time": "2021-06-15T15:39:13.079Z"
   },
   {
    "duration": 28,
    "start_time": "2021-06-15T15:39:17.943Z"
   },
   {
    "duration": 55,
    "start_time": "2021-06-15T15:39:17.975Z"
   },
   {
    "duration": 5,
    "start_time": "2021-06-15T15:39:18.032Z"
   },
   {
    "duration": 27,
    "start_time": "2021-06-15T15:39:18.040Z"
   },
   {
    "duration": 33,
    "start_time": "2021-06-15T15:39:18.069Z"
   },
   {
    "duration": 10,
    "start_time": "2021-06-15T15:39:18.126Z"
   },
   {
    "duration": 11,
    "start_time": "2021-06-15T15:39:18.138Z"
   },
   {
    "duration": 10,
    "start_time": "2021-06-15T15:39:18.152Z"
   },
   {
    "duration": 12,
    "start_time": "2021-06-15T15:39:18.165Z"
   },
   {
    "duration": 73,
    "start_time": "2021-06-15T15:39:18.180Z"
   },
   {
    "duration": 11,
    "start_time": "2021-06-15T15:39:18.256Z"
   },
   {
    "duration": 10,
    "start_time": "2021-06-15T15:39:18.269Z"
   },
   {
    "duration": 45,
    "start_time": "2021-06-15T15:39:18.282Z"
   },
   {
    "duration": 52,
    "start_time": "2021-06-15T15:39:18.329Z"
   },
   {
    "duration": 6,
    "start_time": "2021-06-15T15:39:18.384Z"
   },
   {
    "duration": 33,
    "start_time": "2021-06-15T15:39:18.392Z"
   },
   {
    "duration": 391,
    "start_time": "2021-06-15T15:39:18.427Z"
   },
   {
    "duration": 16,
    "start_time": "2021-06-15T15:39:18.820Z"
   },
   {
    "duration": 35,
    "start_time": "2021-06-15T15:39:18.838Z"
   },
   {
    "duration": 14,
    "start_time": "2021-06-15T15:39:18.875Z"
   },
   {
    "duration": 36,
    "start_time": "2021-06-15T15:39:18.891Z"
   },
   {
    "duration": 20,
    "start_time": "2021-06-15T15:39:18.929Z"
   },
   {
    "duration": 15,
    "start_time": "2021-06-15T15:39:18.952Z"
   },
   {
    "duration": 26,
    "start_time": "2021-06-15T15:39:18.969Z"
   },
   {
    "duration": 32,
    "start_time": "2021-06-15T15:39:18.997Z"
   },
   {
    "duration": 8,
    "start_time": "2021-06-15T15:39:19.031Z"
   },
   {
    "duration": 317,
    "start_time": "2021-06-15T15:39:19.041Z"
   },
   {
    "duration": 26,
    "start_time": "2021-06-15T15:39:19.361Z"
   },
   {
    "duration": 11,
    "start_time": "2021-06-15T15:39:19.389Z"
   },
   {
    "duration": 19,
    "start_time": "2021-06-15T15:39:19.426Z"
   },
   {
    "duration": 10,
    "start_time": "2021-06-15T15:39:19.449Z"
   },
   {
    "duration": 7,
    "start_time": "2021-06-15T15:39:19.461Z"
   },
   {
    "duration": 8,
    "start_time": "2021-06-15T15:39:19.470Z"
   },
   {
    "duration": 258,
    "start_time": "2021-06-15T15:39:19.525Z"
   },
   {
    "duration": 23,
    "start_time": "2021-06-15T15:39:19.786Z"
   },
   {
    "duration": 13,
    "start_time": "2021-06-15T15:39:19.826Z"
   },
   {
    "duration": 23,
    "start_time": "2021-06-15T15:39:19.842Z"
   },
   {
    "duration": 9,
    "start_time": "2021-06-15T15:39:19.867Z"
   },
   {
    "duration": 8,
    "start_time": "2021-06-15T15:39:19.879Z"
   },
   {
    "duration": 41,
    "start_time": "2021-06-15T15:39:19.889Z"
   },
   {
    "duration": 311,
    "start_time": "2021-06-15T15:39:19.933Z"
   },
   {
    "duration": 26,
    "start_time": "2021-06-15T15:39:20.247Z"
   },
   {
    "duration": 13,
    "start_time": "2021-06-15T15:39:20.276Z"
   },
   {
    "duration": 21,
    "start_time": "2021-06-15T15:39:20.327Z"
   },
   {
    "duration": 9,
    "start_time": "2021-06-15T15:39:20.351Z"
   },
   {
    "duration": 7,
    "start_time": "2021-06-15T15:39:20.367Z"
   },
   {
    "duration": 7,
    "start_time": "2021-06-15T15:39:20.377Z"
   },
   {
    "duration": 341,
    "start_time": "2021-06-15T15:39:20.387Z"
   },
   {
    "duration": 27,
    "start_time": "2021-06-15T15:39:20.730Z"
   },
   {
    "duration": 40,
    "start_time": "2021-06-15T16:34:53.365Z"
   },
   {
    "duration": 3575,
    "start_time": "2021-06-15T16:36:40.462Z"
   },
   {
    "duration": 107,
    "start_time": "2021-06-15T16:36:44.040Z"
   },
   {
    "duration": 12,
    "start_time": "2021-06-15T16:36:44.150Z"
   },
   {
    "duration": 15,
    "start_time": "2021-06-15T16:36:44.165Z"
   },
   {
    "duration": 51,
    "start_time": "2021-06-15T16:36:44.182Z"
   },
   {
    "duration": 6,
    "start_time": "2021-06-15T16:36:44.235Z"
   },
   {
    "duration": 15,
    "start_time": "2021-06-15T16:36:44.243Z"
   },
   {
    "duration": 15,
    "start_time": "2021-06-15T16:36:44.262Z"
   },
   {
    "duration": 13,
    "start_time": "2021-06-15T16:36:44.280Z"
   },
   {
    "duration": 33,
    "start_time": "2021-06-15T16:36:44.296Z"
   },
   {
    "duration": 10,
    "start_time": "2021-06-15T16:36:44.331Z"
   },
   {
    "duration": 13,
    "start_time": "2021-06-15T16:36:44.344Z"
   },
   {
    "duration": 11,
    "start_time": "2021-06-15T16:36:44.359Z"
   },
   {
    "duration": 8,
    "start_time": "2021-06-15T16:36:44.373Z"
   },
   {
    "duration": 12,
    "start_time": "2021-06-15T16:36:44.425Z"
   },
   {
    "duration": 12,
    "start_time": "2021-06-15T16:36:44.439Z"
   },
   {
    "duration": 17,
    "start_time": "2021-06-15T16:36:44.454Z"
   },
   {
    "duration": 16,
    "start_time": "2021-06-15T16:36:44.473Z"
   },
   {
    "duration": 24,
    "start_time": "2021-06-15T16:36:44.525Z"
   },
   {
    "duration": 18,
    "start_time": "2021-06-15T16:36:44.551Z"
   },
   {
    "duration": 32,
    "start_time": "2021-06-15T16:36:44.571Z"
   },
   {
    "duration": 28,
    "start_time": "2021-06-15T16:36:44.605Z"
   },
   {
    "duration": 5072,
    "start_time": "2021-06-15T16:36:44.639Z"
   },
   {
    "duration": 29,
    "start_time": "2021-06-15T16:36:49.725Z"
   },
   {
    "duration": 43,
    "start_time": "2021-06-15T16:36:49.756Z"
   },
   {
    "duration": 26,
    "start_time": "2021-06-15T16:36:49.801Z"
   },
   {
    "duration": 27,
    "start_time": "2021-06-15T16:36:49.829Z"
   },
   {
    "duration": 27,
    "start_time": "2021-06-15T16:36:49.858Z"
   },
   {
    "duration": 38,
    "start_time": "2021-06-15T16:36:49.888Z"
   },
   {
    "duration": 9,
    "start_time": "2021-06-15T16:36:49.928Z"
   },
   {
    "duration": 10,
    "start_time": "2021-06-15T16:36:49.939Z"
   },
   {
    "duration": 12,
    "start_time": "2021-06-15T16:36:49.951Z"
   },
   {
    "duration": 63,
    "start_time": "2021-06-15T16:36:49.965Z"
   },
   {
    "duration": 15,
    "start_time": "2021-06-15T16:36:50.030Z"
   },
   {
    "duration": 16,
    "start_time": "2021-06-15T16:36:50.048Z"
   },
   {
    "duration": 15,
    "start_time": "2021-06-15T16:36:50.066Z"
   },
   {
    "duration": 70,
    "start_time": "2021-06-15T16:36:50.084Z"
   },
   {
    "duration": 6,
    "start_time": "2021-06-15T16:36:50.156Z"
   },
   {
    "duration": 373,
    "start_time": "2021-06-15T16:36:50.165Z"
   },
   {
    "duration": 17,
    "start_time": "2021-06-15T16:36:50.541Z"
   },
   {
    "duration": 35,
    "start_time": "2021-06-15T16:36:50.560Z"
   },
   {
    "duration": 32,
    "start_time": "2021-06-15T16:36:50.598Z"
   },
   {
    "duration": 11,
    "start_time": "2021-06-15T16:36:50.632Z"
   },
   {
    "duration": 23,
    "start_time": "2021-06-15T16:36:50.646Z"
   },
   {
    "duration": 12,
    "start_time": "2021-06-15T16:36:50.671Z"
   },
   {
    "duration": 57,
    "start_time": "2021-06-15T16:36:50.685Z"
   },
   {
    "duration": 8,
    "start_time": "2021-06-15T16:36:50.744Z"
   },
   {
    "duration": 6,
    "start_time": "2021-06-15T16:36:50.755Z"
   },
   {
    "duration": 340,
    "start_time": "2021-06-15T16:36:50.764Z"
   },
   {
    "duration": 33,
    "start_time": "2021-06-15T16:36:51.106Z"
   },
   {
    "duration": 13,
    "start_time": "2021-06-15T16:36:51.141Z"
   },
   {
    "duration": 20,
    "start_time": "2021-06-15T16:36:51.157Z"
   },
   {
    "duration": 16,
    "start_time": "2021-06-15T16:36:51.180Z"
   },
   {
    "duration": 33,
    "start_time": "2021-06-15T16:36:51.198Z"
   },
   {
    "duration": 9,
    "start_time": "2021-06-15T16:36:51.233Z"
   },
   {
    "duration": 272,
    "start_time": "2021-06-15T16:36:51.244Z"
   },
   {
    "duration": 25,
    "start_time": "2021-06-15T16:36:51.525Z"
   },
   {
    "duration": 12,
    "start_time": "2021-06-15T16:36:51.552Z"
   },
   {
    "duration": 22,
    "start_time": "2021-06-15T16:36:51.566Z"
   },
   {
    "duration": 39,
    "start_time": "2021-06-15T16:36:51.590Z"
   },
   {
    "duration": 7,
    "start_time": "2021-06-15T16:36:51.632Z"
   },
   {
    "duration": 14,
    "start_time": "2021-06-15T16:36:51.641Z"
   },
   {
    "duration": 297,
    "start_time": "2021-06-15T16:36:51.658Z"
   },
   {
    "duration": 25,
    "start_time": "2021-06-15T16:36:51.957Z"
   },
   {
    "duration": 12,
    "start_time": "2021-06-15T16:36:51.984Z"
   },
   {
    "duration": 17,
    "start_time": "2021-06-15T16:36:52.025Z"
   },
   {
    "duration": 10,
    "start_time": "2021-06-15T16:36:52.044Z"
   },
   {
    "duration": 10,
    "start_time": "2021-06-15T16:36:52.061Z"
   },
   {
    "duration": 10,
    "start_time": "2021-06-15T16:36:52.073Z"
   },
   {
    "duration": 316,
    "start_time": "2021-06-15T16:36:52.086Z"
   },
   {
    "duration": 36,
    "start_time": "2021-06-15T16:36:52.405Z"
   },
   {
    "duration": 38,
    "start_time": "2021-06-15T16:37:30.439Z"
   },
   {
    "duration": 36,
    "start_time": "2021-06-15T16:37:35.348Z"
   },
   {
    "duration": 3556,
    "start_time": "2021-06-15T16:37:44.883Z"
   },
   {
    "duration": 108,
    "start_time": "2021-06-15T16:37:48.442Z"
   },
   {
    "duration": 13,
    "start_time": "2021-06-15T16:37:48.553Z"
   },
   {
    "duration": 12,
    "start_time": "2021-06-15T16:37:48.569Z"
   },
   {
    "duration": 56,
    "start_time": "2021-06-15T16:37:48.583Z"
   },
   {
    "duration": 6,
    "start_time": "2021-06-15T16:37:48.642Z"
   },
   {
    "duration": 8,
    "start_time": "2021-06-15T16:37:48.650Z"
   },
   {
    "duration": 15,
    "start_time": "2021-06-15T16:37:48.664Z"
   },
   {
    "duration": 52,
    "start_time": "2021-06-15T16:37:48.682Z"
   },
   {
    "duration": 10,
    "start_time": "2021-06-15T16:37:48.737Z"
   },
   {
    "duration": 11,
    "start_time": "2021-06-15T16:37:48.749Z"
   },
   {
    "duration": 10,
    "start_time": "2021-06-15T16:37:48.762Z"
   },
   {
    "duration": 57,
    "start_time": "2021-06-15T16:37:48.775Z"
   },
   {
    "duration": 9,
    "start_time": "2021-06-15T16:37:48.834Z"
   },
   {
    "duration": 13,
    "start_time": "2021-06-15T16:37:48.845Z"
   },
   {
    "duration": 8,
    "start_time": "2021-06-15T16:37:48.860Z"
   },
   {
    "duration": 57,
    "start_time": "2021-06-15T16:37:48.870Z"
   },
   {
    "duration": 10,
    "start_time": "2021-06-15T16:37:48.930Z"
   },
   {
    "duration": 27,
    "start_time": "2021-06-15T16:37:48.942Z"
   },
   {
    "duration": 11,
    "start_time": "2021-06-15T16:37:48.972Z"
   },
   {
    "duration": 61,
    "start_time": "2021-06-15T16:37:48.985Z"
   },
   {
    "duration": 10,
    "start_time": "2021-06-15T16:37:49.048Z"
   },
   {
    "duration": 4677,
    "start_time": "2021-06-15T16:37:49.064Z"
   },
   {
    "duration": 28,
    "start_time": "2021-06-15T16:37:53.746Z"
   },
   {
    "duration": 58,
    "start_time": "2021-06-15T16:37:53.777Z"
   },
   {
    "duration": 6,
    "start_time": "2021-06-15T16:37:53.837Z"
   },
   {
    "duration": 26,
    "start_time": "2021-06-15T16:37:53.846Z"
   },
   {
    "duration": 28,
    "start_time": "2021-06-15T16:37:53.874Z"
   },
   {
    "duration": 10,
    "start_time": "2021-06-15T16:37:53.926Z"
   },
   {
    "duration": 10,
    "start_time": "2021-06-15T16:37:53.939Z"
   },
   {
    "duration": 9,
    "start_time": "2021-06-15T16:37:53.952Z"
   },
   {
    "duration": 12,
    "start_time": "2021-06-15T16:37:53.964Z"
   },
   {
    "duration": 72,
    "start_time": "2021-06-15T16:37:53.979Z"
   },
   {
    "duration": 15,
    "start_time": "2021-06-15T16:37:54.053Z"
   },
   {
    "duration": 11,
    "start_time": "2021-06-15T16:37:54.070Z"
   },
   {
    "duration": 42,
    "start_time": "2021-06-15T16:37:54.084Z"
   },
   {
    "duration": 47,
    "start_time": "2021-06-15T16:37:54.129Z"
   },
   {
    "duration": 5,
    "start_time": "2021-06-15T16:37:54.178Z"
   },
   {
    "duration": 388,
    "start_time": "2021-06-15T16:37:54.185Z"
   },
   {
    "duration": 17,
    "start_time": "2021-06-15T16:37:54.575Z"
   },
   {
    "duration": 55,
    "start_time": "2021-06-15T16:37:54.596Z"
   },
   {
    "duration": 10,
    "start_time": "2021-06-15T16:37:54.653Z"
   },
   {
    "duration": 11,
    "start_time": "2021-06-15T16:37:54.665Z"
   },
   {
    "duration": 46,
    "start_time": "2021-06-15T16:37:54.679Z"
   },
   {
    "duration": 13,
    "start_time": "2021-06-15T16:37:54.729Z"
   },
   {
    "duration": 20,
    "start_time": "2021-06-15T16:37:54.745Z"
   },
   {
    "duration": 7,
    "start_time": "2021-06-15T16:37:54.767Z"
   },
   {
    "duration": 50,
    "start_time": "2021-06-15T16:37:54.776Z"
   },
   {
    "duration": 312,
    "start_time": "2021-06-15T16:37:54.829Z"
   },
   {
    "duration": 25,
    "start_time": "2021-06-15T16:37:55.143Z"
   },
   {
    "duration": 12,
    "start_time": "2021-06-15T16:37:55.170Z"
   },
   {
    "duration": 50,
    "start_time": "2021-06-15T16:37:55.185Z"
   },
   {
    "duration": 10,
    "start_time": "2021-06-15T16:37:55.238Z"
   },
   {
    "duration": 11,
    "start_time": "2021-06-15T16:37:55.250Z"
   },
   {
    "duration": 9,
    "start_time": "2021-06-15T16:37:55.263Z"
   },
   {
    "duration": 385,
    "start_time": "2021-06-15T16:37:55.274Z"
   },
   {
    "duration": 25,
    "start_time": "2021-06-15T16:37:55.662Z"
   },
   {
    "duration": 12,
    "start_time": "2021-06-15T16:37:55.689Z"
   },
   {
    "duration": 16,
    "start_time": "2021-06-15T16:37:55.726Z"
   },
   {
    "duration": 17,
    "start_time": "2021-06-15T16:37:55.744Z"
   },
   {
    "duration": 10,
    "start_time": "2021-06-15T16:37:55.763Z"
   },
   {
    "duration": 10,
    "start_time": "2021-06-15T16:37:55.775Z"
   },
   {
    "duration": 378,
    "start_time": "2021-06-15T16:37:55.787Z"
   },
   {
    "duration": 77,
    "start_time": "2021-06-15T16:37:56.167Z"
   },
   {
    "duration": 11,
    "start_time": "2021-06-15T16:37:56.247Z"
   },
   {
    "duration": 75,
    "start_time": "2021-06-15T16:37:56.260Z"
   },
   {
    "duration": 9,
    "start_time": "2021-06-15T16:37:56.337Z"
   },
   {
    "duration": 7,
    "start_time": "2021-06-15T16:37:56.353Z"
   },
   {
    "duration": 64,
    "start_time": "2021-06-15T16:37:56.362Z"
   },
   {
    "duration": 499,
    "start_time": "2021-06-15T16:37:56.428Z"
   },
   {
    "duration": 25,
    "start_time": "2021-06-15T16:37:56.929Z"
   },
   {
    "duration": 38,
    "start_time": "2021-06-15T16:48:44.844Z"
   },
   {
    "duration": 3685,
    "start_time": "2021-06-15T16:48:49.191Z"
   },
   {
    "duration": 107,
    "start_time": "2021-06-15T16:48:52.879Z"
   },
   {
    "duration": 13,
    "start_time": "2021-06-15T16:48:52.989Z"
   },
   {
    "duration": 23,
    "start_time": "2021-06-15T16:48:53.005Z"
   },
   {
    "duration": 27,
    "start_time": "2021-06-15T16:48:53.030Z"
   },
   {
    "duration": 6,
    "start_time": "2021-06-15T16:48:53.059Z"
   },
   {
    "duration": 6,
    "start_time": "2021-06-15T16:48:53.067Z"
   },
   {
    "duration": 55,
    "start_time": "2021-06-15T16:48:53.077Z"
   },
   {
    "duration": 15,
    "start_time": "2021-06-15T16:48:53.135Z"
   },
   {
    "duration": 10,
    "start_time": "2021-06-15T16:48:53.152Z"
   },
   {
    "duration": 12,
    "start_time": "2021-06-15T16:48:53.164Z"
   },
   {
    "duration": 11,
    "start_time": "2021-06-15T16:48:53.178Z"
   },
   {
    "duration": 8,
    "start_time": "2021-06-15T16:48:53.227Z"
   },
   {
    "duration": 9,
    "start_time": "2021-06-15T16:48:53.237Z"
   },
   {
    "duration": 11,
    "start_time": "2021-06-15T16:48:53.248Z"
   },
   {
    "duration": 8,
    "start_time": "2021-06-15T16:48:53.262Z"
   },
   {
    "duration": 62,
    "start_time": "2021-06-15T16:48:53.273Z"
   },
   {
    "duration": 9,
    "start_time": "2021-06-15T16:48:53.338Z"
   },
   {
    "duration": 28,
    "start_time": "2021-06-15T16:48:53.350Z"
   },
   {
    "duration": 10,
    "start_time": "2021-06-15T16:48:53.380Z"
   },
   {
    "duration": 57,
    "start_time": "2021-06-15T16:48:53.393Z"
   },
   {
    "duration": 9,
    "start_time": "2021-06-15T16:48:53.453Z"
   },
   {
    "duration": 5022,
    "start_time": "2021-06-15T16:48:53.469Z"
   },
   {
    "duration": 41,
    "start_time": "2021-06-15T16:48:58.497Z"
   },
   {
    "duration": 43,
    "start_time": "2021-06-15T16:48:58.541Z"
   },
   {
    "duration": 6,
    "start_time": "2021-06-15T16:48:58.586Z"
   },
   {
    "duration": 55,
    "start_time": "2021-06-15T16:48:58.595Z"
   },
   {
    "duration": 27,
    "start_time": "2021-06-15T16:48:58.652Z"
   },
   {
    "duration": 15,
    "start_time": "2021-06-15T16:48:58.681Z"
   },
   {
    "duration": 34,
    "start_time": "2021-06-15T16:48:58.699Z"
   },
   {
    "duration": 8,
    "start_time": "2021-06-15T16:48:58.736Z"
   },
   {
    "duration": 11,
    "start_time": "2021-06-15T16:48:58.748Z"
   },
   {
    "duration": 67,
    "start_time": "2021-06-15T16:48:58.762Z"
   },
   {
    "duration": 11,
    "start_time": "2021-06-15T16:48:58.831Z"
   },
   {
    "duration": 14,
    "start_time": "2021-06-15T16:48:58.845Z"
   },
   {
    "duration": 15,
    "start_time": "2021-06-15T16:48:58.862Z"
   },
   {
    "duration": 88,
    "start_time": "2021-06-15T16:48:58.879Z"
   },
   {
    "duration": 7,
    "start_time": "2021-06-15T16:48:58.969Z"
   },
   {
    "duration": 479,
    "start_time": "2021-06-15T16:48:58.978Z"
   },
   {
    "duration": 18,
    "start_time": "2021-06-15T16:48:59.459Z"
   },
   {
    "duration": 51,
    "start_time": "2021-06-15T16:48:59.479Z"
   },
   {
    "duration": 17,
    "start_time": "2021-06-15T16:48:59.533Z"
   },
   {
    "duration": 11,
    "start_time": "2021-06-15T16:48:59.552Z"
   },
   {
    "duration": 21,
    "start_time": "2021-06-15T16:48:59.566Z"
   },
   {
    "duration": 43,
    "start_time": "2021-06-15T16:48:59.589Z"
   },
   {
    "duration": 27,
    "start_time": "2021-06-15T16:48:59.635Z"
   },
   {
    "duration": 9,
    "start_time": "2021-06-15T16:48:59.666Z"
   },
   {
    "duration": 7,
    "start_time": "2021-06-15T16:48:59.678Z"
   },
   {
    "duration": 353,
    "start_time": "2021-06-15T16:48:59.724Z"
   },
   {
    "duration": 26,
    "start_time": "2021-06-15T16:49:00.079Z"
   },
   {
    "duration": 27,
    "start_time": "2021-06-15T16:49:00.107Z"
   },
   {
    "duration": 20,
    "start_time": "2021-06-15T16:49:00.136Z"
   },
   {
    "duration": 9,
    "start_time": "2021-06-15T16:49:00.158Z"
   },
   {
    "duration": 12,
    "start_time": "2021-06-15T16:49:00.169Z"
   },
   {
    "duration": 46,
    "start_time": "2021-06-15T16:49:00.183Z"
   },
   {
    "duration": 263,
    "start_time": "2021-06-15T16:49:00.231Z"
   },
   {
    "duration": 37,
    "start_time": "2021-06-15T16:49:00.497Z"
   },
   {
    "duration": 12,
    "start_time": "2021-06-15T16:49:00.536Z"
   },
   {
    "duration": 27,
    "start_time": "2021-06-15T16:49:00.550Z"
   },
   {
    "duration": 10,
    "start_time": "2021-06-15T16:49:00.579Z"
   },
   {
    "duration": 36,
    "start_time": "2021-06-15T16:49:00.591Z"
   },
   {
    "duration": 10,
    "start_time": "2021-06-15T16:49:00.630Z"
   },
   {
    "duration": 295,
    "start_time": "2021-06-15T16:49:00.643Z"
   },
   {
    "duration": 24,
    "start_time": "2021-06-15T16:49:00.941Z"
   },
   {
    "duration": 12,
    "start_time": "2021-06-15T16:49:00.967Z"
   },
   {
    "duration": 51,
    "start_time": "2021-06-15T16:49:00.981Z"
   },
   {
    "duration": 9,
    "start_time": "2021-06-15T16:49:01.035Z"
   },
   {
    "duration": 7,
    "start_time": "2021-06-15T16:49:01.052Z"
   },
   {
    "duration": 15,
    "start_time": "2021-06-15T16:49:01.061Z"
   },
   {
    "duration": 308,
    "start_time": "2021-06-15T16:49:01.078Z"
   },
   {
    "duration": 24,
    "start_time": "2021-06-15T16:49:01.388Z"
   },
   {
    "duration": 39,
    "start_time": "2021-06-15T16:56:01.245Z"
   },
   {
    "duration": 3959,
    "start_time": "2021-06-15T16:56:05.478Z"
   },
   {
    "duration": 107,
    "start_time": "2021-06-15T16:56:09.440Z"
   },
   {
    "duration": 13,
    "start_time": "2021-06-15T16:56:09.550Z"
   },
   {
    "duration": 12,
    "start_time": "2021-06-15T16:56:09.566Z"
   },
   {
    "duration": 62,
    "start_time": "2021-06-15T16:56:09.581Z"
   },
   {
    "duration": 8,
    "start_time": "2021-06-15T16:56:09.645Z"
   },
   {
    "duration": 6,
    "start_time": "2021-06-15T16:56:09.655Z"
   },
   {
    "duration": 14,
    "start_time": "2021-06-15T16:56:09.665Z"
   },
   {
    "duration": 49,
    "start_time": "2021-06-15T16:56:09.682Z"
   },
   {
    "duration": 8,
    "start_time": "2021-06-15T16:56:09.733Z"
   },
   {
    "duration": 11,
    "start_time": "2021-06-15T16:56:09.743Z"
   },
   {
    "duration": 20,
    "start_time": "2021-06-15T16:56:09.757Z"
   },
   {
    "duration": 134,
    "start_time": "2021-06-15T16:56:09.780Z"
   },
   {
    "duration": 15,
    "start_time": "2021-06-15T16:56:09.916Z"
   },
   {
    "duration": 12,
    "start_time": "2021-06-15T16:56:09.934Z"
   },
   {
    "duration": 11,
    "start_time": "2021-06-15T16:56:09.949Z"
   },
   {
    "duration": 19,
    "start_time": "2021-06-15T16:56:09.962Z"
   },
   {
    "duration": 11,
    "start_time": "2021-06-15T16:56:10.025Z"
   },
   {
    "duration": 29,
    "start_time": "2021-06-15T16:56:10.038Z"
   },
   {
    "duration": 10,
    "start_time": "2021-06-15T16:56:10.070Z"
   },
   {
    "duration": 60,
    "start_time": "2021-06-15T16:56:10.083Z"
   },
   {
    "duration": 12,
    "start_time": "2021-06-15T16:56:10.145Z"
   },
   {
    "duration": 4731,
    "start_time": "2021-06-15T16:56:10.164Z"
   },
   {
    "duration": 41,
    "start_time": "2021-06-15T16:56:14.899Z"
   },
   {
    "duration": 41,
    "start_time": "2021-06-15T16:56:14.943Z"
   },
   {
    "duration": 9,
    "start_time": "2021-06-15T16:56:14.987Z"
   },
   {
    "duration": 48,
    "start_time": "2021-06-15T16:56:14.998Z"
   },
   {
    "duration": 29,
    "start_time": "2021-06-15T16:56:15.048Z"
   },
   {
    "duration": 14,
    "start_time": "2021-06-15T16:56:15.079Z"
   },
   {
    "duration": 38,
    "start_time": "2021-06-15T16:56:15.095Z"
   },
   {
    "duration": 10,
    "start_time": "2021-06-15T16:56:15.135Z"
   },
   {
    "duration": 12,
    "start_time": "2021-06-15T16:56:15.147Z"
   },
   {
    "duration": 33,
    "start_time": "2021-06-15T16:56:15.161Z"
   },
   {
    "duration": 11,
    "start_time": "2021-06-15T16:56:15.225Z"
   },
   {
    "duration": 10,
    "start_time": "2021-06-15T16:56:15.238Z"
   },
   {
    "duration": 14,
    "start_time": "2021-06-15T16:56:15.251Z"
   },
   {
    "duration": 83,
    "start_time": "2021-06-15T16:56:15.268Z"
   },
   {
    "duration": 6,
    "start_time": "2021-06-15T16:56:15.353Z"
   },
   {
    "duration": 473,
    "start_time": "2021-06-15T16:56:15.361Z"
   },
   {
    "duration": 16,
    "start_time": "2021-06-15T16:56:15.837Z"
   },
   {
    "duration": 34,
    "start_time": "2021-06-15T16:56:15.855Z"
   },
   {
    "duration": 35,
    "start_time": "2021-06-15T16:56:15.892Z"
   },
   {
    "duration": 9,
    "start_time": "2021-06-15T16:56:15.930Z"
   },
   {
    "duration": 19,
    "start_time": "2021-06-15T16:56:15.942Z"
   },
   {
    "duration": 11,
    "start_time": "2021-06-15T16:56:15.964Z"
   },
   {
    "duration": 64,
    "start_time": "2021-06-15T16:56:15.977Z"
   },
   {
    "duration": 7,
    "start_time": "2021-06-15T16:56:16.044Z"
   },
   {
    "duration": 8,
    "start_time": "2021-06-15T16:56:16.053Z"
   },
   {
    "duration": 312,
    "start_time": "2021-06-15T16:56:16.063Z"
   },
   {
    "duration": 29,
    "start_time": "2021-06-15T16:56:16.378Z"
   },
   {
    "duration": 25,
    "start_time": "2021-06-15T16:56:16.409Z"
   },
   {
    "duration": 23,
    "start_time": "2021-06-15T16:56:16.437Z"
   },
   {
    "duration": 10,
    "start_time": "2021-06-15T16:56:16.463Z"
   },
   {
    "duration": 8,
    "start_time": "2021-06-15T16:56:16.475Z"
   },
   {
    "duration": 40,
    "start_time": "2021-06-15T16:56:16.485Z"
   },
   {
    "duration": 263,
    "start_time": "2021-06-15T16:56:16.528Z"
   },
   {
    "duration": 42,
    "start_time": "2021-06-15T16:56:16.794Z"
   },
   {
    "duration": 12,
    "start_time": "2021-06-15T16:56:16.838Z"
   },
   {
    "duration": 17,
    "start_time": "2021-06-15T16:56:16.852Z"
   },
   {
    "duration": 9,
    "start_time": "2021-06-15T16:56:16.871Z"
   },
   {
    "duration": 47,
    "start_time": "2021-06-15T16:56:16.882Z"
   },
   {
    "duration": 7,
    "start_time": "2021-06-15T16:56:16.932Z"
   },
   {
    "duration": 304,
    "start_time": "2021-06-15T16:56:16.942Z"
   },
   {
    "duration": 29,
    "start_time": "2021-06-15T16:56:17.248Z"
   },
   {
    "duration": 13,
    "start_time": "2021-06-15T16:56:17.280Z"
   },
   {
    "duration": 18,
    "start_time": "2021-06-15T16:56:17.326Z"
   },
   {
    "duration": 12,
    "start_time": "2021-06-15T16:56:17.347Z"
   },
   {
    "duration": 7,
    "start_time": "2021-06-15T16:56:17.367Z"
   },
   {
    "duration": 49,
    "start_time": "2021-06-15T16:56:17.378Z"
   },
   {
    "duration": 299,
    "start_time": "2021-06-15T16:56:17.430Z"
   },
   {
    "duration": 31,
    "start_time": "2021-06-15T16:56:17.732Z"
   },
   {
    "duration": 463,
    "start_time": "2021-06-15T17:16:12.872Z"
   },
   {
    "duration": 6,
    "start_time": "2021-06-15T17:17:21.555Z"
   },
   {
    "duration": 4176,
    "start_time": "2021-06-15T17:17:26.815Z"
   },
   {
    "duration": 113,
    "start_time": "2021-06-15T17:17:30.994Z"
   },
   {
    "duration": 21,
    "start_time": "2021-06-15T17:17:31.111Z"
   },
   {
    "duration": 17,
    "start_time": "2021-06-15T17:17:31.135Z"
   },
   {
    "duration": 29,
    "start_time": "2021-06-15T17:17:31.155Z"
   },
   {
    "duration": 39,
    "start_time": "2021-06-15T17:17:31.186Z"
   },
   {
    "duration": 6,
    "start_time": "2021-06-15T17:17:31.227Z"
   },
   {
    "duration": 17,
    "start_time": "2021-06-15T17:17:31.239Z"
   },
   {
    "duration": 14,
    "start_time": "2021-06-15T17:17:31.260Z"
   },
   {
    "duration": 55,
    "start_time": "2021-06-15T17:17:31.277Z"
   },
   {
    "duration": 12,
    "start_time": "2021-06-15T17:17:31.335Z"
   },
   {
    "duration": 19,
    "start_time": "2021-06-15T17:17:31.350Z"
   },
   {
    "duration": 17,
    "start_time": "2021-06-15T17:17:31.371Z"
   },
   {
    "duration": 11,
    "start_time": "2021-06-15T17:17:31.390Z"
   },
   {
    "duration": 11,
    "start_time": "2021-06-15T17:17:31.426Z"
   },
   {
    "duration": 26,
    "start_time": "2021-06-15T17:17:31.439Z"
   },
   {
    "duration": 21,
    "start_time": "2021-06-15T17:17:31.467Z"
   },
   {
    "duration": 10,
    "start_time": "2021-06-15T17:17:31.490Z"
   },
   {
    "duration": 31,
    "start_time": "2021-06-15T17:17:31.503Z"
   },
   {
    "duration": 9,
    "start_time": "2021-06-15T17:17:31.537Z"
   },
   {
    "duration": 63,
    "start_time": "2021-06-15T17:17:31.549Z"
   },
   {
    "duration": 21,
    "start_time": "2021-06-15T17:17:31.614Z"
   },
   {
    "duration": 5159,
    "start_time": "2021-06-15T17:17:31.641Z"
   },
   {
    "duration": 37,
    "start_time": "2021-06-15T17:17:36.804Z"
   },
   {
    "duration": 40,
    "start_time": "2021-06-15T17:17:36.843Z"
   },
   {
    "duration": 6,
    "start_time": "2021-06-15T17:17:36.886Z"
   },
   {
    "duration": 26,
    "start_time": "2021-06-15T17:17:36.926Z"
   },
   {
    "duration": 33,
    "start_time": "2021-06-15T17:17:36.954Z"
   },
   {
    "duration": 35,
    "start_time": "2021-06-15T17:17:36.990Z"
   },
   {
    "duration": 10,
    "start_time": "2021-06-15T17:17:37.027Z"
   },
   {
    "duration": 10,
    "start_time": "2021-06-15T17:17:37.039Z"
   },
   {
    "duration": 12,
    "start_time": "2021-06-15T17:17:37.051Z"
   },
   {
    "duration": 62,
    "start_time": "2021-06-15T17:17:37.066Z"
   },
   {
    "duration": 11,
    "start_time": "2021-06-15T17:17:37.130Z"
   },
   {
    "duration": 11,
    "start_time": "2021-06-15T17:17:37.144Z"
   },
   {
    "duration": 13,
    "start_time": "2021-06-15T17:17:37.157Z"
   },
   {
    "duration": 78,
    "start_time": "2021-06-15T17:17:37.173Z"
   },
   {
    "duration": 5,
    "start_time": "2021-06-15T17:17:37.253Z"
   },
   {
    "duration": 465,
    "start_time": "2021-06-15T17:17:37.260Z"
   },
   {
    "duration": 16,
    "start_time": "2021-06-15T17:17:37.728Z"
   },
   {
    "duration": 33,
    "start_time": "2021-06-15T17:17:37.747Z"
   },
   {
    "duration": 11,
    "start_time": "2021-06-15T17:17:37.782Z"
   },
   {
    "duration": 38,
    "start_time": "2021-06-15T17:17:37.795Z"
   },
   {
    "duration": 24,
    "start_time": "2021-06-15T17:17:37.836Z"
   },
   {
    "duration": 11,
    "start_time": "2021-06-15T17:17:37.862Z"
   },
   {
    "duration": 52,
    "start_time": "2021-06-15T17:17:37.876Z"
   },
   {
    "duration": 7,
    "start_time": "2021-06-15T17:17:37.930Z"
   },
   {
    "duration": 7,
    "start_time": "2021-06-15T17:17:37.940Z"
   },
   {
    "duration": 314,
    "start_time": "2021-06-15T17:17:37.950Z"
   },
   {
    "duration": 25,
    "start_time": "2021-06-15T17:17:38.267Z"
   },
   {
    "duration": 35,
    "start_time": "2021-06-15T17:17:38.296Z"
   },
   {
    "duration": 20,
    "start_time": "2021-06-15T17:17:38.334Z"
   },
   {
    "duration": 12,
    "start_time": "2021-06-15T17:17:38.357Z"
   },
   {
    "duration": 8,
    "start_time": "2021-06-15T17:17:38.371Z"
   },
   {
    "duration": 6,
    "start_time": "2021-06-15T17:17:38.425Z"
   },
   {
    "duration": 258,
    "start_time": "2021-06-15T17:17:38.434Z"
   },
   {
    "duration": 38,
    "start_time": "2021-06-15T17:17:38.695Z"
   },
   {
    "duration": 12,
    "start_time": "2021-06-15T17:17:38.736Z"
   },
   {
    "duration": 20,
    "start_time": "2021-06-15T17:17:38.751Z"
   },
   {
    "duration": 9,
    "start_time": "2021-06-15T17:17:38.773Z"
   },
   {
    "duration": 42,
    "start_time": "2021-06-15T17:17:38.785Z"
   },
   {
    "duration": 7,
    "start_time": "2021-06-15T17:17:38.830Z"
   },
   {
    "duration": 306,
    "start_time": "2021-06-15T17:17:38.839Z"
   },
   {
    "duration": 24,
    "start_time": "2021-06-15T17:17:39.147Z"
   },
   {
    "duration": 11,
    "start_time": "2021-06-15T17:17:39.174Z"
   },
   {
    "duration": 46,
    "start_time": "2021-06-15T17:17:39.187Z"
   },
   {
    "duration": 10,
    "start_time": "2021-06-15T17:17:39.235Z"
   },
   {
    "duration": 7,
    "start_time": "2021-06-15T17:17:39.252Z"
   },
   {
    "duration": 12,
    "start_time": "2021-06-15T17:17:39.262Z"
   },
   {
    "duration": 368,
    "start_time": "2021-06-15T17:17:39.276Z"
   },
   {
    "duration": 26,
    "start_time": "2021-06-15T17:17:39.647Z"
   },
   {
    "duration": 8,
    "start_time": "2021-06-15T17:51:29.921Z"
   },
   {
    "duration": 11,
    "start_time": "2021-06-15T17:51:38.844Z"
   },
   {
    "duration": 8,
    "start_time": "2021-06-15T17:53:35.997Z"
   },
   {
    "duration": 6,
    "start_time": "2021-06-15T17:53:48.514Z"
   },
   {
    "duration": 9,
    "start_time": "2021-06-15T17:54:11.071Z"
   },
   {
    "duration": 26,
    "start_time": "2021-06-15T17:55:22.070Z"
   },
   {
    "duration": 3980,
    "start_time": "2021-06-15T18:02:24.622Z"
   },
   {
    "duration": 96,
    "start_time": "2021-06-15T18:02:28.605Z"
   },
   {
    "duration": 21,
    "start_time": "2021-06-15T18:02:28.704Z"
   },
   {
    "duration": 12,
    "start_time": "2021-06-15T18:02:28.728Z"
   },
   {
    "duration": 28,
    "start_time": "2021-06-15T18:02:28.743Z"
   },
   {
    "duration": 8,
    "start_time": "2021-06-15T18:02:28.773Z"
   },
   {
    "duration": 69,
    "start_time": "2021-06-15T18:02:28.783Z"
   },
   {
    "duration": 14,
    "start_time": "2021-06-15T18:02:28.856Z"
   },
   {
    "duration": 13,
    "start_time": "2021-06-15T18:02:28.873Z"
   },
   {
    "duration": 39,
    "start_time": "2021-06-15T18:02:28.888Z"
   },
   {
    "duration": 11,
    "start_time": "2021-06-15T18:02:28.930Z"
   },
   {
    "duration": 10,
    "start_time": "2021-06-15T18:02:28.944Z"
   },
   {
    "duration": 11,
    "start_time": "2021-06-15T18:02:28.956Z"
   },
   {
    "duration": 58,
    "start_time": "2021-06-15T18:02:28.969Z"
   },
   {
    "duration": 10,
    "start_time": "2021-06-15T18:02:29.029Z"
   },
   {
    "duration": 8,
    "start_time": "2021-06-15T18:02:29.042Z"
   },
   {
    "duration": 17,
    "start_time": "2021-06-15T18:02:29.053Z"
   },
   {
    "duration": 11,
    "start_time": "2021-06-15T18:02:29.073Z"
   },
   {
    "duration": 29,
    "start_time": "2021-06-15T18:02:29.125Z"
   },
   {
    "duration": 11,
    "start_time": "2021-06-15T18:02:29.157Z"
   },
   {
    "duration": 56,
    "start_time": "2021-06-15T18:02:29.171Z"
   },
   {
    "duration": 10,
    "start_time": "2021-06-15T18:02:29.230Z"
   },
   {
    "duration": 4606,
    "start_time": "2021-06-15T18:02:29.246Z"
   },
   {
    "duration": 27,
    "start_time": "2021-06-15T18:02:33.856Z"
   },
   {
    "duration": 56,
    "start_time": "2021-06-15T18:02:33.886Z"
   },
   {
    "duration": 6,
    "start_time": "2021-06-15T18:02:33.944Z"
   },
   {
    "duration": 25,
    "start_time": "2021-06-15T18:02:33.952Z"
   },
   {
    "duration": 52,
    "start_time": "2021-06-15T18:02:33.979Z"
   },
   {
    "duration": 10,
    "start_time": "2021-06-15T18:02:34.034Z"
   },
   {
    "duration": 12,
    "start_time": "2021-06-15T18:02:34.046Z"
   },
   {
    "duration": 11,
    "start_time": "2021-06-15T18:02:34.060Z"
   },
   {
    "duration": 13,
    "start_time": "2021-06-15T18:02:34.073Z"
   },
   {
    "duration": 62,
    "start_time": "2021-06-15T18:02:34.089Z"
   },
   {
    "duration": 12,
    "start_time": "2021-06-15T18:02:34.153Z"
   },
   {
    "duration": 9,
    "start_time": "2021-06-15T18:02:34.168Z"
   },
   {
    "duration": 47,
    "start_time": "2021-06-15T18:02:34.179Z"
   },
   {
    "duration": 34,
    "start_time": "2021-06-15T18:02:34.228Z"
   },
   {
    "duration": 10,
    "start_time": "2021-06-15T18:02:34.265Z"
   },
   {
    "duration": 458,
    "start_time": "2021-06-15T18:02:34.277Z"
   },
   {
    "duration": 17,
    "start_time": "2021-06-15T18:02:34.738Z"
   },
   {
    "duration": 35,
    "start_time": "2021-06-15T18:02:34.757Z"
   },
   {
    "duration": 32,
    "start_time": "2021-06-15T18:02:34.795Z"
   },
   {
    "duration": 12,
    "start_time": "2021-06-15T18:02:34.829Z"
   },
   {
    "duration": 24,
    "start_time": "2021-06-15T18:02:34.843Z"
   },
   {
    "duration": 11,
    "start_time": "2021-06-15T18:02:34.869Z"
   },
   {
    "duration": 61,
    "start_time": "2021-06-15T18:02:34.883Z"
   },
   {
    "duration": 7,
    "start_time": "2021-06-15T18:02:34.946Z"
   },
   {
    "duration": 10,
    "start_time": "2021-06-15T18:02:34.955Z"
   },
   {
    "duration": 304,
    "start_time": "2021-06-15T18:02:34.967Z"
   },
   {
    "duration": 23,
    "start_time": "2021-06-15T18:02:35.274Z"
   },
   {
    "duration": 31,
    "start_time": "2021-06-15T18:02:35.300Z"
   },
   {
    "duration": 21,
    "start_time": "2021-06-15T18:02:35.333Z"
   },
   {
    "duration": 9,
    "start_time": "2021-06-15T18:02:35.356Z"
   },
   {
    "duration": 10,
    "start_time": "2021-06-15T18:02:35.367Z"
   },
   {
    "duration": 46,
    "start_time": "2021-06-15T18:02:35.380Z"
   },
   {
    "duration": 256,
    "start_time": "2021-06-15T18:02:35.428Z"
   },
   {
    "duration": 44,
    "start_time": "2021-06-15T18:02:35.687Z"
   },
   {
    "duration": 14,
    "start_time": "2021-06-15T18:02:35.734Z"
   },
   {
    "duration": 22,
    "start_time": "2021-06-15T18:02:35.751Z"
   },
   {
    "duration": 9,
    "start_time": "2021-06-15T18:02:35.775Z"
   },
   {
    "duration": 40,
    "start_time": "2021-06-15T18:02:35.787Z"
   },
   {
    "duration": 10,
    "start_time": "2021-06-15T18:02:35.829Z"
   },
   {
    "duration": 403,
    "start_time": "2021-06-15T18:02:35.842Z"
   },
   {
    "duration": 24,
    "start_time": "2021-06-15T18:02:36.247Z"
   },
   {
    "duration": 11,
    "start_time": "2021-06-15T18:02:36.274Z"
   },
   {
    "duration": 49,
    "start_time": "2021-06-15T18:02:36.287Z"
   },
   {
    "duration": 9,
    "start_time": "2021-06-15T18:02:36.339Z"
   },
   {
    "duration": 8,
    "start_time": "2021-06-15T18:02:36.357Z"
   },
   {
    "duration": 8,
    "start_time": "2021-06-15T18:02:36.367Z"
   },
   {
    "duration": 328,
    "start_time": "2021-06-15T18:02:36.377Z"
   },
   {
    "duration": 33,
    "start_time": "2021-06-15T18:02:36.707Z"
   },
   {
    "duration": 10,
    "start_time": "2021-06-15T19:18:28.515Z"
   },
   {
    "duration": -109,
    "start_time": "2021-06-15T19:24:44.989Z"
   },
   {
    "duration": -113,
    "start_time": "2021-06-15T19:24:44.994Z"
   },
   {
    "duration": -115,
    "start_time": "2021-06-15T19:24:44.998Z"
   },
   {
    "duration": -117,
    "start_time": "2021-06-15T19:24:45.002Z"
   },
   {
    "duration": -122,
    "start_time": "2021-06-15T19:24:45.008Z"
   },
   {
    "duration": -800,
    "start_time": "2021-06-15T19:24:45.688Z"
   },
   {
    "duration": -811,
    "start_time": "2021-06-15T19:24:45.700Z"
   },
   {
    "duration": -814,
    "start_time": "2021-06-15T19:24:45.705Z"
   },
   {
    "duration": -817,
    "start_time": "2021-06-15T19:24:45.709Z"
   },
   {
    "duration": -820,
    "start_time": "2021-06-15T19:24:45.713Z"
   },
   {
    "duration": -823,
    "start_time": "2021-06-15T19:24:45.717Z"
   },
   {
    "duration": -825,
    "start_time": "2021-06-15T19:24:45.721Z"
   },
   {
    "duration": -859,
    "start_time": "2021-06-15T19:24:45.756Z"
   },
   {
    "duration": -867,
    "start_time": "2021-06-15T19:24:45.765Z"
   },
   {
    "duration": -870,
    "start_time": "2021-06-15T19:24:45.769Z"
   },
   {
    "duration": -873,
    "start_time": "2021-06-15T19:24:45.774Z"
   },
   {
    "duration": -875,
    "start_time": "2021-06-15T19:24:45.777Z"
   },
   {
    "duration": -878,
    "start_time": "2021-06-15T19:24:45.781Z"
   },
   {
    "duration": -881,
    "start_time": "2021-06-15T19:24:45.785Z"
   },
   {
    "duration": -883,
    "start_time": "2021-06-15T19:24:45.789Z"
   },
   {
    "duration": -885,
    "start_time": "2021-06-15T19:24:45.792Z"
   },
   {
    "duration": -889,
    "start_time": "2021-06-15T19:24:45.797Z"
   },
   {
    "duration": -892,
    "start_time": "2021-06-15T19:24:45.801Z"
   },
   {
    "duration": -894,
    "start_time": "2021-06-15T19:24:45.804Z"
   },
   {
    "duration": -896,
    "start_time": "2021-06-15T19:24:45.808Z"
   },
   {
    "duration": -899,
    "start_time": "2021-06-15T19:24:45.812Z"
   },
   {
    "duration": -903,
    "start_time": "2021-06-15T19:24:45.817Z"
   },
   {
    "duration": -905,
    "start_time": "2021-06-15T19:24:45.820Z"
   },
   {
    "duration": -900,
    "start_time": "2021-06-15T19:24:45.825Z"
   },
   {
    "duration": -903,
    "start_time": "2021-06-15T19:24:45.829Z"
   },
   {
    "duration": -906,
    "start_time": "2021-06-15T19:24:45.833Z"
   },
   {
    "duration": -908,
    "start_time": "2021-06-15T19:24:45.837Z"
   },
   {
    "duration": -910,
    "start_time": "2021-06-15T19:24:45.840Z"
   },
   {
    "duration": -914,
    "start_time": "2021-06-15T19:24:45.845Z"
   },
   {
    "duration": -916,
    "start_time": "2021-06-15T19:24:45.849Z"
   },
   {
    "duration": -919,
    "start_time": "2021-06-15T19:24:45.853Z"
   },
   {
    "duration": -922,
    "start_time": "2021-06-15T19:24:45.857Z"
   },
   {
    "duration": -924,
    "start_time": "2021-06-15T19:24:45.861Z"
   },
   {
    "duration": -940,
    "start_time": "2021-06-15T19:24:45.878Z"
   },
   {
    "duration": -943,
    "start_time": "2021-06-15T19:24:45.882Z"
   },
   {
    "duration": -946,
    "start_time": "2021-06-15T19:24:45.887Z"
   },
   {
    "duration": -1004,
    "start_time": "2021-06-15T19:24:45.946Z"
   },
   {
    "duration": -1072,
    "start_time": "2021-06-15T19:24:46.015Z"
   },
   {
    "duration": -1094,
    "start_time": "2021-06-15T19:24:46.038Z"
   },
   {
    "duration": -1096,
    "start_time": "2021-06-15T19:24:46.042Z"
   },
   {
    "duration": -1099,
    "start_time": "2021-06-15T19:24:46.046Z"
   },
   {
    "duration": -1102,
    "start_time": "2021-06-15T19:24:46.050Z"
   },
   {
    "duration": -1105,
    "start_time": "2021-06-15T19:24:46.054Z"
   },
   {
    "duration": -1108,
    "start_time": "2021-06-15T19:24:46.058Z"
   },
   {
    "duration": -1111,
    "start_time": "2021-06-15T19:24:46.062Z"
   },
   {
    "duration": -1113,
    "start_time": "2021-06-15T19:24:46.066Z"
   },
   {
    "duration": -1117,
    "start_time": "2021-06-15T19:24:46.071Z"
   },
   {
    "duration": -1121,
    "start_time": "2021-06-15T19:24:46.076Z"
   },
   {
    "duration": -1123,
    "start_time": "2021-06-15T19:24:46.079Z"
   },
   {
    "duration": -1125,
    "start_time": "2021-06-15T19:24:46.083Z"
   },
   {
    "duration": -1127,
    "start_time": "2021-06-15T19:24:46.086Z"
   },
   {
    "duration": -1131,
    "start_time": "2021-06-15T19:24:46.091Z"
   },
   {
    "duration": -1143,
    "start_time": "2021-06-15T19:24:46.105Z"
   },
   {
    "duration": -1078,
    "start_time": "2021-06-15T19:24:46.109Z"
   },
   {
    "duration": -1080,
    "start_time": "2021-06-15T19:24:46.113Z"
   },
   {
    "duration": -1083,
    "start_time": "2021-06-15T19:24:46.117Z"
   },
   {
    "duration": -1085,
    "start_time": "2021-06-15T19:24:46.121Z"
   },
   {
    "duration": -1090,
    "start_time": "2021-06-15T19:24:46.127Z"
   },
   {
    "duration": -1092,
    "start_time": "2021-06-15T19:24:46.131Z"
   },
   {
    "duration": -1094,
    "start_time": "2021-06-15T19:24:46.134Z"
   },
   {
    "duration": -1096,
    "start_time": "2021-06-15T19:24:46.138Z"
   },
   {
    "duration": -1098,
    "start_time": "2021-06-15T19:24:46.141Z"
   },
   {
    "duration": -1101,
    "start_time": "2021-06-15T19:24:46.146Z"
   },
   {
    "duration": -1104,
    "start_time": "2021-06-15T19:24:46.150Z"
   },
   {
    "duration": -1107,
    "start_time": "2021-06-15T19:24:46.154Z"
   },
   {
    "duration": -1110,
    "start_time": "2021-06-15T19:24:46.159Z"
   },
   {
    "duration": -1113,
    "start_time": "2021-06-15T19:24:46.163Z"
   },
   {
    "duration": 9027,
    "start_time": "2021-06-15T19:24:57.407Z"
   },
   {
    "duration": 18,
    "start_time": "2021-06-15T19:25:20.096Z"
   },
   {
    "duration": 9126,
    "start_time": "2021-06-15T19:25:43.949Z"
   },
   {
    "duration": -176,
    "start_time": "2021-06-15T19:25:53.253Z"
   },
   {
    "duration": 4068,
    "start_time": "2021-06-15T19:26:27.168Z"
   },
   {
    "duration": 99,
    "start_time": "2021-06-15T19:26:31.240Z"
   },
   {
    "duration": 14,
    "start_time": "2021-06-15T19:26:31.342Z"
   },
   {
    "duration": 25,
    "start_time": "2021-06-15T19:26:31.358Z"
   },
   {
    "duration": 47,
    "start_time": "2021-06-15T19:26:31.386Z"
   },
   {
    "duration": 10,
    "start_time": "2021-06-15T19:26:31.436Z"
   },
   {
    "duration": 20,
    "start_time": "2021-06-15T19:26:31.449Z"
   },
   {
    "duration": 41,
    "start_time": "2021-06-15T19:26:31.473Z"
   },
   {
    "duration": 12,
    "start_time": "2021-06-15T19:26:31.525Z"
   },
   {
    "duration": 13,
    "start_time": "2021-06-15T19:26:31.540Z"
   },
   {
    "duration": 16,
    "start_time": "2021-06-15T19:26:31.555Z"
   },
   {
    "duration": 14,
    "start_time": "2021-06-15T19:26:31.573Z"
   },
   {
    "duration": 42,
    "start_time": "2021-06-15T19:26:31.589Z"
   },
   {
    "duration": 12,
    "start_time": "2021-06-15T19:26:31.633Z"
   },
   {
    "duration": 21,
    "start_time": "2021-06-15T19:26:31.647Z"
   },
   {
    "duration": 22,
    "start_time": "2021-06-15T19:26:31.671Z"
   },
   {
    "duration": 10,
    "start_time": "2021-06-15T19:26:31.695Z"
   },
   {
    "duration": 17,
    "start_time": "2021-06-15T19:26:31.725Z"
   },
   {
    "duration": 13,
    "start_time": "2021-06-15T19:26:31.745Z"
   },
   {
    "duration": 35,
    "start_time": "2021-06-15T19:26:31.760Z"
   },
   {
    "duration": 34,
    "start_time": "2021-06-15T19:26:31.797Z"
   },
   {
    "duration": 35,
    "start_time": "2021-06-15T19:26:31.834Z"
   },
   {
    "duration": 10,
    "start_time": "2021-06-15T19:26:31.876Z"
   },
   {
    "duration": 4635,
    "start_time": "2021-06-15T19:26:31.890Z"
   },
   {
    "duration": 29,
    "start_time": "2021-06-15T19:26:36.528Z"
   },
   {
    "duration": 39,
    "start_time": "2021-06-15T19:26:36.560Z"
   },
   {
    "duration": 25,
    "start_time": "2021-06-15T19:26:36.601Z"
   },
   {
    "duration": 32,
    "start_time": "2021-06-15T19:26:36.629Z"
   },
   {
    "duration": 29,
    "start_time": "2021-06-15T19:26:36.663Z"
   },
   {
    "duration": 35,
    "start_time": "2021-06-15T19:26:36.695Z"
   },
   {
    "duration": 10,
    "start_time": "2021-06-15T19:26:36.733Z"
   },
   {
    "duration": 8,
    "start_time": "2021-06-15T19:26:36.746Z"
   },
   {
    "duration": 12,
    "start_time": "2021-06-15T19:26:36.757Z"
   },
   {
    "duration": 70,
    "start_time": "2021-06-15T19:26:36.772Z"
   },
   {
    "duration": 12,
    "start_time": "2021-06-15T19:26:36.845Z"
   },
   {
    "duration": 10,
    "start_time": "2021-06-15T19:26:36.859Z"
   },
   {
    "duration": 14,
    "start_time": "2021-06-15T19:26:36.872Z"
   },
   {
    "duration": 64,
    "start_time": "2021-06-15T19:26:36.888Z"
   },
   {
    "duration": 8,
    "start_time": "2021-06-15T19:26:36.954Z"
   },
   {
    "duration": 387,
    "start_time": "2021-06-15T19:26:36.965Z"
   },
   {
    "duration": 16,
    "start_time": "2021-06-15T19:26:37.355Z"
   },
   {
    "duration": 51,
    "start_time": "2021-06-15T19:26:37.374Z"
   },
   {
    "duration": 10,
    "start_time": "2021-06-15T19:26:37.428Z"
   },
   {
    "duration": 10,
    "start_time": "2021-06-15T19:26:37.440Z"
   },
   {
    "duration": 19,
    "start_time": "2021-06-15T19:26:37.452Z"
   },
   {
    "duration": 10,
    "start_time": "2021-06-15T19:26:37.473Z"
   },
   {
    "duration": 60,
    "start_time": "2021-06-15T19:26:37.485Z"
   },
   {
    "duration": 7,
    "start_time": "2021-06-15T19:26:37.547Z"
   },
   {
    "duration": 7,
    "start_time": "2021-06-15T19:26:37.556Z"
   },
   {
    "duration": 336,
    "start_time": "2021-06-15T19:26:37.566Z"
   },
   {
    "duration": 33,
    "start_time": "2021-06-15T19:26:37.905Z"
   },
   {
    "duration": 11,
    "start_time": "2021-06-15T19:26:37.940Z"
   },
   {
    "duration": 18,
    "start_time": "2021-06-15T19:26:37.953Z"
   },
   {
    "duration": 8,
    "start_time": "2021-06-15T19:26:37.974Z"
   },
   {
    "duration": 44,
    "start_time": "2021-06-15T19:26:37.985Z"
   },
   {
    "duration": 8,
    "start_time": "2021-06-15T19:26:38.031Z"
   },
   {
    "duration": 283,
    "start_time": "2021-06-15T19:26:38.042Z"
   },
   {
    "duration": 26,
    "start_time": "2021-06-15T19:26:38.328Z"
   },
   {
    "duration": 12,
    "start_time": "2021-06-15T19:26:38.357Z"
   },
   {
    "duration": 17,
    "start_time": "2021-06-15T19:26:38.371Z"
   },
   {
    "duration": 10,
    "start_time": "2021-06-15T19:26:38.425Z"
   },
   {
    "duration": 6,
    "start_time": "2021-06-15T19:26:38.438Z"
   },
   {
    "duration": 7,
    "start_time": "2021-06-15T19:26:38.446Z"
   },
   {
    "duration": 320,
    "start_time": "2021-06-15T19:26:38.455Z"
   },
   {
    "duration": 25,
    "start_time": "2021-06-15T19:26:38.778Z"
   },
   {
    "duration": 29,
    "start_time": "2021-06-15T19:26:38.805Z"
   },
   {
    "duration": 19,
    "start_time": "2021-06-15T19:26:38.837Z"
   },
   {
    "duration": 10,
    "start_time": "2021-06-15T19:26:38.865Z"
   },
   {
    "duration": 47,
    "start_time": "2021-06-15T19:26:38.878Z"
   },
   {
    "duration": 6,
    "start_time": "2021-06-15T19:26:38.928Z"
   },
   {
    "duration": 308,
    "start_time": "2021-06-15T19:26:38.937Z"
   },
   {
    "duration": 24,
    "start_time": "2021-06-15T19:26:39.249Z"
   },
   {
    "duration": 6,
    "start_time": "2021-06-15T19:27:11.619Z"
   },
   {
    "duration": 40,
    "start_time": "2021-06-15T19:49:46.785Z"
   },
   {
    "duration": 6,
    "start_time": "2021-06-15T19:50:25.672Z"
   },
   {
    "duration": 50,
    "start_time": "2021-06-15T19:53:54.680Z"
   },
   {
    "duration": 20,
    "start_time": "2021-06-15T19:55:14.055Z"
   },
   {
    "duration": 20,
    "start_time": "2021-06-15T19:57:51.137Z"
   },
   {
    "duration": 491,
    "start_time": "2021-06-15T20:02:50.003Z"
   },
   {
    "duration": 308,
    "start_time": "2021-06-15T20:04:03.855Z"
   },
   {
    "duration": 520,
    "start_time": "2021-06-15T20:06:05.537Z"
   },
   {
    "duration": 3805,
    "start_time": "2021-06-15T20:06:14.268Z"
   },
   {
    "duration": 111,
    "start_time": "2021-06-15T20:06:18.076Z"
   },
   {
    "duration": 13,
    "start_time": "2021-06-15T20:06:18.190Z"
   },
   {
    "duration": 27,
    "start_time": "2021-06-15T20:06:18.206Z"
   },
   {
    "duration": 32,
    "start_time": "2021-06-15T20:06:18.236Z"
   },
   {
    "duration": 10,
    "start_time": "2021-06-15T20:06:18.271Z"
   },
   {
    "duration": 44,
    "start_time": "2021-06-15T20:06:18.283Z"
   },
   {
    "duration": 30,
    "start_time": "2021-06-15T20:06:18.332Z"
   },
   {
    "duration": 4,
    "start_time": "2021-06-15T20:06:18.366Z"
   },
   {
    "duration": 1155,
    "start_time": "2021-06-15T20:06:18.372Z"
   },
   {
    "duration": 14,
    "start_time": "2021-06-15T20:06:19.530Z"
   },
   {
    "duration": 11,
    "start_time": "2021-06-15T20:06:19.547Z"
   },
   {
    "duration": 18,
    "start_time": "2021-06-15T20:06:19.561Z"
   },
   {
    "duration": 57,
    "start_time": "2021-06-15T20:06:19.583Z"
   },
   {
    "duration": 12,
    "start_time": "2021-06-15T20:06:19.643Z"
   },
   {
    "duration": 12,
    "start_time": "2021-06-15T20:06:19.658Z"
   },
   {
    "duration": 14,
    "start_time": "2021-06-15T20:06:19.673Z"
   },
   {
    "duration": 12,
    "start_time": "2021-06-15T20:06:19.727Z"
   },
   {
    "duration": 22,
    "start_time": "2021-06-15T20:06:19.743Z"
   },
   {
    "duration": 10,
    "start_time": "2021-06-15T20:06:19.768Z"
   },
   {
    "duration": 76,
    "start_time": "2021-06-15T20:06:19.780Z"
   },
   {
    "duration": 10,
    "start_time": "2021-06-15T20:06:19.859Z"
   },
   {
    "duration": 55,
    "start_time": "2021-06-15T20:06:19.875Z"
   },
   {
    "duration": 13,
    "start_time": "2021-06-15T20:06:19.936Z"
   },
   {
    "duration": 5422,
    "start_time": "2021-06-15T20:06:19.952Z"
   },
   {
    "duration": 32,
    "start_time": "2021-06-15T20:06:25.377Z"
   },
   {
    "duration": 48,
    "start_time": "2021-06-15T20:06:25.428Z"
   },
   {
    "duration": 7,
    "start_time": "2021-06-15T20:06:25.479Z"
   },
   {
    "duration": 61,
    "start_time": "2021-06-15T20:06:25.490Z"
   },
   {
    "duration": 49,
    "start_time": "2021-06-15T20:06:25.555Z"
   },
   {
    "duration": 33,
    "start_time": "2021-06-15T20:06:25.607Z"
   },
   {
    "duration": 14,
    "start_time": "2021-06-15T20:06:25.642Z"
   },
   {
    "duration": 18,
    "start_time": "2021-06-15T20:06:25.659Z"
   },
   {
    "duration": 13,
    "start_time": "2021-06-15T20:06:25.680Z"
   },
   {
    "duration": 66,
    "start_time": "2021-06-15T20:06:25.695Z"
   },
   {
    "duration": 12,
    "start_time": "2021-06-15T20:06:25.763Z"
   },
   {
    "duration": 13,
    "start_time": "2021-06-15T20:06:25.777Z"
   },
   {
    "duration": 39,
    "start_time": "2021-06-15T20:06:25.793Z"
   },
   {
    "duration": 32,
    "start_time": "2021-06-15T20:06:25.835Z"
   },
   {
    "duration": 6,
    "start_time": "2021-06-15T20:06:25.869Z"
   },
   {
    "duration": 428,
    "start_time": "2021-06-15T20:06:25.878Z"
   },
   {
    "duration": 30,
    "start_time": "2021-06-15T20:06:26.310Z"
   },
   {
    "duration": 37,
    "start_time": "2021-06-15T20:06:26.343Z"
   },
   {
    "duration": 14,
    "start_time": "2021-06-15T20:06:26.383Z"
   },
   {
    "duration": 12,
    "start_time": "2021-06-15T20:06:26.424Z"
   },
   {
    "duration": 21,
    "start_time": "2021-06-15T20:06:26.438Z"
   },
   {
    "duration": 11,
    "start_time": "2021-06-15T20:06:26.461Z"
   },
   {
    "duration": 60,
    "start_time": "2021-06-15T20:06:26.474Z"
   },
   {
    "duration": 9,
    "start_time": "2021-06-15T20:06:26.538Z"
   },
   {
    "duration": 9,
    "start_time": "2021-06-15T20:06:26.550Z"
   },
   {
    "duration": 317,
    "start_time": "2021-06-15T20:06:26.562Z"
   },
   {
    "duration": 26,
    "start_time": "2021-06-15T20:06:26.882Z"
   },
   {
    "duration": 24,
    "start_time": "2021-06-15T20:06:26.910Z"
   },
   {
    "duration": 19,
    "start_time": "2021-06-15T20:06:26.938Z"
   },
   {
    "duration": 8,
    "start_time": "2021-06-15T20:06:26.960Z"
   },
   {
    "duration": 7,
    "start_time": "2021-06-15T20:06:26.971Z"
   },
   {
    "duration": 49,
    "start_time": "2021-06-15T20:06:26.980Z"
   },
   {
    "duration": 395,
    "start_time": "2021-06-15T20:06:27.032Z"
   },
   {
    "duration": 35,
    "start_time": "2021-06-15T20:06:27.429Z"
   },
   {
    "duration": 16,
    "start_time": "2021-06-15T20:06:27.467Z"
   },
   {
    "duration": 50,
    "start_time": "2021-06-15T20:06:27.486Z"
   },
   {
    "duration": 10,
    "start_time": "2021-06-15T20:06:27.539Z"
   },
   {
    "duration": 7,
    "start_time": "2021-06-15T20:06:27.551Z"
   },
   {
    "duration": 7,
    "start_time": "2021-06-15T20:06:27.560Z"
   },
   {
    "duration": 324,
    "start_time": "2021-06-15T20:06:27.570Z"
   },
   {
    "duration": 41,
    "start_time": "2021-06-15T20:06:27.897Z"
   },
   {
    "duration": 15,
    "start_time": "2021-06-15T20:06:27.941Z"
   },
   {
    "duration": 25,
    "start_time": "2021-06-15T20:06:27.968Z"
   },
   {
    "duration": 14,
    "start_time": "2021-06-15T20:06:28.025Z"
   },
   {
    "duration": 9,
    "start_time": "2021-06-15T20:06:28.042Z"
   },
   {
    "duration": 8,
    "start_time": "2021-06-15T20:06:28.054Z"
   },
   {
    "duration": 322,
    "start_time": "2021-06-15T20:06:28.065Z"
   },
   {
    "duration": 37,
    "start_time": "2021-06-15T20:06:28.389Z"
   },
   {
    "duration": 319,
    "start_time": "2021-06-15T20:07:17.958Z"
   },
   {
    "duration": 18,
    "start_time": "2021-06-15T20:11:29.203Z"
   },
   {
    "duration": 11,
    "start_time": "2021-06-15T20:32:02.474Z"
   },
   {
    "duration": 12,
    "start_time": "2021-06-15T20:32:26.568Z"
   },
   {
    "duration": 10,
    "start_time": "2021-06-15T20:32:38.546Z"
   },
   {
    "duration": 21,
    "start_time": "2021-06-15T20:33:05.678Z"
   },
   {
    "duration": 12,
    "start_time": "2021-06-15T20:33:34.281Z"
   },
   {
    "duration": 15,
    "start_time": "2021-06-15T20:33:53.919Z"
   },
   {
    "duration": 3690,
    "start_time": "2021-06-15T20:34:08.860Z"
   },
   {
    "duration": 179,
    "start_time": "2021-06-15T20:34:12.553Z"
   },
   {
    "duration": 13,
    "start_time": "2021-06-15T20:34:12.736Z"
   },
   {
    "duration": 15,
    "start_time": "2021-06-15T20:34:12.751Z"
   },
   {
    "duration": 80,
    "start_time": "2021-06-15T20:34:12.769Z"
   },
   {
    "duration": 9,
    "start_time": "2021-06-15T20:34:12.852Z"
   },
   {
    "duration": 63,
    "start_time": "2021-06-15T20:34:12.863Z"
   },
   {
    "duration": 27,
    "start_time": "2021-06-15T20:34:12.930Z"
   },
   {
    "duration": 4,
    "start_time": "2021-06-15T20:34:12.960Z"
   },
   {
    "duration": 1275,
    "start_time": "2021-06-15T20:34:12.966Z"
   },
   {
    "duration": 394,
    "start_time": "2021-06-15T20:34:14.244Z"
   },
   {
    "duration": 8,
    "start_time": "2021-06-15T20:34:14.640Z"
   },
   {
    "duration": 15,
    "start_time": "2021-06-15T20:34:14.650Z"
   },
   {
    "duration": 10,
    "start_time": "2021-06-15T20:34:14.668Z"
   },
   {
    "duration": 45,
    "start_time": "2021-06-15T20:34:14.681Z"
   },
   {
    "duration": 9,
    "start_time": "2021-06-15T20:34:14.729Z"
   },
   {
    "duration": 14,
    "start_time": "2021-06-15T20:34:14.740Z"
   },
   {
    "duration": 8,
    "start_time": "2021-06-15T20:34:14.756Z"
   },
   {
    "duration": 58,
    "start_time": "2021-06-15T20:34:14.767Z"
   },
   {
    "duration": 10,
    "start_time": "2021-06-15T20:34:14.828Z"
   },
   {
    "duration": 25,
    "start_time": "2021-06-15T20:34:14.841Z"
   },
   {
    "duration": 17,
    "start_time": "2021-06-15T20:34:14.869Z"
   },
   {
    "duration": 54,
    "start_time": "2021-06-15T20:34:14.892Z"
   },
   {
    "duration": 12,
    "start_time": "2021-06-15T20:34:14.950Z"
   },
   {
    "duration": 4648,
    "start_time": "2021-06-15T20:34:14.965Z"
   },
   {
    "duration": 38,
    "start_time": "2021-06-15T20:34:19.615Z"
   },
   {
    "duration": 37,
    "start_time": "2021-06-15T20:34:19.656Z"
   },
   {
    "duration": 5,
    "start_time": "2021-06-15T20:34:19.695Z"
   },
   {
    "duration": 25,
    "start_time": "2021-06-15T20:34:19.726Z"
   },
   {
    "duration": 30,
    "start_time": "2021-06-15T20:34:19.754Z"
   },
   {
    "duration": 43,
    "start_time": "2021-06-15T20:34:19.787Z"
   },
   {
    "duration": 12,
    "start_time": "2021-06-15T20:34:19.833Z"
   },
   {
    "duration": 10,
    "start_time": "2021-06-15T20:34:19.847Z"
   },
   {
    "duration": 13,
    "start_time": "2021-06-15T20:34:19.860Z"
   },
   {
    "duration": 69,
    "start_time": "2021-06-15T20:34:19.876Z"
   },
   {
    "duration": 13,
    "start_time": "2021-06-15T20:34:19.947Z"
   },
   {
    "duration": 10,
    "start_time": "2021-06-15T20:34:19.962Z"
   },
   {
    "duration": 14,
    "start_time": "2021-06-15T20:34:19.975Z"
   },
   {
    "duration": 58,
    "start_time": "2021-06-15T20:34:19.992Z"
   },
   {
    "duration": 5,
    "start_time": "2021-06-15T20:34:20.053Z"
   },
   {
    "duration": 374,
    "start_time": "2021-06-15T20:34:20.060Z"
   },
   {
    "duration": 17,
    "start_time": "2021-06-15T20:34:20.437Z"
   },
   {
    "duration": 32,
    "start_time": "2021-06-15T20:34:20.456Z"
   },
   {
    "duration": 36,
    "start_time": "2021-06-15T20:34:20.491Z"
   },
   {
    "duration": 10,
    "start_time": "2021-06-15T20:34:20.530Z"
   },
   {
    "duration": 22,
    "start_time": "2021-06-15T20:34:20.542Z"
   },
   {
    "duration": 10,
    "start_time": "2021-06-15T20:34:20.566Z"
   },
   {
    "duration": 63,
    "start_time": "2021-06-15T20:34:20.578Z"
   },
   {
    "duration": 6,
    "start_time": "2021-06-15T20:34:20.643Z"
   },
   {
    "duration": 6,
    "start_time": "2021-06-15T20:34:20.652Z"
   },
   {
    "duration": 312,
    "start_time": "2021-06-15T20:34:20.660Z"
   },
   {
    "duration": 25,
    "start_time": "2021-06-15T20:34:20.974Z"
   },
   {
    "duration": 29,
    "start_time": "2021-06-15T20:34:21.002Z"
   },
   {
    "duration": 17,
    "start_time": "2021-06-15T20:34:21.035Z"
   },
   {
    "duration": 9,
    "start_time": "2021-06-15T20:34:21.054Z"
   },
   {
    "duration": 7,
    "start_time": "2021-06-15T20:34:21.066Z"
   },
   {
    "duration": 51,
    "start_time": "2021-06-15T20:34:21.076Z"
   },
   {
    "duration": 276,
    "start_time": "2021-06-15T20:34:21.130Z"
   },
   {
    "duration": 33,
    "start_time": "2021-06-15T20:34:21.409Z"
   },
   {
    "duration": 11,
    "start_time": "2021-06-15T20:34:21.445Z"
   },
   {
    "duration": 19,
    "start_time": "2021-06-15T20:34:21.459Z"
   },
   {
    "duration": 9,
    "start_time": "2021-06-15T20:34:21.480Z"
   },
   {
    "duration": 7,
    "start_time": "2021-06-15T20:34:21.526Z"
   },
   {
    "duration": 6,
    "start_time": "2021-06-15T20:34:21.535Z"
   },
   {
    "duration": 307,
    "start_time": "2021-06-15T20:34:21.543Z"
   },
   {
    "duration": 25,
    "start_time": "2021-06-15T20:34:21.852Z"
   },
   {
    "duration": 11,
    "start_time": "2021-06-15T20:34:21.879Z"
   },
   {
    "duration": 19,
    "start_time": "2021-06-15T20:34:21.928Z"
   },
   {
    "duration": 10,
    "start_time": "2021-06-15T20:34:21.950Z"
   },
   {
    "duration": 8,
    "start_time": "2021-06-15T20:34:21.963Z"
   },
   {
    "duration": 7,
    "start_time": "2021-06-15T20:34:21.974Z"
   },
   {
    "duration": 324,
    "start_time": "2021-06-15T20:34:21.983Z"
   },
   {
    "duration": 35,
    "start_time": "2021-06-15T20:34:22.310Z"
   },
   {
    "duration": 3975,
    "start_time": "2021-06-15T20:37:04.278Z"
   },
   {
    "duration": 111,
    "start_time": "2021-06-15T20:37:08.256Z"
   },
   {
    "duration": 14,
    "start_time": "2021-06-15T20:37:08.370Z"
   },
   {
    "duration": 13,
    "start_time": "2021-06-15T20:37:08.387Z"
   },
   {
    "duration": 28,
    "start_time": "2021-06-15T20:37:08.424Z"
   },
   {
    "duration": 11,
    "start_time": "2021-06-15T20:37:08.454Z"
   },
   {
    "duration": 11,
    "start_time": "2021-06-15T20:37:08.467Z"
   },
   {
    "duration": 75,
    "start_time": "2021-06-15T20:37:08.482Z"
   },
   {
    "duration": 6,
    "start_time": "2021-06-15T20:37:08.561Z"
   },
   {
    "duration": 1476,
    "start_time": "2021-06-15T20:37:08.570Z"
   },
   {
    "duration": 398,
    "start_time": "2021-06-15T20:37:10.048Z"
   },
   {
    "duration": 8,
    "start_time": "2021-06-15T20:37:10.448Z"
   },
   {
    "duration": 10,
    "start_time": "2021-06-15T20:37:10.459Z"
   },
   {
    "duration": 20,
    "start_time": "2021-06-15T20:37:10.471Z"
   },
   {
    "duration": 36,
    "start_time": "2021-06-15T20:37:10.493Z"
   },
   {
    "duration": 8,
    "start_time": "2021-06-15T20:37:10.531Z"
   },
   {
    "duration": 39,
    "start_time": "2021-06-15T20:37:10.541Z"
   },
   {
    "duration": 8,
    "start_time": "2021-06-15T20:37:10.582Z"
   },
   {
    "duration": 45,
    "start_time": "2021-06-15T20:37:10.593Z"
   },
   {
    "duration": 11,
    "start_time": "2021-06-15T20:37:10.641Z"
   },
   {
    "duration": 28,
    "start_time": "2021-06-15T20:37:10.654Z"
   },
   {
    "duration": 42,
    "start_time": "2021-06-15T20:37:10.685Z"
   },
   {
    "duration": 34,
    "start_time": "2021-06-15T20:37:10.733Z"
   },
   {
    "duration": 14,
    "start_time": "2021-06-15T20:37:10.771Z"
   },
   {
    "duration": 5013,
    "start_time": "2021-06-15T20:37:10.788Z"
   },
   {
    "duration": 42,
    "start_time": "2021-06-15T20:37:15.804Z"
   },
   {
    "duration": 49,
    "start_time": "2021-06-15T20:37:15.848Z"
   },
   {
    "duration": 5,
    "start_time": "2021-06-15T20:37:15.899Z"
   },
   {
    "duration": 42,
    "start_time": "2021-06-15T20:37:15.906Z"
   },
   {
    "duration": 50,
    "start_time": "2021-06-15T20:37:15.951Z"
   },
   {
    "duration": 34,
    "start_time": "2021-06-15T20:37:16.003Z"
   },
   {
    "duration": 24,
    "start_time": "2021-06-15T20:37:16.040Z"
   },
   {
    "duration": 31,
    "start_time": "2021-06-15T20:37:16.066Z"
   },
   {
    "duration": 27,
    "start_time": "2021-06-15T20:37:16.100Z"
   },
   {
    "duration": 57,
    "start_time": "2021-06-15T20:37:16.129Z"
   },
   {
    "duration": 16,
    "start_time": "2021-06-15T20:37:16.190Z"
   },
   {
    "duration": 19,
    "start_time": "2021-06-15T20:37:16.208Z"
   },
   {
    "duration": 25,
    "start_time": "2021-06-15T20:37:16.230Z"
   },
   {
    "duration": 40,
    "start_time": "2021-06-15T20:37:16.258Z"
   },
   {
    "duration": 7,
    "start_time": "2021-06-15T20:37:16.300Z"
   },
   {
    "duration": 359,
    "start_time": "2021-06-15T20:37:16.309Z"
   },
   {
    "duration": 16,
    "start_time": "2021-06-15T20:37:16.670Z"
   },
   {
    "duration": 53,
    "start_time": "2021-06-15T20:37:16.689Z"
   },
   {
    "duration": 9,
    "start_time": "2021-06-15T20:37:16.744Z"
   },
   {
    "duration": 16,
    "start_time": "2021-06-15T20:37:16.755Z"
   },
   {
    "duration": 26,
    "start_time": "2021-06-15T20:37:16.774Z"
   },
   {
    "duration": 32,
    "start_time": "2021-06-15T20:37:16.803Z"
   },
   {
    "duration": 33,
    "start_time": "2021-06-15T20:37:16.838Z"
   },
   {
    "duration": 9,
    "start_time": "2021-06-15T20:37:16.874Z"
   },
   {
    "duration": 41,
    "start_time": "2021-06-15T20:37:16.886Z"
   },
   {
    "duration": 469,
    "start_time": "2021-06-15T20:37:16.930Z"
   },
   {
    "duration": 39,
    "start_time": "2021-06-15T20:37:17.402Z"
   },
   {
    "duration": 12,
    "start_time": "2021-06-15T20:37:17.444Z"
   },
   {
    "duration": 29,
    "start_time": "2021-06-15T20:37:17.458Z"
   },
   {
    "duration": 9,
    "start_time": "2021-06-15T20:37:17.490Z"
   },
   {
    "duration": 8,
    "start_time": "2021-06-15T20:37:17.526Z"
   },
   {
    "duration": 6,
    "start_time": "2021-06-15T20:37:17.536Z"
   },
   {
    "duration": 282,
    "start_time": "2021-06-15T20:37:17.545Z"
   },
   {
    "duration": 26,
    "start_time": "2021-06-15T20:37:17.830Z"
   },
   {
    "duration": 12,
    "start_time": "2021-06-15T20:37:17.858Z"
   },
   {
    "duration": 21,
    "start_time": "2021-06-15T20:37:17.873Z"
   },
   {
    "duration": 9,
    "start_time": "2021-06-15T20:37:17.925Z"
   },
   {
    "duration": 10,
    "start_time": "2021-06-15T20:37:17.937Z"
   },
   {
    "duration": 12,
    "start_time": "2021-06-15T20:37:17.949Z"
   },
   {
    "duration": 315,
    "start_time": "2021-06-15T20:37:17.963Z"
   },
   {
    "duration": 25,
    "start_time": "2021-06-15T20:37:18.280Z"
   },
   {
    "duration": 27,
    "start_time": "2021-06-15T20:37:18.308Z"
   },
   {
    "duration": 18,
    "start_time": "2021-06-15T20:37:18.344Z"
   },
   {
    "duration": 12,
    "start_time": "2021-06-15T20:37:18.366Z"
   },
   {
    "duration": 48,
    "start_time": "2021-06-15T20:37:18.381Z"
   },
   {
    "duration": 9,
    "start_time": "2021-06-15T20:37:18.432Z"
   },
   {
    "duration": 318,
    "start_time": "2021-06-15T20:37:18.444Z"
   },
   {
    "duration": 26,
    "start_time": "2021-06-15T20:37:18.764Z"
   },
   {
    "duration": 3514,
    "start_time": "2021-06-15T20:38:31.105Z"
   },
   {
    "duration": 107,
    "start_time": "2021-06-15T20:38:34.624Z"
   },
   {
    "duration": 13,
    "start_time": "2021-06-15T20:38:34.734Z"
   },
   {
    "duration": 13,
    "start_time": "2021-06-15T20:38:34.749Z"
   },
   {
    "duration": 28,
    "start_time": "2021-06-15T20:38:34.765Z"
   },
   {
    "duration": 10,
    "start_time": "2021-06-15T20:38:34.825Z"
   },
   {
    "duration": 7,
    "start_time": "2021-06-15T20:38:34.838Z"
   },
   {
    "duration": 27,
    "start_time": "2021-06-15T20:38:34.850Z"
   },
   {
    "duration": 5,
    "start_time": "2021-06-15T20:38:34.880Z"
   },
   {
    "duration": 920,
    "start_time": "2021-06-15T20:38:34.926Z"
   },
   {
    "duration": 390,
    "start_time": "2021-06-15T20:38:35.848Z"
   },
   {
    "duration": 8,
    "start_time": "2021-06-15T20:38:36.240Z"
   },
   {
    "duration": 23,
    "start_time": "2021-06-15T20:38:36.250Z"
   },
   {
    "duration": 22,
    "start_time": "2021-06-15T20:38:36.275Z"
   },
   {
    "duration": 14,
    "start_time": "2021-06-15T20:38:36.299Z"
   },
   {
    "duration": 31,
    "start_time": "2021-06-15T20:38:36.315Z"
   },
   {
    "duration": 42,
    "start_time": "2021-06-15T20:38:36.348Z"
   },
   {
    "duration": 8,
    "start_time": "2021-06-15T20:38:36.393Z"
   },
   {
    "duration": 33,
    "start_time": "2021-06-15T20:38:36.404Z"
   },
   {
    "duration": 10,
    "start_time": "2021-06-15T20:38:36.440Z"
   },
   {
    "duration": 46,
    "start_time": "2021-06-15T20:38:36.452Z"
   },
   {
    "duration": 21,
    "start_time": "2021-06-15T20:38:36.501Z"
   },
   {
    "duration": 38,
    "start_time": "2021-06-15T20:38:36.530Z"
   },
   {
    "duration": 10,
    "start_time": "2021-06-15T20:38:36.572Z"
   },
   {
    "duration": 4866,
    "start_time": "2021-06-15T20:38:36.585Z"
   },
   {
    "duration": 28,
    "start_time": "2021-06-15T20:38:41.453Z"
   },
   {
    "duration": 60,
    "start_time": "2021-06-15T20:38:41.483Z"
   },
   {
    "duration": 5,
    "start_time": "2021-06-15T20:38:41.545Z"
   },
   {
    "duration": 32,
    "start_time": "2021-06-15T20:38:41.553Z"
   },
   {
    "duration": 55,
    "start_time": "2021-06-15T20:38:41.587Z"
   },
   {
    "duration": 14,
    "start_time": "2021-06-15T20:38:41.644Z"
   },
   {
    "duration": 10,
    "start_time": "2021-06-15T20:38:41.660Z"
   },
   {
    "duration": 9,
    "start_time": "2021-06-15T20:38:41.672Z"
   },
   {
    "duration": 44,
    "start_time": "2021-06-15T20:38:41.684Z"
   },
   {
    "duration": 35,
    "start_time": "2021-06-15T20:38:41.731Z"
   },
   {
    "duration": 12,
    "start_time": "2021-06-15T20:38:41.770Z"
   },
   {
    "duration": 44,
    "start_time": "2021-06-15T20:38:41.785Z"
   },
   {
    "duration": 13,
    "start_time": "2021-06-15T20:38:41.832Z"
   },
   {
    "duration": 30,
    "start_time": "2021-06-15T20:38:41.848Z"
   },
   {
    "duration": 47,
    "start_time": "2021-06-15T20:38:41.880Z"
   },
   {
    "duration": 364,
    "start_time": "2021-06-15T20:38:41.929Z"
   },
   {
    "duration": 17,
    "start_time": "2021-06-15T20:38:42.295Z"
   },
   {
    "duration": 59,
    "start_time": "2021-06-15T20:38:42.315Z"
   },
   {
    "duration": 22,
    "start_time": "2021-06-15T20:38:42.377Z"
   },
   {
    "duration": 30,
    "start_time": "2021-06-15T20:38:42.402Z"
   },
   {
    "duration": 20,
    "start_time": "2021-06-15T20:38:42.435Z"
   },
   {
    "duration": 11,
    "start_time": "2021-06-15T20:38:42.458Z"
   },
   {
    "duration": 63,
    "start_time": "2021-06-15T20:38:42.472Z"
   },
   {
    "duration": 6,
    "start_time": "2021-06-15T20:38:42.538Z"
   },
   {
    "duration": 11,
    "start_time": "2021-06-15T20:38:42.547Z"
   },
   {
    "duration": 310,
    "start_time": "2021-06-15T20:38:42.560Z"
   },
   {
    "duration": 26,
    "start_time": "2021-06-15T20:38:42.873Z"
   },
   {
    "duration": 28,
    "start_time": "2021-06-15T20:38:42.902Z"
   },
   {
    "duration": 20,
    "start_time": "2021-06-15T20:38:42.933Z"
   },
   {
    "duration": 9,
    "start_time": "2021-06-15T20:38:42.955Z"
   },
   {
    "duration": 7,
    "start_time": "2021-06-15T20:38:42.966Z"
   },
   {
    "duration": 7,
    "start_time": "2021-06-15T20:38:42.975Z"
   },
   {
    "duration": 291,
    "start_time": "2021-06-15T20:38:42.984Z"
   },
   {
    "duration": 25,
    "start_time": "2021-06-15T20:38:43.278Z"
   },
   {
    "duration": 28,
    "start_time": "2021-06-15T20:38:43.305Z"
   },
   {
    "duration": 15,
    "start_time": "2021-06-15T20:38:43.336Z"
   },
   {
    "duration": 9,
    "start_time": "2021-06-15T20:38:43.354Z"
   },
   {
    "duration": 8,
    "start_time": "2021-06-15T20:38:43.365Z"
   },
   {
    "duration": 51,
    "start_time": "2021-06-15T20:38:43.375Z"
   },
   {
    "duration": 305,
    "start_time": "2021-06-15T20:38:43.428Z"
   },
   {
    "duration": 36,
    "start_time": "2021-06-15T20:38:43.737Z"
   },
   {
    "duration": 15,
    "start_time": "2021-06-15T20:38:43.776Z"
   },
   {
    "duration": 22,
    "start_time": "2021-06-15T20:38:43.831Z"
   },
   {
    "duration": 19,
    "start_time": "2021-06-15T20:38:43.857Z"
   },
   {
    "duration": 30,
    "start_time": "2021-06-15T20:38:43.886Z"
   },
   {
    "duration": 13,
    "start_time": "2021-06-15T20:38:43.919Z"
   },
   {
    "duration": 382,
    "start_time": "2021-06-15T20:38:43.936Z"
   },
   {
    "duration": 24,
    "start_time": "2021-06-15T20:38:44.321Z"
   },
   {
    "duration": 192,
    "start_time": "2021-06-15T20:40:10.183Z"
   },
   {
    "duration": 3693,
    "start_time": "2021-06-15T20:40:37.878Z"
   },
   {
    "duration": 111,
    "start_time": "2021-06-15T20:40:41.575Z"
   },
   {
    "duration": 13,
    "start_time": "2021-06-15T20:40:41.689Z"
   },
   {
    "duration": 13,
    "start_time": "2021-06-15T20:40:41.725Z"
   },
   {
    "duration": 28,
    "start_time": "2021-06-15T20:40:41.740Z"
   },
   {
    "duration": 10,
    "start_time": "2021-06-15T20:40:41.771Z"
   },
   {
    "duration": 44,
    "start_time": "2021-06-15T20:40:41.783Z"
   },
   {
    "duration": 28,
    "start_time": "2021-06-15T20:40:41.831Z"
   },
   {
    "duration": 6,
    "start_time": "2021-06-15T20:40:41.863Z"
   },
   {
    "duration": 1001,
    "start_time": "2021-06-15T20:40:41.872Z"
   },
   {
    "duration": 409,
    "start_time": "2021-06-15T20:40:42.875Z"
   },
   {
    "duration": 8,
    "start_time": "2021-06-15T20:40:43.286Z"
   },
   {
    "duration": 31,
    "start_time": "2021-06-15T20:40:43.296Z"
   },
   {
    "duration": 9,
    "start_time": "2021-06-15T20:40:43.329Z"
   },
   {
    "duration": 23,
    "start_time": "2021-06-15T20:40:43.341Z"
   },
   {
    "duration": 12,
    "start_time": "2021-06-15T20:40:43.367Z"
   },
   {
    "duration": 61,
    "start_time": "2021-06-15T20:40:43.382Z"
   },
   {
    "duration": 8,
    "start_time": "2021-06-15T20:40:43.446Z"
   },
   {
    "duration": 23,
    "start_time": "2021-06-15T20:40:43.456Z"
   },
   {
    "duration": 11,
    "start_time": "2021-06-15T20:40:43.481Z"
   },
   {
    "duration": 25,
    "start_time": "2021-06-15T20:40:43.525Z"
   },
   {
    "duration": 13,
    "start_time": "2021-06-15T20:40:43.552Z"
   },
   {
    "duration": 26,
    "start_time": "2021-06-15T20:40:43.572Z"
   },
   {
    "duration": 11,
    "start_time": "2021-06-15T20:40:43.627Z"
   },
   {
    "duration": 5300,
    "start_time": "2021-06-15T20:40:43.641Z"
   },
   {
    "duration": 30,
    "start_time": "2021-06-15T20:40:48.943Z"
   },
   {
    "duration": 63,
    "start_time": "2021-06-15T20:40:48.975Z"
   },
   {
    "duration": 5,
    "start_time": "2021-06-15T20:40:49.041Z"
   },
   {
    "duration": 30,
    "start_time": "2021-06-15T20:40:49.049Z"
   },
   {
    "duration": 50,
    "start_time": "2021-06-15T20:40:49.081Z"
   },
   {
    "duration": 12,
    "start_time": "2021-06-15T20:40:49.134Z"
   },
   {
    "duration": 11,
    "start_time": "2021-06-15T20:40:49.149Z"
   },
   {
    "duration": 13,
    "start_time": "2021-06-15T20:40:49.162Z"
   },
   {
    "duration": 53,
    "start_time": "2021-06-15T20:40:49.177Z"
   },
   {
    "duration": 35,
    "start_time": "2021-06-15T20:40:49.232Z"
   },
   {
    "duration": 10,
    "start_time": "2021-06-15T20:40:49.270Z"
   },
   {
    "duration": 10,
    "start_time": "2021-06-15T20:40:49.282Z"
   },
   {
    "duration": 10,
    "start_time": "2021-06-15T20:40:49.327Z"
   },
   {
    "duration": 27,
    "start_time": "2021-06-15T20:40:49.340Z"
   },
   {
    "duration": 6,
    "start_time": "2021-06-15T20:40:49.369Z"
   },
   {
    "duration": 390,
    "start_time": "2021-06-15T20:40:49.378Z"
   },
   {
    "duration": 18,
    "start_time": "2021-06-15T20:40:49.771Z"
   },
   {
    "duration": 54,
    "start_time": "2021-06-15T20:40:49.792Z"
   },
   {
    "duration": 10,
    "start_time": "2021-06-15T20:40:49.849Z"
   },
   {
    "duration": 11,
    "start_time": "2021-06-15T20:40:49.861Z"
   },
   {
    "duration": 20,
    "start_time": "2021-06-15T20:40:49.874Z"
   },
   {
    "duration": 10,
    "start_time": "2021-06-15T20:40:49.925Z"
   },
   {
    "duration": 23,
    "start_time": "2021-06-15T20:40:49.938Z"
   },
   {
    "duration": 6,
    "start_time": "2021-06-15T20:40:49.964Z"
   },
   {
    "duration": 7,
    "start_time": "2021-06-15T20:40:49.973Z"
   },
   {
    "duration": 335,
    "start_time": "2021-06-15T20:40:49.982Z"
   },
   {
    "duration": 23,
    "start_time": "2021-06-15T20:40:50.325Z"
   },
   {
    "duration": 11,
    "start_time": "2021-06-15T20:40:50.350Z"
   },
   {
    "duration": 23,
    "start_time": "2021-06-15T20:40:50.363Z"
   },
   {
    "duration": 39,
    "start_time": "2021-06-15T20:40:50.388Z"
   },
   {
    "duration": 7,
    "start_time": "2021-06-15T20:40:50.429Z"
   },
   {
    "duration": 9,
    "start_time": "2021-06-15T20:40:50.438Z"
   },
   {
    "duration": 272,
    "start_time": "2021-06-15T20:40:50.449Z"
   },
   {
    "duration": 24,
    "start_time": "2021-06-15T20:40:50.725Z"
   },
   {
    "duration": 11,
    "start_time": "2021-06-15T20:40:50.752Z"
   },
   {
    "duration": 17,
    "start_time": "2021-06-15T20:40:50.765Z"
   },
   {
    "duration": 42,
    "start_time": "2021-06-15T20:40:50.785Z"
   },
   {
    "duration": 8,
    "start_time": "2021-06-15T20:40:50.829Z"
   },
   {
    "duration": 8,
    "start_time": "2021-06-15T20:40:50.839Z"
   },
   {
    "duration": 586,
    "start_time": "2021-06-15T20:40:50.849Z"
   },
   {
    "duration": 25,
    "start_time": "2021-06-15T20:40:51.437Z"
   },
   {
    "duration": 68,
    "start_time": "2021-06-15T20:40:51.464Z"
   },
   {
    "duration": 17,
    "start_time": "2021-06-15T20:40:51.539Z"
   },
   {
    "duration": 9,
    "start_time": "2021-06-15T20:40:51.558Z"
   },
   {
    "duration": 60,
    "start_time": "2021-06-15T20:40:51.570Z"
   },
   {
    "duration": 7,
    "start_time": "2021-06-15T20:40:51.632Z"
   },
   {
    "duration": 430,
    "start_time": "2021-06-15T20:40:51.641Z"
   },
   {
    "duration": 26,
    "start_time": "2021-06-15T20:40:52.074Z"
   },
   {
    "duration": 8,
    "start_time": "2021-06-15T20:42:24.855Z"
   },
   {
    "duration": 7,
    "start_time": "2021-06-15T20:42:32.029Z"
   },
   {
    "duration": 7,
    "start_time": "2021-06-15T20:42:45.742Z"
   },
   {
    "duration": 7,
    "start_time": "2021-06-15T20:43:03.909Z"
   },
   {
    "duration": 312,
    "start_time": "2021-06-15T20:43:31.956Z"
   },
   {
    "duration": 350,
    "start_time": "2021-06-15T20:43:38.022Z"
   },
   {
    "duration": 357,
    "start_time": "2021-06-15T20:43:42.979Z"
   },
   {
    "duration": 21,
    "start_time": "2021-06-15T20:44:02.533Z"
   },
   {
    "duration": 10,
    "start_time": "2021-06-15T20:44:22.549Z"
   },
   {
    "duration": 4240,
    "start_time": "2021-06-15T20:44:54.836Z"
   },
   {
    "duration": 106,
    "start_time": "2021-06-15T20:44:59.080Z"
   },
   {
    "duration": 12,
    "start_time": "2021-06-15T20:44:59.189Z"
   },
   {
    "duration": 30,
    "start_time": "2021-06-15T20:44:59.204Z"
   },
   {
    "duration": 28,
    "start_time": "2021-06-15T20:44:59.236Z"
   },
   {
    "duration": 10,
    "start_time": "2021-06-15T20:44:59.266Z"
   },
   {
    "duration": 11,
    "start_time": "2021-06-15T20:44:59.278Z"
   },
   {
    "duration": 29,
    "start_time": "2021-06-15T20:44:59.325Z"
   },
   {
    "duration": 5,
    "start_time": "2021-06-15T20:44:59.357Z"
   },
   {
    "duration": 943,
    "start_time": "2021-06-15T20:44:59.365Z"
   },
   {
    "duration": 398,
    "start_time": "2021-06-15T20:45:00.311Z"
   },
   {
    "duration": 9,
    "start_time": "2021-06-15T20:45:00.724Z"
   },
   {
    "duration": 33,
    "start_time": "2021-06-15T20:45:00.735Z"
   },
   {
    "duration": 14,
    "start_time": "2021-06-15T20:45:00.771Z"
   },
   {
    "duration": 36,
    "start_time": "2021-06-15T20:45:00.787Z"
   },
   {
    "duration": 27,
    "start_time": "2021-06-15T20:45:00.826Z"
   },
   {
    "duration": 45,
    "start_time": "2021-06-15T20:45:00.856Z"
   },
   {
    "duration": 9,
    "start_time": "2021-06-15T20:45:00.903Z"
   },
   {
    "duration": 44,
    "start_time": "2021-06-15T20:45:00.914Z"
   },
   {
    "duration": 20,
    "start_time": "2021-06-15T20:45:00.960Z"
   },
   {
    "duration": 35,
    "start_time": "2021-06-15T20:45:00.982Z"
   },
   {
    "duration": 10,
    "start_time": "2021-06-15T20:45:01.019Z"
   },
   {
    "duration": 31,
    "start_time": "2021-06-15T20:45:01.038Z"
   },
   {
    "duration": 23,
    "start_time": "2021-06-15T20:45:01.074Z"
   },
   {
    "duration": 4974,
    "start_time": "2021-06-15T20:45:01.100Z"
   },
   {
    "duration": 31,
    "start_time": "2021-06-15T20:45:06.077Z"
   },
   {
    "duration": 40,
    "start_time": "2021-06-15T20:45:06.126Z"
   },
   {
    "duration": 23,
    "start_time": "2021-06-15T20:45:06.169Z"
   },
   {
    "duration": 50,
    "start_time": "2021-06-15T20:45:06.194Z"
   },
   {
    "duration": 53,
    "start_time": "2021-06-15T20:45:06.247Z"
   },
   {
    "duration": 11,
    "start_time": "2021-06-15T20:45:06.303Z"
   },
   {
    "duration": 23,
    "start_time": "2021-06-15T20:45:06.317Z"
   },
   {
    "duration": 34,
    "start_time": "2021-06-15T20:45:06.342Z"
   },
   {
    "duration": 29,
    "start_time": "2021-06-15T20:45:06.378Z"
   },
   {
    "duration": 39,
    "start_time": "2021-06-15T20:45:06.409Z"
   },
   {
    "duration": 21,
    "start_time": "2021-06-15T20:45:06.451Z"
   },
   {
    "duration": 25,
    "start_time": "2021-06-15T20:45:06.474Z"
   },
   {
    "duration": 35,
    "start_time": "2021-06-15T20:45:06.501Z"
   },
   {
    "duration": 38,
    "start_time": "2021-06-15T20:45:06.539Z"
   },
   {
    "duration": 7,
    "start_time": "2021-06-15T20:45:06.579Z"
   },
   {
    "duration": 385,
    "start_time": "2021-06-15T20:45:06.588Z"
   },
   {
    "duration": 18,
    "start_time": "2021-06-15T20:45:06.975Z"
   },
   {
    "duration": 50,
    "start_time": "2021-06-15T20:45:06.995Z"
   },
   {
    "duration": 17,
    "start_time": "2021-06-15T20:45:07.048Z"
   },
   {
    "duration": 18,
    "start_time": "2021-06-15T20:45:07.067Z"
   },
   {
    "duration": 44,
    "start_time": "2021-06-15T20:45:07.087Z"
   },
   {
    "duration": 11,
    "start_time": "2021-06-15T20:45:07.133Z"
   },
   {
    "duration": 30,
    "start_time": "2021-06-15T20:45:07.146Z"
   },
   {
    "duration": 8,
    "start_time": "2021-06-15T20:45:07.178Z"
   },
   {
    "duration": 38,
    "start_time": "2021-06-15T20:45:07.188Z"
   },
   {
    "duration": 352,
    "start_time": "2021-06-15T20:45:07.229Z"
   },
   {
    "duration": 45,
    "start_time": "2021-06-15T20:45:07.585Z"
   },
   {
    "duration": 16,
    "start_time": "2021-06-15T20:45:07.633Z"
   },
   {
    "duration": 22,
    "start_time": "2021-06-15T20:45:07.652Z"
   },
   {
    "duration": 10,
    "start_time": "2021-06-15T20:45:07.676Z"
   },
   {
    "duration": 39,
    "start_time": "2021-06-15T20:45:07.689Z"
   },
   {
    "duration": 13,
    "start_time": "2021-06-15T20:45:07.731Z"
   },
   {
    "duration": 426,
    "start_time": "2021-06-15T20:45:07.746Z"
   },
   {
    "duration": 28,
    "start_time": "2021-06-15T20:45:08.174Z"
   },
   {
    "duration": 29,
    "start_time": "2021-06-15T20:45:08.204Z"
   },
   {
    "duration": 21,
    "start_time": "2021-06-15T20:45:08.236Z"
   },
   {
    "duration": 11,
    "start_time": "2021-06-15T20:45:08.259Z"
   },
   {
    "duration": 7,
    "start_time": "2021-06-15T20:45:08.273Z"
   },
   {
    "duration": 47,
    "start_time": "2021-06-15T20:45:08.282Z"
   },
   {
    "duration": 308,
    "start_time": "2021-06-15T20:45:08.331Z"
   },
   {
    "duration": 27,
    "start_time": "2021-06-15T20:45:08.642Z"
   },
   {
    "duration": 11,
    "start_time": "2021-06-15T20:45:08.671Z"
   },
   {
    "duration": 50,
    "start_time": "2021-06-15T20:45:08.690Z"
   },
   {
    "duration": 10,
    "start_time": "2021-06-15T20:45:08.743Z"
   },
   {
    "duration": 8,
    "start_time": "2021-06-15T20:45:08.755Z"
   },
   {
    "duration": 11,
    "start_time": "2021-06-15T20:45:08.765Z"
   },
   {
    "duration": 325,
    "start_time": "2021-06-15T20:45:08.778Z"
   },
   {
    "duration": 35,
    "start_time": "2021-06-15T20:45:09.105Z"
   },
   {
    "duration": 11,
    "start_time": "2021-06-15T20:45:45.170Z"
   },
   {
    "duration": 121,
    "start_time": "2021-06-15T20:46:00.355Z"
   },
   {
    "duration": 367,
    "start_time": "2021-06-15T20:46:09.435Z"
   },
   {
    "duration": 9,
    "start_time": "2021-06-15T20:46:17.708Z"
   },
   {
    "duration": 7,
    "start_time": "2021-06-15T20:46:27.833Z"
   },
   {
    "duration": 7,
    "start_time": "2021-06-15T20:48:01.599Z"
   },
   {
    "duration": 12,
    "start_time": "2021-06-15T20:48:13.045Z"
   },
   {
    "duration": 30,
    "start_time": "2021-06-15T20:48:41.716Z"
   },
   {
    "duration": 34,
    "start_time": "2021-06-15T20:50:35.160Z"
   },
   {
    "duration": 36,
    "start_time": "2021-06-15T20:50:52.846Z"
   },
   {
    "duration": 3683,
    "start_time": "2021-06-15T20:56:33.876Z"
   },
   {
    "duration": 102,
    "start_time": "2021-06-15T20:56:37.563Z"
   },
   {
    "duration": 15,
    "start_time": "2021-06-15T20:56:37.668Z"
   },
   {
    "duration": 42,
    "start_time": "2021-06-15T20:56:37.687Z"
   },
   {
    "duration": 30,
    "start_time": "2021-06-15T20:56:37.732Z"
   },
   {
    "duration": 11,
    "start_time": "2021-06-15T20:56:37.765Z"
   },
   {
    "duration": 9,
    "start_time": "2021-06-15T20:56:37.779Z"
   },
   {
    "duration": 27,
    "start_time": "2021-06-15T20:56:37.829Z"
   },
   {
    "duration": 6,
    "start_time": "2021-06-15T20:56:37.860Z"
   },
   {
    "duration": 1037,
    "start_time": "2021-06-15T20:56:37.869Z"
   },
   {
    "duration": 404,
    "start_time": "2021-06-15T20:56:38.909Z"
   },
   {
    "duration": 69,
    "start_time": "2021-06-15T20:56:39.315Z"
   },
   {
    "duration": 8,
    "start_time": "2021-06-15T20:56:39.387Z"
   },
   {
    "duration": 35,
    "start_time": "2021-06-15T20:56:39.397Z"
   },
   {
    "duration": 10,
    "start_time": "2021-06-15T20:56:39.434Z"
   },
   {
    "duration": 11,
    "start_time": "2021-06-15T20:56:39.447Z"
   },
   {
    "duration": 16,
    "start_time": "2021-06-15T20:56:39.460Z"
   },
   {
    "duration": 80,
    "start_time": "2021-06-15T20:56:39.479Z"
   },
   {
    "duration": 8,
    "start_time": "2021-06-15T20:56:39.562Z"
   },
   {
    "duration": 18,
    "start_time": "2021-06-15T20:56:39.572Z"
   },
   {
    "duration": 39,
    "start_time": "2021-06-15T20:56:39.592Z"
   },
   {
    "duration": 38,
    "start_time": "2021-06-15T20:56:39.633Z"
   },
   {
    "duration": 10,
    "start_time": "2021-06-15T20:56:39.677Z"
   },
   {
    "duration": 57,
    "start_time": "2021-06-15T20:56:39.691Z"
   },
   {
    "duration": 10,
    "start_time": "2021-06-15T20:56:39.750Z"
   },
   {
    "duration": 5079,
    "start_time": "2021-06-15T20:56:39.763Z"
   },
   {
    "duration": 29,
    "start_time": "2021-06-15T20:56:44.845Z"
   },
   {
    "duration": 54,
    "start_time": "2021-06-15T20:56:44.877Z"
   },
   {
    "duration": 6,
    "start_time": "2021-06-15T20:56:44.934Z"
   },
   {
    "duration": 26,
    "start_time": "2021-06-15T20:56:44.942Z"
   },
   {
    "duration": 56,
    "start_time": "2021-06-15T20:56:44.970Z"
   },
   {
    "duration": 10,
    "start_time": "2021-06-15T20:56:45.028Z"
   },
   {
    "duration": 17,
    "start_time": "2021-06-15T20:56:45.040Z"
   },
   {
    "duration": 11,
    "start_time": "2021-06-15T20:56:45.059Z"
   },
   {
    "duration": 11,
    "start_time": "2021-06-15T20:56:45.073Z"
   },
   {
    "duration": 66,
    "start_time": "2021-06-15T20:56:45.086Z"
   },
   {
    "duration": 17,
    "start_time": "2021-06-15T20:56:45.154Z"
   },
   {
    "duration": 17,
    "start_time": "2021-06-15T20:56:45.174Z"
   },
   {
    "duration": 36,
    "start_time": "2021-06-15T20:56:45.193Z"
   },
   {
    "duration": 33,
    "start_time": "2021-06-15T20:56:45.231Z"
   },
   {
    "duration": 8,
    "start_time": "2021-06-15T20:56:45.266Z"
   },
   {
    "duration": 387,
    "start_time": "2021-06-15T20:56:45.277Z"
   },
   {
    "duration": 16,
    "start_time": "2021-06-15T20:56:45.666Z"
   },
   {
    "duration": 53,
    "start_time": "2021-06-15T20:56:45.685Z"
   },
   {
    "duration": 19,
    "start_time": "2021-06-15T20:56:45.741Z"
   },
   {
    "duration": 12,
    "start_time": "2021-06-15T20:56:45.763Z"
   },
   {
    "duration": 21,
    "start_time": "2021-06-15T20:56:45.778Z"
   },
   {
    "duration": 13,
    "start_time": "2021-06-15T20:56:45.826Z"
   },
   {
    "duration": 26,
    "start_time": "2021-06-15T20:56:45.842Z"
   },
   {
    "duration": 7,
    "start_time": "2021-06-15T20:56:45.871Z"
   },
   {
    "duration": 7,
    "start_time": "2021-06-15T20:56:45.880Z"
   },
   {
    "duration": 328,
    "start_time": "2021-06-15T20:56:45.890Z"
   },
   {
    "duration": 26,
    "start_time": "2021-06-15T20:56:46.225Z"
   },
   {
    "duration": 11,
    "start_time": "2021-06-15T20:56:46.253Z"
   },
   {
    "duration": 27,
    "start_time": "2021-06-15T20:56:46.267Z"
   },
   {
    "duration": 34,
    "start_time": "2021-06-15T20:56:46.297Z"
   },
   {
    "duration": 7,
    "start_time": "2021-06-15T20:56:46.333Z"
   },
   {
    "duration": 11,
    "start_time": "2021-06-15T20:56:46.343Z"
   },
   {
    "duration": 282,
    "start_time": "2021-06-15T20:56:46.357Z"
   },
   {
    "duration": 27,
    "start_time": "2021-06-15T20:56:46.642Z"
   },
   {
    "duration": 12,
    "start_time": "2021-06-15T20:56:46.672Z"
   },
   {
    "duration": 53,
    "start_time": "2021-06-15T20:56:46.688Z"
   },
   {
    "duration": 9,
    "start_time": "2021-06-15T20:56:46.743Z"
   },
   {
    "duration": 6,
    "start_time": "2021-06-15T20:56:46.755Z"
   },
   {
    "duration": 8,
    "start_time": "2021-06-15T20:56:46.763Z"
   },
   {
    "duration": 388,
    "start_time": "2021-06-15T20:56:46.773Z"
   },
   {
    "duration": 47,
    "start_time": "2021-06-15T20:56:47.164Z"
   },
   {
    "duration": 25,
    "start_time": "2021-06-15T20:56:47.231Z"
   },
   {
    "duration": 34,
    "start_time": "2021-06-15T20:56:47.261Z"
   },
   {
    "duration": 36,
    "start_time": "2021-06-15T20:56:47.298Z"
   },
   {
    "duration": 7,
    "start_time": "2021-06-15T20:56:47.336Z"
   },
   {
    "duration": 7,
    "start_time": "2021-06-15T20:56:47.346Z"
   },
   {
    "duration": 321,
    "start_time": "2021-06-15T20:56:47.356Z"
   },
   {
    "duration": 24,
    "start_time": "2021-06-15T20:56:47.680Z"
   },
   {
    "duration": 33,
    "start_time": "2021-06-15T21:49:16.423Z"
   },
   {
    "duration": 28,
    "start_time": "2021-06-15T21:49:34.193Z"
   },
   {
    "duration": 47,
    "start_time": "2021-06-15T22:13:32.174Z"
   },
   {
    "duration": 1341,
    "start_time": "2021-06-15T22:17:22.998Z"
   },
   {
    "duration": 13,
    "start_time": "2021-06-15T22:18:02.161Z"
   },
   {
    "duration": 24,
    "start_time": "2021-06-15T22:19:04.369Z"
   },
   {
    "duration": 10,
    "start_time": "2021-06-15T22:19:11.651Z"
   },
   {
    "duration": 16,
    "start_time": "2021-06-15T22:19:22.296Z"
   },
   {
    "duration": 12,
    "start_time": "2021-06-15T22:21:05.374Z"
   },
   {
    "duration": 11,
    "start_time": "2021-06-15T22:29:17.744Z"
   },
   {
    "duration": 13,
    "start_time": "2021-06-15T22:29:29.398Z"
   },
   {
    "duration": 121,
    "start_time": "2021-06-15T22:32:28.210Z"
   },
   {
    "duration": 18,
    "start_time": "2021-06-15T22:33:25.151Z"
   },
   {
    "duration": 112,
    "start_time": "2021-06-15T22:35:12.471Z"
   },
   {
    "duration": 115,
    "start_time": "2021-06-15T22:35:53.162Z"
   },
   {
    "duration": 19,
    "start_time": "2021-06-15T22:36:11.260Z"
   },
   {
    "duration": 379,
    "start_time": "2021-06-15T22:40:29.865Z"
   },
   {
    "duration": 16,
    "start_time": "2021-06-15T22:41:12.125Z"
   },
   {
    "duration": 10,
    "start_time": "2021-06-15T22:41:32.912Z"
   },
   {
    "duration": 9,
    "start_time": "2021-06-15T22:41:48.136Z"
   },
   {
    "duration": 10,
    "start_time": "2021-06-15T22:41:52.080Z"
   },
   {
    "duration": 9,
    "start_time": "2021-06-15T22:42:11.886Z"
   },
   {
    "duration": 9,
    "start_time": "2021-06-15T22:42:15.671Z"
   },
   {
    "duration": 8,
    "start_time": "2021-06-15T22:42:19.641Z"
   },
   {
    "duration": 11,
    "start_time": "2021-06-15T22:42:25.173Z"
   },
   {
    "duration": 9,
    "start_time": "2021-06-15T22:42:29.238Z"
   },
   {
    "duration": 10,
    "start_time": "2021-06-15T22:42:35.943Z"
   },
   {
    "duration": 10,
    "start_time": "2021-06-15T22:42:40.827Z"
   },
   {
    "duration": 10,
    "start_time": "2021-06-15T22:42:46.126Z"
   },
   {
    "duration": 11,
    "start_time": "2021-06-15T22:42:51.963Z"
   },
   {
    "duration": 9,
    "start_time": "2021-06-15T22:42:56.040Z"
   },
   {
    "duration": 9,
    "start_time": "2021-06-15T22:43:13.590Z"
   },
   {
    "duration": 10,
    "start_time": "2021-06-15T22:43:48.266Z"
   },
   {
    "duration": 12,
    "start_time": "2021-06-15T22:49:42.263Z"
   },
   {
    "duration": 50,
    "start_time": "2021-06-15T22:49:59.403Z"
   },
   {
    "duration": 18,
    "start_time": "2021-06-15T22:51:59.768Z"
   },
   {
    "duration": 4625,
    "start_time": "2021-06-15T22:52:19.208Z"
   },
   {
    "duration": 98,
    "start_time": "2021-06-15T22:52:23.836Z"
   },
   {
    "duration": 13,
    "start_time": "2021-06-15T22:52:23.938Z"
   },
   {
    "duration": 13,
    "start_time": "2021-06-15T22:52:23.954Z"
   },
   {
    "duration": 56,
    "start_time": "2021-06-15T22:52:23.970Z"
   },
   {
    "duration": 11,
    "start_time": "2021-06-15T22:52:24.028Z"
   },
   {
    "duration": 7,
    "start_time": "2021-06-15T22:52:24.042Z"
   },
   {
    "duration": 27,
    "start_time": "2021-06-15T22:52:24.054Z"
   },
   {
    "duration": 44,
    "start_time": "2021-06-15T22:52:24.084Z"
   },
   {
    "duration": 22,
    "start_time": "2021-06-15T22:52:24.130Z"
   },
   {
    "duration": 1095,
    "start_time": "2021-06-15T22:52:24.155Z"
   },
   {
    "duration": 393,
    "start_time": "2021-06-15T22:52:25.253Z"
   },
   {
    "duration": 62,
    "start_time": "2021-06-15T22:52:25.648Z"
   },
   {
    "duration": 40,
    "start_time": "2021-06-15T22:52:25.726Z"
   },
   {
    "duration": 8,
    "start_time": "2021-06-15T22:52:25.769Z"
   },
   {
    "duration": 47,
    "start_time": "2021-06-15T22:52:25.779Z"
   },
   {
    "duration": 10,
    "start_time": "2021-06-15T22:52:25.828Z"
   },
   {
    "duration": 11,
    "start_time": "2021-06-15T22:52:25.840Z"
   },
   {
    "duration": 8,
    "start_time": "2021-06-15T22:52:25.854Z"
   },
   {
    "duration": 75,
    "start_time": "2021-06-15T22:52:25.864Z"
   },
   {
    "duration": 9,
    "start_time": "2021-06-15T22:52:25.941Z"
   },
   {
    "duration": 20,
    "start_time": "2021-06-15T22:52:25.952Z"
   },
   {
    "duration": 11,
    "start_time": "2021-06-15T22:52:25.978Z"
   },
   {
    "duration": 56,
    "start_time": "2021-06-15T22:52:25.993Z"
   },
   {
    "duration": 13,
    "start_time": "2021-06-15T22:52:26.051Z"
   },
   {
    "duration": 27,
    "start_time": "2021-06-15T22:52:26.067Z"
   },
   {
    "duration": 10,
    "start_time": "2021-06-15T22:52:26.125Z"
   },
   {
    "duration": 5201,
    "start_time": "2021-06-15T22:52:26.138Z"
   },
   {
    "duration": 30,
    "start_time": "2021-06-15T22:52:31.342Z"
   },
   {
    "duration": 58,
    "start_time": "2021-06-15T22:52:31.374Z"
   },
   {
    "duration": 8,
    "start_time": "2021-06-15T22:52:31.435Z"
   },
   {
    "duration": 53,
    "start_time": "2021-06-15T22:52:31.447Z"
   },
   {
    "duration": 43,
    "start_time": "2021-06-15T22:52:31.504Z"
   },
   {
    "duration": 16,
    "start_time": "2021-06-15T22:52:31.549Z"
   },
   {
    "duration": 17,
    "start_time": "2021-06-15T22:52:31.567Z"
   },
   {
    "duration": 15,
    "start_time": "2021-06-15T22:52:31.586Z"
   },
   {
    "duration": 15,
    "start_time": "2021-06-15T22:52:31.627Z"
   },
   {
    "duration": 40,
    "start_time": "2021-06-15T22:52:31.644Z"
   },
   {
    "duration": 13,
    "start_time": "2021-06-15T22:52:31.687Z"
   },
   {
    "duration": 10,
    "start_time": "2021-06-15T22:52:31.725Z"
   },
   {
    "duration": 18,
    "start_time": "2021-06-15T22:52:31.738Z"
   },
   {
    "duration": 30,
    "start_time": "2021-06-15T22:52:31.759Z"
   },
   {
    "duration": 35,
    "start_time": "2021-06-15T22:52:31.791Z"
   },
   {
    "duration": 382,
    "start_time": "2021-06-15T22:52:31.829Z"
   },
   {
    "duration": 23,
    "start_time": "2021-06-15T22:52:32.214Z"
   },
   {
    "duration": 36,
    "start_time": "2021-06-15T22:52:32.240Z"
   },
   {
    "duration": 13,
    "start_time": "2021-06-15T22:52:32.278Z"
   },
   {
    "duration": 36,
    "start_time": "2021-06-15T22:52:32.293Z"
   },
   {
    "duration": 22,
    "start_time": "2021-06-15T22:52:32.331Z"
   },
   {
    "duration": 11,
    "start_time": "2021-06-15T22:52:32.355Z"
   },
   {
    "duration": 23,
    "start_time": "2021-06-15T22:52:32.368Z"
   },
   {
    "duration": 36,
    "start_time": "2021-06-15T22:52:32.393Z"
   },
   {
    "duration": 7,
    "start_time": "2021-06-15T22:52:32.432Z"
   },
   {
    "duration": 319,
    "start_time": "2021-06-15T22:52:32.441Z"
   },
   {
    "duration": 26,
    "start_time": "2021-06-15T22:52:32.763Z"
   },
   {
    "duration": 34,
    "start_time": "2021-06-15T22:52:32.792Z"
   },
   {
    "duration": 16,
    "start_time": "2021-06-15T22:52:32.829Z"
   },
   {
    "duration": 9,
    "start_time": "2021-06-15T22:52:32.848Z"
   },
   {
    "duration": 7,
    "start_time": "2021-06-15T22:52:32.859Z"
   },
   {
    "duration": 7,
    "start_time": "2021-06-15T22:52:32.869Z"
   },
   {
    "duration": 309,
    "start_time": "2021-06-15T22:52:32.878Z"
   },
   {
    "duration": 38,
    "start_time": "2021-06-15T22:52:33.190Z"
   },
   {
    "duration": 11,
    "start_time": "2021-06-15T22:52:33.231Z"
   },
   {
    "duration": 18,
    "start_time": "2021-06-15T22:52:33.244Z"
   },
   {
    "duration": 9,
    "start_time": "2021-06-15T22:52:33.265Z"
   },
   {
    "duration": 49,
    "start_time": "2021-06-15T22:52:33.277Z"
   },
   {
    "duration": 6,
    "start_time": "2021-06-15T22:52:33.330Z"
   },
   {
    "duration": 311,
    "start_time": "2021-06-15T22:52:33.343Z"
   },
   {
    "duration": 29,
    "start_time": "2021-06-15T22:52:33.658Z"
   },
   {
    "duration": 38,
    "start_time": "2021-06-15T22:52:33.690Z"
   },
   {
    "duration": 23,
    "start_time": "2021-06-15T22:52:33.731Z"
   },
   {
    "duration": 10,
    "start_time": "2021-06-15T22:52:33.757Z"
   },
   {
    "duration": 8,
    "start_time": "2021-06-15T22:52:33.770Z"
   },
   {
    "duration": 46,
    "start_time": "2021-06-15T22:52:33.781Z"
   },
   {
    "duration": 286,
    "start_time": "2021-06-15T22:52:33.830Z"
   },
   {
    "duration": 26,
    "start_time": "2021-06-15T22:52:34.126Z"
   },
   {
    "duration": 9028,
    "start_time": "2021-06-15T22:57:40.649Z"
   },
   {
    "duration": 8871,
    "start_time": "2021-06-15T22:58:46.826Z"
   },
   {
    "duration": 5178,
    "start_time": "2021-06-15T22:59:10.950Z"
   },
   {
    "duration": 1177,
    "start_time": "2021-06-15T23:02:16.550Z"
   },
   {
    "duration": 11,
    "start_time": "2021-06-15T23:15:13.895Z"
   },
   {
    "duration": 11,
    "start_time": "2021-06-15T23:15:31.654Z"
   },
   {
    "duration": 4030,
    "start_time": "2021-06-15T23:15:56.847Z"
   },
   {
    "duration": 95,
    "start_time": "2021-06-15T23:16:00.881Z"
   },
   {
    "duration": 12,
    "start_time": "2021-06-15T23:16:00.979Z"
   },
   {
    "duration": 19,
    "start_time": "2021-06-15T23:16:00.994Z"
   },
   {
    "duration": 27,
    "start_time": "2021-06-15T23:16:01.026Z"
   },
   {
    "duration": 10,
    "start_time": "2021-06-15T23:16:01.055Z"
   },
   {
    "duration": 28,
    "start_time": "2021-06-15T23:16:01.067Z"
   },
   {
    "duration": 50,
    "start_time": "2021-06-15T23:16:01.099Z"
   },
   {
    "duration": 5,
    "start_time": "2021-06-15T23:16:01.152Z"
   },
   {
    "duration": 44,
    "start_time": "2021-06-15T23:16:01.160Z"
   },
   {
    "duration": 1575,
    "start_time": "2021-06-15T23:16:01.207Z"
   },
   {
    "duration": 541,
    "start_time": "2021-06-15T23:16:02.784Z"
   },
   {
    "duration": 64,
    "start_time": "2021-06-15T23:16:03.327Z"
   },
   {
    "duration": 10,
    "start_time": "2021-06-15T23:16:03.393Z"
   },
   {
    "duration": 8,
    "start_time": "2021-06-15T23:16:03.425Z"
   },
   {
    "duration": 14,
    "start_time": "2021-06-15T23:16:03.435Z"
   },
   {
    "duration": 9,
    "start_time": "2021-06-15T23:16:03.452Z"
   },
   {
    "duration": 12,
    "start_time": "2021-06-15T23:16:03.463Z"
   },
   {
    "duration": 10,
    "start_time": "2021-06-15T23:16:03.477Z"
   },
   {
    "duration": 37,
    "start_time": "2021-06-15T23:16:03.527Z"
   },
   {
    "duration": 8,
    "start_time": "2021-06-15T23:16:03.566Z"
   },
   {
    "duration": 50,
    "start_time": "2021-06-15T23:16:03.576Z"
   },
   {
    "duration": 10,
    "start_time": "2021-06-15T23:16:03.633Z"
   },
   {
    "duration": 36,
    "start_time": "2021-06-15T23:16:03.647Z"
   },
   {
    "duration": 10,
    "start_time": "2021-06-15T23:16:03.685Z"
   },
   {
    "duration": 28,
    "start_time": "2021-06-15T23:16:03.726Z"
   },
   {
    "duration": 19,
    "start_time": "2021-06-15T23:16:03.756Z"
   },
   {
    "duration": 4684,
    "start_time": "2021-06-15T23:16:03.778Z"
   },
   {
    "duration": 29,
    "start_time": "2021-06-15T23:16:08.465Z"
   },
   {
    "duration": 60,
    "start_time": "2021-06-15T23:16:08.497Z"
   },
   {
    "duration": 5,
    "start_time": "2021-06-15T23:16:08.560Z"
   },
   {
    "duration": 27,
    "start_time": "2021-06-15T23:16:08.568Z"
   },
   {
    "duration": 54,
    "start_time": "2021-06-15T23:16:08.597Z"
   },
   {
    "duration": 10,
    "start_time": "2021-06-15T23:16:08.653Z"
   },
   {
    "duration": 11,
    "start_time": "2021-06-15T23:16:08.665Z"
   },
   {
    "duration": 13,
    "start_time": "2021-06-15T23:16:08.678Z"
   },
   {
    "duration": 12,
    "start_time": "2021-06-15T23:16:08.726Z"
   },
   {
    "duration": 36,
    "start_time": "2021-06-15T23:16:08.740Z"
   },
   {
    "duration": 9,
    "start_time": "2021-06-15T23:16:08.779Z"
   },
   {
    "duration": 37,
    "start_time": "2021-06-15T23:16:08.790Z"
   },
   {
    "duration": 15,
    "start_time": "2021-06-15T23:16:08.829Z"
   },
   {
    "duration": 31,
    "start_time": "2021-06-15T23:16:08.847Z"
   },
   {
    "duration": 6,
    "start_time": "2021-06-15T23:16:08.881Z"
   },
   {
    "duration": 381,
    "start_time": "2021-06-15T23:16:08.890Z"
   },
   {
    "duration": 16,
    "start_time": "2021-06-15T23:16:09.274Z"
   },
   {
    "duration": 53,
    "start_time": "2021-06-15T23:16:09.293Z"
   },
   {
    "duration": 13,
    "start_time": "2021-06-15T23:16:09.349Z"
   },
   {
    "duration": 10,
    "start_time": "2021-06-15T23:16:09.365Z"
   },
   {
    "duration": 47,
    "start_time": "2021-06-15T23:16:09.378Z"
   },
   {
    "duration": 13,
    "start_time": "2021-06-15T23:16:09.428Z"
   },
   {
    "duration": 22,
    "start_time": "2021-06-15T23:16:09.443Z"
   },
   {
    "duration": 7,
    "start_time": "2021-06-15T23:16:09.468Z"
   },
   {
    "duration": 8,
    "start_time": "2021-06-15T23:16:09.477Z"
   },
   {
    "duration": 347,
    "start_time": "2021-06-15T23:16:09.527Z"
   },
   {
    "duration": 25,
    "start_time": "2021-06-15T23:16:09.877Z"
   },
   {
    "duration": 29,
    "start_time": "2021-06-15T23:16:09.905Z"
   },
   {
    "duration": 20,
    "start_time": "2021-06-15T23:16:09.936Z"
   },
   {
    "duration": 8,
    "start_time": "2021-06-15T23:16:09.959Z"
   },
   {
    "duration": 8,
    "start_time": "2021-06-15T23:16:09.969Z"
   },
   {
    "duration": 48,
    "start_time": "2021-06-15T23:16:09.979Z"
   },
   {
    "duration": 271,
    "start_time": "2021-06-15T23:16:10.029Z"
   },
   {
    "duration": 39,
    "start_time": "2021-06-15T23:16:10.302Z"
   },
   {
    "duration": 11,
    "start_time": "2021-06-15T23:16:10.344Z"
   },
   {
    "duration": 18,
    "start_time": "2021-06-15T23:16:10.357Z"
   },
   {
    "duration": 9,
    "start_time": "2021-06-15T23:16:10.377Z"
   },
   {
    "duration": 39,
    "start_time": "2021-06-15T23:16:10.388Z"
   },
   {
    "duration": 6,
    "start_time": "2021-06-15T23:16:10.430Z"
   },
   {
    "duration": 312,
    "start_time": "2021-06-15T23:16:10.443Z"
   },
   {
    "duration": 27,
    "start_time": "2021-06-15T23:16:10.757Z"
   },
   {
    "duration": 12,
    "start_time": "2021-06-15T23:16:10.786Z"
   },
   {
    "duration": 40,
    "start_time": "2021-06-15T23:16:10.801Z"
   },
   {
    "duration": 9,
    "start_time": "2021-06-15T23:16:10.843Z"
   },
   {
    "duration": 8,
    "start_time": "2021-06-15T23:16:10.854Z"
   },
   {
    "duration": 8,
    "start_time": "2021-06-15T23:16:10.864Z"
   },
   {
    "duration": 340,
    "start_time": "2021-06-15T23:16:10.875Z"
   },
   {
    "duration": 30,
    "start_time": "2021-06-15T23:16:11.217Z"
   },
   {
    "duration": 44,
    "start_time": "2021-06-15T23:20:48.371Z"
   },
   {
    "duration": 45,
    "start_time": "2021-06-15T23:21:22.815Z"
   },
   {
    "duration": 44,
    "start_time": "2021-06-15T23:21:44.738Z"
   },
   {
    "duration": 46,
    "start_time": "2021-06-15T23:22:02.547Z"
   },
   {
    "duration": 110,
    "start_time": "2021-06-15T23:26:23.742Z"
   },
   {
    "duration": 1430,
    "start_time": "2021-06-15T23:26:45.433Z"
   },
   {
    "duration": 45,
    "start_time": "2021-06-15T23:27:33.385Z"
   },
   {
    "duration": 112,
    "start_time": "2021-06-15T23:28:32.401Z"
   },
   {
    "duration": 32,
    "start_time": "2021-06-15T23:28:43.938Z"
   },
   {
    "duration": 24,
    "start_time": "2021-06-15T23:29:48.538Z"
   },
   {
    "duration": 4225,
    "start_time": "2021-06-15T23:29:51.981Z"
   },
   {
    "duration": 96,
    "start_time": "2021-06-15T23:29:56.210Z"
   },
   {
    "duration": 19,
    "start_time": "2021-06-15T23:29:56.308Z"
   },
   {
    "duration": 12,
    "start_time": "2021-06-15T23:29:56.329Z"
   },
   {
    "duration": 26,
    "start_time": "2021-06-15T23:29:56.344Z"
   },
   {
    "duration": 10,
    "start_time": "2021-06-15T23:29:56.372Z"
   },
   {
    "duration": 45,
    "start_time": "2021-06-15T23:29:56.385Z"
   },
   {
    "duration": 28,
    "start_time": "2021-06-15T23:29:56.434Z"
   },
   {
    "duration": 5,
    "start_time": "2021-06-15T23:29:56.465Z"
   },
   {
    "duration": 59,
    "start_time": "2021-06-15T23:29:56.472Z"
   },
   {
    "duration": 1022,
    "start_time": "2021-06-15T23:29:56.534Z"
   },
   {
    "duration": 389,
    "start_time": "2021-06-15T23:29:57.558Z"
   },
   {
    "duration": 61,
    "start_time": "2021-06-15T23:29:57.949Z"
   },
   {
    "duration": 25,
    "start_time": "2021-06-15T23:29:58.025Z"
   },
   {
    "duration": 9,
    "start_time": "2021-06-15T23:29:58.052Z"
   },
   {
    "duration": 10,
    "start_time": "2021-06-15T23:29:58.063Z"
   },
   {
    "duration": 9,
    "start_time": "2021-06-15T23:29:58.075Z"
   },
   {
    "duration": 8,
    "start_time": "2021-06-15T23:29:58.125Z"
   },
   {
    "duration": 9,
    "start_time": "2021-06-15T23:29:58.136Z"
   },
   {
    "duration": 39,
    "start_time": "2021-06-15T23:29:58.148Z"
   },
   {
    "duration": 37,
    "start_time": "2021-06-15T23:29:58.190Z"
   },
   {
    "duration": 28,
    "start_time": "2021-06-15T23:29:58.230Z"
   },
   {
    "duration": 10,
    "start_time": "2021-06-15T23:29:58.265Z"
   },
   {
    "duration": 50,
    "start_time": "2021-06-15T23:29:58.280Z"
   },
   {
    "duration": 17,
    "start_time": "2021-06-15T23:29:58.333Z"
   },
   {
    "duration": 35,
    "start_time": "2021-06-15T23:29:58.353Z"
   },
   {
    "duration": 40,
    "start_time": "2021-06-15T23:29:58.391Z"
   },
   {
    "duration": 5219,
    "start_time": "2021-06-15T23:29:58.433Z"
   },
   {
    "duration": 28,
    "start_time": "2021-06-15T23:30:03.655Z"
   },
   {
    "duration": 66,
    "start_time": "2021-06-15T23:30:03.685Z"
   },
   {
    "duration": 6,
    "start_time": "2021-06-15T23:30:03.754Z"
   },
   {
    "duration": 31,
    "start_time": "2021-06-15T23:30:03.763Z"
   },
   {
    "duration": 53,
    "start_time": "2021-06-15T23:30:03.796Z"
   },
   {
    "duration": 11,
    "start_time": "2021-06-15T23:30:03.852Z"
   },
   {
    "duration": 13,
    "start_time": "2021-06-15T23:30:03.866Z"
   },
   {
    "duration": 14,
    "start_time": "2021-06-15T23:30:03.881Z"
   },
   {
    "duration": 17,
    "start_time": "2021-06-15T23:30:03.927Z"
   },
   {
    "duration": 33,
    "start_time": "2021-06-15T23:30:03.947Z"
   },
   {
    "duration": 13,
    "start_time": "2021-06-15T23:30:03.982Z"
   },
   {
    "duration": 41,
    "start_time": "2021-06-15T23:30:03.997Z"
   },
   {
    "duration": 12,
    "start_time": "2021-06-15T23:30:04.041Z"
   },
   {
    "duration": 26,
    "start_time": "2021-06-15T23:30:04.055Z"
   },
   {
    "duration": 5,
    "start_time": "2021-06-15T23:30:04.083Z"
   },
   {
    "duration": 394,
    "start_time": "2021-06-15T23:30:04.127Z"
   },
   {
    "duration": 23,
    "start_time": "2021-06-15T23:30:04.527Z"
   },
   {
    "duration": 36,
    "start_time": "2021-06-15T23:30:04.553Z"
   },
   {
    "duration": 46,
    "start_time": "2021-06-15T23:30:04.592Z"
   },
   {
    "duration": 15,
    "start_time": "2021-06-15T23:30:04.641Z"
   },
   {
    "duration": 21,
    "start_time": "2021-06-15T23:30:04.659Z"
   },
   {
    "duration": 45,
    "start_time": "2021-06-15T23:30:04.683Z"
   },
   {
    "duration": 27,
    "start_time": "2021-06-15T23:30:04.731Z"
   },
   {
    "duration": 12,
    "start_time": "2021-06-15T23:30:04.760Z"
   },
   {
    "duration": 9,
    "start_time": "2021-06-15T23:30:04.775Z"
   },
   {
    "duration": 348,
    "start_time": "2021-06-15T23:30:04.787Z"
   },
   {
    "duration": 24,
    "start_time": "2021-06-15T23:30:05.139Z"
   },
   {
    "duration": 10,
    "start_time": "2021-06-15T23:30:05.166Z"
   },
   {
    "duration": 51,
    "start_time": "2021-06-15T23:30:05.179Z"
   },
   {
    "duration": 11,
    "start_time": "2021-06-15T23:30:05.233Z"
   },
   {
    "duration": 8,
    "start_time": "2021-06-15T23:30:05.246Z"
   },
   {
    "duration": 8,
    "start_time": "2021-06-15T23:30:05.256Z"
   },
   {
    "duration": 313,
    "start_time": "2021-06-15T23:30:05.266Z"
   },
   {
    "duration": 42,
    "start_time": "2021-06-15T23:30:05.582Z"
   },
   {
    "duration": 16,
    "start_time": "2021-06-15T23:30:05.628Z"
   },
   {
    "duration": 24,
    "start_time": "2021-06-15T23:30:05.647Z"
   },
   {
    "duration": 9,
    "start_time": "2021-06-15T23:30:05.674Z"
   },
   {
    "duration": 7,
    "start_time": "2021-06-15T23:30:05.685Z"
   },
   {
    "duration": 9,
    "start_time": "2021-06-15T23:30:05.727Z"
   },
   {
    "duration": 329,
    "start_time": "2021-06-15T23:30:05.752Z"
   },
   {
    "duration": 25,
    "start_time": "2021-06-15T23:30:06.084Z"
   },
   {
    "duration": 25,
    "start_time": "2021-06-15T23:30:06.111Z"
   },
   {
    "duration": 18,
    "start_time": "2021-06-15T23:30:06.139Z"
   },
   {
    "duration": 9,
    "start_time": "2021-06-15T23:30:06.160Z"
   },
   {
    "duration": 7,
    "start_time": "2021-06-15T23:30:06.171Z"
   },
   {
    "duration": 7,
    "start_time": "2021-06-15T23:30:06.225Z"
   },
   {
    "duration": 324,
    "start_time": "2021-06-15T23:30:06.235Z"
   },
   {
    "duration": 24,
    "start_time": "2021-06-15T23:30:06.562Z"
   },
   {
    "duration": 50,
    "start_time": "2021-06-15T23:30:25.493Z"
   },
   {
    "duration": 3598,
    "start_time": "2021-06-15T23:31:50.653Z"
   },
   {
    "duration": 115,
    "start_time": "2021-06-15T23:31:54.254Z"
   },
   {
    "duration": 12,
    "start_time": "2021-06-15T23:31:54.373Z"
   },
   {
    "duration": 12,
    "start_time": "2021-06-15T23:31:54.388Z"
   },
   {
    "duration": 48,
    "start_time": "2021-06-15T23:31:54.402Z"
   },
   {
    "duration": 9,
    "start_time": "2021-06-15T23:31:54.452Z"
   },
   {
    "duration": 8,
    "start_time": "2021-06-15T23:31:54.463Z"
   },
   {
    "duration": 67,
    "start_time": "2021-06-15T23:31:54.475Z"
   },
   {
    "duration": 5,
    "start_time": "2021-06-15T23:31:54.545Z"
   },
   {
    "duration": 24,
    "start_time": "2021-06-15T23:31:54.552Z"
   },
   {
    "duration": 939,
    "start_time": "2021-06-15T23:31:54.579Z"
   },
   {
    "duration": 398,
    "start_time": "2021-06-15T23:31:55.520Z"
   },
   {
    "duration": 62,
    "start_time": "2021-06-15T23:31:55.921Z"
   },
   {
    "duration": 8,
    "start_time": "2021-06-15T23:31:55.985Z"
   },
   {
    "duration": 34,
    "start_time": "2021-06-15T23:31:55.996Z"
   },
   {
    "duration": 20,
    "start_time": "2021-06-15T23:31:56.032Z"
   },
   {
    "duration": 14,
    "start_time": "2021-06-15T23:31:56.055Z"
   },
   {
    "duration": 11,
    "start_time": "2021-06-15T23:31:56.072Z"
   },
   {
    "duration": 65,
    "start_time": "2021-06-15T23:31:56.085Z"
   },
   {
    "duration": 8,
    "start_time": "2021-06-15T23:31:56.153Z"
   },
   {
    "duration": 21,
    "start_time": "2021-06-15T23:31:56.163Z"
   },
   {
    "duration": 10,
    "start_time": "2021-06-15T23:31:56.186Z"
   },
   {
    "duration": 31,
    "start_time": "2021-06-15T23:31:56.230Z"
   },
   {
    "duration": 13,
    "start_time": "2021-06-15T23:31:56.267Z"
   },
   {
    "duration": 76,
    "start_time": "2021-06-15T23:31:56.282Z"
   },
   {
    "duration": 14,
    "start_time": "2021-06-15T23:31:56.361Z"
   },
   {
    "duration": 5422,
    "start_time": "2021-06-15T23:31:56.379Z"
   },
   {
    "duration": 49,
    "start_time": "2021-06-15T23:32:01.804Z"
   },
   {
    "duration": 44,
    "start_time": "2021-06-15T23:32:01.856Z"
   },
   {
    "duration": 4,
    "start_time": "2021-06-15T23:32:01.926Z"
   },
   {
    "duration": 34,
    "start_time": "2021-06-15T23:32:01.932Z"
   },
   {
    "duration": 28,
    "start_time": "2021-06-15T23:32:01.969Z"
   },
   {
    "duration": 31,
    "start_time": "2021-06-15T23:32:01.999Z"
   },
   {
    "duration": 11,
    "start_time": "2021-06-15T23:32:02.033Z"
   },
   {
    "duration": 13,
    "start_time": "2021-06-15T23:32:02.046Z"
   },
   {
    "duration": 11,
    "start_time": "2021-06-15T23:32:02.062Z"
   },
   {
    "duration": 65,
    "start_time": "2021-06-15T23:32:02.076Z"
   },
   {
    "duration": 11,
    "start_time": "2021-06-15T23:32:02.144Z"
   },
   {
    "duration": 13,
    "start_time": "2021-06-15T23:32:02.157Z"
   },
   {
    "duration": 18,
    "start_time": "2021-06-15T23:32:02.173Z"
   },
   {
    "duration": 59,
    "start_time": "2021-06-15T23:32:02.194Z"
   },
   {
    "duration": 6,
    "start_time": "2021-06-15T23:32:02.256Z"
   },
   {
    "duration": 378,
    "start_time": "2021-06-15T23:32:02.265Z"
   },
   {
    "duration": 18,
    "start_time": "2021-06-15T23:32:02.646Z"
   },
   {
    "duration": 36,
    "start_time": "2021-06-15T23:32:02.667Z"
   },
   {
    "duration": 10,
    "start_time": "2021-06-15T23:32:02.726Z"
   },
   {
    "duration": 18,
    "start_time": "2021-06-15T23:32:02.738Z"
   },
   {
    "duration": 19,
    "start_time": "2021-06-15T23:32:02.758Z"
   },
   {
    "duration": 10,
    "start_time": "2021-06-15T23:32:02.779Z"
   },
   {
    "duration": 51,
    "start_time": "2021-06-15T23:32:02.792Z"
   },
   {
    "duration": 7,
    "start_time": "2021-06-15T23:32:02.845Z"
   },
   {
    "duration": 6,
    "start_time": "2021-06-15T23:32:02.854Z"
   },
   {
    "duration": 426,
    "start_time": "2021-06-15T23:32:02.863Z"
   },
   {
    "duration": 47,
    "start_time": "2021-06-15T23:32:03.292Z"
   },
   {
    "duration": 14,
    "start_time": "2021-06-15T23:32:03.342Z"
   },
   {
    "duration": 25,
    "start_time": "2021-06-15T23:32:03.359Z"
   },
   {
    "duration": 40,
    "start_time": "2021-06-15T23:32:03.387Z"
   },
   {
    "duration": 7,
    "start_time": "2021-06-15T23:32:03.429Z"
   },
   {
    "duration": 8,
    "start_time": "2021-06-15T23:32:03.438Z"
   },
   {
    "duration": 268,
    "start_time": "2021-06-15T23:32:03.448Z"
   },
   {
    "duration": 24,
    "start_time": "2021-06-15T23:32:03.725Z"
   },
   {
    "duration": 11,
    "start_time": "2021-06-15T23:32:03.751Z"
   },
   {
    "duration": 19,
    "start_time": "2021-06-15T23:32:03.764Z"
   },
   {
    "duration": 43,
    "start_time": "2021-06-15T23:32:03.785Z"
   },
   {
    "duration": 7,
    "start_time": "2021-06-15T23:32:03.830Z"
   },
   {
    "duration": 7,
    "start_time": "2021-06-15T23:32:03.839Z"
   },
   {
    "duration": 311,
    "start_time": "2021-06-15T23:32:03.848Z"
   },
   {
    "duration": 24,
    "start_time": "2021-06-15T23:32:04.166Z"
   },
   {
    "duration": 34,
    "start_time": "2021-06-15T23:32:04.192Z"
   },
   {
    "duration": 17,
    "start_time": "2021-06-15T23:32:04.228Z"
   },
   {
    "duration": 10,
    "start_time": "2021-06-15T23:32:04.247Z"
   },
   {
    "duration": 8,
    "start_time": "2021-06-15T23:32:04.259Z"
   },
   {
    "duration": 6,
    "start_time": "2021-06-15T23:32:04.270Z"
   },
   {
    "duration": 330,
    "start_time": "2021-06-15T23:32:04.279Z"
   },
   {
    "duration": 44,
    "start_time": "2021-06-15T23:32:04.612Z"
   },
   {
    "duration": 18,
    "start_time": "2021-06-15T23:39:18.046Z"
   },
   {
    "duration": 9,
    "start_time": "2021-06-15T23:39:24.238Z"
   },
   {
    "duration": 4086,
    "start_time": "2021-06-15T23:39:33.839Z"
   },
   {
    "duration": 123,
    "start_time": "2021-06-15T23:39:37.928Z"
   },
   {
    "duration": 12,
    "start_time": "2021-06-15T23:39:38.054Z"
   },
   {
    "duration": 12,
    "start_time": "2021-06-15T23:39:38.069Z"
   },
   {
    "duration": 59,
    "start_time": "2021-06-15T23:39:38.083Z"
   },
   {
    "duration": 9,
    "start_time": "2021-06-15T23:39:38.145Z"
   },
   {
    "duration": 7,
    "start_time": "2021-06-15T23:39:38.156Z"
   },
   {
    "duration": 74,
    "start_time": "2021-06-15T23:39:38.167Z"
   },
   {
    "duration": 4,
    "start_time": "2021-06-15T23:39:38.244Z"
   },
   {
    "duration": 22,
    "start_time": "2021-06-15T23:39:38.251Z"
   },
   {
    "duration": 1305,
    "start_time": "2021-06-15T23:39:38.275Z"
   },
   {
    "duration": 412,
    "start_time": "2021-06-15T23:39:39.583Z"
   },
   {
    "duration": 78,
    "start_time": "2021-06-15T23:39:39.998Z"
   },
   {
    "duration": 9,
    "start_time": "2021-06-15T23:39:40.079Z"
   },
   {
    "duration": 11,
    "start_time": "2021-06-15T23:39:40.090Z"
   },
   {
    "duration": 13,
    "start_time": "2021-06-15T23:39:40.126Z"
   },
   {
    "duration": 9,
    "start_time": "2021-06-15T23:39:40.142Z"
   },
   {
    "duration": 11,
    "start_time": "2021-06-15T23:39:40.154Z"
   },
   {
    "duration": 62,
    "start_time": "2021-06-15T23:39:40.167Z"
   },
   {
    "duration": 10,
    "start_time": "2021-06-15T23:39:40.232Z"
   },
   {
    "duration": 20,
    "start_time": "2021-06-15T23:39:40.245Z"
   },
   {
    "duration": 11,
    "start_time": "2021-06-15T23:39:40.268Z"
   },
   {
    "duration": 30,
    "start_time": "2021-06-15T23:39:40.325Z"
   },
   {
    "duration": 11,
    "start_time": "2021-06-15T23:39:40.359Z"
   },
   {
    "duration": 58,
    "start_time": "2021-06-15T23:39:40.372Z"
   },
   {
    "duration": 12,
    "start_time": "2021-06-15T23:39:40.433Z"
   },
   {
    "duration": 5055,
    "start_time": "2021-06-15T23:39:40.448Z"
   },
   {
    "duration": 39,
    "start_time": "2021-06-15T23:39:45.506Z"
   },
   {
    "duration": 49,
    "start_time": "2021-06-15T23:39:45.548Z"
   },
   {
    "duration": 5,
    "start_time": "2021-06-15T23:39:45.601Z"
   },
   {
    "duration": 32,
    "start_time": "2021-06-15T23:39:45.625Z"
   },
   {
    "duration": 29,
    "start_time": "2021-06-15T23:39:45.660Z"
   },
   {
    "duration": 43,
    "start_time": "2021-06-15T23:39:45.691Z"
   },
   {
    "duration": 20,
    "start_time": "2021-06-15T23:39:45.737Z"
   },
   {
    "duration": 9,
    "start_time": "2021-06-15T23:39:45.760Z"
   },
   {
    "duration": 12,
    "start_time": "2021-06-15T23:39:45.771Z"
   },
   {
    "duration": 61,
    "start_time": "2021-06-15T23:39:45.786Z"
   },
   {
    "duration": 12,
    "start_time": "2021-06-15T23:39:45.850Z"
   },
   {
    "duration": 12,
    "start_time": "2021-06-15T23:39:45.865Z"
   },
   {
    "duration": 19,
    "start_time": "2021-06-15T23:39:45.880Z"
   },
   {
    "duration": 32,
    "start_time": "2021-06-15T23:39:45.931Z"
   },
   {
    "duration": 7,
    "start_time": "2021-06-15T23:39:45.965Z"
   },
   {
    "duration": 391,
    "start_time": "2021-06-15T23:39:45.974Z"
   },
   {
    "duration": 17,
    "start_time": "2021-06-15T23:39:46.368Z"
   },
   {
    "duration": 61,
    "start_time": "2021-06-15T23:39:46.388Z"
   },
   {
    "duration": 10,
    "start_time": "2021-06-15T23:39:46.451Z"
   },
   {
    "duration": 10,
    "start_time": "2021-06-15T23:39:46.463Z"
   },
   {
    "duration": 20,
    "start_time": "2021-06-15T23:39:46.475Z"
   },
   {
    "duration": 37,
    "start_time": "2021-06-15T23:39:46.497Z"
   },
   {
    "duration": 27,
    "start_time": "2021-06-15T23:39:46.536Z"
   },
   {
    "duration": 7,
    "start_time": "2021-06-15T23:39:46.565Z"
   },
   {
    "duration": 8,
    "start_time": "2021-06-15T23:39:46.574Z"
   },
   {
    "duration": 354,
    "start_time": "2021-06-15T23:39:46.584Z"
   },
   {
    "duration": 24,
    "start_time": "2021-06-15T23:39:46.942Z"
   },
   {
    "duration": 11,
    "start_time": "2021-06-15T23:39:46.968Z"
   },
   {
    "duration": 52,
    "start_time": "2021-06-15T23:39:46.982Z"
   },
   {
    "duration": 11,
    "start_time": "2021-06-15T23:39:47.036Z"
   },
   {
    "duration": 6,
    "start_time": "2021-06-15T23:39:47.049Z"
   },
   {
    "duration": 11,
    "start_time": "2021-06-15T23:39:47.057Z"
   },
   {
    "duration": 293,
    "start_time": "2021-06-15T23:39:47.071Z"
   },
   {
    "duration": 26,
    "start_time": "2021-06-15T23:39:47.367Z"
   },
   {
    "duration": 37,
    "start_time": "2021-06-15T23:39:47.395Z"
   },
   {
    "duration": 19,
    "start_time": "2021-06-15T23:39:47.435Z"
   },
   {
    "duration": 9,
    "start_time": "2021-06-15T23:39:47.456Z"
   },
   {
    "duration": 6,
    "start_time": "2021-06-15T23:39:47.468Z"
   },
   {
    "duration": 52,
    "start_time": "2021-06-15T23:39:47.476Z"
   },
   {
    "duration": 450,
    "start_time": "2021-06-15T23:39:47.531Z"
   },
   {
    "duration": 45,
    "start_time": "2021-06-15T23:39:47.988Z"
   },
   {
    "duration": 16,
    "start_time": "2021-06-15T23:39:48.036Z"
   },
   {
    "duration": 17,
    "start_time": "2021-06-15T23:39:48.055Z"
   },
   {
    "duration": 10,
    "start_time": "2021-06-15T23:39:48.075Z"
   },
   {
    "duration": 43,
    "start_time": "2021-06-15T23:39:48.087Z"
   },
   {
    "duration": 7,
    "start_time": "2021-06-15T23:39:48.133Z"
   },
   {
    "duration": 320,
    "start_time": "2021-06-15T23:39:48.143Z"
   },
   {
    "duration": 26,
    "start_time": "2021-06-15T23:39:48.466Z"
   },
   {
    "duration": 20,
    "start_time": "2021-06-15T23:43:00.027Z"
   },
   {
    "duration": 9,
    "start_time": "2021-06-15T23:43:02.157Z"
   },
   {
    "duration": 138,
    "start_time": "2021-06-15T23:50:56.252Z"
   },
   {
    "duration": 121,
    "start_time": "2021-06-15T23:51:07.613Z"
   },
   {
    "duration": 21,
    "start_time": "2021-06-15T23:52:17.914Z"
   },
   {
    "duration": 2523,
    "start_time": "2021-06-15T23:54:26.370Z"
   },
   {
    "duration": 2281,
    "start_time": "2021-06-15T23:55:07.029Z"
   },
   {
    "duration": 3823,
    "start_time": "2021-06-15T23:56:07.501Z"
   },
   {
    "duration": 100,
    "start_time": "2021-06-15T23:56:11.327Z"
   },
   {
    "duration": 14,
    "start_time": "2021-06-15T23:56:11.430Z"
   },
   {
    "duration": 11,
    "start_time": "2021-06-15T23:56:11.447Z"
   },
   {
    "duration": 27,
    "start_time": "2021-06-15T23:56:11.461Z"
   },
   {
    "duration": 10,
    "start_time": "2021-06-15T23:56:11.525Z"
   },
   {
    "duration": 15,
    "start_time": "2021-06-15T23:56:11.538Z"
   },
   {
    "duration": 30,
    "start_time": "2021-06-15T23:56:11.559Z"
   },
   {
    "duration": 34,
    "start_time": "2021-06-15T23:56:11.594Z"
   },
   {
    "duration": 23,
    "start_time": "2021-06-15T23:56:11.631Z"
   },
   {
    "duration": 968,
    "start_time": "2021-06-15T23:56:11.657Z"
   },
   {
    "duration": 398,
    "start_time": "2021-06-15T23:56:12.628Z"
   },
   {
    "duration": 66,
    "start_time": "2021-06-15T23:56:13.030Z"
   },
   {
    "duration": 33,
    "start_time": "2021-06-15T23:56:13.099Z"
   },
   {
    "duration": 20,
    "start_time": "2021-06-15T23:56:13.134Z"
   },
   {
    "duration": 9,
    "start_time": "2021-06-15T23:56:13.156Z"
   },
   {
    "duration": 13,
    "start_time": "2021-06-15T23:56:13.168Z"
   },
   {
    "duration": 10,
    "start_time": "2021-06-15T23:56:13.183Z"
   },
   {
    "duration": 47,
    "start_time": "2021-06-15T23:56:13.196Z"
   },
   {
    "duration": 8,
    "start_time": "2021-06-15T23:56:13.245Z"
   },
   {
    "duration": 17,
    "start_time": "2021-06-15T23:56:13.255Z"
   },
   {
    "duration": 10,
    "start_time": "2021-06-15T23:56:13.274Z"
   },
   {
    "duration": 24,
    "start_time": "2021-06-15T23:56:13.326Z"
   },
   {
    "duration": 9,
    "start_time": "2021-06-15T23:56:13.354Z"
   },
   {
    "duration": 26,
    "start_time": "2021-06-15T23:56:13.365Z"
   },
   {
    "duration": 58,
    "start_time": "2021-06-15T23:56:13.394Z"
   },
   {
    "duration": 10,
    "start_time": "2021-06-15T23:56:13.454Z"
   },
   {
    "duration": 4623,
    "start_time": "2021-06-15T23:56:13.466Z"
   },
   {
    "duration": 43,
    "start_time": "2021-06-15T23:56:18.092Z"
   },
   {
    "duration": 43,
    "start_time": "2021-06-15T23:56:18.138Z"
   },
   {
    "duration": 5,
    "start_time": "2021-06-15T23:56:18.183Z"
   },
   {
    "duration": 45,
    "start_time": "2021-06-15T23:56:18.190Z"
   },
   {
    "duration": 29,
    "start_time": "2021-06-15T23:56:18.237Z"
   },
   {
    "duration": 11,
    "start_time": "2021-06-15T23:56:18.268Z"
   },
   {
    "duration": 9,
    "start_time": "2021-06-15T23:56:18.282Z"
   },
   {
    "duration": 8,
    "start_time": "2021-06-15T23:56:18.326Z"
   },
   {
    "duration": 14,
    "start_time": "2021-06-15T23:56:18.336Z"
   },
   {
    "duration": 31,
    "start_time": "2021-06-15T23:56:18.353Z"
   },
   {
    "duration": 46,
    "start_time": "2021-06-15T23:56:18.387Z"
   },
   {
    "duration": 11,
    "start_time": "2021-06-15T23:56:18.436Z"
   },
   {
    "duration": 12,
    "start_time": "2021-06-15T23:56:18.450Z"
   },
   {
    "duration": 64,
    "start_time": "2021-06-15T23:56:18.464Z"
   },
   {
    "duration": 6,
    "start_time": "2021-06-15T23:56:18.531Z"
   },
   {
    "duration": 385,
    "start_time": "2021-06-15T23:56:18.540Z"
   },
   {
    "duration": 16,
    "start_time": "2021-06-15T23:56:18.928Z"
   },
   {
    "duration": 34,
    "start_time": "2021-06-15T23:56:18.946Z"
   },
   {
    "duration": 12,
    "start_time": "2021-06-15T23:56:18.983Z"
   },
   {
    "duration": 34,
    "start_time": "2021-06-15T23:56:18.998Z"
   },
   {
    "duration": 19,
    "start_time": "2021-06-15T23:56:19.035Z"
   },
   {
    "duration": 11,
    "start_time": "2021-06-15T23:56:19.057Z"
   },
   {
    "duration": 18,
    "start_time": "2021-06-15T23:56:19.070Z"
   },
   {
    "duration": 7,
    "start_time": "2021-06-15T23:56:19.125Z"
   },
   {
    "duration": 10,
    "start_time": "2021-06-15T23:56:19.134Z"
   },
   {
    "duration": 308,
    "start_time": "2021-06-15T23:56:19.146Z"
   },
   {
    "duration": 25,
    "start_time": "2021-06-15T23:56:19.456Z"
   },
   {
    "duration": 11,
    "start_time": "2021-06-15T23:56:19.483Z"
   },
   {
    "duration": 43,
    "start_time": "2021-06-15T23:56:19.496Z"
   },
   {
    "duration": 9,
    "start_time": "2021-06-15T23:56:19.541Z"
   },
   {
    "duration": 7,
    "start_time": "2021-06-15T23:56:19.553Z"
   },
   {
    "duration": 7,
    "start_time": "2021-06-15T23:56:19.562Z"
   },
   {
    "duration": 297,
    "start_time": "2021-06-15T23:56:19.571Z"
   },
   {
    "duration": 24,
    "start_time": "2021-06-15T23:56:19.870Z"
   },
   {
    "duration": 32,
    "start_time": "2021-06-15T23:56:19.897Z"
   },
   {
    "duration": 24,
    "start_time": "2021-06-15T23:56:19.933Z"
   },
   {
    "duration": 9,
    "start_time": "2021-06-15T23:56:19.961Z"
   },
   {
    "duration": 6,
    "start_time": "2021-06-15T23:56:19.973Z"
   },
   {
    "duration": 45,
    "start_time": "2021-06-15T23:56:19.982Z"
   },
   {
    "duration": 301,
    "start_time": "2021-06-15T23:56:20.034Z"
   },
   {
    "duration": 26,
    "start_time": "2021-06-15T23:56:20.338Z"
   },
   {
    "duration": 11,
    "start_time": "2021-06-15T23:56:20.366Z"
   },
   {
    "duration": 48,
    "start_time": "2021-06-15T23:56:20.380Z"
   },
   {
    "duration": 9,
    "start_time": "2021-06-15T23:56:20.431Z"
   },
   {
    "duration": 6,
    "start_time": "2021-06-15T23:56:20.443Z"
   },
   {
    "duration": 7,
    "start_time": "2021-06-15T23:56:20.451Z"
   },
   {
    "duration": 320,
    "start_time": "2021-06-15T23:56:20.461Z"
   },
   {
    "duration": 25,
    "start_time": "2021-06-15T23:56:20.783Z"
   },
   {
    "duration": 2431,
    "start_time": "2021-06-15T23:56:23.674Z"
   },
   {
    "duration": 3531,
    "start_time": "2021-06-15T23:56:32.650Z"
   },
   {
    "duration": 98,
    "start_time": "2021-06-15T23:56:36.184Z"
   },
   {
    "duration": 43,
    "start_time": "2021-06-15T23:56:36.284Z"
   },
   {
    "duration": 14,
    "start_time": "2021-06-15T23:56:36.330Z"
   },
   {
    "duration": 81,
    "start_time": "2021-06-15T23:56:36.346Z"
   },
   {
    "duration": 10,
    "start_time": "2021-06-15T23:56:36.429Z"
   },
   {
    "duration": 8,
    "start_time": "2021-06-15T23:56:36.441Z"
   },
   {
    "duration": 75,
    "start_time": "2021-06-15T23:56:36.452Z"
   },
   {
    "duration": 4,
    "start_time": "2021-06-15T23:56:36.530Z"
   },
   {
    "duration": 23,
    "start_time": "2021-06-15T23:56:36.536Z"
   },
   {
    "duration": 1483,
    "start_time": "2021-06-15T23:56:36.561Z"
   },
   {
    "duration": 392,
    "start_time": "2021-06-15T23:56:38.046Z"
   },
   {
    "duration": 61,
    "start_time": "2021-06-15T23:56:38.440Z"
   },
   {
    "duration": 26,
    "start_time": "2021-06-15T23:56:38.504Z"
   },
   {
    "duration": 11,
    "start_time": "2021-06-15T23:56:38.532Z"
   },
   {
    "duration": 9,
    "start_time": "2021-06-15T23:56:38.545Z"
   },
   {
    "duration": 8,
    "start_time": "2021-06-15T23:56:38.557Z"
   },
   {
    "duration": 9,
    "start_time": "2021-06-15T23:56:38.567Z"
   },
   {
    "duration": 63,
    "start_time": "2021-06-15T23:56:38.579Z"
   },
   {
    "duration": 9,
    "start_time": "2021-06-15T23:56:38.644Z"
   },
   {
    "duration": 18,
    "start_time": "2021-06-15T23:56:38.655Z"
   },
   {
    "duration": 9,
    "start_time": "2021-06-15T23:56:38.676Z"
   },
   {
    "duration": 26,
    "start_time": "2021-06-15T23:56:38.728Z"
   },
   {
    "duration": 11,
    "start_time": "2021-06-15T23:56:38.757Z"
   },
   {
    "duration": 29,
    "start_time": "2021-06-15T23:56:38.770Z"
   },
   {
    "duration": 32,
    "start_time": "2021-06-15T23:56:38.826Z"
   },
   {
    "duration": 11,
    "start_time": "2021-06-15T23:56:38.860Z"
   },
   {
    "duration": 4634,
    "start_time": "2021-06-15T23:56:38.874Z"
   },
   {
    "duration": 39,
    "start_time": "2021-06-15T23:56:43.510Z"
   },
   {
    "duration": 42,
    "start_time": "2021-06-15T23:56:43.552Z"
   },
   {
    "duration": 29,
    "start_time": "2021-06-15T23:56:43.596Z"
   },
   {
    "duration": 27,
    "start_time": "2021-06-15T23:56:43.628Z"
   },
   {
    "duration": 38,
    "start_time": "2021-06-15T23:56:43.657Z"
   },
   {
    "duration": 32,
    "start_time": "2021-06-15T23:56:43.698Z"
   },
   {
    "duration": 12,
    "start_time": "2021-06-15T23:56:43.732Z"
   },
   {
    "duration": 11,
    "start_time": "2021-06-15T23:56:43.746Z"
   },
   {
    "duration": 14,
    "start_time": "2021-06-15T23:56:43.760Z"
   },
   {
    "duration": 68,
    "start_time": "2021-06-15T23:56:43.777Z"
   },
   {
    "duration": 10,
    "start_time": "2021-06-15T23:56:43.848Z"
   },
   {
    "duration": 10,
    "start_time": "2021-06-15T23:56:43.860Z"
   },
   {
    "duration": 13,
    "start_time": "2021-06-15T23:56:43.873Z"
   },
   {
    "duration": 65,
    "start_time": "2021-06-15T23:56:43.888Z"
   },
   {
    "duration": 6,
    "start_time": "2021-06-15T23:56:43.956Z"
   },
   {
    "duration": 384,
    "start_time": "2021-06-15T23:56:43.964Z"
   },
   {
    "duration": 17,
    "start_time": "2021-06-15T23:56:44.350Z"
   },
   {
    "duration": 41,
    "start_time": "2021-06-15T23:56:44.369Z"
   },
   {
    "duration": 20,
    "start_time": "2021-06-15T23:56:44.412Z"
   },
   {
    "duration": 11,
    "start_time": "2021-06-15T23:56:44.435Z"
   },
   {
    "duration": 22,
    "start_time": "2021-06-15T23:56:44.448Z"
   },
   {
    "duration": 13,
    "start_time": "2021-06-15T23:56:44.472Z"
   },
   {
    "duration": 56,
    "start_time": "2021-06-15T23:56:44.488Z"
   },
   {
    "duration": 7,
    "start_time": "2021-06-15T23:56:44.547Z"
   },
   {
    "duration": 6,
    "start_time": "2021-06-15T23:56:44.557Z"
   },
   {
    "duration": 337,
    "start_time": "2021-06-15T23:56:44.566Z"
   },
   {
    "duration": 38,
    "start_time": "2021-06-15T23:56:44.906Z"
   },
   {
    "duration": 12,
    "start_time": "2021-06-15T23:56:44.947Z"
   },
   {
    "duration": 22,
    "start_time": "2021-06-15T23:56:44.961Z"
   },
   {
    "duration": 40,
    "start_time": "2021-06-15T23:56:44.986Z"
   },
   {
    "duration": 8,
    "start_time": "2021-06-15T23:56:45.028Z"
   },
   {
    "duration": 8,
    "start_time": "2021-06-15T23:56:45.038Z"
   },
   {
    "duration": 287,
    "start_time": "2021-06-15T23:56:45.048Z"
   },
   {
    "duration": 24,
    "start_time": "2021-06-15T23:56:45.338Z"
   },
   {
    "duration": 12,
    "start_time": "2021-06-15T23:56:45.364Z"
   },
   {
    "duration": 49,
    "start_time": "2021-06-15T23:56:45.378Z"
   },
   {
    "duration": 8,
    "start_time": "2021-06-15T23:56:45.430Z"
   },
   {
    "duration": 8,
    "start_time": "2021-06-15T23:56:45.441Z"
   },
   {
    "duration": 8,
    "start_time": "2021-06-15T23:56:45.451Z"
   },
   {
    "duration": 328,
    "start_time": "2021-06-15T23:56:45.467Z"
   },
   {
    "duration": 35,
    "start_time": "2021-06-15T23:56:45.798Z"
   },
   {
    "duration": 12,
    "start_time": "2021-06-15T23:56:45.835Z"
   },
   {
    "duration": 18,
    "start_time": "2021-06-15T23:56:45.849Z"
   },
   {
    "duration": 11,
    "start_time": "2021-06-15T23:56:45.869Z"
   },
   {
    "duration": 42,
    "start_time": "2021-06-15T23:56:45.882Z"
   },
   {
    "duration": 8,
    "start_time": "2021-06-15T23:56:45.927Z"
   },
   {
    "duration": 309,
    "start_time": "2021-06-15T23:56:45.937Z"
   },
   {
    "duration": 33,
    "start_time": "2021-06-15T23:56:46.248Z"
   },
   {
    "duration": 3946,
    "start_time": "2021-06-15T23:58:20.973Z"
   },
   {
    "duration": 121,
    "start_time": "2021-06-15T23:58:24.922Z"
   },
   {
    "duration": 13,
    "start_time": "2021-06-15T23:58:25.046Z"
   },
   {
    "duration": 12,
    "start_time": "2021-06-15T23:58:25.062Z"
   },
   {
    "duration": 59,
    "start_time": "2021-06-15T23:58:25.077Z"
   },
   {
    "duration": 11,
    "start_time": "2021-06-15T23:58:25.139Z"
   },
   {
    "duration": 10,
    "start_time": "2021-06-15T23:58:25.153Z"
   },
   {
    "duration": 65,
    "start_time": "2021-06-15T23:58:25.169Z"
   },
   {
    "duration": 4,
    "start_time": "2021-06-15T23:58:25.238Z"
   },
   {
    "duration": 24,
    "start_time": "2021-06-15T23:58:25.245Z"
   },
   {
    "duration": 940,
    "start_time": "2021-06-15T23:58:25.272Z"
   },
   {
    "duration": 404,
    "start_time": "2021-06-15T23:58:26.215Z"
   },
   {
    "duration": 62,
    "start_time": "2021-06-15T23:58:26.625Z"
   },
   {
    "duration": 8,
    "start_time": "2021-06-15T23:58:26.689Z"
   },
   {
    "duration": 34,
    "start_time": "2021-06-15T23:58:26.699Z"
   },
   {
    "duration": 18,
    "start_time": "2021-06-15T23:58:26.735Z"
   },
   {
    "duration": 20,
    "start_time": "2021-06-15T23:58:26.755Z"
   },
   {
    "duration": 13,
    "start_time": "2021-06-15T23:58:26.777Z"
   },
   {
    "duration": 38,
    "start_time": "2021-06-15T23:58:26.792Z"
   },
   {
    "duration": 8,
    "start_time": "2021-06-15T23:58:26.833Z"
   },
   {
    "duration": 18,
    "start_time": "2021-06-15T23:58:26.843Z"
   },
   {
    "duration": 10,
    "start_time": "2021-06-15T23:58:26.863Z"
   },
   {
    "duration": 60,
    "start_time": "2021-06-15T23:58:26.881Z"
   },
   {
    "duration": 9,
    "start_time": "2021-06-15T23:58:26.945Z"
   },
   {
    "duration": 35,
    "start_time": "2021-06-15T23:58:26.957Z"
   },
   {
    "duration": 56,
    "start_time": "2021-06-15T23:58:26.995Z"
   },
   {
    "duration": 27,
    "start_time": "2021-06-15T23:58:27.053Z"
   },
   {
    "duration": 10,
    "start_time": "2021-06-15T23:58:27.082Z"
   },
   {
    "duration": 4837,
    "start_time": "2021-06-15T23:58:27.094Z"
   },
   {
    "duration": 30,
    "start_time": "2021-06-15T23:58:31.934Z"
   },
   {
    "duration": 62,
    "start_time": "2021-06-15T23:58:31.967Z"
   },
   {
    "duration": 5,
    "start_time": "2021-06-15T23:58:32.032Z"
   },
   {
    "duration": 29,
    "start_time": "2021-06-15T23:58:32.039Z"
   },
   {
    "duration": 56,
    "start_time": "2021-06-15T23:58:32.070Z"
   },
   {
    "duration": 10,
    "start_time": "2021-06-15T23:58:32.129Z"
   },
   {
    "duration": 11,
    "start_time": "2021-06-15T23:58:32.142Z"
   },
   {
    "duration": 10,
    "start_time": "2021-06-15T23:58:32.155Z"
   },
   {
    "duration": 12,
    "start_time": "2021-06-15T23:58:32.167Z"
   },
   {
    "duration": 72,
    "start_time": "2021-06-15T23:58:32.181Z"
   },
   {
    "duration": 11,
    "start_time": "2021-06-15T23:58:32.256Z"
   },
   {
    "duration": 26,
    "start_time": "2021-06-15T23:58:32.269Z"
   },
   {
    "duration": 33,
    "start_time": "2021-06-15T23:58:32.297Z"
   },
   {
    "duration": 26,
    "start_time": "2021-06-15T23:58:32.333Z"
   },
   {
    "duration": 6,
    "start_time": "2021-06-15T23:58:32.362Z"
   },
   {
    "duration": 390,
    "start_time": "2021-06-15T23:58:32.371Z"
   },
   {
    "duration": 17,
    "start_time": "2021-06-15T23:58:32.763Z"
   },
   {
    "duration": 49,
    "start_time": "2021-06-15T23:58:32.782Z"
   },
   {
    "duration": 11,
    "start_time": "2021-06-15T23:58:32.833Z"
   },
   {
    "duration": 9,
    "start_time": "2021-06-15T23:58:32.846Z"
   },
   {
    "duration": 20,
    "start_time": "2021-06-15T23:58:32.857Z"
   },
   {
    "duration": 12,
    "start_time": "2021-06-15T23:58:32.880Z"
   },
   {
    "duration": 21,
    "start_time": "2021-06-15T23:58:32.927Z"
   },
   {
    "duration": 8,
    "start_time": "2021-06-15T23:58:32.950Z"
   },
   {
    "duration": 6,
    "start_time": "2021-06-15T23:58:32.960Z"
   },
   {
    "duration": 330,
    "start_time": "2021-06-15T23:58:32.969Z"
   },
   {
    "duration": 41,
    "start_time": "2021-06-15T23:58:33.302Z"
   },
   {
    "duration": 11,
    "start_time": "2021-06-15T23:58:33.346Z"
   },
   {
    "duration": 18,
    "start_time": "2021-06-15T23:58:33.360Z"
   },
   {
    "duration": 9,
    "start_time": "2021-06-15T23:58:33.381Z"
   },
   {
    "duration": 7,
    "start_time": "2021-06-15T23:58:33.425Z"
   },
   {
    "duration": 7,
    "start_time": "2021-06-15T23:58:33.434Z"
   },
   {
    "duration": 275,
    "start_time": "2021-06-15T23:58:33.443Z"
   },
   {
    "duration": 25,
    "start_time": "2021-06-15T23:58:33.721Z"
   },
   {
    "duration": 11,
    "start_time": "2021-06-15T23:58:33.749Z"
   },
   {
    "duration": 17,
    "start_time": "2021-06-15T23:58:33.763Z"
   },
   {
    "duration": 46,
    "start_time": "2021-06-15T23:58:33.783Z"
   },
   {
    "duration": 7,
    "start_time": "2021-06-15T23:58:33.832Z"
   },
   {
    "duration": 5,
    "start_time": "2021-06-15T23:58:33.847Z"
   },
   {
    "duration": 314,
    "start_time": "2021-06-15T23:58:33.855Z"
   },
   {
    "duration": 24,
    "start_time": "2021-06-15T23:58:34.172Z"
   },
   {
    "duration": 29,
    "start_time": "2021-06-15T23:58:34.198Z"
   },
   {
    "duration": 17,
    "start_time": "2021-06-15T23:58:34.230Z"
   },
   {
    "duration": 9,
    "start_time": "2021-06-15T23:58:34.250Z"
   },
   {
    "duration": 7,
    "start_time": "2021-06-15T23:58:34.261Z"
   },
   {
    "duration": 7,
    "start_time": "2021-06-15T23:58:34.270Z"
   },
   {
    "duration": 289,
    "start_time": "2021-06-15T23:58:34.325Z"
   },
   {
    "duration": 33,
    "start_time": "2021-06-15T23:58:34.617Z"
   },
   {
    "duration": 4406,
    "start_time": "2021-06-15T23:58:46.781Z"
   },
   {
    "duration": 124,
    "start_time": "2021-06-15T23:58:51.191Z"
   },
   {
    "duration": 13,
    "start_time": "2021-06-15T23:58:51.327Z"
   },
   {
    "duration": 12,
    "start_time": "2021-06-15T23:58:51.343Z"
   },
   {
    "duration": 28,
    "start_time": "2021-06-15T23:58:51.358Z"
   },
   {
    "duration": 42,
    "start_time": "2021-06-15T23:58:51.389Z"
   },
   {
    "duration": 9,
    "start_time": "2021-06-15T23:58:51.433Z"
   },
   {
    "duration": 27,
    "start_time": "2021-06-15T23:58:51.447Z"
   },
   {
    "duration": 4,
    "start_time": "2021-06-15T23:58:51.478Z"
   },
   {
    "duration": 20,
    "start_time": "2021-06-15T23:58:51.525Z"
   },
   {
    "duration": 931,
    "start_time": "2021-06-15T23:58:51.549Z"
   },
   {
    "duration": 398,
    "start_time": "2021-06-15T23:58:52.483Z"
   },
   {
    "duration": 74,
    "start_time": "2021-06-15T23:58:52.883Z"
   },
   {
    "duration": 8,
    "start_time": "2021-06-15T23:58:52.959Z"
   },
   {
    "duration": 11,
    "start_time": "2021-06-15T23:58:52.969Z"
   },
   {
    "duration": 9,
    "start_time": "2021-06-15T23:58:52.982Z"
   },
   {
    "duration": 39,
    "start_time": "2021-06-15T23:58:52.993Z"
   },
   {
    "duration": 10,
    "start_time": "2021-06-15T23:58:53.034Z"
   },
   {
    "duration": 19,
    "start_time": "2021-06-15T23:58:53.047Z"
   },
   {
    "duration": 9,
    "start_time": "2021-06-15T23:58:53.069Z"
   },
   {
    "duration": 57,
    "start_time": "2021-06-15T23:58:53.082Z"
   },
   {
    "duration": 10,
    "start_time": "2021-06-15T23:58:53.142Z"
   },
   {
    "duration": 27,
    "start_time": "2021-06-15T23:58:53.159Z"
   },
   {
    "duration": 42,
    "start_time": "2021-06-15T23:58:53.190Z"
   },
   {
    "duration": 28,
    "start_time": "2021-06-15T23:58:53.234Z"
   },
   {
    "duration": 32,
    "start_time": "2021-06-15T23:58:53.264Z"
   },
   {
    "duration": 27,
    "start_time": "2021-06-15T23:58:53.327Z"
   },
   {
    "duration": 27,
    "start_time": "2021-06-15T23:58:53.356Z"
   },
   {
    "duration": 9,
    "start_time": "2021-06-15T23:58:53.385Z"
   },
   {
    "duration": 4686,
    "start_time": "2021-06-15T23:58:53.397Z"
   },
   {
    "duration": 39,
    "start_time": "2021-06-15T23:58:58.086Z"
   },
   {
    "duration": 41,
    "start_time": "2021-06-15T23:58:58.128Z"
   },
   {
    "duration": 6,
    "start_time": "2021-06-15T23:58:58.171Z"
   },
   {
    "duration": 56,
    "start_time": "2021-06-15T23:58:58.180Z"
   },
   {
    "duration": 28,
    "start_time": "2021-06-15T23:58:58.239Z"
   },
   {
    "duration": 10,
    "start_time": "2021-06-15T23:58:58.270Z"
   },
   {
    "duration": 11,
    "start_time": "2021-06-15T23:58:58.282Z"
   },
   {
    "duration": 8,
    "start_time": "2021-06-15T23:58:58.326Z"
   },
   {
    "duration": 16,
    "start_time": "2021-06-15T23:58:58.336Z"
   },
   {
    "duration": 35,
    "start_time": "2021-06-15T23:58:58.354Z"
   },
   {
    "duration": 37,
    "start_time": "2021-06-15T23:58:58.391Z"
   },
   {
    "duration": 10,
    "start_time": "2021-06-15T23:58:58.431Z"
   },
   {
    "duration": 15,
    "start_time": "2021-06-15T23:58:58.443Z"
   },
   {
    "duration": 27,
    "start_time": "2021-06-15T23:58:58.460Z"
   },
   {
    "duration": 39,
    "start_time": "2021-06-15T23:58:58.489Z"
   },
   {
    "duration": 372,
    "start_time": "2021-06-15T23:58:58.531Z"
   },
   {
    "duration": 25,
    "start_time": "2021-06-15T23:58:58.906Z"
   },
   {
    "duration": 36,
    "start_time": "2021-06-15T23:58:58.934Z"
   },
   {
    "duration": 10,
    "start_time": "2021-06-15T23:58:58.972Z"
   },
   {
    "duration": 10,
    "start_time": "2021-06-15T23:58:58.985Z"
   },
   {
    "duration": 27,
    "start_time": "2021-06-15T23:58:59.027Z"
   },
   {
    "duration": 70,
    "start_time": "2021-06-15T23:58:59.057Z"
   },
   {
    "duration": 28,
    "start_time": "2021-06-15T23:58:59.130Z"
   },
   {
    "duration": 64,
    "start_time": "2021-06-15T23:58:59.161Z"
   },
   {
    "duration": 7,
    "start_time": "2021-06-15T23:58:59.229Z"
   },
   {
    "duration": 590,
    "start_time": "2021-06-15T23:58:59.239Z"
   },
   {
    "duration": 28,
    "start_time": "2021-06-15T23:58:59.831Z"
   },
   {
    "duration": 11,
    "start_time": "2021-06-15T23:58:59.861Z"
   },
   {
    "duration": 23,
    "start_time": "2021-06-15T23:58:59.927Z"
   },
   {
    "duration": 12,
    "start_time": "2021-06-15T23:58:59.954Z"
   },
   {
    "duration": 62,
    "start_time": "2021-06-15T23:58:59.969Z"
   },
   {
    "duration": 7,
    "start_time": "2021-06-15T23:59:00.034Z"
   },
   {
    "duration": 336,
    "start_time": "2021-06-15T23:59:00.044Z"
   },
   {
    "duration": 27,
    "start_time": "2021-06-15T23:59:00.382Z"
   },
   {
    "duration": 13,
    "start_time": "2021-06-15T23:59:00.425Z"
   },
   {
    "duration": 25,
    "start_time": "2021-06-15T23:59:00.440Z"
   },
   {
    "duration": 10,
    "start_time": "2021-06-15T23:59:00.467Z"
   },
   {
    "duration": 41,
    "start_time": "2021-06-15T23:59:00.485Z"
   },
   {
    "duration": 6,
    "start_time": "2021-06-15T23:59:00.529Z"
   },
   {
    "duration": 300,
    "start_time": "2021-06-15T23:59:00.537Z"
   },
   {
    "duration": 26,
    "start_time": "2021-06-15T23:59:00.840Z"
   },
   {
    "duration": 12,
    "start_time": "2021-06-15T23:59:00.868Z"
   },
   {
    "duration": 48,
    "start_time": "2021-06-15T23:59:00.882Z"
   },
   {
    "duration": 10,
    "start_time": "2021-06-15T23:59:00.933Z"
   },
   {
    "duration": 9,
    "start_time": "2021-06-15T23:59:00.946Z"
   },
   {
    "duration": 13,
    "start_time": "2021-06-15T23:59:00.958Z"
   },
   {
    "duration": 317,
    "start_time": "2021-06-15T23:59:00.974Z"
   },
   {
    "duration": 35,
    "start_time": "2021-06-15T23:59:01.293Z"
   },
   {
    "duration": 27,
    "start_time": "2021-06-16T00:05:28.675Z"
   },
   {
    "duration": 30,
    "start_time": "2021-06-16T00:05:47.949Z"
   },
   {
    "duration": 24,
    "start_time": "2021-06-16T00:06:00.117Z"
   },
   {
    "duration": 3618,
    "start_time": "2021-06-16T00:30:50.435Z"
   },
   {
    "duration": 118,
    "start_time": "2021-06-16T00:30:54.057Z"
   },
   {
    "duration": 12,
    "start_time": "2021-06-16T00:30:54.178Z"
   },
   {
    "duration": 35,
    "start_time": "2021-06-16T00:30:54.193Z"
   },
   {
    "duration": 26,
    "start_time": "2021-06-16T00:30:54.231Z"
   },
   {
    "duration": 9,
    "start_time": "2021-06-16T00:30:54.260Z"
   },
   {
    "duration": 8,
    "start_time": "2021-06-16T00:30:54.271Z"
   },
   {
    "duration": 67,
    "start_time": "2021-06-16T00:30:54.281Z"
   },
   {
    "duration": 4,
    "start_time": "2021-06-16T00:30:54.352Z"
   },
   {
    "duration": 21,
    "start_time": "2021-06-16T00:30:54.359Z"
   },
   {
    "duration": 1079,
    "start_time": "2021-06-16T00:30:54.382Z"
   },
   {
    "duration": 395,
    "start_time": "2021-06-16T00:30:55.465Z"
   },
   {
    "duration": 79,
    "start_time": "2021-06-16T00:30:55.864Z"
   },
   {
    "duration": 9,
    "start_time": "2021-06-16T00:30:55.946Z"
   },
   {
    "duration": 14,
    "start_time": "2021-06-16T00:30:55.957Z"
   },
   {
    "duration": 10,
    "start_time": "2021-06-16T00:30:55.973Z"
   },
   {
    "duration": 45,
    "start_time": "2021-06-16T00:30:55.985Z"
   },
   {
    "duration": 8,
    "start_time": "2021-06-16T00:30:56.032Z"
   },
   {
    "duration": 19,
    "start_time": "2021-06-16T00:30:56.042Z"
   },
   {
    "duration": 7,
    "start_time": "2021-06-16T00:30:56.064Z"
   },
   {
    "duration": 59,
    "start_time": "2021-06-16T00:30:56.074Z"
   },
   {
    "duration": 10,
    "start_time": "2021-06-16T00:30:56.135Z"
   },
   {
    "duration": 22,
    "start_time": "2021-06-16T00:30:56.148Z"
   },
   {
    "duration": 9,
    "start_time": "2021-06-16T00:30:56.173Z"
   },
   {
    "duration": 59,
    "start_time": "2021-06-16T00:30:56.185Z"
   },
   {
    "duration": 31,
    "start_time": "2021-06-16T00:30:56.246Z"
   },
   {
    "duration": 53,
    "start_time": "2021-06-16T00:30:56.283Z"
   },
   {
    "duration": 10,
    "start_time": "2021-06-16T00:30:56.339Z"
   },
   {
    "duration": 4687,
    "start_time": "2021-06-16T00:30:56.351Z"
   },
   {
    "duration": 30,
    "start_time": "2021-06-16T00:31:01.041Z"
   },
   {
    "duration": 60,
    "start_time": "2021-06-16T00:31:01.074Z"
   },
   {
    "duration": 7,
    "start_time": "2021-06-16T00:31:01.136Z"
   },
   {
    "duration": 34,
    "start_time": "2021-06-16T00:31:01.146Z"
   },
   {
    "duration": 48,
    "start_time": "2021-06-16T00:31:01.182Z"
   },
   {
    "duration": 20,
    "start_time": "2021-06-16T00:31:01.233Z"
   },
   {
    "duration": 17,
    "start_time": "2021-06-16T00:31:01.256Z"
   },
   {
    "duration": 18,
    "start_time": "2021-06-16T00:31:01.275Z"
   },
   {
    "duration": 33,
    "start_time": "2021-06-16T00:31:01.296Z"
   },
   {
    "duration": 48,
    "start_time": "2021-06-16T00:31:01.331Z"
   },
   {
    "duration": 15,
    "start_time": "2021-06-16T00:31:01.382Z"
   },
   {
    "duration": 23,
    "start_time": "2021-06-16T00:31:01.399Z"
   },
   {
    "duration": 18,
    "start_time": "2021-06-16T00:31:01.425Z"
   },
   {
    "duration": 28,
    "start_time": "2021-06-16T00:31:01.446Z"
   },
   {
    "duration": 6,
    "start_time": "2021-06-16T00:31:01.476Z"
   },
   {
    "duration": 389,
    "start_time": "2021-06-16T00:31:01.484Z"
   },
   {
    "duration": 16,
    "start_time": "2021-06-16T00:31:01.875Z"
   },
   {
    "duration": 55,
    "start_time": "2021-06-16T00:31:01.894Z"
   },
   {
    "duration": 17,
    "start_time": "2021-06-16T00:31:01.952Z"
   },
   {
    "duration": 24,
    "start_time": "2021-06-16T00:31:01.972Z"
   },
   {
    "duration": 31,
    "start_time": "2021-06-16T00:31:01.998Z"
   },
   {
    "duration": 16,
    "start_time": "2021-06-16T00:31:02.031Z"
   },
   {
    "duration": 36,
    "start_time": "2021-06-16T00:31:02.050Z"
   },
   {
    "duration": 10,
    "start_time": "2021-06-16T00:31:02.088Z"
   },
   {
    "duration": 18,
    "start_time": "2021-06-16T00:31:02.100Z"
   },
   {
    "duration": 299,
    "start_time": "2021-06-16T00:31:02.126Z"
   },
   {
    "duration": 25,
    "start_time": "2021-06-16T00:31:02.427Z"
   },
   {
    "duration": 11,
    "start_time": "2021-06-16T00:31:02.454Z"
   },
   {
    "duration": 27,
    "start_time": "2021-06-16T00:31:02.467Z"
   },
   {
    "duration": 31,
    "start_time": "2021-06-16T00:31:02.496Z"
   },
   {
    "duration": 7,
    "start_time": "2021-06-16T00:31:02.529Z"
   },
   {
    "duration": 8,
    "start_time": "2021-06-16T00:31:02.538Z"
   },
   {
    "duration": 279,
    "start_time": "2021-06-16T00:31:02.548Z"
   },
   {
    "duration": 23,
    "start_time": "2021-06-16T00:31:02.830Z"
   },
   {
    "duration": 11,
    "start_time": "2021-06-16T00:31:02.855Z"
   },
   {
    "duration": 22,
    "start_time": "2021-06-16T00:31:02.868Z"
   },
   {
    "duration": 38,
    "start_time": "2021-06-16T00:31:02.892Z"
   },
   {
    "duration": 7,
    "start_time": "2021-06-16T00:31:02.932Z"
   },
   {
    "duration": 7,
    "start_time": "2021-06-16T00:31:02.942Z"
   },
   {
    "duration": 313,
    "start_time": "2021-06-16T00:31:02.952Z"
   },
   {
    "duration": 24,
    "start_time": "2021-06-16T00:31:03.267Z"
   },
   {
    "duration": 32,
    "start_time": "2021-06-16T00:31:03.293Z"
   },
   {
    "duration": 16,
    "start_time": "2021-06-16T00:31:03.328Z"
   },
   {
    "duration": 9,
    "start_time": "2021-06-16T00:31:03.346Z"
   },
   {
    "duration": 7,
    "start_time": "2021-06-16T00:31:03.357Z"
   },
   {
    "duration": 8,
    "start_time": "2021-06-16T00:31:03.366Z"
   },
   {
    "duration": 332,
    "start_time": "2021-06-16T00:31:03.377Z"
   },
   {
    "duration": 33,
    "start_time": "2021-06-16T00:31:03.712Z"
   },
   {
    "duration": 7044,
    "start_time": "2021-06-16T06:45:20.417Z"
   },
   {
    "duration": 98,
    "start_time": "2021-06-16T06:45:27.464Z"
   },
   {
    "duration": 13,
    "start_time": "2021-06-16T06:45:27.565Z"
   },
   {
    "duration": 22,
    "start_time": "2021-06-16T06:45:27.581Z"
   },
   {
    "duration": 34,
    "start_time": "2021-06-16T06:45:27.605Z"
   },
   {
    "duration": 27,
    "start_time": "2021-06-16T06:45:27.642Z"
   },
   {
    "duration": 17,
    "start_time": "2021-06-16T06:45:27.672Z"
   },
   {
    "duration": 35,
    "start_time": "2021-06-16T06:45:27.693Z"
   },
   {
    "duration": 4,
    "start_time": "2021-06-16T06:45:27.731Z"
   },
   {
    "duration": 39,
    "start_time": "2021-06-16T06:45:27.738Z"
   },
   {
    "duration": 987,
    "start_time": "2021-06-16T06:45:27.779Z"
   },
   {
    "duration": 387,
    "start_time": "2021-06-16T06:45:28.768Z"
   },
   {
    "duration": 61,
    "start_time": "2021-06-16T06:45:29.161Z"
   },
   {
    "duration": 7,
    "start_time": "2021-06-16T06:45:29.225Z"
   },
   {
    "duration": 35,
    "start_time": "2021-06-16T06:45:29.235Z"
   },
   {
    "duration": 11,
    "start_time": "2021-06-16T06:45:29.273Z"
   },
   {
    "duration": 10,
    "start_time": "2021-06-16T06:45:29.286Z"
   },
   {
    "duration": 7,
    "start_time": "2021-06-16T06:45:29.299Z"
   },
   {
    "duration": 59,
    "start_time": "2021-06-16T06:45:29.308Z"
   },
   {
    "duration": 7,
    "start_time": "2021-06-16T06:45:29.369Z"
   },
   {
    "duration": 18,
    "start_time": "2021-06-16T06:45:29.379Z"
   },
   {
    "duration": 9,
    "start_time": "2021-06-16T06:45:29.399Z"
   },
   {
    "duration": 53,
    "start_time": "2021-06-16T06:45:29.414Z"
   },
   {
    "duration": 13,
    "start_time": "2021-06-16T06:45:29.470Z"
   },
   {
    "duration": 30,
    "start_time": "2021-06-16T06:45:29.485Z"
   },
   {
    "duration": 49,
    "start_time": "2021-06-16T06:45:29.518Z"
   },
   {
    "duration": 23,
    "start_time": "2021-06-16T06:45:29.570Z"
   },
   {
    "duration": 10,
    "start_time": "2021-06-16T06:45:29.596Z"
   },
   {
    "duration": 4618,
    "start_time": "2021-06-16T06:45:29.608Z"
   },
   {
    "duration": 42,
    "start_time": "2021-06-16T06:45:34.229Z"
   },
   {
    "duration": 38,
    "start_time": "2021-06-16T06:45:34.274Z"
   },
   {
    "duration": 5,
    "start_time": "2021-06-16T06:45:34.314Z"
   },
   {
    "duration": 53,
    "start_time": "2021-06-16T06:45:34.322Z"
   },
   {
    "duration": 29,
    "start_time": "2021-06-16T06:45:34.378Z"
   },
   {
    "duration": 10,
    "start_time": "2021-06-16T06:45:34.409Z"
   },
   {
    "duration": 11,
    "start_time": "2021-06-16T06:45:34.421Z"
   },
   {
    "duration": 34,
    "start_time": "2021-06-16T06:45:34.434Z"
   },
   {
    "duration": 13,
    "start_time": "2021-06-16T06:45:34.471Z"
   },
   {
    "duration": 35,
    "start_time": "2021-06-16T06:45:34.487Z"
   },
   {
    "duration": 39,
    "start_time": "2021-06-16T06:45:34.524Z"
   },
   {
    "duration": 12,
    "start_time": "2021-06-16T06:45:34.566Z"
   },
   {
    "duration": 12,
    "start_time": "2021-06-16T06:45:34.580Z"
   },
   {
    "duration": 29,
    "start_time": "2021-06-16T06:45:34.594Z"
   },
   {
    "duration": 37,
    "start_time": "2021-06-16T06:45:34.626Z"
   },
   {
    "duration": 380,
    "start_time": "2021-06-16T06:45:34.666Z"
   },
   {
    "duration": 22,
    "start_time": "2021-06-16T06:45:35.049Z"
   },
   {
    "duration": 33,
    "start_time": "2021-06-16T06:45:35.073Z"
   },
   {
    "duration": 16,
    "start_time": "2021-06-16T06:45:35.108Z"
   },
   {
    "duration": 38,
    "start_time": "2021-06-16T06:45:35.126Z"
   },
   {
    "duration": 30,
    "start_time": "2021-06-16T06:45:35.166Z"
   },
   {
    "duration": 11,
    "start_time": "2021-06-16T06:45:35.199Z"
   },
   {
    "duration": 21,
    "start_time": "2021-06-16T06:45:35.213Z"
   },
   {
    "duration": 8,
    "start_time": "2021-06-16T06:45:35.261Z"
   },
   {
    "duration": 11,
    "start_time": "2021-06-16T06:45:35.271Z"
   },
   {
    "duration": 312,
    "start_time": "2021-06-16T06:45:35.284Z"
   },
   {
    "duration": 23,
    "start_time": "2021-06-16T06:45:35.598Z"
   },
   {
    "duration": 13,
    "start_time": "2021-06-16T06:45:35.623Z"
   },
   {
    "duration": 43,
    "start_time": "2021-06-16T06:45:35.638Z"
   },
   {
    "duration": 12,
    "start_time": "2021-06-16T06:45:35.684Z"
   },
   {
    "duration": 7,
    "start_time": "2021-06-16T06:45:35.699Z"
   },
   {
    "duration": 54,
    "start_time": "2021-06-16T06:45:35.709Z"
   },
   {
    "duration": 361,
    "start_time": "2021-06-16T06:45:35.766Z"
   },
   {
    "duration": 43,
    "start_time": "2021-06-16T06:45:36.130Z"
   },
   {
    "duration": 13,
    "start_time": "2021-06-16T06:45:36.176Z"
   },
   {
    "duration": 20,
    "start_time": "2021-06-16T06:45:36.192Z"
   },
   {
    "duration": 51,
    "start_time": "2021-06-16T06:45:36.214Z"
   },
   {
    "duration": 7,
    "start_time": "2021-06-16T06:45:36.267Z"
   },
   {
    "duration": 6,
    "start_time": "2021-06-16T06:45:36.281Z"
   },
   {
    "duration": 301,
    "start_time": "2021-06-16T06:45:36.289Z"
   },
   {
    "duration": 23,
    "start_time": "2021-06-16T06:45:36.593Z"
   },
   {
    "duration": 11,
    "start_time": "2021-06-16T06:45:36.619Z"
   },
   {
    "duration": 44,
    "start_time": "2021-06-16T06:45:36.633Z"
   },
   {
    "duration": 11,
    "start_time": "2021-06-16T06:45:36.680Z"
   },
   {
    "duration": 7,
    "start_time": "2021-06-16T06:45:36.694Z"
   },
   {
    "duration": 6,
    "start_time": "2021-06-16T06:45:36.704Z"
   },
   {
    "duration": 337,
    "start_time": "2021-06-16T06:45:36.713Z"
   },
   {
    "duration": 30,
    "start_time": "2021-06-16T06:45:37.053Z"
   },
   {
    "duration": 7,
    "start_time": "2021-06-16T06:46:52.205Z"
   },
   {
    "duration": 6,
    "start_time": "2021-06-16T06:46:59.235Z"
   },
   {
    "duration": 8,
    "start_time": "2021-06-16T06:47:02.774Z"
   },
   {
    "duration": 665,
    "start_time": "2021-06-16T06:47:11.377Z"
   },
   {
    "duration": 517,
    "start_time": "2021-06-16T06:47:18.801Z"
   },
   {
    "duration": 3524,
    "start_time": "2021-06-16T06:47:24.789Z"
   },
   {
    "duration": 96,
    "start_time": "2021-06-16T06:47:28.316Z"
   },
   {
    "duration": 12,
    "start_time": "2021-06-16T06:47:28.415Z"
   },
   {
    "duration": 34,
    "start_time": "2021-06-16T06:47:28.429Z"
   },
   {
    "duration": 26,
    "start_time": "2021-06-16T06:47:28.466Z"
   },
   {
    "duration": 9,
    "start_time": "2021-06-16T06:47:28.495Z"
   },
   {
    "duration": 7,
    "start_time": "2021-06-16T06:47:28.680Z"
   },
   {
    "duration": 28,
    "start_time": "2021-06-16T06:47:28.870Z"
   },
   {
    "duration": 4,
    "start_time": "2021-06-16T06:47:30.656Z"
   },
   {
    "duration": 21,
    "start_time": "2021-06-16T06:47:31.657Z"
   },
   {
    "duration": 441,
    "start_time": "2021-06-16T06:47:34.389Z"
   },
   {
    "duration": 6,
    "start_time": "2021-06-16T06:49:24.431Z"
   },
   {
    "duration": 6,
    "start_time": "2021-06-16T06:49:28.925Z"
   },
   {
    "duration": 34,
    "start_time": "2021-06-16T06:49:32.896Z"
   },
   {
    "duration": 7,
    "start_time": "2021-06-16T06:49:50.571Z"
   },
   {
    "duration": 5,
    "start_time": "2021-06-16T06:49:56.022Z"
   },
   {
    "duration": 33,
    "start_time": "2021-06-16T06:51:09.990Z"
   },
   {
    "duration": 11,
    "start_time": "2021-06-16T06:51:56.420Z"
   },
   {
    "duration": 19,
    "start_time": "2021-06-16T06:52:43.163Z"
   }
  ],
  "kernelspec": {
   "display_name": "Python 3",
   "language": "python",
   "name": "python3"
  },
  "language_info": {
   "codemirror_mode": {
    "name": "ipython",
    "version": 3
   },
   "file_extension": ".py",
   "mimetype": "text/x-python",
   "name": "python",
   "nbconvert_exporter": "python",
   "pygments_lexer": "ipython3",
   "version": "3.9.0"
  },
  "toc": {
   "base_numbering": 1,
   "nav_menu": {
    "height": "212px",
    "width": "329px"
   },
   "number_sections": true,
   "sideBar": true,
   "skip_h1_title": true,
   "title_cell": "Содержание",
   "title_sidebar": "Содержание",
   "toc_cell": true,
   "toc_position": {
    "height": "calc(100% - 180px)",
    "left": "10px",
    "top": "150px",
    "width": "207.391px"
   },
   "toc_section_display": true,
   "toc_window_display": true
  }
 },
 "nbformat": 4,
 "nbformat_minor": 2
}
